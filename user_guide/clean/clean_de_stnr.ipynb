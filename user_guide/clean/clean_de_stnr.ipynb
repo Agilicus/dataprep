{
 "cells": [
  {
   "cell_type": "raw",
   "id": "adjustable-adventure",
   "metadata": {},
   "source": [
    ".. _stnr_userguide:\n",
    "\n",
    "German Tax Numbers\n",
    "=================="
   ]
  },
  {
   "cell_type": "raw",
   "id": "racial-ebony",
   "metadata": {},
   "source": [
    "Introduction\n",
    "------------\n",
    "\n",
    "The function :func:`clean_de_stnr() <dataprep.clean.clean_de_stnr.clean_de_stnr>` cleans a column containing German tax numbers (STNR) strings, and standardizes them in a given format. The function :func:`validate_de_stnr() <dataprep.clean.clean_de_stnr.validate_de_stnr>` validates either a single STNR strings, a column of STNR strings or a DataFrame of STNR strings, returning `True` if the value is valid, and `False` otherwise."
   ]
  },
  {
   "cell_type": "markdown",
   "id": "vocal-gossip",
   "metadata": {},
   "source": [
    "STNR strings can be converted to the following formats via the `output_format` parameter:\n",
    "\n",
    "* `compact`: only number strings without any seperators or whitespace, like \"18181508155\"\n",
    "* `standard`: STNR strings with proper whitespace in the proper places, like \"181/815/0815 5\"\n",
    "\n",
    "Invalid parsing is handled with the `errors` parameter:\n",
    "\n",
    "* `coerce` (default): invalid parsing will be set to NaN\n",
    "* `ignore`: invalid parsing will return the input\n",
    "* `raise`: invalid parsing will raise an exception\n",
    "\n",
    "The following sections demonstrate the functionality of `clean_de_stnr()` and `validate_de_stnr()`. "
   ]
  },
  {
   "cell_type": "markdown",
   "id": "educated-defeat",
   "metadata": {},
   "source": [
    "### An example dataset containing STNR strings"
   ]
  },
  {
   "cell_type": "code",
   "execution_count": 1,
   "id": "precise-digit",
   "metadata": {
    "execution": {
     "iopub.execute_input": "2021-10-30T05:17:05.728081Z",
     "iopub.status.busy": "2021-10-30T05:17:05.727569Z",
     "iopub.status.idle": "2021-10-30T05:17:05.966215Z",
     "shell.execute_reply": "2021-10-30T05:17:05.965704Z"
    }
   },
   "outputs": [
    {
     "data": {
      "text/html": [
       "<div>\n",
       "<style scoped>\n",
       "    .dataframe tbody tr th:only-of-type {\n",
       "        vertical-align: middle;\n",
       "    }\n",
       "\n",
       "    .dataframe tbody tr th {\n",
       "        vertical-align: top;\n",
       "    }\n",
       "\n",
       "    .dataframe thead th {\n",
       "        text-align: right;\n",
       "    }\n",
       "</style>\n",
       "<table border=\"1\" class=\"dataframe\">\n",
       "  <thead>\n",
       "    <tr style=\"text-align: right;\">\n",
       "      <th></th>\n",
       "      <th>stnr</th>\n",
       "      <th>address</th>\n",
       "    </tr>\n",
       "  </thead>\n",
       "  <tbody>\n",
       "    <tr>\n",
       "      <th>0</th>\n",
       "      <td>181/815/0815 5</td>\n",
       "      <td>123 Pine Ave.</td>\n",
       "    </tr>\n",
       "    <tr>\n",
       "      <th>1</th>\n",
       "      <td>136695978</td>\n",
       "      <td>main st</td>\n",
       "    </tr>\n",
       "    <tr>\n",
       "      <th>2</th>\n",
       "      <td>201/123/12340</td>\n",
       "      <td>1234 west main heights 57033</td>\n",
       "    </tr>\n",
       "    <tr>\n",
       "      <th>3</th>\n",
       "      <td>4151081508156</td>\n",
       "      <td>apt 1 789 s maple rd manhattan</td>\n",
       "    </tr>\n",
       "    <tr>\n",
       "      <th>4</th>\n",
       "      <td>hello</td>\n",
       "      <td>robie house, 789 north main street</td>\n",
       "    </tr>\n",
       "    <tr>\n",
       "      <th>5</th>\n",
       "      <td>NaN</td>\n",
       "      <td>(staples center) 1111 S Figueroa St, Los Angeles</td>\n",
       "    </tr>\n",
       "    <tr>\n",
       "      <th>6</th>\n",
       "      <td>NULL</td>\n",
       "      <td>hello</td>\n",
       "    </tr>\n",
       "  </tbody>\n",
       "</table>\n",
       "</div>"
      ],
      "text/plain": [
       "              stnr                                           address\n",
       "0   181/815/0815 5                                     123 Pine Ave.\n",
       "1        136695978                                           main st\n",
       "2    201/123/12340                      1234 west main heights 57033\n",
       "3    4151081508156                    apt 1 789 s maple rd manhattan\n",
       "4            hello                robie house, 789 north main street\n",
       "5              NaN  (staples center) 1111 S Figueroa St, Los Angeles\n",
       "6             NULL                                             hello"
      ]
     },
     "execution_count": 1,
     "metadata": {},
     "output_type": "execute_result"
    }
   ],
   "source": [
    "import pandas as pd\n",
    "import numpy as np\n",
    "df = pd.DataFrame(\n",
    "    {\n",
    "        \"stnr\": [\n",
    "            ' 181/815/0815 5',\n",
    "            \"136695978\",\n",
    "            \"201/123/12340\",\n",
    "            \"4151081508156\",\n",
    "            \"hello\",\n",
    "            np.nan,\n",
    "            \"NULL\"\n",
    "        ], \n",
    "        \"address\": [\n",
    "            \"123 Pine Ave.\",\n",
    "            \"main st\",\n",
    "            \"1234 west main heights 57033\",\n",
    "            \"apt 1 789 s maple rd manhattan\",\n",
    "            \"robie house, 789 north main street\",\n",
    "            \"(staples center) 1111 S Figueroa St, Los Angeles\",\n",
    "            \"hello\",\n",
    "        ]\n",
    "    }\n",
    ")\n",
    "df"
   ]
  },
  {
   "cell_type": "markdown",
   "id": "given-veteran",
   "metadata": {},
   "source": [
    "## 1. Default `clean_de_stnr`\n",
    "\n",
    "By default, `clean_de_stnr` will clean stnr strings and output them in the standard format with proper separators."
   ]
  },
  {
   "cell_type": "code",
   "execution_count": 2,
   "id": "trying-tourism",
   "metadata": {
    "execution": {
     "iopub.execute_input": "2021-10-30T05:17:05.970519Z",
     "iopub.status.busy": "2021-10-30T05:17:05.969387Z",
     "iopub.status.idle": "2021-10-30T05:17:06.553327Z",
     "shell.execute_reply": "2021-10-30T05:17:06.552890Z"
    }
   },
   "outputs": [
    {
     "data": {
      "text/html": [
       "<div>\n",
       "<style scoped>\n",
       "    .dataframe tbody tr th:only-of-type {\n",
       "        vertical-align: middle;\n",
       "    }\n",
       "\n",
       "    .dataframe tbody tr th {\n",
       "        vertical-align: top;\n",
       "    }\n",
       "\n",
       "    .dataframe thead th {\n",
       "        text-align: right;\n",
       "    }\n",
       "</style>\n",
       "<table border=\"1\" class=\"dataframe\">\n",
       "  <thead>\n",
       "    <tr style=\"text-align: right;\">\n",
       "      <th></th>\n",
       "      <th>stnr</th>\n",
       "      <th>address</th>\n",
       "      <th>stnr_clean</th>\n",
       "    </tr>\n",
       "  </thead>\n",
       "  <tbody>\n",
       "    <tr>\n",
       "      <th>0</th>\n",
       "      <td>181/815/0815 5</td>\n",
       "      <td>123 Pine Ave.</td>\n",
       "      <td>181/815/08155</td>\n",
       "    </tr>\n",
       "    <tr>\n",
       "      <th>1</th>\n",
       "      <td>136695978</td>\n",
       "      <td>main st</td>\n",
       "      <td>NaN</td>\n",
       "    </tr>\n",
       "    <tr>\n",
       "      <th>2</th>\n",
       "      <td>201/123/12340</td>\n",
       "      <td>1234 west main heights 57033</td>\n",
       "      <td>201/123/12340</td>\n",
       "    </tr>\n",
       "    <tr>\n",
       "      <th>3</th>\n",
       "      <td>4151081508156</td>\n",
       "      <td>apt 1 789 s maple rd manhattan</td>\n",
       "      <td>4151081508156</td>\n",
       "    </tr>\n",
       "    <tr>\n",
       "      <th>4</th>\n",
       "      <td>hello</td>\n",
       "      <td>robie house, 789 north main street</td>\n",
       "      <td>NaN</td>\n",
       "    </tr>\n",
       "    <tr>\n",
       "      <th>5</th>\n",
       "      <td>NaN</td>\n",
       "      <td>(staples center) 1111 S Figueroa St, Los Angeles</td>\n",
       "      <td>NaN</td>\n",
       "    </tr>\n",
       "    <tr>\n",
       "      <th>6</th>\n",
       "      <td>NULL</td>\n",
       "      <td>hello</td>\n",
       "      <td>NaN</td>\n",
       "    </tr>\n",
       "  </tbody>\n",
       "</table>\n",
       "</div>"
      ],
      "text/plain": [
       "              stnr                                           address  \\\n",
       "0   181/815/0815 5                                     123 Pine Ave.   \n",
       "1        136695978                                           main st   \n",
       "2    201/123/12340                      1234 west main heights 57033   \n",
       "3    4151081508156                    apt 1 789 s maple rd manhattan   \n",
       "4            hello                robie house, 789 north main street   \n",
       "5              NaN  (staples center) 1111 S Figueroa St, Los Angeles   \n",
       "6             NULL                                             hello   \n",
       "\n",
       "      stnr_clean  \n",
       "0  181/815/08155  \n",
       "1            NaN  \n",
       "2  201/123/12340  \n",
       "3  4151081508156  \n",
       "4            NaN  \n",
       "5            NaN  \n",
       "6            NaN  "
      ]
     },
     "execution_count": 1,
     "metadata": {},
     "output_type": "execute_result"
    }
   ],
   "source": [
    "from dataprep.clean import clean_de_stnr\n",
    "clean_de_stnr(df, column = \"stnr\")"
   ]
  },
  {
   "cell_type": "markdown",
   "id": "neutral-florence",
   "metadata": {},
   "source": [
    "## 2. Output formats"
   ]
  },
  {
   "cell_type": "markdown",
   "id": "finnish-retail",
   "metadata": {},
   "source": [
    "This section demonstrates the output parameter."
   ]
  },
  {
   "cell_type": "markdown",
   "id": "chicken-happening",
   "metadata": {},
   "source": [
    "### `standard` (default)"
   ]
  },
  {
   "cell_type": "code",
   "execution_count": 3,
   "id": "variable-petersburg",
   "metadata": {
    "execution": {
     "iopub.execute_input": "2021-10-30T05:17:06.574569Z",
     "iopub.status.busy": "2021-10-30T05:17:06.574084Z",
     "iopub.status.idle": "2021-10-30T05:17:06.583113Z",
     "shell.execute_reply": "2021-10-30T05:17:06.583494Z"
    }
   },
   "outputs": [
    {
     "data": {
      "text/html": [
       "<div>\n",
       "<style scoped>\n",
       "    .dataframe tbody tr th:only-of-type {\n",
       "        vertical-align: middle;\n",
       "    }\n",
       "\n",
       "    .dataframe tbody tr th {\n",
       "        vertical-align: top;\n",
       "    }\n",
       "\n",
       "    .dataframe thead th {\n",
       "        text-align: right;\n",
       "    }\n",
       "</style>\n",
       "<table border=\"1\" class=\"dataframe\">\n",
       "  <thead>\n",
       "    <tr style=\"text-align: right;\">\n",
       "      <th></th>\n",
       "      <th>stnr</th>\n",
       "      <th>address</th>\n",
       "      <th>stnr_clean</th>\n",
       "    </tr>\n",
       "  </thead>\n",
       "  <tbody>\n",
       "    <tr>\n",
       "      <th>0</th>\n",
       "      <td>181/815/0815 5</td>\n",
       "      <td>123 Pine Ave.</td>\n",
       "      <td>181/815/08155</td>\n",
       "    </tr>\n",
       "    <tr>\n",
       "      <th>1</th>\n",
       "      <td>136695978</td>\n",
       "      <td>main st</td>\n",
       "      <td>NaN</td>\n",
       "    </tr>\n",
       "    <tr>\n",
       "      <th>2</th>\n",
       "      <td>201/123/12340</td>\n",
       "      <td>1234 west main heights 57033</td>\n",
       "      <td>201/123/12340</td>\n",
       "    </tr>\n",
       "    <tr>\n",
       "      <th>3</th>\n",
       "      <td>4151081508156</td>\n",
       "      <td>apt 1 789 s maple rd manhattan</td>\n",
       "      <td>4151081508156</td>\n",
       "    </tr>\n",
       "    <tr>\n",
       "      <th>4</th>\n",
       "      <td>hello</td>\n",
       "      <td>robie house, 789 north main street</td>\n",
       "      <td>NaN</td>\n",
       "    </tr>\n",
       "    <tr>\n",
       "      <th>5</th>\n",
       "      <td>NaN</td>\n",
       "      <td>(staples center) 1111 S Figueroa St, Los Angeles</td>\n",
       "      <td>NaN</td>\n",
       "    </tr>\n",
       "    <tr>\n",
       "      <th>6</th>\n",
       "      <td>NULL</td>\n",
       "      <td>hello</td>\n",
       "      <td>NaN</td>\n",
       "    </tr>\n",
       "  </tbody>\n",
       "</table>\n",
       "</div>"
      ],
      "text/plain": [
       "              stnr                                           address  \\\n",
       "0   181/815/0815 5                                     123 Pine Ave.   \n",
       "1        136695978                                           main st   \n",
       "2    201/123/12340                      1234 west main heights 57033   \n",
       "3    4151081508156                    apt 1 789 s maple rd manhattan   \n",
       "4            hello                robie house, 789 north main street   \n",
       "5              NaN  (staples center) 1111 S Figueroa St, Los Angeles   \n",
       "6             NULL                                             hello   \n",
       "\n",
       "      stnr_clean  \n",
       "0  181/815/08155  \n",
       "1            NaN  \n",
       "2  201/123/12340  \n",
       "3  4151081508156  \n",
       "4            NaN  \n",
       "5            NaN  \n",
       "6            NaN  "
      ]
     },
     "execution_count": 1,
     "metadata": {},
     "output_type": "execute_result"
    }
   ],
   "source": [
    "clean_de_stnr(df, column = \"stnr\", output_format=\"standard\")"
   ]
  },
  {
   "cell_type": "markdown",
   "id": "contained-recipe",
   "metadata": {},
   "source": [
    "### `compact`"
   ]
  },
  {
   "cell_type": "code",
   "execution_count": 4,
   "id": "retained-thinking",
   "metadata": {
    "execution": {
     "iopub.execute_input": "2021-10-30T05:17:06.604700Z",
     "iopub.status.busy": "2021-10-30T05:17:06.604227Z",
     "iopub.status.idle": "2021-10-30T05:17:06.612755Z",
     "shell.execute_reply": "2021-10-30T05:17:06.613119Z"
    }
   },
   "outputs": [
    {
     "data": {
      "text/html": [
       "<div>\n",
       "<style scoped>\n",
       "    .dataframe tbody tr th:only-of-type {\n",
       "        vertical-align: middle;\n",
       "    }\n",
       "\n",
       "    .dataframe tbody tr th {\n",
       "        vertical-align: top;\n",
       "    }\n",
       "\n",
       "    .dataframe thead th {\n",
       "        text-align: right;\n",
       "    }\n",
       "</style>\n",
       "<table border=\"1\" class=\"dataframe\">\n",
       "  <thead>\n",
       "    <tr style=\"text-align: right;\">\n",
       "      <th></th>\n",
       "      <th>stnr</th>\n",
       "      <th>address</th>\n",
       "      <th>stnr_clean</th>\n",
       "    </tr>\n",
       "  </thead>\n",
       "  <tbody>\n",
       "    <tr>\n",
       "      <th>0</th>\n",
       "      <td>181/815/0815 5</td>\n",
       "      <td>123 Pine Ave.</td>\n",
       "      <td>18181508155</td>\n",
       "    </tr>\n",
       "    <tr>\n",
       "      <th>1</th>\n",
       "      <td>136695978</td>\n",
       "      <td>main st</td>\n",
       "      <td>NaN</td>\n",
       "    </tr>\n",
       "    <tr>\n",
       "      <th>2</th>\n",
       "      <td>201/123/12340</td>\n",
       "      <td>1234 west main heights 57033</td>\n",
       "      <td>20112312340</td>\n",
       "    </tr>\n",
       "    <tr>\n",
       "      <th>3</th>\n",
       "      <td>4151081508156</td>\n",
       "      <td>apt 1 789 s maple rd manhattan</td>\n",
       "      <td>4151081508156</td>\n",
       "    </tr>\n",
       "    <tr>\n",
       "      <th>4</th>\n",
       "      <td>hello</td>\n",
       "      <td>robie house, 789 north main street</td>\n",
       "      <td>NaN</td>\n",
       "    </tr>\n",
       "    <tr>\n",
       "      <th>5</th>\n",
       "      <td>NaN</td>\n",
       "      <td>(staples center) 1111 S Figueroa St, Los Angeles</td>\n",
       "      <td>NaN</td>\n",
       "    </tr>\n",
       "    <tr>\n",
       "      <th>6</th>\n",
       "      <td>NULL</td>\n",
       "      <td>hello</td>\n",
       "      <td>NaN</td>\n",
       "    </tr>\n",
       "  </tbody>\n",
       "</table>\n",
       "</div>"
      ],
      "text/plain": [
       "              stnr                                           address  \\\n",
       "0   181/815/0815 5                                     123 Pine Ave.   \n",
       "1        136695978                                           main st   \n",
       "2    201/123/12340                      1234 west main heights 57033   \n",
       "3    4151081508156                    apt 1 789 s maple rd manhattan   \n",
       "4            hello                robie house, 789 north main street   \n",
       "5              NaN  (staples center) 1111 S Figueroa St, Los Angeles   \n",
       "6             NULL                                             hello   \n",
       "\n",
       "      stnr_clean  \n",
       "0    18181508155  \n",
       "1            NaN  \n",
       "2    20112312340  \n",
       "3  4151081508156  \n",
       "4            NaN  \n",
       "5            NaN  \n",
       "6            NaN  "
      ]
     },
     "execution_count": 1,
     "metadata": {},
     "output_type": "execute_result"
    }
   ],
   "source": [
    "clean_de_stnr(df, column = \"stnr\", output_format=\"compact\")"
   ]
  },
  {
   "cell_type": "markdown",
   "id": "emotional-trance",
   "metadata": {},
   "source": [
    "## 3. `inplace` parameter\n",
    "\n",
    "This deletes the given column from the returned DataFrame. \n",
    "A new column containing cleaned STNR strings is added with a title in the format `\"{original title}_clean\"`."
   ]
  },
  {
   "cell_type": "code",
   "execution_count": 5,
   "id": "uniform-sword",
   "metadata": {
    "execution": {
     "iopub.execute_input": "2021-10-30T05:17:06.620640Z",
     "iopub.status.busy": "2021-10-30T05:17:06.619881Z",
     "iopub.status.idle": "2021-10-30T05:17:06.650840Z",
     "shell.execute_reply": "2021-10-30T05:17:06.650390Z"
    }
   },
   "outputs": [
    {
     "data": {
      "text/html": [
       "<div>\n",
       "<style scoped>\n",
       "    .dataframe tbody tr th:only-of-type {\n",
       "        vertical-align: middle;\n",
       "    }\n",
       "\n",
       "    .dataframe tbody tr th {\n",
       "        vertical-align: top;\n",
       "    }\n",
       "\n",
       "    .dataframe thead th {\n",
       "        text-align: right;\n",
       "    }\n",
       "</style>\n",
       "<table border=\"1\" class=\"dataframe\">\n",
       "  <thead>\n",
       "    <tr style=\"text-align: right;\">\n",
       "      <th></th>\n",
       "      <th>stnr_clean</th>\n",
       "      <th>address</th>\n",
       "    </tr>\n",
       "  </thead>\n",
       "  <tbody>\n",
       "    <tr>\n",
       "      <th>0</th>\n",
       "      <td>181/815/08155</td>\n",
       "      <td>123 Pine Ave.</td>\n",
       "    </tr>\n",
       "    <tr>\n",
       "      <th>1</th>\n",
       "      <td>NaN</td>\n",
       "      <td>main st</td>\n",
       "    </tr>\n",
       "    <tr>\n",
       "      <th>2</th>\n",
       "      <td>201/123/12340</td>\n",
       "      <td>1234 west main heights 57033</td>\n",
       "    </tr>\n",
       "    <tr>\n",
       "      <th>3</th>\n",
       "      <td>4151081508156</td>\n",
       "      <td>apt 1 789 s maple rd manhattan</td>\n",
       "    </tr>\n",
       "    <tr>\n",
       "      <th>4</th>\n",
       "      <td>NaN</td>\n",
       "      <td>robie house, 789 north main street</td>\n",
       "    </tr>\n",
       "    <tr>\n",
       "      <th>5</th>\n",
       "      <td>NaN</td>\n",
       "      <td>(staples center) 1111 S Figueroa St, Los Angeles</td>\n",
       "    </tr>\n",
       "    <tr>\n",
       "      <th>6</th>\n",
       "      <td>NaN</td>\n",
       "      <td>hello</td>\n",
       "    </tr>\n",
       "  </tbody>\n",
       "</table>\n",
       "</div>"
      ],
      "text/plain": [
       "      stnr_clean                                           address\n",
       "0  181/815/08155                                     123 Pine Ave.\n",
       "1            NaN                                           main st\n",
       "2  201/123/12340                      1234 west main heights 57033\n",
       "3  4151081508156                    apt 1 789 s maple rd manhattan\n",
       "4            NaN                robie house, 789 north main street\n",
       "5            NaN  (staples center) 1111 S Figueroa St, Los Angeles\n",
       "6            NaN                                             hello"
      ]
     },
     "execution_count": 1,
     "metadata": {},
     "output_type": "execute_result"
    }
   ],
   "source": [
    "clean_de_stnr(df, column=\"stnr\", inplace=True)"
   ]
  },
  {
   "cell_type": "markdown",
   "id": "olive-helping",
   "metadata": {},
   "source": [
    "## 4. `errors` parameter"
   ]
  },
  {
   "cell_type": "markdown",
   "id": "muslim-bronze",
   "metadata": {},
   "source": [
    "### `coerce` (default)"
   ]
  },
  {
   "cell_type": "code",
   "execution_count": 6,
   "id": "compatible-favorite",
   "metadata": {
    "execution": {
     "iopub.execute_input": "2021-10-30T05:17:06.671649Z",
     "iopub.status.busy": "2021-10-30T05:17:06.669111Z",
     "iopub.status.idle": "2021-10-30T05:17:06.678905Z",
     "shell.execute_reply": "2021-10-30T05:17:06.678098Z"
    }
   },
   "outputs": [
    {
     "data": {
      "text/html": [
       "<div>\n",
       "<style scoped>\n",
       "    .dataframe tbody tr th:only-of-type {\n",
       "        vertical-align: middle;\n",
       "    }\n",
       "\n",
       "    .dataframe tbody tr th {\n",
       "        vertical-align: top;\n",
       "    }\n",
       "\n",
       "    .dataframe thead th {\n",
       "        text-align: right;\n",
       "    }\n",
       "</style>\n",
       "<table border=\"1\" class=\"dataframe\">\n",
       "  <thead>\n",
       "    <tr style=\"text-align: right;\">\n",
       "      <th></th>\n",
       "      <th>stnr</th>\n",
       "      <th>address</th>\n",
       "      <th>stnr_clean</th>\n",
       "    </tr>\n",
       "  </thead>\n",
       "  <tbody>\n",
       "    <tr>\n",
       "      <th>0</th>\n",
       "      <td>181/815/0815 5</td>\n",
       "      <td>123 Pine Ave.</td>\n",
       "      <td>181/815/08155</td>\n",
       "    </tr>\n",
       "    <tr>\n",
       "      <th>1</th>\n",
       "      <td>136695978</td>\n",
       "      <td>main st</td>\n",
       "      <td>NaN</td>\n",
       "    </tr>\n",
       "    <tr>\n",
       "      <th>2</th>\n",
       "      <td>201/123/12340</td>\n",
       "      <td>1234 west main heights 57033</td>\n",
       "      <td>201/123/12340</td>\n",
       "    </tr>\n",
       "    <tr>\n",
       "      <th>3</th>\n",
       "      <td>4151081508156</td>\n",
       "      <td>apt 1 789 s maple rd manhattan</td>\n",
       "      <td>4151081508156</td>\n",
       "    </tr>\n",
       "    <tr>\n",
       "      <th>4</th>\n",
       "      <td>hello</td>\n",
       "      <td>robie house, 789 north main street</td>\n",
       "      <td>NaN</td>\n",
       "    </tr>\n",
       "    <tr>\n",
       "      <th>5</th>\n",
       "      <td>NaN</td>\n",
       "      <td>(staples center) 1111 S Figueroa St, Los Angeles</td>\n",
       "      <td>NaN</td>\n",
       "    </tr>\n",
       "    <tr>\n",
       "      <th>6</th>\n",
       "      <td>NULL</td>\n",
       "      <td>hello</td>\n",
       "      <td>NaN</td>\n",
       "    </tr>\n",
       "  </tbody>\n",
       "</table>\n",
       "</div>"
      ],
      "text/plain": [
       "              stnr                                           address  \\\n",
       "0   181/815/0815 5                                     123 Pine Ave.   \n",
       "1        136695978                                           main st   \n",
       "2    201/123/12340                      1234 west main heights 57033   \n",
       "3    4151081508156                    apt 1 789 s maple rd manhattan   \n",
       "4            hello                robie house, 789 north main street   \n",
       "5              NaN  (staples center) 1111 S Figueroa St, Los Angeles   \n",
       "6             NULL                                             hello   \n",
       "\n",
       "      stnr_clean  \n",
       "0  181/815/08155  \n",
       "1            NaN  \n",
       "2  201/123/12340  \n",
       "3  4151081508156  \n",
       "4            NaN  \n",
       "5            NaN  \n",
       "6            NaN  "
      ]
     },
     "execution_count": 1,
     "metadata": {},
     "output_type": "execute_result"
    }
   ],
   "source": [
    "clean_de_stnr(df, \"stnr\", errors=\"coerce\")"
   ]
  },
  {
   "cell_type": "markdown",
   "id": "exempt-watson",
   "metadata": {},
   "source": [
    "### `ignore`"
   ]
  },
  {
   "cell_type": "code",
   "execution_count": 7,
   "id": "recognized-offering",
   "metadata": {
    "execution": {
     "iopub.execute_input": "2021-10-30T05:17:06.697899Z",
     "iopub.status.busy": "2021-10-30T05:17:06.688747Z",
     "iopub.status.idle": "2021-10-30T05:17:06.708074Z",
     "shell.execute_reply": "2021-10-30T05:17:06.707628Z"
    }
   },
   "outputs": [
    {
     "data": {
      "text/html": [
       "<div>\n",
       "<style scoped>\n",
       "    .dataframe tbody tr th:only-of-type {\n",
       "        vertical-align: middle;\n",
       "    }\n",
       "\n",
       "    .dataframe tbody tr th {\n",
       "        vertical-align: top;\n",
       "    }\n",
       "\n",
       "    .dataframe thead th {\n",
       "        text-align: right;\n",
       "    }\n",
       "</style>\n",
       "<table border=\"1\" class=\"dataframe\">\n",
       "  <thead>\n",
       "    <tr style=\"text-align: right;\">\n",
       "      <th></th>\n",
       "      <th>stnr</th>\n",
       "      <th>address</th>\n",
       "      <th>stnr_clean</th>\n",
       "    </tr>\n",
       "  </thead>\n",
       "  <tbody>\n",
       "    <tr>\n",
       "      <th>0</th>\n",
       "      <td>181/815/0815 5</td>\n",
       "      <td>123 Pine Ave.</td>\n",
       "      <td>181/815/08155</td>\n",
       "    </tr>\n",
       "    <tr>\n",
       "      <th>1</th>\n",
       "      <td>136695978</td>\n",
       "      <td>main st</td>\n",
       "      <td>136695978</td>\n",
       "    </tr>\n",
       "    <tr>\n",
       "      <th>2</th>\n",
       "      <td>201/123/12340</td>\n",
       "      <td>1234 west main heights 57033</td>\n",
       "      <td>201/123/12340</td>\n",
       "    </tr>\n",
       "    <tr>\n",
       "      <th>3</th>\n",
       "      <td>4151081508156</td>\n",
       "      <td>apt 1 789 s maple rd manhattan</td>\n",
       "      <td>4151081508156</td>\n",
       "    </tr>\n",
       "    <tr>\n",
       "      <th>4</th>\n",
       "      <td>hello</td>\n",
       "      <td>robie house, 789 north main street</td>\n",
       "      <td>hello</td>\n",
       "    </tr>\n",
       "    <tr>\n",
       "      <th>5</th>\n",
       "      <td>NaN</td>\n",
       "      <td>(staples center) 1111 S Figueroa St, Los Angeles</td>\n",
       "      <td>NaN</td>\n",
       "    </tr>\n",
       "    <tr>\n",
       "      <th>6</th>\n",
       "      <td>NULL</td>\n",
       "      <td>hello</td>\n",
       "      <td>NaN</td>\n",
       "    </tr>\n",
       "  </tbody>\n",
       "</table>\n",
       "</div>"
      ],
      "text/plain": [
       "              stnr                                           address  \\\n",
       "0   181/815/0815 5                                     123 Pine Ave.   \n",
       "1        136695978                                           main st   \n",
       "2    201/123/12340                      1234 west main heights 57033   \n",
       "3    4151081508156                    apt 1 789 s maple rd manhattan   \n",
       "4            hello                robie house, 789 north main street   \n",
       "5              NaN  (staples center) 1111 S Figueroa St, Los Angeles   \n",
       "6             NULL                                             hello   \n",
       "\n",
       "      stnr_clean  \n",
       "0  181/815/08155  \n",
       "1      136695978  \n",
       "2  201/123/12340  \n",
       "3  4151081508156  \n",
       "4          hello  \n",
       "5            NaN  \n",
       "6            NaN  "
      ]
     },
     "execution_count": 1,
     "metadata": {},
     "output_type": "execute_result"
    }
   ],
   "source": [
    "clean_de_stnr(df, \"stnr\", errors=\"ignore\")"
   ]
  },
  {
   "cell_type": "markdown",
   "id": "incorporated-channel",
   "metadata": {},
   "source": [
    "## 4. `validate_de_stnr()`"
   ]
  },
  {
   "cell_type": "markdown",
   "id": "billion-waste",
   "metadata": {},
   "source": [
    "`validate_de_stnr()` returns `True` when the input is a valid STNR. Otherwise it returns `False`.\n",
    "\n",
    "The input of `validate_de_stnr()` can be a string, a Pandas DataSeries, a Dask DataSeries, a Pandas DataFrame and a dask DataFrame.\n",
    "\n",
    "When the input is a string, a Pandas DataSeries or a Dask DataSeries, user doesn't need to specify a column name to be validated. \n",
    "\n",
    "When the input is a Pandas DataFrame or a dask DataFrame, user can both specify or not specify a column name to be validated. If user specify the column name, `validate_de_stnr()` only returns the validation result for the specified column. If user doesn't specify the column name, `validate_de_stnr()` returns the validation result for the whole DataFrame."
   ]
  },
  {
   "cell_type": "code",
   "execution_count": 8,
   "id": "behavioral-tournament",
   "metadata": {
    "execution": {
     "iopub.execute_input": "2021-10-30T05:17:06.712852Z",
     "iopub.status.busy": "2021-10-30T05:17:06.711984Z",
     "iopub.status.idle": "2021-10-30T05:17:06.716180Z",
     "shell.execute_reply": "2021-10-30T05:17:06.715756Z"
    }
   },
   "outputs": [
    {
     "name": "stdout",
     "output_type": "stream",
     "text": [
      "True\n",
      "False\n",
      "True\n",
      "True\n",
      "False\n",
      "False\n",
      "False\n"
     ]
    }
   ],
   "source": [
    "from dataprep.clean import validate_de_stnr\n",
    "print(validate_de_stnr(\"181/815/0815 5\"))\n",
    "print(validate_de_stnr(\"136695978\"))\n",
    "print(validate_de_stnr(\"201/123/12340\"))\n",
    "print(validate_de_stnr(\"4151081508156\"))\n",
    "print(validate_de_stnr(\"hello\"))\n",
    "print(validate_de_stnr(np.nan))\n",
    "print(validate_de_stnr(\"NULL\"))"
   ]
  },
  {
   "cell_type": "markdown",
   "id": "downtown-excuse",
   "metadata": {},
   "source": [
    "### Series"
   ]
  },
  {
   "cell_type": "code",
   "execution_count": 9,
   "id": "organized-scottish",
   "metadata": {
    "execution": {
     "iopub.execute_input": "2021-10-30T05:17:06.721074Z",
     "iopub.status.busy": "2021-10-30T05:17:06.720574Z",
     "iopub.status.idle": "2021-10-30T05:17:06.724662Z",
     "shell.execute_reply": "2021-10-30T05:17:06.725046Z"
    }
   },
   "outputs": [
    {
     "data": {
      "text/plain": [
       "0     True\n",
       "1    False\n",
       "2     True\n",
       "3     True\n",
       "4    False\n",
       "5    False\n",
       "6    False\n",
       "Name: stnr, dtype: bool"
      ]
     },
     "execution_count": 1,
     "metadata": {},
     "output_type": "execute_result"
    }
   ],
   "source": [
    "validate_de_stnr(df[\"stnr\"])"
   ]
  },
  {
   "cell_type": "markdown",
   "id": "consecutive-minority",
   "metadata": {},
   "source": [
    "### DataFrame + Specify Column"
   ]
  },
  {
   "cell_type": "code",
   "execution_count": 10,
   "id": "artistic-lambda",
   "metadata": {
    "execution": {
     "iopub.execute_input": "2021-10-30T05:17:06.729532Z",
     "iopub.status.busy": "2021-10-30T05:17:06.729066Z",
     "iopub.status.idle": "2021-10-30T05:17:06.733793Z",
     "shell.execute_reply": "2021-10-30T05:17:06.732833Z"
    }
   },
   "outputs": [
    {
     "data": {
      "text/plain": [
       "0     True\n",
       "1    False\n",
       "2     True\n",
       "3     True\n",
       "4    False\n",
       "5    False\n",
       "6    False\n",
       "Name: stnr, dtype: bool"
      ]
     },
     "execution_count": 1,
     "metadata": {},
     "output_type": "execute_result"
    }
   ],
   "source": [
    "validate_de_stnr(df, column=\"stnr\")"
   ]
  },
  {
   "cell_type": "markdown",
   "id": "offensive-nursing",
   "metadata": {},
   "source": [
    "### Only DataFrame"
   ]
  },
  {
   "cell_type": "code",
   "execution_count": 11,
   "id": "thirty-singles",
   "metadata": {
    "execution": {
     "iopub.execute_input": "2021-10-30T05:17:06.741836Z",
     "iopub.status.busy": "2021-10-30T05:17:06.741374Z",
     "iopub.status.idle": "2021-10-30T05:17:06.746090Z",
     "shell.execute_reply": "2021-10-30T05:17:06.745447Z"
    }
   },
   "outputs": [
    {
     "data": {
      "text/html": [
       "<div>\n",
       "<style scoped>\n",
       "    .dataframe tbody tr th:only-of-type {\n",
       "        vertical-align: middle;\n",
       "    }\n",
       "\n",
       "    .dataframe tbody tr th {\n",
       "        vertical-align: top;\n",
       "    }\n",
       "\n",
       "    .dataframe thead th {\n",
       "        text-align: right;\n",
       "    }\n",
       "</style>\n",
       "<table border=\"1\" class=\"dataframe\">\n",
       "  <thead>\n",
       "    <tr style=\"text-align: right;\">\n",
       "      <th></th>\n",
       "      <th>stnr</th>\n",
       "      <th>address</th>\n",
       "    </tr>\n",
       "  </thead>\n",
       "  <tbody>\n",
       "    <tr>\n",
       "      <th>0</th>\n",
       "      <td>True</td>\n",
       "      <td>False</td>\n",
       "    </tr>\n",
       "    <tr>\n",
       "      <th>1</th>\n",
       "      <td>False</td>\n",
       "      <td>False</td>\n",
       "    </tr>\n",
       "    <tr>\n",
       "      <th>2</th>\n",
       "      <td>True</td>\n",
       "      <td>False</td>\n",
       "    </tr>\n",
       "    <tr>\n",
       "      <th>3</th>\n",
       "      <td>True</td>\n",
       "      <td>False</td>\n",
       "    </tr>\n",
       "    <tr>\n",
       "      <th>4</th>\n",
       "      <td>False</td>\n",
       "      <td>False</td>\n",
       "    </tr>\n",
       "    <tr>\n",
       "      <th>5</th>\n",
       "      <td>False</td>\n",
       "      <td>False</td>\n",
       "    </tr>\n",
       "    <tr>\n",
       "      <th>6</th>\n",
       "      <td>False</td>\n",
       "      <td>False</td>\n",
       "    </tr>\n",
       "  </tbody>\n",
       "</table>\n",
       "</div>"
      ],
      "text/plain": [
       "    stnr  address\n",
       "0   True    False\n",
       "1  False    False\n",
       "2   True    False\n",
       "3   True    False\n",
       "4  False    False\n",
       "5  False    False\n",
       "6  False    False"
      ]
     },
     "execution_count": 1,
     "metadata": {},
     "output_type": "execute_result"
    }
   ],
   "source": [
    "validate_de_stnr(df)"
   ]
  },
  {
   "cell_type": "markdown",
   "id": "formed-stations",
   "metadata": {},
   "source": [
    "## `region` parameter"
   ]
  },
  {
   "cell_type": "markdown",
   "id": "further-holder",
   "metadata": {},
   "source": [
    "Specifically, `region` can be supplied to `validate_de_stnr` to verify that the number is assigned in that region."
   ]
  },
  {
   "cell_type": "code",
   "execution_count": 12,
   "id": "working-being",
   "metadata": {
    "execution": {
     "iopub.execute_input": "2021-10-30T05:17:06.750705Z",
     "iopub.status.busy": "2021-10-30T05:17:06.750242Z",
     "iopub.status.idle": "2021-10-30T05:17:06.754718Z",
     "shell.execute_reply": "2021-10-30T05:17:06.754329Z"
    }
   },
   "outputs": [
    {
     "data": {
      "text/plain": [
       "0    False\n",
       "1    False\n",
       "2     True\n",
       "3    False\n",
       "4    False\n",
       "5    False\n",
       "6    False\n",
       "Name: stnr, dtype: bool"
      ]
     },
     "execution_count": 1,
     "metadata": {},
     "output_type": "execute_result"
    }
   ],
   "source": [
    "validate_de_stnr(df[\"stnr\"], region='Sachsen')"
   ]
  },
  {
   "cell_type": "code",
   "execution_count": 13,
   "id": "disciplinary-anthropology",
   "metadata": {
    "execution": {
     "iopub.execute_input": "2021-10-30T05:17:06.758871Z",
     "iopub.status.busy": "2021-10-30T05:17:06.758326Z",
     "iopub.status.idle": "2021-10-30T05:17:06.762549Z",
     "shell.execute_reply": "2021-10-30T05:17:06.761653Z"
    }
   },
   "outputs": [
    {
     "data": {
      "text/plain": [
       "0     True\n",
       "1    False\n",
       "2    False\n",
       "3     True\n",
       "4    False\n",
       "5    False\n",
       "6    False\n",
       "Name: stnr, dtype: bool"
      ]
     },
     "execution_count": 1,
     "metadata": {},
     "output_type": "execute_result"
    }
   ],
   "source": [
    "validate_de_stnr(df[\"stnr\"], region='Thuringen')"
   ]
  },
  {
   "cell_type": "code",
   "execution_count": null,
   "id": "wound-circulation",
   "metadata": {},
   "outputs": [],
   "source": []
  }
 ],
 "metadata": {
  "kernelspec": {
   "display_name": "Python 3",
   "language": "python",
   "name": "python3"
  },
  "language_info": {
   "codemirror_mode": {
    "name": "ipython",
    "version": 3
   },
   "file_extension": ".py",
   "mimetype": "text/x-python",
   "name": "python",
   "nbconvert_exporter": "python",
   "pygments_lexer": "ipython3",
   "version": "3.8.10"
  }
 },
 "nbformat": 4,
 "nbformat_minor": 5
}
