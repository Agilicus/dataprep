{
 "cells": [
  {
   "cell_type": "markdown",
   "id": "challenging-infection",
   "metadata": {},
   "source": [
    "## Australian Company Numbers"
   ]
  },
  {
   "cell_type": "markdown",
   "id": "secure-franklin",
   "metadata": {},
   "source": [
    "## Introduction"
   ]
  },
  {
   "cell_type": "markdown",
   "id": "normal-checkout",
   "metadata": {},
   "source": [
    "The function `clean_au_acn()` cleans a column containing Australian Company Number (ACN) strings, and standardizes them in a given format. The function :func:`validate_au_acn()` validates either a single ACN strings, a column of ACN strings or a DataFrame of ACN strings, returning `True` if the value is valid, and `False` otherwise."
   ]
  },
  {
   "cell_type": "markdown",
   "id": "relative-lover",
   "metadata": {},
   "source": [
    "ACN strings can be converted to the following formats via the `output_format` parameter:\n",
    "\n",
    "* `compact`: only number strings without any seperators or whitespace, like \"004085616\"\n",
    "* `standard`: ACN strings with proper whitespace in the proper places, like \"004 085 616\"\n",
    "* `abn`: convert the number to an Australian Business Number (ABN) in compact format, like \"53004085616\".\n",
    "\n",
    "Invalid parsing is handled with the `errors` parameter:\n",
    "\n",
    "* `coerce` (default): invalid parsing will be set to NaN\n",
    "* `ignore`: invalid parsing will return the input\n",
    "* `raise`: invalid parsing will raise an exception\n",
    "\n",
    "The following sections demonstrate the functionality of `clean_au_acn()` and `validate_au_acn()`. "
   ]
  },
  {
   "cell_type": "markdown",
   "id": "colored-thought",
   "metadata": {},
   "source": [
    "### An example dataset containing ACN strings"
   ]
  },
  {
   "cell_type": "code",
   "execution_count": 1,
   "id": "loving-charles",
   "metadata": {
    "execution": {
     "iopub.execute_input": "2021-11-02T21:25:46.633254Z",
     "iopub.status.busy": "2021-11-02T21:25:46.632813Z",
     "iopub.status.idle": "2021-11-02T21:25:46.838882Z",
     "shell.execute_reply": "2021-11-02T21:25:46.839330Z"
    }
   },
   "outputs": [
    {
     "data": {
      "text/html": [
       "<div>\n",
       "<style scoped>\n",
       "    .dataframe tbody tr th:only-of-type {\n",
       "        vertical-align: middle;\n",
       "    }\n",
       "\n",
       "    .dataframe tbody tr th {\n",
       "        vertical-align: top;\n",
       "    }\n",
       "\n",
       "    .dataframe thead th {\n",
       "        text-align: right;\n",
       "    }\n",
       "</style>\n",
       "<table border=\"1\" class=\"dataframe\">\n",
       "  <thead>\n",
       "    <tr style=\"text-align: right;\">\n",
       "      <th></th>\n",
       "      <th>acn</th>\n",
       "      <th>address</th>\n",
       "    </tr>\n",
       "  </thead>\n",
       "  <tbody>\n",
       "    <tr>\n",
       "      <th>0</th>\n",
       "      <td>004 085 616</td>\n",
       "      <td>123 Pine Ave.</td>\n",
       "    </tr>\n",
       "    <tr>\n",
       "      <th>1</th>\n",
       "      <td>010 499 966</td>\n",
       "      <td>main st</td>\n",
       "    </tr>\n",
       "    <tr>\n",
       "      <th>2</th>\n",
       "      <td>999 999 999</td>\n",
       "      <td>1234 west main heights 57033</td>\n",
       "    </tr>\n",
       "    <tr>\n",
       "      <th>3</th>\n",
       "      <td>004085616</td>\n",
       "      <td>apt 1 789 s maple rd manhattan</td>\n",
       "    </tr>\n",
       "    <tr>\n",
       "      <th>4</th>\n",
       "      <td>002 724 334</td>\n",
       "      <td>robie house, 789 north main street</td>\n",
       "    </tr>\n",
       "    <tr>\n",
       "      <th>5</th>\n",
       "      <td>hello</td>\n",
       "      <td>1111 S Figueroa St, Los Angeles, CA 90015</td>\n",
       "    </tr>\n",
       "    <tr>\n",
       "      <th>6</th>\n",
       "      <td>NaN</td>\n",
       "      <td>(staples center) 1111 S Figueroa St, Los Angeles</td>\n",
       "    </tr>\n",
       "    <tr>\n",
       "      <th>7</th>\n",
       "      <td>NULL</td>\n",
       "      <td>hello</td>\n",
       "    </tr>\n",
       "  </tbody>\n",
       "</table>\n",
       "</div>"
      ],
      "text/plain": [
       "           acn                                           address\n",
       "0  004 085 616                                     123 Pine Ave.\n",
       "1  010 499 966                                           main st\n",
       "2  999 999 999                      1234 west main heights 57033\n",
       "3    004085616                    apt 1 789 s maple rd manhattan\n",
       "4  002 724 334                robie house, 789 north main street\n",
       "5        hello         1111 S Figueroa St, Los Angeles, CA 90015\n",
       "6          NaN  (staples center) 1111 S Figueroa St, Los Angeles\n",
       "7         NULL                                             hello"
      ]
     },
     "execution_count": 1,
     "metadata": {},
     "output_type": "execute_result"
    }
   ],
   "source": [
    "import pandas as pd\n",
    "import numpy as np\n",
    "df = pd.DataFrame(\n",
    "    {\n",
    "        \"acn\": [\n",
    "            \"004 085 616\",\n",
    "            \"010 499 966\",\n",
    "            \"999 999 999\",\n",
    "            \"004085616\",\n",
    "            \"002 724 334\",\n",
    "            \"hello\",\n",
    "            np.nan,\n",
    "            \"NULL\",\n",
    "        ], \n",
    "        \"address\": [\n",
    "            \"123 Pine Ave.\",\n",
    "            \"main st\",\n",
    "            \"1234 west main heights 57033\",\n",
    "            \"apt 1 789 s maple rd manhattan\",\n",
    "            \"robie house, 789 north main street\",\n",
    "            \"1111 S Figueroa St, Los Angeles, CA 90015\",\n",
    "            \"(staples center) 1111 S Figueroa St, Los Angeles\",\n",
    "            \"hello\",\n",
    "        ]\n",
    "    }\n",
    ")\n",
    "df"
   ]
  },
  {
   "cell_type": "markdown",
   "id": "bulgarian-rubber",
   "metadata": {},
   "source": [
    "## 1. Default `clean_au_acn`\n",
    "\n",
    "By default, `clean_au_acn` will clean acn strings and output them in the standard format with proper separators."
   ]
  },
  {
   "cell_type": "code",
   "execution_count": 2,
   "id": "backed-airline",
   "metadata": {
    "execution": {
     "iopub.execute_input": "2021-11-02T21:25:46.842827Z",
     "iopub.status.busy": "2021-11-02T21:25:46.842397Z",
     "iopub.status.idle": "2021-11-02T21:25:47.351504Z",
     "shell.execute_reply": "2021-11-02T21:25:47.350785Z"
    }
   },
   "outputs": [
    {
     "data": {
      "text/html": [
       "<div>\n",
       "<style scoped>\n",
       "    .dataframe tbody tr th:only-of-type {\n",
       "        vertical-align: middle;\n",
       "    }\n",
       "\n",
       "    .dataframe tbody tr th {\n",
       "        vertical-align: top;\n",
       "    }\n",
       "\n",
       "    .dataframe thead th {\n",
       "        text-align: right;\n",
       "    }\n",
       "</style>\n",
       "<table border=\"1\" class=\"dataframe\">\n",
       "  <thead>\n",
       "    <tr style=\"text-align: right;\">\n",
       "      <th></th>\n",
       "      <th>acn</th>\n",
       "      <th>address</th>\n",
       "      <th>acn_clean</th>\n",
       "    </tr>\n",
       "  </thead>\n",
       "  <tbody>\n",
       "    <tr>\n",
       "      <th>0</th>\n",
       "      <td>004 085 616</td>\n",
       "      <td>123 Pine Ave.</td>\n",
       "      <td>004 085 616</td>\n",
       "    </tr>\n",
       "    <tr>\n",
       "      <th>1</th>\n",
       "      <td>010 499 966</td>\n",
       "      <td>main st</td>\n",
       "      <td>010 499 966</td>\n",
       "    </tr>\n",
       "    <tr>\n",
       "      <th>2</th>\n",
       "      <td>999 999 999</td>\n",
       "      <td>1234 west main heights 57033</td>\n",
       "      <td>NaN</td>\n",
       "    </tr>\n",
       "    <tr>\n",
       "      <th>3</th>\n",
       "      <td>004085616</td>\n",
       "      <td>apt 1 789 s maple rd manhattan</td>\n",
       "      <td>004 085 616</td>\n",
       "    </tr>\n",
       "    <tr>\n",
       "      <th>4</th>\n",
       "      <td>002 724 334</td>\n",
       "      <td>robie house, 789 north main street</td>\n",
       "      <td>002 724 334</td>\n",
       "    </tr>\n",
       "    <tr>\n",
       "      <th>5</th>\n",
       "      <td>hello</td>\n",
       "      <td>1111 S Figueroa St, Los Angeles, CA 90015</td>\n",
       "      <td>NaN</td>\n",
       "    </tr>\n",
       "    <tr>\n",
       "      <th>6</th>\n",
       "      <td>NaN</td>\n",
       "      <td>(staples center) 1111 S Figueroa St, Los Angeles</td>\n",
       "      <td>NaN</td>\n",
       "    </tr>\n",
       "    <tr>\n",
       "      <th>7</th>\n",
       "      <td>NULL</td>\n",
       "      <td>hello</td>\n",
       "      <td>NaN</td>\n",
       "    </tr>\n",
       "  </tbody>\n",
       "</table>\n",
       "</div>"
      ],
      "text/plain": [
       "           acn                                           address    acn_clean\n",
       "0  004 085 616                                     123 Pine Ave.  004 085 616\n",
       "1  010 499 966                                           main st  010 499 966\n",
       "2  999 999 999                      1234 west main heights 57033          NaN\n",
       "3    004085616                    apt 1 789 s maple rd manhattan  004 085 616\n",
       "4  002 724 334                robie house, 789 north main street  002 724 334\n",
       "5        hello         1111 S Figueroa St, Los Angeles, CA 90015          NaN\n",
       "6          NaN  (staples center) 1111 S Figueroa St, Los Angeles          NaN\n",
       "7         NULL                                             hello          NaN"
      ]
     },
     "execution_count": 1,
     "metadata": {},
     "output_type": "execute_result"
    }
   ],
   "source": [
    "from dataprep.clean import clean_au_acn\n",
    "clean_au_acn(df, column = \"acn\")"
   ]
  },
  {
   "cell_type": "markdown",
   "id": "frozen-kenya",
   "metadata": {},
   "source": [
    "## 2. Output formats"
   ]
  },
  {
   "cell_type": "markdown",
   "id": "lovely-abuse",
   "metadata": {},
   "source": [
    "This section demonstrates the output parameter."
   ]
  },
  {
   "cell_type": "markdown",
   "id": "injured-brick",
   "metadata": {},
   "source": [
    "### `standard` (default)"
   ]
  },
  {
   "cell_type": "code",
   "execution_count": 3,
   "id": "sized-saturday",
   "metadata": {
    "execution": {
     "iopub.execute_input": "2021-11-02T21:25:47.370609Z",
     "iopub.status.busy": "2021-11-02T21:25:47.367045Z",
     "iopub.status.idle": "2021-11-02T21:25:47.377711Z",
     "shell.execute_reply": "2021-11-02T21:25:47.378045Z"
    }
   },
   "outputs": [
    {
     "data": {
      "text/html": [
       "<div>\n",
       "<style scoped>\n",
       "    .dataframe tbody tr th:only-of-type {\n",
       "        vertical-align: middle;\n",
       "    }\n",
       "\n",
       "    .dataframe tbody tr th {\n",
       "        vertical-align: top;\n",
       "    }\n",
       "\n",
       "    .dataframe thead th {\n",
       "        text-align: right;\n",
       "    }\n",
       "</style>\n",
       "<table border=\"1\" class=\"dataframe\">\n",
       "  <thead>\n",
       "    <tr style=\"text-align: right;\">\n",
       "      <th></th>\n",
       "      <th>acn</th>\n",
       "      <th>address</th>\n",
       "      <th>acn_clean</th>\n",
       "    </tr>\n",
       "  </thead>\n",
       "  <tbody>\n",
       "    <tr>\n",
       "      <th>0</th>\n",
       "      <td>004 085 616</td>\n",
       "      <td>123 Pine Ave.</td>\n",
       "      <td>004 085 616</td>\n",
       "    </tr>\n",
       "    <tr>\n",
       "      <th>1</th>\n",
       "      <td>010 499 966</td>\n",
       "      <td>main st</td>\n",
       "      <td>010 499 966</td>\n",
       "    </tr>\n",
       "    <tr>\n",
       "      <th>2</th>\n",
       "      <td>999 999 999</td>\n",
       "      <td>1234 west main heights 57033</td>\n",
       "      <td>NaN</td>\n",
       "    </tr>\n",
       "    <tr>\n",
       "      <th>3</th>\n",
       "      <td>004085616</td>\n",
       "      <td>apt 1 789 s maple rd manhattan</td>\n",
       "      <td>004 085 616</td>\n",
       "    </tr>\n",
       "    <tr>\n",
       "      <th>4</th>\n",
       "      <td>002 724 334</td>\n",
       "      <td>robie house, 789 north main street</td>\n",
       "      <td>002 724 334</td>\n",
       "    </tr>\n",
       "    <tr>\n",
       "      <th>5</th>\n",
       "      <td>hello</td>\n",
       "      <td>1111 S Figueroa St, Los Angeles, CA 90015</td>\n",
       "      <td>NaN</td>\n",
       "    </tr>\n",
       "    <tr>\n",
       "      <th>6</th>\n",
       "      <td>NaN</td>\n",
       "      <td>(staples center) 1111 S Figueroa St, Los Angeles</td>\n",
       "      <td>NaN</td>\n",
       "    </tr>\n",
       "    <tr>\n",
       "      <th>7</th>\n",
       "      <td>NULL</td>\n",
       "      <td>hello</td>\n",
       "      <td>NaN</td>\n",
       "    </tr>\n",
       "  </tbody>\n",
       "</table>\n",
       "</div>"
      ],
      "text/plain": [
       "           acn                                           address    acn_clean\n",
       "0  004 085 616                                     123 Pine Ave.  004 085 616\n",
       "1  010 499 966                                           main st  010 499 966\n",
       "2  999 999 999                      1234 west main heights 57033          NaN\n",
       "3    004085616                    apt 1 789 s maple rd manhattan  004 085 616\n",
       "4  002 724 334                robie house, 789 north main street  002 724 334\n",
       "5        hello         1111 S Figueroa St, Los Angeles, CA 90015          NaN\n",
       "6          NaN  (staples center) 1111 S Figueroa St, Los Angeles          NaN\n",
       "7         NULL                                             hello          NaN"
      ]
     },
     "execution_count": 1,
     "metadata": {},
     "output_type": "execute_result"
    }
   ],
   "source": [
    "clean_au_acn(df, column = \"acn\", output_format=\"standard\")"
   ]
  },
  {
   "cell_type": "markdown",
   "id": "canadian-regard",
   "metadata": {},
   "source": [
    "### `compact`"
   ]
  },
  {
   "cell_type": "code",
   "execution_count": 4,
   "id": "reflected-drive",
   "metadata": {
    "execution": {
     "iopub.execute_input": "2021-11-02T21:25:47.387123Z",
     "iopub.status.busy": "2021-11-02T21:25:47.386692Z",
     "iopub.status.idle": "2021-11-02T21:25:47.402046Z",
     "shell.execute_reply": "2021-11-02T21:25:47.401711Z"
    }
   },
   "outputs": [
    {
     "data": {
      "text/html": [
       "<div>\n",
       "<style scoped>\n",
       "    .dataframe tbody tr th:only-of-type {\n",
       "        vertical-align: middle;\n",
       "    }\n",
       "\n",
       "    .dataframe tbody tr th {\n",
       "        vertical-align: top;\n",
       "    }\n",
       "\n",
       "    .dataframe thead th {\n",
       "        text-align: right;\n",
       "    }\n",
       "</style>\n",
       "<table border=\"1\" class=\"dataframe\">\n",
       "  <thead>\n",
       "    <tr style=\"text-align: right;\">\n",
       "      <th></th>\n",
       "      <th>acn</th>\n",
       "      <th>address</th>\n",
       "      <th>acn_clean</th>\n",
       "    </tr>\n",
       "  </thead>\n",
       "  <tbody>\n",
       "    <tr>\n",
       "      <th>0</th>\n",
       "      <td>004 085 616</td>\n",
       "      <td>123 Pine Ave.</td>\n",
       "      <td>004085616</td>\n",
       "    </tr>\n",
       "    <tr>\n",
       "      <th>1</th>\n",
       "      <td>010 499 966</td>\n",
       "      <td>main st</td>\n",
       "      <td>010499966</td>\n",
       "    </tr>\n",
       "    <tr>\n",
       "      <th>2</th>\n",
       "      <td>999 999 999</td>\n",
       "      <td>1234 west main heights 57033</td>\n",
       "      <td>NaN</td>\n",
       "    </tr>\n",
       "    <tr>\n",
       "      <th>3</th>\n",
       "      <td>004085616</td>\n",
       "      <td>apt 1 789 s maple rd manhattan</td>\n",
       "      <td>004085616</td>\n",
       "    </tr>\n",
       "    <tr>\n",
       "      <th>4</th>\n",
       "      <td>002 724 334</td>\n",
       "      <td>robie house, 789 north main street</td>\n",
       "      <td>002724334</td>\n",
       "    </tr>\n",
       "    <tr>\n",
       "      <th>5</th>\n",
       "      <td>hello</td>\n",
       "      <td>1111 S Figueroa St, Los Angeles, CA 90015</td>\n",
       "      <td>NaN</td>\n",
       "    </tr>\n",
       "    <tr>\n",
       "      <th>6</th>\n",
       "      <td>NaN</td>\n",
       "      <td>(staples center) 1111 S Figueroa St, Los Angeles</td>\n",
       "      <td>NaN</td>\n",
       "    </tr>\n",
       "    <tr>\n",
       "      <th>7</th>\n",
       "      <td>NULL</td>\n",
       "      <td>hello</td>\n",
       "      <td>NaN</td>\n",
       "    </tr>\n",
       "  </tbody>\n",
       "</table>\n",
       "</div>"
      ],
      "text/plain": [
       "           acn                                           address  acn_clean\n",
       "0  004 085 616                                     123 Pine Ave.  004085616\n",
       "1  010 499 966                                           main st  010499966\n",
       "2  999 999 999                      1234 west main heights 57033        NaN\n",
       "3    004085616                    apt 1 789 s maple rd manhattan  004085616\n",
       "4  002 724 334                robie house, 789 north main street  002724334\n",
       "5        hello         1111 S Figueroa St, Los Angeles, CA 90015        NaN\n",
       "6          NaN  (staples center) 1111 S Figueroa St, Los Angeles        NaN\n",
       "7         NULL                                             hello        NaN"
      ]
     },
     "execution_count": 1,
     "metadata": {},
     "output_type": "execute_result"
    }
   ],
   "source": [
    "clean_au_acn(df, column = \"acn\", output_format=\"compact\")"
   ]
  },
  {
   "cell_type": "markdown",
   "id": "chief-forwarding",
   "metadata": {},
   "source": [
    "### `abn`"
   ]
  },
  {
   "cell_type": "code",
   "execution_count": 5,
   "id": "remarkable-running",
   "metadata": {
    "execution": {
     "iopub.execute_input": "2021-11-02T21:25:47.420620Z",
     "iopub.status.busy": "2021-11-02T21:25:47.417197Z",
     "iopub.status.idle": "2021-11-02T21:25:47.428075Z",
     "shell.execute_reply": "2021-11-02T21:25:47.428415Z"
    }
   },
   "outputs": [
    {
     "data": {
      "text/html": [
       "<div>\n",
       "<style scoped>\n",
       "    .dataframe tbody tr th:only-of-type {\n",
       "        vertical-align: middle;\n",
       "    }\n",
       "\n",
       "    .dataframe tbody tr th {\n",
       "        vertical-align: top;\n",
       "    }\n",
       "\n",
       "    .dataframe thead th {\n",
       "        text-align: right;\n",
       "    }\n",
       "</style>\n",
       "<table border=\"1\" class=\"dataframe\">\n",
       "  <thead>\n",
       "    <tr style=\"text-align: right;\">\n",
       "      <th></th>\n",
       "      <th>acn</th>\n",
       "      <th>address</th>\n",
       "      <th>acn_clean</th>\n",
       "    </tr>\n",
       "  </thead>\n",
       "  <tbody>\n",
       "    <tr>\n",
       "      <th>0</th>\n",
       "      <td>004 085 616</td>\n",
       "      <td>123 Pine Ave.</td>\n",
       "      <td>53004085616</td>\n",
       "    </tr>\n",
       "    <tr>\n",
       "      <th>1</th>\n",
       "      <td>010 499 966</td>\n",
       "      <td>main st</td>\n",
       "      <td>25010499966</td>\n",
       "    </tr>\n",
       "    <tr>\n",
       "      <th>2</th>\n",
       "      <td>999 999 999</td>\n",
       "      <td>1234 west main heights 57033</td>\n",
       "      <td>NaN</td>\n",
       "    </tr>\n",
       "    <tr>\n",
       "      <th>3</th>\n",
       "      <td>004085616</td>\n",
       "      <td>apt 1 789 s maple rd manhattan</td>\n",
       "      <td>53004085616</td>\n",
       "    </tr>\n",
       "    <tr>\n",
       "      <th>4</th>\n",
       "      <td>002 724 334</td>\n",
       "      <td>robie house, 789 north main street</td>\n",
       "      <td>43002724334</td>\n",
       "    </tr>\n",
       "    <tr>\n",
       "      <th>5</th>\n",
       "      <td>hello</td>\n",
       "      <td>1111 S Figueroa St, Los Angeles, CA 90015</td>\n",
       "      <td>NaN</td>\n",
       "    </tr>\n",
       "    <tr>\n",
       "      <th>6</th>\n",
       "      <td>NaN</td>\n",
       "      <td>(staples center) 1111 S Figueroa St, Los Angeles</td>\n",
       "      <td>NaN</td>\n",
       "    </tr>\n",
       "    <tr>\n",
       "      <th>7</th>\n",
       "      <td>NULL</td>\n",
       "      <td>hello</td>\n",
       "      <td>NaN</td>\n",
       "    </tr>\n",
       "  </tbody>\n",
       "</table>\n",
       "</div>"
      ],
      "text/plain": [
       "           acn                                           address    acn_clean\n",
       "0  004 085 616                                     123 Pine Ave.  53004085616\n",
       "1  010 499 966                                           main st  25010499966\n",
       "2  999 999 999                      1234 west main heights 57033          NaN\n",
       "3    004085616                    apt 1 789 s maple rd manhattan  53004085616\n",
       "4  002 724 334                robie house, 789 north main street  43002724334\n",
       "5        hello         1111 S Figueroa St, Los Angeles, CA 90015          NaN\n",
       "6          NaN  (staples center) 1111 S Figueroa St, Los Angeles          NaN\n",
       "7         NULL                                             hello          NaN"
      ]
     },
     "execution_count": 1,
     "metadata": {},
     "output_type": "execute_result"
    }
   ],
   "source": [
    "clean_au_acn(df, column = \"acn\", output_format=\"abn\")"
   ]
  },
  {
   "cell_type": "markdown",
   "id": "demonstrated-campbell",
   "metadata": {},
   "source": [
    "## 3. `inplace` parameter\n",
    "\n",
    "This deletes the given column from the returned DataFrame. \n",
    "A new column containing cleaned ACN strings is added with a title in the format `\"{original title}_clean\"`."
   ]
  },
  {
   "cell_type": "code",
   "execution_count": 6,
   "id": "dominican-greeting",
   "metadata": {
    "execution": {
     "iopub.execute_input": "2021-11-02T21:25:47.453153Z",
     "iopub.status.busy": "2021-11-02T21:25:47.452719Z",
     "iopub.status.idle": "2021-11-02T21:25:47.458776Z",
     "shell.execute_reply": "2021-11-02T21:25:47.458316Z"
    }
   },
   "outputs": [
    {
     "data": {
      "text/html": [
       "<div>\n",
       "<style scoped>\n",
       "    .dataframe tbody tr th:only-of-type {\n",
       "        vertical-align: middle;\n",
       "    }\n",
       "\n",
       "    .dataframe tbody tr th {\n",
       "        vertical-align: top;\n",
       "    }\n",
       "\n",
       "    .dataframe thead th {\n",
       "        text-align: right;\n",
       "    }\n",
       "</style>\n",
       "<table border=\"1\" class=\"dataframe\">\n",
       "  <thead>\n",
       "    <tr style=\"text-align: right;\">\n",
       "      <th></th>\n",
       "      <th>acn_clean</th>\n",
       "      <th>address</th>\n",
       "    </tr>\n",
       "  </thead>\n",
       "  <tbody>\n",
       "    <tr>\n",
       "      <th>0</th>\n",
       "      <td>004 085 616</td>\n",
       "      <td>123 Pine Ave.</td>\n",
       "    </tr>\n",
       "    <tr>\n",
       "      <th>1</th>\n",
       "      <td>010 499 966</td>\n",
       "      <td>main st</td>\n",
       "    </tr>\n",
       "    <tr>\n",
       "      <th>2</th>\n",
       "      <td>NaN</td>\n",
       "      <td>1234 west main heights 57033</td>\n",
       "    </tr>\n",
       "    <tr>\n",
       "      <th>3</th>\n",
       "      <td>004 085 616</td>\n",
       "      <td>apt 1 789 s maple rd manhattan</td>\n",
       "    </tr>\n",
       "    <tr>\n",
       "      <th>4</th>\n",
       "      <td>002 724 334</td>\n",
       "      <td>robie house, 789 north main street</td>\n",
       "    </tr>\n",
       "    <tr>\n",
       "      <th>5</th>\n",
       "      <td>NaN</td>\n",
       "      <td>1111 S Figueroa St, Los Angeles, CA 90015</td>\n",
       "    </tr>\n",
       "    <tr>\n",
       "      <th>6</th>\n",
       "      <td>NaN</td>\n",
       "      <td>(staples center) 1111 S Figueroa St, Los Angeles</td>\n",
       "    </tr>\n",
       "    <tr>\n",
       "      <th>7</th>\n",
       "      <td>NaN</td>\n",
       "      <td>hello</td>\n",
       "    </tr>\n",
       "  </tbody>\n",
       "</table>\n",
       "</div>"
      ],
      "text/plain": [
       "     acn_clean                                           address\n",
       "0  004 085 616                                     123 Pine Ave.\n",
       "1  010 499 966                                           main st\n",
       "2          NaN                      1234 west main heights 57033\n",
       "3  004 085 616                    apt 1 789 s maple rd manhattan\n",
       "4  002 724 334                robie house, 789 north main street\n",
       "5          NaN         1111 S Figueroa St, Los Angeles, CA 90015\n",
       "6          NaN  (staples center) 1111 S Figueroa St, Los Angeles\n",
       "7          NaN                                             hello"
      ]
     },
     "execution_count": 1,
     "metadata": {},
     "output_type": "execute_result"
    }
   ],
   "source": [
    "clean_au_acn(df, column=\"acn\", inplace=True)"
   ]
  },
  {
   "cell_type": "markdown",
   "id": "completed-literacy",
   "metadata": {},
   "source": [
    "## 4. `errors` parameter"
   ]
  },
  {
   "cell_type": "markdown",
   "id": "weekly-gallery",
   "metadata": {},
   "source": [
    "### `coerce` (default)"
   ]
  },
  {
   "cell_type": "code",
   "execution_count": 7,
   "id": "certified-cornwall",
   "metadata": {
    "execution": {
     "iopub.execute_input": "2021-11-02T21:25:47.475342Z",
     "iopub.status.busy": "2021-11-02T21:25:47.474793Z",
     "iopub.status.idle": "2021-11-02T21:25:47.482271Z",
     "shell.execute_reply": "2021-11-02T21:25:47.481918Z"
    }
   },
   "outputs": [
    {
     "data": {
      "text/html": [
       "<div>\n",
       "<style scoped>\n",
       "    .dataframe tbody tr th:only-of-type {\n",
       "        vertical-align: middle;\n",
       "    }\n",
       "\n",
       "    .dataframe tbody tr th {\n",
       "        vertical-align: top;\n",
       "    }\n",
       "\n",
       "    .dataframe thead th {\n",
       "        text-align: right;\n",
       "    }\n",
       "</style>\n",
       "<table border=\"1\" class=\"dataframe\">\n",
       "  <thead>\n",
       "    <tr style=\"text-align: right;\">\n",
       "      <th></th>\n",
       "      <th>acn</th>\n",
       "      <th>address</th>\n",
       "      <th>acn_clean</th>\n",
       "    </tr>\n",
       "  </thead>\n",
       "  <tbody>\n",
       "    <tr>\n",
       "      <th>0</th>\n",
       "      <td>004 085 616</td>\n",
       "      <td>123 Pine Ave.</td>\n",
       "      <td>004 085 616</td>\n",
       "    </tr>\n",
       "    <tr>\n",
       "      <th>1</th>\n",
       "      <td>010 499 966</td>\n",
       "      <td>main st</td>\n",
       "      <td>010 499 966</td>\n",
       "    </tr>\n",
       "    <tr>\n",
       "      <th>2</th>\n",
       "      <td>999 999 999</td>\n",
       "      <td>1234 west main heights 57033</td>\n",
       "      <td>NaN</td>\n",
       "    </tr>\n",
       "    <tr>\n",
       "      <th>3</th>\n",
       "      <td>004085616</td>\n",
       "      <td>apt 1 789 s maple rd manhattan</td>\n",
       "      <td>004 085 616</td>\n",
       "    </tr>\n",
       "    <tr>\n",
       "      <th>4</th>\n",
       "      <td>002 724 334</td>\n",
       "      <td>robie house, 789 north main street</td>\n",
       "      <td>002 724 334</td>\n",
       "    </tr>\n",
       "    <tr>\n",
       "      <th>5</th>\n",
       "      <td>hello</td>\n",
       "      <td>1111 S Figueroa St, Los Angeles, CA 90015</td>\n",
       "      <td>NaN</td>\n",
       "    </tr>\n",
       "    <tr>\n",
       "      <th>6</th>\n",
       "      <td>NaN</td>\n",
       "      <td>(staples center) 1111 S Figueroa St, Los Angeles</td>\n",
       "      <td>NaN</td>\n",
       "    </tr>\n",
       "    <tr>\n",
       "      <th>7</th>\n",
       "      <td>NULL</td>\n",
       "      <td>hello</td>\n",
       "      <td>NaN</td>\n",
       "    </tr>\n",
       "  </tbody>\n",
       "</table>\n",
       "</div>"
      ],
      "text/plain": [
       "           acn                                           address    acn_clean\n",
       "0  004 085 616                                     123 Pine Ave.  004 085 616\n",
       "1  010 499 966                                           main st  010 499 966\n",
       "2  999 999 999                      1234 west main heights 57033          NaN\n",
       "3    004085616                    apt 1 789 s maple rd manhattan  004 085 616\n",
       "4  002 724 334                robie house, 789 north main street  002 724 334\n",
       "5        hello         1111 S Figueroa St, Los Angeles, CA 90015          NaN\n",
       "6          NaN  (staples center) 1111 S Figueroa St, Los Angeles          NaN\n",
       "7         NULL                                             hello          NaN"
      ]
     },
     "execution_count": 1,
     "metadata": {},
     "output_type": "execute_result"
    }
   ],
   "source": [
    "clean_au_acn(df, \"acn\", errors=\"coerce\")"
   ]
  },
  {
   "cell_type": "markdown",
   "id": "native-matthew",
   "metadata": {},
   "source": [
    "### `ignore`"
   ]
  },
  {
   "cell_type": "code",
   "execution_count": 8,
   "id": "disabled-bottom",
   "metadata": {
    "execution": {
     "iopub.execute_input": "2021-11-02T21:25:47.498285Z",
     "iopub.status.busy": "2021-11-02T21:25:47.496735Z",
     "iopub.status.idle": "2021-11-02T21:25:47.506913Z",
     "shell.execute_reply": "2021-11-02T21:25:47.507254Z"
    }
   },
   "outputs": [
    {
     "data": {
      "text/html": [
       "<div>\n",
       "<style scoped>\n",
       "    .dataframe tbody tr th:only-of-type {\n",
       "        vertical-align: middle;\n",
       "    }\n",
       "\n",
       "    .dataframe tbody tr th {\n",
       "        vertical-align: top;\n",
       "    }\n",
       "\n",
       "    .dataframe thead th {\n",
       "        text-align: right;\n",
       "    }\n",
       "</style>\n",
       "<table border=\"1\" class=\"dataframe\">\n",
       "  <thead>\n",
       "    <tr style=\"text-align: right;\">\n",
       "      <th></th>\n",
       "      <th>acn</th>\n",
       "      <th>address</th>\n",
       "      <th>acn_clean</th>\n",
       "    </tr>\n",
       "  </thead>\n",
       "  <tbody>\n",
       "    <tr>\n",
       "      <th>0</th>\n",
       "      <td>004 085 616</td>\n",
       "      <td>123 Pine Ave.</td>\n",
       "      <td>004 085 616</td>\n",
       "    </tr>\n",
       "    <tr>\n",
       "      <th>1</th>\n",
       "      <td>010 499 966</td>\n",
       "      <td>main st</td>\n",
       "      <td>010 499 966</td>\n",
       "    </tr>\n",
       "    <tr>\n",
       "      <th>2</th>\n",
       "      <td>999 999 999</td>\n",
       "      <td>1234 west main heights 57033</td>\n",
       "      <td>999 999 999</td>\n",
       "    </tr>\n",
       "    <tr>\n",
       "      <th>3</th>\n",
       "      <td>004085616</td>\n",
       "      <td>apt 1 789 s maple rd manhattan</td>\n",
       "      <td>004 085 616</td>\n",
       "    </tr>\n",
       "    <tr>\n",
       "      <th>4</th>\n",
       "      <td>002 724 334</td>\n",
       "      <td>robie house, 789 north main street</td>\n",
       "      <td>002 724 334</td>\n",
       "    </tr>\n",
       "    <tr>\n",
       "      <th>5</th>\n",
       "      <td>hello</td>\n",
       "      <td>1111 S Figueroa St, Los Angeles, CA 90015</td>\n",
       "      <td>hello</td>\n",
       "    </tr>\n",
       "    <tr>\n",
       "      <th>6</th>\n",
       "      <td>NaN</td>\n",
       "      <td>(staples center) 1111 S Figueroa St, Los Angeles</td>\n",
       "      <td>NaN</td>\n",
       "    </tr>\n",
       "    <tr>\n",
       "      <th>7</th>\n",
       "      <td>NULL</td>\n",
       "      <td>hello</td>\n",
       "      <td>NaN</td>\n",
       "    </tr>\n",
       "  </tbody>\n",
       "</table>\n",
       "</div>"
      ],
      "text/plain": [
       "           acn                                           address    acn_clean\n",
       "0  004 085 616                                     123 Pine Ave.  004 085 616\n",
       "1  010 499 966                                           main st  010 499 966\n",
       "2  999 999 999                      1234 west main heights 57033  999 999 999\n",
       "3    004085616                    apt 1 789 s maple rd manhattan  004 085 616\n",
       "4  002 724 334                robie house, 789 north main street  002 724 334\n",
       "5        hello         1111 S Figueroa St, Los Angeles, CA 90015        hello\n",
       "6          NaN  (staples center) 1111 S Figueroa St, Los Angeles          NaN\n",
       "7         NULL                                             hello          NaN"
      ]
     },
     "execution_count": 1,
     "metadata": {},
     "output_type": "execute_result"
    }
   ],
   "source": [
    "clean_au_acn(df, \"acn\", errors=\"ignore\")"
   ]
  },
  {
   "cell_type": "markdown",
   "id": "effective-washington",
   "metadata": {},
   "source": [
    "## 4. `validate_au_acn()`"
   ]
  },
  {
   "cell_type": "markdown",
   "id": "violent-destiny",
   "metadata": {},
   "source": [
    "`validate_au_acn()` returns `True` when the input is a valid ACN. Otherwise it returns `False`.\n",
    "\n",
    "The input of `validate_au_acn()` can be a string, a Pandas DataSeries, a Dask DataSeries, a Pandas DataFrame and a dask DataFrame.\n",
    "\n",
    "When the input is a string, a Pandas DataSeries or a Dask DataSeries, user doesn't need to specify a column name to be validated. \n",
    "\n",
    "When the input is a Pandas DataFrame or a dask DataFrame, user can both specify or not specify a column name to be validated. If user specify the column name, `validate_au_acn()` only returns the validation result for the specified column. If user doesn't specify the column name, `validate_au_acn()` returns the validation result for the whole DataFrame."
   ]
  },
  {
   "cell_type": "code",
   "execution_count": 9,
   "id": "separate-breakdown",
   "metadata": {
    "execution": {
     "iopub.execute_input": "2021-11-02T21:25:47.511719Z",
     "iopub.status.busy": "2021-11-02T21:25:47.511227Z",
     "iopub.status.idle": "2021-11-02T21:25:47.514950Z",
     "shell.execute_reply": "2021-11-02T21:25:47.514352Z"
    }
   },
   "outputs": [
    {
     "name": "stdout",
     "output_type": "stream",
     "text": [
      "True\n",
      "True\n",
      "False\n",
      "False\n",
      "True\n",
      "False\n",
      "False\n",
      "False\n"
     ]
    }
   ],
   "source": [
    "from dataprep.clean import validate_au_acn\n",
    "print(validate_au_acn(\"004 085 616\"))\n",
    "print(validate_au_acn(\"010 499 966\"))\n",
    "print(validate_au_acn(\"999 999 999\"))\n",
    "print(validate_au_acn(\"51824753556\"))\n",
    "print(validate_au_acn(\"004085616\"))\n",
    "print(validate_au_acn(\"hello\"))\n",
    "print(validate_au_acn(np.nan))\n",
    "print(validate_au_acn(\"NULL\"))"
   ]
  },
  {
   "cell_type": "markdown",
   "id": "advisory-clearance",
   "metadata": {},
   "source": [
    "### Series"
   ]
  },
  {
   "cell_type": "code",
   "execution_count": 10,
   "id": "absolute-small",
   "metadata": {
    "execution": {
     "iopub.execute_input": "2021-11-02T21:25:47.519168Z",
     "iopub.status.busy": "2021-11-02T21:25:47.518732Z",
     "iopub.status.idle": "2021-11-02T21:25:47.520822Z",
     "shell.execute_reply": "2021-11-02T21:25:47.521184Z"
    }
   },
   "outputs": [
    {
     "data": {
      "text/plain": [
       "0     True\n",
       "1     True\n",
       "2    False\n",
       "3     True\n",
       "4     True\n",
       "5    False\n",
       "6    False\n",
       "7    False\n",
       "Name: acn, dtype: bool"
      ]
     },
     "execution_count": 1,
     "metadata": {},
     "output_type": "execute_result"
    }
   ],
   "source": [
    "validate_au_acn(df[\"acn\"])"
   ]
  },
  {
   "cell_type": "markdown",
   "id": "unlimited-parish",
   "metadata": {},
   "source": [
    "### DataFrame + Specify Column"
   ]
  },
  {
   "cell_type": "code",
   "execution_count": 11,
   "id": "subtle-palmer",
   "metadata": {
    "execution": {
     "iopub.execute_input": "2021-11-02T21:25:47.525383Z",
     "iopub.status.busy": "2021-11-02T21:25:47.524936Z",
     "iopub.status.idle": "2021-11-02T21:25:47.526938Z",
     "shell.execute_reply": "2021-11-02T21:25:47.527283Z"
    }
   },
   "outputs": [
    {
     "data": {
      "text/plain": [
       "0     True\n",
       "1     True\n",
       "2    False\n",
       "3     True\n",
       "4     True\n",
       "5    False\n",
       "6    False\n",
       "7    False\n",
       "Name: acn, dtype: bool"
      ]
     },
     "execution_count": 1,
     "metadata": {},
     "output_type": "execute_result"
    }
   ],
   "source": [
    "validate_au_acn(df, column=\"acn\")"
   ]
  },
  {
   "cell_type": "markdown",
   "id": "generic-vintage",
   "metadata": {},
   "source": [
    "### Only DataFrame"
   ]
  },
  {
   "cell_type": "code",
   "execution_count": 12,
   "id": "sixth-government",
   "metadata": {
    "execution": {
     "iopub.execute_input": "2021-11-02T21:25:47.530163Z",
     "iopub.status.busy": "2021-11-02T21:25:47.529746Z",
     "iopub.status.idle": "2021-11-02T21:25:47.536010Z",
     "shell.execute_reply": "2021-11-02T21:25:47.535568Z"
    }
   },
   "outputs": [
    {
     "data": {
      "text/html": [
       "<div>\n",
       "<style scoped>\n",
       "    .dataframe tbody tr th:only-of-type {\n",
       "        vertical-align: middle;\n",
       "    }\n",
       "\n",
       "    .dataframe tbody tr th {\n",
       "        vertical-align: top;\n",
       "    }\n",
       "\n",
       "    .dataframe thead th {\n",
       "        text-align: right;\n",
       "    }\n",
       "</style>\n",
       "<table border=\"1\" class=\"dataframe\">\n",
       "  <thead>\n",
       "    <tr style=\"text-align: right;\">\n",
       "      <th></th>\n",
       "      <th>acn</th>\n",
       "      <th>address</th>\n",
       "    </tr>\n",
       "  </thead>\n",
       "  <tbody>\n",
       "    <tr>\n",
       "      <th>0</th>\n",
       "      <td>True</td>\n",
       "      <td>False</td>\n",
       "    </tr>\n",
       "    <tr>\n",
       "      <th>1</th>\n",
       "      <td>True</td>\n",
       "      <td>False</td>\n",
       "    </tr>\n",
       "    <tr>\n",
       "      <th>2</th>\n",
       "      <td>False</td>\n",
       "      <td>False</td>\n",
       "    </tr>\n",
       "    <tr>\n",
       "      <th>3</th>\n",
       "      <td>True</td>\n",
       "      <td>False</td>\n",
       "    </tr>\n",
       "    <tr>\n",
       "      <th>4</th>\n",
       "      <td>True</td>\n",
       "      <td>False</td>\n",
       "    </tr>\n",
       "    <tr>\n",
       "      <th>5</th>\n",
       "      <td>False</td>\n",
       "      <td>False</td>\n",
       "    </tr>\n",
       "    <tr>\n",
       "      <th>6</th>\n",
       "      <td>False</td>\n",
       "      <td>False</td>\n",
       "    </tr>\n",
       "    <tr>\n",
       "      <th>7</th>\n",
       "      <td>False</td>\n",
       "      <td>False</td>\n",
       "    </tr>\n",
       "  </tbody>\n",
       "</table>\n",
       "</div>"
      ],
      "text/plain": [
       "     acn  address\n",
       "0   True    False\n",
       "1   True    False\n",
       "2  False    False\n",
       "3   True    False\n",
       "4   True    False\n",
       "5  False    False\n",
       "6  False    False\n",
       "7  False    False"
      ]
     },
     "execution_count": 1,
     "metadata": {},
     "output_type": "execute_result"
    }
   ],
   "source": [
    "validate_au_acn(df)"
   ]
  },
  {
   "cell_type": "code",
   "execution_count": null,
   "id": "different-testimony",
   "metadata": {},
   "outputs": [],
   "source": []
  }
 ],
 "metadata": {
  "kernelspec": {
   "display_name": "Python 3",
   "language": "python",
   "name": "python3"
  },
  "language_info": {
   "codemirror_mode": {
    "name": "ipython",
    "version": 3
   },
   "file_extension": ".py",
   "mimetype": "text/x-python",
   "name": "python",
   "nbconvert_exporter": "python",
   "pygments_lexer": "ipython3",
   "version": "3.8.10"
  }
 },
 "nbformat": 4,
 "nbformat_minor": 5
}
