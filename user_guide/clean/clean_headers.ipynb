{
 "cells": [
  {
   "cell_type": "raw",
   "metadata": {
    "raw_mimetype": "text/restructuredtext"
   },
   "source": [
    ".. _clean_headers_user_guide:\n",
    "\n",
    "Column Headers\n",
    "=============="
   ]
  },
  {
   "cell_type": "raw",
   "metadata": {
    "raw_mimetype": "text/restructuredtext"
   },
   "source": [
    "Introduction\n",
    "------------\n",
    "\n",
    "The function :func:`clean_headers() <dataprep.clean.clean_headers.clean_headers>` cleans column headers in a DataFrame, and standardizes them in a desired format."
   ]
  },
  {
   "cell_type": "markdown",
   "metadata": {},
   "source": [
    "Column names can be converted to the following case styles via the `case` parameter:\n",
    "\n",
    "* snake: \"column_name\"\n",
    "* kebab: \"column-name\"\n",
    "* camel: \"columnName\"\n",
    "* pascal: \"ColumnName\"\n",
    "* const: \"COLUMN_NAME\"\n",
    "* sentence: \"Column name\"\n",
    "* title: \"Column Name\"\n",
    "* lower: \"column name\"\n",
    "* upper: \"COLUMN NAME\"\n",
    "\n",
    "After cleaning, a **report** is printed that provides the number and percentage of values that were cleaned (the value must be transformed).\n",
    "\n",
    "The following sections demonstrate the functionality of `clean_headers()`."
   ]
  },
  {
   "cell_type": "markdown",
   "metadata": {},
   "source": [
    "### An example dirty dataset"
   ]
  },
  {
   "cell_type": "code",
   "execution_count": 1,
   "metadata": {
    "execution": {
     "iopub.execute_input": "2021-05-20T05:22:01.075779Z",
     "iopub.status.busy": "2021-05-20T05:22:01.075128Z",
     "iopub.status.idle": "2021-05-20T05:22:01.518889Z",
     "shell.execute_reply": "2021-05-20T05:22:01.518193Z"
    }
   },
   "outputs": [
    {
     "data": {
      "text/html": [
       "<div>\n",
       "<style scoped>\n",
       "    .dataframe tbody tr th:only-of-type {\n",
       "        vertical-align: middle;\n",
       "    }\n",
       "\n",
       "    .dataframe tbody tr th {\n",
       "        vertical-align: top;\n",
       "    }\n",
       "\n",
       "    .dataframe thead th {\n",
       "        text-align: right;\n",
       "    }\n",
       "</style>\n",
       "<table border=\"1\" class=\"dataframe\">\n",
       "  <thead>\n",
       "    <tr style=\"text-align: right;\">\n",
       "      <th></th>\n",
       "      <th>ISBN</th>\n",
       "      <th>isbn</th>\n",
       "      <th>bookTitle</th>\n",
       "      <th>__Author</th>\n",
       "      <th>Publication (year)</th>\n",
       "      <th>éditeur</th>\n",
       "      <th>Number_Of_Pages</th>\n",
       "      <th>★ Rating</th>\n",
       "    </tr>\n",
       "  </thead>\n",
       "  <tbody>\n",
       "    <tr>\n",
       "      <th>0</th>\n",
       "      <td>9781455582341</td>\n",
       "      <td>1455582328</td>\n",
       "      <td>How Google Works</td>\n",
       "      <td>Eric Schmidt, Jonathan Rosenberg</td>\n",
       "      <td>2014</td>\n",
       "      <td>Grand Central Publishing</td>\n",
       "      <td>305</td>\n",
       "      <td>4.06</td>\n",
       "    </tr>\n",
       "  </tbody>\n",
       "</table>\n",
       "</div>"
      ],
      "text/plain": [
       "            ISBN        isbn         bookTitle  \\\n",
       "0  9781455582341  1455582328  How Google Works   \n",
       "\n",
       "                           __Author  Publication (year)  \\\n",
       "0  Eric Schmidt, Jonathan Rosenberg                2014   \n",
       "\n",
       "                    éditeur  Number_Of_Pages  ★ Rating  \n",
       "0  Grand Central Publishing              305      4.06  "
      ]
     },
     "execution_count": 1,
     "metadata": {},
     "output_type": "execute_result"
    }
   ],
   "source": [
    "import pandas as pd\n",
    "import numpy as np\n",
    "df = pd.DataFrame(\n",
    "        {\n",
    "            \"ISBN\": [9781455582341],\n",
    "            \"isbn\": [1455582328],\n",
    "            \"bookTitle\": [\"How Google Works\"],\n",
    "            \"__Author\": [\"Eric Schmidt, Jonathan Rosenberg\"],\n",
    "            \"Publication (year)\": [2014],\n",
    "            \"éditeur\": [\"Grand Central Publishing\"],\n",
    "            \"Number_Of_Pages\": [305],\n",
    "            \"★ Rating\": [4.06],\n",
    "        }\n",
    "    )\n",
    "df"
   ]
  },
  {
   "cell_type": "markdown",
   "metadata": {},
   "source": [
    "## 1. Default `clean_headers()`"
   ]
  },
  {
   "cell_type": "markdown",
   "metadata": {},
   "source": [
    "By default, the `case` parameter is set to \"snake\" and the `remove_accents` parameter is set to True (strip accents and symbols from the column name)."
   ]
  },
  {
   "cell_type": "code",
   "execution_count": 2,
   "metadata": {
    "execution": {
     "iopub.execute_input": "2021-05-20T05:22:01.523007Z",
     "iopub.status.busy": "2021-05-20T05:22:01.522392Z",
     "iopub.status.idle": "2021-05-20T05:22:02.073907Z",
     "shell.execute_reply": "2021-05-20T05:22:02.074446Z"
    }
   },
   "outputs": [
    {
     "name": "stdout",
     "output_type": "stream",
     "text": [
      "Column Headers Cleaning Report:\n",
      "\t8 values cleaned (100.0%)\n"
     ]
    },
    {
     "data": {
      "text/html": [
       "<div>\n",
       "<style scoped>\n",
       "    .dataframe tbody tr th:only-of-type {\n",
       "        vertical-align: middle;\n",
       "    }\n",
       "\n",
       "    .dataframe tbody tr th {\n",
       "        vertical-align: top;\n",
       "    }\n",
       "\n",
       "    .dataframe thead th {\n",
       "        text-align: right;\n",
       "    }\n",
       "</style>\n",
       "<table border=\"1\" class=\"dataframe\">\n",
       "  <thead>\n",
       "    <tr style=\"text-align: right;\">\n",
       "      <th></th>\n",
       "      <th>isbn</th>\n",
       "      <th>isbn_1</th>\n",
       "      <th>book_title</th>\n",
       "      <th>author</th>\n",
       "      <th>publication_year</th>\n",
       "      <th>editeur</th>\n",
       "      <th>number_of_pages</th>\n",
       "      <th>rating</th>\n",
       "    </tr>\n",
       "  </thead>\n",
       "  <tbody>\n",
       "    <tr>\n",
       "      <th>0</th>\n",
       "      <td>9781455582341</td>\n",
       "      <td>1455582328</td>\n",
       "      <td>How Google Works</td>\n",
       "      <td>Eric Schmidt, Jonathan Rosenberg</td>\n",
       "      <td>2014</td>\n",
       "      <td>Grand Central Publishing</td>\n",
       "      <td>305</td>\n",
       "      <td>4.06</td>\n",
       "    </tr>\n",
       "  </tbody>\n",
       "</table>\n",
       "</div>"
      ],
      "text/plain": [
       "            isbn      isbn_1        book_title  \\\n",
       "0  9781455582341  1455582328  How Google Works   \n",
       "\n",
       "                             author  publication_year  \\\n",
       "0  Eric Schmidt, Jonathan Rosenberg              2014   \n",
       "\n",
       "                    editeur  number_of_pages  rating  \n",
       "0  Grand Central Publishing              305    4.06  "
      ]
     },
     "execution_count": 1,
     "metadata": {},
     "output_type": "execute_result"
    }
   ],
   "source": [
    "from dataprep.clean import clean_headers\n",
    "clean_headers(df)"
   ]
  },
  {
   "cell_type": "markdown",
   "metadata": {},
   "source": [
    "Note that \"_1\" is appended to the second instance of the column name \"isbn\" to distinguish it from the first instance after the transformation. Consequently, all column names are considered to have been cleaned in this example.\n",
    "\n",
    "Column names that are duplicated as a result of calling `clean_headers()` are automatically renamed to append a number to the end. The suffix used to append the number is inferred from the `case` parameter."
   ]
  },
  {
   "cell_type": "markdown",
   "metadata": {},
   "source": [
    "## 2. `case` parameter\n",
    "\n",
    "This section demonstrates the supported case styles.\n",
    "\n",
    "### kebab"
   ]
  },
  {
   "cell_type": "code",
   "execution_count": 3,
   "metadata": {
    "execution": {
     "iopub.execute_input": "2021-05-20T05:22:02.085794Z",
     "iopub.status.busy": "2021-05-20T05:22:02.085145Z",
     "iopub.status.idle": "2021-05-20T05:22:02.088448Z",
     "shell.execute_reply": "2021-05-20T05:22:02.088971Z"
    }
   },
   "outputs": [
    {
     "name": "stdout",
     "output_type": "stream",
     "text": [
      "Column Headers Cleaning Report:\n",
      "\t8 values cleaned (100.0%)\n"
     ]
    },
    {
     "data": {
      "text/html": [
       "<div>\n",
       "<style scoped>\n",
       "    .dataframe tbody tr th:only-of-type {\n",
       "        vertical-align: middle;\n",
       "    }\n",
       "\n",
       "    .dataframe tbody tr th {\n",
       "        vertical-align: top;\n",
       "    }\n",
       "\n",
       "    .dataframe thead th {\n",
       "        text-align: right;\n",
       "    }\n",
       "</style>\n",
       "<table border=\"1\" class=\"dataframe\">\n",
       "  <thead>\n",
       "    <tr style=\"text-align: right;\">\n",
       "      <th></th>\n",
       "      <th>isbn</th>\n",
       "      <th>isbn-1</th>\n",
       "      <th>book-title</th>\n",
       "      <th>author</th>\n",
       "      <th>publication-year</th>\n",
       "      <th>editeur</th>\n",
       "      <th>number-of-pages</th>\n",
       "      <th>rating</th>\n",
       "    </tr>\n",
       "  </thead>\n",
       "  <tbody>\n",
       "    <tr>\n",
       "      <th>0</th>\n",
       "      <td>9781455582341</td>\n",
       "      <td>1455582328</td>\n",
       "      <td>How Google Works</td>\n",
       "      <td>Eric Schmidt, Jonathan Rosenberg</td>\n",
       "      <td>2014</td>\n",
       "      <td>Grand Central Publishing</td>\n",
       "      <td>305</td>\n",
       "      <td>4.06</td>\n",
       "    </tr>\n",
       "  </tbody>\n",
       "</table>\n",
       "</div>"
      ],
      "text/plain": [
       "            isbn      isbn-1        book-title  \\\n",
       "0  9781455582341  1455582328  How Google Works   \n",
       "\n",
       "                             author  publication-year  \\\n",
       "0  Eric Schmidt, Jonathan Rosenberg              2014   \n",
       "\n",
       "                    editeur  number-of-pages  rating  \n",
       "0  Grand Central Publishing              305    4.06  "
      ]
     },
     "execution_count": 1,
     "metadata": {},
     "output_type": "execute_result"
    }
   ],
   "source": [
    "clean_headers(df, case=\"kebab\")"
   ]
  },
  {
   "cell_type": "markdown",
   "metadata": {},
   "source": [
    "### camel"
   ]
  },
  {
   "cell_type": "code",
   "execution_count": 4,
   "metadata": {
    "execution": {
     "iopub.execute_input": "2021-05-20T05:22:02.100114Z",
     "iopub.status.busy": "2021-05-20T05:22:02.099505Z",
     "iopub.status.idle": "2021-05-20T05:22:02.102446Z",
     "shell.execute_reply": "2021-05-20T05:22:02.102975Z"
    }
   },
   "outputs": [
    {
     "name": "stdout",
     "output_type": "stream",
     "text": [
      "Column Headers Cleaning Report:\n",
      "\t7 values cleaned (87.5%)\n"
     ]
    },
    {
     "data": {
      "text/html": [
       "<div>\n",
       "<style scoped>\n",
       "    .dataframe tbody tr th:only-of-type {\n",
       "        vertical-align: middle;\n",
       "    }\n",
       "\n",
       "    .dataframe tbody tr th {\n",
       "        vertical-align: top;\n",
       "    }\n",
       "\n",
       "    .dataframe thead th {\n",
       "        text-align: right;\n",
       "    }\n",
       "</style>\n",
       "<table border=\"1\" class=\"dataframe\">\n",
       "  <thead>\n",
       "    <tr style=\"text-align: right;\">\n",
       "      <th></th>\n",
       "      <th>isbn</th>\n",
       "      <th>isbn1</th>\n",
       "      <th>bookTitle</th>\n",
       "      <th>author</th>\n",
       "      <th>publicationYear</th>\n",
       "      <th>editeur</th>\n",
       "      <th>numberOfPages</th>\n",
       "      <th>rating</th>\n",
       "    </tr>\n",
       "  </thead>\n",
       "  <tbody>\n",
       "    <tr>\n",
       "      <th>0</th>\n",
       "      <td>9781455582341</td>\n",
       "      <td>1455582328</td>\n",
       "      <td>How Google Works</td>\n",
       "      <td>Eric Schmidt, Jonathan Rosenberg</td>\n",
       "      <td>2014</td>\n",
       "      <td>Grand Central Publishing</td>\n",
       "      <td>305</td>\n",
       "      <td>4.06</td>\n",
       "    </tr>\n",
       "  </tbody>\n",
       "</table>\n",
       "</div>"
      ],
      "text/plain": [
       "            isbn       isbn1         bookTitle  \\\n",
       "0  9781455582341  1455582328  How Google Works   \n",
       "\n",
       "                             author  publicationYear  \\\n",
       "0  Eric Schmidt, Jonathan Rosenberg             2014   \n",
       "\n",
       "                    editeur  numberOfPages  rating  \n",
       "0  Grand Central Publishing            305    4.06  "
      ]
     },
     "execution_count": 1,
     "metadata": {},
     "output_type": "execute_result"
    }
   ],
   "source": [
    "clean_headers(df, case=\"camel\")"
   ]
  },
  {
   "cell_type": "markdown",
   "metadata": {},
   "source": [
    "### pascal"
   ]
  },
  {
   "cell_type": "code",
   "execution_count": 5,
   "metadata": {
    "execution": {
     "iopub.execute_input": "2021-05-20T05:22:02.111111Z",
     "iopub.status.busy": "2021-05-20T05:22:02.110502Z",
     "iopub.status.idle": "2021-05-20T05:22:02.113426Z",
     "shell.execute_reply": "2021-05-20T05:22:02.113966Z"
    }
   },
   "outputs": [
    {
     "name": "stdout",
     "output_type": "stream",
     "text": [
      "Column Headers Cleaning Report:\n",
      "\t8 values cleaned (100.0%)\n"
     ]
    },
    {
     "data": {
      "text/html": [
       "<div>\n",
       "<style scoped>\n",
       "    .dataframe tbody tr th:only-of-type {\n",
       "        vertical-align: middle;\n",
       "    }\n",
       "\n",
       "    .dataframe tbody tr th {\n",
       "        vertical-align: top;\n",
       "    }\n",
       "\n",
       "    .dataframe thead th {\n",
       "        text-align: right;\n",
       "    }\n",
       "</style>\n",
       "<table border=\"1\" class=\"dataframe\">\n",
       "  <thead>\n",
       "    <tr style=\"text-align: right;\">\n",
       "      <th></th>\n",
       "      <th>Isbn</th>\n",
       "      <th>Isbn1</th>\n",
       "      <th>BookTitle</th>\n",
       "      <th>Author</th>\n",
       "      <th>PublicationYear</th>\n",
       "      <th>Editeur</th>\n",
       "      <th>NumberOfPages</th>\n",
       "      <th>Rating</th>\n",
       "    </tr>\n",
       "  </thead>\n",
       "  <tbody>\n",
       "    <tr>\n",
       "      <th>0</th>\n",
       "      <td>9781455582341</td>\n",
       "      <td>1455582328</td>\n",
       "      <td>How Google Works</td>\n",
       "      <td>Eric Schmidt, Jonathan Rosenberg</td>\n",
       "      <td>2014</td>\n",
       "      <td>Grand Central Publishing</td>\n",
       "      <td>305</td>\n",
       "      <td>4.06</td>\n",
       "    </tr>\n",
       "  </tbody>\n",
       "</table>\n",
       "</div>"
      ],
      "text/plain": [
       "            Isbn       Isbn1         BookTitle  \\\n",
       "0  9781455582341  1455582328  How Google Works   \n",
       "\n",
       "                             Author  PublicationYear  \\\n",
       "0  Eric Schmidt, Jonathan Rosenberg             2014   \n",
       "\n",
       "                    Editeur  NumberOfPages  Rating  \n",
       "0  Grand Central Publishing            305    4.06  "
      ]
     },
     "execution_count": 1,
     "metadata": {},
     "output_type": "execute_result"
    }
   ],
   "source": [
    "clean_headers(df, case=\"pascal\")"
   ]
  },
  {
   "cell_type": "markdown",
   "metadata": {},
   "source": [
    "### const"
   ]
  },
  {
   "cell_type": "code",
   "execution_count": 6,
   "metadata": {
    "execution": {
     "iopub.execute_input": "2021-05-20T05:22:02.123469Z",
     "iopub.status.busy": "2021-05-20T05:22:02.122847Z",
     "iopub.status.idle": "2021-05-20T05:22:02.125745Z",
     "shell.execute_reply": "2021-05-20T05:22:02.126293Z"
    }
   },
   "outputs": [
    {
     "name": "stdout",
     "output_type": "stream",
     "text": [
      "Column Headers Cleaning Report:\n",
      "\t7 values cleaned (87.5%)\n"
     ]
    },
    {
     "data": {
      "text/html": [
       "<div>\n",
       "<style scoped>\n",
       "    .dataframe tbody tr th:only-of-type {\n",
       "        vertical-align: middle;\n",
       "    }\n",
       "\n",
       "    .dataframe tbody tr th {\n",
       "        vertical-align: top;\n",
       "    }\n",
       "\n",
       "    .dataframe thead th {\n",
       "        text-align: right;\n",
       "    }\n",
       "</style>\n",
       "<table border=\"1\" class=\"dataframe\">\n",
       "  <thead>\n",
       "    <tr style=\"text-align: right;\">\n",
       "      <th></th>\n",
       "      <th>ISBN</th>\n",
       "      <th>ISBN_1</th>\n",
       "      <th>BOOK_TITLE</th>\n",
       "      <th>AUTHOR</th>\n",
       "      <th>PUBLICATION_YEAR</th>\n",
       "      <th>EDITEUR</th>\n",
       "      <th>NUMBER_OF_PAGES</th>\n",
       "      <th>RATING</th>\n",
       "    </tr>\n",
       "  </thead>\n",
       "  <tbody>\n",
       "    <tr>\n",
       "      <th>0</th>\n",
       "      <td>9781455582341</td>\n",
       "      <td>1455582328</td>\n",
       "      <td>How Google Works</td>\n",
       "      <td>Eric Schmidt, Jonathan Rosenberg</td>\n",
       "      <td>2014</td>\n",
       "      <td>Grand Central Publishing</td>\n",
       "      <td>305</td>\n",
       "      <td>4.06</td>\n",
       "    </tr>\n",
       "  </tbody>\n",
       "</table>\n",
       "</div>"
      ],
      "text/plain": [
       "            ISBN      ISBN_1        BOOK_TITLE  \\\n",
       "0  9781455582341  1455582328  How Google Works   \n",
       "\n",
       "                             AUTHOR  PUBLICATION_YEAR  \\\n",
       "0  Eric Schmidt, Jonathan Rosenberg              2014   \n",
       "\n",
       "                    EDITEUR  NUMBER_OF_PAGES  RATING  \n",
       "0  Grand Central Publishing              305    4.06  "
      ]
     },
     "execution_count": 1,
     "metadata": {},
     "output_type": "execute_result"
    }
   ],
   "source": [
    "clean_headers(df, case=\"const\")"
   ]
  },
  {
   "cell_type": "markdown",
   "metadata": {},
   "source": [
    "### sentence"
   ]
  },
  {
   "cell_type": "code",
   "execution_count": 7,
   "metadata": {
    "execution": {
     "iopub.execute_input": "2021-05-20T05:22:02.136611Z",
     "iopub.status.busy": "2021-05-20T05:22:02.131227Z",
     "iopub.status.idle": "2021-05-20T05:22:02.139853Z",
     "shell.execute_reply": "2021-05-20T05:22:02.139306Z"
    }
   },
   "outputs": [
    {
     "name": "stdout",
     "output_type": "stream",
     "text": [
      "Column Headers Cleaning Report:\n",
      "\t7 values cleaned (87.5%)\n"
     ]
    },
    {
     "data": {
      "text/html": [
       "<div>\n",
       "<style scoped>\n",
       "    .dataframe tbody tr th:only-of-type {\n",
       "        vertical-align: middle;\n",
       "    }\n",
       "\n",
       "    .dataframe tbody tr th {\n",
       "        vertical-align: top;\n",
       "    }\n",
       "\n",
       "    .dataframe thead th {\n",
       "        text-align: right;\n",
       "    }\n",
       "</style>\n",
       "<table border=\"1\" class=\"dataframe\">\n",
       "  <thead>\n",
       "    <tr style=\"text-align: right;\">\n",
       "      <th></th>\n",
       "      <th>Isbn</th>\n",
       "      <th>Isbn 1</th>\n",
       "      <th>Book title</th>\n",
       "      <th>Author</th>\n",
       "      <th>Publication (year)</th>\n",
       "      <th>Editeur</th>\n",
       "      <th>Number of pages</th>\n",
       "      <th>Rating</th>\n",
       "    </tr>\n",
       "  </thead>\n",
       "  <tbody>\n",
       "    <tr>\n",
       "      <th>0</th>\n",
       "      <td>9781455582341</td>\n",
       "      <td>1455582328</td>\n",
       "      <td>How Google Works</td>\n",
       "      <td>Eric Schmidt, Jonathan Rosenberg</td>\n",
       "      <td>2014</td>\n",
       "      <td>Grand Central Publishing</td>\n",
       "      <td>305</td>\n",
       "      <td>4.06</td>\n",
       "    </tr>\n",
       "  </tbody>\n",
       "</table>\n",
       "</div>"
      ],
      "text/plain": [
       "            Isbn      Isbn 1        Book title  \\\n",
       "0  9781455582341  1455582328  How Google Works   \n",
       "\n",
       "                             Author  Publication (year)  \\\n",
       "0  Eric Schmidt, Jonathan Rosenberg                2014   \n",
       "\n",
       "                    Editeur  Number of pages  Rating  \n",
       "0  Grand Central Publishing              305    4.06  "
      ]
     },
     "execution_count": 1,
     "metadata": {},
     "output_type": "execute_result"
    }
   ],
   "source": [
    "clean_headers(df, case=\"sentence\")"
   ]
  },
  {
   "cell_type": "markdown",
   "metadata": {},
   "source": [
    "### title"
   ]
  },
  {
   "cell_type": "code",
   "execution_count": 8,
   "metadata": {
    "execution": {
     "iopub.execute_input": "2021-05-20T05:22:02.150013Z",
     "iopub.status.busy": "2021-05-20T05:22:02.144514Z",
     "iopub.status.idle": "2021-05-20T05:22:02.153173Z",
     "shell.execute_reply": "2021-05-20T05:22:02.152631Z"
    }
   },
   "outputs": [
    {
     "name": "stdout",
     "output_type": "stream",
     "text": [
      "Column Headers Cleaning Report:\n",
      "\t7 values cleaned (87.5%)\n"
     ]
    },
    {
     "data": {
      "text/html": [
       "<div>\n",
       "<style scoped>\n",
       "    .dataframe tbody tr th:only-of-type {\n",
       "        vertical-align: middle;\n",
       "    }\n",
       "\n",
       "    .dataframe tbody tr th {\n",
       "        vertical-align: top;\n",
       "    }\n",
       "\n",
       "    .dataframe thead th {\n",
       "        text-align: right;\n",
       "    }\n",
       "</style>\n",
       "<table border=\"1\" class=\"dataframe\">\n",
       "  <thead>\n",
       "    <tr style=\"text-align: right;\">\n",
       "      <th></th>\n",
       "      <th>Isbn</th>\n",
       "      <th>Isbn 1</th>\n",
       "      <th>Book Title</th>\n",
       "      <th>Author</th>\n",
       "      <th>Publication (year)</th>\n",
       "      <th>Editeur</th>\n",
       "      <th>Number Of Pages</th>\n",
       "      <th>Rating</th>\n",
       "    </tr>\n",
       "  </thead>\n",
       "  <tbody>\n",
       "    <tr>\n",
       "      <th>0</th>\n",
       "      <td>9781455582341</td>\n",
       "      <td>1455582328</td>\n",
       "      <td>How Google Works</td>\n",
       "      <td>Eric Schmidt, Jonathan Rosenberg</td>\n",
       "      <td>2014</td>\n",
       "      <td>Grand Central Publishing</td>\n",
       "      <td>305</td>\n",
       "      <td>4.06</td>\n",
       "    </tr>\n",
       "  </tbody>\n",
       "</table>\n",
       "</div>"
      ],
      "text/plain": [
       "            Isbn      Isbn 1        Book Title  \\\n",
       "0  9781455582341  1455582328  How Google Works   \n",
       "\n",
       "                             Author  Publication (year)  \\\n",
       "0  Eric Schmidt, Jonathan Rosenberg                2014   \n",
       "\n",
       "                    Editeur  Number Of Pages  Rating  \n",
       "0  Grand Central Publishing              305    4.06  "
      ]
     },
     "execution_count": 1,
     "metadata": {},
     "output_type": "execute_result"
    }
   ],
   "source": [
    "clean_headers(df, case=\"title\")"
   ]
  },
  {
   "cell_type": "markdown",
   "metadata": {},
   "source": [
    "### lower"
   ]
  },
  {
   "cell_type": "code",
   "execution_count": 9,
   "metadata": {
    "execution": {
     "iopub.execute_input": "2021-05-20T05:22:02.163837Z",
     "iopub.status.busy": "2021-05-20T05:22:02.163229Z",
     "iopub.status.idle": "2021-05-20T05:22:02.166721Z",
     "shell.execute_reply": "2021-05-20T05:22:02.166171Z"
    }
   },
   "outputs": [
    {
     "name": "stdout",
     "output_type": "stream",
     "text": [
      "Column Headers Cleaning Report:\n",
      "\t8 values cleaned (100.0%)\n"
     ]
    },
    {
     "data": {
      "text/html": [
       "<div>\n",
       "<style scoped>\n",
       "    .dataframe tbody tr th:only-of-type {\n",
       "        vertical-align: middle;\n",
       "    }\n",
       "\n",
       "    .dataframe tbody tr th {\n",
       "        vertical-align: top;\n",
       "    }\n",
       "\n",
       "    .dataframe thead th {\n",
       "        text-align: right;\n",
       "    }\n",
       "</style>\n",
       "<table border=\"1\" class=\"dataframe\">\n",
       "  <thead>\n",
       "    <tr style=\"text-align: right;\">\n",
       "      <th></th>\n",
       "      <th>isbn</th>\n",
       "      <th>isbn 1</th>\n",
       "      <th>book title</th>\n",
       "      <th>author</th>\n",
       "      <th>publication (year)</th>\n",
       "      <th>editeur</th>\n",
       "      <th>number of pages</th>\n",
       "      <th>rating</th>\n",
       "    </tr>\n",
       "  </thead>\n",
       "  <tbody>\n",
       "    <tr>\n",
       "      <th>0</th>\n",
       "      <td>9781455582341</td>\n",
       "      <td>1455582328</td>\n",
       "      <td>How Google Works</td>\n",
       "      <td>Eric Schmidt, Jonathan Rosenberg</td>\n",
       "      <td>2014</td>\n",
       "      <td>Grand Central Publishing</td>\n",
       "      <td>305</td>\n",
       "      <td>4.06</td>\n",
       "    </tr>\n",
       "  </tbody>\n",
       "</table>\n",
       "</div>"
      ],
      "text/plain": [
       "            isbn      isbn 1        book title  \\\n",
       "0  9781455582341  1455582328  How Google Works   \n",
       "\n",
       "                             author  publication (year)  \\\n",
       "0  Eric Schmidt, Jonathan Rosenberg                2014   \n",
       "\n",
       "                    editeur  number of pages  rating  \n",
       "0  Grand Central Publishing              305    4.06  "
      ]
     },
     "execution_count": 1,
     "metadata": {},
     "output_type": "execute_result"
    }
   ],
   "source": [
    "clean_headers(df, case=\"lower\")"
   ]
  },
  {
   "cell_type": "markdown",
   "metadata": {},
   "source": [
    "### upper"
   ]
  },
  {
   "cell_type": "code",
   "execution_count": 10,
   "metadata": {
    "execution": {
     "iopub.execute_input": "2021-05-20T05:22:02.177348Z",
     "iopub.status.busy": "2021-05-20T05:22:02.176736Z",
     "iopub.status.idle": "2021-05-20T05:22:02.179839Z",
     "shell.execute_reply": "2021-05-20T05:22:02.180349Z"
    }
   },
   "outputs": [
    {
     "name": "stdout",
     "output_type": "stream",
     "text": [
      "Column Headers Cleaning Report:\n",
      "\t7 values cleaned (87.5%)\n"
     ]
    },
    {
     "data": {
      "text/html": [
       "<div>\n",
       "<style scoped>\n",
       "    .dataframe tbody tr th:only-of-type {\n",
       "        vertical-align: middle;\n",
       "    }\n",
       "\n",
       "    .dataframe tbody tr th {\n",
       "        vertical-align: top;\n",
       "    }\n",
       "\n",
       "    .dataframe thead th {\n",
       "        text-align: right;\n",
       "    }\n",
       "</style>\n",
       "<table border=\"1\" class=\"dataframe\">\n",
       "  <thead>\n",
       "    <tr style=\"text-align: right;\">\n",
       "      <th></th>\n",
       "      <th>ISBN</th>\n",
       "      <th>ISBN 1</th>\n",
       "      <th>BOOK TITLE</th>\n",
       "      <th>AUTHOR</th>\n",
       "      <th>PUBLICATION (YEAR)</th>\n",
       "      <th>EDITEUR</th>\n",
       "      <th>NUMBER OF PAGES</th>\n",
       "      <th>RATING</th>\n",
       "    </tr>\n",
       "  </thead>\n",
       "  <tbody>\n",
       "    <tr>\n",
       "      <th>0</th>\n",
       "      <td>9781455582341</td>\n",
       "      <td>1455582328</td>\n",
       "      <td>How Google Works</td>\n",
       "      <td>Eric Schmidt, Jonathan Rosenberg</td>\n",
       "      <td>2014</td>\n",
       "      <td>Grand Central Publishing</td>\n",
       "      <td>305</td>\n",
       "      <td>4.06</td>\n",
       "    </tr>\n",
       "  </tbody>\n",
       "</table>\n",
       "</div>"
      ],
      "text/plain": [
       "            ISBN      ISBN 1        BOOK TITLE  \\\n",
       "0  9781455582341  1455582328  How Google Works   \n",
       "\n",
       "                             AUTHOR  PUBLICATION (YEAR)  \\\n",
       "0  Eric Schmidt, Jonathan Rosenberg                2014   \n",
       "\n",
       "                    EDITEUR  NUMBER OF PAGES  RATING  \n",
       "0  Grand Central Publishing              305    4.06  "
      ]
     },
     "execution_count": 1,
     "metadata": {},
     "output_type": "execute_result"
    }
   ],
   "source": [
    "clean_headers(df, case=\"upper\")"
   ]
  },
  {
   "cell_type": "markdown",
   "metadata": {},
   "source": [
    "## 3. `replace` parameter\n",
    "\n",
    "The `replace` parameter takes in a dictionary of values in the column names to be replaced by new values."
   ]
  },
  {
   "cell_type": "code",
   "execution_count": 11,
   "metadata": {
    "execution": {
     "iopub.execute_input": "2021-05-20T05:22:02.191796Z",
     "iopub.status.busy": "2021-05-20T05:22:02.191180Z",
     "iopub.status.idle": "2021-05-20T05:22:02.194817Z",
     "shell.execute_reply": "2021-05-20T05:22:02.194262Z"
    }
   },
   "outputs": [
    {
     "name": "stdout",
     "output_type": "stream",
     "text": [
      "Column Headers Cleaning Report:\n",
      "\t8 values cleaned (100.0%)\n"
     ]
    },
    {
     "data": {
      "text/html": [
       "<div>\n",
       "<style scoped>\n",
       "    .dataframe tbody tr th:only-of-type {\n",
       "        vertical-align: middle;\n",
       "    }\n",
       "\n",
       "    .dataframe tbody tr th {\n",
       "        vertical-align: top;\n",
       "    }\n",
       "\n",
       "    .dataframe thead th {\n",
       "        text-align: right;\n",
       "    }\n",
       "</style>\n",
       "<table border=\"1\" class=\"dataframe\">\n",
       "  <thead>\n",
       "    <tr style=\"text-align: right;\">\n",
       "      <th></th>\n",
       "      <th>isbn</th>\n",
       "      <th>isbn_1</th>\n",
       "      <th>book_title</th>\n",
       "      <th>author</th>\n",
       "      <th>publication_year</th>\n",
       "      <th>publisher</th>\n",
       "      <th>number_of_pages</th>\n",
       "      <th>star_rating</th>\n",
       "    </tr>\n",
       "  </thead>\n",
       "  <tbody>\n",
       "    <tr>\n",
       "      <th>0</th>\n",
       "      <td>9781455582341</td>\n",
       "      <td>1455582328</td>\n",
       "      <td>How Google Works</td>\n",
       "      <td>Eric Schmidt, Jonathan Rosenberg</td>\n",
       "      <td>2014</td>\n",
       "      <td>Grand Central Publishing</td>\n",
       "      <td>305</td>\n",
       "      <td>4.06</td>\n",
       "    </tr>\n",
       "  </tbody>\n",
       "</table>\n",
       "</div>"
      ],
      "text/plain": [
       "            isbn      isbn_1        book_title  \\\n",
       "0  9781455582341  1455582328  How Google Works   \n",
       "\n",
       "                             author  publication_year  \\\n",
       "0  Eric Schmidt, Jonathan Rosenberg              2014   \n",
       "\n",
       "                  publisher  number_of_pages  star_rating  \n",
       "0  Grand Central Publishing              305         4.06  "
      ]
     },
     "execution_count": 1,
     "metadata": {},
     "output_type": "execute_result"
    }
   ],
   "source": [
    "clean_headers(df, replace={\"éditeur\": \"publisher\", \"★\": \"star\"})"
   ]
  },
  {
   "cell_type": "markdown",
   "metadata": {},
   "source": [
    "## 4. `remove_accents` parameter\n",
    "\n",
    "By default, the `remove_accents` parameter is set to True (strip accents and symbols from the column names). If set to False, any accents or symbols are kept in."
   ]
  },
  {
   "cell_type": "code",
   "execution_count": 12,
   "metadata": {
    "execution": {
     "iopub.execute_input": "2021-05-20T05:22:02.199902Z",
     "iopub.status.busy": "2021-05-20T05:22:02.197753Z",
     "iopub.status.idle": "2021-05-20T05:22:02.204889Z",
     "shell.execute_reply": "2021-05-20T05:22:02.205399Z"
    }
   },
   "outputs": [
    {
     "name": "stdout",
     "output_type": "stream",
     "text": [
      "Column Headers Cleaning Report:\n",
      "\t7 values cleaned (87.5%)\n"
     ]
    },
    {
     "data": {
      "text/html": [
       "<div>\n",
       "<style scoped>\n",
       "    .dataframe tbody tr th:only-of-type {\n",
       "        vertical-align: middle;\n",
       "    }\n",
       "\n",
       "    .dataframe tbody tr th {\n",
       "        vertical-align: top;\n",
       "    }\n",
       "\n",
       "    .dataframe thead th {\n",
       "        text-align: right;\n",
       "    }\n",
       "</style>\n",
       "<table border=\"1\" class=\"dataframe\">\n",
       "  <thead>\n",
       "    <tr style=\"text-align: right;\">\n",
       "      <th></th>\n",
       "      <th>isbn</th>\n",
       "      <th>isbn_1</th>\n",
       "      <th>book_title</th>\n",
       "      <th>author</th>\n",
       "      <th>publication_year</th>\n",
       "      <th>éditeur</th>\n",
       "      <th>number_of_pages</th>\n",
       "      <th>★_rating</th>\n",
       "    </tr>\n",
       "  </thead>\n",
       "  <tbody>\n",
       "    <tr>\n",
       "      <th>0</th>\n",
       "      <td>9781455582341</td>\n",
       "      <td>1455582328</td>\n",
       "      <td>How Google Works</td>\n",
       "      <td>Eric Schmidt, Jonathan Rosenberg</td>\n",
       "      <td>2014</td>\n",
       "      <td>Grand Central Publishing</td>\n",
       "      <td>305</td>\n",
       "      <td>4.06</td>\n",
       "    </tr>\n",
       "  </tbody>\n",
       "</table>\n",
       "</div>"
      ],
      "text/plain": [
       "            isbn      isbn_1        book_title  \\\n",
       "0  9781455582341  1455582328  How Google Works   \n",
       "\n",
       "                             author  publication_year  \\\n",
       "0  Eric Schmidt, Jonathan Rosenberg              2014   \n",
       "\n",
       "                    éditeur  number_of_pages  ★_rating  \n",
       "0  Grand Central Publishing              305      4.06  "
      ]
     },
     "execution_count": 1,
     "metadata": {},
     "output_type": "execute_result"
    }
   ],
   "source": [
    "clean_headers(df, remove_accents=False)"
   ]
  },
  {
   "cell_type": "markdown",
   "metadata": {},
   "source": [
    "## 5. Null headers\n",
    "\n",
    "Null column headers in the DataFrame are replaced with the default value \"header\". As with other column names, duplicated values are renamed with appended numbers. Null header values include `np.nan`, `None` and the empty string."
   ]
  },
  {
   "cell_type": "code",
   "execution_count": 13,
   "metadata": {
    "execution": {
     "iopub.execute_input": "2021-05-20T05:22:02.212335Z",
     "iopub.status.busy": "2021-05-20T05:22:02.211716Z",
     "iopub.status.idle": "2021-05-20T05:22:02.214653Z",
     "shell.execute_reply": "2021-05-20T05:22:02.214105Z"
    }
   },
   "outputs": [
    {
     "data": {
      "text/html": [
       "<div>\n",
       "<style scoped>\n",
       "    .dataframe tbody tr th:only-of-type {\n",
       "        vertical-align: middle;\n",
       "    }\n",
       "\n",
       "    .dataframe tbody tr th {\n",
       "        vertical-align: top;\n",
       "    }\n",
       "\n",
       "    .dataframe thead th {\n",
       "        text-align: right;\n",
       "    }\n",
       "</style>\n",
       "<table border=\"1\" class=\"dataframe\">\n",
       "  <thead>\n",
       "    <tr style=\"text-align: right;\">\n",
       "      <th></th>\n",
       "      <th></th>\n",
       "      <th>NaN</th>\n",
       "      <th>NaN</th>\n",
       "      <th>N/A</th>\n",
       "    </tr>\n",
       "  </thead>\n",
       "  <tbody>\n",
       "    <tr>\n",
       "      <th>0</th>\n",
       "      <td>9781455582341</td>\n",
       "      <td>How Google Works</td>\n",
       "      <td>Eric Schmidt, Jonathan Rosenberg</td>\n",
       "      <td>2014</td>\n",
       "    </tr>\n",
       "  </tbody>\n",
       "</table>\n",
       "</div>"
      ],
      "text/plain": [
       "                               NaN                               NaN   N/A\n",
       "0  9781455582341  How Google Works  Eric Schmidt, Jonathan Rosenberg  2014"
      ]
     },
     "execution_count": 1,
     "metadata": {},
     "output_type": "execute_result"
    }
   ],
   "source": [
    "df = pd.DataFrame({\"\": [9781455582341],\n",
    "                   np.nan: [\"How Google Works\"],\n",
    "                   None: [\"Eric Schmidt, Jonathan Rosenberg\"],\n",
    "                   \"N/A\": [2014],\n",
    "                  })\n",
    "df"
   ]
  },
  {
   "cell_type": "code",
   "execution_count": 14,
   "metadata": {
    "execution": {
     "iopub.execute_input": "2021-05-20T05:22:02.220834Z",
     "iopub.status.busy": "2021-05-20T05:22:02.220208Z",
     "iopub.status.idle": "2021-05-20T05:22:02.223142Z",
     "shell.execute_reply": "2021-05-20T05:22:02.223650Z"
    }
   },
   "outputs": [
    {
     "name": "stdout",
     "output_type": "stream",
     "text": [
      "Column Headers Cleaning Report:\n",
      "\t4 values cleaned (100.0%)\n"
     ]
    },
    {
     "data": {
      "text/html": [
       "<div>\n",
       "<style scoped>\n",
       "    .dataframe tbody tr th:only-of-type {\n",
       "        vertical-align: middle;\n",
       "    }\n",
       "\n",
       "    .dataframe tbody tr th {\n",
       "        vertical-align: top;\n",
       "    }\n",
       "\n",
       "    .dataframe thead th {\n",
       "        text-align: right;\n",
       "    }\n",
       "</style>\n",
       "<table border=\"1\" class=\"dataframe\">\n",
       "  <thead>\n",
       "    <tr style=\"text-align: right;\">\n",
       "      <th></th>\n",
       "      <th>header</th>\n",
       "      <th>header_1</th>\n",
       "      <th>header_2</th>\n",
       "      <th>n_a</th>\n",
       "    </tr>\n",
       "  </thead>\n",
       "  <tbody>\n",
       "    <tr>\n",
       "      <th>0</th>\n",
       "      <td>9781455582341</td>\n",
       "      <td>How Google Works</td>\n",
       "      <td>Eric Schmidt, Jonathan Rosenberg</td>\n",
       "      <td>2014</td>\n",
       "    </tr>\n",
       "  </tbody>\n",
       "</table>\n",
       "</div>"
      ],
      "text/plain": [
       "          header          header_1                          header_2   n_a\n",
       "0  9781455582341  How Google Works  Eric Schmidt, Jonathan Rosenberg  2014"
      ]
     },
     "execution_count": 1,
     "metadata": {},
     "output_type": "execute_result"
    }
   ],
   "source": [
    "clean_headers(df)"
   ]
  }
 ],
 "metadata": {
  "celltoolbar": "Raw Cell Format",
  "kernelspec": {
   "display_name": "Python 3",
   "language": "python",
   "name": "python3"
  },
  "language_info": {
   "codemirror_mode": {
    "name": "ipython",
    "version": 3
   },
   "file_extension": ".py",
   "mimetype": "text/x-python",
   "name": "python",
   "nbconvert_exporter": "python",
   "pygments_lexer": "ipython3",
   "version": "3.7.9"
  }
 },
 "nbformat": 4,
 "nbformat_minor": 4
}
