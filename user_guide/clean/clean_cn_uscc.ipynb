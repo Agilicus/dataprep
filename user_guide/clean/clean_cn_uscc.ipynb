{
 "cells": [
  {
   "cell_type": "raw",
   "id": "funded-tracker",
   "metadata": {},
   "source": [
    ".. _uscc_userguide:\n",
    "\n",
    "USCC Strings\n",
    "============"
   ]
  },
  {
   "cell_type": "raw",
   "id": "natural-suite",
   "metadata": {},
   "source": [
    "Introduction\n",
    "------------\n",
    "\n",
    "The function :func:`clean_cn_uscc() <dataprep.clean.clean_cn_uscc.clean_cn_uscc>` cleans a column containing Chinese Unified Social Credit Code (USCC) strings, and standardizes them in a given format. The function :func:`validate_cn_uscc() <dataprep.clean.clean_cn_uscc.validate_cn_uscc>` validates either a single USCC strings, a column of USCC strings or a DataFrame of USCC strings, returning `True` if the value is valid, and `False` otherwise."
   ]
  },
  {
   "cell_type": "markdown",
   "id": "physical-occupation",
   "metadata": {},
   "source": [
    "USCC strings can be converted to the following formats via the `output_format` parameter:\n",
    "\n",
    "* `compact`: only number strings without any seperators or whitespace, like \"91110000600037341L\"\n",
    "* `standard`: USCC strings with proper whitespace in the proper places. Note that in the case of USCC, the compact format is the same as the standard one.\n",
    "\n",
    "Invalid parsing is handled with the `errors` parameter:\n",
    "\n",
    "* `coerce` (default): invalid parsing will be set to NaN\n",
    "* `ignore`: invalid parsing will return the input\n",
    "* `raise`: invalid parsing will raise an exception\n",
    "\n",
    "The following sections demonstrate the functionality of `clean_cn_uscc()` and `validate_cn_uscc()`. "
   ]
  },
  {
   "cell_type": "markdown",
   "id": "interim-ferry",
   "metadata": {},
   "source": [
    "### An example dataset containing USCC strings"
   ]
  },
  {
   "cell_type": "code",
   "execution_count": 1,
   "id": "dying-astrology",
   "metadata": {
    "execution": {
     "iopub.execute_input": "2021-10-26T22:58:25.679514Z",
     "iopub.status.busy": "2021-10-26T22:58:25.679026Z",
     "iopub.status.idle": "2021-10-26T22:58:25.896913Z",
     "shell.execute_reply": "2021-10-26T22:58:25.896434Z"
    }
   },
   "outputs": [
    {
     "data": {
      "text/html": [
       "<div>\n",
       "<style scoped>\n",
       "    .dataframe tbody tr th:only-of-type {\n",
       "        vertical-align: middle;\n",
       "    }\n",
       "\n",
       "    .dataframe tbody tr th {\n",
       "        vertical-align: top;\n",
       "    }\n",
       "\n",
       "    .dataframe thead th {\n",
       "        text-align: right;\n",
       "    }\n",
       "</style>\n",
       "<table border=\"1\" class=\"dataframe\">\n",
       "  <thead>\n",
       "    <tr style=\"text-align: right;\">\n",
       "      <th></th>\n",
       "      <th>uscc</th>\n",
       "      <th>address</th>\n",
       "    </tr>\n",
       "  </thead>\n",
       "  <tbody>\n",
       "    <tr>\n",
       "      <th>0</th>\n",
       "      <td>9 1 110000 600037341L</td>\n",
       "      <td>123 Pine Ave.</td>\n",
       "    </tr>\n",
       "    <tr>\n",
       "      <th>1</th>\n",
       "      <td>A1110000600037341L</td>\n",
       "      <td>main st</td>\n",
       "    </tr>\n",
       "    <tr>\n",
       "      <th>2</th>\n",
       "      <td>51824753556</td>\n",
       "      <td>1234 west main heights 57033</td>\n",
       "    </tr>\n",
       "    <tr>\n",
       "      <th>3</th>\n",
       "      <td>51 824 753 556</td>\n",
       "      <td>apt 1 789 s maple rd manhattan</td>\n",
       "    </tr>\n",
       "    <tr>\n",
       "      <th>4</th>\n",
       "      <td>hello</td>\n",
       "      <td>robie house, 789 north main street</td>\n",
       "    </tr>\n",
       "    <tr>\n",
       "      <th>5</th>\n",
       "      <td>NaN</td>\n",
       "      <td>(staples center) 1111 S Figueroa St, Los Angeles</td>\n",
       "    </tr>\n",
       "    <tr>\n",
       "      <th>6</th>\n",
       "      <td>NULL</td>\n",
       "      <td>hello</td>\n",
       "    </tr>\n",
       "  </tbody>\n",
       "</table>\n",
       "</div>"
      ],
      "text/plain": [
       "                    uscc                                           address\n",
       "0  9 1 110000 600037341L                                     123 Pine Ave.\n",
       "1     A1110000600037341L                                           main st\n",
       "2            51824753556                      1234 west main heights 57033\n",
       "3         51 824 753 556                    apt 1 789 s maple rd manhattan\n",
       "4                  hello                robie house, 789 north main street\n",
       "5                    NaN  (staples center) 1111 S Figueroa St, Los Angeles\n",
       "6                   NULL                                             hello"
      ]
     },
     "execution_count": 1,
     "metadata": {},
     "output_type": "execute_result"
    }
   ],
   "source": [
    "import pandas as pd\n",
    "import numpy as np\n",
    "df = pd.DataFrame(\n",
    "    {\n",
    "        \"uscc\": [\n",
    "            \"9 1 110000 600037341L\",\n",
    "            \"A1110000600037341L\",\n",
    "            \"51824753556\",\n",
    "            \"51 824 753 556\",\n",
    "            \"hello\",\n",
    "            np.nan,\n",
    "            \"NULL\"\n",
    "        ], \n",
    "        \"address\": [\n",
    "            \"123 Pine Ave.\",\n",
    "            \"main st\",\n",
    "            \"1234 west main heights 57033\",\n",
    "            \"apt 1 789 s maple rd manhattan\",\n",
    "            \"robie house, 789 north main street\",\n",
    "            \"(staples center) 1111 S Figueroa St, Los Angeles\",\n",
    "            \"hello\",\n",
    "        ]\n",
    "    }\n",
    ")\n",
    "df"
   ]
  },
  {
   "cell_type": "markdown",
   "id": "exclusive-angle",
   "metadata": {},
   "source": [
    "## 1. Default `clean_cn_uscc`\n",
    "\n",
    "By default, `clean_cn_uscc` will clean uscc strings and output them in the standard format with proper separators."
   ]
  },
  {
   "cell_type": "code",
   "execution_count": 2,
   "id": "monetary-senior",
   "metadata": {
    "execution": {
     "iopub.execute_input": "2021-10-26T22:58:25.900356Z",
     "iopub.status.busy": "2021-10-26T22:58:25.899915Z",
     "iopub.status.idle": "2021-10-26T22:58:26.435902Z",
     "shell.execute_reply": "2021-10-26T22:58:26.436267Z"
    }
   },
   "outputs": [
    {
     "data": {
      "text/html": [
       "<div>\n",
       "<style scoped>\n",
       "    .dataframe tbody tr th:only-of-type {\n",
       "        vertical-align: middle;\n",
       "    }\n",
       "\n",
       "    .dataframe tbody tr th {\n",
       "        vertical-align: top;\n",
       "    }\n",
       "\n",
       "    .dataframe thead th {\n",
       "        text-align: right;\n",
       "    }\n",
       "</style>\n",
       "<table border=\"1\" class=\"dataframe\">\n",
       "  <thead>\n",
       "    <tr style=\"text-align: right;\">\n",
       "      <th></th>\n",
       "      <th>uscc</th>\n",
       "      <th>address</th>\n",
       "      <th>uscc_clean</th>\n",
       "    </tr>\n",
       "  </thead>\n",
       "  <tbody>\n",
       "    <tr>\n",
       "      <th>0</th>\n",
       "      <td>9 1 110000 600037341L</td>\n",
       "      <td>123 Pine Ave.</td>\n",
       "      <td>91110000600037341L</td>\n",
       "    </tr>\n",
       "    <tr>\n",
       "      <th>1</th>\n",
       "      <td>A1110000600037341L</td>\n",
       "      <td>main st</td>\n",
       "      <td>NaN</td>\n",
       "    </tr>\n",
       "    <tr>\n",
       "      <th>2</th>\n",
       "      <td>51824753556</td>\n",
       "      <td>1234 west main heights 57033</td>\n",
       "      <td>NaN</td>\n",
       "    </tr>\n",
       "    <tr>\n",
       "      <th>3</th>\n",
       "      <td>51 824 753 556</td>\n",
       "      <td>apt 1 789 s maple rd manhattan</td>\n",
       "      <td>NaN</td>\n",
       "    </tr>\n",
       "    <tr>\n",
       "      <th>4</th>\n",
       "      <td>hello</td>\n",
       "      <td>robie house, 789 north main street</td>\n",
       "      <td>NaN</td>\n",
       "    </tr>\n",
       "    <tr>\n",
       "      <th>5</th>\n",
       "      <td>NaN</td>\n",
       "      <td>(staples center) 1111 S Figueroa St, Los Angeles</td>\n",
       "      <td>NaN</td>\n",
       "    </tr>\n",
       "    <tr>\n",
       "      <th>6</th>\n",
       "      <td>NULL</td>\n",
       "      <td>hello</td>\n",
       "      <td>NaN</td>\n",
       "    </tr>\n",
       "  </tbody>\n",
       "</table>\n",
       "</div>"
      ],
      "text/plain": [
       "                    uscc                                           address  \\\n",
       "0  9 1 110000 600037341L                                     123 Pine Ave.   \n",
       "1     A1110000600037341L                                           main st   \n",
       "2            51824753556                      1234 west main heights 57033   \n",
       "3         51 824 753 556                    apt 1 789 s maple rd manhattan   \n",
       "4                  hello                robie house, 789 north main street   \n",
       "5                    NaN  (staples center) 1111 S Figueroa St, Los Angeles   \n",
       "6                   NULL                                             hello   \n",
       "\n",
       "           uscc_clean  \n",
       "0  91110000600037341L  \n",
       "1                 NaN  \n",
       "2                 NaN  \n",
       "3                 NaN  \n",
       "4                 NaN  \n",
       "5                 NaN  \n",
       "6                 NaN  "
      ]
     },
     "execution_count": 1,
     "metadata": {},
     "output_type": "execute_result"
    }
   ],
   "source": [
    "from dataprep.clean import clean_cn_uscc\n",
    "clean_cn_uscc(df, column = \"uscc\")"
   ]
  },
  {
   "cell_type": "markdown",
   "id": "faced-outreach",
   "metadata": {},
   "source": [
    "## 2. Output formats"
   ]
  },
  {
   "cell_type": "markdown",
   "id": "particular-worst",
   "metadata": {},
   "source": [
    "This section demonstrates the output parameter."
   ]
  },
  {
   "cell_type": "markdown",
   "id": "cardiovascular-convenience",
   "metadata": {},
   "source": [
    "### `standard` (default)"
   ]
  },
  {
   "cell_type": "code",
   "execution_count": 3,
   "id": "collectible-orlando",
   "metadata": {
    "execution": {
     "iopub.execute_input": "2021-10-26T22:58:26.455880Z",
     "iopub.status.busy": "2021-10-26T22:58:26.452575Z",
     "iopub.status.idle": "2021-10-26T22:58:26.462673Z",
     "shell.execute_reply": "2021-10-26T22:58:26.462276Z"
    }
   },
   "outputs": [
    {
     "data": {
      "text/html": [
       "<div>\n",
       "<style scoped>\n",
       "    .dataframe tbody tr th:only-of-type {\n",
       "        vertical-align: middle;\n",
       "    }\n",
       "\n",
       "    .dataframe tbody tr th {\n",
       "        vertical-align: top;\n",
       "    }\n",
       "\n",
       "    .dataframe thead th {\n",
       "        text-align: right;\n",
       "    }\n",
       "</style>\n",
       "<table border=\"1\" class=\"dataframe\">\n",
       "  <thead>\n",
       "    <tr style=\"text-align: right;\">\n",
       "      <th></th>\n",
       "      <th>uscc</th>\n",
       "      <th>address</th>\n",
       "      <th>uscc_clean</th>\n",
       "    </tr>\n",
       "  </thead>\n",
       "  <tbody>\n",
       "    <tr>\n",
       "      <th>0</th>\n",
       "      <td>9 1 110000 600037341L</td>\n",
       "      <td>123 Pine Ave.</td>\n",
       "      <td>91110000600037341L</td>\n",
       "    </tr>\n",
       "    <tr>\n",
       "      <th>1</th>\n",
       "      <td>A1110000600037341L</td>\n",
       "      <td>main st</td>\n",
       "      <td>NaN</td>\n",
       "    </tr>\n",
       "    <tr>\n",
       "      <th>2</th>\n",
       "      <td>51824753556</td>\n",
       "      <td>1234 west main heights 57033</td>\n",
       "      <td>NaN</td>\n",
       "    </tr>\n",
       "    <tr>\n",
       "      <th>3</th>\n",
       "      <td>51 824 753 556</td>\n",
       "      <td>apt 1 789 s maple rd manhattan</td>\n",
       "      <td>NaN</td>\n",
       "    </tr>\n",
       "    <tr>\n",
       "      <th>4</th>\n",
       "      <td>hello</td>\n",
       "      <td>robie house, 789 north main street</td>\n",
       "      <td>NaN</td>\n",
       "    </tr>\n",
       "    <tr>\n",
       "      <th>5</th>\n",
       "      <td>NaN</td>\n",
       "      <td>(staples center) 1111 S Figueroa St, Los Angeles</td>\n",
       "      <td>NaN</td>\n",
       "    </tr>\n",
       "    <tr>\n",
       "      <th>6</th>\n",
       "      <td>NULL</td>\n",
       "      <td>hello</td>\n",
       "      <td>NaN</td>\n",
       "    </tr>\n",
       "  </tbody>\n",
       "</table>\n",
       "</div>"
      ],
      "text/plain": [
       "                    uscc                                           address  \\\n",
       "0  9 1 110000 600037341L                                     123 Pine Ave.   \n",
       "1     A1110000600037341L                                           main st   \n",
       "2            51824753556                      1234 west main heights 57033   \n",
       "3         51 824 753 556                    apt 1 789 s maple rd manhattan   \n",
       "4                  hello                robie house, 789 north main street   \n",
       "5                    NaN  (staples center) 1111 S Figueroa St, Los Angeles   \n",
       "6                   NULL                                             hello   \n",
       "\n",
       "           uscc_clean  \n",
       "0  91110000600037341L  \n",
       "1                 NaN  \n",
       "2                 NaN  \n",
       "3                 NaN  \n",
       "4                 NaN  \n",
       "5                 NaN  \n",
       "6                 NaN  "
      ]
     },
     "execution_count": 1,
     "metadata": {},
     "output_type": "execute_result"
    }
   ],
   "source": [
    "clean_cn_uscc(df, column = \"uscc\", output_format=\"standard\")"
   ]
  },
  {
   "cell_type": "markdown",
   "id": "thirty-payroll",
   "metadata": {},
   "source": [
    "### `compact`"
   ]
  },
  {
   "cell_type": "code",
   "execution_count": 4,
   "id": "roman-probability",
   "metadata": {
    "execution": {
     "iopub.execute_input": "2021-10-26T22:58:26.478733Z",
     "iopub.status.busy": "2021-10-26T22:58:26.478268Z",
     "iopub.status.idle": "2021-10-26T22:58:26.488899Z",
     "shell.execute_reply": "2021-10-26T22:58:26.489246Z"
    }
   },
   "outputs": [
    {
     "data": {
      "text/html": [
       "<div>\n",
       "<style scoped>\n",
       "    .dataframe tbody tr th:only-of-type {\n",
       "        vertical-align: middle;\n",
       "    }\n",
       "\n",
       "    .dataframe tbody tr th {\n",
       "        vertical-align: top;\n",
       "    }\n",
       "\n",
       "    .dataframe thead th {\n",
       "        text-align: right;\n",
       "    }\n",
       "</style>\n",
       "<table border=\"1\" class=\"dataframe\">\n",
       "  <thead>\n",
       "    <tr style=\"text-align: right;\">\n",
       "      <th></th>\n",
       "      <th>uscc</th>\n",
       "      <th>address</th>\n",
       "      <th>uscc_clean</th>\n",
       "    </tr>\n",
       "  </thead>\n",
       "  <tbody>\n",
       "    <tr>\n",
       "      <th>0</th>\n",
       "      <td>9 1 110000 600037341L</td>\n",
       "      <td>123 Pine Ave.</td>\n",
       "      <td>91110000600037341L</td>\n",
       "    </tr>\n",
       "    <tr>\n",
       "      <th>1</th>\n",
       "      <td>A1110000600037341L</td>\n",
       "      <td>main st</td>\n",
       "      <td>NaN</td>\n",
       "    </tr>\n",
       "    <tr>\n",
       "      <th>2</th>\n",
       "      <td>51824753556</td>\n",
       "      <td>1234 west main heights 57033</td>\n",
       "      <td>NaN</td>\n",
       "    </tr>\n",
       "    <tr>\n",
       "      <th>3</th>\n",
       "      <td>51 824 753 556</td>\n",
       "      <td>apt 1 789 s maple rd manhattan</td>\n",
       "      <td>NaN</td>\n",
       "    </tr>\n",
       "    <tr>\n",
       "      <th>4</th>\n",
       "      <td>hello</td>\n",
       "      <td>robie house, 789 north main street</td>\n",
       "      <td>NaN</td>\n",
       "    </tr>\n",
       "    <tr>\n",
       "      <th>5</th>\n",
       "      <td>NaN</td>\n",
       "      <td>(staples center) 1111 S Figueroa St, Los Angeles</td>\n",
       "      <td>NaN</td>\n",
       "    </tr>\n",
       "    <tr>\n",
       "      <th>6</th>\n",
       "      <td>NULL</td>\n",
       "      <td>hello</td>\n",
       "      <td>NaN</td>\n",
       "    </tr>\n",
       "  </tbody>\n",
       "</table>\n",
       "</div>"
      ],
      "text/plain": [
       "                    uscc                                           address  \\\n",
       "0  9 1 110000 600037341L                                     123 Pine Ave.   \n",
       "1     A1110000600037341L                                           main st   \n",
       "2            51824753556                      1234 west main heights 57033   \n",
       "3         51 824 753 556                    apt 1 789 s maple rd manhattan   \n",
       "4                  hello                robie house, 789 north main street   \n",
       "5                    NaN  (staples center) 1111 S Figueroa St, Los Angeles   \n",
       "6                   NULL                                             hello   \n",
       "\n",
       "           uscc_clean  \n",
       "0  91110000600037341L  \n",
       "1                 NaN  \n",
       "2                 NaN  \n",
       "3                 NaN  \n",
       "4                 NaN  \n",
       "5                 NaN  \n",
       "6                 NaN  "
      ]
     },
     "execution_count": 1,
     "metadata": {},
     "output_type": "execute_result"
    }
   ],
   "source": [
    "clean_cn_uscc(df, column = \"uscc\", output_format=\"compact\")"
   ]
  },
  {
   "cell_type": "markdown",
   "id": "grand-crossing",
   "metadata": {},
   "source": [
    "## 3. `inplace` parameter\n",
    "\n",
    "This deletes the given column from the returned DataFrame. \n",
    "A new column containing cleaned USCC strings is added with a title in the format `\"{original title}_clean\"`."
   ]
  },
  {
   "cell_type": "code",
   "execution_count": 5,
   "id": "unavailable-valley",
   "metadata": {
    "execution": {
     "iopub.execute_input": "2021-10-26T22:58:26.516269Z",
     "iopub.status.busy": "2021-10-26T22:58:26.515775Z",
     "iopub.status.idle": "2021-10-26T22:58:26.524356Z",
     "shell.execute_reply": "2021-10-26T22:58:26.523966Z"
    }
   },
   "outputs": [
    {
     "data": {
      "text/html": [
       "<div>\n",
       "<style scoped>\n",
       "    .dataframe tbody tr th:only-of-type {\n",
       "        vertical-align: middle;\n",
       "    }\n",
       "\n",
       "    .dataframe tbody tr th {\n",
       "        vertical-align: top;\n",
       "    }\n",
       "\n",
       "    .dataframe thead th {\n",
       "        text-align: right;\n",
       "    }\n",
       "</style>\n",
       "<table border=\"1\" class=\"dataframe\">\n",
       "  <thead>\n",
       "    <tr style=\"text-align: right;\">\n",
       "      <th></th>\n",
       "      <th>uscc_clean</th>\n",
       "      <th>address</th>\n",
       "    </tr>\n",
       "  </thead>\n",
       "  <tbody>\n",
       "    <tr>\n",
       "      <th>0</th>\n",
       "      <td>91110000600037341L</td>\n",
       "      <td>123 Pine Ave.</td>\n",
       "    </tr>\n",
       "    <tr>\n",
       "      <th>1</th>\n",
       "      <td>NaN</td>\n",
       "      <td>main st</td>\n",
       "    </tr>\n",
       "    <tr>\n",
       "      <th>2</th>\n",
       "      <td>NaN</td>\n",
       "      <td>1234 west main heights 57033</td>\n",
       "    </tr>\n",
       "    <tr>\n",
       "      <th>3</th>\n",
       "      <td>NaN</td>\n",
       "      <td>apt 1 789 s maple rd manhattan</td>\n",
       "    </tr>\n",
       "    <tr>\n",
       "      <th>4</th>\n",
       "      <td>NaN</td>\n",
       "      <td>robie house, 789 north main street</td>\n",
       "    </tr>\n",
       "    <tr>\n",
       "      <th>5</th>\n",
       "      <td>NaN</td>\n",
       "      <td>(staples center) 1111 S Figueroa St, Los Angeles</td>\n",
       "    </tr>\n",
       "    <tr>\n",
       "      <th>6</th>\n",
       "      <td>NaN</td>\n",
       "      <td>hello</td>\n",
       "    </tr>\n",
       "  </tbody>\n",
       "</table>\n",
       "</div>"
      ],
      "text/plain": [
       "           uscc_clean                                           address\n",
       "0  91110000600037341L                                     123 Pine Ave.\n",
       "1                 NaN                                           main st\n",
       "2                 NaN                      1234 west main heights 57033\n",
       "3                 NaN                    apt 1 789 s maple rd manhattan\n",
       "4                 NaN                robie house, 789 north main street\n",
       "5                 NaN  (staples center) 1111 S Figueroa St, Los Angeles\n",
       "6                 NaN                                             hello"
      ]
     },
     "execution_count": 1,
     "metadata": {},
     "output_type": "execute_result"
    }
   ],
   "source": [
    "clean_cn_uscc(df, column=\"uscc\", inplace=True)"
   ]
  },
  {
   "cell_type": "markdown",
   "id": "inner-conclusion",
   "metadata": {},
   "source": [
    "## 4. `errors` parameter"
   ]
  },
  {
   "cell_type": "markdown",
   "id": "micro-profession",
   "metadata": {},
   "source": [
    "### `coerce` (default)"
   ]
  },
  {
   "cell_type": "code",
   "execution_count": 6,
   "id": "sophisticated-grammar",
   "metadata": {
    "execution": {
     "iopub.execute_input": "2021-10-26T22:58:26.543881Z",
     "iopub.status.busy": "2021-10-26T22:58:26.543436Z",
     "iopub.status.idle": "2021-10-26T22:58:26.552107Z",
     "shell.execute_reply": "2021-10-26T22:58:26.551710Z"
    }
   },
   "outputs": [
    {
     "data": {
      "text/html": [
       "<div>\n",
       "<style scoped>\n",
       "    .dataframe tbody tr th:only-of-type {\n",
       "        vertical-align: middle;\n",
       "    }\n",
       "\n",
       "    .dataframe tbody tr th {\n",
       "        vertical-align: top;\n",
       "    }\n",
       "\n",
       "    .dataframe thead th {\n",
       "        text-align: right;\n",
       "    }\n",
       "</style>\n",
       "<table border=\"1\" class=\"dataframe\">\n",
       "  <thead>\n",
       "    <tr style=\"text-align: right;\">\n",
       "      <th></th>\n",
       "      <th>uscc</th>\n",
       "      <th>address</th>\n",
       "      <th>uscc_clean</th>\n",
       "    </tr>\n",
       "  </thead>\n",
       "  <tbody>\n",
       "    <tr>\n",
       "      <th>0</th>\n",
       "      <td>9 1 110000 600037341L</td>\n",
       "      <td>123 Pine Ave.</td>\n",
       "      <td>91110000600037341L</td>\n",
       "    </tr>\n",
       "    <tr>\n",
       "      <th>1</th>\n",
       "      <td>A1110000600037341L</td>\n",
       "      <td>main st</td>\n",
       "      <td>NaN</td>\n",
       "    </tr>\n",
       "    <tr>\n",
       "      <th>2</th>\n",
       "      <td>51824753556</td>\n",
       "      <td>1234 west main heights 57033</td>\n",
       "      <td>NaN</td>\n",
       "    </tr>\n",
       "    <tr>\n",
       "      <th>3</th>\n",
       "      <td>51 824 753 556</td>\n",
       "      <td>apt 1 789 s maple rd manhattan</td>\n",
       "      <td>NaN</td>\n",
       "    </tr>\n",
       "    <tr>\n",
       "      <th>4</th>\n",
       "      <td>hello</td>\n",
       "      <td>robie house, 789 north main street</td>\n",
       "      <td>NaN</td>\n",
       "    </tr>\n",
       "    <tr>\n",
       "      <th>5</th>\n",
       "      <td>NaN</td>\n",
       "      <td>(staples center) 1111 S Figueroa St, Los Angeles</td>\n",
       "      <td>NaN</td>\n",
       "    </tr>\n",
       "    <tr>\n",
       "      <th>6</th>\n",
       "      <td>NULL</td>\n",
       "      <td>hello</td>\n",
       "      <td>NaN</td>\n",
       "    </tr>\n",
       "  </tbody>\n",
       "</table>\n",
       "</div>"
      ],
      "text/plain": [
       "                    uscc                                           address  \\\n",
       "0  9 1 110000 600037341L                                     123 Pine Ave.   \n",
       "1     A1110000600037341L                                           main st   \n",
       "2            51824753556                      1234 west main heights 57033   \n",
       "3         51 824 753 556                    apt 1 789 s maple rd manhattan   \n",
       "4                  hello                robie house, 789 north main street   \n",
       "5                    NaN  (staples center) 1111 S Figueroa St, Los Angeles   \n",
       "6                   NULL                                             hello   \n",
       "\n",
       "           uscc_clean  \n",
       "0  91110000600037341L  \n",
       "1                 NaN  \n",
       "2                 NaN  \n",
       "3                 NaN  \n",
       "4                 NaN  \n",
       "5                 NaN  \n",
       "6                 NaN  "
      ]
     },
     "execution_count": 1,
     "metadata": {},
     "output_type": "execute_result"
    }
   ],
   "source": [
    "clean_cn_uscc(df, \"uscc\", errors=\"coerce\")"
   ]
  },
  {
   "cell_type": "markdown",
   "id": "industrial-pharmacy",
   "metadata": {},
   "source": [
    "### `ignore`"
   ]
  },
  {
   "cell_type": "code",
   "execution_count": 7,
   "id": "foreign-tournament",
   "metadata": {
    "execution": {
     "iopub.execute_input": "2021-10-26T22:58:26.569233Z",
     "iopub.status.busy": "2021-10-26T22:58:26.567561Z",
     "iopub.status.idle": "2021-10-26T22:58:26.577638Z",
     "shell.execute_reply": "2021-10-26T22:58:26.577258Z"
    }
   },
   "outputs": [
    {
     "data": {
      "text/html": [
       "<div>\n",
       "<style scoped>\n",
       "    .dataframe tbody tr th:only-of-type {\n",
       "        vertical-align: middle;\n",
       "    }\n",
       "\n",
       "    .dataframe tbody tr th {\n",
       "        vertical-align: top;\n",
       "    }\n",
       "\n",
       "    .dataframe thead th {\n",
       "        text-align: right;\n",
       "    }\n",
       "</style>\n",
       "<table border=\"1\" class=\"dataframe\">\n",
       "  <thead>\n",
       "    <tr style=\"text-align: right;\">\n",
       "      <th></th>\n",
       "      <th>uscc</th>\n",
       "      <th>address</th>\n",
       "      <th>uscc_clean</th>\n",
       "    </tr>\n",
       "  </thead>\n",
       "  <tbody>\n",
       "    <tr>\n",
       "      <th>0</th>\n",
       "      <td>9 1 110000 600037341L</td>\n",
       "      <td>123 Pine Ave.</td>\n",
       "      <td>91110000600037341L</td>\n",
       "    </tr>\n",
       "    <tr>\n",
       "      <th>1</th>\n",
       "      <td>A1110000600037341L</td>\n",
       "      <td>main st</td>\n",
       "      <td>A1110000600037341L</td>\n",
       "    </tr>\n",
       "    <tr>\n",
       "      <th>2</th>\n",
       "      <td>51824753556</td>\n",
       "      <td>1234 west main heights 57033</td>\n",
       "      <td>51824753556</td>\n",
       "    </tr>\n",
       "    <tr>\n",
       "      <th>3</th>\n",
       "      <td>51 824 753 556</td>\n",
       "      <td>apt 1 789 s maple rd manhattan</td>\n",
       "      <td>51 824 753 556</td>\n",
       "    </tr>\n",
       "    <tr>\n",
       "      <th>4</th>\n",
       "      <td>hello</td>\n",
       "      <td>robie house, 789 north main street</td>\n",
       "      <td>hello</td>\n",
       "    </tr>\n",
       "    <tr>\n",
       "      <th>5</th>\n",
       "      <td>NaN</td>\n",
       "      <td>(staples center) 1111 S Figueroa St, Los Angeles</td>\n",
       "      <td>NaN</td>\n",
       "    </tr>\n",
       "    <tr>\n",
       "      <th>6</th>\n",
       "      <td>NULL</td>\n",
       "      <td>hello</td>\n",
       "      <td>NaN</td>\n",
       "    </tr>\n",
       "  </tbody>\n",
       "</table>\n",
       "</div>"
      ],
      "text/plain": [
       "                    uscc                                           address  \\\n",
       "0  9 1 110000 600037341L                                     123 Pine Ave.   \n",
       "1     A1110000600037341L                                           main st   \n",
       "2            51824753556                      1234 west main heights 57033   \n",
       "3         51 824 753 556                    apt 1 789 s maple rd manhattan   \n",
       "4                  hello                robie house, 789 north main street   \n",
       "5                    NaN  (staples center) 1111 S Figueroa St, Los Angeles   \n",
       "6                   NULL                                             hello   \n",
       "\n",
       "           uscc_clean  \n",
       "0  91110000600037341L  \n",
       "1  A1110000600037341L  \n",
       "2         51824753556  \n",
       "3      51 824 753 556  \n",
       "4               hello  \n",
       "5                 NaN  \n",
       "6                 NaN  "
      ]
     },
     "execution_count": 1,
     "metadata": {},
     "output_type": "execute_result"
    }
   ],
   "source": [
    "clean_cn_uscc(df, \"uscc\", errors=\"ignore\")"
   ]
  },
  {
   "cell_type": "markdown",
   "id": "heavy-secretary",
   "metadata": {},
   "source": [
    "## 4. `validate_cn_uscc()`"
   ]
  },
  {
   "cell_type": "markdown",
   "id": "neither-creek",
   "metadata": {},
   "source": [
    "`validate_cn_uscc()` returns `True` when the input is a valid USCC. Otherwise it returns `False`.\n",
    "\n",
    "The input of `validate_cn_uscc()` can be a string, a Pandas DataSeries, a Dask DataSeries, a Pandas DataFrame and a dask DataFrame.\n",
    "\n",
    "When the input is a string, a Pandas DataSeries or a Dask DataSeries, user doesn't need to specify a column name to be validated. \n",
    "\n",
    "When the input is a Pandas DataFrame or a dask DataFrame, user can both specify or not specify a column name to be validated. If user specify the column name, `validate_cn_uscc()` only returns the validation result for the specified column. If user doesn't specify the column name, `validate_cn_uscc()` returns the validation result for the whole DataFrame."
   ]
  },
  {
   "cell_type": "code",
   "execution_count": 8,
   "id": "undefined-regard",
   "metadata": {
    "execution": {
     "iopub.execute_input": "2021-10-26T22:58:26.583278Z",
     "iopub.status.busy": "2021-10-26T22:58:26.582515Z",
     "iopub.status.idle": "2021-10-26T22:58:26.584657Z",
     "shell.execute_reply": "2021-10-26T22:58:26.585008Z"
    }
   },
   "outputs": [
    {
     "name": "stdout",
     "output_type": "stream",
     "text": [
      "True\n",
      "False\n",
      "False\n",
      "False\n",
      "False\n",
      "False\n",
      "False\n"
     ]
    }
   ],
   "source": [
    "from dataprep.clean import validate_cn_uscc\n",
    "print(validate_cn_uscc(\"9 1 110000 600037341L\"))\n",
    "print(validate_cn_uscc(\"A1110000600037341L\"))\n",
    "print(validate_cn_uscc(\"51824753556\"))\n",
    "print(validate_cn_uscc(\"51 824 753 556\"))\n",
    "print(validate_cn_uscc(\"hello\"))\n",
    "print(validate_cn_uscc(np.nan))\n",
    "print(validate_cn_uscc(\"NULL\"))"
   ]
  },
  {
   "cell_type": "markdown",
   "id": "lesser-fairy",
   "metadata": {},
   "source": [
    "### Series"
   ]
  },
  {
   "cell_type": "code",
   "execution_count": 9,
   "id": "sealed-scheduling",
   "metadata": {
    "execution": {
     "iopub.execute_input": "2021-10-26T22:58:26.589649Z",
     "iopub.status.busy": "2021-10-26T22:58:26.589214Z",
     "iopub.status.idle": "2021-10-26T22:58:26.591287Z",
     "shell.execute_reply": "2021-10-26T22:58:26.591639Z"
    }
   },
   "outputs": [
    {
     "data": {
      "text/plain": [
       "0     True\n",
       "1    False\n",
       "2    False\n",
       "3    False\n",
       "4    False\n",
       "5    False\n",
       "6    False\n",
       "Name: uscc, dtype: bool"
      ]
     },
     "execution_count": 1,
     "metadata": {},
     "output_type": "execute_result"
    }
   ],
   "source": [
    "validate_cn_uscc(df[\"uscc\"])"
   ]
  },
  {
   "cell_type": "markdown",
   "id": "million-badge",
   "metadata": {},
   "source": [
    "### DataFrame + Specify Column"
   ]
  },
  {
   "cell_type": "code",
   "execution_count": 10,
   "id": "breeding-nightlife",
   "metadata": {
    "execution": {
     "iopub.execute_input": "2021-10-26T22:58:26.596103Z",
     "iopub.status.busy": "2021-10-26T22:58:26.595661Z",
     "iopub.status.idle": "2021-10-26T22:58:26.597661Z",
     "shell.execute_reply": "2021-10-26T22:58:26.598000Z"
    },
    "scrolled": true
   },
   "outputs": [
    {
     "data": {
      "text/plain": [
       "0     True\n",
       "1    False\n",
       "2    False\n",
       "3    False\n",
       "4    False\n",
       "5    False\n",
       "6    False\n",
       "Name: uscc, dtype: bool"
      ]
     },
     "execution_count": 1,
     "metadata": {},
     "output_type": "execute_result"
    }
   ],
   "source": [
    "validate_cn_uscc(df, column=\"uscc\")"
   ]
  },
  {
   "cell_type": "markdown",
   "id": "united-strand",
   "metadata": {},
   "source": [
    "### Only DataFrame"
   ]
  },
  {
   "cell_type": "code",
   "execution_count": 11,
   "id": "missing-entrance",
   "metadata": {
    "execution": {
     "iopub.execute_input": "2021-10-26T22:58:26.605400Z",
     "iopub.status.busy": "2021-10-26T22:58:26.600389Z",
     "iopub.status.idle": "2021-10-26T22:58:26.607473Z",
     "shell.execute_reply": "2021-10-26T22:58:26.607097Z"
    }
   },
   "outputs": [
    {
     "data": {
      "text/html": [
       "<div>\n",
       "<style scoped>\n",
       "    .dataframe tbody tr th:only-of-type {\n",
       "        vertical-align: middle;\n",
       "    }\n",
       "\n",
       "    .dataframe tbody tr th {\n",
       "        vertical-align: top;\n",
       "    }\n",
       "\n",
       "    .dataframe thead th {\n",
       "        text-align: right;\n",
       "    }\n",
       "</style>\n",
       "<table border=\"1\" class=\"dataframe\">\n",
       "  <thead>\n",
       "    <tr style=\"text-align: right;\">\n",
       "      <th></th>\n",
       "      <th>uscc</th>\n",
       "      <th>address</th>\n",
       "    </tr>\n",
       "  </thead>\n",
       "  <tbody>\n",
       "    <tr>\n",
       "      <th>0</th>\n",
       "      <td>True</td>\n",
       "      <td>False</td>\n",
       "    </tr>\n",
       "    <tr>\n",
       "      <th>1</th>\n",
       "      <td>False</td>\n",
       "      <td>False</td>\n",
       "    </tr>\n",
       "    <tr>\n",
       "      <th>2</th>\n",
       "      <td>False</td>\n",
       "      <td>False</td>\n",
       "    </tr>\n",
       "    <tr>\n",
       "      <th>3</th>\n",
       "      <td>False</td>\n",
       "      <td>False</td>\n",
       "    </tr>\n",
       "    <tr>\n",
       "      <th>4</th>\n",
       "      <td>False</td>\n",
       "      <td>False</td>\n",
       "    </tr>\n",
       "    <tr>\n",
       "      <th>5</th>\n",
       "      <td>False</td>\n",
       "      <td>False</td>\n",
       "    </tr>\n",
       "    <tr>\n",
       "      <th>6</th>\n",
       "      <td>False</td>\n",
       "      <td>False</td>\n",
       "    </tr>\n",
       "  </tbody>\n",
       "</table>\n",
       "</div>"
      ],
      "text/plain": [
       "    uscc  address\n",
       "0   True    False\n",
       "1  False    False\n",
       "2  False    False\n",
       "3  False    False\n",
       "4  False    False\n",
       "5  False    False\n",
       "6  False    False"
      ]
     },
     "execution_count": 1,
     "metadata": {},
     "output_type": "execute_result"
    }
   ],
   "source": [
    "validate_cn_uscc(df)"
   ]
  },
  {
   "cell_type": "code",
   "execution_count": null,
   "id": "mysterious-pressing",
   "metadata": {},
   "outputs": [],
   "source": []
  }
 ],
 "metadata": {
  "kernelspec": {
   "display_name": "Python 3",
   "language": "python",
   "name": "python3"
  },
  "language_info": {
   "codemirror_mode": {
    "name": "ipython",
    "version": 3
   },
   "file_extension": ".py",
   "mimetype": "text/x-python",
   "name": "python",
   "nbconvert_exporter": "python",
   "pygments_lexer": "ipython3",
   "version": "3.8.10"
  }
 },
 "nbformat": 4,
 "nbformat_minor": 5
}
