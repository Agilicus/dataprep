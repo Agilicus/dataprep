{
 "cells": [
  {
   "cell_type": "raw",
   "id": "constitutional-bunny",
   "metadata": {},
   "source": [
    ".. _vat_userguide:\n",
    "\n",
    "VAT Strings\n",
    "============"
   ]
  },
  {
   "cell_type": "raw",
   "id": "incorporated-poetry",
   "metadata": {},
   "source": [
    "Introduction\n",
    "------------\n",
    "\n",
    "The function :func:`clean_bg_vat() <dataprep.clean.clean_bg_vat.clean_bg_vat>` cleans a column containing Bulgarian VAT numbers (VAT) strings, and standardizes them in a given format. The function :func:`validate_bg_vat() <dataprep.clean.clean_bg_vat.validate_bg_vat>` validates either a single VAT strings, a column of VAT strings or a DataFrame of VAT strings, returning `True` if the value is valid, and `False` otherwise."
   ]
  },
  {
   "cell_type": "markdown",
   "id": "french-drive",
   "metadata": {},
   "source": [
    "VAT strings can be converted to the following formats via the `output_format` parameter:\n",
    "\n",
    "* `compact`: only number strings without any seperators or whitespace, like \"175074752\"\n",
    "* `standard`: VAT strings with proper whitespace in the proper places. Note that in the case of VAT, the compact format is the same as the standard one.\n",
    "\n",
    "Invalid parsing is handled with the `errors` parameter:\n",
    "\n",
    "* `coerce` (default): invalid parsing will be set to NaN\n",
    "* `ignore`: invalid parsing will return the input\n",
    "* `raise`: invalid parsing will raise an exception\n",
    "\n",
    "The following sections demonstrate the functionality of `clean_bg_vat()` and `validate_bg_vat()`. "
   ]
  },
  {
   "cell_type": "markdown",
   "id": "overall-phenomenon",
   "metadata": {},
   "source": [
    "### An example dataset containing VAT strings"
   ]
  },
  {
   "cell_type": "code",
   "execution_count": 1,
   "id": "textile-stuff",
   "metadata": {
    "execution": {
     "iopub.execute_input": "2021-10-26T22:57:40.029589Z",
     "iopub.status.busy": "2021-10-26T22:57:40.029128Z",
     "iopub.status.idle": "2021-10-26T22:57:40.244218Z",
     "shell.execute_reply": "2021-10-26T22:57:40.243740Z"
    }
   },
   "outputs": [
    {
     "data": {
      "text/html": [
       "<div>\n",
       "<style scoped>\n",
       "    .dataframe tbody tr th:only-of-type {\n",
       "        vertical-align: middle;\n",
       "    }\n",
       "\n",
       "    .dataframe tbody tr th {\n",
       "        vertical-align: top;\n",
       "    }\n",
       "\n",
       "    .dataframe thead th {\n",
       "        text-align: right;\n",
       "    }\n",
       "</style>\n",
       "<table border=\"1\" class=\"dataframe\">\n",
       "  <thead>\n",
       "    <tr style=\"text-align: right;\">\n",
       "      <th></th>\n",
       "      <th>vat</th>\n",
       "      <th>address</th>\n",
       "    </tr>\n",
       "  </thead>\n",
       "  <tbody>\n",
       "    <tr>\n",
       "      <th>0</th>\n",
       "      <td>BG 175 074 752</td>\n",
       "      <td>123 Pine Ave.</td>\n",
       "    </tr>\n",
       "    <tr>\n",
       "      <th>1</th>\n",
       "      <td>175074752</td>\n",
       "      <td>main st</td>\n",
       "    </tr>\n",
       "    <tr>\n",
       "      <th>2</th>\n",
       "      <td>175074751</td>\n",
       "      <td>1234 west main heights 57033</td>\n",
       "    </tr>\n",
       "    <tr>\n",
       "      <th>3</th>\n",
       "      <td>BE431150351</td>\n",
       "      <td>apt 1 789 s maple rd manhattan</td>\n",
       "    </tr>\n",
       "    <tr>\n",
       "      <th>4</th>\n",
       "      <td>002 724 334</td>\n",
       "      <td>robie house, 789 north main street</td>\n",
       "    </tr>\n",
       "    <tr>\n",
       "      <th>5</th>\n",
       "      <td>hello</td>\n",
       "      <td>1111 S Figueroa St, Los Angeles, CA 90015</td>\n",
       "    </tr>\n",
       "    <tr>\n",
       "      <th>6</th>\n",
       "      <td>NaN</td>\n",
       "      <td>(staples center) 1111 S Figueroa St, Los Angeles</td>\n",
       "    </tr>\n",
       "    <tr>\n",
       "      <th>7</th>\n",
       "      <td>NULL</td>\n",
       "      <td>hello</td>\n",
       "    </tr>\n",
       "  </tbody>\n",
       "</table>\n",
       "</div>"
      ],
      "text/plain": [
       "              vat                                           address\n",
       "0  BG 175 074 752                                     123 Pine Ave.\n",
       "1       175074752                                           main st\n",
       "2       175074751                      1234 west main heights 57033\n",
       "3     BE431150351                    apt 1 789 s maple rd manhattan\n",
       "4     002 724 334                robie house, 789 north main street\n",
       "5           hello         1111 S Figueroa St, Los Angeles, CA 90015\n",
       "6             NaN  (staples center) 1111 S Figueroa St, Los Angeles\n",
       "7            NULL                                             hello"
      ]
     },
     "execution_count": 1,
     "metadata": {},
     "output_type": "execute_result"
    }
   ],
   "source": [
    "import pandas as pd\n",
    "import numpy as np\n",
    "df = pd.DataFrame(\n",
    "    {\n",
    "        \"vat\": [\n",
    "            'BG 175 074 752',\n",
    "            '175074752',\n",
    "            '175074751',    # invalid check digit\n",
    "            'BE431150351',  # not Bulgarian VAT\n",
    "            \"002 724 334\",  # not VAT\n",
    "            \"hello\",\n",
    "            np.nan,\n",
    "            \"NULL\",\n",
    "        ], \n",
    "        \"address\": [\n",
    "            \"123 Pine Ave.\",\n",
    "            \"main st\",\n",
    "            \"1234 west main heights 57033\",\n",
    "            \"apt 1 789 s maple rd manhattan\",\n",
    "            \"robie house, 789 north main street\",\n",
    "            \"1111 S Figueroa St, Los Angeles, CA 90015\",\n",
    "            \"(staples center) 1111 S Figueroa St, Los Angeles\",\n",
    "            \"hello\",\n",
    "        ]\n",
    "    }\n",
    ")\n",
    "df"
   ]
  },
  {
   "cell_type": "markdown",
   "id": "obvious-remark",
   "metadata": {},
   "source": [
    "## 1. Default `clean_bg_vat`\n",
    "\n",
    "By default, `clean_bg_vat` will clean vat strings and output them in the standard format with proper separators."
   ]
  },
  {
   "cell_type": "code",
   "execution_count": 2,
   "id": "devoted-advertising",
   "metadata": {
    "execution": {
     "iopub.execute_input": "2021-10-26T22:57:40.248100Z",
     "iopub.status.busy": "2021-10-26T22:57:40.247225Z",
     "iopub.status.idle": "2021-10-26T22:57:40.781364Z",
     "shell.execute_reply": "2021-10-26T22:57:40.781973Z"
    }
   },
   "outputs": [
    {
     "data": {
      "text/html": [
       "<div>\n",
       "<style scoped>\n",
       "    .dataframe tbody tr th:only-of-type {\n",
       "        vertical-align: middle;\n",
       "    }\n",
       "\n",
       "    .dataframe tbody tr th {\n",
       "        vertical-align: top;\n",
       "    }\n",
       "\n",
       "    .dataframe thead th {\n",
       "        text-align: right;\n",
       "    }\n",
       "</style>\n",
       "<table border=\"1\" class=\"dataframe\">\n",
       "  <thead>\n",
       "    <tr style=\"text-align: right;\">\n",
       "      <th></th>\n",
       "      <th>vat</th>\n",
       "      <th>address</th>\n",
       "      <th>vat_clean</th>\n",
       "    </tr>\n",
       "  </thead>\n",
       "  <tbody>\n",
       "    <tr>\n",
       "      <th>0</th>\n",
       "      <td>BG 175 074 752</td>\n",
       "      <td>123 Pine Ave.</td>\n",
       "      <td>175074752</td>\n",
       "    </tr>\n",
       "    <tr>\n",
       "      <th>1</th>\n",
       "      <td>175074752</td>\n",
       "      <td>main st</td>\n",
       "      <td>175074752</td>\n",
       "    </tr>\n",
       "    <tr>\n",
       "      <th>2</th>\n",
       "      <td>175074751</td>\n",
       "      <td>1234 west main heights 57033</td>\n",
       "      <td>NaN</td>\n",
       "    </tr>\n",
       "    <tr>\n",
       "      <th>3</th>\n",
       "      <td>BE431150351</td>\n",
       "      <td>apt 1 789 s maple rd manhattan</td>\n",
       "      <td>NaN</td>\n",
       "    </tr>\n",
       "    <tr>\n",
       "      <th>4</th>\n",
       "      <td>002 724 334</td>\n",
       "      <td>robie house, 789 north main street</td>\n",
       "      <td>NaN</td>\n",
       "    </tr>\n",
       "    <tr>\n",
       "      <th>5</th>\n",
       "      <td>hello</td>\n",
       "      <td>1111 S Figueroa St, Los Angeles, CA 90015</td>\n",
       "      <td>NaN</td>\n",
       "    </tr>\n",
       "    <tr>\n",
       "      <th>6</th>\n",
       "      <td>NaN</td>\n",
       "      <td>(staples center) 1111 S Figueroa St, Los Angeles</td>\n",
       "      <td>NaN</td>\n",
       "    </tr>\n",
       "    <tr>\n",
       "      <th>7</th>\n",
       "      <td>NULL</td>\n",
       "      <td>hello</td>\n",
       "      <td>NaN</td>\n",
       "    </tr>\n",
       "  </tbody>\n",
       "</table>\n",
       "</div>"
      ],
      "text/plain": [
       "              vat                                           address  vat_clean\n",
       "0  BG 175 074 752                                     123 Pine Ave.  175074752\n",
       "1       175074752                                           main st  175074752\n",
       "2       175074751                      1234 west main heights 57033        NaN\n",
       "3     BE431150351                    apt 1 789 s maple rd manhattan        NaN\n",
       "4     002 724 334                robie house, 789 north main street        NaN\n",
       "5           hello         1111 S Figueroa St, Los Angeles, CA 90015        NaN\n",
       "6             NaN  (staples center) 1111 S Figueroa St, Los Angeles        NaN\n",
       "7            NULL                                             hello        NaN"
      ]
     },
     "execution_count": 1,
     "metadata": {},
     "output_type": "execute_result"
    }
   ],
   "source": [
    "from dataprep.clean import clean_bg_vat\n",
    "clean_bg_vat(df, column = \"vat\")"
   ]
  },
  {
   "cell_type": "markdown",
   "id": "responsible-ratio",
   "metadata": {},
   "source": [
    "## 2. Output formats"
   ]
  },
  {
   "cell_type": "markdown",
   "id": "handed-movement",
   "metadata": {},
   "source": [
    "This section demonstrates the output parameter."
   ]
  },
  {
   "cell_type": "markdown",
   "id": "canadian-street",
   "metadata": {},
   "source": [
    "### `standard` (default)"
   ]
  },
  {
   "cell_type": "code",
   "execution_count": 3,
   "id": "forced-landing",
   "metadata": {
    "execution": {
     "iopub.execute_input": "2021-10-26T22:57:40.802149Z",
     "iopub.status.busy": "2021-10-26T22:57:40.801700Z",
     "iopub.status.idle": "2021-10-26T22:57:40.810694Z",
     "shell.execute_reply": "2021-10-26T22:57:40.810302Z"
    }
   },
   "outputs": [
    {
     "data": {
      "text/html": [
       "<div>\n",
       "<style scoped>\n",
       "    .dataframe tbody tr th:only-of-type {\n",
       "        vertical-align: middle;\n",
       "    }\n",
       "\n",
       "    .dataframe tbody tr th {\n",
       "        vertical-align: top;\n",
       "    }\n",
       "\n",
       "    .dataframe thead th {\n",
       "        text-align: right;\n",
       "    }\n",
       "</style>\n",
       "<table border=\"1\" class=\"dataframe\">\n",
       "  <thead>\n",
       "    <tr style=\"text-align: right;\">\n",
       "      <th></th>\n",
       "      <th>vat</th>\n",
       "      <th>address</th>\n",
       "      <th>vat_clean</th>\n",
       "    </tr>\n",
       "  </thead>\n",
       "  <tbody>\n",
       "    <tr>\n",
       "      <th>0</th>\n",
       "      <td>BG 175 074 752</td>\n",
       "      <td>123 Pine Ave.</td>\n",
       "      <td>175074752</td>\n",
       "    </tr>\n",
       "    <tr>\n",
       "      <th>1</th>\n",
       "      <td>175074752</td>\n",
       "      <td>main st</td>\n",
       "      <td>175074752</td>\n",
       "    </tr>\n",
       "    <tr>\n",
       "      <th>2</th>\n",
       "      <td>175074751</td>\n",
       "      <td>1234 west main heights 57033</td>\n",
       "      <td>NaN</td>\n",
       "    </tr>\n",
       "    <tr>\n",
       "      <th>3</th>\n",
       "      <td>BE431150351</td>\n",
       "      <td>apt 1 789 s maple rd manhattan</td>\n",
       "      <td>NaN</td>\n",
       "    </tr>\n",
       "    <tr>\n",
       "      <th>4</th>\n",
       "      <td>002 724 334</td>\n",
       "      <td>robie house, 789 north main street</td>\n",
       "      <td>NaN</td>\n",
       "    </tr>\n",
       "    <tr>\n",
       "      <th>5</th>\n",
       "      <td>hello</td>\n",
       "      <td>1111 S Figueroa St, Los Angeles, CA 90015</td>\n",
       "      <td>NaN</td>\n",
       "    </tr>\n",
       "    <tr>\n",
       "      <th>6</th>\n",
       "      <td>NaN</td>\n",
       "      <td>(staples center) 1111 S Figueroa St, Los Angeles</td>\n",
       "      <td>NaN</td>\n",
       "    </tr>\n",
       "    <tr>\n",
       "      <th>7</th>\n",
       "      <td>NULL</td>\n",
       "      <td>hello</td>\n",
       "      <td>NaN</td>\n",
       "    </tr>\n",
       "  </tbody>\n",
       "</table>\n",
       "</div>"
      ],
      "text/plain": [
       "              vat                                           address  vat_clean\n",
       "0  BG 175 074 752                                     123 Pine Ave.  175074752\n",
       "1       175074752                                           main st  175074752\n",
       "2       175074751                      1234 west main heights 57033        NaN\n",
       "3     BE431150351                    apt 1 789 s maple rd manhattan        NaN\n",
       "4     002 724 334                robie house, 789 north main street        NaN\n",
       "5           hello         1111 S Figueroa St, Los Angeles, CA 90015        NaN\n",
       "6             NaN  (staples center) 1111 S Figueroa St, Los Angeles        NaN\n",
       "7            NULL                                             hello        NaN"
      ]
     },
     "execution_count": 1,
     "metadata": {},
     "output_type": "execute_result"
    }
   ],
   "source": [
    "clean_bg_vat(df, column = \"vat\", output_format=\"standard\")"
   ]
  },
  {
   "cell_type": "markdown",
   "id": "small-liquid",
   "metadata": {},
   "source": [
    "### `compact`"
   ]
  },
  {
   "cell_type": "code",
   "execution_count": 4,
   "id": "protective-rendering",
   "metadata": {
    "execution": {
     "iopub.execute_input": "2021-10-26T22:57:40.829544Z",
     "iopub.status.busy": "2021-10-26T22:57:40.827435Z",
     "iopub.status.idle": "2021-10-26T22:57:40.837468Z",
     "shell.execute_reply": "2021-10-26T22:57:40.837084Z"
    }
   },
   "outputs": [
    {
     "data": {
      "text/html": [
       "<div>\n",
       "<style scoped>\n",
       "    .dataframe tbody tr th:only-of-type {\n",
       "        vertical-align: middle;\n",
       "    }\n",
       "\n",
       "    .dataframe tbody tr th {\n",
       "        vertical-align: top;\n",
       "    }\n",
       "\n",
       "    .dataframe thead th {\n",
       "        text-align: right;\n",
       "    }\n",
       "</style>\n",
       "<table border=\"1\" class=\"dataframe\">\n",
       "  <thead>\n",
       "    <tr style=\"text-align: right;\">\n",
       "      <th></th>\n",
       "      <th>vat</th>\n",
       "      <th>address</th>\n",
       "      <th>vat_clean</th>\n",
       "    </tr>\n",
       "  </thead>\n",
       "  <tbody>\n",
       "    <tr>\n",
       "      <th>0</th>\n",
       "      <td>BG 175 074 752</td>\n",
       "      <td>123 Pine Ave.</td>\n",
       "      <td>175074752</td>\n",
       "    </tr>\n",
       "    <tr>\n",
       "      <th>1</th>\n",
       "      <td>175074752</td>\n",
       "      <td>main st</td>\n",
       "      <td>175074752</td>\n",
       "    </tr>\n",
       "    <tr>\n",
       "      <th>2</th>\n",
       "      <td>175074751</td>\n",
       "      <td>1234 west main heights 57033</td>\n",
       "      <td>NaN</td>\n",
       "    </tr>\n",
       "    <tr>\n",
       "      <th>3</th>\n",
       "      <td>BE431150351</td>\n",
       "      <td>apt 1 789 s maple rd manhattan</td>\n",
       "      <td>NaN</td>\n",
       "    </tr>\n",
       "    <tr>\n",
       "      <th>4</th>\n",
       "      <td>002 724 334</td>\n",
       "      <td>robie house, 789 north main street</td>\n",
       "      <td>NaN</td>\n",
       "    </tr>\n",
       "    <tr>\n",
       "      <th>5</th>\n",
       "      <td>hello</td>\n",
       "      <td>1111 S Figueroa St, Los Angeles, CA 90015</td>\n",
       "      <td>NaN</td>\n",
       "    </tr>\n",
       "    <tr>\n",
       "      <th>6</th>\n",
       "      <td>NaN</td>\n",
       "      <td>(staples center) 1111 S Figueroa St, Los Angeles</td>\n",
       "      <td>NaN</td>\n",
       "    </tr>\n",
       "    <tr>\n",
       "      <th>7</th>\n",
       "      <td>NULL</td>\n",
       "      <td>hello</td>\n",
       "      <td>NaN</td>\n",
       "    </tr>\n",
       "  </tbody>\n",
       "</table>\n",
       "</div>"
      ],
      "text/plain": [
       "              vat                                           address  vat_clean\n",
       "0  BG 175 074 752                                     123 Pine Ave.  175074752\n",
       "1       175074752                                           main st  175074752\n",
       "2       175074751                      1234 west main heights 57033        NaN\n",
       "3     BE431150351                    apt 1 789 s maple rd manhattan        NaN\n",
       "4     002 724 334                robie house, 789 north main street        NaN\n",
       "5           hello         1111 S Figueroa St, Los Angeles, CA 90015        NaN\n",
       "6             NaN  (staples center) 1111 S Figueroa St, Los Angeles        NaN\n",
       "7            NULL                                             hello        NaN"
      ]
     },
     "execution_count": 1,
     "metadata": {},
     "output_type": "execute_result"
    }
   ],
   "source": [
    "clean_bg_vat(df, column = \"vat\", output_format=\"compact\")"
   ]
  },
  {
   "cell_type": "markdown",
   "id": "accurate-county",
   "metadata": {},
   "source": [
    "## 3. `inplace` parameter\n",
    "\n",
    "This deletes the given column from the returned DataFrame. \n",
    "A new column containing cleaned VAT strings is added with a title in the format `\"{original title}_clean\"`."
   ]
  },
  {
   "cell_type": "code",
   "execution_count": 5,
   "id": "processed-korean",
   "metadata": {
    "execution": {
     "iopub.execute_input": "2021-10-26T22:57:40.859870Z",
     "iopub.status.busy": "2021-10-26T22:57:40.859414Z",
     "iopub.status.idle": "2021-10-26T22:57:40.871578Z",
     "shell.execute_reply": "2021-10-26T22:57:40.870889Z"
    }
   },
   "outputs": [
    {
     "data": {
      "text/html": [
       "<div>\n",
       "<style scoped>\n",
       "    .dataframe tbody tr th:only-of-type {\n",
       "        vertical-align: middle;\n",
       "    }\n",
       "\n",
       "    .dataframe tbody tr th {\n",
       "        vertical-align: top;\n",
       "    }\n",
       "\n",
       "    .dataframe thead th {\n",
       "        text-align: right;\n",
       "    }\n",
       "</style>\n",
       "<table border=\"1\" class=\"dataframe\">\n",
       "  <thead>\n",
       "    <tr style=\"text-align: right;\">\n",
       "      <th></th>\n",
       "      <th>vat_clean</th>\n",
       "      <th>address</th>\n",
       "    </tr>\n",
       "  </thead>\n",
       "  <tbody>\n",
       "    <tr>\n",
       "      <th>0</th>\n",
       "      <td>175074752</td>\n",
       "      <td>123 Pine Ave.</td>\n",
       "    </tr>\n",
       "    <tr>\n",
       "      <th>1</th>\n",
       "      <td>175074752</td>\n",
       "      <td>main st</td>\n",
       "    </tr>\n",
       "    <tr>\n",
       "      <th>2</th>\n",
       "      <td>NaN</td>\n",
       "      <td>1234 west main heights 57033</td>\n",
       "    </tr>\n",
       "    <tr>\n",
       "      <th>3</th>\n",
       "      <td>NaN</td>\n",
       "      <td>apt 1 789 s maple rd manhattan</td>\n",
       "    </tr>\n",
       "    <tr>\n",
       "      <th>4</th>\n",
       "      <td>NaN</td>\n",
       "      <td>robie house, 789 north main street</td>\n",
       "    </tr>\n",
       "    <tr>\n",
       "      <th>5</th>\n",
       "      <td>NaN</td>\n",
       "      <td>1111 S Figueroa St, Los Angeles, CA 90015</td>\n",
       "    </tr>\n",
       "    <tr>\n",
       "      <th>6</th>\n",
       "      <td>NaN</td>\n",
       "      <td>(staples center) 1111 S Figueroa St, Los Angeles</td>\n",
       "    </tr>\n",
       "    <tr>\n",
       "      <th>7</th>\n",
       "      <td>NaN</td>\n",
       "      <td>hello</td>\n",
       "    </tr>\n",
       "  </tbody>\n",
       "</table>\n",
       "</div>"
      ],
      "text/plain": [
       "   vat_clean                                           address\n",
       "0  175074752                                     123 Pine Ave.\n",
       "1  175074752                                           main st\n",
       "2        NaN                      1234 west main heights 57033\n",
       "3        NaN                    apt 1 789 s maple rd manhattan\n",
       "4        NaN                robie house, 789 north main street\n",
       "5        NaN         1111 S Figueroa St, Los Angeles, CA 90015\n",
       "6        NaN  (staples center) 1111 S Figueroa St, Los Angeles\n",
       "7        NaN                                             hello"
      ]
     },
     "execution_count": 1,
     "metadata": {},
     "output_type": "execute_result"
    }
   ],
   "source": [
    "clean_bg_vat(df, column=\"vat\", inplace=True)"
   ]
  },
  {
   "cell_type": "markdown",
   "id": "fuzzy-thing",
   "metadata": {},
   "source": [
    "## 4. `errors` parameter"
   ]
  },
  {
   "cell_type": "markdown",
   "id": "noble-detail",
   "metadata": {},
   "source": [
    "### `coerce` (default)"
   ]
  },
  {
   "cell_type": "code",
   "execution_count": 6,
   "id": "functional-sudan",
   "metadata": {
    "execution": {
     "iopub.execute_input": "2021-10-26T22:57:40.890116Z",
     "iopub.status.busy": "2021-10-26T22:57:40.887609Z",
     "iopub.status.idle": "2021-10-26T22:57:40.897788Z",
     "shell.execute_reply": "2021-10-26T22:57:40.898372Z"
    }
   },
   "outputs": [
    {
     "data": {
      "text/html": [
       "<div>\n",
       "<style scoped>\n",
       "    .dataframe tbody tr th:only-of-type {\n",
       "        vertical-align: middle;\n",
       "    }\n",
       "\n",
       "    .dataframe tbody tr th {\n",
       "        vertical-align: top;\n",
       "    }\n",
       "\n",
       "    .dataframe thead th {\n",
       "        text-align: right;\n",
       "    }\n",
       "</style>\n",
       "<table border=\"1\" class=\"dataframe\">\n",
       "  <thead>\n",
       "    <tr style=\"text-align: right;\">\n",
       "      <th></th>\n",
       "      <th>vat</th>\n",
       "      <th>address</th>\n",
       "      <th>vat_clean</th>\n",
       "    </tr>\n",
       "  </thead>\n",
       "  <tbody>\n",
       "    <tr>\n",
       "      <th>0</th>\n",
       "      <td>BG 175 074 752</td>\n",
       "      <td>123 Pine Ave.</td>\n",
       "      <td>175074752</td>\n",
       "    </tr>\n",
       "    <tr>\n",
       "      <th>1</th>\n",
       "      <td>175074752</td>\n",
       "      <td>main st</td>\n",
       "      <td>175074752</td>\n",
       "    </tr>\n",
       "    <tr>\n",
       "      <th>2</th>\n",
       "      <td>175074751</td>\n",
       "      <td>1234 west main heights 57033</td>\n",
       "      <td>NaN</td>\n",
       "    </tr>\n",
       "    <tr>\n",
       "      <th>3</th>\n",
       "      <td>BE431150351</td>\n",
       "      <td>apt 1 789 s maple rd manhattan</td>\n",
       "      <td>NaN</td>\n",
       "    </tr>\n",
       "    <tr>\n",
       "      <th>4</th>\n",
       "      <td>002 724 334</td>\n",
       "      <td>robie house, 789 north main street</td>\n",
       "      <td>NaN</td>\n",
       "    </tr>\n",
       "    <tr>\n",
       "      <th>5</th>\n",
       "      <td>hello</td>\n",
       "      <td>1111 S Figueroa St, Los Angeles, CA 90015</td>\n",
       "      <td>NaN</td>\n",
       "    </tr>\n",
       "    <tr>\n",
       "      <th>6</th>\n",
       "      <td>NaN</td>\n",
       "      <td>(staples center) 1111 S Figueroa St, Los Angeles</td>\n",
       "      <td>NaN</td>\n",
       "    </tr>\n",
       "    <tr>\n",
       "      <th>7</th>\n",
       "      <td>NULL</td>\n",
       "      <td>hello</td>\n",
       "      <td>NaN</td>\n",
       "    </tr>\n",
       "  </tbody>\n",
       "</table>\n",
       "</div>"
      ],
      "text/plain": [
       "              vat                                           address  vat_clean\n",
       "0  BG 175 074 752                                     123 Pine Ave.  175074752\n",
       "1       175074752                                           main st  175074752\n",
       "2       175074751                      1234 west main heights 57033        NaN\n",
       "3     BE431150351                    apt 1 789 s maple rd manhattan        NaN\n",
       "4     002 724 334                robie house, 789 north main street        NaN\n",
       "5           hello         1111 S Figueroa St, Los Angeles, CA 90015        NaN\n",
       "6             NaN  (staples center) 1111 S Figueroa St, Los Angeles        NaN\n",
       "7            NULL                                             hello        NaN"
      ]
     },
     "execution_count": 1,
     "metadata": {},
     "output_type": "execute_result"
    }
   ],
   "source": [
    "clean_bg_vat(df, \"vat\", errors=\"coerce\")"
   ]
  },
  {
   "cell_type": "markdown",
   "id": "together-carnival",
   "metadata": {},
   "source": [
    "### `ignore`"
   ]
  },
  {
   "cell_type": "code",
   "execution_count": 7,
   "id": "copyrighted-hampshire",
   "metadata": {
    "execution": {
     "iopub.execute_input": "2021-10-26T22:57:40.921784Z",
     "iopub.status.busy": "2021-10-26T22:57:40.917003Z",
     "iopub.status.idle": "2021-10-26T22:57:40.925910Z",
     "shell.execute_reply": "2021-10-26T22:57:40.925018Z"
    }
   },
   "outputs": [
    {
     "data": {
      "text/html": [
       "<div>\n",
       "<style scoped>\n",
       "    .dataframe tbody tr th:only-of-type {\n",
       "        vertical-align: middle;\n",
       "    }\n",
       "\n",
       "    .dataframe tbody tr th {\n",
       "        vertical-align: top;\n",
       "    }\n",
       "\n",
       "    .dataframe thead th {\n",
       "        text-align: right;\n",
       "    }\n",
       "</style>\n",
       "<table border=\"1\" class=\"dataframe\">\n",
       "  <thead>\n",
       "    <tr style=\"text-align: right;\">\n",
       "      <th></th>\n",
       "      <th>vat</th>\n",
       "      <th>address</th>\n",
       "      <th>vat_clean</th>\n",
       "    </tr>\n",
       "  </thead>\n",
       "  <tbody>\n",
       "    <tr>\n",
       "      <th>0</th>\n",
       "      <td>BG 175 074 752</td>\n",
       "      <td>123 Pine Ave.</td>\n",
       "      <td>175074752</td>\n",
       "    </tr>\n",
       "    <tr>\n",
       "      <th>1</th>\n",
       "      <td>175074752</td>\n",
       "      <td>main st</td>\n",
       "      <td>175074752</td>\n",
       "    </tr>\n",
       "    <tr>\n",
       "      <th>2</th>\n",
       "      <td>175074751</td>\n",
       "      <td>1234 west main heights 57033</td>\n",
       "      <td>175074751</td>\n",
       "    </tr>\n",
       "    <tr>\n",
       "      <th>3</th>\n",
       "      <td>BE431150351</td>\n",
       "      <td>apt 1 789 s maple rd manhattan</td>\n",
       "      <td>BE431150351</td>\n",
       "    </tr>\n",
       "    <tr>\n",
       "      <th>4</th>\n",
       "      <td>002 724 334</td>\n",
       "      <td>robie house, 789 north main street</td>\n",
       "      <td>002 724 334</td>\n",
       "    </tr>\n",
       "    <tr>\n",
       "      <th>5</th>\n",
       "      <td>hello</td>\n",
       "      <td>1111 S Figueroa St, Los Angeles, CA 90015</td>\n",
       "      <td>hello</td>\n",
       "    </tr>\n",
       "    <tr>\n",
       "      <th>6</th>\n",
       "      <td>NaN</td>\n",
       "      <td>(staples center) 1111 S Figueroa St, Los Angeles</td>\n",
       "      <td>NaN</td>\n",
       "    </tr>\n",
       "    <tr>\n",
       "      <th>7</th>\n",
       "      <td>NULL</td>\n",
       "      <td>hello</td>\n",
       "      <td>NaN</td>\n",
       "    </tr>\n",
       "  </tbody>\n",
       "</table>\n",
       "</div>"
      ],
      "text/plain": [
       "              vat                                           address  \\\n",
       "0  BG 175 074 752                                     123 Pine Ave.   \n",
       "1       175074752                                           main st   \n",
       "2       175074751                      1234 west main heights 57033   \n",
       "3     BE431150351                    apt 1 789 s maple rd manhattan   \n",
       "4     002 724 334                robie house, 789 north main street   \n",
       "5           hello         1111 S Figueroa St, Los Angeles, CA 90015   \n",
       "6             NaN  (staples center) 1111 S Figueroa St, Los Angeles   \n",
       "7            NULL                                             hello   \n",
       "\n",
       "     vat_clean  \n",
       "0    175074752  \n",
       "1    175074752  \n",
       "2    175074751  \n",
       "3  BE431150351  \n",
       "4  002 724 334  \n",
       "5        hello  \n",
       "6          NaN  \n",
       "7          NaN  "
      ]
     },
     "execution_count": 1,
     "metadata": {},
     "output_type": "execute_result"
    }
   ],
   "source": [
    "clean_bg_vat(df, \"vat\", errors=\"ignore\")"
   ]
  },
  {
   "cell_type": "markdown",
   "id": "heard-wayne",
   "metadata": {},
   "source": [
    "## 4. `validate_bg_vat()`"
   ]
  },
  {
   "cell_type": "markdown",
   "id": "sticky-wayne",
   "metadata": {},
   "source": [
    "`validate_bg_vat()` returns `True` when the input is a valid VAT. Otherwise it returns `False`.\n",
    "\n",
    "The input of `validate_bg_vat()` can be a string, a Pandas DataSeries, a Dask DataSeries, a Pandas DataFrame and a dask DataFrame.\n",
    "\n",
    "When the input is a string, a Pandas DataSeries or a Dask DataSeries, user doesn't need to specify a column name to be validated. \n",
    "\n",
    "When the input is a Pandas DataFrame or a dask DataFrame, user can both specify or not specify a column name to be validated. If user specify the column name, `validate_bg_vat()` only returns the validation result for the specified column. If user doesn't specify the column name, `validate_bg_vat()` returns the validation result for the whole DataFrame."
   ]
  },
  {
   "cell_type": "code",
   "execution_count": 8,
   "id": "intellectual-identifier",
   "metadata": {
    "execution": {
     "iopub.execute_input": "2021-10-26T22:57:40.930452Z",
     "iopub.status.busy": "2021-10-26T22:57:40.929633Z",
     "iopub.status.idle": "2021-10-26T22:57:40.933926Z",
     "shell.execute_reply": "2021-10-26T22:57:40.934281Z"
    }
   },
   "outputs": [
    {
     "name": "stdout",
     "output_type": "stream",
     "text": [
      "True\n",
      "True\n",
      "False\n",
      "False\n",
      "False\n",
      "False\n",
      "False\n",
      "False\n"
     ]
    }
   ],
   "source": [
    "from dataprep.clean import validate_bg_vat\n",
    "print(validate_bg_vat(\"BG 175 074 752\"))\n",
    "print(validate_bg_vat(\"175074752\"))\n",
    "print(validate_bg_vat('175074751'))\n",
    "print(validate_bg_vat('BE431150351'))\n",
    "print(validate_bg_vat(\"004085616\"))\n",
    "print(validate_bg_vat(\"hello\"))\n",
    "print(validate_bg_vat(np.nan))\n",
    "print(validate_bg_vat(\"NULL\"))"
   ]
  },
  {
   "cell_type": "markdown",
   "id": "contained-language",
   "metadata": {},
   "source": [
    "### Series"
   ]
  },
  {
   "cell_type": "code",
   "execution_count": 9,
   "id": "dried-journalism",
   "metadata": {
    "execution": {
     "iopub.execute_input": "2021-10-26T22:57:40.938644Z",
     "iopub.status.busy": "2021-10-26T22:57:40.938150Z",
     "iopub.status.idle": "2021-10-26T22:57:40.942504Z",
     "shell.execute_reply": "2021-10-26T22:57:40.941927Z"
    }
   },
   "outputs": [
    {
     "data": {
      "text/plain": [
       "0     True\n",
       "1     True\n",
       "2    False\n",
       "3    False\n",
       "4    False\n",
       "5    False\n",
       "6    False\n",
       "7    False\n",
       "Name: vat, dtype: bool"
      ]
     },
     "execution_count": 1,
     "metadata": {},
     "output_type": "execute_result"
    }
   ],
   "source": [
    "validate_bg_vat(df[\"vat\"])"
   ]
  },
  {
   "cell_type": "markdown",
   "id": "attempted-discount",
   "metadata": {},
   "source": [
    "### DataFrame + Specify Column"
   ]
  },
  {
   "cell_type": "code",
   "execution_count": 10,
   "id": "faced-repair",
   "metadata": {
    "execution": {
     "iopub.execute_input": "2021-10-26T22:57:40.946814Z",
     "iopub.status.busy": "2021-10-26T22:57:40.946126Z",
     "iopub.status.idle": "2021-10-26T22:57:40.950151Z",
     "shell.execute_reply": "2021-10-26T22:57:40.950502Z"
    }
   },
   "outputs": [
    {
     "data": {
      "text/plain": [
       "0     True\n",
       "1     True\n",
       "2    False\n",
       "3    False\n",
       "4    False\n",
       "5    False\n",
       "6    False\n",
       "7    False\n",
       "Name: vat, dtype: bool"
      ]
     },
     "execution_count": 1,
     "metadata": {},
     "output_type": "execute_result"
    }
   ],
   "source": [
    "validate_bg_vat(df, column=\"vat\")"
   ]
  },
  {
   "cell_type": "markdown",
   "id": "conventional-august",
   "metadata": {},
   "source": [
    "### Only DataFrame"
   ]
  },
  {
   "cell_type": "code",
   "execution_count": 11,
   "id": "understanding-continent",
   "metadata": {
    "execution": {
     "iopub.execute_input": "2021-10-26T22:57:40.957818Z",
     "iopub.status.busy": "2021-10-26T22:57:40.953056Z",
     "iopub.status.idle": "2021-10-26T22:57:40.959971Z",
     "shell.execute_reply": "2021-10-26T22:57:40.960302Z"
    }
   },
   "outputs": [
    {
     "data": {
      "text/html": [
       "<div>\n",
       "<style scoped>\n",
       "    .dataframe tbody tr th:only-of-type {\n",
       "        vertical-align: middle;\n",
       "    }\n",
       "\n",
       "    .dataframe tbody tr th {\n",
       "        vertical-align: top;\n",
       "    }\n",
       "\n",
       "    .dataframe thead th {\n",
       "        text-align: right;\n",
       "    }\n",
       "</style>\n",
       "<table border=\"1\" class=\"dataframe\">\n",
       "  <thead>\n",
       "    <tr style=\"text-align: right;\">\n",
       "      <th></th>\n",
       "      <th>vat</th>\n",
       "      <th>address</th>\n",
       "    </tr>\n",
       "  </thead>\n",
       "  <tbody>\n",
       "    <tr>\n",
       "      <th>0</th>\n",
       "      <td>True</td>\n",
       "      <td>False</td>\n",
       "    </tr>\n",
       "    <tr>\n",
       "      <th>1</th>\n",
       "      <td>True</td>\n",
       "      <td>False</td>\n",
       "    </tr>\n",
       "    <tr>\n",
       "      <th>2</th>\n",
       "      <td>False</td>\n",
       "      <td>False</td>\n",
       "    </tr>\n",
       "    <tr>\n",
       "      <th>3</th>\n",
       "      <td>False</td>\n",
       "      <td>False</td>\n",
       "    </tr>\n",
       "    <tr>\n",
       "      <th>4</th>\n",
       "      <td>False</td>\n",
       "      <td>False</td>\n",
       "    </tr>\n",
       "    <tr>\n",
       "      <th>5</th>\n",
       "      <td>False</td>\n",
       "      <td>False</td>\n",
       "    </tr>\n",
       "    <tr>\n",
       "      <th>6</th>\n",
       "      <td>False</td>\n",
       "      <td>False</td>\n",
       "    </tr>\n",
       "    <tr>\n",
       "      <th>7</th>\n",
       "      <td>False</td>\n",
       "      <td>False</td>\n",
       "    </tr>\n",
       "  </tbody>\n",
       "</table>\n",
       "</div>"
      ],
      "text/plain": [
       "     vat  address\n",
       "0   True    False\n",
       "1   True    False\n",
       "2  False    False\n",
       "3  False    False\n",
       "4  False    False\n",
       "5  False    False\n",
       "6  False    False\n",
       "7  False    False"
      ]
     },
     "execution_count": 1,
     "metadata": {},
     "output_type": "execute_result"
    }
   ],
   "source": [
    "validate_bg_vat(df)"
   ]
  },
  {
   "cell_type": "code",
   "execution_count": null,
   "id": "divine-execution",
   "metadata": {},
   "outputs": [],
   "source": []
  }
 ],
 "metadata": {
  "kernelspec": {
   "display_name": "Python 3",
   "language": "python",
   "name": "python3"
  },
  "language_info": {
   "codemirror_mode": {
    "name": "ipython",
    "version": 3
   },
   "file_extension": ".py",
   "mimetype": "text/x-python",
   "name": "python",
   "nbconvert_exporter": "python",
   "pygments_lexer": "ipython3",
   "version": "3.8.10"
  }
 },
 "nbformat": 4,
 "nbformat_minor": 5
}
