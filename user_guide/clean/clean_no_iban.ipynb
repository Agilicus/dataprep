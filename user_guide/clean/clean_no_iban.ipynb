{
 "cells": [
  {
   "cell_type": "raw",
   "id": "deadly-model",
   "metadata": {},
   "source": [
    ".. _iban_userguide:\n",
    "\n",
    "Norwegian IBANs\n",
    "==============="
   ]
  },
  {
   "cell_type": "raw",
   "id": "heard-brief",
   "metadata": {},
   "source": [
    "Introduction\n",
    "------------\n",
    "\n",
    "The function :func:`clean_no_iban() <dataprep.clean.clean_no_iban.clean_no_iban>` cleans a column containing Norwegian IBAN (IBAN) strings, and standardizes them in a given format. The function :func:`validate_no_iban() <dataprep.clean.clean_no_iban.validate_no_iban>` validates either a single IBAN strings, a column of IBAN strings or a DataFrame of IBAN strings, returning `True` if the value is valid, and `False` otherwise."
   ]
  },
  {
   "cell_type": "markdown",
   "id": "incredible-litigation",
   "metadata": {},
   "source": [
    "IBAN strings can be converted to the following formats via the `output_format` parameter:\n",
    "\n",
    "* `compact`: only number strings without any seperators or whitespace, like \"NO9386011117947\"\n",
    "* `standard`: IBAN strings with proper whitespace in the proper places, like \"NO93 8601 1117 947\"\n",
    "* `kontonr`: return the Norwegian bank account part of the number, like \"86011117947\".\n",
    "\n",
    "Invalid parsing is handled with the `errors` parameter:\n",
    "\n",
    "* `coerce` (default): invalid parsing will be set to NaN\n",
    "* `ignore`: invalid parsing will return the input\n",
    "* `raise`: invalid parsing will raise an exception\n",
    "\n",
    "The following sections demonstrate the functionality of `clean_no_iban()` and `validate_no_iban()`. "
   ]
  },
  {
   "cell_type": "markdown",
   "id": "parallel-republican",
   "metadata": {},
   "source": [
    "### An example dataset containing IBAN strings"
   ]
  },
  {
   "cell_type": "code",
   "execution_count": 1,
   "id": "broad-peripheral",
   "metadata": {
    "execution": {
     "iopub.execute_input": "2021-10-30T05:22:54.398859Z",
     "iopub.status.busy": "2021-10-30T05:22:54.397809Z",
     "iopub.status.idle": "2021-10-30T05:22:54.636039Z",
     "shell.execute_reply": "2021-10-30T05:22:54.635212Z"
    },
    "scrolled": true
   },
   "outputs": [
    {
     "data": {
      "text/html": [
       "<div>\n",
       "<style scoped>\n",
       "    .dataframe tbody tr th:only-of-type {\n",
       "        vertical-align: middle;\n",
       "    }\n",
       "\n",
       "    .dataframe tbody tr th {\n",
       "        vertical-align: top;\n",
       "    }\n",
       "\n",
       "    .dataframe thead th {\n",
       "        text-align: right;\n",
       "    }\n",
       "</style>\n",
       "<table border=\"1\" class=\"dataframe\">\n",
       "  <thead>\n",
       "    <tr style=\"text-align: right;\">\n",
       "      <th></th>\n",
       "      <th>iban</th>\n",
       "      <th>address</th>\n",
       "    </tr>\n",
       "  </thead>\n",
       "  <tbody>\n",
       "    <tr>\n",
       "      <th>0</th>\n",
       "      <td>NO9386011117947</td>\n",
       "      <td>123 Pine Ave.</td>\n",
       "    </tr>\n",
       "    <tr>\n",
       "      <th>1</th>\n",
       "      <td>NO92 8601 1117 947</td>\n",
       "      <td>main st</td>\n",
       "    </tr>\n",
       "    <tr>\n",
       "      <th>2</th>\n",
       "      <td>999 999 999</td>\n",
       "      <td>1234 west main heights 57033</td>\n",
       "    </tr>\n",
       "    <tr>\n",
       "      <th>3</th>\n",
       "      <td>004085616</td>\n",
       "      <td>apt 1 789 s maple rd manhattan</td>\n",
       "    </tr>\n",
       "    <tr>\n",
       "      <th>4</th>\n",
       "      <td>002 724 334</td>\n",
       "      <td>robie house, 789 north main street</td>\n",
       "    </tr>\n",
       "    <tr>\n",
       "      <th>5</th>\n",
       "      <td>hello</td>\n",
       "      <td>1111 S Figueroa St, Los Angeles, CA 90015</td>\n",
       "    </tr>\n",
       "    <tr>\n",
       "      <th>6</th>\n",
       "      <td>NaN</td>\n",
       "      <td>(staples center) 1111 S Figueroa St, Los Angeles</td>\n",
       "    </tr>\n",
       "    <tr>\n",
       "      <th>7</th>\n",
       "      <td>NULL</td>\n",
       "      <td>hello</td>\n",
       "    </tr>\n",
       "  </tbody>\n",
       "</table>\n",
       "</div>"
      ],
      "text/plain": [
       "                 iban                                           address\n",
       "0     NO9386011117947                                     123 Pine Ave.\n",
       "1  NO92 8601 1117 947                                           main st\n",
       "2         999 999 999                      1234 west main heights 57033\n",
       "3           004085616                    apt 1 789 s maple rd manhattan\n",
       "4         002 724 334                robie house, 789 north main street\n",
       "5               hello         1111 S Figueroa St, Los Angeles, CA 90015\n",
       "6                 NaN  (staples center) 1111 S Figueroa St, Los Angeles\n",
       "7                NULL                                             hello"
      ]
     },
     "execution_count": 1,
     "metadata": {},
     "output_type": "execute_result"
    }
   ],
   "source": [
    "import pandas as pd\n",
    "import numpy as np\n",
    "df = pd.DataFrame(\n",
    "    {\n",
    "        \"iban\": [\n",
    "            'NO9386011117947',\n",
    "            'NO92 8601 1117 947',\n",
    "            \"999 999 999\",\n",
    "            \"004085616\",\n",
    "            \"002 724 334\",\n",
    "            \"hello\",\n",
    "            np.nan,\n",
    "            \"NULL\",\n",
    "        ], \n",
    "        \"address\": [\n",
    "            \"123 Pine Ave.\",\n",
    "            \"main st\",\n",
    "            \"1234 west main heights 57033\",\n",
    "            \"apt 1 789 s maple rd manhattan\",\n",
    "            \"robie house, 789 north main street\",\n",
    "            \"1111 S Figueroa St, Los Angeles, CA 90015\",\n",
    "            \"(staples center) 1111 S Figueroa St, Los Angeles\",\n",
    "            \"hello\",\n",
    "        ]\n",
    "    }\n",
    ")\n",
    "df"
   ]
  },
  {
   "cell_type": "markdown",
   "id": "unlike-tongue",
   "metadata": {},
   "source": [
    "## 1. Default `clean_no_iban`\n",
    "\n",
    "By default, `clean_no_iban` will clean iban strings and output them in the standard format with proper separators."
   ]
  },
  {
   "cell_type": "code",
   "execution_count": 2,
   "id": "perceived-elder",
   "metadata": {
    "execution": {
     "iopub.execute_input": "2021-10-30T05:22:54.640664Z",
     "iopub.status.busy": "2021-10-30T05:22:54.639701Z",
     "iopub.status.idle": "2021-10-30T05:22:55.221986Z",
     "shell.execute_reply": "2021-10-30T05:22:55.222376Z"
    }
   },
   "outputs": [
    {
     "data": {
      "text/html": [
       "<div>\n",
       "<style scoped>\n",
       "    .dataframe tbody tr th:only-of-type {\n",
       "        vertical-align: middle;\n",
       "    }\n",
       "\n",
       "    .dataframe tbody tr th {\n",
       "        vertical-align: top;\n",
       "    }\n",
       "\n",
       "    .dataframe thead th {\n",
       "        text-align: right;\n",
       "    }\n",
       "</style>\n",
       "<table border=\"1\" class=\"dataframe\">\n",
       "  <thead>\n",
       "    <tr style=\"text-align: right;\">\n",
       "      <th></th>\n",
       "      <th>iban</th>\n",
       "      <th>address</th>\n",
       "      <th>iban_clean</th>\n",
       "    </tr>\n",
       "  </thead>\n",
       "  <tbody>\n",
       "    <tr>\n",
       "      <th>0</th>\n",
       "      <td>NO9386011117947</td>\n",
       "      <td>123 Pine Ave.</td>\n",
       "      <td>NO93 8601 1117 947</td>\n",
       "    </tr>\n",
       "    <tr>\n",
       "      <th>1</th>\n",
       "      <td>NO92 8601 1117 947</td>\n",
       "      <td>main st</td>\n",
       "      <td>NaN</td>\n",
       "    </tr>\n",
       "    <tr>\n",
       "      <th>2</th>\n",
       "      <td>999 999 999</td>\n",
       "      <td>1234 west main heights 57033</td>\n",
       "      <td>NaN</td>\n",
       "    </tr>\n",
       "    <tr>\n",
       "      <th>3</th>\n",
       "      <td>004085616</td>\n",
       "      <td>apt 1 789 s maple rd manhattan</td>\n",
       "      <td>NaN</td>\n",
       "    </tr>\n",
       "    <tr>\n",
       "      <th>4</th>\n",
       "      <td>002 724 334</td>\n",
       "      <td>robie house, 789 north main street</td>\n",
       "      <td>NaN</td>\n",
       "    </tr>\n",
       "    <tr>\n",
       "      <th>5</th>\n",
       "      <td>hello</td>\n",
       "      <td>1111 S Figueroa St, Los Angeles, CA 90015</td>\n",
       "      <td>NaN</td>\n",
       "    </tr>\n",
       "    <tr>\n",
       "      <th>6</th>\n",
       "      <td>NaN</td>\n",
       "      <td>(staples center) 1111 S Figueroa St, Los Angeles</td>\n",
       "      <td>NaN</td>\n",
       "    </tr>\n",
       "    <tr>\n",
       "      <th>7</th>\n",
       "      <td>NULL</td>\n",
       "      <td>hello</td>\n",
       "      <td>NaN</td>\n",
       "    </tr>\n",
       "  </tbody>\n",
       "</table>\n",
       "</div>"
      ],
      "text/plain": [
       "                 iban                                           address  \\\n",
       "0     NO9386011117947                                     123 Pine Ave.   \n",
       "1  NO92 8601 1117 947                                           main st   \n",
       "2         999 999 999                      1234 west main heights 57033   \n",
       "3           004085616                    apt 1 789 s maple rd manhattan   \n",
       "4         002 724 334                robie house, 789 north main street   \n",
       "5               hello         1111 S Figueroa St, Los Angeles, CA 90015   \n",
       "6                 NaN  (staples center) 1111 S Figueroa St, Los Angeles   \n",
       "7                NULL                                             hello   \n",
       "\n",
       "           iban_clean  \n",
       "0  NO93 8601 1117 947  \n",
       "1                 NaN  \n",
       "2                 NaN  \n",
       "3                 NaN  \n",
       "4                 NaN  \n",
       "5                 NaN  \n",
       "6                 NaN  \n",
       "7                 NaN  "
      ]
     },
     "execution_count": 1,
     "metadata": {},
     "output_type": "execute_result"
    }
   ],
   "source": [
    "from dataprep.clean import clean_no_iban\n",
    "clean_no_iban(df, column = \"iban\")"
   ]
  },
  {
   "cell_type": "markdown",
   "id": "limiting-outreach",
   "metadata": {},
   "source": [
    "## 2. Output formats"
   ]
  },
  {
   "cell_type": "markdown",
   "id": "removable-egyptian",
   "metadata": {},
   "source": [
    "This section demonstrates the output parameter."
   ]
  },
  {
   "cell_type": "markdown",
   "id": "commercial-planner",
   "metadata": {},
   "source": [
    "### `standard` (default)"
   ]
  },
  {
   "cell_type": "code",
   "execution_count": 3,
   "id": "overhead-seating",
   "metadata": {
    "execution": {
     "iopub.execute_input": "2021-10-30T05:22:55.244910Z",
     "iopub.status.busy": "2021-10-30T05:22:55.244377Z",
     "iopub.status.idle": "2021-10-30T05:22:55.251552Z",
     "shell.execute_reply": "2021-10-30T05:22:55.251138Z"
    }
   },
   "outputs": [
    {
     "data": {
      "text/html": [
       "<div>\n",
       "<style scoped>\n",
       "    .dataframe tbody tr th:only-of-type {\n",
       "        vertical-align: middle;\n",
       "    }\n",
       "\n",
       "    .dataframe tbody tr th {\n",
       "        vertical-align: top;\n",
       "    }\n",
       "\n",
       "    .dataframe thead th {\n",
       "        text-align: right;\n",
       "    }\n",
       "</style>\n",
       "<table border=\"1\" class=\"dataframe\">\n",
       "  <thead>\n",
       "    <tr style=\"text-align: right;\">\n",
       "      <th></th>\n",
       "      <th>iban</th>\n",
       "      <th>address</th>\n",
       "      <th>iban_clean</th>\n",
       "    </tr>\n",
       "  </thead>\n",
       "  <tbody>\n",
       "    <tr>\n",
       "      <th>0</th>\n",
       "      <td>NO9386011117947</td>\n",
       "      <td>123 Pine Ave.</td>\n",
       "      <td>NO93 8601 1117 947</td>\n",
       "    </tr>\n",
       "    <tr>\n",
       "      <th>1</th>\n",
       "      <td>NO92 8601 1117 947</td>\n",
       "      <td>main st</td>\n",
       "      <td>NaN</td>\n",
       "    </tr>\n",
       "    <tr>\n",
       "      <th>2</th>\n",
       "      <td>999 999 999</td>\n",
       "      <td>1234 west main heights 57033</td>\n",
       "      <td>NaN</td>\n",
       "    </tr>\n",
       "    <tr>\n",
       "      <th>3</th>\n",
       "      <td>004085616</td>\n",
       "      <td>apt 1 789 s maple rd manhattan</td>\n",
       "      <td>NaN</td>\n",
       "    </tr>\n",
       "    <tr>\n",
       "      <th>4</th>\n",
       "      <td>002 724 334</td>\n",
       "      <td>robie house, 789 north main street</td>\n",
       "      <td>NaN</td>\n",
       "    </tr>\n",
       "    <tr>\n",
       "      <th>5</th>\n",
       "      <td>hello</td>\n",
       "      <td>1111 S Figueroa St, Los Angeles, CA 90015</td>\n",
       "      <td>NaN</td>\n",
       "    </tr>\n",
       "    <tr>\n",
       "      <th>6</th>\n",
       "      <td>NaN</td>\n",
       "      <td>(staples center) 1111 S Figueroa St, Los Angeles</td>\n",
       "      <td>NaN</td>\n",
       "    </tr>\n",
       "    <tr>\n",
       "      <th>7</th>\n",
       "      <td>NULL</td>\n",
       "      <td>hello</td>\n",
       "      <td>NaN</td>\n",
       "    </tr>\n",
       "  </tbody>\n",
       "</table>\n",
       "</div>"
      ],
      "text/plain": [
       "                 iban                                           address  \\\n",
       "0     NO9386011117947                                     123 Pine Ave.   \n",
       "1  NO92 8601 1117 947                                           main st   \n",
       "2         999 999 999                      1234 west main heights 57033   \n",
       "3           004085616                    apt 1 789 s maple rd manhattan   \n",
       "4         002 724 334                robie house, 789 north main street   \n",
       "5               hello         1111 S Figueroa St, Los Angeles, CA 90015   \n",
       "6                 NaN  (staples center) 1111 S Figueroa St, Los Angeles   \n",
       "7                NULL                                             hello   \n",
       "\n",
       "           iban_clean  \n",
       "0  NO93 8601 1117 947  \n",
       "1                 NaN  \n",
       "2                 NaN  \n",
       "3                 NaN  \n",
       "4                 NaN  \n",
       "5                 NaN  \n",
       "6                 NaN  \n",
       "7                 NaN  "
      ]
     },
     "execution_count": 1,
     "metadata": {},
     "output_type": "execute_result"
    }
   ],
   "source": [
    "clean_no_iban(df, column = \"iban\", output_format=\"standard\")"
   ]
  },
  {
   "cell_type": "markdown",
   "id": "joint-operations",
   "metadata": {},
   "source": [
    "### `compact`"
   ]
  },
  {
   "cell_type": "code",
   "execution_count": 4,
   "id": "molecular-rapid",
   "metadata": {
    "execution": {
     "iopub.execute_input": "2021-10-30T05:22:55.274350Z",
     "iopub.status.busy": "2021-10-30T05:22:55.273801Z",
     "iopub.status.idle": "2021-10-30T05:22:55.280859Z",
     "shell.execute_reply": "2021-10-30T05:22:55.280457Z"
    }
   },
   "outputs": [
    {
     "data": {
      "text/html": [
       "<div>\n",
       "<style scoped>\n",
       "    .dataframe tbody tr th:only-of-type {\n",
       "        vertical-align: middle;\n",
       "    }\n",
       "\n",
       "    .dataframe tbody tr th {\n",
       "        vertical-align: top;\n",
       "    }\n",
       "\n",
       "    .dataframe thead th {\n",
       "        text-align: right;\n",
       "    }\n",
       "</style>\n",
       "<table border=\"1\" class=\"dataframe\">\n",
       "  <thead>\n",
       "    <tr style=\"text-align: right;\">\n",
       "      <th></th>\n",
       "      <th>iban</th>\n",
       "      <th>address</th>\n",
       "      <th>iban_clean</th>\n",
       "    </tr>\n",
       "  </thead>\n",
       "  <tbody>\n",
       "    <tr>\n",
       "      <th>0</th>\n",
       "      <td>NO9386011117947</td>\n",
       "      <td>123 Pine Ave.</td>\n",
       "      <td>NO9386011117947</td>\n",
       "    </tr>\n",
       "    <tr>\n",
       "      <th>1</th>\n",
       "      <td>NO92 8601 1117 947</td>\n",
       "      <td>main st</td>\n",
       "      <td>NaN</td>\n",
       "    </tr>\n",
       "    <tr>\n",
       "      <th>2</th>\n",
       "      <td>999 999 999</td>\n",
       "      <td>1234 west main heights 57033</td>\n",
       "      <td>NaN</td>\n",
       "    </tr>\n",
       "    <tr>\n",
       "      <th>3</th>\n",
       "      <td>004085616</td>\n",
       "      <td>apt 1 789 s maple rd manhattan</td>\n",
       "      <td>NaN</td>\n",
       "    </tr>\n",
       "    <tr>\n",
       "      <th>4</th>\n",
       "      <td>002 724 334</td>\n",
       "      <td>robie house, 789 north main street</td>\n",
       "      <td>NaN</td>\n",
       "    </tr>\n",
       "    <tr>\n",
       "      <th>5</th>\n",
       "      <td>hello</td>\n",
       "      <td>1111 S Figueroa St, Los Angeles, CA 90015</td>\n",
       "      <td>NaN</td>\n",
       "    </tr>\n",
       "    <tr>\n",
       "      <th>6</th>\n",
       "      <td>NaN</td>\n",
       "      <td>(staples center) 1111 S Figueroa St, Los Angeles</td>\n",
       "      <td>NaN</td>\n",
       "    </tr>\n",
       "    <tr>\n",
       "      <th>7</th>\n",
       "      <td>NULL</td>\n",
       "      <td>hello</td>\n",
       "      <td>NaN</td>\n",
       "    </tr>\n",
       "  </tbody>\n",
       "</table>\n",
       "</div>"
      ],
      "text/plain": [
       "                 iban                                           address  \\\n",
       "0     NO9386011117947                                     123 Pine Ave.   \n",
       "1  NO92 8601 1117 947                                           main st   \n",
       "2         999 999 999                      1234 west main heights 57033   \n",
       "3           004085616                    apt 1 789 s maple rd manhattan   \n",
       "4         002 724 334                robie house, 789 north main street   \n",
       "5               hello         1111 S Figueroa St, Los Angeles, CA 90015   \n",
       "6                 NaN  (staples center) 1111 S Figueroa St, Los Angeles   \n",
       "7                NULL                                             hello   \n",
       "\n",
       "        iban_clean  \n",
       "0  NO9386011117947  \n",
       "1              NaN  \n",
       "2              NaN  \n",
       "3              NaN  \n",
       "4              NaN  \n",
       "5              NaN  \n",
       "6              NaN  \n",
       "7              NaN  "
      ]
     },
     "execution_count": 1,
     "metadata": {},
     "output_type": "execute_result"
    }
   ],
   "source": [
    "clean_no_iban(df, column = \"iban\", output_format=\"compact\")"
   ]
  },
  {
   "cell_type": "markdown",
   "id": "included-plain",
   "metadata": {},
   "source": [
    "### `kontonr`"
   ]
  },
  {
   "cell_type": "code",
   "execution_count": 5,
   "id": "potential-concentration",
   "metadata": {
    "execution": {
     "iopub.execute_input": "2021-10-30T05:22:55.306891Z",
     "iopub.status.busy": "2021-10-30T05:22:55.300424Z",
     "iopub.status.idle": "2021-10-30T05:22:55.309177Z",
     "shell.execute_reply": "2021-10-30T05:22:55.308677Z"
    }
   },
   "outputs": [
    {
     "data": {
      "text/html": [
       "<div>\n",
       "<style scoped>\n",
       "    .dataframe tbody tr th:only-of-type {\n",
       "        vertical-align: middle;\n",
       "    }\n",
       "\n",
       "    .dataframe tbody tr th {\n",
       "        vertical-align: top;\n",
       "    }\n",
       "\n",
       "    .dataframe thead th {\n",
       "        text-align: right;\n",
       "    }\n",
       "</style>\n",
       "<table border=\"1\" class=\"dataframe\">\n",
       "  <thead>\n",
       "    <tr style=\"text-align: right;\">\n",
       "      <th></th>\n",
       "      <th>iban</th>\n",
       "      <th>address</th>\n",
       "      <th>iban_clean</th>\n",
       "    </tr>\n",
       "  </thead>\n",
       "  <tbody>\n",
       "    <tr>\n",
       "      <th>0</th>\n",
       "      <td>NO9386011117947</td>\n",
       "      <td>123 Pine Ave.</td>\n",
       "      <td>86011117947</td>\n",
       "    </tr>\n",
       "    <tr>\n",
       "      <th>1</th>\n",
       "      <td>NO92 8601 1117 947</td>\n",
       "      <td>main st</td>\n",
       "      <td>NaN</td>\n",
       "    </tr>\n",
       "    <tr>\n",
       "      <th>2</th>\n",
       "      <td>999 999 999</td>\n",
       "      <td>1234 west main heights 57033</td>\n",
       "      <td>NaN</td>\n",
       "    </tr>\n",
       "    <tr>\n",
       "      <th>3</th>\n",
       "      <td>004085616</td>\n",
       "      <td>apt 1 789 s maple rd manhattan</td>\n",
       "      <td>NaN</td>\n",
       "    </tr>\n",
       "    <tr>\n",
       "      <th>4</th>\n",
       "      <td>002 724 334</td>\n",
       "      <td>robie house, 789 north main street</td>\n",
       "      <td>NaN</td>\n",
       "    </tr>\n",
       "    <tr>\n",
       "      <th>5</th>\n",
       "      <td>hello</td>\n",
       "      <td>1111 S Figueroa St, Los Angeles, CA 90015</td>\n",
       "      <td>NaN</td>\n",
       "    </tr>\n",
       "    <tr>\n",
       "      <th>6</th>\n",
       "      <td>NaN</td>\n",
       "      <td>(staples center) 1111 S Figueroa St, Los Angeles</td>\n",
       "      <td>NaN</td>\n",
       "    </tr>\n",
       "    <tr>\n",
       "      <th>7</th>\n",
       "      <td>NULL</td>\n",
       "      <td>hello</td>\n",
       "      <td>NaN</td>\n",
       "    </tr>\n",
       "  </tbody>\n",
       "</table>\n",
       "</div>"
      ],
      "text/plain": [
       "                 iban                                           address  \\\n",
       "0     NO9386011117947                                     123 Pine Ave.   \n",
       "1  NO92 8601 1117 947                                           main st   \n",
       "2         999 999 999                      1234 west main heights 57033   \n",
       "3           004085616                    apt 1 789 s maple rd manhattan   \n",
       "4         002 724 334                robie house, 789 north main street   \n",
       "5               hello         1111 S Figueroa St, Los Angeles, CA 90015   \n",
       "6                 NaN  (staples center) 1111 S Figueroa St, Los Angeles   \n",
       "7                NULL                                             hello   \n",
       "\n",
       "    iban_clean  \n",
       "0  86011117947  \n",
       "1          NaN  \n",
       "2          NaN  \n",
       "3          NaN  \n",
       "4          NaN  \n",
       "5          NaN  \n",
       "6          NaN  \n",
       "7          NaN  "
      ]
     },
     "execution_count": 1,
     "metadata": {},
     "output_type": "execute_result"
    }
   ],
   "source": [
    "clean_no_iban(df, column = \"iban\", output_format=\"kontonr\")"
   ]
  },
  {
   "cell_type": "markdown",
   "id": "french-wallpaper",
   "metadata": {},
   "source": [
    "## 3. `inplace` parameter\n",
    "\n",
    "This deletes the given column from the returned DataFrame. \n",
    "A new column containing cleaned IBAN strings is added with a title in the format `\"{original title}_clean\"`."
   ]
  },
  {
   "cell_type": "code",
   "execution_count": 6,
   "id": "amazing-relay",
   "metadata": {
    "execution": {
     "iopub.execute_input": "2021-10-30T05:22:55.340640Z",
     "iopub.status.busy": "2021-10-30T05:22:55.334261Z",
     "iopub.status.idle": "2021-10-30T05:22:55.346628Z",
     "shell.execute_reply": "2021-10-30T05:22:55.347044Z"
    }
   },
   "outputs": [
    {
     "data": {
      "text/html": [
       "<div>\n",
       "<style scoped>\n",
       "    .dataframe tbody tr th:only-of-type {\n",
       "        vertical-align: middle;\n",
       "    }\n",
       "\n",
       "    .dataframe tbody tr th {\n",
       "        vertical-align: top;\n",
       "    }\n",
       "\n",
       "    .dataframe thead th {\n",
       "        text-align: right;\n",
       "    }\n",
       "</style>\n",
       "<table border=\"1\" class=\"dataframe\">\n",
       "  <thead>\n",
       "    <tr style=\"text-align: right;\">\n",
       "      <th></th>\n",
       "      <th>iban_clean</th>\n",
       "      <th>address</th>\n",
       "    </tr>\n",
       "  </thead>\n",
       "  <tbody>\n",
       "    <tr>\n",
       "      <th>0</th>\n",
       "      <td>NO93 8601 1117 947</td>\n",
       "      <td>123 Pine Ave.</td>\n",
       "    </tr>\n",
       "    <tr>\n",
       "      <th>1</th>\n",
       "      <td>NaN</td>\n",
       "      <td>main st</td>\n",
       "    </tr>\n",
       "    <tr>\n",
       "      <th>2</th>\n",
       "      <td>NaN</td>\n",
       "      <td>1234 west main heights 57033</td>\n",
       "    </tr>\n",
       "    <tr>\n",
       "      <th>3</th>\n",
       "      <td>NaN</td>\n",
       "      <td>apt 1 789 s maple rd manhattan</td>\n",
       "    </tr>\n",
       "    <tr>\n",
       "      <th>4</th>\n",
       "      <td>NaN</td>\n",
       "      <td>robie house, 789 north main street</td>\n",
       "    </tr>\n",
       "    <tr>\n",
       "      <th>5</th>\n",
       "      <td>NaN</td>\n",
       "      <td>1111 S Figueroa St, Los Angeles, CA 90015</td>\n",
       "    </tr>\n",
       "    <tr>\n",
       "      <th>6</th>\n",
       "      <td>NaN</td>\n",
       "      <td>(staples center) 1111 S Figueroa St, Los Angeles</td>\n",
       "    </tr>\n",
       "    <tr>\n",
       "      <th>7</th>\n",
       "      <td>NaN</td>\n",
       "      <td>hello</td>\n",
       "    </tr>\n",
       "  </tbody>\n",
       "</table>\n",
       "</div>"
      ],
      "text/plain": [
       "           iban_clean                                           address\n",
       "0  NO93 8601 1117 947                                     123 Pine Ave.\n",
       "1                 NaN                                           main st\n",
       "2                 NaN                      1234 west main heights 57033\n",
       "3                 NaN                    apt 1 789 s maple rd manhattan\n",
       "4                 NaN                robie house, 789 north main street\n",
       "5                 NaN         1111 S Figueroa St, Los Angeles, CA 90015\n",
       "6                 NaN  (staples center) 1111 S Figueroa St, Los Angeles\n",
       "7                 NaN                                             hello"
      ]
     },
     "execution_count": 1,
     "metadata": {},
     "output_type": "execute_result"
    }
   ],
   "source": [
    "clean_no_iban(df, column=\"iban\", inplace=True)"
   ]
  },
  {
   "cell_type": "markdown",
   "id": "stupid-symposium",
   "metadata": {},
   "source": [
    "## 4. `errors` parameter"
   ]
  },
  {
   "cell_type": "markdown",
   "id": "seventh-twelve",
   "metadata": {},
   "source": [
    "### `coerce` (default)"
   ]
  },
  {
   "cell_type": "code",
   "execution_count": 7,
   "id": "expressed-slovenia",
   "metadata": {
    "execution": {
     "iopub.execute_input": "2021-10-30T05:22:55.368383Z",
     "iopub.status.busy": "2021-10-30T05:22:55.357005Z",
     "iopub.status.idle": "2021-10-30T05:22:55.375640Z",
     "shell.execute_reply": "2021-10-30T05:22:55.375196Z"
    }
   },
   "outputs": [
    {
     "data": {
      "text/html": [
       "<div>\n",
       "<style scoped>\n",
       "    .dataframe tbody tr th:only-of-type {\n",
       "        vertical-align: middle;\n",
       "    }\n",
       "\n",
       "    .dataframe tbody tr th {\n",
       "        vertical-align: top;\n",
       "    }\n",
       "\n",
       "    .dataframe thead th {\n",
       "        text-align: right;\n",
       "    }\n",
       "</style>\n",
       "<table border=\"1\" class=\"dataframe\">\n",
       "  <thead>\n",
       "    <tr style=\"text-align: right;\">\n",
       "      <th></th>\n",
       "      <th>iban</th>\n",
       "      <th>address</th>\n",
       "      <th>iban_clean</th>\n",
       "    </tr>\n",
       "  </thead>\n",
       "  <tbody>\n",
       "    <tr>\n",
       "      <th>0</th>\n",
       "      <td>NO9386011117947</td>\n",
       "      <td>123 Pine Ave.</td>\n",
       "      <td>NO93 8601 1117 947</td>\n",
       "    </tr>\n",
       "    <tr>\n",
       "      <th>1</th>\n",
       "      <td>NO92 8601 1117 947</td>\n",
       "      <td>main st</td>\n",
       "      <td>NaN</td>\n",
       "    </tr>\n",
       "    <tr>\n",
       "      <th>2</th>\n",
       "      <td>999 999 999</td>\n",
       "      <td>1234 west main heights 57033</td>\n",
       "      <td>NaN</td>\n",
       "    </tr>\n",
       "    <tr>\n",
       "      <th>3</th>\n",
       "      <td>004085616</td>\n",
       "      <td>apt 1 789 s maple rd manhattan</td>\n",
       "      <td>NaN</td>\n",
       "    </tr>\n",
       "    <tr>\n",
       "      <th>4</th>\n",
       "      <td>002 724 334</td>\n",
       "      <td>robie house, 789 north main street</td>\n",
       "      <td>NaN</td>\n",
       "    </tr>\n",
       "    <tr>\n",
       "      <th>5</th>\n",
       "      <td>hello</td>\n",
       "      <td>1111 S Figueroa St, Los Angeles, CA 90015</td>\n",
       "      <td>NaN</td>\n",
       "    </tr>\n",
       "    <tr>\n",
       "      <th>6</th>\n",
       "      <td>NaN</td>\n",
       "      <td>(staples center) 1111 S Figueroa St, Los Angeles</td>\n",
       "      <td>NaN</td>\n",
       "    </tr>\n",
       "    <tr>\n",
       "      <th>7</th>\n",
       "      <td>NULL</td>\n",
       "      <td>hello</td>\n",
       "      <td>NaN</td>\n",
       "    </tr>\n",
       "  </tbody>\n",
       "</table>\n",
       "</div>"
      ],
      "text/plain": [
       "                 iban                                           address  \\\n",
       "0     NO9386011117947                                     123 Pine Ave.   \n",
       "1  NO92 8601 1117 947                                           main st   \n",
       "2         999 999 999                      1234 west main heights 57033   \n",
       "3           004085616                    apt 1 789 s maple rd manhattan   \n",
       "4         002 724 334                robie house, 789 north main street   \n",
       "5               hello         1111 S Figueroa St, Los Angeles, CA 90015   \n",
       "6                 NaN  (staples center) 1111 S Figueroa St, Los Angeles   \n",
       "7                NULL                                             hello   \n",
       "\n",
       "           iban_clean  \n",
       "0  NO93 8601 1117 947  \n",
       "1                 NaN  \n",
       "2                 NaN  \n",
       "3                 NaN  \n",
       "4                 NaN  \n",
       "5                 NaN  \n",
       "6                 NaN  \n",
       "7                 NaN  "
      ]
     },
     "execution_count": 1,
     "metadata": {},
     "output_type": "execute_result"
    }
   ],
   "source": [
    "clean_no_iban(df, \"iban\", errors=\"coerce\")"
   ]
  },
  {
   "cell_type": "markdown",
   "id": "relevant-rwanda",
   "metadata": {},
   "source": [
    "### `ignore`"
   ]
  },
  {
   "cell_type": "code",
   "execution_count": 8,
   "id": "isolated-niger",
   "metadata": {
    "execution": {
     "iopub.execute_input": "2021-10-30T05:22:55.397176Z",
     "iopub.status.busy": "2021-10-30T05:22:55.395579Z",
     "iopub.status.idle": "2021-10-30T05:22:55.403933Z",
     "shell.execute_reply": "2021-10-30T05:22:55.404307Z"
    }
   },
   "outputs": [
    {
     "data": {
      "text/html": [
       "<div>\n",
       "<style scoped>\n",
       "    .dataframe tbody tr th:only-of-type {\n",
       "        vertical-align: middle;\n",
       "    }\n",
       "\n",
       "    .dataframe tbody tr th {\n",
       "        vertical-align: top;\n",
       "    }\n",
       "\n",
       "    .dataframe thead th {\n",
       "        text-align: right;\n",
       "    }\n",
       "</style>\n",
       "<table border=\"1\" class=\"dataframe\">\n",
       "  <thead>\n",
       "    <tr style=\"text-align: right;\">\n",
       "      <th></th>\n",
       "      <th>iban</th>\n",
       "      <th>address</th>\n",
       "      <th>iban_clean</th>\n",
       "    </tr>\n",
       "  </thead>\n",
       "  <tbody>\n",
       "    <tr>\n",
       "      <th>0</th>\n",
       "      <td>NO9386011117947</td>\n",
       "      <td>123 Pine Ave.</td>\n",
       "      <td>NO93 8601 1117 947</td>\n",
       "    </tr>\n",
       "    <tr>\n",
       "      <th>1</th>\n",
       "      <td>NO92 8601 1117 947</td>\n",
       "      <td>main st</td>\n",
       "      <td>NO92 8601 1117 947</td>\n",
       "    </tr>\n",
       "    <tr>\n",
       "      <th>2</th>\n",
       "      <td>999 999 999</td>\n",
       "      <td>1234 west main heights 57033</td>\n",
       "      <td>999 999 999</td>\n",
       "    </tr>\n",
       "    <tr>\n",
       "      <th>3</th>\n",
       "      <td>004085616</td>\n",
       "      <td>apt 1 789 s maple rd manhattan</td>\n",
       "      <td>004085616</td>\n",
       "    </tr>\n",
       "    <tr>\n",
       "      <th>4</th>\n",
       "      <td>002 724 334</td>\n",
       "      <td>robie house, 789 north main street</td>\n",
       "      <td>002 724 334</td>\n",
       "    </tr>\n",
       "    <tr>\n",
       "      <th>5</th>\n",
       "      <td>hello</td>\n",
       "      <td>1111 S Figueroa St, Los Angeles, CA 90015</td>\n",
       "      <td>hello</td>\n",
       "    </tr>\n",
       "    <tr>\n",
       "      <th>6</th>\n",
       "      <td>NaN</td>\n",
       "      <td>(staples center) 1111 S Figueroa St, Los Angeles</td>\n",
       "      <td>NaN</td>\n",
       "    </tr>\n",
       "    <tr>\n",
       "      <th>7</th>\n",
       "      <td>NULL</td>\n",
       "      <td>hello</td>\n",
       "      <td>NaN</td>\n",
       "    </tr>\n",
       "  </tbody>\n",
       "</table>\n",
       "</div>"
      ],
      "text/plain": [
       "                 iban                                           address  \\\n",
       "0     NO9386011117947                                     123 Pine Ave.   \n",
       "1  NO92 8601 1117 947                                           main st   \n",
       "2         999 999 999                      1234 west main heights 57033   \n",
       "3           004085616                    apt 1 789 s maple rd manhattan   \n",
       "4         002 724 334                robie house, 789 north main street   \n",
       "5               hello         1111 S Figueroa St, Los Angeles, CA 90015   \n",
       "6                 NaN  (staples center) 1111 S Figueroa St, Los Angeles   \n",
       "7                NULL                                             hello   \n",
       "\n",
       "           iban_clean  \n",
       "0  NO93 8601 1117 947  \n",
       "1  NO92 8601 1117 947  \n",
       "2         999 999 999  \n",
       "3           004085616  \n",
       "4         002 724 334  \n",
       "5               hello  \n",
       "6                 NaN  \n",
       "7                 NaN  "
      ]
     },
     "execution_count": 1,
     "metadata": {},
     "output_type": "execute_result"
    }
   ],
   "source": [
    "clean_no_iban(df, \"iban\", errors=\"ignore\")"
   ]
  },
  {
   "cell_type": "markdown",
   "id": "peripheral-agriculture",
   "metadata": {},
   "source": [
    "## 4. `validate_no_iban()`"
   ]
  },
  {
   "cell_type": "markdown",
   "id": "stable-confusion",
   "metadata": {},
   "source": [
    "`validate_no_iban()` returns `True` when the input is a valid IBAN. Otherwise it returns `False`.\n",
    "\n",
    "The input of `validate_no_iban()` can be a string, a Pandas DataSeries, a Dask DataSeries, a Pandas DataFrame and a dask DataFrame.\n",
    "\n",
    "When the input is a string, a Pandas DataSeries or a Dask DataSeries, user doesn't need to specify a column name to be validated. \n",
    "\n",
    "When the input is a Pandas DataFrame or a dask DataFrame, user can both specify or not specify a column name to be validated. If user specify the column name, `validate_no_iban()` only returns the validation result for the specified column. If user doesn't specify the column name, `validate_no_iban()` returns the validation result for the whole DataFrame."
   ]
  },
  {
   "cell_type": "code",
   "execution_count": 9,
   "id": "digital-palmer",
   "metadata": {
    "execution": {
     "iopub.execute_input": "2021-10-30T05:22:55.410932Z",
     "iopub.status.busy": "2021-10-30T05:22:55.409847Z",
     "iopub.status.idle": "2021-10-30T05:22:55.412661Z",
     "shell.execute_reply": "2021-10-30T05:22:55.412205Z"
    }
   },
   "outputs": [
    {
     "name": "stdout",
     "output_type": "stream",
     "text": [
      "True\n",
      "False\n",
      "False\n",
      "False\n",
      "False\n",
      "False\n",
      "False\n",
      "False\n"
     ]
    }
   ],
   "source": [
    "from dataprep.clean import validate_no_iban\n",
    "print(validate_no_iban(\"NO9386011117947\"))\n",
    "print(validate_no_iban(\"NO92 8601 1117 947\"))\n",
    "print(validate_no_iban(\"999 999 999\"))\n",
    "print(validate_no_iban(\"51824753556\"))\n",
    "print(validate_no_iban(\"004085616\"))\n",
    "print(validate_no_iban(\"hello\"))\n",
    "print(validate_no_iban(np.nan))\n",
    "print(validate_no_iban(\"NULL\"))"
   ]
  },
  {
   "cell_type": "markdown",
   "id": "valuable-grill",
   "metadata": {},
   "source": [
    "### Series"
   ]
  },
  {
   "cell_type": "code",
   "execution_count": 10,
   "id": "final-jefferson",
   "metadata": {
    "execution": {
     "iopub.execute_input": "2021-10-30T05:22:55.417966Z",
     "iopub.status.busy": "2021-10-30T05:22:55.417424Z",
     "iopub.status.idle": "2021-10-30T05:22:55.419800Z",
     "shell.execute_reply": "2021-10-30T05:22:55.420187Z"
    }
   },
   "outputs": [
    {
     "data": {
      "text/plain": [
       "0     True\n",
       "1    False\n",
       "2    False\n",
       "3    False\n",
       "4    False\n",
       "5    False\n",
       "6    False\n",
       "7    False\n",
       "Name: iban, dtype: bool"
      ]
     },
     "execution_count": 1,
     "metadata": {},
     "output_type": "execute_result"
    }
   ],
   "source": [
    "validate_no_iban(df[\"iban\"])"
   ]
  },
  {
   "cell_type": "markdown",
   "id": "orange-rogers",
   "metadata": {},
   "source": [
    "### DataFrame + Specify Column"
   ]
  },
  {
   "cell_type": "code",
   "execution_count": 11,
   "id": "informative-makeup",
   "metadata": {
    "execution": {
     "iopub.execute_input": "2021-10-30T05:22:55.425327Z",
     "iopub.status.busy": "2021-10-30T05:22:55.424803Z",
     "iopub.status.idle": "2021-10-30T05:22:55.427187Z",
     "shell.execute_reply": "2021-10-30T05:22:55.427599Z"
    }
   },
   "outputs": [
    {
     "data": {
      "text/plain": [
       "0     True\n",
       "1    False\n",
       "2    False\n",
       "3    False\n",
       "4    False\n",
       "5    False\n",
       "6    False\n",
       "7    False\n",
       "Name: iban, dtype: bool"
      ]
     },
     "execution_count": 1,
     "metadata": {},
     "output_type": "execute_result"
    }
   ],
   "source": [
    "validate_no_iban(df, column=\"iban\")"
   ]
  },
  {
   "cell_type": "markdown",
   "id": "white-engineering",
   "metadata": {},
   "source": [
    "### Only DataFrame"
   ]
  },
  {
   "cell_type": "code",
   "execution_count": 12,
   "id": "consecutive-syria",
   "metadata": {
    "execution": {
     "iopub.execute_input": "2021-10-30T05:22:55.430897Z",
     "iopub.status.busy": "2021-10-30T05:22:55.430390Z",
     "iopub.status.idle": "2021-10-30T05:22:55.438069Z",
     "shell.execute_reply": "2021-10-30T05:22:55.437673Z"
    }
   },
   "outputs": [
    {
     "data": {
      "text/html": [
       "<div>\n",
       "<style scoped>\n",
       "    .dataframe tbody tr th:only-of-type {\n",
       "        vertical-align: middle;\n",
       "    }\n",
       "\n",
       "    .dataframe tbody tr th {\n",
       "        vertical-align: top;\n",
       "    }\n",
       "\n",
       "    .dataframe thead th {\n",
       "        text-align: right;\n",
       "    }\n",
       "</style>\n",
       "<table border=\"1\" class=\"dataframe\">\n",
       "  <thead>\n",
       "    <tr style=\"text-align: right;\">\n",
       "      <th></th>\n",
       "      <th>iban</th>\n",
       "      <th>address</th>\n",
       "    </tr>\n",
       "  </thead>\n",
       "  <tbody>\n",
       "    <tr>\n",
       "      <th>0</th>\n",
       "      <td>True</td>\n",
       "      <td>False</td>\n",
       "    </tr>\n",
       "    <tr>\n",
       "      <th>1</th>\n",
       "      <td>False</td>\n",
       "      <td>False</td>\n",
       "    </tr>\n",
       "    <tr>\n",
       "      <th>2</th>\n",
       "      <td>False</td>\n",
       "      <td>False</td>\n",
       "    </tr>\n",
       "    <tr>\n",
       "      <th>3</th>\n",
       "      <td>False</td>\n",
       "      <td>False</td>\n",
       "    </tr>\n",
       "    <tr>\n",
       "      <th>4</th>\n",
       "      <td>False</td>\n",
       "      <td>False</td>\n",
       "    </tr>\n",
       "    <tr>\n",
       "      <th>5</th>\n",
       "      <td>False</td>\n",
       "      <td>False</td>\n",
       "    </tr>\n",
       "    <tr>\n",
       "      <th>6</th>\n",
       "      <td>False</td>\n",
       "      <td>False</td>\n",
       "    </tr>\n",
       "    <tr>\n",
       "      <th>7</th>\n",
       "      <td>False</td>\n",
       "      <td>False</td>\n",
       "    </tr>\n",
       "  </tbody>\n",
       "</table>\n",
       "</div>"
      ],
      "text/plain": [
       "    iban  address\n",
       "0   True    False\n",
       "1  False    False\n",
       "2  False    False\n",
       "3  False    False\n",
       "4  False    False\n",
       "5  False    False\n",
       "6  False    False\n",
       "7  False    False"
      ]
     },
     "execution_count": 1,
     "metadata": {},
     "output_type": "execute_result"
    }
   ],
   "source": [
    "validate_no_iban(df)"
   ]
  },
  {
   "cell_type": "code",
   "execution_count": null,
   "id": "difficult-worst",
   "metadata": {},
   "outputs": [],
   "source": []
  }
 ],
 "metadata": {
  "kernelspec": {
   "display_name": "Python 3",
   "language": "python",
   "name": "python3"
  },
  "language_info": {
   "codemirror_mode": {
    "name": "ipython",
    "version": 3
   },
   "file_extension": ".py",
   "mimetype": "text/x-python",
   "name": "python",
   "nbconvert_exporter": "python",
   "pygments_lexer": "ipython3",
   "version": "3.8.10"
  }
 },
 "nbformat": 4,
 "nbformat_minor": 5
}
