{
 "cells": [
  {
   "cell_type": "raw",
   "id": "general-quilt",
   "metadata": {},
   "source": [
    ".. _iban_userguide:\n",
    "\n",
    "IBAN Strings\n",
    "============"
   ]
  },
  {
   "cell_type": "raw",
   "id": "placed-interview",
   "metadata": {},
   "source": [
    "Introduction\n",
    "------------\n",
    "\n",
    "The function :func:`clean_no_iban() <dataprep.clean.clean_no_iban.clean_no_iban>` cleans a column containing Norwegian IBAN (IBAN) strings, and standardizes them in a given format. The function :func:`validate_no_iban() <dataprep.clean.clean_no_iban.validate_no_iban>` validates either a single IBAN strings, a column of IBAN strings or a DataFrame of IBAN strings, returning `True` if the value is valid, and `False` otherwise."
   ]
  },
  {
   "cell_type": "markdown",
   "id": "traditional-botswana",
   "metadata": {},
   "source": [
    "IBAN strings can be converted to the following formats via the `output_format` parameter:\n",
    "\n",
    "* `compact`: only number strings without any seperators or whitespace, like \"NO9386011117947\"\n",
    "* `standard`: IBAN strings with proper whitespace in the proper places, like \"NO93 8601 1117 947\"\n",
    "* `kontonr`: return the Norwegian bank account part of the number, like \"86011117947\".\n",
    "\n",
    "Invalid parsing is handled with the `errors` parameter:\n",
    "\n",
    "* `coerce` (default): invalid parsing will be set to NaN\n",
    "* `ignore`: invalid parsing will return the input\n",
    "* `raise`: invalid parsing will raise an exception\n",
    "\n",
    "The following sections demonstrate the functionality of `clean_no_iban()` and `validate_no_iban()`. "
   ]
  },
  {
   "cell_type": "markdown",
   "id": "defensive-lambda",
   "metadata": {},
   "source": [
    "### An example dataset containing IBAN strings"
   ]
  },
  {
   "cell_type": "code",
   "execution_count": 1,
   "id": "built-helicopter",
   "metadata": {
    "execution": {
     "iopub.execute_input": "2021-10-26T23:41:36.980162Z",
     "iopub.status.busy": "2021-10-26T23:41:36.978573Z",
     "iopub.status.idle": "2021-10-26T23:41:37.283194Z",
     "shell.execute_reply": "2021-10-26T23:41:37.282491Z"
    },
    "scrolled": true
   },
   "outputs": [
    {
     "data": {
      "text/html": [
       "<div>\n",
       "<style scoped>\n",
       "    .dataframe tbody tr th:only-of-type {\n",
       "        vertical-align: middle;\n",
       "    }\n",
       "\n",
       "    .dataframe tbody tr th {\n",
       "        vertical-align: top;\n",
       "    }\n",
       "\n",
       "    .dataframe thead th {\n",
       "        text-align: right;\n",
       "    }\n",
       "</style>\n",
       "<table border=\"1\" class=\"dataframe\">\n",
       "  <thead>\n",
       "    <tr style=\"text-align: right;\">\n",
       "      <th></th>\n",
       "      <th>iban</th>\n",
       "      <th>address</th>\n",
       "    </tr>\n",
       "  </thead>\n",
       "  <tbody>\n",
       "    <tr>\n",
       "      <th>0</th>\n",
       "      <td>NO9386011117947</td>\n",
       "      <td>123 Pine Ave.</td>\n",
       "    </tr>\n",
       "    <tr>\n",
       "      <th>1</th>\n",
       "      <td>NO92 8601 1117 947</td>\n",
       "      <td>main st</td>\n",
       "    </tr>\n",
       "    <tr>\n",
       "      <th>2</th>\n",
       "      <td>999 999 999</td>\n",
       "      <td>1234 west main heights 57033</td>\n",
       "    </tr>\n",
       "    <tr>\n",
       "      <th>3</th>\n",
       "      <td>004085616</td>\n",
       "      <td>apt 1 789 s maple rd manhattan</td>\n",
       "    </tr>\n",
       "    <tr>\n",
       "      <th>4</th>\n",
       "      <td>002 724 334</td>\n",
       "      <td>robie house, 789 north main street</td>\n",
       "    </tr>\n",
       "    <tr>\n",
       "      <th>5</th>\n",
       "      <td>hello</td>\n",
       "      <td>1111 S Figueroa St, Los Angeles, CA 90015</td>\n",
       "    </tr>\n",
       "    <tr>\n",
       "      <th>6</th>\n",
       "      <td>NaN</td>\n",
       "      <td>(staples center) 1111 S Figueroa St, Los Angeles</td>\n",
       "    </tr>\n",
       "    <tr>\n",
       "      <th>7</th>\n",
       "      <td>NULL</td>\n",
       "      <td>hello</td>\n",
       "    </tr>\n",
       "  </tbody>\n",
       "</table>\n",
       "</div>"
      ],
      "text/plain": [
       "                 iban                                           address\n",
       "0     NO9386011117947                                     123 Pine Ave.\n",
       "1  NO92 8601 1117 947                                           main st\n",
       "2         999 999 999                      1234 west main heights 57033\n",
       "3           004085616                    apt 1 789 s maple rd manhattan\n",
       "4         002 724 334                robie house, 789 north main street\n",
       "5               hello         1111 S Figueroa St, Los Angeles, CA 90015\n",
       "6                 NaN  (staples center) 1111 S Figueroa St, Los Angeles\n",
       "7                NULL                                             hello"
      ]
     },
     "execution_count": 1,
     "metadata": {},
     "output_type": "execute_result"
    }
   ],
   "source": [
    "import pandas as pd\n",
    "import numpy as np\n",
    "df = pd.DataFrame(\n",
    "    {\n",
    "        \"iban\": [\n",
    "            'NO9386011117947',\n",
    "            'NO92 8601 1117 947',\n",
    "            \"999 999 999\",\n",
    "            \"004085616\",\n",
    "            \"002 724 334\",\n",
    "            \"hello\",\n",
    "            np.nan,\n",
    "            \"NULL\",\n",
    "        ], \n",
    "        \"address\": [\n",
    "            \"123 Pine Ave.\",\n",
    "            \"main st\",\n",
    "            \"1234 west main heights 57033\",\n",
    "            \"apt 1 789 s maple rd manhattan\",\n",
    "            \"robie house, 789 north main street\",\n",
    "            \"1111 S Figueroa St, Los Angeles, CA 90015\",\n",
    "            \"(staples center) 1111 S Figueroa St, Los Angeles\",\n",
    "            \"hello\",\n",
    "        ]\n",
    "    }\n",
    ")\n",
    "df"
   ]
  },
  {
   "cell_type": "markdown",
   "id": "musical-queensland",
   "metadata": {},
   "source": [
    "## 1. Default `clean_no_iban`\n",
    "\n",
    "By default, `clean_no_iban` will clean iban strings and output them in the standard format with proper separators."
   ]
  },
  {
   "cell_type": "code",
   "execution_count": 2,
   "id": "covered-wrong",
   "metadata": {
    "execution": {
     "iopub.execute_input": "2021-10-26T23:41:37.287933Z",
     "iopub.status.busy": "2021-10-26T23:41:37.287245Z",
     "iopub.status.idle": "2021-10-26T23:41:38.043998Z",
     "shell.execute_reply": "2021-10-26T23:41:38.042318Z"
    }
   },
   "outputs": [
    {
     "data": {
      "text/html": [
       "<div>\n",
       "<style scoped>\n",
       "    .dataframe tbody tr th:only-of-type {\n",
       "        vertical-align: middle;\n",
       "    }\n",
       "\n",
       "    .dataframe tbody tr th {\n",
       "        vertical-align: top;\n",
       "    }\n",
       "\n",
       "    .dataframe thead th {\n",
       "        text-align: right;\n",
       "    }\n",
       "</style>\n",
       "<table border=\"1\" class=\"dataframe\">\n",
       "  <thead>\n",
       "    <tr style=\"text-align: right;\">\n",
       "      <th></th>\n",
       "      <th>iban</th>\n",
       "      <th>address</th>\n",
       "      <th>iban_clean</th>\n",
       "    </tr>\n",
       "  </thead>\n",
       "  <tbody>\n",
       "    <tr>\n",
       "      <th>0</th>\n",
       "      <td>NO9386011117947</td>\n",
       "      <td>123 Pine Ave.</td>\n",
       "      <td>NO93 8601 1117 947</td>\n",
       "    </tr>\n",
       "    <tr>\n",
       "      <th>1</th>\n",
       "      <td>NO92 8601 1117 947</td>\n",
       "      <td>main st</td>\n",
       "      <td>NaN</td>\n",
       "    </tr>\n",
       "    <tr>\n",
       "      <th>2</th>\n",
       "      <td>999 999 999</td>\n",
       "      <td>1234 west main heights 57033</td>\n",
       "      <td>NaN</td>\n",
       "    </tr>\n",
       "    <tr>\n",
       "      <th>3</th>\n",
       "      <td>004085616</td>\n",
       "      <td>apt 1 789 s maple rd manhattan</td>\n",
       "      <td>NaN</td>\n",
       "    </tr>\n",
       "    <tr>\n",
       "      <th>4</th>\n",
       "      <td>002 724 334</td>\n",
       "      <td>robie house, 789 north main street</td>\n",
       "      <td>NaN</td>\n",
       "    </tr>\n",
       "    <tr>\n",
       "      <th>5</th>\n",
       "      <td>hello</td>\n",
       "      <td>1111 S Figueroa St, Los Angeles, CA 90015</td>\n",
       "      <td>NaN</td>\n",
       "    </tr>\n",
       "    <tr>\n",
       "      <th>6</th>\n",
       "      <td>NaN</td>\n",
       "      <td>(staples center) 1111 S Figueroa St, Los Angeles</td>\n",
       "      <td>NaN</td>\n",
       "    </tr>\n",
       "    <tr>\n",
       "      <th>7</th>\n",
       "      <td>NULL</td>\n",
       "      <td>hello</td>\n",
       "      <td>NaN</td>\n",
       "    </tr>\n",
       "  </tbody>\n",
       "</table>\n",
       "</div>"
      ],
      "text/plain": [
       "                 iban                                           address  \\\n",
       "0     NO9386011117947                                     123 Pine Ave.   \n",
       "1  NO92 8601 1117 947                                           main st   \n",
       "2         999 999 999                      1234 west main heights 57033   \n",
       "3           004085616                    apt 1 789 s maple rd manhattan   \n",
       "4         002 724 334                robie house, 789 north main street   \n",
       "5               hello         1111 S Figueroa St, Los Angeles, CA 90015   \n",
       "6                 NaN  (staples center) 1111 S Figueroa St, Los Angeles   \n",
       "7                NULL                                             hello   \n",
       "\n",
       "           iban_clean  \n",
       "0  NO93 8601 1117 947  \n",
       "1                 NaN  \n",
       "2                 NaN  \n",
       "3                 NaN  \n",
       "4                 NaN  \n",
       "5                 NaN  \n",
       "6                 NaN  \n",
       "7                 NaN  "
      ]
     },
     "execution_count": 1,
     "metadata": {},
     "output_type": "execute_result"
    }
   ],
   "source": [
    "from dataprep.clean import clean_no_iban\n",
    "clean_no_iban(df, column = \"iban\")"
   ]
  },
  {
   "cell_type": "markdown",
   "id": "wound-table",
   "metadata": {},
   "source": [
    "## 2. Output formats"
   ]
  },
  {
   "cell_type": "markdown",
   "id": "false-turtle",
   "metadata": {},
   "source": [
    "This section demonstrates the output parameter."
   ]
  },
  {
   "cell_type": "markdown",
   "id": "interracial-dealer",
   "metadata": {},
   "source": [
    "### `standard` (default)"
   ]
  },
  {
   "cell_type": "code",
   "execution_count": 3,
   "id": "facial-saturday",
   "metadata": {
    "execution": {
     "iopub.execute_input": "2021-10-26T23:41:38.080704Z",
     "iopub.status.busy": "2021-10-26T23:41:38.074510Z",
     "iopub.status.idle": "2021-10-26T23:41:38.086322Z",
     "shell.execute_reply": "2021-10-26T23:41:38.086860Z"
    }
   },
   "outputs": [
    {
     "data": {
      "text/html": [
       "<div>\n",
       "<style scoped>\n",
       "    .dataframe tbody tr th:only-of-type {\n",
       "        vertical-align: middle;\n",
       "    }\n",
       "\n",
       "    .dataframe tbody tr th {\n",
       "        vertical-align: top;\n",
       "    }\n",
       "\n",
       "    .dataframe thead th {\n",
       "        text-align: right;\n",
       "    }\n",
       "</style>\n",
       "<table border=\"1\" class=\"dataframe\">\n",
       "  <thead>\n",
       "    <tr style=\"text-align: right;\">\n",
       "      <th></th>\n",
       "      <th>iban</th>\n",
       "      <th>address</th>\n",
       "      <th>iban_clean</th>\n",
       "    </tr>\n",
       "  </thead>\n",
       "  <tbody>\n",
       "    <tr>\n",
       "      <th>0</th>\n",
       "      <td>NO9386011117947</td>\n",
       "      <td>123 Pine Ave.</td>\n",
       "      <td>NO93 8601 1117 947</td>\n",
       "    </tr>\n",
       "    <tr>\n",
       "      <th>1</th>\n",
       "      <td>NO92 8601 1117 947</td>\n",
       "      <td>main st</td>\n",
       "      <td>NaN</td>\n",
       "    </tr>\n",
       "    <tr>\n",
       "      <th>2</th>\n",
       "      <td>999 999 999</td>\n",
       "      <td>1234 west main heights 57033</td>\n",
       "      <td>NaN</td>\n",
       "    </tr>\n",
       "    <tr>\n",
       "      <th>3</th>\n",
       "      <td>004085616</td>\n",
       "      <td>apt 1 789 s maple rd manhattan</td>\n",
       "      <td>NaN</td>\n",
       "    </tr>\n",
       "    <tr>\n",
       "      <th>4</th>\n",
       "      <td>002 724 334</td>\n",
       "      <td>robie house, 789 north main street</td>\n",
       "      <td>NaN</td>\n",
       "    </tr>\n",
       "    <tr>\n",
       "      <th>5</th>\n",
       "      <td>hello</td>\n",
       "      <td>1111 S Figueroa St, Los Angeles, CA 90015</td>\n",
       "      <td>NaN</td>\n",
       "    </tr>\n",
       "    <tr>\n",
       "      <th>6</th>\n",
       "      <td>NaN</td>\n",
       "      <td>(staples center) 1111 S Figueroa St, Los Angeles</td>\n",
       "      <td>NaN</td>\n",
       "    </tr>\n",
       "    <tr>\n",
       "      <th>7</th>\n",
       "      <td>NULL</td>\n",
       "      <td>hello</td>\n",
       "      <td>NaN</td>\n",
       "    </tr>\n",
       "  </tbody>\n",
       "</table>\n",
       "</div>"
      ],
      "text/plain": [
       "                 iban                                           address  \\\n",
       "0     NO9386011117947                                     123 Pine Ave.   \n",
       "1  NO92 8601 1117 947                                           main st   \n",
       "2         999 999 999                      1234 west main heights 57033   \n",
       "3           004085616                    apt 1 789 s maple rd manhattan   \n",
       "4         002 724 334                robie house, 789 north main street   \n",
       "5               hello         1111 S Figueroa St, Los Angeles, CA 90015   \n",
       "6                 NaN  (staples center) 1111 S Figueroa St, Los Angeles   \n",
       "7                NULL                                             hello   \n",
       "\n",
       "           iban_clean  \n",
       "0  NO93 8601 1117 947  \n",
       "1                 NaN  \n",
       "2                 NaN  \n",
       "3                 NaN  \n",
       "4                 NaN  \n",
       "5                 NaN  \n",
       "6                 NaN  \n",
       "7                 NaN  "
      ]
     },
     "execution_count": 1,
     "metadata": {},
     "output_type": "execute_result"
    }
   ],
   "source": [
    "clean_no_iban(df, column = \"iban\", output_format=\"standard\")"
   ]
  },
  {
   "cell_type": "markdown",
   "id": "level-forward",
   "metadata": {},
   "source": [
    "### `compact`"
   ]
  },
  {
   "cell_type": "code",
   "execution_count": 4,
   "id": "simple-penalty",
   "metadata": {
    "execution": {
     "iopub.execute_input": "2021-10-26T23:41:38.122979Z",
     "iopub.status.busy": "2021-10-26T23:41:38.122246Z",
     "iopub.status.idle": "2021-10-26T23:41:38.130649Z",
     "shell.execute_reply": "2021-10-26T23:41:38.129648Z"
    }
   },
   "outputs": [
    {
     "data": {
      "text/html": [
       "<div>\n",
       "<style scoped>\n",
       "    .dataframe tbody tr th:only-of-type {\n",
       "        vertical-align: middle;\n",
       "    }\n",
       "\n",
       "    .dataframe tbody tr th {\n",
       "        vertical-align: top;\n",
       "    }\n",
       "\n",
       "    .dataframe thead th {\n",
       "        text-align: right;\n",
       "    }\n",
       "</style>\n",
       "<table border=\"1\" class=\"dataframe\">\n",
       "  <thead>\n",
       "    <tr style=\"text-align: right;\">\n",
       "      <th></th>\n",
       "      <th>iban</th>\n",
       "      <th>address</th>\n",
       "      <th>iban_clean</th>\n",
       "    </tr>\n",
       "  </thead>\n",
       "  <tbody>\n",
       "    <tr>\n",
       "      <th>0</th>\n",
       "      <td>NO9386011117947</td>\n",
       "      <td>123 Pine Ave.</td>\n",
       "      <td>NO9386011117947</td>\n",
       "    </tr>\n",
       "    <tr>\n",
       "      <th>1</th>\n",
       "      <td>NO92 8601 1117 947</td>\n",
       "      <td>main st</td>\n",
       "      <td>NaN</td>\n",
       "    </tr>\n",
       "    <tr>\n",
       "      <th>2</th>\n",
       "      <td>999 999 999</td>\n",
       "      <td>1234 west main heights 57033</td>\n",
       "      <td>NaN</td>\n",
       "    </tr>\n",
       "    <tr>\n",
       "      <th>3</th>\n",
       "      <td>004085616</td>\n",
       "      <td>apt 1 789 s maple rd manhattan</td>\n",
       "      <td>NaN</td>\n",
       "    </tr>\n",
       "    <tr>\n",
       "      <th>4</th>\n",
       "      <td>002 724 334</td>\n",
       "      <td>robie house, 789 north main street</td>\n",
       "      <td>NaN</td>\n",
       "    </tr>\n",
       "    <tr>\n",
       "      <th>5</th>\n",
       "      <td>hello</td>\n",
       "      <td>1111 S Figueroa St, Los Angeles, CA 90015</td>\n",
       "      <td>NaN</td>\n",
       "    </tr>\n",
       "    <tr>\n",
       "      <th>6</th>\n",
       "      <td>NaN</td>\n",
       "      <td>(staples center) 1111 S Figueroa St, Los Angeles</td>\n",
       "      <td>NaN</td>\n",
       "    </tr>\n",
       "    <tr>\n",
       "      <th>7</th>\n",
       "      <td>NULL</td>\n",
       "      <td>hello</td>\n",
       "      <td>NaN</td>\n",
       "    </tr>\n",
       "  </tbody>\n",
       "</table>\n",
       "</div>"
      ],
      "text/plain": [
       "                 iban                                           address  \\\n",
       "0     NO9386011117947                                     123 Pine Ave.   \n",
       "1  NO92 8601 1117 947                                           main st   \n",
       "2         999 999 999                      1234 west main heights 57033   \n",
       "3           004085616                    apt 1 789 s maple rd manhattan   \n",
       "4         002 724 334                robie house, 789 north main street   \n",
       "5               hello         1111 S Figueroa St, Los Angeles, CA 90015   \n",
       "6                 NaN  (staples center) 1111 S Figueroa St, Los Angeles   \n",
       "7                NULL                                             hello   \n",
       "\n",
       "        iban_clean  \n",
       "0  NO9386011117947  \n",
       "1              NaN  \n",
       "2              NaN  \n",
       "3              NaN  \n",
       "4              NaN  \n",
       "5              NaN  \n",
       "6              NaN  \n",
       "7              NaN  "
      ]
     },
     "execution_count": 1,
     "metadata": {},
     "output_type": "execute_result"
    }
   ],
   "source": [
    "clean_no_iban(df, column = \"iban\", output_format=\"compact\")"
   ]
  },
  {
   "cell_type": "markdown",
   "id": "regulation-animal",
   "metadata": {},
   "source": [
    "### `kontonr`"
   ]
  },
  {
   "cell_type": "code",
   "execution_count": 5,
   "id": "dietary-democrat",
   "metadata": {
    "execution": {
     "iopub.execute_input": "2021-10-26T23:41:38.160022Z",
     "iopub.status.busy": "2021-10-26T23:41:38.141382Z",
     "iopub.status.idle": "2021-10-26T23:41:38.173251Z",
     "shell.execute_reply": "2021-10-26T23:41:38.172195Z"
    }
   },
   "outputs": [
    {
     "data": {
      "text/html": [
       "<div>\n",
       "<style scoped>\n",
       "    .dataframe tbody tr th:only-of-type {\n",
       "        vertical-align: middle;\n",
       "    }\n",
       "\n",
       "    .dataframe tbody tr th {\n",
       "        vertical-align: top;\n",
       "    }\n",
       "\n",
       "    .dataframe thead th {\n",
       "        text-align: right;\n",
       "    }\n",
       "</style>\n",
       "<table border=\"1\" class=\"dataframe\">\n",
       "  <thead>\n",
       "    <tr style=\"text-align: right;\">\n",
       "      <th></th>\n",
       "      <th>iban</th>\n",
       "      <th>address</th>\n",
       "      <th>iban_clean</th>\n",
       "    </tr>\n",
       "  </thead>\n",
       "  <tbody>\n",
       "    <tr>\n",
       "      <th>0</th>\n",
       "      <td>NO9386011117947</td>\n",
       "      <td>123 Pine Ave.</td>\n",
       "      <td>86011117947</td>\n",
       "    </tr>\n",
       "    <tr>\n",
       "      <th>1</th>\n",
       "      <td>NO92 8601 1117 947</td>\n",
       "      <td>main st</td>\n",
       "      <td>NaN</td>\n",
       "    </tr>\n",
       "    <tr>\n",
       "      <th>2</th>\n",
       "      <td>999 999 999</td>\n",
       "      <td>1234 west main heights 57033</td>\n",
       "      <td>NaN</td>\n",
       "    </tr>\n",
       "    <tr>\n",
       "      <th>3</th>\n",
       "      <td>004085616</td>\n",
       "      <td>apt 1 789 s maple rd manhattan</td>\n",
       "      <td>NaN</td>\n",
       "    </tr>\n",
       "    <tr>\n",
       "      <th>4</th>\n",
       "      <td>002 724 334</td>\n",
       "      <td>robie house, 789 north main street</td>\n",
       "      <td>NaN</td>\n",
       "    </tr>\n",
       "    <tr>\n",
       "      <th>5</th>\n",
       "      <td>hello</td>\n",
       "      <td>1111 S Figueroa St, Los Angeles, CA 90015</td>\n",
       "      <td>NaN</td>\n",
       "    </tr>\n",
       "    <tr>\n",
       "      <th>6</th>\n",
       "      <td>NaN</td>\n",
       "      <td>(staples center) 1111 S Figueroa St, Los Angeles</td>\n",
       "      <td>NaN</td>\n",
       "    </tr>\n",
       "    <tr>\n",
       "      <th>7</th>\n",
       "      <td>NULL</td>\n",
       "      <td>hello</td>\n",
       "      <td>NaN</td>\n",
       "    </tr>\n",
       "  </tbody>\n",
       "</table>\n",
       "</div>"
      ],
      "text/plain": [
       "                 iban                                           address  \\\n",
       "0     NO9386011117947                                     123 Pine Ave.   \n",
       "1  NO92 8601 1117 947                                           main st   \n",
       "2         999 999 999                      1234 west main heights 57033   \n",
       "3           004085616                    apt 1 789 s maple rd manhattan   \n",
       "4         002 724 334                robie house, 789 north main street   \n",
       "5               hello         1111 S Figueroa St, Los Angeles, CA 90015   \n",
       "6                 NaN  (staples center) 1111 S Figueroa St, Los Angeles   \n",
       "7                NULL                                             hello   \n",
       "\n",
       "    iban_clean  \n",
       "0  86011117947  \n",
       "1          NaN  \n",
       "2          NaN  \n",
       "3          NaN  \n",
       "4          NaN  \n",
       "5          NaN  \n",
       "6          NaN  \n",
       "7          NaN  "
      ]
     },
     "execution_count": 1,
     "metadata": {},
     "output_type": "execute_result"
    }
   ],
   "source": [
    "clean_no_iban(df, column = \"iban\", output_format=\"kontonr\")"
   ]
  },
  {
   "cell_type": "markdown",
   "id": "cognitive-pocket",
   "metadata": {},
   "source": [
    "## 3. `inplace` parameter\n",
    "\n",
    "This deletes the given column from the returned DataFrame. \n",
    "A new column containing cleaned IBAN strings is added with a title in the format `\"{original title}_clean\"`."
   ]
  },
  {
   "cell_type": "code",
   "execution_count": 6,
   "id": "adapted-gazette",
   "metadata": {
    "execution": {
     "iopub.execute_input": "2021-10-26T23:41:38.228533Z",
     "iopub.status.busy": "2021-10-26T23:41:38.213687Z",
     "iopub.status.idle": "2021-10-26T23:41:38.233228Z",
     "shell.execute_reply": "2021-10-26T23:41:38.231891Z"
    }
   },
   "outputs": [
    {
     "data": {
      "text/html": [
       "<div>\n",
       "<style scoped>\n",
       "    .dataframe tbody tr th:only-of-type {\n",
       "        vertical-align: middle;\n",
       "    }\n",
       "\n",
       "    .dataframe tbody tr th {\n",
       "        vertical-align: top;\n",
       "    }\n",
       "\n",
       "    .dataframe thead th {\n",
       "        text-align: right;\n",
       "    }\n",
       "</style>\n",
       "<table border=\"1\" class=\"dataframe\">\n",
       "  <thead>\n",
       "    <tr style=\"text-align: right;\">\n",
       "      <th></th>\n",
       "      <th>iban_clean</th>\n",
       "      <th>address</th>\n",
       "    </tr>\n",
       "  </thead>\n",
       "  <tbody>\n",
       "    <tr>\n",
       "      <th>0</th>\n",
       "      <td>NO93 8601 1117 947</td>\n",
       "      <td>123 Pine Ave.</td>\n",
       "    </tr>\n",
       "    <tr>\n",
       "      <th>1</th>\n",
       "      <td>NaN</td>\n",
       "      <td>main st</td>\n",
       "    </tr>\n",
       "    <tr>\n",
       "      <th>2</th>\n",
       "      <td>NaN</td>\n",
       "      <td>1234 west main heights 57033</td>\n",
       "    </tr>\n",
       "    <tr>\n",
       "      <th>3</th>\n",
       "      <td>NaN</td>\n",
       "      <td>apt 1 789 s maple rd manhattan</td>\n",
       "    </tr>\n",
       "    <tr>\n",
       "      <th>4</th>\n",
       "      <td>NaN</td>\n",
       "      <td>robie house, 789 north main street</td>\n",
       "    </tr>\n",
       "    <tr>\n",
       "      <th>5</th>\n",
       "      <td>NaN</td>\n",
       "      <td>1111 S Figueroa St, Los Angeles, CA 90015</td>\n",
       "    </tr>\n",
       "    <tr>\n",
       "      <th>6</th>\n",
       "      <td>NaN</td>\n",
       "      <td>(staples center) 1111 S Figueroa St, Los Angeles</td>\n",
       "    </tr>\n",
       "    <tr>\n",
       "      <th>7</th>\n",
       "      <td>NaN</td>\n",
       "      <td>hello</td>\n",
       "    </tr>\n",
       "  </tbody>\n",
       "</table>\n",
       "</div>"
      ],
      "text/plain": [
       "           iban_clean                                           address\n",
       "0  NO93 8601 1117 947                                     123 Pine Ave.\n",
       "1                 NaN                                           main st\n",
       "2                 NaN                      1234 west main heights 57033\n",
       "3                 NaN                    apt 1 789 s maple rd manhattan\n",
       "4                 NaN                robie house, 789 north main street\n",
       "5                 NaN         1111 S Figueroa St, Los Angeles, CA 90015\n",
       "6                 NaN  (staples center) 1111 S Figueroa St, Los Angeles\n",
       "7                 NaN                                             hello"
      ]
     },
     "execution_count": 1,
     "metadata": {},
     "output_type": "execute_result"
    }
   ],
   "source": [
    "clean_no_iban(df, column=\"iban\", inplace=True)"
   ]
  },
  {
   "cell_type": "markdown",
   "id": "driving-comfort",
   "metadata": {},
   "source": [
    "## 4. `errors` parameter"
   ]
  },
  {
   "cell_type": "markdown",
   "id": "organizational-transparency",
   "metadata": {},
   "source": [
    "### `coerce` (default)"
   ]
  },
  {
   "cell_type": "code",
   "execution_count": 7,
   "id": "electoral-catalyst",
   "metadata": {
    "execution": {
     "iopub.execute_input": "2021-10-26T23:41:38.266833Z",
     "iopub.status.busy": "2021-10-26T23:41:38.261552Z",
     "iopub.status.idle": "2021-10-26T23:41:38.278037Z",
     "shell.execute_reply": "2021-10-26T23:41:38.279120Z"
    }
   },
   "outputs": [
    {
     "data": {
      "text/html": [
       "<div>\n",
       "<style scoped>\n",
       "    .dataframe tbody tr th:only-of-type {\n",
       "        vertical-align: middle;\n",
       "    }\n",
       "\n",
       "    .dataframe tbody tr th {\n",
       "        vertical-align: top;\n",
       "    }\n",
       "\n",
       "    .dataframe thead th {\n",
       "        text-align: right;\n",
       "    }\n",
       "</style>\n",
       "<table border=\"1\" class=\"dataframe\">\n",
       "  <thead>\n",
       "    <tr style=\"text-align: right;\">\n",
       "      <th></th>\n",
       "      <th>iban</th>\n",
       "      <th>address</th>\n",
       "      <th>iban_clean</th>\n",
       "    </tr>\n",
       "  </thead>\n",
       "  <tbody>\n",
       "    <tr>\n",
       "      <th>0</th>\n",
       "      <td>NO9386011117947</td>\n",
       "      <td>123 Pine Ave.</td>\n",
       "      <td>NO93 8601 1117 947</td>\n",
       "    </tr>\n",
       "    <tr>\n",
       "      <th>1</th>\n",
       "      <td>NO92 8601 1117 947</td>\n",
       "      <td>main st</td>\n",
       "      <td>NaN</td>\n",
       "    </tr>\n",
       "    <tr>\n",
       "      <th>2</th>\n",
       "      <td>999 999 999</td>\n",
       "      <td>1234 west main heights 57033</td>\n",
       "      <td>NaN</td>\n",
       "    </tr>\n",
       "    <tr>\n",
       "      <th>3</th>\n",
       "      <td>004085616</td>\n",
       "      <td>apt 1 789 s maple rd manhattan</td>\n",
       "      <td>NaN</td>\n",
       "    </tr>\n",
       "    <tr>\n",
       "      <th>4</th>\n",
       "      <td>002 724 334</td>\n",
       "      <td>robie house, 789 north main street</td>\n",
       "      <td>NaN</td>\n",
       "    </tr>\n",
       "    <tr>\n",
       "      <th>5</th>\n",
       "      <td>hello</td>\n",
       "      <td>1111 S Figueroa St, Los Angeles, CA 90015</td>\n",
       "      <td>NaN</td>\n",
       "    </tr>\n",
       "    <tr>\n",
       "      <th>6</th>\n",
       "      <td>NaN</td>\n",
       "      <td>(staples center) 1111 S Figueroa St, Los Angeles</td>\n",
       "      <td>NaN</td>\n",
       "    </tr>\n",
       "    <tr>\n",
       "      <th>7</th>\n",
       "      <td>NULL</td>\n",
       "      <td>hello</td>\n",
       "      <td>NaN</td>\n",
       "    </tr>\n",
       "  </tbody>\n",
       "</table>\n",
       "</div>"
      ],
      "text/plain": [
       "                 iban                                           address  \\\n",
       "0     NO9386011117947                                     123 Pine Ave.   \n",
       "1  NO92 8601 1117 947                                           main st   \n",
       "2         999 999 999                      1234 west main heights 57033   \n",
       "3           004085616                    apt 1 789 s maple rd manhattan   \n",
       "4         002 724 334                robie house, 789 north main street   \n",
       "5               hello         1111 S Figueroa St, Los Angeles, CA 90015   \n",
       "6                 NaN  (staples center) 1111 S Figueroa St, Los Angeles   \n",
       "7                NULL                                             hello   \n",
       "\n",
       "           iban_clean  \n",
       "0  NO93 8601 1117 947  \n",
       "1                 NaN  \n",
       "2                 NaN  \n",
       "3                 NaN  \n",
       "4                 NaN  \n",
       "5                 NaN  \n",
       "6                 NaN  \n",
       "7                 NaN  "
      ]
     },
     "execution_count": 1,
     "metadata": {},
     "output_type": "execute_result"
    }
   ],
   "source": [
    "clean_no_iban(df, \"iban\", errors=\"coerce\")"
   ]
  },
  {
   "cell_type": "markdown",
   "id": "twelve-piano",
   "metadata": {},
   "source": [
    "### `ignore`"
   ]
  },
  {
   "cell_type": "code",
   "execution_count": 8,
   "id": "driven-veteran",
   "metadata": {
    "execution": {
     "iopub.execute_input": "2021-10-26T23:41:38.309116Z",
     "iopub.status.busy": "2021-10-26T23:41:38.289735Z",
     "iopub.status.idle": "2021-10-26T23:41:38.320029Z",
     "shell.execute_reply": "2021-10-26T23:41:38.321062Z"
    }
   },
   "outputs": [
    {
     "data": {
      "text/html": [
       "<div>\n",
       "<style scoped>\n",
       "    .dataframe tbody tr th:only-of-type {\n",
       "        vertical-align: middle;\n",
       "    }\n",
       "\n",
       "    .dataframe tbody tr th {\n",
       "        vertical-align: top;\n",
       "    }\n",
       "\n",
       "    .dataframe thead th {\n",
       "        text-align: right;\n",
       "    }\n",
       "</style>\n",
       "<table border=\"1\" class=\"dataframe\">\n",
       "  <thead>\n",
       "    <tr style=\"text-align: right;\">\n",
       "      <th></th>\n",
       "      <th>iban</th>\n",
       "      <th>address</th>\n",
       "      <th>iban_clean</th>\n",
       "    </tr>\n",
       "  </thead>\n",
       "  <tbody>\n",
       "    <tr>\n",
       "      <th>0</th>\n",
       "      <td>NO9386011117947</td>\n",
       "      <td>123 Pine Ave.</td>\n",
       "      <td>NO93 8601 1117 947</td>\n",
       "    </tr>\n",
       "    <tr>\n",
       "      <th>1</th>\n",
       "      <td>NO92 8601 1117 947</td>\n",
       "      <td>main st</td>\n",
       "      <td>NO92 8601 1117 947</td>\n",
       "    </tr>\n",
       "    <tr>\n",
       "      <th>2</th>\n",
       "      <td>999 999 999</td>\n",
       "      <td>1234 west main heights 57033</td>\n",
       "      <td>999 999 999</td>\n",
       "    </tr>\n",
       "    <tr>\n",
       "      <th>3</th>\n",
       "      <td>004085616</td>\n",
       "      <td>apt 1 789 s maple rd manhattan</td>\n",
       "      <td>004085616</td>\n",
       "    </tr>\n",
       "    <tr>\n",
       "      <th>4</th>\n",
       "      <td>002 724 334</td>\n",
       "      <td>robie house, 789 north main street</td>\n",
       "      <td>002 724 334</td>\n",
       "    </tr>\n",
       "    <tr>\n",
       "      <th>5</th>\n",
       "      <td>hello</td>\n",
       "      <td>1111 S Figueroa St, Los Angeles, CA 90015</td>\n",
       "      <td>hello</td>\n",
       "    </tr>\n",
       "    <tr>\n",
       "      <th>6</th>\n",
       "      <td>NaN</td>\n",
       "      <td>(staples center) 1111 S Figueroa St, Los Angeles</td>\n",
       "      <td>NaN</td>\n",
       "    </tr>\n",
       "    <tr>\n",
       "      <th>7</th>\n",
       "      <td>NULL</td>\n",
       "      <td>hello</td>\n",
       "      <td>NaN</td>\n",
       "    </tr>\n",
       "  </tbody>\n",
       "</table>\n",
       "</div>"
      ],
      "text/plain": [
       "                 iban                                           address  \\\n",
       "0     NO9386011117947                                     123 Pine Ave.   \n",
       "1  NO92 8601 1117 947                                           main st   \n",
       "2         999 999 999                      1234 west main heights 57033   \n",
       "3           004085616                    apt 1 789 s maple rd manhattan   \n",
       "4         002 724 334                robie house, 789 north main street   \n",
       "5               hello         1111 S Figueroa St, Los Angeles, CA 90015   \n",
       "6                 NaN  (staples center) 1111 S Figueroa St, Los Angeles   \n",
       "7                NULL                                             hello   \n",
       "\n",
       "           iban_clean  \n",
       "0  NO93 8601 1117 947  \n",
       "1  NO92 8601 1117 947  \n",
       "2         999 999 999  \n",
       "3           004085616  \n",
       "4         002 724 334  \n",
       "5               hello  \n",
       "6                 NaN  \n",
       "7                 NaN  "
      ]
     },
     "execution_count": 1,
     "metadata": {},
     "output_type": "execute_result"
    }
   ],
   "source": [
    "clean_no_iban(df, \"iban\", errors=\"ignore\")"
   ]
  },
  {
   "cell_type": "markdown",
   "id": "circular-chapel",
   "metadata": {},
   "source": [
    "## 4. `validate_no_iban()`"
   ]
  },
  {
   "cell_type": "markdown",
   "id": "dominant-threat",
   "metadata": {},
   "source": [
    "`validate_no_iban()` returns `True` when the input is a valid IBAN. Otherwise it returns `False`.\n",
    "\n",
    "The input of `validate_no_iban()` can be a string, a Pandas DataSeries, a Dask DataSeries, a Pandas DataFrame and a dask DataFrame.\n",
    "\n",
    "When the input is a string, a Pandas DataSeries or a Dask DataSeries, user doesn't need to specify a column name to be validated. \n",
    "\n",
    "When the input is a Pandas DataFrame or a dask DataFrame, user can both specify or not specify a column name to be validated. If user specify the column name, `validate_no_iban()` only returns the validation result for the specified column. If user doesn't specify the column name, `validate_no_iban()` returns the validation result for the whole DataFrame."
   ]
  },
  {
   "cell_type": "code",
   "execution_count": 9,
   "id": "foster-moral",
   "metadata": {
    "execution": {
     "iopub.execute_input": "2021-10-26T23:41:38.328278Z",
     "iopub.status.busy": "2021-10-26T23:41:38.326306Z",
     "iopub.status.idle": "2021-10-26T23:41:38.333966Z",
     "shell.execute_reply": "2021-10-26T23:41:38.332196Z"
    }
   },
   "outputs": [
    {
     "name": "stdout",
     "output_type": "stream",
     "text": [
      "True\n",
      "False\n",
      "False\n",
      "False\n",
      "False\n",
      "False\n",
      "False\n",
      "False\n"
     ]
    }
   ],
   "source": [
    "from dataprep.clean import validate_no_iban\n",
    "print(validate_no_iban(\"NO9386011117947\"))\n",
    "print(validate_no_iban(\"NO92 8601 1117 947\"))\n",
    "print(validate_no_iban(\"999 999 999\"))\n",
    "print(validate_no_iban(\"51824753556\"))\n",
    "print(validate_no_iban(\"004085616\"))\n",
    "print(validate_no_iban(\"hello\"))\n",
    "print(validate_no_iban(np.nan))\n",
    "print(validate_no_iban(\"NULL\"))"
   ]
  },
  {
   "cell_type": "markdown",
   "id": "focal-warehouse",
   "metadata": {},
   "source": [
    "### Series"
   ]
  },
  {
   "cell_type": "code",
   "execution_count": 10,
   "id": "becoming-sugar",
   "metadata": {
    "execution": {
     "iopub.execute_input": "2021-10-26T23:41:38.339947Z",
     "iopub.status.busy": "2021-10-26T23:41:38.339296Z",
     "iopub.status.idle": "2021-10-26T23:41:38.345029Z",
     "shell.execute_reply": "2021-10-26T23:41:38.345534Z"
    }
   },
   "outputs": [
    {
     "data": {
      "text/plain": [
       "0     True\n",
       "1    False\n",
       "2    False\n",
       "3    False\n",
       "4    False\n",
       "5    False\n",
       "6    False\n",
       "7    False\n",
       "Name: iban, dtype: bool"
      ]
     },
     "execution_count": 1,
     "metadata": {},
     "output_type": "execute_result"
    }
   ],
   "source": [
    "validate_no_iban(df[\"iban\"])"
   ]
  },
  {
   "cell_type": "markdown",
   "id": "hidden-reward",
   "metadata": {},
   "source": [
    "### DataFrame + Specify Column"
   ]
  },
  {
   "cell_type": "code",
   "execution_count": 11,
   "id": "polished-camping",
   "metadata": {
    "execution": {
     "iopub.execute_input": "2021-10-26T23:41:38.352480Z",
     "iopub.status.busy": "2021-10-26T23:41:38.351867Z",
     "iopub.status.idle": "2021-10-26T23:41:38.354782Z",
     "shell.execute_reply": "2021-10-26T23:41:38.355290Z"
    }
   },
   "outputs": [
    {
     "data": {
      "text/plain": [
       "0     True\n",
       "1    False\n",
       "2    False\n",
       "3    False\n",
       "4    False\n",
       "5    False\n",
       "6    False\n",
       "7    False\n",
       "Name: iban, dtype: bool"
      ]
     },
     "execution_count": 1,
     "metadata": {},
     "output_type": "execute_result"
    }
   ],
   "source": [
    "validate_no_iban(df, column=\"iban\")"
   ]
  },
  {
   "cell_type": "markdown",
   "id": "asian-buffer",
   "metadata": {},
   "source": [
    "### Only DataFrame"
   ]
  },
  {
   "cell_type": "code",
   "execution_count": 12,
   "id": "capital-precipitation",
   "metadata": {
    "execution": {
     "iopub.execute_input": "2021-10-26T23:41:38.359563Z",
     "iopub.status.busy": "2021-10-26T23:41:38.358940Z",
     "iopub.status.idle": "2021-10-26T23:41:38.368735Z",
     "shell.execute_reply": "2021-10-26T23:41:38.369226Z"
    }
   },
   "outputs": [
    {
     "data": {
      "text/html": [
       "<div>\n",
       "<style scoped>\n",
       "    .dataframe tbody tr th:only-of-type {\n",
       "        vertical-align: middle;\n",
       "    }\n",
       "\n",
       "    .dataframe tbody tr th {\n",
       "        vertical-align: top;\n",
       "    }\n",
       "\n",
       "    .dataframe thead th {\n",
       "        text-align: right;\n",
       "    }\n",
       "</style>\n",
       "<table border=\"1\" class=\"dataframe\">\n",
       "  <thead>\n",
       "    <tr style=\"text-align: right;\">\n",
       "      <th></th>\n",
       "      <th>iban</th>\n",
       "      <th>address</th>\n",
       "    </tr>\n",
       "  </thead>\n",
       "  <tbody>\n",
       "    <tr>\n",
       "      <th>0</th>\n",
       "      <td>True</td>\n",
       "      <td>False</td>\n",
       "    </tr>\n",
       "    <tr>\n",
       "      <th>1</th>\n",
       "      <td>False</td>\n",
       "      <td>False</td>\n",
       "    </tr>\n",
       "    <tr>\n",
       "      <th>2</th>\n",
       "      <td>False</td>\n",
       "      <td>False</td>\n",
       "    </tr>\n",
       "    <tr>\n",
       "      <th>3</th>\n",
       "      <td>False</td>\n",
       "      <td>False</td>\n",
       "    </tr>\n",
       "    <tr>\n",
       "      <th>4</th>\n",
       "      <td>False</td>\n",
       "      <td>False</td>\n",
       "    </tr>\n",
       "    <tr>\n",
       "      <th>5</th>\n",
       "      <td>False</td>\n",
       "      <td>False</td>\n",
       "    </tr>\n",
       "    <tr>\n",
       "      <th>6</th>\n",
       "      <td>False</td>\n",
       "      <td>False</td>\n",
       "    </tr>\n",
       "    <tr>\n",
       "      <th>7</th>\n",
       "      <td>False</td>\n",
       "      <td>False</td>\n",
       "    </tr>\n",
       "  </tbody>\n",
       "</table>\n",
       "</div>"
      ],
      "text/plain": [
       "    iban  address\n",
       "0   True    False\n",
       "1  False    False\n",
       "2  False    False\n",
       "3  False    False\n",
       "4  False    False\n",
       "5  False    False\n",
       "6  False    False\n",
       "7  False    False"
      ]
     },
     "execution_count": 1,
     "metadata": {},
     "output_type": "execute_result"
    }
   ],
   "source": [
    "validate_no_iban(df)"
   ]
  },
  {
   "cell_type": "code",
   "execution_count": null,
   "id": "radical-saying",
   "metadata": {},
   "outputs": [],
   "source": []
  }
 ],
 "metadata": {
  "kernelspec": {
   "display_name": "Python 3",
   "language": "python",
   "name": "python3"
  },
  "language_info": {
   "codemirror_mode": {
    "name": "ipython",
    "version": 3
   },
   "file_extension": ".py",
   "mimetype": "text/x-python",
   "name": "python",
   "nbconvert_exporter": "python",
   "pygments_lexer": "ipython3",
   "version": "3.8.10"
  }
 },
 "nbformat": 4,
 "nbformat_minor": 5
}
