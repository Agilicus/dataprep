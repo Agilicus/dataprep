{
 "cells": [
  {
   "cell_type": "raw",
   "id": "mounted-anchor",
   "metadata": {},
   "source": [
    ".. _cif_userguide:\n",
    "\n",
    "CIF Strings\n",
    "============"
   ]
  },
  {
   "cell_type": "raw",
   "id": "graphic-carry",
   "metadata": {},
   "source": [
    "Introduction\n",
    "------------\n",
    "\n",
    "The function :func:`clean_es_cif() <dataprep.clean.clean_es_cif.clean_es_cif>` cleans a column containing Spanish fiscal numbers (CIF) strings, and standardizes them in a given format. The function :func:`validate_es_cif() <dataprep.clean.clean_es_cif.validate_es_cif>` validates either a single CIF strings, a column of CIF strings or a DataFrame of CIF strings, returning `True` if the value is valid, and `False` otherwise."
   ]
  },
  {
   "cell_type": "markdown",
   "id": "saving-transfer",
   "metadata": {},
   "source": [
    "CIF strings can be converted to the following formats via the `output_format` parameter:\n",
    "\n",
    "* `compact`: only number strings without any seperators or whitespace, like \"A13585625\"\n",
    "* `standard`: CIF strings with proper whitespace in the proper places. Note that in the case of CIF, the compact format is the same as the standard one.\n",
    "\n",
    "Invalid parsing is handled with the `errors` parameter:\n",
    "\n",
    "* `coerce` (default): invalid parsing will be set to NaN\n",
    "* `ignore`: invalid parsing will return the input\n",
    "* `raise`: invalid parsing will raise an exception\n",
    "\n",
    "The following sections demonstrate the functionality of `clean_es_cif()` and `validate_es_cif()`. "
   ]
  },
  {
   "cell_type": "markdown",
   "id": "demanding-personal",
   "metadata": {},
   "source": [
    "### An example dataset containing CIF strings"
   ]
  },
  {
   "cell_type": "code",
   "execution_count": 1,
   "id": "persistent-extreme",
   "metadata": {
    "execution": {
     "iopub.execute_input": "2021-10-26T23:37:10.194864Z",
     "iopub.status.busy": "2021-10-26T23:37:10.194217Z",
     "iopub.status.idle": "2021-10-26T23:37:10.482655Z",
     "shell.execute_reply": "2021-10-26T23:37:10.481992Z"
    }
   },
   "outputs": [
    {
     "data": {
      "text/html": [
       "<div>\n",
       "<style scoped>\n",
       "    .dataframe tbody tr th:only-of-type {\n",
       "        vertical-align: middle;\n",
       "    }\n",
       "\n",
       "    .dataframe tbody tr th {\n",
       "        vertical-align: top;\n",
       "    }\n",
       "\n",
       "    .dataframe thead th {\n",
       "        text-align: right;\n",
       "    }\n",
       "</style>\n",
       "<table border=\"1\" class=\"dataframe\">\n",
       "  <thead>\n",
       "    <tr style=\"text-align: right;\">\n",
       "      <th></th>\n",
       "      <th>cif</th>\n",
       "      <th>address</th>\n",
       "    </tr>\n",
       "  </thead>\n",
       "  <tbody>\n",
       "    <tr>\n",
       "      <th>0</th>\n",
       "      <td>A13 585 625</td>\n",
       "      <td>123 Pine Ave.</td>\n",
       "    </tr>\n",
       "    <tr>\n",
       "      <th>1</th>\n",
       "      <td>M-1234567-L</td>\n",
       "      <td>main st</td>\n",
       "    </tr>\n",
       "    <tr>\n",
       "      <th>2</th>\n",
       "      <td>BE 428759497</td>\n",
       "      <td>1234 west main heights 57033</td>\n",
       "    </tr>\n",
       "    <tr>\n",
       "      <th>3</th>\n",
       "      <td>BE431150351</td>\n",
       "      <td>apt 1 789 s maple rd manhattan</td>\n",
       "    </tr>\n",
       "    <tr>\n",
       "      <th>4</th>\n",
       "      <td>002 724 334</td>\n",
       "      <td>robie house, 789 north main street</td>\n",
       "    </tr>\n",
       "    <tr>\n",
       "      <th>5</th>\n",
       "      <td>hello</td>\n",
       "      <td>1111 S Figueroa St, Los Angeles, CA 90015</td>\n",
       "    </tr>\n",
       "    <tr>\n",
       "      <th>6</th>\n",
       "      <td>NaN</td>\n",
       "      <td>(staples center) 1111 S Figueroa St, Los Angeles</td>\n",
       "    </tr>\n",
       "    <tr>\n",
       "      <th>7</th>\n",
       "      <td>NULL</td>\n",
       "      <td>hello</td>\n",
       "    </tr>\n",
       "  </tbody>\n",
       "</table>\n",
       "</div>"
      ],
      "text/plain": [
       "            cif                                           address\n",
       "0   A13 585 625                                     123 Pine Ave.\n",
       "1   M-1234567-L                                           main st\n",
       "2  BE 428759497                      1234 west main heights 57033\n",
       "3   BE431150351                    apt 1 789 s maple rd manhattan\n",
       "4   002 724 334                robie house, 789 north main street\n",
       "5         hello         1111 S Figueroa St, Los Angeles, CA 90015\n",
       "6           NaN  (staples center) 1111 S Figueroa St, Los Angeles\n",
       "7          NULL                                             hello"
      ]
     },
     "execution_count": 1,
     "metadata": {},
     "output_type": "execute_result"
    }
   ],
   "source": [
    "import pandas as pd\n",
    "import numpy as np\n",
    "df = pd.DataFrame(\n",
    "    {\n",
    "        \"cif\": [\n",
    "            'A13 585 625',\n",
    "            'M-1234567-L',\n",
    "            'BE 428759497',\n",
    "            'BE431150351',\n",
    "            \"002 724 334\",\n",
    "            \"hello\",\n",
    "            np.nan,\n",
    "            \"NULL\",\n",
    "        ], \n",
    "        \"address\": [\n",
    "            \"123 Pine Ave.\",\n",
    "            \"main st\",\n",
    "            \"1234 west main heights 57033\",\n",
    "            \"apt 1 789 s maple rd manhattan\",\n",
    "            \"robie house, 789 north main street\",\n",
    "            \"1111 S Figueroa St, Los Angeles, CA 90015\",\n",
    "            \"(staples center) 1111 S Figueroa St, Los Angeles\",\n",
    "            \"hello\",\n",
    "        ]\n",
    "    }\n",
    ")\n",
    "df"
   ]
  },
  {
   "cell_type": "markdown",
   "id": "tribal-housing",
   "metadata": {},
   "source": [
    "## 1. Default `clean_es_cif`\n",
    "\n",
    "By default, `clean_es_cif` will clean cif strings and output them in the standard format with proper separators."
   ]
  },
  {
   "cell_type": "code",
   "execution_count": 2,
   "id": "subject-trace",
   "metadata": {
    "execution": {
     "iopub.execute_input": "2021-10-26T23:37:10.488027Z",
     "iopub.status.busy": "2021-10-26T23:37:10.487286Z",
     "iopub.status.idle": "2021-10-26T23:37:11.246455Z",
     "shell.execute_reply": "2021-10-26T23:37:11.246937Z"
    }
   },
   "outputs": [
    {
     "data": {
      "text/html": [
       "<div>\n",
       "<style scoped>\n",
       "    .dataframe tbody tr th:only-of-type {\n",
       "        vertical-align: middle;\n",
       "    }\n",
       "\n",
       "    .dataframe tbody tr th {\n",
       "        vertical-align: top;\n",
       "    }\n",
       "\n",
       "    .dataframe thead th {\n",
       "        text-align: right;\n",
       "    }\n",
       "</style>\n",
       "<table border=\"1\" class=\"dataframe\">\n",
       "  <thead>\n",
       "    <tr style=\"text-align: right;\">\n",
       "      <th></th>\n",
       "      <th>cif</th>\n",
       "      <th>address</th>\n",
       "      <th>cif_clean</th>\n",
       "    </tr>\n",
       "  </thead>\n",
       "  <tbody>\n",
       "    <tr>\n",
       "      <th>0</th>\n",
       "      <td>A13 585 625</td>\n",
       "      <td>123 Pine Ave.</td>\n",
       "      <td>A13585625</td>\n",
       "    </tr>\n",
       "    <tr>\n",
       "      <th>1</th>\n",
       "      <td>M-1234567-L</td>\n",
       "      <td>main st</td>\n",
       "      <td>NaN</td>\n",
       "    </tr>\n",
       "    <tr>\n",
       "      <th>2</th>\n",
       "      <td>BE 428759497</td>\n",
       "      <td>1234 west main heights 57033</td>\n",
       "      <td>NaN</td>\n",
       "    </tr>\n",
       "    <tr>\n",
       "      <th>3</th>\n",
       "      <td>BE431150351</td>\n",
       "      <td>apt 1 789 s maple rd manhattan</td>\n",
       "      <td>NaN</td>\n",
       "    </tr>\n",
       "    <tr>\n",
       "      <th>4</th>\n",
       "      <td>002 724 334</td>\n",
       "      <td>robie house, 789 north main street</td>\n",
       "      <td>NaN</td>\n",
       "    </tr>\n",
       "    <tr>\n",
       "      <th>5</th>\n",
       "      <td>hello</td>\n",
       "      <td>1111 S Figueroa St, Los Angeles, CA 90015</td>\n",
       "      <td>NaN</td>\n",
       "    </tr>\n",
       "    <tr>\n",
       "      <th>6</th>\n",
       "      <td>NaN</td>\n",
       "      <td>(staples center) 1111 S Figueroa St, Los Angeles</td>\n",
       "      <td>NaN</td>\n",
       "    </tr>\n",
       "    <tr>\n",
       "      <th>7</th>\n",
       "      <td>NULL</td>\n",
       "      <td>hello</td>\n",
       "      <td>NaN</td>\n",
       "    </tr>\n",
       "  </tbody>\n",
       "</table>\n",
       "</div>"
      ],
      "text/plain": [
       "            cif                                           address  cif_clean\n",
       "0   A13 585 625                                     123 Pine Ave.  A13585625\n",
       "1   M-1234567-L                                           main st        NaN\n",
       "2  BE 428759497                      1234 west main heights 57033        NaN\n",
       "3   BE431150351                    apt 1 789 s maple rd manhattan        NaN\n",
       "4   002 724 334                robie house, 789 north main street        NaN\n",
       "5         hello         1111 S Figueroa St, Los Angeles, CA 90015        NaN\n",
       "6           NaN  (staples center) 1111 S Figueroa St, Los Angeles        NaN\n",
       "7          NULL                                             hello        NaN"
      ]
     },
     "execution_count": 1,
     "metadata": {},
     "output_type": "execute_result"
    }
   ],
   "source": [
    "from dataprep.clean import clean_es_cif\n",
    "clean_es_cif(df, column = \"cif\")"
   ]
  },
  {
   "cell_type": "markdown",
   "id": "separated-inflation",
   "metadata": {},
   "source": [
    "## 2. Output formats"
   ]
  },
  {
   "cell_type": "markdown",
   "id": "stupid-collectible",
   "metadata": {},
   "source": [
    "This section demonstrates the output parameter."
   ]
  },
  {
   "cell_type": "markdown",
   "id": "improved-mistress",
   "metadata": {},
   "source": [
    "### `standard` (default)"
   ]
  },
  {
   "cell_type": "code",
   "execution_count": 3,
   "id": "statistical-polls",
   "metadata": {
    "execution": {
     "iopub.execute_input": "2021-10-26T23:37:11.279705Z",
     "iopub.status.busy": "2021-10-26T23:37:11.279001Z",
     "iopub.status.idle": "2021-10-26T23:37:11.292460Z",
     "shell.execute_reply": "2021-10-26T23:37:11.291868Z"
    }
   },
   "outputs": [
    {
     "data": {
      "text/html": [
       "<div>\n",
       "<style scoped>\n",
       "    .dataframe tbody tr th:only-of-type {\n",
       "        vertical-align: middle;\n",
       "    }\n",
       "\n",
       "    .dataframe tbody tr th {\n",
       "        vertical-align: top;\n",
       "    }\n",
       "\n",
       "    .dataframe thead th {\n",
       "        text-align: right;\n",
       "    }\n",
       "</style>\n",
       "<table border=\"1\" class=\"dataframe\">\n",
       "  <thead>\n",
       "    <tr style=\"text-align: right;\">\n",
       "      <th></th>\n",
       "      <th>cif</th>\n",
       "      <th>address</th>\n",
       "      <th>cif_clean</th>\n",
       "    </tr>\n",
       "  </thead>\n",
       "  <tbody>\n",
       "    <tr>\n",
       "      <th>0</th>\n",
       "      <td>A13 585 625</td>\n",
       "      <td>123 Pine Ave.</td>\n",
       "      <td>A13585625</td>\n",
       "    </tr>\n",
       "    <tr>\n",
       "      <th>1</th>\n",
       "      <td>M-1234567-L</td>\n",
       "      <td>main st</td>\n",
       "      <td>NaN</td>\n",
       "    </tr>\n",
       "    <tr>\n",
       "      <th>2</th>\n",
       "      <td>BE 428759497</td>\n",
       "      <td>1234 west main heights 57033</td>\n",
       "      <td>NaN</td>\n",
       "    </tr>\n",
       "    <tr>\n",
       "      <th>3</th>\n",
       "      <td>BE431150351</td>\n",
       "      <td>apt 1 789 s maple rd manhattan</td>\n",
       "      <td>NaN</td>\n",
       "    </tr>\n",
       "    <tr>\n",
       "      <th>4</th>\n",
       "      <td>002 724 334</td>\n",
       "      <td>robie house, 789 north main street</td>\n",
       "      <td>NaN</td>\n",
       "    </tr>\n",
       "    <tr>\n",
       "      <th>5</th>\n",
       "      <td>hello</td>\n",
       "      <td>1111 S Figueroa St, Los Angeles, CA 90015</td>\n",
       "      <td>NaN</td>\n",
       "    </tr>\n",
       "    <tr>\n",
       "      <th>6</th>\n",
       "      <td>NaN</td>\n",
       "      <td>(staples center) 1111 S Figueroa St, Los Angeles</td>\n",
       "      <td>NaN</td>\n",
       "    </tr>\n",
       "    <tr>\n",
       "      <th>7</th>\n",
       "      <td>NULL</td>\n",
       "      <td>hello</td>\n",
       "      <td>NaN</td>\n",
       "    </tr>\n",
       "  </tbody>\n",
       "</table>\n",
       "</div>"
      ],
      "text/plain": [
       "            cif                                           address  cif_clean\n",
       "0   A13 585 625                                     123 Pine Ave.  A13585625\n",
       "1   M-1234567-L                                           main st        NaN\n",
       "2  BE 428759497                      1234 west main heights 57033        NaN\n",
       "3   BE431150351                    apt 1 789 s maple rd manhattan        NaN\n",
       "4   002 724 334                robie house, 789 north main street        NaN\n",
       "5         hello         1111 S Figueroa St, Los Angeles, CA 90015        NaN\n",
       "6           NaN  (staples center) 1111 S Figueroa St, Los Angeles        NaN\n",
       "7          NULL                                             hello        NaN"
      ]
     },
     "execution_count": 1,
     "metadata": {},
     "output_type": "execute_result"
    }
   ],
   "source": [
    "clean_es_cif(df, column = \"cif\", output_format=\"standard\")"
   ]
  },
  {
   "cell_type": "markdown",
   "id": "relative-insulin",
   "metadata": {},
   "source": [
    "### `compact`"
   ]
  },
  {
   "cell_type": "code",
   "execution_count": 4,
   "id": "floppy-bookmark",
   "metadata": {
    "execution": {
     "iopub.execute_input": "2021-10-26T23:37:11.328407Z",
     "iopub.status.busy": "2021-10-26T23:37:11.322339Z",
     "iopub.status.idle": "2021-10-26T23:37:11.333765Z",
     "shell.execute_reply": "2021-10-26T23:37:11.334272Z"
    }
   },
   "outputs": [
    {
     "data": {
      "text/html": [
       "<div>\n",
       "<style scoped>\n",
       "    .dataframe tbody tr th:only-of-type {\n",
       "        vertical-align: middle;\n",
       "    }\n",
       "\n",
       "    .dataframe tbody tr th {\n",
       "        vertical-align: top;\n",
       "    }\n",
       "\n",
       "    .dataframe thead th {\n",
       "        text-align: right;\n",
       "    }\n",
       "</style>\n",
       "<table border=\"1\" class=\"dataframe\">\n",
       "  <thead>\n",
       "    <tr style=\"text-align: right;\">\n",
       "      <th></th>\n",
       "      <th>cif</th>\n",
       "      <th>address</th>\n",
       "      <th>cif_clean</th>\n",
       "    </tr>\n",
       "  </thead>\n",
       "  <tbody>\n",
       "    <tr>\n",
       "      <th>0</th>\n",
       "      <td>A13 585 625</td>\n",
       "      <td>123 Pine Ave.</td>\n",
       "      <td>A13585625</td>\n",
       "    </tr>\n",
       "    <tr>\n",
       "      <th>1</th>\n",
       "      <td>M-1234567-L</td>\n",
       "      <td>main st</td>\n",
       "      <td>NaN</td>\n",
       "    </tr>\n",
       "    <tr>\n",
       "      <th>2</th>\n",
       "      <td>BE 428759497</td>\n",
       "      <td>1234 west main heights 57033</td>\n",
       "      <td>NaN</td>\n",
       "    </tr>\n",
       "    <tr>\n",
       "      <th>3</th>\n",
       "      <td>BE431150351</td>\n",
       "      <td>apt 1 789 s maple rd manhattan</td>\n",
       "      <td>NaN</td>\n",
       "    </tr>\n",
       "    <tr>\n",
       "      <th>4</th>\n",
       "      <td>002 724 334</td>\n",
       "      <td>robie house, 789 north main street</td>\n",
       "      <td>NaN</td>\n",
       "    </tr>\n",
       "    <tr>\n",
       "      <th>5</th>\n",
       "      <td>hello</td>\n",
       "      <td>1111 S Figueroa St, Los Angeles, CA 90015</td>\n",
       "      <td>NaN</td>\n",
       "    </tr>\n",
       "    <tr>\n",
       "      <th>6</th>\n",
       "      <td>NaN</td>\n",
       "      <td>(staples center) 1111 S Figueroa St, Los Angeles</td>\n",
       "      <td>NaN</td>\n",
       "    </tr>\n",
       "    <tr>\n",
       "      <th>7</th>\n",
       "      <td>NULL</td>\n",
       "      <td>hello</td>\n",
       "      <td>NaN</td>\n",
       "    </tr>\n",
       "  </tbody>\n",
       "</table>\n",
       "</div>"
      ],
      "text/plain": [
       "            cif                                           address  cif_clean\n",
       "0   A13 585 625                                     123 Pine Ave.  A13585625\n",
       "1   M-1234567-L                                           main st        NaN\n",
       "2  BE 428759497                      1234 west main heights 57033        NaN\n",
       "3   BE431150351                    apt 1 789 s maple rd manhattan        NaN\n",
       "4   002 724 334                robie house, 789 north main street        NaN\n",
       "5         hello         1111 S Figueroa St, Los Angeles, CA 90015        NaN\n",
       "6           NaN  (staples center) 1111 S Figueroa St, Los Angeles        NaN\n",
       "7          NULL                                             hello        NaN"
      ]
     },
     "execution_count": 1,
     "metadata": {},
     "output_type": "execute_result"
    }
   ],
   "source": [
    "clean_es_cif(df, column = \"cif\", output_format=\"compact\")"
   ]
  },
  {
   "cell_type": "markdown",
   "id": "developed-horizon",
   "metadata": {},
   "source": [
    "## 3. `split` parameter\n",
    "\n",
    "The `split` parameter adds individual columns containing the cleaned 9-digits CIF values to the given DataFrame."
   ]
  },
  {
   "cell_type": "code",
   "execution_count": 5,
   "id": "fresh-diana",
   "metadata": {
    "execution": {
     "iopub.execute_input": "2021-10-26T23:37:11.364540Z",
     "iopub.status.busy": "2021-10-26T23:37:11.363766Z",
     "iopub.status.idle": "2021-10-26T23:37:11.420165Z",
     "shell.execute_reply": "2021-10-26T23:37:11.419535Z"
    }
   },
   "outputs": [
    {
     "data": {
      "application/vnd.jupyter.widget-view+json": {
       "model_id": "10eb35a79915475ea6cc7ce3f3821278",
       "version_major": 2,
       "version_minor": 0
      },
      "text/plain": [
       "  0%|          | 0/8 [00:00<?, ?it/s]"
      ]
     },
     "metadata": {},
     "output_type": "display_data"
    },
    {
     "data": {
      "text/html": [
       "<div>\n",
       "<style scoped>\n",
       "    .dataframe tbody tr th:only-of-type {\n",
       "        vertical-align: middle;\n",
       "    }\n",
       "\n",
       "    .dataframe tbody tr th {\n",
       "        vertical-align: top;\n",
       "    }\n",
       "\n",
       "    .dataframe thead th {\n",
       "        text-align: right;\n",
       "    }\n",
       "</style>\n",
       "<table border=\"1\" class=\"dataframe\">\n",
       "  <thead>\n",
       "    <tr style=\"text-align: right;\">\n",
       "      <th></th>\n",
       "      <th>cif</th>\n",
       "      <th>address</th>\n",
       "      <th>cif_clean</th>\n",
       "      <th>type_code</th>\n",
       "      <th>province_code</th>\n",
       "      <th>within_code</th>\n",
       "      <th>check_digit</th>\n",
       "    </tr>\n",
       "  </thead>\n",
       "  <tbody>\n",
       "    <tr>\n",
       "      <th>0</th>\n",
       "      <td>A13 585 625</td>\n",
       "      <td>123 Pine Ave.</td>\n",
       "      <td>A13585625</td>\n",
       "      <td>A</td>\n",
       "      <td>13</td>\n",
       "      <td>58562</td>\n",
       "      <td>5</td>\n",
       "    </tr>\n",
       "    <tr>\n",
       "      <th>1</th>\n",
       "      <td>M-1234567-L</td>\n",
       "      <td>main st</td>\n",
       "      <td>NaN</td>\n",
       "      <td>NaN</td>\n",
       "      <td>NaN</td>\n",
       "      <td>NaN</td>\n",
       "      <td>NaN</td>\n",
       "    </tr>\n",
       "    <tr>\n",
       "      <th>2</th>\n",
       "      <td>BE 428759497</td>\n",
       "      <td>1234 west main heights 57033</td>\n",
       "      <td>NaN</td>\n",
       "      <td>NaN</td>\n",
       "      <td>NaN</td>\n",
       "      <td>NaN</td>\n",
       "      <td>NaN</td>\n",
       "    </tr>\n",
       "    <tr>\n",
       "      <th>3</th>\n",
       "      <td>BE431150351</td>\n",
       "      <td>apt 1 789 s maple rd manhattan</td>\n",
       "      <td>NaN</td>\n",
       "      <td>NaN</td>\n",
       "      <td>NaN</td>\n",
       "      <td>NaN</td>\n",
       "      <td>NaN</td>\n",
       "    </tr>\n",
       "    <tr>\n",
       "      <th>4</th>\n",
       "      <td>002 724 334</td>\n",
       "      <td>robie house, 789 north main street</td>\n",
       "      <td>NaN</td>\n",
       "      <td>NaN</td>\n",
       "      <td>NaN</td>\n",
       "      <td>NaN</td>\n",
       "      <td>NaN</td>\n",
       "    </tr>\n",
       "    <tr>\n",
       "      <th>5</th>\n",
       "      <td>hello</td>\n",
       "      <td>1111 S Figueroa St, Los Angeles, CA 90015</td>\n",
       "      <td>NaN</td>\n",
       "      <td>NaN</td>\n",
       "      <td>NaN</td>\n",
       "      <td>NaN</td>\n",
       "      <td>NaN</td>\n",
       "    </tr>\n",
       "    <tr>\n",
       "      <th>6</th>\n",
       "      <td>NaN</td>\n",
       "      <td>(staples center) 1111 S Figueroa St, Los Angeles</td>\n",
       "      <td>NaN</td>\n",
       "      <td>NaN</td>\n",
       "      <td>NaN</td>\n",
       "      <td>NaN</td>\n",
       "      <td>NaN</td>\n",
       "    </tr>\n",
       "    <tr>\n",
       "      <th>7</th>\n",
       "      <td>NULL</td>\n",
       "      <td>hello</td>\n",
       "      <td>NaN</td>\n",
       "      <td>NaN</td>\n",
       "      <td>NaN</td>\n",
       "      <td>NaN</td>\n",
       "      <td>NaN</td>\n",
       "    </tr>\n",
       "  </tbody>\n",
       "</table>\n",
       "</div>"
      ],
      "text/plain": [
       "            cif                                           address  cif_clean  \\\n",
       "0   A13 585 625                                     123 Pine Ave.  A13585625   \n",
       "1   M-1234567-L                                           main st        NaN   \n",
       "2  BE 428759497                      1234 west main heights 57033        NaN   \n",
       "3   BE431150351                    apt 1 789 s maple rd manhattan        NaN   \n",
       "4   002 724 334                robie house, 789 north main street        NaN   \n",
       "5         hello         1111 S Figueroa St, Los Angeles, CA 90015        NaN   \n",
       "6           NaN  (staples center) 1111 S Figueroa St, Los Angeles        NaN   \n",
       "7          NULL                                             hello        NaN   \n",
       "\n",
       "  type_code province_code within_code check_digit  \n",
       "0         A            13       58562           5  \n",
       "1       NaN           NaN         NaN         NaN  \n",
       "2       NaN           NaN         NaN         NaN  \n",
       "3       NaN           NaN         NaN         NaN  \n",
       "4       NaN           NaN         NaN         NaN  \n",
       "5       NaN           NaN         NaN         NaN  \n",
       "6       NaN           NaN         NaN         NaN  \n",
       "7       NaN           NaN         NaN         NaN  "
      ]
     },
     "execution_count": 1,
     "metadata": {},
     "output_type": "execute_result"
    }
   ],
   "source": [
    "clean_es_cif(df, column=\"cif\", split=True)"
   ]
  },
  {
   "cell_type": "markdown",
   "id": "northern-narrative",
   "metadata": {},
   "source": [
    "## 4. `inplace` parameter\n",
    "\n",
    "This deletes the given column from the returned DataFrame. \n",
    "A new column containing cleaned CIF strings is added with a title in the format `\"{original title}_clean\"`."
   ]
  },
  {
   "cell_type": "code",
   "execution_count": 6,
   "id": "verbal-briefs",
   "metadata": {
    "execution": {
     "iopub.execute_input": "2021-10-26T23:37:11.463608Z",
     "iopub.status.busy": "2021-10-26T23:37:11.435314Z",
     "iopub.status.idle": "2021-10-26T23:37:11.472822Z",
     "shell.execute_reply": "2021-10-26T23:37:11.473291Z"
    }
   },
   "outputs": [
    {
     "data": {
      "text/html": [
       "<div>\n",
       "<style scoped>\n",
       "    .dataframe tbody tr th:only-of-type {\n",
       "        vertical-align: middle;\n",
       "    }\n",
       "\n",
       "    .dataframe tbody tr th {\n",
       "        vertical-align: top;\n",
       "    }\n",
       "\n",
       "    .dataframe thead th {\n",
       "        text-align: right;\n",
       "    }\n",
       "</style>\n",
       "<table border=\"1\" class=\"dataframe\">\n",
       "  <thead>\n",
       "    <tr style=\"text-align: right;\">\n",
       "      <th></th>\n",
       "      <th>cif_clean</th>\n",
       "      <th>address</th>\n",
       "    </tr>\n",
       "  </thead>\n",
       "  <tbody>\n",
       "    <tr>\n",
       "      <th>0</th>\n",
       "      <td>A13585625</td>\n",
       "      <td>123 Pine Ave.</td>\n",
       "    </tr>\n",
       "    <tr>\n",
       "      <th>1</th>\n",
       "      <td>NaN</td>\n",
       "      <td>main st</td>\n",
       "    </tr>\n",
       "    <tr>\n",
       "      <th>2</th>\n",
       "      <td>NaN</td>\n",
       "      <td>1234 west main heights 57033</td>\n",
       "    </tr>\n",
       "    <tr>\n",
       "      <th>3</th>\n",
       "      <td>NaN</td>\n",
       "      <td>apt 1 789 s maple rd manhattan</td>\n",
       "    </tr>\n",
       "    <tr>\n",
       "      <th>4</th>\n",
       "      <td>NaN</td>\n",
       "      <td>robie house, 789 north main street</td>\n",
       "    </tr>\n",
       "    <tr>\n",
       "      <th>5</th>\n",
       "      <td>NaN</td>\n",
       "      <td>1111 S Figueroa St, Los Angeles, CA 90015</td>\n",
       "    </tr>\n",
       "    <tr>\n",
       "      <th>6</th>\n",
       "      <td>NaN</td>\n",
       "      <td>(staples center) 1111 S Figueroa St, Los Angeles</td>\n",
       "    </tr>\n",
       "    <tr>\n",
       "      <th>7</th>\n",
       "      <td>NaN</td>\n",
       "      <td>hello</td>\n",
       "    </tr>\n",
       "  </tbody>\n",
       "</table>\n",
       "</div>"
      ],
      "text/plain": [
       "   cif_clean                                           address\n",
       "0  A13585625                                     123 Pine Ave.\n",
       "1        NaN                                           main st\n",
       "2        NaN                      1234 west main heights 57033\n",
       "3        NaN                    apt 1 789 s maple rd manhattan\n",
       "4        NaN                robie house, 789 north main street\n",
       "5        NaN         1111 S Figueroa St, Los Angeles, CA 90015\n",
       "6        NaN  (staples center) 1111 S Figueroa St, Los Angeles\n",
       "7        NaN                                             hello"
      ]
     },
     "execution_count": 1,
     "metadata": {},
     "output_type": "execute_result"
    }
   ],
   "source": [
    "clean_es_cif(df, column=\"cif\", inplace=True)"
   ]
  },
  {
   "cell_type": "markdown",
   "id": "macro-honduras",
   "metadata": {},
   "source": [
    "## 5. `errors` parameter"
   ]
  },
  {
   "cell_type": "markdown",
   "id": "congressional-outdoors",
   "metadata": {},
   "source": [
    "### `coerce` (default)"
   ]
  },
  {
   "cell_type": "code",
   "execution_count": 7,
   "id": "automated-simple",
   "metadata": {
    "execution": {
     "iopub.execute_input": "2021-10-26T23:37:11.501779Z",
     "iopub.status.busy": "2021-10-26T23:37:11.501140Z",
     "iopub.status.idle": "2021-10-26T23:37:11.511491Z",
     "shell.execute_reply": "2021-10-26T23:37:11.510922Z"
    }
   },
   "outputs": [
    {
     "data": {
      "text/html": [
       "<div>\n",
       "<style scoped>\n",
       "    .dataframe tbody tr th:only-of-type {\n",
       "        vertical-align: middle;\n",
       "    }\n",
       "\n",
       "    .dataframe tbody tr th {\n",
       "        vertical-align: top;\n",
       "    }\n",
       "\n",
       "    .dataframe thead th {\n",
       "        text-align: right;\n",
       "    }\n",
       "</style>\n",
       "<table border=\"1\" class=\"dataframe\">\n",
       "  <thead>\n",
       "    <tr style=\"text-align: right;\">\n",
       "      <th></th>\n",
       "      <th>cif</th>\n",
       "      <th>address</th>\n",
       "      <th>cif_clean</th>\n",
       "    </tr>\n",
       "  </thead>\n",
       "  <tbody>\n",
       "    <tr>\n",
       "      <th>0</th>\n",
       "      <td>A13 585 625</td>\n",
       "      <td>123 Pine Ave.</td>\n",
       "      <td>A13585625</td>\n",
       "    </tr>\n",
       "    <tr>\n",
       "      <th>1</th>\n",
       "      <td>M-1234567-L</td>\n",
       "      <td>main st</td>\n",
       "      <td>NaN</td>\n",
       "    </tr>\n",
       "    <tr>\n",
       "      <th>2</th>\n",
       "      <td>BE 428759497</td>\n",
       "      <td>1234 west main heights 57033</td>\n",
       "      <td>NaN</td>\n",
       "    </tr>\n",
       "    <tr>\n",
       "      <th>3</th>\n",
       "      <td>BE431150351</td>\n",
       "      <td>apt 1 789 s maple rd manhattan</td>\n",
       "      <td>NaN</td>\n",
       "    </tr>\n",
       "    <tr>\n",
       "      <th>4</th>\n",
       "      <td>002 724 334</td>\n",
       "      <td>robie house, 789 north main street</td>\n",
       "      <td>NaN</td>\n",
       "    </tr>\n",
       "    <tr>\n",
       "      <th>5</th>\n",
       "      <td>hello</td>\n",
       "      <td>1111 S Figueroa St, Los Angeles, CA 90015</td>\n",
       "      <td>NaN</td>\n",
       "    </tr>\n",
       "    <tr>\n",
       "      <th>6</th>\n",
       "      <td>NaN</td>\n",
       "      <td>(staples center) 1111 S Figueroa St, Los Angeles</td>\n",
       "      <td>NaN</td>\n",
       "    </tr>\n",
       "    <tr>\n",
       "      <th>7</th>\n",
       "      <td>NULL</td>\n",
       "      <td>hello</td>\n",
       "      <td>NaN</td>\n",
       "    </tr>\n",
       "  </tbody>\n",
       "</table>\n",
       "</div>"
      ],
      "text/plain": [
       "            cif                                           address  cif_clean\n",
       "0   A13 585 625                                     123 Pine Ave.  A13585625\n",
       "1   M-1234567-L                                           main st        NaN\n",
       "2  BE 428759497                      1234 west main heights 57033        NaN\n",
       "3   BE431150351                    apt 1 789 s maple rd manhattan        NaN\n",
       "4   002 724 334                robie house, 789 north main street        NaN\n",
       "5         hello         1111 S Figueroa St, Los Angeles, CA 90015        NaN\n",
       "6           NaN  (staples center) 1111 S Figueroa St, Los Angeles        NaN\n",
       "7          NULL                                             hello        NaN"
      ]
     },
     "execution_count": 1,
     "metadata": {},
     "output_type": "execute_result"
    }
   ],
   "source": [
    "clean_es_cif(df, \"cif\", errors=\"coerce\")"
   ]
  },
  {
   "cell_type": "markdown",
   "id": "criminal-concrete",
   "metadata": {},
   "source": [
    "### `ignore`"
   ]
  },
  {
   "cell_type": "code",
   "execution_count": 8,
   "id": "worth-seventh",
   "metadata": {
    "execution": {
     "iopub.execute_input": "2021-10-26T23:37:11.543640Z",
     "iopub.status.busy": "2021-10-26T23:37:11.540928Z",
     "iopub.status.idle": "2021-10-26T23:37:11.551778Z",
     "shell.execute_reply": "2021-10-26T23:37:11.551200Z"
    }
   },
   "outputs": [
    {
     "data": {
      "text/html": [
       "<div>\n",
       "<style scoped>\n",
       "    .dataframe tbody tr th:only-of-type {\n",
       "        vertical-align: middle;\n",
       "    }\n",
       "\n",
       "    .dataframe tbody tr th {\n",
       "        vertical-align: top;\n",
       "    }\n",
       "\n",
       "    .dataframe thead th {\n",
       "        text-align: right;\n",
       "    }\n",
       "</style>\n",
       "<table border=\"1\" class=\"dataframe\">\n",
       "  <thead>\n",
       "    <tr style=\"text-align: right;\">\n",
       "      <th></th>\n",
       "      <th>cif</th>\n",
       "      <th>address</th>\n",
       "      <th>cif_clean</th>\n",
       "    </tr>\n",
       "  </thead>\n",
       "  <tbody>\n",
       "    <tr>\n",
       "      <th>0</th>\n",
       "      <td>A13 585 625</td>\n",
       "      <td>123 Pine Ave.</td>\n",
       "      <td>A13585625</td>\n",
       "    </tr>\n",
       "    <tr>\n",
       "      <th>1</th>\n",
       "      <td>M-1234567-L</td>\n",
       "      <td>main st</td>\n",
       "      <td>M-1234567-L</td>\n",
       "    </tr>\n",
       "    <tr>\n",
       "      <th>2</th>\n",
       "      <td>BE 428759497</td>\n",
       "      <td>1234 west main heights 57033</td>\n",
       "      <td>BE 428759497</td>\n",
       "    </tr>\n",
       "    <tr>\n",
       "      <th>3</th>\n",
       "      <td>BE431150351</td>\n",
       "      <td>apt 1 789 s maple rd manhattan</td>\n",
       "      <td>BE431150351</td>\n",
       "    </tr>\n",
       "    <tr>\n",
       "      <th>4</th>\n",
       "      <td>002 724 334</td>\n",
       "      <td>robie house, 789 north main street</td>\n",
       "      <td>002 724 334</td>\n",
       "    </tr>\n",
       "    <tr>\n",
       "      <th>5</th>\n",
       "      <td>hello</td>\n",
       "      <td>1111 S Figueroa St, Los Angeles, CA 90015</td>\n",
       "      <td>hello</td>\n",
       "    </tr>\n",
       "    <tr>\n",
       "      <th>6</th>\n",
       "      <td>NaN</td>\n",
       "      <td>(staples center) 1111 S Figueroa St, Los Angeles</td>\n",
       "      <td>NaN</td>\n",
       "    </tr>\n",
       "    <tr>\n",
       "      <th>7</th>\n",
       "      <td>NULL</td>\n",
       "      <td>hello</td>\n",
       "      <td>NaN</td>\n",
       "    </tr>\n",
       "  </tbody>\n",
       "</table>\n",
       "</div>"
      ],
      "text/plain": [
       "            cif                                           address  \\\n",
       "0   A13 585 625                                     123 Pine Ave.   \n",
       "1   M-1234567-L                                           main st   \n",
       "2  BE 428759497                      1234 west main heights 57033   \n",
       "3   BE431150351                    apt 1 789 s maple rd manhattan   \n",
       "4   002 724 334                robie house, 789 north main street   \n",
       "5         hello         1111 S Figueroa St, Los Angeles, CA 90015   \n",
       "6           NaN  (staples center) 1111 S Figueroa St, Los Angeles   \n",
       "7          NULL                                             hello   \n",
       "\n",
       "      cif_clean  \n",
       "0     A13585625  \n",
       "1   M-1234567-L  \n",
       "2  BE 428759497  \n",
       "3   BE431150351  \n",
       "4   002 724 334  \n",
       "5         hello  \n",
       "6           NaN  \n",
       "7           NaN  "
      ]
     },
     "execution_count": 1,
     "metadata": {},
     "output_type": "execute_result"
    }
   ],
   "source": [
    "clean_es_cif(df, \"cif\", errors=\"ignore\")"
   ]
  },
  {
   "cell_type": "markdown",
   "id": "optional-botswana",
   "metadata": {},
   "source": [
    "## 6. `validate_es_cif()`"
   ]
  },
  {
   "cell_type": "markdown",
   "id": "attached-antarctica",
   "metadata": {},
   "source": [
    "`validate_es_cif()` returns `True` when the input is a valid CIF. Otherwise it returns `False`.\n",
    "\n",
    "The input of `validate_es_cif()` can be a string, a Pandas DataSeries, a Dask DataSeries, a Pandas DataFrame and a dask DataFrame.\n",
    "\n",
    "When the input is a string, a Pandas DataSeries or a Dask DataSeries, user doesn't need to specify a column name to be validated. \n",
    "\n",
    "When the input is a Pandas DataFrame or a dask DataFrame, user can both specify or not specify a column name to be validated. If user specify the column name, `validate_es_cif()` only returns the validation result for the specified column. If user doesn't specify the column name, `validate_es_cif()` returns the validation result for the whole DataFrame."
   ]
  },
  {
   "cell_type": "code",
   "execution_count": 9,
   "id": "stuck-steal",
   "metadata": {
    "execution": {
     "iopub.execute_input": "2021-10-26T23:37:11.560503Z",
     "iopub.status.busy": "2021-10-26T23:37:11.559307Z",
     "iopub.status.idle": "2021-10-26T23:37:11.562946Z",
     "shell.execute_reply": "2021-10-26T23:37:11.562280Z"
    }
   },
   "outputs": [
    {
     "name": "stdout",
     "output_type": "stream",
     "text": [
      "True\n",
      "False\n",
      "False\n",
      "False\n",
      "False\n",
      "False\n",
      "False\n",
      "False\n"
     ]
    }
   ],
   "source": [
    "from dataprep.clean import validate_es_cif\n",
    "print(validate_es_cif(\"A13 585 625\"))\n",
    "print(validate_es_cif(\"M-1234567-L\"))\n",
    "print(validate_es_cif('BE 428759497'))\n",
    "print(validate_es_cif('BE431150351'))\n",
    "print(validate_es_cif(\"004085616\"))\n",
    "print(validate_es_cif(\"hello\"))\n",
    "print(validate_es_cif(np.nan))\n",
    "print(validate_es_cif(\"NULL\"))"
   ]
  },
  {
   "cell_type": "markdown",
   "id": "stopped-highland",
   "metadata": {},
   "source": [
    "### Series"
   ]
  },
  {
   "cell_type": "code",
   "execution_count": 10,
   "id": "neutral-honor",
   "metadata": {
    "execution": {
     "iopub.execute_input": "2021-10-26T23:37:11.569411Z",
     "iopub.status.busy": "2021-10-26T23:37:11.568796Z",
     "iopub.status.idle": "2021-10-26T23:37:11.571741Z",
     "shell.execute_reply": "2021-10-26T23:37:11.572246Z"
    }
   },
   "outputs": [
    {
     "data": {
      "text/plain": [
       "0     True\n",
       "1    False\n",
       "2    False\n",
       "3    False\n",
       "4    False\n",
       "5    False\n",
       "6    False\n",
       "7    False\n",
       "Name: cif, dtype: bool"
      ]
     },
     "execution_count": 1,
     "metadata": {},
     "output_type": "execute_result"
    }
   ],
   "source": [
    "validate_es_cif(df[\"cif\"])"
   ]
  },
  {
   "cell_type": "markdown",
   "id": "governmental-porcelain",
   "metadata": {},
   "source": [
    "### DataFrame + Specify Column"
   ]
  },
  {
   "cell_type": "code",
   "execution_count": 11,
   "id": "secondary-brooklyn",
   "metadata": {
    "execution": {
     "iopub.execute_input": "2021-10-26T23:37:11.578439Z",
     "iopub.status.busy": "2021-10-26T23:37:11.577833Z",
     "iopub.status.idle": "2021-10-26T23:37:11.580932Z",
     "shell.execute_reply": "2021-10-26T23:37:11.581590Z"
    }
   },
   "outputs": [
    {
     "data": {
      "text/plain": [
       "0     True\n",
       "1    False\n",
       "2    False\n",
       "3    False\n",
       "4    False\n",
       "5    False\n",
       "6    False\n",
       "7    False\n",
       "Name: cif, dtype: bool"
      ]
     },
     "execution_count": 1,
     "metadata": {},
     "output_type": "execute_result"
    }
   ],
   "source": [
    "validate_es_cif(df, column=\"cif\")"
   ]
  },
  {
   "cell_type": "markdown",
   "id": "charming-chosen",
   "metadata": {},
   "source": [
    "### Only DataFrame"
   ]
  },
  {
   "cell_type": "code",
   "execution_count": 12,
   "id": "formal-superintendent",
   "metadata": {
    "execution": {
     "iopub.execute_input": "2021-10-26T23:37:11.586035Z",
     "iopub.status.busy": "2021-10-26T23:37:11.585368Z",
     "iopub.status.idle": "2021-10-26T23:37:11.598979Z",
     "shell.execute_reply": "2021-10-26T23:37:11.598362Z"
    }
   },
   "outputs": [
    {
     "data": {
      "text/html": [
       "<div>\n",
       "<style scoped>\n",
       "    .dataframe tbody tr th:only-of-type {\n",
       "        vertical-align: middle;\n",
       "    }\n",
       "\n",
       "    .dataframe tbody tr th {\n",
       "        vertical-align: top;\n",
       "    }\n",
       "\n",
       "    .dataframe thead th {\n",
       "        text-align: right;\n",
       "    }\n",
       "</style>\n",
       "<table border=\"1\" class=\"dataframe\">\n",
       "  <thead>\n",
       "    <tr style=\"text-align: right;\">\n",
       "      <th></th>\n",
       "      <th>cif</th>\n",
       "      <th>address</th>\n",
       "    </tr>\n",
       "  </thead>\n",
       "  <tbody>\n",
       "    <tr>\n",
       "      <th>0</th>\n",
       "      <td>True</td>\n",
       "      <td>False</td>\n",
       "    </tr>\n",
       "    <tr>\n",
       "      <th>1</th>\n",
       "      <td>False</td>\n",
       "      <td>False</td>\n",
       "    </tr>\n",
       "    <tr>\n",
       "      <th>2</th>\n",
       "      <td>False</td>\n",
       "      <td>False</td>\n",
       "    </tr>\n",
       "    <tr>\n",
       "      <th>3</th>\n",
       "      <td>False</td>\n",
       "      <td>False</td>\n",
       "    </tr>\n",
       "    <tr>\n",
       "      <th>4</th>\n",
       "      <td>False</td>\n",
       "      <td>False</td>\n",
       "    </tr>\n",
       "    <tr>\n",
       "      <th>5</th>\n",
       "      <td>False</td>\n",
       "      <td>False</td>\n",
       "    </tr>\n",
       "    <tr>\n",
       "      <th>6</th>\n",
       "      <td>False</td>\n",
       "      <td>False</td>\n",
       "    </tr>\n",
       "    <tr>\n",
       "      <th>7</th>\n",
       "      <td>False</td>\n",
       "      <td>False</td>\n",
       "    </tr>\n",
       "  </tbody>\n",
       "</table>\n",
       "</div>"
      ],
      "text/plain": [
       "     cif  address\n",
       "0   True    False\n",
       "1  False    False\n",
       "2  False    False\n",
       "3  False    False\n",
       "4  False    False\n",
       "5  False    False\n",
       "6  False    False\n",
       "7  False    False"
      ]
     },
     "execution_count": 1,
     "metadata": {},
     "output_type": "execute_result"
    }
   ],
   "source": [
    "validate_es_cif(df)"
   ]
  },
  {
   "cell_type": "code",
   "execution_count": null,
   "id": "tropical-password",
   "metadata": {},
   "outputs": [],
   "source": []
  }
 ],
 "metadata": {
  "kernelspec": {
   "display_name": "Python 3",
   "language": "python",
   "name": "python3"
  },
  "language_info": {
   "codemirror_mode": {
    "name": "ipython",
    "version": 3
   },
   "file_extension": ".py",
   "mimetype": "text/x-python",
   "name": "python",
   "nbconvert_exporter": "python",
   "pygments_lexer": "ipython3",
   "version": "3.8.10"
  },
  "widgets": {
   "application/vnd.jupyter.widget-state+json": {
    "state": {
     "10eb35a79915475ea6cc7ce3f3821278": {
      "model_module": "@jupyter-widgets/controls",
      "model_module_version": "1.5.0",
      "model_name": "HBoxModel",
      "state": {
       "_dom_classes": [],
       "_model_module": "@jupyter-widgets/controls",
       "_model_module_version": "1.5.0",
       "_model_name": "HBoxModel",
       "_view_count": null,
       "_view_module": "@jupyter-widgets/controls",
       "_view_module_version": "1.5.0",
       "_view_name": "HBoxView",
       "box_style": "",
       "children": [
        "IPY_MODEL_37f950af8d0245529e0b4332490de9e7",
        "IPY_MODEL_af255924b6474c94a7c7cbb524024934",
        "IPY_MODEL_5f7982a88de04313b04442a106b12e0e"
       ],
       "layout": "IPY_MODEL_bd055de3adaa4783864391cf19172e43"
      }
     },
     "37f950af8d0245529e0b4332490de9e7": {
      "model_module": "@jupyter-widgets/controls",
      "model_module_version": "1.5.0",
      "model_name": "HTMLModel",
      "state": {
       "_dom_classes": [],
       "_model_module": "@jupyter-widgets/controls",
       "_model_module_version": "1.5.0",
       "_model_name": "HTMLModel",
       "_view_count": null,
       "_view_module": "@jupyter-widgets/controls",
       "_view_module_version": "1.5.0",
       "_view_name": "HTMLView",
       "description": "",
       "description_tooltip": null,
       "layout": "IPY_MODEL_86fc61299fac475093a90c9d56df5823",
       "placeholder": "​",
       "style": "IPY_MODEL_5cab8703874b46bca94b7deca26980eb",
       "value": "  0%"
      }
     },
     "4ef86b2a41df4bf6af5979f7e72551c4": {
      "model_module": "@jupyter-widgets/controls",
      "model_module_version": "1.5.0",
      "model_name": "ProgressStyleModel",
      "state": {
       "_model_module": "@jupyter-widgets/controls",
       "_model_module_version": "1.5.0",
       "_model_name": "ProgressStyleModel",
       "_view_count": null,
       "_view_module": "@jupyter-widgets/base",
       "_view_module_version": "1.2.0",
       "_view_name": "StyleView",
       "bar_color": null,
       "description_width": ""
      }
     },
     "5cab8703874b46bca94b7deca26980eb": {
      "model_module": "@jupyter-widgets/controls",
      "model_module_version": "1.5.0",
      "model_name": "DescriptionStyleModel",
      "state": {
       "_model_module": "@jupyter-widgets/controls",
       "_model_module_version": "1.5.0",
       "_model_name": "DescriptionStyleModel",
       "_view_count": null,
       "_view_module": "@jupyter-widgets/base",
       "_view_module_version": "1.2.0",
       "_view_name": "StyleView",
       "description_width": ""
      }
     },
     "5f7982a88de04313b04442a106b12e0e": {
      "model_module": "@jupyter-widgets/controls",
      "model_module_version": "1.5.0",
      "model_name": "HTMLModel",
      "state": {
       "_dom_classes": [],
       "_model_module": "@jupyter-widgets/controls",
       "_model_module_version": "1.5.0",
       "_model_name": "HTMLModel",
       "_view_count": null,
       "_view_module": "@jupyter-widgets/controls",
       "_view_module_version": "1.5.0",
       "_view_name": "HTMLView",
       "description": "",
       "description_tooltip": null,
       "layout": "IPY_MODEL_98a99c1494c24ef0a0c168c24a962c1b",
       "placeholder": "​",
       "style": "IPY_MODEL_b6dedc9abcc74c289dc5dfa4c3bcde0a",
       "value": " 0/8 [00:00&lt;?, ?it/s]"
      }
     },
     "86fc61299fac475093a90c9d56df5823": {
      "model_module": "@jupyter-widgets/base",
      "model_module_version": "1.2.0",
      "model_name": "LayoutModel",
      "state": {
       "_model_module": "@jupyter-widgets/base",
       "_model_module_version": "1.2.0",
       "_model_name": "LayoutModel",
       "_view_count": null,
       "_view_module": "@jupyter-widgets/base",
       "_view_module_version": "1.2.0",
       "_view_name": "LayoutView",
       "align_content": null,
       "align_items": null,
       "align_self": null,
       "border": null,
       "bottom": null,
       "display": null,
       "flex": null,
       "flex_flow": null,
       "grid_area": null,
       "grid_auto_columns": null,
       "grid_auto_flow": null,
       "grid_auto_rows": null,
       "grid_column": null,
       "grid_gap": null,
       "grid_row": null,
       "grid_template_areas": null,
       "grid_template_columns": null,
       "grid_template_rows": null,
       "height": null,
       "justify_content": null,
       "justify_items": null,
       "left": null,
       "margin": null,
       "max_height": null,
       "max_width": null,
       "min_height": null,
       "min_width": null,
       "object_fit": null,
       "object_position": null,
       "order": null,
       "overflow": null,
       "overflow_x": null,
       "overflow_y": null,
       "padding": null,
       "right": null,
       "top": null,
       "visibility": null,
       "width": null
      }
     },
     "98a99c1494c24ef0a0c168c24a962c1b": {
      "model_module": "@jupyter-widgets/base",
      "model_module_version": "1.2.0",
      "model_name": "LayoutModel",
      "state": {
       "_model_module": "@jupyter-widgets/base",
       "_model_module_version": "1.2.0",
       "_model_name": "LayoutModel",
       "_view_count": null,
       "_view_module": "@jupyter-widgets/base",
       "_view_module_version": "1.2.0",
       "_view_name": "LayoutView",
       "align_content": null,
       "align_items": null,
       "align_self": null,
       "border": null,
       "bottom": null,
       "display": null,
       "flex": null,
       "flex_flow": null,
       "grid_area": null,
       "grid_auto_columns": null,
       "grid_auto_flow": null,
       "grid_auto_rows": null,
       "grid_column": null,
       "grid_gap": null,
       "grid_row": null,
       "grid_template_areas": null,
       "grid_template_columns": null,
       "grid_template_rows": null,
       "height": null,
       "justify_content": null,
       "justify_items": null,
       "left": null,
       "margin": null,
       "max_height": null,
       "max_width": null,
       "min_height": null,
       "min_width": null,
       "object_fit": null,
       "object_position": null,
       "order": null,
       "overflow": null,
       "overflow_x": null,
       "overflow_y": null,
       "padding": null,
       "right": null,
       "top": null,
       "visibility": null,
       "width": null
      }
     },
     "af255924b6474c94a7c7cbb524024934": {
      "model_module": "@jupyter-widgets/controls",
      "model_module_version": "1.5.0",
      "model_name": "FloatProgressModel",
      "state": {
       "_dom_classes": [],
       "_model_module": "@jupyter-widgets/controls",
       "_model_module_version": "1.5.0",
       "_model_name": "FloatProgressModel",
       "_view_count": null,
       "_view_module": "@jupyter-widgets/controls",
       "_view_module_version": "1.5.0",
       "_view_name": "ProgressView",
       "bar_style": "",
       "description": "",
       "description_tooltip": null,
       "layout": "IPY_MODEL_ca8d76afffc3420fb7741d2d61aed35e",
       "max": 8.0,
       "min": 0.0,
       "orientation": "horizontal",
       "style": "IPY_MODEL_4ef86b2a41df4bf6af5979f7e72551c4",
       "value": 8.0
      }
     },
     "b6dedc9abcc74c289dc5dfa4c3bcde0a": {
      "model_module": "@jupyter-widgets/controls",
      "model_module_version": "1.5.0",
      "model_name": "DescriptionStyleModel",
      "state": {
       "_model_module": "@jupyter-widgets/controls",
       "_model_module_version": "1.5.0",
       "_model_name": "DescriptionStyleModel",
       "_view_count": null,
       "_view_module": "@jupyter-widgets/base",
       "_view_module_version": "1.2.0",
       "_view_name": "StyleView",
       "description_width": ""
      }
     },
     "bd055de3adaa4783864391cf19172e43": {
      "model_module": "@jupyter-widgets/base",
      "model_module_version": "1.2.0",
      "model_name": "LayoutModel",
      "state": {
       "_model_module": "@jupyter-widgets/base",
       "_model_module_version": "1.2.0",
       "_model_name": "LayoutModel",
       "_view_count": null,
       "_view_module": "@jupyter-widgets/base",
       "_view_module_version": "1.2.0",
       "_view_name": "LayoutView",
       "align_content": null,
       "align_items": null,
       "align_self": null,
       "border": null,
       "bottom": null,
       "display": "inline-flex",
       "flex": null,
       "flex_flow": "row wrap",
       "grid_area": null,
       "grid_auto_columns": null,
       "grid_auto_flow": null,
       "grid_auto_rows": null,
       "grid_column": null,
       "grid_gap": null,
       "grid_row": null,
       "grid_template_areas": null,
       "grid_template_columns": null,
       "grid_template_rows": null,
       "height": null,
       "justify_content": null,
       "justify_items": null,
       "left": null,
       "margin": null,
       "max_height": null,
       "max_width": null,
       "min_height": null,
       "min_width": null,
       "object_fit": null,
       "object_position": null,
       "order": null,
       "overflow": null,
       "overflow_x": null,
       "overflow_y": null,
       "padding": null,
       "right": null,
       "top": null,
       "visibility": null,
       "width": "100%"
      }
     },
     "ca8d76afffc3420fb7741d2d61aed35e": {
      "model_module": "@jupyter-widgets/base",
      "model_module_version": "1.2.0",
      "model_name": "LayoutModel",
      "state": {
       "_model_module": "@jupyter-widgets/base",
       "_model_module_version": "1.2.0",
       "_model_name": "LayoutModel",
       "_view_count": null,
       "_view_module": "@jupyter-widgets/base",
       "_view_module_version": "1.2.0",
       "_view_name": "LayoutView",
       "align_content": null,
       "align_items": null,
       "align_self": null,
       "border": null,
       "bottom": null,
       "display": null,
       "flex": "2",
       "flex_flow": null,
       "grid_area": null,
       "grid_auto_columns": null,
       "grid_auto_flow": null,
       "grid_auto_rows": null,
       "grid_column": null,
       "grid_gap": null,
       "grid_row": null,
       "grid_template_areas": null,
       "grid_template_columns": null,
       "grid_template_rows": null,
       "height": null,
       "justify_content": null,
       "justify_items": null,
       "left": null,
       "margin": null,
       "max_height": null,
       "max_width": null,
       "min_height": null,
       "min_width": null,
       "object_fit": null,
       "object_position": null,
       "order": null,
       "overflow": null,
       "overflow_x": null,
       "overflow_y": null,
       "padding": null,
       "right": null,
       "top": null,
       "visibility": null,
       "width": null
      }
     }
    },
    "version_major": 2,
    "version_minor": 0
   }
  }
 },
 "nbformat": 4,
 "nbformat_minor": 5
}
