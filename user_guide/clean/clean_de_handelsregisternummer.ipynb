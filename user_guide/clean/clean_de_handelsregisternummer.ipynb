{
 "cells": [
  {
   "cell_type": "raw",
   "id": "geographic-yugoslavia",
   "metadata": {},
   "source": [
    ".. _handelsregisternummer_userguide:\n",
    "\n",
    "German Company Registry IDs\n",
    "==========================="
   ]
  },
  {
   "cell_type": "raw",
   "id": "convenient-newsletter",
   "metadata": {},
   "source": [
    "Introduction\n",
    "------------\n",
    "\n",
    "The function :func:`clean_de_handelsregisternummer() <dataprep.clean.clean_de_handelsregisternummer.clean_de_handelsregisternummer>` cleans a column containing German company registry id (handelsregisternummer) strings, and standardizes them in a given format. The function :func:`validate_de_handelsregisternummer() <dataprep.clean.clean_de_handelsregisternummer.validate_de_handelsregisternummer>` validates either a single handelsregisternummer strings, a column of handelsregisternummer strings or a DataFrame of handelsregisternummer strings, returning `True` if the value is valid, and `False` otherwise."
   ]
  },
  {
   "cell_type": "markdown",
   "id": "natural-casino",
   "metadata": {},
   "source": [
    "handelsregisternummer strings can be converted to the following formats via the `output_format` parameter:\n",
    "\n",
    "* `compact`: only number strings without any seperators or whitespace, like \"Aachen HRA 11223\"\n",
    "* `standard`: handelsregisternummer strings with proper whitespace in the proper places. Note that in the case of handelsregisternummer, the compact format is the same as the standard one.\n",
    "\n",
    "Invalid parsing is handled with the `errors` parameter:\n",
    "\n",
    "* `coerce` (default): invalid parsing will be set to NaN\n",
    "* `ignore`: invalid parsing will return the input\n",
    "* `raise`: invalid parsing will raise an exception\n",
    "\n",
    "The following sections demonstrate the functionality of `clean_de_handelsregisternummer()` and `validate_de_handelsregisternummer()`. "
   ]
  },
  {
   "cell_type": "markdown",
   "id": "unexpected-patio",
   "metadata": {},
   "source": [
    "### An example dataset containing handelsregisternummer strings"
   ]
  },
  {
   "cell_type": "code",
   "execution_count": 1,
   "id": "drawn-neighbor",
   "metadata": {
    "execution": {
     "iopub.execute_input": "2021-10-30T05:16:58.695670Z",
     "iopub.status.busy": "2021-10-30T05:16:58.695135Z",
     "iopub.status.idle": "2021-10-30T05:16:58.933330Z",
     "shell.execute_reply": "2021-10-30T05:16:58.934076Z"
    }
   },
   "outputs": [
    {
     "data": {
      "text/html": [
       "<div>\n",
       "<style scoped>\n",
       "    .dataframe tbody tr th:only-of-type {\n",
       "        vertical-align: middle;\n",
       "    }\n",
       "\n",
       "    .dataframe tbody tr th {\n",
       "        vertical-align: top;\n",
       "    }\n",
       "\n",
       "    .dataframe thead th {\n",
       "        text-align: right;\n",
       "    }\n",
       "</style>\n",
       "<table border=\"1\" class=\"dataframe\">\n",
       "  <thead>\n",
       "    <tr style=\"text-align: right;\">\n",
       "      <th></th>\n",
       "      <th>handelsregisternummer</th>\n",
       "      <th>address</th>\n",
       "    </tr>\n",
       "  </thead>\n",
       "  <tbody>\n",
       "    <tr>\n",
       "      <th>0</th>\n",
       "      <td>Aachen HRA 11223</td>\n",
       "      <td>123 Pine Ave.</td>\n",
       "    </tr>\n",
       "    <tr>\n",
       "      <th>1</th>\n",
       "      <td>Aachen HRC 44123</td>\n",
       "      <td>main st</td>\n",
       "    </tr>\n",
       "    <tr>\n",
       "      <th>2</th>\n",
       "      <td>BE 428759497</td>\n",
       "      <td>1234 west main heights 57033</td>\n",
       "    </tr>\n",
       "    <tr>\n",
       "      <th>3</th>\n",
       "      <td>BE431150351</td>\n",
       "      <td>apt 1 789 s maple rd manhattan</td>\n",
       "    </tr>\n",
       "    <tr>\n",
       "      <th>4</th>\n",
       "      <td>002 724 334</td>\n",
       "      <td>robie house, 789 north main street</td>\n",
       "    </tr>\n",
       "    <tr>\n",
       "      <th>5</th>\n",
       "      <td>hello</td>\n",
       "      <td>1111 S Figueroa St, Los Angeles, CA 90015</td>\n",
       "    </tr>\n",
       "    <tr>\n",
       "      <th>6</th>\n",
       "      <td>NaN</td>\n",
       "      <td>(staples center) 1111 S Figueroa St, Los Angeles</td>\n",
       "    </tr>\n",
       "    <tr>\n",
       "      <th>7</th>\n",
       "      <td>NULL</td>\n",
       "      <td>hello</td>\n",
       "    </tr>\n",
       "  </tbody>\n",
       "</table>\n",
       "</div>"
      ],
      "text/plain": [
       "  handelsregisternummer                                           address\n",
       "0      Aachen HRA 11223                                     123 Pine Ave.\n",
       "1      Aachen HRC 44123                                           main st\n",
       "2          BE 428759497                      1234 west main heights 57033\n",
       "3           BE431150351                    apt 1 789 s maple rd manhattan\n",
       "4           002 724 334                robie house, 789 north main street\n",
       "5                 hello         1111 S Figueroa St, Los Angeles, CA 90015\n",
       "6                   NaN  (staples center) 1111 S Figueroa St, Los Angeles\n",
       "7                  NULL                                             hello"
      ]
     },
     "execution_count": 1,
     "metadata": {},
     "output_type": "execute_result"
    }
   ],
   "source": [
    "import pandas as pd\n",
    "import numpy as np\n",
    "df = pd.DataFrame(\n",
    "    {\n",
    "        \"handelsregisternummer\": [\n",
    "            'Aachen HRA 11223',\n",
    "            'Aachen HRC 44123',\n",
    "            'BE 428759497',\n",
    "            'BE431150351',\n",
    "            \"002 724 334\",\n",
    "            \"hello\",\n",
    "            np.nan,\n",
    "            \"NULL\",\n",
    "        ], \n",
    "        \"address\": [\n",
    "            \"123 Pine Ave.\",\n",
    "            \"main st\",\n",
    "            \"1234 west main heights 57033\",\n",
    "            \"apt 1 789 s maple rd manhattan\",\n",
    "            \"robie house, 789 north main street\",\n",
    "            \"1111 S Figueroa St, Los Angeles, CA 90015\",\n",
    "            \"(staples center) 1111 S Figueroa St, Los Angeles\",\n",
    "            \"hello\",\n",
    "        ]\n",
    "    }\n",
    ")\n",
    "df"
   ]
  },
  {
   "cell_type": "markdown",
   "id": "apart-comfort",
   "metadata": {},
   "source": [
    "## 1. Default `clean_de_handelsregisternummer`\n",
    "\n",
    "By default, `clean_de_handelsregisternummer` will clean handelsregisternummer strings and output them in the standard format with proper separators."
   ]
  },
  {
   "cell_type": "code",
   "execution_count": 2,
   "id": "nearby-plymouth",
   "metadata": {
    "execution": {
     "iopub.execute_input": "2021-10-30T05:16:58.938158Z",
     "iopub.status.busy": "2021-10-30T05:16:58.937675Z",
     "iopub.status.idle": "2021-10-30T05:16:59.519860Z",
     "shell.execute_reply": "2021-10-30T05:16:59.519373Z"
    }
   },
   "outputs": [
    {
     "data": {
      "text/html": [
       "<div>\n",
       "<style scoped>\n",
       "    .dataframe tbody tr th:only-of-type {\n",
       "        vertical-align: middle;\n",
       "    }\n",
       "\n",
       "    .dataframe tbody tr th {\n",
       "        vertical-align: top;\n",
       "    }\n",
       "\n",
       "    .dataframe thead th {\n",
       "        text-align: right;\n",
       "    }\n",
       "</style>\n",
       "<table border=\"1\" class=\"dataframe\">\n",
       "  <thead>\n",
       "    <tr style=\"text-align: right;\">\n",
       "      <th></th>\n",
       "      <th>handelsregisternummer</th>\n",
       "      <th>address</th>\n",
       "      <th>handelsregisternummer_clean</th>\n",
       "    </tr>\n",
       "  </thead>\n",
       "  <tbody>\n",
       "    <tr>\n",
       "      <th>0</th>\n",
       "      <td>Aachen HRA 11223</td>\n",
       "      <td>123 Pine Ave.</td>\n",
       "      <td>Aachen HRA 11223</td>\n",
       "    </tr>\n",
       "    <tr>\n",
       "      <th>1</th>\n",
       "      <td>Aachen HRC 44123</td>\n",
       "      <td>main st</td>\n",
       "      <td>NaN</td>\n",
       "    </tr>\n",
       "    <tr>\n",
       "      <th>2</th>\n",
       "      <td>BE 428759497</td>\n",
       "      <td>1234 west main heights 57033</td>\n",
       "      <td>NaN</td>\n",
       "    </tr>\n",
       "    <tr>\n",
       "      <th>3</th>\n",
       "      <td>BE431150351</td>\n",
       "      <td>apt 1 789 s maple rd manhattan</td>\n",
       "      <td>NaN</td>\n",
       "    </tr>\n",
       "    <tr>\n",
       "      <th>4</th>\n",
       "      <td>002 724 334</td>\n",
       "      <td>robie house, 789 north main street</td>\n",
       "      <td>NaN</td>\n",
       "    </tr>\n",
       "    <tr>\n",
       "      <th>5</th>\n",
       "      <td>hello</td>\n",
       "      <td>1111 S Figueroa St, Los Angeles, CA 90015</td>\n",
       "      <td>NaN</td>\n",
       "    </tr>\n",
       "    <tr>\n",
       "      <th>6</th>\n",
       "      <td>NaN</td>\n",
       "      <td>(staples center) 1111 S Figueroa St, Los Angeles</td>\n",
       "      <td>NaN</td>\n",
       "    </tr>\n",
       "    <tr>\n",
       "      <th>7</th>\n",
       "      <td>NULL</td>\n",
       "      <td>hello</td>\n",
       "      <td>NaN</td>\n",
       "    </tr>\n",
       "  </tbody>\n",
       "</table>\n",
       "</div>"
      ],
      "text/plain": [
       "  handelsregisternummer                                           address  \\\n",
       "0      Aachen HRA 11223                                     123 Pine Ave.   \n",
       "1      Aachen HRC 44123                                           main st   \n",
       "2          BE 428759497                      1234 west main heights 57033   \n",
       "3           BE431150351                    apt 1 789 s maple rd manhattan   \n",
       "4           002 724 334                robie house, 789 north main street   \n",
       "5                 hello         1111 S Figueroa St, Los Angeles, CA 90015   \n",
       "6                   NaN  (staples center) 1111 S Figueroa St, Los Angeles   \n",
       "7                  NULL                                             hello   \n",
       "\n",
       "  handelsregisternummer_clean  \n",
       "0            Aachen HRA 11223  \n",
       "1                         NaN  \n",
       "2                         NaN  \n",
       "3                         NaN  \n",
       "4                         NaN  \n",
       "5                         NaN  \n",
       "6                         NaN  \n",
       "7                         NaN  "
      ]
     },
     "execution_count": 1,
     "metadata": {},
     "output_type": "execute_result"
    }
   ],
   "source": [
    "from dataprep.clean import clean_de_handelsregisternummer\n",
    "clean_de_handelsregisternummer(df, column = \"handelsregisternummer\")"
   ]
  },
  {
   "cell_type": "markdown",
   "id": "human-humor",
   "metadata": {},
   "source": [
    "## 2. Output formats"
   ]
  },
  {
   "cell_type": "markdown",
   "id": "painted-bracket",
   "metadata": {},
   "source": [
    "This section demonstrates the output parameter."
   ]
  },
  {
   "cell_type": "markdown",
   "id": "historical-yemen",
   "metadata": {},
   "source": [
    "### `standard` (default)"
   ]
  },
  {
   "cell_type": "code",
   "execution_count": 3,
   "id": "convenient-official",
   "metadata": {
    "execution": {
     "iopub.execute_input": "2021-10-30T05:16:59.541542Z",
     "iopub.status.busy": "2021-10-30T05:16:59.541067Z",
     "iopub.status.idle": "2021-10-30T05:16:59.549865Z",
     "shell.execute_reply": "2021-10-30T05:16:59.549448Z"
    }
   },
   "outputs": [
    {
     "data": {
      "text/html": [
       "<div>\n",
       "<style scoped>\n",
       "    .dataframe tbody tr th:only-of-type {\n",
       "        vertical-align: middle;\n",
       "    }\n",
       "\n",
       "    .dataframe tbody tr th {\n",
       "        vertical-align: top;\n",
       "    }\n",
       "\n",
       "    .dataframe thead th {\n",
       "        text-align: right;\n",
       "    }\n",
       "</style>\n",
       "<table border=\"1\" class=\"dataframe\">\n",
       "  <thead>\n",
       "    <tr style=\"text-align: right;\">\n",
       "      <th></th>\n",
       "      <th>handelsregisternummer</th>\n",
       "      <th>address</th>\n",
       "      <th>handelsregisternummer_clean</th>\n",
       "    </tr>\n",
       "  </thead>\n",
       "  <tbody>\n",
       "    <tr>\n",
       "      <th>0</th>\n",
       "      <td>Aachen HRA 11223</td>\n",
       "      <td>123 Pine Ave.</td>\n",
       "      <td>Aachen HRA 11223</td>\n",
       "    </tr>\n",
       "    <tr>\n",
       "      <th>1</th>\n",
       "      <td>Aachen HRC 44123</td>\n",
       "      <td>main st</td>\n",
       "      <td>NaN</td>\n",
       "    </tr>\n",
       "    <tr>\n",
       "      <th>2</th>\n",
       "      <td>BE 428759497</td>\n",
       "      <td>1234 west main heights 57033</td>\n",
       "      <td>NaN</td>\n",
       "    </tr>\n",
       "    <tr>\n",
       "      <th>3</th>\n",
       "      <td>BE431150351</td>\n",
       "      <td>apt 1 789 s maple rd manhattan</td>\n",
       "      <td>NaN</td>\n",
       "    </tr>\n",
       "    <tr>\n",
       "      <th>4</th>\n",
       "      <td>002 724 334</td>\n",
       "      <td>robie house, 789 north main street</td>\n",
       "      <td>NaN</td>\n",
       "    </tr>\n",
       "    <tr>\n",
       "      <th>5</th>\n",
       "      <td>hello</td>\n",
       "      <td>1111 S Figueroa St, Los Angeles, CA 90015</td>\n",
       "      <td>NaN</td>\n",
       "    </tr>\n",
       "    <tr>\n",
       "      <th>6</th>\n",
       "      <td>NaN</td>\n",
       "      <td>(staples center) 1111 S Figueroa St, Los Angeles</td>\n",
       "      <td>NaN</td>\n",
       "    </tr>\n",
       "    <tr>\n",
       "      <th>7</th>\n",
       "      <td>NULL</td>\n",
       "      <td>hello</td>\n",
       "      <td>NaN</td>\n",
       "    </tr>\n",
       "  </tbody>\n",
       "</table>\n",
       "</div>"
      ],
      "text/plain": [
       "  handelsregisternummer                                           address  \\\n",
       "0      Aachen HRA 11223                                     123 Pine Ave.   \n",
       "1      Aachen HRC 44123                                           main st   \n",
       "2          BE 428759497                      1234 west main heights 57033   \n",
       "3           BE431150351                    apt 1 789 s maple rd manhattan   \n",
       "4           002 724 334                robie house, 789 north main street   \n",
       "5                 hello         1111 S Figueroa St, Los Angeles, CA 90015   \n",
       "6                   NaN  (staples center) 1111 S Figueroa St, Los Angeles   \n",
       "7                  NULL                                             hello   \n",
       "\n",
       "  handelsregisternummer_clean  \n",
       "0            Aachen HRA 11223  \n",
       "1                         NaN  \n",
       "2                         NaN  \n",
       "3                         NaN  \n",
       "4                         NaN  \n",
       "5                         NaN  \n",
       "6                         NaN  \n",
       "7                         NaN  "
      ]
     },
     "execution_count": 1,
     "metadata": {},
     "output_type": "execute_result"
    }
   ],
   "source": [
    "clean_de_handelsregisternummer(df, column = \"handelsregisternummer\", output_format=\"standard\")"
   ]
  },
  {
   "cell_type": "markdown",
   "id": "employed-affairs",
   "metadata": {},
   "source": [
    "### `compact`"
   ]
  },
  {
   "cell_type": "code",
   "execution_count": 4,
   "id": "heard-vegetable",
   "metadata": {
    "execution": {
     "iopub.execute_input": "2021-10-30T05:16:59.571655Z",
     "iopub.status.busy": "2021-10-30T05:16:59.571171Z",
     "iopub.status.idle": "2021-10-30T05:16:59.578822Z",
     "shell.execute_reply": "2021-10-30T05:16:59.578277Z"
    }
   },
   "outputs": [
    {
     "data": {
      "text/html": [
       "<div>\n",
       "<style scoped>\n",
       "    .dataframe tbody tr th:only-of-type {\n",
       "        vertical-align: middle;\n",
       "    }\n",
       "\n",
       "    .dataframe tbody tr th {\n",
       "        vertical-align: top;\n",
       "    }\n",
       "\n",
       "    .dataframe thead th {\n",
       "        text-align: right;\n",
       "    }\n",
       "</style>\n",
       "<table border=\"1\" class=\"dataframe\">\n",
       "  <thead>\n",
       "    <tr style=\"text-align: right;\">\n",
       "      <th></th>\n",
       "      <th>handelsregisternummer</th>\n",
       "      <th>address</th>\n",
       "      <th>handelsregisternummer_clean</th>\n",
       "    </tr>\n",
       "  </thead>\n",
       "  <tbody>\n",
       "    <tr>\n",
       "      <th>0</th>\n",
       "      <td>Aachen HRA 11223</td>\n",
       "      <td>123 Pine Ave.</td>\n",
       "      <td>Aachen HRA 11223</td>\n",
       "    </tr>\n",
       "    <tr>\n",
       "      <th>1</th>\n",
       "      <td>Aachen HRC 44123</td>\n",
       "      <td>main st</td>\n",
       "      <td>NaN</td>\n",
       "    </tr>\n",
       "    <tr>\n",
       "      <th>2</th>\n",
       "      <td>BE 428759497</td>\n",
       "      <td>1234 west main heights 57033</td>\n",
       "      <td>NaN</td>\n",
       "    </tr>\n",
       "    <tr>\n",
       "      <th>3</th>\n",
       "      <td>BE431150351</td>\n",
       "      <td>apt 1 789 s maple rd manhattan</td>\n",
       "      <td>NaN</td>\n",
       "    </tr>\n",
       "    <tr>\n",
       "      <th>4</th>\n",
       "      <td>002 724 334</td>\n",
       "      <td>robie house, 789 north main street</td>\n",
       "      <td>NaN</td>\n",
       "    </tr>\n",
       "    <tr>\n",
       "      <th>5</th>\n",
       "      <td>hello</td>\n",
       "      <td>1111 S Figueroa St, Los Angeles, CA 90015</td>\n",
       "      <td>NaN</td>\n",
       "    </tr>\n",
       "    <tr>\n",
       "      <th>6</th>\n",
       "      <td>NaN</td>\n",
       "      <td>(staples center) 1111 S Figueroa St, Los Angeles</td>\n",
       "      <td>NaN</td>\n",
       "    </tr>\n",
       "    <tr>\n",
       "      <th>7</th>\n",
       "      <td>NULL</td>\n",
       "      <td>hello</td>\n",
       "      <td>NaN</td>\n",
       "    </tr>\n",
       "  </tbody>\n",
       "</table>\n",
       "</div>"
      ],
      "text/plain": [
       "  handelsregisternummer                                           address  \\\n",
       "0      Aachen HRA 11223                                     123 Pine Ave.   \n",
       "1      Aachen HRC 44123                                           main st   \n",
       "2          BE 428759497                      1234 west main heights 57033   \n",
       "3           BE431150351                    apt 1 789 s maple rd manhattan   \n",
       "4           002 724 334                robie house, 789 north main street   \n",
       "5                 hello         1111 S Figueroa St, Los Angeles, CA 90015   \n",
       "6                   NaN  (staples center) 1111 S Figueroa St, Los Angeles   \n",
       "7                  NULL                                             hello   \n",
       "\n",
       "  handelsregisternummer_clean  \n",
       "0            Aachen HRA 11223  \n",
       "1                         NaN  \n",
       "2                         NaN  \n",
       "3                         NaN  \n",
       "4                         NaN  \n",
       "5                         NaN  \n",
       "6                         NaN  \n",
       "7                         NaN  "
      ]
     },
     "execution_count": 1,
     "metadata": {},
     "output_type": "execute_result"
    }
   ],
   "source": [
    "clean_de_handelsregisternummer(df, column = \"handelsregisternummer\", output_format=\"compact\")"
   ]
  },
  {
   "cell_type": "markdown",
   "id": "worthy-tunisia",
   "metadata": {},
   "source": [
    "## 3. `inplace` parameter\n",
    "\n",
    "This deletes the given column from the returned DataFrame. \n",
    "A new column containing cleaned handelsregisternummer strings is added with a title in the format `\"{original title}_clean\"`."
   ]
  },
  {
   "cell_type": "code",
   "execution_count": 5,
   "id": "naked-childhood",
   "metadata": {
    "execution": {
     "iopub.execute_input": "2021-10-30T05:16:59.609704Z",
     "iopub.status.busy": "2021-10-30T05:16:59.605400Z",
     "iopub.status.idle": "2021-10-30T05:16:59.617910Z",
     "shell.execute_reply": "2021-10-30T05:16:59.617479Z"
    }
   },
   "outputs": [
    {
     "data": {
      "text/html": [
       "<div>\n",
       "<style scoped>\n",
       "    .dataframe tbody tr th:only-of-type {\n",
       "        vertical-align: middle;\n",
       "    }\n",
       "\n",
       "    .dataframe tbody tr th {\n",
       "        vertical-align: top;\n",
       "    }\n",
       "\n",
       "    .dataframe thead th {\n",
       "        text-align: right;\n",
       "    }\n",
       "</style>\n",
       "<table border=\"1\" class=\"dataframe\">\n",
       "  <thead>\n",
       "    <tr style=\"text-align: right;\">\n",
       "      <th></th>\n",
       "      <th>handelsregisternummer_clean</th>\n",
       "      <th>address</th>\n",
       "    </tr>\n",
       "  </thead>\n",
       "  <tbody>\n",
       "    <tr>\n",
       "      <th>0</th>\n",
       "      <td>Aachen HRA 11223</td>\n",
       "      <td>123 Pine Ave.</td>\n",
       "    </tr>\n",
       "    <tr>\n",
       "      <th>1</th>\n",
       "      <td>NaN</td>\n",
       "      <td>main st</td>\n",
       "    </tr>\n",
       "    <tr>\n",
       "      <th>2</th>\n",
       "      <td>NaN</td>\n",
       "      <td>1234 west main heights 57033</td>\n",
       "    </tr>\n",
       "    <tr>\n",
       "      <th>3</th>\n",
       "      <td>NaN</td>\n",
       "      <td>apt 1 789 s maple rd manhattan</td>\n",
       "    </tr>\n",
       "    <tr>\n",
       "      <th>4</th>\n",
       "      <td>NaN</td>\n",
       "      <td>robie house, 789 north main street</td>\n",
       "    </tr>\n",
       "    <tr>\n",
       "      <th>5</th>\n",
       "      <td>NaN</td>\n",
       "      <td>1111 S Figueroa St, Los Angeles, CA 90015</td>\n",
       "    </tr>\n",
       "    <tr>\n",
       "      <th>6</th>\n",
       "      <td>NaN</td>\n",
       "      <td>(staples center) 1111 S Figueroa St, Los Angeles</td>\n",
       "    </tr>\n",
       "    <tr>\n",
       "      <th>7</th>\n",
       "      <td>NaN</td>\n",
       "      <td>hello</td>\n",
       "    </tr>\n",
       "  </tbody>\n",
       "</table>\n",
       "</div>"
      ],
      "text/plain": [
       "  handelsregisternummer_clean  \\\n",
       "0            Aachen HRA 11223   \n",
       "1                         NaN   \n",
       "2                         NaN   \n",
       "3                         NaN   \n",
       "4                         NaN   \n",
       "5                         NaN   \n",
       "6                         NaN   \n",
       "7                         NaN   \n",
       "\n",
       "                                            address  \n",
       "0                                     123 Pine Ave.  \n",
       "1                                           main st  \n",
       "2                      1234 west main heights 57033  \n",
       "3                    apt 1 789 s maple rd manhattan  \n",
       "4                robie house, 789 north main street  \n",
       "5         1111 S Figueroa St, Los Angeles, CA 90015  \n",
       "6  (staples center) 1111 S Figueroa St, Los Angeles  \n",
       "7                                             hello  "
      ]
     },
     "execution_count": 1,
     "metadata": {},
     "output_type": "execute_result"
    }
   ],
   "source": [
    "clean_de_handelsregisternummer(df, column=\"handelsregisternummer\", inplace=True)"
   ]
  },
  {
   "cell_type": "markdown",
   "id": "arctic-wright",
   "metadata": {},
   "source": [
    "## 4. `errors` parameter"
   ]
  },
  {
   "cell_type": "markdown",
   "id": "regulated-panel",
   "metadata": {},
   "source": [
    "### `coerce` (default)"
   ]
  },
  {
   "cell_type": "code",
   "execution_count": 6,
   "id": "egyptian-modem",
   "metadata": {
    "execution": {
     "iopub.execute_input": "2021-10-30T05:16:59.644894Z",
     "iopub.status.busy": "2021-10-30T05:16:59.637228Z",
     "iopub.status.idle": "2021-10-30T05:16:59.649179Z",
     "shell.execute_reply": "2021-10-30T05:16:59.648773Z"
    }
   },
   "outputs": [
    {
     "data": {
      "text/html": [
       "<div>\n",
       "<style scoped>\n",
       "    .dataframe tbody tr th:only-of-type {\n",
       "        vertical-align: middle;\n",
       "    }\n",
       "\n",
       "    .dataframe tbody tr th {\n",
       "        vertical-align: top;\n",
       "    }\n",
       "\n",
       "    .dataframe thead th {\n",
       "        text-align: right;\n",
       "    }\n",
       "</style>\n",
       "<table border=\"1\" class=\"dataframe\">\n",
       "  <thead>\n",
       "    <tr style=\"text-align: right;\">\n",
       "      <th></th>\n",
       "      <th>handelsregisternummer</th>\n",
       "      <th>address</th>\n",
       "      <th>handelsregisternummer_clean</th>\n",
       "    </tr>\n",
       "  </thead>\n",
       "  <tbody>\n",
       "    <tr>\n",
       "      <th>0</th>\n",
       "      <td>Aachen HRA 11223</td>\n",
       "      <td>123 Pine Ave.</td>\n",
       "      <td>Aachen HRA 11223</td>\n",
       "    </tr>\n",
       "    <tr>\n",
       "      <th>1</th>\n",
       "      <td>Aachen HRC 44123</td>\n",
       "      <td>main st</td>\n",
       "      <td>NaN</td>\n",
       "    </tr>\n",
       "    <tr>\n",
       "      <th>2</th>\n",
       "      <td>BE 428759497</td>\n",
       "      <td>1234 west main heights 57033</td>\n",
       "      <td>NaN</td>\n",
       "    </tr>\n",
       "    <tr>\n",
       "      <th>3</th>\n",
       "      <td>BE431150351</td>\n",
       "      <td>apt 1 789 s maple rd manhattan</td>\n",
       "      <td>NaN</td>\n",
       "    </tr>\n",
       "    <tr>\n",
       "      <th>4</th>\n",
       "      <td>002 724 334</td>\n",
       "      <td>robie house, 789 north main street</td>\n",
       "      <td>NaN</td>\n",
       "    </tr>\n",
       "    <tr>\n",
       "      <th>5</th>\n",
       "      <td>hello</td>\n",
       "      <td>1111 S Figueroa St, Los Angeles, CA 90015</td>\n",
       "      <td>NaN</td>\n",
       "    </tr>\n",
       "    <tr>\n",
       "      <th>6</th>\n",
       "      <td>NaN</td>\n",
       "      <td>(staples center) 1111 S Figueroa St, Los Angeles</td>\n",
       "      <td>NaN</td>\n",
       "    </tr>\n",
       "    <tr>\n",
       "      <th>7</th>\n",
       "      <td>NULL</td>\n",
       "      <td>hello</td>\n",
       "      <td>NaN</td>\n",
       "    </tr>\n",
       "  </tbody>\n",
       "</table>\n",
       "</div>"
      ],
      "text/plain": [
       "  handelsregisternummer                                           address  \\\n",
       "0      Aachen HRA 11223                                     123 Pine Ave.   \n",
       "1      Aachen HRC 44123                                           main st   \n",
       "2          BE 428759497                      1234 west main heights 57033   \n",
       "3           BE431150351                    apt 1 789 s maple rd manhattan   \n",
       "4           002 724 334                robie house, 789 north main street   \n",
       "5                 hello         1111 S Figueroa St, Los Angeles, CA 90015   \n",
       "6                   NaN  (staples center) 1111 S Figueroa St, Los Angeles   \n",
       "7                  NULL                                             hello   \n",
       "\n",
       "  handelsregisternummer_clean  \n",
       "0            Aachen HRA 11223  \n",
       "1                         NaN  \n",
       "2                         NaN  \n",
       "3                         NaN  \n",
       "4                         NaN  \n",
       "5                         NaN  \n",
       "6                         NaN  \n",
       "7                         NaN  "
      ]
     },
     "execution_count": 1,
     "metadata": {},
     "output_type": "execute_result"
    }
   ],
   "source": [
    "clean_de_handelsregisternummer(df, \"handelsregisternummer\", errors=\"coerce\")"
   ]
  },
  {
   "cell_type": "markdown",
   "id": "collected-passing",
   "metadata": {},
   "source": [
    "### `ignore`"
   ]
  },
  {
   "cell_type": "code",
   "execution_count": 7,
   "id": "metric-richmond",
   "metadata": {
    "execution": {
     "iopub.execute_input": "2021-10-30T05:16:59.671567Z",
     "iopub.status.busy": "2021-10-30T05:16:59.667419Z",
     "iopub.status.idle": "2021-10-30T05:16:59.680013Z",
     "shell.execute_reply": "2021-10-30T05:16:59.680406Z"
    }
   },
   "outputs": [
    {
     "data": {
      "text/html": [
       "<div>\n",
       "<style scoped>\n",
       "    .dataframe tbody tr th:only-of-type {\n",
       "        vertical-align: middle;\n",
       "    }\n",
       "\n",
       "    .dataframe tbody tr th {\n",
       "        vertical-align: top;\n",
       "    }\n",
       "\n",
       "    .dataframe thead th {\n",
       "        text-align: right;\n",
       "    }\n",
       "</style>\n",
       "<table border=\"1\" class=\"dataframe\">\n",
       "  <thead>\n",
       "    <tr style=\"text-align: right;\">\n",
       "      <th></th>\n",
       "      <th>handelsregisternummer</th>\n",
       "      <th>address</th>\n",
       "      <th>handelsregisternummer_clean</th>\n",
       "    </tr>\n",
       "  </thead>\n",
       "  <tbody>\n",
       "    <tr>\n",
       "      <th>0</th>\n",
       "      <td>Aachen HRA 11223</td>\n",
       "      <td>123 Pine Ave.</td>\n",
       "      <td>Aachen HRA 11223</td>\n",
       "    </tr>\n",
       "    <tr>\n",
       "      <th>1</th>\n",
       "      <td>Aachen HRC 44123</td>\n",
       "      <td>main st</td>\n",
       "      <td>Aachen HRC 44123</td>\n",
       "    </tr>\n",
       "    <tr>\n",
       "      <th>2</th>\n",
       "      <td>BE 428759497</td>\n",
       "      <td>1234 west main heights 57033</td>\n",
       "      <td>BE 428759497</td>\n",
       "    </tr>\n",
       "    <tr>\n",
       "      <th>3</th>\n",
       "      <td>BE431150351</td>\n",
       "      <td>apt 1 789 s maple rd manhattan</td>\n",
       "      <td>BE431150351</td>\n",
       "    </tr>\n",
       "    <tr>\n",
       "      <th>4</th>\n",
       "      <td>002 724 334</td>\n",
       "      <td>robie house, 789 north main street</td>\n",
       "      <td>002 724 334</td>\n",
       "    </tr>\n",
       "    <tr>\n",
       "      <th>5</th>\n",
       "      <td>hello</td>\n",
       "      <td>1111 S Figueroa St, Los Angeles, CA 90015</td>\n",
       "      <td>hello</td>\n",
       "    </tr>\n",
       "    <tr>\n",
       "      <th>6</th>\n",
       "      <td>NaN</td>\n",
       "      <td>(staples center) 1111 S Figueroa St, Los Angeles</td>\n",
       "      <td>NaN</td>\n",
       "    </tr>\n",
       "    <tr>\n",
       "      <th>7</th>\n",
       "      <td>NULL</td>\n",
       "      <td>hello</td>\n",
       "      <td>NaN</td>\n",
       "    </tr>\n",
       "  </tbody>\n",
       "</table>\n",
       "</div>"
      ],
      "text/plain": [
       "  handelsregisternummer                                           address  \\\n",
       "0      Aachen HRA 11223                                     123 Pine Ave.   \n",
       "1      Aachen HRC 44123                                           main st   \n",
       "2          BE 428759497                      1234 west main heights 57033   \n",
       "3           BE431150351                    apt 1 789 s maple rd manhattan   \n",
       "4           002 724 334                robie house, 789 north main street   \n",
       "5                 hello         1111 S Figueroa St, Los Angeles, CA 90015   \n",
       "6                   NaN  (staples center) 1111 S Figueroa St, Los Angeles   \n",
       "7                  NULL                                             hello   \n",
       "\n",
       "  handelsregisternummer_clean  \n",
       "0            Aachen HRA 11223  \n",
       "1            Aachen HRC 44123  \n",
       "2                BE 428759497  \n",
       "3                 BE431150351  \n",
       "4                 002 724 334  \n",
       "5                       hello  \n",
       "6                         NaN  \n",
       "7                         NaN  "
      ]
     },
     "execution_count": 1,
     "metadata": {},
     "output_type": "execute_result"
    }
   ],
   "source": [
    "clean_de_handelsregisternummer(df, \"handelsregisternummer\", errors=\"ignore\")"
   ]
  },
  {
   "cell_type": "markdown",
   "id": "later-christian",
   "metadata": {},
   "source": [
    "## 4. `validate_de_handelsregisternummer()`"
   ]
  },
  {
   "cell_type": "markdown",
   "id": "genuine-praise",
   "metadata": {},
   "source": [
    "`validate_de_handelsregisternummer()` returns `True` when the input is a valid handelsregisternummer. Otherwise it returns `False`.\n",
    "\n",
    "The input of `validate_de_handelsregisternummer()` can be a string, a Pandas DataSeries, a Dask DataSeries, a Pandas DataFrame and a dask DataFrame.\n",
    "\n",
    "When the input is a string, a Pandas DataSeries or a Dask DataSeries, user doesn't need to specify a column name to be validated. \n",
    "\n",
    "When the input is a Pandas DataFrame or a dask DataFrame, user can both specify or not specify a column name to be validated. If user specify the column name, `validate_de_handelsregisternummer()` only returns the validation result for the specified column. If user doesn't specify the column name, `validate_de_handelsregisternummer()` returns the validation result for the whole DataFrame."
   ]
  },
  {
   "cell_type": "code",
   "execution_count": 8,
   "id": "behavioral-accommodation",
   "metadata": {
    "execution": {
     "iopub.execute_input": "2021-10-30T05:16:59.685328Z",
     "iopub.status.busy": "2021-10-30T05:16:59.684819Z",
     "iopub.status.idle": "2021-10-30T05:16:59.690344Z",
     "shell.execute_reply": "2021-10-30T05:16:59.689712Z"
    }
   },
   "outputs": [
    {
     "name": "stdout",
     "output_type": "stream",
     "text": [
      "True\n",
      "False\n",
      "False\n",
      "False\n",
      "False\n",
      "False\n",
      "False\n",
      "False\n"
     ]
    }
   ],
   "source": [
    "from dataprep.clean import validate_de_handelsregisternummer\n",
    "print(validate_de_handelsregisternummer('Aachen HRA 11223'))\n",
    "print(validate_de_handelsregisternummer('Aachen HRC 44123'))\n",
    "print(validate_de_handelsregisternummer('BE 428759497'))\n",
    "print(validate_de_handelsregisternummer('BE431150351'))\n",
    "print(validate_de_handelsregisternummer(\"004085616\"))\n",
    "print(validate_de_handelsregisternummer(\"hello\"))\n",
    "print(validate_de_handelsregisternummer(np.nan))\n",
    "print(validate_de_handelsregisternummer(\"NULL\"))"
   ]
  },
  {
   "cell_type": "markdown",
   "id": "homeless-indication",
   "metadata": {},
   "source": [
    "### Series"
   ]
  },
  {
   "cell_type": "code",
   "execution_count": 9,
   "id": "talented-johnson",
   "metadata": {
    "execution": {
     "iopub.execute_input": "2021-10-30T05:16:59.695244Z",
     "iopub.status.busy": "2021-10-30T05:16:59.694707Z",
     "iopub.status.idle": "2021-10-30T05:16:59.698093Z",
     "shell.execute_reply": "2021-10-30T05:16:59.697443Z"
    }
   },
   "outputs": [
    {
     "data": {
      "text/plain": [
       "0     True\n",
       "1    False\n",
       "2    False\n",
       "3    False\n",
       "4    False\n",
       "5    False\n",
       "6    False\n",
       "7    False\n",
       "Name: handelsregisternummer, dtype: bool"
      ]
     },
     "execution_count": 1,
     "metadata": {},
     "output_type": "execute_result"
    }
   ],
   "source": [
    "validate_de_handelsregisternummer(df[\"handelsregisternummer\"])"
   ]
  },
  {
   "cell_type": "markdown",
   "id": "impressive-premiere",
   "metadata": {},
   "source": [
    "### DataFrame + Specify Column"
   ]
  },
  {
   "cell_type": "code",
   "execution_count": 10,
   "id": "heated-taxation",
   "metadata": {
    "execution": {
     "iopub.execute_input": "2021-10-30T05:16:59.702484Z",
     "iopub.status.busy": "2021-10-30T05:16:59.701991Z",
     "iopub.status.idle": "2021-10-30T05:16:59.706729Z",
     "shell.execute_reply": "2021-10-30T05:16:59.706305Z"
    }
   },
   "outputs": [
    {
     "data": {
      "text/plain": [
       "0     True\n",
       "1    False\n",
       "2    False\n",
       "3    False\n",
       "4    False\n",
       "5    False\n",
       "6    False\n",
       "7    False\n",
       "Name: handelsregisternummer, dtype: bool"
      ]
     },
     "execution_count": 1,
     "metadata": {},
     "output_type": "execute_result"
    }
   ],
   "source": [
    "validate_de_handelsregisternummer(df, column=\"handelsregisternummer\")"
   ]
  },
  {
   "cell_type": "markdown",
   "id": "detected-binding",
   "metadata": {},
   "source": [
    "### Only DataFrame"
   ]
  },
  {
   "cell_type": "code",
   "execution_count": 11,
   "id": "threatened-queue",
   "metadata": {
    "execution": {
     "iopub.execute_input": "2021-10-30T05:16:59.709782Z",
     "iopub.status.busy": "2021-10-30T05:16:59.709323Z",
     "iopub.status.idle": "2021-10-30T05:16:59.717849Z",
     "shell.execute_reply": "2021-10-30T05:16:59.717410Z"
    }
   },
   "outputs": [
    {
     "data": {
      "text/html": [
       "<div>\n",
       "<style scoped>\n",
       "    .dataframe tbody tr th:only-of-type {\n",
       "        vertical-align: middle;\n",
       "    }\n",
       "\n",
       "    .dataframe tbody tr th {\n",
       "        vertical-align: top;\n",
       "    }\n",
       "\n",
       "    .dataframe thead th {\n",
       "        text-align: right;\n",
       "    }\n",
       "</style>\n",
       "<table border=\"1\" class=\"dataframe\">\n",
       "  <thead>\n",
       "    <tr style=\"text-align: right;\">\n",
       "      <th></th>\n",
       "      <th>handelsregisternummer</th>\n",
       "      <th>address</th>\n",
       "    </tr>\n",
       "  </thead>\n",
       "  <tbody>\n",
       "    <tr>\n",
       "      <th>0</th>\n",
       "      <td>True</td>\n",
       "      <td>False</td>\n",
       "    </tr>\n",
       "    <tr>\n",
       "      <th>1</th>\n",
       "      <td>False</td>\n",
       "      <td>False</td>\n",
       "    </tr>\n",
       "    <tr>\n",
       "      <th>2</th>\n",
       "      <td>False</td>\n",
       "      <td>False</td>\n",
       "    </tr>\n",
       "    <tr>\n",
       "      <th>3</th>\n",
       "      <td>False</td>\n",
       "      <td>False</td>\n",
       "    </tr>\n",
       "    <tr>\n",
       "      <th>4</th>\n",
       "      <td>False</td>\n",
       "      <td>False</td>\n",
       "    </tr>\n",
       "    <tr>\n",
       "      <th>5</th>\n",
       "      <td>False</td>\n",
       "      <td>False</td>\n",
       "    </tr>\n",
       "    <tr>\n",
       "      <th>6</th>\n",
       "      <td>False</td>\n",
       "      <td>False</td>\n",
       "    </tr>\n",
       "    <tr>\n",
       "      <th>7</th>\n",
       "      <td>False</td>\n",
       "      <td>False</td>\n",
       "    </tr>\n",
       "  </tbody>\n",
       "</table>\n",
       "</div>"
      ],
      "text/plain": [
       "   handelsregisternummer  address\n",
       "0                   True    False\n",
       "1                  False    False\n",
       "2                  False    False\n",
       "3                  False    False\n",
       "4                  False    False\n",
       "5                  False    False\n",
       "6                  False    False\n",
       "7                  False    False"
      ]
     },
     "execution_count": 1,
     "metadata": {},
     "output_type": "execute_result"
    }
   ],
   "source": [
    "validate_de_handelsregisternummer(df)"
   ]
  },
  {
   "cell_type": "code",
   "execution_count": null,
   "id": "sporting-contest",
   "metadata": {},
   "outputs": [],
   "source": []
  }
 ],
 "metadata": {
  "kernelspec": {
   "display_name": "Python 3",
   "language": "python",
   "name": "python3"
  },
  "language_info": {
   "codemirror_mode": {
    "name": "ipython",
    "version": 3
   },
   "file_extension": ".py",
   "mimetype": "text/x-python",
   "name": "python",
   "nbconvert_exporter": "python",
   "pygments_lexer": "ipython3",
   "version": "3.8.10"
  }
 },
 "nbformat": 4,
 "nbformat_minor": 5
}
