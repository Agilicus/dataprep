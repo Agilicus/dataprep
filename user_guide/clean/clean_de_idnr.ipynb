{
 "cells": [
  {
   "cell_type": "raw",
   "id": "governing-ceiling",
   "metadata": {},
   "source": [
    ".. _idnr_userguide:\n",
    "\n",
    "IDNR Strings\n",
    "============"
   ]
  },
  {
   "cell_type": "raw",
   "id": "interesting-difficulty",
   "metadata": {},
   "source": [
    "Introduction\n",
    "------------\n",
    "\n",
    "The function :func:`clean_de_idnr() <dataprep.clean.clean_de_idnr.clean_de_idnr>` cleans a column containing German personal tax number (IDNR) strings, and standardizes them in a given format. The function :func:`validate_de_idnr() <dataprep.clean.clean_de_idnr.validate_de_idnr>` validates either a single IDNR strings, a column of IDNR strings or a DataFrame of IDNR strings, returning `True` if the value is valid, and `False` otherwise."
   ]
  },
  {
   "cell_type": "markdown",
   "id": "chubby-smooth",
   "metadata": {},
   "source": [
    "IDNR strings can be converted to the following formats via the `output_format` parameter:\n",
    "\n",
    "* `compact`: only number strings without any seperators or whitespace, like \"36574261809\"\n",
    "* `standard`: IDNR strings with proper whitespace in the proper places, like \"36 574 261 809\"\n",
    "\n",
    "Invalid parsing is handled with the `errors` parameter:\n",
    "\n",
    "* `coerce` (default): invalid parsing will be set to NaN\n",
    "* `ignore`: invalid parsing will return the input\n",
    "* `raise`: invalid parsing will raise an exception\n",
    "\n",
    "The following sections demonstrate the functionality of `clean_de_idnr()` and `validate_de_idnr()`. "
   ]
  },
  {
   "cell_type": "markdown",
   "id": "geological-glossary",
   "metadata": {},
   "source": [
    "### An example dataset containing IDNR strings"
   ]
  },
  {
   "cell_type": "code",
   "execution_count": 1,
   "id": "prescribed-clinic",
   "metadata": {
    "execution": {
     "iopub.execute_input": "2021-10-26T22:59:08.546947Z",
     "iopub.status.busy": "2021-10-26T22:59:08.546496Z",
     "iopub.status.idle": "2021-10-26T22:59:08.768387Z",
     "shell.execute_reply": "2021-10-26T22:59:08.767875Z"
    }
   },
   "outputs": [
    {
     "data": {
      "text/html": [
       "<div>\n",
       "<style scoped>\n",
       "    .dataframe tbody tr th:only-of-type {\n",
       "        vertical-align: middle;\n",
       "    }\n",
       "\n",
       "    .dataframe tbody tr th {\n",
       "        vertical-align: top;\n",
       "    }\n",
       "\n",
       "    .dataframe thead th {\n",
       "        text-align: right;\n",
       "    }\n",
       "</style>\n",
       "<table border=\"1\" class=\"dataframe\">\n",
       "  <thead>\n",
       "    <tr style=\"text-align: right;\">\n",
       "      <th></th>\n",
       "      <th>idnr</th>\n",
       "      <th>address</th>\n",
       "    </tr>\n",
       "  </thead>\n",
       "  <tbody>\n",
       "    <tr>\n",
       "      <th>0</th>\n",
       "      <td>36574261809</td>\n",
       "      <td>123 Pine Ave.</td>\n",
       "    </tr>\n",
       "    <tr>\n",
       "      <th>1</th>\n",
       "      <td>36554266806</td>\n",
       "      <td>main st</td>\n",
       "    </tr>\n",
       "    <tr>\n",
       "      <th>2</th>\n",
       "      <td>51824753556</td>\n",
       "      <td>1234 west main heights 57033</td>\n",
       "    </tr>\n",
       "    <tr>\n",
       "      <th>3</th>\n",
       "      <td>51 824 753 556</td>\n",
       "      <td>apt 1 789 s maple rd manhattan</td>\n",
       "    </tr>\n",
       "    <tr>\n",
       "      <th>4</th>\n",
       "      <td>hello</td>\n",
       "      <td>robie house, 789 north main street</td>\n",
       "    </tr>\n",
       "    <tr>\n",
       "      <th>5</th>\n",
       "      <td>NaN</td>\n",
       "      <td>(staples center) 1111 S Figueroa St, Los Angeles</td>\n",
       "    </tr>\n",
       "    <tr>\n",
       "      <th>6</th>\n",
       "      <td>NULL</td>\n",
       "      <td>hello</td>\n",
       "    </tr>\n",
       "  </tbody>\n",
       "</table>\n",
       "</div>"
      ],
      "text/plain": [
       "             idnr                                           address\n",
       "0     36574261809                                     123 Pine Ave.\n",
       "1     36554266806                                           main st\n",
       "2     51824753556                      1234 west main heights 57033\n",
       "3  51 824 753 556                    apt 1 789 s maple rd manhattan\n",
       "4           hello                robie house, 789 north main street\n",
       "5             NaN  (staples center) 1111 S Figueroa St, Los Angeles\n",
       "6            NULL                                             hello"
      ]
     },
     "execution_count": 1,
     "metadata": {},
     "output_type": "execute_result"
    }
   ],
   "source": [
    "import pandas as pd\n",
    "import numpy as np\n",
    "df = pd.DataFrame(\n",
    "    {\n",
    "        \"idnr\": [\n",
    "            \"36574261809\",\n",
    "            \"36554266806\",\n",
    "            \"51824753556\",\n",
    "            \"51 824 753 556\",\n",
    "            \"hello\",\n",
    "            np.nan,\n",
    "            \"NULL\"\n",
    "        ], \n",
    "        \"address\": [\n",
    "            \"123 Pine Ave.\",\n",
    "            \"main st\",\n",
    "            \"1234 west main heights 57033\",\n",
    "            \"apt 1 789 s maple rd manhattan\",\n",
    "            \"robie house, 789 north main street\",\n",
    "            \"(staples center) 1111 S Figueroa St, Los Angeles\",\n",
    "            \"hello\",\n",
    "        ]\n",
    "    }\n",
    ")\n",
    "df"
   ]
  },
  {
   "cell_type": "markdown",
   "id": "portable-humor",
   "metadata": {},
   "source": [
    "## 1. Default `clean_de_idnr`\n",
    "\n",
    "By default, `clean_de_idnr` will clean idnr strings and output them in the standard format with proper separators."
   ]
  },
  {
   "cell_type": "code",
   "execution_count": 2,
   "id": "proper-viewer",
   "metadata": {
    "execution": {
     "iopub.execute_input": "2021-10-26T22:59:08.771909Z",
     "iopub.status.busy": "2021-10-26T22:59:08.771505Z",
     "iopub.status.idle": "2021-10-26T22:59:09.313092Z",
     "shell.execute_reply": "2021-10-26T22:59:09.313498Z"
    }
   },
   "outputs": [
    {
     "data": {
      "text/html": [
       "<div>\n",
       "<style scoped>\n",
       "    .dataframe tbody tr th:only-of-type {\n",
       "        vertical-align: middle;\n",
       "    }\n",
       "\n",
       "    .dataframe tbody tr th {\n",
       "        vertical-align: top;\n",
       "    }\n",
       "\n",
       "    .dataframe thead th {\n",
       "        text-align: right;\n",
       "    }\n",
       "</style>\n",
       "<table border=\"1\" class=\"dataframe\">\n",
       "  <thead>\n",
       "    <tr style=\"text-align: right;\">\n",
       "      <th></th>\n",
       "      <th>idnr</th>\n",
       "      <th>address</th>\n",
       "      <th>idnr_clean</th>\n",
       "    </tr>\n",
       "  </thead>\n",
       "  <tbody>\n",
       "    <tr>\n",
       "      <th>0</th>\n",
       "      <td>36574261809</td>\n",
       "      <td>123 Pine Ave.</td>\n",
       "      <td>36 574 261 809</td>\n",
       "    </tr>\n",
       "    <tr>\n",
       "      <th>1</th>\n",
       "      <td>36554266806</td>\n",
       "      <td>main st</td>\n",
       "      <td>NaN</td>\n",
       "    </tr>\n",
       "    <tr>\n",
       "      <th>2</th>\n",
       "      <td>51824753556</td>\n",
       "      <td>1234 west main heights 57033</td>\n",
       "      <td>NaN</td>\n",
       "    </tr>\n",
       "    <tr>\n",
       "      <th>3</th>\n",
       "      <td>51 824 753 556</td>\n",
       "      <td>apt 1 789 s maple rd manhattan</td>\n",
       "      <td>NaN</td>\n",
       "    </tr>\n",
       "    <tr>\n",
       "      <th>4</th>\n",
       "      <td>hello</td>\n",
       "      <td>robie house, 789 north main street</td>\n",
       "      <td>NaN</td>\n",
       "    </tr>\n",
       "    <tr>\n",
       "      <th>5</th>\n",
       "      <td>NaN</td>\n",
       "      <td>(staples center) 1111 S Figueroa St, Los Angeles</td>\n",
       "      <td>NaN</td>\n",
       "    </tr>\n",
       "    <tr>\n",
       "      <th>6</th>\n",
       "      <td>NULL</td>\n",
       "      <td>hello</td>\n",
       "      <td>NaN</td>\n",
       "    </tr>\n",
       "  </tbody>\n",
       "</table>\n",
       "</div>"
      ],
      "text/plain": [
       "             idnr                                           address  \\\n",
       "0     36574261809                                     123 Pine Ave.   \n",
       "1     36554266806                                           main st   \n",
       "2     51824753556                      1234 west main heights 57033   \n",
       "3  51 824 753 556                    apt 1 789 s maple rd manhattan   \n",
       "4           hello                robie house, 789 north main street   \n",
       "5             NaN  (staples center) 1111 S Figueroa St, Los Angeles   \n",
       "6            NULL                                             hello   \n",
       "\n",
       "       idnr_clean  \n",
       "0  36 574 261 809  \n",
       "1             NaN  \n",
       "2             NaN  \n",
       "3             NaN  \n",
       "4             NaN  \n",
       "5             NaN  \n",
       "6             NaN  "
      ]
     },
     "execution_count": 1,
     "metadata": {},
     "output_type": "execute_result"
    }
   ],
   "source": [
    "from dataprep.clean import clean_de_idnr\n",
    "clean_de_idnr(df, column = \"idnr\")"
   ]
  },
  {
   "cell_type": "markdown",
   "id": "boxed-housing",
   "metadata": {},
   "source": [
    "## 2. Output formats"
   ]
  },
  {
   "cell_type": "markdown",
   "id": "reserved-citation",
   "metadata": {},
   "source": [
    "This section demonstrates the output parameter."
   ]
  },
  {
   "cell_type": "markdown",
   "id": "individual-litigation",
   "metadata": {},
   "source": [
    "### `standard` (default)"
   ]
  },
  {
   "cell_type": "code",
   "execution_count": 3,
   "id": "awful-boston",
   "metadata": {
    "execution": {
     "iopub.execute_input": "2021-10-26T22:59:09.316020Z",
     "iopub.status.busy": "2021-10-26T22:59:09.315580Z",
     "iopub.status.idle": "2021-10-26T22:59:09.339726Z",
     "shell.execute_reply": "2021-10-26T22:59:09.340075Z"
    }
   },
   "outputs": [
    {
     "data": {
      "text/html": [
       "<div>\n",
       "<style scoped>\n",
       "    .dataframe tbody tr th:only-of-type {\n",
       "        vertical-align: middle;\n",
       "    }\n",
       "\n",
       "    .dataframe tbody tr th {\n",
       "        vertical-align: top;\n",
       "    }\n",
       "\n",
       "    .dataframe thead th {\n",
       "        text-align: right;\n",
       "    }\n",
       "</style>\n",
       "<table border=\"1\" class=\"dataframe\">\n",
       "  <thead>\n",
       "    <tr style=\"text-align: right;\">\n",
       "      <th></th>\n",
       "      <th>idnr</th>\n",
       "      <th>address</th>\n",
       "      <th>idnr_clean</th>\n",
       "    </tr>\n",
       "  </thead>\n",
       "  <tbody>\n",
       "    <tr>\n",
       "      <th>0</th>\n",
       "      <td>36574261809</td>\n",
       "      <td>123 Pine Ave.</td>\n",
       "      <td>36 574 261 809</td>\n",
       "    </tr>\n",
       "    <tr>\n",
       "      <th>1</th>\n",
       "      <td>36554266806</td>\n",
       "      <td>main st</td>\n",
       "      <td>NaN</td>\n",
       "    </tr>\n",
       "    <tr>\n",
       "      <th>2</th>\n",
       "      <td>51824753556</td>\n",
       "      <td>1234 west main heights 57033</td>\n",
       "      <td>NaN</td>\n",
       "    </tr>\n",
       "    <tr>\n",
       "      <th>3</th>\n",
       "      <td>51 824 753 556</td>\n",
       "      <td>apt 1 789 s maple rd manhattan</td>\n",
       "      <td>NaN</td>\n",
       "    </tr>\n",
       "    <tr>\n",
       "      <th>4</th>\n",
       "      <td>hello</td>\n",
       "      <td>robie house, 789 north main street</td>\n",
       "      <td>NaN</td>\n",
       "    </tr>\n",
       "    <tr>\n",
       "      <th>5</th>\n",
       "      <td>NaN</td>\n",
       "      <td>(staples center) 1111 S Figueroa St, Los Angeles</td>\n",
       "      <td>NaN</td>\n",
       "    </tr>\n",
       "    <tr>\n",
       "      <th>6</th>\n",
       "      <td>NULL</td>\n",
       "      <td>hello</td>\n",
       "      <td>NaN</td>\n",
       "    </tr>\n",
       "  </tbody>\n",
       "</table>\n",
       "</div>"
      ],
      "text/plain": [
       "             idnr                                           address  \\\n",
       "0     36574261809                                     123 Pine Ave.   \n",
       "1     36554266806                                           main st   \n",
       "2     51824753556                      1234 west main heights 57033   \n",
       "3  51 824 753 556                    apt 1 789 s maple rd manhattan   \n",
       "4           hello                robie house, 789 north main street   \n",
       "5             NaN  (staples center) 1111 S Figueroa St, Los Angeles   \n",
       "6            NULL                                             hello   \n",
       "\n",
       "       idnr_clean  \n",
       "0  36 574 261 809  \n",
       "1             NaN  \n",
       "2             NaN  \n",
       "3             NaN  \n",
       "4             NaN  \n",
       "5             NaN  \n",
       "6             NaN  "
      ]
     },
     "execution_count": 1,
     "metadata": {},
     "output_type": "execute_result"
    }
   ],
   "source": [
    "clean_de_idnr(df, column = \"idnr\", output_format=\"standard\")"
   ]
  },
  {
   "cell_type": "markdown",
   "id": "false-provision",
   "metadata": {},
   "source": [
    "### `compact`"
   ]
  },
  {
   "cell_type": "code",
   "execution_count": 4,
   "id": "phantom-player",
   "metadata": {
    "execution": {
     "iopub.execute_input": "2021-10-26T22:59:09.360253Z",
     "iopub.status.busy": "2021-10-26T22:59:09.359777Z",
     "iopub.status.idle": "2021-10-26T22:59:09.366484Z",
     "shell.execute_reply": "2021-10-26T22:59:09.366085Z"
    },
    "scrolled": true
   },
   "outputs": [
    {
     "data": {
      "text/html": [
       "<div>\n",
       "<style scoped>\n",
       "    .dataframe tbody tr th:only-of-type {\n",
       "        vertical-align: middle;\n",
       "    }\n",
       "\n",
       "    .dataframe tbody tr th {\n",
       "        vertical-align: top;\n",
       "    }\n",
       "\n",
       "    .dataframe thead th {\n",
       "        text-align: right;\n",
       "    }\n",
       "</style>\n",
       "<table border=\"1\" class=\"dataframe\">\n",
       "  <thead>\n",
       "    <tr style=\"text-align: right;\">\n",
       "      <th></th>\n",
       "      <th>idnr</th>\n",
       "      <th>address</th>\n",
       "      <th>idnr_clean</th>\n",
       "    </tr>\n",
       "  </thead>\n",
       "  <tbody>\n",
       "    <tr>\n",
       "      <th>0</th>\n",
       "      <td>36574261809</td>\n",
       "      <td>123 Pine Ave.</td>\n",
       "      <td>36574261809</td>\n",
       "    </tr>\n",
       "    <tr>\n",
       "      <th>1</th>\n",
       "      <td>36554266806</td>\n",
       "      <td>main st</td>\n",
       "      <td>NaN</td>\n",
       "    </tr>\n",
       "    <tr>\n",
       "      <th>2</th>\n",
       "      <td>51824753556</td>\n",
       "      <td>1234 west main heights 57033</td>\n",
       "      <td>NaN</td>\n",
       "    </tr>\n",
       "    <tr>\n",
       "      <th>3</th>\n",
       "      <td>51 824 753 556</td>\n",
       "      <td>apt 1 789 s maple rd manhattan</td>\n",
       "      <td>NaN</td>\n",
       "    </tr>\n",
       "    <tr>\n",
       "      <th>4</th>\n",
       "      <td>hello</td>\n",
       "      <td>robie house, 789 north main street</td>\n",
       "      <td>NaN</td>\n",
       "    </tr>\n",
       "    <tr>\n",
       "      <th>5</th>\n",
       "      <td>NaN</td>\n",
       "      <td>(staples center) 1111 S Figueroa St, Los Angeles</td>\n",
       "      <td>NaN</td>\n",
       "    </tr>\n",
       "    <tr>\n",
       "      <th>6</th>\n",
       "      <td>NULL</td>\n",
       "      <td>hello</td>\n",
       "      <td>NaN</td>\n",
       "    </tr>\n",
       "  </tbody>\n",
       "</table>\n",
       "</div>"
      ],
      "text/plain": [
       "             idnr                                           address  \\\n",
       "0     36574261809                                     123 Pine Ave.   \n",
       "1     36554266806                                           main st   \n",
       "2     51824753556                      1234 west main heights 57033   \n",
       "3  51 824 753 556                    apt 1 789 s maple rd manhattan   \n",
       "4           hello                robie house, 789 north main street   \n",
       "5             NaN  (staples center) 1111 S Figueroa St, Los Angeles   \n",
       "6            NULL                                             hello   \n",
       "\n",
       "    idnr_clean  \n",
       "0  36574261809  \n",
       "1          NaN  \n",
       "2          NaN  \n",
       "3          NaN  \n",
       "4          NaN  \n",
       "5          NaN  \n",
       "6          NaN  "
      ]
     },
     "execution_count": 1,
     "metadata": {},
     "output_type": "execute_result"
    }
   ],
   "source": [
    "clean_de_idnr(df, column = \"idnr\", output_format=\"compact\")"
   ]
  },
  {
   "cell_type": "markdown",
   "id": "varying-motor",
   "metadata": {},
   "source": [
    "## 3. `inplace` parameter\n",
    "\n",
    "This deletes the given column from the returned DataFrame. \n",
    "A new column containing cleaned IDNR strings is added with a title in the format `\"{original title}_clean\"`."
   ]
  },
  {
   "cell_type": "code",
   "execution_count": 5,
   "id": "forward-manor",
   "metadata": {
    "execution": {
     "iopub.execute_input": "2021-10-26T22:59:09.389283Z",
     "iopub.status.busy": "2021-10-26T22:59:09.388802Z",
     "iopub.status.idle": "2021-10-26T22:59:09.400421Z",
     "shell.execute_reply": "2021-10-26T22:59:09.400789Z"
    }
   },
   "outputs": [
    {
     "data": {
      "text/html": [
       "<div>\n",
       "<style scoped>\n",
       "    .dataframe tbody tr th:only-of-type {\n",
       "        vertical-align: middle;\n",
       "    }\n",
       "\n",
       "    .dataframe tbody tr th {\n",
       "        vertical-align: top;\n",
       "    }\n",
       "\n",
       "    .dataframe thead th {\n",
       "        text-align: right;\n",
       "    }\n",
       "</style>\n",
       "<table border=\"1\" class=\"dataframe\">\n",
       "  <thead>\n",
       "    <tr style=\"text-align: right;\">\n",
       "      <th></th>\n",
       "      <th>idnr_clean</th>\n",
       "      <th>address</th>\n",
       "    </tr>\n",
       "  </thead>\n",
       "  <tbody>\n",
       "    <tr>\n",
       "      <th>0</th>\n",
       "      <td>36 574 261 809</td>\n",
       "      <td>123 Pine Ave.</td>\n",
       "    </tr>\n",
       "    <tr>\n",
       "      <th>1</th>\n",
       "      <td>NaN</td>\n",
       "      <td>main st</td>\n",
       "    </tr>\n",
       "    <tr>\n",
       "      <th>2</th>\n",
       "      <td>NaN</td>\n",
       "      <td>1234 west main heights 57033</td>\n",
       "    </tr>\n",
       "    <tr>\n",
       "      <th>3</th>\n",
       "      <td>NaN</td>\n",
       "      <td>apt 1 789 s maple rd manhattan</td>\n",
       "    </tr>\n",
       "    <tr>\n",
       "      <th>4</th>\n",
       "      <td>NaN</td>\n",
       "      <td>robie house, 789 north main street</td>\n",
       "    </tr>\n",
       "    <tr>\n",
       "      <th>5</th>\n",
       "      <td>NaN</td>\n",
       "      <td>(staples center) 1111 S Figueroa St, Los Angeles</td>\n",
       "    </tr>\n",
       "    <tr>\n",
       "      <th>6</th>\n",
       "      <td>NaN</td>\n",
       "      <td>hello</td>\n",
       "    </tr>\n",
       "  </tbody>\n",
       "</table>\n",
       "</div>"
      ],
      "text/plain": [
       "       idnr_clean                                           address\n",
       "0  36 574 261 809                                     123 Pine Ave.\n",
       "1             NaN                                           main st\n",
       "2             NaN                      1234 west main heights 57033\n",
       "3             NaN                    apt 1 789 s maple rd manhattan\n",
       "4             NaN                robie house, 789 north main street\n",
       "5             NaN  (staples center) 1111 S Figueroa St, Los Angeles\n",
       "6             NaN                                             hello"
      ]
     },
     "execution_count": 1,
     "metadata": {},
     "output_type": "execute_result"
    }
   ],
   "source": [
    "clean_de_idnr(df, column=\"idnr\", inplace=True)"
   ]
  },
  {
   "cell_type": "markdown",
   "id": "adolescent-might",
   "metadata": {},
   "source": [
    "## 4. `errors` parameter"
   ]
  },
  {
   "cell_type": "markdown",
   "id": "opponent-produce",
   "metadata": {},
   "source": [
    "### `coerce` (default)"
   ]
  },
  {
   "cell_type": "code",
   "execution_count": 6,
   "id": "russian-decision",
   "metadata": {
    "execution": {
     "iopub.execute_input": "2021-10-26T22:59:09.420894Z",
     "iopub.status.busy": "2021-10-26T22:59:09.410964Z",
     "iopub.status.idle": "2021-10-26T22:59:09.428631Z",
     "shell.execute_reply": "2021-10-26T22:59:09.428229Z"
    }
   },
   "outputs": [
    {
     "data": {
      "text/html": [
       "<div>\n",
       "<style scoped>\n",
       "    .dataframe tbody tr th:only-of-type {\n",
       "        vertical-align: middle;\n",
       "    }\n",
       "\n",
       "    .dataframe tbody tr th {\n",
       "        vertical-align: top;\n",
       "    }\n",
       "\n",
       "    .dataframe thead th {\n",
       "        text-align: right;\n",
       "    }\n",
       "</style>\n",
       "<table border=\"1\" class=\"dataframe\">\n",
       "  <thead>\n",
       "    <tr style=\"text-align: right;\">\n",
       "      <th></th>\n",
       "      <th>idnr</th>\n",
       "      <th>address</th>\n",
       "      <th>idnr_clean</th>\n",
       "    </tr>\n",
       "  </thead>\n",
       "  <tbody>\n",
       "    <tr>\n",
       "      <th>0</th>\n",
       "      <td>36574261809</td>\n",
       "      <td>123 Pine Ave.</td>\n",
       "      <td>36 574 261 809</td>\n",
       "    </tr>\n",
       "    <tr>\n",
       "      <th>1</th>\n",
       "      <td>36554266806</td>\n",
       "      <td>main st</td>\n",
       "      <td>NaN</td>\n",
       "    </tr>\n",
       "    <tr>\n",
       "      <th>2</th>\n",
       "      <td>51824753556</td>\n",
       "      <td>1234 west main heights 57033</td>\n",
       "      <td>NaN</td>\n",
       "    </tr>\n",
       "    <tr>\n",
       "      <th>3</th>\n",
       "      <td>51 824 753 556</td>\n",
       "      <td>apt 1 789 s maple rd manhattan</td>\n",
       "      <td>NaN</td>\n",
       "    </tr>\n",
       "    <tr>\n",
       "      <th>4</th>\n",
       "      <td>hello</td>\n",
       "      <td>robie house, 789 north main street</td>\n",
       "      <td>NaN</td>\n",
       "    </tr>\n",
       "    <tr>\n",
       "      <th>5</th>\n",
       "      <td>NaN</td>\n",
       "      <td>(staples center) 1111 S Figueroa St, Los Angeles</td>\n",
       "      <td>NaN</td>\n",
       "    </tr>\n",
       "    <tr>\n",
       "      <th>6</th>\n",
       "      <td>NULL</td>\n",
       "      <td>hello</td>\n",
       "      <td>NaN</td>\n",
       "    </tr>\n",
       "  </tbody>\n",
       "</table>\n",
       "</div>"
      ],
      "text/plain": [
       "             idnr                                           address  \\\n",
       "0     36574261809                                     123 Pine Ave.   \n",
       "1     36554266806                                           main st   \n",
       "2     51824753556                      1234 west main heights 57033   \n",
       "3  51 824 753 556                    apt 1 789 s maple rd manhattan   \n",
       "4           hello                robie house, 789 north main street   \n",
       "5             NaN  (staples center) 1111 S Figueroa St, Los Angeles   \n",
       "6            NULL                                             hello   \n",
       "\n",
       "       idnr_clean  \n",
       "0  36 574 261 809  \n",
       "1             NaN  \n",
       "2             NaN  \n",
       "3             NaN  \n",
       "4             NaN  \n",
       "5             NaN  \n",
       "6             NaN  "
      ]
     },
     "execution_count": 1,
     "metadata": {},
     "output_type": "execute_result"
    }
   ],
   "source": [
    "clean_de_idnr(df, \"idnr\", errors=\"coerce\")"
   ]
  },
  {
   "cell_type": "markdown",
   "id": "quality-adventure",
   "metadata": {},
   "source": [
    "### `ignore`"
   ]
  },
  {
   "cell_type": "code",
   "execution_count": 7,
   "id": "blind-ownership",
   "metadata": {
    "execution": {
     "iopub.execute_input": "2021-10-26T22:59:09.447526Z",
     "iopub.status.busy": "2021-10-26T22:59:09.447046Z",
     "iopub.status.idle": "2021-10-26T22:59:09.454777Z",
     "shell.execute_reply": "2021-10-26T22:59:09.455132Z"
    }
   },
   "outputs": [
    {
     "data": {
      "text/html": [
       "<div>\n",
       "<style scoped>\n",
       "    .dataframe tbody tr th:only-of-type {\n",
       "        vertical-align: middle;\n",
       "    }\n",
       "\n",
       "    .dataframe tbody tr th {\n",
       "        vertical-align: top;\n",
       "    }\n",
       "\n",
       "    .dataframe thead th {\n",
       "        text-align: right;\n",
       "    }\n",
       "</style>\n",
       "<table border=\"1\" class=\"dataframe\">\n",
       "  <thead>\n",
       "    <tr style=\"text-align: right;\">\n",
       "      <th></th>\n",
       "      <th>idnr</th>\n",
       "      <th>address</th>\n",
       "      <th>idnr_clean</th>\n",
       "    </tr>\n",
       "  </thead>\n",
       "  <tbody>\n",
       "    <tr>\n",
       "      <th>0</th>\n",
       "      <td>36574261809</td>\n",
       "      <td>123 Pine Ave.</td>\n",
       "      <td>36 574 261 809</td>\n",
       "    </tr>\n",
       "    <tr>\n",
       "      <th>1</th>\n",
       "      <td>36554266806</td>\n",
       "      <td>main st</td>\n",
       "      <td>36554266806</td>\n",
       "    </tr>\n",
       "    <tr>\n",
       "      <th>2</th>\n",
       "      <td>51824753556</td>\n",
       "      <td>1234 west main heights 57033</td>\n",
       "      <td>51824753556</td>\n",
       "    </tr>\n",
       "    <tr>\n",
       "      <th>3</th>\n",
       "      <td>51 824 753 556</td>\n",
       "      <td>apt 1 789 s maple rd manhattan</td>\n",
       "      <td>51 824 753 556</td>\n",
       "    </tr>\n",
       "    <tr>\n",
       "      <th>4</th>\n",
       "      <td>hello</td>\n",
       "      <td>robie house, 789 north main street</td>\n",
       "      <td>hello</td>\n",
       "    </tr>\n",
       "    <tr>\n",
       "      <th>5</th>\n",
       "      <td>NaN</td>\n",
       "      <td>(staples center) 1111 S Figueroa St, Los Angeles</td>\n",
       "      <td>NaN</td>\n",
       "    </tr>\n",
       "    <tr>\n",
       "      <th>6</th>\n",
       "      <td>NULL</td>\n",
       "      <td>hello</td>\n",
       "      <td>NaN</td>\n",
       "    </tr>\n",
       "  </tbody>\n",
       "</table>\n",
       "</div>"
      ],
      "text/plain": [
       "             idnr                                           address  \\\n",
       "0     36574261809                                     123 Pine Ave.   \n",
       "1     36554266806                                           main st   \n",
       "2     51824753556                      1234 west main heights 57033   \n",
       "3  51 824 753 556                    apt 1 789 s maple rd manhattan   \n",
       "4           hello                robie house, 789 north main street   \n",
       "5             NaN  (staples center) 1111 S Figueroa St, Los Angeles   \n",
       "6            NULL                                             hello   \n",
       "\n",
       "       idnr_clean  \n",
       "0  36 574 261 809  \n",
       "1     36554266806  \n",
       "2     51824753556  \n",
       "3  51 824 753 556  \n",
       "4           hello  \n",
       "5             NaN  \n",
       "6             NaN  "
      ]
     },
     "execution_count": 1,
     "metadata": {},
     "output_type": "execute_result"
    }
   ],
   "source": [
    "clean_de_idnr(df, \"idnr\", errors=\"ignore\")"
   ]
  },
  {
   "cell_type": "markdown",
   "id": "medieval-shelf",
   "metadata": {},
   "source": [
    "## 4. `validate_de_idnr()`"
   ]
  },
  {
   "cell_type": "markdown",
   "id": "identified-activation",
   "metadata": {},
   "source": [
    "`validate_de_idnr()` returns `True` when the input is a valid IDNR. Otherwise it returns `False`.\n",
    "\n",
    "The input of `validate_de_idnr()` can be a string, a Pandas DataSeries, a Dask DataSeries, a Pandas DataFrame and a dask DataFrame.\n",
    "\n",
    "When the input is a string, a Pandas DataSeries or a Dask DataSeries, user doesn't need to specify a column name to be validated. \n",
    "\n",
    "When the input is a Pandas DataFrame or a dask DataFrame, user can both specify or not specify a column name to be validated. If user specify the column name, `validate_de_idnr()` only returns the validation result for the specified column. If user doesn't specify the column name, `validate_de_idnr()` returns the validation result for the whole DataFrame."
   ]
  },
  {
   "cell_type": "code",
   "execution_count": 8,
   "id": "continuous-might",
   "metadata": {
    "execution": {
     "iopub.execute_input": "2021-10-26T22:59:09.460293Z",
     "iopub.status.busy": "2021-10-26T22:59:09.459833Z",
     "iopub.status.idle": "2021-10-26T22:59:09.462249Z",
     "shell.execute_reply": "2021-10-26T22:59:09.462592Z"
    }
   },
   "outputs": [
    {
     "name": "stdout",
     "output_type": "stream",
     "text": [
      "True\n",
      "False\n",
      "False\n",
      "False\n",
      "False\n",
      "False\n",
      "False\n"
     ]
    }
   ],
   "source": [
    "from dataprep.clean import validate_de_idnr\n",
    "print(validate_de_idnr(\"36574261809\"))\n",
    "print(validate_de_idnr(\"36554266806\"))\n",
    "print(validate_de_idnr(\"51824753556\"))\n",
    "print(validate_de_idnr(\"51 824 753 556\"))\n",
    "print(validate_de_idnr(\"hello\"))\n",
    "print(validate_de_idnr(np.nan))\n",
    "print(validate_de_idnr(\"NULL\"))"
   ]
  },
  {
   "cell_type": "markdown",
   "id": "essential-henry",
   "metadata": {},
   "source": [
    "### Series"
   ]
  },
  {
   "cell_type": "code",
   "execution_count": 9,
   "id": "fitted-diagnosis",
   "metadata": {
    "execution": {
     "iopub.execute_input": "2021-10-26T22:59:09.467222Z",
     "iopub.status.busy": "2021-10-26T22:59:09.466757Z",
     "iopub.status.idle": "2021-10-26T22:59:09.468811Z",
     "shell.execute_reply": "2021-10-26T22:59:09.469156Z"
    }
   },
   "outputs": [
    {
     "data": {
      "text/plain": [
       "0     True\n",
       "1    False\n",
       "2    False\n",
       "3    False\n",
       "4    False\n",
       "5    False\n",
       "6    False\n",
       "Name: idnr, dtype: bool"
      ]
     },
     "execution_count": 1,
     "metadata": {},
     "output_type": "execute_result"
    }
   ],
   "source": [
    "validate_de_idnr(df[\"idnr\"])"
   ]
  },
  {
   "cell_type": "markdown",
   "id": "suitable-scroll",
   "metadata": {},
   "source": [
    "### DataFrame + Specify Column"
   ]
  },
  {
   "cell_type": "code",
   "execution_count": 10,
   "id": "catholic-arbitration",
   "metadata": {
    "execution": {
     "iopub.execute_input": "2021-10-26T22:59:09.473903Z",
     "iopub.status.busy": "2021-10-26T22:59:09.473462Z",
     "iopub.status.idle": "2021-10-26T22:59:09.475598Z",
     "shell.execute_reply": "2021-10-26T22:59:09.475952Z"
    }
   },
   "outputs": [
    {
     "data": {
      "text/plain": [
       "0     True\n",
       "1    False\n",
       "2    False\n",
       "3    False\n",
       "4    False\n",
       "5    False\n",
       "6    False\n",
       "Name: idnr, dtype: bool"
      ]
     },
     "execution_count": 1,
     "metadata": {},
     "output_type": "execute_result"
    }
   ],
   "source": [
    "validate_de_idnr(df, column=\"idnr\")"
   ]
  },
  {
   "cell_type": "markdown",
   "id": "serial-religion",
   "metadata": {},
   "source": [
    "### Only DataFrame"
   ]
  },
  {
   "cell_type": "code",
   "execution_count": 11,
   "id": "domestic-surrey",
   "metadata": {
    "execution": {
     "iopub.execute_input": "2021-10-26T22:59:09.478940Z",
     "iopub.status.busy": "2021-10-26T22:59:09.478521Z",
     "iopub.status.idle": "2021-10-26T22:59:09.485392Z",
     "shell.execute_reply": "2021-10-26T22:59:09.485725Z"
    }
   },
   "outputs": [
    {
     "data": {
      "text/html": [
       "<div>\n",
       "<style scoped>\n",
       "    .dataframe tbody tr th:only-of-type {\n",
       "        vertical-align: middle;\n",
       "    }\n",
       "\n",
       "    .dataframe tbody tr th {\n",
       "        vertical-align: top;\n",
       "    }\n",
       "\n",
       "    .dataframe thead th {\n",
       "        text-align: right;\n",
       "    }\n",
       "</style>\n",
       "<table border=\"1\" class=\"dataframe\">\n",
       "  <thead>\n",
       "    <tr style=\"text-align: right;\">\n",
       "      <th></th>\n",
       "      <th>idnr</th>\n",
       "      <th>address</th>\n",
       "    </tr>\n",
       "  </thead>\n",
       "  <tbody>\n",
       "    <tr>\n",
       "      <th>0</th>\n",
       "      <td>True</td>\n",
       "      <td>False</td>\n",
       "    </tr>\n",
       "    <tr>\n",
       "      <th>1</th>\n",
       "      <td>False</td>\n",
       "      <td>False</td>\n",
       "    </tr>\n",
       "    <tr>\n",
       "      <th>2</th>\n",
       "      <td>False</td>\n",
       "      <td>False</td>\n",
       "    </tr>\n",
       "    <tr>\n",
       "      <th>3</th>\n",
       "      <td>False</td>\n",
       "      <td>False</td>\n",
       "    </tr>\n",
       "    <tr>\n",
       "      <th>4</th>\n",
       "      <td>False</td>\n",
       "      <td>False</td>\n",
       "    </tr>\n",
       "    <tr>\n",
       "      <th>5</th>\n",
       "      <td>False</td>\n",
       "      <td>False</td>\n",
       "    </tr>\n",
       "    <tr>\n",
       "      <th>6</th>\n",
       "      <td>False</td>\n",
       "      <td>False</td>\n",
       "    </tr>\n",
       "  </tbody>\n",
       "</table>\n",
       "</div>"
      ],
      "text/plain": [
       "    idnr  address\n",
       "0   True    False\n",
       "1  False    False\n",
       "2  False    False\n",
       "3  False    False\n",
       "4  False    False\n",
       "5  False    False\n",
       "6  False    False"
      ]
     },
     "execution_count": 1,
     "metadata": {},
     "output_type": "execute_result"
    }
   ],
   "source": [
    "validate_de_idnr(df)"
   ]
  },
  {
   "cell_type": "code",
   "execution_count": null,
   "id": "southwest-queue",
   "metadata": {},
   "outputs": [],
   "source": []
  }
 ],
 "metadata": {
  "kernelspec": {
   "display_name": "Python 3",
   "language": "python",
   "name": "python3"
  },
  "language_info": {
   "codemirror_mode": {
    "name": "ipython",
    "version": 3
   },
   "file_extension": ".py",
   "mimetype": "text/x-python",
   "name": "python",
   "nbconvert_exporter": "python",
   "pygments_lexer": "ipython3",
   "version": "3.8.10"
  }
 },
 "nbformat": 4,
 "nbformat_minor": 5
}
