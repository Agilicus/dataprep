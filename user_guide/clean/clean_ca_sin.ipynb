{
 "cells": [
  {
   "cell_type": "raw",
   "id": "north-membrane",
   "metadata": {},
   "source": [
    ".. _sin_userguide:\n",
    "\n",
    "SIN Strings\n",
    "============"
   ]
  },
  {
   "cell_type": "raw",
   "id": "alive-girlfriend",
   "metadata": {},
   "source": [
    "Introduction\n",
    "------------\n",
    "\n",
    "The function :func:`clean_ca_sin() <dataprep.clean.clean_ca_sin.clean_ca_sin>` cleans a column containing Canadian Social Insurance Number (SIN) strings, and standardizes them in a given format. The function :func:`validate_ca_sin() <dataprep.clean.clean_ca_sin.validate_ca_sin>` validates either a single SIN strings, a column of SIN strings or a DataFrame of SIN strings, returning `True` if the value is valid, and `False` otherwise."
   ]
  },
  {
   "cell_type": "markdown",
   "id": "manufactured-quest",
   "metadata": {},
   "source": [
    "SIN strings can be converted to the following formats via the `output_format` parameter:\n",
    "\n",
    "* `compact`: only number strings without any seperators or whitespace, like \"123456782\"\n",
    "* `standard`: SIN strings with proper whitespace in the proper places, like \"123-456-782\"\n",
    "\n",
    "Invalid parsing is handled with the `errors` parameter:\n",
    "\n",
    "* `coerce` (default): invalid parsing will be set to NaN\n",
    "* `ignore`: invalid parsing will return the input\n",
    "* `raise`: invalid parsing will raise an exception\n",
    "\n",
    "The following sections demonstrate the functionality of `clean_ca_sin()` and `validate_ca_sin()`. "
   ]
  },
  {
   "cell_type": "markdown",
   "id": "awful-clock",
   "metadata": {},
   "source": [
    "### An example dataset containing SIN strings"
   ]
  },
  {
   "cell_type": "code",
   "execution_count": 1,
   "id": "secondary-section",
   "metadata": {
    "execution": {
     "iopub.execute_input": "2021-10-26T23:34:48.959162Z",
     "iopub.status.busy": "2021-10-26T23:34:48.958481Z",
     "iopub.status.idle": "2021-10-26T23:34:49.253148Z",
     "shell.execute_reply": "2021-10-26T23:34:49.252392Z"
    }
   },
   "outputs": [
    {
     "data": {
      "text/html": [
       "<div>\n",
       "<style scoped>\n",
       "    .dataframe tbody tr th:only-of-type {\n",
       "        vertical-align: middle;\n",
       "    }\n",
       "\n",
       "    .dataframe tbody tr th {\n",
       "        vertical-align: top;\n",
       "    }\n",
       "\n",
       "    .dataframe thead th {\n",
       "        text-align: right;\n",
       "    }\n",
       "</style>\n",
       "<table border=\"1\" class=\"dataframe\">\n",
       "  <thead>\n",
       "    <tr style=\"text-align: right;\">\n",
       "      <th></th>\n",
       "      <th>sin</th>\n",
       "      <th>address</th>\n",
       "    </tr>\n",
       "  </thead>\n",
       "  <tbody>\n",
       "    <tr>\n",
       "      <th>0</th>\n",
       "      <td>123456782</td>\n",
       "      <td>123 Pine Ave.</td>\n",
       "    </tr>\n",
       "    <tr>\n",
       "      <th>1</th>\n",
       "      <td>12345678Z</td>\n",
       "      <td>main st</td>\n",
       "    </tr>\n",
       "    <tr>\n",
       "      <th>2</th>\n",
       "      <td>51824753556</td>\n",
       "      <td>1234 west main heights 57033</td>\n",
       "    </tr>\n",
       "    <tr>\n",
       "      <th>3</th>\n",
       "      <td>51 824 753 556</td>\n",
       "      <td>apt 1 789 s maple rd manhattan</td>\n",
       "    </tr>\n",
       "    <tr>\n",
       "      <th>4</th>\n",
       "      <td>hello</td>\n",
       "      <td>robie house, 789 north main street</td>\n",
       "    </tr>\n",
       "    <tr>\n",
       "      <th>5</th>\n",
       "      <td>NaN</td>\n",
       "      <td>(staples center) 1111 S Figueroa St, Los Angeles</td>\n",
       "    </tr>\n",
       "    <tr>\n",
       "      <th>6</th>\n",
       "      <td>NULL</td>\n",
       "      <td>hello</td>\n",
       "    </tr>\n",
       "  </tbody>\n",
       "</table>\n",
       "</div>"
      ],
      "text/plain": [
       "              sin                                           address\n",
       "0       123456782                                     123 Pine Ave.\n",
       "1       12345678Z                                           main st\n",
       "2     51824753556                      1234 west main heights 57033\n",
       "3  51 824 753 556                    apt 1 789 s maple rd manhattan\n",
       "4           hello                robie house, 789 north main street\n",
       "5             NaN  (staples center) 1111 S Figueroa St, Los Angeles\n",
       "6            NULL                                             hello"
      ]
     },
     "execution_count": 1,
     "metadata": {},
     "output_type": "execute_result"
    }
   ],
   "source": [
    "import pandas as pd\n",
    "import numpy as np\n",
    "df = pd.DataFrame(\n",
    "    {\n",
    "        \"sin\": [\n",
    "            \"123456782\",\n",
    "            \"12345678Z\",\n",
    "            \"51824753556\",\n",
    "            \"51 824 753 556\",\n",
    "            \"hello\",\n",
    "            np.nan,\n",
    "            \"NULL\"\n",
    "        ], \n",
    "        \"address\": [\n",
    "            \"123 Pine Ave.\",\n",
    "            \"main st\",\n",
    "            \"1234 west main heights 57033\",\n",
    "            \"apt 1 789 s maple rd manhattan\",\n",
    "            \"robie house, 789 north main street\",\n",
    "            \"(staples center) 1111 S Figueroa St, Los Angeles\",\n",
    "            \"hello\",\n",
    "        ]\n",
    "    }\n",
    ")\n",
    "df"
   ]
  },
  {
   "cell_type": "markdown",
   "id": "pursuant-directive",
   "metadata": {},
   "source": [
    "## 1. Default `clean_ca_sin`\n",
    "\n",
    "By default, `clean_ca_sin` will clean sin strings and output them in the standard format with proper separators."
   ]
  },
  {
   "cell_type": "code",
   "execution_count": 2,
   "id": "identical-phone",
   "metadata": {
    "execution": {
     "iopub.execute_input": "2021-10-26T23:34:49.257890Z",
     "iopub.status.busy": "2021-10-26T23:34:49.257184Z",
     "iopub.status.idle": "2021-10-26T23:34:50.004911Z",
     "shell.execute_reply": "2021-10-26T23:34:50.004034Z"
    },
    "scrolled": true
   },
   "outputs": [
    {
     "data": {
      "text/html": [
       "<div>\n",
       "<style scoped>\n",
       "    .dataframe tbody tr th:only-of-type {\n",
       "        vertical-align: middle;\n",
       "    }\n",
       "\n",
       "    .dataframe tbody tr th {\n",
       "        vertical-align: top;\n",
       "    }\n",
       "\n",
       "    .dataframe thead th {\n",
       "        text-align: right;\n",
       "    }\n",
       "</style>\n",
       "<table border=\"1\" class=\"dataframe\">\n",
       "  <thead>\n",
       "    <tr style=\"text-align: right;\">\n",
       "      <th></th>\n",
       "      <th>sin</th>\n",
       "      <th>address</th>\n",
       "      <th>sin_clean</th>\n",
       "    </tr>\n",
       "  </thead>\n",
       "  <tbody>\n",
       "    <tr>\n",
       "      <th>0</th>\n",
       "      <td>123456782</td>\n",
       "      <td>123 Pine Ave.</td>\n",
       "      <td>123-456-782</td>\n",
       "    </tr>\n",
       "    <tr>\n",
       "      <th>1</th>\n",
       "      <td>12345678Z</td>\n",
       "      <td>main st</td>\n",
       "      <td>NaN</td>\n",
       "    </tr>\n",
       "    <tr>\n",
       "      <th>2</th>\n",
       "      <td>51824753556</td>\n",
       "      <td>1234 west main heights 57033</td>\n",
       "      <td>NaN</td>\n",
       "    </tr>\n",
       "    <tr>\n",
       "      <th>3</th>\n",
       "      <td>51 824 753 556</td>\n",
       "      <td>apt 1 789 s maple rd manhattan</td>\n",
       "      <td>NaN</td>\n",
       "    </tr>\n",
       "    <tr>\n",
       "      <th>4</th>\n",
       "      <td>hello</td>\n",
       "      <td>robie house, 789 north main street</td>\n",
       "      <td>NaN</td>\n",
       "    </tr>\n",
       "    <tr>\n",
       "      <th>5</th>\n",
       "      <td>NaN</td>\n",
       "      <td>(staples center) 1111 S Figueroa St, Los Angeles</td>\n",
       "      <td>NaN</td>\n",
       "    </tr>\n",
       "    <tr>\n",
       "      <th>6</th>\n",
       "      <td>NULL</td>\n",
       "      <td>hello</td>\n",
       "      <td>NaN</td>\n",
       "    </tr>\n",
       "  </tbody>\n",
       "</table>\n",
       "</div>"
      ],
      "text/plain": [
       "              sin                                           address  \\\n",
       "0       123456782                                     123 Pine Ave.   \n",
       "1       12345678Z                                           main st   \n",
       "2     51824753556                      1234 west main heights 57033   \n",
       "3  51 824 753 556                    apt 1 789 s maple rd manhattan   \n",
       "4           hello                robie house, 789 north main street   \n",
       "5             NaN  (staples center) 1111 S Figueroa St, Los Angeles   \n",
       "6            NULL                                             hello   \n",
       "\n",
       "     sin_clean  \n",
       "0  123-456-782  \n",
       "1          NaN  \n",
       "2          NaN  \n",
       "3          NaN  \n",
       "4          NaN  \n",
       "5          NaN  \n",
       "6          NaN  "
      ]
     },
     "execution_count": 1,
     "metadata": {},
     "output_type": "execute_result"
    }
   ],
   "source": [
    "from dataprep.clean import clean_ca_sin\n",
    "clean_ca_sin(df, column = \"sin\")"
   ]
  },
  {
   "cell_type": "markdown",
   "id": "systematic-jurisdiction",
   "metadata": {},
   "source": [
    "## 2. Output formats"
   ]
  },
  {
   "cell_type": "markdown",
   "id": "unable-flood",
   "metadata": {},
   "source": [
    "This section demonstrates the output parameter."
   ]
  },
  {
   "cell_type": "markdown",
   "id": "moral-chapel",
   "metadata": {},
   "source": [
    "### `standard` (default)"
   ]
  },
  {
   "cell_type": "code",
   "execution_count": 3,
   "id": "european-prerequisite",
   "metadata": {
    "execution": {
     "iopub.execute_input": "2021-10-26T23:34:50.034124Z",
     "iopub.status.busy": "2021-10-26T23:34:50.029056Z",
     "iopub.status.idle": "2021-10-26T23:34:50.044431Z",
     "shell.execute_reply": "2021-10-26T23:34:50.043914Z"
    }
   },
   "outputs": [
    {
     "data": {
      "text/html": [
       "<div>\n",
       "<style scoped>\n",
       "    .dataframe tbody tr th:only-of-type {\n",
       "        vertical-align: middle;\n",
       "    }\n",
       "\n",
       "    .dataframe tbody tr th {\n",
       "        vertical-align: top;\n",
       "    }\n",
       "\n",
       "    .dataframe thead th {\n",
       "        text-align: right;\n",
       "    }\n",
       "</style>\n",
       "<table border=\"1\" class=\"dataframe\">\n",
       "  <thead>\n",
       "    <tr style=\"text-align: right;\">\n",
       "      <th></th>\n",
       "      <th>sin</th>\n",
       "      <th>address</th>\n",
       "      <th>sin_clean</th>\n",
       "    </tr>\n",
       "  </thead>\n",
       "  <tbody>\n",
       "    <tr>\n",
       "      <th>0</th>\n",
       "      <td>123456782</td>\n",
       "      <td>123 Pine Ave.</td>\n",
       "      <td>123-456-782</td>\n",
       "    </tr>\n",
       "    <tr>\n",
       "      <th>1</th>\n",
       "      <td>12345678Z</td>\n",
       "      <td>main st</td>\n",
       "      <td>NaN</td>\n",
       "    </tr>\n",
       "    <tr>\n",
       "      <th>2</th>\n",
       "      <td>51824753556</td>\n",
       "      <td>1234 west main heights 57033</td>\n",
       "      <td>NaN</td>\n",
       "    </tr>\n",
       "    <tr>\n",
       "      <th>3</th>\n",
       "      <td>51 824 753 556</td>\n",
       "      <td>apt 1 789 s maple rd manhattan</td>\n",
       "      <td>NaN</td>\n",
       "    </tr>\n",
       "    <tr>\n",
       "      <th>4</th>\n",
       "      <td>hello</td>\n",
       "      <td>robie house, 789 north main street</td>\n",
       "      <td>NaN</td>\n",
       "    </tr>\n",
       "    <tr>\n",
       "      <th>5</th>\n",
       "      <td>NaN</td>\n",
       "      <td>(staples center) 1111 S Figueroa St, Los Angeles</td>\n",
       "      <td>NaN</td>\n",
       "    </tr>\n",
       "    <tr>\n",
       "      <th>6</th>\n",
       "      <td>NULL</td>\n",
       "      <td>hello</td>\n",
       "      <td>NaN</td>\n",
       "    </tr>\n",
       "  </tbody>\n",
       "</table>\n",
       "</div>"
      ],
      "text/plain": [
       "              sin                                           address  \\\n",
       "0       123456782                                     123 Pine Ave.   \n",
       "1       12345678Z                                           main st   \n",
       "2     51824753556                      1234 west main heights 57033   \n",
       "3  51 824 753 556                    apt 1 789 s maple rd manhattan   \n",
       "4           hello                robie house, 789 north main street   \n",
       "5             NaN  (staples center) 1111 S Figueroa St, Los Angeles   \n",
       "6            NULL                                             hello   \n",
       "\n",
       "     sin_clean  \n",
       "0  123-456-782  \n",
       "1          NaN  \n",
       "2          NaN  \n",
       "3          NaN  \n",
       "4          NaN  \n",
       "5          NaN  \n",
       "6          NaN  "
      ]
     },
     "execution_count": 1,
     "metadata": {},
     "output_type": "execute_result"
    }
   ],
   "source": [
    "clean_ca_sin(df, column = \"sin\", output_format=\"standard\")"
   ]
  },
  {
   "cell_type": "markdown",
   "id": "owned-rough",
   "metadata": {},
   "source": [
    "### `compact`"
   ]
  },
  {
   "cell_type": "code",
   "execution_count": 4,
   "id": "dried-wagon",
   "metadata": {
    "execution": {
     "iopub.execute_input": "2021-10-26T23:34:50.075929Z",
     "iopub.status.busy": "2021-10-26T23:34:50.067207Z",
     "iopub.status.idle": "2021-10-26T23:34:50.084144Z",
     "shell.execute_reply": "2021-10-26T23:34:50.083619Z"
    }
   },
   "outputs": [
    {
     "data": {
      "text/html": [
       "<div>\n",
       "<style scoped>\n",
       "    .dataframe tbody tr th:only-of-type {\n",
       "        vertical-align: middle;\n",
       "    }\n",
       "\n",
       "    .dataframe tbody tr th {\n",
       "        vertical-align: top;\n",
       "    }\n",
       "\n",
       "    .dataframe thead th {\n",
       "        text-align: right;\n",
       "    }\n",
       "</style>\n",
       "<table border=\"1\" class=\"dataframe\">\n",
       "  <thead>\n",
       "    <tr style=\"text-align: right;\">\n",
       "      <th></th>\n",
       "      <th>sin</th>\n",
       "      <th>address</th>\n",
       "      <th>sin_clean</th>\n",
       "    </tr>\n",
       "  </thead>\n",
       "  <tbody>\n",
       "    <tr>\n",
       "      <th>0</th>\n",
       "      <td>123456782</td>\n",
       "      <td>123 Pine Ave.</td>\n",
       "      <td>123456782</td>\n",
       "    </tr>\n",
       "    <tr>\n",
       "      <th>1</th>\n",
       "      <td>12345678Z</td>\n",
       "      <td>main st</td>\n",
       "      <td>NaN</td>\n",
       "    </tr>\n",
       "    <tr>\n",
       "      <th>2</th>\n",
       "      <td>51824753556</td>\n",
       "      <td>1234 west main heights 57033</td>\n",
       "      <td>NaN</td>\n",
       "    </tr>\n",
       "    <tr>\n",
       "      <th>3</th>\n",
       "      <td>51 824 753 556</td>\n",
       "      <td>apt 1 789 s maple rd manhattan</td>\n",
       "      <td>NaN</td>\n",
       "    </tr>\n",
       "    <tr>\n",
       "      <th>4</th>\n",
       "      <td>hello</td>\n",
       "      <td>robie house, 789 north main street</td>\n",
       "      <td>NaN</td>\n",
       "    </tr>\n",
       "    <tr>\n",
       "      <th>5</th>\n",
       "      <td>NaN</td>\n",
       "      <td>(staples center) 1111 S Figueroa St, Los Angeles</td>\n",
       "      <td>NaN</td>\n",
       "    </tr>\n",
       "    <tr>\n",
       "      <th>6</th>\n",
       "      <td>NULL</td>\n",
       "      <td>hello</td>\n",
       "      <td>NaN</td>\n",
       "    </tr>\n",
       "  </tbody>\n",
       "</table>\n",
       "</div>"
      ],
      "text/plain": [
       "              sin                                           address  sin_clean\n",
       "0       123456782                                     123 Pine Ave.  123456782\n",
       "1       12345678Z                                           main st        NaN\n",
       "2     51824753556                      1234 west main heights 57033        NaN\n",
       "3  51 824 753 556                    apt 1 789 s maple rd manhattan        NaN\n",
       "4           hello                robie house, 789 north main street        NaN\n",
       "5             NaN  (staples center) 1111 S Figueroa St, Los Angeles        NaN\n",
       "6            NULL                                             hello        NaN"
      ]
     },
     "execution_count": 1,
     "metadata": {},
     "output_type": "execute_result"
    }
   ],
   "source": [
    "clean_ca_sin(df, column = \"sin\", output_format=\"compact\")"
   ]
  },
  {
   "cell_type": "markdown",
   "id": "vulnerable-personality",
   "metadata": {},
   "source": [
    "## 3. `inplace` parameter\n",
    "\n",
    "This deletes the given column from the returned DataFrame. \n",
    "A new column containing cleaned SIN strings is added with a title in the format `\"{original title}_clean\"`."
   ]
  },
  {
   "cell_type": "code",
   "execution_count": 5,
   "id": "quiet-trademark",
   "metadata": {
    "execution": {
     "iopub.execute_input": "2021-10-26T23:34:50.129371Z",
     "iopub.status.busy": "2021-10-26T23:34:50.128536Z",
     "iopub.status.idle": "2021-10-26T23:34:50.140431Z",
     "shell.execute_reply": "2021-10-26T23:34:50.140935Z"
    }
   },
   "outputs": [
    {
     "data": {
      "text/html": [
       "<div>\n",
       "<style scoped>\n",
       "    .dataframe tbody tr th:only-of-type {\n",
       "        vertical-align: middle;\n",
       "    }\n",
       "\n",
       "    .dataframe tbody tr th {\n",
       "        vertical-align: top;\n",
       "    }\n",
       "\n",
       "    .dataframe thead th {\n",
       "        text-align: right;\n",
       "    }\n",
       "</style>\n",
       "<table border=\"1\" class=\"dataframe\">\n",
       "  <thead>\n",
       "    <tr style=\"text-align: right;\">\n",
       "      <th></th>\n",
       "      <th>sin_clean</th>\n",
       "      <th>address</th>\n",
       "    </tr>\n",
       "  </thead>\n",
       "  <tbody>\n",
       "    <tr>\n",
       "      <th>0</th>\n",
       "      <td>123-456-782</td>\n",
       "      <td>123 Pine Ave.</td>\n",
       "    </tr>\n",
       "    <tr>\n",
       "      <th>1</th>\n",
       "      <td>NaN</td>\n",
       "      <td>main st</td>\n",
       "    </tr>\n",
       "    <tr>\n",
       "      <th>2</th>\n",
       "      <td>NaN</td>\n",
       "      <td>1234 west main heights 57033</td>\n",
       "    </tr>\n",
       "    <tr>\n",
       "      <th>3</th>\n",
       "      <td>NaN</td>\n",
       "      <td>apt 1 789 s maple rd manhattan</td>\n",
       "    </tr>\n",
       "    <tr>\n",
       "      <th>4</th>\n",
       "      <td>NaN</td>\n",
       "      <td>robie house, 789 north main street</td>\n",
       "    </tr>\n",
       "    <tr>\n",
       "      <th>5</th>\n",
       "      <td>NaN</td>\n",
       "      <td>(staples center) 1111 S Figueroa St, Los Angeles</td>\n",
       "    </tr>\n",
       "    <tr>\n",
       "      <th>6</th>\n",
       "      <td>NaN</td>\n",
       "      <td>hello</td>\n",
       "    </tr>\n",
       "  </tbody>\n",
       "</table>\n",
       "</div>"
      ],
      "text/plain": [
       "     sin_clean                                           address\n",
       "0  123-456-782                                     123 Pine Ave.\n",
       "1          NaN                                           main st\n",
       "2          NaN                      1234 west main heights 57033\n",
       "3          NaN                    apt 1 789 s maple rd manhattan\n",
       "4          NaN                robie house, 789 north main street\n",
       "5          NaN  (staples center) 1111 S Figueroa St, Los Angeles\n",
       "6          NaN                                             hello"
      ]
     },
     "execution_count": 1,
     "metadata": {},
     "output_type": "execute_result"
    }
   ],
   "source": [
    "clean_ca_sin(df, column=\"sin\", inplace=True)"
   ]
  },
  {
   "cell_type": "markdown",
   "id": "thrown-payment",
   "metadata": {},
   "source": [
    "## 4. `errors` parameter"
   ]
  },
  {
   "cell_type": "markdown",
   "id": "white-burning",
   "metadata": {},
   "source": [
    "### `coerce` (default)"
   ]
  },
  {
   "cell_type": "code",
   "execution_count": 6,
   "id": "charming-dream",
   "metadata": {
    "execution": {
     "iopub.execute_input": "2021-10-26T23:34:50.176572Z",
     "iopub.status.busy": "2021-10-26T23:34:50.175932Z",
     "iopub.status.idle": "2021-10-26T23:34:50.179154Z",
     "shell.execute_reply": "2021-10-26T23:34:50.180135Z"
    }
   },
   "outputs": [
    {
     "data": {
      "text/html": [
       "<div>\n",
       "<style scoped>\n",
       "    .dataframe tbody tr th:only-of-type {\n",
       "        vertical-align: middle;\n",
       "    }\n",
       "\n",
       "    .dataframe tbody tr th {\n",
       "        vertical-align: top;\n",
       "    }\n",
       "\n",
       "    .dataframe thead th {\n",
       "        text-align: right;\n",
       "    }\n",
       "</style>\n",
       "<table border=\"1\" class=\"dataframe\">\n",
       "  <thead>\n",
       "    <tr style=\"text-align: right;\">\n",
       "      <th></th>\n",
       "      <th>sin</th>\n",
       "      <th>address</th>\n",
       "      <th>sin_clean</th>\n",
       "    </tr>\n",
       "  </thead>\n",
       "  <tbody>\n",
       "    <tr>\n",
       "      <th>0</th>\n",
       "      <td>123456782</td>\n",
       "      <td>123 Pine Ave.</td>\n",
       "      <td>123-456-782</td>\n",
       "    </tr>\n",
       "    <tr>\n",
       "      <th>1</th>\n",
       "      <td>12345678Z</td>\n",
       "      <td>main st</td>\n",
       "      <td>NaN</td>\n",
       "    </tr>\n",
       "    <tr>\n",
       "      <th>2</th>\n",
       "      <td>51824753556</td>\n",
       "      <td>1234 west main heights 57033</td>\n",
       "      <td>NaN</td>\n",
       "    </tr>\n",
       "    <tr>\n",
       "      <th>3</th>\n",
       "      <td>51 824 753 556</td>\n",
       "      <td>apt 1 789 s maple rd manhattan</td>\n",
       "      <td>NaN</td>\n",
       "    </tr>\n",
       "    <tr>\n",
       "      <th>4</th>\n",
       "      <td>hello</td>\n",
       "      <td>robie house, 789 north main street</td>\n",
       "      <td>NaN</td>\n",
       "    </tr>\n",
       "    <tr>\n",
       "      <th>5</th>\n",
       "      <td>NaN</td>\n",
       "      <td>(staples center) 1111 S Figueroa St, Los Angeles</td>\n",
       "      <td>NaN</td>\n",
       "    </tr>\n",
       "    <tr>\n",
       "      <th>6</th>\n",
       "      <td>NULL</td>\n",
       "      <td>hello</td>\n",
       "      <td>NaN</td>\n",
       "    </tr>\n",
       "  </tbody>\n",
       "</table>\n",
       "</div>"
      ],
      "text/plain": [
       "              sin                                           address  \\\n",
       "0       123456782                                     123 Pine Ave.   \n",
       "1       12345678Z                                           main st   \n",
       "2     51824753556                      1234 west main heights 57033   \n",
       "3  51 824 753 556                    apt 1 789 s maple rd manhattan   \n",
       "4           hello                robie house, 789 north main street   \n",
       "5             NaN  (staples center) 1111 S Figueroa St, Los Angeles   \n",
       "6            NULL                                             hello   \n",
       "\n",
       "     sin_clean  \n",
       "0  123-456-782  \n",
       "1          NaN  \n",
       "2          NaN  \n",
       "3          NaN  \n",
       "4          NaN  \n",
       "5          NaN  \n",
       "6          NaN  "
      ]
     },
     "execution_count": 1,
     "metadata": {},
     "output_type": "execute_result"
    }
   ],
   "source": [
    "clean_ca_sin(df, \"sin\", errors=\"coerce\")"
   ]
  },
  {
   "cell_type": "markdown",
   "id": "isolated-attention",
   "metadata": {},
   "source": [
    "### `ignore`"
   ]
  },
  {
   "cell_type": "code",
   "execution_count": 7,
   "id": "exempt-working",
   "metadata": {
    "execution": {
     "iopub.execute_input": "2021-10-26T23:34:50.207654Z",
     "iopub.status.busy": "2021-10-26T23:34:50.202790Z",
     "iopub.status.idle": "2021-10-26T23:34:50.217700Z",
     "shell.execute_reply": "2021-10-26T23:34:50.216744Z"
    }
   },
   "outputs": [
    {
     "data": {
      "text/html": [
       "<div>\n",
       "<style scoped>\n",
       "    .dataframe tbody tr th:only-of-type {\n",
       "        vertical-align: middle;\n",
       "    }\n",
       "\n",
       "    .dataframe tbody tr th {\n",
       "        vertical-align: top;\n",
       "    }\n",
       "\n",
       "    .dataframe thead th {\n",
       "        text-align: right;\n",
       "    }\n",
       "</style>\n",
       "<table border=\"1\" class=\"dataframe\">\n",
       "  <thead>\n",
       "    <tr style=\"text-align: right;\">\n",
       "      <th></th>\n",
       "      <th>sin</th>\n",
       "      <th>address</th>\n",
       "      <th>sin_clean</th>\n",
       "    </tr>\n",
       "  </thead>\n",
       "  <tbody>\n",
       "    <tr>\n",
       "      <th>0</th>\n",
       "      <td>123456782</td>\n",
       "      <td>123 Pine Ave.</td>\n",
       "      <td>123-456-782</td>\n",
       "    </tr>\n",
       "    <tr>\n",
       "      <th>1</th>\n",
       "      <td>12345678Z</td>\n",
       "      <td>main st</td>\n",
       "      <td>12345678Z</td>\n",
       "    </tr>\n",
       "    <tr>\n",
       "      <th>2</th>\n",
       "      <td>51824753556</td>\n",
       "      <td>1234 west main heights 57033</td>\n",
       "      <td>51824753556</td>\n",
       "    </tr>\n",
       "    <tr>\n",
       "      <th>3</th>\n",
       "      <td>51 824 753 556</td>\n",
       "      <td>apt 1 789 s maple rd manhattan</td>\n",
       "      <td>51 824 753 556</td>\n",
       "    </tr>\n",
       "    <tr>\n",
       "      <th>4</th>\n",
       "      <td>hello</td>\n",
       "      <td>robie house, 789 north main street</td>\n",
       "      <td>hello</td>\n",
       "    </tr>\n",
       "    <tr>\n",
       "      <th>5</th>\n",
       "      <td>NaN</td>\n",
       "      <td>(staples center) 1111 S Figueroa St, Los Angeles</td>\n",
       "      <td>NaN</td>\n",
       "    </tr>\n",
       "    <tr>\n",
       "      <th>6</th>\n",
       "      <td>NULL</td>\n",
       "      <td>hello</td>\n",
       "      <td>NaN</td>\n",
       "    </tr>\n",
       "  </tbody>\n",
       "</table>\n",
       "</div>"
      ],
      "text/plain": [
       "              sin                                           address  \\\n",
       "0       123456782                                     123 Pine Ave.   \n",
       "1       12345678Z                                           main st   \n",
       "2     51824753556                      1234 west main heights 57033   \n",
       "3  51 824 753 556                    apt 1 789 s maple rd manhattan   \n",
       "4           hello                robie house, 789 north main street   \n",
       "5             NaN  (staples center) 1111 S Figueroa St, Los Angeles   \n",
       "6            NULL                                             hello   \n",
       "\n",
       "        sin_clean  \n",
       "0     123-456-782  \n",
       "1       12345678Z  \n",
       "2     51824753556  \n",
       "3  51 824 753 556  \n",
       "4           hello  \n",
       "5             NaN  \n",
       "6             NaN  "
      ]
     },
     "execution_count": 1,
     "metadata": {},
     "output_type": "execute_result"
    }
   ],
   "source": [
    "clean_ca_sin(df, \"sin\", errors=\"ignore\")"
   ]
  },
  {
   "cell_type": "markdown",
   "id": "grave-fellowship",
   "metadata": {},
   "source": [
    "## 4. `validate_ca_sin()`"
   ]
  },
  {
   "cell_type": "markdown",
   "id": "diagnostic-channel",
   "metadata": {},
   "source": [
    "`validate_ca_sin()` returns `True` when the input is a valid SIN. Otherwise it returns `False`.\n",
    "\n",
    "The input of `validate_ca_sin()` can be a string, a Pandas DataSeries, a Dask DataSeries, a Pandas DataFrame and a dask DataFrame.\n",
    "\n",
    "When the input is a string, a Pandas DataSeries or a Dask DataSeries, user doesn't need to specify a column name to be validated. \n",
    "\n",
    "When the input is a Pandas DataFrame or a dask DataFrame, user can both specify or not specify a column name to be validated. If user specify the column name, `validate_ca_sin()` only returns the validation result for the specified column. If user doesn't specify the column name, `validate_ca_sin()` returns the validation result for the whole DataFrame."
   ]
  },
  {
   "cell_type": "code",
   "execution_count": 8,
   "id": "frequent-poland",
   "metadata": {
    "execution": {
     "iopub.execute_input": "2021-10-26T23:34:50.223872Z",
     "iopub.status.busy": "2021-10-26T23:34:50.223237Z",
     "iopub.status.idle": "2021-10-26T23:34:50.228055Z",
     "shell.execute_reply": "2021-10-26T23:34:50.228603Z"
    }
   },
   "outputs": [
    {
     "name": "stdout",
     "output_type": "stream",
     "text": [
      "True\n",
      "False\n",
      "False\n",
      "False\n",
      "False\n",
      "False\n",
      "False\n"
     ]
    }
   ],
   "source": [
    "from dataprep.clean import validate_ca_sin\n",
    "print(validate_ca_sin(\"123456782\"))\n",
    "print(validate_ca_sin(\"12345678Z\"))\n",
    "print(validate_ca_sin(\"51824753556\"))\n",
    "print(validate_ca_sin(\"51 824 753 556\"))\n",
    "print(validate_ca_sin(\"hello\"))\n",
    "print(validate_ca_sin(np.nan))\n",
    "print(validate_ca_sin(\"NULL\"))"
   ]
  },
  {
   "cell_type": "markdown",
   "id": "compliant-croatia",
   "metadata": {},
   "source": [
    "### Series"
   ]
  },
  {
   "cell_type": "code",
   "execution_count": 9,
   "id": "received-portland",
   "metadata": {
    "execution": {
     "iopub.execute_input": "2021-10-26T23:34:50.234228Z",
     "iopub.status.busy": "2021-10-26T23:34:50.233531Z",
     "iopub.status.idle": "2021-10-26T23:34:50.239818Z",
     "shell.execute_reply": "2021-10-26T23:34:50.239245Z"
    }
   },
   "outputs": [
    {
     "data": {
      "text/plain": [
       "0     True\n",
       "1    False\n",
       "2    False\n",
       "3    False\n",
       "4    False\n",
       "5    False\n",
       "6    False\n",
       "Name: sin, dtype: bool"
      ]
     },
     "execution_count": 1,
     "metadata": {},
     "output_type": "execute_result"
    }
   ],
   "source": [
    "validate_ca_sin(df[\"sin\"])"
   ]
  },
  {
   "cell_type": "markdown",
   "id": "alone-marks",
   "metadata": {},
   "source": [
    "### DataFrame + Specify Column"
   ]
  },
  {
   "cell_type": "code",
   "execution_count": 10,
   "id": "interesting-royalty",
   "metadata": {
    "execution": {
     "iopub.execute_input": "2021-10-26T23:34:50.245405Z",
     "iopub.status.busy": "2021-10-26T23:34:50.244793Z",
     "iopub.status.idle": "2021-10-26T23:34:50.250478Z",
     "shell.execute_reply": "2021-10-26T23:34:50.249866Z"
    }
   },
   "outputs": [
    {
     "data": {
      "text/plain": [
       "0     True\n",
       "1    False\n",
       "2    False\n",
       "3    False\n",
       "4    False\n",
       "5    False\n",
       "6    False\n",
       "Name: sin, dtype: bool"
      ]
     },
     "execution_count": 1,
     "metadata": {},
     "output_type": "execute_result"
    }
   ],
   "source": [
    "validate_ca_sin(df, column=\"sin\")"
   ]
  },
  {
   "cell_type": "markdown",
   "id": "impressed-martial",
   "metadata": {},
   "source": [
    "### Only DataFrame"
   ]
  },
  {
   "cell_type": "code",
   "execution_count": 11,
   "id": "behavioral-toddler",
   "metadata": {
    "execution": {
     "iopub.execute_input": "2021-10-26T23:34:50.260784Z",
     "iopub.status.busy": "2021-10-26T23:34:50.254124Z",
     "iopub.status.idle": "2021-10-26T23:34:50.279082Z",
     "shell.execute_reply": "2021-10-26T23:34:50.278557Z"
    }
   },
   "outputs": [
    {
     "data": {
      "text/html": [
       "<div>\n",
       "<style scoped>\n",
       "    .dataframe tbody tr th:only-of-type {\n",
       "        vertical-align: middle;\n",
       "    }\n",
       "\n",
       "    .dataframe tbody tr th {\n",
       "        vertical-align: top;\n",
       "    }\n",
       "\n",
       "    .dataframe thead th {\n",
       "        text-align: right;\n",
       "    }\n",
       "</style>\n",
       "<table border=\"1\" class=\"dataframe\">\n",
       "  <thead>\n",
       "    <tr style=\"text-align: right;\">\n",
       "      <th></th>\n",
       "      <th>sin</th>\n",
       "      <th>address</th>\n",
       "    </tr>\n",
       "  </thead>\n",
       "  <tbody>\n",
       "    <tr>\n",
       "      <th>0</th>\n",
       "      <td>True</td>\n",
       "      <td>False</td>\n",
       "    </tr>\n",
       "    <tr>\n",
       "      <th>1</th>\n",
       "      <td>False</td>\n",
       "      <td>False</td>\n",
       "    </tr>\n",
       "    <tr>\n",
       "      <th>2</th>\n",
       "      <td>False</td>\n",
       "      <td>False</td>\n",
       "    </tr>\n",
       "    <tr>\n",
       "      <th>3</th>\n",
       "      <td>False</td>\n",
       "      <td>False</td>\n",
       "    </tr>\n",
       "    <tr>\n",
       "      <th>4</th>\n",
       "      <td>False</td>\n",
       "      <td>False</td>\n",
       "    </tr>\n",
       "    <tr>\n",
       "      <th>5</th>\n",
       "      <td>False</td>\n",
       "      <td>False</td>\n",
       "    </tr>\n",
       "    <tr>\n",
       "      <th>6</th>\n",
       "      <td>False</td>\n",
       "      <td>False</td>\n",
       "    </tr>\n",
       "  </tbody>\n",
       "</table>\n",
       "</div>"
      ],
      "text/plain": [
       "     sin  address\n",
       "0   True    False\n",
       "1  False    False\n",
       "2  False    False\n",
       "3  False    False\n",
       "4  False    False\n",
       "5  False    False\n",
       "6  False    False"
      ]
     },
     "execution_count": 1,
     "metadata": {},
     "output_type": "execute_result"
    }
   ],
   "source": [
    "validate_ca_sin(df)"
   ]
  },
  {
   "cell_type": "code",
   "execution_count": null,
   "id": "printable-aircraft",
   "metadata": {},
   "outputs": [],
   "source": []
  }
 ],
 "metadata": {
  "kernelspec": {
   "display_name": "Python 3",
   "language": "python",
   "name": "python3"
  },
  "language_info": {
   "codemirror_mode": {
    "name": "ipython",
    "version": 3
   },
   "file_extension": ".py",
   "mimetype": "text/x-python",
   "name": "python",
   "nbconvert_exporter": "python",
   "pygments_lexer": "ipython3",
   "version": "3.8.10"
  }
 },
 "nbformat": 4,
 "nbformat_minor": 5
}
