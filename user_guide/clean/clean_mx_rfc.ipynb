{
 "cells": [
  {
   "cell_type": "raw",
   "id": "exciting-spotlight",
   "metadata": {},
   "source": [
    ".. _rfc_userguide:\n",
    "\n",
    "Mexican Tax Numbers\n",
    "==================="
   ]
  },
  {
   "cell_type": "raw",
   "id": "passive-simple",
   "metadata": {},
   "source": [
    "Introduction\n",
    "------------\n",
    "\n",
    "The function :func:`clean_mx_rfc() <dataprep.clean.clean_mx_rfc.clean_mx_rfc>` cleans a column containing Mexican tax number (RFC) strings, and standardizes them in a given format. The function :func:`validate_mx_rfc() <dataprep.clean.clean_mx_rfc.validate_mx_rfc>` validates either a single RFC strings, a column of RFC strings or a DataFrame of RFC strings, returning `True` if the value is valid, and `False` otherwise."
   ]
  },
  {
   "cell_type": "markdown",
   "id": "direct-enclosure",
   "metadata": {},
   "source": [
    "RFC strings can be converted to the following formats via the `output_format` parameter:\n",
    "\n",
    "* `compact`: only number strings without any seperators or whitespace, like \"GODE561231GR8\"\n",
    "* `standard`: RFC strings with proper whitespace in the proper places, like \"GODE 561231 GR8\"\n",
    "\n",
    "Invalid parsing is handled with the `errors` parameter:\n",
    "\n",
    "* `coerce` (default): invalid parsing will be set to NaN\n",
    "* `ignore`: invalid parsing will return the input\n",
    "* `raise`: invalid parsing will raise an exception\n",
    "\n",
    "The following sections demonstrate the functionality of `clean_mx_rfc()` and `validate_mx_rfc()`. "
   ]
  },
  {
   "cell_type": "markdown",
   "id": "efficient-auditor",
   "metadata": {},
   "source": [
    "### An example dataset containing RFC strings"
   ]
  },
  {
   "cell_type": "code",
   "execution_count": 1,
   "id": "baking-princess",
   "metadata": {
    "execution": {
     "iopub.execute_input": "2021-11-01T18:55:48.363460Z",
     "iopub.status.busy": "2021-11-01T18:55:48.362847Z",
     "iopub.status.idle": "2021-11-01T18:55:48.659473Z",
     "shell.execute_reply": "2021-11-01T18:55:48.658783Z"
    }
   },
   "outputs": [
    {
     "data": {
      "text/html": [
       "<div>\n",
       "<style scoped>\n",
       "    .dataframe tbody tr th:only-of-type {\n",
       "        vertical-align: middle;\n",
       "    }\n",
       "\n",
       "    .dataframe tbody tr th {\n",
       "        vertical-align: top;\n",
       "    }\n",
       "\n",
       "    .dataframe thead th {\n",
       "        text-align: right;\n",
       "    }\n",
       "</style>\n",
       "<table border=\"1\" class=\"dataframe\">\n",
       "  <thead>\n",
       "    <tr style=\"text-align: right;\">\n",
       "      <th></th>\n",
       "      <th>rfc</th>\n",
       "      <th>address</th>\n",
       "    </tr>\n",
       "  </thead>\n",
       "  <tbody>\n",
       "    <tr>\n",
       "      <th>0</th>\n",
       "      <td>GODE561231GR8</td>\n",
       "      <td>123 Pine Ave.</td>\n",
       "    </tr>\n",
       "    <tr>\n",
       "      <th>1</th>\n",
       "      <td>BUEI591231GH9</td>\n",
       "      <td>main st</td>\n",
       "    </tr>\n",
       "    <tr>\n",
       "      <th>2</th>\n",
       "      <td>51824753556</td>\n",
       "      <td>1234 west main heights 57033</td>\n",
       "    </tr>\n",
       "    <tr>\n",
       "      <th>3</th>\n",
       "      <td>51 824 753 556</td>\n",
       "      <td>apt 1 789 s maple rd manhattan</td>\n",
       "    </tr>\n",
       "    <tr>\n",
       "      <th>4</th>\n",
       "      <td>hello</td>\n",
       "      <td>robie house, 789 north main street</td>\n",
       "    </tr>\n",
       "    <tr>\n",
       "      <th>5</th>\n",
       "      <td>NaN</td>\n",
       "      <td>(staples center) 1111 S Figueroa St, Los Angeles</td>\n",
       "    </tr>\n",
       "    <tr>\n",
       "      <th>6</th>\n",
       "      <td>NULL</td>\n",
       "      <td>hello</td>\n",
       "    </tr>\n",
       "  </tbody>\n",
       "</table>\n",
       "</div>"
      ],
      "text/plain": [
       "              rfc                                           address\n",
       "0   GODE561231GR8                                     123 Pine Ave.\n",
       "1   BUEI591231GH9                                           main st\n",
       "2     51824753556                      1234 west main heights 57033\n",
       "3  51 824 753 556                    apt 1 789 s maple rd manhattan\n",
       "4           hello                robie house, 789 north main street\n",
       "5             NaN  (staples center) 1111 S Figueroa St, Los Angeles\n",
       "6            NULL                                             hello"
      ]
     },
     "execution_count": 1,
     "metadata": {},
     "output_type": "execute_result"
    }
   ],
   "source": [
    "import pandas as pd\n",
    "import numpy as np\n",
    "df = pd.DataFrame(\n",
    "    {\n",
    "        \"rfc\": [\n",
    "            \"GODE561231GR8\",\n",
    "            \"BUEI591231GH9\",\n",
    "            \"51824753556\",\n",
    "            \"51 824 753 556\",\n",
    "            \"hello\",\n",
    "            np.nan,\n",
    "            \"NULL\"\n",
    "        ], \n",
    "        \"address\": [\n",
    "            \"123 Pine Ave.\",\n",
    "            \"main st\",\n",
    "            \"1234 west main heights 57033\",\n",
    "            \"apt 1 789 s maple rd manhattan\",\n",
    "            \"robie house, 789 north main street\",\n",
    "            \"(staples center) 1111 S Figueroa St, Los Angeles\",\n",
    "            \"hello\",\n",
    "        ]\n",
    "    }\n",
    ")\n",
    "df"
   ]
  },
  {
   "cell_type": "markdown",
   "id": "played-version",
   "metadata": {},
   "source": [
    "## 1. Default `clean_mx_rfc`\n",
    "\n",
    "By default, `clean_mx_rfc` will clean rfc strings and output them in the standard format with proper separators."
   ]
  },
  {
   "cell_type": "code",
   "execution_count": 2,
   "id": "normal-wages",
   "metadata": {
    "execution": {
     "iopub.execute_input": "2021-11-01T18:55:48.664822Z",
     "iopub.status.busy": "2021-11-01T18:55:48.664126Z",
     "iopub.status.idle": "2021-11-01T18:55:49.401697Z",
     "shell.execute_reply": "2021-11-01T18:55:49.402267Z"
    }
   },
   "outputs": [
    {
     "data": {
      "text/html": [
       "<div>\n",
       "<style scoped>\n",
       "    .dataframe tbody tr th:only-of-type {\n",
       "        vertical-align: middle;\n",
       "    }\n",
       "\n",
       "    .dataframe tbody tr th {\n",
       "        vertical-align: top;\n",
       "    }\n",
       "\n",
       "    .dataframe thead th {\n",
       "        text-align: right;\n",
       "    }\n",
       "</style>\n",
       "<table border=\"1\" class=\"dataframe\">\n",
       "  <thead>\n",
       "    <tr style=\"text-align: right;\">\n",
       "      <th></th>\n",
       "      <th>rfc</th>\n",
       "      <th>address</th>\n",
       "      <th>rfc_clean</th>\n",
       "    </tr>\n",
       "  </thead>\n",
       "  <tbody>\n",
       "    <tr>\n",
       "      <th>0</th>\n",
       "      <td>GODE561231GR8</td>\n",
       "      <td>123 Pine Ave.</td>\n",
       "      <td>GODE 561231 GR8</td>\n",
       "    </tr>\n",
       "    <tr>\n",
       "      <th>1</th>\n",
       "      <td>BUEI591231GH9</td>\n",
       "      <td>main st</td>\n",
       "      <td>NaN</td>\n",
       "    </tr>\n",
       "    <tr>\n",
       "      <th>2</th>\n",
       "      <td>51824753556</td>\n",
       "      <td>1234 west main heights 57033</td>\n",
       "      <td>NaN</td>\n",
       "    </tr>\n",
       "    <tr>\n",
       "      <th>3</th>\n",
       "      <td>51 824 753 556</td>\n",
       "      <td>apt 1 789 s maple rd manhattan</td>\n",
       "      <td>NaN</td>\n",
       "    </tr>\n",
       "    <tr>\n",
       "      <th>4</th>\n",
       "      <td>hello</td>\n",
       "      <td>robie house, 789 north main street</td>\n",
       "      <td>NaN</td>\n",
       "    </tr>\n",
       "    <tr>\n",
       "      <th>5</th>\n",
       "      <td>NaN</td>\n",
       "      <td>(staples center) 1111 S Figueroa St, Los Angeles</td>\n",
       "      <td>NaN</td>\n",
       "    </tr>\n",
       "    <tr>\n",
       "      <th>6</th>\n",
       "      <td>NULL</td>\n",
       "      <td>hello</td>\n",
       "      <td>NaN</td>\n",
       "    </tr>\n",
       "  </tbody>\n",
       "</table>\n",
       "</div>"
      ],
      "text/plain": [
       "              rfc                                           address  \\\n",
       "0   GODE561231GR8                                     123 Pine Ave.   \n",
       "1   BUEI591231GH9                                           main st   \n",
       "2     51824753556                      1234 west main heights 57033   \n",
       "3  51 824 753 556                    apt 1 789 s maple rd manhattan   \n",
       "4           hello                robie house, 789 north main street   \n",
       "5             NaN  (staples center) 1111 S Figueroa St, Los Angeles   \n",
       "6            NULL                                             hello   \n",
       "\n",
       "         rfc_clean  \n",
       "0  GODE 561231 GR8  \n",
       "1              NaN  \n",
       "2              NaN  \n",
       "3              NaN  \n",
       "4              NaN  \n",
       "5              NaN  \n",
       "6              NaN  "
      ]
     },
     "execution_count": 1,
     "metadata": {},
     "output_type": "execute_result"
    }
   ],
   "source": [
    "from dataprep.clean import clean_mx_rfc\n",
    "clean_mx_rfc(df, column = \"rfc\")"
   ]
  },
  {
   "cell_type": "markdown",
   "id": "living-uncle",
   "metadata": {},
   "source": [
    "## 2. Output formats"
   ]
  },
  {
   "cell_type": "markdown",
   "id": "sorted-martial",
   "metadata": {},
   "source": [
    "This section demonstrates the output parameter."
   ]
  },
  {
   "cell_type": "markdown",
   "id": "celtic-objective",
   "metadata": {},
   "source": [
    "### `standard` (default)"
   ]
  },
  {
   "cell_type": "code",
   "execution_count": 3,
   "id": "certain-impossible",
   "metadata": {
    "execution": {
     "iopub.execute_input": "2021-11-01T18:55:49.432228Z",
     "iopub.status.busy": "2021-11-01T18:55:49.431544Z",
     "iopub.status.idle": "2021-11-01T18:55:49.441851Z",
     "shell.execute_reply": "2021-11-01T18:55:49.441317Z"
    }
   },
   "outputs": [
    {
     "data": {
      "text/html": [
       "<div>\n",
       "<style scoped>\n",
       "    .dataframe tbody tr th:only-of-type {\n",
       "        vertical-align: middle;\n",
       "    }\n",
       "\n",
       "    .dataframe tbody tr th {\n",
       "        vertical-align: top;\n",
       "    }\n",
       "\n",
       "    .dataframe thead th {\n",
       "        text-align: right;\n",
       "    }\n",
       "</style>\n",
       "<table border=\"1\" class=\"dataframe\">\n",
       "  <thead>\n",
       "    <tr style=\"text-align: right;\">\n",
       "      <th></th>\n",
       "      <th>rfc</th>\n",
       "      <th>address</th>\n",
       "      <th>rfc_clean</th>\n",
       "    </tr>\n",
       "  </thead>\n",
       "  <tbody>\n",
       "    <tr>\n",
       "      <th>0</th>\n",
       "      <td>GODE561231GR8</td>\n",
       "      <td>123 Pine Ave.</td>\n",
       "      <td>GODE 561231 GR8</td>\n",
       "    </tr>\n",
       "    <tr>\n",
       "      <th>1</th>\n",
       "      <td>BUEI591231GH9</td>\n",
       "      <td>main st</td>\n",
       "      <td>NaN</td>\n",
       "    </tr>\n",
       "    <tr>\n",
       "      <th>2</th>\n",
       "      <td>51824753556</td>\n",
       "      <td>1234 west main heights 57033</td>\n",
       "      <td>NaN</td>\n",
       "    </tr>\n",
       "    <tr>\n",
       "      <th>3</th>\n",
       "      <td>51 824 753 556</td>\n",
       "      <td>apt 1 789 s maple rd manhattan</td>\n",
       "      <td>NaN</td>\n",
       "    </tr>\n",
       "    <tr>\n",
       "      <th>4</th>\n",
       "      <td>hello</td>\n",
       "      <td>robie house, 789 north main street</td>\n",
       "      <td>NaN</td>\n",
       "    </tr>\n",
       "    <tr>\n",
       "      <th>5</th>\n",
       "      <td>NaN</td>\n",
       "      <td>(staples center) 1111 S Figueroa St, Los Angeles</td>\n",
       "      <td>NaN</td>\n",
       "    </tr>\n",
       "    <tr>\n",
       "      <th>6</th>\n",
       "      <td>NULL</td>\n",
       "      <td>hello</td>\n",
       "      <td>NaN</td>\n",
       "    </tr>\n",
       "  </tbody>\n",
       "</table>\n",
       "</div>"
      ],
      "text/plain": [
       "              rfc                                           address  \\\n",
       "0   GODE561231GR8                                     123 Pine Ave.   \n",
       "1   BUEI591231GH9                                           main st   \n",
       "2     51824753556                      1234 west main heights 57033   \n",
       "3  51 824 753 556                    apt 1 789 s maple rd manhattan   \n",
       "4           hello                robie house, 789 north main street   \n",
       "5             NaN  (staples center) 1111 S Figueroa St, Los Angeles   \n",
       "6            NULL                                             hello   \n",
       "\n",
       "         rfc_clean  \n",
       "0  GODE 561231 GR8  \n",
       "1              NaN  \n",
       "2              NaN  \n",
       "3              NaN  \n",
       "4              NaN  \n",
       "5              NaN  \n",
       "6              NaN  "
      ]
     },
     "execution_count": 1,
     "metadata": {},
     "output_type": "execute_result"
    }
   ],
   "source": [
    "clean_mx_rfc(df, column = \"rfc\", output_format=\"standard\")"
   ]
  },
  {
   "cell_type": "markdown",
   "id": "imperial-stable",
   "metadata": {},
   "source": [
    "### `compact`"
   ]
  },
  {
   "cell_type": "code",
   "execution_count": 4,
   "id": "ordered-despite",
   "metadata": {
    "execution": {
     "iopub.execute_input": "2021-11-01T18:55:49.471596Z",
     "iopub.status.busy": "2021-11-01T18:55:49.470723Z",
     "iopub.status.idle": "2021-11-01T18:55:49.480529Z",
     "shell.execute_reply": "2021-11-01T18:55:49.480006Z"
    }
   },
   "outputs": [
    {
     "data": {
      "text/html": [
       "<div>\n",
       "<style scoped>\n",
       "    .dataframe tbody tr th:only-of-type {\n",
       "        vertical-align: middle;\n",
       "    }\n",
       "\n",
       "    .dataframe tbody tr th {\n",
       "        vertical-align: top;\n",
       "    }\n",
       "\n",
       "    .dataframe thead th {\n",
       "        text-align: right;\n",
       "    }\n",
       "</style>\n",
       "<table border=\"1\" class=\"dataframe\">\n",
       "  <thead>\n",
       "    <tr style=\"text-align: right;\">\n",
       "      <th></th>\n",
       "      <th>rfc</th>\n",
       "      <th>address</th>\n",
       "      <th>rfc_clean</th>\n",
       "    </tr>\n",
       "  </thead>\n",
       "  <tbody>\n",
       "    <tr>\n",
       "      <th>0</th>\n",
       "      <td>GODE561231GR8</td>\n",
       "      <td>123 Pine Ave.</td>\n",
       "      <td>GODE561231GR8</td>\n",
       "    </tr>\n",
       "    <tr>\n",
       "      <th>1</th>\n",
       "      <td>BUEI591231GH9</td>\n",
       "      <td>main st</td>\n",
       "      <td>NaN</td>\n",
       "    </tr>\n",
       "    <tr>\n",
       "      <th>2</th>\n",
       "      <td>51824753556</td>\n",
       "      <td>1234 west main heights 57033</td>\n",
       "      <td>NaN</td>\n",
       "    </tr>\n",
       "    <tr>\n",
       "      <th>3</th>\n",
       "      <td>51 824 753 556</td>\n",
       "      <td>apt 1 789 s maple rd manhattan</td>\n",
       "      <td>NaN</td>\n",
       "    </tr>\n",
       "    <tr>\n",
       "      <th>4</th>\n",
       "      <td>hello</td>\n",
       "      <td>robie house, 789 north main street</td>\n",
       "      <td>NaN</td>\n",
       "    </tr>\n",
       "    <tr>\n",
       "      <th>5</th>\n",
       "      <td>NaN</td>\n",
       "      <td>(staples center) 1111 S Figueroa St, Los Angeles</td>\n",
       "      <td>NaN</td>\n",
       "    </tr>\n",
       "    <tr>\n",
       "      <th>6</th>\n",
       "      <td>NULL</td>\n",
       "      <td>hello</td>\n",
       "      <td>NaN</td>\n",
       "    </tr>\n",
       "  </tbody>\n",
       "</table>\n",
       "</div>"
      ],
      "text/plain": [
       "              rfc                                           address  \\\n",
       "0   GODE561231GR8                                     123 Pine Ave.   \n",
       "1   BUEI591231GH9                                           main st   \n",
       "2     51824753556                      1234 west main heights 57033   \n",
       "3  51 824 753 556                    apt 1 789 s maple rd manhattan   \n",
       "4           hello                robie house, 789 north main street   \n",
       "5             NaN  (staples center) 1111 S Figueroa St, Los Angeles   \n",
       "6            NULL                                             hello   \n",
       "\n",
       "       rfc_clean  \n",
       "0  GODE561231GR8  \n",
       "1            NaN  \n",
       "2            NaN  \n",
       "3            NaN  \n",
       "4            NaN  \n",
       "5            NaN  \n",
       "6            NaN  "
      ]
     },
     "execution_count": 1,
     "metadata": {},
     "output_type": "execute_result"
    }
   ],
   "source": [
    "clean_mx_rfc(df, column = \"rfc\", output_format=\"compact\")"
   ]
  },
  {
   "cell_type": "markdown",
   "id": "exterior-overall",
   "metadata": {},
   "source": [
    "## 3. `inplace` parameter\n",
    "\n",
    "This deletes the given column from the returned DataFrame. \n",
    "A new column containing cleaned RFC strings is added with a title in the format `\"{original title}_clean\"`."
   ]
  },
  {
   "cell_type": "code",
   "execution_count": 5,
   "id": "indoor-incentive",
   "metadata": {
    "execution": {
     "iopub.execute_input": "2021-11-01T18:55:49.529585Z",
     "iopub.status.busy": "2021-11-01T18:55:49.519477Z",
     "iopub.status.idle": "2021-11-01T18:55:49.534921Z",
     "shell.execute_reply": "2021-11-01T18:55:49.535549Z"
    }
   },
   "outputs": [
    {
     "data": {
      "text/html": [
       "<div>\n",
       "<style scoped>\n",
       "    .dataframe tbody tr th:only-of-type {\n",
       "        vertical-align: middle;\n",
       "    }\n",
       "\n",
       "    .dataframe tbody tr th {\n",
       "        vertical-align: top;\n",
       "    }\n",
       "\n",
       "    .dataframe thead th {\n",
       "        text-align: right;\n",
       "    }\n",
       "</style>\n",
       "<table border=\"1\" class=\"dataframe\">\n",
       "  <thead>\n",
       "    <tr style=\"text-align: right;\">\n",
       "      <th></th>\n",
       "      <th>rfc_clean</th>\n",
       "      <th>address</th>\n",
       "    </tr>\n",
       "  </thead>\n",
       "  <tbody>\n",
       "    <tr>\n",
       "      <th>0</th>\n",
       "      <td>GODE 561231 GR8</td>\n",
       "      <td>123 Pine Ave.</td>\n",
       "    </tr>\n",
       "    <tr>\n",
       "      <th>1</th>\n",
       "      <td>NaN</td>\n",
       "      <td>main st</td>\n",
       "    </tr>\n",
       "    <tr>\n",
       "      <th>2</th>\n",
       "      <td>NaN</td>\n",
       "      <td>1234 west main heights 57033</td>\n",
       "    </tr>\n",
       "    <tr>\n",
       "      <th>3</th>\n",
       "      <td>NaN</td>\n",
       "      <td>apt 1 789 s maple rd manhattan</td>\n",
       "    </tr>\n",
       "    <tr>\n",
       "      <th>4</th>\n",
       "      <td>NaN</td>\n",
       "      <td>robie house, 789 north main street</td>\n",
       "    </tr>\n",
       "    <tr>\n",
       "      <th>5</th>\n",
       "      <td>NaN</td>\n",
       "      <td>(staples center) 1111 S Figueroa St, Los Angeles</td>\n",
       "    </tr>\n",
       "    <tr>\n",
       "      <th>6</th>\n",
       "      <td>NaN</td>\n",
       "      <td>hello</td>\n",
       "    </tr>\n",
       "  </tbody>\n",
       "</table>\n",
       "</div>"
      ],
      "text/plain": [
       "         rfc_clean                                           address\n",
       "0  GODE 561231 GR8                                     123 Pine Ave.\n",
       "1              NaN                                           main st\n",
       "2              NaN                      1234 west main heights 57033\n",
       "3              NaN                    apt 1 789 s maple rd manhattan\n",
       "4              NaN                robie house, 789 north main street\n",
       "5              NaN  (staples center) 1111 S Figueroa St, Los Angeles\n",
       "6              NaN                                             hello"
      ]
     },
     "execution_count": 1,
     "metadata": {},
     "output_type": "execute_result"
    }
   ],
   "source": [
    "clean_mx_rfc(df, column=\"rfc\", inplace=True)"
   ]
  },
  {
   "cell_type": "markdown",
   "id": "religious-beverage",
   "metadata": {},
   "source": [
    "## 4. `errors` parameter"
   ]
  },
  {
   "cell_type": "markdown",
   "id": "rapid-rental",
   "metadata": {},
   "source": [
    "### `coerce` (default)"
   ]
  },
  {
   "cell_type": "code",
   "execution_count": 6,
   "id": "exact-pitch",
   "metadata": {
    "execution": {
     "iopub.execute_input": "2021-11-01T18:55:49.564537Z",
     "iopub.status.busy": "2021-11-01T18:55:49.563838Z",
     "iopub.status.idle": "2021-11-01T18:55:49.574926Z",
     "shell.execute_reply": "2021-11-01T18:55:49.573869Z"
    }
   },
   "outputs": [
    {
     "data": {
      "text/html": [
       "<div>\n",
       "<style scoped>\n",
       "    .dataframe tbody tr th:only-of-type {\n",
       "        vertical-align: middle;\n",
       "    }\n",
       "\n",
       "    .dataframe tbody tr th {\n",
       "        vertical-align: top;\n",
       "    }\n",
       "\n",
       "    .dataframe thead th {\n",
       "        text-align: right;\n",
       "    }\n",
       "</style>\n",
       "<table border=\"1\" class=\"dataframe\">\n",
       "  <thead>\n",
       "    <tr style=\"text-align: right;\">\n",
       "      <th></th>\n",
       "      <th>rfc</th>\n",
       "      <th>address</th>\n",
       "      <th>rfc_clean</th>\n",
       "    </tr>\n",
       "  </thead>\n",
       "  <tbody>\n",
       "    <tr>\n",
       "      <th>0</th>\n",
       "      <td>GODE561231GR8</td>\n",
       "      <td>123 Pine Ave.</td>\n",
       "      <td>GODE 561231 GR8</td>\n",
       "    </tr>\n",
       "    <tr>\n",
       "      <th>1</th>\n",
       "      <td>BUEI591231GH9</td>\n",
       "      <td>main st</td>\n",
       "      <td>NaN</td>\n",
       "    </tr>\n",
       "    <tr>\n",
       "      <th>2</th>\n",
       "      <td>51824753556</td>\n",
       "      <td>1234 west main heights 57033</td>\n",
       "      <td>NaN</td>\n",
       "    </tr>\n",
       "    <tr>\n",
       "      <th>3</th>\n",
       "      <td>51 824 753 556</td>\n",
       "      <td>apt 1 789 s maple rd manhattan</td>\n",
       "      <td>NaN</td>\n",
       "    </tr>\n",
       "    <tr>\n",
       "      <th>4</th>\n",
       "      <td>hello</td>\n",
       "      <td>robie house, 789 north main street</td>\n",
       "      <td>NaN</td>\n",
       "    </tr>\n",
       "    <tr>\n",
       "      <th>5</th>\n",
       "      <td>NaN</td>\n",
       "      <td>(staples center) 1111 S Figueroa St, Los Angeles</td>\n",
       "      <td>NaN</td>\n",
       "    </tr>\n",
       "    <tr>\n",
       "      <th>6</th>\n",
       "      <td>NULL</td>\n",
       "      <td>hello</td>\n",
       "      <td>NaN</td>\n",
       "    </tr>\n",
       "  </tbody>\n",
       "</table>\n",
       "</div>"
      ],
      "text/plain": [
       "              rfc                                           address  \\\n",
       "0   GODE561231GR8                                     123 Pine Ave.   \n",
       "1   BUEI591231GH9                                           main st   \n",
       "2     51824753556                      1234 west main heights 57033   \n",
       "3  51 824 753 556                    apt 1 789 s maple rd manhattan   \n",
       "4           hello                robie house, 789 north main street   \n",
       "5             NaN  (staples center) 1111 S Figueroa St, Los Angeles   \n",
       "6            NULL                                             hello   \n",
       "\n",
       "         rfc_clean  \n",
       "0  GODE 561231 GR8  \n",
       "1              NaN  \n",
       "2              NaN  \n",
       "3              NaN  \n",
       "4              NaN  \n",
       "5              NaN  \n",
       "6              NaN  "
      ]
     },
     "execution_count": 1,
     "metadata": {},
     "output_type": "execute_result"
    }
   ],
   "source": [
    "clean_mx_rfc(df, \"rfc\", errors=\"coerce\")"
   ]
  },
  {
   "cell_type": "markdown",
   "id": "reported-relationship",
   "metadata": {},
   "source": [
    "### `ignore`"
   ]
  },
  {
   "cell_type": "code",
   "execution_count": 7,
   "id": "single-belarus",
   "metadata": {
    "execution": {
     "iopub.execute_input": "2021-11-01T18:55:49.603921Z",
     "iopub.status.busy": "2021-11-01T18:55:49.602894Z",
     "iopub.status.idle": "2021-11-01T18:55:49.616270Z",
     "shell.execute_reply": "2021-11-01T18:55:49.615501Z"
    }
   },
   "outputs": [
    {
     "data": {
      "text/html": [
       "<div>\n",
       "<style scoped>\n",
       "    .dataframe tbody tr th:only-of-type {\n",
       "        vertical-align: middle;\n",
       "    }\n",
       "\n",
       "    .dataframe tbody tr th {\n",
       "        vertical-align: top;\n",
       "    }\n",
       "\n",
       "    .dataframe thead th {\n",
       "        text-align: right;\n",
       "    }\n",
       "</style>\n",
       "<table border=\"1\" class=\"dataframe\">\n",
       "  <thead>\n",
       "    <tr style=\"text-align: right;\">\n",
       "      <th></th>\n",
       "      <th>rfc</th>\n",
       "      <th>address</th>\n",
       "      <th>rfc_clean</th>\n",
       "    </tr>\n",
       "  </thead>\n",
       "  <tbody>\n",
       "    <tr>\n",
       "      <th>0</th>\n",
       "      <td>GODE561231GR8</td>\n",
       "      <td>123 Pine Ave.</td>\n",
       "      <td>GODE 561231 GR8</td>\n",
       "    </tr>\n",
       "    <tr>\n",
       "      <th>1</th>\n",
       "      <td>BUEI591231GH9</td>\n",
       "      <td>main st</td>\n",
       "      <td>BUEI591231GH9</td>\n",
       "    </tr>\n",
       "    <tr>\n",
       "      <th>2</th>\n",
       "      <td>51824753556</td>\n",
       "      <td>1234 west main heights 57033</td>\n",
       "      <td>51824753556</td>\n",
       "    </tr>\n",
       "    <tr>\n",
       "      <th>3</th>\n",
       "      <td>51 824 753 556</td>\n",
       "      <td>apt 1 789 s maple rd manhattan</td>\n",
       "      <td>51 824 753 556</td>\n",
       "    </tr>\n",
       "    <tr>\n",
       "      <th>4</th>\n",
       "      <td>hello</td>\n",
       "      <td>robie house, 789 north main street</td>\n",
       "      <td>hello</td>\n",
       "    </tr>\n",
       "    <tr>\n",
       "      <th>5</th>\n",
       "      <td>NaN</td>\n",
       "      <td>(staples center) 1111 S Figueroa St, Los Angeles</td>\n",
       "      <td>NaN</td>\n",
       "    </tr>\n",
       "    <tr>\n",
       "      <th>6</th>\n",
       "      <td>NULL</td>\n",
       "      <td>hello</td>\n",
       "      <td>NaN</td>\n",
       "    </tr>\n",
       "  </tbody>\n",
       "</table>\n",
       "</div>"
      ],
      "text/plain": [
       "              rfc                                           address  \\\n",
       "0   GODE561231GR8                                     123 Pine Ave.   \n",
       "1   BUEI591231GH9                                           main st   \n",
       "2     51824753556                      1234 west main heights 57033   \n",
       "3  51 824 753 556                    apt 1 789 s maple rd manhattan   \n",
       "4           hello                robie house, 789 north main street   \n",
       "5             NaN  (staples center) 1111 S Figueroa St, Los Angeles   \n",
       "6            NULL                                             hello   \n",
       "\n",
       "         rfc_clean  \n",
       "0  GODE 561231 GR8  \n",
       "1    BUEI591231GH9  \n",
       "2      51824753556  \n",
       "3   51 824 753 556  \n",
       "4            hello  \n",
       "5              NaN  \n",
       "6              NaN  "
      ]
     },
     "execution_count": 1,
     "metadata": {},
     "output_type": "execute_result"
    }
   ],
   "source": [
    "clean_mx_rfc(df, \"rfc\", errors=\"ignore\")"
   ]
  },
  {
   "cell_type": "markdown",
   "id": "circular-contemporary",
   "metadata": {},
   "source": [
    "## 4. `validate_mx_rfc()`"
   ]
  },
  {
   "cell_type": "markdown",
   "id": "elementary-decade",
   "metadata": {},
   "source": [
    "`validate_mx_rfc()` returns `True` when the input is a valid RFC. Otherwise it returns `False`.\n",
    "\n",
    "The input of `validate_mx_rfc()` can be a string, a Pandas DataSeries, a Dask DataSeries, a Pandas DataFrame and a dask DataFrame.\n",
    "\n",
    "When the input is a string, a Pandas DataSeries or a Dask DataSeries, user doesn't need to specify a column name to be validated. \n",
    "\n",
    "When the input is a Pandas DataFrame or a dask DataFrame, user can both specify or not specify a column name to be validated. If user specify the column name, `validate_mx_rfc()` only returns the validation result for the specified column. If user doesn't specify the column name, `validate_mx_rfc()` returns the validation result for the whole DataFrame."
   ]
  },
  {
   "cell_type": "code",
   "execution_count": 8,
   "id": "experimental-judgment",
   "metadata": {
    "execution": {
     "iopub.execute_input": "2021-11-01T18:55:49.622835Z",
     "iopub.status.busy": "2021-11-01T18:55:49.622147Z",
     "iopub.status.idle": "2021-11-01T18:55:49.627057Z",
     "shell.execute_reply": "2021-11-01T18:55:49.626509Z"
    }
   },
   "outputs": [
    {
     "name": "stdout",
     "output_type": "stream",
     "text": [
      "True\n",
      "False\n",
      "False\n",
      "False\n",
      "False\n",
      "False\n",
      "False\n"
     ]
    }
   ],
   "source": [
    "from dataprep.clean import validate_mx_rfc\n",
    "print(validate_mx_rfc(\"GODE561231GR8\"))\n",
    "print(validate_mx_rfc(\"BUEI591231GH9\"))\n",
    "print(validate_mx_rfc(\"51824753556\"))\n",
    "print(validate_mx_rfc(\"51 824 753 556\"))\n",
    "print(validate_mx_rfc(\"hello\"))\n",
    "print(validate_mx_rfc(np.nan))\n",
    "print(validate_mx_rfc(\"NULL\"))"
   ]
  },
  {
   "cell_type": "markdown",
   "id": "infinite-strain",
   "metadata": {},
   "source": [
    "### Series"
   ]
  },
  {
   "cell_type": "code",
   "execution_count": 9,
   "id": "completed-intersection",
   "metadata": {
    "execution": {
     "iopub.execute_input": "2021-11-01T18:55:49.633713Z",
     "iopub.status.busy": "2021-11-01T18:55:49.633097Z",
     "iopub.status.idle": "2021-11-01T18:55:49.636119Z",
     "shell.execute_reply": "2021-11-01T18:55:49.636611Z"
    }
   },
   "outputs": [
    {
     "data": {
      "text/plain": [
       "0     True\n",
       "1    False\n",
       "2    False\n",
       "3    False\n",
       "4    False\n",
       "5    False\n",
       "6    False\n",
       "Name: rfc, dtype: bool"
      ]
     },
     "execution_count": 1,
     "metadata": {},
     "output_type": "execute_result"
    }
   ],
   "source": [
    "validate_mx_rfc(df[\"rfc\"])"
   ]
  },
  {
   "cell_type": "markdown",
   "id": "constitutional-sequence",
   "metadata": {},
   "source": [
    "### DataFrame + Specify Column"
   ]
  },
  {
   "cell_type": "code",
   "execution_count": 10,
   "id": "disabled-trigger",
   "metadata": {
    "execution": {
     "iopub.execute_input": "2021-11-01T18:55:49.643283Z",
     "iopub.status.busy": "2021-11-01T18:55:49.642669Z",
     "iopub.status.idle": "2021-11-01T18:55:49.645491Z",
     "shell.execute_reply": "2021-11-01T18:55:49.646048Z"
    }
   },
   "outputs": [
    {
     "data": {
      "text/plain": [
       "0     True\n",
       "1    False\n",
       "2    False\n",
       "3    False\n",
       "4    False\n",
       "5    False\n",
       "6    False\n",
       "Name: rfc, dtype: bool"
      ]
     },
     "execution_count": 1,
     "metadata": {},
     "output_type": "execute_result"
    }
   ],
   "source": [
    "validate_mx_rfc(df, column=\"rfc\")"
   ]
  },
  {
   "cell_type": "markdown",
   "id": "stupid-tokyo",
   "metadata": {},
   "source": [
    "### Only DataFrame"
   ]
  },
  {
   "cell_type": "code",
   "execution_count": 11,
   "id": "likely-hearts",
   "metadata": {
    "execution": {
     "iopub.execute_input": "2021-11-01T18:55:49.650226Z",
     "iopub.status.busy": "2021-11-01T18:55:49.649618Z",
     "iopub.status.idle": "2021-11-01T18:55:49.659103Z",
     "shell.execute_reply": "2021-11-01T18:55:49.658611Z"
    }
   },
   "outputs": [
    {
     "data": {
      "text/html": [
       "<div>\n",
       "<style scoped>\n",
       "    .dataframe tbody tr th:only-of-type {\n",
       "        vertical-align: middle;\n",
       "    }\n",
       "\n",
       "    .dataframe tbody tr th {\n",
       "        vertical-align: top;\n",
       "    }\n",
       "\n",
       "    .dataframe thead th {\n",
       "        text-align: right;\n",
       "    }\n",
       "</style>\n",
       "<table border=\"1\" class=\"dataframe\">\n",
       "  <thead>\n",
       "    <tr style=\"text-align: right;\">\n",
       "      <th></th>\n",
       "      <th>rfc</th>\n",
       "      <th>address</th>\n",
       "    </tr>\n",
       "  </thead>\n",
       "  <tbody>\n",
       "    <tr>\n",
       "      <th>0</th>\n",
       "      <td>True</td>\n",
       "      <td>False</td>\n",
       "    </tr>\n",
       "    <tr>\n",
       "      <th>1</th>\n",
       "      <td>False</td>\n",
       "      <td>False</td>\n",
       "    </tr>\n",
       "    <tr>\n",
       "      <th>2</th>\n",
       "      <td>False</td>\n",
       "      <td>False</td>\n",
       "    </tr>\n",
       "    <tr>\n",
       "      <th>3</th>\n",
       "      <td>False</td>\n",
       "      <td>False</td>\n",
       "    </tr>\n",
       "    <tr>\n",
       "      <th>4</th>\n",
       "      <td>False</td>\n",
       "      <td>False</td>\n",
       "    </tr>\n",
       "    <tr>\n",
       "      <th>5</th>\n",
       "      <td>False</td>\n",
       "      <td>False</td>\n",
       "    </tr>\n",
       "    <tr>\n",
       "      <th>6</th>\n",
       "      <td>False</td>\n",
       "      <td>False</td>\n",
       "    </tr>\n",
       "  </tbody>\n",
       "</table>\n",
       "</div>"
      ],
      "text/plain": [
       "     rfc  address\n",
       "0   True    False\n",
       "1  False    False\n",
       "2  False    False\n",
       "3  False    False\n",
       "4  False    False\n",
       "5  False    False\n",
       "6  False    False"
      ]
     },
     "execution_count": 1,
     "metadata": {},
     "output_type": "execute_result"
    }
   ],
   "source": [
    "validate_mx_rfc(df)"
   ]
  },
  {
   "cell_type": "code",
   "execution_count": null,
   "id": "postal-twist",
   "metadata": {},
   "outputs": [],
   "source": []
  }
 ],
 "metadata": {
  "kernelspec": {
   "display_name": "Python 3",
   "language": "python",
   "name": "python3"
  },
  "language_info": {
   "codemirror_mode": {
    "name": "ipython",
    "version": 3
   },
   "file_extension": ".py",
   "mimetype": "text/x-python",
   "name": "python",
   "nbconvert_exporter": "python",
   "pygments_lexer": "ipython3",
   "version": "3.8.10"
  }
 },
 "nbformat": 4,
 "nbformat_minor": 5
}
