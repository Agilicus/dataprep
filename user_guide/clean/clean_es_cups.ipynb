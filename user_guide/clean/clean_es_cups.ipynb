{
 "cells": [
  {
   "cell_type": "raw",
   "id": "informed-fireplace",
   "metadata": {},
   "source": [
    ".. _cups_userguide:\n",
    "\n",
    "Spanish Meter Point Numbers\n",
    "==========================="
   ]
  },
  {
   "cell_type": "raw",
   "id": "focused-brake",
   "metadata": {},
   "source": [
    "Introduction\n",
    "------------\n",
    "\n",
    "The function :func:`clean_es_cups() <dataprep.clean.clean_es_cups.clean_es_cups>` cleans a column containing Spanish meter point number (CUPS) strings, and standardizes them in a given format. The function :func:`validate_es_cups() <dataprep.clean.clean_es_cups.validate_es_cups>` validates either a single CUPS strings, a column of CUPS strings or a DataFrame of CUPS strings, returning `True` if the value is valid, and `False` otherwise."
   ]
  },
  {
   "cell_type": "markdown",
   "id": "following-patch",
   "metadata": {},
   "source": [
    "CUPS strings can be converted to the following formats via the `output_format` parameter:\n",
    "\n",
    "* `compact`: only number strings without any seperators or whitespace, like \"ES1234123456789012JY1F\"\n",
    "* `standard`: CUPS strings with proper whitespace in the proper places, like \"ES 1234 1234 5678 9012 JY 1F\"\n",
    "\n",
    "Invalid parsing is handled with the `errors` parameter:\n",
    "\n",
    "* `coerce` (default): invalid parsing will be set to NaN\n",
    "* `ignore`: invalid parsing will return the input\n",
    "* `raise`: invalid parsing will raise an exception\n",
    "\n",
    "The following sections demonstrate the functionality of `clean_es_cups()` and `validate_es_cups()`. "
   ]
  },
  {
   "cell_type": "markdown",
   "id": "affecting-intranet",
   "metadata": {},
   "source": [
    "### An example dataset containing CUPS strings"
   ]
  },
  {
   "cell_type": "code",
   "execution_count": 1,
   "id": "intensive-genius",
   "metadata": {
    "execution": {
     "iopub.execute_input": "2021-11-02T21:28:10.993327Z",
     "iopub.status.busy": "2021-11-02T21:28:10.992823Z",
     "iopub.status.idle": "2021-11-02T21:28:11.181011Z",
     "shell.execute_reply": "2021-11-02T21:28:11.180549Z"
    }
   },
   "outputs": [
    {
     "data": {
      "text/html": [
       "<div>\n",
       "<style scoped>\n",
       "    .dataframe tbody tr th:only-of-type {\n",
       "        vertical-align: middle;\n",
       "    }\n",
       "\n",
       "    .dataframe tbody tr th {\n",
       "        vertical-align: top;\n",
       "    }\n",
       "\n",
       "    .dataframe thead th {\n",
       "        text-align: right;\n",
       "    }\n",
       "</style>\n",
       "<table border=\"1\" class=\"dataframe\">\n",
       "  <thead>\n",
       "    <tr style=\"text-align: right;\">\n",
       "      <th></th>\n",
       "      <th>cups</th>\n",
       "      <th>address</th>\n",
       "    </tr>\n",
       "  </thead>\n",
       "  <tbody>\n",
       "    <tr>\n",
       "      <th>0</th>\n",
       "      <td>ES1234123456789012JY1F</td>\n",
       "      <td>123 Pine Ave.</td>\n",
       "    </tr>\n",
       "    <tr>\n",
       "      <th>1</th>\n",
       "      <td>ES 1234-123456789012-XY 1F</td>\n",
       "      <td>main st</td>\n",
       "    </tr>\n",
       "    <tr>\n",
       "      <th>2</th>\n",
       "      <td>51824753556</td>\n",
       "      <td>1234 west main heights 57033</td>\n",
       "    </tr>\n",
       "    <tr>\n",
       "      <th>3</th>\n",
       "      <td>51 824 753 556</td>\n",
       "      <td>apt 1 789 s maple rd manhattan</td>\n",
       "    </tr>\n",
       "    <tr>\n",
       "      <th>4</th>\n",
       "      <td>hello</td>\n",
       "      <td>robie house, 789 north main street</td>\n",
       "    </tr>\n",
       "    <tr>\n",
       "      <th>5</th>\n",
       "      <td>NaN</td>\n",
       "      <td>(staples center) 1111 S Figueroa St, Los Angeles</td>\n",
       "    </tr>\n",
       "    <tr>\n",
       "      <th>6</th>\n",
       "      <td>NULL</td>\n",
       "      <td>hello</td>\n",
       "    </tr>\n",
       "  </tbody>\n",
       "</table>\n",
       "</div>"
      ],
      "text/plain": [
       "                         cups  \\\n",
       "0      ES1234123456789012JY1F   \n",
       "1  ES 1234-123456789012-XY 1F   \n",
       "2                 51824753556   \n",
       "3              51 824 753 556   \n",
       "4                       hello   \n",
       "5                         NaN   \n",
       "6                        NULL   \n",
       "\n",
       "                                            address  \n",
       "0                                     123 Pine Ave.  \n",
       "1                                           main st  \n",
       "2                      1234 west main heights 57033  \n",
       "3                    apt 1 789 s maple rd manhattan  \n",
       "4                robie house, 789 north main street  \n",
       "5  (staples center) 1111 S Figueroa St, Los Angeles  \n",
       "6                                             hello  "
      ]
     },
     "execution_count": 1,
     "metadata": {},
     "output_type": "execute_result"
    }
   ],
   "source": [
    "import pandas as pd\n",
    "import numpy as np\n",
    "df = pd.DataFrame(\n",
    "    {\n",
    "        \"cups\": [\n",
    "            \"ES1234123456789012JY1F\",\n",
    "            \"ES 1234-123456789012-XY 1F\",\n",
    "            \"51824753556\",\n",
    "            \"51 824 753 556\",\n",
    "            \"hello\",\n",
    "            np.nan,\n",
    "            \"NULL\"\n",
    "        ], \n",
    "        \"address\": [\n",
    "            \"123 Pine Ave.\",\n",
    "            \"main st\",\n",
    "            \"1234 west main heights 57033\",\n",
    "            \"apt 1 789 s maple rd manhattan\",\n",
    "            \"robie house, 789 north main street\",\n",
    "            \"(staples center) 1111 S Figueroa St, Los Angeles\",\n",
    "            \"hello\",\n",
    "        ]\n",
    "    }\n",
    ")\n",
    "df"
   ]
  },
  {
   "cell_type": "markdown",
   "id": "flexible-island",
   "metadata": {},
   "source": [
    "## 1. Default `clean_es_cups`\n",
    "\n",
    "By default, `clean_es_cups` will clean cups strings and output them in the standard format with proper separators."
   ]
  },
  {
   "cell_type": "code",
   "execution_count": 2,
   "id": "continuous-instruction",
   "metadata": {
    "execution": {
     "iopub.execute_input": "2021-11-02T21:28:11.184337Z",
     "iopub.status.busy": "2021-11-02T21:28:11.183841Z",
     "iopub.status.idle": "2021-11-02T21:28:11.636046Z",
     "shell.execute_reply": "2021-11-02T21:28:11.635663Z"
    }
   },
   "outputs": [
    {
     "data": {
      "text/html": [
       "<div>\n",
       "<style scoped>\n",
       "    .dataframe tbody tr th:only-of-type {\n",
       "        vertical-align: middle;\n",
       "    }\n",
       "\n",
       "    .dataframe tbody tr th {\n",
       "        vertical-align: top;\n",
       "    }\n",
       "\n",
       "    .dataframe thead th {\n",
       "        text-align: right;\n",
       "    }\n",
       "</style>\n",
       "<table border=\"1\" class=\"dataframe\">\n",
       "  <thead>\n",
       "    <tr style=\"text-align: right;\">\n",
       "      <th></th>\n",
       "      <th>cups</th>\n",
       "      <th>address</th>\n",
       "      <th>cups_clean</th>\n",
       "    </tr>\n",
       "  </thead>\n",
       "  <tbody>\n",
       "    <tr>\n",
       "      <th>0</th>\n",
       "      <td>ES1234123456789012JY1F</td>\n",
       "      <td>123 Pine Ave.</td>\n",
       "      <td>ES 1234 1234 5678 9012 JY 1F</td>\n",
       "    </tr>\n",
       "    <tr>\n",
       "      <th>1</th>\n",
       "      <td>ES 1234-123456789012-XY 1F</td>\n",
       "      <td>main st</td>\n",
       "      <td>NaN</td>\n",
       "    </tr>\n",
       "    <tr>\n",
       "      <th>2</th>\n",
       "      <td>51824753556</td>\n",
       "      <td>1234 west main heights 57033</td>\n",
       "      <td>NaN</td>\n",
       "    </tr>\n",
       "    <tr>\n",
       "      <th>3</th>\n",
       "      <td>51 824 753 556</td>\n",
       "      <td>apt 1 789 s maple rd manhattan</td>\n",
       "      <td>NaN</td>\n",
       "    </tr>\n",
       "    <tr>\n",
       "      <th>4</th>\n",
       "      <td>hello</td>\n",
       "      <td>robie house, 789 north main street</td>\n",
       "      <td>NaN</td>\n",
       "    </tr>\n",
       "    <tr>\n",
       "      <th>5</th>\n",
       "      <td>NaN</td>\n",
       "      <td>(staples center) 1111 S Figueroa St, Los Angeles</td>\n",
       "      <td>NaN</td>\n",
       "    </tr>\n",
       "    <tr>\n",
       "      <th>6</th>\n",
       "      <td>NULL</td>\n",
       "      <td>hello</td>\n",
       "      <td>NaN</td>\n",
       "    </tr>\n",
       "  </tbody>\n",
       "</table>\n",
       "</div>"
      ],
      "text/plain": [
       "                         cups  \\\n",
       "0      ES1234123456789012JY1F   \n",
       "1  ES 1234-123456789012-XY 1F   \n",
       "2                 51824753556   \n",
       "3              51 824 753 556   \n",
       "4                       hello   \n",
       "5                         NaN   \n",
       "6                        NULL   \n",
       "\n",
       "                                            address  \\\n",
       "0                                     123 Pine Ave.   \n",
       "1                                           main st   \n",
       "2                      1234 west main heights 57033   \n",
       "3                    apt 1 789 s maple rd manhattan   \n",
       "4                robie house, 789 north main street   \n",
       "5  (staples center) 1111 S Figueroa St, Los Angeles   \n",
       "6                                             hello   \n",
       "\n",
       "                     cups_clean  \n",
       "0  ES 1234 1234 5678 9012 JY 1F  \n",
       "1                           NaN  \n",
       "2                           NaN  \n",
       "3                           NaN  \n",
       "4                           NaN  \n",
       "5                           NaN  \n",
       "6                           NaN  "
      ]
     },
     "execution_count": 1,
     "metadata": {},
     "output_type": "execute_result"
    }
   ],
   "source": [
    "from dataprep.clean import clean_es_cups\n",
    "clean_es_cups(df, column = \"cups\")"
   ]
  },
  {
   "cell_type": "markdown",
   "id": "tamil-timing",
   "metadata": {},
   "source": [
    "## 2. Output formats"
   ]
  },
  {
   "cell_type": "markdown",
   "id": "fatty-secretariat",
   "metadata": {},
   "source": [
    "This section demonstrates the output parameter."
   ]
  },
  {
   "cell_type": "markdown",
   "id": "commercial-amateur",
   "metadata": {},
   "source": [
    "### `standard` (default)"
   ]
  },
  {
   "cell_type": "code",
   "execution_count": 3,
   "id": "opening-questionnaire",
   "metadata": {
    "execution": {
     "iopub.execute_input": "2021-11-02T21:28:11.653445Z",
     "iopub.status.busy": "2021-11-02T21:28:11.653054Z",
     "iopub.status.idle": "2021-11-02T21:28:11.661778Z",
     "shell.execute_reply": "2021-11-02T21:28:11.661441Z"
    }
   },
   "outputs": [
    {
     "data": {
      "text/html": [
       "<div>\n",
       "<style scoped>\n",
       "    .dataframe tbody tr th:only-of-type {\n",
       "        vertical-align: middle;\n",
       "    }\n",
       "\n",
       "    .dataframe tbody tr th {\n",
       "        vertical-align: top;\n",
       "    }\n",
       "\n",
       "    .dataframe thead th {\n",
       "        text-align: right;\n",
       "    }\n",
       "</style>\n",
       "<table border=\"1\" class=\"dataframe\">\n",
       "  <thead>\n",
       "    <tr style=\"text-align: right;\">\n",
       "      <th></th>\n",
       "      <th>cups</th>\n",
       "      <th>address</th>\n",
       "      <th>cups_clean</th>\n",
       "    </tr>\n",
       "  </thead>\n",
       "  <tbody>\n",
       "    <tr>\n",
       "      <th>0</th>\n",
       "      <td>ES1234123456789012JY1F</td>\n",
       "      <td>123 Pine Ave.</td>\n",
       "      <td>ES 1234 1234 5678 9012 JY 1F</td>\n",
       "    </tr>\n",
       "    <tr>\n",
       "      <th>1</th>\n",
       "      <td>ES 1234-123456789012-XY 1F</td>\n",
       "      <td>main st</td>\n",
       "      <td>NaN</td>\n",
       "    </tr>\n",
       "    <tr>\n",
       "      <th>2</th>\n",
       "      <td>51824753556</td>\n",
       "      <td>1234 west main heights 57033</td>\n",
       "      <td>NaN</td>\n",
       "    </tr>\n",
       "    <tr>\n",
       "      <th>3</th>\n",
       "      <td>51 824 753 556</td>\n",
       "      <td>apt 1 789 s maple rd manhattan</td>\n",
       "      <td>NaN</td>\n",
       "    </tr>\n",
       "    <tr>\n",
       "      <th>4</th>\n",
       "      <td>hello</td>\n",
       "      <td>robie house, 789 north main street</td>\n",
       "      <td>NaN</td>\n",
       "    </tr>\n",
       "    <tr>\n",
       "      <th>5</th>\n",
       "      <td>NaN</td>\n",
       "      <td>(staples center) 1111 S Figueroa St, Los Angeles</td>\n",
       "      <td>NaN</td>\n",
       "    </tr>\n",
       "    <tr>\n",
       "      <th>6</th>\n",
       "      <td>NULL</td>\n",
       "      <td>hello</td>\n",
       "      <td>NaN</td>\n",
       "    </tr>\n",
       "  </tbody>\n",
       "</table>\n",
       "</div>"
      ],
      "text/plain": [
       "                         cups  \\\n",
       "0      ES1234123456789012JY1F   \n",
       "1  ES 1234-123456789012-XY 1F   \n",
       "2                 51824753556   \n",
       "3              51 824 753 556   \n",
       "4                       hello   \n",
       "5                         NaN   \n",
       "6                        NULL   \n",
       "\n",
       "                                            address  \\\n",
       "0                                     123 Pine Ave.   \n",
       "1                                           main st   \n",
       "2                      1234 west main heights 57033   \n",
       "3                    apt 1 789 s maple rd manhattan   \n",
       "4                robie house, 789 north main street   \n",
       "5  (staples center) 1111 S Figueroa St, Los Angeles   \n",
       "6                                             hello   \n",
       "\n",
       "                     cups_clean  \n",
       "0  ES 1234 1234 5678 9012 JY 1F  \n",
       "1                           NaN  \n",
       "2                           NaN  \n",
       "3                           NaN  \n",
       "4                           NaN  \n",
       "5                           NaN  \n",
       "6                           NaN  "
      ]
     },
     "execution_count": 1,
     "metadata": {},
     "output_type": "execute_result"
    }
   ],
   "source": [
    "clean_es_cups(df, column = \"cups\", output_format=\"standard\")"
   ]
  },
  {
   "cell_type": "markdown",
   "id": "collective-knowing",
   "metadata": {},
   "source": [
    "### `compact`"
   ]
  },
  {
   "cell_type": "code",
   "execution_count": 4,
   "id": "naked-leonard",
   "metadata": {
    "execution": {
     "iopub.execute_input": "2021-11-02T21:28:11.680953Z",
     "iopub.status.busy": "2021-11-02T21:28:11.680563Z",
     "iopub.status.idle": "2021-11-02T21:28:11.688580Z",
     "shell.execute_reply": "2021-11-02T21:28:11.688251Z"
    }
   },
   "outputs": [
    {
     "data": {
      "text/html": [
       "<div>\n",
       "<style scoped>\n",
       "    .dataframe tbody tr th:only-of-type {\n",
       "        vertical-align: middle;\n",
       "    }\n",
       "\n",
       "    .dataframe tbody tr th {\n",
       "        vertical-align: top;\n",
       "    }\n",
       "\n",
       "    .dataframe thead th {\n",
       "        text-align: right;\n",
       "    }\n",
       "</style>\n",
       "<table border=\"1\" class=\"dataframe\">\n",
       "  <thead>\n",
       "    <tr style=\"text-align: right;\">\n",
       "      <th></th>\n",
       "      <th>cups</th>\n",
       "      <th>address</th>\n",
       "      <th>cups_clean</th>\n",
       "    </tr>\n",
       "  </thead>\n",
       "  <tbody>\n",
       "    <tr>\n",
       "      <th>0</th>\n",
       "      <td>ES1234123456789012JY1F</td>\n",
       "      <td>123 Pine Ave.</td>\n",
       "      <td>ES1234123456789012JY1F</td>\n",
       "    </tr>\n",
       "    <tr>\n",
       "      <th>1</th>\n",
       "      <td>ES 1234-123456789012-XY 1F</td>\n",
       "      <td>main st</td>\n",
       "      <td>NaN</td>\n",
       "    </tr>\n",
       "    <tr>\n",
       "      <th>2</th>\n",
       "      <td>51824753556</td>\n",
       "      <td>1234 west main heights 57033</td>\n",
       "      <td>NaN</td>\n",
       "    </tr>\n",
       "    <tr>\n",
       "      <th>3</th>\n",
       "      <td>51 824 753 556</td>\n",
       "      <td>apt 1 789 s maple rd manhattan</td>\n",
       "      <td>NaN</td>\n",
       "    </tr>\n",
       "    <tr>\n",
       "      <th>4</th>\n",
       "      <td>hello</td>\n",
       "      <td>robie house, 789 north main street</td>\n",
       "      <td>NaN</td>\n",
       "    </tr>\n",
       "    <tr>\n",
       "      <th>5</th>\n",
       "      <td>NaN</td>\n",
       "      <td>(staples center) 1111 S Figueroa St, Los Angeles</td>\n",
       "      <td>NaN</td>\n",
       "    </tr>\n",
       "    <tr>\n",
       "      <th>6</th>\n",
       "      <td>NULL</td>\n",
       "      <td>hello</td>\n",
       "      <td>NaN</td>\n",
       "    </tr>\n",
       "  </tbody>\n",
       "</table>\n",
       "</div>"
      ],
      "text/plain": [
       "                         cups  \\\n",
       "0      ES1234123456789012JY1F   \n",
       "1  ES 1234-123456789012-XY 1F   \n",
       "2                 51824753556   \n",
       "3              51 824 753 556   \n",
       "4                       hello   \n",
       "5                         NaN   \n",
       "6                        NULL   \n",
       "\n",
       "                                            address              cups_clean  \n",
       "0                                     123 Pine Ave.  ES1234123456789012JY1F  \n",
       "1                                           main st                     NaN  \n",
       "2                      1234 west main heights 57033                     NaN  \n",
       "3                    apt 1 789 s maple rd manhattan                     NaN  \n",
       "4                robie house, 789 north main street                     NaN  \n",
       "5  (staples center) 1111 S Figueroa St, Los Angeles                     NaN  \n",
       "6                                             hello                     NaN  "
      ]
     },
     "execution_count": 1,
     "metadata": {},
     "output_type": "execute_result"
    }
   ],
   "source": [
    "clean_es_cups(df, column = \"cups\", output_format=\"compact\")"
   ]
  },
  {
   "cell_type": "markdown",
   "id": "organizational-machinery",
   "metadata": {},
   "source": [
    "## 3. `inplace` parameter\n",
    "\n",
    "This deletes the given column from the returned DataFrame. \n",
    "A new column containing cleaned CUPS strings is added with a title in the format `\"{original title}_clean\"`."
   ]
  },
  {
   "cell_type": "code",
   "execution_count": 5,
   "id": "talented-float",
   "metadata": {
    "execution": {
     "iopub.execute_input": "2021-11-02T21:28:11.715540Z",
     "iopub.status.busy": "2021-11-02T21:28:11.710824Z",
     "iopub.status.idle": "2021-11-02T21:28:11.722035Z",
     "shell.execute_reply": "2021-11-02T21:28:11.722364Z"
    }
   },
   "outputs": [
    {
     "data": {
      "text/html": [
       "<div>\n",
       "<style scoped>\n",
       "    .dataframe tbody tr th:only-of-type {\n",
       "        vertical-align: middle;\n",
       "    }\n",
       "\n",
       "    .dataframe tbody tr th {\n",
       "        vertical-align: top;\n",
       "    }\n",
       "\n",
       "    .dataframe thead th {\n",
       "        text-align: right;\n",
       "    }\n",
       "</style>\n",
       "<table border=\"1\" class=\"dataframe\">\n",
       "  <thead>\n",
       "    <tr style=\"text-align: right;\">\n",
       "      <th></th>\n",
       "      <th>cups_clean</th>\n",
       "      <th>address</th>\n",
       "    </tr>\n",
       "  </thead>\n",
       "  <tbody>\n",
       "    <tr>\n",
       "      <th>0</th>\n",
       "      <td>ES 1234 1234 5678 9012 JY 1F</td>\n",
       "      <td>123 Pine Ave.</td>\n",
       "    </tr>\n",
       "    <tr>\n",
       "      <th>1</th>\n",
       "      <td>NaN</td>\n",
       "      <td>main st</td>\n",
       "    </tr>\n",
       "    <tr>\n",
       "      <th>2</th>\n",
       "      <td>NaN</td>\n",
       "      <td>1234 west main heights 57033</td>\n",
       "    </tr>\n",
       "    <tr>\n",
       "      <th>3</th>\n",
       "      <td>NaN</td>\n",
       "      <td>apt 1 789 s maple rd manhattan</td>\n",
       "    </tr>\n",
       "    <tr>\n",
       "      <th>4</th>\n",
       "      <td>NaN</td>\n",
       "      <td>robie house, 789 north main street</td>\n",
       "    </tr>\n",
       "    <tr>\n",
       "      <th>5</th>\n",
       "      <td>NaN</td>\n",
       "      <td>(staples center) 1111 S Figueroa St, Los Angeles</td>\n",
       "    </tr>\n",
       "    <tr>\n",
       "      <th>6</th>\n",
       "      <td>NaN</td>\n",
       "      <td>hello</td>\n",
       "    </tr>\n",
       "  </tbody>\n",
       "</table>\n",
       "</div>"
      ],
      "text/plain": [
       "                     cups_clean  \\\n",
       "0  ES 1234 1234 5678 9012 JY 1F   \n",
       "1                           NaN   \n",
       "2                           NaN   \n",
       "3                           NaN   \n",
       "4                           NaN   \n",
       "5                           NaN   \n",
       "6                           NaN   \n",
       "\n",
       "                                            address  \n",
       "0                                     123 Pine Ave.  \n",
       "1                                           main st  \n",
       "2                      1234 west main heights 57033  \n",
       "3                    apt 1 789 s maple rd manhattan  \n",
       "4                robie house, 789 north main street  \n",
       "5  (staples center) 1111 S Figueroa St, Los Angeles  \n",
       "6                                             hello  "
      ]
     },
     "execution_count": 1,
     "metadata": {},
     "output_type": "execute_result"
    }
   ],
   "source": [
    "clean_es_cups(df, column=\"cups\", inplace=True)"
   ]
  },
  {
   "cell_type": "markdown",
   "id": "dangerous-privilege",
   "metadata": {},
   "source": [
    "## 4. `errors` parameter"
   ]
  },
  {
   "cell_type": "markdown",
   "id": "hairy-correspondence",
   "metadata": {},
   "source": [
    "### `coerce` (default)"
   ]
  },
  {
   "cell_type": "code",
   "execution_count": 6,
   "id": "north-transsexual",
   "metadata": {
    "execution": {
     "iopub.execute_input": "2021-11-02T21:28:11.739233Z",
     "iopub.status.busy": "2021-11-02T21:28:11.737247Z",
     "iopub.status.idle": "2021-11-02T21:28:11.747730Z",
     "shell.execute_reply": "2021-11-02T21:28:11.748062Z"
    }
   },
   "outputs": [
    {
     "data": {
      "text/html": [
       "<div>\n",
       "<style scoped>\n",
       "    .dataframe tbody tr th:only-of-type {\n",
       "        vertical-align: middle;\n",
       "    }\n",
       "\n",
       "    .dataframe tbody tr th {\n",
       "        vertical-align: top;\n",
       "    }\n",
       "\n",
       "    .dataframe thead th {\n",
       "        text-align: right;\n",
       "    }\n",
       "</style>\n",
       "<table border=\"1\" class=\"dataframe\">\n",
       "  <thead>\n",
       "    <tr style=\"text-align: right;\">\n",
       "      <th></th>\n",
       "      <th>cups</th>\n",
       "      <th>address</th>\n",
       "      <th>cups_clean</th>\n",
       "    </tr>\n",
       "  </thead>\n",
       "  <tbody>\n",
       "    <tr>\n",
       "      <th>0</th>\n",
       "      <td>ES1234123456789012JY1F</td>\n",
       "      <td>123 Pine Ave.</td>\n",
       "      <td>ES 1234 1234 5678 9012 JY 1F</td>\n",
       "    </tr>\n",
       "    <tr>\n",
       "      <th>1</th>\n",
       "      <td>ES 1234-123456789012-XY 1F</td>\n",
       "      <td>main st</td>\n",
       "      <td>NaN</td>\n",
       "    </tr>\n",
       "    <tr>\n",
       "      <th>2</th>\n",
       "      <td>51824753556</td>\n",
       "      <td>1234 west main heights 57033</td>\n",
       "      <td>NaN</td>\n",
       "    </tr>\n",
       "    <tr>\n",
       "      <th>3</th>\n",
       "      <td>51 824 753 556</td>\n",
       "      <td>apt 1 789 s maple rd manhattan</td>\n",
       "      <td>NaN</td>\n",
       "    </tr>\n",
       "    <tr>\n",
       "      <th>4</th>\n",
       "      <td>hello</td>\n",
       "      <td>robie house, 789 north main street</td>\n",
       "      <td>NaN</td>\n",
       "    </tr>\n",
       "    <tr>\n",
       "      <th>5</th>\n",
       "      <td>NaN</td>\n",
       "      <td>(staples center) 1111 S Figueroa St, Los Angeles</td>\n",
       "      <td>NaN</td>\n",
       "    </tr>\n",
       "    <tr>\n",
       "      <th>6</th>\n",
       "      <td>NULL</td>\n",
       "      <td>hello</td>\n",
       "      <td>NaN</td>\n",
       "    </tr>\n",
       "  </tbody>\n",
       "</table>\n",
       "</div>"
      ],
      "text/plain": [
       "                         cups  \\\n",
       "0      ES1234123456789012JY1F   \n",
       "1  ES 1234-123456789012-XY 1F   \n",
       "2                 51824753556   \n",
       "3              51 824 753 556   \n",
       "4                       hello   \n",
       "5                         NaN   \n",
       "6                        NULL   \n",
       "\n",
       "                                            address  \\\n",
       "0                                     123 Pine Ave.   \n",
       "1                                           main st   \n",
       "2                      1234 west main heights 57033   \n",
       "3                    apt 1 789 s maple rd manhattan   \n",
       "4                robie house, 789 north main street   \n",
       "5  (staples center) 1111 S Figueroa St, Los Angeles   \n",
       "6                                             hello   \n",
       "\n",
       "                     cups_clean  \n",
       "0  ES 1234 1234 5678 9012 JY 1F  \n",
       "1                           NaN  \n",
       "2                           NaN  \n",
       "3                           NaN  \n",
       "4                           NaN  \n",
       "5                           NaN  \n",
       "6                           NaN  "
      ]
     },
     "execution_count": 1,
     "metadata": {},
     "output_type": "execute_result"
    }
   ],
   "source": [
    "clean_es_cups(df, \"cups\", errors=\"coerce\")"
   ]
  },
  {
   "cell_type": "markdown",
   "id": "liked-auditor",
   "metadata": {},
   "source": [
    "### `ignore`"
   ]
  },
  {
   "cell_type": "code",
   "execution_count": 7,
   "id": "ideal-pursuit",
   "metadata": {
    "execution": {
     "iopub.execute_input": "2021-11-02T21:28:11.766489Z",
     "iopub.status.busy": "2021-11-02T21:28:11.764391Z",
     "iopub.status.idle": "2021-11-02T21:28:11.773807Z",
     "shell.execute_reply": "2021-11-02T21:28:11.773478Z"
    }
   },
   "outputs": [
    {
     "data": {
      "text/html": [
       "<div>\n",
       "<style scoped>\n",
       "    .dataframe tbody tr th:only-of-type {\n",
       "        vertical-align: middle;\n",
       "    }\n",
       "\n",
       "    .dataframe tbody tr th {\n",
       "        vertical-align: top;\n",
       "    }\n",
       "\n",
       "    .dataframe thead th {\n",
       "        text-align: right;\n",
       "    }\n",
       "</style>\n",
       "<table border=\"1\" class=\"dataframe\">\n",
       "  <thead>\n",
       "    <tr style=\"text-align: right;\">\n",
       "      <th></th>\n",
       "      <th>cups</th>\n",
       "      <th>address</th>\n",
       "      <th>cups_clean</th>\n",
       "    </tr>\n",
       "  </thead>\n",
       "  <tbody>\n",
       "    <tr>\n",
       "      <th>0</th>\n",
       "      <td>ES1234123456789012JY1F</td>\n",
       "      <td>123 Pine Ave.</td>\n",
       "      <td>ES 1234 1234 5678 9012 JY 1F</td>\n",
       "    </tr>\n",
       "    <tr>\n",
       "      <th>1</th>\n",
       "      <td>ES 1234-123456789012-XY 1F</td>\n",
       "      <td>main st</td>\n",
       "      <td>ES 1234-123456789012-XY 1F</td>\n",
       "    </tr>\n",
       "    <tr>\n",
       "      <th>2</th>\n",
       "      <td>51824753556</td>\n",
       "      <td>1234 west main heights 57033</td>\n",
       "      <td>51824753556</td>\n",
       "    </tr>\n",
       "    <tr>\n",
       "      <th>3</th>\n",
       "      <td>51 824 753 556</td>\n",
       "      <td>apt 1 789 s maple rd manhattan</td>\n",
       "      <td>51 824 753 556</td>\n",
       "    </tr>\n",
       "    <tr>\n",
       "      <th>4</th>\n",
       "      <td>hello</td>\n",
       "      <td>robie house, 789 north main street</td>\n",
       "      <td>hello</td>\n",
       "    </tr>\n",
       "    <tr>\n",
       "      <th>5</th>\n",
       "      <td>NaN</td>\n",
       "      <td>(staples center) 1111 S Figueroa St, Los Angeles</td>\n",
       "      <td>NaN</td>\n",
       "    </tr>\n",
       "    <tr>\n",
       "      <th>6</th>\n",
       "      <td>NULL</td>\n",
       "      <td>hello</td>\n",
       "      <td>NaN</td>\n",
       "    </tr>\n",
       "  </tbody>\n",
       "</table>\n",
       "</div>"
      ],
      "text/plain": [
       "                         cups  \\\n",
       "0      ES1234123456789012JY1F   \n",
       "1  ES 1234-123456789012-XY 1F   \n",
       "2                 51824753556   \n",
       "3              51 824 753 556   \n",
       "4                       hello   \n",
       "5                         NaN   \n",
       "6                        NULL   \n",
       "\n",
       "                                            address  \\\n",
       "0                                     123 Pine Ave.   \n",
       "1                                           main st   \n",
       "2                      1234 west main heights 57033   \n",
       "3                    apt 1 789 s maple rd manhattan   \n",
       "4                robie house, 789 north main street   \n",
       "5  (staples center) 1111 S Figueroa St, Los Angeles   \n",
       "6                                             hello   \n",
       "\n",
       "                     cups_clean  \n",
       "0  ES 1234 1234 5678 9012 JY 1F  \n",
       "1    ES 1234-123456789012-XY 1F  \n",
       "2                   51824753556  \n",
       "3                51 824 753 556  \n",
       "4                         hello  \n",
       "5                           NaN  \n",
       "6                           NaN  "
      ]
     },
     "execution_count": 1,
     "metadata": {},
     "output_type": "execute_result"
    }
   ],
   "source": [
    "clean_es_cups(df, \"cups\", errors=\"ignore\")"
   ]
  },
  {
   "cell_type": "markdown",
   "id": "defined-teaching",
   "metadata": {},
   "source": [
    "## 4. `validate_es_cups()`"
   ]
  },
  {
   "cell_type": "markdown",
   "id": "democratic-scene",
   "metadata": {},
   "source": [
    "`validate_es_cups()` returns `True` when the input is a valid CUPS. Otherwise it returns `False`.\n",
    "\n",
    "The input of `validate_es_cups()` can be a string, a Pandas DataSeries, a Dask DataSeries, a Pandas DataFrame and a dask DataFrame.\n",
    "\n",
    "When the input is a string, a Pandas DataSeries or a Dask DataSeries, user doesn't need to specify a column name to be validated. \n",
    "\n",
    "When the input is a Pandas DataFrame or a dask DataFrame, user can both specify or not specify a column name to be validated. If user specify the column name, `validate_es_cups()` only returns the validation result for the specified column. If user doesn't specify the column name, `validate_es_cups()` returns the validation result for the whole DataFrame."
   ]
  },
  {
   "cell_type": "code",
   "execution_count": 8,
   "id": "every-breakfast",
   "metadata": {
    "execution": {
     "iopub.execute_input": "2021-11-02T21:28:11.777703Z",
     "iopub.status.busy": "2021-11-02T21:28:11.777328Z",
     "iopub.status.idle": "2021-11-02T21:28:11.781128Z",
     "shell.execute_reply": "2021-11-02T21:28:11.780791Z"
    }
   },
   "outputs": [
    {
     "name": "stdout",
     "output_type": "stream",
     "text": [
      "True\n",
      "False\n",
      "False\n",
      "False\n",
      "False\n",
      "False\n",
      "False\n"
     ]
    }
   ],
   "source": [
    "from dataprep.clean import validate_es_cups\n",
    "print(validate_es_cups(\"ES1234123456789012JY1F\"))\n",
    "print(validate_es_cups(\"ES 1234-123456789012-XY 1F\"))\n",
    "print(validate_es_cups(\"51824753556\"))\n",
    "print(validate_es_cups(\"51 824 753 556\"))\n",
    "print(validate_es_cups(\"hello\"))\n",
    "print(validate_es_cups(np.nan))\n",
    "print(validate_es_cups(\"NULL\"))"
   ]
  },
  {
   "cell_type": "markdown",
   "id": "universal-championship",
   "metadata": {},
   "source": [
    "### Series"
   ]
  },
  {
   "cell_type": "code",
   "execution_count": 9,
   "id": "economic-street",
   "metadata": {
    "execution": {
     "iopub.execute_input": "2021-11-02T21:28:11.785291Z",
     "iopub.status.busy": "2021-11-02T21:28:11.784875Z",
     "iopub.status.idle": "2021-11-02T21:28:11.788715Z",
     "shell.execute_reply": "2021-11-02T21:28:11.788385Z"
    }
   },
   "outputs": [
    {
     "data": {
      "text/plain": [
       "0     True\n",
       "1    False\n",
       "2    False\n",
       "3    False\n",
       "4    False\n",
       "5    False\n",
       "6    False\n",
       "Name: cups, dtype: bool"
      ]
     },
     "execution_count": 1,
     "metadata": {},
     "output_type": "execute_result"
    }
   ],
   "source": [
    "validate_es_cups(df[\"cups\"])"
   ]
  },
  {
   "cell_type": "markdown",
   "id": "fatty-swaziland",
   "metadata": {},
   "source": [
    "### DataFrame + Specify Column"
   ]
  },
  {
   "cell_type": "code",
   "execution_count": 10,
   "id": "compound-trout",
   "metadata": {
    "execution": {
     "iopub.execute_input": "2021-11-02T21:28:11.792476Z",
     "iopub.status.busy": "2021-11-02T21:28:11.792099Z",
     "iopub.status.idle": "2021-11-02T21:28:11.795879Z",
     "shell.execute_reply": "2021-11-02T21:28:11.795567Z"
    }
   },
   "outputs": [
    {
     "data": {
      "text/plain": [
       "0     True\n",
       "1    False\n",
       "2    False\n",
       "3    False\n",
       "4    False\n",
       "5    False\n",
       "6    False\n",
       "Name: cups, dtype: bool"
      ]
     },
     "execution_count": 1,
     "metadata": {},
     "output_type": "execute_result"
    }
   ],
   "source": [
    "validate_es_cups(df, column=\"cups\")"
   ]
  },
  {
   "cell_type": "markdown",
   "id": "tamil-southeast",
   "metadata": {},
   "source": [
    "### Only DataFrame"
   ]
  },
  {
   "cell_type": "code",
   "execution_count": 11,
   "id": "casual-russell",
   "metadata": {
    "execution": {
     "iopub.execute_input": "2021-11-02T21:28:11.798351Z",
     "iopub.status.busy": "2021-11-02T21:28:11.797967Z",
     "iopub.status.idle": "2021-11-02T21:28:11.805034Z",
     "shell.execute_reply": "2021-11-02T21:28:11.805311Z"
    },
    "scrolled": true
   },
   "outputs": [
    {
     "data": {
      "text/html": [
       "<div>\n",
       "<style scoped>\n",
       "    .dataframe tbody tr th:only-of-type {\n",
       "        vertical-align: middle;\n",
       "    }\n",
       "\n",
       "    .dataframe tbody tr th {\n",
       "        vertical-align: top;\n",
       "    }\n",
       "\n",
       "    .dataframe thead th {\n",
       "        text-align: right;\n",
       "    }\n",
       "</style>\n",
       "<table border=\"1\" class=\"dataframe\">\n",
       "  <thead>\n",
       "    <tr style=\"text-align: right;\">\n",
       "      <th></th>\n",
       "      <th>cups</th>\n",
       "      <th>address</th>\n",
       "    </tr>\n",
       "  </thead>\n",
       "  <tbody>\n",
       "    <tr>\n",
       "      <th>0</th>\n",
       "      <td>True</td>\n",
       "      <td>False</td>\n",
       "    </tr>\n",
       "    <tr>\n",
       "      <th>1</th>\n",
       "      <td>False</td>\n",
       "      <td>False</td>\n",
       "    </tr>\n",
       "    <tr>\n",
       "      <th>2</th>\n",
       "      <td>False</td>\n",
       "      <td>False</td>\n",
       "    </tr>\n",
       "    <tr>\n",
       "      <th>3</th>\n",
       "      <td>False</td>\n",
       "      <td>False</td>\n",
       "    </tr>\n",
       "    <tr>\n",
       "      <th>4</th>\n",
       "      <td>False</td>\n",
       "      <td>False</td>\n",
       "    </tr>\n",
       "    <tr>\n",
       "      <th>5</th>\n",
       "      <td>False</td>\n",
       "      <td>False</td>\n",
       "    </tr>\n",
       "    <tr>\n",
       "      <th>6</th>\n",
       "      <td>False</td>\n",
       "      <td>False</td>\n",
       "    </tr>\n",
       "  </tbody>\n",
       "</table>\n",
       "</div>"
      ],
      "text/plain": [
       "    cups  address\n",
       "0   True    False\n",
       "1  False    False\n",
       "2  False    False\n",
       "3  False    False\n",
       "4  False    False\n",
       "5  False    False\n",
       "6  False    False"
      ]
     },
     "execution_count": 1,
     "metadata": {},
     "output_type": "execute_result"
    }
   ],
   "source": [
    "validate_es_cups(df)"
   ]
  },
  {
   "cell_type": "code",
   "execution_count": null,
   "id": "abandoned-alexandria",
   "metadata": {},
   "outputs": [],
   "source": []
  }
 ],
 "metadata": {
  "kernelspec": {
   "display_name": "Python 3",
   "language": "python",
   "name": "python3"
  },
  "language_info": {
   "codemirror_mode": {
    "name": "ipython",
    "version": 3
   },
   "file_extension": ".py",
   "mimetype": "text/x-python",
   "name": "python",
   "nbconvert_exporter": "python",
   "pygments_lexer": "ipython3",
   "version": "3.8.10"
  }
 },
 "nbformat": 4,
 "nbformat_minor": 5
}
