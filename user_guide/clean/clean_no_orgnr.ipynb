{
 "cells": [
  {
   "cell_type": "raw",
   "id": "operating-pittsburgh",
   "metadata": {},
   "source": [
    ".. _orgnr_userguide:\n",
    "\n",
    "Orgnr Strings\n",
    "============"
   ]
  },
  {
   "cell_type": "raw",
   "id": "provincial-admission",
   "metadata": {},
   "source": [
    "Introduction\n",
    "------------\n",
    "\n",
    "The function :func:`clean_no_orgnr() <dataprep.clean.clean_no_orgnr.clean_no_orgnr>` cleans a column containing Norwegian organisation number (Orgnr) strings, and standardizes them in a given format. The function :func:`validate_no_orgnr() <dataprep.clean.clean_no_orgnr.validate_no_orgnr>` validates either a single Orgnr strings, a column of Orgnr strings or a DataFrame of Orgnr strings, returning `True` if the value is valid, and `False` otherwise."
   ]
  },
  {
   "cell_type": "markdown",
   "id": "russian-strategy",
   "metadata": {},
   "source": [
    "Orgnr strings can be converted to the following formats via the `output_format` parameter:\n",
    "\n",
    "* `compact`: only number strings without any seperators or whitespace, like \"988077917\"\n",
    "* `standard`: Orgnr strings with proper whitespace in the proper places, like \"988 077 917\"\n",
    "\n",
    "Invalid parsing is handled with the `errors` parameter:\n",
    "\n",
    "* `coerce` (default): invalid parsing will be set to NaN\n",
    "* `ignore`: invalid parsing will return the input\n",
    "* `raise`: invalid parsing will raise an exception\n",
    "\n",
    "The following sections demonstrate the functionality of `clean_no_orgnr()` and `validate_no_orgnr()`. "
   ]
  },
  {
   "cell_type": "markdown",
   "id": "stock-mercury",
   "metadata": {},
   "source": [
    "### An example dataset containing Orgnr strings"
   ]
  },
  {
   "cell_type": "code",
   "execution_count": 1,
   "id": "collaborative-logic",
   "metadata": {
    "execution": {
     "iopub.execute_input": "2021-10-26T23:04:32.006504Z",
     "iopub.status.busy": "2021-10-26T23:04:32.005575Z",
     "iopub.status.idle": "2021-10-26T23:04:32.224001Z",
     "shell.execute_reply": "2021-10-26T23:04:32.223562Z"
    }
   },
   "outputs": [
    {
     "data": {
      "text/html": [
       "<div>\n",
       "<style scoped>\n",
       "    .dataframe tbody tr th:only-of-type {\n",
       "        vertical-align: middle;\n",
       "    }\n",
       "\n",
       "    .dataframe tbody tr th {\n",
       "        vertical-align: top;\n",
       "    }\n",
       "\n",
       "    .dataframe thead th {\n",
       "        text-align: right;\n",
       "    }\n",
       "</style>\n",
       "<table border=\"1\" class=\"dataframe\">\n",
       "  <thead>\n",
       "    <tr style=\"text-align: right;\">\n",
       "      <th></th>\n",
       "      <th>orgnr</th>\n",
       "      <th>address</th>\n",
       "    </tr>\n",
       "  </thead>\n",
       "  <tbody>\n",
       "    <tr>\n",
       "      <th>0</th>\n",
       "      <td>988077917</td>\n",
       "      <td>123 Pine Ave.</td>\n",
       "    </tr>\n",
       "    <tr>\n",
       "      <th>1</th>\n",
       "      <td>988 077 918</td>\n",
       "      <td>main st</td>\n",
       "    </tr>\n",
       "    <tr>\n",
       "      <th>2</th>\n",
       "      <td>51824753556</td>\n",
       "      <td>1234 west main heights 57033</td>\n",
       "    </tr>\n",
       "    <tr>\n",
       "      <th>3</th>\n",
       "      <td>51 824 753 556</td>\n",
       "      <td>apt 1 789 s maple rd manhattan</td>\n",
       "    </tr>\n",
       "    <tr>\n",
       "      <th>4</th>\n",
       "      <td>hello</td>\n",
       "      <td>robie house, 789 north main street</td>\n",
       "    </tr>\n",
       "    <tr>\n",
       "      <th>5</th>\n",
       "      <td>NaN</td>\n",
       "      <td>(staples center) 1111 S Figueroa St, Los Angeles</td>\n",
       "    </tr>\n",
       "    <tr>\n",
       "      <th>6</th>\n",
       "      <td>NULL</td>\n",
       "      <td>hello</td>\n",
       "    </tr>\n",
       "  </tbody>\n",
       "</table>\n",
       "</div>"
      ],
      "text/plain": [
       "            orgnr                                           address\n",
       "0       988077917                                     123 Pine Ave.\n",
       "1     988 077 918                                           main st\n",
       "2     51824753556                      1234 west main heights 57033\n",
       "3  51 824 753 556                    apt 1 789 s maple rd manhattan\n",
       "4           hello                robie house, 789 north main street\n",
       "5             NaN  (staples center) 1111 S Figueroa St, Los Angeles\n",
       "6            NULL                                             hello"
      ]
     },
     "execution_count": 1,
     "metadata": {},
     "output_type": "execute_result"
    }
   ],
   "source": [
    "import pandas as pd\n",
    "import numpy as np\n",
    "df = pd.DataFrame(\n",
    "    {\n",
    "        \"orgnr\": [\n",
    "            \"988077917\",\n",
    "            \"988 077 918\",\n",
    "            \"51824753556\",\n",
    "            \"51 824 753 556\",\n",
    "            \"hello\",\n",
    "            np.nan,\n",
    "            \"NULL\"\n",
    "        ], \n",
    "        \"address\": [\n",
    "            \"123 Pine Ave.\",\n",
    "            \"main st\",\n",
    "            \"1234 west main heights 57033\",\n",
    "            \"apt 1 789 s maple rd manhattan\",\n",
    "            \"robie house, 789 north main street\",\n",
    "            \"(staples center) 1111 S Figueroa St, Los Angeles\",\n",
    "            \"hello\",\n",
    "        ]\n",
    "    }\n",
    ")\n",
    "df"
   ]
  },
  {
   "cell_type": "markdown",
   "id": "mental-effects",
   "metadata": {},
   "source": [
    "## 1. Default `clean_no_orgnr`\n",
    "\n",
    "By default, `clean_no_orgnr` will clean orgnr strings and output them in the standard format with proper separators."
   ]
  },
  {
   "cell_type": "code",
   "execution_count": 2,
   "id": "geographic-sweden",
   "metadata": {
    "execution": {
     "iopub.execute_input": "2021-10-26T23:04:32.227612Z",
     "iopub.status.busy": "2021-10-26T23:04:32.226785Z",
     "iopub.status.idle": "2021-10-26T23:04:32.759390Z",
     "shell.execute_reply": "2021-10-26T23:04:32.759789Z"
    },
    "scrolled": true
   },
   "outputs": [
    {
     "data": {
      "text/html": [
       "<div>\n",
       "<style scoped>\n",
       "    .dataframe tbody tr th:only-of-type {\n",
       "        vertical-align: middle;\n",
       "    }\n",
       "\n",
       "    .dataframe tbody tr th {\n",
       "        vertical-align: top;\n",
       "    }\n",
       "\n",
       "    .dataframe thead th {\n",
       "        text-align: right;\n",
       "    }\n",
       "</style>\n",
       "<table border=\"1\" class=\"dataframe\">\n",
       "  <thead>\n",
       "    <tr style=\"text-align: right;\">\n",
       "      <th></th>\n",
       "      <th>orgnr</th>\n",
       "      <th>address</th>\n",
       "      <th>orgnr_clean</th>\n",
       "    </tr>\n",
       "  </thead>\n",
       "  <tbody>\n",
       "    <tr>\n",
       "      <th>0</th>\n",
       "      <td>988077917</td>\n",
       "      <td>123 Pine Ave.</td>\n",
       "      <td>988 077 917</td>\n",
       "    </tr>\n",
       "    <tr>\n",
       "      <th>1</th>\n",
       "      <td>988 077 918</td>\n",
       "      <td>main st</td>\n",
       "      <td>NaN</td>\n",
       "    </tr>\n",
       "    <tr>\n",
       "      <th>2</th>\n",
       "      <td>51824753556</td>\n",
       "      <td>1234 west main heights 57033</td>\n",
       "      <td>NaN</td>\n",
       "    </tr>\n",
       "    <tr>\n",
       "      <th>3</th>\n",
       "      <td>51 824 753 556</td>\n",
       "      <td>apt 1 789 s maple rd manhattan</td>\n",
       "      <td>NaN</td>\n",
       "    </tr>\n",
       "    <tr>\n",
       "      <th>4</th>\n",
       "      <td>hello</td>\n",
       "      <td>robie house, 789 north main street</td>\n",
       "      <td>NaN</td>\n",
       "    </tr>\n",
       "    <tr>\n",
       "      <th>5</th>\n",
       "      <td>NaN</td>\n",
       "      <td>(staples center) 1111 S Figueroa St, Los Angeles</td>\n",
       "      <td>NaN</td>\n",
       "    </tr>\n",
       "    <tr>\n",
       "      <th>6</th>\n",
       "      <td>NULL</td>\n",
       "      <td>hello</td>\n",
       "      <td>NaN</td>\n",
       "    </tr>\n",
       "  </tbody>\n",
       "</table>\n",
       "</div>"
      ],
      "text/plain": [
       "            orgnr                                           address  \\\n",
       "0       988077917                                     123 Pine Ave.   \n",
       "1     988 077 918                                           main st   \n",
       "2     51824753556                      1234 west main heights 57033   \n",
       "3  51 824 753 556                    apt 1 789 s maple rd manhattan   \n",
       "4           hello                robie house, 789 north main street   \n",
       "5             NaN  (staples center) 1111 S Figueroa St, Los Angeles   \n",
       "6            NULL                                             hello   \n",
       "\n",
       "   orgnr_clean  \n",
       "0  988 077 917  \n",
       "1          NaN  \n",
       "2          NaN  \n",
       "3          NaN  \n",
       "4          NaN  \n",
       "5          NaN  \n",
       "6          NaN  "
      ]
     },
     "execution_count": 1,
     "metadata": {},
     "output_type": "execute_result"
    }
   ],
   "source": [
    "from dataprep.clean import clean_no_orgnr\n",
    "clean_no_orgnr(df, column = \"orgnr\")"
   ]
  },
  {
   "cell_type": "markdown",
   "id": "residential-dayton",
   "metadata": {},
   "source": [
    "## 2. Output formats"
   ]
  },
  {
   "cell_type": "markdown",
   "id": "joined-mercy",
   "metadata": {},
   "source": [
    "This section demonstrates the output parameter."
   ]
  },
  {
   "cell_type": "markdown",
   "id": "suffering-september",
   "metadata": {},
   "source": [
    "### `standard` (default)"
   ]
  },
  {
   "cell_type": "code",
   "execution_count": 3,
   "id": "unable-apple",
   "metadata": {
    "execution": {
     "iopub.execute_input": "2021-10-26T23:04:32.778355Z",
     "iopub.status.busy": "2021-10-26T23:04:32.777010Z",
     "iopub.status.idle": "2021-10-26T23:04:32.788005Z",
     "shell.execute_reply": "2021-10-26T23:04:32.787611Z"
    }
   },
   "outputs": [
    {
     "data": {
      "text/html": [
       "<div>\n",
       "<style scoped>\n",
       "    .dataframe tbody tr th:only-of-type {\n",
       "        vertical-align: middle;\n",
       "    }\n",
       "\n",
       "    .dataframe tbody tr th {\n",
       "        vertical-align: top;\n",
       "    }\n",
       "\n",
       "    .dataframe thead th {\n",
       "        text-align: right;\n",
       "    }\n",
       "</style>\n",
       "<table border=\"1\" class=\"dataframe\">\n",
       "  <thead>\n",
       "    <tr style=\"text-align: right;\">\n",
       "      <th></th>\n",
       "      <th>orgnr</th>\n",
       "      <th>address</th>\n",
       "      <th>orgnr_clean</th>\n",
       "    </tr>\n",
       "  </thead>\n",
       "  <tbody>\n",
       "    <tr>\n",
       "      <th>0</th>\n",
       "      <td>988077917</td>\n",
       "      <td>123 Pine Ave.</td>\n",
       "      <td>988 077 917</td>\n",
       "    </tr>\n",
       "    <tr>\n",
       "      <th>1</th>\n",
       "      <td>988 077 918</td>\n",
       "      <td>main st</td>\n",
       "      <td>NaN</td>\n",
       "    </tr>\n",
       "    <tr>\n",
       "      <th>2</th>\n",
       "      <td>51824753556</td>\n",
       "      <td>1234 west main heights 57033</td>\n",
       "      <td>NaN</td>\n",
       "    </tr>\n",
       "    <tr>\n",
       "      <th>3</th>\n",
       "      <td>51 824 753 556</td>\n",
       "      <td>apt 1 789 s maple rd manhattan</td>\n",
       "      <td>NaN</td>\n",
       "    </tr>\n",
       "    <tr>\n",
       "      <th>4</th>\n",
       "      <td>hello</td>\n",
       "      <td>robie house, 789 north main street</td>\n",
       "      <td>NaN</td>\n",
       "    </tr>\n",
       "    <tr>\n",
       "      <th>5</th>\n",
       "      <td>NaN</td>\n",
       "      <td>(staples center) 1111 S Figueroa St, Los Angeles</td>\n",
       "      <td>NaN</td>\n",
       "    </tr>\n",
       "    <tr>\n",
       "      <th>6</th>\n",
       "      <td>NULL</td>\n",
       "      <td>hello</td>\n",
       "      <td>NaN</td>\n",
       "    </tr>\n",
       "  </tbody>\n",
       "</table>\n",
       "</div>"
      ],
      "text/plain": [
       "            orgnr                                           address  \\\n",
       "0       988077917                                     123 Pine Ave.   \n",
       "1     988 077 918                                           main st   \n",
       "2     51824753556                      1234 west main heights 57033   \n",
       "3  51 824 753 556                    apt 1 789 s maple rd manhattan   \n",
       "4           hello                robie house, 789 north main street   \n",
       "5             NaN  (staples center) 1111 S Figueroa St, Los Angeles   \n",
       "6            NULL                                             hello   \n",
       "\n",
       "   orgnr_clean  \n",
       "0  988 077 917  \n",
       "1          NaN  \n",
       "2          NaN  \n",
       "3          NaN  \n",
       "4          NaN  \n",
       "5          NaN  \n",
       "6          NaN  "
      ]
     },
     "execution_count": 1,
     "metadata": {},
     "output_type": "execute_result"
    }
   ],
   "source": [
    "clean_no_orgnr(df, column = \"orgnr\", output_format=\"standard\")"
   ]
  },
  {
   "cell_type": "markdown",
   "id": "allied-forth",
   "metadata": {},
   "source": [
    "### `compact`"
   ]
  },
  {
   "cell_type": "code",
   "execution_count": 4,
   "id": "innocent-valentine",
   "metadata": {
    "execution": {
     "iopub.execute_input": "2021-10-26T23:04:32.819234Z",
     "iopub.status.busy": "2021-10-26T23:04:32.818720Z",
     "iopub.status.idle": "2021-10-26T23:04:32.823357Z",
     "shell.execute_reply": "2021-10-26T23:04:32.822893Z"
    }
   },
   "outputs": [
    {
     "data": {
      "text/html": [
       "<div>\n",
       "<style scoped>\n",
       "    .dataframe tbody tr th:only-of-type {\n",
       "        vertical-align: middle;\n",
       "    }\n",
       "\n",
       "    .dataframe tbody tr th {\n",
       "        vertical-align: top;\n",
       "    }\n",
       "\n",
       "    .dataframe thead th {\n",
       "        text-align: right;\n",
       "    }\n",
       "</style>\n",
       "<table border=\"1\" class=\"dataframe\">\n",
       "  <thead>\n",
       "    <tr style=\"text-align: right;\">\n",
       "      <th></th>\n",
       "      <th>orgnr</th>\n",
       "      <th>address</th>\n",
       "      <th>orgnr_clean</th>\n",
       "    </tr>\n",
       "  </thead>\n",
       "  <tbody>\n",
       "    <tr>\n",
       "      <th>0</th>\n",
       "      <td>988077917</td>\n",
       "      <td>123 Pine Ave.</td>\n",
       "      <td>988077917</td>\n",
       "    </tr>\n",
       "    <tr>\n",
       "      <th>1</th>\n",
       "      <td>988 077 918</td>\n",
       "      <td>main st</td>\n",
       "      <td>NaN</td>\n",
       "    </tr>\n",
       "    <tr>\n",
       "      <th>2</th>\n",
       "      <td>51824753556</td>\n",
       "      <td>1234 west main heights 57033</td>\n",
       "      <td>NaN</td>\n",
       "    </tr>\n",
       "    <tr>\n",
       "      <th>3</th>\n",
       "      <td>51 824 753 556</td>\n",
       "      <td>apt 1 789 s maple rd manhattan</td>\n",
       "      <td>NaN</td>\n",
       "    </tr>\n",
       "    <tr>\n",
       "      <th>4</th>\n",
       "      <td>hello</td>\n",
       "      <td>robie house, 789 north main street</td>\n",
       "      <td>NaN</td>\n",
       "    </tr>\n",
       "    <tr>\n",
       "      <th>5</th>\n",
       "      <td>NaN</td>\n",
       "      <td>(staples center) 1111 S Figueroa St, Los Angeles</td>\n",
       "      <td>NaN</td>\n",
       "    </tr>\n",
       "    <tr>\n",
       "      <th>6</th>\n",
       "      <td>NULL</td>\n",
       "      <td>hello</td>\n",
       "      <td>NaN</td>\n",
       "    </tr>\n",
       "  </tbody>\n",
       "</table>\n",
       "</div>"
      ],
      "text/plain": [
       "            orgnr                                           address  \\\n",
       "0       988077917                                     123 Pine Ave.   \n",
       "1     988 077 918                                           main st   \n",
       "2     51824753556                      1234 west main heights 57033   \n",
       "3  51 824 753 556                    apt 1 789 s maple rd manhattan   \n",
       "4           hello                robie house, 789 north main street   \n",
       "5             NaN  (staples center) 1111 S Figueroa St, Los Angeles   \n",
       "6            NULL                                             hello   \n",
       "\n",
       "  orgnr_clean  \n",
       "0   988077917  \n",
       "1         NaN  \n",
       "2         NaN  \n",
       "3         NaN  \n",
       "4         NaN  \n",
       "5         NaN  \n",
       "6         NaN  "
      ]
     },
     "execution_count": 1,
     "metadata": {},
     "output_type": "execute_result"
    }
   ],
   "source": [
    "clean_no_orgnr(df, column = \"orgnr\", output_format=\"compact\")"
   ]
  },
  {
   "cell_type": "markdown",
   "id": "abandoned-permission",
   "metadata": {},
   "source": [
    "## 3. `inplace` parameter\n",
    "\n",
    "This deletes the given column from the returned DataFrame. \n",
    "A new column containing cleaned Orgnr strings is added with a title in the format `\"{original title}_clean\"`."
   ]
  },
  {
   "cell_type": "code",
   "execution_count": 5,
   "id": "liquid-spanish",
   "metadata": {
    "execution": {
     "iopub.execute_input": "2021-10-26T23:04:32.856403Z",
     "iopub.status.busy": "2021-10-26T23:04:32.851861Z",
     "iopub.status.idle": "2021-10-26T23:04:32.860794Z",
     "shell.execute_reply": "2021-10-26T23:04:32.859982Z"
    }
   },
   "outputs": [
    {
     "data": {
      "text/html": [
       "<div>\n",
       "<style scoped>\n",
       "    .dataframe tbody tr th:only-of-type {\n",
       "        vertical-align: middle;\n",
       "    }\n",
       "\n",
       "    .dataframe tbody tr th {\n",
       "        vertical-align: top;\n",
       "    }\n",
       "\n",
       "    .dataframe thead th {\n",
       "        text-align: right;\n",
       "    }\n",
       "</style>\n",
       "<table border=\"1\" class=\"dataframe\">\n",
       "  <thead>\n",
       "    <tr style=\"text-align: right;\">\n",
       "      <th></th>\n",
       "      <th>orgnr_clean</th>\n",
       "      <th>address</th>\n",
       "    </tr>\n",
       "  </thead>\n",
       "  <tbody>\n",
       "    <tr>\n",
       "      <th>0</th>\n",
       "      <td>988 077 917</td>\n",
       "      <td>123 Pine Ave.</td>\n",
       "    </tr>\n",
       "    <tr>\n",
       "      <th>1</th>\n",
       "      <td>NaN</td>\n",
       "      <td>main st</td>\n",
       "    </tr>\n",
       "    <tr>\n",
       "      <th>2</th>\n",
       "      <td>NaN</td>\n",
       "      <td>1234 west main heights 57033</td>\n",
       "    </tr>\n",
       "    <tr>\n",
       "      <th>3</th>\n",
       "      <td>NaN</td>\n",
       "      <td>apt 1 789 s maple rd manhattan</td>\n",
       "    </tr>\n",
       "    <tr>\n",
       "      <th>4</th>\n",
       "      <td>NaN</td>\n",
       "      <td>robie house, 789 north main street</td>\n",
       "    </tr>\n",
       "    <tr>\n",
       "      <th>5</th>\n",
       "      <td>NaN</td>\n",
       "      <td>(staples center) 1111 S Figueroa St, Los Angeles</td>\n",
       "    </tr>\n",
       "    <tr>\n",
       "      <th>6</th>\n",
       "      <td>NaN</td>\n",
       "      <td>hello</td>\n",
       "    </tr>\n",
       "  </tbody>\n",
       "</table>\n",
       "</div>"
      ],
      "text/plain": [
       "   orgnr_clean                                           address\n",
       "0  988 077 917                                     123 Pine Ave.\n",
       "1          NaN                                           main st\n",
       "2          NaN                      1234 west main heights 57033\n",
       "3          NaN                    apt 1 789 s maple rd manhattan\n",
       "4          NaN                robie house, 789 north main street\n",
       "5          NaN  (staples center) 1111 S Figueroa St, Los Angeles\n",
       "6          NaN                                             hello"
      ]
     },
     "execution_count": 1,
     "metadata": {},
     "output_type": "execute_result"
    }
   ],
   "source": [
    "clean_no_orgnr(df, column=\"orgnr\", inplace=True)"
   ]
  },
  {
   "cell_type": "markdown",
   "id": "actual-balloon",
   "metadata": {},
   "source": [
    "## 4. `errors` parameter"
   ]
  },
  {
   "cell_type": "markdown",
   "id": "introductory-child",
   "metadata": {},
   "source": [
    "### `coerce` (default)"
   ]
  },
  {
   "cell_type": "code",
   "execution_count": 6,
   "id": "celtic-jacket",
   "metadata": {
    "execution": {
     "iopub.execute_input": "2021-10-26T23:04:32.879596Z",
     "iopub.status.busy": "2021-10-26T23:04:32.876968Z",
     "iopub.status.idle": "2021-10-26T23:04:32.888464Z",
     "shell.execute_reply": "2021-10-26T23:04:32.888054Z"
    }
   },
   "outputs": [
    {
     "data": {
      "text/html": [
       "<div>\n",
       "<style scoped>\n",
       "    .dataframe tbody tr th:only-of-type {\n",
       "        vertical-align: middle;\n",
       "    }\n",
       "\n",
       "    .dataframe tbody tr th {\n",
       "        vertical-align: top;\n",
       "    }\n",
       "\n",
       "    .dataframe thead th {\n",
       "        text-align: right;\n",
       "    }\n",
       "</style>\n",
       "<table border=\"1\" class=\"dataframe\">\n",
       "  <thead>\n",
       "    <tr style=\"text-align: right;\">\n",
       "      <th></th>\n",
       "      <th>orgnr</th>\n",
       "      <th>address</th>\n",
       "      <th>orgnr_clean</th>\n",
       "    </tr>\n",
       "  </thead>\n",
       "  <tbody>\n",
       "    <tr>\n",
       "      <th>0</th>\n",
       "      <td>988077917</td>\n",
       "      <td>123 Pine Ave.</td>\n",
       "      <td>988 077 917</td>\n",
       "    </tr>\n",
       "    <tr>\n",
       "      <th>1</th>\n",
       "      <td>988 077 918</td>\n",
       "      <td>main st</td>\n",
       "      <td>NaN</td>\n",
       "    </tr>\n",
       "    <tr>\n",
       "      <th>2</th>\n",
       "      <td>51824753556</td>\n",
       "      <td>1234 west main heights 57033</td>\n",
       "      <td>NaN</td>\n",
       "    </tr>\n",
       "    <tr>\n",
       "      <th>3</th>\n",
       "      <td>51 824 753 556</td>\n",
       "      <td>apt 1 789 s maple rd manhattan</td>\n",
       "      <td>NaN</td>\n",
       "    </tr>\n",
       "    <tr>\n",
       "      <th>4</th>\n",
       "      <td>hello</td>\n",
       "      <td>robie house, 789 north main street</td>\n",
       "      <td>NaN</td>\n",
       "    </tr>\n",
       "    <tr>\n",
       "      <th>5</th>\n",
       "      <td>NaN</td>\n",
       "      <td>(staples center) 1111 S Figueroa St, Los Angeles</td>\n",
       "      <td>NaN</td>\n",
       "    </tr>\n",
       "    <tr>\n",
       "      <th>6</th>\n",
       "      <td>NULL</td>\n",
       "      <td>hello</td>\n",
       "      <td>NaN</td>\n",
       "    </tr>\n",
       "  </tbody>\n",
       "</table>\n",
       "</div>"
      ],
      "text/plain": [
       "            orgnr                                           address  \\\n",
       "0       988077917                                     123 Pine Ave.   \n",
       "1     988 077 918                                           main st   \n",
       "2     51824753556                      1234 west main heights 57033   \n",
       "3  51 824 753 556                    apt 1 789 s maple rd manhattan   \n",
       "4           hello                robie house, 789 north main street   \n",
       "5             NaN  (staples center) 1111 S Figueroa St, Los Angeles   \n",
       "6            NULL                                             hello   \n",
       "\n",
       "   orgnr_clean  \n",
       "0  988 077 917  \n",
       "1          NaN  \n",
       "2          NaN  \n",
       "3          NaN  \n",
       "4          NaN  \n",
       "5          NaN  \n",
       "6          NaN  "
      ]
     },
     "execution_count": 1,
     "metadata": {},
     "output_type": "execute_result"
    }
   ],
   "source": [
    "clean_no_orgnr(df, \"orgnr\", errors=\"coerce\")"
   ]
  },
  {
   "cell_type": "markdown",
   "id": "prepared-blocking",
   "metadata": {},
   "source": [
    "### `ignore`"
   ]
  },
  {
   "cell_type": "code",
   "execution_count": 7,
   "id": "stupid-liverpool",
   "metadata": {
    "execution": {
     "iopub.execute_input": "2021-10-26T23:04:32.908473Z",
     "iopub.status.busy": "2021-10-26T23:04:32.906580Z",
     "iopub.status.idle": "2021-10-26T23:04:32.916559Z",
     "shell.execute_reply": "2021-10-26T23:04:32.916144Z"
    }
   },
   "outputs": [
    {
     "data": {
      "text/html": [
       "<div>\n",
       "<style scoped>\n",
       "    .dataframe tbody tr th:only-of-type {\n",
       "        vertical-align: middle;\n",
       "    }\n",
       "\n",
       "    .dataframe tbody tr th {\n",
       "        vertical-align: top;\n",
       "    }\n",
       "\n",
       "    .dataframe thead th {\n",
       "        text-align: right;\n",
       "    }\n",
       "</style>\n",
       "<table border=\"1\" class=\"dataframe\">\n",
       "  <thead>\n",
       "    <tr style=\"text-align: right;\">\n",
       "      <th></th>\n",
       "      <th>orgnr</th>\n",
       "      <th>address</th>\n",
       "      <th>orgnr_clean</th>\n",
       "    </tr>\n",
       "  </thead>\n",
       "  <tbody>\n",
       "    <tr>\n",
       "      <th>0</th>\n",
       "      <td>988077917</td>\n",
       "      <td>123 Pine Ave.</td>\n",
       "      <td>988 077 917</td>\n",
       "    </tr>\n",
       "    <tr>\n",
       "      <th>1</th>\n",
       "      <td>988 077 918</td>\n",
       "      <td>main st</td>\n",
       "      <td>988 077 918</td>\n",
       "    </tr>\n",
       "    <tr>\n",
       "      <th>2</th>\n",
       "      <td>51824753556</td>\n",
       "      <td>1234 west main heights 57033</td>\n",
       "      <td>51824753556</td>\n",
       "    </tr>\n",
       "    <tr>\n",
       "      <th>3</th>\n",
       "      <td>51 824 753 556</td>\n",
       "      <td>apt 1 789 s maple rd manhattan</td>\n",
       "      <td>51 824 753 556</td>\n",
       "    </tr>\n",
       "    <tr>\n",
       "      <th>4</th>\n",
       "      <td>hello</td>\n",
       "      <td>robie house, 789 north main street</td>\n",
       "      <td>hello</td>\n",
       "    </tr>\n",
       "    <tr>\n",
       "      <th>5</th>\n",
       "      <td>NaN</td>\n",
       "      <td>(staples center) 1111 S Figueroa St, Los Angeles</td>\n",
       "      <td>NaN</td>\n",
       "    </tr>\n",
       "    <tr>\n",
       "      <th>6</th>\n",
       "      <td>NULL</td>\n",
       "      <td>hello</td>\n",
       "      <td>NaN</td>\n",
       "    </tr>\n",
       "  </tbody>\n",
       "</table>\n",
       "</div>"
      ],
      "text/plain": [
       "            orgnr                                           address  \\\n",
       "0       988077917                                     123 Pine Ave.   \n",
       "1     988 077 918                                           main st   \n",
       "2     51824753556                      1234 west main heights 57033   \n",
       "3  51 824 753 556                    apt 1 789 s maple rd manhattan   \n",
       "4           hello                robie house, 789 north main street   \n",
       "5             NaN  (staples center) 1111 S Figueroa St, Los Angeles   \n",
       "6            NULL                                             hello   \n",
       "\n",
       "      orgnr_clean  \n",
       "0     988 077 917  \n",
       "1     988 077 918  \n",
       "2     51824753556  \n",
       "3  51 824 753 556  \n",
       "4           hello  \n",
       "5             NaN  \n",
       "6             NaN  "
      ]
     },
     "execution_count": 1,
     "metadata": {},
     "output_type": "execute_result"
    }
   ],
   "source": [
    "clean_no_orgnr(df, \"orgnr\", errors=\"ignore\")"
   ]
  },
  {
   "cell_type": "markdown",
   "id": "dependent-entry",
   "metadata": {},
   "source": [
    "## 4. `validate_no_orgnr()`"
   ]
  },
  {
   "cell_type": "markdown",
   "id": "treated-karma",
   "metadata": {},
   "source": [
    "`validate_no_orgnr()` returns `True` when the input is a valid Orgnr. Otherwise it returns `False`.\n",
    "\n",
    "The input of `validate_no_orgnr()` can be a string, a Pandas DataSeries, a Dask DataSeries, a Pandas DataFrame and a dask DataFrame.\n",
    "\n",
    "When the input is a string, a Pandas DataSeries or a Dask DataSeries, user doesn't need to specify a column name to be validated. \n",
    "\n",
    "When the input is a Pandas DataFrame or a dask DataFrame, user can both specify or not specify a column name to be validated. If user specify the column name, `validate_no_orgnr()` only returns the validation result for the specified column. If user doesn't specify the column name, `validate_no_orgnr()` returns the validation result for the whole DataFrame."
   ]
  },
  {
   "cell_type": "code",
   "execution_count": 8,
   "id": "adjustable-portrait",
   "metadata": {
    "execution": {
     "iopub.execute_input": "2021-10-26T23:04:32.921514Z",
     "iopub.status.busy": "2021-10-26T23:04:32.921067Z",
     "iopub.status.idle": "2021-10-26T23:04:32.924425Z",
     "shell.execute_reply": "2021-10-26T23:04:32.924788Z"
    }
   },
   "outputs": [
    {
     "name": "stdout",
     "output_type": "stream",
     "text": [
      "True\n",
      "False\n",
      "False\n",
      "False\n",
      "False\n",
      "False\n",
      "False\n"
     ]
    }
   ],
   "source": [
    "from dataprep.clean import validate_no_orgnr\n",
    "print(validate_no_orgnr(\"988077917\"))\n",
    "print(validate_no_orgnr(\"988 077 918\"))\n",
    "print(validate_no_orgnr(\"51824753556\"))\n",
    "print(validate_no_orgnr(\"51 824 753 556\"))\n",
    "print(validate_no_orgnr(\"hello\"))\n",
    "print(validate_no_orgnr(np.nan))\n",
    "print(validate_no_orgnr(\"NULL\"))"
   ]
  },
  {
   "cell_type": "markdown",
   "id": "demonstrated-frost",
   "metadata": {},
   "source": [
    "### Series"
   ]
  },
  {
   "cell_type": "code",
   "execution_count": 9,
   "id": "cleared-holocaust",
   "metadata": {
    "execution": {
     "iopub.execute_input": "2021-10-26T23:04:32.929041Z",
     "iopub.status.busy": "2021-10-26T23:04:32.928613Z",
     "iopub.status.idle": "2021-10-26T23:04:32.933142Z",
     "shell.execute_reply": "2021-10-26T23:04:32.932316Z"
    }
   },
   "outputs": [
    {
     "data": {
      "text/plain": [
       "0     True\n",
       "1    False\n",
       "2    False\n",
       "3    False\n",
       "4    False\n",
       "5    False\n",
       "6    False\n",
       "Name: orgnr, dtype: bool"
      ]
     },
     "execution_count": 1,
     "metadata": {},
     "output_type": "execute_result"
    }
   ],
   "source": [
    "validate_no_orgnr(df[\"orgnr\"])"
   ]
  },
  {
   "cell_type": "markdown",
   "id": "personal-elephant",
   "metadata": {},
   "source": [
    "### DataFrame + Specify Column"
   ]
  },
  {
   "cell_type": "code",
   "execution_count": 10,
   "id": "respiratory-valuable",
   "metadata": {
    "execution": {
     "iopub.execute_input": "2021-10-26T23:04:32.937075Z",
     "iopub.status.busy": "2021-10-26T23:04:32.936646Z",
     "iopub.status.idle": "2021-10-26T23:04:32.940801Z",
     "shell.execute_reply": "2021-10-26T23:04:32.940422Z"
    }
   },
   "outputs": [
    {
     "data": {
      "text/plain": [
       "0     True\n",
       "1    False\n",
       "2    False\n",
       "3    False\n",
       "4    False\n",
       "5    False\n",
       "6    False\n",
       "Name: orgnr, dtype: bool"
      ]
     },
     "execution_count": 1,
     "metadata": {},
     "output_type": "execute_result"
    }
   ],
   "source": [
    "validate_no_orgnr(df, column=\"orgnr\")"
   ]
  },
  {
   "cell_type": "markdown",
   "id": "false-doctor",
   "metadata": {},
   "source": [
    "### Only DataFrame"
   ]
  },
  {
   "cell_type": "code",
   "execution_count": 11,
   "id": "bored-offset",
   "metadata": {
    "execution": {
     "iopub.execute_input": "2021-10-26T23:04:32.944011Z",
     "iopub.status.busy": "2021-10-26T23:04:32.943281Z",
     "iopub.status.idle": "2021-10-26T23:04:32.952169Z",
     "shell.execute_reply": "2021-10-26T23:04:32.951780Z"
    }
   },
   "outputs": [
    {
     "data": {
      "text/html": [
       "<div>\n",
       "<style scoped>\n",
       "    .dataframe tbody tr th:only-of-type {\n",
       "        vertical-align: middle;\n",
       "    }\n",
       "\n",
       "    .dataframe tbody tr th {\n",
       "        vertical-align: top;\n",
       "    }\n",
       "\n",
       "    .dataframe thead th {\n",
       "        text-align: right;\n",
       "    }\n",
       "</style>\n",
       "<table border=\"1\" class=\"dataframe\">\n",
       "  <thead>\n",
       "    <tr style=\"text-align: right;\">\n",
       "      <th></th>\n",
       "      <th>orgnr</th>\n",
       "      <th>address</th>\n",
       "    </tr>\n",
       "  </thead>\n",
       "  <tbody>\n",
       "    <tr>\n",
       "      <th>0</th>\n",
       "      <td>True</td>\n",
       "      <td>False</td>\n",
       "    </tr>\n",
       "    <tr>\n",
       "      <th>1</th>\n",
       "      <td>False</td>\n",
       "      <td>False</td>\n",
       "    </tr>\n",
       "    <tr>\n",
       "      <th>2</th>\n",
       "      <td>False</td>\n",
       "      <td>False</td>\n",
       "    </tr>\n",
       "    <tr>\n",
       "      <th>3</th>\n",
       "      <td>False</td>\n",
       "      <td>False</td>\n",
       "    </tr>\n",
       "    <tr>\n",
       "      <th>4</th>\n",
       "      <td>False</td>\n",
       "      <td>False</td>\n",
       "    </tr>\n",
       "    <tr>\n",
       "      <th>5</th>\n",
       "      <td>False</td>\n",
       "      <td>False</td>\n",
       "    </tr>\n",
       "    <tr>\n",
       "      <th>6</th>\n",
       "      <td>False</td>\n",
       "      <td>False</td>\n",
       "    </tr>\n",
       "  </tbody>\n",
       "</table>\n",
       "</div>"
      ],
      "text/plain": [
       "   orgnr  address\n",
       "0   True    False\n",
       "1  False    False\n",
       "2  False    False\n",
       "3  False    False\n",
       "4  False    False\n",
       "5  False    False\n",
       "6  False    False"
      ]
     },
     "execution_count": 1,
     "metadata": {},
     "output_type": "execute_result"
    }
   ],
   "source": [
    "validate_no_orgnr(df)"
   ]
  },
  {
   "cell_type": "code",
   "execution_count": null,
   "id": "romantic-hours",
   "metadata": {},
   "outputs": [],
   "source": []
  }
 ],
 "metadata": {
  "kernelspec": {
   "display_name": "Python 3",
   "language": "python",
   "name": "python3"
  },
  "language_info": {
   "codemirror_mode": {
    "name": "ipython",
    "version": 3
   },
   "file_extension": ".py",
   "mimetype": "text/x-python",
   "name": "python",
   "nbconvert_exporter": "python",
   "pygments_lexer": "ipython3",
   "version": "3.8.10"
  }
 },
 "nbformat": 4,
 "nbformat_minor": 5
}
