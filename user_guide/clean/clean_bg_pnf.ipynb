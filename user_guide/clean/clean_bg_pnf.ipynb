{
 "cells": [
  {
   "cell_type": "raw",
   "id": "wrapped-tattoo",
   "metadata": {},
   "source": [
    ".. _pnf_userguide:\n",
    "\n",
    "Bulgarian Personal Numbers\n",
    "=========================="
   ]
  },
  {
   "cell_type": "raw",
   "id": "varying-radio",
   "metadata": {},
   "source": [
    "Introduction\n",
    "------------\n",
    "\n",
    "The function :func:`clean_bg_pnf() <dataprep.clean.clean_bg_pnf.clean_bg_pnf>` cleans a column containing Bulgarian personal number of a foreigner, and standardizes them in a given format. The function :func:`validate_bg_pnf() <dataprep.clean.clean_bg_pnf.validate_bg_pnf>` validates either a single PNF strings, a column of PNF strings or a DataFrame of PNF strings, returning `True` if the value is valid, and `False` otherwise."
   ]
  },
  {
   "cell_type": "markdown",
   "id": "intellectual-beverage",
   "metadata": {},
   "source": [
    "PNF strings can be converted to the following formats via the `output_format` parameter:\n",
    "\n",
    "* `compact`: only number strings without any seperators or whitespace, like \"7111042925\"\n",
    "* `standard`: PNF strings with proper whitespace in the proper places. Note that in the case of PNF, the compact format is the same as the standard one.\n",
    "\n",
    "Invalid parsing is handled with the `errors` parameter:\n",
    "\n",
    "* `coerce` (default): invalid parsing will be set to NaN\n",
    "* `ignore`: invalid parsing will return the input\n",
    "* `raise`: invalid parsing will raise an exception\n",
    "\n",
    "The following sections demonstrate the functionality of `clean_bg_pnf()` and `validate_bg_pnf()`. "
   ]
  },
  {
   "cell_type": "markdown",
   "id": "strategic-actress",
   "metadata": {},
   "source": [
    "### An example dataset containing PNF strings"
   ]
  },
  {
   "cell_type": "code",
   "execution_count": 1,
   "id": "serious-batch",
   "metadata": {
    "execution": {
     "iopub.execute_input": "2021-10-30T05:15:28.687550Z",
     "iopub.status.busy": "2021-10-30T05:15:28.687036Z",
     "iopub.status.idle": "2021-10-30T05:15:28.924356Z",
     "shell.execute_reply": "2021-10-30T05:15:28.923550Z"
    }
   },
   "outputs": [
    {
     "data": {
      "text/html": [
       "<div>\n",
       "<style scoped>\n",
       "    .dataframe tbody tr th:only-of-type {\n",
       "        vertical-align: middle;\n",
       "    }\n",
       "\n",
       "    .dataframe tbody tr th {\n",
       "        vertical-align: top;\n",
       "    }\n",
       "\n",
       "    .dataframe thead th {\n",
       "        text-align: right;\n",
       "    }\n",
       "</style>\n",
       "<table border=\"1\" class=\"dataframe\">\n",
       "  <thead>\n",
       "    <tr style=\"text-align: right;\">\n",
       "      <th></th>\n",
       "      <th>pnf</th>\n",
       "      <th>address</th>\n",
       "    </tr>\n",
       "  </thead>\n",
       "  <tbody>\n",
       "    <tr>\n",
       "      <th>0</th>\n",
       "      <td>7111 042 925</td>\n",
       "      <td>123 Pine Ave.</td>\n",
       "    </tr>\n",
       "    <tr>\n",
       "      <th>1</th>\n",
       "      <td>7111042922</td>\n",
       "      <td>main st</td>\n",
       "    </tr>\n",
       "    <tr>\n",
       "      <th>2</th>\n",
       "      <td>71110A2922</td>\n",
       "      <td>1234 west main heights 57033</td>\n",
       "    </tr>\n",
       "    <tr>\n",
       "      <th>3</th>\n",
       "      <td>002 724 334</td>\n",
       "      <td>apt 1 789 s maple rd manhattan</td>\n",
       "    </tr>\n",
       "    <tr>\n",
       "      <th>4</th>\n",
       "      <td>hello</td>\n",
       "      <td>1111 S Figueroa St, Los Angeles, CA 90015</td>\n",
       "    </tr>\n",
       "    <tr>\n",
       "      <th>5</th>\n",
       "      <td>NaN</td>\n",
       "      <td>(staples center) 1111 S Figueroa St, Los Angeles</td>\n",
       "    </tr>\n",
       "    <tr>\n",
       "      <th>6</th>\n",
       "      <td>NULL</td>\n",
       "      <td>hello</td>\n",
       "    </tr>\n",
       "  </tbody>\n",
       "</table>\n",
       "</div>"
      ],
      "text/plain": [
       "            pnf                                           address\n",
       "0  7111 042 925                                     123 Pine Ave.\n",
       "1    7111042922                                           main st\n",
       "2    71110A2922                      1234 west main heights 57033\n",
       "3   002 724 334                    apt 1 789 s maple rd manhattan\n",
       "4         hello         1111 S Figueroa St, Los Angeles, CA 90015\n",
       "5           NaN  (staples center) 1111 S Figueroa St, Los Angeles\n",
       "6          NULL                                             hello"
      ]
     },
     "execution_count": 1,
     "metadata": {},
     "output_type": "execute_result"
    }
   ],
   "source": [
    "import pandas as pd\n",
    "import numpy as np\n",
    "df = pd.DataFrame(\n",
    "    {\n",
    "        \"pnf\": [\n",
    "            '7111 042 925',\n",
    "            '7111042922',  # invalid check digit\n",
    "            '71110A2922',  # invalid digit\n",
    "            \"002 724 334\", # not PNF\n",
    "            \"hello\",\n",
    "            np.nan,\n",
    "            \"NULL\",\n",
    "        ], \n",
    "        \"address\": [\n",
    "            \"123 Pine Ave.\",\n",
    "            \"main st\",\n",
    "            \"1234 west main heights 57033\",\n",
    "            \"apt 1 789 s maple rd manhattan\",\n",
    "            \"1111 S Figueroa St, Los Angeles, CA 90015\",\n",
    "            \"(staples center) 1111 S Figueroa St, Los Angeles\",\n",
    "            \"hello\",\n",
    "        ]\n",
    "    }\n",
    ")\n",
    "df"
   ]
  },
  {
   "cell_type": "markdown",
   "id": "active-bracket",
   "metadata": {},
   "source": [
    "## 1. Default `clean_bg_pnf`\n",
    "\n",
    "By default, `clean_bg_pnf` will clean pnf strings and output them in the standard format with proper separators."
   ]
  },
  {
   "cell_type": "code",
   "execution_count": 2,
   "id": "certified-concern",
   "metadata": {
    "execution": {
     "iopub.execute_input": "2021-10-30T05:15:28.929666Z",
     "iopub.status.busy": "2021-10-30T05:15:28.928376Z",
     "iopub.status.idle": "2021-10-30T05:15:29.506606Z",
     "shell.execute_reply": "2021-10-30T05:15:29.506123Z"
    }
   },
   "outputs": [
    {
     "data": {
      "text/html": [
       "<div>\n",
       "<style scoped>\n",
       "    .dataframe tbody tr th:only-of-type {\n",
       "        vertical-align: middle;\n",
       "    }\n",
       "\n",
       "    .dataframe tbody tr th {\n",
       "        vertical-align: top;\n",
       "    }\n",
       "\n",
       "    .dataframe thead th {\n",
       "        text-align: right;\n",
       "    }\n",
       "</style>\n",
       "<table border=\"1\" class=\"dataframe\">\n",
       "  <thead>\n",
       "    <tr style=\"text-align: right;\">\n",
       "      <th></th>\n",
       "      <th>pnf</th>\n",
       "      <th>address</th>\n",
       "      <th>pnf_clean</th>\n",
       "    </tr>\n",
       "  </thead>\n",
       "  <tbody>\n",
       "    <tr>\n",
       "      <th>0</th>\n",
       "      <td>7111 042 925</td>\n",
       "      <td>123 Pine Ave.</td>\n",
       "      <td>7111042925</td>\n",
       "    </tr>\n",
       "    <tr>\n",
       "      <th>1</th>\n",
       "      <td>7111042922</td>\n",
       "      <td>main st</td>\n",
       "      <td>NaN</td>\n",
       "    </tr>\n",
       "    <tr>\n",
       "      <th>2</th>\n",
       "      <td>71110A2922</td>\n",
       "      <td>1234 west main heights 57033</td>\n",
       "      <td>NaN</td>\n",
       "    </tr>\n",
       "    <tr>\n",
       "      <th>3</th>\n",
       "      <td>002 724 334</td>\n",
       "      <td>apt 1 789 s maple rd manhattan</td>\n",
       "      <td>NaN</td>\n",
       "    </tr>\n",
       "    <tr>\n",
       "      <th>4</th>\n",
       "      <td>hello</td>\n",
       "      <td>1111 S Figueroa St, Los Angeles, CA 90015</td>\n",
       "      <td>NaN</td>\n",
       "    </tr>\n",
       "    <tr>\n",
       "      <th>5</th>\n",
       "      <td>NaN</td>\n",
       "      <td>(staples center) 1111 S Figueroa St, Los Angeles</td>\n",
       "      <td>NaN</td>\n",
       "    </tr>\n",
       "    <tr>\n",
       "      <th>6</th>\n",
       "      <td>NULL</td>\n",
       "      <td>hello</td>\n",
       "      <td>NaN</td>\n",
       "    </tr>\n",
       "  </tbody>\n",
       "</table>\n",
       "</div>"
      ],
      "text/plain": [
       "            pnf                                           address   pnf_clean\n",
       "0  7111 042 925                                     123 Pine Ave.  7111042925\n",
       "1    7111042922                                           main st         NaN\n",
       "2    71110A2922                      1234 west main heights 57033         NaN\n",
       "3   002 724 334                    apt 1 789 s maple rd manhattan         NaN\n",
       "4         hello         1111 S Figueroa St, Los Angeles, CA 90015         NaN\n",
       "5           NaN  (staples center) 1111 S Figueroa St, Los Angeles         NaN\n",
       "6          NULL                                             hello         NaN"
      ]
     },
     "execution_count": 1,
     "metadata": {},
     "output_type": "execute_result"
    }
   ],
   "source": [
    "from dataprep.clean import clean_bg_pnf\n",
    "clean_bg_pnf(df, column = \"pnf\")"
   ]
  },
  {
   "cell_type": "markdown",
   "id": "ignored-registrar",
   "metadata": {},
   "source": [
    "## 2. Output formats"
   ]
  },
  {
   "cell_type": "markdown",
   "id": "progressive-bible",
   "metadata": {},
   "source": [
    "This section demonstrates the output parameter."
   ]
  },
  {
   "cell_type": "markdown",
   "id": "rolled-perfume",
   "metadata": {},
   "source": [
    "### `standard` (default)"
   ]
  },
  {
   "cell_type": "code",
   "execution_count": 3,
   "id": "worst-probe",
   "metadata": {
    "execution": {
     "iopub.execute_input": "2021-10-30T05:15:29.529029Z",
     "iopub.status.busy": "2021-10-30T05:15:29.528158Z",
     "iopub.status.idle": "2021-10-30T05:15:29.537004Z",
     "shell.execute_reply": "2021-10-30T05:15:29.536545Z"
    }
   },
   "outputs": [
    {
     "data": {
      "text/html": [
       "<div>\n",
       "<style scoped>\n",
       "    .dataframe tbody tr th:only-of-type {\n",
       "        vertical-align: middle;\n",
       "    }\n",
       "\n",
       "    .dataframe tbody tr th {\n",
       "        vertical-align: top;\n",
       "    }\n",
       "\n",
       "    .dataframe thead th {\n",
       "        text-align: right;\n",
       "    }\n",
       "</style>\n",
       "<table border=\"1\" class=\"dataframe\">\n",
       "  <thead>\n",
       "    <tr style=\"text-align: right;\">\n",
       "      <th></th>\n",
       "      <th>pnf</th>\n",
       "      <th>address</th>\n",
       "      <th>pnf_clean</th>\n",
       "    </tr>\n",
       "  </thead>\n",
       "  <tbody>\n",
       "    <tr>\n",
       "      <th>0</th>\n",
       "      <td>7111 042 925</td>\n",
       "      <td>123 Pine Ave.</td>\n",
       "      <td>7111042925</td>\n",
       "    </tr>\n",
       "    <tr>\n",
       "      <th>1</th>\n",
       "      <td>7111042922</td>\n",
       "      <td>main st</td>\n",
       "      <td>NaN</td>\n",
       "    </tr>\n",
       "    <tr>\n",
       "      <th>2</th>\n",
       "      <td>71110A2922</td>\n",
       "      <td>1234 west main heights 57033</td>\n",
       "      <td>NaN</td>\n",
       "    </tr>\n",
       "    <tr>\n",
       "      <th>3</th>\n",
       "      <td>002 724 334</td>\n",
       "      <td>apt 1 789 s maple rd manhattan</td>\n",
       "      <td>NaN</td>\n",
       "    </tr>\n",
       "    <tr>\n",
       "      <th>4</th>\n",
       "      <td>hello</td>\n",
       "      <td>1111 S Figueroa St, Los Angeles, CA 90015</td>\n",
       "      <td>NaN</td>\n",
       "    </tr>\n",
       "    <tr>\n",
       "      <th>5</th>\n",
       "      <td>NaN</td>\n",
       "      <td>(staples center) 1111 S Figueroa St, Los Angeles</td>\n",
       "      <td>NaN</td>\n",
       "    </tr>\n",
       "    <tr>\n",
       "      <th>6</th>\n",
       "      <td>NULL</td>\n",
       "      <td>hello</td>\n",
       "      <td>NaN</td>\n",
       "    </tr>\n",
       "  </tbody>\n",
       "</table>\n",
       "</div>"
      ],
      "text/plain": [
       "            pnf                                           address   pnf_clean\n",
       "0  7111 042 925                                     123 Pine Ave.  7111042925\n",
       "1    7111042922                                           main st         NaN\n",
       "2    71110A2922                      1234 west main heights 57033         NaN\n",
       "3   002 724 334                    apt 1 789 s maple rd manhattan         NaN\n",
       "4         hello         1111 S Figueroa St, Los Angeles, CA 90015         NaN\n",
       "5           NaN  (staples center) 1111 S Figueroa St, Los Angeles         NaN\n",
       "6          NULL                                             hello         NaN"
      ]
     },
     "execution_count": 1,
     "metadata": {},
     "output_type": "execute_result"
    }
   ],
   "source": [
    "clean_bg_pnf(df, column = \"pnf\", output_format=\"standard\")"
   ]
  },
  {
   "cell_type": "markdown",
   "id": "architectural-mixer",
   "metadata": {},
   "source": [
    "### `compact`"
   ]
  },
  {
   "cell_type": "code",
   "execution_count": 4,
   "id": "conventional-stake",
   "metadata": {
    "execution": {
     "iopub.execute_input": "2021-10-30T05:15:29.554198Z",
     "iopub.status.busy": "2021-10-30T05:15:29.553707Z",
     "iopub.status.idle": "2021-10-30T05:15:29.565415Z",
     "shell.execute_reply": "2021-10-30T05:15:29.564975Z"
    }
   },
   "outputs": [
    {
     "data": {
      "text/html": [
       "<div>\n",
       "<style scoped>\n",
       "    .dataframe tbody tr th:only-of-type {\n",
       "        vertical-align: middle;\n",
       "    }\n",
       "\n",
       "    .dataframe tbody tr th {\n",
       "        vertical-align: top;\n",
       "    }\n",
       "\n",
       "    .dataframe thead th {\n",
       "        text-align: right;\n",
       "    }\n",
       "</style>\n",
       "<table border=\"1\" class=\"dataframe\">\n",
       "  <thead>\n",
       "    <tr style=\"text-align: right;\">\n",
       "      <th></th>\n",
       "      <th>pnf</th>\n",
       "      <th>address</th>\n",
       "      <th>pnf_clean</th>\n",
       "    </tr>\n",
       "  </thead>\n",
       "  <tbody>\n",
       "    <tr>\n",
       "      <th>0</th>\n",
       "      <td>7111 042 925</td>\n",
       "      <td>123 Pine Ave.</td>\n",
       "      <td>7111042925</td>\n",
       "    </tr>\n",
       "    <tr>\n",
       "      <th>1</th>\n",
       "      <td>7111042922</td>\n",
       "      <td>main st</td>\n",
       "      <td>NaN</td>\n",
       "    </tr>\n",
       "    <tr>\n",
       "      <th>2</th>\n",
       "      <td>71110A2922</td>\n",
       "      <td>1234 west main heights 57033</td>\n",
       "      <td>NaN</td>\n",
       "    </tr>\n",
       "    <tr>\n",
       "      <th>3</th>\n",
       "      <td>002 724 334</td>\n",
       "      <td>apt 1 789 s maple rd manhattan</td>\n",
       "      <td>NaN</td>\n",
       "    </tr>\n",
       "    <tr>\n",
       "      <th>4</th>\n",
       "      <td>hello</td>\n",
       "      <td>1111 S Figueroa St, Los Angeles, CA 90015</td>\n",
       "      <td>NaN</td>\n",
       "    </tr>\n",
       "    <tr>\n",
       "      <th>5</th>\n",
       "      <td>NaN</td>\n",
       "      <td>(staples center) 1111 S Figueroa St, Los Angeles</td>\n",
       "      <td>NaN</td>\n",
       "    </tr>\n",
       "    <tr>\n",
       "      <th>6</th>\n",
       "      <td>NULL</td>\n",
       "      <td>hello</td>\n",
       "      <td>NaN</td>\n",
       "    </tr>\n",
       "  </tbody>\n",
       "</table>\n",
       "</div>"
      ],
      "text/plain": [
       "            pnf                                           address   pnf_clean\n",
       "0  7111 042 925                                     123 Pine Ave.  7111042925\n",
       "1    7111042922                                           main st         NaN\n",
       "2    71110A2922                      1234 west main heights 57033         NaN\n",
       "3   002 724 334                    apt 1 789 s maple rd manhattan         NaN\n",
       "4         hello         1111 S Figueroa St, Los Angeles, CA 90015         NaN\n",
       "5           NaN  (staples center) 1111 S Figueroa St, Los Angeles         NaN\n",
       "6          NULL                                             hello         NaN"
      ]
     },
     "execution_count": 1,
     "metadata": {},
     "output_type": "execute_result"
    }
   ],
   "source": [
    "clean_bg_pnf(df, column = \"pnf\", output_format=\"compact\")"
   ]
  },
  {
   "cell_type": "markdown",
   "id": "polish-tribe",
   "metadata": {},
   "source": [
    "## 3. `inplace` parameter\n",
    "\n",
    "This deletes the given column from the returned DataFrame. \n",
    "A new column containing cleaned PNF strings is added with a title in the format `\"{original title}_clean\"`."
   ]
  },
  {
   "cell_type": "code",
   "execution_count": 5,
   "id": "diverse-hopkins",
   "metadata": {
    "execution": {
     "iopub.execute_input": "2021-10-30T05:15:29.596195Z",
     "iopub.status.busy": "2021-10-30T05:15:29.575179Z",
     "iopub.status.idle": "2021-10-30T05:15:29.603247Z",
     "shell.execute_reply": "2021-10-30T05:15:29.602840Z"
    }
   },
   "outputs": [
    {
     "data": {
      "text/html": [
       "<div>\n",
       "<style scoped>\n",
       "    .dataframe tbody tr th:only-of-type {\n",
       "        vertical-align: middle;\n",
       "    }\n",
       "\n",
       "    .dataframe tbody tr th {\n",
       "        vertical-align: top;\n",
       "    }\n",
       "\n",
       "    .dataframe thead th {\n",
       "        text-align: right;\n",
       "    }\n",
       "</style>\n",
       "<table border=\"1\" class=\"dataframe\">\n",
       "  <thead>\n",
       "    <tr style=\"text-align: right;\">\n",
       "      <th></th>\n",
       "      <th>pnf_clean</th>\n",
       "      <th>address</th>\n",
       "    </tr>\n",
       "  </thead>\n",
       "  <tbody>\n",
       "    <tr>\n",
       "      <th>0</th>\n",
       "      <td>7111042925</td>\n",
       "      <td>123 Pine Ave.</td>\n",
       "    </tr>\n",
       "    <tr>\n",
       "      <th>1</th>\n",
       "      <td>NaN</td>\n",
       "      <td>main st</td>\n",
       "    </tr>\n",
       "    <tr>\n",
       "      <th>2</th>\n",
       "      <td>NaN</td>\n",
       "      <td>1234 west main heights 57033</td>\n",
       "    </tr>\n",
       "    <tr>\n",
       "      <th>3</th>\n",
       "      <td>NaN</td>\n",
       "      <td>apt 1 789 s maple rd manhattan</td>\n",
       "    </tr>\n",
       "    <tr>\n",
       "      <th>4</th>\n",
       "      <td>NaN</td>\n",
       "      <td>1111 S Figueroa St, Los Angeles, CA 90015</td>\n",
       "    </tr>\n",
       "    <tr>\n",
       "      <th>5</th>\n",
       "      <td>NaN</td>\n",
       "      <td>(staples center) 1111 S Figueroa St, Los Angeles</td>\n",
       "    </tr>\n",
       "    <tr>\n",
       "      <th>6</th>\n",
       "      <td>NaN</td>\n",
       "      <td>hello</td>\n",
       "    </tr>\n",
       "  </tbody>\n",
       "</table>\n",
       "</div>"
      ],
      "text/plain": [
       "    pnf_clean                                           address\n",
       "0  7111042925                                     123 Pine Ave.\n",
       "1         NaN                                           main st\n",
       "2         NaN                      1234 west main heights 57033\n",
       "3         NaN                    apt 1 789 s maple rd manhattan\n",
       "4         NaN         1111 S Figueroa St, Los Angeles, CA 90015\n",
       "5         NaN  (staples center) 1111 S Figueroa St, Los Angeles\n",
       "6         NaN                                             hello"
      ]
     },
     "execution_count": 1,
     "metadata": {},
     "output_type": "execute_result"
    }
   ],
   "source": [
    "clean_bg_pnf(df, column=\"pnf\", inplace=True)"
   ]
  },
  {
   "cell_type": "markdown",
   "id": "growing-mercury",
   "metadata": {},
   "source": [
    "## 4. `errors` parameter"
   ]
  },
  {
   "cell_type": "markdown",
   "id": "broken-rugby",
   "metadata": {},
   "source": [
    "### `coerce` (default)"
   ]
  },
  {
   "cell_type": "code",
   "execution_count": 6,
   "id": "saved-firmware",
   "metadata": {
    "execution": {
     "iopub.execute_input": "2021-10-30T05:15:29.625081Z",
     "iopub.status.busy": "2021-10-30T05:15:29.621471Z",
     "iopub.status.idle": "2021-10-30T05:15:29.633118Z",
     "shell.execute_reply": "2021-10-30T05:15:29.632651Z"
    }
   },
   "outputs": [
    {
     "data": {
      "text/html": [
       "<div>\n",
       "<style scoped>\n",
       "    .dataframe tbody tr th:only-of-type {\n",
       "        vertical-align: middle;\n",
       "    }\n",
       "\n",
       "    .dataframe tbody tr th {\n",
       "        vertical-align: top;\n",
       "    }\n",
       "\n",
       "    .dataframe thead th {\n",
       "        text-align: right;\n",
       "    }\n",
       "</style>\n",
       "<table border=\"1\" class=\"dataframe\">\n",
       "  <thead>\n",
       "    <tr style=\"text-align: right;\">\n",
       "      <th></th>\n",
       "      <th>pnf</th>\n",
       "      <th>address</th>\n",
       "      <th>pnf_clean</th>\n",
       "    </tr>\n",
       "  </thead>\n",
       "  <tbody>\n",
       "    <tr>\n",
       "      <th>0</th>\n",
       "      <td>7111 042 925</td>\n",
       "      <td>123 Pine Ave.</td>\n",
       "      <td>7111042925</td>\n",
       "    </tr>\n",
       "    <tr>\n",
       "      <th>1</th>\n",
       "      <td>7111042922</td>\n",
       "      <td>main st</td>\n",
       "      <td>NaN</td>\n",
       "    </tr>\n",
       "    <tr>\n",
       "      <th>2</th>\n",
       "      <td>71110A2922</td>\n",
       "      <td>1234 west main heights 57033</td>\n",
       "      <td>NaN</td>\n",
       "    </tr>\n",
       "    <tr>\n",
       "      <th>3</th>\n",
       "      <td>002 724 334</td>\n",
       "      <td>apt 1 789 s maple rd manhattan</td>\n",
       "      <td>NaN</td>\n",
       "    </tr>\n",
       "    <tr>\n",
       "      <th>4</th>\n",
       "      <td>hello</td>\n",
       "      <td>1111 S Figueroa St, Los Angeles, CA 90015</td>\n",
       "      <td>NaN</td>\n",
       "    </tr>\n",
       "    <tr>\n",
       "      <th>5</th>\n",
       "      <td>NaN</td>\n",
       "      <td>(staples center) 1111 S Figueroa St, Los Angeles</td>\n",
       "      <td>NaN</td>\n",
       "    </tr>\n",
       "    <tr>\n",
       "      <th>6</th>\n",
       "      <td>NULL</td>\n",
       "      <td>hello</td>\n",
       "      <td>NaN</td>\n",
       "    </tr>\n",
       "  </tbody>\n",
       "</table>\n",
       "</div>"
      ],
      "text/plain": [
       "            pnf                                           address   pnf_clean\n",
       "0  7111 042 925                                     123 Pine Ave.  7111042925\n",
       "1    7111042922                                           main st         NaN\n",
       "2    71110A2922                      1234 west main heights 57033         NaN\n",
       "3   002 724 334                    apt 1 789 s maple rd manhattan         NaN\n",
       "4         hello         1111 S Figueroa St, Los Angeles, CA 90015         NaN\n",
       "5           NaN  (staples center) 1111 S Figueroa St, Los Angeles         NaN\n",
       "6          NULL                                             hello         NaN"
      ]
     },
     "execution_count": 1,
     "metadata": {},
     "output_type": "execute_result"
    }
   ],
   "source": [
    "clean_bg_pnf(df, \"pnf\", errors=\"coerce\")"
   ]
  },
  {
   "cell_type": "markdown",
   "id": "sapphire-mentor",
   "metadata": {},
   "source": [
    "### `ignore`"
   ]
  },
  {
   "cell_type": "code",
   "execution_count": 7,
   "id": "funded-canadian",
   "metadata": {
    "execution": {
     "iopub.execute_input": "2021-10-30T05:15:29.661946Z",
     "iopub.status.busy": "2021-10-30T05:15:29.661465Z",
     "iopub.status.idle": "2021-10-30T05:15:29.666238Z",
     "shell.execute_reply": "2021-10-30T05:15:29.666637Z"
    }
   },
   "outputs": [
    {
     "data": {
      "text/html": [
       "<div>\n",
       "<style scoped>\n",
       "    .dataframe tbody tr th:only-of-type {\n",
       "        vertical-align: middle;\n",
       "    }\n",
       "\n",
       "    .dataframe tbody tr th {\n",
       "        vertical-align: top;\n",
       "    }\n",
       "\n",
       "    .dataframe thead th {\n",
       "        text-align: right;\n",
       "    }\n",
       "</style>\n",
       "<table border=\"1\" class=\"dataframe\">\n",
       "  <thead>\n",
       "    <tr style=\"text-align: right;\">\n",
       "      <th></th>\n",
       "      <th>pnf</th>\n",
       "      <th>address</th>\n",
       "      <th>pnf_clean</th>\n",
       "    </tr>\n",
       "  </thead>\n",
       "  <tbody>\n",
       "    <tr>\n",
       "      <th>0</th>\n",
       "      <td>7111 042 925</td>\n",
       "      <td>123 Pine Ave.</td>\n",
       "      <td>7111042925</td>\n",
       "    </tr>\n",
       "    <tr>\n",
       "      <th>1</th>\n",
       "      <td>7111042922</td>\n",
       "      <td>main st</td>\n",
       "      <td>7111042922</td>\n",
       "    </tr>\n",
       "    <tr>\n",
       "      <th>2</th>\n",
       "      <td>71110A2922</td>\n",
       "      <td>1234 west main heights 57033</td>\n",
       "      <td>71110A2922</td>\n",
       "    </tr>\n",
       "    <tr>\n",
       "      <th>3</th>\n",
       "      <td>002 724 334</td>\n",
       "      <td>apt 1 789 s maple rd manhattan</td>\n",
       "      <td>002 724 334</td>\n",
       "    </tr>\n",
       "    <tr>\n",
       "      <th>4</th>\n",
       "      <td>hello</td>\n",
       "      <td>1111 S Figueroa St, Los Angeles, CA 90015</td>\n",
       "      <td>hello</td>\n",
       "    </tr>\n",
       "    <tr>\n",
       "      <th>5</th>\n",
       "      <td>NaN</td>\n",
       "      <td>(staples center) 1111 S Figueroa St, Los Angeles</td>\n",
       "      <td>NaN</td>\n",
       "    </tr>\n",
       "    <tr>\n",
       "      <th>6</th>\n",
       "      <td>NULL</td>\n",
       "      <td>hello</td>\n",
       "      <td>NaN</td>\n",
       "    </tr>\n",
       "  </tbody>\n",
       "</table>\n",
       "</div>"
      ],
      "text/plain": [
       "            pnf                                           address    pnf_clean\n",
       "0  7111 042 925                                     123 Pine Ave.   7111042925\n",
       "1    7111042922                                           main st   7111042922\n",
       "2    71110A2922                      1234 west main heights 57033   71110A2922\n",
       "3   002 724 334                    apt 1 789 s maple rd manhattan  002 724 334\n",
       "4         hello         1111 S Figueroa St, Los Angeles, CA 90015        hello\n",
       "5           NaN  (staples center) 1111 S Figueroa St, Los Angeles          NaN\n",
       "6          NULL                                             hello          NaN"
      ]
     },
     "execution_count": 1,
     "metadata": {},
     "output_type": "execute_result"
    }
   ],
   "source": [
    "clean_bg_pnf(df, \"pnf\", errors=\"ignore\")"
   ]
  },
  {
   "cell_type": "markdown",
   "id": "located-timer",
   "metadata": {},
   "source": [
    "## 4. `validate_bg_pnf()`"
   ]
  },
  {
   "cell_type": "markdown",
   "id": "incomplete-egyptian",
   "metadata": {},
   "source": [
    "`validate_bg_pnf()` returns `True` when the input is a valid PNF. Otherwise it returns `False`.\n",
    "\n",
    "The input of `validate_bg_pnf()` can be a string, a Pandas DataSeries, a Dask DataSeries, a Pandas DataFrame and a dask DataFrame.\n",
    "\n",
    "When the input is a string, a Pandas DataSeries or a Dask DataSeries, user doesn't need to specify a column name to be validated. \n",
    "\n",
    "When the input is a Pandas DataFrame or a dask DataFrame, user can both specify or not specify a column name to be validated. If user specify the column name, `validate_bg_pnf()` only returns the validation result for the specified column. If user doesn't specify the column name, `validate_bg_pnf()` returns the validation result for the whole DataFrame."
   ]
  },
  {
   "cell_type": "code",
   "execution_count": 8,
   "id": "ruled-doctrine",
   "metadata": {
    "execution": {
     "iopub.execute_input": "2021-10-30T05:15:29.671952Z",
     "iopub.status.busy": "2021-10-30T05:15:29.671129Z",
     "iopub.status.idle": "2021-10-30T05:15:29.676091Z",
     "shell.execute_reply": "2021-10-30T05:15:29.675637Z"
    }
   },
   "outputs": [
    {
     "name": "stdout",
     "output_type": "stream",
     "text": [
      "True\n",
      "False\n",
      "False\n",
      "False\n",
      "False\n",
      "False\n",
      "False\n",
      "False\n"
     ]
    }
   ],
   "source": [
    "from dataprep.clean import validate_bg_pnf\n",
    "print(validate_bg_pnf('7111 042 925'))\n",
    "print(validate_bg_pnf('7111042922'))\n",
    "print(validate_bg_pnf('71110A2922' ))\n",
    "print(validate_bg_pnf('BE431150351'))\n",
    "print(validate_bg_pnf(\"004085616\"))\n",
    "print(validate_bg_pnf(\"hello\"))\n",
    "print(validate_bg_pnf(np.nan))\n",
    "print(validate_bg_pnf(\"NULL\"))"
   ]
  },
  {
   "cell_type": "markdown",
   "id": "special-bolivia",
   "metadata": {},
   "source": [
    "### Series"
   ]
  },
  {
   "cell_type": "code",
   "execution_count": 9,
   "id": "irish-chase",
   "metadata": {
    "execution": {
     "iopub.execute_input": "2021-10-30T05:15:29.680810Z",
     "iopub.status.busy": "2021-10-30T05:15:29.680340Z",
     "iopub.status.idle": "2021-10-30T05:15:29.684743Z",
     "shell.execute_reply": "2021-10-30T05:15:29.684291Z"
    }
   },
   "outputs": [
    {
     "data": {
      "text/plain": [
       "0     True\n",
       "1    False\n",
       "2    False\n",
       "3    False\n",
       "4    False\n",
       "5    False\n",
       "6    False\n",
       "Name: pnf, dtype: bool"
      ]
     },
     "execution_count": 1,
     "metadata": {},
     "output_type": "execute_result"
    }
   ],
   "source": [
    "validate_bg_pnf(df[\"pnf\"])"
   ]
  },
  {
   "cell_type": "markdown",
   "id": "racial-studio",
   "metadata": {},
   "source": [
    "### DataFrame + Specify Column"
   ]
  },
  {
   "cell_type": "code",
   "execution_count": 10,
   "id": "fleet-encounter",
   "metadata": {
    "execution": {
     "iopub.execute_input": "2021-10-30T05:15:29.689612Z",
     "iopub.status.busy": "2021-10-30T05:15:29.689145Z",
     "iopub.status.idle": "2021-10-30T05:15:29.693282Z",
     "shell.execute_reply": "2021-10-30T05:15:29.692868Z"
    }
   },
   "outputs": [
    {
     "data": {
      "text/plain": [
       "0     True\n",
       "1    False\n",
       "2    False\n",
       "3    False\n",
       "4    False\n",
       "5    False\n",
       "6    False\n",
       "Name: pnf, dtype: bool"
      ]
     },
     "execution_count": 1,
     "metadata": {},
     "output_type": "execute_result"
    }
   ],
   "source": [
    "validate_bg_pnf(df, column=\"pnf\")"
   ]
  },
  {
   "cell_type": "markdown",
   "id": "centered-trunk",
   "metadata": {},
   "source": [
    "### Only DataFrame"
   ]
  },
  {
   "cell_type": "code",
   "execution_count": 11,
   "id": "narrative-aging",
   "metadata": {
    "execution": {
     "iopub.execute_input": "2021-10-30T05:15:29.696464Z",
     "iopub.status.busy": "2021-10-30T05:15:29.695981Z",
     "iopub.status.idle": "2021-10-30T05:15:29.704397Z",
     "shell.execute_reply": "2021-10-30T05:15:29.703984Z"
    }
   },
   "outputs": [
    {
     "data": {
      "text/html": [
       "<div>\n",
       "<style scoped>\n",
       "    .dataframe tbody tr th:only-of-type {\n",
       "        vertical-align: middle;\n",
       "    }\n",
       "\n",
       "    .dataframe tbody tr th {\n",
       "        vertical-align: top;\n",
       "    }\n",
       "\n",
       "    .dataframe thead th {\n",
       "        text-align: right;\n",
       "    }\n",
       "</style>\n",
       "<table border=\"1\" class=\"dataframe\">\n",
       "  <thead>\n",
       "    <tr style=\"text-align: right;\">\n",
       "      <th></th>\n",
       "      <th>pnf</th>\n",
       "      <th>address</th>\n",
       "    </tr>\n",
       "  </thead>\n",
       "  <tbody>\n",
       "    <tr>\n",
       "      <th>0</th>\n",
       "      <td>True</td>\n",
       "      <td>False</td>\n",
       "    </tr>\n",
       "    <tr>\n",
       "      <th>1</th>\n",
       "      <td>False</td>\n",
       "      <td>False</td>\n",
       "    </tr>\n",
       "    <tr>\n",
       "      <th>2</th>\n",
       "      <td>False</td>\n",
       "      <td>False</td>\n",
       "    </tr>\n",
       "    <tr>\n",
       "      <th>3</th>\n",
       "      <td>False</td>\n",
       "      <td>False</td>\n",
       "    </tr>\n",
       "    <tr>\n",
       "      <th>4</th>\n",
       "      <td>False</td>\n",
       "      <td>False</td>\n",
       "    </tr>\n",
       "    <tr>\n",
       "      <th>5</th>\n",
       "      <td>False</td>\n",
       "      <td>False</td>\n",
       "    </tr>\n",
       "    <tr>\n",
       "      <th>6</th>\n",
       "      <td>False</td>\n",
       "      <td>False</td>\n",
       "    </tr>\n",
       "  </tbody>\n",
       "</table>\n",
       "</div>"
      ],
      "text/plain": [
       "     pnf  address\n",
       "0   True    False\n",
       "1  False    False\n",
       "2  False    False\n",
       "3  False    False\n",
       "4  False    False\n",
       "5  False    False\n",
       "6  False    False"
      ]
     },
     "execution_count": 1,
     "metadata": {},
     "output_type": "execute_result"
    }
   ],
   "source": [
    "validate_bg_pnf(df)"
   ]
  },
  {
   "cell_type": "code",
   "execution_count": null,
   "id": "decent-dodge",
   "metadata": {},
   "outputs": [],
   "source": []
  }
 ],
 "metadata": {
  "kernelspec": {
   "display_name": "Python 3",
   "language": "python",
   "name": "python3"
  },
  "language_info": {
   "codemirror_mode": {
    "name": "ipython",
    "version": 3
   },
   "file_extension": ".py",
   "mimetype": "text/x-python",
   "name": "python",
   "nbconvert_exporter": "python",
   "pygments_lexer": "ipython3",
   "version": "3.8.10"
  }
 },
 "nbformat": 4,
 "nbformat_minor": 5
}
