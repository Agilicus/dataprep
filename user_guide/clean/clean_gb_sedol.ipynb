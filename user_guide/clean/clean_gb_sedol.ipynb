{
 "cells": [
  {
   "cell_type": "raw",
   "id": "acoustic-tunisia",
   "metadata": {},
   "source": [
    ".. _sedol_userguide:\n",
    "\n",
    "SEDOL Strings\n",
    "============"
   ]
  },
  {
   "cell_type": "raw",
   "id": "developmental-favor",
   "metadata": {},
   "source": [
    "Introduction\n",
    "------------\n",
    "\n",
    "The function :func:`clean_gb_sedol() <dataprep.clean.clean_gb_sedol.clean_gb_sedol>` cleans a column containing Stock Exchange Daily Official List number (SEDOL) strings, and standardizes them in a given format. The function :func:`validate_gb_sedol() <dataprep.clean.clean_gb_sedol.validate_gb_sedol>` validates either a single SEDOL strings, a column of SEDOL strings or a DataFrame of SEDOL strings, returning `True` if the value is valid, and `False` otherwise."
   ]
  },
  {
   "cell_type": "markdown",
   "id": "egyptian-deployment",
   "metadata": {},
   "source": [
    "SEDOL strings can be converted to the following formats via the `output_format` parameter:\n",
    "\n",
    "* `compact`: only number strings without any seperators or whitespace, like \"B15KXQ8\"\n",
    "* `standard`: SEDOL strings with proper whitespace in the proper places. Note that in the case of SEDOL, the compact format is the same as the standard one.\n",
    "* `isin`: convert the number to an ISIN, like \"GB00B15KXQ89\".\n",
    "\n",
    "Invalid parsing is handled with the `errors` parameter:\n",
    "\n",
    "* `coerce` (default): invalid parsing will be set to NaN\n",
    "* `ignore`: invalid parsing will return the input\n",
    "* `raise`: invalid parsing will raise an exception\n",
    "\n",
    "The following sections demonstrate the functionality of `clean_gb_sedol()` and `validate_gb_sedol()`. "
   ]
  },
  {
   "cell_type": "markdown",
   "id": "south-surprise",
   "metadata": {},
   "source": [
    "### An example dataset containing SEDOL strings"
   ]
  },
  {
   "cell_type": "code",
   "execution_count": 1,
   "id": "monthly-suicide",
   "metadata": {
    "execution": {
     "iopub.execute_input": "2021-10-26T23:01:28.748700Z",
     "iopub.status.busy": "2021-10-26T23:01:28.748211Z",
     "iopub.status.idle": "2021-10-26T23:01:28.965407Z",
     "shell.execute_reply": "2021-10-26T23:01:28.964934Z"
    }
   },
   "outputs": [
    {
     "data": {
      "text/html": [
       "<div>\n",
       "<style scoped>\n",
       "    .dataframe tbody tr th:only-of-type {\n",
       "        vertical-align: middle;\n",
       "    }\n",
       "\n",
       "    .dataframe tbody tr th {\n",
       "        vertical-align: top;\n",
       "    }\n",
       "\n",
       "    .dataframe thead th {\n",
       "        text-align: right;\n",
       "    }\n",
       "</style>\n",
       "<table border=\"1\" class=\"dataframe\">\n",
       "  <thead>\n",
       "    <tr style=\"text-align: right;\">\n",
       "      <th></th>\n",
       "      <th>sedol</th>\n",
       "      <th>address</th>\n",
       "    </tr>\n",
       "  </thead>\n",
       "  <tbody>\n",
       "    <tr>\n",
       "      <th>0</th>\n",
       "      <td>B15KXQ8</td>\n",
       "      <td>123 Pine Ave.</td>\n",
       "    </tr>\n",
       "    <tr>\n",
       "      <th>1</th>\n",
       "      <td>B15KXQ7</td>\n",
       "      <td>main st</td>\n",
       "    </tr>\n",
       "    <tr>\n",
       "      <th>2</th>\n",
       "      <td>7542011030</td>\n",
       "      <td>1234 west main heights 57033</td>\n",
       "    </tr>\n",
       "    <tr>\n",
       "      <th>3</th>\n",
       "      <td>7552A10004</td>\n",
       "      <td>apt 1 789 s maple rd manhattan</td>\n",
       "    </tr>\n",
       "    <tr>\n",
       "      <th>4</th>\n",
       "      <td>8019010008</td>\n",
       "      <td>robie house, 789 north main street</td>\n",
       "    </tr>\n",
       "    <tr>\n",
       "      <th>5</th>\n",
       "      <td>hello</td>\n",
       "      <td>1111 S Figueroa St, Los Angeles, CA 90015</td>\n",
       "    </tr>\n",
       "    <tr>\n",
       "      <th>6</th>\n",
       "      <td>NaN</td>\n",
       "      <td>(staples center) 1111 S Figueroa St, Los Angeles</td>\n",
       "    </tr>\n",
       "    <tr>\n",
       "      <th>7</th>\n",
       "      <td>NULL</td>\n",
       "      <td>hello</td>\n",
       "    </tr>\n",
       "  </tbody>\n",
       "</table>\n",
       "</div>"
      ],
      "text/plain": [
       "        sedol                                           address\n",
       "0     B15KXQ8                                     123 Pine Ave.\n",
       "1     B15KXQ7                                           main st\n",
       "2  7542011030                      1234 west main heights 57033\n",
       "3  7552A10004                    apt 1 789 s maple rd manhattan\n",
       "4  8019010008                robie house, 789 north main street\n",
       "5       hello         1111 S Figueroa St, Los Angeles, CA 90015\n",
       "6         NaN  (staples center) 1111 S Figueroa St, Los Angeles\n",
       "7        NULL                                             hello"
      ]
     },
     "execution_count": 1,
     "metadata": {},
     "output_type": "execute_result"
    }
   ],
   "source": [
    "import pandas as pd\n",
    "import numpy as np\n",
    "df = pd.DataFrame(\n",
    "    {\n",
    "        \"sedol\": [\n",
    "            'B15KXQ8',\n",
    "            'B15KXQ7',\n",
    "            '7542011030',\n",
    "            '7552A10004',\n",
    "            '8019010008',\n",
    "            \"hello\",\n",
    "            np.nan,\n",
    "            \"NULL\",\n",
    "        ], \n",
    "        \"address\": [\n",
    "            \"123 Pine Ave.\",\n",
    "            \"main st\",\n",
    "            \"1234 west main heights 57033\",\n",
    "            \"apt 1 789 s maple rd manhattan\",\n",
    "            \"robie house, 789 north main street\",\n",
    "            \"1111 S Figueroa St, Los Angeles, CA 90015\",\n",
    "            \"(staples center) 1111 S Figueroa St, Los Angeles\",\n",
    "            \"hello\",\n",
    "        ]\n",
    "    }\n",
    ")\n",
    "df"
   ]
  },
  {
   "cell_type": "markdown",
   "id": "tropical-stock",
   "metadata": {},
   "source": [
    "## 1. Default `clean_gb_sedol`\n",
    "\n",
    "By default, `clean_gb_sedol` will clean sedol strings and output them in the standard format with proper separators."
   ]
  },
  {
   "cell_type": "code",
   "execution_count": 2,
   "id": "honey-effects",
   "metadata": {
    "execution": {
     "iopub.execute_input": "2021-10-26T23:01:28.968956Z",
     "iopub.status.busy": "2021-10-26T23:01:28.968197Z",
     "iopub.status.idle": "2021-10-26T23:01:29.503141Z",
     "shell.execute_reply": "2021-10-26T23:01:29.503605Z"
    }
   },
   "outputs": [
    {
     "data": {
      "text/html": [
       "<div>\n",
       "<style scoped>\n",
       "    .dataframe tbody tr th:only-of-type {\n",
       "        vertical-align: middle;\n",
       "    }\n",
       "\n",
       "    .dataframe tbody tr th {\n",
       "        vertical-align: top;\n",
       "    }\n",
       "\n",
       "    .dataframe thead th {\n",
       "        text-align: right;\n",
       "    }\n",
       "</style>\n",
       "<table border=\"1\" class=\"dataframe\">\n",
       "  <thead>\n",
       "    <tr style=\"text-align: right;\">\n",
       "      <th></th>\n",
       "      <th>sedol</th>\n",
       "      <th>address</th>\n",
       "      <th>sedol_clean</th>\n",
       "    </tr>\n",
       "  </thead>\n",
       "  <tbody>\n",
       "    <tr>\n",
       "      <th>0</th>\n",
       "      <td>B15KXQ8</td>\n",
       "      <td>123 Pine Ave.</td>\n",
       "      <td>B15KXQ8</td>\n",
       "    </tr>\n",
       "    <tr>\n",
       "      <th>1</th>\n",
       "      <td>B15KXQ7</td>\n",
       "      <td>main st</td>\n",
       "      <td>NaN</td>\n",
       "    </tr>\n",
       "    <tr>\n",
       "      <th>2</th>\n",
       "      <td>7542011030</td>\n",
       "      <td>1234 west main heights 57033</td>\n",
       "      <td>NaN</td>\n",
       "    </tr>\n",
       "    <tr>\n",
       "      <th>3</th>\n",
       "      <td>7552A10004</td>\n",
       "      <td>apt 1 789 s maple rd manhattan</td>\n",
       "      <td>NaN</td>\n",
       "    </tr>\n",
       "    <tr>\n",
       "      <th>4</th>\n",
       "      <td>8019010008</td>\n",
       "      <td>robie house, 789 north main street</td>\n",
       "      <td>NaN</td>\n",
       "    </tr>\n",
       "    <tr>\n",
       "      <th>5</th>\n",
       "      <td>hello</td>\n",
       "      <td>1111 S Figueroa St, Los Angeles, CA 90015</td>\n",
       "      <td>NaN</td>\n",
       "    </tr>\n",
       "    <tr>\n",
       "      <th>6</th>\n",
       "      <td>NaN</td>\n",
       "      <td>(staples center) 1111 S Figueroa St, Los Angeles</td>\n",
       "      <td>NaN</td>\n",
       "    </tr>\n",
       "    <tr>\n",
       "      <th>7</th>\n",
       "      <td>NULL</td>\n",
       "      <td>hello</td>\n",
       "      <td>NaN</td>\n",
       "    </tr>\n",
       "  </tbody>\n",
       "</table>\n",
       "</div>"
      ],
      "text/plain": [
       "        sedol                                           address sedol_clean\n",
       "0     B15KXQ8                                     123 Pine Ave.     B15KXQ8\n",
       "1     B15KXQ7                                           main st         NaN\n",
       "2  7542011030                      1234 west main heights 57033         NaN\n",
       "3  7552A10004                    apt 1 789 s maple rd manhattan         NaN\n",
       "4  8019010008                robie house, 789 north main street         NaN\n",
       "5       hello         1111 S Figueroa St, Los Angeles, CA 90015         NaN\n",
       "6         NaN  (staples center) 1111 S Figueroa St, Los Angeles         NaN\n",
       "7        NULL                                             hello         NaN"
      ]
     },
     "execution_count": 1,
     "metadata": {},
     "output_type": "execute_result"
    }
   ],
   "source": [
    "from dataprep.clean import clean_gb_sedol\n",
    "clean_gb_sedol(df, column = \"sedol\")"
   ]
  },
  {
   "cell_type": "markdown",
   "id": "interior-privacy",
   "metadata": {},
   "source": [
    "## 2. Output formats"
   ]
  },
  {
   "cell_type": "markdown",
   "id": "saved-decimal",
   "metadata": {},
   "source": [
    "This section demonstrates the output parameter."
   ]
  },
  {
   "cell_type": "markdown",
   "id": "lightweight-guatemala",
   "metadata": {},
   "source": [
    "### `standard` (default)"
   ]
  },
  {
   "cell_type": "code",
   "execution_count": 3,
   "id": "younger-forward",
   "metadata": {
    "execution": {
     "iopub.execute_input": "2021-10-26T23:01:29.523175Z",
     "iopub.status.busy": "2021-10-26T23:01:29.521029Z",
     "iopub.status.idle": "2021-10-26T23:01:29.530253Z",
     "shell.execute_reply": "2021-10-26T23:01:29.530594Z"
    },
    "scrolled": true
   },
   "outputs": [
    {
     "data": {
      "text/html": [
       "<div>\n",
       "<style scoped>\n",
       "    .dataframe tbody tr th:only-of-type {\n",
       "        vertical-align: middle;\n",
       "    }\n",
       "\n",
       "    .dataframe tbody tr th {\n",
       "        vertical-align: top;\n",
       "    }\n",
       "\n",
       "    .dataframe thead th {\n",
       "        text-align: right;\n",
       "    }\n",
       "</style>\n",
       "<table border=\"1\" class=\"dataframe\">\n",
       "  <thead>\n",
       "    <tr style=\"text-align: right;\">\n",
       "      <th></th>\n",
       "      <th>sedol</th>\n",
       "      <th>address</th>\n",
       "      <th>sedol_clean</th>\n",
       "    </tr>\n",
       "  </thead>\n",
       "  <tbody>\n",
       "    <tr>\n",
       "      <th>0</th>\n",
       "      <td>B15KXQ8</td>\n",
       "      <td>123 Pine Ave.</td>\n",
       "      <td>B15KXQ8</td>\n",
       "    </tr>\n",
       "    <tr>\n",
       "      <th>1</th>\n",
       "      <td>B15KXQ7</td>\n",
       "      <td>main st</td>\n",
       "      <td>NaN</td>\n",
       "    </tr>\n",
       "    <tr>\n",
       "      <th>2</th>\n",
       "      <td>7542011030</td>\n",
       "      <td>1234 west main heights 57033</td>\n",
       "      <td>NaN</td>\n",
       "    </tr>\n",
       "    <tr>\n",
       "      <th>3</th>\n",
       "      <td>7552A10004</td>\n",
       "      <td>apt 1 789 s maple rd manhattan</td>\n",
       "      <td>NaN</td>\n",
       "    </tr>\n",
       "    <tr>\n",
       "      <th>4</th>\n",
       "      <td>8019010008</td>\n",
       "      <td>robie house, 789 north main street</td>\n",
       "      <td>NaN</td>\n",
       "    </tr>\n",
       "    <tr>\n",
       "      <th>5</th>\n",
       "      <td>hello</td>\n",
       "      <td>1111 S Figueroa St, Los Angeles, CA 90015</td>\n",
       "      <td>NaN</td>\n",
       "    </tr>\n",
       "    <tr>\n",
       "      <th>6</th>\n",
       "      <td>NaN</td>\n",
       "      <td>(staples center) 1111 S Figueroa St, Los Angeles</td>\n",
       "      <td>NaN</td>\n",
       "    </tr>\n",
       "    <tr>\n",
       "      <th>7</th>\n",
       "      <td>NULL</td>\n",
       "      <td>hello</td>\n",
       "      <td>NaN</td>\n",
       "    </tr>\n",
       "  </tbody>\n",
       "</table>\n",
       "</div>"
      ],
      "text/plain": [
       "        sedol                                           address sedol_clean\n",
       "0     B15KXQ8                                     123 Pine Ave.     B15KXQ8\n",
       "1     B15KXQ7                                           main st         NaN\n",
       "2  7542011030                      1234 west main heights 57033         NaN\n",
       "3  7552A10004                    apt 1 789 s maple rd manhattan         NaN\n",
       "4  8019010008                robie house, 789 north main street         NaN\n",
       "5       hello         1111 S Figueroa St, Los Angeles, CA 90015         NaN\n",
       "6         NaN  (staples center) 1111 S Figueroa St, Los Angeles         NaN\n",
       "7        NULL                                             hello         NaN"
      ]
     },
     "execution_count": 1,
     "metadata": {},
     "output_type": "execute_result"
    }
   ],
   "source": [
    "clean_gb_sedol(df, column = \"sedol\", output_format=\"standard\")"
   ]
  },
  {
   "cell_type": "markdown",
   "id": "several-formation",
   "metadata": {},
   "source": [
    "### `compact`"
   ]
  },
  {
   "cell_type": "code",
   "execution_count": 4,
   "id": "normal-bullet",
   "metadata": {
    "execution": {
     "iopub.execute_input": "2021-10-26T23:01:29.554066Z",
     "iopub.status.busy": "2021-10-26T23:01:29.547649Z",
     "iopub.status.idle": "2021-10-26T23:01:29.557689Z",
     "shell.execute_reply": "2021-10-26T23:01:29.558061Z"
    }
   },
   "outputs": [
    {
     "data": {
      "text/html": [
       "<div>\n",
       "<style scoped>\n",
       "    .dataframe tbody tr th:only-of-type {\n",
       "        vertical-align: middle;\n",
       "    }\n",
       "\n",
       "    .dataframe tbody tr th {\n",
       "        vertical-align: top;\n",
       "    }\n",
       "\n",
       "    .dataframe thead th {\n",
       "        text-align: right;\n",
       "    }\n",
       "</style>\n",
       "<table border=\"1\" class=\"dataframe\">\n",
       "  <thead>\n",
       "    <tr style=\"text-align: right;\">\n",
       "      <th></th>\n",
       "      <th>sedol</th>\n",
       "      <th>address</th>\n",
       "      <th>sedol_clean</th>\n",
       "    </tr>\n",
       "  </thead>\n",
       "  <tbody>\n",
       "    <tr>\n",
       "      <th>0</th>\n",
       "      <td>B15KXQ8</td>\n",
       "      <td>123 Pine Ave.</td>\n",
       "      <td>B15KXQ8</td>\n",
       "    </tr>\n",
       "    <tr>\n",
       "      <th>1</th>\n",
       "      <td>B15KXQ7</td>\n",
       "      <td>main st</td>\n",
       "      <td>NaN</td>\n",
       "    </tr>\n",
       "    <tr>\n",
       "      <th>2</th>\n",
       "      <td>7542011030</td>\n",
       "      <td>1234 west main heights 57033</td>\n",
       "      <td>NaN</td>\n",
       "    </tr>\n",
       "    <tr>\n",
       "      <th>3</th>\n",
       "      <td>7552A10004</td>\n",
       "      <td>apt 1 789 s maple rd manhattan</td>\n",
       "      <td>NaN</td>\n",
       "    </tr>\n",
       "    <tr>\n",
       "      <th>4</th>\n",
       "      <td>8019010008</td>\n",
       "      <td>robie house, 789 north main street</td>\n",
       "      <td>NaN</td>\n",
       "    </tr>\n",
       "    <tr>\n",
       "      <th>5</th>\n",
       "      <td>hello</td>\n",
       "      <td>1111 S Figueroa St, Los Angeles, CA 90015</td>\n",
       "      <td>NaN</td>\n",
       "    </tr>\n",
       "    <tr>\n",
       "      <th>6</th>\n",
       "      <td>NaN</td>\n",
       "      <td>(staples center) 1111 S Figueroa St, Los Angeles</td>\n",
       "      <td>NaN</td>\n",
       "    </tr>\n",
       "    <tr>\n",
       "      <th>7</th>\n",
       "      <td>NULL</td>\n",
       "      <td>hello</td>\n",
       "      <td>NaN</td>\n",
       "    </tr>\n",
       "  </tbody>\n",
       "</table>\n",
       "</div>"
      ],
      "text/plain": [
       "        sedol                                           address sedol_clean\n",
       "0     B15KXQ8                                     123 Pine Ave.     B15KXQ8\n",
       "1     B15KXQ7                                           main st         NaN\n",
       "2  7542011030                      1234 west main heights 57033         NaN\n",
       "3  7552A10004                    apt 1 789 s maple rd manhattan         NaN\n",
       "4  8019010008                robie house, 789 north main street         NaN\n",
       "5       hello         1111 S Figueroa St, Los Angeles, CA 90015         NaN\n",
       "6         NaN  (staples center) 1111 S Figueroa St, Los Angeles         NaN\n",
       "7        NULL                                             hello         NaN"
      ]
     },
     "execution_count": 1,
     "metadata": {},
     "output_type": "execute_result"
    }
   ],
   "source": [
    "clean_gb_sedol(df, column = \"sedol\", output_format=\"compact\")"
   ]
  },
  {
   "cell_type": "markdown",
   "id": "forty-stationery",
   "metadata": {},
   "source": [
    "### `isin`"
   ]
  },
  {
   "cell_type": "code",
   "execution_count": 5,
   "id": "essential-vietnamese",
   "metadata": {
    "execution": {
     "iopub.execute_input": "2021-10-26T23:01:29.577461Z",
     "iopub.status.busy": "2021-10-26T23:01:29.577015Z",
     "iopub.status.idle": "2021-10-26T23:01:29.585617Z",
     "shell.execute_reply": "2021-10-26T23:01:29.585186Z"
    }
   },
   "outputs": [
    {
     "data": {
      "text/html": [
       "<div>\n",
       "<style scoped>\n",
       "    .dataframe tbody tr th:only-of-type {\n",
       "        vertical-align: middle;\n",
       "    }\n",
       "\n",
       "    .dataframe tbody tr th {\n",
       "        vertical-align: top;\n",
       "    }\n",
       "\n",
       "    .dataframe thead th {\n",
       "        text-align: right;\n",
       "    }\n",
       "</style>\n",
       "<table border=\"1\" class=\"dataframe\">\n",
       "  <thead>\n",
       "    <tr style=\"text-align: right;\">\n",
       "      <th></th>\n",
       "      <th>sedol</th>\n",
       "      <th>address</th>\n",
       "      <th>sedol_clean</th>\n",
       "    </tr>\n",
       "  </thead>\n",
       "  <tbody>\n",
       "    <tr>\n",
       "      <th>0</th>\n",
       "      <td>B15KXQ8</td>\n",
       "      <td>123 Pine Ave.</td>\n",
       "      <td>GB00B15KXQ89</td>\n",
       "    </tr>\n",
       "    <tr>\n",
       "      <th>1</th>\n",
       "      <td>B15KXQ7</td>\n",
       "      <td>main st</td>\n",
       "      <td>NaN</td>\n",
       "    </tr>\n",
       "    <tr>\n",
       "      <th>2</th>\n",
       "      <td>7542011030</td>\n",
       "      <td>1234 west main heights 57033</td>\n",
       "      <td>NaN</td>\n",
       "    </tr>\n",
       "    <tr>\n",
       "      <th>3</th>\n",
       "      <td>7552A10004</td>\n",
       "      <td>apt 1 789 s maple rd manhattan</td>\n",
       "      <td>NaN</td>\n",
       "    </tr>\n",
       "    <tr>\n",
       "      <th>4</th>\n",
       "      <td>8019010008</td>\n",
       "      <td>robie house, 789 north main street</td>\n",
       "      <td>NaN</td>\n",
       "    </tr>\n",
       "    <tr>\n",
       "      <th>5</th>\n",
       "      <td>hello</td>\n",
       "      <td>1111 S Figueroa St, Los Angeles, CA 90015</td>\n",
       "      <td>NaN</td>\n",
       "    </tr>\n",
       "    <tr>\n",
       "      <th>6</th>\n",
       "      <td>NaN</td>\n",
       "      <td>(staples center) 1111 S Figueroa St, Los Angeles</td>\n",
       "      <td>NaN</td>\n",
       "    </tr>\n",
       "    <tr>\n",
       "      <th>7</th>\n",
       "      <td>NULL</td>\n",
       "      <td>hello</td>\n",
       "      <td>NaN</td>\n",
       "    </tr>\n",
       "  </tbody>\n",
       "</table>\n",
       "</div>"
      ],
      "text/plain": [
       "        sedol                                           address   sedol_clean\n",
       "0     B15KXQ8                                     123 Pine Ave.  GB00B15KXQ89\n",
       "1     B15KXQ7                                           main st           NaN\n",
       "2  7542011030                      1234 west main heights 57033           NaN\n",
       "3  7552A10004                    apt 1 789 s maple rd manhattan           NaN\n",
       "4  8019010008                robie house, 789 north main street           NaN\n",
       "5       hello         1111 S Figueroa St, Los Angeles, CA 90015           NaN\n",
       "6         NaN  (staples center) 1111 S Figueroa St, Los Angeles           NaN\n",
       "7        NULL                                             hello           NaN"
      ]
     },
     "execution_count": 1,
     "metadata": {},
     "output_type": "execute_result"
    }
   ],
   "source": [
    "clean_gb_sedol(df, column = \"sedol\", output_format=\"isin\")"
   ]
  },
  {
   "cell_type": "markdown",
   "id": "narrow-stephen",
   "metadata": {},
   "source": [
    "## 3. `inplace` parameter\n",
    "\n",
    "This deletes the given column from the returned DataFrame. \n",
    "A new column containing cleaned SEDOL strings is added with a title in the format `\"{original title}_clean\"`."
   ]
  },
  {
   "cell_type": "code",
   "execution_count": 6,
   "id": "cosmetic-saturn",
   "metadata": {
    "execution": {
     "iopub.execute_input": "2021-10-26T23:01:29.618554Z",
     "iopub.status.busy": "2021-10-26T23:01:29.614365Z",
     "iopub.status.idle": "2021-10-26T23:01:29.623006Z",
     "shell.execute_reply": "2021-10-26T23:01:29.622591Z"
    }
   },
   "outputs": [
    {
     "data": {
      "text/html": [
       "<div>\n",
       "<style scoped>\n",
       "    .dataframe tbody tr th:only-of-type {\n",
       "        vertical-align: middle;\n",
       "    }\n",
       "\n",
       "    .dataframe tbody tr th {\n",
       "        vertical-align: top;\n",
       "    }\n",
       "\n",
       "    .dataframe thead th {\n",
       "        text-align: right;\n",
       "    }\n",
       "</style>\n",
       "<table border=\"1\" class=\"dataframe\">\n",
       "  <thead>\n",
       "    <tr style=\"text-align: right;\">\n",
       "      <th></th>\n",
       "      <th>sedol_clean</th>\n",
       "      <th>address</th>\n",
       "    </tr>\n",
       "  </thead>\n",
       "  <tbody>\n",
       "    <tr>\n",
       "      <th>0</th>\n",
       "      <td>B15KXQ8</td>\n",
       "      <td>123 Pine Ave.</td>\n",
       "    </tr>\n",
       "    <tr>\n",
       "      <th>1</th>\n",
       "      <td>NaN</td>\n",
       "      <td>main st</td>\n",
       "    </tr>\n",
       "    <tr>\n",
       "      <th>2</th>\n",
       "      <td>NaN</td>\n",
       "      <td>1234 west main heights 57033</td>\n",
       "    </tr>\n",
       "    <tr>\n",
       "      <th>3</th>\n",
       "      <td>NaN</td>\n",
       "      <td>apt 1 789 s maple rd manhattan</td>\n",
       "    </tr>\n",
       "    <tr>\n",
       "      <th>4</th>\n",
       "      <td>NaN</td>\n",
       "      <td>robie house, 789 north main street</td>\n",
       "    </tr>\n",
       "    <tr>\n",
       "      <th>5</th>\n",
       "      <td>NaN</td>\n",
       "      <td>1111 S Figueroa St, Los Angeles, CA 90015</td>\n",
       "    </tr>\n",
       "    <tr>\n",
       "      <th>6</th>\n",
       "      <td>NaN</td>\n",
       "      <td>(staples center) 1111 S Figueroa St, Los Angeles</td>\n",
       "    </tr>\n",
       "    <tr>\n",
       "      <th>7</th>\n",
       "      <td>NaN</td>\n",
       "      <td>hello</td>\n",
       "    </tr>\n",
       "  </tbody>\n",
       "</table>\n",
       "</div>"
      ],
      "text/plain": [
       "  sedol_clean                                           address\n",
       "0     B15KXQ8                                     123 Pine Ave.\n",
       "1         NaN                                           main st\n",
       "2         NaN                      1234 west main heights 57033\n",
       "3         NaN                    apt 1 789 s maple rd manhattan\n",
       "4         NaN                robie house, 789 north main street\n",
       "5         NaN         1111 S Figueroa St, Los Angeles, CA 90015\n",
       "6         NaN  (staples center) 1111 S Figueroa St, Los Angeles\n",
       "7         NaN                                             hello"
      ]
     },
     "execution_count": 1,
     "metadata": {},
     "output_type": "execute_result"
    }
   ],
   "source": [
    "clean_gb_sedol(df, column=\"sedol\", inplace=True)"
   ]
  },
  {
   "cell_type": "markdown",
   "id": "square-harris",
   "metadata": {},
   "source": [
    "## 4. `errors` parameter"
   ]
  },
  {
   "cell_type": "markdown",
   "id": "judicial-oliver",
   "metadata": {},
   "source": [
    "### `coerce` (default)"
   ]
  },
  {
   "cell_type": "code",
   "execution_count": 7,
   "id": "afraid-participant",
   "metadata": {
    "execution": {
     "iopub.execute_input": "2021-10-26T23:01:29.642295Z",
     "iopub.status.busy": "2021-10-26T23:01:29.640000Z",
     "iopub.status.idle": "2021-10-26T23:01:29.650107Z",
     "shell.execute_reply": "2021-10-26T23:01:29.649701Z"
    }
   },
   "outputs": [
    {
     "data": {
      "text/html": [
       "<div>\n",
       "<style scoped>\n",
       "    .dataframe tbody tr th:only-of-type {\n",
       "        vertical-align: middle;\n",
       "    }\n",
       "\n",
       "    .dataframe tbody tr th {\n",
       "        vertical-align: top;\n",
       "    }\n",
       "\n",
       "    .dataframe thead th {\n",
       "        text-align: right;\n",
       "    }\n",
       "</style>\n",
       "<table border=\"1\" class=\"dataframe\">\n",
       "  <thead>\n",
       "    <tr style=\"text-align: right;\">\n",
       "      <th></th>\n",
       "      <th>sedol</th>\n",
       "      <th>address</th>\n",
       "      <th>sedol_clean</th>\n",
       "    </tr>\n",
       "  </thead>\n",
       "  <tbody>\n",
       "    <tr>\n",
       "      <th>0</th>\n",
       "      <td>B15KXQ8</td>\n",
       "      <td>123 Pine Ave.</td>\n",
       "      <td>B15KXQ8</td>\n",
       "    </tr>\n",
       "    <tr>\n",
       "      <th>1</th>\n",
       "      <td>B15KXQ7</td>\n",
       "      <td>main st</td>\n",
       "      <td>NaN</td>\n",
       "    </tr>\n",
       "    <tr>\n",
       "      <th>2</th>\n",
       "      <td>7542011030</td>\n",
       "      <td>1234 west main heights 57033</td>\n",
       "      <td>NaN</td>\n",
       "    </tr>\n",
       "    <tr>\n",
       "      <th>3</th>\n",
       "      <td>7552A10004</td>\n",
       "      <td>apt 1 789 s maple rd manhattan</td>\n",
       "      <td>NaN</td>\n",
       "    </tr>\n",
       "    <tr>\n",
       "      <th>4</th>\n",
       "      <td>8019010008</td>\n",
       "      <td>robie house, 789 north main street</td>\n",
       "      <td>NaN</td>\n",
       "    </tr>\n",
       "    <tr>\n",
       "      <th>5</th>\n",
       "      <td>hello</td>\n",
       "      <td>1111 S Figueroa St, Los Angeles, CA 90015</td>\n",
       "      <td>NaN</td>\n",
       "    </tr>\n",
       "    <tr>\n",
       "      <th>6</th>\n",
       "      <td>NaN</td>\n",
       "      <td>(staples center) 1111 S Figueroa St, Los Angeles</td>\n",
       "      <td>NaN</td>\n",
       "    </tr>\n",
       "    <tr>\n",
       "      <th>7</th>\n",
       "      <td>NULL</td>\n",
       "      <td>hello</td>\n",
       "      <td>NaN</td>\n",
       "    </tr>\n",
       "  </tbody>\n",
       "</table>\n",
       "</div>"
      ],
      "text/plain": [
       "        sedol                                           address sedol_clean\n",
       "0     B15KXQ8                                     123 Pine Ave.     B15KXQ8\n",
       "1     B15KXQ7                                           main st         NaN\n",
       "2  7542011030                      1234 west main heights 57033         NaN\n",
       "3  7552A10004                    apt 1 789 s maple rd manhattan         NaN\n",
       "4  8019010008                robie house, 789 north main street         NaN\n",
       "5       hello         1111 S Figueroa St, Los Angeles, CA 90015         NaN\n",
       "6         NaN  (staples center) 1111 S Figueroa St, Los Angeles         NaN\n",
       "7        NULL                                             hello         NaN"
      ]
     },
     "execution_count": 1,
     "metadata": {},
     "output_type": "execute_result"
    }
   ],
   "source": [
    "clean_gb_sedol(df, \"sedol\", errors=\"coerce\")"
   ]
  },
  {
   "cell_type": "markdown",
   "id": "pregnant-singer",
   "metadata": {},
   "source": [
    "### `ignore`"
   ]
  },
  {
   "cell_type": "code",
   "execution_count": 8,
   "id": "statewide-duplicate",
   "metadata": {
    "execution": {
     "iopub.execute_input": "2021-10-26T23:01:29.670639Z",
     "iopub.status.busy": "2021-10-26T23:01:29.666715Z",
     "iopub.status.idle": "2021-10-26T23:01:29.678695Z",
     "shell.execute_reply": "2021-10-26T23:01:29.678320Z"
    }
   },
   "outputs": [
    {
     "data": {
      "text/html": [
       "<div>\n",
       "<style scoped>\n",
       "    .dataframe tbody tr th:only-of-type {\n",
       "        vertical-align: middle;\n",
       "    }\n",
       "\n",
       "    .dataframe tbody tr th {\n",
       "        vertical-align: top;\n",
       "    }\n",
       "\n",
       "    .dataframe thead th {\n",
       "        text-align: right;\n",
       "    }\n",
       "</style>\n",
       "<table border=\"1\" class=\"dataframe\">\n",
       "  <thead>\n",
       "    <tr style=\"text-align: right;\">\n",
       "      <th></th>\n",
       "      <th>sedol</th>\n",
       "      <th>address</th>\n",
       "      <th>sedol_clean</th>\n",
       "    </tr>\n",
       "  </thead>\n",
       "  <tbody>\n",
       "    <tr>\n",
       "      <th>0</th>\n",
       "      <td>B15KXQ8</td>\n",
       "      <td>123 Pine Ave.</td>\n",
       "      <td>B15KXQ8</td>\n",
       "    </tr>\n",
       "    <tr>\n",
       "      <th>1</th>\n",
       "      <td>B15KXQ7</td>\n",
       "      <td>main st</td>\n",
       "      <td>B15KXQ7</td>\n",
       "    </tr>\n",
       "    <tr>\n",
       "      <th>2</th>\n",
       "      <td>7542011030</td>\n",
       "      <td>1234 west main heights 57033</td>\n",
       "      <td>7542011030</td>\n",
       "    </tr>\n",
       "    <tr>\n",
       "      <th>3</th>\n",
       "      <td>7552A10004</td>\n",
       "      <td>apt 1 789 s maple rd manhattan</td>\n",
       "      <td>7552A10004</td>\n",
       "    </tr>\n",
       "    <tr>\n",
       "      <th>4</th>\n",
       "      <td>8019010008</td>\n",
       "      <td>robie house, 789 north main street</td>\n",
       "      <td>8019010008</td>\n",
       "    </tr>\n",
       "    <tr>\n",
       "      <th>5</th>\n",
       "      <td>hello</td>\n",
       "      <td>1111 S Figueroa St, Los Angeles, CA 90015</td>\n",
       "      <td>hello</td>\n",
       "    </tr>\n",
       "    <tr>\n",
       "      <th>6</th>\n",
       "      <td>NaN</td>\n",
       "      <td>(staples center) 1111 S Figueroa St, Los Angeles</td>\n",
       "      <td>NaN</td>\n",
       "    </tr>\n",
       "    <tr>\n",
       "      <th>7</th>\n",
       "      <td>NULL</td>\n",
       "      <td>hello</td>\n",
       "      <td>NaN</td>\n",
       "    </tr>\n",
       "  </tbody>\n",
       "</table>\n",
       "</div>"
      ],
      "text/plain": [
       "        sedol                                           address sedol_clean\n",
       "0     B15KXQ8                                     123 Pine Ave.     B15KXQ8\n",
       "1     B15KXQ7                                           main st     B15KXQ7\n",
       "2  7542011030                      1234 west main heights 57033  7542011030\n",
       "3  7552A10004                    apt 1 789 s maple rd manhattan  7552A10004\n",
       "4  8019010008                robie house, 789 north main street  8019010008\n",
       "5       hello         1111 S Figueroa St, Los Angeles, CA 90015       hello\n",
       "6         NaN  (staples center) 1111 S Figueroa St, Los Angeles         NaN\n",
       "7        NULL                                             hello         NaN"
      ]
     },
     "execution_count": 1,
     "metadata": {},
     "output_type": "execute_result"
    }
   ],
   "source": [
    "clean_gb_sedol(df, \"sedol\", errors=\"ignore\")"
   ]
  },
  {
   "cell_type": "markdown",
   "id": "czech-kitty",
   "metadata": {},
   "source": [
    "## 4. `validate_gb_sedol()`"
   ]
  },
  {
   "cell_type": "markdown",
   "id": "molecular-lawrence",
   "metadata": {},
   "source": [
    "`validate_gb_sedol()` returns `True` when the input is a valid SEDOL. Otherwise it returns `False`.\n",
    "\n",
    "The input of `validate_gb_sedol()` can be a string, a Pandas DataSeries, a Dask DataSeries, a Pandas DataFrame and a dask DataFrame.\n",
    "\n",
    "When the input is a string, a Pandas DataSeries or a Dask DataSeries, user doesn't need to specify a column name to be validated. \n",
    "\n",
    "When the input is a Pandas DataFrame or a dask DataFrame, user can both specify or not specify a column name to be validated. If user specify the column name, `validate_gb_sedol()` only returns the validation result for the specified column. If user doesn't specify the column name, `validate_gb_sedol()` returns the validation result for the whole DataFrame."
   ]
  },
  {
   "cell_type": "code",
   "execution_count": 9,
   "id": "minor-darkness",
   "metadata": {
    "execution": {
     "iopub.execute_input": "2021-10-26T23:01:29.682867Z",
     "iopub.status.busy": "2021-10-26T23:01:29.682434Z",
     "iopub.status.idle": "2021-10-26T23:01:29.687660Z",
     "shell.execute_reply": "2021-10-26T23:01:29.686810Z"
    }
   },
   "outputs": [
    {
     "name": "stdout",
     "output_type": "stream",
     "text": [
      "True\n",
      "False\n",
      "False\n",
      "False\n",
      "False\n",
      "False\n",
      "False\n",
      "False\n"
     ]
    }
   ],
   "source": [
    "from dataprep.clean import validate_gb_sedol\n",
    "print(validate_gb_sedol('B15KXQ8'))\n",
    "print(validate_gb_sedol('B15KXQ7'))\n",
    "print(validate_gb_sedol('7542011030'))\n",
    "print(validate_gb_sedol('7552A10004'))\n",
    "print(validate_gb_sedol('8019010008'))\n",
    "print(validate_gb_sedol(\"hello\"))\n",
    "print(validate_gb_sedol(np.nan))\n",
    "print(validate_gb_sedol(\"NULL\"))"
   ]
  },
  {
   "cell_type": "markdown",
   "id": "durable-start",
   "metadata": {},
   "source": [
    "### Series"
   ]
  },
  {
   "cell_type": "code",
   "execution_count": 10,
   "id": "expected-township",
   "metadata": {
    "execution": {
     "iopub.execute_input": "2021-10-26T23:01:29.691873Z",
     "iopub.status.busy": "2021-10-26T23:01:29.691447Z",
     "iopub.status.idle": "2021-10-26T23:01:29.695914Z",
     "shell.execute_reply": "2021-10-26T23:01:29.695520Z"
    }
   },
   "outputs": [
    {
     "data": {
      "text/plain": [
       "0     True\n",
       "1    False\n",
       "2    False\n",
       "3    False\n",
       "4    False\n",
       "5    False\n",
       "6    False\n",
       "7    False\n",
       "Name: sedol, dtype: bool"
      ]
     },
     "execution_count": 1,
     "metadata": {},
     "output_type": "execute_result"
    }
   ],
   "source": [
    "validate_gb_sedol(df[\"sedol\"])"
   ]
  },
  {
   "cell_type": "markdown",
   "id": "nominated-softball",
   "metadata": {},
   "source": [
    "### DataFrame + Specify Column"
   ]
  },
  {
   "cell_type": "code",
   "execution_count": 11,
   "id": "unnecessary-sympathy",
   "metadata": {
    "execution": {
     "iopub.execute_input": "2021-10-26T23:01:29.700091Z",
     "iopub.status.busy": "2021-10-26T23:01:29.699665Z",
     "iopub.status.idle": "2021-10-26T23:01:29.703480Z",
     "shell.execute_reply": "2021-10-26T23:01:29.703952Z"
    }
   },
   "outputs": [
    {
     "data": {
      "text/plain": [
       "0     True\n",
       "1    False\n",
       "2    False\n",
       "3    False\n",
       "4    False\n",
       "5    False\n",
       "6    False\n",
       "7    False\n",
       "Name: sedol, dtype: bool"
      ]
     },
     "execution_count": 1,
     "metadata": {},
     "output_type": "execute_result"
    }
   ],
   "source": [
    "validate_gb_sedol(df, column=\"sedol\")"
   ]
  },
  {
   "cell_type": "markdown",
   "id": "dangerous-force",
   "metadata": {},
   "source": [
    "### Only DataFrame"
   ]
  },
  {
   "cell_type": "code",
   "execution_count": 12,
   "id": "trained-private",
   "metadata": {
    "execution": {
     "iopub.execute_input": "2021-10-26T23:01:29.711147Z",
     "iopub.status.busy": "2021-10-26T23:01:29.706417Z",
     "iopub.status.idle": "2021-10-26T23:01:29.714770Z",
     "shell.execute_reply": "2021-10-26T23:01:29.714413Z"
    }
   },
   "outputs": [
    {
     "data": {
      "text/html": [
       "<div>\n",
       "<style scoped>\n",
       "    .dataframe tbody tr th:only-of-type {\n",
       "        vertical-align: middle;\n",
       "    }\n",
       "\n",
       "    .dataframe tbody tr th {\n",
       "        vertical-align: top;\n",
       "    }\n",
       "\n",
       "    .dataframe thead th {\n",
       "        text-align: right;\n",
       "    }\n",
       "</style>\n",
       "<table border=\"1\" class=\"dataframe\">\n",
       "  <thead>\n",
       "    <tr style=\"text-align: right;\">\n",
       "      <th></th>\n",
       "      <th>sedol</th>\n",
       "      <th>address</th>\n",
       "    </tr>\n",
       "  </thead>\n",
       "  <tbody>\n",
       "    <tr>\n",
       "      <th>0</th>\n",
       "      <td>True</td>\n",
       "      <td>False</td>\n",
       "    </tr>\n",
       "    <tr>\n",
       "      <th>1</th>\n",
       "      <td>False</td>\n",
       "      <td>False</td>\n",
       "    </tr>\n",
       "    <tr>\n",
       "      <th>2</th>\n",
       "      <td>False</td>\n",
       "      <td>False</td>\n",
       "    </tr>\n",
       "    <tr>\n",
       "      <th>3</th>\n",
       "      <td>False</td>\n",
       "      <td>False</td>\n",
       "    </tr>\n",
       "    <tr>\n",
       "      <th>4</th>\n",
       "      <td>False</td>\n",
       "      <td>False</td>\n",
       "    </tr>\n",
       "    <tr>\n",
       "      <th>5</th>\n",
       "      <td>False</td>\n",
       "      <td>False</td>\n",
       "    </tr>\n",
       "    <tr>\n",
       "      <th>6</th>\n",
       "      <td>False</td>\n",
       "      <td>False</td>\n",
       "    </tr>\n",
       "    <tr>\n",
       "      <th>7</th>\n",
       "      <td>False</td>\n",
       "      <td>False</td>\n",
       "    </tr>\n",
       "  </tbody>\n",
       "</table>\n",
       "</div>"
      ],
      "text/plain": [
       "   sedol  address\n",
       "0   True    False\n",
       "1  False    False\n",
       "2  False    False\n",
       "3  False    False\n",
       "4  False    False\n",
       "5  False    False\n",
       "6  False    False\n",
       "7  False    False"
      ]
     },
     "execution_count": 1,
     "metadata": {},
     "output_type": "execute_result"
    }
   ],
   "source": [
    "validate_gb_sedol(df)"
   ]
  },
  {
   "cell_type": "code",
   "execution_count": null,
   "id": "constitutional-perspective",
   "metadata": {},
   "outputs": [],
   "source": []
  }
 ],
 "metadata": {
  "kernelspec": {
   "display_name": "Python 3",
   "language": "python",
   "name": "python3"
  },
  "language_info": {
   "codemirror_mode": {
    "name": "ipython",
    "version": 3
   },
   "file_extension": ".py",
   "mimetype": "text/x-python",
   "name": "python",
   "nbconvert_exporter": "python",
   "pygments_lexer": "ipython3",
   "version": "3.8.10"
  }
 },
 "nbformat": 4,
 "nbformat_minor": 5
}
