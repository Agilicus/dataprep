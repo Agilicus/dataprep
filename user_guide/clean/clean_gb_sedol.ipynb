{
 "cells": [
  {
   "cell_type": "raw",
   "id": "hearing-starter",
   "metadata": {},
   "source": [
    ".. _sedol_userguide:\n",
    "\n",
    "Stock Exchange Daily Official List Numbers\n",
    "=========================================="
   ]
  },
  {
   "cell_type": "raw",
   "id": "fitting-blend",
   "metadata": {},
   "source": [
    "Introduction\n",
    "------------\n",
    "\n",
    "The function :func:`clean_gb_sedol() <dataprep.clean.clean_gb_sedol.clean_gb_sedol>` cleans a column containing Stock Exchange Daily Official List number (SEDOL) strings, and standardizes them in a given format. The function :func:`validate_gb_sedol() <dataprep.clean.clean_gb_sedol.validate_gb_sedol>` validates either a single SEDOL strings, a column of SEDOL strings or a DataFrame of SEDOL strings, returning `True` if the value is valid, and `False` otherwise."
   ]
  },
  {
   "cell_type": "markdown",
   "id": "packed-substitute",
   "metadata": {},
   "source": [
    "SEDOL strings can be converted to the following formats via the `output_format` parameter:\n",
    "\n",
    "* `compact`: only number strings without any seperators or whitespace, like \"B15KXQ8\"\n",
    "* `standard`: SEDOL strings with proper whitespace in the proper places. Note that in the case of SEDOL, the compact format is the same as the standard one.\n",
    "* `isin`: convert the number to an ISIN, like \"GB00B15KXQ89\".\n",
    "\n",
    "Invalid parsing is handled with the `errors` parameter:\n",
    "\n",
    "* `coerce` (default): invalid parsing will be set to NaN\n",
    "* `ignore`: invalid parsing will return the input\n",
    "* `raise`: invalid parsing will raise an exception\n",
    "\n",
    "The following sections demonstrate the functionality of `clean_gb_sedol()` and `validate_gb_sedol()`. "
   ]
  },
  {
   "cell_type": "markdown",
   "id": "declared-vault",
   "metadata": {},
   "source": [
    "### An example dataset containing SEDOL strings"
   ]
  },
  {
   "cell_type": "code",
   "execution_count": 1,
   "id": "extended-spain",
   "metadata": {
    "execution": {
     "iopub.execute_input": "2021-10-30T05:19:43.669982Z",
     "iopub.status.busy": "2021-10-30T05:19:43.668642Z",
     "iopub.status.idle": "2021-10-30T05:19:43.911018Z",
     "shell.execute_reply": "2021-10-30T05:19:43.910165Z"
    }
   },
   "outputs": [
    {
     "data": {
      "text/html": [
       "<div>\n",
       "<style scoped>\n",
       "    .dataframe tbody tr th:only-of-type {\n",
       "        vertical-align: middle;\n",
       "    }\n",
       "\n",
       "    .dataframe tbody tr th {\n",
       "        vertical-align: top;\n",
       "    }\n",
       "\n",
       "    .dataframe thead th {\n",
       "        text-align: right;\n",
       "    }\n",
       "</style>\n",
       "<table border=\"1\" class=\"dataframe\">\n",
       "  <thead>\n",
       "    <tr style=\"text-align: right;\">\n",
       "      <th></th>\n",
       "      <th>sedol</th>\n",
       "      <th>address</th>\n",
       "    </tr>\n",
       "  </thead>\n",
       "  <tbody>\n",
       "    <tr>\n",
       "      <th>0</th>\n",
       "      <td>B15KXQ8</td>\n",
       "      <td>123 Pine Ave.</td>\n",
       "    </tr>\n",
       "    <tr>\n",
       "      <th>1</th>\n",
       "      <td>B15KXQ7</td>\n",
       "      <td>main st</td>\n",
       "    </tr>\n",
       "    <tr>\n",
       "      <th>2</th>\n",
       "      <td>7542011030</td>\n",
       "      <td>1234 west main heights 57033</td>\n",
       "    </tr>\n",
       "    <tr>\n",
       "      <th>3</th>\n",
       "      <td>7552A10004</td>\n",
       "      <td>apt 1 789 s maple rd manhattan</td>\n",
       "    </tr>\n",
       "    <tr>\n",
       "      <th>4</th>\n",
       "      <td>8019010008</td>\n",
       "      <td>robie house, 789 north main street</td>\n",
       "    </tr>\n",
       "    <tr>\n",
       "      <th>5</th>\n",
       "      <td>hello</td>\n",
       "      <td>1111 S Figueroa St, Los Angeles, CA 90015</td>\n",
       "    </tr>\n",
       "    <tr>\n",
       "      <th>6</th>\n",
       "      <td>NaN</td>\n",
       "      <td>(staples center) 1111 S Figueroa St, Los Angeles</td>\n",
       "    </tr>\n",
       "    <tr>\n",
       "      <th>7</th>\n",
       "      <td>NULL</td>\n",
       "      <td>hello</td>\n",
       "    </tr>\n",
       "  </tbody>\n",
       "</table>\n",
       "</div>"
      ],
      "text/plain": [
       "        sedol                                           address\n",
       "0     B15KXQ8                                     123 Pine Ave.\n",
       "1     B15KXQ7                                           main st\n",
       "2  7542011030                      1234 west main heights 57033\n",
       "3  7552A10004                    apt 1 789 s maple rd manhattan\n",
       "4  8019010008                robie house, 789 north main street\n",
       "5       hello         1111 S Figueroa St, Los Angeles, CA 90015\n",
       "6         NaN  (staples center) 1111 S Figueroa St, Los Angeles\n",
       "7        NULL                                             hello"
      ]
     },
     "execution_count": 1,
     "metadata": {},
     "output_type": "execute_result"
    }
   ],
   "source": [
    "import pandas as pd\n",
    "import numpy as np\n",
    "df = pd.DataFrame(\n",
    "    {\n",
    "        \"sedol\": [\n",
    "            'B15KXQ8',\n",
    "            'B15KXQ7',\n",
    "            '7542011030',\n",
    "            '7552A10004',\n",
    "            '8019010008',\n",
    "            \"hello\",\n",
    "            np.nan,\n",
    "            \"NULL\",\n",
    "        ], \n",
    "        \"address\": [\n",
    "            \"123 Pine Ave.\",\n",
    "            \"main st\",\n",
    "            \"1234 west main heights 57033\",\n",
    "            \"apt 1 789 s maple rd manhattan\",\n",
    "            \"robie house, 789 north main street\",\n",
    "            \"1111 S Figueroa St, Los Angeles, CA 90015\",\n",
    "            \"(staples center) 1111 S Figueroa St, Los Angeles\",\n",
    "            \"hello\",\n",
    "        ]\n",
    "    }\n",
    ")\n",
    "df"
   ]
  },
  {
   "cell_type": "markdown",
   "id": "placed-alarm",
   "metadata": {},
   "source": [
    "## 1. Default `clean_gb_sedol`\n",
    "\n",
    "By default, `clean_gb_sedol` will clean sedol strings and output them in the standard format with proper separators."
   ]
  },
  {
   "cell_type": "code",
   "execution_count": 2,
   "id": "identified-messenger",
   "metadata": {
    "execution": {
     "iopub.execute_input": "2021-10-30T05:19:43.915504Z",
     "iopub.status.busy": "2021-10-30T05:19:43.915015Z",
     "iopub.status.idle": "2021-10-30T05:19:44.494502Z",
     "shell.execute_reply": "2021-10-30T05:19:44.494994Z"
    }
   },
   "outputs": [
    {
     "data": {
      "text/html": [
       "<div>\n",
       "<style scoped>\n",
       "    .dataframe tbody tr th:only-of-type {\n",
       "        vertical-align: middle;\n",
       "    }\n",
       "\n",
       "    .dataframe tbody tr th {\n",
       "        vertical-align: top;\n",
       "    }\n",
       "\n",
       "    .dataframe thead th {\n",
       "        text-align: right;\n",
       "    }\n",
       "</style>\n",
       "<table border=\"1\" class=\"dataframe\">\n",
       "  <thead>\n",
       "    <tr style=\"text-align: right;\">\n",
       "      <th></th>\n",
       "      <th>sedol</th>\n",
       "      <th>address</th>\n",
       "      <th>sedol_clean</th>\n",
       "    </tr>\n",
       "  </thead>\n",
       "  <tbody>\n",
       "    <tr>\n",
       "      <th>0</th>\n",
       "      <td>B15KXQ8</td>\n",
       "      <td>123 Pine Ave.</td>\n",
       "      <td>B15KXQ8</td>\n",
       "    </tr>\n",
       "    <tr>\n",
       "      <th>1</th>\n",
       "      <td>B15KXQ7</td>\n",
       "      <td>main st</td>\n",
       "      <td>NaN</td>\n",
       "    </tr>\n",
       "    <tr>\n",
       "      <th>2</th>\n",
       "      <td>7542011030</td>\n",
       "      <td>1234 west main heights 57033</td>\n",
       "      <td>NaN</td>\n",
       "    </tr>\n",
       "    <tr>\n",
       "      <th>3</th>\n",
       "      <td>7552A10004</td>\n",
       "      <td>apt 1 789 s maple rd manhattan</td>\n",
       "      <td>NaN</td>\n",
       "    </tr>\n",
       "    <tr>\n",
       "      <th>4</th>\n",
       "      <td>8019010008</td>\n",
       "      <td>robie house, 789 north main street</td>\n",
       "      <td>NaN</td>\n",
       "    </tr>\n",
       "    <tr>\n",
       "      <th>5</th>\n",
       "      <td>hello</td>\n",
       "      <td>1111 S Figueroa St, Los Angeles, CA 90015</td>\n",
       "      <td>NaN</td>\n",
       "    </tr>\n",
       "    <tr>\n",
       "      <th>6</th>\n",
       "      <td>NaN</td>\n",
       "      <td>(staples center) 1111 S Figueroa St, Los Angeles</td>\n",
       "      <td>NaN</td>\n",
       "    </tr>\n",
       "    <tr>\n",
       "      <th>7</th>\n",
       "      <td>NULL</td>\n",
       "      <td>hello</td>\n",
       "      <td>NaN</td>\n",
       "    </tr>\n",
       "  </tbody>\n",
       "</table>\n",
       "</div>"
      ],
      "text/plain": [
       "        sedol                                           address sedol_clean\n",
       "0     B15KXQ8                                     123 Pine Ave.     B15KXQ8\n",
       "1     B15KXQ7                                           main st         NaN\n",
       "2  7542011030                      1234 west main heights 57033         NaN\n",
       "3  7552A10004                    apt 1 789 s maple rd manhattan         NaN\n",
       "4  8019010008                robie house, 789 north main street         NaN\n",
       "5       hello         1111 S Figueroa St, Los Angeles, CA 90015         NaN\n",
       "6         NaN  (staples center) 1111 S Figueroa St, Los Angeles         NaN\n",
       "7        NULL                                             hello         NaN"
      ]
     },
     "execution_count": 1,
     "metadata": {},
     "output_type": "execute_result"
    }
   ],
   "source": [
    "from dataprep.clean import clean_gb_sedol\n",
    "clean_gb_sedol(df, column = \"sedol\")"
   ]
  },
  {
   "cell_type": "markdown",
   "id": "engaging-cycling",
   "metadata": {},
   "source": [
    "## 2. Output formats"
   ]
  },
  {
   "cell_type": "markdown",
   "id": "sharing-citation",
   "metadata": {},
   "source": [
    "This section demonstrates the output parameter."
   ]
  },
  {
   "cell_type": "markdown",
   "id": "noted-lawrence",
   "metadata": {},
   "source": [
    "### `standard` (default)"
   ]
  },
  {
   "cell_type": "code",
   "execution_count": 3,
   "id": "cubic-spyware",
   "metadata": {
    "execution": {
     "iopub.execute_input": "2021-10-30T05:19:44.513205Z",
     "iopub.status.busy": "2021-10-30T05:19:44.512591Z",
     "iopub.status.idle": "2021-10-30T05:19:44.525100Z",
     "shell.execute_reply": "2021-10-30T05:19:44.524696Z"
    },
    "scrolled": true
   },
   "outputs": [
    {
     "data": {
      "text/html": [
       "<div>\n",
       "<style scoped>\n",
       "    .dataframe tbody tr th:only-of-type {\n",
       "        vertical-align: middle;\n",
       "    }\n",
       "\n",
       "    .dataframe tbody tr th {\n",
       "        vertical-align: top;\n",
       "    }\n",
       "\n",
       "    .dataframe thead th {\n",
       "        text-align: right;\n",
       "    }\n",
       "</style>\n",
       "<table border=\"1\" class=\"dataframe\">\n",
       "  <thead>\n",
       "    <tr style=\"text-align: right;\">\n",
       "      <th></th>\n",
       "      <th>sedol</th>\n",
       "      <th>address</th>\n",
       "      <th>sedol_clean</th>\n",
       "    </tr>\n",
       "  </thead>\n",
       "  <tbody>\n",
       "    <tr>\n",
       "      <th>0</th>\n",
       "      <td>B15KXQ8</td>\n",
       "      <td>123 Pine Ave.</td>\n",
       "      <td>B15KXQ8</td>\n",
       "    </tr>\n",
       "    <tr>\n",
       "      <th>1</th>\n",
       "      <td>B15KXQ7</td>\n",
       "      <td>main st</td>\n",
       "      <td>NaN</td>\n",
       "    </tr>\n",
       "    <tr>\n",
       "      <th>2</th>\n",
       "      <td>7542011030</td>\n",
       "      <td>1234 west main heights 57033</td>\n",
       "      <td>NaN</td>\n",
       "    </tr>\n",
       "    <tr>\n",
       "      <th>3</th>\n",
       "      <td>7552A10004</td>\n",
       "      <td>apt 1 789 s maple rd manhattan</td>\n",
       "      <td>NaN</td>\n",
       "    </tr>\n",
       "    <tr>\n",
       "      <th>4</th>\n",
       "      <td>8019010008</td>\n",
       "      <td>robie house, 789 north main street</td>\n",
       "      <td>NaN</td>\n",
       "    </tr>\n",
       "    <tr>\n",
       "      <th>5</th>\n",
       "      <td>hello</td>\n",
       "      <td>1111 S Figueroa St, Los Angeles, CA 90015</td>\n",
       "      <td>NaN</td>\n",
       "    </tr>\n",
       "    <tr>\n",
       "      <th>6</th>\n",
       "      <td>NaN</td>\n",
       "      <td>(staples center) 1111 S Figueroa St, Los Angeles</td>\n",
       "      <td>NaN</td>\n",
       "    </tr>\n",
       "    <tr>\n",
       "      <th>7</th>\n",
       "      <td>NULL</td>\n",
       "      <td>hello</td>\n",
       "      <td>NaN</td>\n",
       "    </tr>\n",
       "  </tbody>\n",
       "</table>\n",
       "</div>"
      ],
      "text/plain": [
       "        sedol                                           address sedol_clean\n",
       "0     B15KXQ8                                     123 Pine Ave.     B15KXQ8\n",
       "1     B15KXQ7                                           main st         NaN\n",
       "2  7542011030                      1234 west main heights 57033         NaN\n",
       "3  7552A10004                    apt 1 789 s maple rd manhattan         NaN\n",
       "4  8019010008                robie house, 789 north main street         NaN\n",
       "5       hello         1111 S Figueroa St, Los Angeles, CA 90015         NaN\n",
       "6         NaN  (staples center) 1111 S Figueroa St, Los Angeles         NaN\n",
       "7        NULL                                             hello         NaN"
      ]
     },
     "execution_count": 1,
     "metadata": {},
     "output_type": "execute_result"
    }
   ],
   "source": [
    "clean_gb_sedol(df, column = \"sedol\", output_format=\"standard\")"
   ]
  },
  {
   "cell_type": "markdown",
   "id": "running-liabilities",
   "metadata": {},
   "source": [
    "### `compact`"
   ]
  },
  {
   "cell_type": "code",
   "execution_count": 4,
   "id": "posted-synthetic",
   "metadata": {
    "execution": {
     "iopub.execute_input": "2021-10-30T05:19:44.542236Z",
     "iopub.status.busy": "2021-10-30T05:19:44.535085Z",
     "iopub.status.idle": "2021-10-30T05:19:44.555151Z",
     "shell.execute_reply": "2021-10-30T05:19:44.554663Z"
    }
   },
   "outputs": [
    {
     "data": {
      "text/html": [
       "<div>\n",
       "<style scoped>\n",
       "    .dataframe tbody tr th:only-of-type {\n",
       "        vertical-align: middle;\n",
       "    }\n",
       "\n",
       "    .dataframe tbody tr th {\n",
       "        vertical-align: top;\n",
       "    }\n",
       "\n",
       "    .dataframe thead th {\n",
       "        text-align: right;\n",
       "    }\n",
       "</style>\n",
       "<table border=\"1\" class=\"dataframe\">\n",
       "  <thead>\n",
       "    <tr style=\"text-align: right;\">\n",
       "      <th></th>\n",
       "      <th>sedol</th>\n",
       "      <th>address</th>\n",
       "      <th>sedol_clean</th>\n",
       "    </tr>\n",
       "  </thead>\n",
       "  <tbody>\n",
       "    <tr>\n",
       "      <th>0</th>\n",
       "      <td>B15KXQ8</td>\n",
       "      <td>123 Pine Ave.</td>\n",
       "      <td>B15KXQ8</td>\n",
       "    </tr>\n",
       "    <tr>\n",
       "      <th>1</th>\n",
       "      <td>B15KXQ7</td>\n",
       "      <td>main st</td>\n",
       "      <td>NaN</td>\n",
       "    </tr>\n",
       "    <tr>\n",
       "      <th>2</th>\n",
       "      <td>7542011030</td>\n",
       "      <td>1234 west main heights 57033</td>\n",
       "      <td>NaN</td>\n",
       "    </tr>\n",
       "    <tr>\n",
       "      <th>3</th>\n",
       "      <td>7552A10004</td>\n",
       "      <td>apt 1 789 s maple rd manhattan</td>\n",
       "      <td>NaN</td>\n",
       "    </tr>\n",
       "    <tr>\n",
       "      <th>4</th>\n",
       "      <td>8019010008</td>\n",
       "      <td>robie house, 789 north main street</td>\n",
       "      <td>NaN</td>\n",
       "    </tr>\n",
       "    <tr>\n",
       "      <th>5</th>\n",
       "      <td>hello</td>\n",
       "      <td>1111 S Figueroa St, Los Angeles, CA 90015</td>\n",
       "      <td>NaN</td>\n",
       "    </tr>\n",
       "    <tr>\n",
       "      <th>6</th>\n",
       "      <td>NaN</td>\n",
       "      <td>(staples center) 1111 S Figueroa St, Los Angeles</td>\n",
       "      <td>NaN</td>\n",
       "    </tr>\n",
       "    <tr>\n",
       "      <th>7</th>\n",
       "      <td>NULL</td>\n",
       "      <td>hello</td>\n",
       "      <td>NaN</td>\n",
       "    </tr>\n",
       "  </tbody>\n",
       "</table>\n",
       "</div>"
      ],
      "text/plain": [
       "        sedol                                           address sedol_clean\n",
       "0     B15KXQ8                                     123 Pine Ave.     B15KXQ8\n",
       "1     B15KXQ7                                           main st         NaN\n",
       "2  7542011030                      1234 west main heights 57033         NaN\n",
       "3  7552A10004                    apt 1 789 s maple rd manhattan         NaN\n",
       "4  8019010008                robie house, 789 north main street         NaN\n",
       "5       hello         1111 S Figueroa St, Los Angeles, CA 90015         NaN\n",
       "6         NaN  (staples center) 1111 S Figueroa St, Los Angeles         NaN\n",
       "7        NULL                                             hello         NaN"
      ]
     },
     "execution_count": 1,
     "metadata": {},
     "output_type": "execute_result"
    }
   ],
   "source": [
    "clean_gb_sedol(df, column = \"sedol\", output_format=\"compact\")"
   ]
  },
  {
   "cell_type": "markdown",
   "id": "loaded-pattern",
   "metadata": {},
   "source": [
    "### `isin`"
   ]
  },
  {
   "cell_type": "code",
   "execution_count": 5,
   "id": "color-angle",
   "metadata": {
    "execution": {
     "iopub.execute_input": "2021-10-30T05:19:44.576797Z",
     "iopub.status.busy": "2021-10-30T05:19:44.574548Z",
     "iopub.status.idle": "2021-10-30T05:19:44.585451Z",
     "shell.execute_reply": "2021-10-30T05:19:44.584982Z"
    }
   },
   "outputs": [
    {
     "data": {
      "text/html": [
       "<div>\n",
       "<style scoped>\n",
       "    .dataframe tbody tr th:only-of-type {\n",
       "        vertical-align: middle;\n",
       "    }\n",
       "\n",
       "    .dataframe tbody tr th {\n",
       "        vertical-align: top;\n",
       "    }\n",
       "\n",
       "    .dataframe thead th {\n",
       "        text-align: right;\n",
       "    }\n",
       "</style>\n",
       "<table border=\"1\" class=\"dataframe\">\n",
       "  <thead>\n",
       "    <tr style=\"text-align: right;\">\n",
       "      <th></th>\n",
       "      <th>sedol</th>\n",
       "      <th>address</th>\n",
       "      <th>sedol_clean</th>\n",
       "    </tr>\n",
       "  </thead>\n",
       "  <tbody>\n",
       "    <tr>\n",
       "      <th>0</th>\n",
       "      <td>B15KXQ8</td>\n",
       "      <td>123 Pine Ave.</td>\n",
       "      <td>GB00B15KXQ89</td>\n",
       "    </tr>\n",
       "    <tr>\n",
       "      <th>1</th>\n",
       "      <td>B15KXQ7</td>\n",
       "      <td>main st</td>\n",
       "      <td>NaN</td>\n",
       "    </tr>\n",
       "    <tr>\n",
       "      <th>2</th>\n",
       "      <td>7542011030</td>\n",
       "      <td>1234 west main heights 57033</td>\n",
       "      <td>NaN</td>\n",
       "    </tr>\n",
       "    <tr>\n",
       "      <th>3</th>\n",
       "      <td>7552A10004</td>\n",
       "      <td>apt 1 789 s maple rd manhattan</td>\n",
       "      <td>NaN</td>\n",
       "    </tr>\n",
       "    <tr>\n",
       "      <th>4</th>\n",
       "      <td>8019010008</td>\n",
       "      <td>robie house, 789 north main street</td>\n",
       "      <td>NaN</td>\n",
       "    </tr>\n",
       "    <tr>\n",
       "      <th>5</th>\n",
       "      <td>hello</td>\n",
       "      <td>1111 S Figueroa St, Los Angeles, CA 90015</td>\n",
       "      <td>NaN</td>\n",
       "    </tr>\n",
       "    <tr>\n",
       "      <th>6</th>\n",
       "      <td>NaN</td>\n",
       "      <td>(staples center) 1111 S Figueroa St, Los Angeles</td>\n",
       "      <td>NaN</td>\n",
       "    </tr>\n",
       "    <tr>\n",
       "      <th>7</th>\n",
       "      <td>NULL</td>\n",
       "      <td>hello</td>\n",
       "      <td>NaN</td>\n",
       "    </tr>\n",
       "  </tbody>\n",
       "</table>\n",
       "</div>"
      ],
      "text/plain": [
       "        sedol                                           address   sedol_clean\n",
       "0     B15KXQ8                                     123 Pine Ave.  GB00B15KXQ89\n",
       "1     B15KXQ7                                           main st           NaN\n",
       "2  7542011030                      1234 west main heights 57033           NaN\n",
       "3  7552A10004                    apt 1 789 s maple rd manhattan           NaN\n",
       "4  8019010008                robie house, 789 north main street           NaN\n",
       "5       hello         1111 S Figueroa St, Los Angeles, CA 90015           NaN\n",
       "6         NaN  (staples center) 1111 S Figueroa St, Los Angeles           NaN\n",
       "7        NULL                                             hello           NaN"
      ]
     },
     "execution_count": 1,
     "metadata": {},
     "output_type": "execute_result"
    }
   ],
   "source": [
    "clean_gb_sedol(df, column = \"sedol\", output_format=\"isin\")"
   ]
  },
  {
   "cell_type": "markdown",
   "id": "fuzzy-section",
   "metadata": {},
   "source": [
    "## 3. `inplace` parameter\n",
    "\n",
    "This deletes the given column from the returned DataFrame. \n",
    "A new column containing cleaned SEDOL strings is added with a title in the format `\"{original title}_clean\"`."
   ]
  },
  {
   "cell_type": "code",
   "execution_count": 6,
   "id": "developing-bones",
   "metadata": {
    "execution": {
     "iopub.execute_input": "2021-10-30T05:19:44.617675Z",
     "iopub.status.busy": "2021-10-30T05:19:44.610571Z",
     "iopub.status.idle": "2021-10-30T05:19:44.624819Z",
     "shell.execute_reply": "2021-10-30T05:19:44.625504Z"
    }
   },
   "outputs": [
    {
     "data": {
      "text/html": [
       "<div>\n",
       "<style scoped>\n",
       "    .dataframe tbody tr th:only-of-type {\n",
       "        vertical-align: middle;\n",
       "    }\n",
       "\n",
       "    .dataframe tbody tr th {\n",
       "        vertical-align: top;\n",
       "    }\n",
       "\n",
       "    .dataframe thead th {\n",
       "        text-align: right;\n",
       "    }\n",
       "</style>\n",
       "<table border=\"1\" class=\"dataframe\">\n",
       "  <thead>\n",
       "    <tr style=\"text-align: right;\">\n",
       "      <th></th>\n",
       "      <th>sedol_clean</th>\n",
       "      <th>address</th>\n",
       "    </tr>\n",
       "  </thead>\n",
       "  <tbody>\n",
       "    <tr>\n",
       "      <th>0</th>\n",
       "      <td>B15KXQ8</td>\n",
       "      <td>123 Pine Ave.</td>\n",
       "    </tr>\n",
       "    <tr>\n",
       "      <th>1</th>\n",
       "      <td>NaN</td>\n",
       "      <td>main st</td>\n",
       "    </tr>\n",
       "    <tr>\n",
       "      <th>2</th>\n",
       "      <td>NaN</td>\n",
       "      <td>1234 west main heights 57033</td>\n",
       "    </tr>\n",
       "    <tr>\n",
       "      <th>3</th>\n",
       "      <td>NaN</td>\n",
       "      <td>apt 1 789 s maple rd manhattan</td>\n",
       "    </tr>\n",
       "    <tr>\n",
       "      <th>4</th>\n",
       "      <td>NaN</td>\n",
       "      <td>robie house, 789 north main street</td>\n",
       "    </tr>\n",
       "    <tr>\n",
       "      <th>5</th>\n",
       "      <td>NaN</td>\n",
       "      <td>1111 S Figueroa St, Los Angeles, CA 90015</td>\n",
       "    </tr>\n",
       "    <tr>\n",
       "      <th>6</th>\n",
       "      <td>NaN</td>\n",
       "      <td>(staples center) 1111 S Figueroa St, Los Angeles</td>\n",
       "    </tr>\n",
       "    <tr>\n",
       "      <th>7</th>\n",
       "      <td>NaN</td>\n",
       "      <td>hello</td>\n",
       "    </tr>\n",
       "  </tbody>\n",
       "</table>\n",
       "</div>"
      ],
      "text/plain": [
       "  sedol_clean                                           address\n",
       "0     B15KXQ8                                     123 Pine Ave.\n",
       "1         NaN                                           main st\n",
       "2         NaN                      1234 west main heights 57033\n",
       "3         NaN                    apt 1 789 s maple rd manhattan\n",
       "4         NaN                robie house, 789 north main street\n",
       "5         NaN         1111 S Figueroa St, Los Angeles, CA 90015\n",
       "6         NaN  (staples center) 1111 S Figueroa St, Los Angeles\n",
       "7         NaN                                             hello"
      ]
     },
     "execution_count": 1,
     "metadata": {},
     "output_type": "execute_result"
    }
   ],
   "source": [
    "clean_gb_sedol(df, column=\"sedol\", inplace=True)"
   ]
  },
  {
   "cell_type": "markdown",
   "id": "stainless-republican",
   "metadata": {},
   "source": [
    "## 4. `errors` parameter"
   ]
  },
  {
   "cell_type": "markdown",
   "id": "monetary-confidence",
   "metadata": {},
   "source": [
    "### `coerce` (default)"
   ]
  },
  {
   "cell_type": "code",
   "execution_count": 7,
   "id": "turned-buffalo",
   "metadata": {
    "execution": {
     "iopub.execute_input": "2021-10-30T05:19:44.647297Z",
     "iopub.status.busy": "2021-10-30T05:19:44.646818Z",
     "iopub.status.idle": "2021-10-30T05:19:44.655242Z",
     "shell.execute_reply": "2021-10-30T05:19:44.654426Z"
    }
   },
   "outputs": [
    {
     "data": {
      "text/html": [
       "<div>\n",
       "<style scoped>\n",
       "    .dataframe tbody tr th:only-of-type {\n",
       "        vertical-align: middle;\n",
       "    }\n",
       "\n",
       "    .dataframe tbody tr th {\n",
       "        vertical-align: top;\n",
       "    }\n",
       "\n",
       "    .dataframe thead th {\n",
       "        text-align: right;\n",
       "    }\n",
       "</style>\n",
       "<table border=\"1\" class=\"dataframe\">\n",
       "  <thead>\n",
       "    <tr style=\"text-align: right;\">\n",
       "      <th></th>\n",
       "      <th>sedol</th>\n",
       "      <th>address</th>\n",
       "      <th>sedol_clean</th>\n",
       "    </tr>\n",
       "  </thead>\n",
       "  <tbody>\n",
       "    <tr>\n",
       "      <th>0</th>\n",
       "      <td>B15KXQ8</td>\n",
       "      <td>123 Pine Ave.</td>\n",
       "      <td>B15KXQ8</td>\n",
       "    </tr>\n",
       "    <tr>\n",
       "      <th>1</th>\n",
       "      <td>B15KXQ7</td>\n",
       "      <td>main st</td>\n",
       "      <td>NaN</td>\n",
       "    </tr>\n",
       "    <tr>\n",
       "      <th>2</th>\n",
       "      <td>7542011030</td>\n",
       "      <td>1234 west main heights 57033</td>\n",
       "      <td>NaN</td>\n",
       "    </tr>\n",
       "    <tr>\n",
       "      <th>3</th>\n",
       "      <td>7552A10004</td>\n",
       "      <td>apt 1 789 s maple rd manhattan</td>\n",
       "      <td>NaN</td>\n",
       "    </tr>\n",
       "    <tr>\n",
       "      <th>4</th>\n",
       "      <td>8019010008</td>\n",
       "      <td>robie house, 789 north main street</td>\n",
       "      <td>NaN</td>\n",
       "    </tr>\n",
       "    <tr>\n",
       "      <th>5</th>\n",
       "      <td>hello</td>\n",
       "      <td>1111 S Figueroa St, Los Angeles, CA 90015</td>\n",
       "      <td>NaN</td>\n",
       "    </tr>\n",
       "    <tr>\n",
       "      <th>6</th>\n",
       "      <td>NaN</td>\n",
       "      <td>(staples center) 1111 S Figueroa St, Los Angeles</td>\n",
       "      <td>NaN</td>\n",
       "    </tr>\n",
       "    <tr>\n",
       "      <th>7</th>\n",
       "      <td>NULL</td>\n",
       "      <td>hello</td>\n",
       "      <td>NaN</td>\n",
       "    </tr>\n",
       "  </tbody>\n",
       "</table>\n",
       "</div>"
      ],
      "text/plain": [
       "        sedol                                           address sedol_clean\n",
       "0     B15KXQ8                                     123 Pine Ave.     B15KXQ8\n",
       "1     B15KXQ7                                           main st         NaN\n",
       "2  7542011030                      1234 west main heights 57033         NaN\n",
       "3  7552A10004                    apt 1 789 s maple rd manhattan         NaN\n",
       "4  8019010008                robie house, 789 north main street         NaN\n",
       "5       hello         1111 S Figueroa St, Los Angeles, CA 90015         NaN\n",
       "6         NaN  (staples center) 1111 S Figueroa St, Los Angeles         NaN\n",
       "7        NULL                                             hello         NaN"
      ]
     },
     "execution_count": 1,
     "metadata": {},
     "output_type": "execute_result"
    }
   ],
   "source": [
    "clean_gb_sedol(df, \"sedol\", errors=\"coerce\")"
   ]
  },
  {
   "cell_type": "markdown",
   "id": "opponent-reach",
   "metadata": {},
   "source": [
    "### `ignore`"
   ]
  },
  {
   "cell_type": "code",
   "execution_count": 8,
   "id": "legislative-extent",
   "metadata": {
    "execution": {
     "iopub.execute_input": "2021-10-30T05:19:44.676237Z",
     "iopub.status.busy": "2021-10-30T05:19:44.672128Z",
     "iopub.status.idle": "2021-10-30T05:19:44.685064Z",
     "shell.execute_reply": "2021-10-30T05:19:44.685454Z"
    }
   },
   "outputs": [
    {
     "data": {
      "text/html": [
       "<div>\n",
       "<style scoped>\n",
       "    .dataframe tbody tr th:only-of-type {\n",
       "        vertical-align: middle;\n",
       "    }\n",
       "\n",
       "    .dataframe tbody tr th {\n",
       "        vertical-align: top;\n",
       "    }\n",
       "\n",
       "    .dataframe thead th {\n",
       "        text-align: right;\n",
       "    }\n",
       "</style>\n",
       "<table border=\"1\" class=\"dataframe\">\n",
       "  <thead>\n",
       "    <tr style=\"text-align: right;\">\n",
       "      <th></th>\n",
       "      <th>sedol</th>\n",
       "      <th>address</th>\n",
       "      <th>sedol_clean</th>\n",
       "    </tr>\n",
       "  </thead>\n",
       "  <tbody>\n",
       "    <tr>\n",
       "      <th>0</th>\n",
       "      <td>B15KXQ8</td>\n",
       "      <td>123 Pine Ave.</td>\n",
       "      <td>B15KXQ8</td>\n",
       "    </tr>\n",
       "    <tr>\n",
       "      <th>1</th>\n",
       "      <td>B15KXQ7</td>\n",
       "      <td>main st</td>\n",
       "      <td>B15KXQ7</td>\n",
       "    </tr>\n",
       "    <tr>\n",
       "      <th>2</th>\n",
       "      <td>7542011030</td>\n",
       "      <td>1234 west main heights 57033</td>\n",
       "      <td>7542011030</td>\n",
       "    </tr>\n",
       "    <tr>\n",
       "      <th>3</th>\n",
       "      <td>7552A10004</td>\n",
       "      <td>apt 1 789 s maple rd manhattan</td>\n",
       "      <td>7552A10004</td>\n",
       "    </tr>\n",
       "    <tr>\n",
       "      <th>4</th>\n",
       "      <td>8019010008</td>\n",
       "      <td>robie house, 789 north main street</td>\n",
       "      <td>8019010008</td>\n",
       "    </tr>\n",
       "    <tr>\n",
       "      <th>5</th>\n",
       "      <td>hello</td>\n",
       "      <td>1111 S Figueroa St, Los Angeles, CA 90015</td>\n",
       "      <td>hello</td>\n",
       "    </tr>\n",
       "    <tr>\n",
       "      <th>6</th>\n",
       "      <td>NaN</td>\n",
       "      <td>(staples center) 1111 S Figueroa St, Los Angeles</td>\n",
       "      <td>NaN</td>\n",
       "    </tr>\n",
       "    <tr>\n",
       "      <th>7</th>\n",
       "      <td>NULL</td>\n",
       "      <td>hello</td>\n",
       "      <td>NaN</td>\n",
       "    </tr>\n",
       "  </tbody>\n",
       "</table>\n",
       "</div>"
      ],
      "text/plain": [
       "        sedol                                           address sedol_clean\n",
       "0     B15KXQ8                                     123 Pine Ave.     B15KXQ8\n",
       "1     B15KXQ7                                           main st     B15KXQ7\n",
       "2  7542011030                      1234 west main heights 57033  7542011030\n",
       "3  7552A10004                    apt 1 789 s maple rd manhattan  7552A10004\n",
       "4  8019010008                robie house, 789 north main street  8019010008\n",
       "5       hello         1111 S Figueroa St, Los Angeles, CA 90015       hello\n",
       "6         NaN  (staples center) 1111 S Figueroa St, Los Angeles         NaN\n",
       "7        NULL                                             hello         NaN"
      ]
     },
     "execution_count": 1,
     "metadata": {},
     "output_type": "execute_result"
    }
   ],
   "source": [
    "clean_gb_sedol(df, \"sedol\", errors=\"ignore\")"
   ]
  },
  {
   "cell_type": "markdown",
   "id": "coordinated-postcard",
   "metadata": {},
   "source": [
    "## 4. `validate_gb_sedol()`"
   ]
  },
  {
   "cell_type": "markdown",
   "id": "cordless-deployment",
   "metadata": {},
   "source": [
    "`validate_gb_sedol()` returns `True` when the input is a valid SEDOL. Otherwise it returns `False`.\n",
    "\n",
    "The input of `validate_gb_sedol()` can be a string, a Pandas DataSeries, a Dask DataSeries, a Pandas DataFrame and a dask DataFrame.\n",
    "\n",
    "When the input is a string, a Pandas DataSeries or a Dask DataSeries, user doesn't need to specify a column name to be validated. \n",
    "\n",
    "When the input is a Pandas DataFrame or a dask DataFrame, user can both specify or not specify a column name to be validated. If user specify the column name, `validate_gb_sedol()` only returns the validation result for the specified column. If user doesn't specify the column name, `validate_gb_sedol()` returns the validation result for the whole DataFrame."
   ]
  },
  {
   "cell_type": "code",
   "execution_count": 9,
   "id": "active-charles",
   "metadata": {
    "execution": {
     "iopub.execute_input": "2021-10-30T05:19:44.689957Z",
     "iopub.status.busy": "2021-10-30T05:19:44.689482Z",
     "iopub.status.idle": "2021-10-30T05:19:44.694418Z",
     "shell.execute_reply": "2021-10-30T05:19:44.694004Z"
    }
   },
   "outputs": [
    {
     "name": "stdout",
     "output_type": "stream",
     "text": [
      "True\n",
      "False\n",
      "False\n",
      "False\n",
      "False\n",
      "False\n",
      "False\n",
      "False\n"
     ]
    }
   ],
   "source": [
    "from dataprep.clean import validate_gb_sedol\n",
    "print(validate_gb_sedol('B15KXQ8'))\n",
    "print(validate_gb_sedol('B15KXQ7'))\n",
    "print(validate_gb_sedol('7542011030'))\n",
    "print(validate_gb_sedol('7552A10004'))\n",
    "print(validate_gb_sedol('8019010008'))\n",
    "print(validate_gb_sedol(\"hello\"))\n",
    "print(validate_gb_sedol(np.nan))\n",
    "print(validate_gb_sedol(\"NULL\"))"
   ]
  },
  {
   "cell_type": "markdown",
   "id": "attractive-executive",
   "metadata": {},
   "source": [
    "### Series"
   ]
  },
  {
   "cell_type": "code",
   "execution_count": 10,
   "id": "corporate-directory",
   "metadata": {
    "execution": {
     "iopub.execute_input": "2021-10-30T05:19:44.698800Z",
     "iopub.status.busy": "2021-10-30T05:19:44.698024Z",
     "iopub.status.idle": "2021-10-30T05:19:44.702643Z",
     "shell.execute_reply": "2021-10-30T05:19:44.702193Z"
    }
   },
   "outputs": [
    {
     "data": {
      "text/plain": [
       "0     True\n",
       "1    False\n",
       "2    False\n",
       "3    False\n",
       "4    False\n",
       "5    False\n",
       "6    False\n",
       "7    False\n",
       "Name: sedol, dtype: bool"
      ]
     },
     "execution_count": 1,
     "metadata": {},
     "output_type": "execute_result"
    }
   ],
   "source": [
    "validate_gb_sedol(df[\"sedol\"])"
   ]
  },
  {
   "cell_type": "markdown",
   "id": "saved-recipient",
   "metadata": {},
   "source": [
    "### DataFrame + Specify Column"
   ]
  },
  {
   "cell_type": "code",
   "execution_count": 11,
   "id": "divine-kuwait",
   "metadata": {
    "execution": {
     "iopub.execute_input": "2021-10-30T05:19:44.707170Z",
     "iopub.status.busy": "2021-10-30T05:19:44.706656Z",
     "iopub.status.idle": "2021-10-30T05:19:44.710943Z",
     "shell.execute_reply": "2021-10-30T05:19:44.711310Z"
    }
   },
   "outputs": [
    {
     "data": {
      "text/plain": [
       "0     True\n",
       "1    False\n",
       "2    False\n",
       "3    False\n",
       "4    False\n",
       "5    False\n",
       "6    False\n",
       "7    False\n",
       "Name: sedol, dtype: bool"
      ]
     },
     "execution_count": 1,
     "metadata": {},
     "output_type": "execute_result"
    }
   ],
   "source": [
    "validate_gb_sedol(df, column=\"sedol\")"
   ]
  },
  {
   "cell_type": "markdown",
   "id": "thorough-advance",
   "metadata": {},
   "source": [
    "### Only DataFrame"
   ]
  },
  {
   "cell_type": "code",
   "execution_count": 12,
   "id": "medieval-finger",
   "metadata": {
    "execution": {
     "iopub.execute_input": "2021-10-30T05:19:44.714540Z",
     "iopub.status.busy": "2021-10-30T05:19:44.714055Z",
     "iopub.status.idle": "2021-10-30T05:19:44.722144Z",
     "shell.execute_reply": "2021-10-30T05:19:44.721720Z"
    }
   },
   "outputs": [
    {
     "data": {
      "text/html": [
       "<div>\n",
       "<style scoped>\n",
       "    .dataframe tbody tr th:only-of-type {\n",
       "        vertical-align: middle;\n",
       "    }\n",
       "\n",
       "    .dataframe tbody tr th {\n",
       "        vertical-align: top;\n",
       "    }\n",
       "\n",
       "    .dataframe thead th {\n",
       "        text-align: right;\n",
       "    }\n",
       "</style>\n",
       "<table border=\"1\" class=\"dataframe\">\n",
       "  <thead>\n",
       "    <tr style=\"text-align: right;\">\n",
       "      <th></th>\n",
       "      <th>sedol</th>\n",
       "      <th>address</th>\n",
       "    </tr>\n",
       "  </thead>\n",
       "  <tbody>\n",
       "    <tr>\n",
       "      <th>0</th>\n",
       "      <td>True</td>\n",
       "      <td>False</td>\n",
       "    </tr>\n",
       "    <tr>\n",
       "      <th>1</th>\n",
       "      <td>False</td>\n",
       "      <td>False</td>\n",
       "    </tr>\n",
       "    <tr>\n",
       "      <th>2</th>\n",
       "      <td>False</td>\n",
       "      <td>False</td>\n",
       "    </tr>\n",
       "    <tr>\n",
       "      <th>3</th>\n",
       "      <td>False</td>\n",
       "      <td>False</td>\n",
       "    </tr>\n",
       "    <tr>\n",
       "      <th>4</th>\n",
       "      <td>False</td>\n",
       "      <td>False</td>\n",
       "    </tr>\n",
       "    <tr>\n",
       "      <th>5</th>\n",
       "      <td>False</td>\n",
       "      <td>False</td>\n",
       "    </tr>\n",
       "    <tr>\n",
       "      <th>6</th>\n",
       "      <td>False</td>\n",
       "      <td>False</td>\n",
       "    </tr>\n",
       "    <tr>\n",
       "      <th>7</th>\n",
       "      <td>False</td>\n",
       "      <td>False</td>\n",
       "    </tr>\n",
       "  </tbody>\n",
       "</table>\n",
       "</div>"
      ],
      "text/plain": [
       "   sedol  address\n",
       "0   True    False\n",
       "1  False    False\n",
       "2  False    False\n",
       "3  False    False\n",
       "4  False    False\n",
       "5  False    False\n",
       "6  False    False\n",
       "7  False    False"
      ]
     },
     "execution_count": 1,
     "metadata": {},
     "output_type": "execute_result"
    }
   ],
   "source": [
    "validate_gb_sedol(df)"
   ]
  },
  {
   "cell_type": "code",
   "execution_count": null,
   "id": "portable-auction",
   "metadata": {},
   "outputs": [],
   "source": []
  }
 ],
 "metadata": {
  "kernelspec": {
   "display_name": "Python 3",
   "language": "python",
   "name": "python3"
  },
  "language_info": {
   "codemirror_mode": {
    "name": "ipython",
    "version": 3
   },
   "file_extension": ".py",
   "mimetype": "text/x-python",
   "name": "python",
   "nbconvert_exporter": "python",
   "pygments_lexer": "ipython3",
   "version": "3.8.10"
  }
 },
 "nbformat": 4,
 "nbformat_minor": 5
}
