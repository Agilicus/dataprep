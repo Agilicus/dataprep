{
 "cells": [
  {
   "cell_type": "raw",
   "id": "increased-favor",
   "metadata": {},
   "source": [
    ".. _sedol_userguide:\n",
    "\n",
    "SEDOL Strings\n",
    "============"
   ]
  },
  {
   "cell_type": "raw",
   "id": "practical-flexibility",
   "metadata": {},
   "source": [
    "Introduction\n",
    "------------\n",
    "\n",
    "The function :func:`clean_gb_sedol() <dataprep.clean.clean_gb_sedol.clean_gb_sedol>` cleans a column containing Stock Exchange Daily Official List number (SEDOL) strings, and standardizes them in a given format. The function :func:`validate_gb_sedol() <dataprep.clean.clean_gb_sedol.validate_gb_sedol>` validates either a single SEDOL strings, a column of SEDOL strings or a DataFrame of SEDOL strings, returning `True` if the value is valid, and `False` otherwise."
   ]
  },
  {
   "cell_type": "markdown",
   "id": "french-magnitude",
   "metadata": {},
   "source": [
    "SEDOL strings can be converted to the following formats via the `output_format` parameter:\n",
    "\n",
    "* `compact`: only number strings without any seperators or whitespace, like \"B15KXQ8\"\n",
    "* `standard`: SEDOL strings with proper whitespace in the proper places. Note that in the case of SEDOL, the compact format is the same as the standard one.\n",
    "* `isin`: convert the number to an ISIN, like \"GB00B15KXQ89\".\n",
    "\n",
    "Invalid parsing is handled with the `errors` parameter:\n",
    "\n",
    "* `coerce` (default): invalid parsing will be set to NaN\n",
    "* `ignore`: invalid parsing will return the input\n",
    "* `raise`: invalid parsing will raise an exception\n",
    "\n",
    "The following sections demonstrate the functionality of `clean_gb_sedol()` and `validate_gb_sedol()`. "
   ]
  },
  {
   "cell_type": "markdown",
   "id": "extreme-recycling",
   "metadata": {},
   "source": [
    "### An example dataset containing SEDOL strings"
   ]
  },
  {
   "cell_type": "code",
   "execution_count": 1,
   "id": "super-payment",
   "metadata": {
    "execution": {
     "iopub.execute_input": "2021-10-26T23:38:34.755060Z",
     "iopub.status.busy": "2021-10-26T23:38:34.754390Z",
     "iopub.status.idle": "2021-10-26T23:38:35.060715Z",
     "shell.execute_reply": "2021-10-26T23:38:35.061222Z"
    }
   },
   "outputs": [
    {
     "data": {
      "text/html": [
       "<div>\n",
       "<style scoped>\n",
       "    .dataframe tbody tr th:only-of-type {\n",
       "        vertical-align: middle;\n",
       "    }\n",
       "\n",
       "    .dataframe tbody tr th {\n",
       "        vertical-align: top;\n",
       "    }\n",
       "\n",
       "    .dataframe thead th {\n",
       "        text-align: right;\n",
       "    }\n",
       "</style>\n",
       "<table border=\"1\" class=\"dataframe\">\n",
       "  <thead>\n",
       "    <tr style=\"text-align: right;\">\n",
       "      <th></th>\n",
       "      <th>sedol</th>\n",
       "      <th>address</th>\n",
       "    </tr>\n",
       "  </thead>\n",
       "  <tbody>\n",
       "    <tr>\n",
       "      <th>0</th>\n",
       "      <td>B15KXQ8</td>\n",
       "      <td>123 Pine Ave.</td>\n",
       "    </tr>\n",
       "    <tr>\n",
       "      <th>1</th>\n",
       "      <td>B15KXQ7</td>\n",
       "      <td>main st</td>\n",
       "    </tr>\n",
       "    <tr>\n",
       "      <th>2</th>\n",
       "      <td>7542011030</td>\n",
       "      <td>1234 west main heights 57033</td>\n",
       "    </tr>\n",
       "    <tr>\n",
       "      <th>3</th>\n",
       "      <td>7552A10004</td>\n",
       "      <td>apt 1 789 s maple rd manhattan</td>\n",
       "    </tr>\n",
       "    <tr>\n",
       "      <th>4</th>\n",
       "      <td>8019010008</td>\n",
       "      <td>robie house, 789 north main street</td>\n",
       "    </tr>\n",
       "    <tr>\n",
       "      <th>5</th>\n",
       "      <td>hello</td>\n",
       "      <td>1111 S Figueroa St, Los Angeles, CA 90015</td>\n",
       "    </tr>\n",
       "    <tr>\n",
       "      <th>6</th>\n",
       "      <td>NaN</td>\n",
       "      <td>(staples center) 1111 S Figueroa St, Los Angeles</td>\n",
       "    </tr>\n",
       "    <tr>\n",
       "      <th>7</th>\n",
       "      <td>NULL</td>\n",
       "      <td>hello</td>\n",
       "    </tr>\n",
       "  </tbody>\n",
       "</table>\n",
       "</div>"
      ],
      "text/plain": [
       "        sedol                                           address\n",
       "0     B15KXQ8                                     123 Pine Ave.\n",
       "1     B15KXQ7                                           main st\n",
       "2  7542011030                      1234 west main heights 57033\n",
       "3  7552A10004                    apt 1 789 s maple rd manhattan\n",
       "4  8019010008                robie house, 789 north main street\n",
       "5       hello         1111 S Figueroa St, Los Angeles, CA 90015\n",
       "6         NaN  (staples center) 1111 S Figueroa St, Los Angeles\n",
       "7        NULL                                             hello"
      ]
     },
     "execution_count": 1,
     "metadata": {},
     "output_type": "execute_result"
    }
   ],
   "source": [
    "import pandas as pd\n",
    "import numpy as np\n",
    "df = pd.DataFrame(\n",
    "    {\n",
    "        \"sedol\": [\n",
    "            'B15KXQ8',\n",
    "            'B15KXQ7',\n",
    "            '7542011030',\n",
    "            '7552A10004',\n",
    "            '8019010008',\n",
    "            \"hello\",\n",
    "            np.nan,\n",
    "            \"NULL\",\n",
    "        ], \n",
    "        \"address\": [\n",
    "            \"123 Pine Ave.\",\n",
    "            \"main st\",\n",
    "            \"1234 west main heights 57033\",\n",
    "            \"apt 1 789 s maple rd manhattan\",\n",
    "            \"robie house, 789 north main street\",\n",
    "            \"1111 S Figueroa St, Los Angeles, CA 90015\",\n",
    "            \"(staples center) 1111 S Figueroa St, Los Angeles\",\n",
    "            \"hello\",\n",
    "        ]\n",
    "    }\n",
    ")\n",
    "df"
   ]
  },
  {
   "cell_type": "markdown",
   "id": "textile-insert",
   "metadata": {},
   "source": [
    "## 1. Default `clean_gb_sedol`\n",
    "\n",
    "By default, `clean_gb_sedol` will clean sedol strings and output them in the standard format with proper separators."
   ]
  },
  {
   "cell_type": "code",
   "execution_count": 2,
   "id": "ranking-forest",
   "metadata": {
    "execution": {
     "iopub.execute_input": "2021-10-26T23:38:35.084101Z",
     "iopub.status.busy": "2021-10-26T23:38:35.076590Z",
     "iopub.status.idle": "2021-10-26T23:38:35.811598Z",
     "shell.execute_reply": "2021-10-26T23:38:35.810967Z"
    }
   },
   "outputs": [
    {
     "data": {
      "text/html": [
       "<div>\n",
       "<style scoped>\n",
       "    .dataframe tbody tr th:only-of-type {\n",
       "        vertical-align: middle;\n",
       "    }\n",
       "\n",
       "    .dataframe tbody tr th {\n",
       "        vertical-align: top;\n",
       "    }\n",
       "\n",
       "    .dataframe thead th {\n",
       "        text-align: right;\n",
       "    }\n",
       "</style>\n",
       "<table border=\"1\" class=\"dataframe\">\n",
       "  <thead>\n",
       "    <tr style=\"text-align: right;\">\n",
       "      <th></th>\n",
       "      <th>sedol</th>\n",
       "      <th>address</th>\n",
       "      <th>sedol_clean</th>\n",
       "    </tr>\n",
       "  </thead>\n",
       "  <tbody>\n",
       "    <tr>\n",
       "      <th>0</th>\n",
       "      <td>B15KXQ8</td>\n",
       "      <td>123 Pine Ave.</td>\n",
       "      <td>B15KXQ8</td>\n",
       "    </tr>\n",
       "    <tr>\n",
       "      <th>1</th>\n",
       "      <td>B15KXQ7</td>\n",
       "      <td>main st</td>\n",
       "      <td>NaN</td>\n",
       "    </tr>\n",
       "    <tr>\n",
       "      <th>2</th>\n",
       "      <td>7542011030</td>\n",
       "      <td>1234 west main heights 57033</td>\n",
       "      <td>NaN</td>\n",
       "    </tr>\n",
       "    <tr>\n",
       "      <th>3</th>\n",
       "      <td>7552A10004</td>\n",
       "      <td>apt 1 789 s maple rd manhattan</td>\n",
       "      <td>NaN</td>\n",
       "    </tr>\n",
       "    <tr>\n",
       "      <th>4</th>\n",
       "      <td>8019010008</td>\n",
       "      <td>robie house, 789 north main street</td>\n",
       "      <td>NaN</td>\n",
       "    </tr>\n",
       "    <tr>\n",
       "      <th>5</th>\n",
       "      <td>hello</td>\n",
       "      <td>1111 S Figueroa St, Los Angeles, CA 90015</td>\n",
       "      <td>NaN</td>\n",
       "    </tr>\n",
       "    <tr>\n",
       "      <th>6</th>\n",
       "      <td>NaN</td>\n",
       "      <td>(staples center) 1111 S Figueroa St, Los Angeles</td>\n",
       "      <td>NaN</td>\n",
       "    </tr>\n",
       "    <tr>\n",
       "      <th>7</th>\n",
       "      <td>NULL</td>\n",
       "      <td>hello</td>\n",
       "      <td>NaN</td>\n",
       "    </tr>\n",
       "  </tbody>\n",
       "</table>\n",
       "</div>"
      ],
      "text/plain": [
       "        sedol                                           address sedol_clean\n",
       "0     B15KXQ8                                     123 Pine Ave.     B15KXQ8\n",
       "1     B15KXQ7                                           main st         NaN\n",
       "2  7542011030                      1234 west main heights 57033         NaN\n",
       "3  7552A10004                    apt 1 789 s maple rd manhattan         NaN\n",
       "4  8019010008                robie house, 789 north main street         NaN\n",
       "5       hello         1111 S Figueroa St, Los Angeles, CA 90015         NaN\n",
       "6         NaN  (staples center) 1111 S Figueroa St, Los Angeles         NaN\n",
       "7        NULL                                             hello         NaN"
      ]
     },
     "execution_count": 1,
     "metadata": {},
     "output_type": "execute_result"
    }
   ],
   "source": [
    "from dataprep.clean import clean_gb_sedol\n",
    "clean_gb_sedol(df, column = \"sedol\")"
   ]
  },
  {
   "cell_type": "markdown",
   "id": "exterior-miracle",
   "metadata": {},
   "source": [
    "## 2. Output formats"
   ]
  },
  {
   "cell_type": "markdown",
   "id": "opposed-milton",
   "metadata": {},
   "source": [
    "This section demonstrates the output parameter."
   ]
  },
  {
   "cell_type": "markdown",
   "id": "printable-zimbabwe",
   "metadata": {},
   "source": [
    "### `standard` (default)"
   ]
  },
  {
   "cell_type": "code",
   "execution_count": 3,
   "id": "rough-petersburg",
   "metadata": {
    "execution": {
     "iopub.execute_input": "2021-10-26T23:38:35.834965Z",
     "iopub.status.busy": "2021-10-26T23:38:35.834239Z",
     "iopub.status.idle": "2021-10-26T23:38:35.850235Z",
     "shell.execute_reply": "2021-10-26T23:38:35.850715Z"
    },
    "scrolled": true
   },
   "outputs": [
    {
     "data": {
      "text/html": [
       "<div>\n",
       "<style scoped>\n",
       "    .dataframe tbody tr th:only-of-type {\n",
       "        vertical-align: middle;\n",
       "    }\n",
       "\n",
       "    .dataframe tbody tr th {\n",
       "        vertical-align: top;\n",
       "    }\n",
       "\n",
       "    .dataframe thead th {\n",
       "        text-align: right;\n",
       "    }\n",
       "</style>\n",
       "<table border=\"1\" class=\"dataframe\">\n",
       "  <thead>\n",
       "    <tr style=\"text-align: right;\">\n",
       "      <th></th>\n",
       "      <th>sedol</th>\n",
       "      <th>address</th>\n",
       "      <th>sedol_clean</th>\n",
       "    </tr>\n",
       "  </thead>\n",
       "  <tbody>\n",
       "    <tr>\n",
       "      <th>0</th>\n",
       "      <td>B15KXQ8</td>\n",
       "      <td>123 Pine Ave.</td>\n",
       "      <td>B15KXQ8</td>\n",
       "    </tr>\n",
       "    <tr>\n",
       "      <th>1</th>\n",
       "      <td>B15KXQ7</td>\n",
       "      <td>main st</td>\n",
       "      <td>NaN</td>\n",
       "    </tr>\n",
       "    <tr>\n",
       "      <th>2</th>\n",
       "      <td>7542011030</td>\n",
       "      <td>1234 west main heights 57033</td>\n",
       "      <td>NaN</td>\n",
       "    </tr>\n",
       "    <tr>\n",
       "      <th>3</th>\n",
       "      <td>7552A10004</td>\n",
       "      <td>apt 1 789 s maple rd manhattan</td>\n",
       "      <td>NaN</td>\n",
       "    </tr>\n",
       "    <tr>\n",
       "      <th>4</th>\n",
       "      <td>8019010008</td>\n",
       "      <td>robie house, 789 north main street</td>\n",
       "      <td>NaN</td>\n",
       "    </tr>\n",
       "    <tr>\n",
       "      <th>5</th>\n",
       "      <td>hello</td>\n",
       "      <td>1111 S Figueroa St, Los Angeles, CA 90015</td>\n",
       "      <td>NaN</td>\n",
       "    </tr>\n",
       "    <tr>\n",
       "      <th>6</th>\n",
       "      <td>NaN</td>\n",
       "      <td>(staples center) 1111 S Figueroa St, Los Angeles</td>\n",
       "      <td>NaN</td>\n",
       "    </tr>\n",
       "    <tr>\n",
       "      <th>7</th>\n",
       "      <td>NULL</td>\n",
       "      <td>hello</td>\n",
       "      <td>NaN</td>\n",
       "    </tr>\n",
       "  </tbody>\n",
       "</table>\n",
       "</div>"
      ],
      "text/plain": [
       "        sedol                                           address sedol_clean\n",
       "0     B15KXQ8                                     123 Pine Ave.     B15KXQ8\n",
       "1     B15KXQ7                                           main st         NaN\n",
       "2  7542011030                      1234 west main heights 57033         NaN\n",
       "3  7552A10004                    apt 1 789 s maple rd manhattan         NaN\n",
       "4  8019010008                robie house, 789 north main street         NaN\n",
       "5       hello         1111 S Figueroa St, Los Angeles, CA 90015         NaN\n",
       "6         NaN  (staples center) 1111 S Figueroa St, Los Angeles         NaN\n",
       "7        NULL                                             hello         NaN"
      ]
     },
     "execution_count": 1,
     "metadata": {},
     "output_type": "execute_result"
    }
   ],
   "source": [
    "clean_gb_sedol(df, column = \"sedol\", output_format=\"standard\")"
   ]
  },
  {
   "cell_type": "markdown",
   "id": "soviet-termination",
   "metadata": {},
   "source": [
    "### `compact`"
   ]
  },
  {
   "cell_type": "code",
   "execution_count": 4,
   "id": "recorded-python",
   "metadata": {
    "execution": {
     "iopub.execute_input": "2021-10-26T23:38:35.882709Z",
     "iopub.status.busy": "2021-10-26T23:38:35.880063Z",
     "iopub.status.idle": "2021-10-26T23:38:35.894331Z",
     "shell.execute_reply": "2021-10-26T23:38:35.893764Z"
    }
   },
   "outputs": [
    {
     "data": {
      "text/html": [
       "<div>\n",
       "<style scoped>\n",
       "    .dataframe tbody tr th:only-of-type {\n",
       "        vertical-align: middle;\n",
       "    }\n",
       "\n",
       "    .dataframe tbody tr th {\n",
       "        vertical-align: top;\n",
       "    }\n",
       "\n",
       "    .dataframe thead th {\n",
       "        text-align: right;\n",
       "    }\n",
       "</style>\n",
       "<table border=\"1\" class=\"dataframe\">\n",
       "  <thead>\n",
       "    <tr style=\"text-align: right;\">\n",
       "      <th></th>\n",
       "      <th>sedol</th>\n",
       "      <th>address</th>\n",
       "      <th>sedol_clean</th>\n",
       "    </tr>\n",
       "  </thead>\n",
       "  <tbody>\n",
       "    <tr>\n",
       "      <th>0</th>\n",
       "      <td>B15KXQ8</td>\n",
       "      <td>123 Pine Ave.</td>\n",
       "      <td>B15KXQ8</td>\n",
       "    </tr>\n",
       "    <tr>\n",
       "      <th>1</th>\n",
       "      <td>B15KXQ7</td>\n",
       "      <td>main st</td>\n",
       "      <td>NaN</td>\n",
       "    </tr>\n",
       "    <tr>\n",
       "      <th>2</th>\n",
       "      <td>7542011030</td>\n",
       "      <td>1234 west main heights 57033</td>\n",
       "      <td>NaN</td>\n",
       "    </tr>\n",
       "    <tr>\n",
       "      <th>3</th>\n",
       "      <td>7552A10004</td>\n",
       "      <td>apt 1 789 s maple rd manhattan</td>\n",
       "      <td>NaN</td>\n",
       "    </tr>\n",
       "    <tr>\n",
       "      <th>4</th>\n",
       "      <td>8019010008</td>\n",
       "      <td>robie house, 789 north main street</td>\n",
       "      <td>NaN</td>\n",
       "    </tr>\n",
       "    <tr>\n",
       "      <th>5</th>\n",
       "      <td>hello</td>\n",
       "      <td>1111 S Figueroa St, Los Angeles, CA 90015</td>\n",
       "      <td>NaN</td>\n",
       "    </tr>\n",
       "    <tr>\n",
       "      <th>6</th>\n",
       "      <td>NaN</td>\n",
       "      <td>(staples center) 1111 S Figueroa St, Los Angeles</td>\n",
       "      <td>NaN</td>\n",
       "    </tr>\n",
       "    <tr>\n",
       "      <th>7</th>\n",
       "      <td>NULL</td>\n",
       "      <td>hello</td>\n",
       "      <td>NaN</td>\n",
       "    </tr>\n",
       "  </tbody>\n",
       "</table>\n",
       "</div>"
      ],
      "text/plain": [
       "        sedol                                           address sedol_clean\n",
       "0     B15KXQ8                                     123 Pine Ave.     B15KXQ8\n",
       "1     B15KXQ7                                           main st         NaN\n",
       "2  7542011030                      1234 west main heights 57033         NaN\n",
       "3  7552A10004                    apt 1 789 s maple rd manhattan         NaN\n",
       "4  8019010008                robie house, 789 north main street         NaN\n",
       "5       hello         1111 S Figueroa St, Los Angeles, CA 90015         NaN\n",
       "6         NaN  (staples center) 1111 S Figueroa St, Los Angeles         NaN\n",
       "7        NULL                                             hello         NaN"
      ]
     },
     "execution_count": 1,
     "metadata": {},
     "output_type": "execute_result"
    }
   ],
   "source": [
    "clean_gb_sedol(df, column = \"sedol\", output_format=\"compact\")"
   ]
  },
  {
   "cell_type": "markdown",
   "id": "honey-smooth",
   "metadata": {},
   "source": [
    "### `isin`"
   ]
  },
  {
   "cell_type": "code",
   "execution_count": 5,
   "id": "embedded-banks",
   "metadata": {
    "execution": {
     "iopub.execute_input": "2021-10-26T23:38:35.923440Z",
     "iopub.status.busy": "2021-10-26T23:38:35.920927Z",
     "iopub.status.idle": "2021-10-26T23:38:35.931402Z",
     "shell.execute_reply": "2021-10-26T23:38:35.930839Z"
    }
   },
   "outputs": [
    {
     "data": {
      "text/html": [
       "<div>\n",
       "<style scoped>\n",
       "    .dataframe tbody tr th:only-of-type {\n",
       "        vertical-align: middle;\n",
       "    }\n",
       "\n",
       "    .dataframe tbody tr th {\n",
       "        vertical-align: top;\n",
       "    }\n",
       "\n",
       "    .dataframe thead th {\n",
       "        text-align: right;\n",
       "    }\n",
       "</style>\n",
       "<table border=\"1\" class=\"dataframe\">\n",
       "  <thead>\n",
       "    <tr style=\"text-align: right;\">\n",
       "      <th></th>\n",
       "      <th>sedol</th>\n",
       "      <th>address</th>\n",
       "      <th>sedol_clean</th>\n",
       "    </tr>\n",
       "  </thead>\n",
       "  <tbody>\n",
       "    <tr>\n",
       "      <th>0</th>\n",
       "      <td>B15KXQ8</td>\n",
       "      <td>123 Pine Ave.</td>\n",
       "      <td>GB00B15KXQ89</td>\n",
       "    </tr>\n",
       "    <tr>\n",
       "      <th>1</th>\n",
       "      <td>B15KXQ7</td>\n",
       "      <td>main st</td>\n",
       "      <td>NaN</td>\n",
       "    </tr>\n",
       "    <tr>\n",
       "      <th>2</th>\n",
       "      <td>7542011030</td>\n",
       "      <td>1234 west main heights 57033</td>\n",
       "      <td>NaN</td>\n",
       "    </tr>\n",
       "    <tr>\n",
       "      <th>3</th>\n",
       "      <td>7552A10004</td>\n",
       "      <td>apt 1 789 s maple rd manhattan</td>\n",
       "      <td>NaN</td>\n",
       "    </tr>\n",
       "    <tr>\n",
       "      <th>4</th>\n",
       "      <td>8019010008</td>\n",
       "      <td>robie house, 789 north main street</td>\n",
       "      <td>NaN</td>\n",
       "    </tr>\n",
       "    <tr>\n",
       "      <th>5</th>\n",
       "      <td>hello</td>\n",
       "      <td>1111 S Figueroa St, Los Angeles, CA 90015</td>\n",
       "      <td>NaN</td>\n",
       "    </tr>\n",
       "    <tr>\n",
       "      <th>6</th>\n",
       "      <td>NaN</td>\n",
       "      <td>(staples center) 1111 S Figueroa St, Los Angeles</td>\n",
       "      <td>NaN</td>\n",
       "    </tr>\n",
       "    <tr>\n",
       "      <th>7</th>\n",
       "      <td>NULL</td>\n",
       "      <td>hello</td>\n",
       "      <td>NaN</td>\n",
       "    </tr>\n",
       "  </tbody>\n",
       "</table>\n",
       "</div>"
      ],
      "text/plain": [
       "        sedol                                           address   sedol_clean\n",
       "0     B15KXQ8                                     123 Pine Ave.  GB00B15KXQ89\n",
       "1     B15KXQ7                                           main st           NaN\n",
       "2  7542011030                      1234 west main heights 57033           NaN\n",
       "3  7552A10004                    apt 1 789 s maple rd manhattan           NaN\n",
       "4  8019010008                robie house, 789 north main street           NaN\n",
       "5       hello         1111 S Figueroa St, Los Angeles, CA 90015           NaN\n",
       "6         NaN  (staples center) 1111 S Figueroa St, Los Angeles           NaN\n",
       "7        NULL                                             hello           NaN"
      ]
     },
     "execution_count": 1,
     "metadata": {},
     "output_type": "execute_result"
    }
   ],
   "source": [
    "clean_gb_sedol(df, column = \"sedol\", output_format=\"isin\")"
   ]
  },
  {
   "cell_type": "markdown",
   "id": "communist-number",
   "metadata": {},
   "source": [
    "## 3. `inplace` parameter\n",
    "\n",
    "This deletes the given column from the returned DataFrame. \n",
    "A new column containing cleaned SEDOL strings is added with a title in the format `\"{original title}_clean\"`."
   ]
  },
  {
   "cell_type": "code",
   "execution_count": 6,
   "id": "terminal-leone",
   "metadata": {
    "execution": {
     "iopub.execute_input": "2021-10-26T23:38:35.963300Z",
     "iopub.status.busy": "2021-10-26T23:38:35.957000Z",
     "iopub.status.idle": "2021-10-26T23:38:35.980386Z",
     "shell.execute_reply": "2021-10-26T23:38:35.980893Z"
    }
   },
   "outputs": [
    {
     "data": {
      "text/html": [
       "<div>\n",
       "<style scoped>\n",
       "    .dataframe tbody tr th:only-of-type {\n",
       "        vertical-align: middle;\n",
       "    }\n",
       "\n",
       "    .dataframe tbody tr th {\n",
       "        vertical-align: top;\n",
       "    }\n",
       "\n",
       "    .dataframe thead th {\n",
       "        text-align: right;\n",
       "    }\n",
       "</style>\n",
       "<table border=\"1\" class=\"dataframe\">\n",
       "  <thead>\n",
       "    <tr style=\"text-align: right;\">\n",
       "      <th></th>\n",
       "      <th>sedol_clean</th>\n",
       "      <th>address</th>\n",
       "    </tr>\n",
       "  </thead>\n",
       "  <tbody>\n",
       "    <tr>\n",
       "      <th>0</th>\n",
       "      <td>B15KXQ8</td>\n",
       "      <td>123 Pine Ave.</td>\n",
       "    </tr>\n",
       "    <tr>\n",
       "      <th>1</th>\n",
       "      <td>NaN</td>\n",
       "      <td>main st</td>\n",
       "    </tr>\n",
       "    <tr>\n",
       "      <th>2</th>\n",
       "      <td>NaN</td>\n",
       "      <td>1234 west main heights 57033</td>\n",
       "    </tr>\n",
       "    <tr>\n",
       "      <th>3</th>\n",
       "      <td>NaN</td>\n",
       "      <td>apt 1 789 s maple rd manhattan</td>\n",
       "    </tr>\n",
       "    <tr>\n",
       "      <th>4</th>\n",
       "      <td>NaN</td>\n",
       "      <td>robie house, 789 north main street</td>\n",
       "    </tr>\n",
       "    <tr>\n",
       "      <th>5</th>\n",
       "      <td>NaN</td>\n",
       "      <td>1111 S Figueroa St, Los Angeles, CA 90015</td>\n",
       "    </tr>\n",
       "    <tr>\n",
       "      <th>6</th>\n",
       "      <td>NaN</td>\n",
       "      <td>(staples center) 1111 S Figueroa St, Los Angeles</td>\n",
       "    </tr>\n",
       "    <tr>\n",
       "      <th>7</th>\n",
       "      <td>NaN</td>\n",
       "      <td>hello</td>\n",
       "    </tr>\n",
       "  </tbody>\n",
       "</table>\n",
       "</div>"
      ],
      "text/plain": [
       "  sedol_clean                                           address\n",
       "0     B15KXQ8                                     123 Pine Ave.\n",
       "1         NaN                                           main st\n",
       "2         NaN                      1234 west main heights 57033\n",
       "3         NaN                    apt 1 789 s maple rd manhattan\n",
       "4         NaN                robie house, 789 north main street\n",
       "5         NaN         1111 S Figueroa St, Los Angeles, CA 90015\n",
       "6         NaN  (staples center) 1111 S Figueroa St, Los Angeles\n",
       "7         NaN                                             hello"
      ]
     },
     "execution_count": 1,
     "metadata": {},
     "output_type": "execute_result"
    }
   ],
   "source": [
    "clean_gb_sedol(df, column=\"sedol\", inplace=True)"
   ]
  },
  {
   "cell_type": "markdown",
   "id": "portable-withdrawal",
   "metadata": {},
   "source": [
    "## 4. `errors` parameter"
   ]
  },
  {
   "cell_type": "markdown",
   "id": "brazilian-baptist",
   "metadata": {},
   "source": [
    "### `coerce` (default)"
   ]
  },
  {
   "cell_type": "code",
   "execution_count": 7,
   "id": "agreed-skiing",
   "metadata": {
    "execution": {
     "iopub.execute_input": "2021-10-26T23:38:36.009839Z",
     "iopub.status.busy": "2021-10-26T23:38:36.008159Z",
     "iopub.status.idle": "2021-10-26T23:38:36.020060Z",
     "shell.execute_reply": "2021-10-26T23:38:36.019225Z"
    }
   },
   "outputs": [
    {
     "data": {
      "text/html": [
       "<div>\n",
       "<style scoped>\n",
       "    .dataframe tbody tr th:only-of-type {\n",
       "        vertical-align: middle;\n",
       "    }\n",
       "\n",
       "    .dataframe tbody tr th {\n",
       "        vertical-align: top;\n",
       "    }\n",
       "\n",
       "    .dataframe thead th {\n",
       "        text-align: right;\n",
       "    }\n",
       "</style>\n",
       "<table border=\"1\" class=\"dataframe\">\n",
       "  <thead>\n",
       "    <tr style=\"text-align: right;\">\n",
       "      <th></th>\n",
       "      <th>sedol</th>\n",
       "      <th>address</th>\n",
       "      <th>sedol_clean</th>\n",
       "    </tr>\n",
       "  </thead>\n",
       "  <tbody>\n",
       "    <tr>\n",
       "      <th>0</th>\n",
       "      <td>B15KXQ8</td>\n",
       "      <td>123 Pine Ave.</td>\n",
       "      <td>B15KXQ8</td>\n",
       "    </tr>\n",
       "    <tr>\n",
       "      <th>1</th>\n",
       "      <td>B15KXQ7</td>\n",
       "      <td>main st</td>\n",
       "      <td>NaN</td>\n",
       "    </tr>\n",
       "    <tr>\n",
       "      <th>2</th>\n",
       "      <td>7542011030</td>\n",
       "      <td>1234 west main heights 57033</td>\n",
       "      <td>NaN</td>\n",
       "    </tr>\n",
       "    <tr>\n",
       "      <th>3</th>\n",
       "      <td>7552A10004</td>\n",
       "      <td>apt 1 789 s maple rd manhattan</td>\n",
       "      <td>NaN</td>\n",
       "    </tr>\n",
       "    <tr>\n",
       "      <th>4</th>\n",
       "      <td>8019010008</td>\n",
       "      <td>robie house, 789 north main street</td>\n",
       "      <td>NaN</td>\n",
       "    </tr>\n",
       "    <tr>\n",
       "      <th>5</th>\n",
       "      <td>hello</td>\n",
       "      <td>1111 S Figueroa St, Los Angeles, CA 90015</td>\n",
       "      <td>NaN</td>\n",
       "    </tr>\n",
       "    <tr>\n",
       "      <th>6</th>\n",
       "      <td>NaN</td>\n",
       "      <td>(staples center) 1111 S Figueroa St, Los Angeles</td>\n",
       "      <td>NaN</td>\n",
       "    </tr>\n",
       "    <tr>\n",
       "      <th>7</th>\n",
       "      <td>NULL</td>\n",
       "      <td>hello</td>\n",
       "      <td>NaN</td>\n",
       "    </tr>\n",
       "  </tbody>\n",
       "</table>\n",
       "</div>"
      ],
      "text/plain": [
       "        sedol                                           address sedol_clean\n",
       "0     B15KXQ8                                     123 Pine Ave.     B15KXQ8\n",
       "1     B15KXQ7                                           main st         NaN\n",
       "2  7542011030                      1234 west main heights 57033         NaN\n",
       "3  7552A10004                    apt 1 789 s maple rd manhattan         NaN\n",
       "4  8019010008                robie house, 789 north main street         NaN\n",
       "5       hello         1111 S Figueroa St, Los Angeles, CA 90015         NaN\n",
       "6         NaN  (staples center) 1111 S Figueroa St, Los Angeles         NaN\n",
       "7        NULL                                             hello         NaN"
      ]
     },
     "execution_count": 1,
     "metadata": {},
     "output_type": "execute_result"
    }
   ],
   "source": [
    "clean_gb_sedol(df, \"sedol\", errors=\"coerce\")"
   ]
  },
  {
   "cell_type": "markdown",
   "id": "structural-celebrity",
   "metadata": {},
   "source": [
    "### `ignore`"
   ]
  },
  {
   "cell_type": "code",
   "execution_count": 8,
   "id": "chronic-filter",
   "metadata": {
    "execution": {
     "iopub.execute_input": "2021-10-26T23:38:36.044116Z",
     "iopub.status.busy": "2021-10-26T23:38:36.043424Z",
     "iopub.status.idle": "2021-10-26T23:38:36.058309Z",
     "shell.execute_reply": "2021-10-26T23:38:36.058821Z"
    }
   },
   "outputs": [
    {
     "data": {
      "text/html": [
       "<div>\n",
       "<style scoped>\n",
       "    .dataframe tbody tr th:only-of-type {\n",
       "        vertical-align: middle;\n",
       "    }\n",
       "\n",
       "    .dataframe tbody tr th {\n",
       "        vertical-align: top;\n",
       "    }\n",
       "\n",
       "    .dataframe thead th {\n",
       "        text-align: right;\n",
       "    }\n",
       "</style>\n",
       "<table border=\"1\" class=\"dataframe\">\n",
       "  <thead>\n",
       "    <tr style=\"text-align: right;\">\n",
       "      <th></th>\n",
       "      <th>sedol</th>\n",
       "      <th>address</th>\n",
       "      <th>sedol_clean</th>\n",
       "    </tr>\n",
       "  </thead>\n",
       "  <tbody>\n",
       "    <tr>\n",
       "      <th>0</th>\n",
       "      <td>B15KXQ8</td>\n",
       "      <td>123 Pine Ave.</td>\n",
       "      <td>B15KXQ8</td>\n",
       "    </tr>\n",
       "    <tr>\n",
       "      <th>1</th>\n",
       "      <td>B15KXQ7</td>\n",
       "      <td>main st</td>\n",
       "      <td>B15KXQ7</td>\n",
       "    </tr>\n",
       "    <tr>\n",
       "      <th>2</th>\n",
       "      <td>7542011030</td>\n",
       "      <td>1234 west main heights 57033</td>\n",
       "      <td>7542011030</td>\n",
       "    </tr>\n",
       "    <tr>\n",
       "      <th>3</th>\n",
       "      <td>7552A10004</td>\n",
       "      <td>apt 1 789 s maple rd manhattan</td>\n",
       "      <td>7552A10004</td>\n",
       "    </tr>\n",
       "    <tr>\n",
       "      <th>4</th>\n",
       "      <td>8019010008</td>\n",
       "      <td>robie house, 789 north main street</td>\n",
       "      <td>8019010008</td>\n",
       "    </tr>\n",
       "    <tr>\n",
       "      <th>5</th>\n",
       "      <td>hello</td>\n",
       "      <td>1111 S Figueroa St, Los Angeles, CA 90015</td>\n",
       "      <td>hello</td>\n",
       "    </tr>\n",
       "    <tr>\n",
       "      <th>6</th>\n",
       "      <td>NaN</td>\n",
       "      <td>(staples center) 1111 S Figueroa St, Los Angeles</td>\n",
       "      <td>NaN</td>\n",
       "    </tr>\n",
       "    <tr>\n",
       "      <th>7</th>\n",
       "      <td>NULL</td>\n",
       "      <td>hello</td>\n",
       "      <td>NaN</td>\n",
       "    </tr>\n",
       "  </tbody>\n",
       "</table>\n",
       "</div>"
      ],
      "text/plain": [
       "        sedol                                           address sedol_clean\n",
       "0     B15KXQ8                                     123 Pine Ave.     B15KXQ8\n",
       "1     B15KXQ7                                           main st     B15KXQ7\n",
       "2  7542011030                      1234 west main heights 57033  7542011030\n",
       "3  7552A10004                    apt 1 789 s maple rd manhattan  7552A10004\n",
       "4  8019010008                robie house, 789 north main street  8019010008\n",
       "5       hello         1111 S Figueroa St, Los Angeles, CA 90015       hello\n",
       "6         NaN  (staples center) 1111 S Figueroa St, Los Angeles         NaN\n",
       "7        NULL                                             hello         NaN"
      ]
     },
     "execution_count": 1,
     "metadata": {},
     "output_type": "execute_result"
    }
   ],
   "source": [
    "clean_gb_sedol(df, \"sedol\", errors=\"ignore\")"
   ]
  },
  {
   "cell_type": "markdown",
   "id": "saved-battlefield",
   "metadata": {},
   "source": [
    "## 4. `validate_gb_sedol()`"
   ]
  },
  {
   "cell_type": "markdown",
   "id": "certain-seeker",
   "metadata": {},
   "source": [
    "`validate_gb_sedol()` returns `True` when the input is a valid SEDOL. Otherwise it returns `False`.\n",
    "\n",
    "The input of `validate_gb_sedol()` can be a string, a Pandas DataSeries, a Dask DataSeries, a Pandas DataFrame and a dask DataFrame.\n",
    "\n",
    "When the input is a string, a Pandas DataSeries or a Dask DataSeries, user doesn't need to specify a column name to be validated. \n",
    "\n",
    "When the input is a Pandas DataFrame or a dask DataFrame, user can both specify or not specify a column name to be validated. If user specify the column name, `validate_gb_sedol()` only returns the validation result for the specified column. If user doesn't specify the column name, `validate_gb_sedol()` returns the validation result for the whole DataFrame."
   ]
  },
  {
   "cell_type": "code",
   "execution_count": 9,
   "id": "convinced-oxford",
   "metadata": {
    "execution": {
     "iopub.execute_input": "2021-10-26T23:38:36.065448Z",
     "iopub.status.busy": "2021-10-26T23:38:36.064815Z",
     "iopub.status.idle": "2021-10-26T23:38:36.069355Z",
     "shell.execute_reply": "2021-10-26T23:38:36.069830Z"
    }
   },
   "outputs": [
    {
     "name": "stdout",
     "output_type": "stream",
     "text": [
      "True\n",
      "False\n",
      "False\n",
      "False\n",
      "False\n",
      "False\n",
      "False\n",
      "False\n"
     ]
    }
   ],
   "source": [
    "from dataprep.clean import validate_gb_sedol\n",
    "print(validate_gb_sedol('B15KXQ8'))\n",
    "print(validate_gb_sedol('B15KXQ7'))\n",
    "print(validate_gb_sedol('7542011030'))\n",
    "print(validate_gb_sedol('7552A10004'))\n",
    "print(validate_gb_sedol('8019010008'))\n",
    "print(validate_gb_sedol(\"hello\"))\n",
    "print(validate_gb_sedol(np.nan))\n",
    "print(validate_gb_sedol(\"NULL\"))"
   ]
  },
  {
   "cell_type": "markdown",
   "id": "stupid-washer",
   "metadata": {},
   "source": [
    "### Series"
   ]
  },
  {
   "cell_type": "code",
   "execution_count": 10,
   "id": "assisted-highlight",
   "metadata": {
    "execution": {
     "iopub.execute_input": "2021-10-26T23:38:36.075332Z",
     "iopub.status.busy": "2021-10-26T23:38:36.074724Z",
     "iopub.status.idle": "2021-10-26T23:38:36.079863Z",
     "shell.execute_reply": "2021-10-26T23:38:36.078885Z"
    }
   },
   "outputs": [
    {
     "data": {
      "text/plain": [
       "0     True\n",
       "1    False\n",
       "2    False\n",
       "3    False\n",
       "4    False\n",
       "5    False\n",
       "6    False\n",
       "7    False\n",
       "Name: sedol, dtype: bool"
      ]
     },
     "execution_count": 1,
     "metadata": {},
     "output_type": "execute_result"
    }
   ],
   "source": [
    "validate_gb_sedol(df[\"sedol\"])"
   ]
  },
  {
   "cell_type": "markdown",
   "id": "central-packing",
   "metadata": {},
   "source": [
    "### DataFrame + Specify Column"
   ]
  },
  {
   "cell_type": "code",
   "execution_count": 11,
   "id": "local-easter",
   "metadata": {
    "execution": {
     "iopub.execute_input": "2021-10-26T23:38:36.085216Z",
     "iopub.status.busy": "2021-10-26T23:38:36.084603Z",
     "iopub.status.idle": "2021-10-26T23:38:36.090506Z",
     "shell.execute_reply": "2021-10-26T23:38:36.089982Z"
    }
   },
   "outputs": [
    {
     "data": {
      "text/plain": [
       "0     True\n",
       "1    False\n",
       "2    False\n",
       "3    False\n",
       "4    False\n",
       "5    False\n",
       "6    False\n",
       "7    False\n",
       "Name: sedol, dtype: bool"
      ]
     },
     "execution_count": 1,
     "metadata": {},
     "output_type": "execute_result"
    }
   ],
   "source": [
    "validate_gb_sedol(df, column=\"sedol\")"
   ]
  },
  {
   "cell_type": "markdown",
   "id": "synthetic-clerk",
   "metadata": {},
   "source": [
    "### Only DataFrame"
   ]
  },
  {
   "cell_type": "code",
   "execution_count": 12,
   "id": "welsh-female",
   "metadata": {
    "execution": {
     "iopub.execute_input": "2021-10-26T23:38:36.094643Z",
     "iopub.status.busy": "2021-10-26T23:38:36.093870Z",
     "iopub.status.idle": "2021-10-26T23:38:36.106058Z",
     "shell.execute_reply": "2021-10-26T23:38:36.106898Z"
    }
   },
   "outputs": [
    {
     "data": {
      "text/html": [
       "<div>\n",
       "<style scoped>\n",
       "    .dataframe tbody tr th:only-of-type {\n",
       "        vertical-align: middle;\n",
       "    }\n",
       "\n",
       "    .dataframe tbody tr th {\n",
       "        vertical-align: top;\n",
       "    }\n",
       "\n",
       "    .dataframe thead th {\n",
       "        text-align: right;\n",
       "    }\n",
       "</style>\n",
       "<table border=\"1\" class=\"dataframe\">\n",
       "  <thead>\n",
       "    <tr style=\"text-align: right;\">\n",
       "      <th></th>\n",
       "      <th>sedol</th>\n",
       "      <th>address</th>\n",
       "    </tr>\n",
       "  </thead>\n",
       "  <tbody>\n",
       "    <tr>\n",
       "      <th>0</th>\n",
       "      <td>True</td>\n",
       "      <td>False</td>\n",
       "    </tr>\n",
       "    <tr>\n",
       "      <th>1</th>\n",
       "      <td>False</td>\n",
       "      <td>False</td>\n",
       "    </tr>\n",
       "    <tr>\n",
       "      <th>2</th>\n",
       "      <td>False</td>\n",
       "      <td>False</td>\n",
       "    </tr>\n",
       "    <tr>\n",
       "      <th>3</th>\n",
       "      <td>False</td>\n",
       "      <td>False</td>\n",
       "    </tr>\n",
       "    <tr>\n",
       "      <th>4</th>\n",
       "      <td>False</td>\n",
       "      <td>False</td>\n",
       "    </tr>\n",
       "    <tr>\n",
       "      <th>5</th>\n",
       "      <td>False</td>\n",
       "      <td>False</td>\n",
       "    </tr>\n",
       "    <tr>\n",
       "      <th>6</th>\n",
       "      <td>False</td>\n",
       "      <td>False</td>\n",
       "    </tr>\n",
       "    <tr>\n",
       "      <th>7</th>\n",
       "      <td>False</td>\n",
       "      <td>False</td>\n",
       "    </tr>\n",
       "  </tbody>\n",
       "</table>\n",
       "</div>"
      ],
      "text/plain": [
       "   sedol  address\n",
       "0   True    False\n",
       "1  False    False\n",
       "2  False    False\n",
       "3  False    False\n",
       "4  False    False\n",
       "5  False    False\n",
       "6  False    False\n",
       "7  False    False"
      ]
     },
     "execution_count": 1,
     "metadata": {},
     "output_type": "execute_result"
    }
   ],
   "source": [
    "validate_gb_sedol(df)"
   ]
  },
  {
   "cell_type": "code",
   "execution_count": null,
   "id": "employed-width",
   "metadata": {},
   "outputs": [],
   "source": []
  }
 ],
 "metadata": {
  "kernelspec": {
   "display_name": "Python 3",
   "language": "python",
   "name": "python3"
  },
  "language_info": {
   "codemirror_mode": {
    "name": "ipython",
    "version": 3
   },
   "file_extension": ".py",
   "mimetype": "text/x-python",
   "name": "python",
   "nbconvert_exporter": "python",
   "pygments_lexer": "ipython3",
   "version": "3.8.10"
  }
 },
 "nbformat": 4,
 "nbformat_minor": 5
}
