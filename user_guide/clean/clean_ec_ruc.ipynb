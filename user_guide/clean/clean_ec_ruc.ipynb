{
 "cells": [
  {
   "cell_type": "raw",
   "id": "mysterious-guitar",
   "metadata": {},
   "source": [
    ".. _ruc_userguide:\n",
    "\n",
    "RUC Strings\n",
    "============"
   ]
  },
  {
   "cell_type": "raw",
   "id": "accompanied-rwanda",
   "metadata": {},
   "source": [
    "Introduction\n",
    "------------\n",
    "\n",
    "The function :func:`clean_ec_ruc() <dataprep.clean.clean_ec_ruc.clean_ec_ruc>` cleans a column containing Ecuadorian company tax number (RUC) strings, and standardizes them in a given format. The function :func:`validate_ec_ruc() <dataprep.clean.clean_ec_ruc.validate_ec_ruc>` validates either a single RUC strings, a column of RUC strings or a DataFrame of RUC strings, returning `True` if the value is valid, and `False` otherwise."
   ]
  },
  {
   "cell_type": "markdown",
   "id": "miniature-nowhere",
   "metadata": {},
   "source": [
    "RUC strings can be converted to the following formats via the `output_format` parameter:\n",
    "\n",
    "* `compact`: only number strings without any seperators or whitespace, like \"1792060346001\"\n",
    "* `standard`: RUC strings with proper whitespace in the proper places. Note that in the case of RUC, the compact format is the same as the standard one.\n",
    "\n",
    "Invalid parsing is handled with the `errors` parameter:\n",
    "\n",
    "* `coerce` (default): invalid parsing will be set to NaN\n",
    "* `ignore`: invalid parsing will return the input\n",
    "* `raise`: invalid parsing will raise an exception\n",
    "\n",
    "The following sections demonstrate the functionality of `clean_ec_ruc()` and `validate_ec_ruc()`. "
   ]
  },
  {
   "cell_type": "markdown",
   "id": "pharmaceutical-realtor",
   "metadata": {},
   "source": [
    "### An example dataset containing RUC strings"
   ]
  },
  {
   "cell_type": "code",
   "execution_count": 1,
   "id": "rubber-mercy",
   "metadata": {
    "execution": {
     "iopub.execute_input": "2021-10-26T23:36:48.629127Z",
     "iopub.status.busy": "2021-10-26T23:36:48.628438Z",
     "iopub.status.idle": "2021-10-26T23:36:48.917121Z",
     "shell.execute_reply": "2021-10-26T23:36:48.916236Z"
    }
   },
   "outputs": [
    {
     "data": {
      "text/html": [
       "<div>\n",
       "<style scoped>\n",
       "    .dataframe tbody tr th:only-of-type {\n",
       "        vertical-align: middle;\n",
       "    }\n",
       "\n",
       "    .dataframe tbody tr th {\n",
       "        vertical-align: top;\n",
       "    }\n",
       "\n",
       "    .dataframe thead th {\n",
       "        text-align: right;\n",
       "    }\n",
       "</style>\n",
       "<table border=\"1\" class=\"dataframe\">\n",
       "  <thead>\n",
       "    <tr style=\"text-align: right;\">\n",
       "      <th></th>\n",
       "      <th>ruc</th>\n",
       "      <th>address</th>\n",
       "    </tr>\n",
       "  </thead>\n",
       "  <tbody>\n",
       "    <tr>\n",
       "      <th>0</th>\n",
       "      <td>1792060346-001</td>\n",
       "      <td>123 Pine Ave.</td>\n",
       "    </tr>\n",
       "    <tr>\n",
       "      <th>1</th>\n",
       "      <td>1763154690001</td>\n",
       "      <td>main st</td>\n",
       "    </tr>\n",
       "    <tr>\n",
       "      <th>2</th>\n",
       "      <td>BE 428759497</td>\n",
       "      <td>1234 west main heights 57033</td>\n",
       "    </tr>\n",
       "    <tr>\n",
       "      <th>3</th>\n",
       "      <td>BE431150351</td>\n",
       "      <td>apt 1 789 s maple rd manhattan</td>\n",
       "    </tr>\n",
       "    <tr>\n",
       "      <th>4</th>\n",
       "      <td>002 724 334</td>\n",
       "      <td>robie house, 789 north main street</td>\n",
       "    </tr>\n",
       "    <tr>\n",
       "      <th>5</th>\n",
       "      <td>hello</td>\n",
       "      <td>1111 S Figueroa St, Los Angeles, CA 90015</td>\n",
       "    </tr>\n",
       "    <tr>\n",
       "      <th>6</th>\n",
       "      <td>NaN</td>\n",
       "      <td>(staples center) 1111 S Figueroa St, Los Angeles</td>\n",
       "    </tr>\n",
       "    <tr>\n",
       "      <th>7</th>\n",
       "      <td>NULL</td>\n",
       "      <td>hello</td>\n",
       "    </tr>\n",
       "  </tbody>\n",
       "</table>\n",
       "</div>"
      ],
      "text/plain": [
       "              ruc                                           address\n",
       "0  1792060346-001                                     123 Pine Ave.\n",
       "1   1763154690001                                           main st\n",
       "2    BE 428759497                      1234 west main heights 57033\n",
       "3     BE431150351                    apt 1 789 s maple rd manhattan\n",
       "4     002 724 334                robie house, 789 north main street\n",
       "5           hello         1111 S Figueroa St, Los Angeles, CA 90015\n",
       "6             NaN  (staples center) 1111 S Figueroa St, Los Angeles\n",
       "7            NULL                                             hello"
      ]
     },
     "execution_count": 1,
     "metadata": {},
     "output_type": "execute_result"
    }
   ],
   "source": [
    "import pandas as pd\n",
    "import numpy as np\n",
    "df = pd.DataFrame(\n",
    "    {\n",
    "        \"ruc\": [\n",
    "            '1792060346-001',\n",
    "            '1763154690001',\n",
    "            'BE 428759497',\n",
    "            'BE431150351',\n",
    "            \"002 724 334\",\n",
    "            \"hello\",\n",
    "            np.nan,\n",
    "            \"NULL\",\n",
    "        ], \n",
    "        \"address\": [\n",
    "            \"123 Pine Ave.\",\n",
    "            \"main st\",\n",
    "            \"1234 west main heights 57033\",\n",
    "            \"apt 1 789 s maple rd manhattan\",\n",
    "            \"robie house, 789 north main street\",\n",
    "            \"1111 S Figueroa St, Los Angeles, CA 90015\",\n",
    "            \"(staples center) 1111 S Figueroa St, Los Angeles\",\n",
    "            \"hello\",\n",
    "        ]\n",
    "    }\n",
    ")\n",
    "df"
   ]
  },
  {
   "cell_type": "markdown",
   "id": "timely-effectiveness",
   "metadata": {},
   "source": [
    "## 1. Default `clean_ec_ruc`\n",
    "\n",
    "By default, `clean_ec_ruc` will clean ruc strings and output them in the standard format with proper separators."
   ]
  },
  {
   "cell_type": "code",
   "execution_count": 2,
   "id": "breathing-opportunity",
   "metadata": {
    "execution": {
     "iopub.execute_input": "2021-10-26T23:36:48.922062Z",
     "iopub.status.busy": "2021-10-26T23:36:48.921103Z",
     "iopub.status.idle": "2021-10-26T23:36:49.674338Z",
     "shell.execute_reply": "2021-10-26T23:36:49.674829Z"
    }
   },
   "outputs": [
    {
     "data": {
      "text/html": [
       "<div>\n",
       "<style scoped>\n",
       "    .dataframe tbody tr th:only-of-type {\n",
       "        vertical-align: middle;\n",
       "    }\n",
       "\n",
       "    .dataframe tbody tr th {\n",
       "        vertical-align: top;\n",
       "    }\n",
       "\n",
       "    .dataframe thead th {\n",
       "        text-align: right;\n",
       "    }\n",
       "</style>\n",
       "<table border=\"1\" class=\"dataframe\">\n",
       "  <thead>\n",
       "    <tr style=\"text-align: right;\">\n",
       "      <th></th>\n",
       "      <th>ruc</th>\n",
       "      <th>address</th>\n",
       "      <th>ruc_clean</th>\n",
       "    </tr>\n",
       "  </thead>\n",
       "  <tbody>\n",
       "    <tr>\n",
       "      <th>0</th>\n",
       "      <td>1792060346-001</td>\n",
       "      <td>123 Pine Ave.</td>\n",
       "      <td>1792060346001</td>\n",
       "    </tr>\n",
       "    <tr>\n",
       "      <th>1</th>\n",
       "      <td>1763154690001</td>\n",
       "      <td>main st</td>\n",
       "      <td>NaN</td>\n",
       "    </tr>\n",
       "    <tr>\n",
       "      <th>2</th>\n",
       "      <td>BE 428759497</td>\n",
       "      <td>1234 west main heights 57033</td>\n",
       "      <td>NaN</td>\n",
       "    </tr>\n",
       "    <tr>\n",
       "      <th>3</th>\n",
       "      <td>BE431150351</td>\n",
       "      <td>apt 1 789 s maple rd manhattan</td>\n",
       "      <td>NaN</td>\n",
       "    </tr>\n",
       "    <tr>\n",
       "      <th>4</th>\n",
       "      <td>002 724 334</td>\n",
       "      <td>robie house, 789 north main street</td>\n",
       "      <td>NaN</td>\n",
       "    </tr>\n",
       "    <tr>\n",
       "      <th>5</th>\n",
       "      <td>hello</td>\n",
       "      <td>1111 S Figueroa St, Los Angeles, CA 90015</td>\n",
       "      <td>NaN</td>\n",
       "    </tr>\n",
       "    <tr>\n",
       "      <th>6</th>\n",
       "      <td>NaN</td>\n",
       "      <td>(staples center) 1111 S Figueroa St, Los Angeles</td>\n",
       "      <td>NaN</td>\n",
       "    </tr>\n",
       "    <tr>\n",
       "      <th>7</th>\n",
       "      <td>NULL</td>\n",
       "      <td>hello</td>\n",
       "      <td>NaN</td>\n",
       "    </tr>\n",
       "  </tbody>\n",
       "</table>\n",
       "</div>"
      ],
      "text/plain": [
       "              ruc                                           address  \\\n",
       "0  1792060346-001                                     123 Pine Ave.   \n",
       "1   1763154690001                                           main st   \n",
       "2    BE 428759497                      1234 west main heights 57033   \n",
       "3     BE431150351                    apt 1 789 s maple rd manhattan   \n",
       "4     002 724 334                robie house, 789 north main street   \n",
       "5           hello         1111 S Figueroa St, Los Angeles, CA 90015   \n",
       "6             NaN  (staples center) 1111 S Figueroa St, Los Angeles   \n",
       "7            NULL                                             hello   \n",
       "\n",
       "       ruc_clean  \n",
       "0  1792060346001  \n",
       "1            NaN  \n",
       "2            NaN  \n",
       "3            NaN  \n",
       "4            NaN  \n",
       "5            NaN  \n",
       "6            NaN  \n",
       "7            NaN  "
      ]
     },
     "execution_count": 1,
     "metadata": {},
     "output_type": "execute_result"
    }
   ],
   "source": [
    "from dataprep.clean import clean_ec_ruc\n",
    "clean_ec_ruc(df, column = \"ruc\")"
   ]
  },
  {
   "cell_type": "markdown",
   "id": "arranged-duncan",
   "metadata": {},
   "source": [
    "## 2. Output formats"
   ]
  },
  {
   "cell_type": "markdown",
   "id": "southwest-decrease",
   "metadata": {},
   "source": [
    "This section demonstrates the output parameter."
   ]
  },
  {
   "cell_type": "markdown",
   "id": "editorial-power",
   "metadata": {},
   "source": [
    "### `standard` (default)"
   ]
  },
  {
   "cell_type": "code",
   "execution_count": 3,
   "id": "specific-oliver",
   "metadata": {
    "execution": {
     "iopub.execute_input": "2021-10-26T23:36:49.703775Z",
     "iopub.status.busy": "2021-10-26T23:36:49.702649Z",
     "iopub.status.idle": "2021-10-26T23:36:49.713765Z",
     "shell.execute_reply": "2021-10-26T23:36:49.713239Z"
    }
   },
   "outputs": [
    {
     "data": {
      "text/html": [
       "<div>\n",
       "<style scoped>\n",
       "    .dataframe tbody tr th:only-of-type {\n",
       "        vertical-align: middle;\n",
       "    }\n",
       "\n",
       "    .dataframe tbody tr th {\n",
       "        vertical-align: top;\n",
       "    }\n",
       "\n",
       "    .dataframe thead th {\n",
       "        text-align: right;\n",
       "    }\n",
       "</style>\n",
       "<table border=\"1\" class=\"dataframe\">\n",
       "  <thead>\n",
       "    <tr style=\"text-align: right;\">\n",
       "      <th></th>\n",
       "      <th>ruc</th>\n",
       "      <th>address</th>\n",
       "      <th>ruc_clean</th>\n",
       "    </tr>\n",
       "  </thead>\n",
       "  <tbody>\n",
       "    <tr>\n",
       "      <th>0</th>\n",
       "      <td>1792060346-001</td>\n",
       "      <td>123 Pine Ave.</td>\n",
       "      <td>1792060346001</td>\n",
       "    </tr>\n",
       "    <tr>\n",
       "      <th>1</th>\n",
       "      <td>1763154690001</td>\n",
       "      <td>main st</td>\n",
       "      <td>NaN</td>\n",
       "    </tr>\n",
       "    <tr>\n",
       "      <th>2</th>\n",
       "      <td>BE 428759497</td>\n",
       "      <td>1234 west main heights 57033</td>\n",
       "      <td>NaN</td>\n",
       "    </tr>\n",
       "    <tr>\n",
       "      <th>3</th>\n",
       "      <td>BE431150351</td>\n",
       "      <td>apt 1 789 s maple rd manhattan</td>\n",
       "      <td>NaN</td>\n",
       "    </tr>\n",
       "    <tr>\n",
       "      <th>4</th>\n",
       "      <td>002 724 334</td>\n",
       "      <td>robie house, 789 north main street</td>\n",
       "      <td>NaN</td>\n",
       "    </tr>\n",
       "    <tr>\n",
       "      <th>5</th>\n",
       "      <td>hello</td>\n",
       "      <td>1111 S Figueroa St, Los Angeles, CA 90015</td>\n",
       "      <td>NaN</td>\n",
       "    </tr>\n",
       "    <tr>\n",
       "      <th>6</th>\n",
       "      <td>NaN</td>\n",
       "      <td>(staples center) 1111 S Figueroa St, Los Angeles</td>\n",
       "      <td>NaN</td>\n",
       "    </tr>\n",
       "    <tr>\n",
       "      <th>7</th>\n",
       "      <td>NULL</td>\n",
       "      <td>hello</td>\n",
       "      <td>NaN</td>\n",
       "    </tr>\n",
       "  </tbody>\n",
       "</table>\n",
       "</div>"
      ],
      "text/plain": [
       "              ruc                                           address  \\\n",
       "0  1792060346-001                                     123 Pine Ave.   \n",
       "1   1763154690001                                           main st   \n",
       "2    BE 428759497                      1234 west main heights 57033   \n",
       "3     BE431150351                    apt 1 789 s maple rd manhattan   \n",
       "4     002 724 334                robie house, 789 north main street   \n",
       "5           hello         1111 S Figueroa St, Los Angeles, CA 90015   \n",
       "6             NaN  (staples center) 1111 S Figueroa St, Los Angeles   \n",
       "7            NULL                                             hello   \n",
       "\n",
       "       ruc_clean  \n",
       "0  1792060346001  \n",
       "1            NaN  \n",
       "2            NaN  \n",
       "3            NaN  \n",
       "4            NaN  \n",
       "5            NaN  \n",
       "6            NaN  \n",
       "7            NaN  "
      ]
     },
     "execution_count": 1,
     "metadata": {},
     "output_type": "execute_result"
    }
   ],
   "source": [
    "clean_ec_ruc(df, column = \"ruc\", output_format=\"standard\")"
   ]
  },
  {
   "cell_type": "markdown",
   "id": "leading-founder",
   "metadata": {},
   "source": [
    "### `compact`"
   ]
  },
  {
   "cell_type": "code",
   "execution_count": 4,
   "id": "olive-picking",
   "metadata": {
    "execution": {
     "iopub.execute_input": "2021-10-26T23:36:49.749333Z",
     "iopub.status.busy": "2021-10-26T23:36:49.744089Z",
     "iopub.status.idle": "2021-10-26T23:36:49.753191Z",
     "shell.execute_reply": "2021-10-26T23:36:49.753673Z"
    }
   },
   "outputs": [
    {
     "data": {
      "text/html": [
       "<div>\n",
       "<style scoped>\n",
       "    .dataframe tbody tr th:only-of-type {\n",
       "        vertical-align: middle;\n",
       "    }\n",
       "\n",
       "    .dataframe tbody tr th {\n",
       "        vertical-align: top;\n",
       "    }\n",
       "\n",
       "    .dataframe thead th {\n",
       "        text-align: right;\n",
       "    }\n",
       "</style>\n",
       "<table border=\"1\" class=\"dataframe\">\n",
       "  <thead>\n",
       "    <tr style=\"text-align: right;\">\n",
       "      <th></th>\n",
       "      <th>ruc</th>\n",
       "      <th>address</th>\n",
       "      <th>ruc_clean</th>\n",
       "    </tr>\n",
       "  </thead>\n",
       "  <tbody>\n",
       "    <tr>\n",
       "      <th>0</th>\n",
       "      <td>1792060346-001</td>\n",
       "      <td>123 Pine Ave.</td>\n",
       "      <td>1792060346001</td>\n",
       "    </tr>\n",
       "    <tr>\n",
       "      <th>1</th>\n",
       "      <td>1763154690001</td>\n",
       "      <td>main st</td>\n",
       "      <td>NaN</td>\n",
       "    </tr>\n",
       "    <tr>\n",
       "      <th>2</th>\n",
       "      <td>BE 428759497</td>\n",
       "      <td>1234 west main heights 57033</td>\n",
       "      <td>NaN</td>\n",
       "    </tr>\n",
       "    <tr>\n",
       "      <th>3</th>\n",
       "      <td>BE431150351</td>\n",
       "      <td>apt 1 789 s maple rd manhattan</td>\n",
       "      <td>NaN</td>\n",
       "    </tr>\n",
       "    <tr>\n",
       "      <th>4</th>\n",
       "      <td>002 724 334</td>\n",
       "      <td>robie house, 789 north main street</td>\n",
       "      <td>NaN</td>\n",
       "    </tr>\n",
       "    <tr>\n",
       "      <th>5</th>\n",
       "      <td>hello</td>\n",
       "      <td>1111 S Figueroa St, Los Angeles, CA 90015</td>\n",
       "      <td>NaN</td>\n",
       "    </tr>\n",
       "    <tr>\n",
       "      <th>6</th>\n",
       "      <td>NaN</td>\n",
       "      <td>(staples center) 1111 S Figueroa St, Los Angeles</td>\n",
       "      <td>NaN</td>\n",
       "    </tr>\n",
       "    <tr>\n",
       "      <th>7</th>\n",
       "      <td>NULL</td>\n",
       "      <td>hello</td>\n",
       "      <td>NaN</td>\n",
       "    </tr>\n",
       "  </tbody>\n",
       "</table>\n",
       "</div>"
      ],
      "text/plain": [
       "              ruc                                           address  \\\n",
       "0  1792060346-001                                     123 Pine Ave.   \n",
       "1   1763154690001                                           main st   \n",
       "2    BE 428759497                      1234 west main heights 57033   \n",
       "3     BE431150351                    apt 1 789 s maple rd manhattan   \n",
       "4     002 724 334                robie house, 789 north main street   \n",
       "5           hello         1111 S Figueroa St, Los Angeles, CA 90015   \n",
       "6             NaN  (staples center) 1111 S Figueroa St, Los Angeles   \n",
       "7            NULL                                             hello   \n",
       "\n",
       "       ruc_clean  \n",
       "0  1792060346001  \n",
       "1            NaN  \n",
       "2            NaN  \n",
       "3            NaN  \n",
       "4            NaN  \n",
       "5            NaN  \n",
       "6            NaN  \n",
       "7            NaN  "
      ]
     },
     "execution_count": 1,
     "metadata": {},
     "output_type": "execute_result"
    }
   ],
   "source": [
    "clean_ec_ruc(df, column = \"ruc\", output_format=\"compact\")"
   ]
  },
  {
   "cell_type": "markdown",
   "id": "interracial-force",
   "metadata": {},
   "source": [
    "## 3. `inplace` parameter\n",
    "\n",
    "This deletes the given column from the returned DataFrame. \n",
    "A new column containing cleaned RUC strings is added with a title in the format `\"{original title}_clean\"`."
   ]
  },
  {
   "cell_type": "code",
   "execution_count": 5,
   "id": "personal-vatican",
   "metadata": {
    "execution": {
     "iopub.execute_input": "2021-10-26T23:36:49.788242Z",
     "iopub.status.busy": "2021-10-26T23:36:49.763068Z",
     "iopub.status.idle": "2021-10-26T23:36:49.804479Z",
     "shell.execute_reply": "2021-10-26T23:36:49.803950Z"
    }
   },
   "outputs": [
    {
     "data": {
      "text/html": [
       "<div>\n",
       "<style scoped>\n",
       "    .dataframe tbody tr th:only-of-type {\n",
       "        vertical-align: middle;\n",
       "    }\n",
       "\n",
       "    .dataframe tbody tr th {\n",
       "        vertical-align: top;\n",
       "    }\n",
       "\n",
       "    .dataframe thead th {\n",
       "        text-align: right;\n",
       "    }\n",
       "</style>\n",
       "<table border=\"1\" class=\"dataframe\">\n",
       "  <thead>\n",
       "    <tr style=\"text-align: right;\">\n",
       "      <th></th>\n",
       "      <th>ruc_clean</th>\n",
       "      <th>address</th>\n",
       "    </tr>\n",
       "  </thead>\n",
       "  <tbody>\n",
       "    <tr>\n",
       "      <th>0</th>\n",
       "      <td>1792060346001</td>\n",
       "      <td>123 Pine Ave.</td>\n",
       "    </tr>\n",
       "    <tr>\n",
       "      <th>1</th>\n",
       "      <td>NaN</td>\n",
       "      <td>main st</td>\n",
       "    </tr>\n",
       "    <tr>\n",
       "      <th>2</th>\n",
       "      <td>NaN</td>\n",
       "      <td>1234 west main heights 57033</td>\n",
       "    </tr>\n",
       "    <tr>\n",
       "      <th>3</th>\n",
       "      <td>NaN</td>\n",
       "      <td>apt 1 789 s maple rd manhattan</td>\n",
       "    </tr>\n",
       "    <tr>\n",
       "      <th>4</th>\n",
       "      <td>NaN</td>\n",
       "      <td>robie house, 789 north main street</td>\n",
       "    </tr>\n",
       "    <tr>\n",
       "      <th>5</th>\n",
       "      <td>NaN</td>\n",
       "      <td>1111 S Figueroa St, Los Angeles, CA 90015</td>\n",
       "    </tr>\n",
       "    <tr>\n",
       "      <th>6</th>\n",
       "      <td>NaN</td>\n",
       "      <td>(staples center) 1111 S Figueroa St, Los Angeles</td>\n",
       "    </tr>\n",
       "    <tr>\n",
       "      <th>7</th>\n",
       "      <td>NaN</td>\n",
       "      <td>hello</td>\n",
       "    </tr>\n",
       "  </tbody>\n",
       "</table>\n",
       "</div>"
      ],
      "text/plain": [
       "       ruc_clean                                           address\n",
       "0  1792060346001                                     123 Pine Ave.\n",
       "1            NaN                                           main st\n",
       "2            NaN                      1234 west main heights 57033\n",
       "3            NaN                    apt 1 789 s maple rd manhattan\n",
       "4            NaN                robie house, 789 north main street\n",
       "5            NaN         1111 S Figueroa St, Los Angeles, CA 90015\n",
       "6            NaN  (staples center) 1111 S Figueroa St, Los Angeles\n",
       "7            NaN                                             hello"
      ]
     },
     "execution_count": 1,
     "metadata": {},
     "output_type": "execute_result"
    }
   ],
   "source": [
    "clean_ec_ruc(df, column=\"ruc\", inplace=True)"
   ]
  },
  {
   "cell_type": "markdown",
   "id": "lined-green",
   "metadata": {},
   "source": [
    "## 4. `errors` parameter"
   ]
  },
  {
   "cell_type": "markdown",
   "id": "original-converter",
   "metadata": {},
   "source": [
    "### `coerce` (default)"
   ]
  },
  {
   "cell_type": "code",
   "execution_count": 6,
   "id": "italic-ministry",
   "metadata": {
    "execution": {
     "iopub.execute_input": "2021-10-26T23:36:49.832485Z",
     "iopub.status.busy": "2021-10-26T23:36:49.818364Z",
     "iopub.status.idle": "2021-10-26T23:36:49.844189Z",
     "shell.execute_reply": "2021-10-26T23:36:49.843020Z"
    }
   },
   "outputs": [
    {
     "data": {
      "text/html": [
       "<div>\n",
       "<style scoped>\n",
       "    .dataframe tbody tr th:only-of-type {\n",
       "        vertical-align: middle;\n",
       "    }\n",
       "\n",
       "    .dataframe tbody tr th {\n",
       "        vertical-align: top;\n",
       "    }\n",
       "\n",
       "    .dataframe thead th {\n",
       "        text-align: right;\n",
       "    }\n",
       "</style>\n",
       "<table border=\"1\" class=\"dataframe\">\n",
       "  <thead>\n",
       "    <tr style=\"text-align: right;\">\n",
       "      <th></th>\n",
       "      <th>ruc</th>\n",
       "      <th>address</th>\n",
       "      <th>ruc_clean</th>\n",
       "    </tr>\n",
       "  </thead>\n",
       "  <tbody>\n",
       "    <tr>\n",
       "      <th>0</th>\n",
       "      <td>1792060346-001</td>\n",
       "      <td>123 Pine Ave.</td>\n",
       "      <td>1792060346001</td>\n",
       "    </tr>\n",
       "    <tr>\n",
       "      <th>1</th>\n",
       "      <td>1763154690001</td>\n",
       "      <td>main st</td>\n",
       "      <td>NaN</td>\n",
       "    </tr>\n",
       "    <tr>\n",
       "      <th>2</th>\n",
       "      <td>BE 428759497</td>\n",
       "      <td>1234 west main heights 57033</td>\n",
       "      <td>NaN</td>\n",
       "    </tr>\n",
       "    <tr>\n",
       "      <th>3</th>\n",
       "      <td>BE431150351</td>\n",
       "      <td>apt 1 789 s maple rd manhattan</td>\n",
       "      <td>NaN</td>\n",
       "    </tr>\n",
       "    <tr>\n",
       "      <th>4</th>\n",
       "      <td>002 724 334</td>\n",
       "      <td>robie house, 789 north main street</td>\n",
       "      <td>NaN</td>\n",
       "    </tr>\n",
       "    <tr>\n",
       "      <th>5</th>\n",
       "      <td>hello</td>\n",
       "      <td>1111 S Figueroa St, Los Angeles, CA 90015</td>\n",
       "      <td>NaN</td>\n",
       "    </tr>\n",
       "    <tr>\n",
       "      <th>6</th>\n",
       "      <td>NaN</td>\n",
       "      <td>(staples center) 1111 S Figueroa St, Los Angeles</td>\n",
       "      <td>NaN</td>\n",
       "    </tr>\n",
       "    <tr>\n",
       "      <th>7</th>\n",
       "      <td>NULL</td>\n",
       "      <td>hello</td>\n",
       "      <td>NaN</td>\n",
       "    </tr>\n",
       "  </tbody>\n",
       "</table>\n",
       "</div>"
      ],
      "text/plain": [
       "              ruc                                           address  \\\n",
       "0  1792060346-001                                     123 Pine Ave.   \n",
       "1   1763154690001                                           main st   \n",
       "2    BE 428759497                      1234 west main heights 57033   \n",
       "3     BE431150351                    apt 1 789 s maple rd manhattan   \n",
       "4     002 724 334                robie house, 789 north main street   \n",
       "5           hello         1111 S Figueroa St, Los Angeles, CA 90015   \n",
       "6             NaN  (staples center) 1111 S Figueroa St, Los Angeles   \n",
       "7            NULL                                             hello   \n",
       "\n",
       "       ruc_clean  \n",
       "0  1792060346001  \n",
       "1            NaN  \n",
       "2            NaN  \n",
       "3            NaN  \n",
       "4            NaN  \n",
       "5            NaN  \n",
       "6            NaN  \n",
       "7            NaN  "
      ]
     },
     "execution_count": 1,
     "metadata": {},
     "output_type": "execute_result"
    }
   ],
   "source": [
    "clean_ec_ruc(df, \"ruc\", errors=\"coerce\")"
   ]
  },
  {
   "cell_type": "markdown",
   "id": "christian-definition",
   "metadata": {},
   "source": [
    "### `ignore`"
   ]
  },
  {
   "cell_type": "code",
   "execution_count": 7,
   "id": "legal-inspector",
   "metadata": {
    "execution": {
     "iopub.execute_input": "2021-10-26T23:36:49.875087Z",
     "iopub.status.busy": "2021-10-26T23:36:49.872608Z",
     "iopub.status.idle": "2021-10-26T23:36:49.887216Z",
     "shell.execute_reply": "2021-10-26T23:36:49.886232Z"
    }
   },
   "outputs": [
    {
     "data": {
      "text/html": [
       "<div>\n",
       "<style scoped>\n",
       "    .dataframe tbody tr th:only-of-type {\n",
       "        vertical-align: middle;\n",
       "    }\n",
       "\n",
       "    .dataframe tbody tr th {\n",
       "        vertical-align: top;\n",
       "    }\n",
       "\n",
       "    .dataframe thead th {\n",
       "        text-align: right;\n",
       "    }\n",
       "</style>\n",
       "<table border=\"1\" class=\"dataframe\">\n",
       "  <thead>\n",
       "    <tr style=\"text-align: right;\">\n",
       "      <th></th>\n",
       "      <th>ruc</th>\n",
       "      <th>address</th>\n",
       "      <th>ruc_clean</th>\n",
       "    </tr>\n",
       "  </thead>\n",
       "  <tbody>\n",
       "    <tr>\n",
       "      <th>0</th>\n",
       "      <td>1792060346-001</td>\n",
       "      <td>123 Pine Ave.</td>\n",
       "      <td>1792060346001</td>\n",
       "    </tr>\n",
       "    <tr>\n",
       "      <th>1</th>\n",
       "      <td>1763154690001</td>\n",
       "      <td>main st</td>\n",
       "      <td>1763154690001</td>\n",
       "    </tr>\n",
       "    <tr>\n",
       "      <th>2</th>\n",
       "      <td>BE 428759497</td>\n",
       "      <td>1234 west main heights 57033</td>\n",
       "      <td>BE 428759497</td>\n",
       "    </tr>\n",
       "    <tr>\n",
       "      <th>3</th>\n",
       "      <td>BE431150351</td>\n",
       "      <td>apt 1 789 s maple rd manhattan</td>\n",
       "      <td>BE431150351</td>\n",
       "    </tr>\n",
       "    <tr>\n",
       "      <th>4</th>\n",
       "      <td>002 724 334</td>\n",
       "      <td>robie house, 789 north main street</td>\n",
       "      <td>002 724 334</td>\n",
       "    </tr>\n",
       "    <tr>\n",
       "      <th>5</th>\n",
       "      <td>hello</td>\n",
       "      <td>1111 S Figueroa St, Los Angeles, CA 90015</td>\n",
       "      <td>hello</td>\n",
       "    </tr>\n",
       "    <tr>\n",
       "      <th>6</th>\n",
       "      <td>NaN</td>\n",
       "      <td>(staples center) 1111 S Figueroa St, Los Angeles</td>\n",
       "      <td>NaN</td>\n",
       "    </tr>\n",
       "    <tr>\n",
       "      <th>7</th>\n",
       "      <td>NULL</td>\n",
       "      <td>hello</td>\n",
       "      <td>NaN</td>\n",
       "    </tr>\n",
       "  </tbody>\n",
       "</table>\n",
       "</div>"
      ],
      "text/plain": [
       "              ruc                                           address  \\\n",
       "0  1792060346-001                                     123 Pine Ave.   \n",
       "1   1763154690001                                           main st   \n",
       "2    BE 428759497                      1234 west main heights 57033   \n",
       "3     BE431150351                    apt 1 789 s maple rd manhattan   \n",
       "4     002 724 334                robie house, 789 north main street   \n",
       "5           hello         1111 S Figueroa St, Los Angeles, CA 90015   \n",
       "6             NaN  (staples center) 1111 S Figueroa St, Los Angeles   \n",
       "7            NULL                                             hello   \n",
       "\n",
       "       ruc_clean  \n",
       "0  1792060346001  \n",
       "1  1763154690001  \n",
       "2   BE 428759497  \n",
       "3    BE431150351  \n",
       "4    002 724 334  \n",
       "5          hello  \n",
       "6            NaN  \n",
       "7            NaN  "
      ]
     },
     "execution_count": 1,
     "metadata": {},
     "output_type": "execute_result"
    }
   ],
   "source": [
    "clean_ec_ruc(df, \"ruc\", errors=\"ignore\")"
   ]
  },
  {
   "cell_type": "markdown",
   "id": "external-bronze",
   "metadata": {},
   "source": [
    "## 4. `validate_ec_ruc()`"
   ]
  },
  {
   "cell_type": "markdown",
   "id": "spectacular-tampa",
   "metadata": {},
   "source": [
    "`validate_ec_ruc()` returns `True` when the input is a valid RUC. Otherwise it returns `False`.\n",
    "\n",
    "The input of `validate_ec_ruc()` can be a string, a Pandas DataSeries, a Dask DataSeries, a Pandas DataFrame and a dask DataFrame.\n",
    "\n",
    "When the input is a string, a Pandas DataSeries or a Dask DataSeries, user doesn't need to specify a column name to be validated. \n",
    "\n",
    "When the input is a Pandas DataFrame or a dask DataFrame, user can both specify or not specify a column name to be validated. If user specify the column name, `validate_ec_ruc()` only returns the validation result for the specified column. If user doesn't specify the column name, `validate_ec_ruc()` returns the validation result for the whole DataFrame."
   ]
  },
  {
   "cell_type": "code",
   "execution_count": 8,
   "id": "tribal-pioneer",
   "metadata": {
    "execution": {
     "iopub.execute_input": "2021-10-26T23:36:49.893577Z",
     "iopub.status.busy": "2021-10-26T23:36:49.892967Z",
     "iopub.status.idle": "2021-10-26T23:36:49.898382Z",
     "shell.execute_reply": "2021-10-26T23:36:49.897785Z"
    }
   },
   "outputs": [
    {
     "name": "stdout",
     "output_type": "stream",
     "text": [
      "True\n",
      "False\n",
      "False\n",
      "False\n",
      "False\n",
      "False\n",
      "False\n",
      "False\n"
     ]
    }
   ],
   "source": [
    "from dataprep.clean import validate_ec_ruc\n",
    "print(validate_ec_ruc(\"1792060346-001\"))\n",
    "print(validate_ec_ruc(\"1763154690001\"))\n",
    "print(validate_ec_ruc('BE 428759497'))\n",
    "print(validate_ec_ruc('BE431150351'))\n",
    "print(validate_ec_ruc(\"004085616\"))\n",
    "print(validate_ec_ruc(\"hello\"))\n",
    "print(validate_ec_ruc(np.nan))\n",
    "print(validate_ec_ruc(\"NULL\"))"
   ]
  },
  {
   "cell_type": "markdown",
   "id": "alleged-running",
   "metadata": {},
   "source": [
    "### Series"
   ]
  },
  {
   "cell_type": "code",
   "execution_count": 9,
   "id": "responsible-material",
   "metadata": {
    "execution": {
     "iopub.execute_input": "2021-10-26T23:36:49.904479Z",
     "iopub.status.busy": "2021-10-26T23:36:49.903850Z",
     "iopub.status.idle": "2021-10-26T23:36:49.909450Z",
     "shell.execute_reply": "2021-10-26T23:36:49.908922Z"
    }
   },
   "outputs": [
    {
     "data": {
      "text/plain": [
       "0     True\n",
       "1    False\n",
       "2    False\n",
       "3    False\n",
       "4    False\n",
       "5    False\n",
       "6    False\n",
       "7    False\n",
       "Name: ruc, dtype: bool"
      ]
     },
     "execution_count": 1,
     "metadata": {},
     "output_type": "execute_result"
    }
   ],
   "source": [
    "validate_ec_ruc(df[\"ruc\"])"
   ]
  },
  {
   "cell_type": "markdown",
   "id": "broken-survivor",
   "metadata": {},
   "source": [
    "### DataFrame + Specify Column"
   ]
  },
  {
   "cell_type": "code",
   "execution_count": 10,
   "id": "original-dryer",
   "metadata": {
    "execution": {
     "iopub.execute_input": "2021-10-26T23:36:49.916395Z",
     "iopub.status.busy": "2021-10-26T23:36:49.915289Z",
     "iopub.status.idle": "2021-10-26T23:36:49.918184Z",
     "shell.execute_reply": "2021-10-26T23:36:49.918672Z"
    }
   },
   "outputs": [
    {
     "data": {
      "text/plain": [
       "0     True\n",
       "1    False\n",
       "2    False\n",
       "3    False\n",
       "4    False\n",
       "5    False\n",
       "6    False\n",
       "7    False\n",
       "Name: ruc, dtype: bool"
      ]
     },
     "execution_count": 1,
     "metadata": {},
     "output_type": "execute_result"
    }
   ],
   "source": [
    "validate_ec_ruc(df, column=\"ruc\")"
   ]
  },
  {
   "cell_type": "markdown",
   "id": "regular-border",
   "metadata": {},
   "source": [
    "### Only DataFrame"
   ]
  },
  {
   "cell_type": "code",
   "execution_count": 11,
   "id": "needed-referral",
   "metadata": {
    "execution": {
     "iopub.execute_input": "2021-10-26T23:36:49.922809Z",
     "iopub.status.busy": "2021-10-26T23:36:49.922114Z",
     "iopub.status.idle": "2021-10-26T23:36:49.931372Z",
     "shell.execute_reply": "2021-10-26T23:36:49.931873Z"
    },
    "scrolled": true
   },
   "outputs": [
    {
     "data": {
      "text/html": [
       "<div>\n",
       "<style scoped>\n",
       "    .dataframe tbody tr th:only-of-type {\n",
       "        vertical-align: middle;\n",
       "    }\n",
       "\n",
       "    .dataframe tbody tr th {\n",
       "        vertical-align: top;\n",
       "    }\n",
       "\n",
       "    .dataframe thead th {\n",
       "        text-align: right;\n",
       "    }\n",
       "</style>\n",
       "<table border=\"1\" class=\"dataframe\">\n",
       "  <thead>\n",
       "    <tr style=\"text-align: right;\">\n",
       "      <th></th>\n",
       "      <th>ruc</th>\n",
       "      <th>address</th>\n",
       "    </tr>\n",
       "  </thead>\n",
       "  <tbody>\n",
       "    <tr>\n",
       "      <th>0</th>\n",
       "      <td>True</td>\n",
       "      <td>False</td>\n",
       "    </tr>\n",
       "    <tr>\n",
       "      <th>1</th>\n",
       "      <td>False</td>\n",
       "      <td>False</td>\n",
       "    </tr>\n",
       "    <tr>\n",
       "      <th>2</th>\n",
       "      <td>False</td>\n",
       "      <td>False</td>\n",
       "    </tr>\n",
       "    <tr>\n",
       "      <th>3</th>\n",
       "      <td>False</td>\n",
       "      <td>False</td>\n",
       "    </tr>\n",
       "    <tr>\n",
       "      <th>4</th>\n",
       "      <td>False</td>\n",
       "      <td>False</td>\n",
       "    </tr>\n",
       "    <tr>\n",
       "      <th>5</th>\n",
       "      <td>False</td>\n",
       "      <td>False</td>\n",
       "    </tr>\n",
       "    <tr>\n",
       "      <th>6</th>\n",
       "      <td>False</td>\n",
       "      <td>False</td>\n",
       "    </tr>\n",
       "    <tr>\n",
       "      <th>7</th>\n",
       "      <td>False</td>\n",
       "      <td>False</td>\n",
       "    </tr>\n",
       "  </tbody>\n",
       "</table>\n",
       "</div>"
      ],
      "text/plain": [
       "     ruc  address\n",
       "0   True    False\n",
       "1  False    False\n",
       "2  False    False\n",
       "3  False    False\n",
       "4  False    False\n",
       "5  False    False\n",
       "6  False    False\n",
       "7  False    False"
      ]
     },
     "execution_count": 1,
     "metadata": {},
     "output_type": "execute_result"
    }
   ],
   "source": [
    "validate_ec_ruc(df)"
   ]
  },
  {
   "cell_type": "code",
   "execution_count": null,
   "id": "civil-arena",
   "metadata": {},
   "outputs": [],
   "source": []
  }
 ],
 "metadata": {
  "kernelspec": {
   "display_name": "Python 3",
   "language": "python",
   "name": "python3"
  },
  "language_info": {
   "codemirror_mode": {
    "name": "ipython",
    "version": 3
   },
   "file_extension": ".py",
   "mimetype": "text/x-python",
   "name": "python",
   "nbconvert_exporter": "python",
   "pygments_lexer": "ipython3",
   "version": "3.8.10"
  }
 },
 "nbformat": 4,
 "nbformat_minor": 5
}
