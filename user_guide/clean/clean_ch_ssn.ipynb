{
 "cells": [
  {
   "cell_type": "raw",
   "id": "optional-colony",
   "metadata": {},
   "source": [
    ".. _ssn_userguide:\n",
    "\n",
    "SSN Strings\n",
    "============"
   ]
  },
  {
   "cell_type": "raw",
   "id": "divine-strength",
   "metadata": {},
   "source": [
    "Introduction\n",
    "------------\n",
    "\n",
    "The function :func:`clean_ch_ssn() <dataprep.clean.clean_ch_ssn.clean_ch_ssn>` cleans a column containing Swiss social security number (SSN) strings, and standardizes them in a given format. The function :func:`validate_ch_ssn() <dataprep.clean.clean_ch_ssn.validate_ch_ssn>` validates either a single SSN strings, a column of SSN strings or a DataFrame of SSN strings, returning `True` if the value is valid, and `False` otherwise."
   ]
  },
  {
   "cell_type": "markdown",
   "id": "simple-engine",
   "metadata": {},
   "source": [
    "SSN strings can be converted to the following formats via the `output_format` parameter:\n",
    "\n",
    "* `compact`: only number strings without any seperators or whitespace, like \"7569217076985\"\n",
    "* `standard`: SSN strings with proper whitespace in the proper places, like \"756.9217.0769.85\"\n",
    "\n",
    "Invalid parsing is handled with the `errors` parameter:\n",
    "\n",
    "* `coerce` (default): invalid parsing will be set to NaN\n",
    "* `ignore`: invalid parsing will return the input\n",
    "* `raise`: invalid parsing will raise an exception\n",
    "\n",
    "The following sections demonstrate the functionality of `clean_ch_ssn()` and `validate_ch_ssn()`. "
   ]
  },
  {
   "cell_type": "markdown",
   "id": "afraid-coast",
   "metadata": {},
   "source": [
    "### An example dataset containing SSN strings"
   ]
  },
  {
   "cell_type": "code",
   "execution_count": 1,
   "id": "demanding-julian",
   "metadata": {
    "execution": {
     "iopub.execute_input": "2021-10-26T23:34:56.127943Z",
     "iopub.status.busy": "2021-10-26T23:34:56.127195Z",
     "iopub.status.idle": "2021-10-26T23:34:56.430643Z",
     "shell.execute_reply": "2021-10-26T23:34:56.430095Z"
    }
   },
   "outputs": [
    {
     "data": {
      "text/html": [
       "<div>\n",
       "<style scoped>\n",
       "    .dataframe tbody tr th:only-of-type {\n",
       "        vertical-align: middle;\n",
       "    }\n",
       "\n",
       "    .dataframe tbody tr th {\n",
       "        vertical-align: top;\n",
       "    }\n",
       "\n",
       "    .dataframe thead th {\n",
       "        text-align: right;\n",
       "    }\n",
       "</style>\n",
       "<table border=\"1\" class=\"dataframe\">\n",
       "  <thead>\n",
       "    <tr style=\"text-align: right;\">\n",
       "      <th></th>\n",
       "      <th>ssn</th>\n",
       "      <th>address</th>\n",
       "    </tr>\n",
       "  </thead>\n",
       "  <tbody>\n",
       "    <tr>\n",
       "      <th>0</th>\n",
       "      <td>7569217076985</td>\n",
       "      <td>123 Pine Ave.</td>\n",
       "    </tr>\n",
       "    <tr>\n",
       "      <th>1</th>\n",
       "      <td>756.9217.0769.84</td>\n",
       "      <td>main st</td>\n",
       "    </tr>\n",
       "    <tr>\n",
       "      <th>2</th>\n",
       "      <td>51824753556</td>\n",
       "      <td>1234 west main heights 57033</td>\n",
       "    </tr>\n",
       "    <tr>\n",
       "      <th>3</th>\n",
       "      <td>51 824 753 556</td>\n",
       "      <td>apt 1 789 s maple rd manhattan</td>\n",
       "    </tr>\n",
       "    <tr>\n",
       "      <th>4</th>\n",
       "      <td>hello</td>\n",
       "      <td>robie house, 789 north main street</td>\n",
       "    </tr>\n",
       "    <tr>\n",
       "      <th>5</th>\n",
       "      <td>NaN</td>\n",
       "      <td>(staples center) 1111 S Figueroa St, Los Angeles</td>\n",
       "    </tr>\n",
       "    <tr>\n",
       "      <th>6</th>\n",
       "      <td>NULL</td>\n",
       "      <td>hello</td>\n",
       "    </tr>\n",
       "  </tbody>\n",
       "</table>\n",
       "</div>"
      ],
      "text/plain": [
       "                ssn                                           address\n",
       "0     7569217076985                                     123 Pine Ave.\n",
       "1  756.9217.0769.84                                           main st\n",
       "2       51824753556                      1234 west main heights 57033\n",
       "3    51 824 753 556                    apt 1 789 s maple rd manhattan\n",
       "4             hello                robie house, 789 north main street\n",
       "5               NaN  (staples center) 1111 S Figueroa St, Los Angeles\n",
       "6              NULL                                             hello"
      ]
     },
     "execution_count": 1,
     "metadata": {},
     "output_type": "execute_result"
    }
   ],
   "source": [
    "import pandas as pd\n",
    "import numpy as np\n",
    "df = pd.DataFrame(\n",
    "    {\n",
    "        \"ssn\": [\n",
    "            \"7569217076985\",\n",
    "            \"756.9217.0769.84\",\n",
    "            \"51824753556\",\n",
    "            \"51 824 753 556\",\n",
    "            \"hello\",\n",
    "            np.nan,\n",
    "            \"NULL\"\n",
    "        ], \n",
    "        \"address\": [\n",
    "            \"123 Pine Ave.\",\n",
    "            \"main st\",\n",
    "            \"1234 west main heights 57033\",\n",
    "            \"apt 1 789 s maple rd manhattan\",\n",
    "            \"robie house, 789 north main street\",\n",
    "            \"(staples center) 1111 S Figueroa St, Los Angeles\",\n",
    "            \"hello\",\n",
    "        ]\n",
    "    }\n",
    ")\n",
    "df"
   ]
  },
  {
   "cell_type": "markdown",
   "id": "understood-bloom",
   "metadata": {},
   "source": [
    "## 1. Default `clean_ch_ssn`\n",
    "\n",
    "By default, `clean_ch_ssn` will clean ssn strings and output them in the standard format with proper separators."
   ]
  },
  {
   "cell_type": "code",
   "execution_count": 2,
   "id": "equivalent-ottawa",
   "metadata": {
    "execution": {
     "iopub.execute_input": "2021-10-26T23:34:56.435230Z",
     "iopub.status.busy": "2021-10-26T23:34:56.434575Z",
     "iopub.status.idle": "2021-10-26T23:34:57.181655Z",
     "shell.execute_reply": "2021-10-26T23:34:57.182182Z"
    }
   },
   "outputs": [
    {
     "data": {
      "text/html": [
       "<div>\n",
       "<style scoped>\n",
       "    .dataframe tbody tr th:only-of-type {\n",
       "        vertical-align: middle;\n",
       "    }\n",
       "\n",
       "    .dataframe tbody tr th {\n",
       "        vertical-align: top;\n",
       "    }\n",
       "\n",
       "    .dataframe thead th {\n",
       "        text-align: right;\n",
       "    }\n",
       "</style>\n",
       "<table border=\"1\" class=\"dataframe\">\n",
       "  <thead>\n",
       "    <tr style=\"text-align: right;\">\n",
       "      <th></th>\n",
       "      <th>ssn</th>\n",
       "      <th>address</th>\n",
       "      <th>ssn_clean</th>\n",
       "    </tr>\n",
       "  </thead>\n",
       "  <tbody>\n",
       "    <tr>\n",
       "      <th>0</th>\n",
       "      <td>7569217076985</td>\n",
       "      <td>123 Pine Ave.</td>\n",
       "      <td>756.9217.0769.85</td>\n",
       "    </tr>\n",
       "    <tr>\n",
       "      <th>1</th>\n",
       "      <td>756.9217.0769.84</td>\n",
       "      <td>main st</td>\n",
       "      <td>NaN</td>\n",
       "    </tr>\n",
       "    <tr>\n",
       "      <th>2</th>\n",
       "      <td>51824753556</td>\n",
       "      <td>1234 west main heights 57033</td>\n",
       "      <td>NaN</td>\n",
       "    </tr>\n",
       "    <tr>\n",
       "      <th>3</th>\n",
       "      <td>51 824 753 556</td>\n",
       "      <td>apt 1 789 s maple rd manhattan</td>\n",
       "      <td>NaN</td>\n",
       "    </tr>\n",
       "    <tr>\n",
       "      <th>4</th>\n",
       "      <td>hello</td>\n",
       "      <td>robie house, 789 north main street</td>\n",
       "      <td>NaN</td>\n",
       "    </tr>\n",
       "    <tr>\n",
       "      <th>5</th>\n",
       "      <td>NaN</td>\n",
       "      <td>(staples center) 1111 S Figueroa St, Los Angeles</td>\n",
       "      <td>NaN</td>\n",
       "    </tr>\n",
       "    <tr>\n",
       "      <th>6</th>\n",
       "      <td>NULL</td>\n",
       "      <td>hello</td>\n",
       "      <td>NaN</td>\n",
       "    </tr>\n",
       "  </tbody>\n",
       "</table>\n",
       "</div>"
      ],
      "text/plain": [
       "                ssn                                           address  \\\n",
       "0     7569217076985                                     123 Pine Ave.   \n",
       "1  756.9217.0769.84                                           main st   \n",
       "2       51824753556                      1234 west main heights 57033   \n",
       "3    51 824 753 556                    apt 1 789 s maple rd manhattan   \n",
       "4             hello                robie house, 789 north main street   \n",
       "5               NaN  (staples center) 1111 S Figueroa St, Los Angeles   \n",
       "6              NULL                                             hello   \n",
       "\n",
       "          ssn_clean  \n",
       "0  756.9217.0769.85  \n",
       "1               NaN  \n",
       "2               NaN  \n",
       "3               NaN  \n",
       "4               NaN  \n",
       "5               NaN  \n",
       "6               NaN  "
      ]
     },
     "execution_count": 1,
     "metadata": {},
     "output_type": "execute_result"
    }
   ],
   "source": [
    "from dataprep.clean import clean_ch_ssn\n",
    "clean_ch_ssn(df, column = \"ssn\")"
   ]
  },
  {
   "cell_type": "markdown",
   "id": "useful-anger",
   "metadata": {},
   "source": [
    "## 2. Output formats"
   ]
  },
  {
   "cell_type": "markdown",
   "id": "theoretical-hayes",
   "metadata": {},
   "source": [
    "This section demonstrates the output parameter."
   ]
  },
  {
   "cell_type": "markdown",
   "id": "funded-anniversary",
   "metadata": {},
   "source": [
    "### `standard` (default)"
   ]
  },
  {
   "cell_type": "code",
   "execution_count": 3,
   "id": "indonesian-mechanics",
   "metadata": {
    "execution": {
     "iopub.execute_input": "2021-10-26T23:34:57.211081Z",
     "iopub.status.busy": "2021-10-26T23:34:57.205618Z",
     "iopub.status.idle": "2021-10-26T23:34:57.222510Z",
     "shell.execute_reply": "2021-10-26T23:34:57.221974Z"
    }
   },
   "outputs": [
    {
     "data": {
      "text/html": [
       "<div>\n",
       "<style scoped>\n",
       "    .dataframe tbody tr th:only-of-type {\n",
       "        vertical-align: middle;\n",
       "    }\n",
       "\n",
       "    .dataframe tbody tr th {\n",
       "        vertical-align: top;\n",
       "    }\n",
       "\n",
       "    .dataframe thead th {\n",
       "        text-align: right;\n",
       "    }\n",
       "</style>\n",
       "<table border=\"1\" class=\"dataframe\">\n",
       "  <thead>\n",
       "    <tr style=\"text-align: right;\">\n",
       "      <th></th>\n",
       "      <th>ssn</th>\n",
       "      <th>address</th>\n",
       "      <th>ssn_clean</th>\n",
       "    </tr>\n",
       "  </thead>\n",
       "  <tbody>\n",
       "    <tr>\n",
       "      <th>0</th>\n",
       "      <td>7569217076985</td>\n",
       "      <td>123 Pine Ave.</td>\n",
       "      <td>756.9217.0769.85</td>\n",
       "    </tr>\n",
       "    <tr>\n",
       "      <th>1</th>\n",
       "      <td>756.9217.0769.84</td>\n",
       "      <td>main st</td>\n",
       "      <td>NaN</td>\n",
       "    </tr>\n",
       "    <tr>\n",
       "      <th>2</th>\n",
       "      <td>51824753556</td>\n",
       "      <td>1234 west main heights 57033</td>\n",
       "      <td>NaN</td>\n",
       "    </tr>\n",
       "    <tr>\n",
       "      <th>3</th>\n",
       "      <td>51 824 753 556</td>\n",
       "      <td>apt 1 789 s maple rd manhattan</td>\n",
       "      <td>NaN</td>\n",
       "    </tr>\n",
       "    <tr>\n",
       "      <th>4</th>\n",
       "      <td>hello</td>\n",
       "      <td>robie house, 789 north main street</td>\n",
       "      <td>NaN</td>\n",
       "    </tr>\n",
       "    <tr>\n",
       "      <th>5</th>\n",
       "      <td>NaN</td>\n",
       "      <td>(staples center) 1111 S Figueroa St, Los Angeles</td>\n",
       "      <td>NaN</td>\n",
       "    </tr>\n",
       "    <tr>\n",
       "      <th>6</th>\n",
       "      <td>NULL</td>\n",
       "      <td>hello</td>\n",
       "      <td>NaN</td>\n",
       "    </tr>\n",
       "  </tbody>\n",
       "</table>\n",
       "</div>"
      ],
      "text/plain": [
       "                ssn                                           address  \\\n",
       "0     7569217076985                                     123 Pine Ave.   \n",
       "1  756.9217.0769.84                                           main st   \n",
       "2       51824753556                      1234 west main heights 57033   \n",
       "3    51 824 753 556                    apt 1 789 s maple rd manhattan   \n",
       "4             hello                robie house, 789 north main street   \n",
       "5               NaN  (staples center) 1111 S Figueroa St, Los Angeles   \n",
       "6              NULL                                             hello   \n",
       "\n",
       "          ssn_clean  \n",
       "0  756.9217.0769.85  \n",
       "1               NaN  \n",
       "2               NaN  \n",
       "3               NaN  \n",
       "4               NaN  \n",
       "5               NaN  \n",
       "6               NaN  "
      ]
     },
     "execution_count": 1,
     "metadata": {},
     "output_type": "execute_result"
    }
   ],
   "source": [
    "clean_ch_ssn(df, column = \"ssn\", output_format=\"standard\")"
   ]
  },
  {
   "cell_type": "markdown",
   "id": "commercial-volleyball",
   "metadata": {},
   "source": [
    "### `compact`"
   ]
  },
  {
   "cell_type": "code",
   "execution_count": 4,
   "id": "joint-tyler",
   "metadata": {
    "execution": {
     "iopub.execute_input": "2021-10-26T23:34:57.250088Z",
     "iopub.status.busy": "2021-10-26T23:34:57.244457Z",
     "iopub.status.idle": "2021-10-26T23:34:57.260638Z",
     "shell.execute_reply": "2021-10-26T23:34:57.261186Z"
    }
   },
   "outputs": [
    {
     "data": {
      "text/html": [
       "<div>\n",
       "<style scoped>\n",
       "    .dataframe tbody tr th:only-of-type {\n",
       "        vertical-align: middle;\n",
       "    }\n",
       "\n",
       "    .dataframe tbody tr th {\n",
       "        vertical-align: top;\n",
       "    }\n",
       "\n",
       "    .dataframe thead th {\n",
       "        text-align: right;\n",
       "    }\n",
       "</style>\n",
       "<table border=\"1\" class=\"dataframe\">\n",
       "  <thead>\n",
       "    <tr style=\"text-align: right;\">\n",
       "      <th></th>\n",
       "      <th>ssn</th>\n",
       "      <th>address</th>\n",
       "      <th>ssn_clean</th>\n",
       "    </tr>\n",
       "  </thead>\n",
       "  <tbody>\n",
       "    <tr>\n",
       "      <th>0</th>\n",
       "      <td>7569217076985</td>\n",
       "      <td>123 Pine Ave.</td>\n",
       "      <td>7569217076985</td>\n",
       "    </tr>\n",
       "    <tr>\n",
       "      <th>1</th>\n",
       "      <td>756.9217.0769.84</td>\n",
       "      <td>main st</td>\n",
       "      <td>NaN</td>\n",
       "    </tr>\n",
       "    <tr>\n",
       "      <th>2</th>\n",
       "      <td>51824753556</td>\n",
       "      <td>1234 west main heights 57033</td>\n",
       "      <td>NaN</td>\n",
       "    </tr>\n",
       "    <tr>\n",
       "      <th>3</th>\n",
       "      <td>51 824 753 556</td>\n",
       "      <td>apt 1 789 s maple rd manhattan</td>\n",
       "      <td>NaN</td>\n",
       "    </tr>\n",
       "    <tr>\n",
       "      <th>4</th>\n",
       "      <td>hello</td>\n",
       "      <td>robie house, 789 north main street</td>\n",
       "      <td>NaN</td>\n",
       "    </tr>\n",
       "    <tr>\n",
       "      <th>5</th>\n",
       "      <td>NaN</td>\n",
       "      <td>(staples center) 1111 S Figueroa St, Los Angeles</td>\n",
       "      <td>NaN</td>\n",
       "    </tr>\n",
       "    <tr>\n",
       "      <th>6</th>\n",
       "      <td>NULL</td>\n",
       "      <td>hello</td>\n",
       "      <td>NaN</td>\n",
       "    </tr>\n",
       "  </tbody>\n",
       "</table>\n",
       "</div>"
      ],
      "text/plain": [
       "                ssn                                           address  \\\n",
       "0     7569217076985                                     123 Pine Ave.   \n",
       "1  756.9217.0769.84                                           main st   \n",
       "2       51824753556                      1234 west main heights 57033   \n",
       "3    51 824 753 556                    apt 1 789 s maple rd manhattan   \n",
       "4             hello                robie house, 789 north main street   \n",
       "5               NaN  (staples center) 1111 S Figueroa St, Los Angeles   \n",
       "6              NULL                                             hello   \n",
       "\n",
       "       ssn_clean  \n",
       "0  7569217076985  \n",
       "1            NaN  \n",
       "2            NaN  \n",
       "3            NaN  \n",
       "4            NaN  \n",
       "5            NaN  \n",
       "6            NaN  "
      ]
     },
     "execution_count": 1,
     "metadata": {},
     "output_type": "execute_result"
    }
   ],
   "source": [
    "clean_ch_ssn(df, column = \"ssn\", output_format=\"compact\")"
   ]
  },
  {
   "cell_type": "markdown",
   "id": "living-consortium",
   "metadata": {},
   "source": [
    "## 3. `inplace` parameter\n",
    "\n",
    "This deletes the given column from the returned DataFrame. \n",
    "A new column containing cleaned SSN strings is added with a title in the format `\"{original title}_clean\"`."
   ]
  },
  {
   "cell_type": "code",
   "execution_count": 5,
   "id": "intellectual-instruction",
   "metadata": {
    "execution": {
     "iopub.execute_input": "2021-10-26T23:34:57.302480Z",
     "iopub.status.busy": "2021-10-26T23:34:57.301750Z",
     "iopub.status.idle": "2021-10-26T23:34:57.310854Z",
     "shell.execute_reply": "2021-10-26T23:34:57.310225Z"
    }
   },
   "outputs": [
    {
     "data": {
      "text/html": [
       "<div>\n",
       "<style scoped>\n",
       "    .dataframe tbody tr th:only-of-type {\n",
       "        vertical-align: middle;\n",
       "    }\n",
       "\n",
       "    .dataframe tbody tr th {\n",
       "        vertical-align: top;\n",
       "    }\n",
       "\n",
       "    .dataframe thead th {\n",
       "        text-align: right;\n",
       "    }\n",
       "</style>\n",
       "<table border=\"1\" class=\"dataframe\">\n",
       "  <thead>\n",
       "    <tr style=\"text-align: right;\">\n",
       "      <th></th>\n",
       "      <th>ssn_clean</th>\n",
       "      <th>address</th>\n",
       "    </tr>\n",
       "  </thead>\n",
       "  <tbody>\n",
       "    <tr>\n",
       "      <th>0</th>\n",
       "      <td>756.9217.0769.85</td>\n",
       "      <td>123 Pine Ave.</td>\n",
       "    </tr>\n",
       "    <tr>\n",
       "      <th>1</th>\n",
       "      <td>NaN</td>\n",
       "      <td>main st</td>\n",
       "    </tr>\n",
       "    <tr>\n",
       "      <th>2</th>\n",
       "      <td>NaN</td>\n",
       "      <td>1234 west main heights 57033</td>\n",
       "    </tr>\n",
       "    <tr>\n",
       "      <th>3</th>\n",
       "      <td>NaN</td>\n",
       "      <td>apt 1 789 s maple rd manhattan</td>\n",
       "    </tr>\n",
       "    <tr>\n",
       "      <th>4</th>\n",
       "      <td>NaN</td>\n",
       "      <td>robie house, 789 north main street</td>\n",
       "    </tr>\n",
       "    <tr>\n",
       "      <th>5</th>\n",
       "      <td>NaN</td>\n",
       "      <td>(staples center) 1111 S Figueroa St, Los Angeles</td>\n",
       "    </tr>\n",
       "    <tr>\n",
       "      <th>6</th>\n",
       "      <td>NaN</td>\n",
       "      <td>hello</td>\n",
       "    </tr>\n",
       "  </tbody>\n",
       "</table>\n",
       "</div>"
      ],
      "text/plain": [
       "          ssn_clean                                           address\n",
       "0  756.9217.0769.85                                     123 Pine Ave.\n",
       "1               NaN                                           main st\n",
       "2               NaN                      1234 west main heights 57033\n",
       "3               NaN                    apt 1 789 s maple rd manhattan\n",
       "4               NaN                robie house, 789 north main street\n",
       "5               NaN  (staples center) 1111 S Figueroa St, Los Angeles\n",
       "6               NaN                                             hello"
      ]
     },
     "execution_count": 1,
     "metadata": {},
     "output_type": "execute_result"
    }
   ],
   "source": [
    "clean_ch_ssn(df, column=\"ssn\", inplace=True)"
   ]
  },
  {
   "cell_type": "markdown",
   "id": "quantitative-battery",
   "metadata": {},
   "source": [
    "## 4. `errors` parameter"
   ]
  },
  {
   "cell_type": "markdown",
   "id": "funky-jungle",
   "metadata": {},
   "source": [
    "### `coerce` (default)"
   ]
  },
  {
   "cell_type": "code",
   "execution_count": 6,
   "id": "legislative-despite",
   "metadata": {
    "execution": {
     "iopub.execute_input": "2021-10-26T23:34:57.341971Z",
     "iopub.status.busy": "2021-10-26T23:34:57.340916Z",
     "iopub.status.idle": "2021-10-26T23:34:57.351007Z",
     "shell.execute_reply": "2021-10-26T23:34:57.350081Z"
    }
   },
   "outputs": [
    {
     "data": {
      "text/html": [
       "<div>\n",
       "<style scoped>\n",
       "    .dataframe tbody tr th:only-of-type {\n",
       "        vertical-align: middle;\n",
       "    }\n",
       "\n",
       "    .dataframe tbody tr th {\n",
       "        vertical-align: top;\n",
       "    }\n",
       "\n",
       "    .dataframe thead th {\n",
       "        text-align: right;\n",
       "    }\n",
       "</style>\n",
       "<table border=\"1\" class=\"dataframe\">\n",
       "  <thead>\n",
       "    <tr style=\"text-align: right;\">\n",
       "      <th></th>\n",
       "      <th>ssn</th>\n",
       "      <th>address</th>\n",
       "      <th>ssn_clean</th>\n",
       "    </tr>\n",
       "  </thead>\n",
       "  <tbody>\n",
       "    <tr>\n",
       "      <th>0</th>\n",
       "      <td>7569217076985</td>\n",
       "      <td>123 Pine Ave.</td>\n",
       "      <td>756.9217.0769.85</td>\n",
       "    </tr>\n",
       "    <tr>\n",
       "      <th>1</th>\n",
       "      <td>756.9217.0769.84</td>\n",
       "      <td>main st</td>\n",
       "      <td>NaN</td>\n",
       "    </tr>\n",
       "    <tr>\n",
       "      <th>2</th>\n",
       "      <td>51824753556</td>\n",
       "      <td>1234 west main heights 57033</td>\n",
       "      <td>NaN</td>\n",
       "    </tr>\n",
       "    <tr>\n",
       "      <th>3</th>\n",
       "      <td>51 824 753 556</td>\n",
       "      <td>apt 1 789 s maple rd manhattan</td>\n",
       "      <td>NaN</td>\n",
       "    </tr>\n",
       "    <tr>\n",
       "      <th>4</th>\n",
       "      <td>hello</td>\n",
       "      <td>robie house, 789 north main street</td>\n",
       "      <td>NaN</td>\n",
       "    </tr>\n",
       "    <tr>\n",
       "      <th>5</th>\n",
       "      <td>NaN</td>\n",
       "      <td>(staples center) 1111 S Figueroa St, Los Angeles</td>\n",
       "      <td>NaN</td>\n",
       "    </tr>\n",
       "    <tr>\n",
       "      <th>6</th>\n",
       "      <td>NULL</td>\n",
       "      <td>hello</td>\n",
       "      <td>NaN</td>\n",
       "    </tr>\n",
       "  </tbody>\n",
       "</table>\n",
       "</div>"
      ],
      "text/plain": [
       "                ssn                                           address  \\\n",
       "0     7569217076985                                     123 Pine Ave.   \n",
       "1  756.9217.0769.84                                           main st   \n",
       "2       51824753556                      1234 west main heights 57033   \n",
       "3    51 824 753 556                    apt 1 789 s maple rd manhattan   \n",
       "4             hello                robie house, 789 north main street   \n",
       "5               NaN  (staples center) 1111 S Figueroa St, Los Angeles   \n",
       "6              NULL                                             hello   \n",
       "\n",
       "          ssn_clean  \n",
       "0  756.9217.0769.85  \n",
       "1               NaN  \n",
       "2               NaN  \n",
       "3               NaN  \n",
       "4               NaN  \n",
       "5               NaN  \n",
       "6               NaN  "
      ]
     },
     "execution_count": 1,
     "metadata": {},
     "output_type": "execute_result"
    }
   ],
   "source": [
    "clean_ch_ssn(df, \"ssn\", errors=\"coerce\")"
   ]
  },
  {
   "cell_type": "markdown",
   "id": "atlantic-final",
   "metadata": {},
   "source": [
    "### `ignore`"
   ]
  },
  {
   "cell_type": "code",
   "execution_count": 7,
   "id": "necessary-python",
   "metadata": {
    "execution": {
     "iopub.execute_input": "2021-10-26T23:34:57.399131Z",
     "iopub.status.busy": "2021-10-26T23:34:57.386432Z",
     "iopub.status.idle": "2021-10-26T23:34:57.404637Z",
     "shell.execute_reply": "2021-10-26T23:34:57.404057Z"
    }
   },
   "outputs": [
    {
     "data": {
      "text/html": [
       "<div>\n",
       "<style scoped>\n",
       "    .dataframe tbody tr th:only-of-type {\n",
       "        vertical-align: middle;\n",
       "    }\n",
       "\n",
       "    .dataframe tbody tr th {\n",
       "        vertical-align: top;\n",
       "    }\n",
       "\n",
       "    .dataframe thead th {\n",
       "        text-align: right;\n",
       "    }\n",
       "</style>\n",
       "<table border=\"1\" class=\"dataframe\">\n",
       "  <thead>\n",
       "    <tr style=\"text-align: right;\">\n",
       "      <th></th>\n",
       "      <th>ssn</th>\n",
       "      <th>address</th>\n",
       "      <th>ssn_clean</th>\n",
       "    </tr>\n",
       "  </thead>\n",
       "  <tbody>\n",
       "    <tr>\n",
       "      <th>0</th>\n",
       "      <td>7569217076985</td>\n",
       "      <td>123 Pine Ave.</td>\n",
       "      <td>756.9217.0769.85</td>\n",
       "    </tr>\n",
       "    <tr>\n",
       "      <th>1</th>\n",
       "      <td>756.9217.0769.84</td>\n",
       "      <td>main st</td>\n",
       "      <td>756.9217.0769.84</td>\n",
       "    </tr>\n",
       "    <tr>\n",
       "      <th>2</th>\n",
       "      <td>51824753556</td>\n",
       "      <td>1234 west main heights 57033</td>\n",
       "      <td>51824753556</td>\n",
       "    </tr>\n",
       "    <tr>\n",
       "      <th>3</th>\n",
       "      <td>51 824 753 556</td>\n",
       "      <td>apt 1 789 s maple rd manhattan</td>\n",
       "      <td>51 824 753 556</td>\n",
       "    </tr>\n",
       "    <tr>\n",
       "      <th>4</th>\n",
       "      <td>hello</td>\n",
       "      <td>robie house, 789 north main street</td>\n",
       "      <td>hello</td>\n",
       "    </tr>\n",
       "    <tr>\n",
       "      <th>5</th>\n",
       "      <td>NaN</td>\n",
       "      <td>(staples center) 1111 S Figueroa St, Los Angeles</td>\n",
       "      <td>NaN</td>\n",
       "    </tr>\n",
       "    <tr>\n",
       "      <th>6</th>\n",
       "      <td>NULL</td>\n",
       "      <td>hello</td>\n",
       "      <td>NaN</td>\n",
       "    </tr>\n",
       "  </tbody>\n",
       "</table>\n",
       "</div>"
      ],
      "text/plain": [
       "                ssn                                           address  \\\n",
       "0     7569217076985                                     123 Pine Ave.   \n",
       "1  756.9217.0769.84                                           main st   \n",
       "2       51824753556                      1234 west main heights 57033   \n",
       "3    51 824 753 556                    apt 1 789 s maple rd manhattan   \n",
       "4             hello                robie house, 789 north main street   \n",
       "5               NaN  (staples center) 1111 S Figueroa St, Los Angeles   \n",
       "6              NULL                                             hello   \n",
       "\n",
       "          ssn_clean  \n",
       "0  756.9217.0769.85  \n",
       "1  756.9217.0769.84  \n",
       "2       51824753556  \n",
       "3    51 824 753 556  \n",
       "4             hello  \n",
       "5               NaN  \n",
       "6               NaN  "
      ]
     },
     "execution_count": 1,
     "metadata": {},
     "output_type": "execute_result"
    }
   ],
   "source": [
    "clean_ch_ssn(df, \"ssn\", errors=\"ignore\")"
   ]
  },
  {
   "cell_type": "markdown",
   "id": "fossil-demonstration",
   "metadata": {},
   "source": [
    "## 4. `validate_ch_ssn()`"
   ]
  },
  {
   "cell_type": "markdown",
   "id": "honest-building",
   "metadata": {},
   "source": [
    "`validate_ch_ssn()` returns `True` when the input is a valid SSN. Otherwise it returns `False`.\n",
    "\n",
    "The input of `validate_ch_ssn()` can be a string, a Pandas DataSeries, a Dask DataSeries, a Pandas DataFrame and a dask DataFrame.\n",
    "\n",
    "When the input is a string, a Pandas DataSeries or a Dask DataSeries, user doesn't need to specify a column name to be validated. \n",
    "\n",
    "When the input is a Pandas DataFrame or a dask DataFrame, user can both specify or not specify a column name to be validated. If user specify the column name, `validate_ch_ssn()` only returns the validation result for the specified column. If user doesn't specify the column name, `validate_ch_ssn()` returns the validation result for the whole DataFrame."
   ]
  },
  {
   "cell_type": "code",
   "execution_count": 8,
   "id": "expressed-services",
   "metadata": {
    "execution": {
     "iopub.execute_input": "2021-10-26T23:34:57.411189Z",
     "iopub.status.busy": "2021-10-26T23:34:57.410574Z",
     "iopub.status.idle": "2021-10-26T23:34:57.418705Z",
     "shell.execute_reply": "2021-10-26T23:34:57.419467Z"
    }
   },
   "outputs": [
    {
     "name": "stdout",
     "output_type": "stream",
     "text": [
      "True\n",
      "False\n",
      "False\n",
      "False\n",
      "False\n",
      "False\n",
      "False\n"
     ]
    }
   ],
   "source": [
    "from dataprep.clean import validate_ch_ssn\n",
    "print(validate_ch_ssn(\"7569217076985\"))\n",
    "print(validate_ch_ssn(\"756.9217.0769.84\"))\n",
    "print(validate_ch_ssn(\"51824753556\"))\n",
    "print(validate_ch_ssn(\"51 824 753 556\"))\n",
    "print(validate_ch_ssn(\"hello\"))\n",
    "print(validate_ch_ssn(np.nan))\n",
    "print(validate_ch_ssn(\"NULL\"))"
   ]
  },
  {
   "cell_type": "markdown",
   "id": "designed-condition",
   "metadata": {},
   "source": [
    "### Series"
   ]
  },
  {
   "cell_type": "code",
   "execution_count": 9,
   "id": "vulnerable-honolulu",
   "metadata": {
    "execution": {
     "iopub.execute_input": "2021-10-26T23:34:57.425851Z",
     "iopub.status.busy": "2021-10-26T23:34:57.425224Z",
     "iopub.status.idle": "2021-10-26T23:34:57.431062Z",
     "shell.execute_reply": "2021-10-26T23:34:57.431605Z"
    }
   },
   "outputs": [
    {
     "data": {
      "text/plain": [
       "0     True\n",
       "1    False\n",
       "2    False\n",
       "3    False\n",
       "4    False\n",
       "5    False\n",
       "6    False\n",
       "Name: ssn, dtype: bool"
      ]
     },
     "execution_count": 1,
     "metadata": {},
     "output_type": "execute_result"
    }
   ],
   "source": [
    "validate_ch_ssn(df[\"ssn\"])"
   ]
  },
  {
   "cell_type": "markdown",
   "id": "superb-level",
   "metadata": {},
   "source": [
    "### DataFrame + Specify Column"
   ]
  },
  {
   "cell_type": "code",
   "execution_count": 10,
   "id": "joined-vessel",
   "metadata": {
    "execution": {
     "iopub.execute_input": "2021-10-26T23:34:57.437684Z",
     "iopub.status.busy": "2021-10-26T23:34:57.437093Z",
     "iopub.status.idle": "2021-10-26T23:34:57.442990Z",
     "shell.execute_reply": "2021-10-26T23:34:57.442348Z"
    }
   },
   "outputs": [
    {
     "data": {
      "text/plain": [
       "0     True\n",
       "1    False\n",
       "2    False\n",
       "3    False\n",
       "4    False\n",
       "5    False\n",
       "6    False\n",
       "Name: ssn, dtype: bool"
      ]
     },
     "execution_count": 1,
     "metadata": {},
     "output_type": "execute_result"
    }
   ],
   "source": [
    "validate_ch_ssn(df, column=\"ssn\")"
   ]
  },
  {
   "cell_type": "markdown",
   "id": "genetic-december",
   "metadata": {},
   "source": [
    "### Only DataFrame"
   ]
  },
  {
   "cell_type": "code",
   "execution_count": 11,
   "id": "elegant-kansas",
   "metadata": {
    "execution": {
     "iopub.execute_input": "2021-10-26T23:34:57.447433Z",
     "iopub.status.busy": "2021-10-26T23:34:57.446644Z",
     "iopub.status.idle": "2021-10-26T23:34:57.457685Z",
     "shell.execute_reply": "2021-10-26T23:34:57.456939Z"
    }
   },
   "outputs": [
    {
     "data": {
      "text/html": [
       "<div>\n",
       "<style scoped>\n",
       "    .dataframe tbody tr th:only-of-type {\n",
       "        vertical-align: middle;\n",
       "    }\n",
       "\n",
       "    .dataframe tbody tr th {\n",
       "        vertical-align: top;\n",
       "    }\n",
       "\n",
       "    .dataframe thead th {\n",
       "        text-align: right;\n",
       "    }\n",
       "</style>\n",
       "<table border=\"1\" class=\"dataframe\">\n",
       "  <thead>\n",
       "    <tr style=\"text-align: right;\">\n",
       "      <th></th>\n",
       "      <th>ssn</th>\n",
       "      <th>address</th>\n",
       "    </tr>\n",
       "  </thead>\n",
       "  <tbody>\n",
       "    <tr>\n",
       "      <th>0</th>\n",
       "      <td>True</td>\n",
       "      <td>False</td>\n",
       "    </tr>\n",
       "    <tr>\n",
       "      <th>1</th>\n",
       "      <td>False</td>\n",
       "      <td>False</td>\n",
       "    </tr>\n",
       "    <tr>\n",
       "      <th>2</th>\n",
       "      <td>False</td>\n",
       "      <td>False</td>\n",
       "    </tr>\n",
       "    <tr>\n",
       "      <th>3</th>\n",
       "      <td>False</td>\n",
       "      <td>False</td>\n",
       "    </tr>\n",
       "    <tr>\n",
       "      <th>4</th>\n",
       "      <td>False</td>\n",
       "      <td>False</td>\n",
       "    </tr>\n",
       "    <tr>\n",
       "      <th>5</th>\n",
       "      <td>False</td>\n",
       "      <td>False</td>\n",
       "    </tr>\n",
       "    <tr>\n",
       "      <th>6</th>\n",
       "      <td>False</td>\n",
       "      <td>False</td>\n",
       "    </tr>\n",
       "  </tbody>\n",
       "</table>\n",
       "</div>"
      ],
      "text/plain": [
       "     ssn  address\n",
       "0   True    False\n",
       "1  False    False\n",
       "2  False    False\n",
       "3  False    False\n",
       "4  False    False\n",
       "5  False    False\n",
       "6  False    False"
      ]
     },
     "execution_count": 1,
     "metadata": {},
     "output_type": "execute_result"
    }
   ],
   "source": [
    "validate_ch_ssn(df)"
   ]
  },
  {
   "cell_type": "code",
   "execution_count": null,
   "id": "soviet-wednesday",
   "metadata": {},
   "outputs": [],
   "source": []
  }
 ],
 "metadata": {
  "kernelspec": {
   "display_name": "Python 3",
   "language": "python",
   "name": "python3"
  },
  "language_info": {
   "codemirror_mode": {
    "name": "ipython",
    "version": 3
   },
   "file_extension": ".py",
   "mimetype": "text/x-python",
   "name": "python",
   "nbconvert_exporter": "python",
   "pygments_lexer": "ipython3",
   "version": "3.8.10"
  }
 },
 "nbformat": 4,
 "nbformat_minor": 5
}
