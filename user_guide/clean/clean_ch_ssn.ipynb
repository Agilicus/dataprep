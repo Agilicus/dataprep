{
 "cells": [
  {
   "cell_type": "raw",
   "id": "chicken-confirmation",
   "metadata": {},
   "source": [
    ".. _ssn_userguide:\n",
    "\n",
    "SSN Strings\n",
    "============"
   ]
  },
  {
   "cell_type": "raw",
   "id": "incident-slovak",
   "metadata": {},
   "source": [
    "Introduction\n",
    "------------\n",
    "\n",
    "The function :func:`clean_ch_ssn() <dataprep.clean.clean_ch_ssn.clean_ch_ssn>` cleans a column containing Swiss social security number (SSN) strings, and standardizes them in a given format. The function :func:`validate_ch_ssn() <dataprep.clean.clean_ch_ssn.validate_ch_ssn>` validates either a single SSN strings, a column of SSN strings or a DataFrame of SSN strings, returning `True` if the value is valid, and `False` otherwise."
   ]
  },
  {
   "cell_type": "markdown",
   "id": "dress-procedure",
   "metadata": {},
   "source": [
    "SSN strings can be converted to the following formats via the `output_format` parameter:\n",
    "\n",
    "* `compact`: only number strings without any seperators or whitespace, like \"7569217076985\"\n",
    "* `standard`: SSN strings with proper whitespace in the proper places, like \"756.9217.0769.85\"\n",
    "\n",
    "Invalid parsing is handled with the `errors` parameter:\n",
    "\n",
    "* `coerce` (default): invalid parsing will be set to NaN\n",
    "* `ignore`: invalid parsing will return the input\n",
    "* `raise`: invalid parsing will raise an exception\n",
    "\n",
    "The following sections demonstrate the functionality of `clean_ch_ssn()` and `validate_ch_ssn()`. "
   ]
  },
  {
   "cell_type": "markdown",
   "id": "moral-english",
   "metadata": {},
   "source": [
    "### An example dataset containing SSN strings"
   ]
  },
  {
   "cell_type": "code",
   "execution_count": 1,
   "id": "embedded-ceremony",
   "metadata": {
    "execution": {
     "iopub.execute_input": "2021-10-26T22:58:04.888224Z",
     "iopub.status.busy": "2021-10-26T22:58:04.887713Z",
     "iopub.status.idle": "2021-10-26T22:58:05.105887Z",
     "shell.execute_reply": "2021-10-26T22:58:05.105438Z"
    }
   },
   "outputs": [
    {
     "data": {
      "text/html": [
       "<div>\n",
       "<style scoped>\n",
       "    .dataframe tbody tr th:only-of-type {\n",
       "        vertical-align: middle;\n",
       "    }\n",
       "\n",
       "    .dataframe tbody tr th {\n",
       "        vertical-align: top;\n",
       "    }\n",
       "\n",
       "    .dataframe thead th {\n",
       "        text-align: right;\n",
       "    }\n",
       "</style>\n",
       "<table border=\"1\" class=\"dataframe\">\n",
       "  <thead>\n",
       "    <tr style=\"text-align: right;\">\n",
       "      <th></th>\n",
       "      <th>ssn</th>\n",
       "      <th>address</th>\n",
       "    </tr>\n",
       "  </thead>\n",
       "  <tbody>\n",
       "    <tr>\n",
       "      <th>0</th>\n",
       "      <td>7569217076985</td>\n",
       "      <td>123 Pine Ave.</td>\n",
       "    </tr>\n",
       "    <tr>\n",
       "      <th>1</th>\n",
       "      <td>756.9217.0769.84</td>\n",
       "      <td>main st</td>\n",
       "    </tr>\n",
       "    <tr>\n",
       "      <th>2</th>\n",
       "      <td>51824753556</td>\n",
       "      <td>1234 west main heights 57033</td>\n",
       "    </tr>\n",
       "    <tr>\n",
       "      <th>3</th>\n",
       "      <td>51 824 753 556</td>\n",
       "      <td>apt 1 789 s maple rd manhattan</td>\n",
       "    </tr>\n",
       "    <tr>\n",
       "      <th>4</th>\n",
       "      <td>hello</td>\n",
       "      <td>robie house, 789 north main street</td>\n",
       "    </tr>\n",
       "    <tr>\n",
       "      <th>5</th>\n",
       "      <td>NaN</td>\n",
       "      <td>(staples center) 1111 S Figueroa St, Los Angeles</td>\n",
       "    </tr>\n",
       "    <tr>\n",
       "      <th>6</th>\n",
       "      <td>NULL</td>\n",
       "      <td>hello</td>\n",
       "    </tr>\n",
       "  </tbody>\n",
       "</table>\n",
       "</div>"
      ],
      "text/plain": [
       "                ssn                                           address\n",
       "0     7569217076985                                     123 Pine Ave.\n",
       "1  756.9217.0769.84                                           main st\n",
       "2       51824753556                      1234 west main heights 57033\n",
       "3    51 824 753 556                    apt 1 789 s maple rd manhattan\n",
       "4             hello                robie house, 789 north main street\n",
       "5               NaN  (staples center) 1111 S Figueroa St, Los Angeles\n",
       "6              NULL                                             hello"
      ]
     },
     "execution_count": 1,
     "metadata": {},
     "output_type": "execute_result"
    }
   ],
   "source": [
    "import pandas as pd\n",
    "import numpy as np\n",
    "df = pd.DataFrame(\n",
    "    {\n",
    "        \"ssn\": [\n",
    "            \"7569217076985\",\n",
    "            \"756.9217.0769.84\",\n",
    "            \"51824753556\",\n",
    "            \"51 824 753 556\",\n",
    "            \"hello\",\n",
    "            np.nan,\n",
    "            \"NULL\"\n",
    "        ], \n",
    "        \"address\": [\n",
    "            \"123 Pine Ave.\",\n",
    "            \"main st\",\n",
    "            \"1234 west main heights 57033\",\n",
    "            \"apt 1 789 s maple rd manhattan\",\n",
    "            \"robie house, 789 north main street\",\n",
    "            \"(staples center) 1111 S Figueroa St, Los Angeles\",\n",
    "            \"hello\",\n",
    "        ]\n",
    "    }\n",
    ")\n",
    "df"
   ]
  },
  {
   "cell_type": "markdown",
   "id": "bearing-canada",
   "metadata": {},
   "source": [
    "## 1. Default `clean_ch_ssn`\n",
    "\n",
    "By default, `clean_ch_ssn` will clean ssn strings and output them in the standard format with proper separators."
   ]
  },
  {
   "cell_type": "code",
   "execution_count": 2,
   "id": "driven-louis",
   "metadata": {
    "execution": {
     "iopub.execute_input": "2021-10-26T22:58:05.109513Z",
     "iopub.status.busy": "2021-10-26T22:58:05.109069Z",
     "iopub.status.idle": "2021-10-26T22:58:05.642182Z",
     "shell.execute_reply": "2021-10-26T22:58:05.641754Z"
    }
   },
   "outputs": [
    {
     "data": {
      "text/html": [
       "<div>\n",
       "<style scoped>\n",
       "    .dataframe tbody tr th:only-of-type {\n",
       "        vertical-align: middle;\n",
       "    }\n",
       "\n",
       "    .dataframe tbody tr th {\n",
       "        vertical-align: top;\n",
       "    }\n",
       "\n",
       "    .dataframe thead th {\n",
       "        text-align: right;\n",
       "    }\n",
       "</style>\n",
       "<table border=\"1\" class=\"dataframe\">\n",
       "  <thead>\n",
       "    <tr style=\"text-align: right;\">\n",
       "      <th></th>\n",
       "      <th>ssn</th>\n",
       "      <th>address</th>\n",
       "      <th>ssn_clean</th>\n",
       "    </tr>\n",
       "  </thead>\n",
       "  <tbody>\n",
       "    <tr>\n",
       "      <th>0</th>\n",
       "      <td>7569217076985</td>\n",
       "      <td>123 Pine Ave.</td>\n",
       "      <td>756.9217.0769.85</td>\n",
       "    </tr>\n",
       "    <tr>\n",
       "      <th>1</th>\n",
       "      <td>756.9217.0769.84</td>\n",
       "      <td>main st</td>\n",
       "      <td>NaN</td>\n",
       "    </tr>\n",
       "    <tr>\n",
       "      <th>2</th>\n",
       "      <td>51824753556</td>\n",
       "      <td>1234 west main heights 57033</td>\n",
       "      <td>NaN</td>\n",
       "    </tr>\n",
       "    <tr>\n",
       "      <th>3</th>\n",
       "      <td>51 824 753 556</td>\n",
       "      <td>apt 1 789 s maple rd manhattan</td>\n",
       "      <td>NaN</td>\n",
       "    </tr>\n",
       "    <tr>\n",
       "      <th>4</th>\n",
       "      <td>hello</td>\n",
       "      <td>robie house, 789 north main street</td>\n",
       "      <td>NaN</td>\n",
       "    </tr>\n",
       "    <tr>\n",
       "      <th>5</th>\n",
       "      <td>NaN</td>\n",
       "      <td>(staples center) 1111 S Figueroa St, Los Angeles</td>\n",
       "      <td>NaN</td>\n",
       "    </tr>\n",
       "    <tr>\n",
       "      <th>6</th>\n",
       "      <td>NULL</td>\n",
       "      <td>hello</td>\n",
       "      <td>NaN</td>\n",
       "    </tr>\n",
       "  </tbody>\n",
       "</table>\n",
       "</div>"
      ],
      "text/plain": [
       "                ssn                                           address  \\\n",
       "0     7569217076985                                     123 Pine Ave.   \n",
       "1  756.9217.0769.84                                           main st   \n",
       "2       51824753556                      1234 west main heights 57033   \n",
       "3    51 824 753 556                    apt 1 789 s maple rd manhattan   \n",
       "4             hello                robie house, 789 north main street   \n",
       "5               NaN  (staples center) 1111 S Figueroa St, Los Angeles   \n",
       "6              NULL                                             hello   \n",
       "\n",
       "          ssn_clean  \n",
       "0  756.9217.0769.85  \n",
       "1               NaN  \n",
       "2               NaN  \n",
       "3               NaN  \n",
       "4               NaN  \n",
       "5               NaN  \n",
       "6               NaN  "
      ]
     },
     "execution_count": 1,
     "metadata": {},
     "output_type": "execute_result"
    }
   ],
   "source": [
    "from dataprep.clean import clean_ch_ssn\n",
    "clean_ch_ssn(df, column = \"ssn\")"
   ]
  },
  {
   "cell_type": "markdown",
   "id": "essential-scholar",
   "metadata": {},
   "source": [
    "## 2. Output formats"
   ]
  },
  {
   "cell_type": "markdown",
   "id": "middle-service",
   "metadata": {},
   "source": [
    "This section demonstrates the output parameter."
   ]
  },
  {
   "cell_type": "markdown",
   "id": "broke-biography",
   "metadata": {},
   "source": [
    "### `standard` (default)"
   ]
  },
  {
   "cell_type": "code",
   "execution_count": 3,
   "id": "bridal-premium",
   "metadata": {
    "execution": {
     "iopub.execute_input": "2021-10-26T22:58:05.665877Z",
     "iopub.status.busy": "2021-10-26T22:58:05.662051Z",
     "iopub.status.idle": "2021-10-26T22:58:05.669914Z",
     "shell.execute_reply": "2021-10-26T22:58:05.669495Z"
    }
   },
   "outputs": [
    {
     "data": {
      "text/html": [
       "<div>\n",
       "<style scoped>\n",
       "    .dataframe tbody tr th:only-of-type {\n",
       "        vertical-align: middle;\n",
       "    }\n",
       "\n",
       "    .dataframe tbody tr th {\n",
       "        vertical-align: top;\n",
       "    }\n",
       "\n",
       "    .dataframe thead th {\n",
       "        text-align: right;\n",
       "    }\n",
       "</style>\n",
       "<table border=\"1\" class=\"dataframe\">\n",
       "  <thead>\n",
       "    <tr style=\"text-align: right;\">\n",
       "      <th></th>\n",
       "      <th>ssn</th>\n",
       "      <th>address</th>\n",
       "      <th>ssn_clean</th>\n",
       "    </tr>\n",
       "  </thead>\n",
       "  <tbody>\n",
       "    <tr>\n",
       "      <th>0</th>\n",
       "      <td>7569217076985</td>\n",
       "      <td>123 Pine Ave.</td>\n",
       "      <td>756.9217.0769.85</td>\n",
       "    </tr>\n",
       "    <tr>\n",
       "      <th>1</th>\n",
       "      <td>756.9217.0769.84</td>\n",
       "      <td>main st</td>\n",
       "      <td>NaN</td>\n",
       "    </tr>\n",
       "    <tr>\n",
       "      <th>2</th>\n",
       "      <td>51824753556</td>\n",
       "      <td>1234 west main heights 57033</td>\n",
       "      <td>NaN</td>\n",
       "    </tr>\n",
       "    <tr>\n",
       "      <th>3</th>\n",
       "      <td>51 824 753 556</td>\n",
       "      <td>apt 1 789 s maple rd manhattan</td>\n",
       "      <td>NaN</td>\n",
       "    </tr>\n",
       "    <tr>\n",
       "      <th>4</th>\n",
       "      <td>hello</td>\n",
       "      <td>robie house, 789 north main street</td>\n",
       "      <td>NaN</td>\n",
       "    </tr>\n",
       "    <tr>\n",
       "      <th>5</th>\n",
       "      <td>NaN</td>\n",
       "      <td>(staples center) 1111 S Figueroa St, Los Angeles</td>\n",
       "      <td>NaN</td>\n",
       "    </tr>\n",
       "    <tr>\n",
       "      <th>6</th>\n",
       "      <td>NULL</td>\n",
       "      <td>hello</td>\n",
       "      <td>NaN</td>\n",
       "    </tr>\n",
       "  </tbody>\n",
       "</table>\n",
       "</div>"
      ],
      "text/plain": [
       "                ssn                                           address  \\\n",
       "0     7569217076985                                     123 Pine Ave.   \n",
       "1  756.9217.0769.84                                           main st   \n",
       "2       51824753556                      1234 west main heights 57033   \n",
       "3    51 824 753 556                    apt 1 789 s maple rd manhattan   \n",
       "4             hello                robie house, 789 north main street   \n",
       "5               NaN  (staples center) 1111 S Figueroa St, Los Angeles   \n",
       "6              NULL                                             hello   \n",
       "\n",
       "          ssn_clean  \n",
       "0  756.9217.0769.85  \n",
       "1               NaN  \n",
       "2               NaN  \n",
       "3               NaN  \n",
       "4               NaN  \n",
       "5               NaN  \n",
       "6               NaN  "
      ]
     },
     "execution_count": 1,
     "metadata": {},
     "output_type": "execute_result"
    }
   ],
   "source": [
    "clean_ch_ssn(df, column = \"ssn\", output_format=\"standard\")"
   ]
  },
  {
   "cell_type": "markdown",
   "id": "previous-chamber",
   "metadata": {},
   "source": [
    "### `compact`"
   ]
  },
  {
   "cell_type": "code",
   "execution_count": 4,
   "id": "addressed-buyer",
   "metadata": {
    "execution": {
     "iopub.execute_input": "2021-10-26T22:58:05.690269Z",
     "iopub.status.busy": "2021-10-26T22:58:05.689606Z",
     "iopub.status.idle": "2021-10-26T22:58:05.698050Z",
     "shell.execute_reply": "2021-10-26T22:58:05.698416Z"
    }
   },
   "outputs": [
    {
     "data": {
      "text/html": [
       "<div>\n",
       "<style scoped>\n",
       "    .dataframe tbody tr th:only-of-type {\n",
       "        vertical-align: middle;\n",
       "    }\n",
       "\n",
       "    .dataframe tbody tr th {\n",
       "        vertical-align: top;\n",
       "    }\n",
       "\n",
       "    .dataframe thead th {\n",
       "        text-align: right;\n",
       "    }\n",
       "</style>\n",
       "<table border=\"1\" class=\"dataframe\">\n",
       "  <thead>\n",
       "    <tr style=\"text-align: right;\">\n",
       "      <th></th>\n",
       "      <th>ssn</th>\n",
       "      <th>address</th>\n",
       "      <th>ssn_clean</th>\n",
       "    </tr>\n",
       "  </thead>\n",
       "  <tbody>\n",
       "    <tr>\n",
       "      <th>0</th>\n",
       "      <td>7569217076985</td>\n",
       "      <td>123 Pine Ave.</td>\n",
       "      <td>7569217076985</td>\n",
       "    </tr>\n",
       "    <tr>\n",
       "      <th>1</th>\n",
       "      <td>756.9217.0769.84</td>\n",
       "      <td>main st</td>\n",
       "      <td>NaN</td>\n",
       "    </tr>\n",
       "    <tr>\n",
       "      <th>2</th>\n",
       "      <td>51824753556</td>\n",
       "      <td>1234 west main heights 57033</td>\n",
       "      <td>NaN</td>\n",
       "    </tr>\n",
       "    <tr>\n",
       "      <th>3</th>\n",
       "      <td>51 824 753 556</td>\n",
       "      <td>apt 1 789 s maple rd manhattan</td>\n",
       "      <td>NaN</td>\n",
       "    </tr>\n",
       "    <tr>\n",
       "      <th>4</th>\n",
       "      <td>hello</td>\n",
       "      <td>robie house, 789 north main street</td>\n",
       "      <td>NaN</td>\n",
       "    </tr>\n",
       "    <tr>\n",
       "      <th>5</th>\n",
       "      <td>NaN</td>\n",
       "      <td>(staples center) 1111 S Figueroa St, Los Angeles</td>\n",
       "      <td>NaN</td>\n",
       "    </tr>\n",
       "    <tr>\n",
       "      <th>6</th>\n",
       "      <td>NULL</td>\n",
       "      <td>hello</td>\n",
       "      <td>NaN</td>\n",
       "    </tr>\n",
       "  </tbody>\n",
       "</table>\n",
       "</div>"
      ],
      "text/plain": [
       "                ssn                                           address  \\\n",
       "0     7569217076985                                     123 Pine Ave.   \n",
       "1  756.9217.0769.84                                           main st   \n",
       "2       51824753556                      1234 west main heights 57033   \n",
       "3    51 824 753 556                    apt 1 789 s maple rd manhattan   \n",
       "4             hello                robie house, 789 north main street   \n",
       "5               NaN  (staples center) 1111 S Figueroa St, Los Angeles   \n",
       "6              NULL                                             hello   \n",
       "\n",
       "       ssn_clean  \n",
       "0  7569217076985  \n",
       "1            NaN  \n",
       "2            NaN  \n",
       "3            NaN  \n",
       "4            NaN  \n",
       "5            NaN  \n",
       "6            NaN  "
      ]
     },
     "execution_count": 1,
     "metadata": {},
     "output_type": "execute_result"
    }
   ],
   "source": [
    "clean_ch_ssn(df, column = \"ssn\", output_format=\"compact\")"
   ]
  },
  {
   "cell_type": "markdown",
   "id": "valuable-throat",
   "metadata": {},
   "source": [
    "## 3. `inplace` parameter\n",
    "\n",
    "This deletes the given column from the returned DataFrame. \n",
    "A new column containing cleaned SSN strings is added with a title in the format `\"{original title}_clean\"`."
   ]
  },
  {
   "cell_type": "code",
   "execution_count": 5,
   "id": "systematic-india",
   "metadata": {
    "execution": {
     "iopub.execute_input": "2021-10-26T22:58:05.727125Z",
     "iopub.status.busy": "2021-10-26T22:58:05.722278Z",
     "iopub.status.idle": "2021-10-26T22:58:05.733427Z",
     "shell.execute_reply": "2021-10-26T22:58:05.732725Z"
    }
   },
   "outputs": [
    {
     "data": {
      "text/html": [
       "<div>\n",
       "<style scoped>\n",
       "    .dataframe tbody tr th:only-of-type {\n",
       "        vertical-align: middle;\n",
       "    }\n",
       "\n",
       "    .dataframe tbody tr th {\n",
       "        vertical-align: top;\n",
       "    }\n",
       "\n",
       "    .dataframe thead th {\n",
       "        text-align: right;\n",
       "    }\n",
       "</style>\n",
       "<table border=\"1\" class=\"dataframe\">\n",
       "  <thead>\n",
       "    <tr style=\"text-align: right;\">\n",
       "      <th></th>\n",
       "      <th>ssn_clean</th>\n",
       "      <th>address</th>\n",
       "    </tr>\n",
       "  </thead>\n",
       "  <tbody>\n",
       "    <tr>\n",
       "      <th>0</th>\n",
       "      <td>756.9217.0769.85</td>\n",
       "      <td>123 Pine Ave.</td>\n",
       "    </tr>\n",
       "    <tr>\n",
       "      <th>1</th>\n",
       "      <td>NaN</td>\n",
       "      <td>main st</td>\n",
       "    </tr>\n",
       "    <tr>\n",
       "      <th>2</th>\n",
       "      <td>NaN</td>\n",
       "      <td>1234 west main heights 57033</td>\n",
       "    </tr>\n",
       "    <tr>\n",
       "      <th>3</th>\n",
       "      <td>NaN</td>\n",
       "      <td>apt 1 789 s maple rd manhattan</td>\n",
       "    </tr>\n",
       "    <tr>\n",
       "      <th>4</th>\n",
       "      <td>NaN</td>\n",
       "      <td>robie house, 789 north main street</td>\n",
       "    </tr>\n",
       "    <tr>\n",
       "      <th>5</th>\n",
       "      <td>NaN</td>\n",
       "      <td>(staples center) 1111 S Figueroa St, Los Angeles</td>\n",
       "    </tr>\n",
       "    <tr>\n",
       "      <th>6</th>\n",
       "      <td>NaN</td>\n",
       "      <td>hello</td>\n",
       "    </tr>\n",
       "  </tbody>\n",
       "</table>\n",
       "</div>"
      ],
      "text/plain": [
       "          ssn_clean                                           address\n",
       "0  756.9217.0769.85                                     123 Pine Ave.\n",
       "1               NaN                                           main st\n",
       "2               NaN                      1234 west main heights 57033\n",
       "3               NaN                    apt 1 789 s maple rd manhattan\n",
       "4               NaN                robie house, 789 north main street\n",
       "5               NaN  (staples center) 1111 S Figueroa St, Los Angeles\n",
       "6               NaN                                             hello"
      ]
     },
     "execution_count": 1,
     "metadata": {},
     "output_type": "execute_result"
    }
   ],
   "source": [
    "clean_ch_ssn(df, column=\"ssn\", inplace=True)"
   ]
  },
  {
   "cell_type": "markdown",
   "id": "surrounded-chaos",
   "metadata": {},
   "source": [
    "## 4. `errors` parameter"
   ]
  },
  {
   "cell_type": "markdown",
   "id": "limiting-genetics",
   "metadata": {},
   "source": [
    "### `coerce` (default)"
   ]
  },
  {
   "cell_type": "code",
   "execution_count": 6,
   "id": "beneficial-arlington",
   "metadata": {
    "execution": {
     "iopub.execute_input": "2021-10-26T22:58:05.752620Z",
     "iopub.status.busy": "2021-10-26T22:58:05.749515Z",
     "iopub.status.idle": "2021-10-26T22:58:05.759854Z",
     "shell.execute_reply": "2021-10-26T22:58:05.760220Z"
    }
   },
   "outputs": [
    {
     "data": {
      "text/html": [
       "<div>\n",
       "<style scoped>\n",
       "    .dataframe tbody tr th:only-of-type {\n",
       "        vertical-align: middle;\n",
       "    }\n",
       "\n",
       "    .dataframe tbody tr th {\n",
       "        vertical-align: top;\n",
       "    }\n",
       "\n",
       "    .dataframe thead th {\n",
       "        text-align: right;\n",
       "    }\n",
       "</style>\n",
       "<table border=\"1\" class=\"dataframe\">\n",
       "  <thead>\n",
       "    <tr style=\"text-align: right;\">\n",
       "      <th></th>\n",
       "      <th>ssn</th>\n",
       "      <th>address</th>\n",
       "      <th>ssn_clean</th>\n",
       "    </tr>\n",
       "  </thead>\n",
       "  <tbody>\n",
       "    <tr>\n",
       "      <th>0</th>\n",
       "      <td>7569217076985</td>\n",
       "      <td>123 Pine Ave.</td>\n",
       "      <td>756.9217.0769.85</td>\n",
       "    </tr>\n",
       "    <tr>\n",
       "      <th>1</th>\n",
       "      <td>756.9217.0769.84</td>\n",
       "      <td>main st</td>\n",
       "      <td>NaN</td>\n",
       "    </tr>\n",
       "    <tr>\n",
       "      <th>2</th>\n",
       "      <td>51824753556</td>\n",
       "      <td>1234 west main heights 57033</td>\n",
       "      <td>NaN</td>\n",
       "    </tr>\n",
       "    <tr>\n",
       "      <th>3</th>\n",
       "      <td>51 824 753 556</td>\n",
       "      <td>apt 1 789 s maple rd manhattan</td>\n",
       "      <td>NaN</td>\n",
       "    </tr>\n",
       "    <tr>\n",
       "      <th>4</th>\n",
       "      <td>hello</td>\n",
       "      <td>robie house, 789 north main street</td>\n",
       "      <td>NaN</td>\n",
       "    </tr>\n",
       "    <tr>\n",
       "      <th>5</th>\n",
       "      <td>NaN</td>\n",
       "      <td>(staples center) 1111 S Figueroa St, Los Angeles</td>\n",
       "      <td>NaN</td>\n",
       "    </tr>\n",
       "    <tr>\n",
       "      <th>6</th>\n",
       "      <td>NULL</td>\n",
       "      <td>hello</td>\n",
       "      <td>NaN</td>\n",
       "    </tr>\n",
       "  </tbody>\n",
       "</table>\n",
       "</div>"
      ],
      "text/plain": [
       "                ssn                                           address  \\\n",
       "0     7569217076985                                     123 Pine Ave.   \n",
       "1  756.9217.0769.84                                           main st   \n",
       "2       51824753556                      1234 west main heights 57033   \n",
       "3    51 824 753 556                    apt 1 789 s maple rd manhattan   \n",
       "4             hello                robie house, 789 north main street   \n",
       "5               NaN  (staples center) 1111 S Figueroa St, Los Angeles   \n",
       "6              NULL                                             hello   \n",
       "\n",
       "          ssn_clean  \n",
       "0  756.9217.0769.85  \n",
       "1               NaN  \n",
       "2               NaN  \n",
       "3               NaN  \n",
       "4               NaN  \n",
       "5               NaN  \n",
       "6               NaN  "
      ]
     },
     "execution_count": 1,
     "metadata": {},
     "output_type": "execute_result"
    }
   ],
   "source": [
    "clean_ch_ssn(df, \"ssn\", errors=\"coerce\")"
   ]
  },
  {
   "cell_type": "markdown",
   "id": "funky-situation",
   "metadata": {},
   "source": [
    "### `ignore`"
   ]
  },
  {
   "cell_type": "code",
   "execution_count": 7,
   "id": "frank-bacteria",
   "metadata": {
    "execution": {
     "iopub.execute_input": "2021-10-26T22:58:05.779609Z",
     "iopub.status.busy": "2021-10-26T22:58:05.777399Z",
     "iopub.status.idle": "2021-10-26T22:58:05.789508Z",
     "shell.execute_reply": "2021-10-26T22:58:05.789110Z"
    }
   },
   "outputs": [
    {
     "data": {
      "text/html": [
       "<div>\n",
       "<style scoped>\n",
       "    .dataframe tbody tr th:only-of-type {\n",
       "        vertical-align: middle;\n",
       "    }\n",
       "\n",
       "    .dataframe tbody tr th {\n",
       "        vertical-align: top;\n",
       "    }\n",
       "\n",
       "    .dataframe thead th {\n",
       "        text-align: right;\n",
       "    }\n",
       "</style>\n",
       "<table border=\"1\" class=\"dataframe\">\n",
       "  <thead>\n",
       "    <tr style=\"text-align: right;\">\n",
       "      <th></th>\n",
       "      <th>ssn</th>\n",
       "      <th>address</th>\n",
       "      <th>ssn_clean</th>\n",
       "    </tr>\n",
       "  </thead>\n",
       "  <tbody>\n",
       "    <tr>\n",
       "      <th>0</th>\n",
       "      <td>7569217076985</td>\n",
       "      <td>123 Pine Ave.</td>\n",
       "      <td>756.9217.0769.85</td>\n",
       "    </tr>\n",
       "    <tr>\n",
       "      <th>1</th>\n",
       "      <td>756.9217.0769.84</td>\n",
       "      <td>main st</td>\n",
       "      <td>756.9217.0769.84</td>\n",
       "    </tr>\n",
       "    <tr>\n",
       "      <th>2</th>\n",
       "      <td>51824753556</td>\n",
       "      <td>1234 west main heights 57033</td>\n",
       "      <td>51824753556</td>\n",
       "    </tr>\n",
       "    <tr>\n",
       "      <th>3</th>\n",
       "      <td>51 824 753 556</td>\n",
       "      <td>apt 1 789 s maple rd manhattan</td>\n",
       "      <td>51 824 753 556</td>\n",
       "    </tr>\n",
       "    <tr>\n",
       "      <th>4</th>\n",
       "      <td>hello</td>\n",
       "      <td>robie house, 789 north main street</td>\n",
       "      <td>hello</td>\n",
       "    </tr>\n",
       "    <tr>\n",
       "      <th>5</th>\n",
       "      <td>NaN</td>\n",
       "      <td>(staples center) 1111 S Figueroa St, Los Angeles</td>\n",
       "      <td>NaN</td>\n",
       "    </tr>\n",
       "    <tr>\n",
       "      <th>6</th>\n",
       "      <td>NULL</td>\n",
       "      <td>hello</td>\n",
       "      <td>NaN</td>\n",
       "    </tr>\n",
       "  </tbody>\n",
       "</table>\n",
       "</div>"
      ],
      "text/plain": [
       "                ssn                                           address  \\\n",
       "0     7569217076985                                     123 Pine Ave.   \n",
       "1  756.9217.0769.84                                           main st   \n",
       "2       51824753556                      1234 west main heights 57033   \n",
       "3    51 824 753 556                    apt 1 789 s maple rd manhattan   \n",
       "4             hello                robie house, 789 north main street   \n",
       "5               NaN  (staples center) 1111 S Figueroa St, Los Angeles   \n",
       "6              NULL                                             hello   \n",
       "\n",
       "          ssn_clean  \n",
       "0  756.9217.0769.85  \n",
       "1  756.9217.0769.84  \n",
       "2       51824753556  \n",
       "3    51 824 753 556  \n",
       "4             hello  \n",
       "5               NaN  \n",
       "6               NaN  "
      ]
     },
     "execution_count": 1,
     "metadata": {},
     "output_type": "execute_result"
    }
   ],
   "source": [
    "clean_ch_ssn(df, \"ssn\", errors=\"ignore\")"
   ]
  },
  {
   "cell_type": "markdown",
   "id": "photographic-application",
   "metadata": {},
   "source": [
    "## 4. `validate_ch_ssn()`"
   ]
  },
  {
   "cell_type": "markdown",
   "id": "chronic-adoption",
   "metadata": {},
   "source": [
    "`validate_ch_ssn()` returns `True` when the input is a valid SSN. Otherwise it returns `False`.\n",
    "\n",
    "The input of `validate_ch_ssn()` can be a string, a Pandas DataSeries, a Dask DataSeries, a Pandas DataFrame and a dask DataFrame.\n",
    "\n",
    "When the input is a string, a Pandas DataSeries or a Dask DataSeries, user doesn't need to specify a column name to be validated. \n",
    "\n",
    "When the input is a Pandas DataFrame or a dask DataFrame, user can both specify or not specify a column name to be validated. If user specify the column name, `validate_ch_ssn()` only returns the validation result for the specified column. If user doesn't specify the column name, `validate_ch_ssn()` returns the validation result for the whole DataFrame."
   ]
  },
  {
   "cell_type": "code",
   "execution_count": 8,
   "id": "alone-detective",
   "metadata": {
    "execution": {
     "iopub.execute_input": "2021-10-26T22:58:05.794001Z",
     "iopub.status.busy": "2021-10-26T22:58:05.793575Z",
     "iopub.status.idle": "2021-10-26T22:58:05.797214Z",
     "shell.execute_reply": "2021-10-26T22:58:05.796833Z"
    }
   },
   "outputs": [
    {
     "name": "stdout",
     "output_type": "stream",
     "text": [
      "True\n",
      "False\n",
      "False\n",
      "False\n",
      "False\n",
      "False\n",
      "False\n"
     ]
    }
   ],
   "source": [
    "from dataprep.clean import validate_ch_ssn\n",
    "print(validate_ch_ssn(\"7569217076985\"))\n",
    "print(validate_ch_ssn(\"756.9217.0769.84\"))\n",
    "print(validate_ch_ssn(\"51824753556\"))\n",
    "print(validate_ch_ssn(\"51 824 753 556\"))\n",
    "print(validate_ch_ssn(\"hello\"))\n",
    "print(validate_ch_ssn(np.nan))\n",
    "print(validate_ch_ssn(\"NULL\"))"
   ]
  },
  {
   "cell_type": "markdown",
   "id": "waiting-vampire",
   "metadata": {},
   "source": [
    "### Series"
   ]
  },
  {
   "cell_type": "code",
   "execution_count": 9,
   "id": "binary-african",
   "metadata": {
    "execution": {
     "iopub.execute_input": "2021-10-26T22:58:05.801449Z",
     "iopub.status.busy": "2021-10-26T22:58:05.801031Z",
     "iopub.status.idle": "2021-10-26T22:58:05.804785Z",
     "shell.execute_reply": "2021-10-26T22:58:05.805137Z"
    }
   },
   "outputs": [
    {
     "data": {
      "text/plain": [
       "0     True\n",
       "1    False\n",
       "2    False\n",
       "3    False\n",
       "4    False\n",
       "5    False\n",
       "6    False\n",
       "Name: ssn, dtype: bool"
      ]
     },
     "execution_count": 1,
     "metadata": {},
     "output_type": "execute_result"
    }
   ],
   "source": [
    "validate_ch_ssn(df[\"ssn\"])"
   ]
  },
  {
   "cell_type": "markdown",
   "id": "alpine-illness",
   "metadata": {},
   "source": [
    "### DataFrame + Specify Column"
   ]
  },
  {
   "cell_type": "code",
   "execution_count": 10,
   "id": "alike-museum",
   "metadata": {
    "execution": {
     "iopub.execute_input": "2021-10-26T22:58:05.809298Z",
     "iopub.status.busy": "2021-10-26T22:58:05.808874Z",
     "iopub.status.idle": "2021-10-26T22:58:05.812970Z",
     "shell.execute_reply": "2021-10-26T22:58:05.812592Z"
    }
   },
   "outputs": [
    {
     "data": {
      "text/plain": [
       "0     True\n",
       "1    False\n",
       "2    False\n",
       "3    False\n",
       "4    False\n",
       "5    False\n",
       "6    False\n",
       "Name: ssn, dtype: bool"
      ]
     },
     "execution_count": 1,
     "metadata": {},
     "output_type": "execute_result"
    }
   ],
   "source": [
    "validate_ch_ssn(df, column=\"ssn\")"
   ]
  },
  {
   "cell_type": "markdown",
   "id": "promotional-thriller",
   "metadata": {},
   "source": [
    "### Only DataFrame"
   ]
  },
  {
   "cell_type": "code",
   "execution_count": 11,
   "id": "formal-smell",
   "metadata": {
    "execution": {
     "iopub.execute_input": "2021-10-26T22:58:05.820646Z",
     "iopub.status.busy": "2021-10-26T22:58:05.815548Z",
     "iopub.status.idle": "2021-10-26T22:58:05.824724Z",
     "shell.execute_reply": "2021-10-26T22:58:05.823913Z"
    }
   },
   "outputs": [
    {
     "data": {
      "text/html": [
       "<div>\n",
       "<style scoped>\n",
       "    .dataframe tbody tr th:only-of-type {\n",
       "        vertical-align: middle;\n",
       "    }\n",
       "\n",
       "    .dataframe tbody tr th {\n",
       "        vertical-align: top;\n",
       "    }\n",
       "\n",
       "    .dataframe thead th {\n",
       "        text-align: right;\n",
       "    }\n",
       "</style>\n",
       "<table border=\"1\" class=\"dataframe\">\n",
       "  <thead>\n",
       "    <tr style=\"text-align: right;\">\n",
       "      <th></th>\n",
       "      <th>ssn</th>\n",
       "      <th>address</th>\n",
       "    </tr>\n",
       "  </thead>\n",
       "  <tbody>\n",
       "    <tr>\n",
       "      <th>0</th>\n",
       "      <td>True</td>\n",
       "      <td>False</td>\n",
       "    </tr>\n",
       "    <tr>\n",
       "      <th>1</th>\n",
       "      <td>False</td>\n",
       "      <td>False</td>\n",
       "    </tr>\n",
       "    <tr>\n",
       "      <th>2</th>\n",
       "      <td>False</td>\n",
       "      <td>False</td>\n",
       "    </tr>\n",
       "    <tr>\n",
       "      <th>3</th>\n",
       "      <td>False</td>\n",
       "      <td>False</td>\n",
       "    </tr>\n",
       "    <tr>\n",
       "      <th>4</th>\n",
       "      <td>False</td>\n",
       "      <td>False</td>\n",
       "    </tr>\n",
       "    <tr>\n",
       "      <th>5</th>\n",
       "      <td>False</td>\n",
       "      <td>False</td>\n",
       "    </tr>\n",
       "    <tr>\n",
       "      <th>6</th>\n",
       "      <td>False</td>\n",
       "      <td>False</td>\n",
       "    </tr>\n",
       "  </tbody>\n",
       "</table>\n",
       "</div>"
      ],
      "text/plain": [
       "     ssn  address\n",
       "0   True    False\n",
       "1  False    False\n",
       "2  False    False\n",
       "3  False    False\n",
       "4  False    False\n",
       "5  False    False\n",
       "6  False    False"
      ]
     },
     "execution_count": 1,
     "metadata": {},
     "output_type": "execute_result"
    }
   ],
   "source": [
    "validate_ch_ssn(df)"
   ]
  },
  {
   "cell_type": "code",
   "execution_count": null,
   "id": "annual-apple",
   "metadata": {},
   "outputs": [],
   "source": []
  }
 ],
 "metadata": {
  "kernelspec": {
   "display_name": "Python 3",
   "language": "python",
   "name": "python3"
  },
  "language_info": {
   "codemirror_mode": {
    "name": "ipython",
    "version": 3
   },
   "file_extension": ".py",
   "mimetype": "text/x-python",
   "name": "python",
   "nbconvert_exporter": "python",
   "pygments_lexer": "ipython3",
   "version": "3.8.10"
  }
 },
 "nbformat": 4,
 "nbformat_minor": 5
}
