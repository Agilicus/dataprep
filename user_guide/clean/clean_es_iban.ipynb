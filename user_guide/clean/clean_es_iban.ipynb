{
 "cells": [
  {
   "cell_type": "raw",
   "id": "recent-barrier",
   "metadata": {},
   "source": [
    ".. _iban_userguide:\n",
    "\n",
    "IBAN Strings\n",
    "============"
   ]
  },
  {
   "cell_type": "raw",
   "id": "correct-pickup",
   "metadata": {},
   "source": [
    "Introduction\n",
    "------------\n",
    "\n",
    "The function :func:`clean_es_iban() <dataprep.clean.clean_es_iban.clean_es_iban>` cleans a column containing Spanish IBAN (IBAN) strings, and standardizes them in a given format. The function :func:`validate_es_iban() <dataprep.clean.clean_es_iban.validate_es_iban>` validates either a single IBAN strings, a column of IBAN strings or a DataFrame of IBAN strings, returning `True` if the value is valid, and `False` otherwise."
   ]
  },
  {
   "cell_type": "markdown",
   "id": "virtual-plenty",
   "metadata": {},
   "source": [
    "IBAN strings can be converted to the following formats via the `output_format` parameter:\n",
    "\n",
    "* `compact`: only number strings without any seperators or whitespace, like \"ES7712341234161234567890\"\n",
    "* `standard`: IBAN strings with proper whitespace in the proper places, like \"ES77 1234 1234 1612 3456 7890\"\n",
    "* `ccc`: return the CCC (Código Cuenta Corriente) part of the number, like \"12341234161234567890\".\n",
    "\n",
    "Invalid parsing is handled with the `errors` parameter:\n",
    "\n",
    "* `coerce` (default): invalid parsing will be set to NaN\n",
    "* `ignore`: invalid parsing will return the input\n",
    "* `raise`: invalid parsing will raise an exception\n",
    "\n",
    "The following sections demonstrate the functionality of `clean_es_iban()` and `validate_es_iban()`. "
   ]
  },
  {
   "cell_type": "markdown",
   "id": "hungarian-celebration",
   "metadata": {},
   "source": [
    "### An example dataset containing IBAN strings"
   ]
  },
  {
   "cell_type": "code",
   "execution_count": 1,
   "id": "little-helping",
   "metadata": {
    "execution": {
     "iopub.execute_input": "2021-10-26T23:00:21.482499Z",
     "iopub.status.busy": "2021-10-26T23:00:21.481938Z",
     "iopub.status.idle": "2021-10-26T23:00:21.696602Z",
     "shell.execute_reply": "2021-10-26T23:00:21.696112Z"
    }
   },
   "outputs": [
    {
     "data": {
      "text/html": [
       "<div>\n",
       "<style scoped>\n",
       "    .dataframe tbody tr th:only-of-type {\n",
       "        vertical-align: middle;\n",
       "    }\n",
       "\n",
       "    .dataframe tbody tr th {\n",
       "        vertical-align: top;\n",
       "    }\n",
       "\n",
       "    .dataframe thead th {\n",
       "        text-align: right;\n",
       "    }\n",
       "</style>\n",
       "<table border=\"1\" class=\"dataframe\">\n",
       "  <thead>\n",
       "    <tr style=\"text-align: right;\">\n",
       "      <th></th>\n",
       "      <th>iban</th>\n",
       "      <th>address</th>\n",
       "    </tr>\n",
       "  </thead>\n",
       "  <tbody>\n",
       "    <tr>\n",
       "      <th>0</th>\n",
       "      <td>ES771234-1234-16 1234567890</td>\n",
       "      <td>123 Pine Ave.</td>\n",
       "    </tr>\n",
       "    <tr>\n",
       "      <th>1</th>\n",
       "      <td>R1601101050000010547023795</td>\n",
       "      <td>main st</td>\n",
       "    </tr>\n",
       "    <tr>\n",
       "      <th>2</th>\n",
       "      <td>999 999 999</td>\n",
       "      <td>1234 west main heights 57033</td>\n",
       "    </tr>\n",
       "    <tr>\n",
       "      <th>3</th>\n",
       "      <td>004085616</td>\n",
       "      <td>apt 1 789 s maple rd manhattan</td>\n",
       "    </tr>\n",
       "    <tr>\n",
       "      <th>4</th>\n",
       "      <td>002 724 334</td>\n",
       "      <td>robie house, 789 north main street</td>\n",
       "    </tr>\n",
       "    <tr>\n",
       "      <th>5</th>\n",
       "      <td>hello</td>\n",
       "      <td>1111 S Figueroa St, Los Angeles, CA 90015</td>\n",
       "    </tr>\n",
       "    <tr>\n",
       "      <th>6</th>\n",
       "      <td>NaN</td>\n",
       "      <td>(staples center) 1111 S Figueroa St, Los Angeles</td>\n",
       "    </tr>\n",
       "    <tr>\n",
       "      <th>7</th>\n",
       "      <td>NULL</td>\n",
       "      <td>hello</td>\n",
       "    </tr>\n",
       "  </tbody>\n",
       "</table>\n",
       "</div>"
      ],
      "text/plain": [
       "                          iban  \\\n",
       "0  ES771234-1234-16 1234567890   \n",
       "1   R1601101050000010547023795   \n",
       "2                  999 999 999   \n",
       "3                    004085616   \n",
       "4                  002 724 334   \n",
       "5                        hello   \n",
       "6                          NaN   \n",
       "7                         NULL   \n",
       "\n",
       "                                            address  \n",
       "0                                     123 Pine Ave.  \n",
       "1                                           main st  \n",
       "2                      1234 west main heights 57033  \n",
       "3                    apt 1 789 s maple rd manhattan  \n",
       "4                robie house, 789 north main street  \n",
       "5         1111 S Figueroa St, Los Angeles, CA 90015  \n",
       "6  (staples center) 1111 S Figueroa St, Los Angeles  \n",
       "7                                             hello  "
      ]
     },
     "execution_count": 1,
     "metadata": {},
     "output_type": "execute_result"
    }
   ],
   "source": [
    "import pandas as pd\n",
    "import numpy as np\n",
    "df = pd.DataFrame(\n",
    "    {\n",
    "        \"iban\": [\n",
    "            \"ES771234-1234-16 1234567890\",\n",
    "            \"R1601101050000010547023795\",\n",
    "            \"999 999 999\",\n",
    "            \"004085616\",\n",
    "            \"002 724 334\",\n",
    "            \"hello\",\n",
    "            np.nan,\n",
    "            \"NULL\",\n",
    "        ], \n",
    "        \"address\": [\n",
    "            \"123 Pine Ave.\",\n",
    "            \"main st\",\n",
    "            \"1234 west main heights 57033\",\n",
    "            \"apt 1 789 s maple rd manhattan\",\n",
    "            \"robie house, 789 north main street\",\n",
    "            \"1111 S Figueroa St, Los Angeles, CA 90015\",\n",
    "            \"(staples center) 1111 S Figueroa St, Los Angeles\",\n",
    "            \"hello\",\n",
    "        ]\n",
    "    }\n",
    ")\n",
    "df"
   ]
  },
  {
   "cell_type": "markdown",
   "id": "informative-restoration",
   "metadata": {},
   "source": [
    "## 1. Default `clean_es_iban`\n",
    "\n",
    "By default, `clean_es_iban` will clean iban strings and output them in the standard format with proper separators."
   ]
  },
  {
   "cell_type": "code",
   "execution_count": 2,
   "id": "representative-topic",
   "metadata": {
    "execution": {
     "iopub.execute_input": "2021-10-26T23:00:21.700155Z",
     "iopub.status.busy": "2021-10-26T23:00:21.699671Z",
     "iopub.status.idle": "2021-10-26T23:00:22.235549Z",
     "shell.execute_reply": "2021-10-26T23:00:22.235134Z"
    }
   },
   "outputs": [
    {
     "data": {
      "text/html": [
       "<div>\n",
       "<style scoped>\n",
       "    .dataframe tbody tr th:only-of-type {\n",
       "        vertical-align: middle;\n",
       "    }\n",
       "\n",
       "    .dataframe tbody tr th {\n",
       "        vertical-align: top;\n",
       "    }\n",
       "\n",
       "    .dataframe thead th {\n",
       "        text-align: right;\n",
       "    }\n",
       "</style>\n",
       "<table border=\"1\" class=\"dataframe\">\n",
       "  <thead>\n",
       "    <tr style=\"text-align: right;\">\n",
       "      <th></th>\n",
       "      <th>iban</th>\n",
       "      <th>address</th>\n",
       "      <th>iban_clean</th>\n",
       "    </tr>\n",
       "  </thead>\n",
       "  <tbody>\n",
       "    <tr>\n",
       "      <th>0</th>\n",
       "      <td>ES771234-1234-16 1234567890</td>\n",
       "      <td>123 Pine Ave.</td>\n",
       "      <td>ES77 1234 1234 1612 3456 7890</td>\n",
       "    </tr>\n",
       "    <tr>\n",
       "      <th>1</th>\n",
       "      <td>R1601101050000010547023795</td>\n",
       "      <td>main st</td>\n",
       "      <td>NaN</td>\n",
       "    </tr>\n",
       "    <tr>\n",
       "      <th>2</th>\n",
       "      <td>999 999 999</td>\n",
       "      <td>1234 west main heights 57033</td>\n",
       "      <td>NaN</td>\n",
       "    </tr>\n",
       "    <tr>\n",
       "      <th>3</th>\n",
       "      <td>004085616</td>\n",
       "      <td>apt 1 789 s maple rd manhattan</td>\n",
       "      <td>NaN</td>\n",
       "    </tr>\n",
       "    <tr>\n",
       "      <th>4</th>\n",
       "      <td>002 724 334</td>\n",
       "      <td>robie house, 789 north main street</td>\n",
       "      <td>NaN</td>\n",
       "    </tr>\n",
       "    <tr>\n",
       "      <th>5</th>\n",
       "      <td>hello</td>\n",
       "      <td>1111 S Figueroa St, Los Angeles, CA 90015</td>\n",
       "      <td>NaN</td>\n",
       "    </tr>\n",
       "    <tr>\n",
       "      <th>6</th>\n",
       "      <td>NaN</td>\n",
       "      <td>(staples center) 1111 S Figueroa St, Los Angeles</td>\n",
       "      <td>NaN</td>\n",
       "    </tr>\n",
       "    <tr>\n",
       "      <th>7</th>\n",
       "      <td>NULL</td>\n",
       "      <td>hello</td>\n",
       "      <td>NaN</td>\n",
       "    </tr>\n",
       "  </tbody>\n",
       "</table>\n",
       "</div>"
      ],
      "text/plain": [
       "                          iban  \\\n",
       "0  ES771234-1234-16 1234567890   \n",
       "1   R1601101050000010547023795   \n",
       "2                  999 999 999   \n",
       "3                    004085616   \n",
       "4                  002 724 334   \n",
       "5                        hello   \n",
       "6                          NaN   \n",
       "7                         NULL   \n",
       "\n",
       "                                            address  \\\n",
       "0                                     123 Pine Ave.   \n",
       "1                                           main st   \n",
       "2                      1234 west main heights 57033   \n",
       "3                    apt 1 789 s maple rd manhattan   \n",
       "4                robie house, 789 north main street   \n",
       "5         1111 S Figueroa St, Los Angeles, CA 90015   \n",
       "6  (staples center) 1111 S Figueroa St, Los Angeles   \n",
       "7                                             hello   \n",
       "\n",
       "                      iban_clean  \n",
       "0  ES77 1234 1234 1612 3456 7890  \n",
       "1                            NaN  \n",
       "2                            NaN  \n",
       "3                            NaN  \n",
       "4                            NaN  \n",
       "5                            NaN  \n",
       "6                            NaN  \n",
       "7                            NaN  "
      ]
     },
     "execution_count": 1,
     "metadata": {},
     "output_type": "execute_result"
    }
   ],
   "source": [
    "from dataprep.clean import clean_es_iban\n",
    "clean_es_iban(df, column = \"iban\")"
   ]
  },
  {
   "cell_type": "markdown",
   "id": "patent-credits",
   "metadata": {},
   "source": [
    "## 2. Output formats"
   ]
  },
  {
   "cell_type": "markdown",
   "id": "difficult-mileage",
   "metadata": {},
   "source": [
    "This section demonstrates the output parameter."
   ]
  },
  {
   "cell_type": "markdown",
   "id": "subject-appliance",
   "metadata": {},
   "source": [
    "### `standard` (default)"
   ]
  },
  {
   "cell_type": "code",
   "execution_count": 3,
   "id": "marine-insured",
   "metadata": {
    "execution": {
     "iopub.execute_input": "2021-10-26T23:00:22.255634Z",
     "iopub.status.busy": "2021-10-26T23:00:22.254842Z",
     "iopub.status.idle": "2021-10-26T23:00:22.262942Z",
     "shell.execute_reply": "2021-10-26T23:00:22.262537Z"
    }
   },
   "outputs": [
    {
     "data": {
      "text/html": [
       "<div>\n",
       "<style scoped>\n",
       "    .dataframe tbody tr th:only-of-type {\n",
       "        vertical-align: middle;\n",
       "    }\n",
       "\n",
       "    .dataframe tbody tr th {\n",
       "        vertical-align: top;\n",
       "    }\n",
       "\n",
       "    .dataframe thead th {\n",
       "        text-align: right;\n",
       "    }\n",
       "</style>\n",
       "<table border=\"1\" class=\"dataframe\">\n",
       "  <thead>\n",
       "    <tr style=\"text-align: right;\">\n",
       "      <th></th>\n",
       "      <th>iban</th>\n",
       "      <th>address</th>\n",
       "      <th>iban_clean</th>\n",
       "    </tr>\n",
       "  </thead>\n",
       "  <tbody>\n",
       "    <tr>\n",
       "      <th>0</th>\n",
       "      <td>ES771234-1234-16 1234567890</td>\n",
       "      <td>123 Pine Ave.</td>\n",
       "      <td>ES77 1234 1234 1612 3456 7890</td>\n",
       "    </tr>\n",
       "    <tr>\n",
       "      <th>1</th>\n",
       "      <td>R1601101050000010547023795</td>\n",
       "      <td>main st</td>\n",
       "      <td>NaN</td>\n",
       "    </tr>\n",
       "    <tr>\n",
       "      <th>2</th>\n",
       "      <td>999 999 999</td>\n",
       "      <td>1234 west main heights 57033</td>\n",
       "      <td>NaN</td>\n",
       "    </tr>\n",
       "    <tr>\n",
       "      <th>3</th>\n",
       "      <td>004085616</td>\n",
       "      <td>apt 1 789 s maple rd manhattan</td>\n",
       "      <td>NaN</td>\n",
       "    </tr>\n",
       "    <tr>\n",
       "      <th>4</th>\n",
       "      <td>002 724 334</td>\n",
       "      <td>robie house, 789 north main street</td>\n",
       "      <td>NaN</td>\n",
       "    </tr>\n",
       "    <tr>\n",
       "      <th>5</th>\n",
       "      <td>hello</td>\n",
       "      <td>1111 S Figueroa St, Los Angeles, CA 90015</td>\n",
       "      <td>NaN</td>\n",
       "    </tr>\n",
       "    <tr>\n",
       "      <th>6</th>\n",
       "      <td>NaN</td>\n",
       "      <td>(staples center) 1111 S Figueroa St, Los Angeles</td>\n",
       "      <td>NaN</td>\n",
       "    </tr>\n",
       "    <tr>\n",
       "      <th>7</th>\n",
       "      <td>NULL</td>\n",
       "      <td>hello</td>\n",
       "      <td>NaN</td>\n",
       "    </tr>\n",
       "  </tbody>\n",
       "</table>\n",
       "</div>"
      ],
      "text/plain": [
       "                          iban  \\\n",
       "0  ES771234-1234-16 1234567890   \n",
       "1   R1601101050000010547023795   \n",
       "2                  999 999 999   \n",
       "3                    004085616   \n",
       "4                  002 724 334   \n",
       "5                        hello   \n",
       "6                          NaN   \n",
       "7                         NULL   \n",
       "\n",
       "                                            address  \\\n",
       "0                                     123 Pine Ave.   \n",
       "1                                           main st   \n",
       "2                      1234 west main heights 57033   \n",
       "3                    apt 1 789 s maple rd manhattan   \n",
       "4                robie house, 789 north main street   \n",
       "5         1111 S Figueroa St, Los Angeles, CA 90015   \n",
       "6  (staples center) 1111 S Figueroa St, Los Angeles   \n",
       "7                                             hello   \n",
       "\n",
       "                      iban_clean  \n",
       "0  ES77 1234 1234 1612 3456 7890  \n",
       "1                            NaN  \n",
       "2                            NaN  \n",
       "3                            NaN  \n",
       "4                            NaN  \n",
       "5                            NaN  \n",
       "6                            NaN  \n",
       "7                            NaN  "
      ]
     },
     "execution_count": 1,
     "metadata": {},
     "output_type": "execute_result"
    }
   ],
   "source": [
    "clean_es_iban(df, column = \"iban\", output_format=\"standard\")"
   ]
  },
  {
   "cell_type": "markdown",
   "id": "revolutionary-thread",
   "metadata": {},
   "source": [
    "### `compact`"
   ]
  },
  {
   "cell_type": "code",
   "execution_count": 4,
   "id": "expensive-recognition",
   "metadata": {
    "execution": {
     "iopub.execute_input": "2021-10-26T23:00:22.282237Z",
     "iopub.status.busy": "2021-10-26T23:00:22.280504Z",
     "iopub.status.idle": "2021-10-26T23:00:22.288987Z",
     "shell.execute_reply": "2021-10-26T23:00:22.288615Z"
    }
   },
   "outputs": [
    {
     "data": {
      "text/html": [
       "<div>\n",
       "<style scoped>\n",
       "    .dataframe tbody tr th:only-of-type {\n",
       "        vertical-align: middle;\n",
       "    }\n",
       "\n",
       "    .dataframe tbody tr th {\n",
       "        vertical-align: top;\n",
       "    }\n",
       "\n",
       "    .dataframe thead th {\n",
       "        text-align: right;\n",
       "    }\n",
       "</style>\n",
       "<table border=\"1\" class=\"dataframe\">\n",
       "  <thead>\n",
       "    <tr style=\"text-align: right;\">\n",
       "      <th></th>\n",
       "      <th>iban</th>\n",
       "      <th>address</th>\n",
       "      <th>iban_clean</th>\n",
       "    </tr>\n",
       "  </thead>\n",
       "  <tbody>\n",
       "    <tr>\n",
       "      <th>0</th>\n",
       "      <td>ES771234-1234-16 1234567890</td>\n",
       "      <td>123 Pine Ave.</td>\n",
       "      <td>ES7712341234161234567890</td>\n",
       "    </tr>\n",
       "    <tr>\n",
       "      <th>1</th>\n",
       "      <td>R1601101050000010547023795</td>\n",
       "      <td>main st</td>\n",
       "      <td>NaN</td>\n",
       "    </tr>\n",
       "    <tr>\n",
       "      <th>2</th>\n",
       "      <td>999 999 999</td>\n",
       "      <td>1234 west main heights 57033</td>\n",
       "      <td>NaN</td>\n",
       "    </tr>\n",
       "    <tr>\n",
       "      <th>3</th>\n",
       "      <td>004085616</td>\n",
       "      <td>apt 1 789 s maple rd manhattan</td>\n",
       "      <td>NaN</td>\n",
       "    </tr>\n",
       "    <tr>\n",
       "      <th>4</th>\n",
       "      <td>002 724 334</td>\n",
       "      <td>robie house, 789 north main street</td>\n",
       "      <td>NaN</td>\n",
       "    </tr>\n",
       "    <tr>\n",
       "      <th>5</th>\n",
       "      <td>hello</td>\n",
       "      <td>1111 S Figueroa St, Los Angeles, CA 90015</td>\n",
       "      <td>NaN</td>\n",
       "    </tr>\n",
       "    <tr>\n",
       "      <th>6</th>\n",
       "      <td>NaN</td>\n",
       "      <td>(staples center) 1111 S Figueroa St, Los Angeles</td>\n",
       "      <td>NaN</td>\n",
       "    </tr>\n",
       "    <tr>\n",
       "      <th>7</th>\n",
       "      <td>NULL</td>\n",
       "      <td>hello</td>\n",
       "      <td>NaN</td>\n",
       "    </tr>\n",
       "  </tbody>\n",
       "</table>\n",
       "</div>"
      ],
      "text/plain": [
       "                          iban  \\\n",
       "0  ES771234-1234-16 1234567890   \n",
       "1   R1601101050000010547023795   \n",
       "2                  999 999 999   \n",
       "3                    004085616   \n",
       "4                  002 724 334   \n",
       "5                        hello   \n",
       "6                          NaN   \n",
       "7                         NULL   \n",
       "\n",
       "                                            address                iban_clean  \n",
       "0                                     123 Pine Ave.  ES7712341234161234567890  \n",
       "1                                           main st                       NaN  \n",
       "2                      1234 west main heights 57033                       NaN  \n",
       "3                    apt 1 789 s maple rd manhattan                       NaN  \n",
       "4                robie house, 789 north main street                       NaN  \n",
       "5         1111 S Figueroa St, Los Angeles, CA 90015                       NaN  \n",
       "6  (staples center) 1111 S Figueroa St, Los Angeles                       NaN  \n",
       "7                                             hello                       NaN  "
      ]
     },
     "execution_count": 1,
     "metadata": {},
     "output_type": "execute_result"
    }
   ],
   "source": [
    "clean_es_iban(df, column = \"iban\", output_format=\"compact\")"
   ]
  },
  {
   "cell_type": "markdown",
   "id": "correct-sudan",
   "metadata": {},
   "source": [
    "### `ccc`"
   ]
  },
  {
   "cell_type": "code",
   "execution_count": 5,
   "id": "utility-laser",
   "metadata": {
    "execution": {
     "iopub.execute_input": "2021-10-26T23:00:22.308169Z",
     "iopub.status.busy": "2021-10-26T23:00:22.307703Z",
     "iopub.status.idle": "2021-10-26T23:00:22.315120Z",
     "shell.execute_reply": "2021-10-26T23:00:22.314720Z"
    }
   },
   "outputs": [
    {
     "data": {
      "text/html": [
       "<div>\n",
       "<style scoped>\n",
       "    .dataframe tbody tr th:only-of-type {\n",
       "        vertical-align: middle;\n",
       "    }\n",
       "\n",
       "    .dataframe tbody tr th {\n",
       "        vertical-align: top;\n",
       "    }\n",
       "\n",
       "    .dataframe thead th {\n",
       "        text-align: right;\n",
       "    }\n",
       "</style>\n",
       "<table border=\"1\" class=\"dataframe\">\n",
       "  <thead>\n",
       "    <tr style=\"text-align: right;\">\n",
       "      <th></th>\n",
       "      <th>iban</th>\n",
       "      <th>address</th>\n",
       "      <th>iban_clean</th>\n",
       "    </tr>\n",
       "  </thead>\n",
       "  <tbody>\n",
       "    <tr>\n",
       "      <th>0</th>\n",
       "      <td>ES771234-1234-16 1234567890</td>\n",
       "      <td>123 Pine Ave.</td>\n",
       "      <td>12341234161234567890</td>\n",
       "    </tr>\n",
       "    <tr>\n",
       "      <th>1</th>\n",
       "      <td>R1601101050000010547023795</td>\n",
       "      <td>main st</td>\n",
       "      <td>NaN</td>\n",
       "    </tr>\n",
       "    <tr>\n",
       "      <th>2</th>\n",
       "      <td>999 999 999</td>\n",
       "      <td>1234 west main heights 57033</td>\n",
       "      <td>NaN</td>\n",
       "    </tr>\n",
       "    <tr>\n",
       "      <th>3</th>\n",
       "      <td>004085616</td>\n",
       "      <td>apt 1 789 s maple rd manhattan</td>\n",
       "      <td>NaN</td>\n",
       "    </tr>\n",
       "    <tr>\n",
       "      <th>4</th>\n",
       "      <td>002 724 334</td>\n",
       "      <td>robie house, 789 north main street</td>\n",
       "      <td>NaN</td>\n",
       "    </tr>\n",
       "    <tr>\n",
       "      <th>5</th>\n",
       "      <td>hello</td>\n",
       "      <td>1111 S Figueroa St, Los Angeles, CA 90015</td>\n",
       "      <td>NaN</td>\n",
       "    </tr>\n",
       "    <tr>\n",
       "      <th>6</th>\n",
       "      <td>NaN</td>\n",
       "      <td>(staples center) 1111 S Figueroa St, Los Angeles</td>\n",
       "      <td>NaN</td>\n",
       "    </tr>\n",
       "    <tr>\n",
       "      <th>7</th>\n",
       "      <td>NULL</td>\n",
       "      <td>hello</td>\n",
       "      <td>NaN</td>\n",
       "    </tr>\n",
       "  </tbody>\n",
       "</table>\n",
       "</div>"
      ],
      "text/plain": [
       "                          iban  \\\n",
       "0  ES771234-1234-16 1234567890   \n",
       "1   R1601101050000010547023795   \n",
       "2                  999 999 999   \n",
       "3                    004085616   \n",
       "4                  002 724 334   \n",
       "5                        hello   \n",
       "6                          NaN   \n",
       "7                         NULL   \n",
       "\n",
       "                                            address            iban_clean  \n",
       "0                                     123 Pine Ave.  12341234161234567890  \n",
       "1                                           main st                   NaN  \n",
       "2                      1234 west main heights 57033                   NaN  \n",
       "3                    apt 1 789 s maple rd manhattan                   NaN  \n",
       "4                robie house, 789 north main street                   NaN  \n",
       "5         1111 S Figueroa St, Los Angeles, CA 90015                   NaN  \n",
       "6  (staples center) 1111 S Figueroa St, Los Angeles                   NaN  \n",
       "7                                             hello                   NaN  "
      ]
     },
     "execution_count": 1,
     "metadata": {},
     "output_type": "execute_result"
    }
   ],
   "source": [
    "clean_es_iban(df, column = \"iban\", output_format=\"ccc\")"
   ]
  },
  {
   "cell_type": "markdown",
   "id": "desirable-source",
   "metadata": {},
   "source": [
    "## 3. `inplace` parameter\n",
    "\n",
    "This deletes the given column from the returned DataFrame. \n",
    "A new column containing cleaned IBAN strings is added with a title in the format `\"{original title}_clean\"`."
   ]
  },
  {
   "cell_type": "code",
   "execution_count": 6,
   "id": "proper-router",
   "metadata": {
    "execution": {
     "iopub.execute_input": "2021-10-26T23:00:22.342587Z",
     "iopub.status.busy": "2021-10-26T23:00:22.337287Z",
     "iopub.status.idle": "2021-10-26T23:00:22.349667Z",
     "shell.execute_reply": "2021-10-26T23:00:22.349083Z"
    }
   },
   "outputs": [
    {
     "data": {
      "text/html": [
       "<div>\n",
       "<style scoped>\n",
       "    .dataframe tbody tr th:only-of-type {\n",
       "        vertical-align: middle;\n",
       "    }\n",
       "\n",
       "    .dataframe tbody tr th {\n",
       "        vertical-align: top;\n",
       "    }\n",
       "\n",
       "    .dataframe thead th {\n",
       "        text-align: right;\n",
       "    }\n",
       "</style>\n",
       "<table border=\"1\" class=\"dataframe\">\n",
       "  <thead>\n",
       "    <tr style=\"text-align: right;\">\n",
       "      <th></th>\n",
       "      <th>iban_clean</th>\n",
       "      <th>address</th>\n",
       "    </tr>\n",
       "  </thead>\n",
       "  <tbody>\n",
       "    <tr>\n",
       "      <th>0</th>\n",
       "      <td>ES77 1234 1234 1612 3456 7890</td>\n",
       "      <td>123 Pine Ave.</td>\n",
       "    </tr>\n",
       "    <tr>\n",
       "      <th>1</th>\n",
       "      <td>NaN</td>\n",
       "      <td>main st</td>\n",
       "    </tr>\n",
       "    <tr>\n",
       "      <th>2</th>\n",
       "      <td>NaN</td>\n",
       "      <td>1234 west main heights 57033</td>\n",
       "    </tr>\n",
       "    <tr>\n",
       "      <th>3</th>\n",
       "      <td>NaN</td>\n",
       "      <td>apt 1 789 s maple rd manhattan</td>\n",
       "    </tr>\n",
       "    <tr>\n",
       "      <th>4</th>\n",
       "      <td>NaN</td>\n",
       "      <td>robie house, 789 north main street</td>\n",
       "    </tr>\n",
       "    <tr>\n",
       "      <th>5</th>\n",
       "      <td>NaN</td>\n",
       "      <td>1111 S Figueroa St, Los Angeles, CA 90015</td>\n",
       "    </tr>\n",
       "    <tr>\n",
       "      <th>6</th>\n",
       "      <td>NaN</td>\n",
       "      <td>(staples center) 1111 S Figueroa St, Los Angeles</td>\n",
       "    </tr>\n",
       "    <tr>\n",
       "      <th>7</th>\n",
       "      <td>NaN</td>\n",
       "      <td>hello</td>\n",
       "    </tr>\n",
       "  </tbody>\n",
       "</table>\n",
       "</div>"
      ],
      "text/plain": [
       "                      iban_clean  \\\n",
       "0  ES77 1234 1234 1612 3456 7890   \n",
       "1                            NaN   \n",
       "2                            NaN   \n",
       "3                            NaN   \n",
       "4                            NaN   \n",
       "5                            NaN   \n",
       "6                            NaN   \n",
       "7                            NaN   \n",
       "\n",
       "                                            address  \n",
       "0                                     123 Pine Ave.  \n",
       "1                                           main st  \n",
       "2                      1234 west main heights 57033  \n",
       "3                    apt 1 789 s maple rd manhattan  \n",
       "4                robie house, 789 north main street  \n",
       "5         1111 S Figueroa St, Los Angeles, CA 90015  \n",
       "6  (staples center) 1111 S Figueroa St, Los Angeles  \n",
       "7                                             hello  "
      ]
     },
     "execution_count": 1,
     "metadata": {},
     "output_type": "execute_result"
    }
   ],
   "source": [
    "clean_es_iban(df, column=\"iban\", inplace=True)"
   ]
  },
  {
   "cell_type": "markdown",
   "id": "outside-ethernet",
   "metadata": {},
   "source": [
    "## 4. `errors` parameter"
   ]
  },
  {
   "cell_type": "markdown",
   "id": "asian-steel",
   "metadata": {},
   "source": [
    "### `coerce` (default)"
   ]
  },
  {
   "cell_type": "code",
   "execution_count": 7,
   "id": "criminal-advertising",
   "metadata": {
    "execution": {
     "iopub.execute_input": "2021-10-26T23:00:22.368725Z",
     "iopub.status.busy": "2021-10-26T23:00:22.368286Z",
     "iopub.status.idle": "2021-10-26T23:00:22.376681Z",
     "shell.execute_reply": "2021-10-26T23:00:22.376295Z"
    }
   },
   "outputs": [
    {
     "data": {
      "text/html": [
       "<div>\n",
       "<style scoped>\n",
       "    .dataframe tbody tr th:only-of-type {\n",
       "        vertical-align: middle;\n",
       "    }\n",
       "\n",
       "    .dataframe tbody tr th {\n",
       "        vertical-align: top;\n",
       "    }\n",
       "\n",
       "    .dataframe thead th {\n",
       "        text-align: right;\n",
       "    }\n",
       "</style>\n",
       "<table border=\"1\" class=\"dataframe\">\n",
       "  <thead>\n",
       "    <tr style=\"text-align: right;\">\n",
       "      <th></th>\n",
       "      <th>iban</th>\n",
       "      <th>address</th>\n",
       "      <th>iban_clean</th>\n",
       "    </tr>\n",
       "  </thead>\n",
       "  <tbody>\n",
       "    <tr>\n",
       "      <th>0</th>\n",
       "      <td>ES771234-1234-16 1234567890</td>\n",
       "      <td>123 Pine Ave.</td>\n",
       "      <td>ES77 1234 1234 1612 3456 7890</td>\n",
       "    </tr>\n",
       "    <tr>\n",
       "      <th>1</th>\n",
       "      <td>R1601101050000010547023795</td>\n",
       "      <td>main st</td>\n",
       "      <td>NaN</td>\n",
       "    </tr>\n",
       "    <tr>\n",
       "      <th>2</th>\n",
       "      <td>999 999 999</td>\n",
       "      <td>1234 west main heights 57033</td>\n",
       "      <td>NaN</td>\n",
       "    </tr>\n",
       "    <tr>\n",
       "      <th>3</th>\n",
       "      <td>004085616</td>\n",
       "      <td>apt 1 789 s maple rd manhattan</td>\n",
       "      <td>NaN</td>\n",
       "    </tr>\n",
       "    <tr>\n",
       "      <th>4</th>\n",
       "      <td>002 724 334</td>\n",
       "      <td>robie house, 789 north main street</td>\n",
       "      <td>NaN</td>\n",
       "    </tr>\n",
       "    <tr>\n",
       "      <th>5</th>\n",
       "      <td>hello</td>\n",
       "      <td>1111 S Figueroa St, Los Angeles, CA 90015</td>\n",
       "      <td>NaN</td>\n",
       "    </tr>\n",
       "    <tr>\n",
       "      <th>6</th>\n",
       "      <td>NaN</td>\n",
       "      <td>(staples center) 1111 S Figueroa St, Los Angeles</td>\n",
       "      <td>NaN</td>\n",
       "    </tr>\n",
       "    <tr>\n",
       "      <th>7</th>\n",
       "      <td>NULL</td>\n",
       "      <td>hello</td>\n",
       "      <td>NaN</td>\n",
       "    </tr>\n",
       "  </tbody>\n",
       "</table>\n",
       "</div>"
      ],
      "text/plain": [
       "                          iban  \\\n",
       "0  ES771234-1234-16 1234567890   \n",
       "1   R1601101050000010547023795   \n",
       "2                  999 999 999   \n",
       "3                    004085616   \n",
       "4                  002 724 334   \n",
       "5                        hello   \n",
       "6                          NaN   \n",
       "7                         NULL   \n",
       "\n",
       "                                            address  \\\n",
       "0                                     123 Pine Ave.   \n",
       "1                                           main st   \n",
       "2                      1234 west main heights 57033   \n",
       "3                    apt 1 789 s maple rd manhattan   \n",
       "4                robie house, 789 north main street   \n",
       "5         1111 S Figueroa St, Los Angeles, CA 90015   \n",
       "6  (staples center) 1111 S Figueroa St, Los Angeles   \n",
       "7                                             hello   \n",
       "\n",
       "                      iban_clean  \n",
       "0  ES77 1234 1234 1612 3456 7890  \n",
       "1                            NaN  \n",
       "2                            NaN  \n",
       "3                            NaN  \n",
       "4                            NaN  \n",
       "5                            NaN  \n",
       "6                            NaN  \n",
       "7                            NaN  "
      ]
     },
     "execution_count": 1,
     "metadata": {},
     "output_type": "execute_result"
    }
   ],
   "source": [
    "clean_es_iban(df, \"iban\", errors=\"coerce\")"
   ]
  },
  {
   "cell_type": "markdown",
   "id": "molecular-congo",
   "metadata": {},
   "source": [
    "### `ignore`"
   ]
  },
  {
   "cell_type": "code",
   "execution_count": 8,
   "id": "recent-present",
   "metadata": {
    "execution": {
     "iopub.execute_input": "2021-10-26T23:00:22.392140Z",
     "iopub.status.busy": "2021-10-26T23:00:22.391713Z",
     "iopub.status.idle": "2021-10-26T23:00:22.403762Z",
     "shell.execute_reply": "2021-10-26T23:00:22.403367Z"
    }
   },
   "outputs": [
    {
     "data": {
      "text/html": [
       "<div>\n",
       "<style scoped>\n",
       "    .dataframe tbody tr th:only-of-type {\n",
       "        vertical-align: middle;\n",
       "    }\n",
       "\n",
       "    .dataframe tbody tr th {\n",
       "        vertical-align: top;\n",
       "    }\n",
       "\n",
       "    .dataframe thead th {\n",
       "        text-align: right;\n",
       "    }\n",
       "</style>\n",
       "<table border=\"1\" class=\"dataframe\">\n",
       "  <thead>\n",
       "    <tr style=\"text-align: right;\">\n",
       "      <th></th>\n",
       "      <th>iban</th>\n",
       "      <th>address</th>\n",
       "      <th>iban_clean</th>\n",
       "    </tr>\n",
       "  </thead>\n",
       "  <tbody>\n",
       "    <tr>\n",
       "      <th>0</th>\n",
       "      <td>ES771234-1234-16 1234567890</td>\n",
       "      <td>123 Pine Ave.</td>\n",
       "      <td>ES77 1234 1234 1612 3456 7890</td>\n",
       "    </tr>\n",
       "    <tr>\n",
       "      <th>1</th>\n",
       "      <td>R1601101050000010547023795</td>\n",
       "      <td>main st</td>\n",
       "      <td>R1601101050000010547023795</td>\n",
       "    </tr>\n",
       "    <tr>\n",
       "      <th>2</th>\n",
       "      <td>999 999 999</td>\n",
       "      <td>1234 west main heights 57033</td>\n",
       "      <td>999 999 999</td>\n",
       "    </tr>\n",
       "    <tr>\n",
       "      <th>3</th>\n",
       "      <td>004085616</td>\n",
       "      <td>apt 1 789 s maple rd manhattan</td>\n",
       "      <td>004085616</td>\n",
       "    </tr>\n",
       "    <tr>\n",
       "      <th>4</th>\n",
       "      <td>002 724 334</td>\n",
       "      <td>robie house, 789 north main street</td>\n",
       "      <td>002 724 334</td>\n",
       "    </tr>\n",
       "    <tr>\n",
       "      <th>5</th>\n",
       "      <td>hello</td>\n",
       "      <td>1111 S Figueroa St, Los Angeles, CA 90015</td>\n",
       "      <td>hello</td>\n",
       "    </tr>\n",
       "    <tr>\n",
       "      <th>6</th>\n",
       "      <td>NaN</td>\n",
       "      <td>(staples center) 1111 S Figueroa St, Los Angeles</td>\n",
       "      <td>NaN</td>\n",
       "    </tr>\n",
       "    <tr>\n",
       "      <th>7</th>\n",
       "      <td>NULL</td>\n",
       "      <td>hello</td>\n",
       "      <td>NaN</td>\n",
       "    </tr>\n",
       "  </tbody>\n",
       "</table>\n",
       "</div>"
      ],
      "text/plain": [
       "                          iban  \\\n",
       "0  ES771234-1234-16 1234567890   \n",
       "1   R1601101050000010547023795   \n",
       "2                  999 999 999   \n",
       "3                    004085616   \n",
       "4                  002 724 334   \n",
       "5                        hello   \n",
       "6                          NaN   \n",
       "7                         NULL   \n",
       "\n",
       "                                            address  \\\n",
       "0                                     123 Pine Ave.   \n",
       "1                                           main st   \n",
       "2                      1234 west main heights 57033   \n",
       "3                    apt 1 789 s maple rd manhattan   \n",
       "4                robie house, 789 north main street   \n",
       "5         1111 S Figueroa St, Los Angeles, CA 90015   \n",
       "6  (staples center) 1111 S Figueroa St, Los Angeles   \n",
       "7                                             hello   \n",
       "\n",
       "                      iban_clean  \n",
       "0  ES77 1234 1234 1612 3456 7890  \n",
       "1     R1601101050000010547023795  \n",
       "2                    999 999 999  \n",
       "3                      004085616  \n",
       "4                    002 724 334  \n",
       "5                          hello  \n",
       "6                            NaN  \n",
       "7                            NaN  "
      ]
     },
     "execution_count": 1,
     "metadata": {},
     "output_type": "execute_result"
    }
   ],
   "source": [
    "clean_es_iban(df, \"iban\", errors=\"ignore\")"
   ]
  },
  {
   "cell_type": "markdown",
   "id": "mobile-resolution",
   "metadata": {},
   "source": [
    "## 4. `validate_es_iban()`"
   ]
  },
  {
   "cell_type": "markdown",
   "id": "solved-blogger",
   "metadata": {},
   "source": [
    "`validate_es_iban()` returns `True` when the input is a valid IBAN. Otherwise it returns `False`.\n",
    "\n",
    "The input of `validate_es_iban()` can be a string, a Pandas DataSeries, a Dask DataSeries, a Pandas DataFrame and a dask DataFrame.\n",
    "\n",
    "When the input is a string, a Pandas DataSeries or a Dask DataSeries, user doesn't need to specify a column name to be validated. \n",
    "\n",
    "When the input is a Pandas DataFrame or a dask DataFrame, user can both specify or not specify a column name to be validated. If user specify the column name, `validate_es_iban()` only returns the validation result for the specified column. If user doesn't specify the column name, `validate_es_iban()` returns the validation result for the whole DataFrame."
   ]
  },
  {
   "cell_type": "code",
   "execution_count": 9,
   "id": "approximate-liberia",
   "metadata": {
    "execution": {
     "iopub.execute_input": "2021-10-26T23:00:22.409826Z",
     "iopub.status.busy": "2021-10-26T23:00:22.407788Z",
     "iopub.status.idle": "2021-10-26T23:00:22.412969Z",
     "shell.execute_reply": "2021-10-26T23:00:22.412376Z"
    }
   },
   "outputs": [
    {
     "name": "stdout",
     "output_type": "stream",
     "text": [
      "True\n",
      "False\n",
      "False\n",
      "False\n",
      "False\n",
      "False\n",
      "False\n",
      "False\n"
     ]
    }
   ],
   "source": [
    "from dataprep.clean import validate_es_iban\n",
    "print(validate_es_iban(\"ES771234-1234-16 1234567890\"))\n",
    "print(validate_es_iban(\"R1601101050000010547023795\"))\n",
    "print(validate_es_iban(\"999 999 999\"))\n",
    "print(validate_es_iban(\"51824753556\"))\n",
    "print(validate_es_iban(\"004085616\"))\n",
    "print(validate_es_iban(\"hello\"))\n",
    "print(validate_es_iban(np.nan))\n",
    "print(validate_es_iban(\"NULL\"))"
   ]
  },
  {
   "cell_type": "markdown",
   "id": "informal-climb",
   "metadata": {},
   "source": [
    "### Series"
   ]
  },
  {
   "cell_type": "code",
   "execution_count": 10,
   "id": "allied-appliance",
   "metadata": {
    "execution": {
     "iopub.execute_input": "2021-10-26T23:00:22.417408Z",
     "iopub.status.busy": "2021-10-26T23:00:22.416978Z",
     "iopub.status.idle": "2021-10-26T23:00:22.421259Z",
     "shell.execute_reply": "2021-10-26T23:00:22.420683Z"
    }
   },
   "outputs": [
    {
     "data": {
      "text/plain": [
       "0     True\n",
       "1    False\n",
       "2    False\n",
       "3    False\n",
       "4    False\n",
       "5    False\n",
       "6    False\n",
       "7    False\n",
       "Name: iban, dtype: bool"
      ]
     },
     "execution_count": 1,
     "metadata": {},
     "output_type": "execute_result"
    }
   ],
   "source": [
    "validate_es_iban(df[\"iban\"])"
   ]
  },
  {
   "cell_type": "markdown",
   "id": "local-ridge",
   "metadata": {},
   "source": [
    "### DataFrame + Specify Column"
   ]
  },
  {
   "cell_type": "code",
   "execution_count": 11,
   "id": "competitive-angel",
   "metadata": {
    "execution": {
     "iopub.execute_input": "2021-10-26T23:00:22.425536Z",
     "iopub.status.busy": "2021-10-26T23:00:22.425113Z",
     "iopub.status.idle": "2021-10-26T23:00:22.429284Z",
     "shell.execute_reply": "2021-10-26T23:00:22.428885Z"
    }
   },
   "outputs": [
    {
     "data": {
      "text/plain": [
       "0     True\n",
       "1    False\n",
       "2    False\n",
       "3    False\n",
       "4    False\n",
       "5    False\n",
       "6    False\n",
       "7    False\n",
       "Name: iban, dtype: bool"
      ]
     },
     "execution_count": 1,
     "metadata": {},
     "output_type": "execute_result"
    }
   ],
   "source": [
    "validate_es_iban(df, column=\"iban\")"
   ]
  },
  {
   "cell_type": "markdown",
   "id": "registered-heaven",
   "metadata": {},
   "source": [
    "### Only DataFrame"
   ]
  },
  {
   "cell_type": "code",
   "execution_count": 12,
   "id": "thousand-aaron",
   "metadata": {
    "execution": {
     "iopub.execute_input": "2021-10-26T23:00:22.432407Z",
     "iopub.status.busy": "2021-10-26T23:00:22.431987Z",
     "iopub.status.idle": "2021-10-26T23:00:22.441125Z",
     "shell.execute_reply": "2021-10-26T23:00:22.440747Z"
    },
    "scrolled": true
   },
   "outputs": [
    {
     "data": {
      "text/html": [
       "<div>\n",
       "<style scoped>\n",
       "    .dataframe tbody tr th:only-of-type {\n",
       "        vertical-align: middle;\n",
       "    }\n",
       "\n",
       "    .dataframe tbody tr th {\n",
       "        vertical-align: top;\n",
       "    }\n",
       "\n",
       "    .dataframe thead th {\n",
       "        text-align: right;\n",
       "    }\n",
       "</style>\n",
       "<table border=\"1\" class=\"dataframe\">\n",
       "  <thead>\n",
       "    <tr style=\"text-align: right;\">\n",
       "      <th></th>\n",
       "      <th>iban</th>\n",
       "      <th>address</th>\n",
       "    </tr>\n",
       "  </thead>\n",
       "  <tbody>\n",
       "    <tr>\n",
       "      <th>0</th>\n",
       "      <td>True</td>\n",
       "      <td>False</td>\n",
       "    </tr>\n",
       "    <tr>\n",
       "      <th>1</th>\n",
       "      <td>False</td>\n",
       "      <td>False</td>\n",
       "    </tr>\n",
       "    <tr>\n",
       "      <th>2</th>\n",
       "      <td>False</td>\n",
       "      <td>False</td>\n",
       "    </tr>\n",
       "    <tr>\n",
       "      <th>3</th>\n",
       "      <td>False</td>\n",
       "      <td>False</td>\n",
       "    </tr>\n",
       "    <tr>\n",
       "      <th>4</th>\n",
       "      <td>False</td>\n",
       "      <td>False</td>\n",
       "    </tr>\n",
       "    <tr>\n",
       "      <th>5</th>\n",
       "      <td>False</td>\n",
       "      <td>False</td>\n",
       "    </tr>\n",
       "    <tr>\n",
       "      <th>6</th>\n",
       "      <td>False</td>\n",
       "      <td>False</td>\n",
       "    </tr>\n",
       "    <tr>\n",
       "      <th>7</th>\n",
       "      <td>False</td>\n",
       "      <td>False</td>\n",
       "    </tr>\n",
       "  </tbody>\n",
       "</table>\n",
       "</div>"
      ],
      "text/plain": [
       "    iban  address\n",
       "0   True    False\n",
       "1  False    False\n",
       "2  False    False\n",
       "3  False    False\n",
       "4  False    False\n",
       "5  False    False\n",
       "6  False    False\n",
       "7  False    False"
      ]
     },
     "execution_count": 1,
     "metadata": {},
     "output_type": "execute_result"
    }
   ],
   "source": [
    "validate_es_iban(df)"
   ]
  },
  {
   "cell_type": "code",
   "execution_count": null,
   "id": "fatty-insight",
   "metadata": {},
   "outputs": [],
   "source": []
  }
 ],
 "metadata": {
  "kernelspec": {
   "display_name": "Python 3",
   "language": "python",
   "name": "python3"
  },
  "language_info": {
   "codemirror_mode": {
    "name": "ipython",
    "version": 3
   },
   "file_extension": ".py",
   "mimetype": "text/x-python",
   "name": "python",
   "nbconvert_exporter": "python",
   "pygments_lexer": "ipython3",
   "version": "3.8.10"
  }
 },
 "nbformat": 4,
 "nbformat_minor": 5
}
