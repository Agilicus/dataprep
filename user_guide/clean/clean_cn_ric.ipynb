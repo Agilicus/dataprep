{
 "cells": [
  {
   "cell_type": "markdown",
   "id": "focal-polls",
   "metadata": {},
   "source": [
    "# Chinese Resident Identity Card Numbers"
   ]
  },
  {
   "cell_type": "markdown",
   "id": "complete-giving",
   "metadata": {},
   "source": [
    "## Introduction"
   ]
  },
  {
   "cell_type": "markdown",
   "id": "bottom-equity",
   "metadata": {},
   "source": [
    "The function `clean_cn_ric()` cleans a column containing Chinese Resident Identity Card Number (RIC) strings, and standardizes them in a given format. The function `validate_cn_ric()` validates either a single RIC strings, a column of RIC strings or a DataFrame of RIC strings, returning `True` if the value is valid, and `False` otherwise."
   ]
  },
  {
   "cell_type": "markdown",
   "id": "lucky-croatia",
   "metadata": {},
   "source": [
    "RIC strings can be converted to the following formats via the `output_format` parameter:\n",
    "\n",
    "* `compact`: only number strings without any seperators or whitespace, like \"360426199101010071\"\n",
    "* `standard`: RIC strings with proper whitespace in the proper places. Note that in the case of RIC, the compact format is the same as the standard one\n",
    "* `birthdate`: split the date parts from the number and return the birth date\n",
    "* `birthplace`: use the number to look up the place of birth of the person\n",
    "\n",
    "Invalid parsing is handled with the `errors` parameter:\n",
    "\n",
    "* `coerce` (default): invalid parsing will be set to NaN\n",
    "* `ignore`: invalid parsing will return the input\n",
    "* `raise`: invalid parsing will raise an exception\n",
    "\n",
    "The following sections demonstrate the functionality of `clean_cn_ric()` and `validate_cn_ric()`. "
   ]
  },
  {
   "cell_type": "markdown",
   "id": "brown-grant",
   "metadata": {},
   "source": [
    "### An example dataset containing RIC strings"
   ]
  },
  {
   "cell_type": "code",
   "execution_count": 1,
   "id": "charged-honduras",
   "metadata": {
    "execution": {
     "iopub.execute_input": "2021-11-04T02:09:54.751302Z",
     "iopub.status.busy": "2021-11-04T02:09:54.750839Z",
     "iopub.status.idle": "2021-11-04T02:09:54.970302Z",
     "shell.execute_reply": "2021-11-04T02:09:54.969880Z"
    }
   },
   "outputs": [
    {
     "data": {
      "text/html": [
       "<div>\n",
       "<style scoped>\n",
       "    .dataframe tbody tr th:only-of-type {\n",
       "        vertical-align: middle;\n",
       "    }\n",
       "\n",
       "    .dataframe tbody tr th {\n",
       "        vertical-align: top;\n",
       "    }\n",
       "\n",
       "    .dataframe thead th {\n",
       "        text-align: right;\n",
       "    }\n",
       "</style>\n",
       "<table border=\"1\" class=\"dataframe\">\n",
       "  <thead>\n",
       "    <tr style=\"text-align: right;\">\n",
       "      <th></th>\n",
       "      <th>ric</th>\n",
       "      <th>address</th>\n",
       "    </tr>\n",
       "  </thead>\n",
       "  <tbody>\n",
       "    <tr>\n",
       "      <th>0</th>\n",
       "      <td>360426199101010071</td>\n",
       "      <td>123 Pine Ave.</td>\n",
       "    </tr>\n",
       "    <tr>\n",
       "      <th>1</th>\n",
       "      <td>230306196304054513</td>\n",
       "      <td>main st</td>\n",
       "    </tr>\n",
       "    <tr>\n",
       "      <th>2</th>\n",
       "      <td>230307196304054513</td>\n",
       "      <td>1234 west main heights 57033</td>\n",
       "    </tr>\n",
       "    <tr>\n",
       "      <th>3</th>\n",
       "      <td>110223790813697</td>\n",
       "      <td>apt 1 789 s maple rd manhattan</td>\n",
       "    </tr>\n",
       "    <tr>\n",
       "      <th>4</th>\n",
       "      <td>hello</td>\n",
       "      <td>robie house, 789 north main street</td>\n",
       "    </tr>\n",
       "    <tr>\n",
       "      <th>5</th>\n",
       "      <td>NaN</td>\n",
       "      <td>(staples center) 1111 S Figueroa St, Los Angeles</td>\n",
       "    </tr>\n",
       "    <tr>\n",
       "      <th>6</th>\n",
       "      <td>NULL</td>\n",
       "      <td>hello</td>\n",
       "    </tr>\n",
       "  </tbody>\n",
       "</table>\n",
       "</div>"
      ],
      "text/plain": [
       "                  ric                                           address\n",
       "0  360426199101010071                                     123 Pine Ave.\n",
       "1  230306196304054513                                           main st\n",
       "2  230307196304054513                      1234 west main heights 57033\n",
       "3     110223790813697                    apt 1 789 s maple rd manhattan\n",
       "4               hello                robie house, 789 north main street\n",
       "5                 NaN  (staples center) 1111 S Figueroa St, Los Angeles\n",
       "6                NULL                                             hello"
      ]
     },
     "execution_count": 1,
     "metadata": {},
     "output_type": "execute_result"
    }
   ],
   "source": [
    "import pandas as pd\n",
    "import numpy as np\n",
    "df = pd.DataFrame(\n",
    "    {\n",
    "        \"ric\": [\n",
    "            '360426199101010071',\n",
    "            '230306196304054513',\n",
    "            '230307196304054513', # invalid\n",
    "            '110223790813697', # not a RIC\n",
    "            \"hello\",\n",
    "            np.nan,\n",
    "            \"NULL\"\n",
    "        ], \n",
    "        \"address\": [\n",
    "            \"123 Pine Ave.\",\n",
    "            \"main st\",\n",
    "            \"1234 west main heights 57033\",\n",
    "            \"apt 1 789 s maple rd manhattan\",\n",
    "            \"robie house, 789 north main street\",\n",
    "            \"(staples center) 1111 S Figueroa St, Los Angeles\",\n",
    "            \"hello\",\n",
    "        ]\n",
    "    }\n",
    ")\n",
    "df"
   ]
  },
  {
   "cell_type": "markdown",
   "id": "acute-biography",
   "metadata": {},
   "source": [
    "## 1. Default `clean_cn_ric`\n",
    "\n",
    "By default, `clean_cn_ric` will clean ric strings and output them in the standard format with proper separators."
   ]
  },
  {
   "cell_type": "code",
   "execution_count": 2,
   "id": "curious-documentary",
   "metadata": {
    "execution": {
     "iopub.execute_input": "2021-11-04T02:09:54.973953Z",
     "iopub.status.busy": "2021-11-04T02:09:54.973170Z",
     "iopub.status.idle": "2021-11-04T02:09:55.537752Z",
     "shell.execute_reply": "2021-11-04T02:09:55.537325Z"
    }
   },
   "outputs": [
    {
     "data": {
      "text/html": [
       "<div>\n",
       "<style scoped>\n",
       "    .dataframe tbody tr th:only-of-type {\n",
       "        vertical-align: middle;\n",
       "    }\n",
       "\n",
       "    .dataframe tbody tr th {\n",
       "        vertical-align: top;\n",
       "    }\n",
       "\n",
       "    .dataframe thead th {\n",
       "        text-align: right;\n",
       "    }\n",
       "</style>\n",
       "<table border=\"1\" class=\"dataframe\">\n",
       "  <thead>\n",
       "    <tr style=\"text-align: right;\">\n",
       "      <th></th>\n",
       "      <th>ric</th>\n",
       "      <th>address</th>\n",
       "      <th>ric_clean</th>\n",
       "    </tr>\n",
       "  </thead>\n",
       "  <tbody>\n",
       "    <tr>\n",
       "      <th>0</th>\n",
       "      <td>360426199101010071</td>\n",
       "      <td>123 Pine Ave.</td>\n",
       "      <td>360426199101010071</td>\n",
       "    </tr>\n",
       "    <tr>\n",
       "      <th>1</th>\n",
       "      <td>230306196304054513</td>\n",
       "      <td>main st</td>\n",
       "      <td>230306196304054513</td>\n",
       "    </tr>\n",
       "    <tr>\n",
       "      <th>2</th>\n",
       "      <td>230307196304054513</td>\n",
       "      <td>1234 west main heights 57033</td>\n",
       "      <td>NaN</td>\n",
       "    </tr>\n",
       "    <tr>\n",
       "      <th>3</th>\n",
       "      <td>110223790813697</td>\n",
       "      <td>apt 1 789 s maple rd manhattan</td>\n",
       "      <td>NaN</td>\n",
       "    </tr>\n",
       "    <tr>\n",
       "      <th>4</th>\n",
       "      <td>hello</td>\n",
       "      <td>robie house, 789 north main street</td>\n",
       "      <td>NaN</td>\n",
       "    </tr>\n",
       "    <tr>\n",
       "      <th>5</th>\n",
       "      <td>NaN</td>\n",
       "      <td>(staples center) 1111 S Figueroa St, Los Angeles</td>\n",
       "      <td>NaN</td>\n",
       "    </tr>\n",
       "    <tr>\n",
       "      <th>6</th>\n",
       "      <td>NULL</td>\n",
       "      <td>hello</td>\n",
       "      <td>NaN</td>\n",
       "    </tr>\n",
       "  </tbody>\n",
       "</table>\n",
       "</div>"
      ],
      "text/plain": [
       "                  ric                                           address  \\\n",
       "0  360426199101010071                                     123 Pine Ave.   \n",
       "1  230306196304054513                                           main st   \n",
       "2  230307196304054513                      1234 west main heights 57033   \n",
       "3     110223790813697                    apt 1 789 s maple rd manhattan   \n",
       "4               hello                robie house, 789 north main street   \n",
       "5                 NaN  (staples center) 1111 S Figueroa St, Los Angeles   \n",
       "6                NULL                                             hello   \n",
       "\n",
       "            ric_clean  \n",
       "0  360426199101010071  \n",
       "1  230306196304054513  \n",
       "2                 NaN  \n",
       "3                 NaN  \n",
       "4                 NaN  \n",
       "5                 NaN  \n",
       "6                 NaN  "
      ]
     },
     "execution_count": 1,
     "metadata": {},
     "output_type": "execute_result"
    }
   ],
   "source": [
    "from dataprep.clean import clean_cn_ric\n",
    "clean_cn_ric(df, column = \"ric\")"
   ]
  },
  {
   "cell_type": "markdown",
   "id": "administrative-state",
   "metadata": {},
   "source": [
    "## 2. Output formats"
   ]
  },
  {
   "cell_type": "markdown",
   "id": "african-taylor",
   "metadata": {},
   "source": [
    "This section demonstrates the output parameter."
   ]
  },
  {
   "cell_type": "markdown",
   "id": "atomic-zambia",
   "metadata": {},
   "source": [
    "### `standard` (default)"
   ]
  },
  {
   "cell_type": "code",
   "execution_count": 3,
   "id": "spatial-contemporary",
   "metadata": {
    "execution": {
     "iopub.execute_input": "2021-11-04T02:09:55.560062Z",
     "iopub.status.busy": "2021-11-04T02:09:55.559576Z",
     "iopub.status.idle": "2021-11-04T02:09:55.568205Z",
     "shell.execute_reply": "2021-11-04T02:09:55.567822Z"
    }
   },
   "outputs": [
    {
     "data": {
      "text/html": [
       "<div>\n",
       "<style scoped>\n",
       "    .dataframe tbody tr th:only-of-type {\n",
       "        vertical-align: middle;\n",
       "    }\n",
       "\n",
       "    .dataframe tbody tr th {\n",
       "        vertical-align: top;\n",
       "    }\n",
       "\n",
       "    .dataframe thead th {\n",
       "        text-align: right;\n",
       "    }\n",
       "</style>\n",
       "<table border=\"1\" class=\"dataframe\">\n",
       "  <thead>\n",
       "    <tr style=\"text-align: right;\">\n",
       "      <th></th>\n",
       "      <th>ric</th>\n",
       "      <th>address</th>\n",
       "      <th>ric_clean</th>\n",
       "    </tr>\n",
       "  </thead>\n",
       "  <tbody>\n",
       "    <tr>\n",
       "      <th>0</th>\n",
       "      <td>360426199101010071</td>\n",
       "      <td>123 Pine Ave.</td>\n",
       "      <td>360426199101010071</td>\n",
       "    </tr>\n",
       "    <tr>\n",
       "      <th>1</th>\n",
       "      <td>230306196304054513</td>\n",
       "      <td>main st</td>\n",
       "      <td>230306196304054513</td>\n",
       "    </tr>\n",
       "    <tr>\n",
       "      <th>2</th>\n",
       "      <td>230307196304054513</td>\n",
       "      <td>1234 west main heights 57033</td>\n",
       "      <td>NaN</td>\n",
       "    </tr>\n",
       "    <tr>\n",
       "      <th>3</th>\n",
       "      <td>110223790813697</td>\n",
       "      <td>apt 1 789 s maple rd manhattan</td>\n",
       "      <td>NaN</td>\n",
       "    </tr>\n",
       "    <tr>\n",
       "      <th>4</th>\n",
       "      <td>hello</td>\n",
       "      <td>robie house, 789 north main street</td>\n",
       "      <td>NaN</td>\n",
       "    </tr>\n",
       "    <tr>\n",
       "      <th>5</th>\n",
       "      <td>NaN</td>\n",
       "      <td>(staples center) 1111 S Figueroa St, Los Angeles</td>\n",
       "      <td>NaN</td>\n",
       "    </tr>\n",
       "    <tr>\n",
       "      <th>6</th>\n",
       "      <td>NULL</td>\n",
       "      <td>hello</td>\n",
       "      <td>NaN</td>\n",
       "    </tr>\n",
       "  </tbody>\n",
       "</table>\n",
       "</div>"
      ],
      "text/plain": [
       "                  ric                                           address  \\\n",
       "0  360426199101010071                                     123 Pine Ave.   \n",
       "1  230306196304054513                                           main st   \n",
       "2  230307196304054513                      1234 west main heights 57033   \n",
       "3     110223790813697                    apt 1 789 s maple rd manhattan   \n",
       "4               hello                robie house, 789 north main street   \n",
       "5                 NaN  (staples center) 1111 S Figueroa St, Los Angeles   \n",
       "6                NULL                                             hello   \n",
       "\n",
       "            ric_clean  \n",
       "0  360426199101010071  \n",
       "1  230306196304054513  \n",
       "2                 NaN  \n",
       "3                 NaN  \n",
       "4                 NaN  \n",
       "5                 NaN  \n",
       "6                 NaN  "
      ]
     },
     "execution_count": 1,
     "metadata": {},
     "output_type": "execute_result"
    }
   ],
   "source": [
    "clean_cn_ric(df, column = \"ric\", output_format=\"standard\")"
   ]
  },
  {
   "cell_type": "markdown",
   "id": "developed-pacific",
   "metadata": {},
   "source": [
    "### `compact`"
   ]
  },
  {
   "cell_type": "code",
   "execution_count": 4,
   "id": "different-milan",
   "metadata": {
    "execution": {
     "iopub.execute_input": "2021-11-04T02:09:55.594059Z",
     "iopub.status.busy": "2021-11-04T02:09:55.588831Z",
     "iopub.status.idle": "2021-11-04T02:09:55.602096Z",
     "shell.execute_reply": "2021-11-04T02:09:55.602439Z"
    }
   },
   "outputs": [
    {
     "data": {
      "text/html": [
       "<div>\n",
       "<style scoped>\n",
       "    .dataframe tbody tr th:only-of-type {\n",
       "        vertical-align: middle;\n",
       "    }\n",
       "\n",
       "    .dataframe tbody tr th {\n",
       "        vertical-align: top;\n",
       "    }\n",
       "\n",
       "    .dataframe thead th {\n",
       "        text-align: right;\n",
       "    }\n",
       "</style>\n",
       "<table border=\"1\" class=\"dataframe\">\n",
       "  <thead>\n",
       "    <tr style=\"text-align: right;\">\n",
       "      <th></th>\n",
       "      <th>ric</th>\n",
       "      <th>address</th>\n",
       "      <th>ric_clean</th>\n",
       "    </tr>\n",
       "  </thead>\n",
       "  <tbody>\n",
       "    <tr>\n",
       "      <th>0</th>\n",
       "      <td>360426199101010071</td>\n",
       "      <td>123 Pine Ave.</td>\n",
       "      <td>360426199101010071</td>\n",
       "    </tr>\n",
       "    <tr>\n",
       "      <th>1</th>\n",
       "      <td>230306196304054513</td>\n",
       "      <td>main st</td>\n",
       "      <td>230306196304054513</td>\n",
       "    </tr>\n",
       "    <tr>\n",
       "      <th>2</th>\n",
       "      <td>230307196304054513</td>\n",
       "      <td>1234 west main heights 57033</td>\n",
       "      <td>NaN</td>\n",
       "    </tr>\n",
       "    <tr>\n",
       "      <th>3</th>\n",
       "      <td>110223790813697</td>\n",
       "      <td>apt 1 789 s maple rd manhattan</td>\n",
       "      <td>NaN</td>\n",
       "    </tr>\n",
       "    <tr>\n",
       "      <th>4</th>\n",
       "      <td>hello</td>\n",
       "      <td>robie house, 789 north main street</td>\n",
       "      <td>NaN</td>\n",
       "    </tr>\n",
       "    <tr>\n",
       "      <th>5</th>\n",
       "      <td>NaN</td>\n",
       "      <td>(staples center) 1111 S Figueroa St, Los Angeles</td>\n",
       "      <td>NaN</td>\n",
       "    </tr>\n",
       "    <tr>\n",
       "      <th>6</th>\n",
       "      <td>NULL</td>\n",
       "      <td>hello</td>\n",
       "      <td>NaN</td>\n",
       "    </tr>\n",
       "  </tbody>\n",
       "</table>\n",
       "</div>"
      ],
      "text/plain": [
       "                  ric                                           address  \\\n",
       "0  360426199101010071                                     123 Pine Ave.   \n",
       "1  230306196304054513                                           main st   \n",
       "2  230307196304054513                      1234 west main heights 57033   \n",
       "3     110223790813697                    apt 1 789 s maple rd manhattan   \n",
       "4               hello                robie house, 789 north main street   \n",
       "5                 NaN  (staples center) 1111 S Figueroa St, Los Angeles   \n",
       "6                NULL                                             hello   \n",
       "\n",
       "            ric_clean  \n",
       "0  360426199101010071  \n",
       "1  230306196304054513  \n",
       "2                 NaN  \n",
       "3                 NaN  \n",
       "4                 NaN  \n",
       "5                 NaN  \n",
       "6                 NaN  "
      ]
     },
     "execution_count": 1,
     "metadata": {},
     "output_type": "execute_result"
    }
   ],
   "source": [
    "clean_cn_ric(df, column = \"ric\", output_format=\"compact\")"
   ]
  },
  {
   "cell_type": "markdown",
   "id": "editorial-offer",
   "metadata": {},
   "source": [
    "### `birthdate`"
   ]
  },
  {
   "cell_type": "code",
   "execution_count": 5,
   "id": "illegal-omega",
   "metadata": {
    "execution": {
     "iopub.execute_input": "2021-11-04T02:09:55.621202Z",
     "iopub.status.busy": "2021-11-04T02:09:55.618462Z",
     "iopub.status.idle": "2021-11-04T02:09:55.630761Z",
     "shell.execute_reply": "2021-11-04T02:09:55.631104Z"
    }
   },
   "outputs": [
    {
     "data": {
      "text/html": [
       "<div>\n",
       "<style scoped>\n",
       "    .dataframe tbody tr th:only-of-type {\n",
       "        vertical-align: middle;\n",
       "    }\n",
       "\n",
       "    .dataframe tbody tr th {\n",
       "        vertical-align: top;\n",
       "    }\n",
       "\n",
       "    .dataframe thead th {\n",
       "        text-align: right;\n",
       "    }\n",
       "</style>\n",
       "<table border=\"1\" class=\"dataframe\">\n",
       "  <thead>\n",
       "    <tr style=\"text-align: right;\">\n",
       "      <th></th>\n",
       "      <th>ric</th>\n",
       "      <th>address</th>\n",
       "      <th>ric_clean</th>\n",
       "    </tr>\n",
       "  </thead>\n",
       "  <tbody>\n",
       "    <tr>\n",
       "      <th>0</th>\n",
       "      <td>360426199101010071</td>\n",
       "      <td>123 Pine Ave.</td>\n",
       "      <td>1991-01-01</td>\n",
       "    </tr>\n",
       "    <tr>\n",
       "      <th>1</th>\n",
       "      <td>230306196304054513</td>\n",
       "      <td>main st</td>\n",
       "      <td>1963-04-05</td>\n",
       "    </tr>\n",
       "    <tr>\n",
       "      <th>2</th>\n",
       "      <td>230307196304054513</td>\n",
       "      <td>1234 west main heights 57033</td>\n",
       "      <td>NaN</td>\n",
       "    </tr>\n",
       "    <tr>\n",
       "      <th>3</th>\n",
       "      <td>110223790813697</td>\n",
       "      <td>apt 1 789 s maple rd manhattan</td>\n",
       "      <td>NaN</td>\n",
       "    </tr>\n",
       "    <tr>\n",
       "      <th>4</th>\n",
       "      <td>hello</td>\n",
       "      <td>robie house, 789 north main street</td>\n",
       "      <td>NaN</td>\n",
       "    </tr>\n",
       "    <tr>\n",
       "      <th>5</th>\n",
       "      <td>NaN</td>\n",
       "      <td>(staples center) 1111 S Figueroa St, Los Angeles</td>\n",
       "      <td>NaN</td>\n",
       "    </tr>\n",
       "    <tr>\n",
       "      <th>6</th>\n",
       "      <td>NULL</td>\n",
       "      <td>hello</td>\n",
       "      <td>NaN</td>\n",
       "    </tr>\n",
       "  </tbody>\n",
       "</table>\n",
       "</div>"
      ],
      "text/plain": [
       "                  ric                                           address  \\\n",
       "0  360426199101010071                                     123 Pine Ave.   \n",
       "1  230306196304054513                                           main st   \n",
       "2  230307196304054513                      1234 west main heights 57033   \n",
       "3     110223790813697                    apt 1 789 s maple rd manhattan   \n",
       "4               hello                robie house, 789 north main street   \n",
       "5                 NaN  (staples center) 1111 S Figueroa St, Los Angeles   \n",
       "6                NULL                                             hello   \n",
       "\n",
       "    ric_clean  \n",
       "0  1991-01-01  \n",
       "1  1963-04-05  \n",
       "2         NaN  \n",
       "3         NaN  \n",
       "4         NaN  \n",
       "5         NaN  \n",
       "6         NaN  "
      ]
     },
     "execution_count": 1,
     "metadata": {},
     "output_type": "execute_result"
    }
   ],
   "source": [
    "clean_cn_ric(df, column = \"ric\", output_format=\"birthdate\")"
   ]
  },
  {
   "cell_type": "markdown",
   "id": "general-density",
   "metadata": {},
   "source": [
    "### `birthplace`"
   ]
  },
  {
   "cell_type": "code",
   "execution_count": 6,
   "id": "legitimate-innocent",
   "metadata": {
    "execution": {
     "iopub.execute_input": "2021-11-04T02:09:55.651172Z",
     "iopub.status.busy": "2021-11-04T02:09:55.646828Z",
     "iopub.status.idle": "2021-11-04T02:09:55.662670Z",
     "shell.execute_reply": "2021-11-04T02:09:55.662057Z"
    }
   },
   "outputs": [
    {
     "data": {
      "text/html": [
       "<div>\n",
       "<style scoped>\n",
       "    .dataframe tbody tr th:only-of-type {\n",
       "        vertical-align: middle;\n",
       "    }\n",
       "\n",
       "    .dataframe tbody tr th {\n",
       "        vertical-align: top;\n",
       "    }\n",
       "\n",
       "    .dataframe thead th {\n",
       "        text-align: right;\n",
       "    }\n",
       "</style>\n",
       "<table border=\"1\" class=\"dataframe\">\n",
       "  <thead>\n",
       "    <tr style=\"text-align: right;\">\n",
       "      <th></th>\n",
       "      <th>ric</th>\n",
       "      <th>address</th>\n",
       "      <th>ric_clean</th>\n",
       "    </tr>\n",
       "  </thead>\n",
       "  <tbody>\n",
       "    <tr>\n",
       "      <th>0</th>\n",
       "      <td>360426199101010071</td>\n",
       "      <td>123 Pine Ave.</td>\n",
       "      <td>{'county': '德安县', 'prefecture': '九江市', 'provin...</td>\n",
       "    </tr>\n",
       "    <tr>\n",
       "      <th>1</th>\n",
       "      <td>230306196304054513</td>\n",
       "      <td>main st</td>\n",
       "      <td>{'county': '城子河区', 'prefecture': '鸡西市', 'provi...</td>\n",
       "    </tr>\n",
       "    <tr>\n",
       "      <th>2</th>\n",
       "      <td>230307196304054513</td>\n",
       "      <td>1234 west main heights 57033</td>\n",
       "      <td>NaN</td>\n",
       "    </tr>\n",
       "    <tr>\n",
       "      <th>3</th>\n",
       "      <td>110223790813697</td>\n",
       "      <td>apt 1 789 s maple rd manhattan</td>\n",
       "      <td>NaN</td>\n",
       "    </tr>\n",
       "    <tr>\n",
       "      <th>4</th>\n",
       "      <td>hello</td>\n",
       "      <td>robie house, 789 north main street</td>\n",
       "      <td>NaN</td>\n",
       "    </tr>\n",
       "    <tr>\n",
       "      <th>5</th>\n",
       "      <td>NaN</td>\n",
       "      <td>(staples center) 1111 S Figueroa St, Los Angeles</td>\n",
       "      <td>NaN</td>\n",
       "    </tr>\n",
       "    <tr>\n",
       "      <th>6</th>\n",
       "      <td>NULL</td>\n",
       "      <td>hello</td>\n",
       "      <td>NaN</td>\n",
       "    </tr>\n",
       "  </tbody>\n",
       "</table>\n",
       "</div>"
      ],
      "text/plain": [
       "                  ric                                           address  \\\n",
       "0  360426199101010071                                     123 Pine Ave.   \n",
       "1  230306196304054513                                           main st   \n",
       "2  230307196304054513                      1234 west main heights 57033   \n",
       "3     110223790813697                    apt 1 789 s maple rd manhattan   \n",
       "4               hello                robie house, 789 north main street   \n",
       "5                 NaN  (staples center) 1111 S Figueroa St, Los Angeles   \n",
       "6                NULL                                             hello   \n",
       "\n",
       "                                           ric_clean  \n",
       "0  {'county': '德安县', 'prefecture': '九江市', 'provin...  \n",
       "1  {'county': '城子河区', 'prefecture': '鸡西市', 'provi...  \n",
       "2                                                NaN  \n",
       "3                                                NaN  \n",
       "4                                                NaN  \n",
       "5                                                NaN  \n",
       "6                                                NaN  "
      ]
     },
     "execution_count": 1,
     "metadata": {},
     "output_type": "execute_result"
    }
   ],
   "source": [
    "clean_cn_ric(df, column = \"ric\", output_format=\"birthplace\")"
   ]
  },
  {
   "cell_type": "markdown",
   "id": "prompt-companion",
   "metadata": {},
   "source": [
    "## 3. `inplace` parameter\n",
    "\n",
    "This deletes the given column from the returned DataFrame. \n",
    "A new column containing cleaned RIC strings is added with a title in the format `\"{original title}_clean\"`."
   ]
  },
  {
   "cell_type": "code",
   "execution_count": 7,
   "id": "motivated-pilot",
   "metadata": {
    "execution": {
     "iopub.execute_input": "2021-11-04T02:09:55.691925Z",
     "iopub.status.busy": "2021-11-04T02:09:55.689536Z",
     "iopub.status.idle": "2021-11-04T02:09:55.698973Z",
     "shell.execute_reply": "2021-11-04T02:09:55.698583Z"
    }
   },
   "outputs": [
    {
     "data": {
      "text/html": [
       "<div>\n",
       "<style scoped>\n",
       "    .dataframe tbody tr th:only-of-type {\n",
       "        vertical-align: middle;\n",
       "    }\n",
       "\n",
       "    .dataframe tbody tr th {\n",
       "        vertical-align: top;\n",
       "    }\n",
       "\n",
       "    .dataframe thead th {\n",
       "        text-align: right;\n",
       "    }\n",
       "</style>\n",
       "<table border=\"1\" class=\"dataframe\">\n",
       "  <thead>\n",
       "    <tr style=\"text-align: right;\">\n",
       "      <th></th>\n",
       "      <th>ric_clean</th>\n",
       "      <th>address</th>\n",
       "    </tr>\n",
       "  </thead>\n",
       "  <tbody>\n",
       "    <tr>\n",
       "      <th>0</th>\n",
       "      <td>360426199101010071</td>\n",
       "      <td>123 Pine Ave.</td>\n",
       "    </tr>\n",
       "    <tr>\n",
       "      <th>1</th>\n",
       "      <td>230306196304054513</td>\n",
       "      <td>main st</td>\n",
       "    </tr>\n",
       "    <tr>\n",
       "      <th>2</th>\n",
       "      <td>NaN</td>\n",
       "      <td>1234 west main heights 57033</td>\n",
       "    </tr>\n",
       "    <tr>\n",
       "      <th>3</th>\n",
       "      <td>NaN</td>\n",
       "      <td>apt 1 789 s maple rd manhattan</td>\n",
       "    </tr>\n",
       "    <tr>\n",
       "      <th>4</th>\n",
       "      <td>NaN</td>\n",
       "      <td>robie house, 789 north main street</td>\n",
       "    </tr>\n",
       "    <tr>\n",
       "      <th>5</th>\n",
       "      <td>NaN</td>\n",
       "      <td>(staples center) 1111 S Figueroa St, Los Angeles</td>\n",
       "    </tr>\n",
       "    <tr>\n",
       "      <th>6</th>\n",
       "      <td>NaN</td>\n",
       "      <td>hello</td>\n",
       "    </tr>\n",
       "  </tbody>\n",
       "</table>\n",
       "</div>"
      ],
      "text/plain": [
       "            ric_clean                                           address\n",
       "0  360426199101010071                                     123 Pine Ave.\n",
       "1  230306196304054513                                           main st\n",
       "2                 NaN                      1234 west main heights 57033\n",
       "3                 NaN                    apt 1 789 s maple rd manhattan\n",
       "4                 NaN                robie house, 789 north main street\n",
       "5                 NaN  (staples center) 1111 S Figueroa St, Los Angeles\n",
       "6                 NaN                                             hello"
      ]
     },
     "execution_count": 1,
     "metadata": {},
     "output_type": "execute_result"
    }
   ],
   "source": [
    "clean_cn_ric(df, column=\"ric\", inplace=True)"
   ]
  },
  {
   "cell_type": "markdown",
   "id": "concrete-customer",
   "metadata": {},
   "source": [
    "## 4. `errors` parameter"
   ]
  },
  {
   "cell_type": "markdown",
   "id": "international-treatment",
   "metadata": {},
   "source": [
    "### `coerce` (default)"
   ]
  },
  {
   "cell_type": "code",
   "execution_count": 8,
   "id": "federal-house",
   "metadata": {
    "execution": {
     "iopub.execute_input": "2021-11-04T02:09:55.719700Z",
     "iopub.status.busy": "2021-11-04T02:09:55.718841Z",
     "iopub.status.idle": "2021-11-04T02:09:55.727245Z",
     "shell.execute_reply": "2021-11-04T02:09:55.726862Z"
    }
   },
   "outputs": [
    {
     "data": {
      "text/html": [
       "<div>\n",
       "<style scoped>\n",
       "    .dataframe tbody tr th:only-of-type {\n",
       "        vertical-align: middle;\n",
       "    }\n",
       "\n",
       "    .dataframe tbody tr th {\n",
       "        vertical-align: top;\n",
       "    }\n",
       "\n",
       "    .dataframe thead th {\n",
       "        text-align: right;\n",
       "    }\n",
       "</style>\n",
       "<table border=\"1\" class=\"dataframe\">\n",
       "  <thead>\n",
       "    <tr style=\"text-align: right;\">\n",
       "      <th></th>\n",
       "      <th>ric</th>\n",
       "      <th>address</th>\n",
       "      <th>ric_clean</th>\n",
       "    </tr>\n",
       "  </thead>\n",
       "  <tbody>\n",
       "    <tr>\n",
       "      <th>0</th>\n",
       "      <td>360426199101010071</td>\n",
       "      <td>123 Pine Ave.</td>\n",
       "      <td>360426199101010071</td>\n",
       "    </tr>\n",
       "    <tr>\n",
       "      <th>1</th>\n",
       "      <td>230306196304054513</td>\n",
       "      <td>main st</td>\n",
       "      <td>230306196304054513</td>\n",
       "    </tr>\n",
       "    <tr>\n",
       "      <th>2</th>\n",
       "      <td>230307196304054513</td>\n",
       "      <td>1234 west main heights 57033</td>\n",
       "      <td>NaN</td>\n",
       "    </tr>\n",
       "    <tr>\n",
       "      <th>3</th>\n",
       "      <td>110223790813697</td>\n",
       "      <td>apt 1 789 s maple rd manhattan</td>\n",
       "      <td>NaN</td>\n",
       "    </tr>\n",
       "    <tr>\n",
       "      <th>4</th>\n",
       "      <td>hello</td>\n",
       "      <td>robie house, 789 north main street</td>\n",
       "      <td>NaN</td>\n",
       "    </tr>\n",
       "    <tr>\n",
       "      <th>5</th>\n",
       "      <td>NaN</td>\n",
       "      <td>(staples center) 1111 S Figueroa St, Los Angeles</td>\n",
       "      <td>NaN</td>\n",
       "    </tr>\n",
       "    <tr>\n",
       "      <th>6</th>\n",
       "      <td>NULL</td>\n",
       "      <td>hello</td>\n",
       "      <td>NaN</td>\n",
       "    </tr>\n",
       "  </tbody>\n",
       "</table>\n",
       "</div>"
      ],
      "text/plain": [
       "                  ric                                           address  \\\n",
       "0  360426199101010071                                     123 Pine Ave.   \n",
       "1  230306196304054513                                           main st   \n",
       "2  230307196304054513                      1234 west main heights 57033   \n",
       "3     110223790813697                    apt 1 789 s maple rd manhattan   \n",
       "4               hello                robie house, 789 north main street   \n",
       "5                 NaN  (staples center) 1111 S Figueroa St, Los Angeles   \n",
       "6                NULL                                             hello   \n",
       "\n",
       "            ric_clean  \n",
       "0  360426199101010071  \n",
       "1  230306196304054513  \n",
       "2                 NaN  \n",
       "3                 NaN  \n",
       "4                 NaN  \n",
       "5                 NaN  \n",
       "6                 NaN  "
      ]
     },
     "execution_count": 1,
     "metadata": {},
     "output_type": "execute_result"
    }
   ],
   "source": [
    "clean_cn_ric(df, \"ric\", errors=\"coerce\")"
   ]
  },
  {
   "cell_type": "markdown",
   "id": "designing-consequence",
   "metadata": {},
   "source": [
    "### `ignore`"
   ]
  },
  {
   "cell_type": "code",
   "execution_count": 9,
   "id": "mounted-preparation",
   "metadata": {
    "execution": {
     "iopub.execute_input": "2021-11-04T02:09:55.753598Z",
     "iopub.status.busy": "2021-11-04T02:09:55.748522Z",
     "iopub.status.idle": "2021-11-04T02:09:55.757822Z",
     "shell.execute_reply": "2021-11-04T02:09:55.757415Z"
    }
   },
   "outputs": [
    {
     "data": {
      "text/html": [
       "<div>\n",
       "<style scoped>\n",
       "    .dataframe tbody tr th:only-of-type {\n",
       "        vertical-align: middle;\n",
       "    }\n",
       "\n",
       "    .dataframe tbody tr th {\n",
       "        vertical-align: top;\n",
       "    }\n",
       "\n",
       "    .dataframe thead th {\n",
       "        text-align: right;\n",
       "    }\n",
       "</style>\n",
       "<table border=\"1\" class=\"dataframe\">\n",
       "  <thead>\n",
       "    <tr style=\"text-align: right;\">\n",
       "      <th></th>\n",
       "      <th>ric</th>\n",
       "      <th>address</th>\n",
       "      <th>ric_clean</th>\n",
       "    </tr>\n",
       "  </thead>\n",
       "  <tbody>\n",
       "    <tr>\n",
       "      <th>0</th>\n",
       "      <td>360426199101010071</td>\n",
       "      <td>123 Pine Ave.</td>\n",
       "      <td>360426199101010071</td>\n",
       "    </tr>\n",
       "    <tr>\n",
       "      <th>1</th>\n",
       "      <td>230306196304054513</td>\n",
       "      <td>main st</td>\n",
       "      <td>230306196304054513</td>\n",
       "    </tr>\n",
       "    <tr>\n",
       "      <th>2</th>\n",
       "      <td>230307196304054513</td>\n",
       "      <td>1234 west main heights 57033</td>\n",
       "      <td>230307196304054513</td>\n",
       "    </tr>\n",
       "    <tr>\n",
       "      <th>3</th>\n",
       "      <td>110223790813697</td>\n",
       "      <td>apt 1 789 s maple rd manhattan</td>\n",
       "      <td>110223790813697</td>\n",
       "    </tr>\n",
       "    <tr>\n",
       "      <th>4</th>\n",
       "      <td>hello</td>\n",
       "      <td>robie house, 789 north main street</td>\n",
       "      <td>hello</td>\n",
       "    </tr>\n",
       "    <tr>\n",
       "      <th>5</th>\n",
       "      <td>NaN</td>\n",
       "      <td>(staples center) 1111 S Figueroa St, Los Angeles</td>\n",
       "      <td>NaN</td>\n",
       "    </tr>\n",
       "    <tr>\n",
       "      <th>6</th>\n",
       "      <td>NULL</td>\n",
       "      <td>hello</td>\n",
       "      <td>NaN</td>\n",
       "    </tr>\n",
       "  </tbody>\n",
       "</table>\n",
       "</div>"
      ],
      "text/plain": [
       "                  ric                                           address  \\\n",
       "0  360426199101010071                                     123 Pine Ave.   \n",
       "1  230306196304054513                                           main st   \n",
       "2  230307196304054513                      1234 west main heights 57033   \n",
       "3     110223790813697                    apt 1 789 s maple rd manhattan   \n",
       "4               hello                robie house, 789 north main street   \n",
       "5                 NaN  (staples center) 1111 S Figueroa St, Los Angeles   \n",
       "6                NULL                                             hello   \n",
       "\n",
       "            ric_clean  \n",
       "0  360426199101010071  \n",
       "1  230306196304054513  \n",
       "2  230307196304054513  \n",
       "3     110223790813697  \n",
       "4               hello  \n",
       "5                 NaN  \n",
       "6                 NaN  "
      ]
     },
     "execution_count": 1,
     "metadata": {},
     "output_type": "execute_result"
    }
   ],
   "source": [
    "clean_cn_ric(df, \"ric\", errors=\"ignore\")"
   ]
  },
  {
   "cell_type": "markdown",
   "id": "strategic-shock",
   "metadata": {},
   "source": [
    "## 4. `validate_cn_ric()`"
   ]
  },
  {
   "cell_type": "markdown",
   "id": "athletic-straight",
   "metadata": {},
   "source": [
    "`validate_cn_ric()` returns `True` when the input is a valid RIC. Otherwise it returns `False`.\n",
    "\n",
    "The input of `validate_cn_ric()` can be a string, a Pandas DataSeries, a Dask DataSeries, a Pandas DataFrame and a dask DataFrame.\n",
    "\n",
    "When the input is a string, a Pandas DataSeries or a Dask DataSeries, user doesn't need to specify a column name to be validated. \n",
    "\n",
    "When the input is a Pandas DataFrame or a dask DataFrame, user can both specify or not specify a column name to be validated. If user specify the column name, `validate_cn_ric()` only returns the validation result for the specified column. If user doesn't specify the column name, `validate_cn_ric()` returns the validation result for the whole DataFrame."
   ]
  },
  {
   "cell_type": "code",
   "execution_count": 10,
   "id": "sealed-speaking",
   "metadata": {
    "execution": {
     "iopub.execute_input": "2021-11-04T02:09:55.763815Z",
     "iopub.status.busy": "2021-11-04T02:09:55.762871Z",
     "iopub.status.idle": "2021-11-04T02:09:55.767386Z",
     "shell.execute_reply": "2021-11-04T02:09:55.766989Z"
    }
   },
   "outputs": [
    {
     "name": "stdout",
     "output_type": "stream",
     "text": [
      "True\n",
      "False\n",
      "True\n",
      "False\n",
      "False\n",
      "False\n",
      "False\n"
     ]
    }
   ],
   "source": [
    "from dataprep.clean import validate_cn_ric\n",
    "print(validate_cn_ric(\"230306196304054513\"))\n",
    "print(validate_cn_ric(\"1234567\"))\n",
    "print(validate_cn_ric(\"360426199101010071\"))\n",
    "print(validate_cn_ric(\"360436199101010071\")) # change a bit and become invalid\n",
    "print(validate_cn_ric(\"hello\"))\n",
    "print(validate_cn_ric(np.nan))\n",
    "print(validate_cn_ric(\"NULL\"))"
   ]
  },
  {
   "cell_type": "markdown",
   "id": "former-whale",
   "metadata": {},
   "source": [
    "### Series"
   ]
  },
  {
   "cell_type": "code",
   "execution_count": 11,
   "id": "secret-abortion",
   "metadata": {
    "execution": {
     "iopub.execute_input": "2021-11-04T02:09:55.772799Z",
     "iopub.status.busy": "2021-11-04T02:09:55.772351Z",
     "iopub.status.idle": "2021-11-04T02:09:55.776471Z",
     "shell.execute_reply": "2021-11-04T02:09:55.776088Z"
    }
   },
   "outputs": [
    {
     "data": {
      "text/plain": [
       "0     True\n",
       "1     True\n",
       "2    False\n",
       "3    False\n",
       "4    False\n",
       "5    False\n",
       "6    False\n",
       "Name: ric, dtype: bool"
      ]
     },
     "execution_count": 1,
     "metadata": {},
     "output_type": "execute_result"
    }
   ],
   "source": [
    "validate_cn_ric(df[\"ric\"])"
   ]
  },
  {
   "cell_type": "markdown",
   "id": "civilian-schedule",
   "metadata": {},
   "source": [
    "### DataFrame + Specify Column"
   ]
  },
  {
   "cell_type": "code",
   "execution_count": 12,
   "id": "freelance-offering",
   "metadata": {
    "execution": {
     "iopub.execute_input": "2021-11-04T02:09:55.782340Z",
     "iopub.status.busy": "2021-11-04T02:09:55.781909Z",
     "iopub.status.idle": "2021-11-04T02:09:55.786128Z",
     "shell.execute_reply": "2021-11-04T02:09:55.785736Z"
    }
   },
   "outputs": [
    {
     "data": {
      "text/plain": [
       "0     True\n",
       "1     True\n",
       "2    False\n",
       "3    False\n",
       "4    False\n",
       "5    False\n",
       "6    False\n",
       "Name: ric, dtype: bool"
      ]
     },
     "execution_count": 1,
     "metadata": {},
     "output_type": "execute_result"
    }
   ],
   "source": [
    "validate_cn_ric(df, column=\"ric\")"
   ]
  },
  {
   "cell_type": "markdown",
   "id": "reflected-stomach",
   "metadata": {},
   "source": [
    "### Only DataFrame"
   ]
  },
  {
   "cell_type": "code",
   "execution_count": 13,
   "id": "alternate-library",
   "metadata": {
    "execution": {
     "iopub.execute_input": "2021-11-04T02:09:55.789367Z",
     "iopub.status.busy": "2021-11-04T02:09:55.788942Z",
     "iopub.status.idle": "2021-11-04T02:09:55.798515Z",
     "shell.execute_reply": "2021-11-04T02:09:55.798133Z"
    }
   },
   "outputs": [
    {
     "data": {
      "text/html": [
       "<div>\n",
       "<style scoped>\n",
       "    .dataframe tbody tr th:only-of-type {\n",
       "        vertical-align: middle;\n",
       "    }\n",
       "\n",
       "    .dataframe tbody tr th {\n",
       "        vertical-align: top;\n",
       "    }\n",
       "\n",
       "    .dataframe thead th {\n",
       "        text-align: right;\n",
       "    }\n",
       "</style>\n",
       "<table border=\"1\" class=\"dataframe\">\n",
       "  <thead>\n",
       "    <tr style=\"text-align: right;\">\n",
       "      <th></th>\n",
       "      <th>ric</th>\n",
       "      <th>address</th>\n",
       "    </tr>\n",
       "  </thead>\n",
       "  <tbody>\n",
       "    <tr>\n",
       "      <th>0</th>\n",
       "      <td>True</td>\n",
       "      <td>False</td>\n",
       "    </tr>\n",
       "    <tr>\n",
       "      <th>1</th>\n",
       "      <td>True</td>\n",
       "      <td>False</td>\n",
       "    </tr>\n",
       "    <tr>\n",
       "      <th>2</th>\n",
       "      <td>False</td>\n",
       "      <td>False</td>\n",
       "    </tr>\n",
       "    <tr>\n",
       "      <th>3</th>\n",
       "      <td>False</td>\n",
       "      <td>False</td>\n",
       "    </tr>\n",
       "    <tr>\n",
       "      <th>4</th>\n",
       "      <td>False</td>\n",
       "      <td>False</td>\n",
       "    </tr>\n",
       "    <tr>\n",
       "      <th>5</th>\n",
       "      <td>False</td>\n",
       "      <td>False</td>\n",
       "    </tr>\n",
       "    <tr>\n",
       "      <th>6</th>\n",
       "      <td>False</td>\n",
       "      <td>False</td>\n",
       "    </tr>\n",
       "  </tbody>\n",
       "</table>\n",
       "</div>"
      ],
      "text/plain": [
       "     ric  address\n",
       "0   True    False\n",
       "1   True    False\n",
       "2  False    False\n",
       "3  False    False\n",
       "4  False    False\n",
       "5  False    False\n",
       "6  False    False"
      ]
     },
     "execution_count": 1,
     "metadata": {},
     "output_type": "execute_result"
    }
   ],
   "source": [
    "validate_cn_ric(df)"
   ]
  },
  {
   "cell_type": "code",
   "execution_count": null,
   "id": "exceptional-institution",
   "metadata": {},
   "outputs": [],
   "source": []
  }
 ],
 "metadata": {
  "kernelspec": {
   "display_name": "Python 3",
   "language": "python",
   "name": "python3"
  },
  "language_info": {
   "codemirror_mode": {
    "name": "ipython",
    "version": 3
   },
   "file_extension": ".py",
   "mimetype": "text/x-python",
   "name": "python",
   "nbconvert_exporter": "python",
   "pygments_lexer": "ipython3",
   "version": "3.8.10"
  }
 },
 "nbformat": 4,
 "nbformat_minor": 5
}
