{
 "cells": [
  {
   "cell_type": "raw",
   "id": "chinese-colleague",
   "metadata": {},
   "source": [
    ".. _siren_userguide:\n",
    "\n",
    "SIREN Strings\n",
    "============"
   ]
  },
  {
   "cell_type": "raw",
   "id": "adequate-spouse",
   "metadata": {},
   "source": [
    "Introduction\n",
    "------------\n",
    "\n",
    "The function :func:`clean_fr_siren() <dataprep.clean.clean_fr_siren.clean_fr_siren>` cleans a column containing French personal identification number (SIREN) strings, and standardizes them in a given format. The function :func:`validate_fr_siren() <dataprep.clean.clean_fr_siren.validate_fr_siren>` validates either a single SIREN strings, a column of SIREN strings or a DataFrame of SIREN strings, returning `True` if the value is valid, and `False` otherwise."
   ]
  },
  {
   "cell_type": "markdown",
   "id": "coordinate-analyst",
   "metadata": {},
   "source": [
    "SIREN strings can be converted to the following formats via the `output_format` parameter:\n",
    "\n",
    "* `compact`: only number strings without any seperators or whitespace, like \"552008443\"\n",
    "* `standard`: SIREN strings with proper whitespace in the proper places. Note that in the case of SIREN, the compact format is the same as the standard one.\n",
    "* `tva`: return a TVA that preposes two extra check digits to the data, like \"19 552 008 443\".\n",
    "\n",
    "Invalid parsing is handled with the `errors` parameter:\n",
    "\n",
    "* `coerce` (default): invalid parsing will be set to NaN\n",
    "* `ignore`: invalid parsing will return the input\n",
    "* `raise`: invalid parsing will raise an exception\n",
    "\n",
    "The following sections demonstrate the functionality of `clean_fr_siren()` and `validate_fr_siren()`. "
   ]
  },
  {
   "cell_type": "markdown",
   "id": "dynamic-copying",
   "metadata": {},
   "source": [
    "### An example dataset containing SIREN strings"
   ]
  },
  {
   "cell_type": "code",
   "execution_count": 1,
   "id": "engaging-constraint",
   "metadata": {
    "execution": {
     "iopub.execute_input": "2021-10-26T23:38:19.685164Z",
     "iopub.status.busy": "2021-10-26T23:38:19.684558Z",
     "iopub.status.idle": "2021-10-26T23:38:20.002898Z",
     "shell.execute_reply": "2021-10-26T23:38:20.002274Z"
    }
   },
   "outputs": [
    {
     "data": {
      "text/html": [
       "<div>\n",
       "<style scoped>\n",
       "    .dataframe tbody tr th:only-of-type {\n",
       "        vertical-align: middle;\n",
       "    }\n",
       "\n",
       "    .dataframe tbody tr th {\n",
       "        vertical-align: top;\n",
       "    }\n",
       "\n",
       "    .dataframe thead th {\n",
       "        text-align: right;\n",
       "    }\n",
       "</style>\n",
       "<table border=\"1\" class=\"dataframe\">\n",
       "  <thead>\n",
       "    <tr style=\"text-align: right;\">\n",
       "      <th></th>\n",
       "      <th>siren</th>\n",
       "      <th>address</th>\n",
       "    </tr>\n",
       "  </thead>\n",
       "  <tbody>\n",
       "    <tr>\n",
       "      <th>0</th>\n",
       "      <td>552 008 443</td>\n",
       "      <td>123 Pine Ave.</td>\n",
       "    </tr>\n",
       "    <tr>\n",
       "      <th>1</th>\n",
       "      <td>404833047</td>\n",
       "      <td>main st</td>\n",
       "    </tr>\n",
       "    <tr>\n",
       "      <th>2</th>\n",
       "      <td>7542011030</td>\n",
       "      <td>1234 west main heights 57033</td>\n",
       "    </tr>\n",
       "    <tr>\n",
       "      <th>3</th>\n",
       "      <td>7552A10004</td>\n",
       "      <td>apt 1 789 s maple rd manhattan</td>\n",
       "    </tr>\n",
       "    <tr>\n",
       "      <th>4</th>\n",
       "      <td>8019010008</td>\n",
       "      <td>robie house, 789 north main street</td>\n",
       "    </tr>\n",
       "    <tr>\n",
       "      <th>5</th>\n",
       "      <td>hello</td>\n",
       "      <td>1111 S Figueroa St, Los Angeles, CA 90015</td>\n",
       "    </tr>\n",
       "    <tr>\n",
       "      <th>6</th>\n",
       "      <td>NaN</td>\n",
       "      <td>(staples center) 1111 S Figueroa St, Los Angeles</td>\n",
       "    </tr>\n",
       "    <tr>\n",
       "      <th>7</th>\n",
       "      <td>NULL</td>\n",
       "      <td>hello</td>\n",
       "    </tr>\n",
       "  </tbody>\n",
       "</table>\n",
       "</div>"
      ],
      "text/plain": [
       "         siren                                           address\n",
       "0  552 008 443                                     123 Pine Ave.\n",
       "1    404833047                                           main st\n",
       "2   7542011030                      1234 west main heights 57033\n",
       "3   7552A10004                    apt 1 789 s maple rd manhattan\n",
       "4   8019010008                robie house, 789 north main street\n",
       "5        hello         1111 S Figueroa St, Los Angeles, CA 90015\n",
       "6          NaN  (staples center) 1111 S Figueroa St, Los Angeles\n",
       "7         NULL                                             hello"
      ]
     },
     "execution_count": 1,
     "metadata": {},
     "output_type": "execute_result"
    }
   ],
   "source": [
    "import pandas as pd\n",
    "import numpy as np\n",
    "df = pd.DataFrame(\n",
    "    {\n",
    "        \"siren\": [\n",
    "            '552 008 443',\n",
    "            '404833047',\n",
    "            '7542011030',\n",
    "            '7552A10004',\n",
    "            '8019010008', \n",
    "            \"hello\",\n",
    "            np.nan,\n",
    "            \"NULL\",\n",
    "        ], \n",
    "        \"address\": [\n",
    "            \"123 Pine Ave.\",\n",
    "            \"main st\",\n",
    "            \"1234 west main heights 57033\",\n",
    "            \"apt 1 789 s maple rd manhattan\",\n",
    "            \"robie house, 789 north main street\",\n",
    "            \"1111 S Figueroa St, Los Angeles, CA 90015\",\n",
    "            \"(staples center) 1111 S Figueroa St, Los Angeles\",\n",
    "            \"hello\",\n",
    "        ]\n",
    "    }\n",
    ")\n",
    "df"
   ]
  },
  {
   "cell_type": "markdown",
   "id": "tested-jason",
   "metadata": {},
   "source": [
    "## 1. Default `clean_fr_siren`\n",
    "\n",
    "By default, `clean_fr_siren` will clean siren strings and output them in the standard format with proper separators."
   ]
  },
  {
   "cell_type": "code",
   "execution_count": 2,
   "id": "spatial-roller",
   "metadata": {
    "execution": {
     "iopub.execute_input": "2021-10-26T23:38:20.008343Z",
     "iopub.status.busy": "2021-10-26T23:38:20.007522Z",
     "iopub.status.idle": "2021-10-26T23:38:20.750630Z",
     "shell.execute_reply": "2021-10-26T23:38:20.750090Z"
    }
   },
   "outputs": [
    {
     "data": {
      "text/html": [
       "<div>\n",
       "<style scoped>\n",
       "    .dataframe tbody tr th:only-of-type {\n",
       "        vertical-align: middle;\n",
       "    }\n",
       "\n",
       "    .dataframe tbody tr th {\n",
       "        vertical-align: top;\n",
       "    }\n",
       "\n",
       "    .dataframe thead th {\n",
       "        text-align: right;\n",
       "    }\n",
       "</style>\n",
       "<table border=\"1\" class=\"dataframe\">\n",
       "  <thead>\n",
       "    <tr style=\"text-align: right;\">\n",
       "      <th></th>\n",
       "      <th>siren</th>\n",
       "      <th>address</th>\n",
       "      <th>siren_clean</th>\n",
       "    </tr>\n",
       "  </thead>\n",
       "  <tbody>\n",
       "    <tr>\n",
       "      <th>0</th>\n",
       "      <td>552 008 443</td>\n",
       "      <td>123 Pine Ave.</td>\n",
       "      <td>552008443</td>\n",
       "    </tr>\n",
       "    <tr>\n",
       "      <th>1</th>\n",
       "      <td>404833047</td>\n",
       "      <td>main st</td>\n",
       "      <td>NaN</td>\n",
       "    </tr>\n",
       "    <tr>\n",
       "      <th>2</th>\n",
       "      <td>7542011030</td>\n",
       "      <td>1234 west main heights 57033</td>\n",
       "      <td>NaN</td>\n",
       "    </tr>\n",
       "    <tr>\n",
       "      <th>3</th>\n",
       "      <td>7552A10004</td>\n",
       "      <td>apt 1 789 s maple rd manhattan</td>\n",
       "      <td>NaN</td>\n",
       "    </tr>\n",
       "    <tr>\n",
       "      <th>4</th>\n",
       "      <td>8019010008</td>\n",
       "      <td>robie house, 789 north main street</td>\n",
       "      <td>NaN</td>\n",
       "    </tr>\n",
       "    <tr>\n",
       "      <th>5</th>\n",
       "      <td>hello</td>\n",
       "      <td>1111 S Figueroa St, Los Angeles, CA 90015</td>\n",
       "      <td>NaN</td>\n",
       "    </tr>\n",
       "    <tr>\n",
       "      <th>6</th>\n",
       "      <td>NaN</td>\n",
       "      <td>(staples center) 1111 S Figueroa St, Los Angeles</td>\n",
       "      <td>NaN</td>\n",
       "    </tr>\n",
       "    <tr>\n",
       "      <th>7</th>\n",
       "      <td>NULL</td>\n",
       "      <td>hello</td>\n",
       "      <td>NaN</td>\n",
       "    </tr>\n",
       "  </tbody>\n",
       "</table>\n",
       "</div>"
      ],
      "text/plain": [
       "         siren                                           address siren_clean\n",
       "0  552 008 443                                     123 Pine Ave.   552008443\n",
       "1    404833047                                           main st         NaN\n",
       "2   7542011030                      1234 west main heights 57033         NaN\n",
       "3   7552A10004                    apt 1 789 s maple rd manhattan         NaN\n",
       "4   8019010008                robie house, 789 north main street         NaN\n",
       "5        hello         1111 S Figueroa St, Los Angeles, CA 90015         NaN\n",
       "6          NaN  (staples center) 1111 S Figueroa St, Los Angeles         NaN\n",
       "7         NULL                                             hello         NaN"
      ]
     },
     "execution_count": 1,
     "metadata": {},
     "output_type": "execute_result"
    }
   ],
   "source": [
    "from dataprep.clean import clean_fr_siren\n",
    "clean_fr_siren(df, column = \"siren\")"
   ]
  },
  {
   "cell_type": "markdown",
   "id": "declared-capacity",
   "metadata": {},
   "source": [
    "## 2. Output formats"
   ]
  },
  {
   "cell_type": "markdown",
   "id": "political-passport",
   "metadata": {},
   "source": [
    "This section demonstrates the output parameter."
   ]
  },
  {
   "cell_type": "markdown",
   "id": "accessory-imperial",
   "metadata": {},
   "source": [
    "### `standard` (default)"
   ]
  },
  {
   "cell_type": "code",
   "execution_count": 3,
   "id": "working-gibraltar",
   "metadata": {
    "execution": {
     "iopub.execute_input": "2021-10-26T23:38:20.788093Z",
     "iopub.status.busy": "2021-10-26T23:38:20.781275Z",
     "iopub.status.idle": "2021-10-26T23:38:20.792146Z",
     "shell.execute_reply": "2021-10-26T23:38:20.791395Z"
    }
   },
   "outputs": [
    {
     "data": {
      "text/html": [
       "<div>\n",
       "<style scoped>\n",
       "    .dataframe tbody tr th:only-of-type {\n",
       "        vertical-align: middle;\n",
       "    }\n",
       "\n",
       "    .dataframe tbody tr th {\n",
       "        vertical-align: top;\n",
       "    }\n",
       "\n",
       "    .dataframe thead th {\n",
       "        text-align: right;\n",
       "    }\n",
       "</style>\n",
       "<table border=\"1\" class=\"dataframe\">\n",
       "  <thead>\n",
       "    <tr style=\"text-align: right;\">\n",
       "      <th></th>\n",
       "      <th>siren</th>\n",
       "      <th>address</th>\n",
       "      <th>siren_clean</th>\n",
       "    </tr>\n",
       "  </thead>\n",
       "  <tbody>\n",
       "    <tr>\n",
       "      <th>0</th>\n",
       "      <td>552 008 443</td>\n",
       "      <td>123 Pine Ave.</td>\n",
       "      <td>552008443</td>\n",
       "    </tr>\n",
       "    <tr>\n",
       "      <th>1</th>\n",
       "      <td>404833047</td>\n",
       "      <td>main st</td>\n",
       "      <td>NaN</td>\n",
       "    </tr>\n",
       "    <tr>\n",
       "      <th>2</th>\n",
       "      <td>7542011030</td>\n",
       "      <td>1234 west main heights 57033</td>\n",
       "      <td>NaN</td>\n",
       "    </tr>\n",
       "    <tr>\n",
       "      <th>3</th>\n",
       "      <td>7552A10004</td>\n",
       "      <td>apt 1 789 s maple rd manhattan</td>\n",
       "      <td>NaN</td>\n",
       "    </tr>\n",
       "    <tr>\n",
       "      <th>4</th>\n",
       "      <td>8019010008</td>\n",
       "      <td>robie house, 789 north main street</td>\n",
       "      <td>NaN</td>\n",
       "    </tr>\n",
       "    <tr>\n",
       "      <th>5</th>\n",
       "      <td>hello</td>\n",
       "      <td>1111 S Figueroa St, Los Angeles, CA 90015</td>\n",
       "      <td>NaN</td>\n",
       "    </tr>\n",
       "    <tr>\n",
       "      <th>6</th>\n",
       "      <td>NaN</td>\n",
       "      <td>(staples center) 1111 S Figueroa St, Los Angeles</td>\n",
       "      <td>NaN</td>\n",
       "    </tr>\n",
       "    <tr>\n",
       "      <th>7</th>\n",
       "      <td>NULL</td>\n",
       "      <td>hello</td>\n",
       "      <td>NaN</td>\n",
       "    </tr>\n",
       "  </tbody>\n",
       "</table>\n",
       "</div>"
      ],
      "text/plain": [
       "         siren                                           address siren_clean\n",
       "0  552 008 443                                     123 Pine Ave.   552008443\n",
       "1    404833047                                           main st         NaN\n",
       "2   7542011030                      1234 west main heights 57033         NaN\n",
       "3   7552A10004                    apt 1 789 s maple rd manhattan         NaN\n",
       "4   8019010008                robie house, 789 north main street         NaN\n",
       "5        hello         1111 S Figueroa St, Los Angeles, CA 90015         NaN\n",
       "6          NaN  (staples center) 1111 S Figueroa St, Los Angeles         NaN\n",
       "7         NULL                                             hello         NaN"
      ]
     },
     "execution_count": 1,
     "metadata": {},
     "output_type": "execute_result"
    }
   ],
   "source": [
    "clean_fr_siren(df, column = \"siren\", output_format=\"standard\")"
   ]
  },
  {
   "cell_type": "markdown",
   "id": "advised-atmosphere",
   "metadata": {},
   "source": [
    "### `compact`"
   ]
  },
  {
   "cell_type": "code",
   "execution_count": 4,
   "id": "primary-procedure",
   "metadata": {
    "execution": {
     "iopub.execute_input": "2021-10-26T23:38:20.827199Z",
     "iopub.status.busy": "2021-10-26T23:38:20.821821Z",
     "iopub.status.idle": "2021-10-26T23:38:20.830455Z",
     "shell.execute_reply": "2021-10-26T23:38:20.831084Z"
    }
   },
   "outputs": [
    {
     "data": {
      "text/html": [
       "<div>\n",
       "<style scoped>\n",
       "    .dataframe tbody tr th:only-of-type {\n",
       "        vertical-align: middle;\n",
       "    }\n",
       "\n",
       "    .dataframe tbody tr th {\n",
       "        vertical-align: top;\n",
       "    }\n",
       "\n",
       "    .dataframe thead th {\n",
       "        text-align: right;\n",
       "    }\n",
       "</style>\n",
       "<table border=\"1\" class=\"dataframe\">\n",
       "  <thead>\n",
       "    <tr style=\"text-align: right;\">\n",
       "      <th></th>\n",
       "      <th>siren</th>\n",
       "      <th>address</th>\n",
       "      <th>siren_clean</th>\n",
       "    </tr>\n",
       "  </thead>\n",
       "  <tbody>\n",
       "    <tr>\n",
       "      <th>0</th>\n",
       "      <td>552 008 443</td>\n",
       "      <td>123 Pine Ave.</td>\n",
       "      <td>552008443</td>\n",
       "    </tr>\n",
       "    <tr>\n",
       "      <th>1</th>\n",
       "      <td>404833047</td>\n",
       "      <td>main st</td>\n",
       "      <td>NaN</td>\n",
       "    </tr>\n",
       "    <tr>\n",
       "      <th>2</th>\n",
       "      <td>7542011030</td>\n",
       "      <td>1234 west main heights 57033</td>\n",
       "      <td>NaN</td>\n",
       "    </tr>\n",
       "    <tr>\n",
       "      <th>3</th>\n",
       "      <td>7552A10004</td>\n",
       "      <td>apt 1 789 s maple rd manhattan</td>\n",
       "      <td>NaN</td>\n",
       "    </tr>\n",
       "    <tr>\n",
       "      <th>4</th>\n",
       "      <td>8019010008</td>\n",
       "      <td>robie house, 789 north main street</td>\n",
       "      <td>NaN</td>\n",
       "    </tr>\n",
       "    <tr>\n",
       "      <th>5</th>\n",
       "      <td>hello</td>\n",
       "      <td>1111 S Figueroa St, Los Angeles, CA 90015</td>\n",
       "      <td>NaN</td>\n",
       "    </tr>\n",
       "    <tr>\n",
       "      <th>6</th>\n",
       "      <td>NaN</td>\n",
       "      <td>(staples center) 1111 S Figueroa St, Los Angeles</td>\n",
       "      <td>NaN</td>\n",
       "    </tr>\n",
       "    <tr>\n",
       "      <th>7</th>\n",
       "      <td>NULL</td>\n",
       "      <td>hello</td>\n",
       "      <td>NaN</td>\n",
       "    </tr>\n",
       "  </tbody>\n",
       "</table>\n",
       "</div>"
      ],
      "text/plain": [
       "         siren                                           address siren_clean\n",
       "0  552 008 443                                     123 Pine Ave.   552008443\n",
       "1    404833047                                           main st         NaN\n",
       "2   7542011030                      1234 west main heights 57033         NaN\n",
       "3   7552A10004                    apt 1 789 s maple rd manhattan         NaN\n",
       "4   8019010008                robie house, 789 north main street         NaN\n",
       "5        hello         1111 S Figueroa St, Los Angeles, CA 90015         NaN\n",
       "6          NaN  (staples center) 1111 S Figueroa St, Los Angeles         NaN\n",
       "7         NULL                                             hello         NaN"
      ]
     },
     "execution_count": 1,
     "metadata": {},
     "output_type": "execute_result"
    }
   ],
   "source": [
    "clean_fr_siren(df, column = \"siren\", output_format=\"compact\")"
   ]
  },
  {
   "cell_type": "markdown",
   "id": "bottom-return",
   "metadata": {},
   "source": [
    "### `tva`"
   ]
  },
  {
   "cell_type": "code",
   "execution_count": 5,
   "id": "developing-michael",
   "metadata": {
    "execution": {
     "iopub.execute_input": "2021-10-26T23:38:20.861944Z",
     "iopub.status.busy": "2021-10-26T23:38:20.860829Z",
     "iopub.status.idle": "2021-10-26T23:38:20.873553Z",
     "shell.execute_reply": "2021-10-26T23:38:20.873032Z"
    }
   },
   "outputs": [
    {
     "data": {
      "text/html": [
       "<div>\n",
       "<style scoped>\n",
       "    .dataframe tbody tr th:only-of-type {\n",
       "        vertical-align: middle;\n",
       "    }\n",
       "\n",
       "    .dataframe tbody tr th {\n",
       "        vertical-align: top;\n",
       "    }\n",
       "\n",
       "    .dataframe thead th {\n",
       "        text-align: right;\n",
       "    }\n",
       "</style>\n",
       "<table border=\"1\" class=\"dataframe\">\n",
       "  <thead>\n",
       "    <tr style=\"text-align: right;\">\n",
       "      <th></th>\n",
       "      <th>siren</th>\n",
       "      <th>address</th>\n",
       "      <th>siren_clean</th>\n",
       "    </tr>\n",
       "  </thead>\n",
       "  <tbody>\n",
       "    <tr>\n",
       "      <th>0</th>\n",
       "      <td>552 008 443</td>\n",
       "      <td>123 Pine Ave.</td>\n",
       "      <td>19 552 008 443</td>\n",
       "    </tr>\n",
       "    <tr>\n",
       "      <th>1</th>\n",
       "      <td>404833047</td>\n",
       "      <td>main st</td>\n",
       "      <td>NaN</td>\n",
       "    </tr>\n",
       "    <tr>\n",
       "      <th>2</th>\n",
       "      <td>7542011030</td>\n",
       "      <td>1234 west main heights 57033</td>\n",
       "      <td>NaN</td>\n",
       "    </tr>\n",
       "    <tr>\n",
       "      <th>3</th>\n",
       "      <td>7552A10004</td>\n",
       "      <td>apt 1 789 s maple rd manhattan</td>\n",
       "      <td>NaN</td>\n",
       "    </tr>\n",
       "    <tr>\n",
       "      <th>4</th>\n",
       "      <td>8019010008</td>\n",
       "      <td>robie house, 789 north main street</td>\n",
       "      <td>NaN</td>\n",
       "    </tr>\n",
       "    <tr>\n",
       "      <th>5</th>\n",
       "      <td>hello</td>\n",
       "      <td>1111 S Figueroa St, Los Angeles, CA 90015</td>\n",
       "      <td>NaN</td>\n",
       "    </tr>\n",
       "    <tr>\n",
       "      <th>6</th>\n",
       "      <td>NaN</td>\n",
       "      <td>(staples center) 1111 S Figueroa St, Los Angeles</td>\n",
       "      <td>NaN</td>\n",
       "    </tr>\n",
       "    <tr>\n",
       "      <th>7</th>\n",
       "      <td>NULL</td>\n",
       "      <td>hello</td>\n",
       "      <td>NaN</td>\n",
       "    </tr>\n",
       "  </tbody>\n",
       "</table>\n",
       "</div>"
      ],
      "text/plain": [
       "         siren                                           address  \\\n",
       "0  552 008 443                                     123 Pine Ave.   \n",
       "1    404833047                                           main st   \n",
       "2   7542011030                      1234 west main heights 57033   \n",
       "3   7552A10004                    apt 1 789 s maple rd manhattan   \n",
       "4   8019010008                robie house, 789 north main street   \n",
       "5        hello         1111 S Figueroa St, Los Angeles, CA 90015   \n",
       "6          NaN  (staples center) 1111 S Figueroa St, Los Angeles   \n",
       "7         NULL                                             hello   \n",
       "\n",
       "      siren_clean  \n",
       "0  19 552 008 443  \n",
       "1             NaN  \n",
       "2             NaN  \n",
       "3             NaN  \n",
       "4             NaN  \n",
       "5             NaN  \n",
       "6             NaN  \n",
       "7             NaN  "
      ]
     },
     "execution_count": 1,
     "metadata": {},
     "output_type": "execute_result"
    }
   ],
   "source": [
    "clean_fr_siren(df, column = \"siren\", output_format=\"tva\")"
   ]
  },
  {
   "cell_type": "markdown",
   "id": "horizontal-blowing",
   "metadata": {},
   "source": [
    "## 3. `inplace` parameter\n",
    "\n",
    "This deletes the given column from the returned DataFrame. \n",
    "A new column containing cleaned SIREN strings is added with a title in the format `\"{original title}_clean\"`."
   ]
  },
  {
   "cell_type": "code",
   "execution_count": 6,
   "id": "auburn-angel",
   "metadata": {
    "execution": {
     "iopub.execute_input": "2021-10-26T23:38:20.930708Z",
     "iopub.status.busy": "2021-10-26T23:38:20.929997Z",
     "iopub.status.idle": "2021-10-26T23:38:20.933140Z",
     "shell.execute_reply": "2021-10-26T23:38:20.932504Z"
    }
   },
   "outputs": [
    {
     "data": {
      "text/html": [
       "<div>\n",
       "<style scoped>\n",
       "    .dataframe tbody tr th:only-of-type {\n",
       "        vertical-align: middle;\n",
       "    }\n",
       "\n",
       "    .dataframe tbody tr th {\n",
       "        vertical-align: top;\n",
       "    }\n",
       "\n",
       "    .dataframe thead th {\n",
       "        text-align: right;\n",
       "    }\n",
       "</style>\n",
       "<table border=\"1\" class=\"dataframe\">\n",
       "  <thead>\n",
       "    <tr style=\"text-align: right;\">\n",
       "      <th></th>\n",
       "      <th>siren_clean</th>\n",
       "      <th>address</th>\n",
       "    </tr>\n",
       "  </thead>\n",
       "  <tbody>\n",
       "    <tr>\n",
       "      <th>0</th>\n",
       "      <td>552008443</td>\n",
       "      <td>123 Pine Ave.</td>\n",
       "    </tr>\n",
       "    <tr>\n",
       "      <th>1</th>\n",
       "      <td>NaN</td>\n",
       "      <td>main st</td>\n",
       "    </tr>\n",
       "    <tr>\n",
       "      <th>2</th>\n",
       "      <td>NaN</td>\n",
       "      <td>1234 west main heights 57033</td>\n",
       "    </tr>\n",
       "    <tr>\n",
       "      <th>3</th>\n",
       "      <td>NaN</td>\n",
       "      <td>apt 1 789 s maple rd manhattan</td>\n",
       "    </tr>\n",
       "    <tr>\n",
       "      <th>4</th>\n",
       "      <td>NaN</td>\n",
       "      <td>robie house, 789 north main street</td>\n",
       "    </tr>\n",
       "    <tr>\n",
       "      <th>5</th>\n",
       "      <td>NaN</td>\n",
       "      <td>1111 S Figueroa St, Los Angeles, CA 90015</td>\n",
       "    </tr>\n",
       "    <tr>\n",
       "      <th>6</th>\n",
       "      <td>NaN</td>\n",
       "      <td>(staples center) 1111 S Figueroa St, Los Angeles</td>\n",
       "    </tr>\n",
       "    <tr>\n",
       "      <th>7</th>\n",
       "      <td>NaN</td>\n",
       "      <td>hello</td>\n",
       "    </tr>\n",
       "  </tbody>\n",
       "</table>\n",
       "</div>"
      ],
      "text/plain": [
       "  siren_clean                                           address\n",
       "0   552008443                                     123 Pine Ave.\n",
       "1         NaN                                           main st\n",
       "2         NaN                      1234 west main heights 57033\n",
       "3         NaN                    apt 1 789 s maple rd manhattan\n",
       "4         NaN                robie house, 789 north main street\n",
       "5         NaN         1111 S Figueroa St, Los Angeles, CA 90015\n",
       "6         NaN  (staples center) 1111 S Figueroa St, Los Angeles\n",
       "7         NaN                                             hello"
      ]
     },
     "execution_count": 1,
     "metadata": {},
     "output_type": "execute_result"
    }
   ],
   "source": [
    "clean_fr_siren(df, column=\"siren\", inplace=True)"
   ]
  },
  {
   "cell_type": "markdown",
   "id": "dress-andrew",
   "metadata": {},
   "source": [
    "## 4. `errors` parameter"
   ]
  },
  {
   "cell_type": "markdown",
   "id": "particular-soviet",
   "metadata": {},
   "source": [
    "### `coerce` (default)"
   ]
  },
  {
   "cell_type": "code",
   "execution_count": 7,
   "id": "italian-permit",
   "metadata": {
    "execution": {
     "iopub.execute_input": "2021-10-26T23:38:20.956054Z",
     "iopub.status.busy": "2021-10-26T23:38:20.947921Z",
     "iopub.status.idle": "2021-10-26T23:38:20.973106Z",
     "shell.execute_reply": "2021-10-26T23:38:20.972147Z"
    }
   },
   "outputs": [
    {
     "data": {
      "text/html": [
       "<div>\n",
       "<style scoped>\n",
       "    .dataframe tbody tr th:only-of-type {\n",
       "        vertical-align: middle;\n",
       "    }\n",
       "\n",
       "    .dataframe tbody tr th {\n",
       "        vertical-align: top;\n",
       "    }\n",
       "\n",
       "    .dataframe thead th {\n",
       "        text-align: right;\n",
       "    }\n",
       "</style>\n",
       "<table border=\"1\" class=\"dataframe\">\n",
       "  <thead>\n",
       "    <tr style=\"text-align: right;\">\n",
       "      <th></th>\n",
       "      <th>siren</th>\n",
       "      <th>address</th>\n",
       "      <th>siren_clean</th>\n",
       "    </tr>\n",
       "  </thead>\n",
       "  <tbody>\n",
       "    <tr>\n",
       "      <th>0</th>\n",
       "      <td>552 008 443</td>\n",
       "      <td>123 Pine Ave.</td>\n",
       "      <td>552008443</td>\n",
       "    </tr>\n",
       "    <tr>\n",
       "      <th>1</th>\n",
       "      <td>404833047</td>\n",
       "      <td>main st</td>\n",
       "      <td>NaN</td>\n",
       "    </tr>\n",
       "    <tr>\n",
       "      <th>2</th>\n",
       "      <td>7542011030</td>\n",
       "      <td>1234 west main heights 57033</td>\n",
       "      <td>NaN</td>\n",
       "    </tr>\n",
       "    <tr>\n",
       "      <th>3</th>\n",
       "      <td>7552A10004</td>\n",
       "      <td>apt 1 789 s maple rd manhattan</td>\n",
       "      <td>NaN</td>\n",
       "    </tr>\n",
       "    <tr>\n",
       "      <th>4</th>\n",
       "      <td>8019010008</td>\n",
       "      <td>robie house, 789 north main street</td>\n",
       "      <td>NaN</td>\n",
       "    </tr>\n",
       "    <tr>\n",
       "      <th>5</th>\n",
       "      <td>hello</td>\n",
       "      <td>1111 S Figueroa St, Los Angeles, CA 90015</td>\n",
       "      <td>NaN</td>\n",
       "    </tr>\n",
       "    <tr>\n",
       "      <th>6</th>\n",
       "      <td>NaN</td>\n",
       "      <td>(staples center) 1111 S Figueroa St, Los Angeles</td>\n",
       "      <td>NaN</td>\n",
       "    </tr>\n",
       "    <tr>\n",
       "      <th>7</th>\n",
       "      <td>NULL</td>\n",
       "      <td>hello</td>\n",
       "      <td>NaN</td>\n",
       "    </tr>\n",
       "  </tbody>\n",
       "</table>\n",
       "</div>"
      ],
      "text/plain": [
       "         siren                                           address siren_clean\n",
       "0  552 008 443                                     123 Pine Ave.   552008443\n",
       "1    404833047                                           main st         NaN\n",
       "2   7542011030                      1234 west main heights 57033         NaN\n",
       "3   7552A10004                    apt 1 789 s maple rd manhattan         NaN\n",
       "4   8019010008                robie house, 789 north main street         NaN\n",
       "5        hello         1111 S Figueroa St, Los Angeles, CA 90015         NaN\n",
       "6          NaN  (staples center) 1111 S Figueroa St, Los Angeles         NaN\n",
       "7         NULL                                             hello         NaN"
      ]
     },
     "execution_count": 1,
     "metadata": {},
     "output_type": "execute_result"
    }
   ],
   "source": [
    "clean_fr_siren(df, \"siren\", errors=\"coerce\")"
   ]
  },
  {
   "cell_type": "markdown",
   "id": "innocent-house",
   "metadata": {},
   "source": [
    "### `ignore`"
   ]
  },
  {
   "cell_type": "code",
   "execution_count": 8,
   "id": "focal-robert",
   "metadata": {
    "execution": {
     "iopub.execute_input": "2021-10-26T23:38:21.003482Z",
     "iopub.status.busy": "2021-10-26T23:38:20.982539Z",
     "iopub.status.idle": "2021-10-26T23:38:21.015798Z",
     "shell.execute_reply": "2021-10-26T23:38:21.016722Z"
    }
   },
   "outputs": [
    {
     "data": {
      "text/html": [
       "<div>\n",
       "<style scoped>\n",
       "    .dataframe tbody tr th:only-of-type {\n",
       "        vertical-align: middle;\n",
       "    }\n",
       "\n",
       "    .dataframe tbody tr th {\n",
       "        vertical-align: top;\n",
       "    }\n",
       "\n",
       "    .dataframe thead th {\n",
       "        text-align: right;\n",
       "    }\n",
       "</style>\n",
       "<table border=\"1\" class=\"dataframe\">\n",
       "  <thead>\n",
       "    <tr style=\"text-align: right;\">\n",
       "      <th></th>\n",
       "      <th>siren</th>\n",
       "      <th>address</th>\n",
       "      <th>siren_clean</th>\n",
       "    </tr>\n",
       "  </thead>\n",
       "  <tbody>\n",
       "    <tr>\n",
       "      <th>0</th>\n",
       "      <td>552 008 443</td>\n",
       "      <td>123 Pine Ave.</td>\n",
       "      <td>552008443</td>\n",
       "    </tr>\n",
       "    <tr>\n",
       "      <th>1</th>\n",
       "      <td>404833047</td>\n",
       "      <td>main st</td>\n",
       "      <td>404833047</td>\n",
       "    </tr>\n",
       "    <tr>\n",
       "      <th>2</th>\n",
       "      <td>7542011030</td>\n",
       "      <td>1234 west main heights 57033</td>\n",
       "      <td>7542011030</td>\n",
       "    </tr>\n",
       "    <tr>\n",
       "      <th>3</th>\n",
       "      <td>7552A10004</td>\n",
       "      <td>apt 1 789 s maple rd manhattan</td>\n",
       "      <td>7552A10004</td>\n",
       "    </tr>\n",
       "    <tr>\n",
       "      <th>4</th>\n",
       "      <td>8019010008</td>\n",
       "      <td>robie house, 789 north main street</td>\n",
       "      <td>8019010008</td>\n",
       "    </tr>\n",
       "    <tr>\n",
       "      <th>5</th>\n",
       "      <td>hello</td>\n",
       "      <td>1111 S Figueroa St, Los Angeles, CA 90015</td>\n",
       "      <td>hello</td>\n",
       "    </tr>\n",
       "    <tr>\n",
       "      <th>6</th>\n",
       "      <td>NaN</td>\n",
       "      <td>(staples center) 1111 S Figueroa St, Los Angeles</td>\n",
       "      <td>NaN</td>\n",
       "    </tr>\n",
       "    <tr>\n",
       "      <th>7</th>\n",
       "      <td>NULL</td>\n",
       "      <td>hello</td>\n",
       "      <td>NaN</td>\n",
       "    </tr>\n",
       "  </tbody>\n",
       "</table>\n",
       "</div>"
      ],
      "text/plain": [
       "         siren                                           address siren_clean\n",
       "0  552 008 443                                     123 Pine Ave.   552008443\n",
       "1    404833047                                           main st   404833047\n",
       "2   7542011030                      1234 west main heights 57033  7542011030\n",
       "3   7552A10004                    apt 1 789 s maple rd manhattan  7552A10004\n",
       "4   8019010008                robie house, 789 north main street  8019010008\n",
       "5        hello         1111 S Figueroa St, Los Angeles, CA 90015       hello\n",
       "6          NaN  (staples center) 1111 S Figueroa St, Los Angeles         NaN\n",
       "7         NULL                                             hello         NaN"
      ]
     },
     "execution_count": 1,
     "metadata": {},
     "output_type": "execute_result"
    }
   ],
   "source": [
    "clean_fr_siren(df, \"siren\", errors=\"ignore\")"
   ]
  },
  {
   "cell_type": "markdown",
   "id": "descending-institute",
   "metadata": {},
   "source": [
    "## 4. `validate_fr_siren()`"
   ]
  },
  {
   "cell_type": "markdown",
   "id": "happy-midwest",
   "metadata": {},
   "source": [
    "`validate_fr_siren()` returns `True` when the input is a valid SIREN. Otherwise it returns `False`.\n",
    "\n",
    "The input of `validate_fr_siren()` can be a string, a Pandas DataSeries, a Dask DataSeries, a Pandas DataFrame and a dask DataFrame.\n",
    "\n",
    "When the input is a string, a Pandas DataSeries or a Dask DataSeries, user doesn't need to specify a column name to be validated. \n",
    "\n",
    "When the input is a Pandas DataFrame or a dask DataFrame, user can both specify or not specify a column name to be validated. If user specify the column name, `validate_fr_siren()` only returns the validation result for the specified column. If user doesn't specify the column name, `validate_fr_siren()` returns the validation result for the whole DataFrame."
   ]
  },
  {
   "cell_type": "code",
   "execution_count": 9,
   "id": "mathematical-panel",
   "metadata": {
    "execution": {
     "iopub.execute_input": "2021-10-26T23:38:21.023747Z",
     "iopub.status.busy": "2021-10-26T23:38:21.022750Z",
     "iopub.status.idle": "2021-10-26T23:38:21.028289Z",
     "shell.execute_reply": "2021-10-26T23:38:21.028961Z"
    }
   },
   "outputs": [
    {
     "name": "stdout",
     "output_type": "stream",
     "text": [
      "True\n",
      "False\n",
      "False\n",
      "False\n",
      "False\n",
      "False\n",
      "False\n",
      "False\n"
     ]
    }
   ],
   "source": [
    "from dataprep.clean import validate_fr_siren\n",
    "print(validate_fr_siren('552 008 443'))\n",
    "print(validate_fr_siren('404833047'))\n",
    "print(validate_fr_siren('7542011030'))\n",
    "print(validate_fr_siren('7552A10004'))\n",
    "print(validate_fr_siren('8019010008'))\n",
    "print(validate_fr_siren(\"hello\"))\n",
    "print(validate_fr_siren(np.nan))\n",
    "print(validate_fr_siren(\"NULL\"))"
   ]
  },
  {
   "cell_type": "markdown",
   "id": "provincial-campaign",
   "metadata": {},
   "source": [
    "### Series"
   ]
  },
  {
   "cell_type": "code",
   "execution_count": 10,
   "id": "laden-bennett",
   "metadata": {
    "execution": {
     "iopub.execute_input": "2021-10-26T23:38:21.035292Z",
     "iopub.status.busy": "2021-10-26T23:38:21.034660Z",
     "iopub.status.idle": "2021-10-26T23:38:21.041327Z",
     "shell.execute_reply": "2021-10-26T23:38:21.040814Z"
    }
   },
   "outputs": [
    {
     "data": {
      "text/plain": [
       "0     True\n",
       "1    False\n",
       "2    False\n",
       "3    False\n",
       "4    False\n",
       "5    False\n",
       "6    False\n",
       "7    False\n",
       "Name: siren, dtype: bool"
      ]
     },
     "execution_count": 1,
     "metadata": {},
     "output_type": "execute_result"
    }
   ],
   "source": [
    "validate_fr_siren(df[\"siren\"])"
   ]
  },
  {
   "cell_type": "markdown",
   "id": "included-pendant",
   "metadata": {},
   "source": [
    "### DataFrame + Specify Column"
   ]
  },
  {
   "cell_type": "code",
   "execution_count": 11,
   "id": "measured-aggregate",
   "metadata": {
    "execution": {
     "iopub.execute_input": "2021-10-26T23:38:21.047825Z",
     "iopub.status.busy": "2021-10-26T23:38:21.047078Z",
     "iopub.status.idle": "2021-10-26T23:38:21.052075Z",
     "shell.execute_reply": "2021-10-26T23:38:21.051127Z"
    }
   },
   "outputs": [
    {
     "data": {
      "text/plain": [
       "0     True\n",
       "1    False\n",
       "2    False\n",
       "3    False\n",
       "4    False\n",
       "5    False\n",
       "6    False\n",
       "7    False\n",
       "Name: siren, dtype: bool"
      ]
     },
     "execution_count": 1,
     "metadata": {},
     "output_type": "execute_result"
    }
   ],
   "source": [
    "validate_fr_siren(df, column=\"siren\")"
   ]
  },
  {
   "cell_type": "markdown",
   "id": "english-kansas",
   "metadata": {},
   "source": [
    "### Only DataFrame"
   ]
  },
  {
   "cell_type": "code",
   "execution_count": 12,
   "id": "christian-wallpaper",
   "metadata": {
    "execution": {
     "iopub.execute_input": "2021-10-26T23:38:21.062979Z",
     "iopub.status.busy": "2021-10-26T23:38:21.055891Z",
     "iopub.status.idle": "2021-10-26T23:38:21.069265Z",
     "shell.execute_reply": "2021-10-26T23:38:21.068592Z"
    }
   },
   "outputs": [
    {
     "data": {
      "text/html": [
       "<div>\n",
       "<style scoped>\n",
       "    .dataframe tbody tr th:only-of-type {\n",
       "        vertical-align: middle;\n",
       "    }\n",
       "\n",
       "    .dataframe tbody tr th {\n",
       "        vertical-align: top;\n",
       "    }\n",
       "\n",
       "    .dataframe thead th {\n",
       "        text-align: right;\n",
       "    }\n",
       "</style>\n",
       "<table border=\"1\" class=\"dataframe\">\n",
       "  <thead>\n",
       "    <tr style=\"text-align: right;\">\n",
       "      <th></th>\n",
       "      <th>siren</th>\n",
       "      <th>address</th>\n",
       "    </tr>\n",
       "  </thead>\n",
       "  <tbody>\n",
       "    <tr>\n",
       "      <th>0</th>\n",
       "      <td>True</td>\n",
       "      <td>False</td>\n",
       "    </tr>\n",
       "    <tr>\n",
       "      <th>1</th>\n",
       "      <td>False</td>\n",
       "      <td>False</td>\n",
       "    </tr>\n",
       "    <tr>\n",
       "      <th>2</th>\n",
       "      <td>False</td>\n",
       "      <td>False</td>\n",
       "    </tr>\n",
       "    <tr>\n",
       "      <th>3</th>\n",
       "      <td>False</td>\n",
       "      <td>False</td>\n",
       "    </tr>\n",
       "    <tr>\n",
       "      <th>4</th>\n",
       "      <td>False</td>\n",
       "      <td>False</td>\n",
       "    </tr>\n",
       "    <tr>\n",
       "      <th>5</th>\n",
       "      <td>False</td>\n",
       "      <td>False</td>\n",
       "    </tr>\n",
       "    <tr>\n",
       "      <th>6</th>\n",
       "      <td>False</td>\n",
       "      <td>False</td>\n",
       "    </tr>\n",
       "    <tr>\n",
       "      <th>7</th>\n",
       "      <td>False</td>\n",
       "      <td>False</td>\n",
       "    </tr>\n",
       "  </tbody>\n",
       "</table>\n",
       "</div>"
      ],
      "text/plain": [
       "   siren  address\n",
       "0   True    False\n",
       "1  False    False\n",
       "2  False    False\n",
       "3  False    False\n",
       "4  False    False\n",
       "5  False    False\n",
       "6  False    False\n",
       "7  False    False"
      ]
     },
     "execution_count": 1,
     "metadata": {},
     "output_type": "execute_result"
    }
   ],
   "source": [
    "validate_fr_siren(df)"
   ]
  },
  {
   "cell_type": "code",
   "execution_count": null,
   "id": "thorough-homework",
   "metadata": {},
   "outputs": [],
   "source": []
  }
 ],
 "metadata": {
  "kernelspec": {
   "display_name": "Python 3",
   "language": "python",
   "name": "python3"
  },
  "language_info": {
   "codemirror_mode": {
    "name": "ipython",
    "version": 3
   },
   "file_extension": ".py",
   "mimetype": "text/x-python",
   "name": "python",
   "nbconvert_exporter": "python",
   "pygments_lexer": "ipython3",
   "version": "3.8.10"
  }
 },
 "nbformat": 4,
 "nbformat_minor": 5
}
