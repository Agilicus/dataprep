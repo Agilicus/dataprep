{
 "cells": [
  {
   "cell_type": "raw",
   "id": "needed-planet",
   "metadata": {},
   "source": [
    ".. _pan_userguide:\n",
    "\n",
    "PAN Strings\n",
    "============"
   ]
  },
  {
   "cell_type": "raw",
   "id": "helpful-subdivision",
   "metadata": {},
   "source": [
    "Introduction\n",
    "------------\n",
    "\n",
    "The function :func:`clean_in_pan() <dataprep.clean.clean_in_pan.clean_in_pan>` cleans a column containing Indian Permanent Account number (PAN) strings, and standardizes them in a given format. The function :func:`validate_in_pan() <dataprep.clean.clean_in_pan.validate_in_pan>` validates either a single PAN strings, a column of PAN strings or a DataFrame of PAN strings, returning `True` if the value is valid, and `False` otherwise."
   ]
  },
  {
   "cell_type": "markdown",
   "id": "grand-chrome",
   "metadata": {},
   "source": [
    "PAN strings can be converted to the following formats via the `output_format` parameter:\n",
    "\n",
    "* `compact`: only number strings without any seperators or whitespace, like \"ACUPA7085R\"\n",
    "* `standard`: PAN strings with proper whitespace in the proper places. Note that in the case of PAN, the compact format is the same as the standard one.\n",
    "* `info`: return a dictionary containing information that can be decoded from the PAN, like {'card_holder_type': 'Individual', 'initial': 'A'}.\n",
    "* `mask`: mask the PAN as per CBDT masking standard, like \"ACUPAXXXXR\".\n",
    "\n",
    "Invalid parsing is handled with the `errors` parameter:\n",
    "\n",
    "* `coerce` (default): invalid parsing will be set to NaN\n",
    "* `ignore`: invalid parsing will return the input\n",
    "* `raise`: invalid parsing will raise an exception\n",
    "\n",
    "The following sections demonstrate the functionality of `clean_in_pan()` and `validate_in_pan()`. "
   ]
  },
  {
   "cell_type": "markdown",
   "id": "circular-closure",
   "metadata": {},
   "source": [
    "### An example dataset containing PAN strings"
   ]
  },
  {
   "cell_type": "code",
   "execution_count": 1,
   "id": "protected-fellowship",
   "metadata": {
    "execution": {
     "iopub.execute_input": "2021-10-26T23:02:24.837859Z",
     "iopub.status.busy": "2021-10-26T23:02:24.837411Z",
     "iopub.status.idle": "2021-10-26T23:02:25.054658Z",
     "shell.execute_reply": "2021-10-26T23:02:25.055061Z"
    }
   },
   "outputs": [
    {
     "data": {
      "text/html": [
       "<div>\n",
       "<style scoped>\n",
       "    .dataframe tbody tr th:only-of-type {\n",
       "        vertical-align: middle;\n",
       "    }\n",
       "\n",
       "    .dataframe tbody tr th {\n",
       "        vertical-align: top;\n",
       "    }\n",
       "\n",
       "    .dataframe thead th {\n",
       "        text-align: right;\n",
       "    }\n",
       "</style>\n",
       "<table border=\"1\" class=\"dataframe\">\n",
       "  <thead>\n",
       "    <tr style=\"text-align: right;\">\n",
       "      <th></th>\n",
       "      <th>pan</th>\n",
       "      <th>address</th>\n",
       "    </tr>\n",
       "  </thead>\n",
       "  <tbody>\n",
       "    <tr>\n",
       "      <th>0</th>\n",
       "      <td>ACUPA7085R</td>\n",
       "      <td>123 Pine Ave.</td>\n",
       "    </tr>\n",
       "    <tr>\n",
       "      <th>1</th>\n",
       "      <td>234123412347</td>\n",
       "      <td>main st</td>\n",
       "    </tr>\n",
       "    <tr>\n",
       "      <th>2</th>\n",
       "      <td>7542011030</td>\n",
       "      <td>1234 west main heights 57033</td>\n",
       "    </tr>\n",
       "    <tr>\n",
       "      <th>3</th>\n",
       "      <td>7552A10004</td>\n",
       "      <td>apt 1 789 s maple rd manhattan</td>\n",
       "    </tr>\n",
       "    <tr>\n",
       "      <th>4</th>\n",
       "      <td>8019010008</td>\n",
       "      <td>robie house, 789 north main street</td>\n",
       "    </tr>\n",
       "    <tr>\n",
       "      <th>5</th>\n",
       "      <td>hello</td>\n",
       "      <td>1111 S Figueroa St, Los Angeles, CA 90015</td>\n",
       "    </tr>\n",
       "    <tr>\n",
       "      <th>6</th>\n",
       "      <td>NaN</td>\n",
       "      <td>(staples center) 1111 S Figueroa St, Los Angeles</td>\n",
       "    </tr>\n",
       "    <tr>\n",
       "      <th>7</th>\n",
       "      <td>NULL</td>\n",
       "      <td>hello</td>\n",
       "    </tr>\n",
       "  </tbody>\n",
       "</table>\n",
       "</div>"
      ],
      "text/plain": [
       "            pan                                           address\n",
       "0    ACUPA7085R                                     123 Pine Ave.\n",
       "1  234123412347                                           main st\n",
       "2    7542011030                      1234 west main heights 57033\n",
       "3    7552A10004                    apt 1 789 s maple rd manhattan\n",
       "4    8019010008                robie house, 789 north main street\n",
       "5         hello         1111 S Figueroa St, Los Angeles, CA 90015\n",
       "6           NaN  (staples center) 1111 S Figueroa St, Los Angeles\n",
       "7          NULL                                             hello"
      ]
     },
     "execution_count": 1,
     "metadata": {},
     "output_type": "execute_result"
    }
   ],
   "source": [
    "import pandas as pd\n",
    "import numpy as np\n",
    "df = pd.DataFrame(\n",
    "    {\n",
    "        \"pan\": [\n",
    "            'ACUPA7085R',\n",
    "            '234123412347',\n",
    "            '7542011030',\n",
    "            '7552A10004',\n",
    "            '8019010008',\n",
    "            \"hello\",\n",
    "            np.nan,\n",
    "            \"NULL\",\n",
    "        ], \n",
    "        \"address\": [\n",
    "            \"123 Pine Ave.\",\n",
    "            \"main st\",\n",
    "            \"1234 west main heights 57033\",\n",
    "            \"apt 1 789 s maple rd manhattan\",\n",
    "            \"robie house, 789 north main street\",\n",
    "            \"1111 S Figueroa St, Los Angeles, CA 90015\",\n",
    "            \"(staples center) 1111 S Figueroa St, Los Angeles\",\n",
    "            \"hello\",\n",
    "        ]\n",
    "    }\n",
    ")\n",
    "df"
   ]
  },
  {
   "cell_type": "markdown",
   "id": "removable-quantum",
   "metadata": {},
   "source": [
    "## 1. Default `clean_in_pan`\n",
    "\n",
    "By default, `clean_in_pan` will clean pan strings and output them in the standard format with proper separators."
   ]
  },
  {
   "cell_type": "code",
   "execution_count": 2,
   "id": "integrated-appendix",
   "metadata": {
    "execution": {
     "iopub.execute_input": "2021-10-26T23:02:25.058931Z",
     "iopub.status.busy": "2021-10-26T23:02:25.058424Z",
     "iopub.status.idle": "2021-10-26T23:02:25.590459Z",
     "shell.execute_reply": "2021-10-26T23:02:25.590817Z"
    }
   },
   "outputs": [
    {
     "data": {
      "text/html": [
       "<div>\n",
       "<style scoped>\n",
       "    .dataframe tbody tr th:only-of-type {\n",
       "        vertical-align: middle;\n",
       "    }\n",
       "\n",
       "    .dataframe tbody tr th {\n",
       "        vertical-align: top;\n",
       "    }\n",
       "\n",
       "    .dataframe thead th {\n",
       "        text-align: right;\n",
       "    }\n",
       "</style>\n",
       "<table border=\"1\" class=\"dataframe\">\n",
       "  <thead>\n",
       "    <tr style=\"text-align: right;\">\n",
       "      <th></th>\n",
       "      <th>pan</th>\n",
       "      <th>address</th>\n",
       "      <th>pan_clean</th>\n",
       "    </tr>\n",
       "  </thead>\n",
       "  <tbody>\n",
       "    <tr>\n",
       "      <th>0</th>\n",
       "      <td>ACUPA7085R</td>\n",
       "      <td>123 Pine Ave.</td>\n",
       "      <td>ACUPA7085R</td>\n",
       "    </tr>\n",
       "    <tr>\n",
       "      <th>1</th>\n",
       "      <td>234123412347</td>\n",
       "      <td>main st</td>\n",
       "      <td>NaN</td>\n",
       "    </tr>\n",
       "    <tr>\n",
       "      <th>2</th>\n",
       "      <td>7542011030</td>\n",
       "      <td>1234 west main heights 57033</td>\n",
       "      <td>NaN</td>\n",
       "    </tr>\n",
       "    <tr>\n",
       "      <th>3</th>\n",
       "      <td>7552A10004</td>\n",
       "      <td>apt 1 789 s maple rd manhattan</td>\n",
       "      <td>NaN</td>\n",
       "    </tr>\n",
       "    <tr>\n",
       "      <th>4</th>\n",
       "      <td>8019010008</td>\n",
       "      <td>robie house, 789 north main street</td>\n",
       "      <td>NaN</td>\n",
       "    </tr>\n",
       "    <tr>\n",
       "      <th>5</th>\n",
       "      <td>hello</td>\n",
       "      <td>1111 S Figueroa St, Los Angeles, CA 90015</td>\n",
       "      <td>NaN</td>\n",
       "    </tr>\n",
       "    <tr>\n",
       "      <th>6</th>\n",
       "      <td>NaN</td>\n",
       "      <td>(staples center) 1111 S Figueroa St, Los Angeles</td>\n",
       "      <td>NaN</td>\n",
       "    </tr>\n",
       "    <tr>\n",
       "      <th>7</th>\n",
       "      <td>NULL</td>\n",
       "      <td>hello</td>\n",
       "      <td>NaN</td>\n",
       "    </tr>\n",
       "  </tbody>\n",
       "</table>\n",
       "</div>"
      ],
      "text/plain": [
       "            pan                                           address   pan_clean\n",
       "0    ACUPA7085R                                     123 Pine Ave.  ACUPA7085R\n",
       "1  234123412347                                           main st         NaN\n",
       "2    7542011030                      1234 west main heights 57033         NaN\n",
       "3    7552A10004                    apt 1 789 s maple rd manhattan         NaN\n",
       "4    8019010008                robie house, 789 north main street         NaN\n",
       "5         hello         1111 S Figueroa St, Los Angeles, CA 90015         NaN\n",
       "6           NaN  (staples center) 1111 S Figueroa St, Los Angeles         NaN\n",
       "7          NULL                                             hello         NaN"
      ]
     },
     "execution_count": 1,
     "metadata": {},
     "output_type": "execute_result"
    }
   ],
   "source": [
    "from dataprep.clean import clean_in_pan\n",
    "clean_in_pan(df, column = \"pan\")"
   ]
  },
  {
   "cell_type": "markdown",
   "id": "incredible-progress",
   "metadata": {},
   "source": [
    "## 2. Output formats"
   ]
  },
  {
   "cell_type": "markdown",
   "id": "changing-retro",
   "metadata": {},
   "source": [
    "This section demonstrates the output parameter."
   ]
  },
  {
   "cell_type": "markdown",
   "id": "convinced-ballot",
   "metadata": {},
   "source": [
    "### `standard` (default)"
   ]
  },
  {
   "cell_type": "code",
   "execution_count": 3,
   "id": "fifteen-healing",
   "metadata": {
    "execution": {
     "iopub.execute_input": "2021-10-26T23:02:25.611074Z",
     "iopub.status.busy": "2021-10-26T23:02:25.610620Z",
     "iopub.status.idle": "2021-10-26T23:02:25.618517Z",
     "shell.execute_reply": "2021-10-26T23:02:25.618140Z"
    },
    "scrolled": true
   },
   "outputs": [
    {
     "data": {
      "text/html": [
       "<div>\n",
       "<style scoped>\n",
       "    .dataframe tbody tr th:only-of-type {\n",
       "        vertical-align: middle;\n",
       "    }\n",
       "\n",
       "    .dataframe tbody tr th {\n",
       "        vertical-align: top;\n",
       "    }\n",
       "\n",
       "    .dataframe thead th {\n",
       "        text-align: right;\n",
       "    }\n",
       "</style>\n",
       "<table border=\"1\" class=\"dataframe\">\n",
       "  <thead>\n",
       "    <tr style=\"text-align: right;\">\n",
       "      <th></th>\n",
       "      <th>pan</th>\n",
       "      <th>address</th>\n",
       "      <th>pan_clean</th>\n",
       "    </tr>\n",
       "  </thead>\n",
       "  <tbody>\n",
       "    <tr>\n",
       "      <th>0</th>\n",
       "      <td>ACUPA7085R</td>\n",
       "      <td>123 Pine Ave.</td>\n",
       "      <td>ACUPA7085R</td>\n",
       "    </tr>\n",
       "    <tr>\n",
       "      <th>1</th>\n",
       "      <td>234123412347</td>\n",
       "      <td>main st</td>\n",
       "      <td>NaN</td>\n",
       "    </tr>\n",
       "    <tr>\n",
       "      <th>2</th>\n",
       "      <td>7542011030</td>\n",
       "      <td>1234 west main heights 57033</td>\n",
       "      <td>NaN</td>\n",
       "    </tr>\n",
       "    <tr>\n",
       "      <th>3</th>\n",
       "      <td>7552A10004</td>\n",
       "      <td>apt 1 789 s maple rd manhattan</td>\n",
       "      <td>NaN</td>\n",
       "    </tr>\n",
       "    <tr>\n",
       "      <th>4</th>\n",
       "      <td>8019010008</td>\n",
       "      <td>robie house, 789 north main street</td>\n",
       "      <td>NaN</td>\n",
       "    </tr>\n",
       "    <tr>\n",
       "      <th>5</th>\n",
       "      <td>hello</td>\n",
       "      <td>1111 S Figueroa St, Los Angeles, CA 90015</td>\n",
       "      <td>NaN</td>\n",
       "    </tr>\n",
       "    <tr>\n",
       "      <th>6</th>\n",
       "      <td>NaN</td>\n",
       "      <td>(staples center) 1111 S Figueroa St, Los Angeles</td>\n",
       "      <td>NaN</td>\n",
       "    </tr>\n",
       "    <tr>\n",
       "      <th>7</th>\n",
       "      <td>NULL</td>\n",
       "      <td>hello</td>\n",
       "      <td>NaN</td>\n",
       "    </tr>\n",
       "  </tbody>\n",
       "</table>\n",
       "</div>"
      ],
      "text/plain": [
       "            pan                                           address   pan_clean\n",
       "0    ACUPA7085R                                     123 Pine Ave.  ACUPA7085R\n",
       "1  234123412347                                           main st         NaN\n",
       "2    7542011030                      1234 west main heights 57033         NaN\n",
       "3    7552A10004                    apt 1 789 s maple rd manhattan         NaN\n",
       "4    8019010008                robie house, 789 north main street         NaN\n",
       "5         hello         1111 S Figueroa St, Los Angeles, CA 90015         NaN\n",
       "6           NaN  (staples center) 1111 S Figueroa St, Los Angeles         NaN\n",
       "7          NULL                                             hello         NaN"
      ]
     },
     "execution_count": 1,
     "metadata": {},
     "output_type": "execute_result"
    }
   ],
   "source": [
    "clean_in_pan(df, column = \"pan\", output_format=\"standard\")"
   ]
  },
  {
   "cell_type": "markdown",
   "id": "healthy-indian",
   "metadata": {},
   "source": [
    "### `compact`"
   ]
  },
  {
   "cell_type": "code",
   "execution_count": 4,
   "id": "skilled-filename",
   "metadata": {
    "execution": {
     "iopub.execute_input": "2021-10-26T23:02:25.634943Z",
     "iopub.status.busy": "2021-10-26T23:02:25.634201Z",
     "iopub.status.idle": "2021-10-26T23:02:25.644596Z",
     "shell.execute_reply": "2021-10-26T23:02:25.644217Z"
    }
   },
   "outputs": [
    {
     "data": {
      "text/html": [
       "<div>\n",
       "<style scoped>\n",
       "    .dataframe tbody tr th:only-of-type {\n",
       "        vertical-align: middle;\n",
       "    }\n",
       "\n",
       "    .dataframe tbody tr th {\n",
       "        vertical-align: top;\n",
       "    }\n",
       "\n",
       "    .dataframe thead th {\n",
       "        text-align: right;\n",
       "    }\n",
       "</style>\n",
       "<table border=\"1\" class=\"dataframe\">\n",
       "  <thead>\n",
       "    <tr style=\"text-align: right;\">\n",
       "      <th></th>\n",
       "      <th>pan</th>\n",
       "      <th>address</th>\n",
       "      <th>pan_clean</th>\n",
       "    </tr>\n",
       "  </thead>\n",
       "  <tbody>\n",
       "    <tr>\n",
       "      <th>0</th>\n",
       "      <td>ACUPA7085R</td>\n",
       "      <td>123 Pine Ave.</td>\n",
       "      <td>ACUPA7085R</td>\n",
       "    </tr>\n",
       "    <tr>\n",
       "      <th>1</th>\n",
       "      <td>234123412347</td>\n",
       "      <td>main st</td>\n",
       "      <td>NaN</td>\n",
       "    </tr>\n",
       "    <tr>\n",
       "      <th>2</th>\n",
       "      <td>7542011030</td>\n",
       "      <td>1234 west main heights 57033</td>\n",
       "      <td>NaN</td>\n",
       "    </tr>\n",
       "    <tr>\n",
       "      <th>3</th>\n",
       "      <td>7552A10004</td>\n",
       "      <td>apt 1 789 s maple rd manhattan</td>\n",
       "      <td>NaN</td>\n",
       "    </tr>\n",
       "    <tr>\n",
       "      <th>4</th>\n",
       "      <td>8019010008</td>\n",
       "      <td>robie house, 789 north main street</td>\n",
       "      <td>NaN</td>\n",
       "    </tr>\n",
       "    <tr>\n",
       "      <th>5</th>\n",
       "      <td>hello</td>\n",
       "      <td>1111 S Figueroa St, Los Angeles, CA 90015</td>\n",
       "      <td>NaN</td>\n",
       "    </tr>\n",
       "    <tr>\n",
       "      <th>6</th>\n",
       "      <td>NaN</td>\n",
       "      <td>(staples center) 1111 S Figueroa St, Los Angeles</td>\n",
       "      <td>NaN</td>\n",
       "    </tr>\n",
       "    <tr>\n",
       "      <th>7</th>\n",
       "      <td>NULL</td>\n",
       "      <td>hello</td>\n",
       "      <td>NaN</td>\n",
       "    </tr>\n",
       "  </tbody>\n",
       "</table>\n",
       "</div>"
      ],
      "text/plain": [
       "            pan                                           address   pan_clean\n",
       "0    ACUPA7085R                                     123 Pine Ave.  ACUPA7085R\n",
       "1  234123412347                                           main st         NaN\n",
       "2    7542011030                      1234 west main heights 57033         NaN\n",
       "3    7552A10004                    apt 1 789 s maple rd manhattan         NaN\n",
       "4    8019010008                robie house, 789 north main street         NaN\n",
       "5         hello         1111 S Figueroa St, Los Angeles, CA 90015         NaN\n",
       "6           NaN  (staples center) 1111 S Figueroa St, Los Angeles         NaN\n",
       "7          NULL                                             hello         NaN"
      ]
     },
     "execution_count": 1,
     "metadata": {},
     "output_type": "execute_result"
    }
   ],
   "source": [
    "clean_in_pan(df, column = \"pan\", output_format=\"compact\")"
   ]
  },
  {
   "cell_type": "markdown",
   "id": "guilty-dream",
   "metadata": {},
   "source": [
    "### `info`"
   ]
  },
  {
   "cell_type": "code",
   "execution_count": 5,
   "id": "material-perspective",
   "metadata": {
    "execution": {
     "iopub.execute_input": "2021-10-26T23:02:25.664113Z",
     "iopub.status.busy": "2021-10-26T23:02:25.663380Z",
     "iopub.status.idle": "2021-10-26T23:02:25.671937Z",
     "shell.execute_reply": "2021-10-26T23:02:25.672302Z"
    }
   },
   "outputs": [
    {
     "data": {
      "text/html": [
       "<div>\n",
       "<style scoped>\n",
       "    .dataframe tbody tr th:only-of-type {\n",
       "        vertical-align: middle;\n",
       "    }\n",
       "\n",
       "    .dataframe tbody tr th {\n",
       "        vertical-align: top;\n",
       "    }\n",
       "\n",
       "    .dataframe thead th {\n",
       "        text-align: right;\n",
       "    }\n",
       "</style>\n",
       "<table border=\"1\" class=\"dataframe\">\n",
       "  <thead>\n",
       "    <tr style=\"text-align: right;\">\n",
       "      <th></th>\n",
       "      <th>pan</th>\n",
       "      <th>address</th>\n",
       "      <th>pan_clean</th>\n",
       "    </tr>\n",
       "  </thead>\n",
       "  <tbody>\n",
       "    <tr>\n",
       "      <th>0</th>\n",
       "      <td>ACUPA7085R</td>\n",
       "      <td>123 Pine Ave.</td>\n",
       "      <td>{'card_holder_type': 'Individual', 'initial': ...</td>\n",
       "    </tr>\n",
       "    <tr>\n",
       "      <th>1</th>\n",
       "      <td>234123412347</td>\n",
       "      <td>main st</td>\n",
       "      <td>NaN</td>\n",
       "    </tr>\n",
       "    <tr>\n",
       "      <th>2</th>\n",
       "      <td>7542011030</td>\n",
       "      <td>1234 west main heights 57033</td>\n",
       "      <td>NaN</td>\n",
       "    </tr>\n",
       "    <tr>\n",
       "      <th>3</th>\n",
       "      <td>7552A10004</td>\n",
       "      <td>apt 1 789 s maple rd manhattan</td>\n",
       "      <td>NaN</td>\n",
       "    </tr>\n",
       "    <tr>\n",
       "      <th>4</th>\n",
       "      <td>8019010008</td>\n",
       "      <td>robie house, 789 north main street</td>\n",
       "      <td>NaN</td>\n",
       "    </tr>\n",
       "    <tr>\n",
       "      <th>5</th>\n",
       "      <td>hello</td>\n",
       "      <td>1111 S Figueroa St, Los Angeles, CA 90015</td>\n",
       "      <td>NaN</td>\n",
       "    </tr>\n",
       "    <tr>\n",
       "      <th>6</th>\n",
       "      <td>NaN</td>\n",
       "      <td>(staples center) 1111 S Figueroa St, Los Angeles</td>\n",
       "      <td>NaN</td>\n",
       "    </tr>\n",
       "    <tr>\n",
       "      <th>7</th>\n",
       "      <td>NULL</td>\n",
       "      <td>hello</td>\n",
       "      <td>NaN</td>\n",
       "    </tr>\n",
       "  </tbody>\n",
       "</table>\n",
       "</div>"
      ],
      "text/plain": [
       "            pan                                           address  \\\n",
       "0    ACUPA7085R                                     123 Pine Ave.   \n",
       "1  234123412347                                           main st   \n",
       "2    7542011030                      1234 west main heights 57033   \n",
       "3    7552A10004                    apt 1 789 s maple rd manhattan   \n",
       "4    8019010008                robie house, 789 north main street   \n",
       "5         hello         1111 S Figueroa St, Los Angeles, CA 90015   \n",
       "6           NaN  (staples center) 1111 S Figueroa St, Los Angeles   \n",
       "7          NULL                                             hello   \n",
       "\n",
       "                                           pan_clean  \n",
       "0  {'card_holder_type': 'Individual', 'initial': ...  \n",
       "1                                                NaN  \n",
       "2                                                NaN  \n",
       "3                                                NaN  \n",
       "4                                                NaN  \n",
       "5                                                NaN  \n",
       "6                                                NaN  \n",
       "7                                                NaN  "
      ]
     },
     "execution_count": 1,
     "metadata": {},
     "output_type": "execute_result"
    }
   ],
   "source": [
    "clean_in_pan(df, column = \"pan\", output_format=\"info\")"
   ]
  },
  {
   "cell_type": "markdown",
   "id": "specific-calgary",
   "metadata": {},
   "source": [
    "### `mask`"
   ]
  },
  {
   "cell_type": "code",
   "execution_count": 6,
   "id": "floral-atlantic",
   "metadata": {
    "execution": {
     "iopub.execute_input": "2021-10-26T23:02:25.692502Z",
     "iopub.status.busy": "2021-10-26T23:02:25.689826Z",
     "iopub.status.idle": "2021-10-26T23:02:25.699856Z",
     "shell.execute_reply": "2021-10-26T23:02:25.699186Z"
    }
   },
   "outputs": [
    {
     "data": {
      "text/html": [
       "<div>\n",
       "<style scoped>\n",
       "    .dataframe tbody tr th:only-of-type {\n",
       "        vertical-align: middle;\n",
       "    }\n",
       "\n",
       "    .dataframe tbody tr th {\n",
       "        vertical-align: top;\n",
       "    }\n",
       "\n",
       "    .dataframe thead th {\n",
       "        text-align: right;\n",
       "    }\n",
       "</style>\n",
       "<table border=\"1\" class=\"dataframe\">\n",
       "  <thead>\n",
       "    <tr style=\"text-align: right;\">\n",
       "      <th></th>\n",
       "      <th>pan</th>\n",
       "      <th>address</th>\n",
       "      <th>pan_clean</th>\n",
       "    </tr>\n",
       "  </thead>\n",
       "  <tbody>\n",
       "    <tr>\n",
       "      <th>0</th>\n",
       "      <td>ACUPA7085R</td>\n",
       "      <td>123 Pine Ave.</td>\n",
       "      <td>ACUPAXXXXR</td>\n",
       "    </tr>\n",
       "    <tr>\n",
       "      <th>1</th>\n",
       "      <td>234123412347</td>\n",
       "      <td>main st</td>\n",
       "      <td>NaN</td>\n",
       "    </tr>\n",
       "    <tr>\n",
       "      <th>2</th>\n",
       "      <td>7542011030</td>\n",
       "      <td>1234 west main heights 57033</td>\n",
       "      <td>NaN</td>\n",
       "    </tr>\n",
       "    <tr>\n",
       "      <th>3</th>\n",
       "      <td>7552A10004</td>\n",
       "      <td>apt 1 789 s maple rd manhattan</td>\n",
       "      <td>NaN</td>\n",
       "    </tr>\n",
       "    <tr>\n",
       "      <th>4</th>\n",
       "      <td>8019010008</td>\n",
       "      <td>robie house, 789 north main street</td>\n",
       "      <td>NaN</td>\n",
       "    </tr>\n",
       "    <tr>\n",
       "      <th>5</th>\n",
       "      <td>hello</td>\n",
       "      <td>1111 S Figueroa St, Los Angeles, CA 90015</td>\n",
       "      <td>NaN</td>\n",
       "    </tr>\n",
       "    <tr>\n",
       "      <th>6</th>\n",
       "      <td>NaN</td>\n",
       "      <td>(staples center) 1111 S Figueroa St, Los Angeles</td>\n",
       "      <td>NaN</td>\n",
       "    </tr>\n",
       "    <tr>\n",
       "      <th>7</th>\n",
       "      <td>NULL</td>\n",
       "      <td>hello</td>\n",
       "      <td>NaN</td>\n",
       "    </tr>\n",
       "  </tbody>\n",
       "</table>\n",
       "</div>"
      ],
      "text/plain": [
       "            pan                                           address   pan_clean\n",
       "0    ACUPA7085R                                     123 Pine Ave.  ACUPAXXXXR\n",
       "1  234123412347                                           main st         NaN\n",
       "2    7542011030                      1234 west main heights 57033         NaN\n",
       "3    7552A10004                    apt 1 789 s maple rd manhattan         NaN\n",
       "4    8019010008                robie house, 789 north main street         NaN\n",
       "5         hello         1111 S Figueroa St, Los Angeles, CA 90015         NaN\n",
       "6           NaN  (staples center) 1111 S Figueroa St, Los Angeles         NaN\n",
       "7          NULL                                             hello         NaN"
      ]
     },
     "execution_count": 1,
     "metadata": {},
     "output_type": "execute_result"
    }
   ],
   "source": [
    "clean_in_pan(df, column = \"pan\", output_format=\"mask\")"
   ]
  },
  {
   "cell_type": "markdown",
   "id": "north-basketball",
   "metadata": {},
   "source": [
    "## 3. `inplace` parameter\n",
    "\n",
    "This deletes the given column from the returned DataFrame. \n",
    "A new column containing cleaned PAN strings is added with a title in the format `\"{original title}_clean\"`."
   ]
  },
  {
   "cell_type": "code",
   "execution_count": 7,
   "id": "bizarre-vacuum",
   "metadata": {
    "execution": {
     "iopub.execute_input": "2021-10-26T23:02:25.722604Z",
     "iopub.status.busy": "2021-10-26T23:02:25.722159Z",
     "iopub.status.idle": "2021-10-26T23:02:25.734316Z",
     "shell.execute_reply": "2021-10-26T23:02:25.733518Z"
    }
   },
   "outputs": [
    {
     "data": {
      "text/html": [
       "<div>\n",
       "<style scoped>\n",
       "    .dataframe tbody tr th:only-of-type {\n",
       "        vertical-align: middle;\n",
       "    }\n",
       "\n",
       "    .dataframe tbody tr th {\n",
       "        vertical-align: top;\n",
       "    }\n",
       "\n",
       "    .dataframe thead th {\n",
       "        text-align: right;\n",
       "    }\n",
       "</style>\n",
       "<table border=\"1\" class=\"dataframe\">\n",
       "  <thead>\n",
       "    <tr style=\"text-align: right;\">\n",
       "      <th></th>\n",
       "      <th>pan_clean</th>\n",
       "      <th>address</th>\n",
       "    </tr>\n",
       "  </thead>\n",
       "  <tbody>\n",
       "    <tr>\n",
       "      <th>0</th>\n",
       "      <td>ACUPA7085R</td>\n",
       "      <td>123 Pine Ave.</td>\n",
       "    </tr>\n",
       "    <tr>\n",
       "      <th>1</th>\n",
       "      <td>NaN</td>\n",
       "      <td>main st</td>\n",
       "    </tr>\n",
       "    <tr>\n",
       "      <th>2</th>\n",
       "      <td>NaN</td>\n",
       "      <td>1234 west main heights 57033</td>\n",
       "    </tr>\n",
       "    <tr>\n",
       "      <th>3</th>\n",
       "      <td>NaN</td>\n",
       "      <td>apt 1 789 s maple rd manhattan</td>\n",
       "    </tr>\n",
       "    <tr>\n",
       "      <th>4</th>\n",
       "      <td>NaN</td>\n",
       "      <td>robie house, 789 north main street</td>\n",
       "    </tr>\n",
       "    <tr>\n",
       "      <th>5</th>\n",
       "      <td>NaN</td>\n",
       "      <td>1111 S Figueroa St, Los Angeles, CA 90015</td>\n",
       "    </tr>\n",
       "    <tr>\n",
       "      <th>6</th>\n",
       "      <td>NaN</td>\n",
       "      <td>(staples center) 1111 S Figueroa St, Los Angeles</td>\n",
       "    </tr>\n",
       "    <tr>\n",
       "      <th>7</th>\n",
       "      <td>NaN</td>\n",
       "      <td>hello</td>\n",
       "    </tr>\n",
       "  </tbody>\n",
       "</table>\n",
       "</div>"
      ],
      "text/plain": [
       "    pan_clean                                           address\n",
       "0  ACUPA7085R                                     123 Pine Ave.\n",
       "1         NaN                                           main st\n",
       "2         NaN                      1234 west main heights 57033\n",
       "3         NaN                    apt 1 789 s maple rd manhattan\n",
       "4         NaN                robie house, 789 north main street\n",
       "5         NaN         1111 S Figueroa St, Los Angeles, CA 90015\n",
       "6         NaN  (staples center) 1111 S Figueroa St, Los Angeles\n",
       "7         NaN                                             hello"
      ]
     },
     "execution_count": 1,
     "metadata": {},
     "output_type": "execute_result"
    }
   ],
   "source": [
    "clean_in_pan(df, column=\"pan\", inplace=True)"
   ]
  },
  {
   "cell_type": "markdown",
   "id": "opposed-subject",
   "metadata": {},
   "source": [
    "## 4. `errors` parameter"
   ]
  },
  {
   "cell_type": "markdown",
   "id": "circular-level",
   "metadata": {},
   "source": [
    "### `coerce` (default)"
   ]
  },
  {
   "cell_type": "code",
   "execution_count": 8,
   "id": "cognitive-composer",
   "metadata": {
    "execution": {
     "iopub.execute_input": "2021-10-26T23:02:25.757080Z",
     "iopub.status.busy": "2021-10-26T23:02:25.751583Z",
     "iopub.status.idle": "2021-10-26T23:02:25.760594Z",
     "shell.execute_reply": "2021-10-26T23:02:25.760952Z"
    }
   },
   "outputs": [
    {
     "data": {
      "text/html": [
       "<div>\n",
       "<style scoped>\n",
       "    .dataframe tbody tr th:only-of-type {\n",
       "        vertical-align: middle;\n",
       "    }\n",
       "\n",
       "    .dataframe tbody tr th {\n",
       "        vertical-align: top;\n",
       "    }\n",
       "\n",
       "    .dataframe thead th {\n",
       "        text-align: right;\n",
       "    }\n",
       "</style>\n",
       "<table border=\"1\" class=\"dataframe\">\n",
       "  <thead>\n",
       "    <tr style=\"text-align: right;\">\n",
       "      <th></th>\n",
       "      <th>pan</th>\n",
       "      <th>address</th>\n",
       "      <th>pan_clean</th>\n",
       "    </tr>\n",
       "  </thead>\n",
       "  <tbody>\n",
       "    <tr>\n",
       "      <th>0</th>\n",
       "      <td>ACUPA7085R</td>\n",
       "      <td>123 Pine Ave.</td>\n",
       "      <td>ACUPA7085R</td>\n",
       "    </tr>\n",
       "    <tr>\n",
       "      <th>1</th>\n",
       "      <td>234123412347</td>\n",
       "      <td>main st</td>\n",
       "      <td>NaN</td>\n",
       "    </tr>\n",
       "    <tr>\n",
       "      <th>2</th>\n",
       "      <td>7542011030</td>\n",
       "      <td>1234 west main heights 57033</td>\n",
       "      <td>NaN</td>\n",
       "    </tr>\n",
       "    <tr>\n",
       "      <th>3</th>\n",
       "      <td>7552A10004</td>\n",
       "      <td>apt 1 789 s maple rd manhattan</td>\n",
       "      <td>NaN</td>\n",
       "    </tr>\n",
       "    <tr>\n",
       "      <th>4</th>\n",
       "      <td>8019010008</td>\n",
       "      <td>robie house, 789 north main street</td>\n",
       "      <td>NaN</td>\n",
       "    </tr>\n",
       "    <tr>\n",
       "      <th>5</th>\n",
       "      <td>hello</td>\n",
       "      <td>1111 S Figueroa St, Los Angeles, CA 90015</td>\n",
       "      <td>NaN</td>\n",
       "    </tr>\n",
       "    <tr>\n",
       "      <th>6</th>\n",
       "      <td>NaN</td>\n",
       "      <td>(staples center) 1111 S Figueroa St, Los Angeles</td>\n",
       "      <td>NaN</td>\n",
       "    </tr>\n",
       "    <tr>\n",
       "      <th>7</th>\n",
       "      <td>NULL</td>\n",
       "      <td>hello</td>\n",
       "      <td>NaN</td>\n",
       "    </tr>\n",
       "  </tbody>\n",
       "</table>\n",
       "</div>"
      ],
      "text/plain": [
       "            pan                                           address   pan_clean\n",
       "0    ACUPA7085R                                     123 Pine Ave.  ACUPA7085R\n",
       "1  234123412347                                           main st         NaN\n",
       "2    7542011030                      1234 west main heights 57033         NaN\n",
       "3    7552A10004                    apt 1 789 s maple rd manhattan         NaN\n",
       "4    8019010008                robie house, 789 north main street         NaN\n",
       "5         hello         1111 S Figueroa St, Los Angeles, CA 90015         NaN\n",
       "6           NaN  (staples center) 1111 S Figueroa St, Los Angeles         NaN\n",
       "7          NULL                                             hello         NaN"
      ]
     },
     "execution_count": 1,
     "metadata": {},
     "output_type": "execute_result"
    }
   ],
   "source": [
    "clean_in_pan(df, \"pan\", errors=\"coerce\")"
   ]
  },
  {
   "cell_type": "markdown",
   "id": "regular-louisiana",
   "metadata": {},
   "source": [
    "### `ignore`"
   ]
  },
  {
   "cell_type": "code",
   "execution_count": 9,
   "id": "false-outreach",
   "metadata": {
    "execution": {
     "iopub.execute_input": "2021-10-26T23:02:25.781084Z",
     "iopub.status.busy": "2021-10-26T23:02:25.775485Z",
     "iopub.status.idle": "2021-10-26T23:02:25.789216Z",
     "shell.execute_reply": "2021-10-26T23:02:25.788619Z"
    }
   },
   "outputs": [
    {
     "data": {
      "text/html": [
       "<div>\n",
       "<style scoped>\n",
       "    .dataframe tbody tr th:only-of-type {\n",
       "        vertical-align: middle;\n",
       "    }\n",
       "\n",
       "    .dataframe tbody tr th {\n",
       "        vertical-align: top;\n",
       "    }\n",
       "\n",
       "    .dataframe thead th {\n",
       "        text-align: right;\n",
       "    }\n",
       "</style>\n",
       "<table border=\"1\" class=\"dataframe\">\n",
       "  <thead>\n",
       "    <tr style=\"text-align: right;\">\n",
       "      <th></th>\n",
       "      <th>pan</th>\n",
       "      <th>address</th>\n",
       "      <th>pan_clean</th>\n",
       "    </tr>\n",
       "  </thead>\n",
       "  <tbody>\n",
       "    <tr>\n",
       "      <th>0</th>\n",
       "      <td>ACUPA7085R</td>\n",
       "      <td>123 Pine Ave.</td>\n",
       "      <td>ACUPA7085R</td>\n",
       "    </tr>\n",
       "    <tr>\n",
       "      <th>1</th>\n",
       "      <td>234123412347</td>\n",
       "      <td>main st</td>\n",
       "      <td>234123412347</td>\n",
       "    </tr>\n",
       "    <tr>\n",
       "      <th>2</th>\n",
       "      <td>7542011030</td>\n",
       "      <td>1234 west main heights 57033</td>\n",
       "      <td>7542011030</td>\n",
       "    </tr>\n",
       "    <tr>\n",
       "      <th>3</th>\n",
       "      <td>7552A10004</td>\n",
       "      <td>apt 1 789 s maple rd manhattan</td>\n",
       "      <td>7552A10004</td>\n",
       "    </tr>\n",
       "    <tr>\n",
       "      <th>4</th>\n",
       "      <td>8019010008</td>\n",
       "      <td>robie house, 789 north main street</td>\n",
       "      <td>8019010008</td>\n",
       "    </tr>\n",
       "    <tr>\n",
       "      <th>5</th>\n",
       "      <td>hello</td>\n",
       "      <td>1111 S Figueroa St, Los Angeles, CA 90015</td>\n",
       "      <td>hello</td>\n",
       "    </tr>\n",
       "    <tr>\n",
       "      <th>6</th>\n",
       "      <td>NaN</td>\n",
       "      <td>(staples center) 1111 S Figueroa St, Los Angeles</td>\n",
       "      <td>NaN</td>\n",
       "    </tr>\n",
       "    <tr>\n",
       "      <th>7</th>\n",
       "      <td>NULL</td>\n",
       "      <td>hello</td>\n",
       "      <td>NaN</td>\n",
       "    </tr>\n",
       "  </tbody>\n",
       "</table>\n",
       "</div>"
      ],
      "text/plain": [
       "            pan                                           address  \\\n",
       "0    ACUPA7085R                                     123 Pine Ave.   \n",
       "1  234123412347                                           main st   \n",
       "2    7542011030                      1234 west main heights 57033   \n",
       "3    7552A10004                    apt 1 789 s maple rd manhattan   \n",
       "4    8019010008                robie house, 789 north main street   \n",
       "5         hello         1111 S Figueroa St, Los Angeles, CA 90015   \n",
       "6           NaN  (staples center) 1111 S Figueroa St, Los Angeles   \n",
       "7          NULL                                             hello   \n",
       "\n",
       "      pan_clean  \n",
       "0    ACUPA7085R  \n",
       "1  234123412347  \n",
       "2    7542011030  \n",
       "3    7552A10004  \n",
       "4    8019010008  \n",
       "5         hello  \n",
       "6           NaN  \n",
       "7           NaN  "
      ]
     },
     "execution_count": 1,
     "metadata": {},
     "output_type": "execute_result"
    }
   ],
   "source": [
    "clean_in_pan(df, \"pan\", errors=\"ignore\")"
   ]
  },
  {
   "cell_type": "markdown",
   "id": "adjustable-surgery",
   "metadata": {},
   "source": [
    "## 4. `validate_in_pan()`"
   ]
  },
  {
   "cell_type": "markdown",
   "id": "surprised-ocean",
   "metadata": {},
   "source": [
    "`validate_in_pan()` returns `True` when the input is a valid PAN. Otherwise it returns `False`.\n",
    "\n",
    "The input of `validate_in_pan()` can be a string, a Pandas DataSeries, a Dask DataSeries, a Pandas DataFrame and a dask DataFrame.\n",
    "\n",
    "When the input is a string, a Pandas DataSeries or a Dask DataSeries, user doesn't need to specify a column name to be validated. \n",
    "\n",
    "When the input is a Pandas DataFrame or a dask DataFrame, user can both specify or not specify a column name to be validated. If user specify the column name, `validate_in_pan()` only returns the validation result for the specified column. If user doesn't specify the column name, `validate_in_pan()` returns the validation result for the whole DataFrame."
   ]
  },
  {
   "cell_type": "code",
   "execution_count": 10,
   "id": "light-turkish",
   "metadata": {
    "execution": {
     "iopub.execute_input": "2021-10-26T23:02:25.793960Z",
     "iopub.status.busy": "2021-10-26T23:02:25.793529Z",
     "iopub.status.idle": "2021-10-26T23:02:25.796902Z",
     "shell.execute_reply": "2021-10-26T23:02:25.797236Z"
    }
   },
   "outputs": [
    {
     "name": "stdout",
     "output_type": "stream",
     "text": [
      "True\n",
      "False\n",
      "False\n",
      "False\n",
      "False\n",
      "False\n",
      "False\n",
      "False\n"
     ]
    }
   ],
   "source": [
    "from dataprep.clean import validate_in_pan\n",
    "print(validate_in_pan('ACUPA7085R'))\n",
    "print(validate_in_pan('234123412347'))\n",
    "print(validate_in_pan('7542011030'))\n",
    "print(validate_in_pan('7552A10004'))\n",
    "print(validate_in_pan('8019010008'))\n",
    "print(validate_in_pan(\"hello\"))\n",
    "print(validate_in_pan(np.nan))\n",
    "print(validate_in_pan(\"NULL\"))"
   ]
  },
  {
   "cell_type": "markdown",
   "id": "exterior-joining",
   "metadata": {},
   "source": [
    "### Series"
   ]
  },
  {
   "cell_type": "code",
   "execution_count": 11,
   "id": "married-miami",
   "metadata": {
    "execution": {
     "iopub.execute_input": "2021-10-26T23:02:25.801538Z",
     "iopub.status.busy": "2021-10-26T23:02:25.801108Z",
     "iopub.status.idle": "2021-10-26T23:02:25.805313Z",
     "shell.execute_reply": "2021-10-26T23:02:25.804923Z"
    }
   },
   "outputs": [
    {
     "data": {
      "text/plain": [
       "0     True\n",
       "1    False\n",
       "2    False\n",
       "3    False\n",
       "4    False\n",
       "5    False\n",
       "6    False\n",
       "7    False\n",
       "Name: pan, dtype: bool"
      ]
     },
     "execution_count": 1,
     "metadata": {},
     "output_type": "execute_result"
    }
   ],
   "source": [
    "validate_in_pan(df[\"pan\"])"
   ]
  },
  {
   "cell_type": "markdown",
   "id": "empirical-douglas",
   "metadata": {},
   "source": [
    "### DataFrame + Specify Column"
   ]
  },
  {
   "cell_type": "code",
   "execution_count": 12,
   "id": "alert-arrangement",
   "metadata": {
    "execution": {
     "iopub.execute_input": "2021-10-26T23:02:25.809505Z",
     "iopub.status.busy": "2021-10-26T23:02:25.809081Z",
     "iopub.status.idle": "2021-10-26T23:02:25.813565Z",
     "shell.execute_reply": "2021-10-26T23:02:25.812756Z"
    }
   },
   "outputs": [
    {
     "data": {
      "text/plain": [
       "0     True\n",
       "1    False\n",
       "2    False\n",
       "3    False\n",
       "4    False\n",
       "5    False\n",
       "6    False\n",
       "7    False\n",
       "Name: pan, dtype: bool"
      ]
     },
     "execution_count": 1,
     "metadata": {},
     "output_type": "execute_result"
    }
   ],
   "source": [
    "validate_in_pan(df, column=\"pan\")"
   ]
  },
  {
   "cell_type": "markdown",
   "id": "revolutionary-inclusion",
   "metadata": {},
   "source": [
    "### Only DataFrame"
   ]
  },
  {
   "cell_type": "code",
   "execution_count": 13,
   "id": "palestinian-intelligence",
   "metadata": {
    "execution": {
     "iopub.execute_input": "2021-10-26T23:02:25.816503Z",
     "iopub.status.busy": "2021-10-26T23:02:25.816080Z",
     "iopub.status.idle": "2021-10-26T23:02:25.824747Z",
     "shell.execute_reply": "2021-10-26T23:02:25.824357Z"
    }
   },
   "outputs": [
    {
     "data": {
      "text/html": [
       "<div>\n",
       "<style scoped>\n",
       "    .dataframe tbody tr th:only-of-type {\n",
       "        vertical-align: middle;\n",
       "    }\n",
       "\n",
       "    .dataframe tbody tr th {\n",
       "        vertical-align: top;\n",
       "    }\n",
       "\n",
       "    .dataframe thead th {\n",
       "        text-align: right;\n",
       "    }\n",
       "</style>\n",
       "<table border=\"1\" class=\"dataframe\">\n",
       "  <thead>\n",
       "    <tr style=\"text-align: right;\">\n",
       "      <th></th>\n",
       "      <th>pan</th>\n",
       "      <th>address</th>\n",
       "    </tr>\n",
       "  </thead>\n",
       "  <tbody>\n",
       "    <tr>\n",
       "      <th>0</th>\n",
       "      <td>True</td>\n",
       "      <td>False</td>\n",
       "    </tr>\n",
       "    <tr>\n",
       "      <th>1</th>\n",
       "      <td>False</td>\n",
       "      <td>False</td>\n",
       "    </tr>\n",
       "    <tr>\n",
       "      <th>2</th>\n",
       "      <td>False</td>\n",
       "      <td>False</td>\n",
       "    </tr>\n",
       "    <tr>\n",
       "      <th>3</th>\n",
       "      <td>False</td>\n",
       "      <td>False</td>\n",
       "    </tr>\n",
       "    <tr>\n",
       "      <th>4</th>\n",
       "      <td>False</td>\n",
       "      <td>False</td>\n",
       "    </tr>\n",
       "    <tr>\n",
       "      <th>5</th>\n",
       "      <td>False</td>\n",
       "      <td>False</td>\n",
       "    </tr>\n",
       "    <tr>\n",
       "      <th>6</th>\n",
       "      <td>False</td>\n",
       "      <td>False</td>\n",
       "    </tr>\n",
       "    <tr>\n",
       "      <th>7</th>\n",
       "      <td>False</td>\n",
       "      <td>False</td>\n",
       "    </tr>\n",
       "  </tbody>\n",
       "</table>\n",
       "</div>"
      ],
      "text/plain": [
       "     pan  address\n",
       "0   True    False\n",
       "1  False    False\n",
       "2  False    False\n",
       "3  False    False\n",
       "4  False    False\n",
       "5  False    False\n",
       "6  False    False\n",
       "7  False    False"
      ]
     },
     "execution_count": 1,
     "metadata": {},
     "output_type": "execute_result"
    }
   ],
   "source": [
    "validate_in_pan(df)"
   ]
  },
  {
   "cell_type": "code",
   "execution_count": null,
   "id": "endless-genesis",
   "metadata": {},
   "outputs": [],
   "source": []
  }
 ],
 "metadata": {
  "kernelspec": {
   "display_name": "Python 3",
   "language": "python",
   "name": "python3"
  },
  "language_info": {
   "codemirror_mode": {
    "name": "ipython",
    "version": 3
   },
   "file_extension": ".py",
   "mimetype": "text/x-python",
   "name": "python",
   "nbconvert_exporter": "python",
   "pygments_lexer": "ipython3",
   "version": "3.8.10"
  }
 },
 "nbformat": 4,
 "nbformat_minor": 5
}
