{
 "cells": [
  {
   "cell_type": "raw",
   "id": "north-tooth",
   "metadata": {},
   "source": [
    ".. _pan_userguide:\n",
    "\n",
    "Indian Permanent Account Numbers\n",
    "================================"
   ]
  },
  {
   "cell_type": "raw",
   "id": "unlimited-purpose",
   "metadata": {},
   "source": [
    "Introduction\n",
    "------------\n",
    "\n",
    "The function :func:`clean_in_pan() <dataprep.clean.clean_in_pan.clean_in_pan>` cleans a column containing Indian Permanent Account number (PAN) strings, and standardizes them in a given format. The function :func:`validate_in_pan() <dataprep.clean.clean_in_pan.validate_in_pan>` validates either a single PAN strings, a column of PAN strings or a DataFrame of PAN strings, returning `True` if the value is valid, and `False` otherwise."
   ]
  },
  {
   "cell_type": "markdown",
   "id": "stupid-venice",
   "metadata": {},
   "source": [
    "PAN strings can be converted to the following formats via the `output_format` parameter:\n",
    "\n",
    "* `compact`: only number strings without any seperators or whitespace, like \"ACUPA7085R\"\n",
    "* `standard`: PAN strings with proper whitespace in the proper places. Note that in the case of PAN, the compact format is the same as the standard one.\n",
    "* `info`: return a dictionary containing information that can be decoded from the PAN, like {'card_holder_type': 'Individual', 'initial': 'A'}.\n",
    "* `mask`: mask the PAN as per CBDT masking standard, like \"ACUPAXXXXR\".\n",
    "\n",
    "Invalid parsing is handled with the `errors` parameter:\n",
    "\n",
    "* `coerce` (default): invalid parsing will be set to NaN\n",
    "* `ignore`: invalid parsing will return the input\n",
    "* `raise`: invalid parsing will raise an exception\n",
    "\n",
    "The following sections demonstrate the functionality of `clean_in_pan()` and `validate_in_pan()`. "
   ]
  },
  {
   "cell_type": "markdown",
   "id": "integrated-result",
   "metadata": {},
   "source": [
    "### An example dataset containing PAN strings"
   ]
  },
  {
   "cell_type": "code",
   "execution_count": 1,
   "id": "chief-commons",
   "metadata": {
    "execution": {
     "iopub.execute_input": "2021-11-01T18:54:14.589544Z",
     "iopub.status.busy": "2021-11-01T18:54:14.588927Z",
     "iopub.status.idle": "2021-11-01T18:54:14.879118Z",
     "shell.execute_reply": "2021-11-01T18:54:14.878551Z"
    }
   },
   "outputs": [
    {
     "data": {
      "text/html": [
       "<div>\n",
       "<style scoped>\n",
       "    .dataframe tbody tr th:only-of-type {\n",
       "        vertical-align: middle;\n",
       "    }\n",
       "\n",
       "    .dataframe tbody tr th {\n",
       "        vertical-align: top;\n",
       "    }\n",
       "\n",
       "    .dataframe thead th {\n",
       "        text-align: right;\n",
       "    }\n",
       "</style>\n",
       "<table border=\"1\" class=\"dataframe\">\n",
       "  <thead>\n",
       "    <tr style=\"text-align: right;\">\n",
       "      <th></th>\n",
       "      <th>pan</th>\n",
       "      <th>address</th>\n",
       "    </tr>\n",
       "  </thead>\n",
       "  <tbody>\n",
       "    <tr>\n",
       "      <th>0</th>\n",
       "      <td>ACUPA7085R</td>\n",
       "      <td>123 Pine Ave.</td>\n",
       "    </tr>\n",
       "    <tr>\n",
       "      <th>1</th>\n",
       "      <td>234123412347</td>\n",
       "      <td>main st</td>\n",
       "    </tr>\n",
       "    <tr>\n",
       "      <th>2</th>\n",
       "      <td>7542011030</td>\n",
       "      <td>1234 west main heights 57033</td>\n",
       "    </tr>\n",
       "    <tr>\n",
       "      <th>3</th>\n",
       "      <td>7552A10004</td>\n",
       "      <td>apt 1 789 s maple rd manhattan</td>\n",
       "    </tr>\n",
       "    <tr>\n",
       "      <th>4</th>\n",
       "      <td>8019010008</td>\n",
       "      <td>robie house, 789 north main street</td>\n",
       "    </tr>\n",
       "    <tr>\n",
       "      <th>5</th>\n",
       "      <td>hello</td>\n",
       "      <td>1111 S Figueroa St, Los Angeles, CA 90015</td>\n",
       "    </tr>\n",
       "    <tr>\n",
       "      <th>6</th>\n",
       "      <td>NaN</td>\n",
       "      <td>(staples center) 1111 S Figueroa St, Los Angeles</td>\n",
       "    </tr>\n",
       "    <tr>\n",
       "      <th>7</th>\n",
       "      <td>NULL</td>\n",
       "      <td>hello</td>\n",
       "    </tr>\n",
       "  </tbody>\n",
       "</table>\n",
       "</div>"
      ],
      "text/plain": [
       "            pan                                           address\n",
       "0    ACUPA7085R                                     123 Pine Ave.\n",
       "1  234123412347                                           main st\n",
       "2    7542011030                      1234 west main heights 57033\n",
       "3    7552A10004                    apt 1 789 s maple rd manhattan\n",
       "4    8019010008                robie house, 789 north main street\n",
       "5         hello         1111 S Figueroa St, Los Angeles, CA 90015\n",
       "6           NaN  (staples center) 1111 S Figueroa St, Los Angeles\n",
       "7          NULL                                             hello"
      ]
     },
     "execution_count": 1,
     "metadata": {},
     "output_type": "execute_result"
    }
   ],
   "source": [
    "import pandas as pd\n",
    "import numpy as np\n",
    "df = pd.DataFrame(\n",
    "    {\n",
    "        \"pan\": [\n",
    "            'ACUPA7085R',\n",
    "            '234123412347',\n",
    "            '7542011030',\n",
    "            '7552A10004',\n",
    "            '8019010008',\n",
    "            \"hello\",\n",
    "            np.nan,\n",
    "            \"NULL\",\n",
    "        ], \n",
    "        \"address\": [\n",
    "            \"123 Pine Ave.\",\n",
    "            \"main st\",\n",
    "            \"1234 west main heights 57033\",\n",
    "            \"apt 1 789 s maple rd manhattan\",\n",
    "            \"robie house, 789 north main street\",\n",
    "            \"1111 S Figueroa St, Los Angeles, CA 90015\",\n",
    "            \"(staples center) 1111 S Figueroa St, Los Angeles\",\n",
    "            \"hello\",\n",
    "        ]\n",
    "    }\n",
    ")\n",
    "df"
   ]
  },
  {
   "cell_type": "markdown",
   "id": "steady-brunswick",
   "metadata": {},
   "source": [
    "## 1. Default `clean_in_pan`\n",
    "\n",
    "By default, `clean_in_pan` will clean pan strings and output them in the standard format with proper separators."
   ]
  },
  {
   "cell_type": "code",
   "execution_count": 2,
   "id": "aerial-nursery",
   "metadata": {
    "execution": {
     "iopub.execute_input": "2021-11-01T18:54:14.883911Z",
     "iopub.status.busy": "2021-11-01T18:54:14.883272Z",
     "iopub.status.idle": "2021-11-01T18:54:15.611033Z",
     "shell.execute_reply": "2021-11-01T18:54:15.610489Z"
    }
   },
   "outputs": [
    {
     "data": {
      "text/html": [
       "<div>\n",
       "<style scoped>\n",
       "    .dataframe tbody tr th:only-of-type {\n",
       "        vertical-align: middle;\n",
       "    }\n",
       "\n",
       "    .dataframe tbody tr th {\n",
       "        vertical-align: top;\n",
       "    }\n",
       "\n",
       "    .dataframe thead th {\n",
       "        text-align: right;\n",
       "    }\n",
       "</style>\n",
       "<table border=\"1\" class=\"dataframe\">\n",
       "  <thead>\n",
       "    <tr style=\"text-align: right;\">\n",
       "      <th></th>\n",
       "      <th>pan</th>\n",
       "      <th>address</th>\n",
       "      <th>pan_clean</th>\n",
       "    </tr>\n",
       "  </thead>\n",
       "  <tbody>\n",
       "    <tr>\n",
       "      <th>0</th>\n",
       "      <td>ACUPA7085R</td>\n",
       "      <td>123 Pine Ave.</td>\n",
       "      <td>ACUPA7085R</td>\n",
       "    </tr>\n",
       "    <tr>\n",
       "      <th>1</th>\n",
       "      <td>234123412347</td>\n",
       "      <td>main st</td>\n",
       "      <td>NaN</td>\n",
       "    </tr>\n",
       "    <tr>\n",
       "      <th>2</th>\n",
       "      <td>7542011030</td>\n",
       "      <td>1234 west main heights 57033</td>\n",
       "      <td>NaN</td>\n",
       "    </tr>\n",
       "    <tr>\n",
       "      <th>3</th>\n",
       "      <td>7552A10004</td>\n",
       "      <td>apt 1 789 s maple rd manhattan</td>\n",
       "      <td>NaN</td>\n",
       "    </tr>\n",
       "    <tr>\n",
       "      <th>4</th>\n",
       "      <td>8019010008</td>\n",
       "      <td>robie house, 789 north main street</td>\n",
       "      <td>NaN</td>\n",
       "    </tr>\n",
       "    <tr>\n",
       "      <th>5</th>\n",
       "      <td>hello</td>\n",
       "      <td>1111 S Figueroa St, Los Angeles, CA 90015</td>\n",
       "      <td>NaN</td>\n",
       "    </tr>\n",
       "    <tr>\n",
       "      <th>6</th>\n",
       "      <td>NaN</td>\n",
       "      <td>(staples center) 1111 S Figueroa St, Los Angeles</td>\n",
       "      <td>NaN</td>\n",
       "    </tr>\n",
       "    <tr>\n",
       "      <th>7</th>\n",
       "      <td>NULL</td>\n",
       "      <td>hello</td>\n",
       "      <td>NaN</td>\n",
       "    </tr>\n",
       "  </tbody>\n",
       "</table>\n",
       "</div>"
      ],
      "text/plain": [
       "            pan                                           address   pan_clean\n",
       "0    ACUPA7085R                                     123 Pine Ave.  ACUPA7085R\n",
       "1  234123412347                                           main st         NaN\n",
       "2    7542011030                      1234 west main heights 57033         NaN\n",
       "3    7552A10004                    apt 1 789 s maple rd manhattan         NaN\n",
       "4    8019010008                robie house, 789 north main street         NaN\n",
       "5         hello         1111 S Figueroa St, Los Angeles, CA 90015         NaN\n",
       "6           NaN  (staples center) 1111 S Figueroa St, Los Angeles         NaN\n",
       "7          NULL                                             hello         NaN"
      ]
     },
     "execution_count": 1,
     "metadata": {},
     "output_type": "execute_result"
    }
   ],
   "source": [
    "from dataprep.clean import clean_in_pan\n",
    "clean_in_pan(df, column = \"pan\")"
   ]
  },
  {
   "cell_type": "markdown",
   "id": "expected-cannon",
   "metadata": {},
   "source": [
    "## 2. Output formats"
   ]
  },
  {
   "cell_type": "markdown",
   "id": "downtown-courage",
   "metadata": {},
   "source": [
    "This section demonstrates the output parameter."
   ]
  },
  {
   "cell_type": "markdown",
   "id": "promotional-casino",
   "metadata": {},
   "source": [
    "### `standard` (default)"
   ]
  },
  {
   "cell_type": "code",
   "execution_count": 3,
   "id": "frequent-interpretation",
   "metadata": {
    "execution": {
     "iopub.execute_input": "2021-11-01T18:54:15.639481Z",
     "iopub.status.busy": "2021-11-01T18:54:15.638048Z",
     "iopub.status.idle": "2021-11-01T18:54:15.649521Z",
     "shell.execute_reply": "2021-11-01T18:54:15.650005Z"
    },
    "scrolled": true
   },
   "outputs": [
    {
     "data": {
      "text/html": [
       "<div>\n",
       "<style scoped>\n",
       "    .dataframe tbody tr th:only-of-type {\n",
       "        vertical-align: middle;\n",
       "    }\n",
       "\n",
       "    .dataframe tbody tr th {\n",
       "        vertical-align: top;\n",
       "    }\n",
       "\n",
       "    .dataframe thead th {\n",
       "        text-align: right;\n",
       "    }\n",
       "</style>\n",
       "<table border=\"1\" class=\"dataframe\">\n",
       "  <thead>\n",
       "    <tr style=\"text-align: right;\">\n",
       "      <th></th>\n",
       "      <th>pan</th>\n",
       "      <th>address</th>\n",
       "      <th>pan_clean</th>\n",
       "    </tr>\n",
       "  </thead>\n",
       "  <tbody>\n",
       "    <tr>\n",
       "      <th>0</th>\n",
       "      <td>ACUPA7085R</td>\n",
       "      <td>123 Pine Ave.</td>\n",
       "      <td>ACUPA7085R</td>\n",
       "    </tr>\n",
       "    <tr>\n",
       "      <th>1</th>\n",
       "      <td>234123412347</td>\n",
       "      <td>main st</td>\n",
       "      <td>NaN</td>\n",
       "    </tr>\n",
       "    <tr>\n",
       "      <th>2</th>\n",
       "      <td>7542011030</td>\n",
       "      <td>1234 west main heights 57033</td>\n",
       "      <td>NaN</td>\n",
       "    </tr>\n",
       "    <tr>\n",
       "      <th>3</th>\n",
       "      <td>7552A10004</td>\n",
       "      <td>apt 1 789 s maple rd manhattan</td>\n",
       "      <td>NaN</td>\n",
       "    </tr>\n",
       "    <tr>\n",
       "      <th>4</th>\n",
       "      <td>8019010008</td>\n",
       "      <td>robie house, 789 north main street</td>\n",
       "      <td>NaN</td>\n",
       "    </tr>\n",
       "    <tr>\n",
       "      <th>5</th>\n",
       "      <td>hello</td>\n",
       "      <td>1111 S Figueroa St, Los Angeles, CA 90015</td>\n",
       "      <td>NaN</td>\n",
       "    </tr>\n",
       "    <tr>\n",
       "      <th>6</th>\n",
       "      <td>NaN</td>\n",
       "      <td>(staples center) 1111 S Figueroa St, Los Angeles</td>\n",
       "      <td>NaN</td>\n",
       "    </tr>\n",
       "    <tr>\n",
       "      <th>7</th>\n",
       "      <td>NULL</td>\n",
       "      <td>hello</td>\n",
       "      <td>NaN</td>\n",
       "    </tr>\n",
       "  </tbody>\n",
       "</table>\n",
       "</div>"
      ],
      "text/plain": [
       "            pan                                           address   pan_clean\n",
       "0    ACUPA7085R                                     123 Pine Ave.  ACUPA7085R\n",
       "1  234123412347                                           main st         NaN\n",
       "2    7542011030                      1234 west main heights 57033         NaN\n",
       "3    7552A10004                    apt 1 789 s maple rd manhattan         NaN\n",
       "4    8019010008                robie house, 789 north main street         NaN\n",
       "5         hello         1111 S Figueroa St, Los Angeles, CA 90015         NaN\n",
       "6           NaN  (staples center) 1111 S Figueroa St, Los Angeles         NaN\n",
       "7          NULL                                             hello         NaN"
      ]
     },
     "execution_count": 1,
     "metadata": {},
     "output_type": "execute_result"
    }
   ],
   "source": [
    "clean_in_pan(df, column = \"pan\", output_format=\"standard\")"
   ]
  },
  {
   "cell_type": "markdown",
   "id": "minimal-laundry",
   "metadata": {},
   "source": [
    "### `compact`"
   ]
  },
  {
   "cell_type": "code",
   "execution_count": 4,
   "id": "circular-aberdeen",
   "metadata": {
    "execution": {
     "iopub.execute_input": "2021-11-01T18:54:15.678937Z",
     "iopub.status.busy": "2021-11-01T18:54:15.676592Z",
     "iopub.status.idle": "2021-11-01T18:54:15.694434Z",
     "shell.execute_reply": "2021-11-01T18:54:15.694911Z"
    }
   },
   "outputs": [
    {
     "data": {
      "text/html": [
       "<div>\n",
       "<style scoped>\n",
       "    .dataframe tbody tr th:only-of-type {\n",
       "        vertical-align: middle;\n",
       "    }\n",
       "\n",
       "    .dataframe tbody tr th {\n",
       "        vertical-align: top;\n",
       "    }\n",
       "\n",
       "    .dataframe thead th {\n",
       "        text-align: right;\n",
       "    }\n",
       "</style>\n",
       "<table border=\"1\" class=\"dataframe\">\n",
       "  <thead>\n",
       "    <tr style=\"text-align: right;\">\n",
       "      <th></th>\n",
       "      <th>pan</th>\n",
       "      <th>address</th>\n",
       "      <th>pan_clean</th>\n",
       "    </tr>\n",
       "  </thead>\n",
       "  <tbody>\n",
       "    <tr>\n",
       "      <th>0</th>\n",
       "      <td>ACUPA7085R</td>\n",
       "      <td>123 Pine Ave.</td>\n",
       "      <td>ACUPA7085R</td>\n",
       "    </tr>\n",
       "    <tr>\n",
       "      <th>1</th>\n",
       "      <td>234123412347</td>\n",
       "      <td>main st</td>\n",
       "      <td>NaN</td>\n",
       "    </tr>\n",
       "    <tr>\n",
       "      <th>2</th>\n",
       "      <td>7542011030</td>\n",
       "      <td>1234 west main heights 57033</td>\n",
       "      <td>NaN</td>\n",
       "    </tr>\n",
       "    <tr>\n",
       "      <th>3</th>\n",
       "      <td>7552A10004</td>\n",
       "      <td>apt 1 789 s maple rd manhattan</td>\n",
       "      <td>NaN</td>\n",
       "    </tr>\n",
       "    <tr>\n",
       "      <th>4</th>\n",
       "      <td>8019010008</td>\n",
       "      <td>robie house, 789 north main street</td>\n",
       "      <td>NaN</td>\n",
       "    </tr>\n",
       "    <tr>\n",
       "      <th>5</th>\n",
       "      <td>hello</td>\n",
       "      <td>1111 S Figueroa St, Los Angeles, CA 90015</td>\n",
       "      <td>NaN</td>\n",
       "    </tr>\n",
       "    <tr>\n",
       "      <th>6</th>\n",
       "      <td>NaN</td>\n",
       "      <td>(staples center) 1111 S Figueroa St, Los Angeles</td>\n",
       "      <td>NaN</td>\n",
       "    </tr>\n",
       "    <tr>\n",
       "      <th>7</th>\n",
       "      <td>NULL</td>\n",
       "      <td>hello</td>\n",
       "      <td>NaN</td>\n",
       "    </tr>\n",
       "  </tbody>\n",
       "</table>\n",
       "</div>"
      ],
      "text/plain": [
       "            pan                                           address   pan_clean\n",
       "0    ACUPA7085R                                     123 Pine Ave.  ACUPA7085R\n",
       "1  234123412347                                           main st         NaN\n",
       "2    7542011030                      1234 west main heights 57033         NaN\n",
       "3    7552A10004                    apt 1 789 s maple rd manhattan         NaN\n",
       "4    8019010008                robie house, 789 north main street         NaN\n",
       "5         hello         1111 S Figueroa St, Los Angeles, CA 90015         NaN\n",
       "6           NaN  (staples center) 1111 S Figueroa St, Los Angeles         NaN\n",
       "7          NULL                                             hello         NaN"
      ]
     },
     "execution_count": 1,
     "metadata": {},
     "output_type": "execute_result"
    }
   ],
   "source": [
    "clean_in_pan(df, column = \"pan\", output_format=\"compact\")"
   ]
  },
  {
   "cell_type": "markdown",
   "id": "framed-generation",
   "metadata": {},
   "source": [
    "### `info`"
   ]
  },
  {
   "cell_type": "code",
   "execution_count": 5,
   "id": "swiss-proposition",
   "metadata": {
    "execution": {
     "iopub.execute_input": "2021-11-01T18:54:15.723361Z",
     "iopub.status.busy": "2021-11-01T18:54:15.722726Z",
     "iopub.status.idle": "2021-11-01T18:54:15.732971Z",
     "shell.execute_reply": "2021-11-01T18:54:15.732420Z"
    }
   },
   "outputs": [
    {
     "data": {
      "text/html": [
       "<div>\n",
       "<style scoped>\n",
       "    .dataframe tbody tr th:only-of-type {\n",
       "        vertical-align: middle;\n",
       "    }\n",
       "\n",
       "    .dataframe tbody tr th {\n",
       "        vertical-align: top;\n",
       "    }\n",
       "\n",
       "    .dataframe thead th {\n",
       "        text-align: right;\n",
       "    }\n",
       "</style>\n",
       "<table border=\"1\" class=\"dataframe\">\n",
       "  <thead>\n",
       "    <tr style=\"text-align: right;\">\n",
       "      <th></th>\n",
       "      <th>pan</th>\n",
       "      <th>address</th>\n",
       "      <th>pan_clean</th>\n",
       "    </tr>\n",
       "  </thead>\n",
       "  <tbody>\n",
       "    <tr>\n",
       "      <th>0</th>\n",
       "      <td>ACUPA7085R</td>\n",
       "      <td>123 Pine Ave.</td>\n",
       "      <td>{'card_holder_type': 'Individual', 'initial': ...</td>\n",
       "    </tr>\n",
       "    <tr>\n",
       "      <th>1</th>\n",
       "      <td>234123412347</td>\n",
       "      <td>main st</td>\n",
       "      <td>NaN</td>\n",
       "    </tr>\n",
       "    <tr>\n",
       "      <th>2</th>\n",
       "      <td>7542011030</td>\n",
       "      <td>1234 west main heights 57033</td>\n",
       "      <td>NaN</td>\n",
       "    </tr>\n",
       "    <tr>\n",
       "      <th>3</th>\n",
       "      <td>7552A10004</td>\n",
       "      <td>apt 1 789 s maple rd manhattan</td>\n",
       "      <td>NaN</td>\n",
       "    </tr>\n",
       "    <tr>\n",
       "      <th>4</th>\n",
       "      <td>8019010008</td>\n",
       "      <td>robie house, 789 north main street</td>\n",
       "      <td>NaN</td>\n",
       "    </tr>\n",
       "    <tr>\n",
       "      <th>5</th>\n",
       "      <td>hello</td>\n",
       "      <td>1111 S Figueroa St, Los Angeles, CA 90015</td>\n",
       "      <td>NaN</td>\n",
       "    </tr>\n",
       "    <tr>\n",
       "      <th>6</th>\n",
       "      <td>NaN</td>\n",
       "      <td>(staples center) 1111 S Figueroa St, Los Angeles</td>\n",
       "      <td>NaN</td>\n",
       "    </tr>\n",
       "    <tr>\n",
       "      <th>7</th>\n",
       "      <td>NULL</td>\n",
       "      <td>hello</td>\n",
       "      <td>NaN</td>\n",
       "    </tr>\n",
       "  </tbody>\n",
       "</table>\n",
       "</div>"
      ],
      "text/plain": [
       "            pan                                           address  \\\n",
       "0    ACUPA7085R                                     123 Pine Ave.   \n",
       "1  234123412347                                           main st   \n",
       "2    7542011030                      1234 west main heights 57033   \n",
       "3    7552A10004                    apt 1 789 s maple rd manhattan   \n",
       "4    8019010008                robie house, 789 north main street   \n",
       "5         hello         1111 S Figueroa St, Los Angeles, CA 90015   \n",
       "6           NaN  (staples center) 1111 S Figueroa St, Los Angeles   \n",
       "7          NULL                                             hello   \n",
       "\n",
       "                                           pan_clean  \n",
       "0  {'card_holder_type': 'Individual', 'initial': ...  \n",
       "1                                                NaN  \n",
       "2                                                NaN  \n",
       "3                                                NaN  \n",
       "4                                                NaN  \n",
       "5                                                NaN  \n",
       "6                                                NaN  \n",
       "7                                                NaN  "
      ]
     },
     "execution_count": 1,
     "metadata": {},
     "output_type": "execute_result"
    }
   ],
   "source": [
    "clean_in_pan(df, column = \"pan\", output_format=\"info\")"
   ]
  },
  {
   "cell_type": "markdown",
   "id": "continued-overview",
   "metadata": {},
   "source": [
    "### `mask`"
   ]
  },
  {
   "cell_type": "code",
   "execution_count": 6,
   "id": "moved-supervisor",
   "metadata": {
    "execution": {
     "iopub.execute_input": "2021-11-01T18:54:15.765808Z",
     "iopub.status.busy": "2021-11-01T18:54:15.760854Z",
     "iopub.status.idle": "2021-11-01T18:54:15.769631Z",
     "shell.execute_reply": "2021-11-01T18:54:15.770218Z"
    }
   },
   "outputs": [
    {
     "data": {
      "text/html": [
       "<div>\n",
       "<style scoped>\n",
       "    .dataframe tbody tr th:only-of-type {\n",
       "        vertical-align: middle;\n",
       "    }\n",
       "\n",
       "    .dataframe tbody tr th {\n",
       "        vertical-align: top;\n",
       "    }\n",
       "\n",
       "    .dataframe thead th {\n",
       "        text-align: right;\n",
       "    }\n",
       "</style>\n",
       "<table border=\"1\" class=\"dataframe\">\n",
       "  <thead>\n",
       "    <tr style=\"text-align: right;\">\n",
       "      <th></th>\n",
       "      <th>pan</th>\n",
       "      <th>address</th>\n",
       "      <th>pan_clean</th>\n",
       "    </tr>\n",
       "  </thead>\n",
       "  <tbody>\n",
       "    <tr>\n",
       "      <th>0</th>\n",
       "      <td>ACUPA7085R</td>\n",
       "      <td>123 Pine Ave.</td>\n",
       "      <td>ACUPAXXXXR</td>\n",
       "    </tr>\n",
       "    <tr>\n",
       "      <th>1</th>\n",
       "      <td>234123412347</td>\n",
       "      <td>main st</td>\n",
       "      <td>NaN</td>\n",
       "    </tr>\n",
       "    <tr>\n",
       "      <th>2</th>\n",
       "      <td>7542011030</td>\n",
       "      <td>1234 west main heights 57033</td>\n",
       "      <td>NaN</td>\n",
       "    </tr>\n",
       "    <tr>\n",
       "      <th>3</th>\n",
       "      <td>7552A10004</td>\n",
       "      <td>apt 1 789 s maple rd manhattan</td>\n",
       "      <td>NaN</td>\n",
       "    </tr>\n",
       "    <tr>\n",
       "      <th>4</th>\n",
       "      <td>8019010008</td>\n",
       "      <td>robie house, 789 north main street</td>\n",
       "      <td>NaN</td>\n",
       "    </tr>\n",
       "    <tr>\n",
       "      <th>5</th>\n",
       "      <td>hello</td>\n",
       "      <td>1111 S Figueroa St, Los Angeles, CA 90015</td>\n",
       "      <td>NaN</td>\n",
       "    </tr>\n",
       "    <tr>\n",
       "      <th>6</th>\n",
       "      <td>NaN</td>\n",
       "      <td>(staples center) 1111 S Figueroa St, Los Angeles</td>\n",
       "      <td>NaN</td>\n",
       "    </tr>\n",
       "    <tr>\n",
       "      <th>7</th>\n",
       "      <td>NULL</td>\n",
       "      <td>hello</td>\n",
       "      <td>NaN</td>\n",
       "    </tr>\n",
       "  </tbody>\n",
       "</table>\n",
       "</div>"
      ],
      "text/plain": [
       "            pan                                           address   pan_clean\n",
       "0    ACUPA7085R                                     123 Pine Ave.  ACUPAXXXXR\n",
       "1  234123412347                                           main st         NaN\n",
       "2    7542011030                      1234 west main heights 57033         NaN\n",
       "3    7552A10004                    apt 1 789 s maple rd manhattan         NaN\n",
       "4    8019010008                robie house, 789 north main street         NaN\n",
       "5         hello         1111 S Figueroa St, Los Angeles, CA 90015         NaN\n",
       "6           NaN  (staples center) 1111 S Figueroa St, Los Angeles         NaN\n",
       "7          NULL                                             hello         NaN"
      ]
     },
     "execution_count": 1,
     "metadata": {},
     "output_type": "execute_result"
    }
   ],
   "source": [
    "clean_in_pan(df, column = \"pan\", output_format=\"mask\")"
   ]
  },
  {
   "cell_type": "markdown",
   "id": "dramatic-canadian",
   "metadata": {},
   "source": [
    "## 3. `inplace` parameter\n",
    "\n",
    "This deletes the given column from the returned DataFrame. \n",
    "A new column containing cleaned PAN strings is added with a title in the format `\"{original title}_clean\"`."
   ]
  },
  {
   "cell_type": "code",
   "execution_count": 7,
   "id": "automotive-saying",
   "metadata": {
    "execution": {
     "iopub.execute_input": "2021-11-01T18:54:15.809626Z",
     "iopub.status.busy": "2021-11-01T18:54:15.808990Z",
     "iopub.status.idle": "2021-11-01T18:54:15.818679Z",
     "shell.execute_reply": "2021-11-01T18:54:15.819168Z"
    }
   },
   "outputs": [
    {
     "data": {
      "text/html": [
       "<div>\n",
       "<style scoped>\n",
       "    .dataframe tbody tr th:only-of-type {\n",
       "        vertical-align: middle;\n",
       "    }\n",
       "\n",
       "    .dataframe tbody tr th {\n",
       "        vertical-align: top;\n",
       "    }\n",
       "\n",
       "    .dataframe thead th {\n",
       "        text-align: right;\n",
       "    }\n",
       "</style>\n",
       "<table border=\"1\" class=\"dataframe\">\n",
       "  <thead>\n",
       "    <tr style=\"text-align: right;\">\n",
       "      <th></th>\n",
       "      <th>pan_clean</th>\n",
       "      <th>address</th>\n",
       "    </tr>\n",
       "  </thead>\n",
       "  <tbody>\n",
       "    <tr>\n",
       "      <th>0</th>\n",
       "      <td>ACUPA7085R</td>\n",
       "      <td>123 Pine Ave.</td>\n",
       "    </tr>\n",
       "    <tr>\n",
       "      <th>1</th>\n",
       "      <td>NaN</td>\n",
       "      <td>main st</td>\n",
       "    </tr>\n",
       "    <tr>\n",
       "      <th>2</th>\n",
       "      <td>NaN</td>\n",
       "      <td>1234 west main heights 57033</td>\n",
       "    </tr>\n",
       "    <tr>\n",
       "      <th>3</th>\n",
       "      <td>NaN</td>\n",
       "      <td>apt 1 789 s maple rd manhattan</td>\n",
       "    </tr>\n",
       "    <tr>\n",
       "      <th>4</th>\n",
       "      <td>NaN</td>\n",
       "      <td>robie house, 789 north main street</td>\n",
       "    </tr>\n",
       "    <tr>\n",
       "      <th>5</th>\n",
       "      <td>NaN</td>\n",
       "      <td>1111 S Figueroa St, Los Angeles, CA 90015</td>\n",
       "    </tr>\n",
       "    <tr>\n",
       "      <th>6</th>\n",
       "      <td>NaN</td>\n",
       "      <td>(staples center) 1111 S Figueroa St, Los Angeles</td>\n",
       "    </tr>\n",
       "    <tr>\n",
       "      <th>7</th>\n",
       "      <td>NaN</td>\n",
       "      <td>hello</td>\n",
       "    </tr>\n",
       "  </tbody>\n",
       "</table>\n",
       "</div>"
      ],
      "text/plain": [
       "    pan_clean                                           address\n",
       "0  ACUPA7085R                                     123 Pine Ave.\n",
       "1         NaN                                           main st\n",
       "2         NaN                      1234 west main heights 57033\n",
       "3         NaN                    apt 1 789 s maple rd manhattan\n",
       "4         NaN                robie house, 789 north main street\n",
       "5         NaN         1111 S Figueroa St, Los Angeles, CA 90015\n",
       "6         NaN  (staples center) 1111 S Figueroa St, Los Angeles\n",
       "7         NaN                                             hello"
      ]
     },
     "execution_count": 1,
     "metadata": {},
     "output_type": "execute_result"
    }
   ],
   "source": [
    "clean_in_pan(df, column=\"pan\", inplace=True)"
   ]
  },
  {
   "cell_type": "markdown",
   "id": "american-employer",
   "metadata": {},
   "source": [
    "## 4. `errors` parameter"
   ]
  },
  {
   "cell_type": "markdown",
   "id": "hollywood-emission",
   "metadata": {},
   "source": [
    "### `coerce` (default)"
   ]
  },
  {
   "cell_type": "code",
   "execution_count": 8,
   "id": "informed-serial",
   "metadata": {
    "execution": {
     "iopub.execute_input": "2021-11-01T18:54:15.844907Z",
     "iopub.status.busy": "2021-11-01T18:54:15.844269Z",
     "iopub.status.idle": "2021-11-01T18:54:15.858088Z",
     "shell.execute_reply": "2021-11-01T18:54:15.857519Z"
    }
   },
   "outputs": [
    {
     "data": {
      "text/html": [
       "<div>\n",
       "<style scoped>\n",
       "    .dataframe tbody tr th:only-of-type {\n",
       "        vertical-align: middle;\n",
       "    }\n",
       "\n",
       "    .dataframe tbody tr th {\n",
       "        vertical-align: top;\n",
       "    }\n",
       "\n",
       "    .dataframe thead th {\n",
       "        text-align: right;\n",
       "    }\n",
       "</style>\n",
       "<table border=\"1\" class=\"dataframe\">\n",
       "  <thead>\n",
       "    <tr style=\"text-align: right;\">\n",
       "      <th></th>\n",
       "      <th>pan</th>\n",
       "      <th>address</th>\n",
       "      <th>pan_clean</th>\n",
       "    </tr>\n",
       "  </thead>\n",
       "  <tbody>\n",
       "    <tr>\n",
       "      <th>0</th>\n",
       "      <td>ACUPA7085R</td>\n",
       "      <td>123 Pine Ave.</td>\n",
       "      <td>ACUPA7085R</td>\n",
       "    </tr>\n",
       "    <tr>\n",
       "      <th>1</th>\n",
       "      <td>234123412347</td>\n",
       "      <td>main st</td>\n",
       "      <td>NaN</td>\n",
       "    </tr>\n",
       "    <tr>\n",
       "      <th>2</th>\n",
       "      <td>7542011030</td>\n",
       "      <td>1234 west main heights 57033</td>\n",
       "      <td>NaN</td>\n",
       "    </tr>\n",
       "    <tr>\n",
       "      <th>3</th>\n",
       "      <td>7552A10004</td>\n",
       "      <td>apt 1 789 s maple rd manhattan</td>\n",
       "      <td>NaN</td>\n",
       "    </tr>\n",
       "    <tr>\n",
       "      <th>4</th>\n",
       "      <td>8019010008</td>\n",
       "      <td>robie house, 789 north main street</td>\n",
       "      <td>NaN</td>\n",
       "    </tr>\n",
       "    <tr>\n",
       "      <th>5</th>\n",
       "      <td>hello</td>\n",
       "      <td>1111 S Figueroa St, Los Angeles, CA 90015</td>\n",
       "      <td>NaN</td>\n",
       "    </tr>\n",
       "    <tr>\n",
       "      <th>6</th>\n",
       "      <td>NaN</td>\n",
       "      <td>(staples center) 1111 S Figueroa St, Los Angeles</td>\n",
       "      <td>NaN</td>\n",
       "    </tr>\n",
       "    <tr>\n",
       "      <th>7</th>\n",
       "      <td>NULL</td>\n",
       "      <td>hello</td>\n",
       "      <td>NaN</td>\n",
       "    </tr>\n",
       "  </tbody>\n",
       "</table>\n",
       "</div>"
      ],
      "text/plain": [
       "            pan                                           address   pan_clean\n",
       "0    ACUPA7085R                                     123 Pine Ave.  ACUPA7085R\n",
       "1  234123412347                                           main st         NaN\n",
       "2    7542011030                      1234 west main heights 57033         NaN\n",
       "3    7552A10004                    apt 1 789 s maple rd manhattan         NaN\n",
       "4    8019010008                robie house, 789 north main street         NaN\n",
       "5         hello         1111 S Figueroa St, Los Angeles, CA 90015         NaN\n",
       "6           NaN  (staples center) 1111 S Figueroa St, Los Angeles         NaN\n",
       "7          NULL                                             hello         NaN"
      ]
     },
     "execution_count": 1,
     "metadata": {},
     "output_type": "execute_result"
    }
   ],
   "source": [
    "clean_in_pan(df, \"pan\", errors=\"coerce\")"
   ]
  },
  {
   "cell_type": "markdown",
   "id": "satisfied-poverty",
   "metadata": {},
   "source": [
    "### `ignore`"
   ]
  },
  {
   "cell_type": "code",
   "execution_count": 9,
   "id": "opposite-drinking",
   "metadata": {
    "execution": {
     "iopub.execute_input": "2021-11-01T18:54:15.884244Z",
     "iopub.status.busy": "2021-11-01T18:54:15.883549Z",
     "iopub.status.idle": "2021-11-01T18:54:15.896942Z",
     "shell.execute_reply": "2021-11-01T18:54:15.896356Z"
    }
   },
   "outputs": [
    {
     "data": {
      "text/html": [
       "<div>\n",
       "<style scoped>\n",
       "    .dataframe tbody tr th:only-of-type {\n",
       "        vertical-align: middle;\n",
       "    }\n",
       "\n",
       "    .dataframe tbody tr th {\n",
       "        vertical-align: top;\n",
       "    }\n",
       "\n",
       "    .dataframe thead th {\n",
       "        text-align: right;\n",
       "    }\n",
       "</style>\n",
       "<table border=\"1\" class=\"dataframe\">\n",
       "  <thead>\n",
       "    <tr style=\"text-align: right;\">\n",
       "      <th></th>\n",
       "      <th>pan</th>\n",
       "      <th>address</th>\n",
       "      <th>pan_clean</th>\n",
       "    </tr>\n",
       "  </thead>\n",
       "  <tbody>\n",
       "    <tr>\n",
       "      <th>0</th>\n",
       "      <td>ACUPA7085R</td>\n",
       "      <td>123 Pine Ave.</td>\n",
       "      <td>ACUPA7085R</td>\n",
       "    </tr>\n",
       "    <tr>\n",
       "      <th>1</th>\n",
       "      <td>234123412347</td>\n",
       "      <td>main st</td>\n",
       "      <td>234123412347</td>\n",
       "    </tr>\n",
       "    <tr>\n",
       "      <th>2</th>\n",
       "      <td>7542011030</td>\n",
       "      <td>1234 west main heights 57033</td>\n",
       "      <td>7542011030</td>\n",
       "    </tr>\n",
       "    <tr>\n",
       "      <th>3</th>\n",
       "      <td>7552A10004</td>\n",
       "      <td>apt 1 789 s maple rd manhattan</td>\n",
       "      <td>7552A10004</td>\n",
       "    </tr>\n",
       "    <tr>\n",
       "      <th>4</th>\n",
       "      <td>8019010008</td>\n",
       "      <td>robie house, 789 north main street</td>\n",
       "      <td>8019010008</td>\n",
       "    </tr>\n",
       "    <tr>\n",
       "      <th>5</th>\n",
       "      <td>hello</td>\n",
       "      <td>1111 S Figueroa St, Los Angeles, CA 90015</td>\n",
       "      <td>hello</td>\n",
       "    </tr>\n",
       "    <tr>\n",
       "      <th>6</th>\n",
       "      <td>NaN</td>\n",
       "      <td>(staples center) 1111 S Figueroa St, Los Angeles</td>\n",
       "      <td>NaN</td>\n",
       "    </tr>\n",
       "    <tr>\n",
       "      <th>7</th>\n",
       "      <td>NULL</td>\n",
       "      <td>hello</td>\n",
       "      <td>NaN</td>\n",
       "    </tr>\n",
       "  </tbody>\n",
       "</table>\n",
       "</div>"
      ],
      "text/plain": [
       "            pan                                           address  \\\n",
       "0    ACUPA7085R                                     123 Pine Ave.   \n",
       "1  234123412347                                           main st   \n",
       "2    7542011030                      1234 west main heights 57033   \n",
       "3    7552A10004                    apt 1 789 s maple rd manhattan   \n",
       "4    8019010008                robie house, 789 north main street   \n",
       "5         hello         1111 S Figueroa St, Los Angeles, CA 90015   \n",
       "6           NaN  (staples center) 1111 S Figueroa St, Los Angeles   \n",
       "7          NULL                                             hello   \n",
       "\n",
       "      pan_clean  \n",
       "0    ACUPA7085R  \n",
       "1  234123412347  \n",
       "2    7542011030  \n",
       "3    7552A10004  \n",
       "4    8019010008  \n",
       "5         hello  \n",
       "6           NaN  \n",
       "7           NaN  "
      ]
     },
     "execution_count": 1,
     "metadata": {},
     "output_type": "execute_result"
    }
   ],
   "source": [
    "clean_in_pan(df, \"pan\", errors=\"ignore\")"
   ]
  },
  {
   "cell_type": "markdown",
   "id": "twelve-thompson",
   "metadata": {},
   "source": [
    "## 4. `validate_in_pan()`"
   ]
  },
  {
   "cell_type": "markdown",
   "id": "early-atlantic",
   "metadata": {},
   "source": [
    "`validate_in_pan()` returns `True` when the input is a valid PAN. Otherwise it returns `False`.\n",
    "\n",
    "The input of `validate_in_pan()` can be a string, a Pandas DataSeries, a Dask DataSeries, a Pandas DataFrame and a dask DataFrame.\n",
    "\n",
    "When the input is a string, a Pandas DataSeries or a Dask DataSeries, user doesn't need to specify a column name to be validated. \n",
    "\n",
    "When the input is a Pandas DataFrame or a dask DataFrame, user can both specify or not specify a column name to be validated. If user specify the column name, `validate_in_pan()` only returns the validation result for the specified column. If user doesn't specify the column name, `validate_in_pan()` returns the validation result for the whole DataFrame."
   ]
  },
  {
   "cell_type": "code",
   "execution_count": 10,
   "id": "exterior-rugby",
   "metadata": {
    "execution": {
     "iopub.execute_input": "2021-11-01T18:54:15.903865Z",
     "iopub.status.busy": "2021-11-01T18:54:15.903149Z",
     "iopub.status.idle": "2021-11-01T18:54:15.907411Z",
     "shell.execute_reply": "2021-11-01T18:54:15.906635Z"
    }
   },
   "outputs": [
    {
     "name": "stdout",
     "output_type": "stream",
     "text": [
      "True\n",
      "False\n",
      "False\n",
      "False\n",
      "False\n",
      "False\n",
      "False\n",
      "False\n"
     ]
    }
   ],
   "source": [
    "from dataprep.clean import validate_in_pan\n",
    "print(validate_in_pan('ACUPA7085R'))\n",
    "print(validate_in_pan('234123412347'))\n",
    "print(validate_in_pan('7542011030'))\n",
    "print(validate_in_pan('7552A10004'))\n",
    "print(validate_in_pan('8019010008'))\n",
    "print(validate_in_pan(\"hello\"))\n",
    "print(validate_in_pan(np.nan))\n",
    "print(validate_in_pan(\"NULL\"))"
   ]
  },
  {
   "cell_type": "markdown",
   "id": "binding-final",
   "metadata": {},
   "source": [
    "### Series"
   ]
  },
  {
   "cell_type": "code",
   "execution_count": 11,
   "id": "million-appearance",
   "metadata": {
    "execution": {
     "iopub.execute_input": "2021-11-01T18:54:15.913447Z",
     "iopub.status.busy": "2021-11-01T18:54:15.912778Z",
     "iopub.status.idle": "2021-11-01T18:54:15.918663Z",
     "shell.execute_reply": "2021-11-01T18:54:15.918114Z"
    }
   },
   "outputs": [
    {
     "data": {
      "text/plain": [
       "0     True\n",
       "1    False\n",
       "2    False\n",
       "3    False\n",
       "4    False\n",
       "5    False\n",
       "6    False\n",
       "7    False\n",
       "Name: pan, dtype: bool"
      ]
     },
     "execution_count": 1,
     "metadata": {},
     "output_type": "execute_result"
    }
   ],
   "source": [
    "validate_in_pan(df[\"pan\"])"
   ]
  },
  {
   "cell_type": "markdown",
   "id": "modified-pastor",
   "metadata": {},
   "source": [
    "### DataFrame + Specify Column"
   ]
  },
  {
   "cell_type": "code",
   "execution_count": 12,
   "id": "going-tanzania",
   "metadata": {
    "execution": {
     "iopub.execute_input": "2021-11-01T18:54:15.924135Z",
     "iopub.status.busy": "2021-11-01T18:54:15.923514Z",
     "iopub.status.idle": "2021-11-01T18:54:15.928828Z",
     "shell.execute_reply": "2021-11-01T18:54:15.928288Z"
    }
   },
   "outputs": [
    {
     "data": {
      "text/plain": [
       "0     True\n",
       "1    False\n",
       "2    False\n",
       "3    False\n",
       "4    False\n",
       "5    False\n",
       "6    False\n",
       "7    False\n",
       "Name: pan, dtype: bool"
      ]
     },
     "execution_count": 1,
     "metadata": {},
     "output_type": "execute_result"
    }
   ],
   "source": [
    "validate_in_pan(df, column=\"pan\")"
   ]
  },
  {
   "cell_type": "markdown",
   "id": "fewer-roller",
   "metadata": {},
   "source": [
    "### Only DataFrame"
   ]
  },
  {
   "cell_type": "code",
   "execution_count": 13,
   "id": "awful-analysis",
   "metadata": {
    "execution": {
     "iopub.execute_input": "2021-11-01T18:54:15.938319Z",
     "iopub.status.busy": "2021-11-01T18:54:15.931939Z",
     "iopub.status.idle": "2021-11-01T18:54:15.943766Z",
     "shell.execute_reply": "2021-11-01T18:54:15.944256Z"
    }
   },
   "outputs": [
    {
     "data": {
      "text/html": [
       "<div>\n",
       "<style scoped>\n",
       "    .dataframe tbody tr th:only-of-type {\n",
       "        vertical-align: middle;\n",
       "    }\n",
       "\n",
       "    .dataframe tbody tr th {\n",
       "        vertical-align: top;\n",
       "    }\n",
       "\n",
       "    .dataframe thead th {\n",
       "        text-align: right;\n",
       "    }\n",
       "</style>\n",
       "<table border=\"1\" class=\"dataframe\">\n",
       "  <thead>\n",
       "    <tr style=\"text-align: right;\">\n",
       "      <th></th>\n",
       "      <th>pan</th>\n",
       "      <th>address</th>\n",
       "    </tr>\n",
       "  </thead>\n",
       "  <tbody>\n",
       "    <tr>\n",
       "      <th>0</th>\n",
       "      <td>True</td>\n",
       "      <td>False</td>\n",
       "    </tr>\n",
       "    <tr>\n",
       "      <th>1</th>\n",
       "      <td>False</td>\n",
       "      <td>False</td>\n",
       "    </tr>\n",
       "    <tr>\n",
       "      <th>2</th>\n",
       "      <td>False</td>\n",
       "      <td>False</td>\n",
       "    </tr>\n",
       "    <tr>\n",
       "      <th>3</th>\n",
       "      <td>False</td>\n",
       "      <td>False</td>\n",
       "    </tr>\n",
       "    <tr>\n",
       "      <th>4</th>\n",
       "      <td>False</td>\n",
       "      <td>False</td>\n",
       "    </tr>\n",
       "    <tr>\n",
       "      <th>5</th>\n",
       "      <td>False</td>\n",
       "      <td>False</td>\n",
       "    </tr>\n",
       "    <tr>\n",
       "      <th>6</th>\n",
       "      <td>False</td>\n",
       "      <td>False</td>\n",
       "    </tr>\n",
       "    <tr>\n",
       "      <th>7</th>\n",
       "      <td>False</td>\n",
       "      <td>False</td>\n",
       "    </tr>\n",
       "  </tbody>\n",
       "</table>\n",
       "</div>"
      ],
      "text/plain": [
       "     pan  address\n",
       "0   True    False\n",
       "1  False    False\n",
       "2  False    False\n",
       "3  False    False\n",
       "4  False    False\n",
       "5  False    False\n",
       "6  False    False\n",
       "7  False    False"
      ]
     },
     "execution_count": 1,
     "metadata": {},
     "output_type": "execute_result"
    }
   ],
   "source": [
    "validate_in_pan(df)"
   ]
  },
  {
   "cell_type": "code",
   "execution_count": null,
   "id": "ignored-prize",
   "metadata": {},
   "outputs": [],
   "source": []
  }
 ],
 "metadata": {
  "kernelspec": {
   "display_name": "Python 3",
   "language": "python",
   "name": "python3"
  },
  "language_info": {
   "codemirror_mode": {
    "name": "ipython",
    "version": 3
   },
   "file_extension": ".py",
   "mimetype": "text/x-python",
   "name": "python",
   "nbconvert_exporter": "python",
   "pygments_lexer": "ipython3",
   "version": "3.8.10"
  }
 },
 "nbformat": 4,
 "nbformat_minor": 5
}
