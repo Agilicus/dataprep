{
 "cells": [
  {
   "cell_type": "raw",
   "id": "animal-emergency",
   "metadata": {},
   "source": [
    ".. _ni_userguide:\n",
    "\n",
    "Cuban Identity Card Numbers\n",
    "==========================="
   ]
  },
  {
   "cell_type": "raw",
   "id": "virtual-armor",
   "metadata": {},
   "source": [
    "Introduction\n",
    "------------\n",
    "\n",
    "The function :func:`clean_cu_ni() <dataprep.clean.clean_cu_ni.clean_cu_ni>` cleans a column containing Cuban identity card numbers (NI) strings, and standardizes them in a given format. The function :func:`validate_cu_ni() <dataprep.clean.clean_cu_ni.validate_cu_ni>` validates either a single NI strings, a column of NI strings or a DataFrame of NI strings, returning `True` if the value is valid, and `False` otherwise."
   ]
  },
  {
   "cell_type": "markdown",
   "id": "controlled-drawing",
   "metadata": {},
   "source": [
    "NI strings can be converted to the following formats via the `output_format` parameter:\n",
    "\n",
    "* `compact`: only number strings without any seperators or whitespace, like \"91021027775\"\n",
    "* `standard`: NI strings with proper whitespace in the proper places. Note that in the case of NI, the compact format is the same as the standard one.\n",
    "* `birthdate`: split the date parts from the number and return the birth date, like \"1991-02-10\".\n",
    "* `gender`: return the gender (M/F) from the person's NI.\n",
    "\n",
    "Invalid parsing is handled with the `errors` parameter:\n",
    "\n",
    "* `coerce` (default): invalid parsing will be set to NaN\n",
    "* `ignore`: invalid parsing will return the input\n",
    "* `raise`: invalid parsing will raise an exception\n",
    "\n",
    "The following sections demonstrate the functionality of `clean_cu_ni()` and `validate_cu_ni()`. "
   ]
  },
  {
   "cell_type": "markdown",
   "id": "bright-bacon",
   "metadata": {},
   "source": [
    "### An example dataset containing NI strings"
   ]
  },
  {
   "cell_type": "code",
   "execution_count": 1,
   "id": "legendary-concord",
   "metadata": {
    "execution": {
     "iopub.execute_input": "2021-11-02T21:26:56.906687Z",
     "iopub.status.busy": "2021-11-02T21:26:56.906159Z",
     "iopub.status.idle": "2021-11-02T21:26:57.096977Z",
     "shell.execute_reply": "2021-11-02T21:26:57.096508Z"
    }
   },
   "outputs": [
    {
     "data": {
      "text/html": [
       "<div>\n",
       "<style scoped>\n",
       "    .dataframe tbody tr th:only-of-type {\n",
       "        vertical-align: middle;\n",
       "    }\n",
       "\n",
       "    .dataframe tbody tr th {\n",
       "        vertical-align: top;\n",
       "    }\n",
       "\n",
       "    .dataframe thead th {\n",
       "        text-align: right;\n",
       "    }\n",
       "</style>\n",
       "<table border=\"1\" class=\"dataframe\">\n",
       "  <thead>\n",
       "    <tr style=\"text-align: right;\">\n",
       "      <th></th>\n",
       "      <th>ni</th>\n",
       "      <th>address</th>\n",
       "    </tr>\n",
       "  </thead>\n",
       "  <tbody>\n",
       "    <tr>\n",
       "      <th>0</th>\n",
       "      <td>91021027775</td>\n",
       "      <td>123 Pine Ave.</td>\n",
       "    </tr>\n",
       "    <tr>\n",
       "      <th>1</th>\n",
       "      <td>9102102777A</td>\n",
       "      <td>main st</td>\n",
       "    </tr>\n",
       "    <tr>\n",
       "      <th>2</th>\n",
       "      <td>7542011030</td>\n",
       "      <td>1234 west main heights 57033</td>\n",
       "    </tr>\n",
       "    <tr>\n",
       "      <th>3</th>\n",
       "      <td>7552A10004</td>\n",
       "      <td>apt 1 789 s maple rd manhattan</td>\n",
       "    </tr>\n",
       "    <tr>\n",
       "      <th>4</th>\n",
       "      <td>8019010008</td>\n",
       "      <td>robie house, 789 north main street</td>\n",
       "    </tr>\n",
       "    <tr>\n",
       "      <th>5</th>\n",
       "      <td>hello</td>\n",
       "      <td>1111 S Figueroa St, Los Angeles, CA 90015</td>\n",
       "    </tr>\n",
       "    <tr>\n",
       "      <th>6</th>\n",
       "      <td>NaN</td>\n",
       "      <td>(staples center) 1111 S Figueroa St, Los Angeles</td>\n",
       "    </tr>\n",
       "    <tr>\n",
       "      <th>7</th>\n",
       "      <td>NULL</td>\n",
       "      <td>hello</td>\n",
       "    </tr>\n",
       "  </tbody>\n",
       "</table>\n",
       "</div>"
      ],
      "text/plain": [
       "            ni                                           address\n",
       "0  91021027775                                     123 Pine Ave.\n",
       "1  9102102777A                                           main st\n",
       "2   7542011030                      1234 west main heights 57033\n",
       "3   7552A10004                    apt 1 789 s maple rd manhattan\n",
       "4   8019010008                robie house, 789 north main street\n",
       "5        hello         1111 S Figueroa St, Los Angeles, CA 90015\n",
       "6          NaN  (staples center) 1111 S Figueroa St, Los Angeles\n",
       "7         NULL                                             hello"
      ]
     },
     "execution_count": 1,
     "metadata": {},
     "output_type": "execute_result"
    }
   ],
   "source": [
    "import pandas as pd\n",
    "import numpy as np\n",
    "df = pd.DataFrame(\n",
    "    {\n",
    "        \"ni\": [\n",
    "            '91021027775',\n",
    "            '9102102777A',\n",
    "            '7542011030',\n",
    "            '7552A10004',\n",
    "            '8019010008',\n",
    "            \"hello\",\n",
    "            np.nan,\n",
    "            \"NULL\",\n",
    "        ], \n",
    "        \"address\": [\n",
    "            \"123 Pine Ave.\",\n",
    "            \"main st\",\n",
    "            \"1234 west main heights 57033\",\n",
    "            \"apt 1 789 s maple rd manhattan\",\n",
    "            \"robie house, 789 north main street\",\n",
    "            \"1111 S Figueroa St, Los Angeles, CA 90015\",\n",
    "            \"(staples center) 1111 S Figueroa St, Los Angeles\",\n",
    "            \"hello\",\n",
    "        ]\n",
    "    }\n",
    ")\n",
    "df"
   ]
  },
  {
   "cell_type": "markdown",
   "id": "resident-youth",
   "metadata": {},
   "source": [
    "## 1. Default `clean_cu_ni`\n",
    "\n",
    "By default, `clean_cu_ni` will clean ni strings and output them in the standard format with proper separators."
   ]
  },
  {
   "cell_type": "code",
   "execution_count": 2,
   "id": "damaged-pulse",
   "metadata": {
    "execution": {
     "iopub.execute_input": "2021-11-02T21:26:57.100708Z",
     "iopub.status.busy": "2021-11-02T21:26:57.099628Z",
     "iopub.status.idle": "2021-11-02T21:26:57.559611Z",
     "shell.execute_reply": "2021-11-02T21:26:57.558953Z"
    }
   },
   "outputs": [
    {
     "data": {
      "text/html": [
       "<div>\n",
       "<style scoped>\n",
       "    .dataframe tbody tr th:only-of-type {\n",
       "        vertical-align: middle;\n",
       "    }\n",
       "\n",
       "    .dataframe tbody tr th {\n",
       "        vertical-align: top;\n",
       "    }\n",
       "\n",
       "    .dataframe thead th {\n",
       "        text-align: right;\n",
       "    }\n",
       "</style>\n",
       "<table border=\"1\" class=\"dataframe\">\n",
       "  <thead>\n",
       "    <tr style=\"text-align: right;\">\n",
       "      <th></th>\n",
       "      <th>ni</th>\n",
       "      <th>address</th>\n",
       "      <th>ni_clean</th>\n",
       "    </tr>\n",
       "  </thead>\n",
       "  <tbody>\n",
       "    <tr>\n",
       "      <th>0</th>\n",
       "      <td>91021027775</td>\n",
       "      <td>123 Pine Ave.</td>\n",
       "      <td>91021027775</td>\n",
       "    </tr>\n",
       "    <tr>\n",
       "      <th>1</th>\n",
       "      <td>9102102777A</td>\n",
       "      <td>main st</td>\n",
       "      <td>NaN</td>\n",
       "    </tr>\n",
       "    <tr>\n",
       "      <th>2</th>\n",
       "      <td>7542011030</td>\n",
       "      <td>1234 west main heights 57033</td>\n",
       "      <td>NaN</td>\n",
       "    </tr>\n",
       "    <tr>\n",
       "      <th>3</th>\n",
       "      <td>7552A10004</td>\n",
       "      <td>apt 1 789 s maple rd manhattan</td>\n",
       "      <td>NaN</td>\n",
       "    </tr>\n",
       "    <tr>\n",
       "      <th>4</th>\n",
       "      <td>8019010008</td>\n",
       "      <td>robie house, 789 north main street</td>\n",
       "      <td>NaN</td>\n",
       "    </tr>\n",
       "    <tr>\n",
       "      <th>5</th>\n",
       "      <td>hello</td>\n",
       "      <td>1111 S Figueroa St, Los Angeles, CA 90015</td>\n",
       "      <td>NaN</td>\n",
       "    </tr>\n",
       "    <tr>\n",
       "      <th>6</th>\n",
       "      <td>NaN</td>\n",
       "      <td>(staples center) 1111 S Figueroa St, Los Angeles</td>\n",
       "      <td>NaN</td>\n",
       "    </tr>\n",
       "    <tr>\n",
       "      <th>7</th>\n",
       "      <td>NULL</td>\n",
       "      <td>hello</td>\n",
       "      <td>NaN</td>\n",
       "    </tr>\n",
       "  </tbody>\n",
       "</table>\n",
       "</div>"
      ],
      "text/plain": [
       "            ni                                           address     ni_clean\n",
       "0  91021027775                                     123 Pine Ave.  91021027775\n",
       "1  9102102777A                                           main st          NaN\n",
       "2   7542011030                      1234 west main heights 57033          NaN\n",
       "3   7552A10004                    apt 1 789 s maple rd manhattan          NaN\n",
       "4   8019010008                robie house, 789 north main street          NaN\n",
       "5        hello         1111 S Figueroa St, Los Angeles, CA 90015          NaN\n",
       "6          NaN  (staples center) 1111 S Figueroa St, Los Angeles          NaN\n",
       "7         NULL                                             hello          NaN"
      ]
     },
     "execution_count": 1,
     "metadata": {},
     "output_type": "execute_result"
    }
   ],
   "source": [
    "from dataprep.clean import clean_cu_ni\n",
    "clean_cu_ni(df, column = \"ni\")"
   ]
  },
  {
   "cell_type": "markdown",
   "id": "configured-wagon",
   "metadata": {},
   "source": [
    "## 2. Output formats"
   ]
  },
  {
   "cell_type": "markdown",
   "id": "danish-paris",
   "metadata": {},
   "source": [
    "This section demonstrates the output parameter."
   ]
  },
  {
   "cell_type": "markdown",
   "id": "bulgarian-eight",
   "metadata": {},
   "source": [
    "### `standard` (default)"
   ]
  },
  {
   "cell_type": "code",
   "execution_count": 3,
   "id": "infectious-partition",
   "metadata": {
    "execution": {
     "iopub.execute_input": "2021-11-02T21:26:57.574246Z",
     "iopub.status.busy": "2021-11-02T21:26:57.573810Z",
     "iopub.status.idle": "2021-11-02T21:26:57.583998Z",
     "shell.execute_reply": "2021-11-02T21:26:57.583663Z"
    }
   },
   "outputs": [
    {
     "data": {
      "text/html": [
       "<div>\n",
       "<style scoped>\n",
       "    .dataframe tbody tr th:only-of-type {\n",
       "        vertical-align: middle;\n",
       "    }\n",
       "\n",
       "    .dataframe tbody tr th {\n",
       "        vertical-align: top;\n",
       "    }\n",
       "\n",
       "    .dataframe thead th {\n",
       "        text-align: right;\n",
       "    }\n",
       "</style>\n",
       "<table border=\"1\" class=\"dataframe\">\n",
       "  <thead>\n",
       "    <tr style=\"text-align: right;\">\n",
       "      <th></th>\n",
       "      <th>ni</th>\n",
       "      <th>address</th>\n",
       "      <th>ni_clean</th>\n",
       "    </tr>\n",
       "  </thead>\n",
       "  <tbody>\n",
       "    <tr>\n",
       "      <th>0</th>\n",
       "      <td>91021027775</td>\n",
       "      <td>123 Pine Ave.</td>\n",
       "      <td>91021027775</td>\n",
       "    </tr>\n",
       "    <tr>\n",
       "      <th>1</th>\n",
       "      <td>9102102777A</td>\n",
       "      <td>main st</td>\n",
       "      <td>NaN</td>\n",
       "    </tr>\n",
       "    <tr>\n",
       "      <th>2</th>\n",
       "      <td>7542011030</td>\n",
       "      <td>1234 west main heights 57033</td>\n",
       "      <td>NaN</td>\n",
       "    </tr>\n",
       "    <tr>\n",
       "      <th>3</th>\n",
       "      <td>7552A10004</td>\n",
       "      <td>apt 1 789 s maple rd manhattan</td>\n",
       "      <td>NaN</td>\n",
       "    </tr>\n",
       "    <tr>\n",
       "      <th>4</th>\n",
       "      <td>8019010008</td>\n",
       "      <td>robie house, 789 north main street</td>\n",
       "      <td>NaN</td>\n",
       "    </tr>\n",
       "    <tr>\n",
       "      <th>5</th>\n",
       "      <td>hello</td>\n",
       "      <td>1111 S Figueroa St, Los Angeles, CA 90015</td>\n",
       "      <td>NaN</td>\n",
       "    </tr>\n",
       "    <tr>\n",
       "      <th>6</th>\n",
       "      <td>NaN</td>\n",
       "      <td>(staples center) 1111 S Figueroa St, Los Angeles</td>\n",
       "      <td>NaN</td>\n",
       "    </tr>\n",
       "    <tr>\n",
       "      <th>7</th>\n",
       "      <td>NULL</td>\n",
       "      <td>hello</td>\n",
       "      <td>NaN</td>\n",
       "    </tr>\n",
       "  </tbody>\n",
       "</table>\n",
       "</div>"
      ],
      "text/plain": [
       "            ni                                           address     ni_clean\n",
       "0  91021027775                                     123 Pine Ave.  91021027775\n",
       "1  9102102777A                                           main st          NaN\n",
       "2   7542011030                      1234 west main heights 57033          NaN\n",
       "3   7552A10004                    apt 1 789 s maple rd manhattan          NaN\n",
       "4   8019010008                robie house, 789 north main street          NaN\n",
       "5        hello         1111 S Figueroa St, Los Angeles, CA 90015          NaN\n",
       "6          NaN  (staples center) 1111 S Figueroa St, Los Angeles          NaN\n",
       "7         NULL                                             hello          NaN"
      ]
     },
     "execution_count": 1,
     "metadata": {},
     "output_type": "execute_result"
    }
   ],
   "source": [
    "clean_cu_ni(df, column = \"ni\", output_format=\"standard\")"
   ]
  },
  {
   "cell_type": "markdown",
   "id": "friendly-jamaica",
   "metadata": {},
   "source": [
    "### `compact`"
   ]
  },
  {
   "cell_type": "code",
   "execution_count": 4,
   "id": "innovative-speed",
   "metadata": {
    "execution": {
     "iopub.execute_input": "2021-11-02T21:26:57.602981Z",
     "iopub.status.busy": "2021-11-02T21:26:57.602565Z",
     "iopub.status.idle": "2021-11-02T21:26:57.609416Z",
     "shell.execute_reply": "2021-11-02T21:26:57.609746Z"
    }
   },
   "outputs": [
    {
     "data": {
      "text/html": [
       "<div>\n",
       "<style scoped>\n",
       "    .dataframe tbody tr th:only-of-type {\n",
       "        vertical-align: middle;\n",
       "    }\n",
       "\n",
       "    .dataframe tbody tr th {\n",
       "        vertical-align: top;\n",
       "    }\n",
       "\n",
       "    .dataframe thead th {\n",
       "        text-align: right;\n",
       "    }\n",
       "</style>\n",
       "<table border=\"1\" class=\"dataframe\">\n",
       "  <thead>\n",
       "    <tr style=\"text-align: right;\">\n",
       "      <th></th>\n",
       "      <th>ni</th>\n",
       "      <th>address</th>\n",
       "      <th>ni_clean</th>\n",
       "    </tr>\n",
       "  </thead>\n",
       "  <tbody>\n",
       "    <tr>\n",
       "      <th>0</th>\n",
       "      <td>91021027775</td>\n",
       "      <td>123 Pine Ave.</td>\n",
       "      <td>91021027775</td>\n",
       "    </tr>\n",
       "    <tr>\n",
       "      <th>1</th>\n",
       "      <td>9102102777A</td>\n",
       "      <td>main st</td>\n",
       "      <td>NaN</td>\n",
       "    </tr>\n",
       "    <tr>\n",
       "      <th>2</th>\n",
       "      <td>7542011030</td>\n",
       "      <td>1234 west main heights 57033</td>\n",
       "      <td>NaN</td>\n",
       "    </tr>\n",
       "    <tr>\n",
       "      <th>3</th>\n",
       "      <td>7552A10004</td>\n",
       "      <td>apt 1 789 s maple rd manhattan</td>\n",
       "      <td>NaN</td>\n",
       "    </tr>\n",
       "    <tr>\n",
       "      <th>4</th>\n",
       "      <td>8019010008</td>\n",
       "      <td>robie house, 789 north main street</td>\n",
       "      <td>NaN</td>\n",
       "    </tr>\n",
       "    <tr>\n",
       "      <th>5</th>\n",
       "      <td>hello</td>\n",
       "      <td>1111 S Figueroa St, Los Angeles, CA 90015</td>\n",
       "      <td>NaN</td>\n",
       "    </tr>\n",
       "    <tr>\n",
       "      <th>6</th>\n",
       "      <td>NaN</td>\n",
       "      <td>(staples center) 1111 S Figueroa St, Los Angeles</td>\n",
       "      <td>NaN</td>\n",
       "    </tr>\n",
       "    <tr>\n",
       "      <th>7</th>\n",
       "      <td>NULL</td>\n",
       "      <td>hello</td>\n",
       "      <td>NaN</td>\n",
       "    </tr>\n",
       "  </tbody>\n",
       "</table>\n",
       "</div>"
      ],
      "text/plain": [
       "            ni                                           address     ni_clean\n",
       "0  91021027775                                     123 Pine Ave.  91021027775\n",
       "1  9102102777A                                           main st          NaN\n",
       "2   7542011030                      1234 west main heights 57033          NaN\n",
       "3   7552A10004                    apt 1 789 s maple rd manhattan          NaN\n",
       "4   8019010008                robie house, 789 north main street          NaN\n",
       "5        hello         1111 S Figueroa St, Los Angeles, CA 90015          NaN\n",
       "6          NaN  (staples center) 1111 S Figueroa St, Los Angeles          NaN\n",
       "7         NULL                                             hello          NaN"
      ]
     },
     "execution_count": 1,
     "metadata": {},
     "output_type": "execute_result"
    }
   ],
   "source": [
    "clean_cu_ni(df, column = \"ni\", output_format=\"compact\")"
   ]
  },
  {
   "cell_type": "markdown",
   "id": "noticed-colors",
   "metadata": {},
   "source": [
    "### `birthdate`"
   ]
  },
  {
   "cell_type": "code",
   "execution_count": 5,
   "id": "confused-logging",
   "metadata": {
    "execution": {
     "iopub.execute_input": "2021-11-02T21:26:57.624712Z",
     "iopub.status.busy": "2021-11-02T21:26:57.615012Z",
     "iopub.status.idle": "2021-11-02T21:26:57.633039Z",
     "shell.execute_reply": "2021-11-02T21:26:57.632701Z"
    }
   },
   "outputs": [
    {
     "data": {
      "text/html": [
       "<div>\n",
       "<style scoped>\n",
       "    .dataframe tbody tr th:only-of-type {\n",
       "        vertical-align: middle;\n",
       "    }\n",
       "\n",
       "    .dataframe tbody tr th {\n",
       "        vertical-align: top;\n",
       "    }\n",
       "\n",
       "    .dataframe thead th {\n",
       "        text-align: right;\n",
       "    }\n",
       "</style>\n",
       "<table border=\"1\" class=\"dataframe\">\n",
       "  <thead>\n",
       "    <tr style=\"text-align: right;\">\n",
       "      <th></th>\n",
       "      <th>ni</th>\n",
       "      <th>address</th>\n",
       "      <th>ni_clean</th>\n",
       "    </tr>\n",
       "  </thead>\n",
       "  <tbody>\n",
       "    <tr>\n",
       "      <th>0</th>\n",
       "      <td>91021027775</td>\n",
       "      <td>123 Pine Ave.</td>\n",
       "      <td>1991-02-10</td>\n",
       "    </tr>\n",
       "    <tr>\n",
       "      <th>1</th>\n",
       "      <td>9102102777A</td>\n",
       "      <td>main st</td>\n",
       "      <td>NaN</td>\n",
       "    </tr>\n",
       "    <tr>\n",
       "      <th>2</th>\n",
       "      <td>7542011030</td>\n",
       "      <td>1234 west main heights 57033</td>\n",
       "      <td>NaN</td>\n",
       "    </tr>\n",
       "    <tr>\n",
       "      <th>3</th>\n",
       "      <td>7552A10004</td>\n",
       "      <td>apt 1 789 s maple rd manhattan</td>\n",
       "      <td>NaN</td>\n",
       "    </tr>\n",
       "    <tr>\n",
       "      <th>4</th>\n",
       "      <td>8019010008</td>\n",
       "      <td>robie house, 789 north main street</td>\n",
       "      <td>NaN</td>\n",
       "    </tr>\n",
       "    <tr>\n",
       "      <th>5</th>\n",
       "      <td>hello</td>\n",
       "      <td>1111 S Figueroa St, Los Angeles, CA 90015</td>\n",
       "      <td>NaN</td>\n",
       "    </tr>\n",
       "    <tr>\n",
       "      <th>6</th>\n",
       "      <td>NaN</td>\n",
       "      <td>(staples center) 1111 S Figueroa St, Los Angeles</td>\n",
       "      <td>NaN</td>\n",
       "    </tr>\n",
       "    <tr>\n",
       "      <th>7</th>\n",
       "      <td>NULL</td>\n",
       "      <td>hello</td>\n",
       "      <td>NaN</td>\n",
       "    </tr>\n",
       "  </tbody>\n",
       "</table>\n",
       "</div>"
      ],
      "text/plain": [
       "            ni                                           address    ni_clean\n",
       "0  91021027775                                     123 Pine Ave.  1991-02-10\n",
       "1  9102102777A                                           main st         NaN\n",
       "2   7542011030                      1234 west main heights 57033         NaN\n",
       "3   7552A10004                    apt 1 789 s maple rd manhattan         NaN\n",
       "4   8019010008                robie house, 789 north main street         NaN\n",
       "5        hello         1111 S Figueroa St, Los Angeles, CA 90015         NaN\n",
       "6          NaN  (staples center) 1111 S Figueroa St, Los Angeles         NaN\n",
       "7         NULL                                             hello         NaN"
      ]
     },
     "execution_count": 1,
     "metadata": {},
     "output_type": "execute_result"
    }
   ],
   "source": [
    "clean_cu_ni(df, column = \"ni\", output_format=\"birthdate\")"
   ]
  },
  {
   "cell_type": "markdown",
   "id": "particular-branch",
   "metadata": {},
   "source": [
    "### `gender`"
   ]
  },
  {
   "cell_type": "code",
   "execution_count": 6,
   "id": "exempt-house",
   "metadata": {
    "execution": {
     "iopub.execute_input": "2021-11-02T21:26:57.650951Z",
     "iopub.status.busy": "2021-11-02T21:26:57.650592Z",
     "iopub.status.idle": "2021-11-02T21:26:57.657422Z",
     "shell.execute_reply": "2021-11-02T21:26:57.657107Z"
    }
   },
   "outputs": [
    {
     "data": {
      "text/html": [
       "<div>\n",
       "<style scoped>\n",
       "    .dataframe tbody tr th:only-of-type {\n",
       "        vertical-align: middle;\n",
       "    }\n",
       "\n",
       "    .dataframe tbody tr th {\n",
       "        vertical-align: top;\n",
       "    }\n",
       "\n",
       "    .dataframe thead th {\n",
       "        text-align: right;\n",
       "    }\n",
       "</style>\n",
       "<table border=\"1\" class=\"dataframe\">\n",
       "  <thead>\n",
       "    <tr style=\"text-align: right;\">\n",
       "      <th></th>\n",
       "      <th>ni</th>\n",
       "      <th>address</th>\n",
       "      <th>ni_clean</th>\n",
       "    </tr>\n",
       "  </thead>\n",
       "  <tbody>\n",
       "    <tr>\n",
       "      <th>0</th>\n",
       "      <td>91021027775</td>\n",
       "      <td>123 Pine Ave.</td>\n",
       "      <td>F</td>\n",
       "    </tr>\n",
       "    <tr>\n",
       "      <th>1</th>\n",
       "      <td>9102102777A</td>\n",
       "      <td>main st</td>\n",
       "      <td>NaN</td>\n",
       "    </tr>\n",
       "    <tr>\n",
       "      <th>2</th>\n",
       "      <td>7542011030</td>\n",
       "      <td>1234 west main heights 57033</td>\n",
       "      <td>NaN</td>\n",
       "    </tr>\n",
       "    <tr>\n",
       "      <th>3</th>\n",
       "      <td>7552A10004</td>\n",
       "      <td>apt 1 789 s maple rd manhattan</td>\n",
       "      <td>NaN</td>\n",
       "    </tr>\n",
       "    <tr>\n",
       "      <th>4</th>\n",
       "      <td>8019010008</td>\n",
       "      <td>robie house, 789 north main street</td>\n",
       "      <td>NaN</td>\n",
       "    </tr>\n",
       "    <tr>\n",
       "      <th>5</th>\n",
       "      <td>hello</td>\n",
       "      <td>1111 S Figueroa St, Los Angeles, CA 90015</td>\n",
       "      <td>NaN</td>\n",
       "    </tr>\n",
       "    <tr>\n",
       "      <th>6</th>\n",
       "      <td>NaN</td>\n",
       "      <td>(staples center) 1111 S Figueroa St, Los Angeles</td>\n",
       "      <td>NaN</td>\n",
       "    </tr>\n",
       "    <tr>\n",
       "      <th>7</th>\n",
       "      <td>NULL</td>\n",
       "      <td>hello</td>\n",
       "      <td>NaN</td>\n",
       "    </tr>\n",
       "  </tbody>\n",
       "</table>\n",
       "</div>"
      ],
      "text/plain": [
       "            ni                                           address ni_clean\n",
       "0  91021027775                                     123 Pine Ave.        F\n",
       "1  9102102777A                                           main st      NaN\n",
       "2   7542011030                      1234 west main heights 57033      NaN\n",
       "3   7552A10004                    apt 1 789 s maple rd manhattan      NaN\n",
       "4   8019010008                robie house, 789 north main street      NaN\n",
       "5        hello         1111 S Figueroa St, Los Angeles, CA 90015      NaN\n",
       "6          NaN  (staples center) 1111 S Figueroa St, Los Angeles      NaN\n",
       "7         NULL                                             hello      NaN"
      ]
     },
     "execution_count": 1,
     "metadata": {},
     "output_type": "execute_result"
    }
   ],
   "source": [
    "clean_cu_ni(df, column = \"ni\", output_format=\"gender\")"
   ]
  },
  {
   "cell_type": "markdown",
   "id": "increasing-tower",
   "metadata": {},
   "source": [
    "## 3. `inplace` parameter\n",
    "\n",
    "This deletes the given column from the returned DataFrame. \n",
    "A new column containing cleaned NI strings is added with a title in the format `\"{original title}_clean\"`."
   ]
  },
  {
   "cell_type": "code",
   "execution_count": 7,
   "id": "micro-aggregate",
   "metadata": {
    "execution": {
     "iopub.execute_input": "2021-11-02T21:26:57.687240Z",
     "iopub.status.busy": "2021-11-02T21:26:57.686529Z",
     "iopub.status.idle": "2021-11-02T21:26:57.691119Z",
     "shell.execute_reply": "2021-11-02T21:26:57.690733Z"
    }
   },
   "outputs": [
    {
     "data": {
      "text/html": [
       "<div>\n",
       "<style scoped>\n",
       "    .dataframe tbody tr th:only-of-type {\n",
       "        vertical-align: middle;\n",
       "    }\n",
       "\n",
       "    .dataframe tbody tr th {\n",
       "        vertical-align: top;\n",
       "    }\n",
       "\n",
       "    .dataframe thead th {\n",
       "        text-align: right;\n",
       "    }\n",
       "</style>\n",
       "<table border=\"1\" class=\"dataframe\">\n",
       "  <thead>\n",
       "    <tr style=\"text-align: right;\">\n",
       "      <th></th>\n",
       "      <th>ni_clean</th>\n",
       "      <th>address</th>\n",
       "    </tr>\n",
       "  </thead>\n",
       "  <tbody>\n",
       "    <tr>\n",
       "      <th>0</th>\n",
       "      <td>91021027775</td>\n",
       "      <td>123 Pine Ave.</td>\n",
       "    </tr>\n",
       "    <tr>\n",
       "      <th>1</th>\n",
       "      <td>NaN</td>\n",
       "      <td>main st</td>\n",
       "    </tr>\n",
       "    <tr>\n",
       "      <th>2</th>\n",
       "      <td>NaN</td>\n",
       "      <td>1234 west main heights 57033</td>\n",
       "    </tr>\n",
       "    <tr>\n",
       "      <th>3</th>\n",
       "      <td>NaN</td>\n",
       "      <td>apt 1 789 s maple rd manhattan</td>\n",
       "    </tr>\n",
       "    <tr>\n",
       "      <th>4</th>\n",
       "      <td>NaN</td>\n",
       "      <td>robie house, 789 north main street</td>\n",
       "    </tr>\n",
       "    <tr>\n",
       "      <th>5</th>\n",
       "      <td>NaN</td>\n",
       "      <td>1111 S Figueroa St, Los Angeles, CA 90015</td>\n",
       "    </tr>\n",
       "    <tr>\n",
       "      <th>6</th>\n",
       "      <td>NaN</td>\n",
       "      <td>(staples center) 1111 S Figueroa St, Los Angeles</td>\n",
       "    </tr>\n",
       "    <tr>\n",
       "      <th>7</th>\n",
       "      <td>NaN</td>\n",
       "      <td>hello</td>\n",
       "    </tr>\n",
       "  </tbody>\n",
       "</table>\n",
       "</div>"
      ],
      "text/plain": [
       "      ni_clean                                           address\n",
       "0  91021027775                                     123 Pine Ave.\n",
       "1          NaN                                           main st\n",
       "2          NaN                      1234 west main heights 57033\n",
       "3          NaN                    apt 1 789 s maple rd manhattan\n",
       "4          NaN                robie house, 789 north main street\n",
       "5          NaN         1111 S Figueroa St, Los Angeles, CA 90015\n",
       "6          NaN  (staples center) 1111 S Figueroa St, Los Angeles\n",
       "7          NaN                                             hello"
      ]
     },
     "execution_count": 1,
     "metadata": {},
     "output_type": "execute_result"
    }
   ],
   "source": [
    "clean_cu_ni(df, column=\"ni\", inplace=True)"
   ]
  },
  {
   "cell_type": "markdown",
   "id": "accurate-midnight",
   "metadata": {},
   "source": [
    "## 4. `errors` parameter"
   ]
  },
  {
   "cell_type": "markdown",
   "id": "ruled-thumb",
   "metadata": {},
   "source": [
    "### `coerce` (default)"
   ]
  },
  {
   "cell_type": "code",
   "execution_count": 8,
   "id": "powerful-guidance",
   "metadata": {
    "execution": {
     "iopub.execute_input": "2021-11-02T21:26:57.709599Z",
     "iopub.status.busy": "2021-11-02T21:26:57.709176Z",
     "iopub.status.idle": "2021-11-02T21:26:57.716673Z",
     "shell.execute_reply": "2021-11-02T21:26:57.716095Z"
    }
   },
   "outputs": [
    {
     "data": {
      "text/html": [
       "<div>\n",
       "<style scoped>\n",
       "    .dataframe tbody tr th:only-of-type {\n",
       "        vertical-align: middle;\n",
       "    }\n",
       "\n",
       "    .dataframe tbody tr th {\n",
       "        vertical-align: top;\n",
       "    }\n",
       "\n",
       "    .dataframe thead th {\n",
       "        text-align: right;\n",
       "    }\n",
       "</style>\n",
       "<table border=\"1\" class=\"dataframe\">\n",
       "  <thead>\n",
       "    <tr style=\"text-align: right;\">\n",
       "      <th></th>\n",
       "      <th>ni</th>\n",
       "      <th>address</th>\n",
       "      <th>ni_clean</th>\n",
       "    </tr>\n",
       "  </thead>\n",
       "  <tbody>\n",
       "    <tr>\n",
       "      <th>0</th>\n",
       "      <td>91021027775</td>\n",
       "      <td>123 Pine Ave.</td>\n",
       "      <td>91021027775</td>\n",
       "    </tr>\n",
       "    <tr>\n",
       "      <th>1</th>\n",
       "      <td>9102102777A</td>\n",
       "      <td>main st</td>\n",
       "      <td>NaN</td>\n",
       "    </tr>\n",
       "    <tr>\n",
       "      <th>2</th>\n",
       "      <td>7542011030</td>\n",
       "      <td>1234 west main heights 57033</td>\n",
       "      <td>NaN</td>\n",
       "    </tr>\n",
       "    <tr>\n",
       "      <th>3</th>\n",
       "      <td>7552A10004</td>\n",
       "      <td>apt 1 789 s maple rd manhattan</td>\n",
       "      <td>NaN</td>\n",
       "    </tr>\n",
       "    <tr>\n",
       "      <th>4</th>\n",
       "      <td>8019010008</td>\n",
       "      <td>robie house, 789 north main street</td>\n",
       "      <td>NaN</td>\n",
       "    </tr>\n",
       "    <tr>\n",
       "      <th>5</th>\n",
       "      <td>hello</td>\n",
       "      <td>1111 S Figueroa St, Los Angeles, CA 90015</td>\n",
       "      <td>NaN</td>\n",
       "    </tr>\n",
       "    <tr>\n",
       "      <th>6</th>\n",
       "      <td>NaN</td>\n",
       "      <td>(staples center) 1111 S Figueroa St, Los Angeles</td>\n",
       "      <td>NaN</td>\n",
       "    </tr>\n",
       "    <tr>\n",
       "      <th>7</th>\n",
       "      <td>NULL</td>\n",
       "      <td>hello</td>\n",
       "      <td>NaN</td>\n",
       "    </tr>\n",
       "  </tbody>\n",
       "</table>\n",
       "</div>"
      ],
      "text/plain": [
       "            ni                                           address     ni_clean\n",
       "0  91021027775                                     123 Pine Ave.  91021027775\n",
       "1  9102102777A                                           main st          NaN\n",
       "2   7542011030                      1234 west main heights 57033          NaN\n",
       "3   7552A10004                    apt 1 789 s maple rd manhattan          NaN\n",
       "4   8019010008                robie house, 789 north main street          NaN\n",
       "5        hello         1111 S Figueroa St, Los Angeles, CA 90015          NaN\n",
       "6          NaN  (staples center) 1111 S Figueroa St, Los Angeles          NaN\n",
       "7         NULL                                             hello          NaN"
      ]
     },
     "execution_count": 1,
     "metadata": {},
     "output_type": "execute_result"
    }
   ],
   "source": [
    "clean_cu_ni(df, \"ni\", errors=\"coerce\")"
   ]
  },
  {
   "cell_type": "markdown",
   "id": "historical-reach",
   "metadata": {},
   "source": [
    "### `ignore`"
   ]
  },
  {
   "cell_type": "code",
   "execution_count": 9,
   "id": "pretty-committee",
   "metadata": {
    "execution": {
     "iopub.execute_input": "2021-11-02T21:26:57.733478Z",
     "iopub.status.busy": "2021-11-02T21:26:57.733056Z",
     "iopub.status.idle": "2021-11-02T21:26:57.740758Z",
     "shell.execute_reply": "2021-11-02T21:26:57.741112Z"
    }
   },
   "outputs": [
    {
     "data": {
      "text/html": [
       "<div>\n",
       "<style scoped>\n",
       "    .dataframe tbody tr th:only-of-type {\n",
       "        vertical-align: middle;\n",
       "    }\n",
       "\n",
       "    .dataframe tbody tr th {\n",
       "        vertical-align: top;\n",
       "    }\n",
       "\n",
       "    .dataframe thead th {\n",
       "        text-align: right;\n",
       "    }\n",
       "</style>\n",
       "<table border=\"1\" class=\"dataframe\">\n",
       "  <thead>\n",
       "    <tr style=\"text-align: right;\">\n",
       "      <th></th>\n",
       "      <th>ni</th>\n",
       "      <th>address</th>\n",
       "      <th>ni_clean</th>\n",
       "    </tr>\n",
       "  </thead>\n",
       "  <tbody>\n",
       "    <tr>\n",
       "      <th>0</th>\n",
       "      <td>91021027775</td>\n",
       "      <td>123 Pine Ave.</td>\n",
       "      <td>91021027775</td>\n",
       "    </tr>\n",
       "    <tr>\n",
       "      <th>1</th>\n",
       "      <td>9102102777A</td>\n",
       "      <td>main st</td>\n",
       "      <td>9102102777A</td>\n",
       "    </tr>\n",
       "    <tr>\n",
       "      <th>2</th>\n",
       "      <td>7542011030</td>\n",
       "      <td>1234 west main heights 57033</td>\n",
       "      <td>7542011030</td>\n",
       "    </tr>\n",
       "    <tr>\n",
       "      <th>3</th>\n",
       "      <td>7552A10004</td>\n",
       "      <td>apt 1 789 s maple rd manhattan</td>\n",
       "      <td>7552A10004</td>\n",
       "    </tr>\n",
       "    <tr>\n",
       "      <th>4</th>\n",
       "      <td>8019010008</td>\n",
       "      <td>robie house, 789 north main street</td>\n",
       "      <td>8019010008</td>\n",
       "    </tr>\n",
       "    <tr>\n",
       "      <th>5</th>\n",
       "      <td>hello</td>\n",
       "      <td>1111 S Figueroa St, Los Angeles, CA 90015</td>\n",
       "      <td>hello</td>\n",
       "    </tr>\n",
       "    <tr>\n",
       "      <th>6</th>\n",
       "      <td>NaN</td>\n",
       "      <td>(staples center) 1111 S Figueroa St, Los Angeles</td>\n",
       "      <td>NaN</td>\n",
       "    </tr>\n",
       "    <tr>\n",
       "      <th>7</th>\n",
       "      <td>NULL</td>\n",
       "      <td>hello</td>\n",
       "      <td>NaN</td>\n",
       "    </tr>\n",
       "  </tbody>\n",
       "</table>\n",
       "</div>"
      ],
      "text/plain": [
       "            ni                                           address     ni_clean\n",
       "0  91021027775                                     123 Pine Ave.  91021027775\n",
       "1  9102102777A                                           main st  9102102777A\n",
       "2   7542011030                      1234 west main heights 57033   7542011030\n",
       "3   7552A10004                    apt 1 789 s maple rd manhattan   7552A10004\n",
       "4   8019010008                robie house, 789 north main street   8019010008\n",
       "5        hello         1111 S Figueroa St, Los Angeles, CA 90015        hello\n",
       "6          NaN  (staples center) 1111 S Figueroa St, Los Angeles          NaN\n",
       "7         NULL                                             hello          NaN"
      ]
     },
     "execution_count": 1,
     "metadata": {},
     "output_type": "execute_result"
    }
   ],
   "source": [
    "clean_cu_ni(df, \"ni\", errors=\"ignore\")"
   ]
  },
  {
   "cell_type": "markdown",
   "id": "curious-stationery",
   "metadata": {},
   "source": [
    "## 4. `validate_cu_ni()`"
   ]
  },
  {
   "cell_type": "markdown",
   "id": "becoming-dinner",
   "metadata": {},
   "source": [
    "`validate_cu_ni()` returns `True` when the input is a valid NI. Otherwise it returns `False`.\n",
    "\n",
    "The input of `validate_cu_ni()` can be a string, a Pandas DataSeries, a Dask DataSeries, a Pandas DataFrame and a dask DataFrame.\n",
    "\n",
    "When the input is a string, a Pandas DataSeries or a Dask DataSeries, user doesn't need to specify a column name to be validated. \n",
    "\n",
    "When the input is a Pandas DataFrame or a dask DataFrame, user can both specify or not specify a column name to be validated. If user specify the column name, `validate_cu_ni()` only returns the validation result for the specified column. If user doesn't specify the column name, `validate_cu_ni()` returns the validation result for the whole DataFrame."
   ]
  },
  {
   "cell_type": "code",
   "execution_count": 10,
   "id": "cleared-election",
   "metadata": {
    "execution": {
     "iopub.execute_input": "2021-11-02T21:26:57.745803Z",
     "iopub.status.busy": "2021-11-02T21:26:57.744801Z",
     "iopub.status.idle": "2021-11-02T21:26:57.749994Z",
     "shell.execute_reply": "2021-11-02T21:26:57.749187Z"
    }
   },
   "outputs": [
    {
     "name": "stdout",
     "output_type": "stream",
     "text": [
      "True\n",
      "False\n",
      "False\n",
      "False\n",
      "False\n",
      "False\n",
      "False\n",
      "False\n"
     ]
    }
   ],
   "source": [
    "from dataprep.clean import validate_cu_ni\n",
    "print(validate_cu_ni('91021027775'))\n",
    "print(validate_cu_ni('9102102777A'))\n",
    "print(validate_cu_ni('7542011030'))\n",
    "print(validate_cu_ni('7552A10004'))\n",
    "print(validate_cu_ni('8019010008'))\n",
    "print(validate_cu_ni(\"hello\"))\n",
    "print(validate_cu_ni(np.nan))\n",
    "print(validate_cu_ni(\"NULL\"))"
   ]
  },
  {
   "cell_type": "markdown",
   "id": "frequent-crossing",
   "metadata": {},
   "source": [
    "### Series"
   ]
  },
  {
   "cell_type": "code",
   "execution_count": 11,
   "id": "cooked-superior",
   "metadata": {
    "execution": {
     "iopub.execute_input": "2021-11-02T21:26:57.753954Z",
     "iopub.status.busy": "2021-11-02T21:26:57.753536Z",
     "iopub.status.idle": "2021-11-02T21:26:57.757213Z",
     "shell.execute_reply": "2021-11-02T21:26:57.757566Z"
    }
   },
   "outputs": [
    {
     "data": {
      "text/plain": [
       "0     True\n",
       "1    False\n",
       "2    False\n",
       "3    False\n",
       "4    False\n",
       "5    False\n",
       "6    False\n",
       "7    False\n",
       "Name: ni, dtype: bool"
      ]
     },
     "execution_count": 1,
     "metadata": {},
     "output_type": "execute_result"
    }
   ],
   "source": [
    "validate_cu_ni(df[\"ni\"])"
   ]
  },
  {
   "cell_type": "markdown",
   "id": "administrative-honduras",
   "metadata": {},
   "source": [
    "### DataFrame + Specify Column"
   ]
  },
  {
   "cell_type": "code",
   "execution_count": 12,
   "id": "iraqi-recorder",
   "metadata": {
    "execution": {
     "iopub.execute_input": "2021-11-02T21:26:57.761563Z",
     "iopub.status.busy": "2021-11-02T21:26:57.761136Z",
     "iopub.status.idle": "2021-11-02T21:26:57.765292Z",
     "shell.execute_reply": "2021-11-02T21:26:57.764728Z"
    }
   },
   "outputs": [
    {
     "data": {
      "text/plain": [
       "0     True\n",
       "1    False\n",
       "2    False\n",
       "3    False\n",
       "4    False\n",
       "5    False\n",
       "6    False\n",
       "7    False\n",
       "Name: ni, dtype: bool"
      ]
     },
     "execution_count": 1,
     "metadata": {},
     "output_type": "execute_result"
    }
   ],
   "source": [
    "validate_cu_ni(df, column=\"ni\")"
   ]
  },
  {
   "cell_type": "markdown",
   "id": "ongoing-representative",
   "metadata": {},
   "source": [
    "### Only DataFrame"
   ]
  },
  {
   "cell_type": "code",
   "execution_count": 13,
   "id": "revolutionary-grain",
   "metadata": {
    "execution": {
     "iopub.execute_input": "2021-11-02T21:26:57.772599Z",
     "iopub.status.busy": "2021-11-02T21:26:57.767828Z",
     "iopub.status.idle": "2021-11-02T21:26:57.776230Z",
     "shell.execute_reply": "2021-11-02T21:26:57.775842Z"
    }
   },
   "outputs": [
    {
     "data": {
      "text/html": [
       "<div>\n",
       "<style scoped>\n",
       "    .dataframe tbody tr th:only-of-type {\n",
       "        vertical-align: middle;\n",
       "    }\n",
       "\n",
       "    .dataframe tbody tr th {\n",
       "        vertical-align: top;\n",
       "    }\n",
       "\n",
       "    .dataframe thead th {\n",
       "        text-align: right;\n",
       "    }\n",
       "</style>\n",
       "<table border=\"1\" class=\"dataframe\">\n",
       "  <thead>\n",
       "    <tr style=\"text-align: right;\">\n",
       "      <th></th>\n",
       "      <th>ni</th>\n",
       "      <th>address</th>\n",
       "    </tr>\n",
       "  </thead>\n",
       "  <tbody>\n",
       "    <tr>\n",
       "      <th>0</th>\n",
       "      <td>True</td>\n",
       "      <td>False</td>\n",
       "    </tr>\n",
       "    <tr>\n",
       "      <th>1</th>\n",
       "      <td>False</td>\n",
       "      <td>False</td>\n",
       "    </tr>\n",
       "    <tr>\n",
       "      <th>2</th>\n",
       "      <td>False</td>\n",
       "      <td>False</td>\n",
       "    </tr>\n",
       "    <tr>\n",
       "      <th>3</th>\n",
       "      <td>False</td>\n",
       "      <td>False</td>\n",
       "    </tr>\n",
       "    <tr>\n",
       "      <th>4</th>\n",
       "      <td>False</td>\n",
       "      <td>False</td>\n",
       "    </tr>\n",
       "    <tr>\n",
       "      <th>5</th>\n",
       "      <td>False</td>\n",
       "      <td>False</td>\n",
       "    </tr>\n",
       "    <tr>\n",
       "      <th>6</th>\n",
       "      <td>False</td>\n",
       "      <td>False</td>\n",
       "    </tr>\n",
       "    <tr>\n",
       "      <th>7</th>\n",
       "      <td>False</td>\n",
       "      <td>False</td>\n",
       "    </tr>\n",
       "  </tbody>\n",
       "</table>\n",
       "</div>"
      ],
      "text/plain": [
       "      ni  address\n",
       "0   True    False\n",
       "1  False    False\n",
       "2  False    False\n",
       "3  False    False\n",
       "4  False    False\n",
       "5  False    False\n",
       "6  False    False\n",
       "7  False    False"
      ]
     },
     "execution_count": 1,
     "metadata": {},
     "output_type": "execute_result"
    }
   ],
   "source": [
    "validate_cu_ni(df)"
   ]
  },
  {
   "cell_type": "code",
   "execution_count": null,
   "id": "respective-samba",
   "metadata": {},
   "outputs": [],
   "source": []
  }
 ],
 "metadata": {
  "kernelspec": {
   "display_name": "Python 3",
   "language": "python",
   "name": "python3"
  },
  "language_info": {
   "codemirror_mode": {
    "name": "ipython",
    "version": 3
   },
   "file_extension": ".py",
   "mimetype": "text/x-python",
   "name": "python",
   "nbconvert_exporter": "python",
   "pygments_lexer": "ipython3",
   "version": "3.8.10"
  }
 },
 "nbformat": 4,
 "nbformat_minor": 5
}
