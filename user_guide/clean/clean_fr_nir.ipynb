{
 "cells": [
  {
   "cell_type": "raw",
   "id": "southern-assumption",
   "metadata": {},
   "source": [
    ".. _nir_userguide:\n",
    "\n",
    "NIR Strings\n",
    "============"
   ]
  },
  {
   "cell_type": "raw",
   "id": "numerical-asset",
   "metadata": {},
   "source": [
    "Introduction\n",
    "------------\n",
    "\n",
    "The function :func:`clean_fr_nir() <dataprep.clean.clean_fr_nir.clean_fr_nir>` cleans a column containing French personal identification number (NIR) strings, and standardizes them in a given format. The function :func:`validate_fr_nir() <dataprep.clean.clean_fr_nir.validate_fr_nir>` validates either a single NIR strings, a column of NIR strings or a DataFrame of NIR strings, returning `True` if the value is valid, and `False` otherwise."
   ]
  },
  {
   "cell_type": "markdown",
   "id": "special-asthma",
   "metadata": {},
   "source": [
    "NIR strings can be converted to the following formats via the `output_format` parameter:\n",
    "\n",
    "* `compact`: only number strings without any seperators or whitespace, like \"295109912611193\"\n",
    "* `standard`: NIR strings with proper whitespace in the proper places, like \"2 95 10 99 126 111 93\"\n",
    "\n",
    "Invalid parsing is handled with the `errors` parameter:\n",
    "\n",
    "* `coerce` (default): invalid parsing will be set to NaN\n",
    "* `ignore`: invalid parsing will return the input\n",
    "* `raise`: invalid parsing will raise an exception\n",
    "\n",
    "The following sections demonstrate the functionality of `clean_fr_nir()` and `validate_fr_nir()`. "
   ]
  },
  {
   "cell_type": "markdown",
   "id": "color-third",
   "metadata": {},
   "source": [
    "### An example dataset containing NIR strings"
   ]
  },
  {
   "cell_type": "code",
   "execution_count": 1,
   "id": "acknowledged-sharing",
   "metadata": {
    "execution": {
     "iopub.execute_input": "2021-10-26T23:38:16.152636Z",
     "iopub.status.busy": "2021-10-26T23:38:16.151648Z",
     "iopub.status.idle": "2021-10-26T23:38:16.471045Z",
     "shell.execute_reply": "2021-10-26T23:38:16.470015Z"
    }
   },
   "outputs": [
    {
     "data": {
      "text/html": [
       "<div>\n",
       "<style scoped>\n",
       "    .dataframe tbody tr th:only-of-type {\n",
       "        vertical-align: middle;\n",
       "    }\n",
       "\n",
       "    .dataframe tbody tr th {\n",
       "        vertical-align: top;\n",
       "    }\n",
       "\n",
       "    .dataframe thead th {\n",
       "        text-align: right;\n",
       "    }\n",
       "</style>\n",
       "<table border=\"1\" class=\"dataframe\">\n",
       "  <thead>\n",
       "    <tr style=\"text-align: right;\">\n",
       "      <th></th>\n",
       "      <th>nir</th>\n",
       "      <th>address</th>\n",
       "    </tr>\n",
       "  </thead>\n",
       "  <tbody>\n",
       "    <tr>\n",
       "      <th>0</th>\n",
       "      <td>295109912611193</td>\n",
       "      <td>123 Pine Ave.</td>\n",
       "    </tr>\n",
       "    <tr>\n",
       "      <th>1</th>\n",
       "      <td>253072C07300443</td>\n",
       "      <td>main st</td>\n",
       "    </tr>\n",
       "    <tr>\n",
       "      <th>2</th>\n",
       "      <td>51824753556</td>\n",
       "      <td>1234 west main heights 57033</td>\n",
       "    </tr>\n",
       "    <tr>\n",
       "      <th>3</th>\n",
       "      <td>51 824 753 556</td>\n",
       "      <td>apt 1 789 s maple rd manhattan</td>\n",
       "    </tr>\n",
       "    <tr>\n",
       "      <th>4</th>\n",
       "      <td>hello</td>\n",
       "      <td>robie house, 789 north main street</td>\n",
       "    </tr>\n",
       "    <tr>\n",
       "      <th>5</th>\n",
       "      <td>NaN</td>\n",
       "      <td>(staples center) 1111 S Figueroa St, Los Angeles</td>\n",
       "    </tr>\n",
       "    <tr>\n",
       "      <th>6</th>\n",
       "      <td>NULL</td>\n",
       "      <td>hello</td>\n",
       "    </tr>\n",
       "  </tbody>\n",
       "</table>\n",
       "</div>"
      ],
      "text/plain": [
       "               nir                                           address\n",
       "0  295109912611193                                     123 Pine Ave.\n",
       "1  253072C07300443                                           main st\n",
       "2      51824753556                      1234 west main heights 57033\n",
       "3   51 824 753 556                    apt 1 789 s maple rd manhattan\n",
       "4            hello                robie house, 789 north main street\n",
       "5              NaN  (staples center) 1111 S Figueroa St, Los Angeles\n",
       "6             NULL                                             hello"
      ]
     },
     "execution_count": 1,
     "metadata": {},
     "output_type": "execute_result"
    }
   ],
   "source": [
    "import pandas as pd\n",
    "import numpy as np\n",
    "df = pd.DataFrame(\n",
    "    {\n",
    "        \"nir\": [\n",
    "            \"295109912611193\",\n",
    "            \"253072C07300443\",\n",
    "            \"51824753556\",\n",
    "            \"51 824 753 556\",\n",
    "            \"hello\",\n",
    "            np.nan,\n",
    "            \"NULL\"\n",
    "        ], \n",
    "        \"address\": [\n",
    "            \"123 Pine Ave.\",\n",
    "            \"main st\",\n",
    "            \"1234 west main heights 57033\",\n",
    "            \"apt 1 789 s maple rd manhattan\",\n",
    "            \"robie house, 789 north main street\",\n",
    "            \"(staples center) 1111 S Figueroa St, Los Angeles\",\n",
    "            \"hello\",\n",
    "        ]\n",
    "    }\n",
    ")\n",
    "df"
   ]
  },
  {
   "cell_type": "markdown",
   "id": "shared-asthma",
   "metadata": {},
   "source": [
    "## 1. Default `clean_fr_nir`\n",
    "\n",
    "By default, `clean_fr_nir` will clean nir strings and output them in the standard format with proper separators."
   ]
  },
  {
   "cell_type": "code",
   "execution_count": 2,
   "id": "lesser-tribune",
   "metadata": {
    "execution": {
     "iopub.execute_input": "2021-10-26T23:38:16.475834Z",
     "iopub.status.busy": "2021-10-26T23:38:16.475183Z",
     "iopub.status.idle": "2021-10-26T23:38:17.239174Z",
     "shell.execute_reply": "2021-10-26T23:38:17.239738Z"
    }
   },
   "outputs": [
    {
     "data": {
      "text/html": [
       "<div>\n",
       "<style scoped>\n",
       "    .dataframe tbody tr th:only-of-type {\n",
       "        vertical-align: middle;\n",
       "    }\n",
       "\n",
       "    .dataframe tbody tr th {\n",
       "        vertical-align: top;\n",
       "    }\n",
       "\n",
       "    .dataframe thead th {\n",
       "        text-align: right;\n",
       "    }\n",
       "</style>\n",
       "<table border=\"1\" class=\"dataframe\">\n",
       "  <thead>\n",
       "    <tr style=\"text-align: right;\">\n",
       "      <th></th>\n",
       "      <th>nir</th>\n",
       "      <th>address</th>\n",
       "      <th>nir_clean</th>\n",
       "    </tr>\n",
       "  </thead>\n",
       "  <tbody>\n",
       "    <tr>\n",
       "      <th>0</th>\n",
       "      <td>295109912611193</td>\n",
       "      <td>123 Pine Ave.</td>\n",
       "      <td>2 95 10 99 126 111 93</td>\n",
       "    </tr>\n",
       "    <tr>\n",
       "      <th>1</th>\n",
       "      <td>253072C07300443</td>\n",
       "      <td>main st</td>\n",
       "      <td>NaN</td>\n",
       "    </tr>\n",
       "    <tr>\n",
       "      <th>2</th>\n",
       "      <td>51824753556</td>\n",
       "      <td>1234 west main heights 57033</td>\n",
       "      <td>NaN</td>\n",
       "    </tr>\n",
       "    <tr>\n",
       "      <th>3</th>\n",
       "      <td>51 824 753 556</td>\n",
       "      <td>apt 1 789 s maple rd manhattan</td>\n",
       "      <td>NaN</td>\n",
       "    </tr>\n",
       "    <tr>\n",
       "      <th>4</th>\n",
       "      <td>hello</td>\n",
       "      <td>robie house, 789 north main street</td>\n",
       "      <td>NaN</td>\n",
       "    </tr>\n",
       "    <tr>\n",
       "      <th>5</th>\n",
       "      <td>NaN</td>\n",
       "      <td>(staples center) 1111 S Figueroa St, Los Angeles</td>\n",
       "      <td>NaN</td>\n",
       "    </tr>\n",
       "    <tr>\n",
       "      <th>6</th>\n",
       "      <td>NULL</td>\n",
       "      <td>hello</td>\n",
       "      <td>NaN</td>\n",
       "    </tr>\n",
       "  </tbody>\n",
       "</table>\n",
       "</div>"
      ],
      "text/plain": [
       "               nir                                           address  \\\n",
       "0  295109912611193                                     123 Pine Ave.   \n",
       "1  253072C07300443                                           main st   \n",
       "2      51824753556                      1234 west main heights 57033   \n",
       "3   51 824 753 556                    apt 1 789 s maple rd manhattan   \n",
       "4            hello                robie house, 789 north main street   \n",
       "5              NaN  (staples center) 1111 S Figueroa St, Los Angeles   \n",
       "6             NULL                                             hello   \n",
       "\n",
       "               nir_clean  \n",
       "0  2 95 10 99 126 111 93  \n",
       "1                    NaN  \n",
       "2                    NaN  \n",
       "3                    NaN  \n",
       "4                    NaN  \n",
       "5                    NaN  \n",
       "6                    NaN  "
      ]
     },
     "execution_count": 1,
     "metadata": {},
     "output_type": "execute_result"
    }
   ],
   "source": [
    "from dataprep.clean import clean_fr_nir\n",
    "clean_fr_nir(df, column = \"nir\")"
   ]
  },
  {
   "cell_type": "markdown",
   "id": "upper-segment",
   "metadata": {},
   "source": [
    "## 2. Output formats"
   ]
  },
  {
   "cell_type": "markdown",
   "id": "collaborative-librarian",
   "metadata": {},
   "source": [
    "This section demonstrates the output parameter."
   ]
  },
  {
   "cell_type": "markdown",
   "id": "reflected-doubt",
   "metadata": {},
   "source": [
    "### `standard` (default)"
   ]
  },
  {
   "cell_type": "code",
   "execution_count": 3,
   "id": "diagnostic-single",
   "metadata": {
    "execution": {
     "iopub.execute_input": "2021-10-26T23:38:17.270163Z",
     "iopub.status.busy": "2021-10-26T23:38:17.269542Z",
     "iopub.status.idle": "2021-10-26T23:38:17.280988Z",
     "shell.execute_reply": "2021-10-26T23:38:17.280189Z"
    }
   },
   "outputs": [
    {
     "data": {
      "text/html": [
       "<div>\n",
       "<style scoped>\n",
       "    .dataframe tbody tr th:only-of-type {\n",
       "        vertical-align: middle;\n",
       "    }\n",
       "\n",
       "    .dataframe tbody tr th {\n",
       "        vertical-align: top;\n",
       "    }\n",
       "\n",
       "    .dataframe thead th {\n",
       "        text-align: right;\n",
       "    }\n",
       "</style>\n",
       "<table border=\"1\" class=\"dataframe\">\n",
       "  <thead>\n",
       "    <tr style=\"text-align: right;\">\n",
       "      <th></th>\n",
       "      <th>nir</th>\n",
       "      <th>address</th>\n",
       "      <th>nir_clean</th>\n",
       "    </tr>\n",
       "  </thead>\n",
       "  <tbody>\n",
       "    <tr>\n",
       "      <th>0</th>\n",
       "      <td>295109912611193</td>\n",
       "      <td>123 Pine Ave.</td>\n",
       "      <td>2 95 10 99 126 111 93</td>\n",
       "    </tr>\n",
       "    <tr>\n",
       "      <th>1</th>\n",
       "      <td>253072C07300443</td>\n",
       "      <td>main st</td>\n",
       "      <td>NaN</td>\n",
       "    </tr>\n",
       "    <tr>\n",
       "      <th>2</th>\n",
       "      <td>51824753556</td>\n",
       "      <td>1234 west main heights 57033</td>\n",
       "      <td>NaN</td>\n",
       "    </tr>\n",
       "    <tr>\n",
       "      <th>3</th>\n",
       "      <td>51 824 753 556</td>\n",
       "      <td>apt 1 789 s maple rd manhattan</td>\n",
       "      <td>NaN</td>\n",
       "    </tr>\n",
       "    <tr>\n",
       "      <th>4</th>\n",
       "      <td>hello</td>\n",
       "      <td>robie house, 789 north main street</td>\n",
       "      <td>NaN</td>\n",
       "    </tr>\n",
       "    <tr>\n",
       "      <th>5</th>\n",
       "      <td>NaN</td>\n",
       "      <td>(staples center) 1111 S Figueroa St, Los Angeles</td>\n",
       "      <td>NaN</td>\n",
       "    </tr>\n",
       "    <tr>\n",
       "      <th>6</th>\n",
       "      <td>NULL</td>\n",
       "      <td>hello</td>\n",
       "      <td>NaN</td>\n",
       "    </tr>\n",
       "  </tbody>\n",
       "</table>\n",
       "</div>"
      ],
      "text/plain": [
       "               nir                                           address  \\\n",
       "0  295109912611193                                     123 Pine Ave.   \n",
       "1  253072C07300443                                           main st   \n",
       "2      51824753556                      1234 west main heights 57033   \n",
       "3   51 824 753 556                    apt 1 789 s maple rd manhattan   \n",
       "4            hello                robie house, 789 north main street   \n",
       "5              NaN  (staples center) 1111 S Figueroa St, Los Angeles   \n",
       "6             NULL                                             hello   \n",
       "\n",
       "               nir_clean  \n",
       "0  2 95 10 99 126 111 93  \n",
       "1                    NaN  \n",
       "2                    NaN  \n",
       "3                    NaN  \n",
       "4                    NaN  \n",
       "5                    NaN  \n",
       "6                    NaN  "
      ]
     },
     "execution_count": 1,
     "metadata": {},
     "output_type": "execute_result"
    }
   ],
   "source": [
    "clean_fr_nir(df, column = \"nir\", output_format=\"standard\")"
   ]
  },
  {
   "cell_type": "markdown",
   "id": "arranged-necklace",
   "metadata": {},
   "source": [
    "### `compact`"
   ]
  },
  {
   "cell_type": "code",
   "execution_count": 4,
   "id": "distant-symposium",
   "metadata": {
    "execution": {
     "iopub.execute_input": "2021-10-26T23:38:17.310095Z",
     "iopub.status.busy": "2021-10-26T23:38:17.305566Z",
     "iopub.status.idle": "2021-10-26T23:38:17.320883Z",
     "shell.execute_reply": "2021-10-26T23:38:17.321613Z"
    }
   },
   "outputs": [
    {
     "data": {
      "text/html": [
       "<div>\n",
       "<style scoped>\n",
       "    .dataframe tbody tr th:only-of-type {\n",
       "        vertical-align: middle;\n",
       "    }\n",
       "\n",
       "    .dataframe tbody tr th {\n",
       "        vertical-align: top;\n",
       "    }\n",
       "\n",
       "    .dataframe thead th {\n",
       "        text-align: right;\n",
       "    }\n",
       "</style>\n",
       "<table border=\"1\" class=\"dataframe\">\n",
       "  <thead>\n",
       "    <tr style=\"text-align: right;\">\n",
       "      <th></th>\n",
       "      <th>nir</th>\n",
       "      <th>address</th>\n",
       "      <th>nir_clean</th>\n",
       "    </tr>\n",
       "  </thead>\n",
       "  <tbody>\n",
       "    <tr>\n",
       "      <th>0</th>\n",
       "      <td>295109912611193</td>\n",
       "      <td>123 Pine Ave.</td>\n",
       "      <td>295109912611193</td>\n",
       "    </tr>\n",
       "    <tr>\n",
       "      <th>1</th>\n",
       "      <td>253072C07300443</td>\n",
       "      <td>main st</td>\n",
       "      <td>NaN</td>\n",
       "    </tr>\n",
       "    <tr>\n",
       "      <th>2</th>\n",
       "      <td>51824753556</td>\n",
       "      <td>1234 west main heights 57033</td>\n",
       "      <td>NaN</td>\n",
       "    </tr>\n",
       "    <tr>\n",
       "      <th>3</th>\n",
       "      <td>51 824 753 556</td>\n",
       "      <td>apt 1 789 s maple rd manhattan</td>\n",
       "      <td>NaN</td>\n",
       "    </tr>\n",
       "    <tr>\n",
       "      <th>4</th>\n",
       "      <td>hello</td>\n",
       "      <td>robie house, 789 north main street</td>\n",
       "      <td>NaN</td>\n",
       "    </tr>\n",
       "    <tr>\n",
       "      <th>5</th>\n",
       "      <td>NaN</td>\n",
       "      <td>(staples center) 1111 S Figueroa St, Los Angeles</td>\n",
       "      <td>NaN</td>\n",
       "    </tr>\n",
       "    <tr>\n",
       "      <th>6</th>\n",
       "      <td>NULL</td>\n",
       "      <td>hello</td>\n",
       "      <td>NaN</td>\n",
       "    </tr>\n",
       "  </tbody>\n",
       "</table>\n",
       "</div>"
      ],
      "text/plain": [
       "               nir                                           address  \\\n",
       "0  295109912611193                                     123 Pine Ave.   \n",
       "1  253072C07300443                                           main st   \n",
       "2      51824753556                      1234 west main heights 57033   \n",
       "3   51 824 753 556                    apt 1 789 s maple rd manhattan   \n",
       "4            hello                robie house, 789 north main street   \n",
       "5              NaN  (staples center) 1111 S Figueroa St, Los Angeles   \n",
       "6             NULL                                             hello   \n",
       "\n",
       "         nir_clean  \n",
       "0  295109912611193  \n",
       "1              NaN  \n",
       "2              NaN  \n",
       "3              NaN  \n",
       "4              NaN  \n",
       "5              NaN  \n",
       "6              NaN  "
      ]
     },
     "execution_count": 1,
     "metadata": {},
     "output_type": "execute_result"
    }
   ],
   "source": [
    "clean_fr_nir(df, column = \"nir\", output_format=\"compact\")"
   ]
  },
  {
   "cell_type": "markdown",
   "id": "standing-drinking",
   "metadata": {},
   "source": [
    "## 3. `inplace` parameter\n",
    "\n",
    "This deletes the given column from the returned DataFrame. \n",
    "A new column containing cleaned NIR strings is added with a title in the format `\"{original title}_clean\"`."
   ]
  },
  {
   "cell_type": "code",
   "execution_count": 5,
   "id": "hungarian-canon",
   "metadata": {
    "execution": {
     "iopub.execute_input": "2021-10-26T23:38:17.358676Z",
     "iopub.status.busy": "2021-10-26T23:38:17.331544Z",
     "iopub.status.idle": "2021-10-26T23:38:17.373950Z",
     "shell.execute_reply": "2021-10-26T23:38:17.373376Z"
    }
   },
   "outputs": [
    {
     "data": {
      "text/html": [
       "<div>\n",
       "<style scoped>\n",
       "    .dataframe tbody tr th:only-of-type {\n",
       "        vertical-align: middle;\n",
       "    }\n",
       "\n",
       "    .dataframe tbody tr th {\n",
       "        vertical-align: top;\n",
       "    }\n",
       "\n",
       "    .dataframe thead th {\n",
       "        text-align: right;\n",
       "    }\n",
       "</style>\n",
       "<table border=\"1\" class=\"dataframe\">\n",
       "  <thead>\n",
       "    <tr style=\"text-align: right;\">\n",
       "      <th></th>\n",
       "      <th>nir_clean</th>\n",
       "      <th>address</th>\n",
       "    </tr>\n",
       "  </thead>\n",
       "  <tbody>\n",
       "    <tr>\n",
       "      <th>0</th>\n",
       "      <td>2 95 10 99 126 111 93</td>\n",
       "      <td>123 Pine Ave.</td>\n",
       "    </tr>\n",
       "    <tr>\n",
       "      <th>1</th>\n",
       "      <td>NaN</td>\n",
       "      <td>main st</td>\n",
       "    </tr>\n",
       "    <tr>\n",
       "      <th>2</th>\n",
       "      <td>NaN</td>\n",
       "      <td>1234 west main heights 57033</td>\n",
       "    </tr>\n",
       "    <tr>\n",
       "      <th>3</th>\n",
       "      <td>NaN</td>\n",
       "      <td>apt 1 789 s maple rd manhattan</td>\n",
       "    </tr>\n",
       "    <tr>\n",
       "      <th>4</th>\n",
       "      <td>NaN</td>\n",
       "      <td>robie house, 789 north main street</td>\n",
       "    </tr>\n",
       "    <tr>\n",
       "      <th>5</th>\n",
       "      <td>NaN</td>\n",
       "      <td>(staples center) 1111 S Figueroa St, Los Angeles</td>\n",
       "    </tr>\n",
       "    <tr>\n",
       "      <th>6</th>\n",
       "      <td>NaN</td>\n",
       "      <td>hello</td>\n",
       "    </tr>\n",
       "  </tbody>\n",
       "</table>\n",
       "</div>"
      ],
      "text/plain": [
       "               nir_clean                                           address\n",
       "0  2 95 10 99 126 111 93                                     123 Pine Ave.\n",
       "1                    NaN                                           main st\n",
       "2                    NaN                      1234 west main heights 57033\n",
       "3                    NaN                    apt 1 789 s maple rd manhattan\n",
       "4                    NaN                robie house, 789 north main street\n",
       "5                    NaN  (staples center) 1111 S Figueroa St, Los Angeles\n",
       "6                    NaN                                             hello"
      ]
     },
     "execution_count": 1,
     "metadata": {},
     "output_type": "execute_result"
    }
   ],
   "source": [
    "clean_fr_nir(df, column=\"nir\", inplace=True)"
   ]
  },
  {
   "cell_type": "markdown",
   "id": "green-homeless",
   "metadata": {},
   "source": [
    "## 4. `errors` parameter"
   ]
  },
  {
   "cell_type": "markdown",
   "id": "dressed-smell",
   "metadata": {},
   "source": [
    "### `coerce` (default)"
   ]
  },
  {
   "cell_type": "code",
   "execution_count": 6,
   "id": "seven-physiology",
   "metadata": {
    "execution": {
     "iopub.execute_input": "2021-10-26T23:38:17.408354Z",
     "iopub.status.busy": "2021-10-26T23:38:17.401970Z",
     "iopub.status.idle": "2021-10-26T23:38:17.411444Z",
     "shell.execute_reply": "2021-10-26T23:38:17.411915Z"
    }
   },
   "outputs": [
    {
     "data": {
      "text/html": [
       "<div>\n",
       "<style scoped>\n",
       "    .dataframe tbody tr th:only-of-type {\n",
       "        vertical-align: middle;\n",
       "    }\n",
       "\n",
       "    .dataframe tbody tr th {\n",
       "        vertical-align: top;\n",
       "    }\n",
       "\n",
       "    .dataframe thead th {\n",
       "        text-align: right;\n",
       "    }\n",
       "</style>\n",
       "<table border=\"1\" class=\"dataframe\">\n",
       "  <thead>\n",
       "    <tr style=\"text-align: right;\">\n",
       "      <th></th>\n",
       "      <th>nir</th>\n",
       "      <th>address</th>\n",
       "      <th>nir_clean</th>\n",
       "    </tr>\n",
       "  </thead>\n",
       "  <tbody>\n",
       "    <tr>\n",
       "      <th>0</th>\n",
       "      <td>295109912611193</td>\n",
       "      <td>123 Pine Ave.</td>\n",
       "      <td>2 95 10 99 126 111 93</td>\n",
       "    </tr>\n",
       "    <tr>\n",
       "      <th>1</th>\n",
       "      <td>253072C07300443</td>\n",
       "      <td>main st</td>\n",
       "      <td>NaN</td>\n",
       "    </tr>\n",
       "    <tr>\n",
       "      <th>2</th>\n",
       "      <td>51824753556</td>\n",
       "      <td>1234 west main heights 57033</td>\n",
       "      <td>NaN</td>\n",
       "    </tr>\n",
       "    <tr>\n",
       "      <th>3</th>\n",
       "      <td>51 824 753 556</td>\n",
       "      <td>apt 1 789 s maple rd manhattan</td>\n",
       "      <td>NaN</td>\n",
       "    </tr>\n",
       "    <tr>\n",
       "      <th>4</th>\n",
       "      <td>hello</td>\n",
       "      <td>robie house, 789 north main street</td>\n",
       "      <td>NaN</td>\n",
       "    </tr>\n",
       "    <tr>\n",
       "      <th>5</th>\n",
       "      <td>NaN</td>\n",
       "      <td>(staples center) 1111 S Figueroa St, Los Angeles</td>\n",
       "      <td>NaN</td>\n",
       "    </tr>\n",
       "    <tr>\n",
       "      <th>6</th>\n",
       "      <td>NULL</td>\n",
       "      <td>hello</td>\n",
       "      <td>NaN</td>\n",
       "    </tr>\n",
       "  </tbody>\n",
       "</table>\n",
       "</div>"
      ],
      "text/plain": [
       "               nir                                           address  \\\n",
       "0  295109912611193                                     123 Pine Ave.   \n",
       "1  253072C07300443                                           main st   \n",
       "2      51824753556                      1234 west main heights 57033   \n",
       "3   51 824 753 556                    apt 1 789 s maple rd manhattan   \n",
       "4            hello                robie house, 789 north main street   \n",
       "5              NaN  (staples center) 1111 S Figueroa St, Los Angeles   \n",
       "6             NULL                                             hello   \n",
       "\n",
       "               nir_clean  \n",
       "0  2 95 10 99 126 111 93  \n",
       "1                    NaN  \n",
       "2                    NaN  \n",
       "3                    NaN  \n",
       "4                    NaN  \n",
       "5                    NaN  \n",
       "6                    NaN  "
      ]
     },
     "execution_count": 1,
     "metadata": {},
     "output_type": "execute_result"
    }
   ],
   "source": [
    "clean_fr_nir(df, \"nir\", errors=\"coerce\")"
   ]
  },
  {
   "cell_type": "markdown",
   "id": "partial-lotus",
   "metadata": {},
   "source": [
    "### `ignore`"
   ]
  },
  {
   "cell_type": "code",
   "execution_count": 7,
   "id": "opposed-carter",
   "metadata": {
    "execution": {
     "iopub.execute_input": "2021-10-26T23:38:17.435266Z",
     "iopub.status.busy": "2021-10-26T23:38:17.425316Z",
     "iopub.status.idle": "2021-10-26T23:38:17.447794Z",
     "shell.execute_reply": "2021-10-26T23:38:17.447164Z"
    }
   },
   "outputs": [
    {
     "data": {
      "text/html": [
       "<div>\n",
       "<style scoped>\n",
       "    .dataframe tbody tr th:only-of-type {\n",
       "        vertical-align: middle;\n",
       "    }\n",
       "\n",
       "    .dataframe tbody tr th {\n",
       "        vertical-align: top;\n",
       "    }\n",
       "\n",
       "    .dataframe thead th {\n",
       "        text-align: right;\n",
       "    }\n",
       "</style>\n",
       "<table border=\"1\" class=\"dataframe\">\n",
       "  <thead>\n",
       "    <tr style=\"text-align: right;\">\n",
       "      <th></th>\n",
       "      <th>nir</th>\n",
       "      <th>address</th>\n",
       "      <th>nir_clean</th>\n",
       "    </tr>\n",
       "  </thead>\n",
       "  <tbody>\n",
       "    <tr>\n",
       "      <th>0</th>\n",
       "      <td>295109912611193</td>\n",
       "      <td>123 Pine Ave.</td>\n",
       "      <td>2 95 10 99 126 111 93</td>\n",
       "    </tr>\n",
       "    <tr>\n",
       "      <th>1</th>\n",
       "      <td>253072C07300443</td>\n",
       "      <td>main st</td>\n",
       "      <td>253072C07300443</td>\n",
       "    </tr>\n",
       "    <tr>\n",
       "      <th>2</th>\n",
       "      <td>51824753556</td>\n",
       "      <td>1234 west main heights 57033</td>\n",
       "      <td>51824753556</td>\n",
       "    </tr>\n",
       "    <tr>\n",
       "      <th>3</th>\n",
       "      <td>51 824 753 556</td>\n",
       "      <td>apt 1 789 s maple rd manhattan</td>\n",
       "      <td>51 824 753 556</td>\n",
       "    </tr>\n",
       "    <tr>\n",
       "      <th>4</th>\n",
       "      <td>hello</td>\n",
       "      <td>robie house, 789 north main street</td>\n",
       "      <td>hello</td>\n",
       "    </tr>\n",
       "    <tr>\n",
       "      <th>5</th>\n",
       "      <td>NaN</td>\n",
       "      <td>(staples center) 1111 S Figueroa St, Los Angeles</td>\n",
       "      <td>NaN</td>\n",
       "    </tr>\n",
       "    <tr>\n",
       "      <th>6</th>\n",
       "      <td>NULL</td>\n",
       "      <td>hello</td>\n",
       "      <td>NaN</td>\n",
       "    </tr>\n",
       "  </tbody>\n",
       "</table>\n",
       "</div>"
      ],
      "text/plain": [
       "               nir                                           address  \\\n",
       "0  295109912611193                                     123 Pine Ave.   \n",
       "1  253072C07300443                                           main st   \n",
       "2      51824753556                      1234 west main heights 57033   \n",
       "3   51 824 753 556                    apt 1 789 s maple rd manhattan   \n",
       "4            hello                robie house, 789 north main street   \n",
       "5              NaN  (staples center) 1111 S Figueroa St, Los Angeles   \n",
       "6             NULL                                             hello   \n",
       "\n",
       "               nir_clean  \n",
       "0  2 95 10 99 126 111 93  \n",
       "1        253072C07300443  \n",
       "2            51824753556  \n",
       "3         51 824 753 556  \n",
       "4                  hello  \n",
       "5                    NaN  \n",
       "6                    NaN  "
      ]
     },
     "execution_count": 1,
     "metadata": {},
     "output_type": "execute_result"
    }
   ],
   "source": [
    "clean_fr_nir(df, \"nir\", errors=\"ignore\")"
   ]
  },
  {
   "cell_type": "markdown",
   "id": "romance-persian",
   "metadata": {},
   "source": [
    "## 4. `validate_fr_nir()`"
   ]
  },
  {
   "cell_type": "markdown",
   "id": "tracked-heart",
   "metadata": {},
   "source": [
    "`validate_fr_nir()` returns `True` when the input is a valid NIR. Otherwise it returns `False`.\n",
    "\n",
    "The input of `validate_fr_nir()` can be a string, a Pandas DataSeries, a Dask DataSeries, a Pandas DataFrame and a dask DataFrame.\n",
    "\n",
    "When the input is a string, a Pandas DataSeries or a Dask DataSeries, user doesn't need to specify a column name to be validated. \n",
    "\n",
    "When the input is a Pandas DataFrame or a dask DataFrame, user can both specify or not specify a column name to be validated. If user specify the column name, `validate_fr_nir()` only returns the validation result for the specified column. If user doesn't specify the column name, `validate_fr_nir()` returns the validation result for the whole DataFrame."
   ]
  },
  {
   "cell_type": "code",
   "execution_count": 8,
   "id": "injured-routine",
   "metadata": {
    "execution": {
     "iopub.execute_input": "2021-10-26T23:38:17.454228Z",
     "iopub.status.busy": "2021-10-26T23:38:17.453589Z",
     "iopub.status.idle": "2021-10-26T23:38:17.458265Z",
     "shell.execute_reply": "2021-10-26T23:38:17.458840Z"
    }
   },
   "outputs": [
    {
     "name": "stdout",
     "output_type": "stream",
     "text": [
      "True\n",
      "False\n",
      "False\n",
      "False\n",
      "False\n",
      "False\n",
      "False\n"
     ]
    }
   ],
   "source": [
    "from dataprep.clean import validate_fr_nir\n",
    "print(validate_fr_nir(\"295109912611193\"))\n",
    "print(validate_fr_nir(\"253072C07300443\"))\n",
    "print(validate_fr_nir(\"51824753556\"))\n",
    "print(validate_fr_nir(\"51 824 753 556\"))\n",
    "print(validate_fr_nir(\"hello\"))\n",
    "print(validate_fr_nir(np.nan))\n",
    "print(validate_fr_nir(\"NULL\"))"
   ]
  },
  {
   "cell_type": "markdown",
   "id": "academic-stack",
   "metadata": {},
   "source": [
    "### Series"
   ]
  },
  {
   "cell_type": "code",
   "execution_count": 9,
   "id": "graduate-forwarding",
   "metadata": {
    "execution": {
     "iopub.execute_input": "2021-10-26T23:38:17.465528Z",
     "iopub.status.busy": "2021-10-26T23:38:17.464861Z",
     "iopub.status.idle": "2021-10-26T23:38:17.470231Z",
     "shell.execute_reply": "2021-10-26T23:38:17.470792Z"
    }
   },
   "outputs": [
    {
     "data": {
      "text/plain": [
       "0     True\n",
       "1    False\n",
       "2    False\n",
       "3    False\n",
       "4    False\n",
       "5    False\n",
       "6    False\n",
       "Name: nir, dtype: bool"
      ]
     },
     "execution_count": 1,
     "metadata": {},
     "output_type": "execute_result"
    }
   ],
   "source": [
    "validate_fr_nir(df[\"nir\"])"
   ]
  },
  {
   "cell_type": "markdown",
   "id": "neither-ecology",
   "metadata": {},
   "source": [
    "### DataFrame + Specify Column"
   ]
  },
  {
   "cell_type": "code",
   "execution_count": 10,
   "id": "superior-miller",
   "metadata": {
    "execution": {
     "iopub.execute_input": "2021-10-26T23:38:17.477640Z",
     "iopub.status.busy": "2021-10-26T23:38:17.476931Z",
     "iopub.status.idle": "2021-10-26T23:38:17.482629Z",
     "shell.execute_reply": "2021-10-26T23:38:17.482059Z"
    }
   },
   "outputs": [
    {
     "data": {
      "text/plain": [
       "0     True\n",
       "1    False\n",
       "2    False\n",
       "3    False\n",
       "4    False\n",
       "5    False\n",
       "6    False\n",
       "Name: nir, dtype: bool"
      ]
     },
     "execution_count": 1,
     "metadata": {},
     "output_type": "execute_result"
    }
   ],
   "source": [
    "validate_fr_nir(df, column=\"nir\")"
   ]
  },
  {
   "cell_type": "markdown",
   "id": "modified-given",
   "metadata": {},
   "source": [
    "### Only DataFrame"
   ]
  },
  {
   "cell_type": "code",
   "execution_count": 11,
   "id": "center-technique",
   "metadata": {
    "execution": {
     "iopub.execute_input": "2021-10-26T23:38:17.486995Z",
     "iopub.status.busy": "2021-10-26T23:38:17.486340Z",
     "iopub.status.idle": "2021-10-26T23:38:17.496686Z",
     "shell.execute_reply": "2021-10-26T23:38:17.496197Z"
    },
    "scrolled": true
   },
   "outputs": [
    {
     "data": {
      "text/html": [
       "<div>\n",
       "<style scoped>\n",
       "    .dataframe tbody tr th:only-of-type {\n",
       "        vertical-align: middle;\n",
       "    }\n",
       "\n",
       "    .dataframe tbody tr th {\n",
       "        vertical-align: top;\n",
       "    }\n",
       "\n",
       "    .dataframe thead th {\n",
       "        text-align: right;\n",
       "    }\n",
       "</style>\n",
       "<table border=\"1\" class=\"dataframe\">\n",
       "  <thead>\n",
       "    <tr style=\"text-align: right;\">\n",
       "      <th></th>\n",
       "      <th>nir</th>\n",
       "      <th>address</th>\n",
       "    </tr>\n",
       "  </thead>\n",
       "  <tbody>\n",
       "    <tr>\n",
       "      <th>0</th>\n",
       "      <td>True</td>\n",
       "      <td>False</td>\n",
       "    </tr>\n",
       "    <tr>\n",
       "      <th>1</th>\n",
       "      <td>False</td>\n",
       "      <td>False</td>\n",
       "    </tr>\n",
       "    <tr>\n",
       "      <th>2</th>\n",
       "      <td>False</td>\n",
       "      <td>False</td>\n",
       "    </tr>\n",
       "    <tr>\n",
       "      <th>3</th>\n",
       "      <td>False</td>\n",
       "      <td>False</td>\n",
       "    </tr>\n",
       "    <tr>\n",
       "      <th>4</th>\n",
       "      <td>False</td>\n",
       "      <td>False</td>\n",
       "    </tr>\n",
       "    <tr>\n",
       "      <th>5</th>\n",
       "      <td>False</td>\n",
       "      <td>False</td>\n",
       "    </tr>\n",
       "    <tr>\n",
       "      <th>6</th>\n",
       "      <td>False</td>\n",
       "      <td>False</td>\n",
       "    </tr>\n",
       "  </tbody>\n",
       "</table>\n",
       "</div>"
      ],
      "text/plain": [
       "     nir  address\n",
       "0   True    False\n",
       "1  False    False\n",
       "2  False    False\n",
       "3  False    False\n",
       "4  False    False\n",
       "5  False    False\n",
       "6  False    False"
      ]
     },
     "execution_count": 1,
     "metadata": {},
     "output_type": "execute_result"
    }
   ],
   "source": [
    "validate_fr_nir(df)"
   ]
  },
  {
   "cell_type": "code",
   "execution_count": null,
   "id": "express-somewhere",
   "metadata": {},
   "outputs": [],
   "source": []
  }
 ],
 "metadata": {
  "kernelspec": {
   "display_name": "Python 3",
   "language": "python",
   "name": "python3"
  },
  "language_info": {
   "codemirror_mode": {
    "name": "ipython",
    "version": 3
   },
   "file_extension": ".py",
   "mimetype": "text/x-python",
   "name": "python",
   "nbconvert_exporter": "python",
   "pygments_lexer": "ipython3",
   "version": "3.8.10"
  }
 },
 "nbformat": 4,
 "nbformat_minor": 5
}
