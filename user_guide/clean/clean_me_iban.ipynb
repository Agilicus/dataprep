{
 "cells": [
  {
   "cell_type": "raw",
   "id": "behavioral-sharing",
   "metadata": {},
   "source": [
    ".. _iban_userguide:\n",
    "\n",
    "Montenegro IBANs\n",
    "================"
   ]
  },
  {
   "cell_type": "raw",
   "id": "cloudy-waterproof",
   "metadata": {},
   "source": [
    "Introduction\n",
    "------------\n",
    "\n",
    "The function :func:`clean_me_iban() <dataprep.clean.clean_me_iban.clean_me_iban>` cleans a column containing Montenegro IBAN (IBAN) strings, and standardizes them in a given format. The function :func:`validate_me_iban() <dataprep.clean.clean_me_iban.validate_me_iban>` validates either a single IBAN strings, a column of IBAN strings or a DataFrame of IBAN strings, returning `True` if the value is valid, and `False` otherwise."
   ]
  },
  {
   "cell_type": "markdown",
   "id": "refined-simpson",
   "metadata": {},
   "source": [
    "IBAN strings can be converted to the following formats via the `output_format` parameter:\n",
    "\n",
    "* `compact`: only number strings without any seperators or whitespace, like \"ME25510000000006234133\"\n",
    "* `standard`: IBAN strings with proper whitespace in the proper places, like \"ME 2551 0000 0000 0623 4133\"\n",
    "\n",
    "Invalid parsing is handled with the `errors` parameter:\n",
    "\n",
    "* `coerce` (default): invalid parsing will be set to NaN\n",
    "* `ignore`: invalid parsing will return the input\n",
    "* `raise`: invalid parsing will raise an exception\n",
    "\n",
    "The following sections demonstrate the functionality of `clean_me_iban()` and `validate_me_iban()`. "
   ]
  },
  {
   "cell_type": "markdown",
   "id": "domestic-soldier",
   "metadata": {},
   "source": [
    "### An example dataset containing IBAN strings"
   ]
  },
  {
   "cell_type": "code",
   "execution_count": 1,
   "id": "silent-tunisia",
   "metadata": {
    "execution": {
     "iopub.execute_input": "2021-11-02T21:31:03.230879Z",
     "iopub.status.busy": "2021-11-02T21:31:03.230254Z",
     "iopub.status.idle": "2021-11-02T21:31:03.438125Z",
     "shell.execute_reply": "2021-11-02T21:31:03.437674Z"
    }
   },
   "outputs": [
    {
     "data": {
      "text/html": [
       "<div>\n",
       "<style scoped>\n",
       "    .dataframe tbody tr th:only-of-type {\n",
       "        vertical-align: middle;\n",
       "    }\n",
       "\n",
       "    .dataframe tbody tr th {\n",
       "        vertical-align: top;\n",
       "    }\n",
       "\n",
       "    .dataframe thead th {\n",
       "        text-align: right;\n",
       "    }\n",
       "</style>\n",
       "<table border=\"1\" class=\"dataframe\">\n",
       "  <thead>\n",
       "    <tr style=\"text-align: right;\">\n",
       "      <th></th>\n",
       "      <th>iban</th>\n",
       "      <th>address</th>\n",
       "    </tr>\n",
       "  </thead>\n",
       "  <tbody>\n",
       "    <tr>\n",
       "      <th>0</th>\n",
       "      <td>ME25510000000006234133</td>\n",
       "      <td>123 Pine Ave.</td>\n",
       "    </tr>\n",
       "    <tr>\n",
       "      <th>1</th>\n",
       "      <td>ME52510000000006234132</td>\n",
       "      <td>main st</td>\n",
       "    </tr>\n",
       "    <tr>\n",
       "      <th>2</th>\n",
       "      <td>51824753556</td>\n",
       "      <td>1234 west main heights 57033</td>\n",
       "    </tr>\n",
       "    <tr>\n",
       "      <th>3</th>\n",
       "      <td>51 824 753 556</td>\n",
       "      <td>apt 1 789 s maple rd manhattan</td>\n",
       "    </tr>\n",
       "    <tr>\n",
       "      <th>4</th>\n",
       "      <td>hello</td>\n",
       "      <td>robie house, 789 north main street</td>\n",
       "    </tr>\n",
       "    <tr>\n",
       "      <th>5</th>\n",
       "      <td>NaN</td>\n",
       "      <td>(staples center) 1111 S Figueroa St, Los Angeles</td>\n",
       "    </tr>\n",
       "    <tr>\n",
       "      <th>6</th>\n",
       "      <td>NULL</td>\n",
       "      <td>hello</td>\n",
       "    </tr>\n",
       "  </tbody>\n",
       "</table>\n",
       "</div>"
      ],
      "text/plain": [
       "                     iban                                           address\n",
       "0  ME25510000000006234133                                     123 Pine Ave.\n",
       "1  ME52510000000006234132                                           main st\n",
       "2             51824753556                      1234 west main heights 57033\n",
       "3          51 824 753 556                    apt 1 789 s maple rd manhattan\n",
       "4                   hello                robie house, 789 north main street\n",
       "5                     NaN  (staples center) 1111 S Figueroa St, Los Angeles\n",
       "6                    NULL                                             hello"
      ]
     },
     "execution_count": 1,
     "metadata": {},
     "output_type": "execute_result"
    }
   ],
   "source": [
    "import pandas as pd\n",
    "import numpy as np\n",
    "df = pd.DataFrame(\n",
    "    {\n",
    "        \"iban\": [\n",
    "            \"ME25510000000006234133\",\n",
    "            \"ME52510000000006234132\",\n",
    "            \"51824753556\",\n",
    "            \"51 824 753 556\",\n",
    "            \"hello\",\n",
    "            np.nan,\n",
    "            \"NULL\"\n",
    "        ], \n",
    "        \"address\": [\n",
    "            \"123 Pine Ave.\",\n",
    "            \"main st\",\n",
    "            \"1234 west main heights 57033\",\n",
    "            \"apt 1 789 s maple rd manhattan\",\n",
    "            \"robie house, 789 north main street\",\n",
    "            \"(staples center) 1111 S Figueroa St, Los Angeles\",\n",
    "            \"hello\",\n",
    "        ]\n",
    "    }\n",
    ")\n",
    "df"
   ]
  },
  {
   "cell_type": "markdown",
   "id": "collective-moment",
   "metadata": {},
   "source": [
    "## 1. Default `clean_me_iban`\n",
    "\n",
    "By default, `clean_me_iban` will clean iban strings and output them in the standard format with proper separators."
   ]
  },
  {
   "cell_type": "code",
   "execution_count": 2,
   "id": "minute-battlefield",
   "metadata": {
    "execution": {
     "iopub.execute_input": "2021-11-02T21:31:03.441295Z",
     "iopub.status.busy": "2021-11-02T21:31:03.440695Z",
     "iopub.status.idle": "2021-11-02T21:31:03.957664Z",
     "shell.execute_reply": "2021-11-02T21:31:03.957268Z"
    }
   },
   "outputs": [
    {
     "data": {
      "text/html": [
       "<div>\n",
       "<style scoped>\n",
       "    .dataframe tbody tr th:only-of-type {\n",
       "        vertical-align: middle;\n",
       "    }\n",
       "\n",
       "    .dataframe tbody tr th {\n",
       "        vertical-align: top;\n",
       "    }\n",
       "\n",
       "    .dataframe thead th {\n",
       "        text-align: right;\n",
       "    }\n",
       "</style>\n",
       "<table border=\"1\" class=\"dataframe\">\n",
       "  <thead>\n",
       "    <tr style=\"text-align: right;\">\n",
       "      <th></th>\n",
       "      <th>iban</th>\n",
       "      <th>address</th>\n",
       "      <th>iban_clean</th>\n",
       "    </tr>\n",
       "  </thead>\n",
       "  <tbody>\n",
       "    <tr>\n",
       "      <th>0</th>\n",
       "      <td>ME25510000000006234133</td>\n",
       "      <td>123 Pine Ave.</td>\n",
       "      <td>ME25 5100 0000 0006 2341 33</td>\n",
       "    </tr>\n",
       "    <tr>\n",
       "      <th>1</th>\n",
       "      <td>ME52510000000006234132</td>\n",
       "      <td>main st</td>\n",
       "      <td>NaN</td>\n",
       "    </tr>\n",
       "    <tr>\n",
       "      <th>2</th>\n",
       "      <td>51824753556</td>\n",
       "      <td>1234 west main heights 57033</td>\n",
       "      <td>NaN</td>\n",
       "    </tr>\n",
       "    <tr>\n",
       "      <th>3</th>\n",
       "      <td>51 824 753 556</td>\n",
       "      <td>apt 1 789 s maple rd manhattan</td>\n",
       "      <td>NaN</td>\n",
       "    </tr>\n",
       "    <tr>\n",
       "      <th>4</th>\n",
       "      <td>hello</td>\n",
       "      <td>robie house, 789 north main street</td>\n",
       "      <td>NaN</td>\n",
       "    </tr>\n",
       "    <tr>\n",
       "      <th>5</th>\n",
       "      <td>NaN</td>\n",
       "      <td>(staples center) 1111 S Figueroa St, Los Angeles</td>\n",
       "      <td>NaN</td>\n",
       "    </tr>\n",
       "    <tr>\n",
       "      <th>6</th>\n",
       "      <td>NULL</td>\n",
       "      <td>hello</td>\n",
       "      <td>NaN</td>\n",
       "    </tr>\n",
       "  </tbody>\n",
       "</table>\n",
       "</div>"
      ],
      "text/plain": [
       "                     iban                                           address  \\\n",
       "0  ME25510000000006234133                                     123 Pine Ave.   \n",
       "1  ME52510000000006234132                                           main st   \n",
       "2             51824753556                      1234 west main heights 57033   \n",
       "3          51 824 753 556                    apt 1 789 s maple rd manhattan   \n",
       "4                   hello                robie house, 789 north main street   \n",
       "5                     NaN  (staples center) 1111 S Figueroa St, Los Angeles   \n",
       "6                    NULL                                             hello   \n",
       "\n",
       "                    iban_clean  \n",
       "0  ME25 5100 0000 0006 2341 33  \n",
       "1                          NaN  \n",
       "2                          NaN  \n",
       "3                          NaN  \n",
       "4                          NaN  \n",
       "5                          NaN  \n",
       "6                          NaN  "
      ]
     },
     "execution_count": 1,
     "metadata": {},
     "output_type": "execute_result"
    }
   ],
   "source": [
    "from dataprep.clean import clean_me_iban\n",
    "clean_me_iban(df, column = \"iban\")"
   ]
  },
  {
   "cell_type": "markdown",
   "id": "indoor-habitat",
   "metadata": {},
   "source": [
    "## 2. Output formats"
   ]
  },
  {
   "cell_type": "markdown",
   "id": "enhanced-neighbor",
   "metadata": {},
   "source": [
    "This section demonstrates the output parameter."
   ]
  },
  {
   "cell_type": "markdown",
   "id": "future-leeds",
   "metadata": {},
   "source": [
    "### `standard` (default)"
   ]
  },
  {
   "cell_type": "code",
   "execution_count": 3,
   "id": "ignored-termination",
   "metadata": {
    "execution": {
     "iopub.execute_input": "2021-11-02T21:31:03.972542Z",
     "iopub.status.busy": "2021-11-02T21:31:03.972101Z",
     "iopub.status.idle": "2021-11-02T21:31:03.982789Z",
     "shell.execute_reply": "2021-11-02T21:31:03.982455Z"
    }
   },
   "outputs": [
    {
     "data": {
      "text/html": [
       "<div>\n",
       "<style scoped>\n",
       "    .dataframe tbody tr th:only-of-type {\n",
       "        vertical-align: middle;\n",
       "    }\n",
       "\n",
       "    .dataframe tbody tr th {\n",
       "        vertical-align: top;\n",
       "    }\n",
       "\n",
       "    .dataframe thead th {\n",
       "        text-align: right;\n",
       "    }\n",
       "</style>\n",
       "<table border=\"1\" class=\"dataframe\">\n",
       "  <thead>\n",
       "    <tr style=\"text-align: right;\">\n",
       "      <th></th>\n",
       "      <th>iban</th>\n",
       "      <th>address</th>\n",
       "      <th>iban_clean</th>\n",
       "    </tr>\n",
       "  </thead>\n",
       "  <tbody>\n",
       "    <tr>\n",
       "      <th>0</th>\n",
       "      <td>ME25510000000006234133</td>\n",
       "      <td>123 Pine Ave.</td>\n",
       "      <td>ME25 5100 0000 0006 2341 33</td>\n",
       "    </tr>\n",
       "    <tr>\n",
       "      <th>1</th>\n",
       "      <td>ME52510000000006234132</td>\n",
       "      <td>main st</td>\n",
       "      <td>NaN</td>\n",
       "    </tr>\n",
       "    <tr>\n",
       "      <th>2</th>\n",
       "      <td>51824753556</td>\n",
       "      <td>1234 west main heights 57033</td>\n",
       "      <td>NaN</td>\n",
       "    </tr>\n",
       "    <tr>\n",
       "      <th>3</th>\n",
       "      <td>51 824 753 556</td>\n",
       "      <td>apt 1 789 s maple rd manhattan</td>\n",
       "      <td>NaN</td>\n",
       "    </tr>\n",
       "    <tr>\n",
       "      <th>4</th>\n",
       "      <td>hello</td>\n",
       "      <td>robie house, 789 north main street</td>\n",
       "      <td>NaN</td>\n",
       "    </tr>\n",
       "    <tr>\n",
       "      <th>5</th>\n",
       "      <td>NaN</td>\n",
       "      <td>(staples center) 1111 S Figueroa St, Los Angeles</td>\n",
       "      <td>NaN</td>\n",
       "    </tr>\n",
       "    <tr>\n",
       "      <th>6</th>\n",
       "      <td>NULL</td>\n",
       "      <td>hello</td>\n",
       "      <td>NaN</td>\n",
       "    </tr>\n",
       "  </tbody>\n",
       "</table>\n",
       "</div>"
      ],
      "text/plain": [
       "                     iban                                           address  \\\n",
       "0  ME25510000000006234133                                     123 Pine Ave.   \n",
       "1  ME52510000000006234132                                           main st   \n",
       "2             51824753556                      1234 west main heights 57033   \n",
       "3          51 824 753 556                    apt 1 789 s maple rd manhattan   \n",
       "4                   hello                robie house, 789 north main street   \n",
       "5                     NaN  (staples center) 1111 S Figueroa St, Los Angeles   \n",
       "6                    NULL                                             hello   \n",
       "\n",
       "                    iban_clean  \n",
       "0  ME25 5100 0000 0006 2341 33  \n",
       "1                          NaN  \n",
       "2                          NaN  \n",
       "3                          NaN  \n",
       "4                          NaN  \n",
       "5                          NaN  \n",
       "6                          NaN  "
      ]
     },
     "execution_count": 1,
     "metadata": {},
     "output_type": "execute_result"
    }
   ],
   "source": [
    "clean_me_iban(df, column = \"iban\", output_format=\"standard\")"
   ]
  },
  {
   "cell_type": "markdown",
   "id": "aggregate-piece",
   "metadata": {},
   "source": [
    "### `compact`"
   ]
  },
  {
   "cell_type": "code",
   "execution_count": 4,
   "id": "excessive-cigarette",
   "metadata": {
    "execution": {
     "iopub.execute_input": "2021-11-02T21:31:04.002120Z",
     "iopub.status.busy": "2021-11-02T21:31:04.001701Z",
     "iopub.status.idle": "2021-11-02T21:31:04.007960Z",
     "shell.execute_reply": "2021-11-02T21:31:04.007632Z"
    }
   },
   "outputs": [
    {
     "data": {
      "text/html": [
       "<div>\n",
       "<style scoped>\n",
       "    .dataframe tbody tr th:only-of-type {\n",
       "        vertical-align: middle;\n",
       "    }\n",
       "\n",
       "    .dataframe tbody tr th {\n",
       "        vertical-align: top;\n",
       "    }\n",
       "\n",
       "    .dataframe thead th {\n",
       "        text-align: right;\n",
       "    }\n",
       "</style>\n",
       "<table border=\"1\" class=\"dataframe\">\n",
       "  <thead>\n",
       "    <tr style=\"text-align: right;\">\n",
       "      <th></th>\n",
       "      <th>iban</th>\n",
       "      <th>address</th>\n",
       "      <th>iban_clean</th>\n",
       "    </tr>\n",
       "  </thead>\n",
       "  <tbody>\n",
       "    <tr>\n",
       "      <th>0</th>\n",
       "      <td>ME25510000000006234133</td>\n",
       "      <td>123 Pine Ave.</td>\n",
       "      <td>ME25510000000006234133</td>\n",
       "    </tr>\n",
       "    <tr>\n",
       "      <th>1</th>\n",
       "      <td>ME52510000000006234132</td>\n",
       "      <td>main st</td>\n",
       "      <td>NaN</td>\n",
       "    </tr>\n",
       "    <tr>\n",
       "      <th>2</th>\n",
       "      <td>51824753556</td>\n",
       "      <td>1234 west main heights 57033</td>\n",
       "      <td>NaN</td>\n",
       "    </tr>\n",
       "    <tr>\n",
       "      <th>3</th>\n",
       "      <td>51 824 753 556</td>\n",
       "      <td>apt 1 789 s maple rd manhattan</td>\n",
       "      <td>NaN</td>\n",
       "    </tr>\n",
       "    <tr>\n",
       "      <th>4</th>\n",
       "      <td>hello</td>\n",
       "      <td>robie house, 789 north main street</td>\n",
       "      <td>NaN</td>\n",
       "    </tr>\n",
       "    <tr>\n",
       "      <th>5</th>\n",
       "      <td>NaN</td>\n",
       "      <td>(staples center) 1111 S Figueroa St, Los Angeles</td>\n",
       "      <td>NaN</td>\n",
       "    </tr>\n",
       "    <tr>\n",
       "      <th>6</th>\n",
       "      <td>NULL</td>\n",
       "      <td>hello</td>\n",
       "      <td>NaN</td>\n",
       "    </tr>\n",
       "  </tbody>\n",
       "</table>\n",
       "</div>"
      ],
      "text/plain": [
       "                     iban                                           address  \\\n",
       "0  ME25510000000006234133                                     123 Pine Ave.   \n",
       "1  ME52510000000006234132                                           main st   \n",
       "2             51824753556                      1234 west main heights 57033   \n",
       "3          51 824 753 556                    apt 1 789 s maple rd manhattan   \n",
       "4                   hello                robie house, 789 north main street   \n",
       "5                     NaN  (staples center) 1111 S Figueroa St, Los Angeles   \n",
       "6                    NULL                                             hello   \n",
       "\n",
       "               iban_clean  \n",
       "0  ME25510000000006234133  \n",
       "1                     NaN  \n",
       "2                     NaN  \n",
       "3                     NaN  \n",
       "4                     NaN  \n",
       "5                     NaN  \n",
       "6                     NaN  "
      ]
     },
     "execution_count": 1,
     "metadata": {},
     "output_type": "execute_result"
    }
   ],
   "source": [
    "clean_me_iban(df, column = \"iban\", output_format=\"compact\")"
   ]
  },
  {
   "cell_type": "markdown",
   "id": "inside-grain",
   "metadata": {},
   "source": [
    "## 3. `inplace` parameter\n",
    "\n",
    "This deletes the given column from the returned DataFrame. \n",
    "A new column containing cleaned IBAN strings is added with a title in the format `\"{original title}_clean\"`."
   ]
  },
  {
   "cell_type": "code",
   "execution_count": 5,
   "id": "descending-password",
   "metadata": {
    "execution": {
     "iopub.execute_input": "2021-11-02T21:31:04.029493Z",
     "iopub.status.busy": "2021-11-02T21:31:04.017113Z",
     "iopub.status.idle": "2021-11-02T21:31:04.040267Z",
     "shell.execute_reply": "2021-11-02T21:31:04.039960Z"
    }
   },
   "outputs": [
    {
     "data": {
      "text/html": [
       "<div>\n",
       "<style scoped>\n",
       "    .dataframe tbody tr th:only-of-type {\n",
       "        vertical-align: middle;\n",
       "    }\n",
       "\n",
       "    .dataframe tbody tr th {\n",
       "        vertical-align: top;\n",
       "    }\n",
       "\n",
       "    .dataframe thead th {\n",
       "        text-align: right;\n",
       "    }\n",
       "</style>\n",
       "<table border=\"1\" class=\"dataframe\">\n",
       "  <thead>\n",
       "    <tr style=\"text-align: right;\">\n",
       "      <th></th>\n",
       "      <th>iban_clean</th>\n",
       "      <th>address</th>\n",
       "    </tr>\n",
       "  </thead>\n",
       "  <tbody>\n",
       "    <tr>\n",
       "      <th>0</th>\n",
       "      <td>ME25 5100 0000 0006 2341 33</td>\n",
       "      <td>123 Pine Ave.</td>\n",
       "    </tr>\n",
       "    <tr>\n",
       "      <th>1</th>\n",
       "      <td>NaN</td>\n",
       "      <td>main st</td>\n",
       "    </tr>\n",
       "    <tr>\n",
       "      <th>2</th>\n",
       "      <td>NaN</td>\n",
       "      <td>1234 west main heights 57033</td>\n",
       "    </tr>\n",
       "    <tr>\n",
       "      <th>3</th>\n",
       "      <td>NaN</td>\n",
       "      <td>apt 1 789 s maple rd manhattan</td>\n",
       "    </tr>\n",
       "    <tr>\n",
       "      <th>4</th>\n",
       "      <td>NaN</td>\n",
       "      <td>robie house, 789 north main street</td>\n",
       "    </tr>\n",
       "    <tr>\n",
       "      <th>5</th>\n",
       "      <td>NaN</td>\n",
       "      <td>(staples center) 1111 S Figueroa St, Los Angeles</td>\n",
       "    </tr>\n",
       "    <tr>\n",
       "      <th>6</th>\n",
       "      <td>NaN</td>\n",
       "      <td>hello</td>\n",
       "    </tr>\n",
       "  </tbody>\n",
       "</table>\n",
       "</div>"
      ],
      "text/plain": [
       "                    iban_clean  \\\n",
       "0  ME25 5100 0000 0006 2341 33   \n",
       "1                          NaN   \n",
       "2                          NaN   \n",
       "3                          NaN   \n",
       "4                          NaN   \n",
       "5                          NaN   \n",
       "6                          NaN   \n",
       "\n",
       "                                            address  \n",
       "0                                     123 Pine Ave.  \n",
       "1                                           main st  \n",
       "2                      1234 west main heights 57033  \n",
       "3                    apt 1 789 s maple rd manhattan  \n",
       "4                robie house, 789 north main street  \n",
       "5  (staples center) 1111 S Figueroa St, Los Angeles  \n",
       "6                                             hello  "
      ]
     },
     "execution_count": 1,
     "metadata": {},
     "output_type": "execute_result"
    }
   ],
   "source": [
    "clean_me_iban(df, column=\"iban\", inplace=True)"
   ]
  },
  {
   "cell_type": "markdown",
   "id": "natural-scene",
   "metadata": {},
   "source": [
    "## 4. `errors` parameter"
   ]
  },
  {
   "cell_type": "markdown",
   "id": "insured-drink",
   "metadata": {},
   "source": [
    "### `coerce` (default)"
   ]
  },
  {
   "cell_type": "code",
   "execution_count": 6,
   "id": "thermal-pittsburgh",
   "metadata": {
    "execution": {
     "iopub.execute_input": "2021-11-02T21:31:04.059075Z",
     "iopub.status.busy": "2021-11-02T21:31:04.057126Z",
     "iopub.status.idle": "2021-11-02T21:31:04.065007Z",
     "shell.execute_reply": "2021-11-02T21:31:04.065313Z"
    }
   },
   "outputs": [
    {
     "data": {
      "text/html": [
       "<div>\n",
       "<style scoped>\n",
       "    .dataframe tbody tr th:only-of-type {\n",
       "        vertical-align: middle;\n",
       "    }\n",
       "\n",
       "    .dataframe tbody tr th {\n",
       "        vertical-align: top;\n",
       "    }\n",
       "\n",
       "    .dataframe thead th {\n",
       "        text-align: right;\n",
       "    }\n",
       "</style>\n",
       "<table border=\"1\" class=\"dataframe\">\n",
       "  <thead>\n",
       "    <tr style=\"text-align: right;\">\n",
       "      <th></th>\n",
       "      <th>iban</th>\n",
       "      <th>address</th>\n",
       "      <th>iban_clean</th>\n",
       "    </tr>\n",
       "  </thead>\n",
       "  <tbody>\n",
       "    <tr>\n",
       "      <th>0</th>\n",
       "      <td>ME25510000000006234133</td>\n",
       "      <td>123 Pine Ave.</td>\n",
       "      <td>ME25 5100 0000 0006 2341 33</td>\n",
       "    </tr>\n",
       "    <tr>\n",
       "      <th>1</th>\n",
       "      <td>ME52510000000006234132</td>\n",
       "      <td>main st</td>\n",
       "      <td>NaN</td>\n",
       "    </tr>\n",
       "    <tr>\n",
       "      <th>2</th>\n",
       "      <td>51824753556</td>\n",
       "      <td>1234 west main heights 57033</td>\n",
       "      <td>NaN</td>\n",
       "    </tr>\n",
       "    <tr>\n",
       "      <th>3</th>\n",
       "      <td>51 824 753 556</td>\n",
       "      <td>apt 1 789 s maple rd manhattan</td>\n",
       "      <td>NaN</td>\n",
       "    </tr>\n",
       "    <tr>\n",
       "      <th>4</th>\n",
       "      <td>hello</td>\n",
       "      <td>robie house, 789 north main street</td>\n",
       "      <td>NaN</td>\n",
       "    </tr>\n",
       "    <tr>\n",
       "      <th>5</th>\n",
       "      <td>NaN</td>\n",
       "      <td>(staples center) 1111 S Figueroa St, Los Angeles</td>\n",
       "      <td>NaN</td>\n",
       "    </tr>\n",
       "    <tr>\n",
       "      <th>6</th>\n",
       "      <td>NULL</td>\n",
       "      <td>hello</td>\n",
       "      <td>NaN</td>\n",
       "    </tr>\n",
       "  </tbody>\n",
       "</table>\n",
       "</div>"
      ],
      "text/plain": [
       "                     iban                                           address  \\\n",
       "0  ME25510000000006234133                                     123 Pine Ave.   \n",
       "1  ME52510000000006234132                                           main st   \n",
       "2             51824753556                      1234 west main heights 57033   \n",
       "3          51 824 753 556                    apt 1 789 s maple rd manhattan   \n",
       "4                   hello                robie house, 789 north main street   \n",
       "5                     NaN  (staples center) 1111 S Figueroa St, Los Angeles   \n",
       "6                    NULL                                             hello   \n",
       "\n",
       "                    iban_clean  \n",
       "0  ME25 5100 0000 0006 2341 33  \n",
       "1                          NaN  \n",
       "2                          NaN  \n",
       "3                          NaN  \n",
       "4                          NaN  \n",
       "5                          NaN  \n",
       "6                          NaN  "
      ]
     },
     "execution_count": 1,
     "metadata": {},
     "output_type": "execute_result"
    }
   ],
   "source": [
    "clean_me_iban(df, \"iban\", errors=\"coerce\")"
   ]
  },
  {
   "cell_type": "markdown",
   "id": "pressing-wrestling",
   "metadata": {},
   "source": [
    "### `ignore`"
   ]
  },
  {
   "cell_type": "code",
   "execution_count": 7,
   "id": "binary-warren",
   "metadata": {
    "execution": {
     "iopub.execute_input": "2021-11-02T21:31:04.083305Z",
     "iopub.status.busy": "2021-11-02T21:31:04.082845Z",
     "iopub.status.idle": "2021-11-02T21:31:04.089582Z",
     "shell.execute_reply": "2021-11-02T21:31:04.089920Z"
    }
   },
   "outputs": [
    {
     "data": {
      "text/html": [
       "<div>\n",
       "<style scoped>\n",
       "    .dataframe tbody tr th:only-of-type {\n",
       "        vertical-align: middle;\n",
       "    }\n",
       "\n",
       "    .dataframe tbody tr th {\n",
       "        vertical-align: top;\n",
       "    }\n",
       "\n",
       "    .dataframe thead th {\n",
       "        text-align: right;\n",
       "    }\n",
       "</style>\n",
       "<table border=\"1\" class=\"dataframe\">\n",
       "  <thead>\n",
       "    <tr style=\"text-align: right;\">\n",
       "      <th></th>\n",
       "      <th>iban</th>\n",
       "      <th>address</th>\n",
       "      <th>iban_clean</th>\n",
       "    </tr>\n",
       "  </thead>\n",
       "  <tbody>\n",
       "    <tr>\n",
       "      <th>0</th>\n",
       "      <td>ME25510000000006234133</td>\n",
       "      <td>123 Pine Ave.</td>\n",
       "      <td>ME25 5100 0000 0006 2341 33</td>\n",
       "    </tr>\n",
       "    <tr>\n",
       "      <th>1</th>\n",
       "      <td>ME52510000000006234132</td>\n",
       "      <td>main st</td>\n",
       "      <td>ME52510000000006234132</td>\n",
       "    </tr>\n",
       "    <tr>\n",
       "      <th>2</th>\n",
       "      <td>51824753556</td>\n",
       "      <td>1234 west main heights 57033</td>\n",
       "      <td>51824753556</td>\n",
       "    </tr>\n",
       "    <tr>\n",
       "      <th>3</th>\n",
       "      <td>51 824 753 556</td>\n",
       "      <td>apt 1 789 s maple rd manhattan</td>\n",
       "      <td>51 824 753 556</td>\n",
       "    </tr>\n",
       "    <tr>\n",
       "      <th>4</th>\n",
       "      <td>hello</td>\n",
       "      <td>robie house, 789 north main street</td>\n",
       "      <td>hello</td>\n",
       "    </tr>\n",
       "    <tr>\n",
       "      <th>5</th>\n",
       "      <td>NaN</td>\n",
       "      <td>(staples center) 1111 S Figueroa St, Los Angeles</td>\n",
       "      <td>NaN</td>\n",
       "    </tr>\n",
       "    <tr>\n",
       "      <th>6</th>\n",
       "      <td>NULL</td>\n",
       "      <td>hello</td>\n",
       "      <td>NaN</td>\n",
       "    </tr>\n",
       "  </tbody>\n",
       "</table>\n",
       "</div>"
      ],
      "text/plain": [
       "                     iban                                           address  \\\n",
       "0  ME25510000000006234133                                     123 Pine Ave.   \n",
       "1  ME52510000000006234132                                           main st   \n",
       "2             51824753556                      1234 west main heights 57033   \n",
       "3          51 824 753 556                    apt 1 789 s maple rd manhattan   \n",
       "4                   hello                robie house, 789 north main street   \n",
       "5                     NaN  (staples center) 1111 S Figueroa St, Los Angeles   \n",
       "6                    NULL                                             hello   \n",
       "\n",
       "                    iban_clean  \n",
       "0  ME25 5100 0000 0006 2341 33  \n",
       "1       ME52510000000006234132  \n",
       "2                  51824753556  \n",
       "3               51 824 753 556  \n",
       "4                        hello  \n",
       "5                          NaN  \n",
       "6                          NaN  "
      ]
     },
     "execution_count": 1,
     "metadata": {},
     "output_type": "execute_result"
    }
   ],
   "source": [
    "clean_me_iban(df, \"iban\", errors=\"ignore\")"
   ]
  },
  {
   "cell_type": "markdown",
   "id": "informal-renewal",
   "metadata": {},
   "source": [
    "## 4. `validate_me_iban()`"
   ]
  },
  {
   "cell_type": "markdown",
   "id": "immediate-inspector",
   "metadata": {},
   "source": [
    "`validate_me_iban()` returns `True` when the input is a valid IBAN. Otherwise it returns `False`.\n",
    "\n",
    "The input of `validate_me_iban()` can be a string, a Pandas DataSeries, a Dask DataSeries, a Pandas DataFrame and a dask DataFrame.\n",
    "\n",
    "When the input is a string, a Pandas DataSeries or a Dask DataSeries, user doesn't need to specify a column name to be validated. \n",
    "\n",
    "When the input is a Pandas DataFrame or a dask DataFrame, user can both specify or not specify a column name to be validated. If user specify the column name, `validate_me_iban()` only returns the validation result for the specified column. If user doesn't specify the column name, `validate_me_iban()` returns the validation result for the whole DataFrame."
   ]
  },
  {
   "cell_type": "code",
   "execution_count": 8,
   "id": "fabulous-leonard",
   "metadata": {
    "execution": {
     "iopub.execute_input": "2021-11-02T21:31:04.095047Z",
     "iopub.status.busy": "2021-11-02T21:31:04.094595Z",
     "iopub.status.idle": "2021-11-02T21:31:04.096756Z",
     "shell.execute_reply": "2021-11-02T21:31:04.097100Z"
    }
   },
   "outputs": [
    {
     "name": "stdout",
     "output_type": "stream",
     "text": [
      "True\n",
      "False\n",
      "False\n",
      "False\n",
      "False\n",
      "False\n",
      "False\n"
     ]
    }
   ],
   "source": [
    "from dataprep.clean import validate_me_iban\n",
    "print(validate_me_iban(\"ME25510000000006234133\"))\n",
    "print(validate_me_iban(\"ME52510000000006234132\"))\n",
    "print(validate_me_iban(\"51824753556\"))\n",
    "print(validate_me_iban(\"51 824 753 556\"))\n",
    "print(validate_me_iban(\"hello\"))\n",
    "print(validate_me_iban(np.nan))\n",
    "print(validate_me_iban(\"NULL\"))"
   ]
  },
  {
   "cell_type": "markdown",
   "id": "documentary-invite",
   "metadata": {},
   "source": [
    "### Series"
   ]
  },
  {
   "cell_type": "code",
   "execution_count": 9,
   "id": "excess-assault",
   "metadata": {
    "execution": {
     "iopub.execute_input": "2021-11-02T21:31:04.101373Z",
     "iopub.status.busy": "2021-11-02T21:31:04.100934Z",
     "iopub.status.idle": "2021-11-02T21:31:04.102959Z",
     "shell.execute_reply": "2021-11-02T21:31:04.103305Z"
    }
   },
   "outputs": [
    {
     "data": {
      "text/plain": [
       "0     True\n",
       "1    False\n",
       "2    False\n",
       "3    False\n",
       "4    False\n",
       "5    False\n",
       "6    False\n",
       "Name: iban, dtype: bool"
      ]
     },
     "execution_count": 1,
     "metadata": {},
     "output_type": "execute_result"
    }
   ],
   "source": [
    "validate_me_iban(df[\"iban\"])"
   ]
  },
  {
   "cell_type": "markdown",
   "id": "senior-arrest",
   "metadata": {},
   "source": [
    "### DataFrame + Specify Column"
   ]
  },
  {
   "cell_type": "code",
   "execution_count": 10,
   "id": "broke-poster",
   "metadata": {
    "execution": {
     "iopub.execute_input": "2021-11-02T21:31:04.107702Z",
     "iopub.status.busy": "2021-11-02T21:31:04.107255Z",
     "iopub.status.idle": "2021-11-02T21:31:04.109349Z",
     "shell.execute_reply": "2021-11-02T21:31:04.109694Z"
    }
   },
   "outputs": [
    {
     "data": {
      "text/plain": [
       "0     True\n",
       "1    False\n",
       "2    False\n",
       "3    False\n",
       "4    False\n",
       "5    False\n",
       "6    False\n",
       "Name: iban, dtype: bool"
      ]
     },
     "execution_count": 1,
     "metadata": {},
     "output_type": "execute_result"
    }
   ],
   "source": [
    "validate_me_iban(df, column=\"iban\")"
   ]
  },
  {
   "cell_type": "markdown",
   "id": "analyzed-carrier",
   "metadata": {},
   "source": [
    "### Only DataFrame"
   ]
  },
  {
   "cell_type": "code",
   "execution_count": 11,
   "id": "professional-recovery",
   "metadata": {
    "execution": {
     "iopub.execute_input": "2021-11-02T21:31:04.112641Z",
     "iopub.status.busy": "2021-11-02T21:31:04.112213Z",
     "iopub.status.idle": "2021-11-02T21:31:04.118433Z",
     "shell.execute_reply": "2021-11-02T21:31:04.118051Z"
    },
    "scrolled": true
   },
   "outputs": [
    {
     "data": {
      "text/html": [
       "<div>\n",
       "<style scoped>\n",
       "    .dataframe tbody tr th:only-of-type {\n",
       "        vertical-align: middle;\n",
       "    }\n",
       "\n",
       "    .dataframe tbody tr th {\n",
       "        vertical-align: top;\n",
       "    }\n",
       "\n",
       "    .dataframe thead th {\n",
       "        text-align: right;\n",
       "    }\n",
       "</style>\n",
       "<table border=\"1\" class=\"dataframe\">\n",
       "  <thead>\n",
       "    <tr style=\"text-align: right;\">\n",
       "      <th></th>\n",
       "      <th>iban</th>\n",
       "      <th>address</th>\n",
       "    </tr>\n",
       "  </thead>\n",
       "  <tbody>\n",
       "    <tr>\n",
       "      <th>0</th>\n",
       "      <td>True</td>\n",
       "      <td>False</td>\n",
       "    </tr>\n",
       "    <tr>\n",
       "      <th>1</th>\n",
       "      <td>False</td>\n",
       "      <td>False</td>\n",
       "    </tr>\n",
       "    <tr>\n",
       "      <th>2</th>\n",
       "      <td>False</td>\n",
       "      <td>False</td>\n",
       "    </tr>\n",
       "    <tr>\n",
       "      <th>3</th>\n",
       "      <td>False</td>\n",
       "      <td>False</td>\n",
       "    </tr>\n",
       "    <tr>\n",
       "      <th>4</th>\n",
       "      <td>False</td>\n",
       "      <td>False</td>\n",
       "    </tr>\n",
       "    <tr>\n",
       "      <th>5</th>\n",
       "      <td>False</td>\n",
       "      <td>False</td>\n",
       "    </tr>\n",
       "    <tr>\n",
       "      <th>6</th>\n",
       "      <td>False</td>\n",
       "      <td>False</td>\n",
       "    </tr>\n",
       "  </tbody>\n",
       "</table>\n",
       "</div>"
      ],
      "text/plain": [
       "    iban  address\n",
       "0   True    False\n",
       "1  False    False\n",
       "2  False    False\n",
       "3  False    False\n",
       "4  False    False\n",
       "5  False    False\n",
       "6  False    False"
      ]
     },
     "execution_count": 1,
     "metadata": {},
     "output_type": "execute_result"
    }
   ],
   "source": [
    "validate_me_iban(df)"
   ]
  },
  {
   "cell_type": "code",
   "execution_count": null,
   "id": "chemical-tracker",
   "metadata": {},
   "outputs": [],
   "source": []
  }
 ],
 "metadata": {
  "kernelspec": {
   "display_name": "Python 3",
   "language": "python",
   "name": "python3"
  },
  "language_info": {
   "codemirror_mode": {
    "name": "ipython",
    "version": 3
   },
   "file_extension": ".py",
   "mimetype": "text/x-python",
   "name": "python",
   "nbconvert_exporter": "python",
   "pygments_lexer": "ipython3",
   "version": "3.8.10"
  }
 },
 "nbformat": 4,
 "nbformat_minor": 5
}
