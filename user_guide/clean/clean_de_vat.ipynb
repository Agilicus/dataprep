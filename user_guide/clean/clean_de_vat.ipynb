{
 "cells": [
  {
   "cell_type": "raw",
   "id": "linear-violence",
   "metadata": {},
   "source": [
    ".. _vat_userguide:\n",
    "\n",
    "VAT Strings\n",
    "============"
   ]
  },
  {
   "cell_type": "raw",
   "id": "active-optimization",
   "metadata": {},
   "source": [
    "Introduction\n",
    "------------\n",
    "\n",
    "The function :func:`clean_de_vat() <dataprep.clean.clean_de_vat.clean_de_vat>` cleans a column containing German VAT number (VAT) strings, and standardizes them in a given format. The function :func:`validate_de_vat() <dataprep.clean.clean_de_vat.validate_de_vat>` validates either a single VAT strings, a column of VAT strings or a DataFrame of VAT strings, returning `True` if the value is valid, and `False` otherwise."
   ]
  },
  {
   "cell_type": "markdown",
   "id": "radio-toronto",
   "metadata": {},
   "source": [
    "VAT strings can be converted to the following formats via the `output_format` parameter:\n",
    "\n",
    "* `compact`: only number strings without any seperators or whitespace, like \"136695976\"\n",
    "* `standard`: VAT strings with proper whitespace in the proper places. Note that in the case of VAT, the compact format is the same as the standard one.\n",
    "\n",
    "Invalid parsing is handled with the `errors` parameter:\n",
    "\n",
    "* `coerce` (default): invalid parsing will be set to NaN\n",
    "* `ignore`: invalid parsing will return the input\n",
    "* `raise`: invalid parsing will raise an exception\n",
    "\n",
    "The following sections demonstrate the functionality of `clean_de_vat()` and `validate_de_vat()`. "
   ]
  },
  {
   "cell_type": "markdown",
   "id": "arbitrary-apple",
   "metadata": {},
   "source": [
    "### An example dataset containing VAT strings"
   ]
  },
  {
   "cell_type": "code",
   "execution_count": 1,
   "id": "convinced-break",
   "metadata": {
    "execution": {
     "iopub.execute_input": "2021-10-26T23:36:10.423959Z",
     "iopub.status.busy": "2021-10-26T23:36:10.423268Z",
     "iopub.status.idle": "2021-10-26T23:36:10.717601Z",
     "shell.execute_reply": "2021-10-26T23:36:10.716924Z"
    }
   },
   "outputs": [
    {
     "data": {
      "text/html": [
       "<div>\n",
       "<style scoped>\n",
       "    .dataframe tbody tr th:only-of-type {\n",
       "        vertical-align: middle;\n",
       "    }\n",
       "\n",
       "    .dataframe tbody tr th {\n",
       "        vertical-align: top;\n",
       "    }\n",
       "\n",
       "    .dataframe thead th {\n",
       "        text-align: right;\n",
       "    }\n",
       "</style>\n",
       "<table border=\"1\" class=\"dataframe\">\n",
       "  <thead>\n",
       "    <tr style=\"text-align: right;\">\n",
       "      <th></th>\n",
       "      <th>vat</th>\n",
       "      <th>address</th>\n",
       "    </tr>\n",
       "  </thead>\n",
       "  <tbody>\n",
       "    <tr>\n",
       "      <th>0</th>\n",
       "      <td>DE 136,695 976</td>\n",
       "      <td>123 Pine Ave.</td>\n",
       "    </tr>\n",
       "    <tr>\n",
       "      <th>1</th>\n",
       "      <td>136695978</td>\n",
       "      <td>main st</td>\n",
       "    </tr>\n",
       "    <tr>\n",
       "      <th>2</th>\n",
       "      <td>BE 428759497</td>\n",
       "      <td>1234 west main heights 57033</td>\n",
       "    </tr>\n",
       "    <tr>\n",
       "      <th>3</th>\n",
       "      <td>BE431150351</td>\n",
       "      <td>apt 1 789 s maple rd manhattan</td>\n",
       "    </tr>\n",
       "    <tr>\n",
       "      <th>4</th>\n",
       "      <td>002 724 334</td>\n",
       "      <td>robie house, 789 north main street</td>\n",
       "    </tr>\n",
       "    <tr>\n",
       "      <th>5</th>\n",
       "      <td>hello</td>\n",
       "      <td>1111 S Figueroa St, Los Angeles, CA 90015</td>\n",
       "    </tr>\n",
       "    <tr>\n",
       "      <th>6</th>\n",
       "      <td>NaN</td>\n",
       "      <td>(staples center) 1111 S Figueroa St, Los Angeles</td>\n",
       "    </tr>\n",
       "    <tr>\n",
       "      <th>7</th>\n",
       "      <td>NULL</td>\n",
       "      <td>hello</td>\n",
       "    </tr>\n",
       "  </tbody>\n",
       "</table>\n",
       "</div>"
      ],
      "text/plain": [
       "              vat                                           address\n",
       "0  DE 136,695 976                                     123 Pine Ave.\n",
       "1       136695978                                           main st\n",
       "2    BE 428759497                      1234 west main heights 57033\n",
       "3     BE431150351                    apt 1 789 s maple rd manhattan\n",
       "4     002 724 334                robie house, 789 north main street\n",
       "5           hello         1111 S Figueroa St, Los Angeles, CA 90015\n",
       "6             NaN  (staples center) 1111 S Figueroa St, Los Angeles\n",
       "7            NULL                                             hello"
      ]
     },
     "execution_count": 1,
     "metadata": {},
     "output_type": "execute_result"
    }
   ],
   "source": [
    "import pandas as pd\n",
    "import numpy as np\n",
    "df = pd.DataFrame(\n",
    "    {\n",
    "        \"vat\": [\n",
    "            'DE 136,695 976',\n",
    "            '136695978',\n",
    "            'BE 428759497',\n",
    "            'BE431150351',\n",
    "            \"002 724 334\",\n",
    "            \"hello\",\n",
    "            np.nan,\n",
    "            \"NULL\",\n",
    "        ], \n",
    "        \"address\": [\n",
    "            \"123 Pine Ave.\",\n",
    "            \"main st\",\n",
    "            \"1234 west main heights 57033\",\n",
    "            \"apt 1 789 s maple rd manhattan\",\n",
    "            \"robie house, 789 north main street\",\n",
    "            \"1111 S Figueroa St, Los Angeles, CA 90015\",\n",
    "            \"(staples center) 1111 S Figueroa St, Los Angeles\",\n",
    "            \"hello\",\n",
    "        ]\n",
    "    }\n",
    ")\n",
    "df"
   ]
  },
  {
   "cell_type": "markdown",
   "id": "chemical-briefing",
   "metadata": {},
   "source": [
    "## 1. Default `clean_de_vat`\n",
    "\n",
    "By default, `clean_de_vat` will clean vat strings and output them in the standard format with proper separators."
   ]
  },
  {
   "cell_type": "code",
   "execution_count": 2,
   "id": "egyptian-valley",
   "metadata": {
    "execution": {
     "iopub.execute_input": "2021-10-26T23:36:10.722858Z",
     "iopub.status.busy": "2021-10-26T23:36:10.721887Z",
     "iopub.status.idle": "2021-10-26T23:36:11.477301Z",
     "shell.execute_reply": "2021-10-26T23:36:11.477901Z"
    }
   },
   "outputs": [
    {
     "data": {
      "text/html": [
       "<div>\n",
       "<style scoped>\n",
       "    .dataframe tbody tr th:only-of-type {\n",
       "        vertical-align: middle;\n",
       "    }\n",
       "\n",
       "    .dataframe tbody tr th {\n",
       "        vertical-align: top;\n",
       "    }\n",
       "\n",
       "    .dataframe thead th {\n",
       "        text-align: right;\n",
       "    }\n",
       "</style>\n",
       "<table border=\"1\" class=\"dataframe\">\n",
       "  <thead>\n",
       "    <tr style=\"text-align: right;\">\n",
       "      <th></th>\n",
       "      <th>vat</th>\n",
       "      <th>address</th>\n",
       "      <th>vat_clean</th>\n",
       "    </tr>\n",
       "  </thead>\n",
       "  <tbody>\n",
       "    <tr>\n",
       "      <th>0</th>\n",
       "      <td>DE 136,695 976</td>\n",
       "      <td>123 Pine Ave.</td>\n",
       "      <td>136695976</td>\n",
       "    </tr>\n",
       "    <tr>\n",
       "      <th>1</th>\n",
       "      <td>136695978</td>\n",
       "      <td>main st</td>\n",
       "      <td>NaN</td>\n",
       "    </tr>\n",
       "    <tr>\n",
       "      <th>2</th>\n",
       "      <td>BE 428759497</td>\n",
       "      <td>1234 west main heights 57033</td>\n",
       "      <td>NaN</td>\n",
       "    </tr>\n",
       "    <tr>\n",
       "      <th>3</th>\n",
       "      <td>BE431150351</td>\n",
       "      <td>apt 1 789 s maple rd manhattan</td>\n",
       "      <td>NaN</td>\n",
       "    </tr>\n",
       "    <tr>\n",
       "      <th>4</th>\n",
       "      <td>002 724 334</td>\n",
       "      <td>robie house, 789 north main street</td>\n",
       "      <td>NaN</td>\n",
       "    </tr>\n",
       "    <tr>\n",
       "      <th>5</th>\n",
       "      <td>hello</td>\n",
       "      <td>1111 S Figueroa St, Los Angeles, CA 90015</td>\n",
       "      <td>NaN</td>\n",
       "    </tr>\n",
       "    <tr>\n",
       "      <th>6</th>\n",
       "      <td>NaN</td>\n",
       "      <td>(staples center) 1111 S Figueroa St, Los Angeles</td>\n",
       "      <td>NaN</td>\n",
       "    </tr>\n",
       "    <tr>\n",
       "      <th>7</th>\n",
       "      <td>NULL</td>\n",
       "      <td>hello</td>\n",
       "      <td>NaN</td>\n",
       "    </tr>\n",
       "  </tbody>\n",
       "</table>\n",
       "</div>"
      ],
      "text/plain": [
       "              vat                                           address  vat_clean\n",
       "0  DE 136,695 976                                     123 Pine Ave.  136695976\n",
       "1       136695978                                           main st        NaN\n",
       "2    BE 428759497                      1234 west main heights 57033        NaN\n",
       "3     BE431150351                    apt 1 789 s maple rd manhattan        NaN\n",
       "4     002 724 334                robie house, 789 north main street        NaN\n",
       "5           hello         1111 S Figueroa St, Los Angeles, CA 90015        NaN\n",
       "6             NaN  (staples center) 1111 S Figueroa St, Los Angeles        NaN\n",
       "7            NULL                                             hello        NaN"
      ]
     },
     "execution_count": 1,
     "metadata": {},
     "output_type": "execute_result"
    }
   ],
   "source": [
    "from dataprep.clean import clean_de_vat\n",
    "clean_de_vat(df, column = \"vat\")"
   ]
  },
  {
   "cell_type": "markdown",
   "id": "headed-closer",
   "metadata": {},
   "source": [
    "## 2. Output formats"
   ]
  },
  {
   "cell_type": "markdown",
   "id": "lovely-store",
   "metadata": {},
   "source": [
    "This section demonstrates the output parameter."
   ]
  },
  {
   "cell_type": "markdown",
   "id": "muslim-complex",
   "metadata": {},
   "source": [
    "### `standard` (default)"
   ]
  },
  {
   "cell_type": "code",
   "execution_count": 3,
   "id": "loving-enlargement",
   "metadata": {
    "execution": {
     "iopub.execute_input": "2021-10-26T23:36:11.510012Z",
     "iopub.status.busy": "2021-10-26T23:36:11.505087Z",
     "iopub.status.idle": "2021-10-26T23:36:11.520757Z",
     "shell.execute_reply": "2021-10-26T23:36:11.521224Z"
    }
   },
   "outputs": [
    {
     "data": {
      "text/html": [
       "<div>\n",
       "<style scoped>\n",
       "    .dataframe tbody tr th:only-of-type {\n",
       "        vertical-align: middle;\n",
       "    }\n",
       "\n",
       "    .dataframe tbody tr th {\n",
       "        vertical-align: top;\n",
       "    }\n",
       "\n",
       "    .dataframe thead th {\n",
       "        text-align: right;\n",
       "    }\n",
       "</style>\n",
       "<table border=\"1\" class=\"dataframe\">\n",
       "  <thead>\n",
       "    <tr style=\"text-align: right;\">\n",
       "      <th></th>\n",
       "      <th>vat</th>\n",
       "      <th>address</th>\n",
       "      <th>vat_clean</th>\n",
       "    </tr>\n",
       "  </thead>\n",
       "  <tbody>\n",
       "    <tr>\n",
       "      <th>0</th>\n",
       "      <td>DE 136,695 976</td>\n",
       "      <td>123 Pine Ave.</td>\n",
       "      <td>136695976</td>\n",
       "    </tr>\n",
       "    <tr>\n",
       "      <th>1</th>\n",
       "      <td>136695978</td>\n",
       "      <td>main st</td>\n",
       "      <td>NaN</td>\n",
       "    </tr>\n",
       "    <tr>\n",
       "      <th>2</th>\n",
       "      <td>BE 428759497</td>\n",
       "      <td>1234 west main heights 57033</td>\n",
       "      <td>NaN</td>\n",
       "    </tr>\n",
       "    <tr>\n",
       "      <th>3</th>\n",
       "      <td>BE431150351</td>\n",
       "      <td>apt 1 789 s maple rd manhattan</td>\n",
       "      <td>NaN</td>\n",
       "    </tr>\n",
       "    <tr>\n",
       "      <th>4</th>\n",
       "      <td>002 724 334</td>\n",
       "      <td>robie house, 789 north main street</td>\n",
       "      <td>NaN</td>\n",
       "    </tr>\n",
       "    <tr>\n",
       "      <th>5</th>\n",
       "      <td>hello</td>\n",
       "      <td>1111 S Figueroa St, Los Angeles, CA 90015</td>\n",
       "      <td>NaN</td>\n",
       "    </tr>\n",
       "    <tr>\n",
       "      <th>6</th>\n",
       "      <td>NaN</td>\n",
       "      <td>(staples center) 1111 S Figueroa St, Los Angeles</td>\n",
       "      <td>NaN</td>\n",
       "    </tr>\n",
       "    <tr>\n",
       "      <th>7</th>\n",
       "      <td>NULL</td>\n",
       "      <td>hello</td>\n",
       "      <td>NaN</td>\n",
       "    </tr>\n",
       "  </tbody>\n",
       "</table>\n",
       "</div>"
      ],
      "text/plain": [
       "              vat                                           address  vat_clean\n",
       "0  DE 136,695 976                                     123 Pine Ave.  136695976\n",
       "1       136695978                                           main st        NaN\n",
       "2    BE 428759497                      1234 west main heights 57033        NaN\n",
       "3     BE431150351                    apt 1 789 s maple rd manhattan        NaN\n",
       "4     002 724 334                robie house, 789 north main street        NaN\n",
       "5           hello         1111 S Figueroa St, Los Angeles, CA 90015        NaN\n",
       "6             NaN  (staples center) 1111 S Figueroa St, Los Angeles        NaN\n",
       "7            NULL                                             hello        NaN"
      ]
     },
     "execution_count": 1,
     "metadata": {},
     "output_type": "execute_result"
    }
   ],
   "source": [
    "clean_de_vat(df, column = \"vat\", output_format=\"standard\")"
   ]
  },
  {
   "cell_type": "markdown",
   "id": "furnished-string",
   "metadata": {},
   "source": [
    "### `compact`"
   ]
  },
  {
   "cell_type": "code",
   "execution_count": 4,
   "id": "august-assistant",
   "metadata": {
    "execution": {
     "iopub.execute_input": "2021-10-26T23:36:11.549793Z",
     "iopub.status.busy": "2021-10-26T23:36:11.530789Z",
     "iopub.status.idle": "2021-10-26T23:36:11.563557Z",
     "shell.execute_reply": "2021-10-26T23:36:11.564092Z"
    }
   },
   "outputs": [
    {
     "data": {
      "text/html": [
       "<div>\n",
       "<style scoped>\n",
       "    .dataframe tbody tr th:only-of-type {\n",
       "        vertical-align: middle;\n",
       "    }\n",
       "\n",
       "    .dataframe tbody tr th {\n",
       "        vertical-align: top;\n",
       "    }\n",
       "\n",
       "    .dataframe thead th {\n",
       "        text-align: right;\n",
       "    }\n",
       "</style>\n",
       "<table border=\"1\" class=\"dataframe\">\n",
       "  <thead>\n",
       "    <tr style=\"text-align: right;\">\n",
       "      <th></th>\n",
       "      <th>vat</th>\n",
       "      <th>address</th>\n",
       "      <th>vat_clean</th>\n",
       "    </tr>\n",
       "  </thead>\n",
       "  <tbody>\n",
       "    <tr>\n",
       "      <th>0</th>\n",
       "      <td>DE 136,695 976</td>\n",
       "      <td>123 Pine Ave.</td>\n",
       "      <td>136695976</td>\n",
       "    </tr>\n",
       "    <tr>\n",
       "      <th>1</th>\n",
       "      <td>136695978</td>\n",
       "      <td>main st</td>\n",
       "      <td>NaN</td>\n",
       "    </tr>\n",
       "    <tr>\n",
       "      <th>2</th>\n",
       "      <td>BE 428759497</td>\n",
       "      <td>1234 west main heights 57033</td>\n",
       "      <td>NaN</td>\n",
       "    </tr>\n",
       "    <tr>\n",
       "      <th>3</th>\n",
       "      <td>BE431150351</td>\n",
       "      <td>apt 1 789 s maple rd manhattan</td>\n",
       "      <td>NaN</td>\n",
       "    </tr>\n",
       "    <tr>\n",
       "      <th>4</th>\n",
       "      <td>002 724 334</td>\n",
       "      <td>robie house, 789 north main street</td>\n",
       "      <td>NaN</td>\n",
       "    </tr>\n",
       "    <tr>\n",
       "      <th>5</th>\n",
       "      <td>hello</td>\n",
       "      <td>1111 S Figueroa St, Los Angeles, CA 90015</td>\n",
       "      <td>NaN</td>\n",
       "    </tr>\n",
       "    <tr>\n",
       "      <th>6</th>\n",
       "      <td>NaN</td>\n",
       "      <td>(staples center) 1111 S Figueroa St, Los Angeles</td>\n",
       "      <td>NaN</td>\n",
       "    </tr>\n",
       "    <tr>\n",
       "      <th>7</th>\n",
       "      <td>NULL</td>\n",
       "      <td>hello</td>\n",
       "      <td>NaN</td>\n",
       "    </tr>\n",
       "  </tbody>\n",
       "</table>\n",
       "</div>"
      ],
      "text/plain": [
       "              vat                                           address  vat_clean\n",
       "0  DE 136,695 976                                     123 Pine Ave.  136695976\n",
       "1       136695978                                           main st        NaN\n",
       "2    BE 428759497                      1234 west main heights 57033        NaN\n",
       "3     BE431150351                    apt 1 789 s maple rd manhattan        NaN\n",
       "4     002 724 334                robie house, 789 north main street        NaN\n",
       "5           hello         1111 S Figueroa St, Los Angeles, CA 90015        NaN\n",
       "6             NaN  (staples center) 1111 S Figueroa St, Los Angeles        NaN\n",
       "7            NULL                                             hello        NaN"
      ]
     },
     "execution_count": 1,
     "metadata": {},
     "output_type": "execute_result"
    }
   ],
   "source": [
    "clean_de_vat(df, column = \"vat\", output_format=\"compact\")"
   ]
  },
  {
   "cell_type": "markdown",
   "id": "intermediate-today",
   "metadata": {},
   "source": [
    "## 3. `inplace` parameter\n",
    "\n",
    "This deletes the given column from the returned DataFrame. \n",
    "A new column containing cleaned VAT strings is added with a title in the format `\"{original title}_clean\"`."
   ]
  },
  {
   "cell_type": "code",
   "execution_count": 5,
   "id": "improving-parker",
   "metadata": {
    "execution": {
     "iopub.execute_input": "2021-10-26T23:36:11.607531Z",
     "iopub.status.busy": "2021-10-26T23:36:11.596636Z",
     "iopub.status.idle": "2021-10-26T23:36:11.616925Z",
     "shell.execute_reply": "2021-10-26T23:36:11.617471Z"
    }
   },
   "outputs": [
    {
     "data": {
      "text/html": [
       "<div>\n",
       "<style scoped>\n",
       "    .dataframe tbody tr th:only-of-type {\n",
       "        vertical-align: middle;\n",
       "    }\n",
       "\n",
       "    .dataframe tbody tr th {\n",
       "        vertical-align: top;\n",
       "    }\n",
       "\n",
       "    .dataframe thead th {\n",
       "        text-align: right;\n",
       "    }\n",
       "</style>\n",
       "<table border=\"1\" class=\"dataframe\">\n",
       "  <thead>\n",
       "    <tr style=\"text-align: right;\">\n",
       "      <th></th>\n",
       "      <th>vat_clean</th>\n",
       "      <th>address</th>\n",
       "    </tr>\n",
       "  </thead>\n",
       "  <tbody>\n",
       "    <tr>\n",
       "      <th>0</th>\n",
       "      <td>136695976</td>\n",
       "      <td>123 Pine Ave.</td>\n",
       "    </tr>\n",
       "    <tr>\n",
       "      <th>1</th>\n",
       "      <td>NaN</td>\n",
       "      <td>main st</td>\n",
       "    </tr>\n",
       "    <tr>\n",
       "      <th>2</th>\n",
       "      <td>NaN</td>\n",
       "      <td>1234 west main heights 57033</td>\n",
       "    </tr>\n",
       "    <tr>\n",
       "      <th>3</th>\n",
       "      <td>NaN</td>\n",
       "      <td>apt 1 789 s maple rd manhattan</td>\n",
       "    </tr>\n",
       "    <tr>\n",
       "      <th>4</th>\n",
       "      <td>NaN</td>\n",
       "      <td>robie house, 789 north main street</td>\n",
       "    </tr>\n",
       "    <tr>\n",
       "      <th>5</th>\n",
       "      <td>NaN</td>\n",
       "      <td>1111 S Figueroa St, Los Angeles, CA 90015</td>\n",
       "    </tr>\n",
       "    <tr>\n",
       "      <th>6</th>\n",
       "      <td>NaN</td>\n",
       "      <td>(staples center) 1111 S Figueroa St, Los Angeles</td>\n",
       "    </tr>\n",
       "    <tr>\n",
       "      <th>7</th>\n",
       "      <td>NaN</td>\n",
       "      <td>hello</td>\n",
       "    </tr>\n",
       "  </tbody>\n",
       "</table>\n",
       "</div>"
      ],
      "text/plain": [
       "   vat_clean                                           address\n",
       "0  136695976                                     123 Pine Ave.\n",
       "1        NaN                                           main st\n",
       "2        NaN                      1234 west main heights 57033\n",
       "3        NaN                    apt 1 789 s maple rd manhattan\n",
       "4        NaN                robie house, 789 north main street\n",
       "5        NaN         1111 S Figueroa St, Los Angeles, CA 90015\n",
       "6        NaN  (staples center) 1111 S Figueroa St, Los Angeles\n",
       "7        NaN                                             hello"
      ]
     },
     "execution_count": 1,
     "metadata": {},
     "output_type": "execute_result"
    }
   ],
   "source": [
    "clean_de_vat(df, column=\"vat\", inplace=True)"
   ]
  },
  {
   "cell_type": "markdown",
   "id": "cooked-french",
   "metadata": {},
   "source": [
    "## 4. `errors` parameter"
   ]
  },
  {
   "cell_type": "markdown",
   "id": "authorized-evans",
   "metadata": {},
   "source": [
    "### `coerce` (default)"
   ]
  },
  {
   "cell_type": "code",
   "execution_count": 6,
   "id": "regulation-purse",
   "metadata": {
    "execution": {
     "iopub.execute_input": "2021-10-26T23:36:11.647754Z",
     "iopub.status.busy": "2021-10-26T23:36:11.646515Z",
     "iopub.status.idle": "2021-10-26T23:36:11.661299Z",
     "shell.execute_reply": "2021-10-26T23:36:11.657566Z"
    }
   },
   "outputs": [
    {
     "data": {
      "text/html": [
       "<div>\n",
       "<style scoped>\n",
       "    .dataframe tbody tr th:only-of-type {\n",
       "        vertical-align: middle;\n",
       "    }\n",
       "\n",
       "    .dataframe tbody tr th {\n",
       "        vertical-align: top;\n",
       "    }\n",
       "\n",
       "    .dataframe thead th {\n",
       "        text-align: right;\n",
       "    }\n",
       "</style>\n",
       "<table border=\"1\" class=\"dataframe\">\n",
       "  <thead>\n",
       "    <tr style=\"text-align: right;\">\n",
       "      <th></th>\n",
       "      <th>vat</th>\n",
       "      <th>address</th>\n",
       "      <th>vat_clean</th>\n",
       "    </tr>\n",
       "  </thead>\n",
       "  <tbody>\n",
       "    <tr>\n",
       "      <th>0</th>\n",
       "      <td>DE 136,695 976</td>\n",
       "      <td>123 Pine Ave.</td>\n",
       "      <td>136695976</td>\n",
       "    </tr>\n",
       "    <tr>\n",
       "      <th>1</th>\n",
       "      <td>136695978</td>\n",
       "      <td>main st</td>\n",
       "      <td>NaN</td>\n",
       "    </tr>\n",
       "    <tr>\n",
       "      <th>2</th>\n",
       "      <td>BE 428759497</td>\n",
       "      <td>1234 west main heights 57033</td>\n",
       "      <td>NaN</td>\n",
       "    </tr>\n",
       "    <tr>\n",
       "      <th>3</th>\n",
       "      <td>BE431150351</td>\n",
       "      <td>apt 1 789 s maple rd manhattan</td>\n",
       "      <td>NaN</td>\n",
       "    </tr>\n",
       "    <tr>\n",
       "      <th>4</th>\n",
       "      <td>002 724 334</td>\n",
       "      <td>robie house, 789 north main street</td>\n",
       "      <td>NaN</td>\n",
       "    </tr>\n",
       "    <tr>\n",
       "      <th>5</th>\n",
       "      <td>hello</td>\n",
       "      <td>1111 S Figueroa St, Los Angeles, CA 90015</td>\n",
       "      <td>NaN</td>\n",
       "    </tr>\n",
       "    <tr>\n",
       "      <th>6</th>\n",
       "      <td>NaN</td>\n",
       "      <td>(staples center) 1111 S Figueroa St, Los Angeles</td>\n",
       "      <td>NaN</td>\n",
       "    </tr>\n",
       "    <tr>\n",
       "      <th>7</th>\n",
       "      <td>NULL</td>\n",
       "      <td>hello</td>\n",
       "      <td>NaN</td>\n",
       "    </tr>\n",
       "  </tbody>\n",
       "</table>\n",
       "</div>"
      ],
      "text/plain": [
       "              vat                                           address  vat_clean\n",
       "0  DE 136,695 976                                     123 Pine Ave.  136695976\n",
       "1       136695978                                           main st        NaN\n",
       "2    BE 428759497                      1234 west main heights 57033        NaN\n",
       "3     BE431150351                    apt 1 789 s maple rd manhattan        NaN\n",
       "4     002 724 334                robie house, 789 north main street        NaN\n",
       "5           hello         1111 S Figueroa St, Los Angeles, CA 90015        NaN\n",
       "6             NaN  (staples center) 1111 S Figueroa St, Los Angeles        NaN\n",
       "7            NULL                                             hello        NaN"
      ]
     },
     "execution_count": 1,
     "metadata": {},
     "output_type": "execute_result"
    }
   ],
   "source": [
    "clean_de_vat(df, \"vat\", errors=\"coerce\")"
   ]
  },
  {
   "cell_type": "markdown",
   "id": "musical-antarctica",
   "metadata": {},
   "source": [
    "### `ignore`"
   ]
  },
  {
   "cell_type": "code",
   "execution_count": 7,
   "id": "smoking-israeli",
   "metadata": {
    "execution": {
     "iopub.execute_input": "2021-10-26T23:36:11.691487Z",
     "iopub.status.busy": "2021-10-26T23:36:11.690508Z",
     "iopub.status.idle": "2021-10-26T23:36:11.701449Z",
     "shell.execute_reply": "2021-10-26T23:36:11.700433Z"
    }
   },
   "outputs": [
    {
     "data": {
      "text/html": [
       "<div>\n",
       "<style scoped>\n",
       "    .dataframe tbody tr th:only-of-type {\n",
       "        vertical-align: middle;\n",
       "    }\n",
       "\n",
       "    .dataframe tbody tr th {\n",
       "        vertical-align: top;\n",
       "    }\n",
       "\n",
       "    .dataframe thead th {\n",
       "        text-align: right;\n",
       "    }\n",
       "</style>\n",
       "<table border=\"1\" class=\"dataframe\">\n",
       "  <thead>\n",
       "    <tr style=\"text-align: right;\">\n",
       "      <th></th>\n",
       "      <th>vat</th>\n",
       "      <th>address</th>\n",
       "      <th>vat_clean</th>\n",
       "    </tr>\n",
       "  </thead>\n",
       "  <tbody>\n",
       "    <tr>\n",
       "      <th>0</th>\n",
       "      <td>DE 136,695 976</td>\n",
       "      <td>123 Pine Ave.</td>\n",
       "      <td>136695976</td>\n",
       "    </tr>\n",
       "    <tr>\n",
       "      <th>1</th>\n",
       "      <td>136695978</td>\n",
       "      <td>main st</td>\n",
       "      <td>136695978</td>\n",
       "    </tr>\n",
       "    <tr>\n",
       "      <th>2</th>\n",
       "      <td>BE 428759497</td>\n",
       "      <td>1234 west main heights 57033</td>\n",
       "      <td>BE 428759497</td>\n",
       "    </tr>\n",
       "    <tr>\n",
       "      <th>3</th>\n",
       "      <td>BE431150351</td>\n",
       "      <td>apt 1 789 s maple rd manhattan</td>\n",
       "      <td>BE431150351</td>\n",
       "    </tr>\n",
       "    <tr>\n",
       "      <th>4</th>\n",
       "      <td>002 724 334</td>\n",
       "      <td>robie house, 789 north main street</td>\n",
       "      <td>002 724 334</td>\n",
       "    </tr>\n",
       "    <tr>\n",
       "      <th>5</th>\n",
       "      <td>hello</td>\n",
       "      <td>1111 S Figueroa St, Los Angeles, CA 90015</td>\n",
       "      <td>hello</td>\n",
       "    </tr>\n",
       "    <tr>\n",
       "      <th>6</th>\n",
       "      <td>NaN</td>\n",
       "      <td>(staples center) 1111 S Figueroa St, Los Angeles</td>\n",
       "      <td>NaN</td>\n",
       "    </tr>\n",
       "    <tr>\n",
       "      <th>7</th>\n",
       "      <td>NULL</td>\n",
       "      <td>hello</td>\n",
       "      <td>NaN</td>\n",
       "    </tr>\n",
       "  </tbody>\n",
       "</table>\n",
       "</div>"
      ],
      "text/plain": [
       "              vat                                           address  \\\n",
       "0  DE 136,695 976                                     123 Pine Ave.   \n",
       "1       136695978                                           main st   \n",
       "2    BE 428759497                      1234 west main heights 57033   \n",
       "3     BE431150351                    apt 1 789 s maple rd manhattan   \n",
       "4     002 724 334                robie house, 789 north main street   \n",
       "5           hello         1111 S Figueroa St, Los Angeles, CA 90015   \n",
       "6             NaN  (staples center) 1111 S Figueroa St, Los Angeles   \n",
       "7            NULL                                             hello   \n",
       "\n",
       "      vat_clean  \n",
       "0     136695976  \n",
       "1     136695978  \n",
       "2  BE 428759497  \n",
       "3   BE431150351  \n",
       "4   002 724 334  \n",
       "5         hello  \n",
       "6           NaN  \n",
       "7           NaN  "
      ]
     },
     "execution_count": 1,
     "metadata": {},
     "output_type": "execute_result"
    }
   ],
   "source": [
    "clean_de_vat(df, \"vat\", errors=\"ignore\")"
   ]
  },
  {
   "cell_type": "markdown",
   "id": "collected-fundamentals",
   "metadata": {},
   "source": [
    "## 4. `validate_de_vat()`"
   ]
  },
  {
   "cell_type": "markdown",
   "id": "moved-hamburg",
   "metadata": {},
   "source": [
    "`validate_de_vat()` returns `True` when the input is a valid VAT. Otherwise it returns `False`.\n",
    "\n",
    "The input of `validate_de_vat()` can be a string, a Pandas DataSeries, a Dask DataSeries, a Pandas DataFrame and a dask DataFrame.\n",
    "\n",
    "When the input is a string, a Pandas DataSeries or a Dask DataSeries, user doesn't need to specify a column name to be validated. \n",
    "\n",
    "When the input is a Pandas DataFrame or a dask DataFrame, user can both specify or not specify a column name to be validated. If user specify the column name, `validate_de_vat()` only returns the validation result for the specified column. If user doesn't specify the column name, `validate_de_vat()` returns the validation result for the whole DataFrame."
   ]
  },
  {
   "cell_type": "code",
   "execution_count": 8,
   "id": "solid-nigeria",
   "metadata": {
    "execution": {
     "iopub.execute_input": "2021-10-26T23:36:11.707832Z",
     "iopub.status.busy": "2021-10-26T23:36:11.707147Z",
     "iopub.status.idle": "2021-10-26T23:36:11.712725Z",
     "shell.execute_reply": "2021-10-26T23:36:11.711989Z"
    }
   },
   "outputs": [
    {
     "name": "stdout",
     "output_type": "stream",
     "text": [
      "True\n",
      "False\n",
      "False\n",
      "False\n",
      "False\n",
      "False\n",
      "False\n",
      "False\n"
     ]
    }
   ],
   "source": [
    "from dataprep.clean import validate_de_vat\n",
    "print(validate_de_vat('DE 136,695 976'))\n",
    "print(validate_de_vat('136695978'))\n",
    "print(validate_de_vat('BE 428759497'))\n",
    "print(validate_de_vat('BE431150351'))\n",
    "print(validate_de_vat(\"004085616\"))\n",
    "print(validate_de_vat(\"hello\"))\n",
    "print(validate_de_vat(np.nan))\n",
    "print(validate_de_vat(\"NULL\"))"
   ]
  },
  {
   "cell_type": "markdown",
   "id": "binary-chart",
   "metadata": {},
   "source": [
    "### Series"
   ]
  },
  {
   "cell_type": "code",
   "execution_count": 9,
   "id": "labeled-latex",
   "metadata": {
    "execution": {
     "iopub.execute_input": "2021-10-26T23:36:11.718835Z",
     "iopub.status.busy": "2021-10-26T23:36:11.718077Z",
     "iopub.status.idle": "2021-10-26T23:36:11.724589Z",
     "shell.execute_reply": "2021-10-26T23:36:11.725368Z"
    }
   },
   "outputs": [
    {
     "data": {
      "text/plain": [
       "0     True\n",
       "1    False\n",
       "2    False\n",
       "3    False\n",
       "4    False\n",
       "5    False\n",
       "6    False\n",
       "7    False\n",
       "Name: vat, dtype: bool"
      ]
     },
     "execution_count": 1,
     "metadata": {},
     "output_type": "execute_result"
    }
   ],
   "source": [
    "validate_de_vat(df[\"vat\"])"
   ]
  },
  {
   "cell_type": "markdown",
   "id": "center-framing",
   "metadata": {},
   "source": [
    "### DataFrame + Specify Column"
   ]
  },
  {
   "cell_type": "code",
   "execution_count": 10,
   "id": "sophisticated-reggae",
   "metadata": {
    "execution": {
     "iopub.execute_input": "2021-10-26T23:36:11.731250Z",
     "iopub.status.busy": "2021-10-26T23:36:11.730644Z",
     "iopub.status.idle": "2021-10-26T23:36:11.737056Z",
     "shell.execute_reply": "2021-10-26T23:36:11.736147Z"
    }
   },
   "outputs": [
    {
     "data": {
      "text/plain": [
       "0     True\n",
       "1    False\n",
       "2    False\n",
       "3    False\n",
       "4    False\n",
       "5    False\n",
       "6    False\n",
       "7    False\n",
       "Name: vat, dtype: bool"
      ]
     },
     "execution_count": 1,
     "metadata": {},
     "output_type": "execute_result"
    }
   ],
   "source": [
    "validate_de_vat(df, column=\"vat\")"
   ]
  },
  {
   "cell_type": "markdown",
   "id": "every-expert",
   "metadata": {},
   "source": [
    "### Only DataFrame"
   ]
  },
  {
   "cell_type": "code",
   "execution_count": 11,
   "id": "cellular-voltage",
   "metadata": {
    "execution": {
     "iopub.execute_input": "2021-10-26T23:36:11.741239Z",
     "iopub.status.busy": "2021-10-26T23:36:11.740637Z",
     "iopub.status.idle": "2021-10-26T23:36:11.750767Z",
     "shell.execute_reply": "2021-10-26T23:36:11.751256Z"
    }
   },
   "outputs": [
    {
     "data": {
      "text/html": [
       "<div>\n",
       "<style scoped>\n",
       "    .dataframe tbody tr th:only-of-type {\n",
       "        vertical-align: middle;\n",
       "    }\n",
       "\n",
       "    .dataframe tbody tr th {\n",
       "        vertical-align: top;\n",
       "    }\n",
       "\n",
       "    .dataframe thead th {\n",
       "        text-align: right;\n",
       "    }\n",
       "</style>\n",
       "<table border=\"1\" class=\"dataframe\">\n",
       "  <thead>\n",
       "    <tr style=\"text-align: right;\">\n",
       "      <th></th>\n",
       "      <th>vat</th>\n",
       "      <th>address</th>\n",
       "    </tr>\n",
       "  </thead>\n",
       "  <tbody>\n",
       "    <tr>\n",
       "      <th>0</th>\n",
       "      <td>True</td>\n",
       "      <td>False</td>\n",
       "    </tr>\n",
       "    <tr>\n",
       "      <th>1</th>\n",
       "      <td>False</td>\n",
       "      <td>False</td>\n",
       "    </tr>\n",
       "    <tr>\n",
       "      <th>2</th>\n",
       "      <td>False</td>\n",
       "      <td>False</td>\n",
       "    </tr>\n",
       "    <tr>\n",
       "      <th>3</th>\n",
       "      <td>False</td>\n",
       "      <td>False</td>\n",
       "    </tr>\n",
       "    <tr>\n",
       "      <th>4</th>\n",
       "      <td>False</td>\n",
       "      <td>False</td>\n",
       "    </tr>\n",
       "    <tr>\n",
       "      <th>5</th>\n",
       "      <td>False</td>\n",
       "      <td>False</td>\n",
       "    </tr>\n",
       "    <tr>\n",
       "      <th>6</th>\n",
       "      <td>False</td>\n",
       "      <td>False</td>\n",
       "    </tr>\n",
       "    <tr>\n",
       "      <th>7</th>\n",
       "      <td>False</td>\n",
       "      <td>False</td>\n",
       "    </tr>\n",
       "  </tbody>\n",
       "</table>\n",
       "</div>"
      ],
      "text/plain": [
       "     vat  address\n",
       "0   True    False\n",
       "1  False    False\n",
       "2  False    False\n",
       "3  False    False\n",
       "4  False    False\n",
       "5  False    False\n",
       "6  False    False\n",
       "7  False    False"
      ]
     },
     "execution_count": 1,
     "metadata": {},
     "output_type": "execute_result"
    }
   ],
   "source": [
    "validate_de_vat(df)"
   ]
  },
  {
   "cell_type": "code",
   "execution_count": null,
   "id": "spiritual-rainbow",
   "metadata": {},
   "outputs": [],
   "source": []
  }
 ],
 "metadata": {
  "kernelspec": {
   "display_name": "Python 3",
   "language": "python",
   "name": "python3"
  },
  "language_info": {
   "codemirror_mode": {
    "name": "ipython",
    "version": 3
   },
   "file_extension": ".py",
   "mimetype": "text/x-python",
   "name": "python",
   "nbconvert_exporter": "python",
   "pygments_lexer": "ipython3",
   "version": "3.8.10"
  }
 },
 "nbformat": 4,
 "nbformat_minor": 5
}
