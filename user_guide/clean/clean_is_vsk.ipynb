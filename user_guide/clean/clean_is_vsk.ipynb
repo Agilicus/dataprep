{
 "cells": [
  {
   "cell_type": "markdown",
   "id": "nervous-trader",
   "metadata": {},
   "source": [
    "# Icelandic VSK Numbers"
   ]
  },
  {
   "cell_type": "markdown",
   "id": "creative-trick",
   "metadata": {},
   "source": [
    "## Introduction"
   ]
  },
  {
   "cell_type": "markdown",
   "id": "treated-problem",
   "metadata": {},
   "source": [
    "The function `clean_is_vsk()` cleans a column containing Icelandic VSK number (VSK) strings, and standardizes them in a given format. The function `validate_is_vsk()` validates either a single VSK strings, a column of VSK strings or a DataFrame of VSK strings, returning `True` if the value is valid, and `False` otherwise."
   ]
  },
  {
   "cell_type": "markdown",
   "id": "buried-diving",
   "metadata": {},
   "source": [
    "VSK strings can be converted to the following formats via the `output_format` parameter:\n",
    "\n",
    "* `compact`: only number strings without any seperators or whitespace, like \"00621\"\n",
    "* `standard`: VSK strings with proper whitespace in the proper places. Note that in the case of VSK, the compact format is the same as the standard one.\n",
    "\n",
    "Invalid parsing is handled with the `errors` parameter:\n",
    "\n",
    "* `coerce` (default): invalid parsing will be set to NaN\n",
    "* `ignore`: invalid parsing will return the input\n",
    "* `raise`: invalid parsing will raise an exception\n",
    "\n",
    "The following sections demonstrate the functionality of `clean_is_vsk()` and `validate_is_vsk()`. "
   ]
  },
  {
   "cell_type": "markdown",
   "id": "exciting-piece",
   "metadata": {},
   "source": [
    "### An example dataset containing VSK strings"
   ]
  },
  {
   "cell_type": "code",
   "execution_count": 1,
   "id": "renewable-premium",
   "metadata": {
    "execution": {
     "iopub.execute_input": "2021-11-04T02:14:34.440758Z",
     "iopub.status.busy": "2021-11-04T02:14:34.440289Z",
     "iopub.status.idle": "2021-11-04T02:14:34.664468Z",
     "shell.execute_reply": "2021-11-04T02:14:34.663991Z"
    }
   },
   "outputs": [
    {
     "data": {
      "text/html": [
       "<div>\n",
       "<style scoped>\n",
       "    .dataframe tbody tr th:only-of-type {\n",
       "        vertical-align: middle;\n",
       "    }\n",
       "\n",
       "    .dataframe tbody tr th {\n",
       "        vertical-align: top;\n",
       "    }\n",
       "\n",
       "    .dataframe thead th {\n",
       "        text-align: right;\n",
       "    }\n",
       "</style>\n",
       "<table border=\"1\" class=\"dataframe\">\n",
       "  <thead>\n",
       "    <tr style=\"text-align: right;\">\n",
       "      <th></th>\n",
       "      <th>vsk</th>\n",
       "      <th>address</th>\n",
       "    </tr>\n",
       "  </thead>\n",
       "  <tbody>\n",
       "    <tr>\n",
       "      <th>0</th>\n",
       "      <td>IS 00621</td>\n",
       "      <td>123 Pine Ave.</td>\n",
       "    </tr>\n",
       "    <tr>\n",
       "      <th>1</th>\n",
       "      <td>IS 0062199</td>\n",
       "      <td>main st</td>\n",
       "    </tr>\n",
       "    <tr>\n",
       "      <th>2</th>\n",
       "      <td>BE 428759497</td>\n",
       "      <td>1234 west main heights 57033</td>\n",
       "    </tr>\n",
       "    <tr>\n",
       "      <th>3</th>\n",
       "      <td>BE431150351</td>\n",
       "      <td>apt 1 789 s maple rd manhattan</td>\n",
       "    </tr>\n",
       "    <tr>\n",
       "      <th>4</th>\n",
       "      <td>002 724 334</td>\n",
       "      <td>robie house, 789 north main street</td>\n",
       "    </tr>\n",
       "    <tr>\n",
       "      <th>5</th>\n",
       "      <td>hello</td>\n",
       "      <td>1111 S Figueroa St, Los Angeles, CA 90015</td>\n",
       "    </tr>\n",
       "    <tr>\n",
       "      <th>6</th>\n",
       "      <td>NaN</td>\n",
       "      <td>(staples center) 1111 S Figueroa St, Los Angeles</td>\n",
       "    </tr>\n",
       "    <tr>\n",
       "      <th>7</th>\n",
       "      <td>NULL</td>\n",
       "      <td>hello</td>\n",
       "    </tr>\n",
       "  </tbody>\n",
       "</table>\n",
       "</div>"
      ],
      "text/plain": [
       "            vsk                                           address\n",
       "0      IS 00621                                     123 Pine Ave.\n",
       "1    IS 0062199                                           main st\n",
       "2  BE 428759497                      1234 west main heights 57033\n",
       "3   BE431150351                    apt 1 789 s maple rd manhattan\n",
       "4   002 724 334                robie house, 789 north main street\n",
       "5         hello         1111 S Figueroa St, Los Angeles, CA 90015\n",
       "6           NaN  (staples center) 1111 S Figueroa St, Los Angeles\n",
       "7          NULL                                             hello"
      ]
     },
     "execution_count": 1,
     "metadata": {},
     "output_type": "execute_result"
    }
   ],
   "source": [
    "import pandas as pd\n",
    "import numpy as np\n",
    "df = pd.DataFrame(\n",
    "    {\n",
    "        \"vsk\": [\n",
    "            'IS 00621',\n",
    "            'IS 0062199',\n",
    "            'BE 428759497',\n",
    "            'BE431150351',\n",
    "            \"002 724 334\",\n",
    "            \"hello\",\n",
    "            np.nan,\n",
    "            \"NULL\",\n",
    "        ], \n",
    "        \"address\": [\n",
    "            \"123 Pine Ave.\",\n",
    "            \"main st\",\n",
    "            \"1234 west main heights 57033\",\n",
    "            \"apt 1 789 s maple rd manhattan\",\n",
    "            \"robie house, 789 north main street\",\n",
    "            \"1111 S Figueroa St, Los Angeles, CA 90015\",\n",
    "            \"(staples center) 1111 S Figueroa St, Los Angeles\",\n",
    "            \"hello\",\n",
    "        ]\n",
    "    }\n",
    ")\n",
    "df"
   ]
  },
  {
   "cell_type": "markdown",
   "id": "natural-barrel",
   "metadata": {},
   "source": [
    "## 1. Default `clean_is_vsk`\n",
    "\n",
    "By default, `clean_is_vsk` will clean vsk strings and output them in the standard format with proper separators."
   ]
  },
  {
   "cell_type": "code",
   "execution_count": 2,
   "id": "sunset-gather",
   "metadata": {
    "execution": {
     "iopub.execute_input": "2021-11-04T02:14:34.668015Z",
     "iopub.status.busy": "2021-11-04T02:14:34.667558Z",
     "iopub.status.idle": "2021-11-04T02:14:35.202084Z",
     "shell.execute_reply": "2021-11-04T02:14:35.202447Z"
    }
   },
   "outputs": [
    {
     "data": {
      "text/html": [
       "<div>\n",
       "<style scoped>\n",
       "    .dataframe tbody tr th:only-of-type {\n",
       "        vertical-align: middle;\n",
       "    }\n",
       "\n",
       "    .dataframe tbody tr th {\n",
       "        vertical-align: top;\n",
       "    }\n",
       "\n",
       "    .dataframe thead th {\n",
       "        text-align: right;\n",
       "    }\n",
       "</style>\n",
       "<table border=\"1\" class=\"dataframe\">\n",
       "  <thead>\n",
       "    <tr style=\"text-align: right;\">\n",
       "      <th></th>\n",
       "      <th>vsk</th>\n",
       "      <th>address</th>\n",
       "      <th>vsk_clean</th>\n",
       "    </tr>\n",
       "  </thead>\n",
       "  <tbody>\n",
       "    <tr>\n",
       "      <th>0</th>\n",
       "      <td>IS 00621</td>\n",
       "      <td>123 Pine Ave.</td>\n",
       "      <td>00621</td>\n",
       "    </tr>\n",
       "    <tr>\n",
       "      <th>1</th>\n",
       "      <td>IS 0062199</td>\n",
       "      <td>main st</td>\n",
       "      <td>NaN</td>\n",
       "    </tr>\n",
       "    <tr>\n",
       "      <th>2</th>\n",
       "      <td>BE 428759497</td>\n",
       "      <td>1234 west main heights 57033</td>\n",
       "      <td>NaN</td>\n",
       "    </tr>\n",
       "    <tr>\n",
       "      <th>3</th>\n",
       "      <td>BE431150351</td>\n",
       "      <td>apt 1 789 s maple rd manhattan</td>\n",
       "      <td>NaN</td>\n",
       "    </tr>\n",
       "    <tr>\n",
       "      <th>4</th>\n",
       "      <td>002 724 334</td>\n",
       "      <td>robie house, 789 north main street</td>\n",
       "      <td>NaN</td>\n",
       "    </tr>\n",
       "    <tr>\n",
       "      <th>5</th>\n",
       "      <td>hello</td>\n",
       "      <td>1111 S Figueroa St, Los Angeles, CA 90015</td>\n",
       "      <td>NaN</td>\n",
       "    </tr>\n",
       "    <tr>\n",
       "      <th>6</th>\n",
       "      <td>NaN</td>\n",
       "      <td>(staples center) 1111 S Figueroa St, Los Angeles</td>\n",
       "      <td>NaN</td>\n",
       "    </tr>\n",
       "    <tr>\n",
       "      <th>7</th>\n",
       "      <td>NULL</td>\n",
       "      <td>hello</td>\n",
       "      <td>NaN</td>\n",
       "    </tr>\n",
       "  </tbody>\n",
       "</table>\n",
       "</div>"
      ],
      "text/plain": [
       "            vsk                                           address vsk_clean\n",
       "0      IS 00621                                     123 Pine Ave.     00621\n",
       "1    IS 0062199                                           main st       NaN\n",
       "2  BE 428759497                      1234 west main heights 57033       NaN\n",
       "3   BE431150351                    apt 1 789 s maple rd manhattan       NaN\n",
       "4   002 724 334                robie house, 789 north main street       NaN\n",
       "5         hello         1111 S Figueroa St, Los Angeles, CA 90015       NaN\n",
       "6           NaN  (staples center) 1111 S Figueroa St, Los Angeles       NaN\n",
       "7          NULL                                             hello       NaN"
      ]
     },
     "execution_count": 1,
     "metadata": {},
     "output_type": "execute_result"
    }
   ],
   "source": [
    "from dataprep.clean import clean_is_vsk\n",
    "clean_is_vsk(df, column = \"vsk\")"
   ]
  },
  {
   "cell_type": "markdown",
   "id": "knowing-delight",
   "metadata": {},
   "source": [
    "## 2. Output formats"
   ]
  },
  {
   "cell_type": "markdown",
   "id": "brief-furniture",
   "metadata": {},
   "source": [
    "This section demonstrates the output parameter."
   ]
  },
  {
   "cell_type": "markdown",
   "id": "buried-nepal",
   "metadata": {},
   "source": [
    "### `standard` (default)"
   ]
  },
  {
   "cell_type": "code",
   "execution_count": 3,
   "id": "detailed-valuation",
   "metadata": {
    "execution": {
     "iopub.execute_input": "2021-11-04T02:14:35.209875Z",
     "iopub.status.busy": "2021-11-04T02:14:35.209417Z",
     "iopub.status.idle": "2021-11-04T02:14:35.230324Z",
     "shell.execute_reply": "2021-11-04T02:14:35.229936Z"
    }
   },
   "outputs": [
    {
     "data": {
      "text/html": [
       "<div>\n",
       "<style scoped>\n",
       "    .dataframe tbody tr th:only-of-type {\n",
       "        vertical-align: middle;\n",
       "    }\n",
       "\n",
       "    .dataframe tbody tr th {\n",
       "        vertical-align: top;\n",
       "    }\n",
       "\n",
       "    .dataframe thead th {\n",
       "        text-align: right;\n",
       "    }\n",
       "</style>\n",
       "<table border=\"1\" class=\"dataframe\">\n",
       "  <thead>\n",
       "    <tr style=\"text-align: right;\">\n",
       "      <th></th>\n",
       "      <th>vsk</th>\n",
       "      <th>address</th>\n",
       "      <th>vsk_clean</th>\n",
       "    </tr>\n",
       "  </thead>\n",
       "  <tbody>\n",
       "    <tr>\n",
       "      <th>0</th>\n",
       "      <td>IS 00621</td>\n",
       "      <td>123 Pine Ave.</td>\n",
       "      <td>00621</td>\n",
       "    </tr>\n",
       "    <tr>\n",
       "      <th>1</th>\n",
       "      <td>IS 0062199</td>\n",
       "      <td>main st</td>\n",
       "      <td>NaN</td>\n",
       "    </tr>\n",
       "    <tr>\n",
       "      <th>2</th>\n",
       "      <td>BE 428759497</td>\n",
       "      <td>1234 west main heights 57033</td>\n",
       "      <td>NaN</td>\n",
       "    </tr>\n",
       "    <tr>\n",
       "      <th>3</th>\n",
       "      <td>BE431150351</td>\n",
       "      <td>apt 1 789 s maple rd manhattan</td>\n",
       "      <td>NaN</td>\n",
       "    </tr>\n",
       "    <tr>\n",
       "      <th>4</th>\n",
       "      <td>002 724 334</td>\n",
       "      <td>robie house, 789 north main street</td>\n",
       "      <td>NaN</td>\n",
       "    </tr>\n",
       "    <tr>\n",
       "      <th>5</th>\n",
       "      <td>hello</td>\n",
       "      <td>1111 S Figueroa St, Los Angeles, CA 90015</td>\n",
       "      <td>NaN</td>\n",
       "    </tr>\n",
       "    <tr>\n",
       "      <th>6</th>\n",
       "      <td>NaN</td>\n",
       "      <td>(staples center) 1111 S Figueroa St, Los Angeles</td>\n",
       "      <td>NaN</td>\n",
       "    </tr>\n",
       "    <tr>\n",
       "      <th>7</th>\n",
       "      <td>NULL</td>\n",
       "      <td>hello</td>\n",
       "      <td>NaN</td>\n",
       "    </tr>\n",
       "  </tbody>\n",
       "</table>\n",
       "</div>"
      ],
      "text/plain": [
       "            vsk                                           address vsk_clean\n",
       "0      IS 00621                                     123 Pine Ave.     00621\n",
       "1    IS 0062199                                           main st       NaN\n",
       "2  BE 428759497                      1234 west main heights 57033       NaN\n",
       "3   BE431150351                    apt 1 789 s maple rd manhattan       NaN\n",
       "4   002 724 334                robie house, 789 north main street       NaN\n",
       "5         hello         1111 S Figueroa St, Los Angeles, CA 90015       NaN\n",
       "6           NaN  (staples center) 1111 S Figueroa St, Los Angeles       NaN\n",
       "7          NULL                                             hello       NaN"
      ]
     },
     "execution_count": 1,
     "metadata": {},
     "output_type": "execute_result"
    }
   ],
   "source": [
    "clean_is_vsk(df, column = \"vsk\", output_format=\"standard\")"
   ]
  },
  {
   "cell_type": "markdown",
   "id": "regional-aluminum",
   "metadata": {},
   "source": [
    "### `compact`"
   ]
  },
  {
   "cell_type": "code",
   "execution_count": 4,
   "id": "listed-labor",
   "metadata": {
    "execution": {
     "iopub.execute_input": "2021-11-04T02:14:35.249649Z",
     "iopub.status.busy": "2021-11-04T02:14:35.249208Z",
     "iopub.status.idle": "2021-11-04T02:14:35.257716Z",
     "shell.execute_reply": "2021-11-04T02:14:35.257297Z"
    }
   },
   "outputs": [
    {
     "data": {
      "text/html": [
       "<div>\n",
       "<style scoped>\n",
       "    .dataframe tbody tr th:only-of-type {\n",
       "        vertical-align: middle;\n",
       "    }\n",
       "\n",
       "    .dataframe tbody tr th {\n",
       "        vertical-align: top;\n",
       "    }\n",
       "\n",
       "    .dataframe thead th {\n",
       "        text-align: right;\n",
       "    }\n",
       "</style>\n",
       "<table border=\"1\" class=\"dataframe\">\n",
       "  <thead>\n",
       "    <tr style=\"text-align: right;\">\n",
       "      <th></th>\n",
       "      <th>vsk</th>\n",
       "      <th>address</th>\n",
       "      <th>vsk_clean</th>\n",
       "    </tr>\n",
       "  </thead>\n",
       "  <tbody>\n",
       "    <tr>\n",
       "      <th>0</th>\n",
       "      <td>IS 00621</td>\n",
       "      <td>123 Pine Ave.</td>\n",
       "      <td>00621</td>\n",
       "    </tr>\n",
       "    <tr>\n",
       "      <th>1</th>\n",
       "      <td>IS 0062199</td>\n",
       "      <td>main st</td>\n",
       "      <td>NaN</td>\n",
       "    </tr>\n",
       "    <tr>\n",
       "      <th>2</th>\n",
       "      <td>BE 428759497</td>\n",
       "      <td>1234 west main heights 57033</td>\n",
       "      <td>NaN</td>\n",
       "    </tr>\n",
       "    <tr>\n",
       "      <th>3</th>\n",
       "      <td>BE431150351</td>\n",
       "      <td>apt 1 789 s maple rd manhattan</td>\n",
       "      <td>NaN</td>\n",
       "    </tr>\n",
       "    <tr>\n",
       "      <th>4</th>\n",
       "      <td>002 724 334</td>\n",
       "      <td>robie house, 789 north main street</td>\n",
       "      <td>NaN</td>\n",
       "    </tr>\n",
       "    <tr>\n",
       "      <th>5</th>\n",
       "      <td>hello</td>\n",
       "      <td>1111 S Figueroa St, Los Angeles, CA 90015</td>\n",
       "      <td>NaN</td>\n",
       "    </tr>\n",
       "    <tr>\n",
       "      <th>6</th>\n",
       "      <td>NaN</td>\n",
       "      <td>(staples center) 1111 S Figueroa St, Los Angeles</td>\n",
       "      <td>NaN</td>\n",
       "    </tr>\n",
       "    <tr>\n",
       "      <th>7</th>\n",
       "      <td>NULL</td>\n",
       "      <td>hello</td>\n",
       "      <td>NaN</td>\n",
       "    </tr>\n",
       "  </tbody>\n",
       "</table>\n",
       "</div>"
      ],
      "text/plain": [
       "            vsk                                           address vsk_clean\n",
       "0      IS 00621                                     123 Pine Ave.     00621\n",
       "1    IS 0062199                                           main st       NaN\n",
       "2  BE 428759497                      1234 west main heights 57033       NaN\n",
       "3   BE431150351                    apt 1 789 s maple rd manhattan       NaN\n",
       "4   002 724 334                robie house, 789 north main street       NaN\n",
       "5         hello         1111 S Figueroa St, Los Angeles, CA 90015       NaN\n",
       "6           NaN  (staples center) 1111 S Figueroa St, Los Angeles       NaN\n",
       "7          NULL                                             hello       NaN"
      ]
     },
     "execution_count": 1,
     "metadata": {},
     "output_type": "execute_result"
    }
   ],
   "source": [
    "clean_is_vsk(df, column = \"vsk\", output_format=\"compact\")"
   ]
  },
  {
   "cell_type": "markdown",
   "id": "geographic-combine",
   "metadata": {},
   "source": [
    "## 3. `inplace` parameter\n",
    "\n",
    "This deletes the given column from the returned DataFrame. \n",
    "A new column containing cleaned VSK strings is added with a title in the format `\"{original title}_clean\"`."
   ]
  },
  {
   "cell_type": "code",
   "execution_count": 5,
   "id": "personalized-feature",
   "metadata": {
    "execution": {
     "iopub.execute_input": "2021-11-04T02:14:35.280669Z",
     "iopub.status.busy": "2021-11-04T02:14:35.267639Z",
     "iopub.status.idle": "2021-11-04T02:14:35.292851Z",
     "shell.execute_reply": "2021-11-04T02:14:35.292425Z"
    }
   },
   "outputs": [
    {
     "data": {
      "text/html": [
       "<div>\n",
       "<style scoped>\n",
       "    .dataframe tbody tr th:only-of-type {\n",
       "        vertical-align: middle;\n",
       "    }\n",
       "\n",
       "    .dataframe tbody tr th {\n",
       "        vertical-align: top;\n",
       "    }\n",
       "\n",
       "    .dataframe thead th {\n",
       "        text-align: right;\n",
       "    }\n",
       "</style>\n",
       "<table border=\"1\" class=\"dataframe\">\n",
       "  <thead>\n",
       "    <tr style=\"text-align: right;\">\n",
       "      <th></th>\n",
       "      <th>vsk_clean</th>\n",
       "      <th>address</th>\n",
       "    </tr>\n",
       "  </thead>\n",
       "  <tbody>\n",
       "    <tr>\n",
       "      <th>0</th>\n",
       "      <td>00621</td>\n",
       "      <td>123 Pine Ave.</td>\n",
       "    </tr>\n",
       "    <tr>\n",
       "      <th>1</th>\n",
       "      <td>NaN</td>\n",
       "      <td>main st</td>\n",
       "    </tr>\n",
       "    <tr>\n",
       "      <th>2</th>\n",
       "      <td>NaN</td>\n",
       "      <td>1234 west main heights 57033</td>\n",
       "    </tr>\n",
       "    <tr>\n",
       "      <th>3</th>\n",
       "      <td>NaN</td>\n",
       "      <td>apt 1 789 s maple rd manhattan</td>\n",
       "    </tr>\n",
       "    <tr>\n",
       "      <th>4</th>\n",
       "      <td>NaN</td>\n",
       "      <td>robie house, 789 north main street</td>\n",
       "    </tr>\n",
       "    <tr>\n",
       "      <th>5</th>\n",
       "      <td>NaN</td>\n",
       "      <td>1111 S Figueroa St, Los Angeles, CA 90015</td>\n",
       "    </tr>\n",
       "    <tr>\n",
       "      <th>6</th>\n",
       "      <td>NaN</td>\n",
       "      <td>(staples center) 1111 S Figueroa St, Los Angeles</td>\n",
       "    </tr>\n",
       "    <tr>\n",
       "      <th>7</th>\n",
       "      <td>NaN</td>\n",
       "      <td>hello</td>\n",
       "    </tr>\n",
       "  </tbody>\n",
       "</table>\n",
       "</div>"
      ],
      "text/plain": [
       "  vsk_clean                                           address\n",
       "0     00621                                     123 Pine Ave.\n",
       "1       NaN                                           main st\n",
       "2       NaN                      1234 west main heights 57033\n",
       "3       NaN                    apt 1 789 s maple rd manhattan\n",
       "4       NaN                robie house, 789 north main street\n",
       "5       NaN         1111 S Figueroa St, Los Angeles, CA 90015\n",
       "6       NaN  (staples center) 1111 S Figueroa St, Los Angeles\n",
       "7       NaN                                             hello"
      ]
     },
     "execution_count": 1,
     "metadata": {},
     "output_type": "execute_result"
    }
   ],
   "source": [
    "clean_is_vsk(df, column=\"vsk\", inplace=True)"
   ]
  },
  {
   "cell_type": "markdown",
   "id": "instructional-sierra",
   "metadata": {},
   "source": [
    "## 4. `errors` parameter"
   ]
  },
  {
   "cell_type": "markdown",
   "id": "geological-little",
   "metadata": {},
   "source": [
    "### `coerce` (default)"
   ]
  },
  {
   "cell_type": "code",
   "execution_count": 6,
   "id": "worse-fifth",
   "metadata": {
    "execution": {
     "iopub.execute_input": "2021-11-04T02:14:35.313198Z",
     "iopub.status.busy": "2021-11-04T02:14:35.312247Z",
     "iopub.status.idle": "2021-11-04T02:14:35.320879Z",
     "shell.execute_reply": "2021-11-04T02:14:35.320476Z"
    }
   },
   "outputs": [
    {
     "data": {
      "text/html": [
       "<div>\n",
       "<style scoped>\n",
       "    .dataframe tbody tr th:only-of-type {\n",
       "        vertical-align: middle;\n",
       "    }\n",
       "\n",
       "    .dataframe tbody tr th {\n",
       "        vertical-align: top;\n",
       "    }\n",
       "\n",
       "    .dataframe thead th {\n",
       "        text-align: right;\n",
       "    }\n",
       "</style>\n",
       "<table border=\"1\" class=\"dataframe\">\n",
       "  <thead>\n",
       "    <tr style=\"text-align: right;\">\n",
       "      <th></th>\n",
       "      <th>vsk</th>\n",
       "      <th>address</th>\n",
       "      <th>vsk_clean</th>\n",
       "    </tr>\n",
       "  </thead>\n",
       "  <tbody>\n",
       "    <tr>\n",
       "      <th>0</th>\n",
       "      <td>IS 00621</td>\n",
       "      <td>123 Pine Ave.</td>\n",
       "      <td>00621</td>\n",
       "    </tr>\n",
       "    <tr>\n",
       "      <th>1</th>\n",
       "      <td>IS 0062199</td>\n",
       "      <td>main st</td>\n",
       "      <td>NaN</td>\n",
       "    </tr>\n",
       "    <tr>\n",
       "      <th>2</th>\n",
       "      <td>BE 428759497</td>\n",
       "      <td>1234 west main heights 57033</td>\n",
       "      <td>NaN</td>\n",
       "    </tr>\n",
       "    <tr>\n",
       "      <th>3</th>\n",
       "      <td>BE431150351</td>\n",
       "      <td>apt 1 789 s maple rd manhattan</td>\n",
       "      <td>NaN</td>\n",
       "    </tr>\n",
       "    <tr>\n",
       "      <th>4</th>\n",
       "      <td>002 724 334</td>\n",
       "      <td>robie house, 789 north main street</td>\n",
       "      <td>NaN</td>\n",
       "    </tr>\n",
       "    <tr>\n",
       "      <th>5</th>\n",
       "      <td>hello</td>\n",
       "      <td>1111 S Figueroa St, Los Angeles, CA 90015</td>\n",
       "      <td>NaN</td>\n",
       "    </tr>\n",
       "    <tr>\n",
       "      <th>6</th>\n",
       "      <td>NaN</td>\n",
       "      <td>(staples center) 1111 S Figueroa St, Los Angeles</td>\n",
       "      <td>NaN</td>\n",
       "    </tr>\n",
       "    <tr>\n",
       "      <th>7</th>\n",
       "      <td>NULL</td>\n",
       "      <td>hello</td>\n",
       "      <td>NaN</td>\n",
       "    </tr>\n",
       "  </tbody>\n",
       "</table>\n",
       "</div>"
      ],
      "text/plain": [
       "            vsk                                           address vsk_clean\n",
       "0      IS 00621                                     123 Pine Ave.     00621\n",
       "1    IS 0062199                                           main st       NaN\n",
       "2  BE 428759497                      1234 west main heights 57033       NaN\n",
       "3   BE431150351                    apt 1 789 s maple rd manhattan       NaN\n",
       "4   002 724 334                robie house, 789 north main street       NaN\n",
       "5         hello         1111 S Figueroa St, Los Angeles, CA 90015       NaN\n",
       "6           NaN  (staples center) 1111 S Figueroa St, Los Angeles       NaN\n",
       "7          NULL                                             hello       NaN"
      ]
     },
     "execution_count": 1,
     "metadata": {},
     "output_type": "execute_result"
    }
   ],
   "source": [
    "clean_is_vsk(df, \"vsk\", errors=\"coerce\")"
   ]
  },
  {
   "cell_type": "markdown",
   "id": "smoking-unknown",
   "metadata": {},
   "source": [
    "### `ignore`"
   ]
  },
  {
   "cell_type": "code",
   "execution_count": 7,
   "id": "vulnerable-ridge",
   "metadata": {
    "execution": {
     "iopub.execute_input": "2021-11-04T02:14:35.344839Z",
     "iopub.status.busy": "2021-11-04T02:14:35.340553Z",
     "iopub.status.idle": "2021-11-04T02:14:35.348951Z",
     "shell.execute_reply": "2021-11-04T02:14:35.348513Z"
    }
   },
   "outputs": [
    {
     "data": {
      "text/html": [
       "<div>\n",
       "<style scoped>\n",
       "    .dataframe tbody tr th:only-of-type {\n",
       "        vertical-align: middle;\n",
       "    }\n",
       "\n",
       "    .dataframe tbody tr th {\n",
       "        vertical-align: top;\n",
       "    }\n",
       "\n",
       "    .dataframe thead th {\n",
       "        text-align: right;\n",
       "    }\n",
       "</style>\n",
       "<table border=\"1\" class=\"dataframe\">\n",
       "  <thead>\n",
       "    <tr style=\"text-align: right;\">\n",
       "      <th></th>\n",
       "      <th>vsk</th>\n",
       "      <th>address</th>\n",
       "      <th>vsk_clean</th>\n",
       "    </tr>\n",
       "  </thead>\n",
       "  <tbody>\n",
       "    <tr>\n",
       "      <th>0</th>\n",
       "      <td>IS 00621</td>\n",
       "      <td>123 Pine Ave.</td>\n",
       "      <td>00621</td>\n",
       "    </tr>\n",
       "    <tr>\n",
       "      <th>1</th>\n",
       "      <td>IS 0062199</td>\n",
       "      <td>main st</td>\n",
       "      <td>IS 0062199</td>\n",
       "    </tr>\n",
       "    <tr>\n",
       "      <th>2</th>\n",
       "      <td>BE 428759497</td>\n",
       "      <td>1234 west main heights 57033</td>\n",
       "      <td>BE 428759497</td>\n",
       "    </tr>\n",
       "    <tr>\n",
       "      <th>3</th>\n",
       "      <td>BE431150351</td>\n",
       "      <td>apt 1 789 s maple rd manhattan</td>\n",
       "      <td>BE431150351</td>\n",
       "    </tr>\n",
       "    <tr>\n",
       "      <th>4</th>\n",
       "      <td>002 724 334</td>\n",
       "      <td>robie house, 789 north main street</td>\n",
       "      <td>002 724 334</td>\n",
       "    </tr>\n",
       "    <tr>\n",
       "      <th>5</th>\n",
       "      <td>hello</td>\n",
       "      <td>1111 S Figueroa St, Los Angeles, CA 90015</td>\n",
       "      <td>hello</td>\n",
       "    </tr>\n",
       "    <tr>\n",
       "      <th>6</th>\n",
       "      <td>NaN</td>\n",
       "      <td>(staples center) 1111 S Figueroa St, Los Angeles</td>\n",
       "      <td>NaN</td>\n",
       "    </tr>\n",
       "    <tr>\n",
       "      <th>7</th>\n",
       "      <td>NULL</td>\n",
       "      <td>hello</td>\n",
       "      <td>NaN</td>\n",
       "    </tr>\n",
       "  </tbody>\n",
       "</table>\n",
       "</div>"
      ],
      "text/plain": [
       "            vsk                                           address  \\\n",
       "0      IS 00621                                     123 Pine Ave.   \n",
       "1    IS 0062199                                           main st   \n",
       "2  BE 428759497                      1234 west main heights 57033   \n",
       "3   BE431150351                    apt 1 789 s maple rd manhattan   \n",
       "4   002 724 334                robie house, 789 north main street   \n",
       "5         hello         1111 S Figueroa St, Los Angeles, CA 90015   \n",
       "6           NaN  (staples center) 1111 S Figueroa St, Los Angeles   \n",
       "7          NULL                                             hello   \n",
       "\n",
       "      vsk_clean  \n",
       "0         00621  \n",
       "1    IS 0062199  \n",
       "2  BE 428759497  \n",
       "3   BE431150351  \n",
       "4   002 724 334  \n",
       "5         hello  \n",
       "6           NaN  \n",
       "7           NaN  "
      ]
     },
     "execution_count": 1,
     "metadata": {},
     "output_type": "execute_result"
    }
   ],
   "source": [
    "clean_is_vsk(df, \"vsk\", errors=\"ignore\")"
   ]
  },
  {
   "cell_type": "markdown",
   "id": "outer-generic",
   "metadata": {},
   "source": [
    "## 4. `validate_is_vsk()`"
   ]
  },
  {
   "cell_type": "markdown",
   "id": "thick-inflation",
   "metadata": {},
   "source": [
    "`validate_is_vsk()` returns `True` when the input is a valid VSK. Otherwise it returns `False`.\n",
    "\n",
    "The input of `validate_is_vsk()` can be a string, a Pandas DataSeries, a Dask DataSeries, a Pandas DataFrame and a dask DataFrame.\n",
    "\n",
    "When the input is a string, a Pandas DataSeries or a Dask DataSeries, user doesn't need to specify a column name to be validated. \n",
    "\n",
    "When the input is a Pandas DataFrame or a dask DataFrame, user can both specify or not specify a column name to be validated. If user specify the column name, `validate_is_vsk()` only returns the validation result for the specified column. If user doesn't specify the column name, `validate_is_vsk()` returns the validation result for the whole DataFrame."
   ]
  },
  {
   "cell_type": "code",
   "execution_count": 8,
   "id": "auburn-advisory",
   "metadata": {
    "execution": {
     "iopub.execute_input": "2021-11-04T02:14:35.354771Z",
     "iopub.status.busy": "2021-11-04T02:14:35.354312Z",
     "iopub.status.idle": "2021-11-04T02:14:35.356552Z",
     "shell.execute_reply": "2021-11-04T02:14:35.356922Z"
    }
   },
   "outputs": [
    {
     "name": "stdout",
     "output_type": "stream",
     "text": [
      "True\n",
      "False\n",
      "False\n",
      "False\n",
      "False\n",
      "False\n",
      "False\n",
      "False\n"
     ]
    }
   ],
   "source": [
    "from dataprep.clean import validate_is_vsk\n",
    "print(validate_is_vsk('IS 00621'))\n",
    "print(validate_is_vsk('IS 0062199'))\n",
    "print(validate_is_vsk('BE 428759497'))\n",
    "print(validate_is_vsk('BE431150351'))\n",
    "print(validate_is_vsk(\"004085616\"))\n",
    "print(validate_is_vsk(\"hello\"))\n",
    "print(validate_is_vsk(np.nan))\n",
    "print(validate_is_vsk(\"NULL\"))"
   ]
  },
  {
   "cell_type": "markdown",
   "id": "gentle-denial",
   "metadata": {},
   "source": [
    "### Series"
   ]
  },
  {
   "cell_type": "code",
   "execution_count": 9,
   "id": "organic-shadow",
   "metadata": {
    "execution": {
     "iopub.execute_input": "2021-11-04T02:14:35.361936Z",
     "iopub.status.busy": "2021-11-04T02:14:35.361483Z",
     "iopub.status.idle": "2021-11-04T02:14:35.363556Z",
     "shell.execute_reply": "2021-11-04T02:14:35.363904Z"
    }
   },
   "outputs": [
    {
     "data": {
      "text/plain": [
       "0     True\n",
       "1    False\n",
       "2    False\n",
       "3    False\n",
       "4    False\n",
       "5    False\n",
       "6    False\n",
       "7    False\n",
       "Name: vsk, dtype: bool"
      ]
     },
     "execution_count": 1,
     "metadata": {},
     "output_type": "execute_result"
    }
   ],
   "source": [
    "validate_is_vsk(df[\"vsk\"])"
   ]
  },
  {
   "cell_type": "markdown",
   "id": "global-thompson",
   "metadata": {},
   "source": [
    "### DataFrame + Specify Column"
   ]
  },
  {
   "cell_type": "code",
   "execution_count": 10,
   "id": "designing-liberty",
   "metadata": {
    "execution": {
     "iopub.execute_input": "2021-11-04T02:14:35.368727Z",
     "iopub.status.busy": "2021-11-04T02:14:35.368275Z",
     "iopub.status.idle": "2021-11-04T02:14:35.370367Z",
     "shell.execute_reply": "2021-11-04T02:14:35.370712Z"
    }
   },
   "outputs": [
    {
     "data": {
      "text/plain": [
       "0     True\n",
       "1    False\n",
       "2    False\n",
       "3    False\n",
       "4    False\n",
       "5    False\n",
       "6    False\n",
       "7    False\n",
       "Name: vsk, dtype: bool"
      ]
     },
     "execution_count": 1,
     "metadata": {},
     "output_type": "execute_result"
    }
   ],
   "source": [
    "validate_is_vsk(df, column=\"vsk\")"
   ]
  },
  {
   "cell_type": "markdown",
   "id": "distinguished-wisconsin",
   "metadata": {},
   "source": [
    "### Only DataFrame"
   ]
  },
  {
   "cell_type": "code",
   "execution_count": 11,
   "id": "distributed-graduate",
   "metadata": {
    "execution": {
     "iopub.execute_input": "2021-11-04T02:14:35.373894Z",
     "iopub.status.busy": "2021-11-04T02:14:35.373449Z",
     "iopub.status.idle": "2021-11-04T02:14:35.380757Z",
     "shell.execute_reply": "2021-11-04T02:14:35.380369Z"
    }
   },
   "outputs": [
    {
     "data": {
      "text/html": [
       "<div>\n",
       "<style scoped>\n",
       "    .dataframe tbody tr th:only-of-type {\n",
       "        vertical-align: middle;\n",
       "    }\n",
       "\n",
       "    .dataframe tbody tr th {\n",
       "        vertical-align: top;\n",
       "    }\n",
       "\n",
       "    .dataframe thead th {\n",
       "        text-align: right;\n",
       "    }\n",
       "</style>\n",
       "<table border=\"1\" class=\"dataframe\">\n",
       "  <thead>\n",
       "    <tr style=\"text-align: right;\">\n",
       "      <th></th>\n",
       "      <th>vsk</th>\n",
       "      <th>address</th>\n",
       "    </tr>\n",
       "  </thead>\n",
       "  <tbody>\n",
       "    <tr>\n",
       "      <th>0</th>\n",
       "      <td>True</td>\n",
       "      <td>False</td>\n",
       "    </tr>\n",
       "    <tr>\n",
       "      <th>1</th>\n",
       "      <td>False</td>\n",
       "      <td>False</td>\n",
       "    </tr>\n",
       "    <tr>\n",
       "      <th>2</th>\n",
       "      <td>False</td>\n",
       "      <td>False</td>\n",
       "    </tr>\n",
       "    <tr>\n",
       "      <th>3</th>\n",
       "      <td>False</td>\n",
       "      <td>False</td>\n",
       "    </tr>\n",
       "    <tr>\n",
       "      <th>4</th>\n",
       "      <td>False</td>\n",
       "      <td>False</td>\n",
       "    </tr>\n",
       "    <tr>\n",
       "      <th>5</th>\n",
       "      <td>False</td>\n",
       "      <td>False</td>\n",
       "    </tr>\n",
       "    <tr>\n",
       "      <th>6</th>\n",
       "      <td>False</td>\n",
       "      <td>False</td>\n",
       "    </tr>\n",
       "    <tr>\n",
       "      <th>7</th>\n",
       "      <td>False</td>\n",
       "      <td>False</td>\n",
       "    </tr>\n",
       "  </tbody>\n",
       "</table>\n",
       "</div>"
      ],
      "text/plain": [
       "     vsk  address\n",
       "0   True    False\n",
       "1  False    False\n",
       "2  False    False\n",
       "3  False    False\n",
       "4  False    False\n",
       "5  False    False\n",
       "6  False    False\n",
       "7  False    False"
      ]
     },
     "execution_count": 1,
     "metadata": {},
     "output_type": "execute_result"
    }
   ],
   "source": [
    "validate_is_vsk(df)"
   ]
  },
  {
   "cell_type": "code",
   "execution_count": null,
   "id": "south-klein",
   "metadata": {},
   "outputs": [],
   "source": []
  }
 ],
 "metadata": {
  "kernelspec": {
   "display_name": "Python 3",
   "language": "python",
   "name": "python3"
  },
  "language_info": {
   "codemirror_mode": {
    "name": "ipython",
    "version": 3
   },
   "file_extension": ".py",
   "mimetype": "text/x-python",
   "name": "python",
   "nbconvert_exporter": "python",
   "pygments_lexer": "ipython3",
   "version": "3.8.10"
  }
 },
 "nbformat": 4,
 "nbformat_minor": 5
}
