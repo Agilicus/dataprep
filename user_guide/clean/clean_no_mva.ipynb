{
 "cells": [
  {
   "cell_type": "raw",
   "id": "false-hughes",
   "metadata": {},
   "source": [
    ".. _abn_userguide:\n",
    "\n",
    "ABN Strings\n",
    "============"
   ]
  },
  {
   "cell_type": "raw",
   "id": "accepted-handy",
   "metadata": {},
   "source": [
    "Introduction\n",
    "------------\n",
    "\n",
    "The function :func:`clean_no_mva() <dataprep.clean.clean_no_mva.clean_no_mva>` cleans a column containing Norwegian VAT number (ABN) strings, and standardizes them in a given format. The function :func:`validate_no_mva() <dataprep.clean.clean_no_mva.validate_no_mva>` validates either a single ABN strings, a column of ABN strings or a DataFrame of ABN strings, returning `True` if the value is valid, and `False` otherwise."
   ]
  },
  {
   "cell_type": "markdown",
   "id": "competitive-break",
   "metadata": {},
   "source": [
    "ABN strings can be converted to the following formats via the `output_format` parameter:\n",
    "\n",
    "* `compact`: only number strings without any seperators or whitespace, like \"995525828MVA\"\n",
    "* `standard`: ABN strings with proper whitespace in the proper places, like \"NO 995 525 828 MVA\"\n",
    "\n",
    "Invalid parsing is handled with the `errors` parameter:\n",
    "\n",
    "* `coerce` (default): invalid parsing will be set to NaN\n",
    "* `ignore`: invalid parsing will return the input\n",
    "* `raise`: invalid parsing will raise an exception\n",
    "\n",
    "The following sections demonstrate the functionality of `clean_no_mva()` and `validate_no_mva()`. "
   ]
  },
  {
   "cell_type": "markdown",
   "id": "irish-drove",
   "metadata": {},
   "source": [
    "### An example dataset containing ABN strings"
   ]
  },
  {
   "cell_type": "code",
   "execution_count": 1,
   "id": "refined-reconstruction",
   "metadata": {
    "execution": {
     "iopub.execute_input": "2021-10-26T23:41:45.239238Z",
     "iopub.status.busy": "2021-10-26T23:41:45.238609Z",
     "iopub.status.idle": "2021-10-26T23:41:45.555994Z",
     "shell.execute_reply": "2021-10-26T23:41:45.555314Z"
    }
   },
   "outputs": [
    {
     "data": {
      "text/html": [
       "<div>\n",
       "<style scoped>\n",
       "    .dataframe tbody tr th:only-of-type {\n",
       "        vertical-align: middle;\n",
       "    }\n",
       "\n",
       "    .dataframe tbody tr th {\n",
       "        vertical-align: top;\n",
       "    }\n",
       "\n",
       "    .dataframe thead th {\n",
       "        text-align: right;\n",
       "    }\n",
       "</style>\n",
       "<table border=\"1\" class=\"dataframe\">\n",
       "  <thead>\n",
       "    <tr style=\"text-align: right;\">\n",
       "      <th></th>\n",
       "      <th>abn</th>\n",
       "      <th>address</th>\n",
       "    </tr>\n",
       "  </thead>\n",
       "  <tbody>\n",
       "    <tr>\n",
       "      <th>0</th>\n",
       "      <td>995525828MVA</td>\n",
       "      <td>123 Pine Ave.</td>\n",
       "    </tr>\n",
       "    <tr>\n",
       "      <th>1</th>\n",
       "      <td>NO 995 525 829 MVA</td>\n",
       "      <td>main st</td>\n",
       "    </tr>\n",
       "    <tr>\n",
       "      <th>2</th>\n",
       "      <td>51824753556</td>\n",
       "      <td>1234 west main heights 57033</td>\n",
       "    </tr>\n",
       "    <tr>\n",
       "      <th>3</th>\n",
       "      <td>51 824 753 556</td>\n",
       "      <td>apt 1 789 s maple rd manhattan</td>\n",
       "    </tr>\n",
       "    <tr>\n",
       "      <th>4</th>\n",
       "      <td>hello</td>\n",
       "      <td>robie house, 789 north main street</td>\n",
       "    </tr>\n",
       "    <tr>\n",
       "      <th>5</th>\n",
       "      <td>NaN</td>\n",
       "      <td>(staples center) 1111 S Figueroa St, Los Angeles</td>\n",
       "    </tr>\n",
       "    <tr>\n",
       "      <th>6</th>\n",
       "      <td>NULL</td>\n",
       "      <td>hello</td>\n",
       "    </tr>\n",
       "  </tbody>\n",
       "</table>\n",
       "</div>"
      ],
      "text/plain": [
       "                  abn                                           address\n",
       "0        995525828MVA                                     123 Pine Ave.\n",
       "1  NO 995 525 829 MVA                                           main st\n",
       "2         51824753556                      1234 west main heights 57033\n",
       "3      51 824 753 556                    apt 1 789 s maple rd manhattan\n",
       "4               hello                robie house, 789 north main street\n",
       "5                 NaN  (staples center) 1111 S Figueroa St, Los Angeles\n",
       "6                NULL                                             hello"
      ]
     },
     "execution_count": 1,
     "metadata": {},
     "output_type": "execute_result"
    }
   ],
   "source": [
    "import pandas as pd\n",
    "import numpy as np\n",
    "df = pd.DataFrame(\n",
    "    {\n",
    "        \"abn\": [\n",
    "            \"995525828MVA\",\n",
    "            \"NO 995 525 829 MVA\",\n",
    "            \"51824753556\",\n",
    "            \"51 824 753 556\",\n",
    "            \"hello\",\n",
    "            np.nan,\n",
    "            \"NULL\"\n",
    "        ], \n",
    "        \"address\": [\n",
    "            \"123 Pine Ave.\",\n",
    "            \"main st\",\n",
    "            \"1234 west main heights 57033\",\n",
    "            \"apt 1 789 s maple rd manhattan\",\n",
    "            \"robie house, 789 north main street\",\n",
    "            \"(staples center) 1111 S Figueroa St, Los Angeles\",\n",
    "            \"hello\",\n",
    "        ]\n",
    "    }\n",
    ")\n",
    "df"
   ]
  },
  {
   "cell_type": "markdown",
   "id": "unlikely-disclosure",
   "metadata": {},
   "source": [
    "## 1. Default `clean_no_mva`\n",
    "\n",
    "By default, `clean_no_mva` will clean abn strings and output them in the standard format with proper separators."
   ]
  },
  {
   "cell_type": "code",
   "execution_count": 2,
   "id": "blessed-quebec",
   "metadata": {
    "execution": {
     "iopub.execute_input": "2021-10-26T23:41:45.560614Z",
     "iopub.status.busy": "2021-10-26T23:41:45.560019Z",
     "iopub.status.idle": "2021-10-26T23:41:46.314541Z",
     "shell.execute_reply": "2021-10-26T23:41:46.315024Z"
    }
   },
   "outputs": [
    {
     "data": {
      "text/html": [
       "<div>\n",
       "<style scoped>\n",
       "    .dataframe tbody tr th:only-of-type {\n",
       "        vertical-align: middle;\n",
       "    }\n",
       "\n",
       "    .dataframe tbody tr th {\n",
       "        vertical-align: top;\n",
       "    }\n",
       "\n",
       "    .dataframe thead th {\n",
       "        text-align: right;\n",
       "    }\n",
       "</style>\n",
       "<table border=\"1\" class=\"dataframe\">\n",
       "  <thead>\n",
       "    <tr style=\"text-align: right;\">\n",
       "      <th></th>\n",
       "      <th>abn</th>\n",
       "      <th>address</th>\n",
       "      <th>abn_clean</th>\n",
       "    </tr>\n",
       "  </thead>\n",
       "  <tbody>\n",
       "    <tr>\n",
       "      <th>0</th>\n",
       "      <td>995525828MVA</td>\n",
       "      <td>123 Pine Ave.</td>\n",
       "      <td>NO 995 525 828 MVA</td>\n",
       "    </tr>\n",
       "    <tr>\n",
       "      <th>1</th>\n",
       "      <td>NO 995 525 829 MVA</td>\n",
       "      <td>main st</td>\n",
       "      <td>NaN</td>\n",
       "    </tr>\n",
       "    <tr>\n",
       "      <th>2</th>\n",
       "      <td>51824753556</td>\n",
       "      <td>1234 west main heights 57033</td>\n",
       "      <td>NaN</td>\n",
       "    </tr>\n",
       "    <tr>\n",
       "      <th>3</th>\n",
       "      <td>51 824 753 556</td>\n",
       "      <td>apt 1 789 s maple rd manhattan</td>\n",
       "      <td>NaN</td>\n",
       "    </tr>\n",
       "    <tr>\n",
       "      <th>4</th>\n",
       "      <td>hello</td>\n",
       "      <td>robie house, 789 north main street</td>\n",
       "      <td>NaN</td>\n",
       "    </tr>\n",
       "    <tr>\n",
       "      <th>5</th>\n",
       "      <td>NaN</td>\n",
       "      <td>(staples center) 1111 S Figueroa St, Los Angeles</td>\n",
       "      <td>NaN</td>\n",
       "    </tr>\n",
       "    <tr>\n",
       "      <th>6</th>\n",
       "      <td>NULL</td>\n",
       "      <td>hello</td>\n",
       "      <td>NaN</td>\n",
       "    </tr>\n",
       "  </tbody>\n",
       "</table>\n",
       "</div>"
      ],
      "text/plain": [
       "                  abn                                           address  \\\n",
       "0        995525828MVA                                     123 Pine Ave.   \n",
       "1  NO 995 525 829 MVA                                           main st   \n",
       "2         51824753556                      1234 west main heights 57033   \n",
       "3      51 824 753 556                    apt 1 789 s maple rd manhattan   \n",
       "4               hello                robie house, 789 north main street   \n",
       "5                 NaN  (staples center) 1111 S Figueroa St, Los Angeles   \n",
       "6                NULL                                             hello   \n",
       "\n",
       "            abn_clean  \n",
       "0  NO 995 525 828 MVA  \n",
       "1                 NaN  \n",
       "2                 NaN  \n",
       "3                 NaN  \n",
       "4                 NaN  \n",
       "5                 NaN  \n",
       "6                 NaN  "
      ]
     },
     "execution_count": 1,
     "metadata": {},
     "output_type": "execute_result"
    }
   ],
   "source": [
    "from dataprep.clean import clean_no_mva\n",
    "clean_no_mva(df, column = \"abn\")"
   ]
  },
  {
   "cell_type": "markdown",
   "id": "capable-charge",
   "metadata": {},
   "source": [
    "## 2. Output formats"
   ]
  },
  {
   "cell_type": "markdown",
   "id": "single-willow",
   "metadata": {},
   "source": [
    "This section demonstrates the output parameter."
   ]
  },
  {
   "cell_type": "markdown",
   "id": "dried-amino",
   "metadata": {},
   "source": [
    "### `standard` (default)"
   ]
  },
  {
   "cell_type": "code",
   "execution_count": 3,
   "id": "later-casting",
   "metadata": {
    "execution": {
     "iopub.execute_input": "2021-10-26T23:41:46.344464Z",
     "iopub.status.busy": "2021-10-26T23:41:46.343814Z",
     "iopub.status.idle": "2021-10-26T23:41:46.354820Z",
     "shell.execute_reply": "2021-10-26T23:41:46.354199Z"
    }
   },
   "outputs": [
    {
     "data": {
      "text/html": [
       "<div>\n",
       "<style scoped>\n",
       "    .dataframe tbody tr th:only-of-type {\n",
       "        vertical-align: middle;\n",
       "    }\n",
       "\n",
       "    .dataframe tbody tr th {\n",
       "        vertical-align: top;\n",
       "    }\n",
       "\n",
       "    .dataframe thead th {\n",
       "        text-align: right;\n",
       "    }\n",
       "</style>\n",
       "<table border=\"1\" class=\"dataframe\">\n",
       "  <thead>\n",
       "    <tr style=\"text-align: right;\">\n",
       "      <th></th>\n",
       "      <th>abn</th>\n",
       "      <th>address</th>\n",
       "      <th>abn_clean</th>\n",
       "    </tr>\n",
       "  </thead>\n",
       "  <tbody>\n",
       "    <tr>\n",
       "      <th>0</th>\n",
       "      <td>995525828MVA</td>\n",
       "      <td>123 Pine Ave.</td>\n",
       "      <td>NO 995 525 828 MVA</td>\n",
       "    </tr>\n",
       "    <tr>\n",
       "      <th>1</th>\n",
       "      <td>NO 995 525 829 MVA</td>\n",
       "      <td>main st</td>\n",
       "      <td>NaN</td>\n",
       "    </tr>\n",
       "    <tr>\n",
       "      <th>2</th>\n",
       "      <td>51824753556</td>\n",
       "      <td>1234 west main heights 57033</td>\n",
       "      <td>NaN</td>\n",
       "    </tr>\n",
       "    <tr>\n",
       "      <th>3</th>\n",
       "      <td>51 824 753 556</td>\n",
       "      <td>apt 1 789 s maple rd manhattan</td>\n",
       "      <td>NaN</td>\n",
       "    </tr>\n",
       "    <tr>\n",
       "      <th>4</th>\n",
       "      <td>hello</td>\n",
       "      <td>robie house, 789 north main street</td>\n",
       "      <td>NaN</td>\n",
       "    </tr>\n",
       "    <tr>\n",
       "      <th>5</th>\n",
       "      <td>NaN</td>\n",
       "      <td>(staples center) 1111 S Figueroa St, Los Angeles</td>\n",
       "      <td>NaN</td>\n",
       "    </tr>\n",
       "    <tr>\n",
       "      <th>6</th>\n",
       "      <td>NULL</td>\n",
       "      <td>hello</td>\n",
       "      <td>NaN</td>\n",
       "    </tr>\n",
       "  </tbody>\n",
       "</table>\n",
       "</div>"
      ],
      "text/plain": [
       "                  abn                                           address  \\\n",
       "0        995525828MVA                                     123 Pine Ave.   \n",
       "1  NO 995 525 829 MVA                                           main st   \n",
       "2         51824753556                      1234 west main heights 57033   \n",
       "3      51 824 753 556                    apt 1 789 s maple rd manhattan   \n",
       "4               hello                robie house, 789 north main street   \n",
       "5                 NaN  (staples center) 1111 S Figueroa St, Los Angeles   \n",
       "6                NULL                                             hello   \n",
       "\n",
       "            abn_clean  \n",
       "0  NO 995 525 828 MVA  \n",
       "1                 NaN  \n",
       "2                 NaN  \n",
       "3                 NaN  \n",
       "4                 NaN  \n",
       "5                 NaN  \n",
       "6                 NaN  "
      ]
     },
     "execution_count": 1,
     "metadata": {},
     "output_type": "execute_result"
    }
   ],
   "source": [
    "clean_no_mva(df, column = \"abn\", output_format=\"standard\")"
   ]
  },
  {
   "cell_type": "markdown",
   "id": "nearby-zimbabwe",
   "metadata": {},
   "source": [
    "### `compact`"
   ]
  },
  {
   "cell_type": "code",
   "execution_count": 4,
   "id": "prerequisite-society",
   "metadata": {
    "execution": {
     "iopub.execute_input": "2021-10-26T23:41:46.380891Z",
     "iopub.status.busy": "2021-10-26T23:41:46.380248Z",
     "iopub.status.idle": "2021-10-26T23:41:46.392144Z",
     "shell.execute_reply": "2021-10-26T23:41:46.391497Z"
    }
   },
   "outputs": [
    {
     "data": {
      "text/html": [
       "<div>\n",
       "<style scoped>\n",
       "    .dataframe tbody tr th:only-of-type {\n",
       "        vertical-align: middle;\n",
       "    }\n",
       "\n",
       "    .dataframe tbody tr th {\n",
       "        vertical-align: top;\n",
       "    }\n",
       "\n",
       "    .dataframe thead th {\n",
       "        text-align: right;\n",
       "    }\n",
       "</style>\n",
       "<table border=\"1\" class=\"dataframe\">\n",
       "  <thead>\n",
       "    <tr style=\"text-align: right;\">\n",
       "      <th></th>\n",
       "      <th>abn</th>\n",
       "      <th>address</th>\n",
       "      <th>abn_clean</th>\n",
       "    </tr>\n",
       "  </thead>\n",
       "  <tbody>\n",
       "    <tr>\n",
       "      <th>0</th>\n",
       "      <td>995525828MVA</td>\n",
       "      <td>123 Pine Ave.</td>\n",
       "      <td>995525828MVA</td>\n",
       "    </tr>\n",
       "    <tr>\n",
       "      <th>1</th>\n",
       "      <td>NO 995 525 829 MVA</td>\n",
       "      <td>main st</td>\n",
       "      <td>NaN</td>\n",
       "    </tr>\n",
       "    <tr>\n",
       "      <th>2</th>\n",
       "      <td>51824753556</td>\n",
       "      <td>1234 west main heights 57033</td>\n",
       "      <td>NaN</td>\n",
       "    </tr>\n",
       "    <tr>\n",
       "      <th>3</th>\n",
       "      <td>51 824 753 556</td>\n",
       "      <td>apt 1 789 s maple rd manhattan</td>\n",
       "      <td>NaN</td>\n",
       "    </tr>\n",
       "    <tr>\n",
       "      <th>4</th>\n",
       "      <td>hello</td>\n",
       "      <td>robie house, 789 north main street</td>\n",
       "      <td>NaN</td>\n",
       "    </tr>\n",
       "    <tr>\n",
       "      <th>5</th>\n",
       "      <td>NaN</td>\n",
       "      <td>(staples center) 1111 S Figueroa St, Los Angeles</td>\n",
       "      <td>NaN</td>\n",
       "    </tr>\n",
       "    <tr>\n",
       "      <th>6</th>\n",
       "      <td>NULL</td>\n",
       "      <td>hello</td>\n",
       "      <td>NaN</td>\n",
       "    </tr>\n",
       "  </tbody>\n",
       "</table>\n",
       "</div>"
      ],
      "text/plain": [
       "                  abn                                           address  \\\n",
       "0        995525828MVA                                     123 Pine Ave.   \n",
       "1  NO 995 525 829 MVA                                           main st   \n",
       "2         51824753556                      1234 west main heights 57033   \n",
       "3      51 824 753 556                    apt 1 789 s maple rd manhattan   \n",
       "4               hello                robie house, 789 north main street   \n",
       "5                 NaN  (staples center) 1111 S Figueroa St, Los Angeles   \n",
       "6                NULL                                             hello   \n",
       "\n",
       "      abn_clean  \n",
       "0  995525828MVA  \n",
       "1           NaN  \n",
       "2           NaN  \n",
       "3           NaN  \n",
       "4           NaN  \n",
       "5           NaN  \n",
       "6           NaN  "
      ]
     },
     "execution_count": 1,
     "metadata": {},
     "output_type": "execute_result"
    }
   ],
   "source": [
    "clean_no_mva(df, column = \"abn\", output_format=\"compact\")"
   ]
  },
  {
   "cell_type": "markdown",
   "id": "cloudy-uzbekistan",
   "metadata": {},
   "source": [
    "## 3. `inplace` parameter\n",
    "\n",
    "This deletes the given column from the returned DataFrame. \n",
    "A new column containing cleaned ABN strings is added with a title in the format `\"{original title}_clean\"`."
   ]
  },
  {
   "cell_type": "code",
   "execution_count": 5,
   "id": "informative-dating",
   "metadata": {
    "execution": {
     "iopub.execute_input": "2021-10-26T23:41:46.434650Z",
     "iopub.status.busy": "2021-10-26T23:41:46.434003Z",
     "iopub.status.idle": "2021-10-26T23:41:46.444902Z",
     "shell.execute_reply": "2021-10-26T23:41:46.445582Z"
    }
   },
   "outputs": [
    {
     "data": {
      "text/html": [
       "<div>\n",
       "<style scoped>\n",
       "    .dataframe tbody tr th:only-of-type {\n",
       "        vertical-align: middle;\n",
       "    }\n",
       "\n",
       "    .dataframe tbody tr th {\n",
       "        vertical-align: top;\n",
       "    }\n",
       "\n",
       "    .dataframe thead th {\n",
       "        text-align: right;\n",
       "    }\n",
       "</style>\n",
       "<table border=\"1\" class=\"dataframe\">\n",
       "  <thead>\n",
       "    <tr style=\"text-align: right;\">\n",
       "      <th></th>\n",
       "      <th>abn_clean</th>\n",
       "      <th>address</th>\n",
       "    </tr>\n",
       "  </thead>\n",
       "  <tbody>\n",
       "    <tr>\n",
       "      <th>0</th>\n",
       "      <td>NO 995 525 828 MVA</td>\n",
       "      <td>123 Pine Ave.</td>\n",
       "    </tr>\n",
       "    <tr>\n",
       "      <th>1</th>\n",
       "      <td>NaN</td>\n",
       "      <td>main st</td>\n",
       "    </tr>\n",
       "    <tr>\n",
       "      <th>2</th>\n",
       "      <td>NaN</td>\n",
       "      <td>1234 west main heights 57033</td>\n",
       "    </tr>\n",
       "    <tr>\n",
       "      <th>3</th>\n",
       "      <td>NaN</td>\n",
       "      <td>apt 1 789 s maple rd manhattan</td>\n",
       "    </tr>\n",
       "    <tr>\n",
       "      <th>4</th>\n",
       "      <td>NaN</td>\n",
       "      <td>robie house, 789 north main street</td>\n",
       "    </tr>\n",
       "    <tr>\n",
       "      <th>5</th>\n",
       "      <td>NaN</td>\n",
       "      <td>(staples center) 1111 S Figueroa St, Los Angeles</td>\n",
       "    </tr>\n",
       "    <tr>\n",
       "      <th>6</th>\n",
       "      <td>NaN</td>\n",
       "      <td>hello</td>\n",
       "    </tr>\n",
       "  </tbody>\n",
       "</table>\n",
       "</div>"
      ],
      "text/plain": [
       "            abn_clean                                           address\n",
       "0  NO 995 525 828 MVA                                     123 Pine Ave.\n",
       "1                 NaN                                           main st\n",
       "2                 NaN                      1234 west main heights 57033\n",
       "3                 NaN                    apt 1 789 s maple rd manhattan\n",
       "4                 NaN                robie house, 789 north main street\n",
       "5                 NaN  (staples center) 1111 S Figueroa St, Los Angeles\n",
       "6                 NaN                                             hello"
      ]
     },
     "execution_count": 1,
     "metadata": {},
     "output_type": "execute_result"
    }
   ],
   "source": [
    "clean_no_mva(df, column=\"abn\", inplace=True)"
   ]
  },
  {
   "cell_type": "markdown",
   "id": "excessive-paraguay",
   "metadata": {},
   "source": [
    "## 4. `errors` parameter"
   ]
  },
  {
   "cell_type": "markdown",
   "id": "pressing-farmer",
   "metadata": {},
   "source": [
    "### `coerce` (default)"
   ]
  },
  {
   "cell_type": "code",
   "execution_count": 6,
   "id": "standard-grill",
   "metadata": {
    "execution": {
     "iopub.execute_input": "2021-10-26T23:41:46.475052Z",
     "iopub.status.busy": "2021-10-26T23:41:46.474005Z",
     "iopub.status.idle": "2021-10-26T23:41:46.485205Z",
     "shell.execute_reply": "2021-10-26T23:41:46.485718Z"
    }
   },
   "outputs": [
    {
     "data": {
      "text/html": [
       "<div>\n",
       "<style scoped>\n",
       "    .dataframe tbody tr th:only-of-type {\n",
       "        vertical-align: middle;\n",
       "    }\n",
       "\n",
       "    .dataframe tbody tr th {\n",
       "        vertical-align: top;\n",
       "    }\n",
       "\n",
       "    .dataframe thead th {\n",
       "        text-align: right;\n",
       "    }\n",
       "</style>\n",
       "<table border=\"1\" class=\"dataframe\">\n",
       "  <thead>\n",
       "    <tr style=\"text-align: right;\">\n",
       "      <th></th>\n",
       "      <th>abn</th>\n",
       "      <th>address</th>\n",
       "      <th>abn_clean</th>\n",
       "    </tr>\n",
       "  </thead>\n",
       "  <tbody>\n",
       "    <tr>\n",
       "      <th>0</th>\n",
       "      <td>995525828MVA</td>\n",
       "      <td>123 Pine Ave.</td>\n",
       "      <td>NO 995 525 828 MVA</td>\n",
       "    </tr>\n",
       "    <tr>\n",
       "      <th>1</th>\n",
       "      <td>NO 995 525 829 MVA</td>\n",
       "      <td>main st</td>\n",
       "      <td>NaN</td>\n",
       "    </tr>\n",
       "    <tr>\n",
       "      <th>2</th>\n",
       "      <td>51824753556</td>\n",
       "      <td>1234 west main heights 57033</td>\n",
       "      <td>NaN</td>\n",
       "    </tr>\n",
       "    <tr>\n",
       "      <th>3</th>\n",
       "      <td>51 824 753 556</td>\n",
       "      <td>apt 1 789 s maple rd manhattan</td>\n",
       "      <td>NaN</td>\n",
       "    </tr>\n",
       "    <tr>\n",
       "      <th>4</th>\n",
       "      <td>hello</td>\n",
       "      <td>robie house, 789 north main street</td>\n",
       "      <td>NaN</td>\n",
       "    </tr>\n",
       "    <tr>\n",
       "      <th>5</th>\n",
       "      <td>NaN</td>\n",
       "      <td>(staples center) 1111 S Figueroa St, Los Angeles</td>\n",
       "      <td>NaN</td>\n",
       "    </tr>\n",
       "    <tr>\n",
       "      <th>6</th>\n",
       "      <td>NULL</td>\n",
       "      <td>hello</td>\n",
       "      <td>NaN</td>\n",
       "    </tr>\n",
       "  </tbody>\n",
       "</table>\n",
       "</div>"
      ],
      "text/plain": [
       "                  abn                                           address  \\\n",
       "0        995525828MVA                                     123 Pine Ave.   \n",
       "1  NO 995 525 829 MVA                                           main st   \n",
       "2         51824753556                      1234 west main heights 57033   \n",
       "3      51 824 753 556                    apt 1 789 s maple rd manhattan   \n",
       "4               hello                robie house, 789 north main street   \n",
       "5                 NaN  (staples center) 1111 S Figueroa St, Los Angeles   \n",
       "6                NULL                                             hello   \n",
       "\n",
       "            abn_clean  \n",
       "0  NO 995 525 828 MVA  \n",
       "1                 NaN  \n",
       "2                 NaN  \n",
       "3                 NaN  \n",
       "4                 NaN  \n",
       "5                 NaN  \n",
       "6                 NaN  "
      ]
     },
     "execution_count": 1,
     "metadata": {},
     "output_type": "execute_result"
    }
   ],
   "source": [
    "clean_no_mva(df, \"abn\", errors=\"coerce\")"
   ]
  },
  {
   "cell_type": "markdown",
   "id": "sized-result",
   "metadata": {},
   "source": [
    "### `ignore`"
   ]
  },
  {
   "cell_type": "code",
   "execution_count": 7,
   "id": "missing-italian",
   "metadata": {
    "execution": {
     "iopub.execute_input": "2021-10-26T23:41:46.513563Z",
     "iopub.status.busy": "2021-10-26T23:41:46.510044Z",
     "iopub.status.idle": "2021-10-26T23:41:46.524729Z",
     "shell.execute_reply": "2021-10-26T23:41:46.524179Z"
    }
   },
   "outputs": [
    {
     "data": {
      "text/html": [
       "<div>\n",
       "<style scoped>\n",
       "    .dataframe tbody tr th:only-of-type {\n",
       "        vertical-align: middle;\n",
       "    }\n",
       "\n",
       "    .dataframe tbody tr th {\n",
       "        vertical-align: top;\n",
       "    }\n",
       "\n",
       "    .dataframe thead th {\n",
       "        text-align: right;\n",
       "    }\n",
       "</style>\n",
       "<table border=\"1\" class=\"dataframe\">\n",
       "  <thead>\n",
       "    <tr style=\"text-align: right;\">\n",
       "      <th></th>\n",
       "      <th>abn</th>\n",
       "      <th>address</th>\n",
       "      <th>abn_clean</th>\n",
       "    </tr>\n",
       "  </thead>\n",
       "  <tbody>\n",
       "    <tr>\n",
       "      <th>0</th>\n",
       "      <td>995525828MVA</td>\n",
       "      <td>123 Pine Ave.</td>\n",
       "      <td>NO 995 525 828 MVA</td>\n",
       "    </tr>\n",
       "    <tr>\n",
       "      <th>1</th>\n",
       "      <td>NO 995 525 829 MVA</td>\n",
       "      <td>main st</td>\n",
       "      <td>NO 995 525 829 MVA</td>\n",
       "    </tr>\n",
       "    <tr>\n",
       "      <th>2</th>\n",
       "      <td>51824753556</td>\n",
       "      <td>1234 west main heights 57033</td>\n",
       "      <td>51824753556</td>\n",
       "    </tr>\n",
       "    <tr>\n",
       "      <th>3</th>\n",
       "      <td>51 824 753 556</td>\n",
       "      <td>apt 1 789 s maple rd manhattan</td>\n",
       "      <td>51 824 753 556</td>\n",
       "    </tr>\n",
       "    <tr>\n",
       "      <th>4</th>\n",
       "      <td>hello</td>\n",
       "      <td>robie house, 789 north main street</td>\n",
       "      <td>hello</td>\n",
       "    </tr>\n",
       "    <tr>\n",
       "      <th>5</th>\n",
       "      <td>NaN</td>\n",
       "      <td>(staples center) 1111 S Figueroa St, Los Angeles</td>\n",
       "      <td>NaN</td>\n",
       "    </tr>\n",
       "    <tr>\n",
       "      <th>6</th>\n",
       "      <td>NULL</td>\n",
       "      <td>hello</td>\n",
       "      <td>NaN</td>\n",
       "    </tr>\n",
       "  </tbody>\n",
       "</table>\n",
       "</div>"
      ],
      "text/plain": [
       "                  abn                                           address  \\\n",
       "0        995525828MVA                                     123 Pine Ave.   \n",
       "1  NO 995 525 829 MVA                                           main st   \n",
       "2         51824753556                      1234 west main heights 57033   \n",
       "3      51 824 753 556                    apt 1 789 s maple rd manhattan   \n",
       "4               hello                robie house, 789 north main street   \n",
       "5                 NaN  (staples center) 1111 S Figueroa St, Los Angeles   \n",
       "6                NULL                                             hello   \n",
       "\n",
       "            abn_clean  \n",
       "0  NO 995 525 828 MVA  \n",
       "1  NO 995 525 829 MVA  \n",
       "2         51824753556  \n",
       "3      51 824 753 556  \n",
       "4               hello  \n",
       "5                 NaN  \n",
       "6                 NaN  "
      ]
     },
     "execution_count": 1,
     "metadata": {},
     "output_type": "execute_result"
    }
   ],
   "source": [
    "clean_no_mva(df, \"abn\", errors=\"ignore\")"
   ]
  },
  {
   "cell_type": "markdown",
   "id": "annual-journal",
   "metadata": {},
   "source": [
    "## 4. `validate_no_mva()`"
   ]
  },
  {
   "cell_type": "markdown",
   "id": "hungarian-substance",
   "metadata": {},
   "source": [
    "`validate_no_mva()` returns `True` when the input is a valid ABN. Otherwise it returns `False`.\n",
    "\n",
    "The input of `validate_no_mva()` can be a string, a Pandas DataSeries, a Dask DataSeries, a Pandas DataFrame and a dask DataFrame.\n",
    "\n",
    "When the input is a string, a Pandas DataSeries or a Dask DataSeries, user doesn't need to specify a column name to be validated. \n",
    "\n",
    "When the input is a Pandas DataFrame or a dask DataFrame, user can both specify or not specify a column name to be validated. If user specify the column name, `validate_no_mva()` only returns the validation result for the specified column. If user doesn't specify the column name, `validate_no_mva()` returns the validation result for the whole DataFrame."
   ]
  },
  {
   "cell_type": "code",
   "execution_count": 8,
   "id": "grand-defendant",
   "metadata": {
    "execution": {
     "iopub.execute_input": "2021-10-26T23:41:46.531455Z",
     "iopub.status.busy": "2021-10-26T23:41:46.530800Z",
     "iopub.status.idle": "2021-10-26T23:41:46.534251Z",
     "shell.execute_reply": "2021-10-26T23:41:46.534761Z"
    }
   },
   "outputs": [
    {
     "name": "stdout",
     "output_type": "stream",
     "text": [
      "True\n",
      "False\n",
      "False\n",
      "False\n",
      "False\n",
      "False\n",
      "False\n"
     ]
    }
   ],
   "source": [
    "from dataprep.clean import validate_no_mva\n",
    "print(validate_no_mva(\"995525828MVA\"))\n",
    "print(validate_no_mva(\"NO 995 525 829 MVA\"))\n",
    "print(validate_no_mva(\"51824753556\"))\n",
    "print(validate_no_mva(\"51 824 753 556\"))\n",
    "print(validate_no_mva(\"hello\"))\n",
    "print(validate_no_mva(np.nan))\n",
    "print(validate_no_mva(\"NULL\"))"
   ]
  },
  {
   "cell_type": "markdown",
   "id": "alternative-rates",
   "metadata": {},
   "source": [
    "### Series"
   ]
  },
  {
   "cell_type": "code",
   "execution_count": 9,
   "id": "southwest-sheep",
   "metadata": {
    "execution": {
     "iopub.execute_input": "2021-10-26T23:41:46.540517Z",
     "iopub.status.busy": "2021-10-26T23:41:46.539876Z",
     "iopub.status.idle": "2021-10-26T23:41:46.545310Z",
     "shell.execute_reply": "2021-10-26T23:41:46.545818Z"
    }
   },
   "outputs": [
    {
     "data": {
      "text/plain": [
       "0     True\n",
       "1    False\n",
       "2    False\n",
       "3    False\n",
       "4    False\n",
       "5    False\n",
       "6    False\n",
       "Name: abn, dtype: bool"
      ]
     },
     "execution_count": 1,
     "metadata": {},
     "output_type": "execute_result"
    }
   ],
   "source": [
    "validate_no_mva(df[\"abn\"])"
   ]
  },
  {
   "cell_type": "markdown",
   "id": "checked-quilt",
   "metadata": {},
   "source": [
    "### DataFrame + Specify Column"
   ]
  },
  {
   "cell_type": "code",
   "execution_count": 10,
   "id": "mechanical-fantasy",
   "metadata": {
    "execution": {
     "iopub.execute_input": "2021-10-26T23:41:46.551739Z",
     "iopub.status.busy": "2021-10-26T23:41:46.551102Z",
     "iopub.status.idle": "2021-10-26T23:41:46.556210Z",
     "shell.execute_reply": "2021-10-26T23:41:46.555166Z"
    }
   },
   "outputs": [
    {
     "data": {
      "text/plain": [
       "0     True\n",
       "1    False\n",
       "2    False\n",
       "3    False\n",
       "4    False\n",
       "5    False\n",
       "6    False\n",
       "Name: abn, dtype: bool"
      ]
     },
     "execution_count": 1,
     "metadata": {},
     "output_type": "execute_result"
    }
   ],
   "source": [
    "validate_no_mva(df, column=\"abn\")"
   ]
  },
  {
   "cell_type": "markdown",
   "id": "rapid-reynolds",
   "metadata": {},
   "source": [
    "### Only DataFrame"
   ]
  },
  {
   "cell_type": "code",
   "execution_count": 11,
   "id": "animal-afternoon",
   "metadata": {
    "execution": {
     "iopub.execute_input": "2021-10-26T23:41:46.566415Z",
     "iopub.status.busy": "2021-10-26T23:41:46.559384Z",
     "iopub.status.idle": "2021-10-26T23:41:46.572274Z",
     "shell.execute_reply": "2021-10-26T23:41:46.571686Z"
    }
   },
   "outputs": [
    {
     "data": {
      "text/html": [
       "<div>\n",
       "<style scoped>\n",
       "    .dataframe tbody tr th:only-of-type {\n",
       "        vertical-align: middle;\n",
       "    }\n",
       "\n",
       "    .dataframe tbody tr th {\n",
       "        vertical-align: top;\n",
       "    }\n",
       "\n",
       "    .dataframe thead th {\n",
       "        text-align: right;\n",
       "    }\n",
       "</style>\n",
       "<table border=\"1\" class=\"dataframe\">\n",
       "  <thead>\n",
       "    <tr style=\"text-align: right;\">\n",
       "      <th></th>\n",
       "      <th>abn</th>\n",
       "      <th>address</th>\n",
       "    </tr>\n",
       "  </thead>\n",
       "  <tbody>\n",
       "    <tr>\n",
       "      <th>0</th>\n",
       "      <td>True</td>\n",
       "      <td>False</td>\n",
       "    </tr>\n",
       "    <tr>\n",
       "      <th>1</th>\n",
       "      <td>False</td>\n",
       "      <td>False</td>\n",
       "    </tr>\n",
       "    <tr>\n",
       "      <th>2</th>\n",
       "      <td>False</td>\n",
       "      <td>False</td>\n",
       "    </tr>\n",
       "    <tr>\n",
       "      <th>3</th>\n",
       "      <td>False</td>\n",
       "      <td>False</td>\n",
       "    </tr>\n",
       "    <tr>\n",
       "      <th>4</th>\n",
       "      <td>False</td>\n",
       "      <td>False</td>\n",
       "    </tr>\n",
       "    <tr>\n",
       "      <th>5</th>\n",
       "      <td>False</td>\n",
       "      <td>False</td>\n",
       "    </tr>\n",
       "    <tr>\n",
       "      <th>6</th>\n",
       "      <td>False</td>\n",
       "      <td>False</td>\n",
       "    </tr>\n",
       "  </tbody>\n",
       "</table>\n",
       "</div>"
      ],
      "text/plain": [
       "     abn  address\n",
       "0   True    False\n",
       "1  False    False\n",
       "2  False    False\n",
       "3  False    False\n",
       "4  False    False\n",
       "5  False    False\n",
       "6  False    False"
      ]
     },
     "execution_count": 1,
     "metadata": {},
     "output_type": "execute_result"
    }
   ],
   "source": [
    "validate_no_mva(df)"
   ]
  },
  {
   "cell_type": "code",
   "execution_count": null,
   "id": "tested-edgar",
   "metadata": {},
   "outputs": [],
   "source": []
  }
 ],
 "metadata": {
  "kernelspec": {
   "display_name": "Python 3",
   "language": "python",
   "name": "python3"
  },
  "language_info": {
   "codemirror_mode": {
    "name": "ipython",
    "version": 3
   },
   "file_extension": ".py",
   "mimetype": "text/x-python",
   "name": "python",
   "nbconvert_exporter": "python",
   "pygments_lexer": "ipython3",
   "version": "3.8.10"
  }
 },
 "nbformat": 4,
 "nbformat_minor": 5
}
