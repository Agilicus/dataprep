{
 "cells": [
  {
   "cell_type": "raw",
   "id": "qualified-eugene",
   "metadata": {},
   "source": [
    ".. _ruc_userguide:\n",
    "\n",
    "Paraguay RUC Numbers\n",
    "===================="
   ]
  },
  {
   "cell_type": "raw",
   "id": "french-residence",
   "metadata": {},
   "source": [
    "Introduction\n",
    "------------\n",
    "\n",
    "The function :func:`clean_py_ruc() <dataprep.clean.clean_py_ruc.clean_py_ruc>` cleans a column containing Paraguay RUC number (RUC) strings, and standardizes them in a given format. The function :func:`validate_py_ruc() <dataprep.clean.clean_py_ruc.validate_py_ruc>` validates either a single RUC strings, a column of RUC strings or a DataFrame of RUC strings, returning `True` if the value is valid, and `False` otherwise."
   ]
  },
  {
   "cell_type": "markdown",
   "id": "aboriginal-danish",
   "metadata": {},
   "source": [
    "RUC strings can be converted to the following formats via the `output_format` parameter:\n",
    "\n",
    "* `compact`: only number strings without any seperators or whitespace, like \"800000358\"\n",
    "* `standard`: RUC strings with proper whitespace in the proper places, like \"80000035-8\"\n",
    "\n",
    "Invalid parsing is handled with the `errors` parameter:\n",
    "\n",
    "* `coerce` (default): invalid parsing will be set to NaN\n",
    "* `ignore`: invalid parsing will return the input\n",
    "* `raise`: invalid parsing will raise an exception\n",
    "\n",
    "The following sections demonstrate the functionality of `clean_py_ruc()` and `validate_py_ruc()`. "
   ]
  },
  {
   "cell_type": "markdown",
   "id": "exceptional-mandate",
   "metadata": {},
   "source": [
    "### An example dataset containing RUC strings"
   ]
  },
  {
   "cell_type": "code",
   "execution_count": 1,
   "id": "instrumental-brother",
   "metadata": {
    "execution": {
     "iopub.execute_input": "2021-10-30T05:23:48.600947Z",
     "iopub.status.busy": "2021-10-30T05:23:48.600010Z",
     "iopub.status.idle": "2021-10-30T05:23:48.842738Z",
     "shell.execute_reply": "2021-10-30T05:23:48.841903Z"
    }
   },
   "outputs": [
    {
     "data": {
      "text/html": [
       "<div>\n",
       "<style scoped>\n",
       "    .dataframe tbody tr th:only-of-type {\n",
       "        vertical-align: middle;\n",
       "    }\n",
       "\n",
       "    .dataframe tbody tr th {\n",
       "        vertical-align: top;\n",
       "    }\n",
       "\n",
       "    .dataframe thead th {\n",
       "        text-align: right;\n",
       "    }\n",
       "</style>\n",
       "<table border=\"1\" class=\"dataframe\">\n",
       "  <thead>\n",
       "    <tr style=\"text-align: right;\">\n",
       "      <th></th>\n",
       "      <th>ruc</th>\n",
       "      <th>address</th>\n",
       "    </tr>\n",
       "  </thead>\n",
       "  <tbody>\n",
       "    <tr>\n",
       "      <th>0</th>\n",
       "      <td>800000358</td>\n",
       "      <td>123 Pine Ave.</td>\n",
       "    </tr>\n",
       "    <tr>\n",
       "      <th>1</th>\n",
       "      <td>80123456789</td>\n",
       "      <td>main st</td>\n",
       "    </tr>\n",
       "    <tr>\n",
       "      <th>2</th>\n",
       "      <td>51824753556</td>\n",
       "      <td>1234 west main heights 57033</td>\n",
       "    </tr>\n",
       "    <tr>\n",
       "      <th>3</th>\n",
       "      <td>51 824 753 556</td>\n",
       "      <td>apt 1 789 s maple rd manhattan</td>\n",
       "    </tr>\n",
       "    <tr>\n",
       "      <th>4</th>\n",
       "      <td>hello</td>\n",
       "      <td>robie house, 789 north main street</td>\n",
       "    </tr>\n",
       "    <tr>\n",
       "      <th>5</th>\n",
       "      <td>NaN</td>\n",
       "      <td>(staples center) 1111 S Figueroa St, Los Angeles</td>\n",
       "    </tr>\n",
       "    <tr>\n",
       "      <th>6</th>\n",
       "      <td>NULL</td>\n",
       "      <td>hello</td>\n",
       "    </tr>\n",
       "  </tbody>\n",
       "</table>\n",
       "</div>"
      ],
      "text/plain": [
       "              ruc                                           address\n",
       "0       800000358                                     123 Pine Ave.\n",
       "1     80123456789                                           main st\n",
       "2     51824753556                      1234 west main heights 57033\n",
       "3  51 824 753 556                    apt 1 789 s maple rd manhattan\n",
       "4           hello                robie house, 789 north main street\n",
       "5             NaN  (staples center) 1111 S Figueroa St, Los Angeles\n",
       "6            NULL                                             hello"
      ]
     },
     "execution_count": 1,
     "metadata": {},
     "output_type": "execute_result"
    }
   ],
   "source": [
    "import pandas as pd\n",
    "import numpy as np\n",
    "df = pd.DataFrame(\n",
    "    {\n",
    "        \"ruc\": [\n",
    "            \"800000358\",\n",
    "            \"80123456789\",\n",
    "            \"51824753556\",\n",
    "            \"51 824 753 556\",\n",
    "            \"hello\",\n",
    "            np.nan,\n",
    "            \"NULL\"\n",
    "        ], \n",
    "        \"address\": [\n",
    "            \"123 Pine Ave.\",\n",
    "            \"main st\",\n",
    "            \"1234 west main heights 57033\",\n",
    "            \"apt 1 789 s maple rd manhattan\",\n",
    "            \"robie house, 789 north main street\",\n",
    "            \"(staples center) 1111 S Figueroa St, Los Angeles\",\n",
    "            \"hello\",\n",
    "        ]\n",
    "    }\n",
    ")\n",
    "df"
   ]
  },
  {
   "cell_type": "markdown",
   "id": "painful-journal",
   "metadata": {},
   "source": [
    "## 1. Default `clean_py_ruc`\n",
    "\n",
    "By default, `clean_py_ruc` will clean ruc strings and output them in the standard format with proper separators."
   ]
  },
  {
   "cell_type": "code",
   "execution_count": 2,
   "id": "sought-germany",
   "metadata": {
    "execution": {
     "iopub.execute_input": "2021-10-30T05:23:48.847017Z",
     "iopub.status.busy": "2021-10-30T05:23:48.846472Z",
     "iopub.status.idle": "2021-10-30T05:23:49.425133Z",
     "shell.execute_reply": "2021-10-30T05:23:49.424290Z"
    }
   },
   "outputs": [
    {
     "data": {
      "text/html": [
       "<div>\n",
       "<style scoped>\n",
       "    .dataframe tbody tr th:only-of-type {\n",
       "        vertical-align: middle;\n",
       "    }\n",
       "\n",
       "    .dataframe tbody tr th {\n",
       "        vertical-align: top;\n",
       "    }\n",
       "\n",
       "    .dataframe thead th {\n",
       "        text-align: right;\n",
       "    }\n",
       "</style>\n",
       "<table border=\"1\" class=\"dataframe\">\n",
       "  <thead>\n",
       "    <tr style=\"text-align: right;\">\n",
       "      <th></th>\n",
       "      <th>ruc</th>\n",
       "      <th>address</th>\n",
       "      <th>ruc_clean</th>\n",
       "    </tr>\n",
       "  </thead>\n",
       "  <tbody>\n",
       "    <tr>\n",
       "      <th>0</th>\n",
       "      <td>800000358</td>\n",
       "      <td>123 Pine Ave.</td>\n",
       "      <td>80000035-8</td>\n",
       "    </tr>\n",
       "    <tr>\n",
       "      <th>1</th>\n",
       "      <td>80123456789</td>\n",
       "      <td>main st</td>\n",
       "      <td>NaN</td>\n",
       "    </tr>\n",
       "    <tr>\n",
       "      <th>2</th>\n",
       "      <td>51824753556</td>\n",
       "      <td>1234 west main heights 57033</td>\n",
       "      <td>NaN</td>\n",
       "    </tr>\n",
       "    <tr>\n",
       "      <th>3</th>\n",
       "      <td>51 824 753 556</td>\n",
       "      <td>apt 1 789 s maple rd manhattan</td>\n",
       "      <td>NaN</td>\n",
       "    </tr>\n",
       "    <tr>\n",
       "      <th>4</th>\n",
       "      <td>hello</td>\n",
       "      <td>robie house, 789 north main street</td>\n",
       "      <td>NaN</td>\n",
       "    </tr>\n",
       "    <tr>\n",
       "      <th>5</th>\n",
       "      <td>NaN</td>\n",
       "      <td>(staples center) 1111 S Figueroa St, Los Angeles</td>\n",
       "      <td>NaN</td>\n",
       "    </tr>\n",
       "    <tr>\n",
       "      <th>6</th>\n",
       "      <td>NULL</td>\n",
       "      <td>hello</td>\n",
       "      <td>NaN</td>\n",
       "    </tr>\n",
       "  </tbody>\n",
       "</table>\n",
       "</div>"
      ],
      "text/plain": [
       "              ruc                                           address  \\\n",
       "0       800000358                                     123 Pine Ave.   \n",
       "1     80123456789                                           main st   \n",
       "2     51824753556                      1234 west main heights 57033   \n",
       "3  51 824 753 556                    apt 1 789 s maple rd manhattan   \n",
       "4           hello                robie house, 789 north main street   \n",
       "5             NaN  (staples center) 1111 S Figueroa St, Los Angeles   \n",
       "6            NULL                                             hello   \n",
       "\n",
       "    ruc_clean  \n",
       "0  80000035-8  \n",
       "1         NaN  \n",
       "2         NaN  \n",
       "3         NaN  \n",
       "4         NaN  \n",
       "5         NaN  \n",
       "6         NaN  "
      ]
     },
     "execution_count": 1,
     "metadata": {},
     "output_type": "execute_result"
    }
   ],
   "source": [
    "from dataprep.clean import clean_py_ruc\n",
    "clean_py_ruc(df, column = \"ruc\")"
   ]
  },
  {
   "cell_type": "markdown",
   "id": "interracial-bearing",
   "metadata": {},
   "source": [
    "## 2. Output formats"
   ]
  },
  {
   "cell_type": "markdown",
   "id": "gross-attention",
   "metadata": {},
   "source": [
    "This section demonstrates the output parameter."
   ]
  },
  {
   "cell_type": "markdown",
   "id": "burning-correction",
   "metadata": {},
   "source": [
    "### `standard` (default)"
   ]
  },
  {
   "cell_type": "code",
   "execution_count": 3,
   "id": "limited-kingdom",
   "metadata": {
    "execution": {
     "iopub.execute_input": "2021-10-30T05:23:49.447336Z",
     "iopub.status.busy": "2021-10-30T05:23:49.443475Z",
     "iopub.status.idle": "2021-10-30T05:23:49.455950Z",
     "shell.execute_reply": "2021-10-30T05:23:49.455200Z"
    }
   },
   "outputs": [
    {
     "data": {
      "text/html": [
       "<div>\n",
       "<style scoped>\n",
       "    .dataframe tbody tr th:only-of-type {\n",
       "        vertical-align: middle;\n",
       "    }\n",
       "\n",
       "    .dataframe tbody tr th {\n",
       "        vertical-align: top;\n",
       "    }\n",
       "\n",
       "    .dataframe thead th {\n",
       "        text-align: right;\n",
       "    }\n",
       "</style>\n",
       "<table border=\"1\" class=\"dataframe\">\n",
       "  <thead>\n",
       "    <tr style=\"text-align: right;\">\n",
       "      <th></th>\n",
       "      <th>ruc</th>\n",
       "      <th>address</th>\n",
       "      <th>ruc_clean</th>\n",
       "    </tr>\n",
       "  </thead>\n",
       "  <tbody>\n",
       "    <tr>\n",
       "      <th>0</th>\n",
       "      <td>800000358</td>\n",
       "      <td>123 Pine Ave.</td>\n",
       "      <td>80000035-8</td>\n",
       "    </tr>\n",
       "    <tr>\n",
       "      <th>1</th>\n",
       "      <td>80123456789</td>\n",
       "      <td>main st</td>\n",
       "      <td>NaN</td>\n",
       "    </tr>\n",
       "    <tr>\n",
       "      <th>2</th>\n",
       "      <td>51824753556</td>\n",
       "      <td>1234 west main heights 57033</td>\n",
       "      <td>NaN</td>\n",
       "    </tr>\n",
       "    <tr>\n",
       "      <th>3</th>\n",
       "      <td>51 824 753 556</td>\n",
       "      <td>apt 1 789 s maple rd manhattan</td>\n",
       "      <td>NaN</td>\n",
       "    </tr>\n",
       "    <tr>\n",
       "      <th>4</th>\n",
       "      <td>hello</td>\n",
       "      <td>robie house, 789 north main street</td>\n",
       "      <td>NaN</td>\n",
       "    </tr>\n",
       "    <tr>\n",
       "      <th>5</th>\n",
       "      <td>NaN</td>\n",
       "      <td>(staples center) 1111 S Figueroa St, Los Angeles</td>\n",
       "      <td>NaN</td>\n",
       "    </tr>\n",
       "    <tr>\n",
       "      <th>6</th>\n",
       "      <td>NULL</td>\n",
       "      <td>hello</td>\n",
       "      <td>NaN</td>\n",
       "    </tr>\n",
       "  </tbody>\n",
       "</table>\n",
       "</div>"
      ],
      "text/plain": [
       "              ruc                                           address  \\\n",
       "0       800000358                                     123 Pine Ave.   \n",
       "1     80123456789                                           main st   \n",
       "2     51824753556                      1234 west main heights 57033   \n",
       "3  51 824 753 556                    apt 1 789 s maple rd manhattan   \n",
       "4           hello                robie house, 789 north main street   \n",
       "5             NaN  (staples center) 1111 S Figueroa St, Los Angeles   \n",
       "6            NULL                                             hello   \n",
       "\n",
       "    ruc_clean  \n",
       "0  80000035-8  \n",
       "1         NaN  \n",
       "2         NaN  \n",
       "3         NaN  \n",
       "4         NaN  \n",
       "5         NaN  \n",
       "6         NaN  "
      ]
     },
     "execution_count": 1,
     "metadata": {},
     "output_type": "execute_result"
    }
   ],
   "source": [
    "clean_py_ruc(df, column = \"ruc\", output_format=\"standard\")"
   ]
  },
  {
   "cell_type": "markdown",
   "id": "voluntary-columbia",
   "metadata": {},
   "source": [
    "### `compact`"
   ]
  },
  {
   "cell_type": "code",
   "execution_count": 4,
   "id": "hydraulic-controversy",
   "metadata": {
    "execution": {
     "iopub.execute_input": "2021-10-30T05:23:49.478186Z",
     "iopub.status.busy": "2021-10-30T05:23:49.475397Z",
     "iopub.status.idle": "2021-10-30T05:23:49.486429Z",
     "shell.execute_reply": "2021-10-30T05:23:49.487111Z"
    }
   },
   "outputs": [
    {
     "data": {
      "text/html": [
       "<div>\n",
       "<style scoped>\n",
       "    .dataframe tbody tr th:only-of-type {\n",
       "        vertical-align: middle;\n",
       "    }\n",
       "\n",
       "    .dataframe tbody tr th {\n",
       "        vertical-align: top;\n",
       "    }\n",
       "\n",
       "    .dataframe thead th {\n",
       "        text-align: right;\n",
       "    }\n",
       "</style>\n",
       "<table border=\"1\" class=\"dataframe\">\n",
       "  <thead>\n",
       "    <tr style=\"text-align: right;\">\n",
       "      <th></th>\n",
       "      <th>ruc</th>\n",
       "      <th>address</th>\n",
       "      <th>ruc_clean</th>\n",
       "    </tr>\n",
       "  </thead>\n",
       "  <tbody>\n",
       "    <tr>\n",
       "      <th>0</th>\n",
       "      <td>800000358</td>\n",
       "      <td>123 Pine Ave.</td>\n",
       "      <td>800000358</td>\n",
       "    </tr>\n",
       "    <tr>\n",
       "      <th>1</th>\n",
       "      <td>80123456789</td>\n",
       "      <td>main st</td>\n",
       "      <td>NaN</td>\n",
       "    </tr>\n",
       "    <tr>\n",
       "      <th>2</th>\n",
       "      <td>51824753556</td>\n",
       "      <td>1234 west main heights 57033</td>\n",
       "      <td>NaN</td>\n",
       "    </tr>\n",
       "    <tr>\n",
       "      <th>3</th>\n",
       "      <td>51 824 753 556</td>\n",
       "      <td>apt 1 789 s maple rd manhattan</td>\n",
       "      <td>NaN</td>\n",
       "    </tr>\n",
       "    <tr>\n",
       "      <th>4</th>\n",
       "      <td>hello</td>\n",
       "      <td>robie house, 789 north main street</td>\n",
       "      <td>NaN</td>\n",
       "    </tr>\n",
       "    <tr>\n",
       "      <th>5</th>\n",
       "      <td>NaN</td>\n",
       "      <td>(staples center) 1111 S Figueroa St, Los Angeles</td>\n",
       "      <td>NaN</td>\n",
       "    </tr>\n",
       "    <tr>\n",
       "      <th>6</th>\n",
       "      <td>NULL</td>\n",
       "      <td>hello</td>\n",
       "      <td>NaN</td>\n",
       "    </tr>\n",
       "  </tbody>\n",
       "</table>\n",
       "</div>"
      ],
      "text/plain": [
       "              ruc                                           address  ruc_clean\n",
       "0       800000358                                     123 Pine Ave.  800000358\n",
       "1     80123456789                                           main st        NaN\n",
       "2     51824753556                      1234 west main heights 57033        NaN\n",
       "3  51 824 753 556                    apt 1 789 s maple rd manhattan        NaN\n",
       "4           hello                robie house, 789 north main street        NaN\n",
       "5             NaN  (staples center) 1111 S Figueroa St, Los Angeles        NaN\n",
       "6            NULL                                             hello        NaN"
      ]
     },
     "execution_count": 1,
     "metadata": {},
     "output_type": "execute_result"
    }
   ],
   "source": [
    "clean_py_ruc(df, column = \"ruc\", output_format=\"compact\")"
   ]
  },
  {
   "cell_type": "markdown",
   "id": "centered-blues",
   "metadata": {},
   "source": [
    "## 3. `inplace` parameter\n",
    "\n",
    "This deletes the given column from the returned DataFrame. \n",
    "A new column containing cleaned RUC strings is added with a title in the format `\"{original title}_clean\"`."
   ]
  },
  {
   "cell_type": "code",
   "execution_count": 5,
   "id": "absent-sampling",
   "metadata": {
    "execution": {
     "iopub.execute_input": "2021-10-30T05:23:49.524353Z",
     "iopub.status.busy": "2021-10-30T05:23:49.515211Z",
     "iopub.status.idle": "2021-10-30T05:23:49.528983Z",
     "shell.execute_reply": "2021-10-30T05:23:49.528519Z"
    }
   },
   "outputs": [
    {
     "data": {
      "text/html": [
       "<div>\n",
       "<style scoped>\n",
       "    .dataframe tbody tr th:only-of-type {\n",
       "        vertical-align: middle;\n",
       "    }\n",
       "\n",
       "    .dataframe tbody tr th {\n",
       "        vertical-align: top;\n",
       "    }\n",
       "\n",
       "    .dataframe thead th {\n",
       "        text-align: right;\n",
       "    }\n",
       "</style>\n",
       "<table border=\"1\" class=\"dataframe\">\n",
       "  <thead>\n",
       "    <tr style=\"text-align: right;\">\n",
       "      <th></th>\n",
       "      <th>ruc_clean</th>\n",
       "      <th>address</th>\n",
       "    </tr>\n",
       "  </thead>\n",
       "  <tbody>\n",
       "    <tr>\n",
       "      <th>0</th>\n",
       "      <td>80000035-8</td>\n",
       "      <td>123 Pine Ave.</td>\n",
       "    </tr>\n",
       "    <tr>\n",
       "      <th>1</th>\n",
       "      <td>NaN</td>\n",
       "      <td>main st</td>\n",
       "    </tr>\n",
       "    <tr>\n",
       "      <th>2</th>\n",
       "      <td>NaN</td>\n",
       "      <td>1234 west main heights 57033</td>\n",
       "    </tr>\n",
       "    <tr>\n",
       "      <th>3</th>\n",
       "      <td>NaN</td>\n",
       "      <td>apt 1 789 s maple rd manhattan</td>\n",
       "    </tr>\n",
       "    <tr>\n",
       "      <th>4</th>\n",
       "      <td>NaN</td>\n",
       "      <td>robie house, 789 north main street</td>\n",
       "    </tr>\n",
       "    <tr>\n",
       "      <th>5</th>\n",
       "      <td>NaN</td>\n",
       "      <td>(staples center) 1111 S Figueroa St, Los Angeles</td>\n",
       "    </tr>\n",
       "    <tr>\n",
       "      <th>6</th>\n",
       "      <td>NaN</td>\n",
       "      <td>hello</td>\n",
       "    </tr>\n",
       "  </tbody>\n",
       "</table>\n",
       "</div>"
      ],
      "text/plain": [
       "    ruc_clean                                           address\n",
       "0  80000035-8                                     123 Pine Ave.\n",
       "1         NaN                                           main st\n",
       "2         NaN                      1234 west main heights 57033\n",
       "3         NaN                    apt 1 789 s maple rd manhattan\n",
       "4         NaN                robie house, 789 north main street\n",
       "5         NaN  (staples center) 1111 S Figueroa St, Los Angeles\n",
       "6         NaN                                             hello"
      ]
     },
     "execution_count": 1,
     "metadata": {},
     "output_type": "execute_result"
    }
   ],
   "source": [
    "clean_py_ruc(df, column=\"ruc\", inplace=True)"
   ]
  },
  {
   "cell_type": "markdown",
   "id": "addressed-internship",
   "metadata": {},
   "source": [
    "## 4. `errors` parameter"
   ]
  },
  {
   "cell_type": "markdown",
   "id": "fifth-mountain",
   "metadata": {},
   "source": [
    "### `coerce` (default)"
   ]
  },
  {
   "cell_type": "code",
   "execution_count": 6,
   "id": "wired-myanmar",
   "metadata": {
    "execution": {
     "iopub.execute_input": "2021-10-30T05:23:49.551131Z",
     "iopub.status.busy": "2021-10-30T05:23:49.548765Z",
     "iopub.status.idle": "2021-10-30T05:23:49.560018Z",
     "shell.execute_reply": "2021-10-30T05:23:49.560413Z"
    }
   },
   "outputs": [
    {
     "data": {
      "text/html": [
       "<div>\n",
       "<style scoped>\n",
       "    .dataframe tbody tr th:only-of-type {\n",
       "        vertical-align: middle;\n",
       "    }\n",
       "\n",
       "    .dataframe tbody tr th {\n",
       "        vertical-align: top;\n",
       "    }\n",
       "\n",
       "    .dataframe thead th {\n",
       "        text-align: right;\n",
       "    }\n",
       "</style>\n",
       "<table border=\"1\" class=\"dataframe\">\n",
       "  <thead>\n",
       "    <tr style=\"text-align: right;\">\n",
       "      <th></th>\n",
       "      <th>ruc</th>\n",
       "      <th>address</th>\n",
       "      <th>ruc_clean</th>\n",
       "    </tr>\n",
       "  </thead>\n",
       "  <tbody>\n",
       "    <tr>\n",
       "      <th>0</th>\n",
       "      <td>800000358</td>\n",
       "      <td>123 Pine Ave.</td>\n",
       "      <td>80000035-8</td>\n",
       "    </tr>\n",
       "    <tr>\n",
       "      <th>1</th>\n",
       "      <td>80123456789</td>\n",
       "      <td>main st</td>\n",
       "      <td>NaN</td>\n",
       "    </tr>\n",
       "    <tr>\n",
       "      <th>2</th>\n",
       "      <td>51824753556</td>\n",
       "      <td>1234 west main heights 57033</td>\n",
       "      <td>NaN</td>\n",
       "    </tr>\n",
       "    <tr>\n",
       "      <th>3</th>\n",
       "      <td>51 824 753 556</td>\n",
       "      <td>apt 1 789 s maple rd manhattan</td>\n",
       "      <td>NaN</td>\n",
       "    </tr>\n",
       "    <tr>\n",
       "      <th>4</th>\n",
       "      <td>hello</td>\n",
       "      <td>robie house, 789 north main street</td>\n",
       "      <td>NaN</td>\n",
       "    </tr>\n",
       "    <tr>\n",
       "      <th>5</th>\n",
       "      <td>NaN</td>\n",
       "      <td>(staples center) 1111 S Figueroa St, Los Angeles</td>\n",
       "      <td>NaN</td>\n",
       "    </tr>\n",
       "    <tr>\n",
       "      <th>6</th>\n",
       "      <td>NULL</td>\n",
       "      <td>hello</td>\n",
       "      <td>NaN</td>\n",
       "    </tr>\n",
       "  </tbody>\n",
       "</table>\n",
       "</div>"
      ],
      "text/plain": [
       "              ruc                                           address  \\\n",
       "0       800000358                                     123 Pine Ave.   \n",
       "1     80123456789                                           main st   \n",
       "2     51824753556                      1234 west main heights 57033   \n",
       "3  51 824 753 556                    apt 1 789 s maple rd manhattan   \n",
       "4           hello                robie house, 789 north main street   \n",
       "5             NaN  (staples center) 1111 S Figueroa St, Los Angeles   \n",
       "6            NULL                                             hello   \n",
       "\n",
       "    ruc_clean  \n",
       "0  80000035-8  \n",
       "1         NaN  \n",
       "2         NaN  \n",
       "3         NaN  \n",
       "4         NaN  \n",
       "5         NaN  \n",
       "6         NaN  "
      ]
     },
     "execution_count": 1,
     "metadata": {},
     "output_type": "execute_result"
    }
   ],
   "source": [
    "clean_py_ruc(df, \"ruc\", errors=\"coerce\")"
   ]
  },
  {
   "cell_type": "markdown",
   "id": "ranking-sudan",
   "metadata": {},
   "source": [
    "### `ignore`"
   ]
  },
  {
   "cell_type": "code",
   "execution_count": 7,
   "id": "resident-necklace",
   "metadata": {
    "execution": {
     "iopub.execute_input": "2021-10-30T05:23:49.578377Z",
     "iopub.status.busy": "2021-10-30T05:23:49.567415Z",
     "iopub.status.idle": "2021-10-30T05:23:49.590325Z",
     "shell.execute_reply": "2021-10-30T05:23:49.589670Z"
    }
   },
   "outputs": [
    {
     "data": {
      "text/html": [
       "<div>\n",
       "<style scoped>\n",
       "    .dataframe tbody tr th:only-of-type {\n",
       "        vertical-align: middle;\n",
       "    }\n",
       "\n",
       "    .dataframe tbody tr th {\n",
       "        vertical-align: top;\n",
       "    }\n",
       "\n",
       "    .dataframe thead th {\n",
       "        text-align: right;\n",
       "    }\n",
       "</style>\n",
       "<table border=\"1\" class=\"dataframe\">\n",
       "  <thead>\n",
       "    <tr style=\"text-align: right;\">\n",
       "      <th></th>\n",
       "      <th>ruc</th>\n",
       "      <th>address</th>\n",
       "      <th>ruc_clean</th>\n",
       "    </tr>\n",
       "  </thead>\n",
       "  <tbody>\n",
       "    <tr>\n",
       "      <th>0</th>\n",
       "      <td>800000358</td>\n",
       "      <td>123 Pine Ave.</td>\n",
       "      <td>80000035-8</td>\n",
       "    </tr>\n",
       "    <tr>\n",
       "      <th>1</th>\n",
       "      <td>80123456789</td>\n",
       "      <td>main st</td>\n",
       "      <td>80123456789</td>\n",
       "    </tr>\n",
       "    <tr>\n",
       "      <th>2</th>\n",
       "      <td>51824753556</td>\n",
       "      <td>1234 west main heights 57033</td>\n",
       "      <td>51824753556</td>\n",
       "    </tr>\n",
       "    <tr>\n",
       "      <th>3</th>\n",
       "      <td>51 824 753 556</td>\n",
       "      <td>apt 1 789 s maple rd manhattan</td>\n",
       "      <td>51 824 753 556</td>\n",
       "    </tr>\n",
       "    <tr>\n",
       "      <th>4</th>\n",
       "      <td>hello</td>\n",
       "      <td>robie house, 789 north main street</td>\n",
       "      <td>hello</td>\n",
       "    </tr>\n",
       "    <tr>\n",
       "      <th>5</th>\n",
       "      <td>NaN</td>\n",
       "      <td>(staples center) 1111 S Figueroa St, Los Angeles</td>\n",
       "      <td>NaN</td>\n",
       "    </tr>\n",
       "    <tr>\n",
       "      <th>6</th>\n",
       "      <td>NULL</td>\n",
       "      <td>hello</td>\n",
       "      <td>NaN</td>\n",
       "    </tr>\n",
       "  </tbody>\n",
       "</table>\n",
       "</div>"
      ],
      "text/plain": [
       "              ruc                                           address  \\\n",
       "0       800000358                                     123 Pine Ave.   \n",
       "1     80123456789                                           main st   \n",
       "2     51824753556                      1234 west main heights 57033   \n",
       "3  51 824 753 556                    apt 1 789 s maple rd manhattan   \n",
       "4           hello                robie house, 789 north main street   \n",
       "5             NaN  (staples center) 1111 S Figueroa St, Los Angeles   \n",
       "6            NULL                                             hello   \n",
       "\n",
       "        ruc_clean  \n",
       "0      80000035-8  \n",
       "1     80123456789  \n",
       "2     51824753556  \n",
       "3  51 824 753 556  \n",
       "4           hello  \n",
       "5             NaN  \n",
       "6             NaN  "
      ]
     },
     "execution_count": 1,
     "metadata": {},
     "output_type": "execute_result"
    }
   ],
   "source": [
    "clean_py_ruc(df, \"ruc\", errors=\"ignore\")"
   ]
  },
  {
   "cell_type": "markdown",
   "id": "organizational-diamond",
   "metadata": {},
   "source": [
    "## 4. `validate_py_ruc()`"
   ]
  },
  {
   "cell_type": "markdown",
   "id": "latest-eleven",
   "metadata": {},
   "source": [
    "`validate_py_ruc()` returns `True` when the input is a valid RUC. Otherwise it returns `False`.\n",
    "\n",
    "The input of `validate_py_ruc()` can be a string, a Pandas DataSeries, a Dask DataSeries, a Pandas DataFrame and a dask DataFrame.\n",
    "\n",
    "When the input is a string, a Pandas DataSeries or a Dask DataSeries, user doesn't need to specify a column name to be validated. \n",
    "\n",
    "When the input is a Pandas DataFrame or a dask DataFrame, user can both specify or not specify a column name to be validated. If user specify the column name, `validate_py_ruc()` only returns the validation result for the specified column. If user doesn't specify the column name, `validate_py_ruc()` returns the validation result for the whole DataFrame."
   ]
  },
  {
   "cell_type": "code",
   "execution_count": 8,
   "id": "tired-lewis",
   "metadata": {
    "execution": {
     "iopub.execute_input": "2021-10-30T05:23:49.594975Z",
     "iopub.status.busy": "2021-10-30T05:23:49.594070Z",
     "iopub.status.idle": "2021-10-30T05:23:49.598059Z",
     "shell.execute_reply": "2021-10-30T05:23:49.598480Z"
    }
   },
   "outputs": [
    {
     "name": "stdout",
     "output_type": "stream",
     "text": [
      "True\n",
      "False\n",
      "False\n",
      "False\n",
      "False\n",
      "False\n",
      "False\n"
     ]
    }
   ],
   "source": [
    "from dataprep.clean import validate_py_ruc\n",
    "print(validate_py_ruc(\"800000358\"))\n",
    "print(validate_py_ruc(\"80123456789\"))\n",
    "print(validate_py_ruc(\"51824753556\"))\n",
    "print(validate_py_ruc(\"51 824 753 556\"))\n",
    "print(validate_py_ruc(\"hello\"))\n",
    "print(validate_py_ruc(np.nan))\n",
    "print(validate_py_ruc(\"NULL\"))"
   ]
  },
  {
   "cell_type": "markdown",
   "id": "binary-disney",
   "metadata": {},
   "source": [
    "### Series"
   ]
  },
  {
   "cell_type": "code",
   "execution_count": 9,
   "id": "published-ecology",
   "metadata": {
    "execution": {
     "iopub.execute_input": "2021-10-30T05:23:49.603194Z",
     "iopub.status.busy": "2021-10-30T05:23:49.602651Z",
     "iopub.status.idle": "2021-10-30T05:23:49.605939Z",
     "shell.execute_reply": "2021-10-30T05:23:49.605539Z"
    }
   },
   "outputs": [
    {
     "data": {
      "text/plain": [
       "0     True\n",
       "1    False\n",
       "2    False\n",
       "3    False\n",
       "4    False\n",
       "5    False\n",
       "6    False\n",
       "Name: ruc, dtype: bool"
      ]
     },
     "execution_count": 1,
     "metadata": {},
     "output_type": "execute_result"
    }
   ],
   "source": [
    "validate_py_ruc(df[\"ruc\"])"
   ]
  },
  {
   "cell_type": "markdown",
   "id": "congressional-charlotte",
   "metadata": {},
   "source": [
    "### DataFrame + Specify Column"
   ]
  },
  {
   "cell_type": "code",
   "execution_count": 10,
   "id": "suitable-dakota",
   "metadata": {
    "execution": {
     "iopub.execute_input": "2021-10-30T05:23:49.610766Z",
     "iopub.status.busy": "2021-10-30T05:23:49.610276Z",
     "iopub.status.idle": "2021-10-30T05:23:49.612582Z",
     "shell.execute_reply": "2021-10-30T05:23:49.612993Z"
    }
   },
   "outputs": [
    {
     "data": {
      "text/plain": [
       "0     True\n",
       "1    False\n",
       "2    False\n",
       "3    False\n",
       "4    False\n",
       "5    False\n",
       "6    False\n",
       "Name: ruc, dtype: bool"
      ]
     },
     "execution_count": 1,
     "metadata": {},
     "output_type": "execute_result"
    }
   ],
   "source": [
    "validate_py_ruc(df, column=\"ruc\")"
   ]
  },
  {
   "cell_type": "markdown",
   "id": "white-absence",
   "metadata": {},
   "source": [
    "### Only DataFrame"
   ]
  },
  {
   "cell_type": "code",
   "execution_count": 11,
   "id": "yellow-roulette",
   "metadata": {
    "execution": {
     "iopub.execute_input": "2021-10-30T05:23:49.620979Z",
     "iopub.status.busy": "2021-10-30T05:23:49.615652Z",
     "iopub.status.idle": "2021-10-30T05:23:49.622905Z",
     "shell.execute_reply": "2021-10-30T05:23:49.623305Z"
    }
   },
   "outputs": [
    {
     "data": {
      "text/html": [
       "<div>\n",
       "<style scoped>\n",
       "    .dataframe tbody tr th:only-of-type {\n",
       "        vertical-align: middle;\n",
       "    }\n",
       "\n",
       "    .dataframe tbody tr th {\n",
       "        vertical-align: top;\n",
       "    }\n",
       "\n",
       "    .dataframe thead th {\n",
       "        text-align: right;\n",
       "    }\n",
       "</style>\n",
       "<table border=\"1\" class=\"dataframe\">\n",
       "  <thead>\n",
       "    <tr style=\"text-align: right;\">\n",
       "      <th></th>\n",
       "      <th>ruc</th>\n",
       "      <th>address</th>\n",
       "    </tr>\n",
       "  </thead>\n",
       "  <tbody>\n",
       "    <tr>\n",
       "      <th>0</th>\n",
       "      <td>True</td>\n",
       "      <td>False</td>\n",
       "    </tr>\n",
       "    <tr>\n",
       "      <th>1</th>\n",
       "      <td>False</td>\n",
       "      <td>False</td>\n",
       "    </tr>\n",
       "    <tr>\n",
       "      <th>2</th>\n",
       "      <td>False</td>\n",
       "      <td>False</td>\n",
       "    </tr>\n",
       "    <tr>\n",
       "      <th>3</th>\n",
       "      <td>False</td>\n",
       "      <td>False</td>\n",
       "    </tr>\n",
       "    <tr>\n",
       "      <th>4</th>\n",
       "      <td>False</td>\n",
       "      <td>False</td>\n",
       "    </tr>\n",
       "    <tr>\n",
       "      <th>5</th>\n",
       "      <td>False</td>\n",
       "      <td>False</td>\n",
       "    </tr>\n",
       "    <tr>\n",
       "      <th>6</th>\n",
       "      <td>False</td>\n",
       "      <td>False</td>\n",
       "    </tr>\n",
       "  </tbody>\n",
       "</table>\n",
       "</div>"
      ],
      "text/plain": [
       "     ruc  address\n",
       "0   True    False\n",
       "1  False    False\n",
       "2  False    False\n",
       "3  False    False\n",
       "4  False    False\n",
       "5  False    False\n",
       "6  False    False"
      ]
     },
     "execution_count": 1,
     "metadata": {},
     "output_type": "execute_result"
    }
   ],
   "source": [
    "validate_py_ruc(df)"
   ]
  },
  {
   "cell_type": "code",
   "execution_count": null,
   "id": "other-regard",
   "metadata": {},
   "outputs": [],
   "source": []
  }
 ],
 "metadata": {
  "kernelspec": {
   "display_name": "Python 3",
   "language": "python",
   "name": "python3"
  },
  "language_info": {
   "codemirror_mode": {
    "name": "ipython",
    "version": 3
   },
   "file_extension": ".py",
   "mimetype": "text/x-python",
   "name": "python",
   "nbconvert_exporter": "python",
   "pygments_lexer": "ipython3",
   "version": "3.8.10"
  }
 },
 "nbformat": 4,
 "nbformat_minor": 5
}
