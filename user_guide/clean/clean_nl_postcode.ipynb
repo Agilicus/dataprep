{
 "cells": [
  {
   "cell_type": "raw",
   "id": "understanding-recall",
   "metadata": {},
   "source": [
    ".. _postcode_userguide:\n",
    "\n",
    "postcode Strings\n",
    "============"
   ]
  },
  {
   "cell_type": "raw",
   "id": "found-illness",
   "metadata": {},
   "source": [
    "Introduction\n",
    "------------\n",
    "\n",
    "The function :func:`clean_nl_postcode() <dataprep.clean.clean_nl_postcode.clean_nl_postcode>` cleans a column containing Dutch postal codes strings, and standardizes them in a given format. The function :func:`validate_nl_postcode() <dataprep.clean.clean_nl_postcode.validate_nl_postcode>` validates either a single postcode strings, a column of postcode strings or a DataFrame of postcode strings, returning `True` if the value is valid, and `False` otherwise."
   ]
  },
  {
   "cell_type": "markdown",
   "id": "charitable-shannon",
   "metadata": {},
   "source": [
    "postcode strings can be converted to the following formats via the `output_format` parameter:\n",
    "\n",
    "* `compact`: only number strings without any seperators or whitespace, like \"2611ET\"\n",
    "* `standard`: postcode strings with proper whitespace in the proper places. Note that in the case of postcode, the compact format is the same as the standard one.\n",
    "\n",
    "Invalid parsing is handled with the `errors` parameter:\n",
    "\n",
    "* `coerce` (default): invalid parsing will be set to NaN\n",
    "* `ignore`: invalid parsing will return the input\n",
    "* `raise`: invalid parsing will raise an exception\n",
    "\n",
    "The following sections demonstrate the functionality of `clean_nl_postcode()` and `validate_nl_postcode()`. "
   ]
  },
  {
   "cell_type": "markdown",
   "id": "induced-oliver",
   "metadata": {},
   "source": [
    "### An example dataset containing postcode strings"
   ]
  },
  {
   "cell_type": "code",
   "execution_count": 1,
   "id": "forbidden-funds",
   "metadata": {
    "execution": {
     "iopub.execute_input": "2021-10-26T23:41:29.516552Z",
     "iopub.status.busy": "2021-10-26T23:41:29.515901Z",
     "iopub.status.idle": "2021-10-26T23:41:29.815007Z",
     "shell.execute_reply": "2021-10-26T23:41:29.814329Z"
    }
   },
   "outputs": [
    {
     "data": {
      "text/html": [
       "<div>\n",
       "<style scoped>\n",
       "    .dataframe tbody tr th:only-of-type {\n",
       "        vertical-align: middle;\n",
       "    }\n",
       "\n",
       "    .dataframe tbody tr th {\n",
       "        vertical-align: top;\n",
       "    }\n",
       "\n",
       "    .dataframe thead th {\n",
       "        text-align: right;\n",
       "    }\n",
       "</style>\n",
       "<table border=\"1\" class=\"dataframe\">\n",
       "  <thead>\n",
       "    <tr style=\"text-align: right;\">\n",
       "      <th></th>\n",
       "      <th>postcode</th>\n",
       "      <th>address</th>\n",
       "    </tr>\n",
       "  </thead>\n",
       "  <tbody>\n",
       "    <tr>\n",
       "      <th>0</th>\n",
       "      <td>NL-2611ET</td>\n",
       "      <td>123 Pine Ave.</td>\n",
       "    </tr>\n",
       "    <tr>\n",
       "      <th>1</th>\n",
       "      <td>26112 ET</td>\n",
       "      <td>main st</td>\n",
       "    </tr>\n",
       "    <tr>\n",
       "      <th>2</th>\n",
       "      <td>BE 428759497</td>\n",
       "      <td>1234 west main heights 57033</td>\n",
       "    </tr>\n",
       "    <tr>\n",
       "      <th>3</th>\n",
       "      <td>BE431150351</td>\n",
       "      <td>apt 1 789 s maple rd manhattan</td>\n",
       "    </tr>\n",
       "    <tr>\n",
       "      <th>4</th>\n",
       "      <td>002 724 334</td>\n",
       "      <td>robie house, 789 north main street</td>\n",
       "    </tr>\n",
       "    <tr>\n",
       "      <th>5</th>\n",
       "      <td>hello</td>\n",
       "      <td>1111 S Figueroa St, Los Angeles, CA 90015</td>\n",
       "    </tr>\n",
       "    <tr>\n",
       "      <th>6</th>\n",
       "      <td>NaN</td>\n",
       "      <td>(staples center) 1111 S Figueroa St, Los Angeles</td>\n",
       "    </tr>\n",
       "    <tr>\n",
       "      <th>7</th>\n",
       "      <td>NULL</td>\n",
       "      <td>hello</td>\n",
       "    </tr>\n",
       "  </tbody>\n",
       "</table>\n",
       "</div>"
      ],
      "text/plain": [
       "       postcode                                           address\n",
       "0     NL-2611ET                                     123 Pine Ave.\n",
       "1      26112 ET                                           main st\n",
       "2  BE 428759497                      1234 west main heights 57033\n",
       "3   BE431150351                    apt 1 789 s maple rd manhattan\n",
       "4   002 724 334                robie house, 789 north main street\n",
       "5         hello         1111 S Figueroa St, Los Angeles, CA 90015\n",
       "6           NaN  (staples center) 1111 S Figueroa St, Los Angeles\n",
       "7          NULL                                             hello"
      ]
     },
     "execution_count": 1,
     "metadata": {},
     "output_type": "execute_result"
    }
   ],
   "source": [
    "import pandas as pd\n",
    "import numpy as np\n",
    "df = pd.DataFrame(\n",
    "    {\n",
    "        \"postcode\": [\n",
    "            'NL-2611ET',\n",
    "            '26112 ET',\n",
    "            'BE 428759497',\n",
    "            'BE431150351',\n",
    "            \"002 724 334\",\n",
    "            \"hello\",\n",
    "            np.nan,\n",
    "            \"NULL\",\n",
    "        ], \n",
    "        \"address\": [\n",
    "            \"123 Pine Ave.\",\n",
    "            \"main st\",\n",
    "            \"1234 west main heights 57033\",\n",
    "            \"apt 1 789 s maple rd manhattan\",\n",
    "            \"robie house, 789 north main street\",\n",
    "            \"1111 S Figueroa St, Los Angeles, CA 90015\",\n",
    "            \"(staples center) 1111 S Figueroa St, Los Angeles\",\n",
    "            \"hello\",\n",
    "        ]\n",
    "    }\n",
    ")\n",
    "df"
   ]
  },
  {
   "cell_type": "markdown",
   "id": "ideal-intro",
   "metadata": {},
   "source": [
    "## 1. Default `clean_nl_postcode`\n",
    "\n",
    "By default, `clean_nl_postcode` will clean postcode strings and output them in the standard format with proper separators."
   ]
  },
  {
   "cell_type": "code",
   "execution_count": 2,
   "id": "theoretical-establishment",
   "metadata": {
    "execution": {
     "iopub.execute_input": "2021-10-26T23:41:29.820233Z",
     "iopub.status.busy": "2021-10-26T23:41:29.819630Z",
     "iopub.status.idle": "2021-10-26T23:41:30.594149Z",
     "shell.execute_reply": "2021-10-26T23:41:30.594643Z"
    }
   },
   "outputs": [
    {
     "data": {
      "text/html": [
       "<div>\n",
       "<style scoped>\n",
       "    .dataframe tbody tr th:only-of-type {\n",
       "        vertical-align: middle;\n",
       "    }\n",
       "\n",
       "    .dataframe tbody tr th {\n",
       "        vertical-align: top;\n",
       "    }\n",
       "\n",
       "    .dataframe thead th {\n",
       "        text-align: right;\n",
       "    }\n",
       "</style>\n",
       "<table border=\"1\" class=\"dataframe\">\n",
       "  <thead>\n",
       "    <tr style=\"text-align: right;\">\n",
       "      <th></th>\n",
       "      <th>postcode</th>\n",
       "      <th>address</th>\n",
       "      <th>postcode_clean</th>\n",
       "    </tr>\n",
       "  </thead>\n",
       "  <tbody>\n",
       "    <tr>\n",
       "      <th>0</th>\n",
       "      <td>NL-2611ET</td>\n",
       "      <td>123 Pine Ave.</td>\n",
       "      <td>2611ET</td>\n",
       "    </tr>\n",
       "    <tr>\n",
       "      <th>1</th>\n",
       "      <td>26112 ET</td>\n",
       "      <td>main st</td>\n",
       "      <td>NaN</td>\n",
       "    </tr>\n",
       "    <tr>\n",
       "      <th>2</th>\n",
       "      <td>BE 428759497</td>\n",
       "      <td>1234 west main heights 57033</td>\n",
       "      <td>NaN</td>\n",
       "    </tr>\n",
       "    <tr>\n",
       "      <th>3</th>\n",
       "      <td>BE431150351</td>\n",
       "      <td>apt 1 789 s maple rd manhattan</td>\n",
       "      <td>NaN</td>\n",
       "    </tr>\n",
       "    <tr>\n",
       "      <th>4</th>\n",
       "      <td>002 724 334</td>\n",
       "      <td>robie house, 789 north main street</td>\n",
       "      <td>NaN</td>\n",
       "    </tr>\n",
       "    <tr>\n",
       "      <th>5</th>\n",
       "      <td>hello</td>\n",
       "      <td>1111 S Figueroa St, Los Angeles, CA 90015</td>\n",
       "      <td>NaN</td>\n",
       "    </tr>\n",
       "    <tr>\n",
       "      <th>6</th>\n",
       "      <td>NaN</td>\n",
       "      <td>(staples center) 1111 S Figueroa St, Los Angeles</td>\n",
       "      <td>NaN</td>\n",
       "    </tr>\n",
       "    <tr>\n",
       "      <th>7</th>\n",
       "      <td>NULL</td>\n",
       "      <td>hello</td>\n",
       "      <td>NaN</td>\n",
       "    </tr>\n",
       "  </tbody>\n",
       "</table>\n",
       "</div>"
      ],
      "text/plain": [
       "       postcode                                           address  \\\n",
       "0     NL-2611ET                                     123 Pine Ave.   \n",
       "1      26112 ET                                           main st   \n",
       "2  BE 428759497                      1234 west main heights 57033   \n",
       "3   BE431150351                    apt 1 789 s maple rd manhattan   \n",
       "4   002 724 334                robie house, 789 north main street   \n",
       "5         hello         1111 S Figueroa St, Los Angeles, CA 90015   \n",
       "6           NaN  (staples center) 1111 S Figueroa St, Los Angeles   \n",
       "7          NULL                                             hello   \n",
       "\n",
       "  postcode_clean  \n",
       "0         2611ET  \n",
       "1            NaN  \n",
       "2            NaN  \n",
       "3            NaN  \n",
       "4            NaN  \n",
       "5            NaN  \n",
       "6            NaN  \n",
       "7            NaN  "
      ]
     },
     "execution_count": 1,
     "metadata": {},
     "output_type": "execute_result"
    }
   ],
   "source": [
    "from dataprep.clean import clean_nl_postcode\n",
    "clean_nl_postcode(df, column = \"postcode\")"
   ]
  },
  {
   "cell_type": "markdown",
   "id": "double-seven",
   "metadata": {},
   "source": [
    "## 2. Output formats"
   ]
  },
  {
   "cell_type": "markdown",
   "id": "liked-conversation",
   "metadata": {},
   "source": [
    "This section demonstrates the output parameter."
   ]
  },
  {
   "cell_type": "markdown",
   "id": "north-static",
   "metadata": {},
   "source": [
    "### `standard` (default)"
   ]
  },
  {
   "cell_type": "code",
   "execution_count": 3,
   "id": "attempted-greene",
   "metadata": {
    "execution": {
     "iopub.execute_input": "2021-10-26T23:41:30.623974Z",
     "iopub.status.busy": "2021-10-26T23:41:30.620098Z",
     "iopub.status.idle": "2021-10-26T23:41:30.635962Z",
     "shell.execute_reply": "2021-10-26T23:41:30.636582Z"
    }
   },
   "outputs": [
    {
     "data": {
      "text/html": [
       "<div>\n",
       "<style scoped>\n",
       "    .dataframe tbody tr th:only-of-type {\n",
       "        vertical-align: middle;\n",
       "    }\n",
       "\n",
       "    .dataframe tbody tr th {\n",
       "        vertical-align: top;\n",
       "    }\n",
       "\n",
       "    .dataframe thead th {\n",
       "        text-align: right;\n",
       "    }\n",
       "</style>\n",
       "<table border=\"1\" class=\"dataframe\">\n",
       "  <thead>\n",
       "    <tr style=\"text-align: right;\">\n",
       "      <th></th>\n",
       "      <th>postcode</th>\n",
       "      <th>address</th>\n",
       "      <th>postcode_clean</th>\n",
       "    </tr>\n",
       "  </thead>\n",
       "  <tbody>\n",
       "    <tr>\n",
       "      <th>0</th>\n",
       "      <td>NL-2611ET</td>\n",
       "      <td>123 Pine Ave.</td>\n",
       "      <td>2611ET</td>\n",
       "    </tr>\n",
       "    <tr>\n",
       "      <th>1</th>\n",
       "      <td>26112 ET</td>\n",
       "      <td>main st</td>\n",
       "      <td>NaN</td>\n",
       "    </tr>\n",
       "    <tr>\n",
       "      <th>2</th>\n",
       "      <td>BE 428759497</td>\n",
       "      <td>1234 west main heights 57033</td>\n",
       "      <td>NaN</td>\n",
       "    </tr>\n",
       "    <tr>\n",
       "      <th>3</th>\n",
       "      <td>BE431150351</td>\n",
       "      <td>apt 1 789 s maple rd manhattan</td>\n",
       "      <td>NaN</td>\n",
       "    </tr>\n",
       "    <tr>\n",
       "      <th>4</th>\n",
       "      <td>002 724 334</td>\n",
       "      <td>robie house, 789 north main street</td>\n",
       "      <td>NaN</td>\n",
       "    </tr>\n",
       "    <tr>\n",
       "      <th>5</th>\n",
       "      <td>hello</td>\n",
       "      <td>1111 S Figueroa St, Los Angeles, CA 90015</td>\n",
       "      <td>NaN</td>\n",
       "    </tr>\n",
       "    <tr>\n",
       "      <th>6</th>\n",
       "      <td>NaN</td>\n",
       "      <td>(staples center) 1111 S Figueroa St, Los Angeles</td>\n",
       "      <td>NaN</td>\n",
       "    </tr>\n",
       "    <tr>\n",
       "      <th>7</th>\n",
       "      <td>NULL</td>\n",
       "      <td>hello</td>\n",
       "      <td>NaN</td>\n",
       "    </tr>\n",
       "  </tbody>\n",
       "</table>\n",
       "</div>"
      ],
      "text/plain": [
       "       postcode                                           address  \\\n",
       "0     NL-2611ET                                     123 Pine Ave.   \n",
       "1      26112 ET                                           main st   \n",
       "2  BE 428759497                      1234 west main heights 57033   \n",
       "3   BE431150351                    apt 1 789 s maple rd manhattan   \n",
       "4   002 724 334                robie house, 789 north main street   \n",
       "5         hello         1111 S Figueroa St, Los Angeles, CA 90015   \n",
       "6           NaN  (staples center) 1111 S Figueroa St, Los Angeles   \n",
       "7          NULL                                             hello   \n",
       "\n",
       "  postcode_clean  \n",
       "0         2611ET  \n",
       "1            NaN  \n",
       "2            NaN  \n",
       "3            NaN  \n",
       "4            NaN  \n",
       "5            NaN  \n",
       "6            NaN  \n",
       "7            NaN  "
      ]
     },
     "execution_count": 1,
     "metadata": {},
     "output_type": "execute_result"
    }
   ],
   "source": [
    "clean_nl_postcode(df, column = \"postcode\", output_format=\"standard\")"
   ]
  },
  {
   "cell_type": "markdown",
   "id": "underlying-software",
   "metadata": {},
   "source": [
    "### `compact`"
   ]
  },
  {
   "cell_type": "code",
   "execution_count": 4,
   "id": "beginning-press",
   "metadata": {
    "execution": {
     "iopub.execute_input": "2021-10-26T23:41:30.666397Z",
     "iopub.status.busy": "2021-10-26T23:41:30.665777Z",
     "iopub.status.idle": "2021-10-26T23:41:30.675724Z",
     "shell.execute_reply": "2021-10-26T23:41:30.675030Z"
    }
   },
   "outputs": [
    {
     "data": {
      "text/html": [
       "<div>\n",
       "<style scoped>\n",
       "    .dataframe tbody tr th:only-of-type {\n",
       "        vertical-align: middle;\n",
       "    }\n",
       "\n",
       "    .dataframe tbody tr th {\n",
       "        vertical-align: top;\n",
       "    }\n",
       "\n",
       "    .dataframe thead th {\n",
       "        text-align: right;\n",
       "    }\n",
       "</style>\n",
       "<table border=\"1\" class=\"dataframe\">\n",
       "  <thead>\n",
       "    <tr style=\"text-align: right;\">\n",
       "      <th></th>\n",
       "      <th>postcode</th>\n",
       "      <th>address</th>\n",
       "      <th>postcode_clean</th>\n",
       "    </tr>\n",
       "  </thead>\n",
       "  <tbody>\n",
       "    <tr>\n",
       "      <th>0</th>\n",
       "      <td>NL-2611ET</td>\n",
       "      <td>123 Pine Ave.</td>\n",
       "      <td>2611ET</td>\n",
       "    </tr>\n",
       "    <tr>\n",
       "      <th>1</th>\n",
       "      <td>26112 ET</td>\n",
       "      <td>main st</td>\n",
       "      <td>NaN</td>\n",
       "    </tr>\n",
       "    <tr>\n",
       "      <th>2</th>\n",
       "      <td>BE 428759497</td>\n",
       "      <td>1234 west main heights 57033</td>\n",
       "      <td>NaN</td>\n",
       "    </tr>\n",
       "    <tr>\n",
       "      <th>3</th>\n",
       "      <td>BE431150351</td>\n",
       "      <td>apt 1 789 s maple rd manhattan</td>\n",
       "      <td>NaN</td>\n",
       "    </tr>\n",
       "    <tr>\n",
       "      <th>4</th>\n",
       "      <td>002 724 334</td>\n",
       "      <td>robie house, 789 north main street</td>\n",
       "      <td>NaN</td>\n",
       "    </tr>\n",
       "    <tr>\n",
       "      <th>5</th>\n",
       "      <td>hello</td>\n",
       "      <td>1111 S Figueroa St, Los Angeles, CA 90015</td>\n",
       "      <td>NaN</td>\n",
       "    </tr>\n",
       "    <tr>\n",
       "      <th>6</th>\n",
       "      <td>NaN</td>\n",
       "      <td>(staples center) 1111 S Figueroa St, Los Angeles</td>\n",
       "      <td>NaN</td>\n",
       "    </tr>\n",
       "    <tr>\n",
       "      <th>7</th>\n",
       "      <td>NULL</td>\n",
       "      <td>hello</td>\n",
       "      <td>NaN</td>\n",
       "    </tr>\n",
       "  </tbody>\n",
       "</table>\n",
       "</div>"
      ],
      "text/plain": [
       "       postcode                                           address  \\\n",
       "0     NL-2611ET                                     123 Pine Ave.   \n",
       "1      26112 ET                                           main st   \n",
       "2  BE 428759497                      1234 west main heights 57033   \n",
       "3   BE431150351                    apt 1 789 s maple rd manhattan   \n",
       "4   002 724 334                robie house, 789 north main street   \n",
       "5         hello         1111 S Figueroa St, Los Angeles, CA 90015   \n",
       "6           NaN  (staples center) 1111 S Figueroa St, Los Angeles   \n",
       "7          NULL                                             hello   \n",
       "\n",
       "  postcode_clean  \n",
       "0         2611ET  \n",
       "1            NaN  \n",
       "2            NaN  \n",
       "3            NaN  \n",
       "4            NaN  \n",
       "5            NaN  \n",
       "6            NaN  \n",
       "7            NaN  "
      ]
     },
     "execution_count": 1,
     "metadata": {},
     "output_type": "execute_result"
    }
   ],
   "source": [
    "clean_nl_postcode(df, column = \"postcode\", output_format=\"compact\")"
   ]
  },
  {
   "cell_type": "markdown",
   "id": "numerous-norwegian",
   "metadata": {},
   "source": [
    "## 3. `inplace` parameter\n",
    "\n",
    "This deletes the given column from the returned DataFrame. \n",
    "A new column containing cleaned postcode strings is added with a title in the format `\"{original title}_clean\"`."
   ]
  },
  {
   "cell_type": "code",
   "execution_count": 5,
   "id": "chief-profile",
   "metadata": {
    "execution": {
     "iopub.execute_input": "2021-10-26T23:41:30.729473Z",
     "iopub.status.busy": "2021-10-26T23:41:30.728830Z",
     "iopub.status.idle": "2021-10-26T23:41:30.735875Z",
     "shell.execute_reply": "2021-10-26T23:41:30.734932Z"
    }
   },
   "outputs": [
    {
     "data": {
      "text/html": [
       "<div>\n",
       "<style scoped>\n",
       "    .dataframe tbody tr th:only-of-type {\n",
       "        vertical-align: middle;\n",
       "    }\n",
       "\n",
       "    .dataframe tbody tr th {\n",
       "        vertical-align: top;\n",
       "    }\n",
       "\n",
       "    .dataframe thead th {\n",
       "        text-align: right;\n",
       "    }\n",
       "</style>\n",
       "<table border=\"1\" class=\"dataframe\">\n",
       "  <thead>\n",
       "    <tr style=\"text-align: right;\">\n",
       "      <th></th>\n",
       "      <th>postcode_clean</th>\n",
       "      <th>address</th>\n",
       "    </tr>\n",
       "  </thead>\n",
       "  <tbody>\n",
       "    <tr>\n",
       "      <th>0</th>\n",
       "      <td>2611ET</td>\n",
       "      <td>123 Pine Ave.</td>\n",
       "    </tr>\n",
       "    <tr>\n",
       "      <th>1</th>\n",
       "      <td>NaN</td>\n",
       "      <td>main st</td>\n",
       "    </tr>\n",
       "    <tr>\n",
       "      <th>2</th>\n",
       "      <td>NaN</td>\n",
       "      <td>1234 west main heights 57033</td>\n",
       "    </tr>\n",
       "    <tr>\n",
       "      <th>3</th>\n",
       "      <td>NaN</td>\n",
       "      <td>apt 1 789 s maple rd manhattan</td>\n",
       "    </tr>\n",
       "    <tr>\n",
       "      <th>4</th>\n",
       "      <td>NaN</td>\n",
       "      <td>robie house, 789 north main street</td>\n",
       "    </tr>\n",
       "    <tr>\n",
       "      <th>5</th>\n",
       "      <td>NaN</td>\n",
       "      <td>1111 S Figueroa St, Los Angeles, CA 90015</td>\n",
       "    </tr>\n",
       "    <tr>\n",
       "      <th>6</th>\n",
       "      <td>NaN</td>\n",
       "      <td>(staples center) 1111 S Figueroa St, Los Angeles</td>\n",
       "    </tr>\n",
       "    <tr>\n",
       "      <th>7</th>\n",
       "      <td>NaN</td>\n",
       "      <td>hello</td>\n",
       "    </tr>\n",
       "  </tbody>\n",
       "</table>\n",
       "</div>"
      ],
      "text/plain": [
       "  postcode_clean                                           address\n",
       "0         2611ET                                     123 Pine Ave.\n",
       "1            NaN                                           main st\n",
       "2            NaN                      1234 west main heights 57033\n",
       "3            NaN                    apt 1 789 s maple rd manhattan\n",
       "4            NaN                robie house, 789 north main street\n",
       "5            NaN         1111 S Figueroa St, Los Angeles, CA 90015\n",
       "6            NaN  (staples center) 1111 S Figueroa St, Los Angeles\n",
       "7            NaN                                             hello"
      ]
     },
     "execution_count": 1,
     "metadata": {},
     "output_type": "execute_result"
    }
   ],
   "source": [
    "clean_nl_postcode(df, column=\"postcode\", inplace=True)"
   ]
  },
  {
   "cell_type": "markdown",
   "id": "consecutive-machinery",
   "metadata": {},
   "source": [
    "## 4. `errors` parameter"
   ]
  },
  {
   "cell_type": "markdown",
   "id": "crude-lingerie",
   "metadata": {},
   "source": [
    "### `coerce` (default)"
   ]
  },
  {
   "cell_type": "code",
   "execution_count": 6,
   "id": "possible-mainstream",
   "metadata": {
    "execution": {
     "iopub.execute_input": "2021-10-26T23:41:30.762324Z",
     "iopub.status.busy": "2021-10-26T23:41:30.759312Z",
     "iopub.status.idle": "2021-10-26T23:41:30.775058Z",
     "shell.execute_reply": "2021-10-26T23:41:30.775602Z"
    }
   },
   "outputs": [
    {
     "data": {
      "text/html": [
       "<div>\n",
       "<style scoped>\n",
       "    .dataframe tbody tr th:only-of-type {\n",
       "        vertical-align: middle;\n",
       "    }\n",
       "\n",
       "    .dataframe tbody tr th {\n",
       "        vertical-align: top;\n",
       "    }\n",
       "\n",
       "    .dataframe thead th {\n",
       "        text-align: right;\n",
       "    }\n",
       "</style>\n",
       "<table border=\"1\" class=\"dataframe\">\n",
       "  <thead>\n",
       "    <tr style=\"text-align: right;\">\n",
       "      <th></th>\n",
       "      <th>postcode</th>\n",
       "      <th>address</th>\n",
       "      <th>postcode_clean</th>\n",
       "    </tr>\n",
       "  </thead>\n",
       "  <tbody>\n",
       "    <tr>\n",
       "      <th>0</th>\n",
       "      <td>NL-2611ET</td>\n",
       "      <td>123 Pine Ave.</td>\n",
       "      <td>2611ET</td>\n",
       "    </tr>\n",
       "    <tr>\n",
       "      <th>1</th>\n",
       "      <td>26112 ET</td>\n",
       "      <td>main st</td>\n",
       "      <td>NaN</td>\n",
       "    </tr>\n",
       "    <tr>\n",
       "      <th>2</th>\n",
       "      <td>BE 428759497</td>\n",
       "      <td>1234 west main heights 57033</td>\n",
       "      <td>NaN</td>\n",
       "    </tr>\n",
       "    <tr>\n",
       "      <th>3</th>\n",
       "      <td>BE431150351</td>\n",
       "      <td>apt 1 789 s maple rd manhattan</td>\n",
       "      <td>NaN</td>\n",
       "    </tr>\n",
       "    <tr>\n",
       "      <th>4</th>\n",
       "      <td>002 724 334</td>\n",
       "      <td>robie house, 789 north main street</td>\n",
       "      <td>NaN</td>\n",
       "    </tr>\n",
       "    <tr>\n",
       "      <th>5</th>\n",
       "      <td>hello</td>\n",
       "      <td>1111 S Figueroa St, Los Angeles, CA 90015</td>\n",
       "      <td>NaN</td>\n",
       "    </tr>\n",
       "    <tr>\n",
       "      <th>6</th>\n",
       "      <td>NaN</td>\n",
       "      <td>(staples center) 1111 S Figueroa St, Los Angeles</td>\n",
       "      <td>NaN</td>\n",
       "    </tr>\n",
       "    <tr>\n",
       "      <th>7</th>\n",
       "      <td>NULL</td>\n",
       "      <td>hello</td>\n",
       "      <td>NaN</td>\n",
       "    </tr>\n",
       "  </tbody>\n",
       "</table>\n",
       "</div>"
      ],
      "text/plain": [
       "       postcode                                           address  \\\n",
       "0     NL-2611ET                                     123 Pine Ave.   \n",
       "1      26112 ET                                           main st   \n",
       "2  BE 428759497                      1234 west main heights 57033   \n",
       "3   BE431150351                    apt 1 789 s maple rd manhattan   \n",
       "4   002 724 334                robie house, 789 north main street   \n",
       "5         hello         1111 S Figueroa St, Los Angeles, CA 90015   \n",
       "6           NaN  (staples center) 1111 S Figueroa St, Los Angeles   \n",
       "7          NULL                                             hello   \n",
       "\n",
       "  postcode_clean  \n",
       "0         2611ET  \n",
       "1            NaN  \n",
       "2            NaN  \n",
       "3            NaN  \n",
       "4            NaN  \n",
       "5            NaN  \n",
       "6            NaN  \n",
       "7            NaN  "
      ]
     },
     "execution_count": 1,
     "metadata": {},
     "output_type": "execute_result"
    }
   ],
   "source": [
    "clean_nl_postcode(df, \"postcode\", errors=\"coerce\")"
   ]
  },
  {
   "cell_type": "markdown",
   "id": "final-sheet",
   "metadata": {},
   "source": [
    "### `ignore`"
   ]
  },
  {
   "cell_type": "code",
   "execution_count": 7,
   "id": "casual-given",
   "metadata": {
    "execution": {
     "iopub.execute_input": "2021-10-26T23:41:30.809696Z",
     "iopub.status.busy": "2021-10-26T23:41:30.802103Z",
     "iopub.status.idle": "2021-10-26T23:41:30.814798Z",
     "shell.execute_reply": "2021-10-26T23:41:30.815643Z"
    }
   },
   "outputs": [
    {
     "data": {
      "text/html": [
       "<div>\n",
       "<style scoped>\n",
       "    .dataframe tbody tr th:only-of-type {\n",
       "        vertical-align: middle;\n",
       "    }\n",
       "\n",
       "    .dataframe tbody tr th {\n",
       "        vertical-align: top;\n",
       "    }\n",
       "\n",
       "    .dataframe thead th {\n",
       "        text-align: right;\n",
       "    }\n",
       "</style>\n",
       "<table border=\"1\" class=\"dataframe\">\n",
       "  <thead>\n",
       "    <tr style=\"text-align: right;\">\n",
       "      <th></th>\n",
       "      <th>postcode</th>\n",
       "      <th>address</th>\n",
       "      <th>postcode_clean</th>\n",
       "    </tr>\n",
       "  </thead>\n",
       "  <tbody>\n",
       "    <tr>\n",
       "      <th>0</th>\n",
       "      <td>NL-2611ET</td>\n",
       "      <td>123 Pine Ave.</td>\n",
       "      <td>2611ET</td>\n",
       "    </tr>\n",
       "    <tr>\n",
       "      <th>1</th>\n",
       "      <td>26112 ET</td>\n",
       "      <td>main st</td>\n",
       "      <td>26112 ET</td>\n",
       "    </tr>\n",
       "    <tr>\n",
       "      <th>2</th>\n",
       "      <td>BE 428759497</td>\n",
       "      <td>1234 west main heights 57033</td>\n",
       "      <td>BE 428759497</td>\n",
       "    </tr>\n",
       "    <tr>\n",
       "      <th>3</th>\n",
       "      <td>BE431150351</td>\n",
       "      <td>apt 1 789 s maple rd manhattan</td>\n",
       "      <td>BE431150351</td>\n",
       "    </tr>\n",
       "    <tr>\n",
       "      <th>4</th>\n",
       "      <td>002 724 334</td>\n",
       "      <td>robie house, 789 north main street</td>\n",
       "      <td>002 724 334</td>\n",
       "    </tr>\n",
       "    <tr>\n",
       "      <th>5</th>\n",
       "      <td>hello</td>\n",
       "      <td>1111 S Figueroa St, Los Angeles, CA 90015</td>\n",
       "      <td>hello</td>\n",
       "    </tr>\n",
       "    <tr>\n",
       "      <th>6</th>\n",
       "      <td>NaN</td>\n",
       "      <td>(staples center) 1111 S Figueroa St, Los Angeles</td>\n",
       "      <td>NaN</td>\n",
       "    </tr>\n",
       "    <tr>\n",
       "      <th>7</th>\n",
       "      <td>NULL</td>\n",
       "      <td>hello</td>\n",
       "      <td>NaN</td>\n",
       "    </tr>\n",
       "  </tbody>\n",
       "</table>\n",
       "</div>"
      ],
      "text/plain": [
       "       postcode                                           address  \\\n",
       "0     NL-2611ET                                     123 Pine Ave.   \n",
       "1      26112 ET                                           main st   \n",
       "2  BE 428759497                      1234 west main heights 57033   \n",
       "3   BE431150351                    apt 1 789 s maple rd manhattan   \n",
       "4   002 724 334                robie house, 789 north main street   \n",
       "5         hello         1111 S Figueroa St, Los Angeles, CA 90015   \n",
       "6           NaN  (staples center) 1111 S Figueroa St, Los Angeles   \n",
       "7          NULL                                             hello   \n",
       "\n",
       "  postcode_clean  \n",
       "0         2611ET  \n",
       "1       26112 ET  \n",
       "2   BE 428759497  \n",
       "3    BE431150351  \n",
       "4    002 724 334  \n",
       "5          hello  \n",
       "6            NaN  \n",
       "7            NaN  "
      ]
     },
     "execution_count": 1,
     "metadata": {},
     "output_type": "execute_result"
    }
   ],
   "source": [
    "clean_nl_postcode(df, \"postcode\", errors=\"ignore\")"
   ]
  },
  {
   "cell_type": "markdown",
   "id": "random-access",
   "metadata": {},
   "source": [
    "## 4. `validate_nl_postcode()`"
   ]
  },
  {
   "cell_type": "markdown",
   "id": "incomplete-conflict",
   "metadata": {},
   "source": [
    "`validate_nl_postcode()` returns `True` when the input is a valid postcode. Otherwise it returns `False`.\n",
    "\n",
    "The input of `validate_nl_postcode()` can be a string, a Pandas DataSeries, a Dask DataSeries, a Pandas DataFrame and a dask DataFrame.\n",
    "\n",
    "When the input is a string, a Pandas DataSeries or a Dask DataSeries, user doesn't need to specify a column name to be validated. \n",
    "\n",
    "When the input is a Pandas DataFrame or a dask DataFrame, user can both specify or not specify a column name to be validated. If user specify the column name, `validate_nl_postcode()` only returns the validation result for the specified column. If user doesn't specify the column name, `validate_nl_postcode()` returns the validation result for the whole DataFrame."
   ]
  },
  {
   "cell_type": "code",
   "execution_count": 8,
   "id": "broadband-peoples",
   "metadata": {
    "execution": {
     "iopub.execute_input": "2021-10-26T23:41:30.822696Z",
     "iopub.status.busy": "2021-10-26T23:41:30.822094Z",
     "iopub.status.idle": "2021-10-26T23:41:30.827274Z",
     "shell.execute_reply": "2021-10-26T23:41:30.826731Z"
    }
   },
   "outputs": [
    {
     "name": "stdout",
     "output_type": "stream",
     "text": [
      "True\n",
      "False\n",
      "False\n",
      "False\n",
      "False\n",
      "False\n",
      "False\n",
      "False\n"
     ]
    }
   ],
   "source": [
    "from dataprep.clean import validate_nl_postcode\n",
    "print(validate_nl_postcode(\"NL-2611ET\"))\n",
    "print(validate_nl_postcode(\"26112 ET\"))\n",
    "print(validate_nl_postcode('BE 428759497'))\n",
    "print(validate_nl_postcode('BE431150351'))\n",
    "print(validate_nl_postcode(\"004085616\"))\n",
    "print(validate_nl_postcode(\"hello\"))\n",
    "print(validate_nl_postcode(np.nan))\n",
    "print(validate_nl_postcode(\"NULL\"))"
   ]
  },
  {
   "cell_type": "markdown",
   "id": "ambient-romantic",
   "metadata": {},
   "source": [
    "### Series"
   ]
  },
  {
   "cell_type": "code",
   "execution_count": 9,
   "id": "occupied-republic",
   "metadata": {
    "execution": {
     "iopub.execute_input": "2021-10-26T23:41:30.833874Z",
     "iopub.status.busy": "2021-10-26T23:41:30.832798Z",
     "iopub.status.idle": "2021-10-26T23:41:30.840189Z",
     "shell.execute_reply": "2021-10-26T23:41:30.839582Z"
    }
   },
   "outputs": [
    {
     "data": {
      "text/plain": [
       "0     True\n",
       "1    False\n",
       "2    False\n",
       "3    False\n",
       "4    False\n",
       "5    False\n",
       "6    False\n",
       "7    False\n",
       "Name: postcode, dtype: bool"
      ]
     },
     "execution_count": 1,
     "metadata": {},
     "output_type": "execute_result"
    }
   ],
   "source": [
    "validate_nl_postcode(df[\"postcode\"])"
   ]
  },
  {
   "cell_type": "markdown",
   "id": "pacific-puzzle",
   "metadata": {},
   "source": [
    "### DataFrame + Specify Column"
   ]
  },
  {
   "cell_type": "code",
   "execution_count": 10,
   "id": "affiliated-senate",
   "metadata": {
    "execution": {
     "iopub.execute_input": "2021-10-26T23:41:30.846223Z",
     "iopub.status.busy": "2021-10-26T23:41:30.845529Z",
     "iopub.status.idle": "2021-10-26T23:41:30.852609Z",
     "shell.execute_reply": "2021-10-26T23:41:30.851977Z"
    }
   },
   "outputs": [
    {
     "data": {
      "text/plain": [
       "0     True\n",
       "1    False\n",
       "2    False\n",
       "3    False\n",
       "4    False\n",
       "5    False\n",
       "6    False\n",
       "7    False\n",
       "Name: postcode, dtype: bool"
      ]
     },
     "execution_count": 1,
     "metadata": {},
     "output_type": "execute_result"
    }
   ],
   "source": [
    "validate_nl_postcode(df, column=\"postcode\")"
   ]
  },
  {
   "cell_type": "markdown",
   "id": "legendary-carol",
   "metadata": {},
   "source": [
    "### Only DataFrame"
   ]
  },
  {
   "cell_type": "code",
   "execution_count": 11,
   "id": "tough-desire",
   "metadata": {
    "execution": {
     "iopub.execute_input": "2021-10-26T23:41:30.857195Z",
     "iopub.status.busy": "2021-10-26T23:41:30.856189Z",
     "iopub.status.idle": "2021-10-26T23:41:30.865749Z",
     "shell.execute_reply": "2021-10-26T23:41:30.865104Z"
    }
   },
   "outputs": [
    {
     "data": {
      "text/html": [
       "<div>\n",
       "<style scoped>\n",
       "    .dataframe tbody tr th:only-of-type {\n",
       "        vertical-align: middle;\n",
       "    }\n",
       "\n",
       "    .dataframe tbody tr th {\n",
       "        vertical-align: top;\n",
       "    }\n",
       "\n",
       "    .dataframe thead th {\n",
       "        text-align: right;\n",
       "    }\n",
       "</style>\n",
       "<table border=\"1\" class=\"dataframe\">\n",
       "  <thead>\n",
       "    <tr style=\"text-align: right;\">\n",
       "      <th></th>\n",
       "      <th>postcode</th>\n",
       "      <th>address</th>\n",
       "    </tr>\n",
       "  </thead>\n",
       "  <tbody>\n",
       "    <tr>\n",
       "      <th>0</th>\n",
       "      <td>True</td>\n",
       "      <td>False</td>\n",
       "    </tr>\n",
       "    <tr>\n",
       "      <th>1</th>\n",
       "      <td>False</td>\n",
       "      <td>False</td>\n",
       "    </tr>\n",
       "    <tr>\n",
       "      <th>2</th>\n",
       "      <td>False</td>\n",
       "      <td>False</td>\n",
       "    </tr>\n",
       "    <tr>\n",
       "      <th>3</th>\n",
       "      <td>False</td>\n",
       "      <td>False</td>\n",
       "    </tr>\n",
       "    <tr>\n",
       "      <th>4</th>\n",
       "      <td>False</td>\n",
       "      <td>False</td>\n",
       "    </tr>\n",
       "    <tr>\n",
       "      <th>5</th>\n",
       "      <td>False</td>\n",
       "      <td>False</td>\n",
       "    </tr>\n",
       "    <tr>\n",
       "      <th>6</th>\n",
       "      <td>False</td>\n",
       "      <td>False</td>\n",
       "    </tr>\n",
       "    <tr>\n",
       "      <th>7</th>\n",
       "      <td>False</td>\n",
       "      <td>False</td>\n",
       "    </tr>\n",
       "  </tbody>\n",
       "</table>\n",
       "</div>"
      ],
      "text/plain": [
       "   postcode  address\n",
       "0      True    False\n",
       "1     False    False\n",
       "2     False    False\n",
       "3     False    False\n",
       "4     False    False\n",
       "5     False    False\n",
       "6     False    False\n",
       "7     False    False"
      ]
     },
     "execution_count": 1,
     "metadata": {},
     "output_type": "execute_result"
    }
   ],
   "source": [
    "validate_nl_postcode(df)"
   ]
  },
  {
   "cell_type": "code",
   "execution_count": null,
   "id": "operational-walnut",
   "metadata": {},
   "outputs": [],
   "source": []
  }
 ],
 "metadata": {
  "kernelspec": {
   "display_name": "Python 3",
   "language": "python",
   "name": "python3"
  },
  "language_info": {
   "codemirror_mode": {
    "name": "ipython",
    "version": 3
   },
   "file_extension": ".py",
   "mimetype": "text/x-python",
   "name": "python",
   "nbconvert_exporter": "python",
   "pygments_lexer": "ipython3",
   "version": "3.8.10"
  }
 },
 "nbformat": 4,
 "nbformat_minor": 5
}
