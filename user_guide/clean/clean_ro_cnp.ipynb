{
 "cells": [
  {
   "cell_type": "markdown",
   "id": "hungarian-majority",
   "metadata": {},
   "source": [
    "# Romanian Numerical Personal Codes"
   ]
  },
  {
   "cell_type": "markdown",
   "id": "equipped-cement",
   "metadata": {},
   "source": [
    "## Introduction"
   ]
  },
  {
   "cell_type": "markdown",
   "id": "underlying-sussex",
   "metadata": {},
   "source": [
    "The function `clean_ro_cnp()` cleans a column containing Romanian Numerical Personal Code (CNP) strings, and standardizes them in a given format. The function `validate_ro_cnp()` validates either a single CNP strings, a column of CNP strings or a DataFrame of CNP strings, returning `True` if the value is valid, and `False` otherwise."
   ]
  },
  {
   "cell_type": "markdown",
   "id": "adjacent-necklace",
   "metadata": {},
   "source": [
    "CNP strings can be converted to the following formats via the `output_format` parameter:\n",
    "\n",
    "* `compact`: only number strings without any seperators or whitespace, like \"1630615123457\"\n",
    "* `standard`: CNP strings with proper whitespace in the proper places. Note that in the case of CNP, the compact format is the same as the standard one.\n",
    "* `birthdate`: split the date parts from the number and return the birth date, like \"1875-03-16\".\n",
    "\n",
    "Invalid parsing is handled with the `errors` parameter:\n",
    "\n",
    "* `coerce` (default): invalid parsing will be set to NaN\n",
    "* `ignore`: invalid parsing will return the input\n",
    "* `raise`: invalid parsing will raise an exception\n",
    "\n",
    "The following sections demonstrate the functionality of `clean_ro_cnp()` and `validate_ro_cnp()`. "
   ]
  },
  {
   "cell_type": "markdown",
   "id": "moving-transcription",
   "metadata": {},
   "source": [
    "### An example dataset containing CNP strings"
   ]
  },
  {
   "cell_type": "code",
   "execution_count": 1,
   "id": "minor-canon",
   "metadata": {
    "execution": {
     "iopub.execute_input": "2021-11-04T02:17:16.824584Z",
     "iopub.status.busy": "2021-11-04T02:17:16.824082Z",
     "iopub.status.idle": "2021-11-04T02:17:17.046070Z",
     "shell.execute_reply": "2021-11-04T02:17:17.045643Z"
    }
   },
   "outputs": [
    {
     "data": {
      "text/html": [
       "<div>\n",
       "<style scoped>\n",
       "    .dataframe tbody tr th:only-of-type {\n",
       "        vertical-align: middle;\n",
       "    }\n",
       "\n",
       "    .dataframe tbody tr th {\n",
       "        vertical-align: top;\n",
       "    }\n",
       "\n",
       "    .dataframe thead th {\n",
       "        text-align: right;\n",
       "    }\n",
       "</style>\n",
       "<table border=\"1\" class=\"dataframe\">\n",
       "  <thead>\n",
       "    <tr style=\"text-align: right;\">\n",
       "      <th></th>\n",
       "      <th>cnp</th>\n",
       "      <th>address</th>\n",
       "    </tr>\n",
       "  </thead>\n",
       "  <tbody>\n",
       "    <tr>\n",
       "      <th>0</th>\n",
       "      <td>1630615123457</td>\n",
       "      <td>123 Pine Ave.</td>\n",
       "    </tr>\n",
       "    <tr>\n",
       "      <th>1</th>\n",
       "      <td>0800101221142</td>\n",
       "      <td>main st</td>\n",
       "    </tr>\n",
       "    <tr>\n",
       "      <th>2</th>\n",
       "      <td>7542011030</td>\n",
       "      <td>1234 west main heights 57033</td>\n",
       "    </tr>\n",
       "    <tr>\n",
       "      <th>3</th>\n",
       "      <td>7552A10004</td>\n",
       "      <td>apt 1 789 s maple rd manhattan</td>\n",
       "    </tr>\n",
       "    <tr>\n",
       "      <th>4</th>\n",
       "      <td>8019010008</td>\n",
       "      <td>robie house, 789 north main street</td>\n",
       "    </tr>\n",
       "    <tr>\n",
       "      <th>5</th>\n",
       "      <td>hello</td>\n",
       "      <td>1111 S Figueroa St, Los Angeles, CA 90015</td>\n",
       "    </tr>\n",
       "    <tr>\n",
       "      <th>6</th>\n",
       "      <td>NaN</td>\n",
       "      <td>(staples center) 1111 S Figueroa St, Los Angeles</td>\n",
       "    </tr>\n",
       "    <tr>\n",
       "      <th>7</th>\n",
       "      <td>NULL</td>\n",
       "      <td>hello</td>\n",
       "    </tr>\n",
       "  </tbody>\n",
       "</table>\n",
       "</div>"
      ],
      "text/plain": [
       "             cnp                                           address\n",
       "0  1630615123457                                     123 Pine Ave.\n",
       "1  0800101221142                                           main st\n",
       "2     7542011030                      1234 west main heights 57033\n",
       "3     7552A10004                    apt 1 789 s maple rd manhattan\n",
       "4     8019010008                robie house, 789 north main street\n",
       "5          hello         1111 S Figueroa St, Los Angeles, CA 90015\n",
       "6            NaN  (staples center) 1111 S Figueroa St, Los Angeles\n",
       "7           NULL                                             hello"
      ]
     },
     "execution_count": 1,
     "metadata": {},
     "output_type": "execute_result"
    }
   ],
   "source": [
    "import pandas as pd\n",
    "import numpy as np\n",
    "df = pd.DataFrame(\n",
    "    {\n",
    "        \"cnp\": [\n",
    "            \"1630615123457\",\n",
    "            \"0800101221142\",\n",
    "            '7542011030',\n",
    "            '7552A10004', \n",
    "            '8019010008',\n",
    "            \"hello\",\n",
    "            np.nan,\n",
    "            \"NULL\",\n",
    "        ], \n",
    "        \"address\": [\n",
    "            \"123 Pine Ave.\",\n",
    "            \"main st\",\n",
    "            \"1234 west main heights 57033\",\n",
    "            \"apt 1 789 s maple rd manhattan\",\n",
    "            \"robie house, 789 north main street\",\n",
    "            \"1111 S Figueroa St, Los Angeles, CA 90015\",\n",
    "            \"(staples center) 1111 S Figueroa St, Los Angeles\",\n",
    "            \"hello\",\n",
    "        ]\n",
    "    }\n",
    ")\n",
    "df"
   ]
  },
  {
   "cell_type": "markdown",
   "id": "metric-reputation",
   "metadata": {},
   "source": [
    "## 1. Default `clean_ro_cnp`\n",
    "\n",
    "By default, `clean_ro_cnp` will clean cnp strings and output them in the standard format with proper separators."
   ]
  },
  {
   "cell_type": "code",
   "execution_count": 2,
   "id": "accurate-exhibit",
   "metadata": {
    "execution": {
     "iopub.execute_input": "2021-11-04T02:17:17.049667Z",
     "iopub.status.busy": "2021-11-04T02:17:17.049204Z",
     "iopub.status.idle": "2021-11-04T02:17:17.585524Z",
     "shell.execute_reply": "2021-11-04T02:17:17.585872Z"
    }
   },
   "outputs": [
    {
     "data": {
      "text/html": [
       "<div>\n",
       "<style scoped>\n",
       "    .dataframe tbody tr th:only-of-type {\n",
       "        vertical-align: middle;\n",
       "    }\n",
       "\n",
       "    .dataframe tbody tr th {\n",
       "        vertical-align: top;\n",
       "    }\n",
       "\n",
       "    .dataframe thead th {\n",
       "        text-align: right;\n",
       "    }\n",
       "</style>\n",
       "<table border=\"1\" class=\"dataframe\">\n",
       "  <thead>\n",
       "    <tr style=\"text-align: right;\">\n",
       "      <th></th>\n",
       "      <th>cnp</th>\n",
       "      <th>address</th>\n",
       "      <th>cnp_clean</th>\n",
       "    </tr>\n",
       "  </thead>\n",
       "  <tbody>\n",
       "    <tr>\n",
       "      <th>0</th>\n",
       "      <td>1630615123457</td>\n",
       "      <td>123 Pine Ave.</td>\n",
       "      <td>1630615123457</td>\n",
       "    </tr>\n",
       "    <tr>\n",
       "      <th>1</th>\n",
       "      <td>0800101221142</td>\n",
       "      <td>main st</td>\n",
       "      <td>NaN</td>\n",
       "    </tr>\n",
       "    <tr>\n",
       "      <th>2</th>\n",
       "      <td>7542011030</td>\n",
       "      <td>1234 west main heights 57033</td>\n",
       "      <td>NaN</td>\n",
       "    </tr>\n",
       "    <tr>\n",
       "      <th>3</th>\n",
       "      <td>7552A10004</td>\n",
       "      <td>apt 1 789 s maple rd manhattan</td>\n",
       "      <td>NaN</td>\n",
       "    </tr>\n",
       "    <tr>\n",
       "      <th>4</th>\n",
       "      <td>8019010008</td>\n",
       "      <td>robie house, 789 north main street</td>\n",
       "      <td>NaN</td>\n",
       "    </tr>\n",
       "    <tr>\n",
       "      <th>5</th>\n",
       "      <td>hello</td>\n",
       "      <td>1111 S Figueroa St, Los Angeles, CA 90015</td>\n",
       "      <td>NaN</td>\n",
       "    </tr>\n",
       "    <tr>\n",
       "      <th>6</th>\n",
       "      <td>NaN</td>\n",
       "      <td>(staples center) 1111 S Figueroa St, Los Angeles</td>\n",
       "      <td>NaN</td>\n",
       "    </tr>\n",
       "    <tr>\n",
       "      <th>7</th>\n",
       "      <td>NULL</td>\n",
       "      <td>hello</td>\n",
       "      <td>NaN</td>\n",
       "    </tr>\n",
       "  </tbody>\n",
       "</table>\n",
       "</div>"
      ],
      "text/plain": [
       "             cnp                                           address  \\\n",
       "0  1630615123457                                     123 Pine Ave.   \n",
       "1  0800101221142                                           main st   \n",
       "2     7542011030                      1234 west main heights 57033   \n",
       "3     7552A10004                    apt 1 789 s maple rd manhattan   \n",
       "4     8019010008                robie house, 789 north main street   \n",
       "5          hello         1111 S Figueroa St, Los Angeles, CA 90015   \n",
       "6            NaN  (staples center) 1111 S Figueroa St, Los Angeles   \n",
       "7           NULL                                             hello   \n",
       "\n",
       "       cnp_clean  \n",
       "0  1630615123457  \n",
       "1            NaN  \n",
       "2            NaN  \n",
       "3            NaN  \n",
       "4            NaN  \n",
       "5            NaN  \n",
       "6            NaN  \n",
       "7            NaN  "
      ]
     },
     "execution_count": 1,
     "metadata": {},
     "output_type": "execute_result"
    }
   ],
   "source": [
    "from dataprep.clean import clean_ro_cnp\n",
    "clean_ro_cnp(df, column = \"cnp\")"
   ]
  },
  {
   "cell_type": "markdown",
   "id": "convertible-transcription",
   "metadata": {},
   "source": [
    "## 2. Output formats"
   ]
  },
  {
   "cell_type": "markdown",
   "id": "enhanced-brighton",
   "metadata": {},
   "source": [
    "This section demonstrates the output parameter."
   ]
  },
  {
   "cell_type": "markdown",
   "id": "numerical-firmware",
   "metadata": {},
   "source": [
    "### `standard` (default)"
   ]
  },
  {
   "cell_type": "code",
   "execution_count": 3,
   "id": "hidden-penetration",
   "metadata": {
    "execution": {
     "iopub.execute_input": "2021-11-04T02:17:17.606585Z",
     "iopub.status.busy": "2021-11-04T02:17:17.606121Z",
     "iopub.status.idle": "2021-11-04T02:17:17.615191Z",
     "shell.execute_reply": "2021-11-04T02:17:17.614786Z"
    }
   },
   "outputs": [
    {
     "data": {
      "text/html": [
       "<div>\n",
       "<style scoped>\n",
       "    .dataframe tbody tr th:only-of-type {\n",
       "        vertical-align: middle;\n",
       "    }\n",
       "\n",
       "    .dataframe tbody tr th {\n",
       "        vertical-align: top;\n",
       "    }\n",
       "\n",
       "    .dataframe thead th {\n",
       "        text-align: right;\n",
       "    }\n",
       "</style>\n",
       "<table border=\"1\" class=\"dataframe\">\n",
       "  <thead>\n",
       "    <tr style=\"text-align: right;\">\n",
       "      <th></th>\n",
       "      <th>cnp</th>\n",
       "      <th>address</th>\n",
       "      <th>cnp_clean</th>\n",
       "    </tr>\n",
       "  </thead>\n",
       "  <tbody>\n",
       "    <tr>\n",
       "      <th>0</th>\n",
       "      <td>1630615123457</td>\n",
       "      <td>123 Pine Ave.</td>\n",
       "      <td>1630615123457</td>\n",
       "    </tr>\n",
       "    <tr>\n",
       "      <th>1</th>\n",
       "      <td>0800101221142</td>\n",
       "      <td>main st</td>\n",
       "      <td>NaN</td>\n",
       "    </tr>\n",
       "    <tr>\n",
       "      <th>2</th>\n",
       "      <td>7542011030</td>\n",
       "      <td>1234 west main heights 57033</td>\n",
       "      <td>NaN</td>\n",
       "    </tr>\n",
       "    <tr>\n",
       "      <th>3</th>\n",
       "      <td>7552A10004</td>\n",
       "      <td>apt 1 789 s maple rd manhattan</td>\n",
       "      <td>NaN</td>\n",
       "    </tr>\n",
       "    <tr>\n",
       "      <th>4</th>\n",
       "      <td>8019010008</td>\n",
       "      <td>robie house, 789 north main street</td>\n",
       "      <td>NaN</td>\n",
       "    </tr>\n",
       "    <tr>\n",
       "      <th>5</th>\n",
       "      <td>hello</td>\n",
       "      <td>1111 S Figueroa St, Los Angeles, CA 90015</td>\n",
       "      <td>NaN</td>\n",
       "    </tr>\n",
       "    <tr>\n",
       "      <th>6</th>\n",
       "      <td>NaN</td>\n",
       "      <td>(staples center) 1111 S Figueroa St, Los Angeles</td>\n",
       "      <td>NaN</td>\n",
       "    </tr>\n",
       "    <tr>\n",
       "      <th>7</th>\n",
       "      <td>NULL</td>\n",
       "      <td>hello</td>\n",
       "      <td>NaN</td>\n",
       "    </tr>\n",
       "  </tbody>\n",
       "</table>\n",
       "</div>"
      ],
      "text/plain": [
       "             cnp                                           address  \\\n",
       "0  1630615123457                                     123 Pine Ave.   \n",
       "1  0800101221142                                           main st   \n",
       "2     7542011030                      1234 west main heights 57033   \n",
       "3     7552A10004                    apt 1 789 s maple rd manhattan   \n",
       "4     8019010008                robie house, 789 north main street   \n",
       "5          hello         1111 S Figueroa St, Los Angeles, CA 90015   \n",
       "6            NaN  (staples center) 1111 S Figueroa St, Los Angeles   \n",
       "7           NULL                                             hello   \n",
       "\n",
       "       cnp_clean  \n",
       "0  1630615123457  \n",
       "1            NaN  \n",
       "2            NaN  \n",
       "3            NaN  \n",
       "4            NaN  \n",
       "5            NaN  \n",
       "6            NaN  \n",
       "7            NaN  "
      ]
     },
     "execution_count": 1,
     "metadata": {},
     "output_type": "execute_result"
    }
   ],
   "source": [
    "clean_ro_cnp(df, column = \"cnp\", output_format=\"standard\")"
   ]
  },
  {
   "cell_type": "markdown",
   "id": "graduate-athletics",
   "metadata": {},
   "source": [
    "### `compact`"
   ]
  },
  {
   "cell_type": "code",
   "execution_count": 4,
   "id": "presidential-watershed",
   "metadata": {
    "execution": {
     "iopub.execute_input": "2021-11-04T02:17:17.633015Z",
     "iopub.status.busy": "2021-11-04T02:17:17.631535Z",
     "iopub.status.idle": "2021-11-04T02:17:17.642939Z",
     "shell.execute_reply": "2021-11-04T02:17:17.643284Z"
    }
   },
   "outputs": [
    {
     "data": {
      "text/html": [
       "<div>\n",
       "<style scoped>\n",
       "    .dataframe tbody tr th:only-of-type {\n",
       "        vertical-align: middle;\n",
       "    }\n",
       "\n",
       "    .dataframe tbody tr th {\n",
       "        vertical-align: top;\n",
       "    }\n",
       "\n",
       "    .dataframe thead th {\n",
       "        text-align: right;\n",
       "    }\n",
       "</style>\n",
       "<table border=\"1\" class=\"dataframe\">\n",
       "  <thead>\n",
       "    <tr style=\"text-align: right;\">\n",
       "      <th></th>\n",
       "      <th>cnp</th>\n",
       "      <th>address</th>\n",
       "      <th>cnp_clean</th>\n",
       "    </tr>\n",
       "  </thead>\n",
       "  <tbody>\n",
       "    <tr>\n",
       "      <th>0</th>\n",
       "      <td>1630615123457</td>\n",
       "      <td>123 Pine Ave.</td>\n",
       "      <td>1630615123457</td>\n",
       "    </tr>\n",
       "    <tr>\n",
       "      <th>1</th>\n",
       "      <td>0800101221142</td>\n",
       "      <td>main st</td>\n",
       "      <td>NaN</td>\n",
       "    </tr>\n",
       "    <tr>\n",
       "      <th>2</th>\n",
       "      <td>7542011030</td>\n",
       "      <td>1234 west main heights 57033</td>\n",
       "      <td>NaN</td>\n",
       "    </tr>\n",
       "    <tr>\n",
       "      <th>3</th>\n",
       "      <td>7552A10004</td>\n",
       "      <td>apt 1 789 s maple rd manhattan</td>\n",
       "      <td>NaN</td>\n",
       "    </tr>\n",
       "    <tr>\n",
       "      <th>4</th>\n",
       "      <td>8019010008</td>\n",
       "      <td>robie house, 789 north main street</td>\n",
       "      <td>NaN</td>\n",
       "    </tr>\n",
       "    <tr>\n",
       "      <th>5</th>\n",
       "      <td>hello</td>\n",
       "      <td>1111 S Figueroa St, Los Angeles, CA 90015</td>\n",
       "      <td>NaN</td>\n",
       "    </tr>\n",
       "    <tr>\n",
       "      <th>6</th>\n",
       "      <td>NaN</td>\n",
       "      <td>(staples center) 1111 S Figueroa St, Los Angeles</td>\n",
       "      <td>NaN</td>\n",
       "    </tr>\n",
       "    <tr>\n",
       "      <th>7</th>\n",
       "      <td>NULL</td>\n",
       "      <td>hello</td>\n",
       "      <td>NaN</td>\n",
       "    </tr>\n",
       "  </tbody>\n",
       "</table>\n",
       "</div>"
      ],
      "text/plain": [
       "             cnp                                           address  \\\n",
       "0  1630615123457                                     123 Pine Ave.   \n",
       "1  0800101221142                                           main st   \n",
       "2     7542011030                      1234 west main heights 57033   \n",
       "3     7552A10004                    apt 1 789 s maple rd manhattan   \n",
       "4     8019010008                robie house, 789 north main street   \n",
       "5          hello         1111 S Figueroa St, Los Angeles, CA 90015   \n",
       "6            NaN  (staples center) 1111 S Figueroa St, Los Angeles   \n",
       "7           NULL                                             hello   \n",
       "\n",
       "       cnp_clean  \n",
       "0  1630615123457  \n",
       "1            NaN  \n",
       "2            NaN  \n",
       "3            NaN  \n",
       "4            NaN  \n",
       "5            NaN  \n",
       "6            NaN  \n",
       "7            NaN  "
      ]
     },
     "execution_count": 1,
     "metadata": {},
     "output_type": "execute_result"
    }
   ],
   "source": [
    "clean_ro_cnp(df, column = \"cnp\", output_format=\"compact\")"
   ]
  },
  {
   "cell_type": "markdown",
   "id": "complicated-mapping",
   "metadata": {},
   "source": [
    "### `birthdate`"
   ]
  },
  {
   "cell_type": "code",
   "execution_count": 5,
   "id": "civil-judge",
   "metadata": {
    "execution": {
     "iopub.execute_input": "2021-11-04T02:17:17.663400Z",
     "iopub.status.busy": "2021-11-04T02:17:17.660974Z",
     "iopub.status.idle": "2021-11-04T02:17:17.670932Z",
     "shell.execute_reply": "2021-11-04T02:17:17.670540Z"
    }
   },
   "outputs": [
    {
     "data": {
      "text/html": [
       "<div>\n",
       "<style scoped>\n",
       "    .dataframe tbody tr th:only-of-type {\n",
       "        vertical-align: middle;\n",
       "    }\n",
       "\n",
       "    .dataframe tbody tr th {\n",
       "        vertical-align: top;\n",
       "    }\n",
       "\n",
       "    .dataframe thead th {\n",
       "        text-align: right;\n",
       "    }\n",
       "</style>\n",
       "<table border=\"1\" class=\"dataframe\">\n",
       "  <thead>\n",
       "    <tr style=\"text-align: right;\">\n",
       "      <th></th>\n",
       "      <th>cnp</th>\n",
       "      <th>address</th>\n",
       "      <th>cnp_clean</th>\n",
       "    </tr>\n",
       "  </thead>\n",
       "  <tbody>\n",
       "    <tr>\n",
       "      <th>0</th>\n",
       "      <td>1630615123457</td>\n",
       "      <td>123 Pine Ave.</td>\n",
       "      <td>1963-06-15</td>\n",
       "    </tr>\n",
       "    <tr>\n",
       "      <th>1</th>\n",
       "      <td>0800101221142</td>\n",
       "      <td>main st</td>\n",
       "      <td>NaN</td>\n",
       "    </tr>\n",
       "    <tr>\n",
       "      <th>2</th>\n",
       "      <td>7542011030</td>\n",
       "      <td>1234 west main heights 57033</td>\n",
       "      <td>NaN</td>\n",
       "    </tr>\n",
       "    <tr>\n",
       "      <th>3</th>\n",
       "      <td>7552A10004</td>\n",
       "      <td>apt 1 789 s maple rd manhattan</td>\n",
       "      <td>NaN</td>\n",
       "    </tr>\n",
       "    <tr>\n",
       "      <th>4</th>\n",
       "      <td>8019010008</td>\n",
       "      <td>robie house, 789 north main street</td>\n",
       "      <td>NaN</td>\n",
       "    </tr>\n",
       "    <tr>\n",
       "      <th>5</th>\n",
       "      <td>hello</td>\n",
       "      <td>1111 S Figueroa St, Los Angeles, CA 90015</td>\n",
       "      <td>NaN</td>\n",
       "    </tr>\n",
       "    <tr>\n",
       "      <th>6</th>\n",
       "      <td>NaN</td>\n",
       "      <td>(staples center) 1111 S Figueroa St, Los Angeles</td>\n",
       "      <td>NaN</td>\n",
       "    </tr>\n",
       "    <tr>\n",
       "      <th>7</th>\n",
       "      <td>NULL</td>\n",
       "      <td>hello</td>\n",
       "      <td>NaN</td>\n",
       "    </tr>\n",
       "  </tbody>\n",
       "</table>\n",
       "</div>"
      ],
      "text/plain": [
       "             cnp                                           address   cnp_clean\n",
       "0  1630615123457                                     123 Pine Ave.  1963-06-15\n",
       "1  0800101221142                                           main st         NaN\n",
       "2     7542011030                      1234 west main heights 57033         NaN\n",
       "3     7552A10004                    apt 1 789 s maple rd manhattan         NaN\n",
       "4     8019010008                robie house, 789 north main street         NaN\n",
       "5          hello         1111 S Figueroa St, Los Angeles, CA 90015         NaN\n",
       "6            NaN  (staples center) 1111 S Figueroa St, Los Angeles         NaN\n",
       "7           NULL                                             hello         NaN"
      ]
     },
     "execution_count": 1,
     "metadata": {},
     "output_type": "execute_result"
    }
   ],
   "source": [
    "clean_ro_cnp(df, column = \"cnp\", output_format=\"birthdate\")"
   ]
  },
  {
   "cell_type": "markdown",
   "id": "refined-optimization",
   "metadata": {},
   "source": [
    "## 3. `inplace` parameter\n",
    "\n",
    "This deletes the given column from the returned DataFrame. \n",
    "A new column containing cleaned CNP strings is added with a title in the format `\"{original title}_clean\"`."
   ]
  },
  {
   "cell_type": "code",
   "execution_count": 6,
   "id": "first-disclaimer",
   "metadata": {
    "execution": {
     "iopub.execute_input": "2021-11-04T02:17:17.700067Z",
     "iopub.status.busy": "2021-11-04T02:17:17.699600Z",
     "iopub.status.idle": "2021-11-04T02:17:17.707913Z",
     "shell.execute_reply": "2021-11-04T02:17:17.707533Z"
    }
   },
   "outputs": [
    {
     "data": {
      "text/html": [
       "<div>\n",
       "<style scoped>\n",
       "    .dataframe tbody tr th:only-of-type {\n",
       "        vertical-align: middle;\n",
       "    }\n",
       "\n",
       "    .dataframe tbody tr th {\n",
       "        vertical-align: top;\n",
       "    }\n",
       "\n",
       "    .dataframe thead th {\n",
       "        text-align: right;\n",
       "    }\n",
       "</style>\n",
       "<table border=\"1\" class=\"dataframe\">\n",
       "  <thead>\n",
       "    <tr style=\"text-align: right;\">\n",
       "      <th></th>\n",
       "      <th>cnp_clean</th>\n",
       "      <th>address</th>\n",
       "    </tr>\n",
       "  </thead>\n",
       "  <tbody>\n",
       "    <tr>\n",
       "      <th>0</th>\n",
       "      <td>1630615123457</td>\n",
       "      <td>123 Pine Ave.</td>\n",
       "    </tr>\n",
       "    <tr>\n",
       "      <th>1</th>\n",
       "      <td>NaN</td>\n",
       "      <td>main st</td>\n",
       "    </tr>\n",
       "    <tr>\n",
       "      <th>2</th>\n",
       "      <td>NaN</td>\n",
       "      <td>1234 west main heights 57033</td>\n",
       "    </tr>\n",
       "    <tr>\n",
       "      <th>3</th>\n",
       "      <td>NaN</td>\n",
       "      <td>apt 1 789 s maple rd manhattan</td>\n",
       "    </tr>\n",
       "    <tr>\n",
       "      <th>4</th>\n",
       "      <td>NaN</td>\n",
       "      <td>robie house, 789 north main street</td>\n",
       "    </tr>\n",
       "    <tr>\n",
       "      <th>5</th>\n",
       "      <td>NaN</td>\n",
       "      <td>1111 S Figueroa St, Los Angeles, CA 90015</td>\n",
       "    </tr>\n",
       "    <tr>\n",
       "      <th>6</th>\n",
       "      <td>NaN</td>\n",
       "      <td>(staples center) 1111 S Figueroa St, Los Angeles</td>\n",
       "    </tr>\n",
       "    <tr>\n",
       "      <th>7</th>\n",
       "      <td>NaN</td>\n",
       "      <td>hello</td>\n",
       "    </tr>\n",
       "  </tbody>\n",
       "</table>\n",
       "</div>"
      ],
      "text/plain": [
       "       cnp_clean                                           address\n",
       "0  1630615123457                                     123 Pine Ave.\n",
       "1            NaN                                           main st\n",
       "2            NaN                      1234 west main heights 57033\n",
       "3            NaN                    apt 1 789 s maple rd manhattan\n",
       "4            NaN                robie house, 789 north main street\n",
       "5            NaN         1111 S Figueroa St, Los Angeles, CA 90015\n",
       "6            NaN  (staples center) 1111 S Figueroa St, Los Angeles\n",
       "7            NaN                                             hello"
      ]
     },
     "execution_count": 1,
     "metadata": {},
     "output_type": "execute_result"
    }
   ],
   "source": [
    "clean_ro_cnp(df, column=\"cnp\", inplace=True)"
   ]
  },
  {
   "cell_type": "markdown",
   "id": "front-twist",
   "metadata": {},
   "source": [
    "## 4. `errors` parameter"
   ]
  },
  {
   "cell_type": "markdown",
   "id": "favorite-glass",
   "metadata": {},
   "source": [
    "### `coerce` (default)"
   ]
  },
  {
   "cell_type": "code",
   "execution_count": 7,
   "id": "cutting-african",
   "metadata": {
    "execution": {
     "iopub.execute_input": "2021-11-04T02:17:17.724849Z",
     "iopub.status.busy": "2021-11-04T02:17:17.724360Z",
     "iopub.status.idle": "2021-11-04T02:17:17.734982Z",
     "shell.execute_reply": "2021-11-04T02:17:17.734576Z"
    }
   },
   "outputs": [
    {
     "data": {
      "text/html": [
       "<div>\n",
       "<style scoped>\n",
       "    .dataframe tbody tr th:only-of-type {\n",
       "        vertical-align: middle;\n",
       "    }\n",
       "\n",
       "    .dataframe tbody tr th {\n",
       "        vertical-align: top;\n",
       "    }\n",
       "\n",
       "    .dataframe thead th {\n",
       "        text-align: right;\n",
       "    }\n",
       "</style>\n",
       "<table border=\"1\" class=\"dataframe\">\n",
       "  <thead>\n",
       "    <tr style=\"text-align: right;\">\n",
       "      <th></th>\n",
       "      <th>cnp</th>\n",
       "      <th>address</th>\n",
       "      <th>cnp_clean</th>\n",
       "    </tr>\n",
       "  </thead>\n",
       "  <tbody>\n",
       "    <tr>\n",
       "      <th>0</th>\n",
       "      <td>1630615123457</td>\n",
       "      <td>123 Pine Ave.</td>\n",
       "      <td>1630615123457</td>\n",
       "    </tr>\n",
       "    <tr>\n",
       "      <th>1</th>\n",
       "      <td>0800101221142</td>\n",
       "      <td>main st</td>\n",
       "      <td>NaN</td>\n",
       "    </tr>\n",
       "    <tr>\n",
       "      <th>2</th>\n",
       "      <td>7542011030</td>\n",
       "      <td>1234 west main heights 57033</td>\n",
       "      <td>NaN</td>\n",
       "    </tr>\n",
       "    <tr>\n",
       "      <th>3</th>\n",
       "      <td>7552A10004</td>\n",
       "      <td>apt 1 789 s maple rd manhattan</td>\n",
       "      <td>NaN</td>\n",
       "    </tr>\n",
       "    <tr>\n",
       "      <th>4</th>\n",
       "      <td>8019010008</td>\n",
       "      <td>robie house, 789 north main street</td>\n",
       "      <td>NaN</td>\n",
       "    </tr>\n",
       "    <tr>\n",
       "      <th>5</th>\n",
       "      <td>hello</td>\n",
       "      <td>1111 S Figueroa St, Los Angeles, CA 90015</td>\n",
       "      <td>NaN</td>\n",
       "    </tr>\n",
       "    <tr>\n",
       "      <th>6</th>\n",
       "      <td>NaN</td>\n",
       "      <td>(staples center) 1111 S Figueroa St, Los Angeles</td>\n",
       "      <td>NaN</td>\n",
       "    </tr>\n",
       "    <tr>\n",
       "      <th>7</th>\n",
       "      <td>NULL</td>\n",
       "      <td>hello</td>\n",
       "      <td>NaN</td>\n",
       "    </tr>\n",
       "  </tbody>\n",
       "</table>\n",
       "</div>"
      ],
      "text/plain": [
       "             cnp                                           address  \\\n",
       "0  1630615123457                                     123 Pine Ave.   \n",
       "1  0800101221142                                           main st   \n",
       "2     7542011030                      1234 west main heights 57033   \n",
       "3     7552A10004                    apt 1 789 s maple rd manhattan   \n",
       "4     8019010008                robie house, 789 north main street   \n",
       "5          hello         1111 S Figueroa St, Los Angeles, CA 90015   \n",
       "6            NaN  (staples center) 1111 S Figueroa St, Los Angeles   \n",
       "7           NULL                                             hello   \n",
       "\n",
       "       cnp_clean  \n",
       "0  1630615123457  \n",
       "1            NaN  \n",
       "2            NaN  \n",
       "3            NaN  \n",
       "4            NaN  \n",
       "5            NaN  \n",
       "6            NaN  \n",
       "7            NaN  "
      ]
     },
     "execution_count": 1,
     "metadata": {},
     "output_type": "execute_result"
    }
   ],
   "source": [
    "clean_ro_cnp(df, \"cnp\", errors=\"coerce\")"
   ]
  },
  {
   "cell_type": "markdown",
   "id": "technical-cutting",
   "metadata": {},
   "source": [
    "### `ignore`"
   ]
  },
  {
   "cell_type": "code",
   "execution_count": 8,
   "id": "moved-contact",
   "metadata": {
    "execution": {
     "iopub.execute_input": "2021-11-04T02:17:17.755284Z",
     "iopub.status.busy": "2021-11-04T02:17:17.751129Z",
     "iopub.status.idle": "2021-11-04T02:17:17.763455Z",
     "shell.execute_reply": "2021-11-04T02:17:17.762771Z"
    }
   },
   "outputs": [
    {
     "data": {
      "text/html": [
       "<div>\n",
       "<style scoped>\n",
       "    .dataframe tbody tr th:only-of-type {\n",
       "        vertical-align: middle;\n",
       "    }\n",
       "\n",
       "    .dataframe tbody tr th {\n",
       "        vertical-align: top;\n",
       "    }\n",
       "\n",
       "    .dataframe thead th {\n",
       "        text-align: right;\n",
       "    }\n",
       "</style>\n",
       "<table border=\"1\" class=\"dataframe\">\n",
       "  <thead>\n",
       "    <tr style=\"text-align: right;\">\n",
       "      <th></th>\n",
       "      <th>cnp</th>\n",
       "      <th>address</th>\n",
       "      <th>cnp_clean</th>\n",
       "    </tr>\n",
       "  </thead>\n",
       "  <tbody>\n",
       "    <tr>\n",
       "      <th>0</th>\n",
       "      <td>1630615123457</td>\n",
       "      <td>123 Pine Ave.</td>\n",
       "      <td>1630615123457</td>\n",
       "    </tr>\n",
       "    <tr>\n",
       "      <th>1</th>\n",
       "      <td>0800101221142</td>\n",
       "      <td>main st</td>\n",
       "      <td>0800101221142</td>\n",
       "    </tr>\n",
       "    <tr>\n",
       "      <th>2</th>\n",
       "      <td>7542011030</td>\n",
       "      <td>1234 west main heights 57033</td>\n",
       "      <td>7542011030</td>\n",
       "    </tr>\n",
       "    <tr>\n",
       "      <th>3</th>\n",
       "      <td>7552A10004</td>\n",
       "      <td>apt 1 789 s maple rd manhattan</td>\n",
       "      <td>7552A10004</td>\n",
       "    </tr>\n",
       "    <tr>\n",
       "      <th>4</th>\n",
       "      <td>8019010008</td>\n",
       "      <td>robie house, 789 north main street</td>\n",
       "      <td>8019010008</td>\n",
       "    </tr>\n",
       "    <tr>\n",
       "      <th>5</th>\n",
       "      <td>hello</td>\n",
       "      <td>1111 S Figueroa St, Los Angeles, CA 90015</td>\n",
       "      <td>hello</td>\n",
       "    </tr>\n",
       "    <tr>\n",
       "      <th>6</th>\n",
       "      <td>NaN</td>\n",
       "      <td>(staples center) 1111 S Figueroa St, Los Angeles</td>\n",
       "      <td>NaN</td>\n",
       "    </tr>\n",
       "    <tr>\n",
       "      <th>7</th>\n",
       "      <td>NULL</td>\n",
       "      <td>hello</td>\n",
       "      <td>NaN</td>\n",
       "    </tr>\n",
       "  </tbody>\n",
       "</table>\n",
       "</div>"
      ],
      "text/plain": [
       "             cnp                                           address  \\\n",
       "0  1630615123457                                     123 Pine Ave.   \n",
       "1  0800101221142                                           main st   \n",
       "2     7542011030                      1234 west main heights 57033   \n",
       "3     7552A10004                    apt 1 789 s maple rd manhattan   \n",
       "4     8019010008                robie house, 789 north main street   \n",
       "5          hello         1111 S Figueroa St, Los Angeles, CA 90015   \n",
       "6            NaN  (staples center) 1111 S Figueroa St, Los Angeles   \n",
       "7           NULL                                             hello   \n",
       "\n",
       "       cnp_clean  \n",
       "0  1630615123457  \n",
       "1  0800101221142  \n",
       "2     7542011030  \n",
       "3     7552A10004  \n",
       "4     8019010008  \n",
       "5          hello  \n",
       "6            NaN  \n",
       "7            NaN  "
      ]
     },
     "execution_count": 1,
     "metadata": {},
     "output_type": "execute_result"
    }
   ],
   "source": [
    "clean_ro_cnp(df, \"cnp\", errors=\"ignore\")"
   ]
  },
  {
   "cell_type": "markdown",
   "id": "desperate-painting",
   "metadata": {},
   "source": [
    "## 4. `validate_ro_cnp()`"
   ]
  },
  {
   "cell_type": "markdown",
   "id": "intense-jewelry",
   "metadata": {},
   "source": [
    "`validate_ro_cnp()` returns `True` when the input is a valid CNP. Otherwise it returns `False`.\n",
    "\n",
    "The input of `validate_ro_cnp()` can be a string, a Pandas DataSeries, a Dask DataSeries, a Pandas DataFrame and a dask DataFrame.\n",
    "\n",
    "When the input is a string, a Pandas DataSeries or a Dask DataSeries, user doesn't need to specify a column name to be validated. \n",
    "\n",
    "When the input is a Pandas DataFrame or a dask DataFrame, user can both specify or not specify a column name to be validated. If user specify the column name, `validate_ro_cnp()` only returns the validation result for the specified column. If user doesn't specify the column name, `validate_ro_cnp()` returns the validation result for the whole DataFrame."
   ]
  },
  {
   "cell_type": "code",
   "execution_count": 9,
   "id": "statutory-abuse",
   "metadata": {
    "execution": {
     "iopub.execute_input": "2021-11-04T02:17:17.768076Z",
     "iopub.status.busy": "2021-11-04T02:17:17.767280Z",
     "iopub.status.idle": "2021-11-04T02:17:17.771207Z",
     "shell.execute_reply": "2021-11-04T02:17:17.770821Z"
    }
   },
   "outputs": [
    {
     "name": "stdout",
     "output_type": "stream",
     "text": [
      "True\n",
      "False\n",
      "False\n",
      "False\n",
      "False\n",
      "False\n",
      "False\n",
      "False\n"
     ]
    }
   ],
   "source": [
    "from dataprep.clean import validate_ro_cnp\n",
    "print(validate_ro_cnp('1630615123457'))\n",
    "print(validate_ro_cnp('0800101221142'))\n",
    "print(validate_ro_cnp('7542011030'))\n",
    "print(validate_ro_cnp('7552A10004'))\n",
    "print(validate_ro_cnp('8019010008'))\n",
    "print(validate_ro_cnp(\"hello\"))\n",
    "print(validate_ro_cnp(np.nan))\n",
    "print(validate_ro_cnp(\"NULL\"))"
   ]
  },
  {
   "cell_type": "markdown",
   "id": "devoted-extreme",
   "metadata": {},
   "source": [
    "### Series"
   ]
  },
  {
   "cell_type": "code",
   "execution_count": 10,
   "id": "alternative-windsor",
   "metadata": {
    "execution": {
     "iopub.execute_input": "2021-11-04T02:17:17.775665Z",
     "iopub.status.busy": "2021-11-04T02:17:17.775240Z",
     "iopub.status.idle": "2021-11-04T02:17:17.779584Z",
     "shell.execute_reply": "2021-11-04T02:17:17.778712Z"
    }
   },
   "outputs": [
    {
     "data": {
      "text/plain": [
       "0     True\n",
       "1    False\n",
       "2    False\n",
       "3    False\n",
       "4    False\n",
       "5    False\n",
       "6    False\n",
       "7    False\n",
       "Name: cnp, dtype: bool"
      ]
     },
     "execution_count": 1,
     "metadata": {},
     "output_type": "execute_result"
    }
   ],
   "source": [
    "validate_ro_cnp(df[\"cnp\"])"
   ]
  },
  {
   "cell_type": "markdown",
   "id": "innovative-chicago",
   "metadata": {},
   "source": [
    "### DataFrame + Specify Column"
   ]
  },
  {
   "cell_type": "code",
   "execution_count": 11,
   "id": "republican-guidance",
   "metadata": {
    "execution": {
     "iopub.execute_input": "2021-11-04T02:17:17.783865Z",
     "iopub.status.busy": "2021-11-04T02:17:17.783166Z",
     "iopub.status.idle": "2021-11-04T02:17:17.787333Z",
     "shell.execute_reply": "2021-11-04T02:17:17.787687Z"
    }
   },
   "outputs": [
    {
     "data": {
      "text/plain": [
       "0     True\n",
       "1    False\n",
       "2    False\n",
       "3    False\n",
       "4    False\n",
       "5    False\n",
       "6    False\n",
       "7    False\n",
       "Name: cnp, dtype: bool"
      ]
     },
     "execution_count": 1,
     "metadata": {},
     "output_type": "execute_result"
    }
   ],
   "source": [
    "validate_ro_cnp(df, column=\"cnp\")"
   ]
  },
  {
   "cell_type": "markdown",
   "id": "continental-steps",
   "metadata": {},
   "source": [
    "### Only DataFrame"
   ]
  },
  {
   "cell_type": "code",
   "execution_count": 12,
   "id": "covered-reach",
   "metadata": {
    "execution": {
     "iopub.execute_input": "2021-11-04T02:17:17.795275Z",
     "iopub.status.busy": "2021-11-04T02:17:17.793297Z",
     "iopub.status.idle": "2021-11-04T02:17:17.799319Z",
     "shell.execute_reply": "2021-11-04T02:17:17.798937Z"
    }
   },
   "outputs": [
    {
     "data": {
      "text/html": [
       "<div>\n",
       "<style scoped>\n",
       "    .dataframe tbody tr th:only-of-type {\n",
       "        vertical-align: middle;\n",
       "    }\n",
       "\n",
       "    .dataframe tbody tr th {\n",
       "        vertical-align: top;\n",
       "    }\n",
       "\n",
       "    .dataframe thead th {\n",
       "        text-align: right;\n",
       "    }\n",
       "</style>\n",
       "<table border=\"1\" class=\"dataframe\">\n",
       "  <thead>\n",
       "    <tr style=\"text-align: right;\">\n",
       "      <th></th>\n",
       "      <th>cnp</th>\n",
       "      <th>address</th>\n",
       "    </tr>\n",
       "  </thead>\n",
       "  <tbody>\n",
       "    <tr>\n",
       "      <th>0</th>\n",
       "      <td>True</td>\n",
       "      <td>False</td>\n",
       "    </tr>\n",
       "    <tr>\n",
       "      <th>1</th>\n",
       "      <td>False</td>\n",
       "      <td>False</td>\n",
       "    </tr>\n",
       "    <tr>\n",
       "      <th>2</th>\n",
       "      <td>False</td>\n",
       "      <td>False</td>\n",
       "    </tr>\n",
       "    <tr>\n",
       "      <th>3</th>\n",
       "      <td>False</td>\n",
       "      <td>False</td>\n",
       "    </tr>\n",
       "    <tr>\n",
       "      <th>4</th>\n",
       "      <td>False</td>\n",
       "      <td>False</td>\n",
       "    </tr>\n",
       "    <tr>\n",
       "      <th>5</th>\n",
       "      <td>False</td>\n",
       "      <td>False</td>\n",
       "    </tr>\n",
       "    <tr>\n",
       "      <th>6</th>\n",
       "      <td>False</td>\n",
       "      <td>False</td>\n",
       "    </tr>\n",
       "    <tr>\n",
       "      <th>7</th>\n",
       "      <td>False</td>\n",
       "      <td>False</td>\n",
       "    </tr>\n",
       "  </tbody>\n",
       "</table>\n",
       "</div>"
      ],
      "text/plain": [
       "     cnp  address\n",
       "0   True    False\n",
       "1  False    False\n",
       "2  False    False\n",
       "3  False    False\n",
       "4  False    False\n",
       "5  False    False\n",
       "6  False    False\n",
       "7  False    False"
      ]
     },
     "execution_count": 1,
     "metadata": {},
     "output_type": "execute_result"
    }
   ],
   "source": [
    "validate_ro_cnp(df)"
   ]
  },
  {
   "cell_type": "code",
   "execution_count": null,
   "id": "induced-equation",
   "metadata": {},
   "outputs": [],
   "source": []
  }
 ],
 "metadata": {
  "kernelspec": {
   "display_name": "Python 3",
   "language": "python",
   "name": "python3"
  },
  "language_info": {
   "codemirror_mode": {
    "name": "ipython",
    "version": 3
   },
   "file_extension": ".py",
   "mimetype": "text/x-python",
   "name": "python",
   "nbconvert_exporter": "python",
   "pygments_lexer": "ipython3",
   "version": "3.8.10"
  }
 },
 "nbformat": 4,
 "nbformat_minor": 5
}
