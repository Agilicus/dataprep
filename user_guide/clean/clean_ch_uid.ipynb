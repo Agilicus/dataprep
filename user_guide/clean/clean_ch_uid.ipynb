{
 "cells": [
  {
   "cell_type": "markdown",
   "id": "parallel-identifier",
   "metadata": {},
   "source": [
    "# Swiss Business Identifiers"
   ]
  },
  {
   "cell_type": "markdown",
   "id": "applicable-command",
   "metadata": {},
   "source": [
    "## Introduction"
   ]
  },
  {
   "cell_type": "markdown",
   "id": "humanitarian-entrance",
   "metadata": {},
   "source": [
    "The function `clean_ch_uid()` cleans a column containing Swiss business identifier (UID) strings, and standardizes them in a given format. The function `validate_ch_uid()` validates either a single UID strings, a column of UID strings or a DataFrame of UID strings, returning `True` if the value is valid, and `False` otherwise."
   ]
  },
  {
   "cell_type": "markdown",
   "id": "duplicate-chile",
   "metadata": {},
   "source": [
    "UID strings can be converted to the following formats via the `output_format` parameter:\n",
    "\n",
    "* `compact`: only number strings without any seperators or whitespace, like \"CHE100155212\"\n",
    "* `standard`: UID strings with proper whitespace in the proper places, like \"CHE-100.155.212\"\n",
    "\n",
    "Invalid parsing is handled with the `errors` parameter:\n",
    "\n",
    "* `coerce` (default): invalid parsing will be set to NaN\n",
    "* `ignore`: invalid parsing will return the input\n",
    "* `raise`: invalid parsing will raise an exception\n",
    "\n",
    "The following sections demonstrate the functionality of `clean_ch_uid()` and `validate_ch_uid()`. "
   ]
  },
  {
   "cell_type": "markdown",
   "id": "engaged-naples",
   "metadata": {},
   "source": [
    "### An example dataset containing UID strings"
   ]
  },
  {
   "cell_type": "code",
   "execution_count": 1,
   "id": "civilian-barcelona",
   "metadata": {
    "execution": {
     "iopub.execute_input": "2021-11-04T02:09:42.423052Z",
     "iopub.status.busy": "2021-11-04T02:09:42.422605Z",
     "iopub.status.idle": "2021-11-04T02:09:42.645909Z",
     "shell.execute_reply": "2021-11-04T02:09:42.645498Z"
    }
   },
   "outputs": [
    {
     "data": {
      "text/html": [
       "<div>\n",
       "<style scoped>\n",
       "    .dataframe tbody tr th:only-of-type {\n",
       "        vertical-align: middle;\n",
       "    }\n",
       "\n",
       "    .dataframe tbody tr th {\n",
       "        vertical-align: top;\n",
       "    }\n",
       "\n",
       "    .dataframe thead th {\n",
       "        text-align: right;\n",
       "    }\n",
       "</style>\n",
       "<table border=\"1\" class=\"dataframe\">\n",
       "  <thead>\n",
       "    <tr style=\"text-align: right;\">\n",
       "      <th></th>\n",
       "      <th>uid</th>\n",
       "      <th>address</th>\n",
       "    </tr>\n",
       "  </thead>\n",
       "  <tbody>\n",
       "    <tr>\n",
       "      <th>0</th>\n",
       "      <td>CHE100155212</td>\n",
       "      <td>123 Pine Ave.</td>\n",
       "    </tr>\n",
       "    <tr>\n",
       "      <th>1</th>\n",
       "      <td>CHE-100.155.213</td>\n",
       "      <td>main st</td>\n",
       "    </tr>\n",
       "    <tr>\n",
       "      <th>2</th>\n",
       "      <td>51824753556</td>\n",
       "      <td>1234 west main heights 57033</td>\n",
       "    </tr>\n",
       "    <tr>\n",
       "      <th>3</th>\n",
       "      <td>51 824 753 556</td>\n",
       "      <td>apt 1 789 s maple rd manhattan</td>\n",
       "    </tr>\n",
       "    <tr>\n",
       "      <th>4</th>\n",
       "      <td>hello</td>\n",
       "      <td>robie house, 789 north main street</td>\n",
       "    </tr>\n",
       "    <tr>\n",
       "      <th>5</th>\n",
       "      <td>NaN</td>\n",
       "      <td>(staples center) 1111 S Figueroa St, Los Angeles</td>\n",
       "    </tr>\n",
       "    <tr>\n",
       "      <th>6</th>\n",
       "      <td>NULL</td>\n",
       "      <td>hello</td>\n",
       "    </tr>\n",
       "  </tbody>\n",
       "</table>\n",
       "</div>"
      ],
      "text/plain": [
       "               uid                                           address\n",
       "0     CHE100155212                                     123 Pine Ave.\n",
       "1  CHE-100.155.213                                           main st\n",
       "2      51824753556                      1234 west main heights 57033\n",
       "3   51 824 753 556                    apt 1 789 s maple rd manhattan\n",
       "4            hello                robie house, 789 north main street\n",
       "5              NaN  (staples center) 1111 S Figueroa St, Los Angeles\n",
       "6             NULL                                             hello"
      ]
     },
     "execution_count": 1,
     "metadata": {},
     "output_type": "execute_result"
    }
   ],
   "source": [
    "import pandas as pd\n",
    "import numpy as np\n",
    "df = pd.DataFrame(\n",
    "    {\n",
    "        \"uid\": [\n",
    "            \"CHE100155212\",\n",
    "            \"CHE-100.155.213\",\n",
    "            \"51824753556\",\n",
    "            \"51 824 753 556\",\n",
    "            \"hello\",\n",
    "            np.nan,\n",
    "            \"NULL\"\n",
    "        ], \n",
    "        \"address\": [\n",
    "            \"123 Pine Ave.\",\n",
    "            \"main st\",\n",
    "            \"1234 west main heights 57033\",\n",
    "            \"apt 1 789 s maple rd manhattan\",\n",
    "            \"robie house, 789 north main street\",\n",
    "            \"(staples center) 1111 S Figueroa St, Los Angeles\",\n",
    "            \"hello\",\n",
    "        ]\n",
    "    }\n",
    ")\n",
    "df"
   ]
  },
  {
   "cell_type": "markdown",
   "id": "recorded-conspiracy",
   "metadata": {},
   "source": [
    "## 1. Default `clean_ch_uid`\n",
    "\n",
    "By default, `clean_ch_uid` will clean uid strings and output them in the standard format with proper separators."
   ]
  },
  {
   "cell_type": "code",
   "execution_count": 2,
   "id": "fallen-skating",
   "metadata": {
    "execution": {
     "iopub.execute_input": "2021-11-04T02:09:42.649394Z",
     "iopub.status.busy": "2021-11-04T02:09:42.648952Z",
     "iopub.status.idle": "2021-11-04T02:09:43.192645Z",
     "shell.execute_reply": "2021-11-04T02:09:43.192256Z"
    }
   },
   "outputs": [
    {
     "data": {
      "text/html": [
       "<div>\n",
       "<style scoped>\n",
       "    .dataframe tbody tr th:only-of-type {\n",
       "        vertical-align: middle;\n",
       "    }\n",
       "\n",
       "    .dataframe tbody tr th {\n",
       "        vertical-align: top;\n",
       "    }\n",
       "\n",
       "    .dataframe thead th {\n",
       "        text-align: right;\n",
       "    }\n",
       "</style>\n",
       "<table border=\"1\" class=\"dataframe\">\n",
       "  <thead>\n",
       "    <tr style=\"text-align: right;\">\n",
       "      <th></th>\n",
       "      <th>uid</th>\n",
       "      <th>address</th>\n",
       "      <th>uid_clean</th>\n",
       "    </tr>\n",
       "  </thead>\n",
       "  <tbody>\n",
       "    <tr>\n",
       "      <th>0</th>\n",
       "      <td>CHE100155212</td>\n",
       "      <td>123 Pine Ave.</td>\n",
       "      <td>CHE-100.155.212</td>\n",
       "    </tr>\n",
       "    <tr>\n",
       "      <th>1</th>\n",
       "      <td>CHE-100.155.213</td>\n",
       "      <td>main st</td>\n",
       "      <td>NaN</td>\n",
       "    </tr>\n",
       "    <tr>\n",
       "      <th>2</th>\n",
       "      <td>51824753556</td>\n",
       "      <td>1234 west main heights 57033</td>\n",
       "      <td>NaN</td>\n",
       "    </tr>\n",
       "    <tr>\n",
       "      <th>3</th>\n",
       "      <td>51 824 753 556</td>\n",
       "      <td>apt 1 789 s maple rd manhattan</td>\n",
       "      <td>NaN</td>\n",
       "    </tr>\n",
       "    <tr>\n",
       "      <th>4</th>\n",
       "      <td>hello</td>\n",
       "      <td>robie house, 789 north main street</td>\n",
       "      <td>NaN</td>\n",
       "    </tr>\n",
       "    <tr>\n",
       "      <th>5</th>\n",
       "      <td>NaN</td>\n",
       "      <td>(staples center) 1111 S Figueroa St, Los Angeles</td>\n",
       "      <td>NaN</td>\n",
       "    </tr>\n",
       "    <tr>\n",
       "      <th>6</th>\n",
       "      <td>NULL</td>\n",
       "      <td>hello</td>\n",
       "      <td>NaN</td>\n",
       "    </tr>\n",
       "  </tbody>\n",
       "</table>\n",
       "</div>"
      ],
      "text/plain": [
       "               uid                                           address  \\\n",
       "0     CHE100155212                                     123 Pine Ave.   \n",
       "1  CHE-100.155.213                                           main st   \n",
       "2      51824753556                      1234 west main heights 57033   \n",
       "3   51 824 753 556                    apt 1 789 s maple rd manhattan   \n",
       "4            hello                robie house, 789 north main street   \n",
       "5              NaN  (staples center) 1111 S Figueroa St, Los Angeles   \n",
       "6             NULL                                             hello   \n",
       "\n",
       "         uid_clean  \n",
       "0  CHE-100.155.212  \n",
       "1              NaN  \n",
       "2              NaN  \n",
       "3              NaN  \n",
       "4              NaN  \n",
       "5              NaN  \n",
       "6              NaN  "
      ]
     },
     "execution_count": 1,
     "metadata": {},
     "output_type": "execute_result"
    }
   ],
   "source": [
    "from dataprep.clean import clean_ch_uid\n",
    "clean_ch_uid(df, column = \"uid\")"
   ]
  },
  {
   "cell_type": "markdown",
   "id": "solved-collective",
   "metadata": {},
   "source": [
    "## 2. Output formats"
   ]
  },
  {
   "cell_type": "markdown",
   "id": "sexual-vienna",
   "metadata": {},
   "source": [
    "This section demonstrates the output parameter."
   ]
  },
  {
   "cell_type": "markdown",
   "id": "annoying-tension",
   "metadata": {},
   "source": [
    "### `standard` (default)"
   ]
  },
  {
   "cell_type": "code",
   "execution_count": 3,
   "id": "executed-conclusion",
   "metadata": {
    "execution": {
     "iopub.execute_input": "2021-11-04T02:09:43.214018Z",
     "iopub.status.busy": "2021-11-04T02:09:43.213567Z",
     "iopub.status.idle": "2021-11-04T02:09:43.222545Z",
     "shell.execute_reply": "2021-11-04T02:09:43.221966Z"
    }
   },
   "outputs": [
    {
     "data": {
      "text/html": [
       "<div>\n",
       "<style scoped>\n",
       "    .dataframe tbody tr th:only-of-type {\n",
       "        vertical-align: middle;\n",
       "    }\n",
       "\n",
       "    .dataframe tbody tr th {\n",
       "        vertical-align: top;\n",
       "    }\n",
       "\n",
       "    .dataframe thead th {\n",
       "        text-align: right;\n",
       "    }\n",
       "</style>\n",
       "<table border=\"1\" class=\"dataframe\">\n",
       "  <thead>\n",
       "    <tr style=\"text-align: right;\">\n",
       "      <th></th>\n",
       "      <th>uid</th>\n",
       "      <th>address</th>\n",
       "      <th>uid_clean</th>\n",
       "    </tr>\n",
       "  </thead>\n",
       "  <tbody>\n",
       "    <tr>\n",
       "      <th>0</th>\n",
       "      <td>CHE100155212</td>\n",
       "      <td>123 Pine Ave.</td>\n",
       "      <td>CHE-100.155.212</td>\n",
       "    </tr>\n",
       "    <tr>\n",
       "      <th>1</th>\n",
       "      <td>CHE-100.155.213</td>\n",
       "      <td>main st</td>\n",
       "      <td>NaN</td>\n",
       "    </tr>\n",
       "    <tr>\n",
       "      <th>2</th>\n",
       "      <td>51824753556</td>\n",
       "      <td>1234 west main heights 57033</td>\n",
       "      <td>NaN</td>\n",
       "    </tr>\n",
       "    <tr>\n",
       "      <th>3</th>\n",
       "      <td>51 824 753 556</td>\n",
       "      <td>apt 1 789 s maple rd manhattan</td>\n",
       "      <td>NaN</td>\n",
       "    </tr>\n",
       "    <tr>\n",
       "      <th>4</th>\n",
       "      <td>hello</td>\n",
       "      <td>robie house, 789 north main street</td>\n",
       "      <td>NaN</td>\n",
       "    </tr>\n",
       "    <tr>\n",
       "      <th>5</th>\n",
       "      <td>NaN</td>\n",
       "      <td>(staples center) 1111 S Figueroa St, Los Angeles</td>\n",
       "      <td>NaN</td>\n",
       "    </tr>\n",
       "    <tr>\n",
       "      <th>6</th>\n",
       "      <td>NULL</td>\n",
       "      <td>hello</td>\n",
       "      <td>NaN</td>\n",
       "    </tr>\n",
       "  </tbody>\n",
       "</table>\n",
       "</div>"
      ],
      "text/plain": [
       "               uid                                           address  \\\n",
       "0     CHE100155212                                     123 Pine Ave.   \n",
       "1  CHE-100.155.213                                           main st   \n",
       "2      51824753556                      1234 west main heights 57033   \n",
       "3   51 824 753 556                    apt 1 789 s maple rd manhattan   \n",
       "4            hello                robie house, 789 north main street   \n",
       "5              NaN  (staples center) 1111 S Figueroa St, Los Angeles   \n",
       "6             NULL                                             hello   \n",
       "\n",
       "         uid_clean  \n",
       "0  CHE-100.155.212  \n",
       "1              NaN  \n",
       "2              NaN  \n",
       "3              NaN  \n",
       "4              NaN  \n",
       "5              NaN  \n",
       "6              NaN  "
      ]
     },
     "execution_count": 1,
     "metadata": {},
     "output_type": "execute_result"
    }
   ],
   "source": [
    "clean_ch_uid(df, column = \"uid\", output_format=\"standard\")"
   ]
  },
  {
   "cell_type": "markdown",
   "id": "mediterranean-single",
   "metadata": {},
   "source": [
    "### `compact`"
   ]
  },
  {
   "cell_type": "code",
   "execution_count": 4,
   "id": "union-center",
   "metadata": {
    "execution": {
     "iopub.execute_input": "2021-11-04T02:09:43.233997Z",
     "iopub.status.busy": "2021-11-04T02:09:43.233564Z",
     "iopub.status.idle": "2021-11-04T02:09:43.249631Z",
     "shell.execute_reply": "2021-11-04T02:09:43.250246Z"
    }
   },
   "outputs": [
    {
     "data": {
      "text/html": [
       "<div>\n",
       "<style scoped>\n",
       "    .dataframe tbody tr th:only-of-type {\n",
       "        vertical-align: middle;\n",
       "    }\n",
       "\n",
       "    .dataframe tbody tr th {\n",
       "        vertical-align: top;\n",
       "    }\n",
       "\n",
       "    .dataframe thead th {\n",
       "        text-align: right;\n",
       "    }\n",
       "</style>\n",
       "<table border=\"1\" class=\"dataframe\">\n",
       "  <thead>\n",
       "    <tr style=\"text-align: right;\">\n",
       "      <th></th>\n",
       "      <th>uid</th>\n",
       "      <th>address</th>\n",
       "      <th>uid_clean</th>\n",
       "    </tr>\n",
       "  </thead>\n",
       "  <tbody>\n",
       "    <tr>\n",
       "      <th>0</th>\n",
       "      <td>CHE100155212</td>\n",
       "      <td>123 Pine Ave.</td>\n",
       "      <td>CHE100155212</td>\n",
       "    </tr>\n",
       "    <tr>\n",
       "      <th>1</th>\n",
       "      <td>CHE-100.155.213</td>\n",
       "      <td>main st</td>\n",
       "      <td>NaN</td>\n",
       "    </tr>\n",
       "    <tr>\n",
       "      <th>2</th>\n",
       "      <td>51824753556</td>\n",
       "      <td>1234 west main heights 57033</td>\n",
       "      <td>NaN</td>\n",
       "    </tr>\n",
       "    <tr>\n",
       "      <th>3</th>\n",
       "      <td>51 824 753 556</td>\n",
       "      <td>apt 1 789 s maple rd manhattan</td>\n",
       "      <td>NaN</td>\n",
       "    </tr>\n",
       "    <tr>\n",
       "      <th>4</th>\n",
       "      <td>hello</td>\n",
       "      <td>robie house, 789 north main street</td>\n",
       "      <td>NaN</td>\n",
       "    </tr>\n",
       "    <tr>\n",
       "      <th>5</th>\n",
       "      <td>NaN</td>\n",
       "      <td>(staples center) 1111 S Figueroa St, Los Angeles</td>\n",
       "      <td>NaN</td>\n",
       "    </tr>\n",
       "    <tr>\n",
       "      <th>6</th>\n",
       "      <td>NULL</td>\n",
       "      <td>hello</td>\n",
       "      <td>NaN</td>\n",
       "    </tr>\n",
       "  </tbody>\n",
       "</table>\n",
       "</div>"
      ],
      "text/plain": [
       "               uid                                           address  \\\n",
       "0     CHE100155212                                     123 Pine Ave.   \n",
       "1  CHE-100.155.213                                           main st   \n",
       "2      51824753556                      1234 west main heights 57033   \n",
       "3   51 824 753 556                    apt 1 789 s maple rd manhattan   \n",
       "4            hello                robie house, 789 north main street   \n",
       "5              NaN  (staples center) 1111 S Figueroa St, Los Angeles   \n",
       "6             NULL                                             hello   \n",
       "\n",
       "      uid_clean  \n",
       "0  CHE100155212  \n",
       "1           NaN  \n",
       "2           NaN  \n",
       "3           NaN  \n",
       "4           NaN  \n",
       "5           NaN  \n",
       "6           NaN  "
      ]
     },
     "execution_count": 1,
     "metadata": {},
     "output_type": "execute_result"
    }
   ],
   "source": [
    "clean_ch_uid(df, column = \"uid\", output_format=\"compact\")"
   ]
  },
  {
   "cell_type": "markdown",
   "id": "biological-mediterranean",
   "metadata": {},
   "source": [
    "## 3. `inplace` parameter\n",
    "\n",
    "This deletes the given column from the returned DataFrame. \n",
    "A new column containing cleaned UID strings is added with a title in the format `\"{original title}_clean\"`."
   ]
  },
  {
   "cell_type": "code",
   "execution_count": 5,
   "id": "demanding-vault",
   "metadata": {
    "execution": {
     "iopub.execute_input": "2021-11-04T02:09:43.253211Z",
     "iopub.status.busy": "2021-11-04T02:09:43.252351Z",
     "iopub.status.idle": "2021-11-04T02:09:43.288142Z",
     "shell.execute_reply": "2021-11-04T02:09:43.288478Z"
    }
   },
   "outputs": [
    {
     "data": {
      "text/html": [
       "<div>\n",
       "<style scoped>\n",
       "    .dataframe tbody tr th:only-of-type {\n",
       "        vertical-align: middle;\n",
       "    }\n",
       "\n",
       "    .dataframe tbody tr th {\n",
       "        vertical-align: top;\n",
       "    }\n",
       "\n",
       "    .dataframe thead th {\n",
       "        text-align: right;\n",
       "    }\n",
       "</style>\n",
       "<table border=\"1\" class=\"dataframe\">\n",
       "  <thead>\n",
       "    <tr style=\"text-align: right;\">\n",
       "      <th></th>\n",
       "      <th>uid_clean</th>\n",
       "      <th>address</th>\n",
       "    </tr>\n",
       "  </thead>\n",
       "  <tbody>\n",
       "    <tr>\n",
       "      <th>0</th>\n",
       "      <td>CHE-100.155.212</td>\n",
       "      <td>123 Pine Ave.</td>\n",
       "    </tr>\n",
       "    <tr>\n",
       "      <th>1</th>\n",
       "      <td>NaN</td>\n",
       "      <td>main st</td>\n",
       "    </tr>\n",
       "    <tr>\n",
       "      <th>2</th>\n",
       "      <td>NaN</td>\n",
       "      <td>1234 west main heights 57033</td>\n",
       "    </tr>\n",
       "    <tr>\n",
       "      <th>3</th>\n",
       "      <td>NaN</td>\n",
       "      <td>apt 1 789 s maple rd manhattan</td>\n",
       "    </tr>\n",
       "    <tr>\n",
       "      <th>4</th>\n",
       "      <td>NaN</td>\n",
       "      <td>robie house, 789 north main street</td>\n",
       "    </tr>\n",
       "    <tr>\n",
       "      <th>5</th>\n",
       "      <td>NaN</td>\n",
       "      <td>(staples center) 1111 S Figueroa St, Los Angeles</td>\n",
       "    </tr>\n",
       "    <tr>\n",
       "      <th>6</th>\n",
       "      <td>NaN</td>\n",
       "      <td>hello</td>\n",
       "    </tr>\n",
       "  </tbody>\n",
       "</table>\n",
       "</div>"
      ],
      "text/plain": [
       "         uid_clean                                           address\n",
       "0  CHE-100.155.212                                     123 Pine Ave.\n",
       "1              NaN                                           main st\n",
       "2              NaN                      1234 west main heights 57033\n",
       "3              NaN                    apt 1 789 s maple rd manhattan\n",
       "4              NaN                robie house, 789 north main street\n",
       "5              NaN  (staples center) 1111 S Figueroa St, Los Angeles\n",
       "6              NaN                                             hello"
      ]
     },
     "execution_count": 1,
     "metadata": {},
     "output_type": "execute_result"
    }
   ],
   "source": [
    "clean_ch_uid(df, column=\"uid\", inplace=True)"
   ]
  },
  {
   "cell_type": "markdown",
   "id": "transsexual-underground",
   "metadata": {},
   "source": [
    "## 4. `errors` parameter"
   ]
  },
  {
   "cell_type": "markdown",
   "id": "robust-drive",
   "metadata": {},
   "source": [
    "### `coerce` (default)"
   ]
  },
  {
   "cell_type": "code",
   "execution_count": 6,
   "id": "considerable-calendar",
   "metadata": {
    "execution": {
     "iopub.execute_input": "2021-11-04T02:09:43.307521Z",
     "iopub.status.busy": "2021-11-04T02:09:43.307079Z",
     "iopub.status.idle": "2021-11-04T02:09:43.315678Z",
     "shell.execute_reply": "2021-11-04T02:09:43.315278Z"
    }
   },
   "outputs": [
    {
     "data": {
      "text/html": [
       "<div>\n",
       "<style scoped>\n",
       "    .dataframe tbody tr th:only-of-type {\n",
       "        vertical-align: middle;\n",
       "    }\n",
       "\n",
       "    .dataframe tbody tr th {\n",
       "        vertical-align: top;\n",
       "    }\n",
       "\n",
       "    .dataframe thead th {\n",
       "        text-align: right;\n",
       "    }\n",
       "</style>\n",
       "<table border=\"1\" class=\"dataframe\">\n",
       "  <thead>\n",
       "    <tr style=\"text-align: right;\">\n",
       "      <th></th>\n",
       "      <th>uid</th>\n",
       "      <th>address</th>\n",
       "      <th>uid_clean</th>\n",
       "    </tr>\n",
       "  </thead>\n",
       "  <tbody>\n",
       "    <tr>\n",
       "      <th>0</th>\n",
       "      <td>CHE100155212</td>\n",
       "      <td>123 Pine Ave.</td>\n",
       "      <td>CHE-100.155.212</td>\n",
       "    </tr>\n",
       "    <tr>\n",
       "      <th>1</th>\n",
       "      <td>CHE-100.155.213</td>\n",
       "      <td>main st</td>\n",
       "      <td>NaN</td>\n",
       "    </tr>\n",
       "    <tr>\n",
       "      <th>2</th>\n",
       "      <td>51824753556</td>\n",
       "      <td>1234 west main heights 57033</td>\n",
       "      <td>NaN</td>\n",
       "    </tr>\n",
       "    <tr>\n",
       "      <th>3</th>\n",
       "      <td>51 824 753 556</td>\n",
       "      <td>apt 1 789 s maple rd manhattan</td>\n",
       "      <td>NaN</td>\n",
       "    </tr>\n",
       "    <tr>\n",
       "      <th>4</th>\n",
       "      <td>hello</td>\n",
       "      <td>robie house, 789 north main street</td>\n",
       "      <td>NaN</td>\n",
       "    </tr>\n",
       "    <tr>\n",
       "      <th>5</th>\n",
       "      <td>NaN</td>\n",
       "      <td>(staples center) 1111 S Figueroa St, Los Angeles</td>\n",
       "      <td>NaN</td>\n",
       "    </tr>\n",
       "    <tr>\n",
       "      <th>6</th>\n",
       "      <td>NULL</td>\n",
       "      <td>hello</td>\n",
       "      <td>NaN</td>\n",
       "    </tr>\n",
       "  </tbody>\n",
       "</table>\n",
       "</div>"
      ],
      "text/plain": [
       "               uid                                           address  \\\n",
       "0     CHE100155212                                     123 Pine Ave.   \n",
       "1  CHE-100.155.213                                           main st   \n",
       "2      51824753556                      1234 west main heights 57033   \n",
       "3   51 824 753 556                    apt 1 789 s maple rd manhattan   \n",
       "4            hello                robie house, 789 north main street   \n",
       "5              NaN  (staples center) 1111 S Figueroa St, Los Angeles   \n",
       "6             NULL                                             hello   \n",
       "\n",
       "         uid_clean  \n",
       "0  CHE-100.155.212  \n",
       "1              NaN  \n",
       "2              NaN  \n",
       "3              NaN  \n",
       "4              NaN  \n",
       "5              NaN  \n",
       "6              NaN  "
      ]
     },
     "execution_count": 1,
     "metadata": {},
     "output_type": "execute_result"
    }
   ],
   "source": [
    "clean_ch_uid(df, \"uid\", errors=\"coerce\")"
   ]
  },
  {
   "cell_type": "markdown",
   "id": "structural-external",
   "metadata": {},
   "source": [
    "### `ignore`"
   ]
  },
  {
   "cell_type": "code",
   "execution_count": 7,
   "id": "continuous-decision",
   "metadata": {
    "execution": {
     "iopub.execute_input": "2021-11-04T02:09:43.331760Z",
     "iopub.status.busy": "2021-11-04T02:09:43.331311Z",
     "iopub.status.idle": "2021-11-04T02:09:43.342206Z",
     "shell.execute_reply": "2021-11-04T02:09:43.342544Z"
    }
   },
   "outputs": [
    {
     "data": {
      "text/html": [
       "<div>\n",
       "<style scoped>\n",
       "    .dataframe tbody tr th:only-of-type {\n",
       "        vertical-align: middle;\n",
       "    }\n",
       "\n",
       "    .dataframe tbody tr th {\n",
       "        vertical-align: top;\n",
       "    }\n",
       "\n",
       "    .dataframe thead th {\n",
       "        text-align: right;\n",
       "    }\n",
       "</style>\n",
       "<table border=\"1\" class=\"dataframe\">\n",
       "  <thead>\n",
       "    <tr style=\"text-align: right;\">\n",
       "      <th></th>\n",
       "      <th>uid</th>\n",
       "      <th>address</th>\n",
       "      <th>uid_clean</th>\n",
       "    </tr>\n",
       "  </thead>\n",
       "  <tbody>\n",
       "    <tr>\n",
       "      <th>0</th>\n",
       "      <td>CHE100155212</td>\n",
       "      <td>123 Pine Ave.</td>\n",
       "      <td>CHE-100.155.212</td>\n",
       "    </tr>\n",
       "    <tr>\n",
       "      <th>1</th>\n",
       "      <td>CHE-100.155.213</td>\n",
       "      <td>main st</td>\n",
       "      <td>CHE-100.155.213</td>\n",
       "    </tr>\n",
       "    <tr>\n",
       "      <th>2</th>\n",
       "      <td>51824753556</td>\n",
       "      <td>1234 west main heights 57033</td>\n",
       "      <td>51824753556</td>\n",
       "    </tr>\n",
       "    <tr>\n",
       "      <th>3</th>\n",
       "      <td>51 824 753 556</td>\n",
       "      <td>apt 1 789 s maple rd manhattan</td>\n",
       "      <td>51 824 753 556</td>\n",
       "    </tr>\n",
       "    <tr>\n",
       "      <th>4</th>\n",
       "      <td>hello</td>\n",
       "      <td>robie house, 789 north main street</td>\n",
       "      <td>hello</td>\n",
       "    </tr>\n",
       "    <tr>\n",
       "      <th>5</th>\n",
       "      <td>NaN</td>\n",
       "      <td>(staples center) 1111 S Figueroa St, Los Angeles</td>\n",
       "      <td>NaN</td>\n",
       "    </tr>\n",
       "    <tr>\n",
       "      <th>6</th>\n",
       "      <td>NULL</td>\n",
       "      <td>hello</td>\n",
       "      <td>NaN</td>\n",
       "    </tr>\n",
       "  </tbody>\n",
       "</table>\n",
       "</div>"
      ],
      "text/plain": [
       "               uid                                           address  \\\n",
       "0     CHE100155212                                     123 Pine Ave.   \n",
       "1  CHE-100.155.213                                           main st   \n",
       "2      51824753556                      1234 west main heights 57033   \n",
       "3   51 824 753 556                    apt 1 789 s maple rd manhattan   \n",
       "4            hello                robie house, 789 north main street   \n",
       "5              NaN  (staples center) 1111 S Figueroa St, Los Angeles   \n",
       "6             NULL                                             hello   \n",
       "\n",
       "         uid_clean  \n",
       "0  CHE-100.155.212  \n",
       "1  CHE-100.155.213  \n",
       "2      51824753556  \n",
       "3   51 824 753 556  \n",
       "4            hello  \n",
       "5              NaN  \n",
       "6              NaN  "
      ]
     },
     "execution_count": 1,
     "metadata": {},
     "output_type": "execute_result"
    }
   ],
   "source": [
    "clean_ch_uid(df, \"uid\", errors=\"ignore\")"
   ]
  },
  {
   "cell_type": "markdown",
   "id": "liable-columbia",
   "metadata": {},
   "source": [
    "## 4. `validate_ch_uid()`"
   ]
  },
  {
   "cell_type": "markdown",
   "id": "treated-thickness",
   "metadata": {},
   "source": [
    "`validate_ch_uid()` returns `True` when the input is a valid UID. Otherwise it returns `False`.\n",
    "\n",
    "The input of `validate_ch_uid()` can be a string, a Pandas DataSeries, a Dask DataSeries, a Pandas DataFrame and a dask DataFrame.\n",
    "\n",
    "When the input is a string, a Pandas DataSeries or a Dask DataSeries, user doesn't need to specify a column name to be validated. \n",
    "\n",
    "When the input is a Pandas DataFrame or a dask DataFrame, user can both specify or not specify a column name to be validated. If user specify the column name, `validate_ch_uid()` only returns the validation result for the specified column. If user doesn't specify the column name, `validate_ch_uid()` returns the validation result for the whole DataFrame."
   ]
  },
  {
   "cell_type": "code",
   "execution_count": 8,
   "id": "suspended-filter",
   "metadata": {
    "execution": {
     "iopub.execute_input": "2021-11-04T02:09:43.346927Z",
     "iopub.status.busy": "2021-11-04T02:09:43.346128Z",
     "iopub.status.idle": "2021-11-04T02:09:43.350300Z",
     "shell.execute_reply": "2021-11-04T02:09:43.349911Z"
    }
   },
   "outputs": [
    {
     "name": "stdout",
     "output_type": "stream",
     "text": [
      "True\n",
      "False\n",
      "False\n",
      "False\n",
      "False\n",
      "False\n",
      "False\n"
     ]
    }
   ],
   "source": [
    "from dataprep.clean import validate_ch_uid\n",
    "print(validate_ch_uid(\"CHE100155212\"))\n",
    "print(validate_ch_uid(\"CHE-100.155.213\"))\n",
    "print(validate_ch_uid(\"51824753556\"))\n",
    "print(validate_ch_uid(\"51 824 753 556\"))\n",
    "print(validate_ch_uid(\"hello\"))\n",
    "print(validate_ch_uid(np.nan))\n",
    "print(validate_ch_uid(\"NULL\"))"
   ]
  },
  {
   "cell_type": "markdown",
   "id": "minor-temple",
   "metadata": {},
   "source": [
    "### Series"
   ]
  },
  {
   "cell_type": "code",
   "execution_count": 9,
   "id": "separated-research",
   "metadata": {
    "execution": {
     "iopub.execute_input": "2021-11-04T02:09:43.354570Z",
     "iopub.status.busy": "2021-11-04T02:09:43.354145Z",
     "iopub.status.idle": "2021-11-04T02:09:43.357917Z",
     "shell.execute_reply": "2021-11-04T02:09:43.358270Z"
    }
   },
   "outputs": [
    {
     "data": {
      "text/plain": [
       "0     True\n",
       "1    False\n",
       "2    False\n",
       "3    False\n",
       "4    False\n",
       "5    False\n",
       "6    False\n",
       "Name: uid, dtype: bool"
      ]
     },
     "execution_count": 1,
     "metadata": {},
     "output_type": "execute_result"
    }
   ],
   "source": [
    "validate_ch_uid(df[\"uid\"])"
   ]
  },
  {
   "cell_type": "markdown",
   "id": "focal-injury",
   "metadata": {},
   "source": [
    "### DataFrame + Specify Column"
   ]
  },
  {
   "cell_type": "code",
   "execution_count": 10,
   "id": "private-intellectual",
   "metadata": {
    "execution": {
     "iopub.execute_input": "2021-11-04T02:09:43.362460Z",
     "iopub.status.busy": "2021-11-04T02:09:43.362040Z",
     "iopub.status.idle": "2021-11-04T02:09:43.366201Z",
     "shell.execute_reply": "2021-11-04T02:09:43.365817Z"
    }
   },
   "outputs": [
    {
     "data": {
      "text/plain": [
       "0     True\n",
       "1    False\n",
       "2    False\n",
       "3    False\n",
       "4    False\n",
       "5    False\n",
       "6    False\n",
       "Name: uid, dtype: bool"
      ]
     },
     "execution_count": 1,
     "metadata": {},
     "output_type": "execute_result"
    }
   ],
   "source": [
    "validate_ch_uid(df, column=\"uid\")"
   ]
  },
  {
   "cell_type": "markdown",
   "id": "norman-asthma",
   "metadata": {},
   "source": [
    "### Only DataFrame"
   ]
  },
  {
   "cell_type": "code",
   "execution_count": 11,
   "id": "lesser-subcommittee",
   "metadata": {
    "execution": {
     "iopub.execute_input": "2021-11-04T02:09:43.373911Z",
     "iopub.status.busy": "2021-11-04T02:09:43.368848Z",
     "iopub.status.idle": "2021-11-04T02:09:43.378383Z",
     "shell.execute_reply": "2021-11-04T02:09:43.377549Z"
    }
   },
   "outputs": [
    {
     "data": {
      "text/html": [
       "<div>\n",
       "<style scoped>\n",
       "    .dataframe tbody tr th:only-of-type {\n",
       "        vertical-align: middle;\n",
       "    }\n",
       "\n",
       "    .dataframe tbody tr th {\n",
       "        vertical-align: top;\n",
       "    }\n",
       "\n",
       "    .dataframe thead th {\n",
       "        text-align: right;\n",
       "    }\n",
       "</style>\n",
       "<table border=\"1\" class=\"dataframe\">\n",
       "  <thead>\n",
       "    <tr style=\"text-align: right;\">\n",
       "      <th></th>\n",
       "      <th>uid</th>\n",
       "      <th>address</th>\n",
       "    </tr>\n",
       "  </thead>\n",
       "  <tbody>\n",
       "    <tr>\n",
       "      <th>0</th>\n",
       "      <td>True</td>\n",
       "      <td>False</td>\n",
       "    </tr>\n",
       "    <tr>\n",
       "      <th>1</th>\n",
       "      <td>False</td>\n",
       "      <td>False</td>\n",
       "    </tr>\n",
       "    <tr>\n",
       "      <th>2</th>\n",
       "      <td>False</td>\n",
       "      <td>False</td>\n",
       "    </tr>\n",
       "    <tr>\n",
       "      <th>3</th>\n",
       "      <td>False</td>\n",
       "      <td>False</td>\n",
       "    </tr>\n",
       "    <tr>\n",
       "      <th>4</th>\n",
       "      <td>False</td>\n",
       "      <td>False</td>\n",
       "    </tr>\n",
       "    <tr>\n",
       "      <th>5</th>\n",
       "      <td>False</td>\n",
       "      <td>False</td>\n",
       "    </tr>\n",
       "    <tr>\n",
       "      <th>6</th>\n",
       "      <td>False</td>\n",
       "      <td>False</td>\n",
       "    </tr>\n",
       "  </tbody>\n",
       "</table>\n",
       "</div>"
      ],
      "text/plain": [
       "     uid  address\n",
       "0   True    False\n",
       "1  False    False\n",
       "2  False    False\n",
       "3  False    False\n",
       "4  False    False\n",
       "5  False    False\n",
       "6  False    False"
      ]
     },
     "execution_count": 1,
     "metadata": {},
     "output_type": "execute_result"
    }
   ],
   "source": [
    "validate_ch_uid(df)"
   ]
  },
  {
   "cell_type": "code",
   "execution_count": null,
   "id": "national-acquisition",
   "metadata": {},
   "outputs": [],
   "source": []
  }
 ],
 "metadata": {
  "kernelspec": {
   "display_name": "Python 3",
   "language": "python",
   "name": "python3"
  },
  "language_info": {
   "codemirror_mode": {
    "name": "ipython",
    "version": 3
   },
   "file_extension": ".py",
   "mimetype": "text/x-python",
   "name": "python",
   "nbconvert_exporter": "python",
   "pygments_lexer": "ipython3",
   "version": "3.8.10"
  }
 },
 "nbformat": 4,
 "nbformat_minor": 5
}
