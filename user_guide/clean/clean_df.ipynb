{
 "cells": [
  {
   "cell_type": "raw",
   "id": "indoor-sixth",
   "metadata": {
    "raw_mimetype": "text/restructuredtext"
   },
   "source": [
    ".. _clean_df_user_guide:\n",
    "\n",
    "Pandas DataFrame\n",
    "================"
   ]
  },
  {
   "cell_type": "raw",
   "id": "quality-fence",
   "metadata": {
    "raw_mimetype": "text/restructuredtext"
   },
   "source": [
    "Introduction\n",
    "------------\n",
    "\n",
    "The function :func:`clean_df() <dataprep.clean.clean_df.clean_df>` performs a set of operations that would be useful for cleaning and standardizing a full Pandas DataFrame."
   ]
  },
  {
   "cell_type": "markdown",
   "id": "exposed-absolute",
   "metadata": {},
   "source": [
    "In general, `clean_df()` is designed as a function to be called initially when users want to clean a DataFrame. It currently supports the following functionalities via parameters:\n",
    "\n",
    "1. `clean_headers`:  aims to clean column headers in a DataFrame and standardizes them in a desired format. It uses the default settings from the function \"clean_headers()\", which set column names to \"snake\" case and strip accents.\n",
    "2. `data_type_detection`: aims to do a column-wise semantic and/or atomic data type detection for the whole DataFrame.\n",
    "    - `\"semantic\"`: it helps users identify semantic variables (e.g., email) that are supported by DataPrep validating functions. Hence, users can later call the corresponding cleaning functions on these variables (e.g., \"clean_email()\").\n",
    "    - `\"atomic\"`: it helps users identify the basic data types that are built into Python (e.g., interger, floating, string).\n",
    "    - `\"none\"`: no results will be returned.\n",
    "3. `standardize_missing_values`: aims to standardize all missing entries to be a uniform format.\n",
    "    - `\"fill\"`: it sets all detected missing values to be \"np.nan\" or \"pd.NaT\".\n",
    "    - `\"remove\"`: it removes all rows with any missing values (hence, return a complete DataFrame).\n",
    "    - `\"ignore\"`: no actions will be taken.\n",
    "4. `remove_duplicate_entries`: aims to remove the repetitive rows in the DataFrame.\n",
    "5. `downcast_memory`: aims to downcast the column data types to be the smallest possible, which saves storage memory for the DataFrame.\n",
    "\n",
    "After cleaning, a **report** is printed that provides the following information:\n",
    "* The number and percentage of header values that were cleaned from `clean_headers`.\n",
    "* A list of supported semantic data types by DataPrep from `data_type_detection`: \"semantic\".\n",
    "* How many data entries are removed from `standardize_missing_values`: \"remove\" and/or `remove_duplicate_entries`.\n",
    "* How much memory is saved only from `downcast_memory`.\n",
    "\n",
    "The following sections demonstrate the functionality of `clean_df()`."
   ]
  },
  {
   "cell_type": "markdown",
   "id": "closing-imagination",
   "metadata": {},
   "source": [
    "### An example dirty dataset"
   ]
  },
  {
   "cell_type": "code",
   "execution_count": 1,
   "id": "owned-clearance",
   "metadata": {
    "execution": {
     "iopub.execute_input": "2021-11-04T02:11:06.595936Z",
     "iopub.status.busy": "2021-11-04T02:11:06.595464Z",
     "iopub.status.idle": "2021-11-04T02:11:06.819288Z",
     "shell.execute_reply": "2021-11-04T02:11:06.819937Z"
    }
   },
   "outputs": [
    {
     "data": {
      "text/html": [
       "<div>\n",
       "<style scoped>\n",
       "    .dataframe tbody tr th:only-of-type {\n",
       "        vertical-align: middle;\n",
       "    }\n",
       "\n",
       "    .dataframe tbody tr th {\n",
       "        vertical-align: top;\n",
       "    }\n",
       "\n",
       "    .dataframe thead th {\n",
       "        text-align: right;\n",
       "    }\n",
       "</style>\n",
       "<table border=\"1\" class=\"dataframe\">\n",
       "  <thead>\n",
       "    <tr style=\"text-align: right;\">\n",
       "      <th></th>\n",
       "      <th>Name</th>\n",
       "      <th>AGE</th>\n",
       "      <th>weight__</th>\n",
       "      <th>Admission Date</th>\n",
       "      <th>email_address</th>\n",
       "      <th>Country of Birth</th>\n",
       "      <th>Contact (Numbers)</th>\n",
       "    </tr>\n",
       "  </thead>\n",
       "  <tbody>\n",
       "    <tr>\n",
       "      <th>0</th>\n",
       "      <td>Abby</td>\n",
       "      <td>12</td>\n",
       "      <td>32.5</td>\n",
       "      <td>2020-01-01</td>\n",
       "      <td>abby@gmail.com</td>\n",
       "      <td>CA</td>\n",
       "      <td>1-789-456-0123</td>\n",
       "    </tr>\n",
       "    <tr>\n",
       "      <th>1</th>\n",
       "      <td>Scott</td>\n",
       "      <td>33</td>\n",
       "      <td>47.1</td>\n",
       "      <td>2020-01-15</td>\n",
       "      <td>scott@gmail.com</td>\n",
       "      <td>Canada</td>\n",
       "      <td>1-123-456-7890</td>\n",
       "    </tr>\n",
       "    <tr>\n",
       "      <th>2</th>\n",
       "      <td>Scott</td>\n",
       "      <td>33</td>\n",
       "      <td>47.1</td>\n",
       "      <td>2020-01-15</td>\n",
       "      <td>scott@gmail.com</td>\n",
       "      <td>Canada</td>\n",
       "      <td>1-123-456-7890</td>\n",
       "    </tr>\n",
       "    <tr>\n",
       "      <th>3</th>\n",
       "      <td>Scott2</td>\n",
       "      <td>56</td>\n",
       "      <td>55.2</td>\n",
       "      <td>2020-09-01</td>\n",
       "      <td>test@abc.com</td>\n",
       "      <td>NULL</td>\n",
       "      <td>1-456-123-7890</td>\n",
       "    </tr>\n",
       "    <tr>\n",
       "      <th>4</th>\n",
       "      <td>NaN</td>\n",
       "      <td>NaN</td>\n",
       "      <td>NaN</td>\n",
       "      <td>NaT</td>\n",
       "      <td>NaN</td>\n",
       "      <td>NaN</td>\n",
       "      <td>NaN</td>\n",
       "    </tr>\n",
       "    <tr>\n",
       "      <th>5</th>\n",
       "      <td>NULL</td>\n",
       "      <td>NULL</td>\n",
       "      <td>NULL</td>\n",
       "      <td>NULL</td>\n",
       "      <td>NULL</td>\n",
       "      <td>NULL</td>\n",
       "      <td>NULL</td>\n",
       "    </tr>\n",
       "  </tbody>\n",
       "</table>\n",
       "</div>"
      ],
      "text/plain": [
       "     Name   AGE weight__ Admission Date    email_address Country of Birth  \\\n",
       "0    Abby    12     32.5     2020-01-01   abby@gmail.com               CA   \n",
       "1   Scott    33     47.1     2020-01-15  scott@gmail.com           Canada   \n",
       "2   Scott    33     47.1     2020-01-15  scott@gmail.com           Canada   \n",
       "3  Scott2    56     55.2     2020-09-01     test@abc.com             NULL   \n",
       "4     NaN   NaN      NaN            NaT              NaN              NaN   \n",
       "5    NULL  NULL     NULL           NULL             NULL             NULL   \n",
       "\n",
       "  Contact (Numbers)  \n",
       "0    1-789-456-0123  \n",
       "1    1-123-456-7890  \n",
       "2    1-123-456-7890  \n",
       "3    1-456-123-7890  \n",
       "4               NaN  \n",
       "5              NULL  "
      ]
     },
     "execution_count": 1,
     "metadata": {},
     "output_type": "execute_result"
    }
   ],
   "source": [
    "import pandas as pd\n",
    "import numpy as np\n",
    "df = pd.DataFrame({\"Name\":\n",
    "                   [\"Abby\", \"Scott\", \"Scott\", \"Scott2\", np.nan, \"NULL\"],\n",
    "                   \"AGE\":\n",
    "                   [12, 33, 33, 56,  np.nan, \"NULL\"],\n",
    "                   \"weight__\":\n",
    "                   [32.5, 47.1, 47.1, 55.2, np.nan, \"NULL\"],\n",
    "                   \"Admission Date\":\n",
    "                   [\"2020-01-01\", \"2020-01-15\", \"2020-01-15\", \n",
    "                    \"2020-09-01\", pd.NaT, \"NULL\"],\n",
    "                   \"email_address\":\n",
    "                   [\"abby@gmail.com\",\"scott@gmail.com\", \"scott@gmail.com\", \"test@abc.com\", np.nan, \"NULL\"],\n",
    "                   \"Country of Birth\":\n",
    "                   [\"CA\",\"Canada\", \"Canada\", \"NULL\", np.nan, \"NULL\"],\n",
    "                   \"Contact (Numbers)\":\n",
    "                   [\"1-789-456-0123\",\"1-123-456-7890\",\"1-123-456-7890\",\"1-456-123-7890\", np.nan, \"NULL\" ],\n",
    "                   \n",
    "})\n",
    "df"
   ]
  },
  {
   "cell_type": "markdown",
   "id": "generous-samba",
   "metadata": {},
   "source": [
    "### 1. Default `clean_df()`"
   ]
  },
  {
   "cell_type": "markdown",
   "id": "armed-copper",
   "metadata": {},
   "source": [
    "By default, `clean_df()` will always return **a tuple of two DataFrames**, with one for data types and another one for the cleaned DataFrame. The default parameters are set to be:\n",
    "* `clean_headers`: True\n",
    "* `data_type_detection`: \"semantic\"\n",
    "* `standardize_missing_values`: \"fill\"\n",
    "* `remove_duplicate_entries`: False\n",
    "* `downcast_memory`: True"
   ]
  },
  {
   "cell_type": "code",
   "execution_count": 2,
   "id": "supposed-bulgarian",
   "metadata": {
    "execution": {
     "iopub.execute_input": "2021-11-04T02:11:06.824212Z",
     "iopub.status.busy": "2021-11-04T02:11:06.823759Z",
     "iopub.status.idle": "2021-11-04T02:11:07.380754Z",
     "shell.execute_reply": "2021-11-04T02:11:07.380015Z"
    }
   },
   "outputs": [
    {
     "name": "stdout",
     "output_type": "stream",
     "text": [
      "Data Type Detection Report:\n",
      "\tThese data types are supported by DataPrep to clean: ['email', 'phone', 'country']\n",
      "Column Headers Cleaning Report:\n",
      "\t6 values cleaned (85.71%)\n",
      "Downcast Memory Report:\n",
      "\tMemory reducted from 1939 to 1873. New size: (96.6%)\n"
     ]
    }
   ],
   "source": [
    "from dataprep.clean import clean_df\n",
    "inferred_dtypes, cleaned_df = clean_df(df)"
   ]
  },
  {
   "cell_type": "code",
   "execution_count": 3,
   "id": "coral-summer",
   "metadata": {
    "execution": {
     "iopub.execute_input": "2021-11-04T02:11:07.387334Z",
     "iopub.status.busy": "2021-11-04T02:11:07.386888Z",
     "iopub.status.idle": "2021-11-04T02:11:07.391480Z",
     "shell.execute_reply": "2021-11-04T02:11:07.391103Z"
    }
   },
   "outputs": [
    {
     "data": {
      "text/html": [
       "<div>\n",
       "<style scoped>\n",
       "    .dataframe tbody tr th:only-of-type {\n",
       "        vertical-align: middle;\n",
       "    }\n",
       "\n",
       "    .dataframe tbody tr th {\n",
       "        vertical-align: top;\n",
       "    }\n",
       "\n",
       "    .dataframe thead th {\n",
       "        text-align: right;\n",
       "    }\n",
       "</style>\n",
       "<table border=\"1\" class=\"dataframe\">\n",
       "  <thead>\n",
       "    <tr style=\"text-align: right;\">\n",
       "      <th></th>\n",
       "      <th>semantic_data_type</th>\n",
       "      <th>atomic_data_type</th>\n",
       "    </tr>\n",
       "  </thead>\n",
       "  <tbody>\n",
       "    <tr>\n",
       "      <th>Name</th>\n",
       "      <td>string</td>\n",
       "      <td>string</td>\n",
       "    </tr>\n",
       "    <tr>\n",
       "      <th>AGE</th>\n",
       "      <td>integer</td>\n",
       "      <td>integer</td>\n",
       "    </tr>\n",
       "    <tr>\n",
       "      <th>weight__</th>\n",
       "      <td>floating</td>\n",
       "      <td>floating</td>\n",
       "    </tr>\n",
       "    <tr>\n",
       "      <th>Admission Date</th>\n",
       "      <td>string</td>\n",
       "      <td>string</td>\n",
       "    </tr>\n",
       "    <tr>\n",
       "      <th>email_address</th>\n",
       "      <td>email</td>\n",
       "      <td>string</td>\n",
       "    </tr>\n",
       "    <tr>\n",
       "      <th>Country of Birth</th>\n",
       "      <td>country</td>\n",
       "      <td>string</td>\n",
       "    </tr>\n",
       "    <tr>\n",
       "      <th>Contact (Numbers)</th>\n",
       "      <td>phone</td>\n",
       "      <td>string</td>\n",
       "    </tr>\n",
       "  </tbody>\n",
       "</table>\n",
       "</div>"
      ],
      "text/plain": [
       "                  semantic_data_type atomic_data_type\n",
       "Name                          string           string\n",
       "AGE                          integer          integer\n",
       "weight__                    floating         floating\n",
       "Admission Date                string           string\n",
       "email_address                  email           string\n",
       "Country of Birth             country           string\n",
       "Contact (Numbers)              phone           string"
      ]
     },
     "execution_count": 1,
     "metadata": {},
     "output_type": "execute_result"
    }
   ],
   "source": [
    "inferred_dtypes"
   ]
  },
  {
   "cell_type": "markdown",
   "id": "isolated-partition",
   "metadata": {},
   "source": [
    "The first returned DataFrame presents the semantic data types for each variable. Note that when using \"semantic\", the corresponding atomic results will also be returned.  "
   ]
  },
  {
   "cell_type": "code",
   "execution_count": 4,
   "id": "practical-ratio",
   "metadata": {
    "execution": {
     "iopub.execute_input": "2021-11-04T02:11:07.400194Z",
     "iopub.status.busy": "2021-11-04T02:11:07.396836Z",
     "iopub.status.idle": "2021-11-04T02:11:07.404142Z",
     "shell.execute_reply": "2021-11-04T02:11:07.403724Z"
    }
   },
   "outputs": [
    {
     "data": {
      "text/html": [
       "<div>\n",
       "<style scoped>\n",
       "    .dataframe tbody tr th:only-of-type {\n",
       "        vertical-align: middle;\n",
       "    }\n",
       "\n",
       "    .dataframe tbody tr th {\n",
       "        vertical-align: top;\n",
       "    }\n",
       "\n",
       "    .dataframe thead th {\n",
       "        text-align: right;\n",
       "    }\n",
       "</style>\n",
       "<table border=\"1\" class=\"dataframe\">\n",
       "  <thead>\n",
       "    <tr style=\"text-align: right;\">\n",
       "      <th></th>\n",
       "      <th>name</th>\n",
       "      <th>age</th>\n",
       "      <th>weight</th>\n",
       "      <th>admission_date</th>\n",
       "      <th>email_address</th>\n",
       "      <th>country_of_birth</th>\n",
       "      <th>contact_numbers</th>\n",
       "    </tr>\n",
       "  </thead>\n",
       "  <tbody>\n",
       "    <tr>\n",
       "      <th>0</th>\n",
       "      <td>Abby</td>\n",
       "      <td>12</td>\n",
       "      <td>32.500000</td>\n",
       "      <td>2020-01-01</td>\n",
       "      <td>abby@gmail.com</td>\n",
       "      <td>CA</td>\n",
       "      <td>1-789-456-0123</td>\n",
       "    </tr>\n",
       "    <tr>\n",
       "      <th>1</th>\n",
       "      <td>Scott</td>\n",
       "      <td>33</td>\n",
       "      <td>47.099998</td>\n",
       "      <td>2020-01-15</td>\n",
       "      <td>scott@gmail.com</td>\n",
       "      <td>Canada</td>\n",
       "      <td>1-123-456-7890</td>\n",
       "    </tr>\n",
       "    <tr>\n",
       "      <th>2</th>\n",
       "      <td>Scott</td>\n",
       "      <td>33</td>\n",
       "      <td>47.099998</td>\n",
       "      <td>2020-01-15</td>\n",
       "      <td>scott@gmail.com</td>\n",
       "      <td>Canada</td>\n",
       "      <td>1-123-456-7890</td>\n",
       "    </tr>\n",
       "    <tr>\n",
       "      <th>3</th>\n",
       "      <td>Scott2</td>\n",
       "      <td>56</td>\n",
       "      <td>55.200001</td>\n",
       "      <td>2020-09-01</td>\n",
       "      <td>test@abc.com</td>\n",
       "      <td>&lt;NA&gt;</td>\n",
       "      <td>1-456-123-7890</td>\n",
       "    </tr>\n",
       "    <tr>\n",
       "      <th>4</th>\n",
       "      <td>&lt;NA&gt;</td>\n",
       "      <td>&lt;NA&gt;</td>\n",
       "      <td>NaN</td>\n",
       "      <td>&lt;NA&gt;</td>\n",
       "      <td>&lt;NA&gt;</td>\n",
       "      <td>&lt;NA&gt;</td>\n",
       "      <td>&lt;NA&gt;</td>\n",
       "    </tr>\n",
       "    <tr>\n",
       "      <th>5</th>\n",
       "      <td>&lt;NA&gt;</td>\n",
       "      <td>&lt;NA&gt;</td>\n",
       "      <td>NaN</td>\n",
       "      <td>&lt;NA&gt;</td>\n",
       "      <td>&lt;NA&gt;</td>\n",
       "      <td>&lt;NA&gt;</td>\n",
       "      <td>&lt;NA&gt;</td>\n",
       "    </tr>\n",
       "  </tbody>\n",
       "</table>\n",
       "</div>"
      ],
      "text/plain": [
       "     name   age     weight admission_date    email_address country_of_birth  \\\n",
       "0    Abby    12  32.500000     2020-01-01   abby@gmail.com               CA   \n",
       "1   Scott    33  47.099998     2020-01-15  scott@gmail.com           Canada   \n",
       "2   Scott    33  47.099998     2020-01-15  scott@gmail.com           Canada   \n",
       "3  Scott2    56  55.200001     2020-09-01     test@abc.com             <NA>   \n",
       "4    <NA>  <NA>        NaN           <NA>             <NA>             <NA>   \n",
       "5    <NA>  <NA>        NaN           <NA>             <NA>             <NA>   \n",
       "\n",
       "  contact_numbers  \n",
       "0  1-789-456-0123  \n",
       "1  1-123-456-7890  \n",
       "2  1-123-456-7890  \n",
       "3  1-456-123-7890  \n",
       "4            <NA>  \n",
       "5            <NA>  "
      ]
     },
     "execution_count": 1,
     "metadata": {},
     "output_type": "execute_result"
    }
   ],
   "source": [
    "cleaned_df"
   ]
  },
  {
   "cell_type": "markdown",
   "id": "structured-puzzle",
   "metadata": {},
   "source": [
    "The second returned DataFrame presents the cleaned DataFrame.\n",
    "\n",
    "Note that the floating columns (e.g., \"weight\") may look to lose some information by downcasting memory. Actually nowhere is precision lost, it is due to how the numbers get displayed in Python (more explanations are available in section 5). "
   ]
  },
  {
   "cell_type": "markdown",
   "id": "looking-superintendent",
   "metadata": {},
   "source": [
    "### 2. `data_type_detection` parameter\n",
    "\n",
    "#### semantic\n",
    "\n",
    "Consider the efficiency on medium or large datasets (>=10,000 data entries), the function will randomly query a subset of valid data entries to best infer the semantic data types. Currently, `clean_df()` supports to detect the following semantic data types, which all have the corresponding `clean_$()` function for users to call.\n",
    "* Country Names (`country`)\n",
    "* Email Addresses (`email`)\n",
    "* Geographic Coordinates (`coordinate`)\n",
    "* IP Address (`ip`)\n",
    "* Phone Numbers (`phone`)\n",
    "* URLs (`url`)\n",
    "* US Street Addresses (`address`)\n",
    "* ...more types will be supported with the development\n",
    "\n",
    "Note that \"semantic\" will also generate a report to show the semantic data types that are supported by DataPrep to further clean."
   ]
  },
  {
   "cell_type": "code",
   "execution_count": 5,
   "id": "tired-pattern",
   "metadata": {
    "execution": {
     "iopub.execute_input": "2021-11-04T02:11:07.441207Z",
     "iopub.status.busy": "2021-11-04T02:11:07.437867Z",
     "iopub.status.idle": "2021-11-04T02:11:07.445848Z",
     "shell.execute_reply": "2021-11-04T02:11:07.445470Z"
    }
   },
   "outputs": [
    {
     "name": "stdout",
     "output_type": "stream",
     "text": [
      "Data Type Detection Report:\n",
      "\tThese data types are supported by DataPrep to clean: ['email', 'phone', 'country']\n",
      "Column Headers Cleaning Report:\n",
      "\t6 values cleaned (85.71%)\n",
      "Downcast Memory Report:\n",
      "\tMemory reducted from 1939 to 1873. New size: (96.6%)\n"
     ]
    },
    {
     "data": {
      "text/html": [
       "<div>\n",
       "<style scoped>\n",
       "    .dataframe tbody tr th:only-of-type {\n",
       "        vertical-align: middle;\n",
       "    }\n",
       "\n",
       "    .dataframe tbody tr th {\n",
       "        vertical-align: top;\n",
       "    }\n",
       "\n",
       "    .dataframe thead th {\n",
       "        text-align: right;\n",
       "    }\n",
       "</style>\n",
       "<table border=\"1\" class=\"dataframe\">\n",
       "  <thead>\n",
       "    <tr style=\"text-align: right;\">\n",
       "      <th></th>\n",
       "      <th>semantic_data_type</th>\n",
       "      <th>atomic_data_type</th>\n",
       "    </tr>\n",
       "  </thead>\n",
       "  <tbody>\n",
       "    <tr>\n",
       "      <th>Name</th>\n",
       "      <td>string</td>\n",
       "      <td>string</td>\n",
       "    </tr>\n",
       "    <tr>\n",
       "      <th>AGE</th>\n",
       "      <td>integer</td>\n",
       "      <td>integer</td>\n",
       "    </tr>\n",
       "    <tr>\n",
       "      <th>weight__</th>\n",
       "      <td>floating</td>\n",
       "      <td>floating</td>\n",
       "    </tr>\n",
       "    <tr>\n",
       "      <th>Admission Date</th>\n",
       "      <td>string</td>\n",
       "      <td>string</td>\n",
       "    </tr>\n",
       "    <tr>\n",
       "      <th>email_address</th>\n",
       "      <td>email</td>\n",
       "      <td>string</td>\n",
       "    </tr>\n",
       "    <tr>\n",
       "      <th>Country of Birth</th>\n",
       "      <td>country</td>\n",
       "      <td>string</td>\n",
       "    </tr>\n",
       "    <tr>\n",
       "      <th>Contact (Numbers)</th>\n",
       "      <td>phone</td>\n",
       "      <td>string</td>\n",
       "    </tr>\n",
       "  </tbody>\n",
       "</table>\n",
       "</div>"
      ],
      "text/plain": [
       "                  semantic_data_type atomic_data_type\n",
       "Name                          string           string\n",
       "AGE                          integer          integer\n",
       "weight__                    floating         floating\n",
       "Admission Date                string           string\n",
       "email_address                  email           string\n",
       "Country of Birth             country           string\n",
       "Contact (Numbers)              phone           string"
      ]
     },
     "execution_count": 1,
     "metadata": {},
     "output_type": "execute_result"
    }
   ],
   "source": [
    "inferred_dtypes, _ = clean_df(df, data_type_detection = \"semantic\")\n",
    "inferred_dtypes"
   ]
  },
  {
   "cell_type": "markdown",
   "id": "driven-foundation",
   "metadata": {},
   "source": [
    "#### atomic\n",
    "The \"atomic\" option can give users an overview of the data types. Note that \"atomic\" does not generate a report. "
   ]
  },
  {
   "cell_type": "code",
   "execution_count": 6,
   "id": "cubic-candy",
   "metadata": {
    "execution": {
     "iopub.execute_input": "2021-11-04T02:11:07.465549Z",
     "iopub.status.busy": "2021-11-04T02:11:07.464676Z",
     "iopub.status.idle": "2021-11-04T02:11:07.471917Z",
     "shell.execute_reply": "2021-11-04T02:11:07.471240Z"
    }
   },
   "outputs": [
    {
     "name": "stdout",
     "output_type": "stream",
     "text": [
      "Column Headers Cleaning Report:\n",
      "\t6 values cleaned (85.71%)\n",
      "Downcast Memory Report:\n",
      "\tMemory reducted from 1939 to 1873. New size: (96.6%)\n"
     ]
    },
    {
     "data": {
      "text/html": [
       "<div>\n",
       "<style scoped>\n",
       "    .dataframe tbody tr th:only-of-type {\n",
       "        vertical-align: middle;\n",
       "    }\n",
       "\n",
       "    .dataframe tbody tr th {\n",
       "        vertical-align: top;\n",
       "    }\n",
       "\n",
       "    .dataframe thead th {\n",
       "        text-align: right;\n",
       "    }\n",
       "</style>\n",
       "<table border=\"1\" class=\"dataframe\">\n",
       "  <thead>\n",
       "    <tr style=\"text-align: right;\">\n",
       "      <th></th>\n",
       "      <th>atomic_data_type</th>\n",
       "    </tr>\n",
       "  </thead>\n",
       "  <tbody>\n",
       "    <tr>\n",
       "      <th>Name</th>\n",
       "      <td>string</td>\n",
       "    </tr>\n",
       "    <tr>\n",
       "      <th>AGE</th>\n",
       "      <td>integer</td>\n",
       "    </tr>\n",
       "    <tr>\n",
       "      <th>weight__</th>\n",
       "      <td>floating</td>\n",
       "    </tr>\n",
       "    <tr>\n",
       "      <th>Admission Date</th>\n",
       "      <td>string</td>\n",
       "    </tr>\n",
       "    <tr>\n",
       "      <th>email_address</th>\n",
       "      <td>string</td>\n",
       "    </tr>\n",
       "    <tr>\n",
       "      <th>Country of Birth</th>\n",
       "      <td>string</td>\n",
       "    </tr>\n",
       "    <tr>\n",
       "      <th>Contact (Numbers)</th>\n",
       "      <td>string</td>\n",
       "    </tr>\n",
       "  </tbody>\n",
       "</table>\n",
       "</div>"
      ],
      "text/plain": [
       "                  atomic_data_type\n",
       "Name                        string\n",
       "AGE                        integer\n",
       "weight__                  floating\n",
       "Admission Date              string\n",
       "email_address               string\n",
       "Country of Birth            string\n",
       "Contact (Numbers)           string"
      ]
     },
     "execution_count": 1,
     "metadata": {},
     "output_type": "execute_result"
    }
   ],
   "source": [
    "inferred_dtypes, _ = clean_df(df, data_type_detection = \"atomic\")\n",
    "inferred_dtypes"
   ]
  },
  {
   "cell_type": "markdown",
   "id": "duplicate-original",
   "metadata": {},
   "source": [
    "#### none\n",
    "If \"none\", then no data type detection will be performed and `clean_df()` will return a single cleaned DataFrame only."
   ]
  },
  {
   "cell_type": "code",
   "execution_count": 7,
   "id": "satisfied-heart",
   "metadata": {
    "execution": {
     "iopub.execute_input": "2021-11-04T02:11:07.495702Z",
     "iopub.status.busy": "2021-11-04T02:11:07.490113Z",
     "iopub.status.idle": "2021-11-04T02:11:07.500740Z",
     "shell.execute_reply": "2021-11-04T02:11:07.500350Z"
    }
   },
   "outputs": [
    {
     "name": "stdout",
     "output_type": "stream",
     "text": [
      "Column Headers Cleaning Report:\n",
      "\t6 values cleaned (85.71%)\n",
      "Downcast Memory Report:\n",
      "\tMemory reducted from 1939 to 1873. New size: (96.6%)\n"
     ]
    },
    {
     "data": {
      "text/html": [
       "<div>\n",
       "<style scoped>\n",
       "    .dataframe tbody tr th:only-of-type {\n",
       "        vertical-align: middle;\n",
       "    }\n",
       "\n",
       "    .dataframe tbody tr th {\n",
       "        vertical-align: top;\n",
       "    }\n",
       "\n",
       "    .dataframe thead th {\n",
       "        text-align: right;\n",
       "    }\n",
       "</style>\n",
       "<table border=\"1\" class=\"dataframe\">\n",
       "  <thead>\n",
       "    <tr style=\"text-align: right;\">\n",
       "      <th></th>\n",
       "      <th>name</th>\n",
       "      <th>age</th>\n",
       "      <th>weight</th>\n",
       "      <th>admission_date</th>\n",
       "      <th>email_address</th>\n",
       "      <th>country_of_birth</th>\n",
       "      <th>contact_numbers</th>\n",
       "    </tr>\n",
       "  </thead>\n",
       "  <tbody>\n",
       "    <tr>\n",
       "      <th>0</th>\n",
       "      <td>Abby</td>\n",
       "      <td>12</td>\n",
       "      <td>32.500000</td>\n",
       "      <td>2020-01-01</td>\n",
       "      <td>abby@gmail.com</td>\n",
       "      <td>CA</td>\n",
       "      <td>1-789-456-0123</td>\n",
       "    </tr>\n",
       "    <tr>\n",
       "      <th>1</th>\n",
       "      <td>Scott</td>\n",
       "      <td>33</td>\n",
       "      <td>47.099998</td>\n",
       "      <td>2020-01-15</td>\n",
       "      <td>scott@gmail.com</td>\n",
       "      <td>Canada</td>\n",
       "      <td>1-123-456-7890</td>\n",
       "    </tr>\n",
       "    <tr>\n",
       "      <th>2</th>\n",
       "      <td>Scott</td>\n",
       "      <td>33</td>\n",
       "      <td>47.099998</td>\n",
       "      <td>2020-01-15</td>\n",
       "      <td>scott@gmail.com</td>\n",
       "      <td>Canada</td>\n",
       "      <td>1-123-456-7890</td>\n",
       "    </tr>\n",
       "    <tr>\n",
       "      <th>3</th>\n",
       "      <td>Scott2</td>\n",
       "      <td>56</td>\n",
       "      <td>55.200001</td>\n",
       "      <td>2020-09-01</td>\n",
       "      <td>test@abc.com</td>\n",
       "      <td>&lt;NA&gt;</td>\n",
       "      <td>1-456-123-7890</td>\n",
       "    </tr>\n",
       "    <tr>\n",
       "      <th>4</th>\n",
       "      <td>&lt;NA&gt;</td>\n",
       "      <td>&lt;NA&gt;</td>\n",
       "      <td>NaN</td>\n",
       "      <td>&lt;NA&gt;</td>\n",
       "      <td>&lt;NA&gt;</td>\n",
       "      <td>&lt;NA&gt;</td>\n",
       "      <td>&lt;NA&gt;</td>\n",
       "    </tr>\n",
       "    <tr>\n",
       "      <th>5</th>\n",
       "      <td>&lt;NA&gt;</td>\n",
       "      <td>&lt;NA&gt;</td>\n",
       "      <td>NaN</td>\n",
       "      <td>&lt;NA&gt;</td>\n",
       "      <td>&lt;NA&gt;</td>\n",
       "      <td>&lt;NA&gt;</td>\n",
       "      <td>&lt;NA&gt;</td>\n",
       "    </tr>\n",
       "  </tbody>\n",
       "</table>\n",
       "</div>"
      ],
      "text/plain": [
       "     name   age     weight admission_date    email_address country_of_birth  \\\n",
       "0    Abby    12  32.500000     2020-01-01   abby@gmail.com               CA   \n",
       "1   Scott    33  47.099998     2020-01-15  scott@gmail.com           Canada   \n",
       "2   Scott    33  47.099998     2020-01-15  scott@gmail.com           Canada   \n",
       "3  Scott2    56  55.200001     2020-09-01     test@abc.com             <NA>   \n",
       "4    <NA>  <NA>        NaN           <NA>             <NA>             <NA>   \n",
       "5    <NA>  <NA>        NaN           <NA>             <NA>             <NA>   \n",
       "\n",
       "  contact_numbers  \n",
       "0  1-789-456-0123  \n",
       "1  1-123-456-7890  \n",
       "2  1-123-456-7890  \n",
       "3  1-456-123-7890  \n",
       "4            <NA>  \n",
       "5            <NA>  "
      ]
     },
     "execution_count": 1,
     "metadata": {},
     "output_type": "execute_result"
    }
   ],
   "source": [
    "cleaned_df = clean_df(df, data_type_detection = \"none\")\n",
    "cleaned_df"
   ]
  },
  {
   "cell_type": "markdown",
   "id": "isolated-alert",
   "metadata": {},
   "source": [
    "### 3. `standardize_missing_values`: \"remove\"\n",
    "\n",
    "This section demonstrates how the \"remove\" option works. It removes all rows with **any** missing values and returns a complete DataFrame. "
   ]
  },
  {
   "cell_type": "code",
   "execution_count": 8,
   "id": "thousand-space",
   "metadata": {
    "execution": {
     "iopub.execute_input": "2021-11-04T02:11:07.535916Z",
     "iopub.status.busy": "2021-11-04T02:11:07.535451Z",
     "iopub.status.idle": "2021-11-04T02:11:07.549436Z",
     "shell.execute_reply": "2021-11-04T02:11:07.549062Z"
    }
   },
   "outputs": [
    {
     "name": "stdout",
     "output_type": "stream",
     "text": [
      "Data Type Detection Report:\n",
      "\tThese data types are supported by DataPrep to clean: ['email', 'phone', 'country']\n",
      "Column Headers Cleaning Report:\n",
      "\t6 values cleaned (85.71%)\n",
      "Number of Entries Cleaning Report:\n",
      "\t3 entries dropped (50.0%)\n",
      "Downcast Memory Report:\n",
      "\tMemory reducted from 1074 to 1041. New size: (96.93%)\n"
     ]
    },
    {
     "data": {
      "text/html": [
       "<div>\n",
       "<style scoped>\n",
       "    .dataframe tbody tr th:only-of-type {\n",
       "        vertical-align: middle;\n",
       "    }\n",
       "\n",
       "    .dataframe tbody tr th {\n",
       "        vertical-align: top;\n",
       "    }\n",
       "\n",
       "    .dataframe thead th {\n",
       "        text-align: right;\n",
       "    }\n",
       "</style>\n",
       "<table border=\"1\" class=\"dataframe\">\n",
       "  <thead>\n",
       "    <tr style=\"text-align: right;\">\n",
       "      <th></th>\n",
       "      <th>name</th>\n",
       "      <th>age</th>\n",
       "      <th>weight</th>\n",
       "      <th>admission_date</th>\n",
       "      <th>email_address</th>\n",
       "      <th>country_of_birth</th>\n",
       "      <th>contact_numbers</th>\n",
       "    </tr>\n",
       "  </thead>\n",
       "  <tbody>\n",
       "    <tr>\n",
       "      <th>0</th>\n",
       "      <td>Abby</td>\n",
       "      <td>12</td>\n",
       "      <td>32.500000</td>\n",
       "      <td>2020-01-01</td>\n",
       "      <td>abby@gmail.com</td>\n",
       "      <td>CA</td>\n",
       "      <td>1-789-456-0123</td>\n",
       "    </tr>\n",
       "    <tr>\n",
       "      <th>1</th>\n",
       "      <td>Scott</td>\n",
       "      <td>33</td>\n",
       "      <td>47.099998</td>\n",
       "      <td>2020-01-15</td>\n",
       "      <td>scott@gmail.com</td>\n",
       "      <td>Canada</td>\n",
       "      <td>1-123-456-7890</td>\n",
       "    </tr>\n",
       "    <tr>\n",
       "      <th>2</th>\n",
       "      <td>Scott</td>\n",
       "      <td>33</td>\n",
       "      <td>47.099998</td>\n",
       "      <td>2020-01-15</td>\n",
       "      <td>scott@gmail.com</td>\n",
       "      <td>Canada</td>\n",
       "      <td>1-123-456-7890</td>\n",
       "    </tr>\n",
       "  </tbody>\n",
       "</table>\n",
       "</div>"
      ],
      "text/plain": [
       "    name  age     weight admission_date    email_address country_of_birth  \\\n",
       "0   Abby   12  32.500000     2020-01-01   abby@gmail.com               CA   \n",
       "1  Scott   33  47.099998     2020-01-15  scott@gmail.com           Canada   \n",
       "2  Scott   33  47.099998     2020-01-15  scott@gmail.com           Canada   \n",
       "\n",
       "  contact_numbers  \n",
       "0  1-789-456-0123  \n",
       "1  1-123-456-7890  \n",
       "2  1-123-456-7890  "
      ]
     },
     "execution_count": 1,
     "metadata": {},
     "output_type": "execute_result"
    }
   ],
   "source": [
    "_, cleaned_df = clean_df(df, standardize_missing_values = \"remove\")\n",
    "cleaned_df"
   ]
  },
  {
   "cell_type": "markdown",
   "id": "becoming-lying",
   "metadata": {},
   "source": [
    "### 4. `remove_duplicate_entries` parameter"
   ]
  },
  {
   "cell_type": "code",
   "execution_count": 9,
   "id": "chemical-techno",
   "metadata": {
    "execution": {
     "iopub.execute_input": "2021-11-04T02:11:07.587579Z",
     "iopub.status.busy": "2021-11-04T02:11:07.583580Z",
     "iopub.status.idle": "2021-11-04T02:11:07.595985Z",
     "shell.execute_reply": "2021-11-04T02:11:07.595585Z"
    }
   },
   "outputs": [
    {
     "name": "stdout",
     "output_type": "stream",
     "text": [
      "Data Type Detection Report:\n",
      "\tThese data types are supported by DataPrep to clean: ['email', 'phone', 'country']\n",
      "Column Headers Cleaning Report:\n",
      "\t6 values cleaned (85.71%)\n",
      "Number of Entries Cleaning Report:\n",
      "\t2 entries dropped (33.33%)\n",
      "Downcast Memory Report:\n",
      "\tMemory reducted from 1274 to 1230. New size: (96.55%)\n"
     ]
    },
    {
     "data": {
      "text/html": [
       "<div>\n",
       "<style scoped>\n",
       "    .dataframe tbody tr th:only-of-type {\n",
       "        vertical-align: middle;\n",
       "    }\n",
       "\n",
       "    .dataframe tbody tr th {\n",
       "        vertical-align: top;\n",
       "    }\n",
       "\n",
       "    .dataframe thead th {\n",
       "        text-align: right;\n",
       "    }\n",
       "</style>\n",
       "<table border=\"1\" class=\"dataframe\">\n",
       "  <thead>\n",
       "    <tr style=\"text-align: right;\">\n",
       "      <th></th>\n",
       "      <th>name</th>\n",
       "      <th>age</th>\n",
       "      <th>weight</th>\n",
       "      <th>admission_date</th>\n",
       "      <th>email_address</th>\n",
       "      <th>country_of_birth</th>\n",
       "      <th>contact_numbers</th>\n",
       "    </tr>\n",
       "  </thead>\n",
       "  <tbody>\n",
       "    <tr>\n",
       "      <th>0</th>\n",
       "      <td>Abby</td>\n",
       "      <td>12</td>\n",
       "      <td>32.500000</td>\n",
       "      <td>2020-01-01</td>\n",
       "      <td>abby@gmail.com</td>\n",
       "      <td>CA</td>\n",
       "      <td>1-789-456-0123</td>\n",
       "    </tr>\n",
       "    <tr>\n",
       "      <th>1</th>\n",
       "      <td>Scott</td>\n",
       "      <td>33</td>\n",
       "      <td>47.099998</td>\n",
       "      <td>2020-01-15</td>\n",
       "      <td>scott@gmail.com</td>\n",
       "      <td>Canada</td>\n",
       "      <td>1-123-456-7890</td>\n",
       "    </tr>\n",
       "    <tr>\n",
       "      <th>2</th>\n",
       "      <td>Scott2</td>\n",
       "      <td>56</td>\n",
       "      <td>55.200001</td>\n",
       "      <td>2020-09-01</td>\n",
       "      <td>test@abc.com</td>\n",
       "      <td>&lt;NA&gt;</td>\n",
       "      <td>1-456-123-7890</td>\n",
       "    </tr>\n",
       "    <tr>\n",
       "      <th>3</th>\n",
       "      <td>&lt;NA&gt;</td>\n",
       "      <td>&lt;NA&gt;</td>\n",
       "      <td>NaN</td>\n",
       "      <td>&lt;NA&gt;</td>\n",
       "      <td>&lt;NA&gt;</td>\n",
       "      <td>&lt;NA&gt;</td>\n",
       "      <td>&lt;NA&gt;</td>\n",
       "    </tr>\n",
       "  </tbody>\n",
       "</table>\n",
       "</div>"
      ],
      "text/plain": [
       "     name   age     weight admission_date    email_address country_of_birth  \\\n",
       "0    Abby    12  32.500000     2020-01-01   abby@gmail.com               CA   \n",
       "1   Scott    33  47.099998     2020-01-15  scott@gmail.com           Canada   \n",
       "2  Scott2    56  55.200001     2020-09-01     test@abc.com             <NA>   \n",
       "3    <NA>  <NA>        NaN           <NA>             <NA>             <NA>   \n",
       "\n",
       "  contact_numbers  \n",
       "0  1-789-456-0123  \n",
       "1  1-123-456-7890  \n",
       "2  1-456-123-7890  \n",
       "3            <NA>  "
      ]
     },
     "execution_count": 1,
     "metadata": {},
     "output_type": "execute_result"
    }
   ],
   "source": [
    "_, cleaned_df = clean_df(df, remove_duplicate_entries = True)\n",
    "cleaned_df"
   ]
  },
  {
   "cell_type": "markdown",
   "id": "sixth-turner",
   "metadata": {},
   "source": [
    "Note that if multiple rows are all standardized in step 3 to be completely missing rows, this `remove_duplicate_entries = True` will also treat them as duplicated entries and only keep one."
   ]
  },
  {
   "cell_type": "markdown",
   "id": "mounted-family",
   "metadata": {},
   "source": [
    "### 5. `downcast_memory` parameter\n",
    "\n",
    "By default and depending on the environment, Pandas will read numerical data and commonly store them using \"`int64`/`float64`\" types. The storage memory can usually be saved by assigning subtypes (e.g., `int8`), if the range of all data in a numerical column is not extreme. Also, Pandas stores categorical columns as `object`. This can be optimized by using the `category` type for columns with low cardinality. "
   ]
  },
  {
   "cell_type": "code",
   "execution_count": 10,
   "id": "severe-recognition",
   "metadata": {
    "execution": {
     "iopub.execute_input": "2021-11-04T02:11:07.629803Z",
     "iopub.status.busy": "2021-11-04T02:11:07.629373Z",
     "iopub.status.idle": "2021-11-04T02:11:07.634274Z",
     "shell.execute_reply": "2021-11-04T02:11:07.633688Z"
    }
   },
   "outputs": [
    {
     "data": {
      "text/plain": [
       "name                 string\n",
       "age                    Int8\n",
       "weight              float32\n",
       "admission_date       string\n",
       "email_address        string\n",
       "country_of_birth     string\n",
       "contact_numbers      string\n",
       "dtype: object"
      ]
     },
     "execution_count": 1,
     "metadata": {},
     "output_type": "execute_result"
    }
   ],
   "source": [
    "_, cleaned_df = clean_df(df, downcast_memory = True, report = False)\n",
    "cleaned_df.dtypes"
   ]
  },
  {
   "cell_type": "markdown",
   "id": "informative-geology",
   "metadata": {},
   "source": [
    "We can see that the numeric columns for `cleaned_df` use downcasted `int8` and `float32` types. \n",
    "\n",
    "However, the floating column \"weight\" may look to lose some precision. This is due to how Python Numpy displays decimals."
   ]
  },
  {
   "cell_type": "code",
   "execution_count": 11,
   "id": "incredible-tradition",
   "metadata": {
    "execution": {
     "iopub.execute_input": "2021-11-04T02:11:07.638382Z",
     "iopub.status.busy": "2021-11-04T02:11:07.637955Z",
     "iopub.status.idle": "2021-11-04T02:11:07.642114Z",
     "shell.execute_reply": "2021-11-04T02:11:07.641733Z"
    }
   },
   "outputs": [
    {
     "data": {
      "text/plain": [
       "0    32.500000\n",
       "1    47.099998\n",
       "2    47.099998\n",
       "3    55.200001\n",
       "4          NaN\n",
       "5          NaN\n",
       "Name: weight, dtype: float32"
      ]
     },
     "execution_count": 1,
     "metadata": {},
     "output_type": "execute_result"
    }
   ],
   "source": [
    "cleaned_df['weight']"
   ]
  },
  {
   "cell_type": "markdown",
   "id": "suburban-swift",
   "metadata": {},
   "source": [
    "The actual values are not influenced. For safety, Numpy tends to use `float32` as the downcasted data type."
   ]
  },
  {
   "cell_type": "code",
   "execution_count": 12,
   "id": "controversial-institute",
   "metadata": {
    "execution": {
     "iopub.execute_input": "2021-11-04T02:11:07.645589Z",
     "iopub.status.busy": "2021-11-04T02:11:07.645168Z",
     "iopub.status.idle": "2021-11-04T02:11:07.648942Z",
     "shell.execute_reply": "2021-11-04T02:11:07.649300Z"
    }
   },
   "outputs": [
    {
     "data": {
      "text/plain": [
       "47.1"
      ]
     },
     "execution_count": 1,
     "metadata": {},
     "output_type": "execute_result"
    }
   ],
   "source": [
    "cleaned_df['weight'][1]"
   ]
  }
 ],
 "metadata": {
  "kernelspec": {
   "display_name": "Python 3",
   "language": "python",
   "name": "python3"
  },
  "language_info": {
   "codemirror_mode": {
    "name": "ipython",
    "version": 3
   },
   "file_extension": ".py",
   "mimetype": "text/x-python",
   "name": "python",
   "nbconvert_exporter": "python",
   "pygments_lexer": "ipython3",
   "version": "3.8.10"
  }
 },
 "nbformat": 4,
 "nbformat_minor": 5
}
