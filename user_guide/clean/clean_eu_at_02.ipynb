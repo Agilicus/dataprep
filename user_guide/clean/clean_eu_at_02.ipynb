{
 "cells": [
  {
   "cell_type": "raw",
   "id": "confused-flavor",
   "metadata": {},
   "source": [
    ".. _eu_at_02_userguide:\n",
    "\n",
    "SEPA Identifier of the Creditor\n",
    "==============================="
   ]
  },
  {
   "cell_type": "raw",
   "id": "japanese-central",
   "metadata": {},
   "source": [
    "Introduction\n",
    "------------\n",
    "\n",
    "The function :func:`clean_eu_at_02() <dataprep.clean.clean_eu_at_02.clean_eu_at_02>` cleans a column containing AT-02 (SEPA Creditor identifier) strings, and standardizes them in a given format. The function :func:`validate_eu_at_02() <dataprep.clean.clean_eu_at_02.validate_eu_at_02>` validates either a single AT-02 strings, a column of AT-02 strings or a DataFrame of AT-02 strings, returning `True` if the value is valid, and `False` otherwise."
   ]
  },
  {
   "cell_type": "markdown",
   "id": "numerical-exposure",
   "metadata": {},
   "source": [
    "AT-02 strings can be converted to the following formats via the `output_format` parameter:\n",
    "\n",
    "* `compact`: only number strings without any seperators or whitespace, like \"ES23ZZZ47690558N\"\n",
    "* `standard`: AT-02 strings with proper whitespace in the proper places. Note that in the case of AT-02, the compact format is the same as the standard one.\n",
    "\n",
    "Invalid parsing is handled with the `errors` parameter:\n",
    "\n",
    "* `coerce` (default): invalid parsing will be set to NaN\n",
    "* `ignore`: invalid parsing will return the input\n",
    "* `raise`: invalid parsing will raise an exception\n",
    "\n",
    "The following sections demonstrate the functionality of `clean_eu_at_02()` and `validate_eu_at_02()`. "
   ]
  },
  {
   "cell_type": "markdown",
   "id": "catholic-devil",
   "metadata": {},
   "source": [
    "### An example dataset containing AT-02 strings"
   ]
  },
  {
   "cell_type": "code",
   "execution_count": 1,
   "id": "maritime-victory",
   "metadata": {
    "execution": {
     "iopub.execute_input": "2021-10-30T05:18:39.888184Z",
     "iopub.status.busy": "2021-10-30T05:18:39.887657Z",
     "iopub.status.idle": "2021-10-30T05:18:40.123584Z",
     "shell.execute_reply": "2021-10-30T05:18:40.124240Z"
    }
   },
   "outputs": [
    {
     "data": {
      "text/html": [
       "<div>\n",
       "<style scoped>\n",
       "    .dataframe tbody tr th:only-of-type {\n",
       "        vertical-align: middle;\n",
       "    }\n",
       "\n",
       "    .dataframe tbody tr th {\n",
       "        vertical-align: top;\n",
       "    }\n",
       "\n",
       "    .dataframe thead th {\n",
       "        text-align: right;\n",
       "    }\n",
       "</style>\n",
       "<table border=\"1\" class=\"dataframe\">\n",
       "  <thead>\n",
       "    <tr style=\"text-align: right;\">\n",
       "      <th></th>\n",
       "      <th>eu_at_02</th>\n",
       "      <th>address</th>\n",
       "    </tr>\n",
       "  </thead>\n",
       "  <tbody>\n",
       "    <tr>\n",
       "      <th>0</th>\n",
       "      <td>ES++()+23ZZZ4//7690558N</td>\n",
       "      <td>123 Pine Ave.</td>\n",
       "    </tr>\n",
       "    <tr>\n",
       "      <th>1</th>\n",
       "      <td>ES2900047690558N</td>\n",
       "      <td>main st</td>\n",
       "    </tr>\n",
       "    <tr>\n",
       "      <th>2</th>\n",
       "      <td>BE 428759497</td>\n",
       "      <td>1234 west main heights 57033</td>\n",
       "    </tr>\n",
       "    <tr>\n",
       "      <th>3</th>\n",
       "      <td>BE431150351</td>\n",
       "      <td>apt 1 789 s maple rd manhattan</td>\n",
       "    </tr>\n",
       "    <tr>\n",
       "      <th>4</th>\n",
       "      <td>002 724 334</td>\n",
       "      <td>robie house, 789 north main street</td>\n",
       "    </tr>\n",
       "    <tr>\n",
       "      <th>5</th>\n",
       "      <td>hello</td>\n",
       "      <td>1111 S Figueroa St, Los Angeles, CA 90015</td>\n",
       "    </tr>\n",
       "    <tr>\n",
       "      <th>6</th>\n",
       "      <td>NaN</td>\n",
       "      <td>(staples center) 1111 S Figueroa St, Los Angeles</td>\n",
       "    </tr>\n",
       "    <tr>\n",
       "      <th>7</th>\n",
       "      <td>NULL</td>\n",
       "      <td>hello</td>\n",
       "    </tr>\n",
       "  </tbody>\n",
       "</table>\n",
       "</div>"
      ],
      "text/plain": [
       "                  eu_at_02                                           address\n",
       "0  ES++()+23ZZZ4//7690558N                                     123 Pine Ave.\n",
       "1         ES2900047690558N                                           main st\n",
       "2             BE 428759497                      1234 west main heights 57033\n",
       "3              BE431150351                    apt 1 789 s maple rd manhattan\n",
       "4              002 724 334                robie house, 789 north main street\n",
       "5                    hello         1111 S Figueroa St, Los Angeles, CA 90015\n",
       "6                      NaN  (staples center) 1111 S Figueroa St, Los Angeles\n",
       "7                     NULL                                             hello"
      ]
     },
     "execution_count": 1,
     "metadata": {},
     "output_type": "execute_result"
    }
   ],
   "source": [
    "import pandas as pd\n",
    "import numpy as np\n",
    "df = pd.DataFrame(\n",
    "    {\n",
    "        \"eu_at_02\": [\n",
    "            'ES++()+23ZZZ4//7690558N',\n",
    "            'ES2900047690558N',\n",
    "            'BE 428759497',\n",
    "            'BE431150351',\n",
    "            \"002 724 334\",\n",
    "            \"hello\",\n",
    "            np.nan,\n",
    "            \"NULL\",\n",
    "        ], \n",
    "        \"address\": [\n",
    "            \"123 Pine Ave.\",\n",
    "            \"main st\",\n",
    "            \"1234 west main heights 57033\",\n",
    "            \"apt 1 789 s maple rd manhattan\",\n",
    "            \"robie house, 789 north main street\",\n",
    "            \"1111 S Figueroa St, Los Angeles, CA 90015\",\n",
    "            \"(staples center) 1111 S Figueroa St, Los Angeles\",\n",
    "            \"hello\",\n",
    "        ]\n",
    "    }\n",
    ")\n",
    "df"
   ]
  },
  {
   "cell_type": "markdown",
   "id": "removed-renewal",
   "metadata": {},
   "source": [
    "## 1. Default `clean_eu_at_02`\n",
    "\n",
    "By default, `clean_eu_at_02` will clean eu_at_02 strings and output them in the standard format with proper separators."
   ]
  },
  {
   "cell_type": "code",
   "execution_count": 2,
   "id": "activated-dragon",
   "metadata": {
    "execution": {
     "iopub.execute_input": "2021-10-30T05:18:40.128898Z",
     "iopub.status.busy": "2021-10-30T05:18:40.128112Z",
     "iopub.status.idle": "2021-10-30T05:18:40.708303Z",
     "shell.execute_reply": "2021-10-30T05:18:40.707852Z"
    }
   },
   "outputs": [
    {
     "data": {
      "text/html": [
       "<div>\n",
       "<style scoped>\n",
       "    .dataframe tbody tr th:only-of-type {\n",
       "        vertical-align: middle;\n",
       "    }\n",
       "\n",
       "    .dataframe tbody tr th {\n",
       "        vertical-align: top;\n",
       "    }\n",
       "\n",
       "    .dataframe thead th {\n",
       "        text-align: right;\n",
       "    }\n",
       "</style>\n",
       "<table border=\"1\" class=\"dataframe\">\n",
       "  <thead>\n",
       "    <tr style=\"text-align: right;\">\n",
       "      <th></th>\n",
       "      <th>eu_at_02</th>\n",
       "      <th>address</th>\n",
       "      <th>eu_at_02_clean</th>\n",
       "    </tr>\n",
       "  </thead>\n",
       "  <tbody>\n",
       "    <tr>\n",
       "      <th>0</th>\n",
       "      <td>ES++()+23ZZZ4//7690558N</td>\n",
       "      <td>123 Pine Ave.</td>\n",
       "      <td>ES23ZZZ47690558N</td>\n",
       "    </tr>\n",
       "    <tr>\n",
       "      <th>1</th>\n",
       "      <td>ES2900047690558N</td>\n",
       "      <td>main st</td>\n",
       "      <td>NaN</td>\n",
       "    </tr>\n",
       "    <tr>\n",
       "      <th>2</th>\n",
       "      <td>BE 428759497</td>\n",
       "      <td>1234 west main heights 57033</td>\n",
       "      <td>NaN</td>\n",
       "    </tr>\n",
       "    <tr>\n",
       "      <th>3</th>\n",
       "      <td>BE431150351</td>\n",
       "      <td>apt 1 789 s maple rd manhattan</td>\n",
       "      <td>NaN</td>\n",
       "    </tr>\n",
       "    <tr>\n",
       "      <th>4</th>\n",
       "      <td>002 724 334</td>\n",
       "      <td>robie house, 789 north main street</td>\n",
       "      <td>NaN</td>\n",
       "    </tr>\n",
       "    <tr>\n",
       "      <th>5</th>\n",
       "      <td>hello</td>\n",
       "      <td>1111 S Figueroa St, Los Angeles, CA 90015</td>\n",
       "      <td>NaN</td>\n",
       "    </tr>\n",
       "    <tr>\n",
       "      <th>6</th>\n",
       "      <td>NaN</td>\n",
       "      <td>(staples center) 1111 S Figueroa St, Los Angeles</td>\n",
       "      <td>NaN</td>\n",
       "    </tr>\n",
       "    <tr>\n",
       "      <th>7</th>\n",
       "      <td>NULL</td>\n",
       "      <td>hello</td>\n",
       "      <td>NaN</td>\n",
       "    </tr>\n",
       "  </tbody>\n",
       "</table>\n",
       "</div>"
      ],
      "text/plain": [
       "                  eu_at_02                                           address  \\\n",
       "0  ES++()+23ZZZ4//7690558N                                     123 Pine Ave.   \n",
       "1         ES2900047690558N                                           main st   \n",
       "2             BE 428759497                      1234 west main heights 57033   \n",
       "3              BE431150351                    apt 1 789 s maple rd manhattan   \n",
       "4              002 724 334                robie house, 789 north main street   \n",
       "5                    hello         1111 S Figueroa St, Los Angeles, CA 90015   \n",
       "6                      NaN  (staples center) 1111 S Figueroa St, Los Angeles   \n",
       "7                     NULL                                             hello   \n",
       "\n",
       "     eu_at_02_clean  \n",
       "0  ES23ZZZ47690558N  \n",
       "1               NaN  \n",
       "2               NaN  \n",
       "3               NaN  \n",
       "4               NaN  \n",
       "5               NaN  \n",
       "6               NaN  \n",
       "7               NaN  "
      ]
     },
     "execution_count": 1,
     "metadata": {},
     "output_type": "execute_result"
    }
   ],
   "source": [
    "from dataprep.clean import clean_eu_at_02\n",
    "clean_eu_at_02(df, column = \"eu_at_02\")"
   ]
  },
  {
   "cell_type": "markdown",
   "id": "selective-scottish",
   "metadata": {},
   "source": [
    "## 2. Output formats"
   ]
  },
  {
   "cell_type": "markdown",
   "id": "three-technology",
   "metadata": {},
   "source": [
    "This section demonstrates the output parameter."
   ]
  },
  {
   "cell_type": "markdown",
   "id": "bigger-lodging",
   "metadata": {},
   "source": [
    "### `standard` (default)"
   ]
  },
  {
   "cell_type": "code",
   "execution_count": 3,
   "id": "blessed-poverty",
   "metadata": {
    "execution": {
     "iopub.execute_input": "2021-10-30T05:18:40.726280Z",
     "iopub.status.busy": "2021-10-30T05:18:40.725786Z",
     "iopub.status.idle": "2021-10-30T05:18:40.738475Z",
     "shell.execute_reply": "2021-10-30T05:18:40.738910Z"
    }
   },
   "outputs": [
    {
     "data": {
      "text/html": [
       "<div>\n",
       "<style scoped>\n",
       "    .dataframe tbody tr th:only-of-type {\n",
       "        vertical-align: middle;\n",
       "    }\n",
       "\n",
       "    .dataframe tbody tr th {\n",
       "        vertical-align: top;\n",
       "    }\n",
       "\n",
       "    .dataframe thead th {\n",
       "        text-align: right;\n",
       "    }\n",
       "</style>\n",
       "<table border=\"1\" class=\"dataframe\">\n",
       "  <thead>\n",
       "    <tr style=\"text-align: right;\">\n",
       "      <th></th>\n",
       "      <th>eu_at_02</th>\n",
       "      <th>address</th>\n",
       "      <th>eu_at_02_clean</th>\n",
       "    </tr>\n",
       "  </thead>\n",
       "  <tbody>\n",
       "    <tr>\n",
       "      <th>0</th>\n",
       "      <td>ES++()+23ZZZ4//7690558N</td>\n",
       "      <td>123 Pine Ave.</td>\n",
       "      <td>ES23ZZZ47690558N</td>\n",
       "    </tr>\n",
       "    <tr>\n",
       "      <th>1</th>\n",
       "      <td>ES2900047690558N</td>\n",
       "      <td>main st</td>\n",
       "      <td>NaN</td>\n",
       "    </tr>\n",
       "    <tr>\n",
       "      <th>2</th>\n",
       "      <td>BE 428759497</td>\n",
       "      <td>1234 west main heights 57033</td>\n",
       "      <td>NaN</td>\n",
       "    </tr>\n",
       "    <tr>\n",
       "      <th>3</th>\n",
       "      <td>BE431150351</td>\n",
       "      <td>apt 1 789 s maple rd manhattan</td>\n",
       "      <td>NaN</td>\n",
       "    </tr>\n",
       "    <tr>\n",
       "      <th>4</th>\n",
       "      <td>002 724 334</td>\n",
       "      <td>robie house, 789 north main street</td>\n",
       "      <td>NaN</td>\n",
       "    </tr>\n",
       "    <tr>\n",
       "      <th>5</th>\n",
       "      <td>hello</td>\n",
       "      <td>1111 S Figueroa St, Los Angeles, CA 90015</td>\n",
       "      <td>NaN</td>\n",
       "    </tr>\n",
       "    <tr>\n",
       "      <th>6</th>\n",
       "      <td>NaN</td>\n",
       "      <td>(staples center) 1111 S Figueroa St, Los Angeles</td>\n",
       "      <td>NaN</td>\n",
       "    </tr>\n",
       "    <tr>\n",
       "      <th>7</th>\n",
       "      <td>NULL</td>\n",
       "      <td>hello</td>\n",
       "      <td>NaN</td>\n",
       "    </tr>\n",
       "  </tbody>\n",
       "</table>\n",
       "</div>"
      ],
      "text/plain": [
       "                  eu_at_02                                           address  \\\n",
       "0  ES++()+23ZZZ4//7690558N                                     123 Pine Ave.   \n",
       "1         ES2900047690558N                                           main st   \n",
       "2             BE 428759497                      1234 west main heights 57033   \n",
       "3              BE431150351                    apt 1 789 s maple rd manhattan   \n",
       "4              002 724 334                robie house, 789 north main street   \n",
       "5                    hello         1111 S Figueroa St, Los Angeles, CA 90015   \n",
       "6                      NaN  (staples center) 1111 S Figueroa St, Los Angeles   \n",
       "7                     NULL                                             hello   \n",
       "\n",
       "     eu_at_02_clean  \n",
       "0  ES23ZZZ47690558N  \n",
       "1               NaN  \n",
       "2               NaN  \n",
       "3               NaN  \n",
       "4               NaN  \n",
       "5               NaN  \n",
       "6               NaN  \n",
       "7               NaN  "
      ]
     },
     "execution_count": 1,
     "metadata": {},
     "output_type": "execute_result"
    }
   ],
   "source": [
    "clean_eu_at_02(df, column = \"eu_at_02\", output_format=\"standard\")"
   ]
  },
  {
   "cell_type": "markdown",
   "id": "latest-czech",
   "metadata": {},
   "source": [
    "### `compact`"
   ]
  },
  {
   "cell_type": "code",
   "execution_count": 4,
   "id": "utility-forest",
   "metadata": {
    "execution": {
     "iopub.execute_input": "2021-10-30T05:18:40.760203Z",
     "iopub.status.busy": "2021-10-30T05:18:40.759720Z",
     "iopub.status.idle": "2021-10-30T05:18:40.768755Z",
     "shell.execute_reply": "2021-10-30T05:18:40.769150Z"
    }
   },
   "outputs": [
    {
     "data": {
      "text/html": [
       "<div>\n",
       "<style scoped>\n",
       "    .dataframe tbody tr th:only-of-type {\n",
       "        vertical-align: middle;\n",
       "    }\n",
       "\n",
       "    .dataframe tbody tr th {\n",
       "        vertical-align: top;\n",
       "    }\n",
       "\n",
       "    .dataframe thead th {\n",
       "        text-align: right;\n",
       "    }\n",
       "</style>\n",
       "<table border=\"1\" class=\"dataframe\">\n",
       "  <thead>\n",
       "    <tr style=\"text-align: right;\">\n",
       "      <th></th>\n",
       "      <th>eu_at_02</th>\n",
       "      <th>address</th>\n",
       "      <th>eu_at_02_clean</th>\n",
       "    </tr>\n",
       "  </thead>\n",
       "  <tbody>\n",
       "    <tr>\n",
       "      <th>0</th>\n",
       "      <td>ES++()+23ZZZ4//7690558N</td>\n",
       "      <td>123 Pine Ave.</td>\n",
       "      <td>ES23ZZZ47690558N</td>\n",
       "    </tr>\n",
       "    <tr>\n",
       "      <th>1</th>\n",
       "      <td>ES2900047690558N</td>\n",
       "      <td>main st</td>\n",
       "      <td>NaN</td>\n",
       "    </tr>\n",
       "    <tr>\n",
       "      <th>2</th>\n",
       "      <td>BE 428759497</td>\n",
       "      <td>1234 west main heights 57033</td>\n",
       "      <td>NaN</td>\n",
       "    </tr>\n",
       "    <tr>\n",
       "      <th>3</th>\n",
       "      <td>BE431150351</td>\n",
       "      <td>apt 1 789 s maple rd manhattan</td>\n",
       "      <td>NaN</td>\n",
       "    </tr>\n",
       "    <tr>\n",
       "      <th>4</th>\n",
       "      <td>002 724 334</td>\n",
       "      <td>robie house, 789 north main street</td>\n",
       "      <td>NaN</td>\n",
       "    </tr>\n",
       "    <tr>\n",
       "      <th>5</th>\n",
       "      <td>hello</td>\n",
       "      <td>1111 S Figueroa St, Los Angeles, CA 90015</td>\n",
       "      <td>NaN</td>\n",
       "    </tr>\n",
       "    <tr>\n",
       "      <th>6</th>\n",
       "      <td>NaN</td>\n",
       "      <td>(staples center) 1111 S Figueroa St, Los Angeles</td>\n",
       "      <td>NaN</td>\n",
       "    </tr>\n",
       "    <tr>\n",
       "      <th>7</th>\n",
       "      <td>NULL</td>\n",
       "      <td>hello</td>\n",
       "      <td>NaN</td>\n",
       "    </tr>\n",
       "  </tbody>\n",
       "</table>\n",
       "</div>"
      ],
      "text/plain": [
       "                  eu_at_02                                           address  \\\n",
       "0  ES++()+23ZZZ4//7690558N                                     123 Pine Ave.   \n",
       "1         ES2900047690558N                                           main st   \n",
       "2             BE 428759497                      1234 west main heights 57033   \n",
       "3              BE431150351                    apt 1 789 s maple rd manhattan   \n",
       "4              002 724 334                robie house, 789 north main street   \n",
       "5                    hello         1111 S Figueroa St, Los Angeles, CA 90015   \n",
       "6                      NaN  (staples center) 1111 S Figueroa St, Los Angeles   \n",
       "7                     NULL                                             hello   \n",
       "\n",
       "     eu_at_02_clean  \n",
       "0  ES23ZZZ47690558N  \n",
       "1               NaN  \n",
       "2               NaN  \n",
       "3               NaN  \n",
       "4               NaN  \n",
       "5               NaN  \n",
       "6               NaN  \n",
       "7               NaN  "
      ]
     },
     "execution_count": 1,
     "metadata": {},
     "output_type": "execute_result"
    }
   ],
   "source": [
    "clean_eu_at_02(df, column = \"eu_at_02\", output_format=\"compact\")"
   ]
  },
  {
   "cell_type": "markdown",
   "id": "abstract-northeast",
   "metadata": {},
   "source": [
    "## 3. `inplace` parameter\n",
    "\n",
    "This deletes the given column from the returned DataFrame. \n",
    "A new column containing cleaned AT-02 strings is added with a title in the format `\"{original title}_clean\"`."
   ]
  },
  {
   "cell_type": "code",
   "execution_count": 5,
   "id": "pursuant-contributor",
   "metadata": {
    "execution": {
     "iopub.execute_input": "2021-10-30T05:18:40.799406Z",
     "iopub.status.busy": "2021-10-30T05:18:40.795330Z",
     "iopub.status.idle": "2021-10-30T05:18:40.807229Z",
     "shell.execute_reply": "2021-10-30T05:18:40.806756Z"
    }
   },
   "outputs": [
    {
     "data": {
      "text/html": [
       "<div>\n",
       "<style scoped>\n",
       "    .dataframe tbody tr th:only-of-type {\n",
       "        vertical-align: middle;\n",
       "    }\n",
       "\n",
       "    .dataframe tbody tr th {\n",
       "        vertical-align: top;\n",
       "    }\n",
       "\n",
       "    .dataframe thead th {\n",
       "        text-align: right;\n",
       "    }\n",
       "</style>\n",
       "<table border=\"1\" class=\"dataframe\">\n",
       "  <thead>\n",
       "    <tr style=\"text-align: right;\">\n",
       "      <th></th>\n",
       "      <th>eu_at_02_clean</th>\n",
       "      <th>address</th>\n",
       "    </tr>\n",
       "  </thead>\n",
       "  <tbody>\n",
       "    <tr>\n",
       "      <th>0</th>\n",
       "      <td>ES23ZZZ47690558N</td>\n",
       "      <td>123 Pine Ave.</td>\n",
       "    </tr>\n",
       "    <tr>\n",
       "      <th>1</th>\n",
       "      <td>NaN</td>\n",
       "      <td>main st</td>\n",
       "    </tr>\n",
       "    <tr>\n",
       "      <th>2</th>\n",
       "      <td>NaN</td>\n",
       "      <td>1234 west main heights 57033</td>\n",
       "    </tr>\n",
       "    <tr>\n",
       "      <th>3</th>\n",
       "      <td>NaN</td>\n",
       "      <td>apt 1 789 s maple rd manhattan</td>\n",
       "    </tr>\n",
       "    <tr>\n",
       "      <th>4</th>\n",
       "      <td>NaN</td>\n",
       "      <td>robie house, 789 north main street</td>\n",
       "    </tr>\n",
       "    <tr>\n",
       "      <th>5</th>\n",
       "      <td>NaN</td>\n",
       "      <td>1111 S Figueroa St, Los Angeles, CA 90015</td>\n",
       "    </tr>\n",
       "    <tr>\n",
       "      <th>6</th>\n",
       "      <td>NaN</td>\n",
       "      <td>(staples center) 1111 S Figueroa St, Los Angeles</td>\n",
       "    </tr>\n",
       "    <tr>\n",
       "      <th>7</th>\n",
       "      <td>NaN</td>\n",
       "      <td>hello</td>\n",
       "    </tr>\n",
       "  </tbody>\n",
       "</table>\n",
       "</div>"
      ],
      "text/plain": [
       "     eu_at_02_clean                                           address\n",
       "0  ES23ZZZ47690558N                                     123 Pine Ave.\n",
       "1               NaN                                           main st\n",
       "2               NaN                      1234 west main heights 57033\n",
       "3               NaN                    apt 1 789 s maple rd manhattan\n",
       "4               NaN                robie house, 789 north main street\n",
       "5               NaN         1111 S Figueroa St, Los Angeles, CA 90015\n",
       "6               NaN  (staples center) 1111 S Figueroa St, Los Angeles\n",
       "7               NaN                                             hello"
      ]
     },
     "execution_count": 1,
     "metadata": {},
     "output_type": "execute_result"
    }
   ],
   "source": [
    "clean_eu_at_02(df, column=\"eu_at_02\", inplace=True)"
   ]
  },
  {
   "cell_type": "markdown",
   "id": "vital-recovery",
   "metadata": {},
   "source": [
    "## 4. `errors` parameter"
   ]
  },
  {
   "cell_type": "markdown",
   "id": "amber-domestic",
   "metadata": {},
   "source": [
    "### `coerce` (default)"
   ]
  },
  {
   "cell_type": "code",
   "execution_count": 6,
   "id": "military-cherry",
   "metadata": {
    "execution": {
     "iopub.execute_input": "2021-10-30T05:18:40.826222Z",
     "iopub.status.busy": "2021-10-30T05:18:40.824256Z",
     "iopub.status.idle": "2021-10-30T05:18:40.835984Z",
     "shell.execute_reply": "2021-10-30T05:18:40.836587Z"
    }
   },
   "outputs": [
    {
     "data": {
      "text/html": [
       "<div>\n",
       "<style scoped>\n",
       "    .dataframe tbody tr th:only-of-type {\n",
       "        vertical-align: middle;\n",
       "    }\n",
       "\n",
       "    .dataframe tbody tr th {\n",
       "        vertical-align: top;\n",
       "    }\n",
       "\n",
       "    .dataframe thead th {\n",
       "        text-align: right;\n",
       "    }\n",
       "</style>\n",
       "<table border=\"1\" class=\"dataframe\">\n",
       "  <thead>\n",
       "    <tr style=\"text-align: right;\">\n",
       "      <th></th>\n",
       "      <th>eu_at_02</th>\n",
       "      <th>address</th>\n",
       "      <th>eu_at_02_clean</th>\n",
       "    </tr>\n",
       "  </thead>\n",
       "  <tbody>\n",
       "    <tr>\n",
       "      <th>0</th>\n",
       "      <td>ES++()+23ZZZ4//7690558N</td>\n",
       "      <td>123 Pine Ave.</td>\n",
       "      <td>ES23ZZZ47690558N</td>\n",
       "    </tr>\n",
       "    <tr>\n",
       "      <th>1</th>\n",
       "      <td>ES2900047690558N</td>\n",
       "      <td>main st</td>\n",
       "      <td>NaN</td>\n",
       "    </tr>\n",
       "    <tr>\n",
       "      <th>2</th>\n",
       "      <td>BE 428759497</td>\n",
       "      <td>1234 west main heights 57033</td>\n",
       "      <td>NaN</td>\n",
       "    </tr>\n",
       "    <tr>\n",
       "      <th>3</th>\n",
       "      <td>BE431150351</td>\n",
       "      <td>apt 1 789 s maple rd manhattan</td>\n",
       "      <td>NaN</td>\n",
       "    </tr>\n",
       "    <tr>\n",
       "      <th>4</th>\n",
       "      <td>002 724 334</td>\n",
       "      <td>robie house, 789 north main street</td>\n",
       "      <td>NaN</td>\n",
       "    </tr>\n",
       "    <tr>\n",
       "      <th>5</th>\n",
       "      <td>hello</td>\n",
       "      <td>1111 S Figueroa St, Los Angeles, CA 90015</td>\n",
       "      <td>NaN</td>\n",
       "    </tr>\n",
       "    <tr>\n",
       "      <th>6</th>\n",
       "      <td>NaN</td>\n",
       "      <td>(staples center) 1111 S Figueroa St, Los Angeles</td>\n",
       "      <td>NaN</td>\n",
       "    </tr>\n",
       "    <tr>\n",
       "      <th>7</th>\n",
       "      <td>NULL</td>\n",
       "      <td>hello</td>\n",
       "      <td>NaN</td>\n",
       "    </tr>\n",
       "  </tbody>\n",
       "</table>\n",
       "</div>"
      ],
      "text/plain": [
       "                  eu_at_02                                           address  \\\n",
       "0  ES++()+23ZZZ4//7690558N                                     123 Pine Ave.   \n",
       "1         ES2900047690558N                                           main st   \n",
       "2             BE 428759497                      1234 west main heights 57033   \n",
       "3              BE431150351                    apt 1 789 s maple rd manhattan   \n",
       "4              002 724 334                robie house, 789 north main street   \n",
       "5                    hello         1111 S Figueroa St, Los Angeles, CA 90015   \n",
       "6                      NaN  (staples center) 1111 S Figueroa St, Los Angeles   \n",
       "7                     NULL                                             hello   \n",
       "\n",
       "     eu_at_02_clean  \n",
       "0  ES23ZZZ47690558N  \n",
       "1               NaN  \n",
       "2               NaN  \n",
       "3               NaN  \n",
       "4               NaN  \n",
       "5               NaN  \n",
       "6               NaN  \n",
       "7               NaN  "
      ]
     },
     "execution_count": 1,
     "metadata": {},
     "output_type": "execute_result"
    }
   ],
   "source": [
    "clean_eu_at_02(df, \"eu_at_02\", errors=\"coerce\")"
   ]
  },
  {
   "cell_type": "markdown",
   "id": "occupied-portrait",
   "metadata": {},
   "source": [
    "### `ignore`"
   ]
  },
  {
   "cell_type": "code",
   "execution_count": 7,
   "id": "flush-sweden",
   "metadata": {
    "execution": {
     "iopub.execute_input": "2021-10-30T05:18:40.863085Z",
     "iopub.status.busy": "2021-10-30T05:18:40.856032Z",
     "iopub.status.idle": "2021-10-30T05:18:40.867140Z",
     "shell.execute_reply": "2021-10-30T05:18:40.867781Z"
    }
   },
   "outputs": [
    {
     "data": {
      "text/html": [
       "<div>\n",
       "<style scoped>\n",
       "    .dataframe tbody tr th:only-of-type {\n",
       "        vertical-align: middle;\n",
       "    }\n",
       "\n",
       "    .dataframe tbody tr th {\n",
       "        vertical-align: top;\n",
       "    }\n",
       "\n",
       "    .dataframe thead th {\n",
       "        text-align: right;\n",
       "    }\n",
       "</style>\n",
       "<table border=\"1\" class=\"dataframe\">\n",
       "  <thead>\n",
       "    <tr style=\"text-align: right;\">\n",
       "      <th></th>\n",
       "      <th>eu_at_02</th>\n",
       "      <th>address</th>\n",
       "      <th>eu_at_02_clean</th>\n",
       "    </tr>\n",
       "  </thead>\n",
       "  <tbody>\n",
       "    <tr>\n",
       "      <th>0</th>\n",
       "      <td>ES++()+23ZZZ4//7690558N</td>\n",
       "      <td>123 Pine Ave.</td>\n",
       "      <td>ES23ZZZ47690558N</td>\n",
       "    </tr>\n",
       "    <tr>\n",
       "      <th>1</th>\n",
       "      <td>ES2900047690558N</td>\n",
       "      <td>main st</td>\n",
       "      <td>ES2900047690558N</td>\n",
       "    </tr>\n",
       "    <tr>\n",
       "      <th>2</th>\n",
       "      <td>BE 428759497</td>\n",
       "      <td>1234 west main heights 57033</td>\n",
       "      <td>BE 428759497</td>\n",
       "    </tr>\n",
       "    <tr>\n",
       "      <th>3</th>\n",
       "      <td>BE431150351</td>\n",
       "      <td>apt 1 789 s maple rd manhattan</td>\n",
       "      <td>BE431150351</td>\n",
       "    </tr>\n",
       "    <tr>\n",
       "      <th>4</th>\n",
       "      <td>002 724 334</td>\n",
       "      <td>robie house, 789 north main street</td>\n",
       "      <td>002 724 334</td>\n",
       "    </tr>\n",
       "    <tr>\n",
       "      <th>5</th>\n",
       "      <td>hello</td>\n",
       "      <td>1111 S Figueroa St, Los Angeles, CA 90015</td>\n",
       "      <td>hello</td>\n",
       "    </tr>\n",
       "    <tr>\n",
       "      <th>6</th>\n",
       "      <td>NaN</td>\n",
       "      <td>(staples center) 1111 S Figueroa St, Los Angeles</td>\n",
       "      <td>NaN</td>\n",
       "    </tr>\n",
       "    <tr>\n",
       "      <th>7</th>\n",
       "      <td>NULL</td>\n",
       "      <td>hello</td>\n",
       "      <td>NaN</td>\n",
       "    </tr>\n",
       "  </tbody>\n",
       "</table>\n",
       "</div>"
      ],
      "text/plain": [
       "                  eu_at_02                                           address  \\\n",
       "0  ES++()+23ZZZ4//7690558N                                     123 Pine Ave.   \n",
       "1         ES2900047690558N                                           main st   \n",
       "2             BE 428759497                      1234 west main heights 57033   \n",
       "3              BE431150351                    apt 1 789 s maple rd manhattan   \n",
       "4              002 724 334                robie house, 789 north main street   \n",
       "5                    hello         1111 S Figueroa St, Los Angeles, CA 90015   \n",
       "6                      NaN  (staples center) 1111 S Figueroa St, Los Angeles   \n",
       "7                     NULL                                             hello   \n",
       "\n",
       "     eu_at_02_clean  \n",
       "0  ES23ZZZ47690558N  \n",
       "1  ES2900047690558N  \n",
       "2      BE 428759497  \n",
       "3       BE431150351  \n",
       "4       002 724 334  \n",
       "5             hello  \n",
       "6               NaN  \n",
       "7               NaN  "
      ]
     },
     "execution_count": 1,
     "metadata": {},
     "output_type": "execute_result"
    }
   ],
   "source": [
    "clean_eu_at_02(df, \"eu_at_02\", errors=\"ignore\")"
   ]
  },
  {
   "cell_type": "markdown",
   "id": "honest-supervisor",
   "metadata": {},
   "source": [
    "## 4. `validate_eu_at_02()`"
   ]
  },
  {
   "cell_type": "markdown",
   "id": "strange-reasoning",
   "metadata": {},
   "source": [
    "`validate_eu_at_02()` returns `True` when the input is a valid AT-02. Otherwise it returns `False`.\n",
    "\n",
    "The input of `validate_eu_at_02()` can be a string, a Pandas DataSeries, a Dask DataSeries, a Pandas DataFrame and a dask DataFrame.\n",
    "\n",
    "When the input is a string, a Pandas DataSeries or a Dask DataSeries, user doesn't need to specify a column name to be validated. \n",
    "\n",
    "When the input is a Pandas DataFrame or a dask DataFrame, user can both specify or not specify a column name to be validated. If user specify the column name, `validate_eu_at_02()` only returns the validation result for the specified column. If user doesn't specify the column name, `validate_eu_at_02()` returns the validation result for the whole DataFrame."
   ]
  },
  {
   "cell_type": "code",
   "execution_count": 8,
   "id": "sonic-picture",
   "metadata": {
    "execution": {
     "iopub.execute_input": "2021-10-30T05:18:40.872728Z",
     "iopub.status.busy": "2021-10-30T05:18:40.872254Z",
     "iopub.status.idle": "2021-10-30T05:18:40.875963Z",
     "shell.execute_reply": "2021-10-30T05:18:40.876353Z"
    }
   },
   "outputs": [
    {
     "name": "stdout",
     "output_type": "stream",
     "text": [
      "True\n",
      "False\n",
      "False\n",
      "False\n",
      "False\n",
      "False\n",
      "False\n",
      "False\n"
     ]
    }
   ],
   "source": [
    "from dataprep.clean import validate_eu_at_02\n",
    "print(validate_eu_at_02('ES++()+23ZZZ4//7690558N'))\n",
    "print(validate_eu_at_02('ES2900047690558N'))\n",
    "print(validate_eu_at_02('BE 428759497'))\n",
    "print(validate_eu_at_02('BE431150351'))\n",
    "print(validate_eu_at_02(\"004085616\"))\n",
    "print(validate_eu_at_02(\"hello\"))\n",
    "print(validate_eu_at_02(np.nan))\n",
    "print(validate_eu_at_02(\"NULL\"))"
   ]
  },
  {
   "cell_type": "markdown",
   "id": "recovered-father",
   "metadata": {},
   "source": [
    "### Series"
   ]
  },
  {
   "cell_type": "code",
   "execution_count": 9,
   "id": "empty-switch",
   "metadata": {
    "execution": {
     "iopub.execute_input": "2021-10-30T05:18:40.881026Z",
     "iopub.status.busy": "2021-10-30T05:18:40.880532Z",
     "iopub.status.idle": "2021-10-30T05:18:40.885492Z",
     "shell.execute_reply": "2021-10-30T05:18:40.885069Z"
    }
   },
   "outputs": [
    {
     "data": {
      "text/plain": [
       "0     True\n",
       "1    False\n",
       "2    False\n",
       "3    False\n",
       "4    False\n",
       "5    False\n",
       "6    False\n",
       "7    False\n",
       "Name: eu_at_02, dtype: bool"
      ]
     },
     "execution_count": 1,
     "metadata": {},
     "output_type": "execute_result"
    }
   ],
   "source": [
    "validate_eu_at_02(df[\"eu_at_02\"])"
   ]
  },
  {
   "cell_type": "markdown",
   "id": "juvenile-artist",
   "metadata": {},
   "source": [
    "### DataFrame + Specify Column"
   ]
  },
  {
   "cell_type": "code",
   "execution_count": 10,
   "id": "domestic-campaign",
   "metadata": {
    "execution": {
     "iopub.execute_input": "2021-10-30T05:18:40.890034Z",
     "iopub.status.busy": "2021-10-30T05:18:40.889551Z",
     "iopub.status.idle": "2021-10-30T05:18:40.894710Z",
     "shell.execute_reply": "2021-10-30T05:18:40.893825Z"
    }
   },
   "outputs": [
    {
     "data": {
      "text/plain": [
       "0     True\n",
       "1    False\n",
       "2    False\n",
       "3    False\n",
       "4    False\n",
       "5    False\n",
       "6    False\n",
       "7    False\n",
       "Name: eu_at_02, dtype: bool"
      ]
     },
     "execution_count": 1,
     "metadata": {},
     "output_type": "execute_result"
    }
   ],
   "source": [
    "validate_eu_at_02(df, column=\"eu_at_02\")"
   ]
  },
  {
   "cell_type": "markdown",
   "id": "respected-doctrine",
   "metadata": {},
   "source": [
    "### Only DataFrame"
   ]
  },
  {
   "cell_type": "code",
   "execution_count": 11,
   "id": "forty-network",
   "metadata": {
    "execution": {
     "iopub.execute_input": "2021-10-30T05:18:40.902808Z",
     "iopub.status.busy": "2021-10-30T05:18:40.897360Z",
     "iopub.status.idle": "2021-10-30T05:18:40.907603Z",
     "shell.execute_reply": "2021-10-30T05:18:40.907179Z"
    },
    "scrolled": true
   },
   "outputs": [
    {
     "data": {
      "text/html": [
       "<div>\n",
       "<style scoped>\n",
       "    .dataframe tbody tr th:only-of-type {\n",
       "        vertical-align: middle;\n",
       "    }\n",
       "\n",
       "    .dataframe tbody tr th {\n",
       "        vertical-align: top;\n",
       "    }\n",
       "\n",
       "    .dataframe thead th {\n",
       "        text-align: right;\n",
       "    }\n",
       "</style>\n",
       "<table border=\"1\" class=\"dataframe\">\n",
       "  <thead>\n",
       "    <tr style=\"text-align: right;\">\n",
       "      <th></th>\n",
       "      <th>eu_at_02</th>\n",
       "      <th>address</th>\n",
       "    </tr>\n",
       "  </thead>\n",
       "  <tbody>\n",
       "    <tr>\n",
       "      <th>0</th>\n",
       "      <td>True</td>\n",
       "      <td>False</td>\n",
       "    </tr>\n",
       "    <tr>\n",
       "      <th>1</th>\n",
       "      <td>False</td>\n",
       "      <td>False</td>\n",
       "    </tr>\n",
       "    <tr>\n",
       "      <th>2</th>\n",
       "      <td>False</td>\n",
       "      <td>False</td>\n",
       "    </tr>\n",
       "    <tr>\n",
       "      <th>3</th>\n",
       "      <td>False</td>\n",
       "      <td>False</td>\n",
       "    </tr>\n",
       "    <tr>\n",
       "      <th>4</th>\n",
       "      <td>False</td>\n",
       "      <td>False</td>\n",
       "    </tr>\n",
       "    <tr>\n",
       "      <th>5</th>\n",
       "      <td>False</td>\n",
       "      <td>False</td>\n",
       "    </tr>\n",
       "    <tr>\n",
       "      <th>6</th>\n",
       "      <td>False</td>\n",
       "      <td>False</td>\n",
       "    </tr>\n",
       "    <tr>\n",
       "      <th>7</th>\n",
       "      <td>False</td>\n",
       "      <td>False</td>\n",
       "    </tr>\n",
       "  </tbody>\n",
       "</table>\n",
       "</div>"
      ],
      "text/plain": [
       "   eu_at_02  address\n",
       "0      True    False\n",
       "1     False    False\n",
       "2     False    False\n",
       "3     False    False\n",
       "4     False    False\n",
       "5     False    False\n",
       "6     False    False\n",
       "7     False    False"
      ]
     },
     "execution_count": 1,
     "metadata": {},
     "output_type": "execute_result"
    }
   ],
   "source": [
    "validate_eu_at_02(df)"
   ]
  },
  {
   "cell_type": "code",
   "execution_count": null,
   "id": "improving-texas",
   "metadata": {},
   "outputs": [],
   "source": []
  }
 ],
 "metadata": {
  "kernelspec": {
   "display_name": "Python 3",
   "language": "python",
   "name": "python3"
  },
  "language_info": {
   "codemirror_mode": {
    "name": "ipython",
    "version": 3
   },
   "file_extension": ".py",
   "mimetype": "text/x-python",
   "name": "python",
   "nbconvert_exporter": "python",
   "pygments_lexer": "ipython3",
   "version": "3.8.10"
  }
 },
 "nbformat": 4,
 "nbformat_minor": 5
}
