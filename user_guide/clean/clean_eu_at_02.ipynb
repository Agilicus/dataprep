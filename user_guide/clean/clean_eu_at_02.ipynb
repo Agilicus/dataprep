{
 "cells": [
  {
   "cell_type": "raw",
   "id": "transsexual-threat",
   "metadata": {},
   "source": [
    ".. _eu_at_02_userguide:\n",
    "\n",
    "AT-02 Strings\n",
    "============"
   ]
  },
  {
   "cell_type": "raw",
   "id": "expected-ultimate",
   "metadata": {},
   "source": [
    "Introduction\n",
    "------------\n",
    "\n",
    "The function :func:`clean_eu_at_02() <dataprep.clean.clean_eu_at_02.clean_eu_at_02>` cleans a column containing AT-02 (SEPA Creditor identifier) strings, and standardizes them in a given format. The function :func:`validate_eu_at_02() <dataprep.clean.clean_eu_at_02.validate_eu_at_02>` validates either a single AT-02 strings, a column of AT-02 strings or a DataFrame of AT-02 strings, returning `True` if the value is valid, and `False` otherwise."
   ]
  },
  {
   "cell_type": "markdown",
   "id": "forbidden-bandwidth",
   "metadata": {},
   "source": [
    "AT-02 strings can be converted to the following formats via the `output_format` parameter:\n",
    "\n",
    "* `compact`: only number strings without any seperators or whitespace, like \"ES23ZZZ47690558N\"\n",
    "* `standard`: AT-02 strings with proper whitespace in the proper places. Note that in the case of AT-02, the compact format is the same as the standard one.\n",
    "\n",
    "Invalid parsing is handled with the `errors` parameter:\n",
    "\n",
    "* `coerce` (default): invalid parsing will be set to NaN\n",
    "* `ignore`: invalid parsing will return the input\n",
    "* `raise`: invalid parsing will raise an exception\n",
    "\n",
    "The following sections demonstrate the functionality of `clean_eu_at_02()` and `validate_eu_at_02()`. "
   ]
  },
  {
   "cell_type": "markdown",
   "id": "approximate-railway",
   "metadata": {},
   "source": [
    "### An example dataset containing AT-02 strings"
   ]
  },
  {
   "cell_type": "code",
   "execution_count": 1,
   "id": "bridal-offer",
   "metadata": {
    "execution": {
     "iopub.execute_input": "2021-10-26T23:00:33.459585Z",
     "iopub.status.busy": "2021-10-26T23:00:33.459027Z",
     "iopub.status.idle": "2021-10-26T23:00:33.681974Z",
     "shell.execute_reply": "2021-10-26T23:00:33.681497Z"
    }
   },
   "outputs": [
    {
     "data": {
      "text/html": [
       "<div>\n",
       "<style scoped>\n",
       "    .dataframe tbody tr th:only-of-type {\n",
       "        vertical-align: middle;\n",
       "    }\n",
       "\n",
       "    .dataframe tbody tr th {\n",
       "        vertical-align: top;\n",
       "    }\n",
       "\n",
       "    .dataframe thead th {\n",
       "        text-align: right;\n",
       "    }\n",
       "</style>\n",
       "<table border=\"1\" class=\"dataframe\">\n",
       "  <thead>\n",
       "    <tr style=\"text-align: right;\">\n",
       "      <th></th>\n",
       "      <th>eu_at_02</th>\n",
       "      <th>address</th>\n",
       "    </tr>\n",
       "  </thead>\n",
       "  <tbody>\n",
       "    <tr>\n",
       "      <th>0</th>\n",
       "      <td>ES++()+23ZZZ4//7690558N</td>\n",
       "      <td>123 Pine Ave.</td>\n",
       "    </tr>\n",
       "    <tr>\n",
       "      <th>1</th>\n",
       "      <td>ES2900047690558N</td>\n",
       "      <td>main st</td>\n",
       "    </tr>\n",
       "    <tr>\n",
       "      <th>2</th>\n",
       "      <td>BE 428759497</td>\n",
       "      <td>1234 west main heights 57033</td>\n",
       "    </tr>\n",
       "    <tr>\n",
       "      <th>3</th>\n",
       "      <td>BE431150351</td>\n",
       "      <td>apt 1 789 s maple rd manhattan</td>\n",
       "    </tr>\n",
       "    <tr>\n",
       "      <th>4</th>\n",
       "      <td>002 724 334</td>\n",
       "      <td>robie house, 789 north main street</td>\n",
       "    </tr>\n",
       "    <tr>\n",
       "      <th>5</th>\n",
       "      <td>hello</td>\n",
       "      <td>1111 S Figueroa St, Los Angeles, CA 90015</td>\n",
       "    </tr>\n",
       "    <tr>\n",
       "      <th>6</th>\n",
       "      <td>NaN</td>\n",
       "      <td>(staples center) 1111 S Figueroa St, Los Angeles</td>\n",
       "    </tr>\n",
       "    <tr>\n",
       "      <th>7</th>\n",
       "      <td>NULL</td>\n",
       "      <td>hello</td>\n",
       "    </tr>\n",
       "  </tbody>\n",
       "</table>\n",
       "</div>"
      ],
      "text/plain": [
       "                  eu_at_02                                           address\n",
       "0  ES++()+23ZZZ4//7690558N                                     123 Pine Ave.\n",
       "1         ES2900047690558N                                           main st\n",
       "2             BE 428759497                      1234 west main heights 57033\n",
       "3              BE431150351                    apt 1 789 s maple rd manhattan\n",
       "4              002 724 334                robie house, 789 north main street\n",
       "5                    hello         1111 S Figueroa St, Los Angeles, CA 90015\n",
       "6                      NaN  (staples center) 1111 S Figueroa St, Los Angeles\n",
       "7                     NULL                                             hello"
      ]
     },
     "execution_count": 1,
     "metadata": {},
     "output_type": "execute_result"
    }
   ],
   "source": [
    "import pandas as pd\n",
    "import numpy as np\n",
    "df = pd.DataFrame(\n",
    "    {\n",
    "        \"eu_at_02\": [\n",
    "            'ES++()+23ZZZ4//7690558N',\n",
    "            'ES2900047690558N',\n",
    "            'BE 428759497',\n",
    "            'BE431150351',\n",
    "            \"002 724 334\",\n",
    "            \"hello\",\n",
    "            np.nan,\n",
    "            \"NULL\",\n",
    "        ], \n",
    "        \"address\": [\n",
    "            \"123 Pine Ave.\",\n",
    "            \"main st\",\n",
    "            \"1234 west main heights 57033\",\n",
    "            \"apt 1 789 s maple rd manhattan\",\n",
    "            \"robie house, 789 north main street\",\n",
    "            \"1111 S Figueroa St, Los Angeles, CA 90015\",\n",
    "            \"(staples center) 1111 S Figueroa St, Los Angeles\",\n",
    "            \"hello\",\n",
    "        ]\n",
    "    }\n",
    ")\n",
    "df"
   ]
  },
  {
   "cell_type": "markdown",
   "id": "consistent-worth",
   "metadata": {},
   "source": [
    "## 1. Default `clean_eu_at_02`\n",
    "\n",
    "By default, `clean_eu_at_02` will clean eu_at_02 strings and output them in the standard format with proper separators."
   ]
  },
  {
   "cell_type": "code",
   "execution_count": 2,
   "id": "integrated-region",
   "metadata": {
    "execution": {
     "iopub.execute_input": "2021-10-26T23:00:33.685380Z",
     "iopub.status.busy": "2021-10-26T23:00:33.684984Z",
     "iopub.status.idle": "2021-10-26T23:00:34.226158Z",
     "shell.execute_reply": "2021-10-26T23:00:34.225753Z"
    }
   },
   "outputs": [
    {
     "data": {
      "text/html": [
       "<div>\n",
       "<style scoped>\n",
       "    .dataframe tbody tr th:only-of-type {\n",
       "        vertical-align: middle;\n",
       "    }\n",
       "\n",
       "    .dataframe tbody tr th {\n",
       "        vertical-align: top;\n",
       "    }\n",
       "\n",
       "    .dataframe thead th {\n",
       "        text-align: right;\n",
       "    }\n",
       "</style>\n",
       "<table border=\"1\" class=\"dataframe\">\n",
       "  <thead>\n",
       "    <tr style=\"text-align: right;\">\n",
       "      <th></th>\n",
       "      <th>eu_at_02</th>\n",
       "      <th>address</th>\n",
       "      <th>eu_at_02_clean</th>\n",
       "    </tr>\n",
       "  </thead>\n",
       "  <tbody>\n",
       "    <tr>\n",
       "      <th>0</th>\n",
       "      <td>ES++()+23ZZZ4//7690558N</td>\n",
       "      <td>123 Pine Ave.</td>\n",
       "      <td>ES23ZZZ47690558N</td>\n",
       "    </tr>\n",
       "    <tr>\n",
       "      <th>1</th>\n",
       "      <td>ES2900047690558N</td>\n",
       "      <td>main st</td>\n",
       "      <td>NaN</td>\n",
       "    </tr>\n",
       "    <tr>\n",
       "      <th>2</th>\n",
       "      <td>BE 428759497</td>\n",
       "      <td>1234 west main heights 57033</td>\n",
       "      <td>NaN</td>\n",
       "    </tr>\n",
       "    <tr>\n",
       "      <th>3</th>\n",
       "      <td>BE431150351</td>\n",
       "      <td>apt 1 789 s maple rd manhattan</td>\n",
       "      <td>NaN</td>\n",
       "    </tr>\n",
       "    <tr>\n",
       "      <th>4</th>\n",
       "      <td>002 724 334</td>\n",
       "      <td>robie house, 789 north main street</td>\n",
       "      <td>NaN</td>\n",
       "    </tr>\n",
       "    <tr>\n",
       "      <th>5</th>\n",
       "      <td>hello</td>\n",
       "      <td>1111 S Figueroa St, Los Angeles, CA 90015</td>\n",
       "      <td>NaN</td>\n",
       "    </tr>\n",
       "    <tr>\n",
       "      <th>6</th>\n",
       "      <td>NaN</td>\n",
       "      <td>(staples center) 1111 S Figueroa St, Los Angeles</td>\n",
       "      <td>NaN</td>\n",
       "    </tr>\n",
       "    <tr>\n",
       "      <th>7</th>\n",
       "      <td>NULL</td>\n",
       "      <td>hello</td>\n",
       "      <td>NaN</td>\n",
       "    </tr>\n",
       "  </tbody>\n",
       "</table>\n",
       "</div>"
      ],
      "text/plain": [
       "                  eu_at_02                                           address  \\\n",
       "0  ES++()+23ZZZ4//7690558N                                     123 Pine Ave.   \n",
       "1         ES2900047690558N                                           main st   \n",
       "2             BE 428759497                      1234 west main heights 57033   \n",
       "3              BE431150351                    apt 1 789 s maple rd manhattan   \n",
       "4              002 724 334                robie house, 789 north main street   \n",
       "5                    hello         1111 S Figueroa St, Los Angeles, CA 90015   \n",
       "6                      NaN  (staples center) 1111 S Figueroa St, Los Angeles   \n",
       "7                     NULL                                             hello   \n",
       "\n",
       "     eu_at_02_clean  \n",
       "0  ES23ZZZ47690558N  \n",
       "1               NaN  \n",
       "2               NaN  \n",
       "3               NaN  \n",
       "4               NaN  \n",
       "5               NaN  \n",
       "6               NaN  \n",
       "7               NaN  "
      ]
     },
     "execution_count": 1,
     "metadata": {},
     "output_type": "execute_result"
    }
   ],
   "source": [
    "from dataprep.clean import clean_eu_at_02\n",
    "clean_eu_at_02(df, column = \"eu_at_02\")"
   ]
  },
  {
   "cell_type": "markdown",
   "id": "subject-checklist",
   "metadata": {},
   "source": [
    "## 2. Output formats"
   ]
  },
  {
   "cell_type": "markdown",
   "id": "little-conjunction",
   "metadata": {},
   "source": [
    "This section demonstrates the output parameter."
   ]
  },
  {
   "cell_type": "markdown",
   "id": "weird-culture",
   "metadata": {},
   "source": [
    "### `standard` (default)"
   ]
  },
  {
   "cell_type": "code",
   "execution_count": 3,
   "id": "isolated-rachel",
   "metadata": {
    "execution": {
     "iopub.execute_input": "2021-10-26T23:00:34.247245Z",
     "iopub.status.busy": "2021-10-26T23:00:34.245184Z",
     "iopub.status.idle": "2021-10-26T23:00:34.253575Z",
     "shell.execute_reply": "2021-10-26T23:00:34.253914Z"
    }
   },
   "outputs": [
    {
     "data": {
      "text/html": [
       "<div>\n",
       "<style scoped>\n",
       "    .dataframe tbody tr th:only-of-type {\n",
       "        vertical-align: middle;\n",
       "    }\n",
       "\n",
       "    .dataframe tbody tr th {\n",
       "        vertical-align: top;\n",
       "    }\n",
       "\n",
       "    .dataframe thead th {\n",
       "        text-align: right;\n",
       "    }\n",
       "</style>\n",
       "<table border=\"1\" class=\"dataframe\">\n",
       "  <thead>\n",
       "    <tr style=\"text-align: right;\">\n",
       "      <th></th>\n",
       "      <th>eu_at_02</th>\n",
       "      <th>address</th>\n",
       "      <th>eu_at_02_clean</th>\n",
       "    </tr>\n",
       "  </thead>\n",
       "  <tbody>\n",
       "    <tr>\n",
       "      <th>0</th>\n",
       "      <td>ES++()+23ZZZ4//7690558N</td>\n",
       "      <td>123 Pine Ave.</td>\n",
       "      <td>ES23ZZZ47690558N</td>\n",
       "    </tr>\n",
       "    <tr>\n",
       "      <th>1</th>\n",
       "      <td>ES2900047690558N</td>\n",
       "      <td>main st</td>\n",
       "      <td>NaN</td>\n",
       "    </tr>\n",
       "    <tr>\n",
       "      <th>2</th>\n",
       "      <td>BE 428759497</td>\n",
       "      <td>1234 west main heights 57033</td>\n",
       "      <td>NaN</td>\n",
       "    </tr>\n",
       "    <tr>\n",
       "      <th>3</th>\n",
       "      <td>BE431150351</td>\n",
       "      <td>apt 1 789 s maple rd manhattan</td>\n",
       "      <td>NaN</td>\n",
       "    </tr>\n",
       "    <tr>\n",
       "      <th>4</th>\n",
       "      <td>002 724 334</td>\n",
       "      <td>robie house, 789 north main street</td>\n",
       "      <td>NaN</td>\n",
       "    </tr>\n",
       "    <tr>\n",
       "      <th>5</th>\n",
       "      <td>hello</td>\n",
       "      <td>1111 S Figueroa St, Los Angeles, CA 90015</td>\n",
       "      <td>NaN</td>\n",
       "    </tr>\n",
       "    <tr>\n",
       "      <th>6</th>\n",
       "      <td>NaN</td>\n",
       "      <td>(staples center) 1111 S Figueroa St, Los Angeles</td>\n",
       "      <td>NaN</td>\n",
       "    </tr>\n",
       "    <tr>\n",
       "      <th>7</th>\n",
       "      <td>NULL</td>\n",
       "      <td>hello</td>\n",
       "      <td>NaN</td>\n",
       "    </tr>\n",
       "  </tbody>\n",
       "</table>\n",
       "</div>"
      ],
      "text/plain": [
       "                  eu_at_02                                           address  \\\n",
       "0  ES++()+23ZZZ4//7690558N                                     123 Pine Ave.   \n",
       "1         ES2900047690558N                                           main st   \n",
       "2             BE 428759497                      1234 west main heights 57033   \n",
       "3              BE431150351                    apt 1 789 s maple rd manhattan   \n",
       "4              002 724 334                robie house, 789 north main street   \n",
       "5                    hello         1111 S Figueroa St, Los Angeles, CA 90015   \n",
       "6                      NaN  (staples center) 1111 S Figueroa St, Los Angeles   \n",
       "7                     NULL                                             hello   \n",
       "\n",
       "     eu_at_02_clean  \n",
       "0  ES23ZZZ47690558N  \n",
       "1               NaN  \n",
       "2               NaN  \n",
       "3               NaN  \n",
       "4               NaN  \n",
       "5               NaN  \n",
       "6               NaN  \n",
       "7               NaN  "
      ]
     },
     "execution_count": 1,
     "metadata": {},
     "output_type": "execute_result"
    }
   ],
   "source": [
    "clean_eu_at_02(df, column = \"eu_at_02\", output_format=\"standard\")"
   ]
  },
  {
   "cell_type": "markdown",
   "id": "pediatric-helen",
   "metadata": {},
   "source": [
    "### `compact`"
   ]
  },
  {
   "cell_type": "code",
   "execution_count": 4,
   "id": "numeric-algeria",
   "metadata": {
    "execution": {
     "iopub.execute_input": "2021-10-26T23:00:34.275361Z",
     "iopub.status.busy": "2021-10-26T23:00:34.274851Z",
     "iopub.status.idle": "2021-10-26T23:00:34.282980Z",
     "shell.execute_reply": "2021-10-26T23:00:34.282552Z"
    }
   },
   "outputs": [
    {
     "data": {
      "text/html": [
       "<div>\n",
       "<style scoped>\n",
       "    .dataframe tbody tr th:only-of-type {\n",
       "        vertical-align: middle;\n",
       "    }\n",
       "\n",
       "    .dataframe tbody tr th {\n",
       "        vertical-align: top;\n",
       "    }\n",
       "\n",
       "    .dataframe thead th {\n",
       "        text-align: right;\n",
       "    }\n",
       "</style>\n",
       "<table border=\"1\" class=\"dataframe\">\n",
       "  <thead>\n",
       "    <tr style=\"text-align: right;\">\n",
       "      <th></th>\n",
       "      <th>eu_at_02</th>\n",
       "      <th>address</th>\n",
       "      <th>eu_at_02_clean</th>\n",
       "    </tr>\n",
       "  </thead>\n",
       "  <tbody>\n",
       "    <tr>\n",
       "      <th>0</th>\n",
       "      <td>ES++()+23ZZZ4//7690558N</td>\n",
       "      <td>123 Pine Ave.</td>\n",
       "      <td>ES23ZZZ47690558N</td>\n",
       "    </tr>\n",
       "    <tr>\n",
       "      <th>1</th>\n",
       "      <td>ES2900047690558N</td>\n",
       "      <td>main st</td>\n",
       "      <td>NaN</td>\n",
       "    </tr>\n",
       "    <tr>\n",
       "      <th>2</th>\n",
       "      <td>BE 428759497</td>\n",
       "      <td>1234 west main heights 57033</td>\n",
       "      <td>NaN</td>\n",
       "    </tr>\n",
       "    <tr>\n",
       "      <th>3</th>\n",
       "      <td>BE431150351</td>\n",
       "      <td>apt 1 789 s maple rd manhattan</td>\n",
       "      <td>NaN</td>\n",
       "    </tr>\n",
       "    <tr>\n",
       "      <th>4</th>\n",
       "      <td>002 724 334</td>\n",
       "      <td>robie house, 789 north main street</td>\n",
       "      <td>NaN</td>\n",
       "    </tr>\n",
       "    <tr>\n",
       "      <th>5</th>\n",
       "      <td>hello</td>\n",
       "      <td>1111 S Figueroa St, Los Angeles, CA 90015</td>\n",
       "      <td>NaN</td>\n",
       "    </tr>\n",
       "    <tr>\n",
       "      <th>6</th>\n",
       "      <td>NaN</td>\n",
       "      <td>(staples center) 1111 S Figueroa St, Los Angeles</td>\n",
       "      <td>NaN</td>\n",
       "    </tr>\n",
       "    <tr>\n",
       "      <th>7</th>\n",
       "      <td>NULL</td>\n",
       "      <td>hello</td>\n",
       "      <td>NaN</td>\n",
       "    </tr>\n",
       "  </tbody>\n",
       "</table>\n",
       "</div>"
      ],
      "text/plain": [
       "                  eu_at_02                                           address  \\\n",
       "0  ES++()+23ZZZ4//7690558N                                     123 Pine Ave.   \n",
       "1         ES2900047690558N                                           main st   \n",
       "2             BE 428759497                      1234 west main heights 57033   \n",
       "3              BE431150351                    apt 1 789 s maple rd manhattan   \n",
       "4              002 724 334                robie house, 789 north main street   \n",
       "5                    hello         1111 S Figueroa St, Los Angeles, CA 90015   \n",
       "6                      NaN  (staples center) 1111 S Figueroa St, Los Angeles   \n",
       "7                     NULL                                             hello   \n",
       "\n",
       "     eu_at_02_clean  \n",
       "0  ES23ZZZ47690558N  \n",
       "1               NaN  \n",
       "2               NaN  \n",
       "3               NaN  \n",
       "4               NaN  \n",
       "5               NaN  \n",
       "6               NaN  \n",
       "7               NaN  "
      ]
     },
     "execution_count": 1,
     "metadata": {},
     "output_type": "execute_result"
    }
   ],
   "source": [
    "clean_eu_at_02(df, column = \"eu_at_02\", output_format=\"compact\")"
   ]
  },
  {
   "cell_type": "markdown",
   "id": "junior-delivery",
   "metadata": {},
   "source": [
    "## 3. `inplace` parameter\n",
    "\n",
    "This deletes the given column from the returned DataFrame. \n",
    "A new column containing cleaned AT-02 strings is added with a title in the format `\"{original title}_clean\"`."
   ]
  },
  {
   "cell_type": "code",
   "execution_count": 5,
   "id": "composed-burst",
   "metadata": {
    "execution": {
     "iopub.execute_input": "2021-10-26T23:00:34.312048Z",
     "iopub.status.busy": "2021-10-26T23:00:34.308531Z",
     "iopub.status.idle": "2021-10-26T23:00:34.319469Z",
     "shell.execute_reply": "2021-10-26T23:00:34.319061Z"
    }
   },
   "outputs": [
    {
     "data": {
      "text/html": [
       "<div>\n",
       "<style scoped>\n",
       "    .dataframe tbody tr th:only-of-type {\n",
       "        vertical-align: middle;\n",
       "    }\n",
       "\n",
       "    .dataframe tbody tr th {\n",
       "        vertical-align: top;\n",
       "    }\n",
       "\n",
       "    .dataframe thead th {\n",
       "        text-align: right;\n",
       "    }\n",
       "</style>\n",
       "<table border=\"1\" class=\"dataframe\">\n",
       "  <thead>\n",
       "    <tr style=\"text-align: right;\">\n",
       "      <th></th>\n",
       "      <th>eu_at_02_clean</th>\n",
       "      <th>address</th>\n",
       "    </tr>\n",
       "  </thead>\n",
       "  <tbody>\n",
       "    <tr>\n",
       "      <th>0</th>\n",
       "      <td>ES23ZZZ47690558N</td>\n",
       "      <td>123 Pine Ave.</td>\n",
       "    </tr>\n",
       "    <tr>\n",
       "      <th>1</th>\n",
       "      <td>NaN</td>\n",
       "      <td>main st</td>\n",
       "    </tr>\n",
       "    <tr>\n",
       "      <th>2</th>\n",
       "      <td>NaN</td>\n",
       "      <td>1234 west main heights 57033</td>\n",
       "    </tr>\n",
       "    <tr>\n",
       "      <th>3</th>\n",
       "      <td>NaN</td>\n",
       "      <td>apt 1 789 s maple rd manhattan</td>\n",
       "    </tr>\n",
       "    <tr>\n",
       "      <th>4</th>\n",
       "      <td>NaN</td>\n",
       "      <td>robie house, 789 north main street</td>\n",
       "    </tr>\n",
       "    <tr>\n",
       "      <th>5</th>\n",
       "      <td>NaN</td>\n",
       "      <td>1111 S Figueroa St, Los Angeles, CA 90015</td>\n",
       "    </tr>\n",
       "    <tr>\n",
       "      <th>6</th>\n",
       "      <td>NaN</td>\n",
       "      <td>(staples center) 1111 S Figueroa St, Los Angeles</td>\n",
       "    </tr>\n",
       "    <tr>\n",
       "      <th>7</th>\n",
       "      <td>NaN</td>\n",
       "      <td>hello</td>\n",
       "    </tr>\n",
       "  </tbody>\n",
       "</table>\n",
       "</div>"
      ],
      "text/plain": [
       "     eu_at_02_clean                                           address\n",
       "0  ES23ZZZ47690558N                                     123 Pine Ave.\n",
       "1               NaN                                           main st\n",
       "2               NaN                      1234 west main heights 57033\n",
       "3               NaN                    apt 1 789 s maple rd manhattan\n",
       "4               NaN                robie house, 789 north main street\n",
       "5               NaN         1111 S Figueroa St, Los Angeles, CA 90015\n",
       "6               NaN  (staples center) 1111 S Figueroa St, Los Angeles\n",
       "7               NaN                                             hello"
      ]
     },
     "execution_count": 1,
     "metadata": {},
     "output_type": "execute_result"
    }
   ],
   "source": [
    "clean_eu_at_02(df, column=\"eu_at_02\", inplace=True)"
   ]
  },
  {
   "cell_type": "markdown",
   "id": "persistent-patent",
   "metadata": {},
   "source": [
    "## 4. `errors` parameter"
   ]
  },
  {
   "cell_type": "markdown",
   "id": "bigger-python",
   "metadata": {},
   "source": [
    "### `coerce` (default)"
   ]
  },
  {
   "cell_type": "code",
   "execution_count": 6,
   "id": "incredible-design",
   "metadata": {
    "execution": {
     "iopub.execute_input": "2021-10-26T23:00:34.343753Z",
     "iopub.status.busy": "2021-10-26T23:00:34.343290Z",
     "iopub.status.idle": "2021-10-26T23:00:34.348144Z",
     "shell.execute_reply": "2021-10-26T23:00:34.348502Z"
    }
   },
   "outputs": [
    {
     "data": {
      "text/html": [
       "<div>\n",
       "<style scoped>\n",
       "    .dataframe tbody tr th:only-of-type {\n",
       "        vertical-align: middle;\n",
       "    }\n",
       "\n",
       "    .dataframe tbody tr th {\n",
       "        vertical-align: top;\n",
       "    }\n",
       "\n",
       "    .dataframe thead th {\n",
       "        text-align: right;\n",
       "    }\n",
       "</style>\n",
       "<table border=\"1\" class=\"dataframe\">\n",
       "  <thead>\n",
       "    <tr style=\"text-align: right;\">\n",
       "      <th></th>\n",
       "      <th>eu_at_02</th>\n",
       "      <th>address</th>\n",
       "      <th>eu_at_02_clean</th>\n",
       "    </tr>\n",
       "  </thead>\n",
       "  <tbody>\n",
       "    <tr>\n",
       "      <th>0</th>\n",
       "      <td>ES++()+23ZZZ4//7690558N</td>\n",
       "      <td>123 Pine Ave.</td>\n",
       "      <td>ES23ZZZ47690558N</td>\n",
       "    </tr>\n",
       "    <tr>\n",
       "      <th>1</th>\n",
       "      <td>ES2900047690558N</td>\n",
       "      <td>main st</td>\n",
       "      <td>NaN</td>\n",
       "    </tr>\n",
       "    <tr>\n",
       "      <th>2</th>\n",
       "      <td>BE 428759497</td>\n",
       "      <td>1234 west main heights 57033</td>\n",
       "      <td>NaN</td>\n",
       "    </tr>\n",
       "    <tr>\n",
       "      <th>3</th>\n",
       "      <td>BE431150351</td>\n",
       "      <td>apt 1 789 s maple rd manhattan</td>\n",
       "      <td>NaN</td>\n",
       "    </tr>\n",
       "    <tr>\n",
       "      <th>4</th>\n",
       "      <td>002 724 334</td>\n",
       "      <td>robie house, 789 north main street</td>\n",
       "      <td>NaN</td>\n",
       "    </tr>\n",
       "    <tr>\n",
       "      <th>5</th>\n",
       "      <td>hello</td>\n",
       "      <td>1111 S Figueroa St, Los Angeles, CA 90015</td>\n",
       "      <td>NaN</td>\n",
       "    </tr>\n",
       "    <tr>\n",
       "      <th>6</th>\n",
       "      <td>NaN</td>\n",
       "      <td>(staples center) 1111 S Figueroa St, Los Angeles</td>\n",
       "      <td>NaN</td>\n",
       "    </tr>\n",
       "    <tr>\n",
       "      <th>7</th>\n",
       "      <td>NULL</td>\n",
       "      <td>hello</td>\n",
       "      <td>NaN</td>\n",
       "    </tr>\n",
       "  </tbody>\n",
       "</table>\n",
       "</div>"
      ],
      "text/plain": [
       "                  eu_at_02                                           address  \\\n",
       "0  ES++()+23ZZZ4//7690558N                                     123 Pine Ave.   \n",
       "1         ES2900047690558N                                           main st   \n",
       "2             BE 428759497                      1234 west main heights 57033   \n",
       "3              BE431150351                    apt 1 789 s maple rd manhattan   \n",
       "4              002 724 334                robie house, 789 north main street   \n",
       "5                    hello         1111 S Figueroa St, Los Angeles, CA 90015   \n",
       "6                      NaN  (staples center) 1111 S Figueroa St, Los Angeles   \n",
       "7                     NULL                                             hello   \n",
       "\n",
       "     eu_at_02_clean  \n",
       "0  ES23ZZZ47690558N  \n",
       "1               NaN  \n",
       "2               NaN  \n",
       "3               NaN  \n",
       "4               NaN  \n",
       "5               NaN  \n",
       "6               NaN  \n",
       "7               NaN  "
      ]
     },
     "execution_count": 1,
     "metadata": {},
     "output_type": "execute_result"
    }
   ],
   "source": [
    "clean_eu_at_02(df, \"eu_at_02\", errors=\"coerce\")"
   ]
  },
  {
   "cell_type": "markdown",
   "id": "valid-attack",
   "metadata": {},
   "source": [
    "### `ignore`"
   ]
  },
  {
   "cell_type": "code",
   "execution_count": 7,
   "id": "arctic-bennett",
   "metadata": {
    "execution": {
     "iopub.execute_input": "2021-10-26T23:00:34.371360Z",
     "iopub.status.busy": "2021-10-26T23:00:34.370869Z",
     "iopub.status.idle": "2021-10-26T23:00:34.380860Z",
     "shell.execute_reply": "2021-10-26T23:00:34.381197Z"
    }
   },
   "outputs": [
    {
     "data": {
      "text/html": [
       "<div>\n",
       "<style scoped>\n",
       "    .dataframe tbody tr th:only-of-type {\n",
       "        vertical-align: middle;\n",
       "    }\n",
       "\n",
       "    .dataframe tbody tr th {\n",
       "        vertical-align: top;\n",
       "    }\n",
       "\n",
       "    .dataframe thead th {\n",
       "        text-align: right;\n",
       "    }\n",
       "</style>\n",
       "<table border=\"1\" class=\"dataframe\">\n",
       "  <thead>\n",
       "    <tr style=\"text-align: right;\">\n",
       "      <th></th>\n",
       "      <th>eu_at_02</th>\n",
       "      <th>address</th>\n",
       "      <th>eu_at_02_clean</th>\n",
       "    </tr>\n",
       "  </thead>\n",
       "  <tbody>\n",
       "    <tr>\n",
       "      <th>0</th>\n",
       "      <td>ES++()+23ZZZ4//7690558N</td>\n",
       "      <td>123 Pine Ave.</td>\n",
       "      <td>ES23ZZZ47690558N</td>\n",
       "    </tr>\n",
       "    <tr>\n",
       "      <th>1</th>\n",
       "      <td>ES2900047690558N</td>\n",
       "      <td>main st</td>\n",
       "      <td>ES2900047690558N</td>\n",
       "    </tr>\n",
       "    <tr>\n",
       "      <th>2</th>\n",
       "      <td>BE 428759497</td>\n",
       "      <td>1234 west main heights 57033</td>\n",
       "      <td>BE 428759497</td>\n",
       "    </tr>\n",
       "    <tr>\n",
       "      <th>3</th>\n",
       "      <td>BE431150351</td>\n",
       "      <td>apt 1 789 s maple rd manhattan</td>\n",
       "      <td>BE431150351</td>\n",
       "    </tr>\n",
       "    <tr>\n",
       "      <th>4</th>\n",
       "      <td>002 724 334</td>\n",
       "      <td>robie house, 789 north main street</td>\n",
       "      <td>002 724 334</td>\n",
       "    </tr>\n",
       "    <tr>\n",
       "      <th>5</th>\n",
       "      <td>hello</td>\n",
       "      <td>1111 S Figueroa St, Los Angeles, CA 90015</td>\n",
       "      <td>hello</td>\n",
       "    </tr>\n",
       "    <tr>\n",
       "      <th>6</th>\n",
       "      <td>NaN</td>\n",
       "      <td>(staples center) 1111 S Figueroa St, Los Angeles</td>\n",
       "      <td>NaN</td>\n",
       "    </tr>\n",
       "    <tr>\n",
       "      <th>7</th>\n",
       "      <td>NULL</td>\n",
       "      <td>hello</td>\n",
       "      <td>NaN</td>\n",
       "    </tr>\n",
       "  </tbody>\n",
       "</table>\n",
       "</div>"
      ],
      "text/plain": [
       "                  eu_at_02                                           address  \\\n",
       "0  ES++()+23ZZZ4//7690558N                                     123 Pine Ave.   \n",
       "1         ES2900047690558N                                           main st   \n",
       "2             BE 428759497                      1234 west main heights 57033   \n",
       "3              BE431150351                    apt 1 789 s maple rd manhattan   \n",
       "4              002 724 334                robie house, 789 north main street   \n",
       "5                    hello         1111 S Figueroa St, Los Angeles, CA 90015   \n",
       "6                      NaN  (staples center) 1111 S Figueroa St, Los Angeles   \n",
       "7                     NULL                                             hello   \n",
       "\n",
       "     eu_at_02_clean  \n",
       "0  ES23ZZZ47690558N  \n",
       "1  ES2900047690558N  \n",
       "2      BE 428759497  \n",
       "3       BE431150351  \n",
       "4       002 724 334  \n",
       "5             hello  \n",
       "6               NaN  \n",
       "7               NaN  "
      ]
     },
     "execution_count": 1,
     "metadata": {},
     "output_type": "execute_result"
    }
   ],
   "source": [
    "clean_eu_at_02(df, \"eu_at_02\", errors=\"ignore\")"
   ]
  },
  {
   "cell_type": "markdown",
   "id": "brown-thomson",
   "metadata": {},
   "source": [
    "## 4. `validate_eu_at_02()`"
   ]
  },
  {
   "cell_type": "markdown",
   "id": "plain-sheep",
   "metadata": {},
   "source": [
    "`validate_eu_at_02()` returns `True` when the input is a valid AT-02. Otherwise it returns `False`.\n",
    "\n",
    "The input of `validate_eu_at_02()` can be a string, a Pandas DataSeries, a Dask DataSeries, a Pandas DataFrame and a dask DataFrame.\n",
    "\n",
    "When the input is a string, a Pandas DataSeries or a Dask DataSeries, user doesn't need to specify a column name to be validated. \n",
    "\n",
    "When the input is a Pandas DataFrame or a dask DataFrame, user can both specify or not specify a column name to be validated. If user specify the column name, `validate_eu_at_02()` only returns the validation result for the specified column. If user doesn't specify the column name, `validate_eu_at_02()` returns the validation result for the whole DataFrame."
   ]
  },
  {
   "cell_type": "code",
   "execution_count": 8,
   "id": "textile-click",
   "metadata": {
    "execution": {
     "iopub.execute_input": "2021-10-26T23:00:34.385977Z",
     "iopub.status.busy": "2021-10-26T23:00:34.385168Z",
     "iopub.status.idle": "2021-10-26T23:00:34.389457Z",
     "shell.execute_reply": "2021-10-26T23:00:34.388652Z"
    }
   },
   "outputs": [
    {
     "name": "stdout",
     "output_type": "stream",
     "text": [
      "True\n",
      "False\n",
      "False\n",
      "False\n",
      "False\n",
      "False\n",
      "False\n",
      "False\n"
     ]
    }
   ],
   "source": [
    "from dataprep.clean import validate_eu_at_02\n",
    "print(validate_eu_at_02('ES++()+23ZZZ4//7690558N'))\n",
    "print(validate_eu_at_02('ES2900047690558N'))\n",
    "print(validate_eu_at_02('BE 428759497'))\n",
    "print(validate_eu_at_02('BE431150351'))\n",
    "print(validate_eu_at_02(\"004085616\"))\n",
    "print(validate_eu_at_02(\"hello\"))\n",
    "print(validate_eu_at_02(np.nan))\n",
    "print(validate_eu_at_02(\"NULL\"))"
   ]
  },
  {
   "cell_type": "markdown",
   "id": "strategic-concern",
   "metadata": {},
   "source": [
    "### Series"
   ]
  },
  {
   "cell_type": "code",
   "execution_count": 9,
   "id": "democratic-aside",
   "metadata": {
    "execution": {
     "iopub.execute_input": "2021-10-26T23:00:34.393803Z",
     "iopub.status.busy": "2021-10-26T23:00:34.393345Z",
     "iopub.status.idle": "2021-10-26T23:00:34.398530Z",
     "shell.execute_reply": "2021-10-26T23:00:34.398144Z"
    }
   },
   "outputs": [
    {
     "data": {
      "text/plain": [
       "0     True\n",
       "1    False\n",
       "2    False\n",
       "3    False\n",
       "4    False\n",
       "5    False\n",
       "6    False\n",
       "7    False\n",
       "Name: eu_at_02, dtype: bool"
      ]
     },
     "execution_count": 1,
     "metadata": {},
     "output_type": "execute_result"
    }
   ],
   "source": [
    "validate_eu_at_02(df[\"eu_at_02\"])"
   ]
  },
  {
   "cell_type": "markdown",
   "id": "binary-extraction",
   "metadata": {},
   "source": [
    "### DataFrame + Specify Column"
   ]
  },
  {
   "cell_type": "code",
   "execution_count": 10,
   "id": "floral-arrival",
   "metadata": {
    "execution": {
     "iopub.execute_input": "2021-10-26T23:00:34.402841Z",
     "iopub.status.busy": "2021-10-26T23:00:34.402418Z",
     "iopub.status.idle": "2021-10-26T23:00:34.406416Z",
     "shell.execute_reply": "2021-10-26T23:00:34.406766Z"
    }
   },
   "outputs": [
    {
     "data": {
      "text/plain": [
       "0     True\n",
       "1    False\n",
       "2    False\n",
       "3    False\n",
       "4    False\n",
       "5    False\n",
       "6    False\n",
       "7    False\n",
       "Name: eu_at_02, dtype: bool"
      ]
     },
     "execution_count": 1,
     "metadata": {},
     "output_type": "execute_result"
    }
   ],
   "source": [
    "validate_eu_at_02(df, column=\"eu_at_02\")"
   ]
  },
  {
   "cell_type": "markdown",
   "id": "ceramic-opening",
   "metadata": {},
   "source": [
    "### Only DataFrame"
   ]
  },
  {
   "cell_type": "code",
   "execution_count": 11,
   "id": "unauthorized-resource",
   "metadata": {
    "execution": {
     "iopub.execute_input": "2021-10-26T23:00:34.414083Z",
     "iopub.status.busy": "2021-10-26T23:00:34.409241Z",
     "iopub.status.idle": "2021-10-26T23:00:34.417508Z",
     "shell.execute_reply": "2021-10-26T23:00:34.416871Z"
    },
    "scrolled": true
   },
   "outputs": [
    {
     "data": {
      "text/html": [
       "<div>\n",
       "<style scoped>\n",
       "    .dataframe tbody tr th:only-of-type {\n",
       "        vertical-align: middle;\n",
       "    }\n",
       "\n",
       "    .dataframe tbody tr th {\n",
       "        vertical-align: top;\n",
       "    }\n",
       "\n",
       "    .dataframe thead th {\n",
       "        text-align: right;\n",
       "    }\n",
       "</style>\n",
       "<table border=\"1\" class=\"dataframe\">\n",
       "  <thead>\n",
       "    <tr style=\"text-align: right;\">\n",
       "      <th></th>\n",
       "      <th>eu_at_02</th>\n",
       "      <th>address</th>\n",
       "    </tr>\n",
       "  </thead>\n",
       "  <tbody>\n",
       "    <tr>\n",
       "      <th>0</th>\n",
       "      <td>True</td>\n",
       "      <td>False</td>\n",
       "    </tr>\n",
       "    <tr>\n",
       "      <th>1</th>\n",
       "      <td>False</td>\n",
       "      <td>False</td>\n",
       "    </tr>\n",
       "    <tr>\n",
       "      <th>2</th>\n",
       "      <td>False</td>\n",
       "      <td>False</td>\n",
       "    </tr>\n",
       "    <tr>\n",
       "      <th>3</th>\n",
       "      <td>False</td>\n",
       "      <td>False</td>\n",
       "    </tr>\n",
       "    <tr>\n",
       "      <th>4</th>\n",
       "      <td>False</td>\n",
       "      <td>False</td>\n",
       "    </tr>\n",
       "    <tr>\n",
       "      <th>5</th>\n",
       "      <td>False</td>\n",
       "      <td>False</td>\n",
       "    </tr>\n",
       "    <tr>\n",
       "      <th>6</th>\n",
       "      <td>False</td>\n",
       "      <td>False</td>\n",
       "    </tr>\n",
       "    <tr>\n",
       "      <th>7</th>\n",
       "      <td>False</td>\n",
       "      <td>False</td>\n",
       "    </tr>\n",
       "  </tbody>\n",
       "</table>\n",
       "</div>"
      ],
      "text/plain": [
       "   eu_at_02  address\n",
       "0      True    False\n",
       "1     False    False\n",
       "2     False    False\n",
       "3     False    False\n",
       "4     False    False\n",
       "5     False    False\n",
       "6     False    False\n",
       "7     False    False"
      ]
     },
     "execution_count": 1,
     "metadata": {},
     "output_type": "execute_result"
    }
   ],
   "source": [
    "validate_eu_at_02(df)"
   ]
  },
  {
   "cell_type": "code",
   "execution_count": null,
   "id": "modern-julian",
   "metadata": {},
   "outputs": [],
   "source": []
  }
 ],
 "metadata": {
  "kernelspec": {
   "display_name": "Python 3",
   "language": "python",
   "name": "python3"
  },
  "language_info": {
   "codemirror_mode": {
    "name": "ipython",
    "version": 3
   },
   "file_extension": ".py",
   "mimetype": "text/x-python",
   "name": "python",
   "nbconvert_exporter": "python",
   "pygments_lexer": "ipython3",
   "version": "3.8.10"
  }
 },
 "nbformat": 4,
 "nbformat_minor": 5
}
