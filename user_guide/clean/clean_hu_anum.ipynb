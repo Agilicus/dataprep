{
 "cells": [
  {
   "cell_type": "raw",
   "id": "swedish-lesson",
   "metadata": {},
   "source": [
    ".. _anum_userguide:\n",
    "\n",
    "Hungarian ANUM Numbers\n",
    "======================"
   ]
  },
  {
   "cell_type": "raw",
   "id": "derived-brave",
   "metadata": {},
   "source": [
    "Introduction\n",
    "------------\n",
    "\n",
    "The function :func:`clean_hu_anum() <dataprep.clean.clean_hu_anum.clean_hu_anum>` cleans a column containing Hungarian ANUM number (ANUM) strings, and standardizes them in a given format. The function :func:`validate_hu_anum() <dataprep.clean.clean_hu_anum.validate_hu_anum>` validates either a single ANUM strings, a column of ANUM strings or a DataFrame of ANUM strings, returning `True` if the value is valid, and `False` otherwise."
   ]
  },
  {
   "cell_type": "markdown",
   "id": "superior-ceremony",
   "metadata": {},
   "source": [
    "ANUM strings can be converted to the following formats via the `output_format` parameter:\n",
    "\n",
    "* `compact`: only number strings without any seperators or whitespace, like \"12892312\"\n",
    "* `standard`: ANUM strings with proper whitespace in the proper places. Note that in the case of ANUM, the compact format is the same as the standard one.\n",
    "\n",
    "Invalid parsing is handled with the `errors` parameter:\n",
    "\n",
    "* `coerce` (default): invalid parsing will be set to NaN\n",
    "* `ignore`: invalid parsing will return the input\n",
    "* `raise`: invalid parsing will raise an exception\n",
    "\n",
    "The following sections demonstrate the functionality of `clean_hu_anum()` and `validate_hu_anum()`. "
   ]
  },
  {
   "cell_type": "markdown",
   "id": "useful-rehabilitation",
   "metadata": {},
   "source": [
    "### An example dataset containing ANUM strings"
   ]
  },
  {
   "cell_type": "code",
   "execution_count": 1,
   "id": "tribal-efficiency",
   "metadata": {
    "execution": {
     "iopub.execute_input": "2021-10-30T05:20:21.217567Z",
     "iopub.status.busy": "2021-10-30T05:20:21.216802Z",
     "iopub.status.idle": "2021-10-30T05:20:21.456090Z",
     "shell.execute_reply": "2021-10-30T05:20:21.455235Z"
    }
   },
   "outputs": [
    {
     "data": {
      "text/html": [
       "<div>\n",
       "<style scoped>\n",
       "    .dataframe tbody tr th:only-of-type {\n",
       "        vertical-align: middle;\n",
       "    }\n",
       "\n",
       "    .dataframe tbody tr th {\n",
       "        vertical-align: top;\n",
       "    }\n",
       "\n",
       "    .dataframe thead th {\n",
       "        text-align: right;\n",
       "    }\n",
       "</style>\n",
       "<table border=\"1\" class=\"dataframe\">\n",
       "  <thead>\n",
       "    <tr style=\"text-align: right;\">\n",
       "      <th></th>\n",
       "      <th>anum</th>\n",
       "      <th>address</th>\n",
       "    </tr>\n",
       "  </thead>\n",
       "  <tbody>\n",
       "    <tr>\n",
       "      <th>0</th>\n",
       "      <td>HU-12892312</td>\n",
       "      <td>123 Pine Ave.</td>\n",
       "    </tr>\n",
       "    <tr>\n",
       "      <th>1</th>\n",
       "      <td>HU-12892313</td>\n",
       "      <td>main st</td>\n",
       "    </tr>\n",
       "    <tr>\n",
       "      <th>2</th>\n",
       "      <td>BE 428759497</td>\n",
       "      <td>1234 west main heights 57033</td>\n",
       "    </tr>\n",
       "    <tr>\n",
       "      <th>3</th>\n",
       "      <td>BE431150351</td>\n",
       "      <td>apt 1 789 s maple rd manhattan</td>\n",
       "    </tr>\n",
       "    <tr>\n",
       "      <th>4</th>\n",
       "      <td>002 724 334</td>\n",
       "      <td>robie house, 789 north main street</td>\n",
       "    </tr>\n",
       "    <tr>\n",
       "      <th>5</th>\n",
       "      <td>hello</td>\n",
       "      <td>1111 S Figueroa St, Los Angeles, CA 90015</td>\n",
       "    </tr>\n",
       "    <tr>\n",
       "      <th>6</th>\n",
       "      <td>NaN</td>\n",
       "      <td>(staples center) 1111 S Figueroa St, Los Angeles</td>\n",
       "    </tr>\n",
       "    <tr>\n",
       "      <th>7</th>\n",
       "      <td>NULL</td>\n",
       "      <td>hello</td>\n",
       "    </tr>\n",
       "  </tbody>\n",
       "</table>\n",
       "</div>"
      ],
      "text/plain": [
       "           anum                                           address\n",
       "0   HU-12892312                                     123 Pine Ave.\n",
       "1   HU-12892313                                           main st\n",
       "2  BE 428759497                      1234 west main heights 57033\n",
       "3   BE431150351                    apt 1 789 s maple rd manhattan\n",
       "4   002 724 334                robie house, 789 north main street\n",
       "5         hello         1111 S Figueroa St, Los Angeles, CA 90015\n",
       "6           NaN  (staples center) 1111 S Figueroa St, Los Angeles\n",
       "7          NULL                                             hello"
      ]
     },
     "execution_count": 1,
     "metadata": {},
     "output_type": "execute_result"
    }
   ],
   "source": [
    "import pandas as pd\n",
    "import numpy as np\n",
    "df = pd.DataFrame(\n",
    "    {\n",
    "        \"anum\": [\n",
    "            'HU-12892312',\n",
    "            'HU-12892313',\n",
    "            'BE 428759497',\n",
    "            'BE431150351',\n",
    "            \"002 724 334\",\n",
    "            \"hello\",\n",
    "            np.nan,\n",
    "            \"NULL\",\n",
    "        ], \n",
    "        \"address\": [\n",
    "            \"123 Pine Ave.\",\n",
    "            \"main st\",\n",
    "            \"1234 west main heights 57033\",\n",
    "            \"apt 1 789 s maple rd manhattan\",\n",
    "            \"robie house, 789 north main street\",\n",
    "            \"1111 S Figueroa St, Los Angeles, CA 90015\",\n",
    "            \"(staples center) 1111 S Figueroa St, Los Angeles\",\n",
    "            \"hello\",\n",
    "        ]\n",
    "    }\n",
    ")\n",
    "df"
   ]
  },
  {
   "cell_type": "markdown",
   "id": "extra-terminology",
   "metadata": {},
   "source": [
    "## 1. Default `clean_hu_anum`\n",
    "\n",
    "By default, `clean_hu_anum` will clean anum strings and output them in the standard format with proper separators."
   ]
  },
  {
   "cell_type": "code",
   "execution_count": 2,
   "id": "objective-layer",
   "metadata": {
    "execution": {
     "iopub.execute_input": "2021-10-30T05:20:21.460179Z",
     "iopub.status.busy": "2021-10-30T05:20:21.459692Z",
     "iopub.status.idle": "2021-10-30T05:20:22.033105Z",
     "shell.execute_reply": "2021-10-30T05:20:22.032679Z"
    }
   },
   "outputs": [
    {
     "data": {
      "text/html": [
       "<div>\n",
       "<style scoped>\n",
       "    .dataframe tbody tr th:only-of-type {\n",
       "        vertical-align: middle;\n",
       "    }\n",
       "\n",
       "    .dataframe tbody tr th {\n",
       "        vertical-align: top;\n",
       "    }\n",
       "\n",
       "    .dataframe thead th {\n",
       "        text-align: right;\n",
       "    }\n",
       "</style>\n",
       "<table border=\"1\" class=\"dataframe\">\n",
       "  <thead>\n",
       "    <tr style=\"text-align: right;\">\n",
       "      <th></th>\n",
       "      <th>anum</th>\n",
       "      <th>address</th>\n",
       "      <th>anum_clean</th>\n",
       "    </tr>\n",
       "  </thead>\n",
       "  <tbody>\n",
       "    <tr>\n",
       "      <th>0</th>\n",
       "      <td>HU-12892312</td>\n",
       "      <td>123 Pine Ave.</td>\n",
       "      <td>12892312</td>\n",
       "    </tr>\n",
       "    <tr>\n",
       "      <th>1</th>\n",
       "      <td>HU-12892313</td>\n",
       "      <td>main st</td>\n",
       "      <td>NaN</td>\n",
       "    </tr>\n",
       "    <tr>\n",
       "      <th>2</th>\n",
       "      <td>BE 428759497</td>\n",
       "      <td>1234 west main heights 57033</td>\n",
       "      <td>NaN</td>\n",
       "    </tr>\n",
       "    <tr>\n",
       "      <th>3</th>\n",
       "      <td>BE431150351</td>\n",
       "      <td>apt 1 789 s maple rd manhattan</td>\n",
       "      <td>NaN</td>\n",
       "    </tr>\n",
       "    <tr>\n",
       "      <th>4</th>\n",
       "      <td>002 724 334</td>\n",
       "      <td>robie house, 789 north main street</td>\n",
       "      <td>NaN</td>\n",
       "    </tr>\n",
       "    <tr>\n",
       "      <th>5</th>\n",
       "      <td>hello</td>\n",
       "      <td>1111 S Figueroa St, Los Angeles, CA 90015</td>\n",
       "      <td>NaN</td>\n",
       "    </tr>\n",
       "    <tr>\n",
       "      <th>6</th>\n",
       "      <td>NaN</td>\n",
       "      <td>(staples center) 1111 S Figueroa St, Los Angeles</td>\n",
       "      <td>NaN</td>\n",
       "    </tr>\n",
       "    <tr>\n",
       "      <th>7</th>\n",
       "      <td>NULL</td>\n",
       "      <td>hello</td>\n",
       "      <td>NaN</td>\n",
       "    </tr>\n",
       "  </tbody>\n",
       "</table>\n",
       "</div>"
      ],
      "text/plain": [
       "           anum                                           address anum_clean\n",
       "0   HU-12892312                                     123 Pine Ave.   12892312\n",
       "1   HU-12892313                                           main st        NaN\n",
       "2  BE 428759497                      1234 west main heights 57033        NaN\n",
       "3   BE431150351                    apt 1 789 s maple rd manhattan        NaN\n",
       "4   002 724 334                robie house, 789 north main street        NaN\n",
       "5         hello         1111 S Figueroa St, Los Angeles, CA 90015        NaN\n",
       "6           NaN  (staples center) 1111 S Figueroa St, Los Angeles        NaN\n",
       "7          NULL                                             hello        NaN"
      ]
     },
     "execution_count": 1,
     "metadata": {},
     "output_type": "execute_result"
    }
   ],
   "source": [
    "from dataprep.clean import clean_hu_anum\n",
    "clean_hu_anum(df, column = \"anum\")"
   ]
  },
  {
   "cell_type": "markdown",
   "id": "afraid-still",
   "metadata": {},
   "source": [
    "## 2. Output formats"
   ]
  },
  {
   "cell_type": "markdown",
   "id": "emerging-sheet",
   "metadata": {},
   "source": [
    "This section demonstrates the output parameter."
   ]
  },
  {
   "cell_type": "markdown",
   "id": "chicken-evans",
   "metadata": {},
   "source": [
    "### `standard` (default)"
   ]
  },
  {
   "cell_type": "code",
   "execution_count": 3,
   "id": "nervous-output",
   "metadata": {
    "execution": {
     "iopub.execute_input": "2021-10-30T05:20:22.053468Z",
     "iopub.status.busy": "2021-10-30T05:20:22.052852Z",
     "iopub.status.idle": "2021-10-30T05:20:22.062673Z",
     "shell.execute_reply": "2021-10-30T05:20:22.063143Z"
    }
   },
   "outputs": [
    {
     "data": {
      "text/html": [
       "<div>\n",
       "<style scoped>\n",
       "    .dataframe tbody tr th:only-of-type {\n",
       "        vertical-align: middle;\n",
       "    }\n",
       "\n",
       "    .dataframe tbody tr th {\n",
       "        vertical-align: top;\n",
       "    }\n",
       "\n",
       "    .dataframe thead th {\n",
       "        text-align: right;\n",
       "    }\n",
       "</style>\n",
       "<table border=\"1\" class=\"dataframe\">\n",
       "  <thead>\n",
       "    <tr style=\"text-align: right;\">\n",
       "      <th></th>\n",
       "      <th>anum</th>\n",
       "      <th>address</th>\n",
       "      <th>anum_clean</th>\n",
       "    </tr>\n",
       "  </thead>\n",
       "  <tbody>\n",
       "    <tr>\n",
       "      <th>0</th>\n",
       "      <td>HU-12892312</td>\n",
       "      <td>123 Pine Ave.</td>\n",
       "      <td>12892312</td>\n",
       "    </tr>\n",
       "    <tr>\n",
       "      <th>1</th>\n",
       "      <td>HU-12892313</td>\n",
       "      <td>main st</td>\n",
       "      <td>NaN</td>\n",
       "    </tr>\n",
       "    <tr>\n",
       "      <th>2</th>\n",
       "      <td>BE 428759497</td>\n",
       "      <td>1234 west main heights 57033</td>\n",
       "      <td>NaN</td>\n",
       "    </tr>\n",
       "    <tr>\n",
       "      <th>3</th>\n",
       "      <td>BE431150351</td>\n",
       "      <td>apt 1 789 s maple rd manhattan</td>\n",
       "      <td>NaN</td>\n",
       "    </tr>\n",
       "    <tr>\n",
       "      <th>4</th>\n",
       "      <td>002 724 334</td>\n",
       "      <td>robie house, 789 north main street</td>\n",
       "      <td>NaN</td>\n",
       "    </tr>\n",
       "    <tr>\n",
       "      <th>5</th>\n",
       "      <td>hello</td>\n",
       "      <td>1111 S Figueroa St, Los Angeles, CA 90015</td>\n",
       "      <td>NaN</td>\n",
       "    </tr>\n",
       "    <tr>\n",
       "      <th>6</th>\n",
       "      <td>NaN</td>\n",
       "      <td>(staples center) 1111 S Figueroa St, Los Angeles</td>\n",
       "      <td>NaN</td>\n",
       "    </tr>\n",
       "    <tr>\n",
       "      <th>7</th>\n",
       "      <td>NULL</td>\n",
       "      <td>hello</td>\n",
       "      <td>NaN</td>\n",
       "    </tr>\n",
       "  </tbody>\n",
       "</table>\n",
       "</div>"
      ],
      "text/plain": [
       "           anum                                           address anum_clean\n",
       "0   HU-12892312                                     123 Pine Ave.   12892312\n",
       "1   HU-12892313                                           main st        NaN\n",
       "2  BE 428759497                      1234 west main heights 57033        NaN\n",
       "3   BE431150351                    apt 1 789 s maple rd manhattan        NaN\n",
       "4   002 724 334                robie house, 789 north main street        NaN\n",
       "5         hello         1111 S Figueroa St, Los Angeles, CA 90015        NaN\n",
       "6           NaN  (staples center) 1111 S Figueroa St, Los Angeles        NaN\n",
       "7          NULL                                             hello        NaN"
      ]
     },
     "execution_count": 1,
     "metadata": {},
     "output_type": "execute_result"
    }
   ],
   "source": [
    "clean_hu_anum(df, column = \"anum\", output_format=\"standard\")"
   ]
  },
  {
   "cell_type": "markdown",
   "id": "unlike-criminal",
   "metadata": {},
   "source": [
    "### `compact`"
   ]
  },
  {
   "cell_type": "code",
   "execution_count": 4,
   "id": "quick-color",
   "metadata": {
    "execution": {
     "iopub.execute_input": "2021-10-30T05:20:22.083334Z",
     "iopub.status.busy": "2021-10-30T05:20:22.070298Z",
     "iopub.status.idle": "2021-10-30T05:20:22.093754Z",
     "shell.execute_reply": "2021-10-30T05:20:22.092941Z"
    }
   },
   "outputs": [
    {
     "data": {
      "text/html": [
       "<div>\n",
       "<style scoped>\n",
       "    .dataframe tbody tr th:only-of-type {\n",
       "        vertical-align: middle;\n",
       "    }\n",
       "\n",
       "    .dataframe tbody tr th {\n",
       "        vertical-align: top;\n",
       "    }\n",
       "\n",
       "    .dataframe thead th {\n",
       "        text-align: right;\n",
       "    }\n",
       "</style>\n",
       "<table border=\"1\" class=\"dataframe\">\n",
       "  <thead>\n",
       "    <tr style=\"text-align: right;\">\n",
       "      <th></th>\n",
       "      <th>anum</th>\n",
       "      <th>address</th>\n",
       "      <th>anum_clean</th>\n",
       "    </tr>\n",
       "  </thead>\n",
       "  <tbody>\n",
       "    <tr>\n",
       "      <th>0</th>\n",
       "      <td>HU-12892312</td>\n",
       "      <td>123 Pine Ave.</td>\n",
       "      <td>12892312</td>\n",
       "    </tr>\n",
       "    <tr>\n",
       "      <th>1</th>\n",
       "      <td>HU-12892313</td>\n",
       "      <td>main st</td>\n",
       "      <td>NaN</td>\n",
       "    </tr>\n",
       "    <tr>\n",
       "      <th>2</th>\n",
       "      <td>BE 428759497</td>\n",
       "      <td>1234 west main heights 57033</td>\n",
       "      <td>NaN</td>\n",
       "    </tr>\n",
       "    <tr>\n",
       "      <th>3</th>\n",
       "      <td>BE431150351</td>\n",
       "      <td>apt 1 789 s maple rd manhattan</td>\n",
       "      <td>NaN</td>\n",
       "    </tr>\n",
       "    <tr>\n",
       "      <th>4</th>\n",
       "      <td>002 724 334</td>\n",
       "      <td>robie house, 789 north main street</td>\n",
       "      <td>NaN</td>\n",
       "    </tr>\n",
       "    <tr>\n",
       "      <th>5</th>\n",
       "      <td>hello</td>\n",
       "      <td>1111 S Figueroa St, Los Angeles, CA 90015</td>\n",
       "      <td>NaN</td>\n",
       "    </tr>\n",
       "    <tr>\n",
       "      <th>6</th>\n",
       "      <td>NaN</td>\n",
       "      <td>(staples center) 1111 S Figueroa St, Los Angeles</td>\n",
       "      <td>NaN</td>\n",
       "    </tr>\n",
       "    <tr>\n",
       "      <th>7</th>\n",
       "      <td>NULL</td>\n",
       "      <td>hello</td>\n",
       "      <td>NaN</td>\n",
       "    </tr>\n",
       "  </tbody>\n",
       "</table>\n",
       "</div>"
      ],
      "text/plain": [
       "           anum                                           address anum_clean\n",
       "0   HU-12892312                                     123 Pine Ave.   12892312\n",
       "1   HU-12892313                                           main st        NaN\n",
       "2  BE 428759497                      1234 west main heights 57033        NaN\n",
       "3   BE431150351                    apt 1 789 s maple rd manhattan        NaN\n",
       "4   002 724 334                robie house, 789 north main street        NaN\n",
       "5         hello         1111 S Figueroa St, Los Angeles, CA 90015        NaN\n",
       "6           NaN  (staples center) 1111 S Figueroa St, Los Angeles        NaN\n",
       "7          NULL                                             hello        NaN"
      ]
     },
     "execution_count": 1,
     "metadata": {},
     "output_type": "execute_result"
    }
   ],
   "source": [
    "clean_hu_anum(df, column = \"anum\", output_format=\"compact\")"
   ]
  },
  {
   "cell_type": "markdown",
   "id": "traditional-tractor",
   "metadata": {},
   "source": [
    "## 3. `inplace` parameter\n",
    "\n",
    "This deletes the given column from the returned DataFrame. \n",
    "A new column containing cleaned ANUM strings is added with a title in the format `\"{original title}_clean\"`."
   ]
  },
  {
   "cell_type": "code",
   "execution_count": 5,
   "id": "permanent-memorial",
   "metadata": {
    "execution": {
     "iopub.execute_input": "2021-10-30T05:20:22.119019Z",
     "iopub.status.busy": "2021-10-30T05:20:22.100326Z",
     "iopub.status.idle": "2021-10-30T05:20:22.131946Z",
     "shell.execute_reply": "2021-10-30T05:20:22.131489Z"
    }
   },
   "outputs": [
    {
     "data": {
      "text/html": [
       "<div>\n",
       "<style scoped>\n",
       "    .dataframe tbody tr th:only-of-type {\n",
       "        vertical-align: middle;\n",
       "    }\n",
       "\n",
       "    .dataframe tbody tr th {\n",
       "        vertical-align: top;\n",
       "    }\n",
       "\n",
       "    .dataframe thead th {\n",
       "        text-align: right;\n",
       "    }\n",
       "</style>\n",
       "<table border=\"1\" class=\"dataframe\">\n",
       "  <thead>\n",
       "    <tr style=\"text-align: right;\">\n",
       "      <th></th>\n",
       "      <th>anum_clean</th>\n",
       "      <th>address</th>\n",
       "    </tr>\n",
       "  </thead>\n",
       "  <tbody>\n",
       "    <tr>\n",
       "      <th>0</th>\n",
       "      <td>12892312</td>\n",
       "      <td>123 Pine Ave.</td>\n",
       "    </tr>\n",
       "    <tr>\n",
       "      <th>1</th>\n",
       "      <td>NaN</td>\n",
       "      <td>main st</td>\n",
       "    </tr>\n",
       "    <tr>\n",
       "      <th>2</th>\n",
       "      <td>NaN</td>\n",
       "      <td>1234 west main heights 57033</td>\n",
       "    </tr>\n",
       "    <tr>\n",
       "      <th>3</th>\n",
       "      <td>NaN</td>\n",
       "      <td>apt 1 789 s maple rd manhattan</td>\n",
       "    </tr>\n",
       "    <tr>\n",
       "      <th>4</th>\n",
       "      <td>NaN</td>\n",
       "      <td>robie house, 789 north main street</td>\n",
       "    </tr>\n",
       "    <tr>\n",
       "      <th>5</th>\n",
       "      <td>NaN</td>\n",
       "      <td>1111 S Figueroa St, Los Angeles, CA 90015</td>\n",
       "    </tr>\n",
       "    <tr>\n",
       "      <th>6</th>\n",
       "      <td>NaN</td>\n",
       "      <td>(staples center) 1111 S Figueroa St, Los Angeles</td>\n",
       "    </tr>\n",
       "    <tr>\n",
       "      <th>7</th>\n",
       "      <td>NaN</td>\n",
       "      <td>hello</td>\n",
       "    </tr>\n",
       "  </tbody>\n",
       "</table>\n",
       "</div>"
      ],
      "text/plain": [
       "  anum_clean                                           address\n",
       "0   12892312                                     123 Pine Ave.\n",
       "1        NaN                                           main st\n",
       "2        NaN                      1234 west main heights 57033\n",
       "3        NaN                    apt 1 789 s maple rd manhattan\n",
       "4        NaN                robie house, 789 north main street\n",
       "5        NaN         1111 S Figueroa St, Los Angeles, CA 90015\n",
       "6        NaN  (staples center) 1111 S Figueroa St, Los Angeles\n",
       "7        NaN                                             hello"
      ]
     },
     "execution_count": 1,
     "metadata": {},
     "output_type": "execute_result"
    }
   ],
   "source": [
    "clean_hu_anum(df, column=\"anum\", inplace=True)"
   ]
  },
  {
   "cell_type": "markdown",
   "id": "previous-episode",
   "metadata": {},
   "source": [
    "## 4. `errors` parameter"
   ]
  },
  {
   "cell_type": "markdown",
   "id": "acoustic-consultation",
   "metadata": {},
   "source": [
    "### `coerce` (default)"
   ]
  },
  {
   "cell_type": "code",
   "execution_count": 6,
   "id": "verified-height",
   "metadata": {
    "execution": {
     "iopub.execute_input": "2021-10-30T05:20:22.149367Z",
     "iopub.status.busy": "2021-10-30T05:20:22.148886Z",
     "iopub.status.idle": "2021-10-30T05:20:22.160124Z",
     "shell.execute_reply": "2021-10-30T05:20:22.160767Z"
    }
   },
   "outputs": [
    {
     "data": {
      "text/html": [
       "<div>\n",
       "<style scoped>\n",
       "    .dataframe tbody tr th:only-of-type {\n",
       "        vertical-align: middle;\n",
       "    }\n",
       "\n",
       "    .dataframe tbody tr th {\n",
       "        vertical-align: top;\n",
       "    }\n",
       "\n",
       "    .dataframe thead th {\n",
       "        text-align: right;\n",
       "    }\n",
       "</style>\n",
       "<table border=\"1\" class=\"dataframe\">\n",
       "  <thead>\n",
       "    <tr style=\"text-align: right;\">\n",
       "      <th></th>\n",
       "      <th>anum</th>\n",
       "      <th>address</th>\n",
       "      <th>anum_clean</th>\n",
       "    </tr>\n",
       "  </thead>\n",
       "  <tbody>\n",
       "    <tr>\n",
       "      <th>0</th>\n",
       "      <td>HU-12892312</td>\n",
       "      <td>123 Pine Ave.</td>\n",
       "      <td>12892312</td>\n",
       "    </tr>\n",
       "    <tr>\n",
       "      <th>1</th>\n",
       "      <td>HU-12892313</td>\n",
       "      <td>main st</td>\n",
       "      <td>NaN</td>\n",
       "    </tr>\n",
       "    <tr>\n",
       "      <th>2</th>\n",
       "      <td>BE 428759497</td>\n",
       "      <td>1234 west main heights 57033</td>\n",
       "      <td>NaN</td>\n",
       "    </tr>\n",
       "    <tr>\n",
       "      <th>3</th>\n",
       "      <td>BE431150351</td>\n",
       "      <td>apt 1 789 s maple rd manhattan</td>\n",
       "      <td>NaN</td>\n",
       "    </tr>\n",
       "    <tr>\n",
       "      <th>4</th>\n",
       "      <td>002 724 334</td>\n",
       "      <td>robie house, 789 north main street</td>\n",
       "      <td>NaN</td>\n",
       "    </tr>\n",
       "    <tr>\n",
       "      <th>5</th>\n",
       "      <td>hello</td>\n",
       "      <td>1111 S Figueroa St, Los Angeles, CA 90015</td>\n",
       "      <td>NaN</td>\n",
       "    </tr>\n",
       "    <tr>\n",
       "      <th>6</th>\n",
       "      <td>NaN</td>\n",
       "      <td>(staples center) 1111 S Figueroa St, Los Angeles</td>\n",
       "      <td>NaN</td>\n",
       "    </tr>\n",
       "    <tr>\n",
       "      <th>7</th>\n",
       "      <td>NULL</td>\n",
       "      <td>hello</td>\n",
       "      <td>NaN</td>\n",
       "    </tr>\n",
       "  </tbody>\n",
       "</table>\n",
       "</div>"
      ],
      "text/plain": [
       "           anum                                           address anum_clean\n",
       "0   HU-12892312                                     123 Pine Ave.   12892312\n",
       "1   HU-12892313                                           main st        NaN\n",
       "2  BE 428759497                      1234 west main heights 57033        NaN\n",
       "3   BE431150351                    apt 1 789 s maple rd manhattan        NaN\n",
       "4   002 724 334                robie house, 789 north main street        NaN\n",
       "5         hello         1111 S Figueroa St, Los Angeles, CA 90015        NaN\n",
       "6           NaN  (staples center) 1111 S Figueroa St, Los Angeles        NaN\n",
       "7          NULL                                             hello        NaN"
      ]
     },
     "execution_count": 1,
     "metadata": {},
     "output_type": "execute_result"
    }
   ],
   "source": [
    "clean_hu_anum(df, \"anum\", errors=\"coerce\")"
   ]
  },
  {
   "cell_type": "markdown",
   "id": "hired-paper",
   "metadata": {},
   "source": [
    "### `ignore`"
   ]
  },
  {
   "cell_type": "code",
   "execution_count": 7,
   "id": "fixed-sudan",
   "metadata": {
    "execution": {
     "iopub.execute_input": "2021-10-30T05:20:22.182150Z",
     "iopub.status.busy": "2021-10-30T05:20:22.179386Z",
     "iopub.status.idle": "2021-10-30T05:20:22.190346Z",
     "shell.execute_reply": "2021-10-30T05:20:22.189939Z"
    }
   },
   "outputs": [
    {
     "data": {
      "text/html": [
       "<div>\n",
       "<style scoped>\n",
       "    .dataframe tbody tr th:only-of-type {\n",
       "        vertical-align: middle;\n",
       "    }\n",
       "\n",
       "    .dataframe tbody tr th {\n",
       "        vertical-align: top;\n",
       "    }\n",
       "\n",
       "    .dataframe thead th {\n",
       "        text-align: right;\n",
       "    }\n",
       "</style>\n",
       "<table border=\"1\" class=\"dataframe\">\n",
       "  <thead>\n",
       "    <tr style=\"text-align: right;\">\n",
       "      <th></th>\n",
       "      <th>anum</th>\n",
       "      <th>address</th>\n",
       "      <th>anum_clean</th>\n",
       "    </tr>\n",
       "  </thead>\n",
       "  <tbody>\n",
       "    <tr>\n",
       "      <th>0</th>\n",
       "      <td>HU-12892312</td>\n",
       "      <td>123 Pine Ave.</td>\n",
       "      <td>12892312</td>\n",
       "    </tr>\n",
       "    <tr>\n",
       "      <th>1</th>\n",
       "      <td>HU-12892313</td>\n",
       "      <td>main st</td>\n",
       "      <td>HU-12892313</td>\n",
       "    </tr>\n",
       "    <tr>\n",
       "      <th>2</th>\n",
       "      <td>BE 428759497</td>\n",
       "      <td>1234 west main heights 57033</td>\n",
       "      <td>BE 428759497</td>\n",
       "    </tr>\n",
       "    <tr>\n",
       "      <th>3</th>\n",
       "      <td>BE431150351</td>\n",
       "      <td>apt 1 789 s maple rd manhattan</td>\n",
       "      <td>BE431150351</td>\n",
       "    </tr>\n",
       "    <tr>\n",
       "      <th>4</th>\n",
       "      <td>002 724 334</td>\n",
       "      <td>robie house, 789 north main street</td>\n",
       "      <td>002 724 334</td>\n",
       "    </tr>\n",
       "    <tr>\n",
       "      <th>5</th>\n",
       "      <td>hello</td>\n",
       "      <td>1111 S Figueroa St, Los Angeles, CA 90015</td>\n",
       "      <td>hello</td>\n",
       "    </tr>\n",
       "    <tr>\n",
       "      <th>6</th>\n",
       "      <td>NaN</td>\n",
       "      <td>(staples center) 1111 S Figueroa St, Los Angeles</td>\n",
       "      <td>NaN</td>\n",
       "    </tr>\n",
       "    <tr>\n",
       "      <th>7</th>\n",
       "      <td>NULL</td>\n",
       "      <td>hello</td>\n",
       "      <td>NaN</td>\n",
       "    </tr>\n",
       "  </tbody>\n",
       "</table>\n",
       "</div>"
      ],
      "text/plain": [
       "           anum                                           address  \\\n",
       "0   HU-12892312                                     123 Pine Ave.   \n",
       "1   HU-12892313                                           main st   \n",
       "2  BE 428759497                      1234 west main heights 57033   \n",
       "3   BE431150351                    apt 1 789 s maple rd manhattan   \n",
       "4   002 724 334                robie house, 789 north main street   \n",
       "5         hello         1111 S Figueroa St, Los Angeles, CA 90015   \n",
       "6           NaN  (staples center) 1111 S Figueroa St, Los Angeles   \n",
       "7          NULL                                             hello   \n",
       "\n",
       "     anum_clean  \n",
       "0      12892312  \n",
       "1   HU-12892313  \n",
       "2  BE 428759497  \n",
       "3   BE431150351  \n",
       "4   002 724 334  \n",
       "5         hello  \n",
       "6           NaN  \n",
       "7           NaN  "
      ]
     },
     "execution_count": 1,
     "metadata": {},
     "output_type": "execute_result"
    }
   ],
   "source": [
    "clean_hu_anum(df, \"anum\", errors=\"ignore\")"
   ]
  },
  {
   "cell_type": "markdown",
   "id": "conceptual-melbourne",
   "metadata": {},
   "source": [
    "## 4. `validate_hu_anum()`"
   ]
  },
  {
   "cell_type": "markdown",
   "id": "documentary-robertson",
   "metadata": {},
   "source": [
    "`validate_hu_anum()` returns `True` when the input is a valid ANUM. Otherwise it returns `False`.\n",
    "\n",
    "The input of `validate_hu_anum()` can be a string, a Pandas DataSeries, a Dask DataSeries, a Pandas DataFrame and a dask DataFrame.\n",
    "\n",
    "When the input is a string, a Pandas DataSeries or a Dask DataSeries, user doesn't need to specify a column name to be validated. \n",
    "\n",
    "When the input is a Pandas DataFrame or a dask DataFrame, user can both specify or not specify a column name to be validated. If user specify the column name, `validate_hu_anum()` only returns the validation result for the specified column. If user doesn't specify the column name, `validate_hu_anum()` returns the validation result for the whole DataFrame."
   ]
  },
  {
   "cell_type": "code",
   "execution_count": 8,
   "id": "varied-heavy",
   "metadata": {
    "execution": {
     "iopub.execute_input": "2021-10-30T05:20:22.195603Z",
     "iopub.status.busy": "2021-10-30T05:20:22.195085Z",
     "iopub.status.idle": "2021-10-30T05:20:22.198108Z",
     "shell.execute_reply": "2021-10-30T05:20:22.198469Z"
    }
   },
   "outputs": [
    {
     "name": "stdout",
     "output_type": "stream",
     "text": [
      "True\n",
      "False\n",
      "False\n",
      "False\n",
      "False\n",
      "False\n",
      "False\n",
      "False\n"
     ]
    }
   ],
   "source": [
    "from dataprep.clean import validate_hu_anum\n",
    "print(validate_hu_anum(\"HU-12892312\"))\n",
    "print(validate_hu_anum(\"HU-12892313\"))\n",
    "print(validate_hu_anum('BE 428759497'))\n",
    "print(validate_hu_anum('BE431150351'))\n",
    "print(validate_hu_anum(\"004085616\"))\n",
    "print(validate_hu_anum(\"hello\"))\n",
    "print(validate_hu_anum(np.nan))\n",
    "print(validate_hu_anum(\"NULL\"))"
   ]
  },
  {
   "cell_type": "markdown",
   "id": "digital-scenario",
   "metadata": {},
   "source": [
    "### Series"
   ]
  },
  {
   "cell_type": "code",
   "execution_count": 9,
   "id": "expressed-depression",
   "metadata": {
    "execution": {
     "iopub.execute_input": "2021-10-30T05:20:22.202914Z",
     "iopub.status.busy": "2021-10-30T05:20:22.202391Z",
     "iopub.status.idle": "2021-10-30T05:20:22.207038Z",
     "shell.execute_reply": "2021-10-30T05:20:22.206581Z"
    }
   },
   "outputs": [
    {
     "data": {
      "text/plain": [
       "0     True\n",
       "1    False\n",
       "2    False\n",
       "3    False\n",
       "4    False\n",
       "5    False\n",
       "6    False\n",
       "7    False\n",
       "Name: anum, dtype: bool"
      ]
     },
     "execution_count": 1,
     "metadata": {},
     "output_type": "execute_result"
    }
   ],
   "source": [
    "validate_hu_anum(df[\"anum\"])"
   ]
  },
  {
   "cell_type": "markdown",
   "id": "scenic-dover",
   "metadata": {},
   "source": [
    "### DataFrame + Specify Column"
   ]
  },
  {
   "cell_type": "code",
   "execution_count": 10,
   "id": "sonic-observation",
   "metadata": {
    "execution": {
     "iopub.execute_input": "2021-10-30T05:20:22.211384Z",
     "iopub.status.busy": "2021-10-30T05:20:22.210912Z",
     "iopub.status.idle": "2021-10-30T05:20:22.216073Z",
     "shell.execute_reply": "2021-10-30T05:20:22.215654Z"
    }
   },
   "outputs": [
    {
     "data": {
      "text/plain": [
       "0     True\n",
       "1    False\n",
       "2    False\n",
       "3    False\n",
       "4    False\n",
       "5    False\n",
       "6    False\n",
       "7    False\n",
       "Name: anum, dtype: bool"
      ]
     },
     "execution_count": 1,
     "metadata": {},
     "output_type": "execute_result"
    }
   ],
   "source": [
    "validate_hu_anum(df, column=\"anum\")"
   ]
  },
  {
   "cell_type": "markdown",
   "id": "crucial-coalition",
   "metadata": {},
   "source": [
    "### Only DataFrame"
   ]
  },
  {
   "cell_type": "code",
   "execution_count": 11,
   "id": "activated-occupation",
   "metadata": {
    "execution": {
     "iopub.execute_input": "2021-10-30T05:20:22.219240Z",
     "iopub.status.busy": "2021-10-30T05:20:22.218737Z",
     "iopub.status.idle": "2021-10-30T05:20:22.226142Z",
     "shell.execute_reply": "2021-10-30T05:20:22.225719Z"
    },
    "scrolled": true
   },
   "outputs": [
    {
     "data": {
      "text/html": [
       "<div>\n",
       "<style scoped>\n",
       "    .dataframe tbody tr th:only-of-type {\n",
       "        vertical-align: middle;\n",
       "    }\n",
       "\n",
       "    .dataframe tbody tr th {\n",
       "        vertical-align: top;\n",
       "    }\n",
       "\n",
       "    .dataframe thead th {\n",
       "        text-align: right;\n",
       "    }\n",
       "</style>\n",
       "<table border=\"1\" class=\"dataframe\">\n",
       "  <thead>\n",
       "    <tr style=\"text-align: right;\">\n",
       "      <th></th>\n",
       "      <th>anum</th>\n",
       "      <th>address</th>\n",
       "    </tr>\n",
       "  </thead>\n",
       "  <tbody>\n",
       "    <tr>\n",
       "      <th>0</th>\n",
       "      <td>True</td>\n",
       "      <td>False</td>\n",
       "    </tr>\n",
       "    <tr>\n",
       "      <th>1</th>\n",
       "      <td>False</td>\n",
       "      <td>False</td>\n",
       "    </tr>\n",
       "    <tr>\n",
       "      <th>2</th>\n",
       "      <td>False</td>\n",
       "      <td>False</td>\n",
       "    </tr>\n",
       "    <tr>\n",
       "      <th>3</th>\n",
       "      <td>False</td>\n",
       "      <td>False</td>\n",
       "    </tr>\n",
       "    <tr>\n",
       "      <th>4</th>\n",
       "      <td>False</td>\n",
       "      <td>False</td>\n",
       "    </tr>\n",
       "    <tr>\n",
       "      <th>5</th>\n",
       "      <td>False</td>\n",
       "      <td>False</td>\n",
       "    </tr>\n",
       "    <tr>\n",
       "      <th>6</th>\n",
       "      <td>False</td>\n",
       "      <td>False</td>\n",
       "    </tr>\n",
       "    <tr>\n",
       "      <th>7</th>\n",
       "      <td>False</td>\n",
       "      <td>False</td>\n",
       "    </tr>\n",
       "  </tbody>\n",
       "</table>\n",
       "</div>"
      ],
      "text/plain": [
       "    anum  address\n",
       "0   True    False\n",
       "1  False    False\n",
       "2  False    False\n",
       "3  False    False\n",
       "4  False    False\n",
       "5  False    False\n",
       "6  False    False\n",
       "7  False    False"
      ]
     },
     "execution_count": 1,
     "metadata": {},
     "output_type": "execute_result"
    }
   ],
   "source": [
    "validate_hu_anum(df)"
   ]
  },
  {
   "cell_type": "code",
   "execution_count": null,
   "id": "dirty-baltimore",
   "metadata": {},
   "outputs": [],
   "source": []
  }
 ],
 "metadata": {
  "kernelspec": {
   "display_name": "Python 3",
   "language": "python",
   "name": "python3"
  },
  "language_info": {
   "codemirror_mode": {
    "name": "ipython",
    "version": 3
   },
   "file_extension": ".py",
   "mimetype": "text/x-python",
   "name": "python",
   "nbconvert_exporter": "python",
   "pygments_lexer": "ipython3",
   "version": "3.8.10"
  }
 },
 "nbformat": 4,
 "nbformat_minor": 5
}
