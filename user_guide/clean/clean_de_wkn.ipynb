{
 "cells": [
  {
   "cell_type": "markdown",
   "id": "technical-blair",
   "metadata": {},
   "source": [
    "# German Securities Identification Codes"
   ]
  },
  {
   "cell_type": "markdown",
   "id": "breathing-strength",
   "metadata": {},
   "source": [
    "## Introduction"
   ]
  },
  {
   "cell_type": "markdown",
   "id": "proud-philosophy",
   "metadata": {},
   "source": [
    "The function `clean_de_wkn()` cleans a column containing German Securities Identification Codes (WKN) strings, and standardizes them in a given format. The function `validate_de_wkn()` validates either a single WKN strings, a column of WKN strings or a DataFrame of WKN strings, returning `True` if the value is valid, and `False` otherwise."
   ]
  },
  {
   "cell_type": "markdown",
   "id": "acute-government",
   "metadata": {},
   "source": [
    "WKN strings can be converted to the following formats via the `output_format` parameter:\n",
    "\n",
    "* `compact`: only number strings without any seperators or whitespace, like \"A0MNRK\"\n",
    "* `standard`: WKN strings with proper whitespace in the proper places. Note that in the case of WKN, the compact format is the same as the standard one.\n",
    "* `isin`: convert the number to an ISIN, like \"DE000A0MNRK9\".\n",
    "\n",
    "Invalid parsing is handled with the `errors` parameter:\n",
    "\n",
    "* `coerce` (default): invalid parsing will be set to NaN\n",
    "* `ignore`: invalid parsing will return the input\n",
    "* `raise`: invalid parsing will raise an exception\n",
    "\n",
    "The following sections demonstrate the functionality of `clean_de_wkn()` and `validate_de_wkn()`. "
   ]
  },
  {
   "cell_type": "markdown",
   "id": "powerful-deposit",
   "metadata": {},
   "source": [
    "### An example dataset containing WKN strings"
   ]
  },
  {
   "cell_type": "code",
   "execution_count": 1,
   "id": "chief-facing",
   "metadata": {
    "execution": {
     "iopub.execute_input": "2021-11-04T02:11:03.348499Z",
     "iopub.status.busy": "2021-11-04T02:11:03.348043Z",
     "iopub.status.idle": "2021-11-04T02:11:03.565106Z",
     "shell.execute_reply": "2021-11-04T02:11:03.564592Z"
    }
   },
   "outputs": [
    {
     "data": {
      "text/html": [
       "<div>\n",
       "<style scoped>\n",
       "    .dataframe tbody tr th:only-of-type {\n",
       "        vertical-align: middle;\n",
       "    }\n",
       "\n",
       "    .dataframe tbody tr th {\n",
       "        vertical-align: top;\n",
       "    }\n",
       "\n",
       "    .dataframe thead th {\n",
       "        text-align: right;\n",
       "    }\n",
       "</style>\n",
       "<table border=\"1\" class=\"dataframe\">\n",
       "  <thead>\n",
       "    <tr style=\"text-align: right;\">\n",
       "      <th></th>\n",
       "      <th>wkn</th>\n",
       "      <th>address</th>\n",
       "    </tr>\n",
       "  </thead>\n",
       "  <tbody>\n",
       "    <tr>\n",
       "      <th>0</th>\n",
       "      <td>A0MNRK</td>\n",
       "      <td>123 Pine Ave.</td>\n",
       "    </tr>\n",
       "    <tr>\n",
       "      <th>1</th>\n",
       "      <td>AOMNRK</td>\n",
       "      <td>main st</td>\n",
       "    </tr>\n",
       "    <tr>\n",
       "      <th>2</th>\n",
       "      <td>7542011030</td>\n",
       "      <td>1234 west main heights 57033</td>\n",
       "    </tr>\n",
       "    <tr>\n",
       "      <th>3</th>\n",
       "      <td>7552A10004</td>\n",
       "      <td>apt 1 789 s maple rd manhattan</td>\n",
       "    </tr>\n",
       "    <tr>\n",
       "      <th>4</th>\n",
       "      <td>8019010008</td>\n",
       "      <td>robie house, 789 north main street</td>\n",
       "    </tr>\n",
       "    <tr>\n",
       "      <th>5</th>\n",
       "      <td>hello</td>\n",
       "      <td>1111 S Figueroa St, Los Angeles, CA 90015</td>\n",
       "    </tr>\n",
       "    <tr>\n",
       "      <th>6</th>\n",
       "      <td>NaN</td>\n",
       "      <td>(staples center) 1111 S Figueroa St, Los Angeles</td>\n",
       "    </tr>\n",
       "    <tr>\n",
       "      <th>7</th>\n",
       "      <td>NULL</td>\n",
       "      <td>hello</td>\n",
       "    </tr>\n",
       "  </tbody>\n",
       "</table>\n",
       "</div>"
      ],
      "text/plain": [
       "          wkn                                           address\n",
       "0      A0MNRK                                     123 Pine Ave.\n",
       "1      AOMNRK                                           main st\n",
       "2  7542011030                      1234 west main heights 57033\n",
       "3  7552A10004                    apt 1 789 s maple rd manhattan\n",
       "4  8019010008                robie house, 789 north main street\n",
       "5       hello         1111 S Figueroa St, Los Angeles, CA 90015\n",
       "6         NaN  (staples center) 1111 S Figueroa St, Los Angeles\n",
       "7        NULL                                             hello"
      ]
     },
     "execution_count": 1,
     "metadata": {},
     "output_type": "execute_result"
    }
   ],
   "source": [
    "import pandas as pd\n",
    "import numpy as np\n",
    "df = pd.DataFrame(\n",
    "    {\n",
    "        \"wkn\": [\n",
    "            'A0MNRK',\n",
    "            'AOMNRK',\n",
    "            '7542011030',\n",
    "            '7552A10004',\n",
    "            '8019010008',\n",
    "            \"hello\",\n",
    "            np.nan,\n",
    "            \"NULL\",\n",
    "        ], \n",
    "        \"address\": [\n",
    "            \"123 Pine Ave.\",\n",
    "            \"main st\",\n",
    "            \"1234 west main heights 57033\",\n",
    "            \"apt 1 789 s maple rd manhattan\",\n",
    "            \"robie house, 789 north main street\",\n",
    "            \"1111 S Figueroa St, Los Angeles, CA 90015\",\n",
    "            \"(staples center) 1111 S Figueroa St, Los Angeles\",\n",
    "            \"hello\",\n",
    "        ]\n",
    "    }\n",
    ")\n",
    "df"
   ]
  },
  {
   "cell_type": "markdown",
   "id": "minute-complement",
   "metadata": {},
   "source": [
    "## 1. Default `clean_de_wkn`\n",
    "\n",
    "By default, `clean_de_wkn` will clean wkn strings and output them in the standard format with proper separators."
   ]
  },
  {
   "cell_type": "code",
   "execution_count": 2,
   "id": "prostate-lingerie",
   "metadata": {
    "execution": {
     "iopub.execute_input": "2021-11-04T02:11:03.569043Z",
     "iopub.status.busy": "2021-11-04T02:11:03.568055Z",
     "iopub.status.idle": "2021-11-04T02:11:04.098900Z",
     "shell.execute_reply": "2021-11-04T02:11:04.099253Z"
    }
   },
   "outputs": [
    {
     "data": {
      "text/html": [
       "<div>\n",
       "<style scoped>\n",
       "    .dataframe tbody tr th:only-of-type {\n",
       "        vertical-align: middle;\n",
       "    }\n",
       "\n",
       "    .dataframe tbody tr th {\n",
       "        vertical-align: top;\n",
       "    }\n",
       "\n",
       "    .dataframe thead th {\n",
       "        text-align: right;\n",
       "    }\n",
       "</style>\n",
       "<table border=\"1\" class=\"dataframe\">\n",
       "  <thead>\n",
       "    <tr style=\"text-align: right;\">\n",
       "      <th></th>\n",
       "      <th>wkn</th>\n",
       "      <th>address</th>\n",
       "      <th>wkn_clean</th>\n",
       "    </tr>\n",
       "  </thead>\n",
       "  <tbody>\n",
       "    <tr>\n",
       "      <th>0</th>\n",
       "      <td>A0MNRK</td>\n",
       "      <td>123 Pine Ave.</td>\n",
       "      <td>A0MNRK</td>\n",
       "    </tr>\n",
       "    <tr>\n",
       "      <th>1</th>\n",
       "      <td>AOMNRK</td>\n",
       "      <td>main st</td>\n",
       "      <td>NaN</td>\n",
       "    </tr>\n",
       "    <tr>\n",
       "      <th>2</th>\n",
       "      <td>7542011030</td>\n",
       "      <td>1234 west main heights 57033</td>\n",
       "      <td>NaN</td>\n",
       "    </tr>\n",
       "    <tr>\n",
       "      <th>3</th>\n",
       "      <td>7552A10004</td>\n",
       "      <td>apt 1 789 s maple rd manhattan</td>\n",
       "      <td>NaN</td>\n",
       "    </tr>\n",
       "    <tr>\n",
       "      <th>4</th>\n",
       "      <td>8019010008</td>\n",
       "      <td>robie house, 789 north main street</td>\n",
       "      <td>NaN</td>\n",
       "    </tr>\n",
       "    <tr>\n",
       "      <th>5</th>\n",
       "      <td>hello</td>\n",
       "      <td>1111 S Figueroa St, Los Angeles, CA 90015</td>\n",
       "      <td>NaN</td>\n",
       "    </tr>\n",
       "    <tr>\n",
       "      <th>6</th>\n",
       "      <td>NaN</td>\n",
       "      <td>(staples center) 1111 S Figueroa St, Los Angeles</td>\n",
       "      <td>NaN</td>\n",
       "    </tr>\n",
       "    <tr>\n",
       "      <th>7</th>\n",
       "      <td>NULL</td>\n",
       "      <td>hello</td>\n",
       "      <td>NaN</td>\n",
       "    </tr>\n",
       "  </tbody>\n",
       "</table>\n",
       "</div>"
      ],
      "text/plain": [
       "          wkn                                           address wkn_clean\n",
       "0      A0MNRK                                     123 Pine Ave.    A0MNRK\n",
       "1      AOMNRK                                           main st       NaN\n",
       "2  7542011030                      1234 west main heights 57033       NaN\n",
       "3  7552A10004                    apt 1 789 s maple rd manhattan       NaN\n",
       "4  8019010008                robie house, 789 north main street       NaN\n",
       "5       hello         1111 S Figueroa St, Los Angeles, CA 90015       NaN\n",
       "6         NaN  (staples center) 1111 S Figueroa St, Los Angeles       NaN\n",
       "7        NULL                                             hello       NaN"
      ]
     },
     "execution_count": 1,
     "metadata": {},
     "output_type": "execute_result"
    }
   ],
   "source": [
    "from dataprep.clean import clean_de_wkn\n",
    "clean_de_wkn(df, column = \"wkn\")"
   ]
  },
  {
   "cell_type": "markdown",
   "id": "instrumental-collection",
   "metadata": {},
   "source": [
    "## 2. Output formats"
   ]
  },
  {
   "cell_type": "markdown",
   "id": "little-intake",
   "metadata": {},
   "source": [
    "This section demonstrates the output parameter."
   ]
  },
  {
   "cell_type": "markdown",
   "id": "distinguished-marathon",
   "metadata": {},
   "source": [
    "### `standard` (default)"
   ]
  },
  {
   "cell_type": "code",
   "execution_count": 3,
   "id": "purple-pastor",
   "metadata": {
    "execution": {
     "iopub.execute_input": "2021-11-04T02:11:04.123655Z",
     "iopub.status.busy": "2021-11-04T02:11:04.123163Z",
     "iopub.status.idle": "2021-11-04T02:11:04.127766Z",
     "shell.execute_reply": "2021-11-04T02:11:04.127357Z"
    }
   },
   "outputs": [
    {
     "data": {
      "text/html": [
       "<div>\n",
       "<style scoped>\n",
       "    .dataframe tbody tr th:only-of-type {\n",
       "        vertical-align: middle;\n",
       "    }\n",
       "\n",
       "    .dataframe tbody tr th {\n",
       "        vertical-align: top;\n",
       "    }\n",
       "\n",
       "    .dataframe thead th {\n",
       "        text-align: right;\n",
       "    }\n",
       "</style>\n",
       "<table border=\"1\" class=\"dataframe\">\n",
       "  <thead>\n",
       "    <tr style=\"text-align: right;\">\n",
       "      <th></th>\n",
       "      <th>wkn</th>\n",
       "      <th>address</th>\n",
       "      <th>wkn_clean</th>\n",
       "    </tr>\n",
       "  </thead>\n",
       "  <tbody>\n",
       "    <tr>\n",
       "      <th>0</th>\n",
       "      <td>A0MNRK</td>\n",
       "      <td>123 Pine Ave.</td>\n",
       "      <td>A0MNRK</td>\n",
       "    </tr>\n",
       "    <tr>\n",
       "      <th>1</th>\n",
       "      <td>AOMNRK</td>\n",
       "      <td>main st</td>\n",
       "      <td>NaN</td>\n",
       "    </tr>\n",
       "    <tr>\n",
       "      <th>2</th>\n",
       "      <td>7542011030</td>\n",
       "      <td>1234 west main heights 57033</td>\n",
       "      <td>NaN</td>\n",
       "    </tr>\n",
       "    <tr>\n",
       "      <th>3</th>\n",
       "      <td>7552A10004</td>\n",
       "      <td>apt 1 789 s maple rd manhattan</td>\n",
       "      <td>NaN</td>\n",
       "    </tr>\n",
       "    <tr>\n",
       "      <th>4</th>\n",
       "      <td>8019010008</td>\n",
       "      <td>robie house, 789 north main street</td>\n",
       "      <td>NaN</td>\n",
       "    </tr>\n",
       "    <tr>\n",
       "      <th>5</th>\n",
       "      <td>hello</td>\n",
       "      <td>1111 S Figueroa St, Los Angeles, CA 90015</td>\n",
       "      <td>NaN</td>\n",
       "    </tr>\n",
       "    <tr>\n",
       "      <th>6</th>\n",
       "      <td>NaN</td>\n",
       "      <td>(staples center) 1111 S Figueroa St, Los Angeles</td>\n",
       "      <td>NaN</td>\n",
       "    </tr>\n",
       "    <tr>\n",
       "      <th>7</th>\n",
       "      <td>NULL</td>\n",
       "      <td>hello</td>\n",
       "      <td>NaN</td>\n",
       "    </tr>\n",
       "  </tbody>\n",
       "</table>\n",
       "</div>"
      ],
      "text/plain": [
       "          wkn                                           address wkn_clean\n",
       "0      A0MNRK                                     123 Pine Ave.    A0MNRK\n",
       "1      AOMNRK                                           main st       NaN\n",
       "2  7542011030                      1234 west main heights 57033       NaN\n",
       "3  7552A10004                    apt 1 789 s maple rd manhattan       NaN\n",
       "4  8019010008                robie house, 789 north main street       NaN\n",
       "5       hello         1111 S Figueroa St, Los Angeles, CA 90015       NaN\n",
       "6         NaN  (staples center) 1111 S Figueroa St, Los Angeles       NaN\n",
       "7        NULL                                             hello       NaN"
      ]
     },
     "execution_count": 1,
     "metadata": {},
     "output_type": "execute_result"
    }
   ],
   "source": [
    "clean_de_wkn(df, column = \"wkn\", output_format=\"standard\")"
   ]
  },
  {
   "cell_type": "markdown",
   "id": "impaired-pointer",
   "metadata": {},
   "source": [
    "### `compact`"
   ]
  },
  {
   "cell_type": "code",
   "execution_count": 4,
   "id": "detailed-wealth",
   "metadata": {
    "execution": {
     "iopub.execute_input": "2021-11-04T02:11:04.147422Z",
     "iopub.status.busy": "2021-11-04T02:11:04.143815Z",
     "iopub.status.idle": "2021-11-04T02:11:04.155229Z",
     "shell.execute_reply": "2021-11-04T02:11:04.154846Z"
    }
   },
   "outputs": [
    {
     "data": {
      "text/html": [
       "<div>\n",
       "<style scoped>\n",
       "    .dataframe tbody tr th:only-of-type {\n",
       "        vertical-align: middle;\n",
       "    }\n",
       "\n",
       "    .dataframe tbody tr th {\n",
       "        vertical-align: top;\n",
       "    }\n",
       "\n",
       "    .dataframe thead th {\n",
       "        text-align: right;\n",
       "    }\n",
       "</style>\n",
       "<table border=\"1\" class=\"dataframe\">\n",
       "  <thead>\n",
       "    <tr style=\"text-align: right;\">\n",
       "      <th></th>\n",
       "      <th>wkn</th>\n",
       "      <th>address</th>\n",
       "      <th>wkn_clean</th>\n",
       "    </tr>\n",
       "  </thead>\n",
       "  <tbody>\n",
       "    <tr>\n",
       "      <th>0</th>\n",
       "      <td>A0MNRK</td>\n",
       "      <td>123 Pine Ave.</td>\n",
       "      <td>A0MNRK</td>\n",
       "    </tr>\n",
       "    <tr>\n",
       "      <th>1</th>\n",
       "      <td>AOMNRK</td>\n",
       "      <td>main st</td>\n",
       "      <td>NaN</td>\n",
       "    </tr>\n",
       "    <tr>\n",
       "      <th>2</th>\n",
       "      <td>7542011030</td>\n",
       "      <td>1234 west main heights 57033</td>\n",
       "      <td>NaN</td>\n",
       "    </tr>\n",
       "    <tr>\n",
       "      <th>3</th>\n",
       "      <td>7552A10004</td>\n",
       "      <td>apt 1 789 s maple rd manhattan</td>\n",
       "      <td>NaN</td>\n",
       "    </tr>\n",
       "    <tr>\n",
       "      <th>4</th>\n",
       "      <td>8019010008</td>\n",
       "      <td>robie house, 789 north main street</td>\n",
       "      <td>NaN</td>\n",
       "    </tr>\n",
       "    <tr>\n",
       "      <th>5</th>\n",
       "      <td>hello</td>\n",
       "      <td>1111 S Figueroa St, Los Angeles, CA 90015</td>\n",
       "      <td>NaN</td>\n",
       "    </tr>\n",
       "    <tr>\n",
       "      <th>6</th>\n",
       "      <td>NaN</td>\n",
       "      <td>(staples center) 1111 S Figueroa St, Los Angeles</td>\n",
       "      <td>NaN</td>\n",
       "    </tr>\n",
       "    <tr>\n",
       "      <th>7</th>\n",
       "      <td>NULL</td>\n",
       "      <td>hello</td>\n",
       "      <td>NaN</td>\n",
       "    </tr>\n",
       "  </tbody>\n",
       "</table>\n",
       "</div>"
      ],
      "text/plain": [
       "          wkn                                           address wkn_clean\n",
       "0      A0MNRK                                     123 Pine Ave.    A0MNRK\n",
       "1      AOMNRK                                           main st       NaN\n",
       "2  7542011030                      1234 west main heights 57033       NaN\n",
       "3  7552A10004                    apt 1 789 s maple rd manhattan       NaN\n",
       "4  8019010008                robie house, 789 north main street       NaN\n",
       "5       hello         1111 S Figueroa St, Los Angeles, CA 90015       NaN\n",
       "6         NaN  (staples center) 1111 S Figueroa St, Los Angeles       NaN\n",
       "7        NULL                                             hello       NaN"
      ]
     },
     "execution_count": 1,
     "metadata": {},
     "output_type": "execute_result"
    }
   ],
   "source": [
    "clean_de_wkn(df, column = \"wkn\", output_format=\"compact\")"
   ]
  },
  {
   "cell_type": "markdown",
   "id": "flying-large",
   "metadata": {},
   "source": [
    "### `isin`"
   ]
  },
  {
   "cell_type": "code",
   "execution_count": 5,
   "id": "proved-physiology",
   "metadata": {
    "execution": {
     "iopub.execute_input": "2021-11-04T02:11:04.174890Z",
     "iopub.status.busy": "2021-11-04T02:11:04.173608Z",
     "iopub.status.idle": "2021-11-04T02:11:04.181421Z",
     "shell.execute_reply": "2021-11-04T02:11:04.181766Z"
    }
   },
   "outputs": [
    {
     "data": {
      "text/html": [
       "<div>\n",
       "<style scoped>\n",
       "    .dataframe tbody tr th:only-of-type {\n",
       "        vertical-align: middle;\n",
       "    }\n",
       "\n",
       "    .dataframe tbody tr th {\n",
       "        vertical-align: top;\n",
       "    }\n",
       "\n",
       "    .dataframe thead th {\n",
       "        text-align: right;\n",
       "    }\n",
       "</style>\n",
       "<table border=\"1\" class=\"dataframe\">\n",
       "  <thead>\n",
       "    <tr style=\"text-align: right;\">\n",
       "      <th></th>\n",
       "      <th>wkn</th>\n",
       "      <th>address</th>\n",
       "      <th>wkn_clean</th>\n",
       "    </tr>\n",
       "  </thead>\n",
       "  <tbody>\n",
       "    <tr>\n",
       "      <th>0</th>\n",
       "      <td>A0MNRK</td>\n",
       "      <td>123 Pine Ave.</td>\n",
       "      <td>DE000A0MNRK9</td>\n",
       "    </tr>\n",
       "    <tr>\n",
       "      <th>1</th>\n",
       "      <td>AOMNRK</td>\n",
       "      <td>main st</td>\n",
       "      <td>NaN</td>\n",
       "    </tr>\n",
       "    <tr>\n",
       "      <th>2</th>\n",
       "      <td>7542011030</td>\n",
       "      <td>1234 west main heights 57033</td>\n",
       "      <td>NaN</td>\n",
       "    </tr>\n",
       "    <tr>\n",
       "      <th>3</th>\n",
       "      <td>7552A10004</td>\n",
       "      <td>apt 1 789 s maple rd manhattan</td>\n",
       "      <td>NaN</td>\n",
       "    </tr>\n",
       "    <tr>\n",
       "      <th>4</th>\n",
       "      <td>8019010008</td>\n",
       "      <td>robie house, 789 north main street</td>\n",
       "      <td>NaN</td>\n",
       "    </tr>\n",
       "    <tr>\n",
       "      <th>5</th>\n",
       "      <td>hello</td>\n",
       "      <td>1111 S Figueroa St, Los Angeles, CA 90015</td>\n",
       "      <td>NaN</td>\n",
       "    </tr>\n",
       "    <tr>\n",
       "      <th>6</th>\n",
       "      <td>NaN</td>\n",
       "      <td>(staples center) 1111 S Figueroa St, Los Angeles</td>\n",
       "      <td>NaN</td>\n",
       "    </tr>\n",
       "    <tr>\n",
       "      <th>7</th>\n",
       "      <td>NULL</td>\n",
       "      <td>hello</td>\n",
       "      <td>NaN</td>\n",
       "    </tr>\n",
       "  </tbody>\n",
       "</table>\n",
       "</div>"
      ],
      "text/plain": [
       "          wkn                                           address     wkn_clean\n",
       "0      A0MNRK                                     123 Pine Ave.  DE000A0MNRK9\n",
       "1      AOMNRK                                           main st           NaN\n",
       "2  7542011030                      1234 west main heights 57033           NaN\n",
       "3  7552A10004                    apt 1 789 s maple rd manhattan           NaN\n",
       "4  8019010008                robie house, 789 north main street           NaN\n",
       "5       hello         1111 S Figueroa St, Los Angeles, CA 90015           NaN\n",
       "6         NaN  (staples center) 1111 S Figueroa St, Los Angeles           NaN\n",
       "7        NULL                                             hello           NaN"
      ]
     },
     "execution_count": 1,
     "metadata": {},
     "output_type": "execute_result"
    }
   ],
   "source": [
    "clean_de_wkn(df, column = \"wkn\", output_format=\"isin\")"
   ]
  },
  {
   "cell_type": "markdown",
   "id": "planned-stanley",
   "metadata": {},
   "source": [
    "## 3. `inplace` parameter\n",
    "\n",
    "This deletes the given column from the returned DataFrame. \n",
    "A new column containing cleaned WKN strings is added with a title in the format `\"{original title}_clean\"`."
   ]
  },
  {
   "cell_type": "code",
   "execution_count": 6,
   "id": "formal-jason",
   "metadata": {
    "execution": {
     "iopub.execute_input": "2021-11-04T02:11:04.209538Z",
     "iopub.status.busy": "2021-11-04T02:11:04.204351Z",
     "iopub.status.idle": "2021-11-04T02:11:04.216729Z",
     "shell.execute_reply": "2021-11-04T02:11:04.216317Z"
    }
   },
   "outputs": [
    {
     "data": {
      "text/html": [
       "<div>\n",
       "<style scoped>\n",
       "    .dataframe tbody tr th:only-of-type {\n",
       "        vertical-align: middle;\n",
       "    }\n",
       "\n",
       "    .dataframe tbody tr th {\n",
       "        vertical-align: top;\n",
       "    }\n",
       "\n",
       "    .dataframe thead th {\n",
       "        text-align: right;\n",
       "    }\n",
       "</style>\n",
       "<table border=\"1\" class=\"dataframe\">\n",
       "  <thead>\n",
       "    <tr style=\"text-align: right;\">\n",
       "      <th></th>\n",
       "      <th>wkn_clean</th>\n",
       "      <th>address</th>\n",
       "    </tr>\n",
       "  </thead>\n",
       "  <tbody>\n",
       "    <tr>\n",
       "      <th>0</th>\n",
       "      <td>A0MNRK</td>\n",
       "      <td>123 Pine Ave.</td>\n",
       "    </tr>\n",
       "    <tr>\n",
       "      <th>1</th>\n",
       "      <td>NaN</td>\n",
       "      <td>main st</td>\n",
       "    </tr>\n",
       "    <tr>\n",
       "      <th>2</th>\n",
       "      <td>NaN</td>\n",
       "      <td>1234 west main heights 57033</td>\n",
       "    </tr>\n",
       "    <tr>\n",
       "      <th>3</th>\n",
       "      <td>NaN</td>\n",
       "      <td>apt 1 789 s maple rd manhattan</td>\n",
       "    </tr>\n",
       "    <tr>\n",
       "      <th>4</th>\n",
       "      <td>NaN</td>\n",
       "      <td>robie house, 789 north main street</td>\n",
       "    </tr>\n",
       "    <tr>\n",
       "      <th>5</th>\n",
       "      <td>NaN</td>\n",
       "      <td>1111 S Figueroa St, Los Angeles, CA 90015</td>\n",
       "    </tr>\n",
       "    <tr>\n",
       "      <th>6</th>\n",
       "      <td>NaN</td>\n",
       "      <td>(staples center) 1111 S Figueroa St, Los Angeles</td>\n",
       "    </tr>\n",
       "    <tr>\n",
       "      <th>7</th>\n",
       "      <td>NaN</td>\n",
       "      <td>hello</td>\n",
       "    </tr>\n",
       "  </tbody>\n",
       "</table>\n",
       "</div>"
      ],
      "text/plain": [
       "  wkn_clean                                           address\n",
       "0    A0MNRK                                     123 Pine Ave.\n",
       "1       NaN                                           main st\n",
       "2       NaN                      1234 west main heights 57033\n",
       "3       NaN                    apt 1 789 s maple rd manhattan\n",
       "4       NaN                robie house, 789 north main street\n",
       "5       NaN         1111 S Figueroa St, Los Angeles, CA 90015\n",
       "6       NaN  (staples center) 1111 S Figueroa St, Los Angeles\n",
       "7       NaN                                             hello"
      ]
     },
     "execution_count": 1,
     "metadata": {},
     "output_type": "execute_result"
    }
   ],
   "source": [
    "clean_de_wkn(df, column=\"wkn\", inplace=True)"
   ]
  },
  {
   "cell_type": "markdown",
   "id": "polar-australian",
   "metadata": {},
   "source": [
    "## 4. `errors` parameter"
   ]
  },
  {
   "cell_type": "markdown",
   "id": "overhead-pollution",
   "metadata": {},
   "source": [
    "### `coerce` (default)"
   ]
  },
  {
   "cell_type": "code",
   "execution_count": 7,
   "id": "boolean-partnership",
   "metadata": {
    "execution": {
     "iopub.execute_input": "2021-11-04T02:11:04.235631Z",
     "iopub.status.busy": "2021-11-04T02:11:04.232059Z",
     "iopub.status.idle": "2021-11-04T02:11:04.243226Z",
     "shell.execute_reply": "2021-11-04T02:11:04.242822Z"
    }
   },
   "outputs": [
    {
     "data": {
      "text/html": [
       "<div>\n",
       "<style scoped>\n",
       "    .dataframe tbody tr th:only-of-type {\n",
       "        vertical-align: middle;\n",
       "    }\n",
       "\n",
       "    .dataframe tbody tr th {\n",
       "        vertical-align: top;\n",
       "    }\n",
       "\n",
       "    .dataframe thead th {\n",
       "        text-align: right;\n",
       "    }\n",
       "</style>\n",
       "<table border=\"1\" class=\"dataframe\">\n",
       "  <thead>\n",
       "    <tr style=\"text-align: right;\">\n",
       "      <th></th>\n",
       "      <th>wkn</th>\n",
       "      <th>address</th>\n",
       "      <th>wkn_clean</th>\n",
       "    </tr>\n",
       "  </thead>\n",
       "  <tbody>\n",
       "    <tr>\n",
       "      <th>0</th>\n",
       "      <td>A0MNRK</td>\n",
       "      <td>123 Pine Ave.</td>\n",
       "      <td>A0MNRK</td>\n",
       "    </tr>\n",
       "    <tr>\n",
       "      <th>1</th>\n",
       "      <td>AOMNRK</td>\n",
       "      <td>main st</td>\n",
       "      <td>NaN</td>\n",
       "    </tr>\n",
       "    <tr>\n",
       "      <th>2</th>\n",
       "      <td>7542011030</td>\n",
       "      <td>1234 west main heights 57033</td>\n",
       "      <td>NaN</td>\n",
       "    </tr>\n",
       "    <tr>\n",
       "      <th>3</th>\n",
       "      <td>7552A10004</td>\n",
       "      <td>apt 1 789 s maple rd manhattan</td>\n",
       "      <td>NaN</td>\n",
       "    </tr>\n",
       "    <tr>\n",
       "      <th>4</th>\n",
       "      <td>8019010008</td>\n",
       "      <td>robie house, 789 north main street</td>\n",
       "      <td>NaN</td>\n",
       "    </tr>\n",
       "    <tr>\n",
       "      <th>5</th>\n",
       "      <td>hello</td>\n",
       "      <td>1111 S Figueroa St, Los Angeles, CA 90015</td>\n",
       "      <td>NaN</td>\n",
       "    </tr>\n",
       "    <tr>\n",
       "      <th>6</th>\n",
       "      <td>NaN</td>\n",
       "      <td>(staples center) 1111 S Figueroa St, Los Angeles</td>\n",
       "      <td>NaN</td>\n",
       "    </tr>\n",
       "    <tr>\n",
       "      <th>7</th>\n",
       "      <td>NULL</td>\n",
       "      <td>hello</td>\n",
       "      <td>NaN</td>\n",
       "    </tr>\n",
       "  </tbody>\n",
       "</table>\n",
       "</div>"
      ],
      "text/plain": [
       "          wkn                                           address wkn_clean\n",
       "0      A0MNRK                                     123 Pine Ave.    A0MNRK\n",
       "1      AOMNRK                                           main st       NaN\n",
       "2  7542011030                      1234 west main heights 57033       NaN\n",
       "3  7552A10004                    apt 1 789 s maple rd manhattan       NaN\n",
       "4  8019010008                robie house, 789 north main street       NaN\n",
       "5       hello         1111 S Figueroa St, Los Angeles, CA 90015       NaN\n",
       "6         NaN  (staples center) 1111 S Figueroa St, Los Angeles       NaN\n",
       "7        NULL                                             hello       NaN"
      ]
     },
     "execution_count": 1,
     "metadata": {},
     "output_type": "execute_result"
    }
   ],
   "source": [
    "clean_de_wkn(df, \"wkn\", errors=\"coerce\")"
   ]
  },
  {
   "cell_type": "markdown",
   "id": "blond-dictionary",
   "metadata": {},
   "source": [
    "### `ignore`"
   ]
  },
  {
   "cell_type": "code",
   "execution_count": 8,
   "id": "cathedral-inflation",
   "metadata": {
    "execution": {
     "iopub.execute_input": "2021-11-04T02:11:04.263180Z",
     "iopub.status.busy": "2021-11-04T02:11:04.259453Z",
     "iopub.status.idle": "2021-11-04T02:11:04.271449Z",
     "shell.execute_reply": "2021-11-04T02:11:04.271022Z"
    }
   },
   "outputs": [
    {
     "data": {
      "text/html": [
       "<div>\n",
       "<style scoped>\n",
       "    .dataframe tbody tr th:only-of-type {\n",
       "        vertical-align: middle;\n",
       "    }\n",
       "\n",
       "    .dataframe tbody tr th {\n",
       "        vertical-align: top;\n",
       "    }\n",
       "\n",
       "    .dataframe thead th {\n",
       "        text-align: right;\n",
       "    }\n",
       "</style>\n",
       "<table border=\"1\" class=\"dataframe\">\n",
       "  <thead>\n",
       "    <tr style=\"text-align: right;\">\n",
       "      <th></th>\n",
       "      <th>wkn</th>\n",
       "      <th>address</th>\n",
       "      <th>wkn_clean</th>\n",
       "    </tr>\n",
       "  </thead>\n",
       "  <tbody>\n",
       "    <tr>\n",
       "      <th>0</th>\n",
       "      <td>A0MNRK</td>\n",
       "      <td>123 Pine Ave.</td>\n",
       "      <td>A0MNRK</td>\n",
       "    </tr>\n",
       "    <tr>\n",
       "      <th>1</th>\n",
       "      <td>AOMNRK</td>\n",
       "      <td>main st</td>\n",
       "      <td>AOMNRK</td>\n",
       "    </tr>\n",
       "    <tr>\n",
       "      <th>2</th>\n",
       "      <td>7542011030</td>\n",
       "      <td>1234 west main heights 57033</td>\n",
       "      <td>7542011030</td>\n",
       "    </tr>\n",
       "    <tr>\n",
       "      <th>3</th>\n",
       "      <td>7552A10004</td>\n",
       "      <td>apt 1 789 s maple rd manhattan</td>\n",
       "      <td>7552A10004</td>\n",
       "    </tr>\n",
       "    <tr>\n",
       "      <th>4</th>\n",
       "      <td>8019010008</td>\n",
       "      <td>robie house, 789 north main street</td>\n",
       "      <td>8019010008</td>\n",
       "    </tr>\n",
       "    <tr>\n",
       "      <th>5</th>\n",
       "      <td>hello</td>\n",
       "      <td>1111 S Figueroa St, Los Angeles, CA 90015</td>\n",
       "      <td>hello</td>\n",
       "    </tr>\n",
       "    <tr>\n",
       "      <th>6</th>\n",
       "      <td>NaN</td>\n",
       "      <td>(staples center) 1111 S Figueroa St, Los Angeles</td>\n",
       "      <td>NaN</td>\n",
       "    </tr>\n",
       "    <tr>\n",
       "      <th>7</th>\n",
       "      <td>NULL</td>\n",
       "      <td>hello</td>\n",
       "      <td>NaN</td>\n",
       "    </tr>\n",
       "  </tbody>\n",
       "</table>\n",
       "</div>"
      ],
      "text/plain": [
       "          wkn                                           address   wkn_clean\n",
       "0      A0MNRK                                     123 Pine Ave.      A0MNRK\n",
       "1      AOMNRK                                           main st      AOMNRK\n",
       "2  7542011030                      1234 west main heights 57033  7542011030\n",
       "3  7552A10004                    apt 1 789 s maple rd manhattan  7552A10004\n",
       "4  8019010008                robie house, 789 north main street  8019010008\n",
       "5       hello         1111 S Figueroa St, Los Angeles, CA 90015       hello\n",
       "6         NaN  (staples center) 1111 S Figueroa St, Los Angeles         NaN\n",
       "7        NULL                                             hello         NaN"
      ]
     },
     "execution_count": 1,
     "metadata": {},
     "output_type": "execute_result"
    }
   ],
   "source": [
    "clean_de_wkn(df, \"wkn\", errors=\"ignore\")"
   ]
  },
  {
   "cell_type": "markdown",
   "id": "clean-keeping",
   "metadata": {},
   "source": [
    "## 4. `validate_de_wkn()`"
   ]
  },
  {
   "cell_type": "markdown",
   "id": "incoming-sphere",
   "metadata": {},
   "source": [
    "`validate_de_wkn()` returns `True` when the input is a valid WKN. Otherwise it returns `False`.\n",
    "\n",
    "The input of `validate_de_wkn()` can be a string, a Pandas DataSeries, a Dask DataSeries, a Pandas DataFrame and a dask DataFrame.\n",
    "\n",
    "When the input is a string, a Pandas DataSeries or a Dask DataSeries, user doesn't need to specify a column name to be validated. \n",
    "\n",
    "When the input is a Pandas DataFrame or a dask DataFrame, user can both specify or not specify a column name to be validated. If user specify the column name, `validate_de_wkn()` only returns the validation result for the specified column. If user doesn't specify the column name, `validate_de_wkn()` returns the validation result for the whole DataFrame."
   ]
  },
  {
   "cell_type": "code",
   "execution_count": 9,
   "id": "potential-beauty",
   "metadata": {
    "execution": {
     "iopub.execute_input": "2021-11-04T02:11:04.276529Z",
     "iopub.status.busy": "2021-11-04T02:11:04.275524Z",
     "iopub.status.idle": "2021-11-04T02:11:04.280445Z",
     "shell.execute_reply": "2021-11-04T02:11:04.279631Z"
    }
   },
   "outputs": [
    {
     "name": "stdout",
     "output_type": "stream",
     "text": [
      "True\n",
      "False\n",
      "False\n",
      "False\n",
      "False\n",
      "False\n",
      "False\n",
      "False\n"
     ]
    }
   ],
   "source": [
    "from dataprep.clean import validate_de_wkn\n",
    "print(validate_de_wkn('A0MNRK'))\n",
    "print(validate_de_wkn('AOMNRK'))\n",
    "print(validate_de_wkn('7542011030'))\n",
    "print(validate_de_wkn('7552A10004'))\n",
    "print(validate_de_wkn('8019010008'))\n",
    "print(validate_de_wkn(\"hello\"))\n",
    "print(validate_de_wkn(np.nan))\n",
    "print(validate_de_wkn(\"NULL\"))"
   ]
  },
  {
   "cell_type": "markdown",
   "id": "infinite-gender",
   "metadata": {},
   "source": [
    "### Series"
   ]
  },
  {
   "cell_type": "code",
   "execution_count": 10,
   "id": "streaming-seventh",
   "metadata": {
    "execution": {
     "iopub.execute_input": "2021-11-04T02:11:04.284535Z",
     "iopub.status.busy": "2021-11-04T02:11:04.284110Z",
     "iopub.status.idle": "2021-11-04T02:11:04.288242Z",
     "shell.execute_reply": "2021-11-04T02:11:04.287857Z"
    }
   },
   "outputs": [
    {
     "data": {
      "text/plain": [
       "0     True\n",
       "1    False\n",
       "2    False\n",
       "3    False\n",
       "4    False\n",
       "5    False\n",
       "6    False\n",
       "7    False\n",
       "Name: wkn, dtype: bool"
      ]
     },
     "execution_count": 1,
     "metadata": {},
     "output_type": "execute_result"
    }
   ],
   "source": [
    "validate_de_wkn(df[\"wkn\"])"
   ]
  },
  {
   "cell_type": "markdown",
   "id": "promising-acquisition",
   "metadata": {},
   "source": [
    "### DataFrame + Specify Column"
   ]
  },
  {
   "cell_type": "code",
   "execution_count": 11,
   "id": "diagnostic-verse",
   "metadata": {
    "execution": {
     "iopub.execute_input": "2021-11-04T02:11:04.292174Z",
     "iopub.status.busy": "2021-11-04T02:11:04.291752Z",
     "iopub.status.idle": "2021-11-04T02:11:04.296070Z",
     "shell.execute_reply": "2021-11-04T02:11:04.295707Z"
    }
   },
   "outputs": [
    {
     "data": {
      "text/plain": [
       "0     True\n",
       "1    False\n",
       "2    False\n",
       "3    False\n",
       "4    False\n",
       "5    False\n",
       "6    False\n",
       "7    False\n",
       "Name: wkn, dtype: bool"
      ]
     },
     "execution_count": 1,
     "metadata": {},
     "output_type": "execute_result"
    }
   ],
   "source": [
    "validate_de_wkn(df, column=\"wkn\")"
   ]
  },
  {
   "cell_type": "markdown",
   "id": "concrete-integrity",
   "metadata": {},
   "source": [
    "### Only DataFrame"
   ]
  },
  {
   "cell_type": "code",
   "execution_count": 12,
   "id": "coordinate-operations",
   "metadata": {
    "execution": {
     "iopub.execute_input": "2021-11-04T02:11:04.298909Z",
     "iopub.status.busy": "2021-11-04T02:11:04.298465Z",
     "iopub.status.idle": "2021-11-04T02:11:04.306073Z",
     "shell.execute_reply": "2021-11-04T02:11:04.305713Z"
    }
   },
   "outputs": [
    {
     "data": {
      "text/html": [
       "<div>\n",
       "<style scoped>\n",
       "    .dataframe tbody tr th:only-of-type {\n",
       "        vertical-align: middle;\n",
       "    }\n",
       "\n",
       "    .dataframe tbody tr th {\n",
       "        vertical-align: top;\n",
       "    }\n",
       "\n",
       "    .dataframe thead th {\n",
       "        text-align: right;\n",
       "    }\n",
       "</style>\n",
       "<table border=\"1\" class=\"dataframe\">\n",
       "  <thead>\n",
       "    <tr style=\"text-align: right;\">\n",
       "      <th></th>\n",
       "      <th>wkn</th>\n",
       "      <th>address</th>\n",
       "    </tr>\n",
       "  </thead>\n",
       "  <tbody>\n",
       "    <tr>\n",
       "      <th>0</th>\n",
       "      <td>True</td>\n",
       "      <td>False</td>\n",
       "    </tr>\n",
       "    <tr>\n",
       "      <th>1</th>\n",
       "      <td>False</td>\n",
       "      <td>False</td>\n",
       "    </tr>\n",
       "    <tr>\n",
       "      <th>2</th>\n",
       "      <td>False</td>\n",
       "      <td>False</td>\n",
       "    </tr>\n",
       "    <tr>\n",
       "      <th>3</th>\n",
       "      <td>False</td>\n",
       "      <td>False</td>\n",
       "    </tr>\n",
       "    <tr>\n",
       "      <th>4</th>\n",
       "      <td>False</td>\n",
       "      <td>False</td>\n",
       "    </tr>\n",
       "    <tr>\n",
       "      <th>5</th>\n",
       "      <td>False</td>\n",
       "      <td>False</td>\n",
       "    </tr>\n",
       "    <tr>\n",
       "      <th>6</th>\n",
       "      <td>False</td>\n",
       "      <td>False</td>\n",
       "    </tr>\n",
       "    <tr>\n",
       "      <th>7</th>\n",
       "      <td>False</td>\n",
       "      <td>False</td>\n",
       "    </tr>\n",
       "  </tbody>\n",
       "</table>\n",
       "</div>"
      ],
      "text/plain": [
       "     wkn  address\n",
       "0   True    False\n",
       "1  False    False\n",
       "2  False    False\n",
       "3  False    False\n",
       "4  False    False\n",
       "5  False    False\n",
       "6  False    False\n",
       "7  False    False"
      ]
     },
     "execution_count": 1,
     "metadata": {},
     "output_type": "execute_result"
    }
   ],
   "source": [
    "validate_de_wkn(df)"
   ]
  },
  {
   "cell_type": "code",
   "execution_count": null,
   "id": "suffering-premium",
   "metadata": {},
   "outputs": [],
   "source": []
  }
 ],
 "metadata": {
  "kernelspec": {
   "display_name": "Python 3",
   "language": "python",
   "name": "python3"
  },
  "language_info": {
   "codemirror_mode": {
    "name": "ipython",
    "version": 3
   },
   "file_extension": ".py",
   "mimetype": "text/x-python",
   "name": "python",
   "nbconvert_exporter": "python",
   "pygments_lexer": "ipython3",
   "version": "3.8.10"
  }
 },
 "nbformat": 4,
 "nbformat_minor": 5
}
