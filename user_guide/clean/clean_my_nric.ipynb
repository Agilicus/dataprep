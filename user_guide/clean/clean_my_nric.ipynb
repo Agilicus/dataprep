{
 "cells": [
  {
   "cell_type": "raw",
   "id": "animated-timber",
   "metadata": {},
   "source": [
    ".. _nric_userguide:\n",
    "\n",
    "NRIC Strings\n",
    "============"
   ]
  },
  {
   "cell_type": "raw",
   "id": "early-subdivision",
   "metadata": {},
   "source": [
    "Introduction\n",
    "------------\n",
    "\n",
    "The function :func:`clean_my_nric() <dataprep.clean.clean_my_nric.clean_my_nric>` cleans a column containing Malaysian National Registration Identity Card Number (NRIC) strings, and standardizes them in a given format. The function :func:`validate_my_nric() <dataprep.clean.clean_my_nric.validate_my_nric>` validates either a single NRIC strings, a column of NRIC strings or a DataFrame of NRIC strings, returning `True` if the value is valid, and `False` otherwise."
   ]
  },
  {
   "cell_type": "markdown",
   "id": "right-cream",
   "metadata": {},
   "source": [
    "NRIC strings can be converted to the following formats via the `output_format` parameter:\n",
    "\n",
    "* `compact`: only number strings without any seperators or whitespace, like \"770305021234\"\n",
    "* `standard`: NRIC strings with proper whitespace in the proper places, like \"770305-02-1234\"\n",
    "* `birthdate`: return the registration date or the birth date, like \"1977-03-05\".\n",
    "* `birthplace`: return a dict containing the birthplace of the person, like {'state': 'Kedah', 'country': 'Malaysia', 'countries': 'Malaysia'}.\n",
    "\n",
    "Invalid parsing is handled with the `errors` parameter:\n",
    "\n",
    "* `coerce` (default): invalid parsing will be set to NaN\n",
    "* `ignore`: invalid parsing will return the input\n",
    "* `raise`: invalid parsing will raise an exception\n",
    "\n",
    "The following sections demonstrate the functionality of `clean_my_nric()` and `validate_my_nric()`. "
   ]
  },
  {
   "cell_type": "markdown",
   "id": "racial-fisher",
   "metadata": {},
   "source": [
    "### An example dataset containing NRIC strings"
   ]
  },
  {
   "cell_type": "code",
   "execution_count": 1,
   "id": "spanish-disclosure",
   "metadata": {
    "execution": {
     "iopub.execute_input": "2021-10-26T23:03:59.937258Z",
     "iopub.status.busy": "2021-10-26T23:03:59.936844Z",
     "iopub.status.idle": "2021-10-26T23:04:00.157401Z",
     "shell.execute_reply": "2021-10-26T23:04:00.157723Z"
    }
   },
   "outputs": [
    {
     "data": {
      "text/html": [
       "<div>\n",
       "<style scoped>\n",
       "    .dataframe tbody tr th:only-of-type {\n",
       "        vertical-align: middle;\n",
       "    }\n",
       "\n",
       "    .dataframe tbody tr th {\n",
       "        vertical-align: top;\n",
       "    }\n",
       "\n",
       "    .dataframe thead th {\n",
       "        text-align: right;\n",
       "    }\n",
       "</style>\n",
       "<table border=\"1\" class=\"dataframe\">\n",
       "  <thead>\n",
       "    <tr style=\"text-align: right;\">\n",
       "      <th></th>\n",
       "      <th>nric</th>\n",
       "      <th>address</th>\n",
       "    </tr>\n",
       "  </thead>\n",
       "  <tbody>\n",
       "    <tr>\n",
       "      <th>0</th>\n",
       "      <td>770305021234</td>\n",
       "      <td>123 Pine Ave.</td>\n",
       "    </tr>\n",
       "    <tr>\n",
       "      <th>1</th>\n",
       "      <td>771305-02-1234</td>\n",
       "      <td>main st</td>\n",
       "    </tr>\n",
       "    <tr>\n",
       "      <th>2</th>\n",
       "      <td>999 999 999</td>\n",
       "      <td>1234 west main heights 57033</td>\n",
       "    </tr>\n",
       "    <tr>\n",
       "      <th>3</th>\n",
       "      <td>004085616</td>\n",
       "      <td>apt 1 789 s maple rd manhattan</td>\n",
       "    </tr>\n",
       "    <tr>\n",
       "      <th>4</th>\n",
       "      <td>002 724 334</td>\n",
       "      <td>robie house, 789 north main street</td>\n",
       "    </tr>\n",
       "    <tr>\n",
       "      <th>5</th>\n",
       "      <td>hello</td>\n",
       "      <td>1111 S Figueroa St, Los Angeles, CA 90015</td>\n",
       "    </tr>\n",
       "    <tr>\n",
       "      <th>6</th>\n",
       "      <td>NaN</td>\n",
       "      <td>(staples center) 1111 S Figueroa St, Los Angeles</td>\n",
       "    </tr>\n",
       "    <tr>\n",
       "      <th>7</th>\n",
       "      <td>NULL</td>\n",
       "      <td>hello</td>\n",
       "    </tr>\n",
       "  </tbody>\n",
       "</table>\n",
       "</div>"
      ],
      "text/plain": [
       "             nric                                           address\n",
       "0    770305021234                                     123 Pine Ave.\n",
       "1  771305-02-1234                                           main st\n",
       "2     999 999 999                      1234 west main heights 57033\n",
       "3       004085616                    apt 1 789 s maple rd manhattan\n",
       "4     002 724 334                robie house, 789 north main street\n",
       "5           hello         1111 S Figueroa St, Los Angeles, CA 90015\n",
       "6             NaN  (staples center) 1111 S Figueroa St, Los Angeles\n",
       "7            NULL                                             hello"
      ]
     },
     "execution_count": 1,
     "metadata": {},
     "output_type": "execute_result"
    }
   ],
   "source": [
    "import pandas as pd\n",
    "import numpy as np\n",
    "df = pd.DataFrame(\n",
    "    {\n",
    "        \"nric\": [\n",
    "            \"770305021234\",\n",
    "            \"771305-02-1234\",\n",
    "            \"999 999 999\",\n",
    "            \"004085616\",\n",
    "            \"002 724 334\",\n",
    "            \"hello\",\n",
    "            np.nan,\n",
    "            \"NULL\",\n",
    "        ], \n",
    "        \"address\": [\n",
    "            \"123 Pine Ave.\",\n",
    "            \"main st\",\n",
    "            \"1234 west main heights 57033\",\n",
    "            \"apt 1 789 s maple rd manhattan\",\n",
    "            \"robie house, 789 north main street\",\n",
    "            \"1111 S Figueroa St, Los Angeles, CA 90015\",\n",
    "            \"(staples center) 1111 S Figueroa St, Los Angeles\",\n",
    "            \"hello\",\n",
    "        ]\n",
    "    }\n",
    ")\n",
    "df"
   ]
  },
  {
   "cell_type": "markdown",
   "id": "broke-omega",
   "metadata": {},
   "source": [
    "## 1. Default `clean_my_nric`\n",
    "\n",
    "By default, `clean_my_nric` will clean nric strings and output them in the standard format with proper separators."
   ]
  },
  {
   "cell_type": "code",
   "execution_count": 2,
   "id": "bronze-reception",
   "metadata": {
    "execution": {
     "iopub.execute_input": "2021-10-26T23:04:00.161841Z",
     "iopub.status.busy": "2021-10-26T23:04:00.161427Z",
     "iopub.status.idle": "2021-10-26T23:04:00.699979Z",
     "shell.execute_reply": "2021-10-26T23:04:00.699575Z"
    }
   },
   "outputs": [
    {
     "data": {
      "text/html": [
       "<div>\n",
       "<style scoped>\n",
       "    .dataframe tbody tr th:only-of-type {\n",
       "        vertical-align: middle;\n",
       "    }\n",
       "\n",
       "    .dataframe tbody tr th {\n",
       "        vertical-align: top;\n",
       "    }\n",
       "\n",
       "    .dataframe thead th {\n",
       "        text-align: right;\n",
       "    }\n",
       "</style>\n",
       "<table border=\"1\" class=\"dataframe\">\n",
       "  <thead>\n",
       "    <tr style=\"text-align: right;\">\n",
       "      <th></th>\n",
       "      <th>nric</th>\n",
       "      <th>address</th>\n",
       "      <th>nric_clean</th>\n",
       "    </tr>\n",
       "  </thead>\n",
       "  <tbody>\n",
       "    <tr>\n",
       "      <th>0</th>\n",
       "      <td>770305021234</td>\n",
       "      <td>123 Pine Ave.</td>\n",
       "      <td>770305-02-1234</td>\n",
       "    </tr>\n",
       "    <tr>\n",
       "      <th>1</th>\n",
       "      <td>771305-02-1234</td>\n",
       "      <td>main st</td>\n",
       "      <td>NaN</td>\n",
       "    </tr>\n",
       "    <tr>\n",
       "      <th>2</th>\n",
       "      <td>999 999 999</td>\n",
       "      <td>1234 west main heights 57033</td>\n",
       "      <td>NaN</td>\n",
       "    </tr>\n",
       "    <tr>\n",
       "      <th>3</th>\n",
       "      <td>004085616</td>\n",
       "      <td>apt 1 789 s maple rd manhattan</td>\n",
       "      <td>NaN</td>\n",
       "    </tr>\n",
       "    <tr>\n",
       "      <th>4</th>\n",
       "      <td>002 724 334</td>\n",
       "      <td>robie house, 789 north main street</td>\n",
       "      <td>NaN</td>\n",
       "    </tr>\n",
       "    <tr>\n",
       "      <th>5</th>\n",
       "      <td>hello</td>\n",
       "      <td>1111 S Figueroa St, Los Angeles, CA 90015</td>\n",
       "      <td>NaN</td>\n",
       "    </tr>\n",
       "    <tr>\n",
       "      <th>6</th>\n",
       "      <td>NaN</td>\n",
       "      <td>(staples center) 1111 S Figueroa St, Los Angeles</td>\n",
       "      <td>NaN</td>\n",
       "    </tr>\n",
       "    <tr>\n",
       "      <th>7</th>\n",
       "      <td>NULL</td>\n",
       "      <td>hello</td>\n",
       "      <td>NaN</td>\n",
       "    </tr>\n",
       "  </tbody>\n",
       "</table>\n",
       "</div>"
      ],
      "text/plain": [
       "             nric                                           address  \\\n",
       "0    770305021234                                     123 Pine Ave.   \n",
       "1  771305-02-1234                                           main st   \n",
       "2     999 999 999                      1234 west main heights 57033   \n",
       "3       004085616                    apt 1 789 s maple rd manhattan   \n",
       "4     002 724 334                robie house, 789 north main street   \n",
       "5           hello         1111 S Figueroa St, Los Angeles, CA 90015   \n",
       "6             NaN  (staples center) 1111 S Figueroa St, Los Angeles   \n",
       "7            NULL                                             hello   \n",
       "\n",
       "       nric_clean  \n",
       "0  770305-02-1234  \n",
       "1             NaN  \n",
       "2             NaN  \n",
       "3             NaN  \n",
       "4             NaN  \n",
       "5             NaN  \n",
       "6             NaN  \n",
       "7             NaN  "
      ]
     },
     "execution_count": 1,
     "metadata": {},
     "output_type": "execute_result"
    }
   ],
   "source": [
    "from dataprep.clean import clean_my_nric\n",
    "clean_my_nric(df, column = \"nric\")"
   ]
  },
  {
   "cell_type": "markdown",
   "id": "miniature-machine",
   "metadata": {},
   "source": [
    "## 2. Output formats"
   ]
  },
  {
   "cell_type": "markdown",
   "id": "metric-dublin",
   "metadata": {},
   "source": [
    "This section demonstrates the output parameter."
   ]
  },
  {
   "cell_type": "markdown",
   "id": "respected-steal",
   "metadata": {},
   "source": [
    "### `standard` (default)"
   ]
  },
  {
   "cell_type": "code",
   "execution_count": 3,
   "id": "palestinian-roots",
   "metadata": {
    "execution": {
     "iopub.execute_input": "2021-10-26T23:04:00.718848Z",
     "iopub.status.busy": "2021-10-26T23:04:00.718378Z",
     "iopub.status.idle": "2021-10-26T23:04:00.725453Z",
     "shell.execute_reply": "2021-10-26T23:04:00.725802Z"
    }
   },
   "outputs": [
    {
     "data": {
      "text/html": [
       "<div>\n",
       "<style scoped>\n",
       "    .dataframe tbody tr th:only-of-type {\n",
       "        vertical-align: middle;\n",
       "    }\n",
       "\n",
       "    .dataframe tbody tr th {\n",
       "        vertical-align: top;\n",
       "    }\n",
       "\n",
       "    .dataframe thead th {\n",
       "        text-align: right;\n",
       "    }\n",
       "</style>\n",
       "<table border=\"1\" class=\"dataframe\">\n",
       "  <thead>\n",
       "    <tr style=\"text-align: right;\">\n",
       "      <th></th>\n",
       "      <th>nric</th>\n",
       "      <th>address</th>\n",
       "      <th>nric_clean</th>\n",
       "    </tr>\n",
       "  </thead>\n",
       "  <tbody>\n",
       "    <tr>\n",
       "      <th>0</th>\n",
       "      <td>770305021234</td>\n",
       "      <td>123 Pine Ave.</td>\n",
       "      <td>770305-02-1234</td>\n",
       "    </tr>\n",
       "    <tr>\n",
       "      <th>1</th>\n",
       "      <td>771305-02-1234</td>\n",
       "      <td>main st</td>\n",
       "      <td>NaN</td>\n",
       "    </tr>\n",
       "    <tr>\n",
       "      <th>2</th>\n",
       "      <td>999 999 999</td>\n",
       "      <td>1234 west main heights 57033</td>\n",
       "      <td>NaN</td>\n",
       "    </tr>\n",
       "    <tr>\n",
       "      <th>3</th>\n",
       "      <td>004085616</td>\n",
       "      <td>apt 1 789 s maple rd manhattan</td>\n",
       "      <td>NaN</td>\n",
       "    </tr>\n",
       "    <tr>\n",
       "      <th>4</th>\n",
       "      <td>002 724 334</td>\n",
       "      <td>robie house, 789 north main street</td>\n",
       "      <td>NaN</td>\n",
       "    </tr>\n",
       "    <tr>\n",
       "      <th>5</th>\n",
       "      <td>hello</td>\n",
       "      <td>1111 S Figueroa St, Los Angeles, CA 90015</td>\n",
       "      <td>NaN</td>\n",
       "    </tr>\n",
       "    <tr>\n",
       "      <th>6</th>\n",
       "      <td>NaN</td>\n",
       "      <td>(staples center) 1111 S Figueroa St, Los Angeles</td>\n",
       "      <td>NaN</td>\n",
       "    </tr>\n",
       "    <tr>\n",
       "      <th>7</th>\n",
       "      <td>NULL</td>\n",
       "      <td>hello</td>\n",
       "      <td>NaN</td>\n",
       "    </tr>\n",
       "  </tbody>\n",
       "</table>\n",
       "</div>"
      ],
      "text/plain": [
       "             nric                                           address  \\\n",
       "0    770305021234                                     123 Pine Ave.   \n",
       "1  771305-02-1234                                           main st   \n",
       "2     999 999 999                      1234 west main heights 57033   \n",
       "3       004085616                    apt 1 789 s maple rd manhattan   \n",
       "4     002 724 334                robie house, 789 north main street   \n",
       "5           hello         1111 S Figueroa St, Los Angeles, CA 90015   \n",
       "6             NaN  (staples center) 1111 S Figueroa St, Los Angeles   \n",
       "7            NULL                                             hello   \n",
       "\n",
       "       nric_clean  \n",
       "0  770305-02-1234  \n",
       "1             NaN  \n",
       "2             NaN  \n",
       "3             NaN  \n",
       "4             NaN  \n",
       "5             NaN  \n",
       "6             NaN  \n",
       "7             NaN  "
      ]
     },
     "execution_count": 1,
     "metadata": {},
     "output_type": "execute_result"
    }
   ],
   "source": [
    "clean_my_nric(df, column = \"nric\", output_format=\"standard\")"
   ]
  },
  {
   "cell_type": "markdown",
   "id": "powered-authority",
   "metadata": {},
   "source": [
    "### `compact`"
   ]
  },
  {
   "cell_type": "code",
   "execution_count": 4,
   "id": "breathing-stocks",
   "metadata": {
    "execution": {
     "iopub.execute_input": "2021-10-26T23:04:00.740629Z",
     "iopub.status.busy": "2021-10-26T23:04:00.740109Z",
     "iopub.status.idle": "2021-10-26T23:04:00.749400Z",
     "shell.execute_reply": "2021-10-26T23:04:00.749001Z"
    }
   },
   "outputs": [
    {
     "data": {
      "text/html": [
       "<div>\n",
       "<style scoped>\n",
       "    .dataframe tbody tr th:only-of-type {\n",
       "        vertical-align: middle;\n",
       "    }\n",
       "\n",
       "    .dataframe tbody tr th {\n",
       "        vertical-align: top;\n",
       "    }\n",
       "\n",
       "    .dataframe thead th {\n",
       "        text-align: right;\n",
       "    }\n",
       "</style>\n",
       "<table border=\"1\" class=\"dataframe\">\n",
       "  <thead>\n",
       "    <tr style=\"text-align: right;\">\n",
       "      <th></th>\n",
       "      <th>nric</th>\n",
       "      <th>address</th>\n",
       "      <th>nric_clean</th>\n",
       "    </tr>\n",
       "  </thead>\n",
       "  <tbody>\n",
       "    <tr>\n",
       "      <th>0</th>\n",
       "      <td>770305021234</td>\n",
       "      <td>123 Pine Ave.</td>\n",
       "      <td>770305021234</td>\n",
       "    </tr>\n",
       "    <tr>\n",
       "      <th>1</th>\n",
       "      <td>771305-02-1234</td>\n",
       "      <td>main st</td>\n",
       "      <td>NaN</td>\n",
       "    </tr>\n",
       "    <tr>\n",
       "      <th>2</th>\n",
       "      <td>999 999 999</td>\n",
       "      <td>1234 west main heights 57033</td>\n",
       "      <td>NaN</td>\n",
       "    </tr>\n",
       "    <tr>\n",
       "      <th>3</th>\n",
       "      <td>004085616</td>\n",
       "      <td>apt 1 789 s maple rd manhattan</td>\n",
       "      <td>NaN</td>\n",
       "    </tr>\n",
       "    <tr>\n",
       "      <th>4</th>\n",
       "      <td>002 724 334</td>\n",
       "      <td>robie house, 789 north main street</td>\n",
       "      <td>NaN</td>\n",
       "    </tr>\n",
       "    <tr>\n",
       "      <th>5</th>\n",
       "      <td>hello</td>\n",
       "      <td>1111 S Figueroa St, Los Angeles, CA 90015</td>\n",
       "      <td>NaN</td>\n",
       "    </tr>\n",
       "    <tr>\n",
       "      <th>6</th>\n",
       "      <td>NaN</td>\n",
       "      <td>(staples center) 1111 S Figueroa St, Los Angeles</td>\n",
       "      <td>NaN</td>\n",
       "    </tr>\n",
       "    <tr>\n",
       "      <th>7</th>\n",
       "      <td>NULL</td>\n",
       "      <td>hello</td>\n",
       "      <td>NaN</td>\n",
       "    </tr>\n",
       "  </tbody>\n",
       "</table>\n",
       "</div>"
      ],
      "text/plain": [
       "             nric                                           address  \\\n",
       "0    770305021234                                     123 Pine Ave.   \n",
       "1  771305-02-1234                                           main st   \n",
       "2     999 999 999                      1234 west main heights 57033   \n",
       "3       004085616                    apt 1 789 s maple rd manhattan   \n",
       "4     002 724 334                robie house, 789 north main street   \n",
       "5           hello         1111 S Figueroa St, Los Angeles, CA 90015   \n",
       "6             NaN  (staples center) 1111 S Figueroa St, Los Angeles   \n",
       "7            NULL                                             hello   \n",
       "\n",
       "     nric_clean  \n",
       "0  770305021234  \n",
       "1           NaN  \n",
       "2           NaN  \n",
       "3           NaN  \n",
       "4           NaN  \n",
       "5           NaN  \n",
       "6           NaN  \n",
       "7           NaN  "
      ]
     },
     "execution_count": 1,
     "metadata": {},
     "output_type": "execute_result"
    }
   ],
   "source": [
    "clean_my_nric(df, column = \"nric\", output_format=\"compact\")"
   ]
  },
  {
   "cell_type": "markdown",
   "id": "insured-antenna",
   "metadata": {},
   "source": [
    "### `birthdate`"
   ]
  },
  {
   "cell_type": "code",
   "execution_count": 5,
   "id": "conditional-python",
   "metadata": {
    "execution": {
     "iopub.execute_input": "2021-10-26T23:04:00.767246Z",
     "iopub.status.busy": "2021-10-26T23:04:00.766733Z",
     "iopub.status.idle": "2021-10-26T23:04:00.773443Z",
     "shell.execute_reply": "2021-10-26T23:04:00.773028Z"
    }
   },
   "outputs": [
    {
     "data": {
      "text/html": [
       "<div>\n",
       "<style scoped>\n",
       "    .dataframe tbody tr th:only-of-type {\n",
       "        vertical-align: middle;\n",
       "    }\n",
       "\n",
       "    .dataframe tbody tr th {\n",
       "        vertical-align: top;\n",
       "    }\n",
       "\n",
       "    .dataframe thead th {\n",
       "        text-align: right;\n",
       "    }\n",
       "</style>\n",
       "<table border=\"1\" class=\"dataframe\">\n",
       "  <thead>\n",
       "    <tr style=\"text-align: right;\">\n",
       "      <th></th>\n",
       "      <th>nric</th>\n",
       "      <th>address</th>\n",
       "      <th>nric_clean</th>\n",
       "    </tr>\n",
       "  </thead>\n",
       "  <tbody>\n",
       "    <tr>\n",
       "      <th>0</th>\n",
       "      <td>770305021234</td>\n",
       "      <td>123 Pine Ave.</td>\n",
       "      <td>1977-03-05</td>\n",
       "    </tr>\n",
       "    <tr>\n",
       "      <th>1</th>\n",
       "      <td>771305-02-1234</td>\n",
       "      <td>main st</td>\n",
       "      <td>NaN</td>\n",
       "    </tr>\n",
       "    <tr>\n",
       "      <th>2</th>\n",
       "      <td>999 999 999</td>\n",
       "      <td>1234 west main heights 57033</td>\n",
       "      <td>NaN</td>\n",
       "    </tr>\n",
       "    <tr>\n",
       "      <th>3</th>\n",
       "      <td>004085616</td>\n",
       "      <td>apt 1 789 s maple rd manhattan</td>\n",
       "      <td>NaN</td>\n",
       "    </tr>\n",
       "    <tr>\n",
       "      <th>4</th>\n",
       "      <td>002 724 334</td>\n",
       "      <td>robie house, 789 north main street</td>\n",
       "      <td>NaN</td>\n",
       "    </tr>\n",
       "    <tr>\n",
       "      <th>5</th>\n",
       "      <td>hello</td>\n",
       "      <td>1111 S Figueroa St, Los Angeles, CA 90015</td>\n",
       "      <td>NaN</td>\n",
       "    </tr>\n",
       "    <tr>\n",
       "      <th>6</th>\n",
       "      <td>NaN</td>\n",
       "      <td>(staples center) 1111 S Figueroa St, Los Angeles</td>\n",
       "      <td>NaN</td>\n",
       "    </tr>\n",
       "    <tr>\n",
       "      <th>7</th>\n",
       "      <td>NULL</td>\n",
       "      <td>hello</td>\n",
       "      <td>NaN</td>\n",
       "    </tr>\n",
       "  </tbody>\n",
       "</table>\n",
       "</div>"
      ],
      "text/plain": [
       "             nric                                           address  \\\n",
       "0    770305021234                                     123 Pine Ave.   \n",
       "1  771305-02-1234                                           main st   \n",
       "2     999 999 999                      1234 west main heights 57033   \n",
       "3       004085616                    apt 1 789 s maple rd manhattan   \n",
       "4     002 724 334                robie house, 789 north main street   \n",
       "5           hello         1111 S Figueroa St, Los Angeles, CA 90015   \n",
       "6             NaN  (staples center) 1111 S Figueroa St, Los Angeles   \n",
       "7            NULL                                             hello   \n",
       "\n",
       "   nric_clean  \n",
       "0  1977-03-05  \n",
       "1         NaN  \n",
       "2         NaN  \n",
       "3         NaN  \n",
       "4         NaN  \n",
       "5         NaN  \n",
       "6         NaN  \n",
       "7         NaN  "
      ]
     },
     "execution_count": 1,
     "metadata": {},
     "output_type": "execute_result"
    }
   ],
   "source": [
    "clean_my_nric(df, column = \"nric\", output_format=\"birthdate\")"
   ]
  },
  {
   "cell_type": "markdown",
   "id": "hourly-teach",
   "metadata": {},
   "source": [
    "### `birthplace`"
   ]
  },
  {
   "cell_type": "code",
   "execution_count": 6,
   "id": "unlikely-consequence",
   "metadata": {
    "execution": {
     "iopub.execute_input": "2021-10-26T23:04:00.791161Z",
     "iopub.status.busy": "2021-10-26T23:04:00.790744Z",
     "iopub.status.idle": "2021-10-26T23:04:00.799045Z",
     "shell.execute_reply": "2021-10-26T23:04:00.799385Z"
    }
   },
   "outputs": [
    {
     "data": {
      "text/html": [
       "<div>\n",
       "<style scoped>\n",
       "    .dataframe tbody tr th:only-of-type {\n",
       "        vertical-align: middle;\n",
       "    }\n",
       "\n",
       "    .dataframe tbody tr th {\n",
       "        vertical-align: top;\n",
       "    }\n",
       "\n",
       "    .dataframe thead th {\n",
       "        text-align: right;\n",
       "    }\n",
       "</style>\n",
       "<table border=\"1\" class=\"dataframe\">\n",
       "  <thead>\n",
       "    <tr style=\"text-align: right;\">\n",
       "      <th></th>\n",
       "      <th>nric</th>\n",
       "      <th>address</th>\n",
       "      <th>nric_clean</th>\n",
       "    </tr>\n",
       "  </thead>\n",
       "  <tbody>\n",
       "    <tr>\n",
       "      <th>0</th>\n",
       "      <td>770305021234</td>\n",
       "      <td>123 Pine Ave.</td>\n",
       "      <td>{'state': 'Kedah', 'country': 'Malaysia', 'cou...</td>\n",
       "    </tr>\n",
       "    <tr>\n",
       "      <th>1</th>\n",
       "      <td>771305-02-1234</td>\n",
       "      <td>main st</td>\n",
       "      <td>NaN</td>\n",
       "    </tr>\n",
       "    <tr>\n",
       "      <th>2</th>\n",
       "      <td>999 999 999</td>\n",
       "      <td>1234 west main heights 57033</td>\n",
       "      <td>NaN</td>\n",
       "    </tr>\n",
       "    <tr>\n",
       "      <th>3</th>\n",
       "      <td>004085616</td>\n",
       "      <td>apt 1 789 s maple rd manhattan</td>\n",
       "      <td>NaN</td>\n",
       "    </tr>\n",
       "    <tr>\n",
       "      <th>4</th>\n",
       "      <td>002 724 334</td>\n",
       "      <td>robie house, 789 north main street</td>\n",
       "      <td>NaN</td>\n",
       "    </tr>\n",
       "    <tr>\n",
       "      <th>5</th>\n",
       "      <td>hello</td>\n",
       "      <td>1111 S Figueroa St, Los Angeles, CA 90015</td>\n",
       "      <td>NaN</td>\n",
       "    </tr>\n",
       "    <tr>\n",
       "      <th>6</th>\n",
       "      <td>NaN</td>\n",
       "      <td>(staples center) 1111 S Figueroa St, Los Angeles</td>\n",
       "      <td>NaN</td>\n",
       "    </tr>\n",
       "    <tr>\n",
       "      <th>7</th>\n",
       "      <td>NULL</td>\n",
       "      <td>hello</td>\n",
       "      <td>NaN</td>\n",
       "    </tr>\n",
       "  </tbody>\n",
       "</table>\n",
       "</div>"
      ],
      "text/plain": [
       "             nric                                           address  \\\n",
       "0    770305021234                                     123 Pine Ave.   \n",
       "1  771305-02-1234                                           main st   \n",
       "2     999 999 999                      1234 west main heights 57033   \n",
       "3       004085616                    apt 1 789 s maple rd manhattan   \n",
       "4     002 724 334                robie house, 789 north main street   \n",
       "5           hello         1111 S Figueroa St, Los Angeles, CA 90015   \n",
       "6             NaN  (staples center) 1111 S Figueroa St, Los Angeles   \n",
       "7            NULL                                             hello   \n",
       "\n",
       "                                          nric_clean  \n",
       "0  {'state': 'Kedah', 'country': 'Malaysia', 'cou...  \n",
       "1                                                NaN  \n",
       "2                                                NaN  \n",
       "3                                                NaN  \n",
       "4                                                NaN  \n",
       "5                                                NaN  \n",
       "6                                                NaN  \n",
       "7                                                NaN  "
      ]
     },
     "execution_count": 1,
     "metadata": {},
     "output_type": "execute_result"
    }
   ],
   "source": [
    "clean_my_nric(df, column = \"nric\", output_format=\"birthplace\")"
   ]
  },
  {
   "cell_type": "markdown",
   "id": "fancy-journal",
   "metadata": {},
   "source": [
    "## 3. `inplace` parameter\n",
    "\n",
    "This deletes the given column from the returned DataFrame. \n",
    "A new column containing cleaned NRIC strings is added with a title in the format `\"{original title}_clean\"`."
   ]
  },
  {
   "cell_type": "code",
   "execution_count": 7,
   "id": "agreed-sucking",
   "metadata": {
    "execution": {
     "iopub.execute_input": "2021-10-26T23:04:00.824402Z",
     "iopub.status.busy": "2021-10-26T23:04:00.823946Z",
     "iopub.status.idle": "2021-10-26T23:04:00.834049Z",
     "shell.execute_reply": "2021-10-26T23:04:00.833638Z"
    }
   },
   "outputs": [
    {
     "data": {
      "text/html": [
       "<div>\n",
       "<style scoped>\n",
       "    .dataframe tbody tr th:only-of-type {\n",
       "        vertical-align: middle;\n",
       "    }\n",
       "\n",
       "    .dataframe tbody tr th {\n",
       "        vertical-align: top;\n",
       "    }\n",
       "\n",
       "    .dataframe thead th {\n",
       "        text-align: right;\n",
       "    }\n",
       "</style>\n",
       "<table border=\"1\" class=\"dataframe\">\n",
       "  <thead>\n",
       "    <tr style=\"text-align: right;\">\n",
       "      <th></th>\n",
       "      <th>nric_clean</th>\n",
       "      <th>address</th>\n",
       "    </tr>\n",
       "  </thead>\n",
       "  <tbody>\n",
       "    <tr>\n",
       "      <th>0</th>\n",
       "      <td>770305-02-1234</td>\n",
       "      <td>123 Pine Ave.</td>\n",
       "    </tr>\n",
       "    <tr>\n",
       "      <th>1</th>\n",
       "      <td>NaN</td>\n",
       "      <td>main st</td>\n",
       "    </tr>\n",
       "    <tr>\n",
       "      <th>2</th>\n",
       "      <td>NaN</td>\n",
       "      <td>1234 west main heights 57033</td>\n",
       "    </tr>\n",
       "    <tr>\n",
       "      <th>3</th>\n",
       "      <td>NaN</td>\n",
       "      <td>apt 1 789 s maple rd manhattan</td>\n",
       "    </tr>\n",
       "    <tr>\n",
       "      <th>4</th>\n",
       "      <td>NaN</td>\n",
       "      <td>robie house, 789 north main street</td>\n",
       "    </tr>\n",
       "    <tr>\n",
       "      <th>5</th>\n",
       "      <td>NaN</td>\n",
       "      <td>1111 S Figueroa St, Los Angeles, CA 90015</td>\n",
       "    </tr>\n",
       "    <tr>\n",
       "      <th>6</th>\n",
       "      <td>NaN</td>\n",
       "      <td>(staples center) 1111 S Figueroa St, Los Angeles</td>\n",
       "    </tr>\n",
       "    <tr>\n",
       "      <th>7</th>\n",
       "      <td>NaN</td>\n",
       "      <td>hello</td>\n",
       "    </tr>\n",
       "  </tbody>\n",
       "</table>\n",
       "</div>"
      ],
      "text/plain": [
       "       nric_clean                                           address\n",
       "0  770305-02-1234                                     123 Pine Ave.\n",
       "1             NaN                                           main st\n",
       "2             NaN                      1234 west main heights 57033\n",
       "3             NaN                    apt 1 789 s maple rd manhattan\n",
       "4             NaN                robie house, 789 north main street\n",
       "5             NaN         1111 S Figueroa St, Los Angeles, CA 90015\n",
       "6             NaN  (staples center) 1111 S Figueroa St, Los Angeles\n",
       "7             NaN                                             hello"
      ]
     },
     "execution_count": 1,
     "metadata": {},
     "output_type": "execute_result"
    }
   ],
   "source": [
    "clean_my_nric(df, column=\"nric\", inplace=True)"
   ]
  },
  {
   "cell_type": "markdown",
   "id": "handmade-japan",
   "metadata": {},
   "source": [
    "## 4. `errors` parameter"
   ]
  },
  {
   "cell_type": "markdown",
   "id": "saving-thousand",
   "metadata": {},
   "source": [
    "### `coerce` (default)"
   ]
  },
  {
   "cell_type": "code",
   "execution_count": 8,
   "id": "amended-scholar",
   "metadata": {
    "execution": {
     "iopub.execute_input": "2021-10-26T23:04:00.854325Z",
     "iopub.status.busy": "2021-10-26T23:04:00.851842Z",
     "iopub.status.idle": "2021-10-26T23:04:00.862303Z",
     "shell.execute_reply": "2021-10-26T23:04:00.861715Z"
    }
   },
   "outputs": [
    {
     "data": {
      "text/html": [
       "<div>\n",
       "<style scoped>\n",
       "    .dataframe tbody tr th:only-of-type {\n",
       "        vertical-align: middle;\n",
       "    }\n",
       "\n",
       "    .dataframe tbody tr th {\n",
       "        vertical-align: top;\n",
       "    }\n",
       "\n",
       "    .dataframe thead th {\n",
       "        text-align: right;\n",
       "    }\n",
       "</style>\n",
       "<table border=\"1\" class=\"dataframe\">\n",
       "  <thead>\n",
       "    <tr style=\"text-align: right;\">\n",
       "      <th></th>\n",
       "      <th>nric</th>\n",
       "      <th>address</th>\n",
       "      <th>nric_clean</th>\n",
       "    </tr>\n",
       "  </thead>\n",
       "  <tbody>\n",
       "    <tr>\n",
       "      <th>0</th>\n",
       "      <td>770305021234</td>\n",
       "      <td>123 Pine Ave.</td>\n",
       "      <td>770305-02-1234</td>\n",
       "    </tr>\n",
       "    <tr>\n",
       "      <th>1</th>\n",
       "      <td>771305-02-1234</td>\n",
       "      <td>main st</td>\n",
       "      <td>NaN</td>\n",
       "    </tr>\n",
       "    <tr>\n",
       "      <th>2</th>\n",
       "      <td>999 999 999</td>\n",
       "      <td>1234 west main heights 57033</td>\n",
       "      <td>NaN</td>\n",
       "    </tr>\n",
       "    <tr>\n",
       "      <th>3</th>\n",
       "      <td>004085616</td>\n",
       "      <td>apt 1 789 s maple rd manhattan</td>\n",
       "      <td>NaN</td>\n",
       "    </tr>\n",
       "    <tr>\n",
       "      <th>4</th>\n",
       "      <td>002 724 334</td>\n",
       "      <td>robie house, 789 north main street</td>\n",
       "      <td>NaN</td>\n",
       "    </tr>\n",
       "    <tr>\n",
       "      <th>5</th>\n",
       "      <td>hello</td>\n",
       "      <td>1111 S Figueroa St, Los Angeles, CA 90015</td>\n",
       "      <td>NaN</td>\n",
       "    </tr>\n",
       "    <tr>\n",
       "      <th>6</th>\n",
       "      <td>NaN</td>\n",
       "      <td>(staples center) 1111 S Figueroa St, Los Angeles</td>\n",
       "      <td>NaN</td>\n",
       "    </tr>\n",
       "    <tr>\n",
       "      <th>7</th>\n",
       "      <td>NULL</td>\n",
       "      <td>hello</td>\n",
       "      <td>NaN</td>\n",
       "    </tr>\n",
       "  </tbody>\n",
       "</table>\n",
       "</div>"
      ],
      "text/plain": [
       "             nric                                           address  \\\n",
       "0    770305021234                                     123 Pine Ave.   \n",
       "1  771305-02-1234                                           main st   \n",
       "2     999 999 999                      1234 west main heights 57033   \n",
       "3       004085616                    apt 1 789 s maple rd manhattan   \n",
       "4     002 724 334                robie house, 789 north main street   \n",
       "5           hello         1111 S Figueroa St, Los Angeles, CA 90015   \n",
       "6             NaN  (staples center) 1111 S Figueroa St, Los Angeles   \n",
       "7            NULL                                             hello   \n",
       "\n",
       "       nric_clean  \n",
       "0  770305-02-1234  \n",
       "1             NaN  \n",
       "2             NaN  \n",
       "3             NaN  \n",
       "4             NaN  \n",
       "5             NaN  \n",
       "6             NaN  \n",
       "7             NaN  "
      ]
     },
     "execution_count": 1,
     "metadata": {},
     "output_type": "execute_result"
    }
   ],
   "source": [
    "clean_my_nric(df, \"nric\", errors=\"coerce\")"
   ]
  },
  {
   "cell_type": "markdown",
   "id": "handy-assignment",
   "metadata": {},
   "source": [
    "### `ignore`"
   ]
  },
  {
   "cell_type": "code",
   "execution_count": 9,
   "id": "modified-mainland",
   "metadata": {
    "execution": {
     "iopub.execute_input": "2021-10-26T23:04:00.881955Z",
     "iopub.status.busy": "2021-10-26T23:04:00.881508Z",
     "iopub.status.idle": "2021-10-26T23:04:00.889454Z",
     "shell.execute_reply": "2021-10-26T23:04:00.889080Z"
    }
   },
   "outputs": [
    {
     "data": {
      "text/html": [
       "<div>\n",
       "<style scoped>\n",
       "    .dataframe tbody tr th:only-of-type {\n",
       "        vertical-align: middle;\n",
       "    }\n",
       "\n",
       "    .dataframe tbody tr th {\n",
       "        vertical-align: top;\n",
       "    }\n",
       "\n",
       "    .dataframe thead th {\n",
       "        text-align: right;\n",
       "    }\n",
       "</style>\n",
       "<table border=\"1\" class=\"dataframe\">\n",
       "  <thead>\n",
       "    <tr style=\"text-align: right;\">\n",
       "      <th></th>\n",
       "      <th>nric</th>\n",
       "      <th>address</th>\n",
       "      <th>nric_clean</th>\n",
       "    </tr>\n",
       "  </thead>\n",
       "  <tbody>\n",
       "    <tr>\n",
       "      <th>0</th>\n",
       "      <td>770305021234</td>\n",
       "      <td>123 Pine Ave.</td>\n",
       "      <td>770305-02-1234</td>\n",
       "    </tr>\n",
       "    <tr>\n",
       "      <th>1</th>\n",
       "      <td>771305-02-1234</td>\n",
       "      <td>main st</td>\n",
       "      <td>771305-02-1234</td>\n",
       "    </tr>\n",
       "    <tr>\n",
       "      <th>2</th>\n",
       "      <td>999 999 999</td>\n",
       "      <td>1234 west main heights 57033</td>\n",
       "      <td>999 999 999</td>\n",
       "    </tr>\n",
       "    <tr>\n",
       "      <th>3</th>\n",
       "      <td>004085616</td>\n",
       "      <td>apt 1 789 s maple rd manhattan</td>\n",
       "      <td>004085616</td>\n",
       "    </tr>\n",
       "    <tr>\n",
       "      <th>4</th>\n",
       "      <td>002 724 334</td>\n",
       "      <td>robie house, 789 north main street</td>\n",
       "      <td>002 724 334</td>\n",
       "    </tr>\n",
       "    <tr>\n",
       "      <th>5</th>\n",
       "      <td>hello</td>\n",
       "      <td>1111 S Figueroa St, Los Angeles, CA 90015</td>\n",
       "      <td>hello</td>\n",
       "    </tr>\n",
       "    <tr>\n",
       "      <th>6</th>\n",
       "      <td>NaN</td>\n",
       "      <td>(staples center) 1111 S Figueroa St, Los Angeles</td>\n",
       "      <td>NaN</td>\n",
       "    </tr>\n",
       "    <tr>\n",
       "      <th>7</th>\n",
       "      <td>NULL</td>\n",
       "      <td>hello</td>\n",
       "      <td>NaN</td>\n",
       "    </tr>\n",
       "  </tbody>\n",
       "</table>\n",
       "</div>"
      ],
      "text/plain": [
       "             nric                                           address  \\\n",
       "0    770305021234                                     123 Pine Ave.   \n",
       "1  771305-02-1234                                           main st   \n",
       "2     999 999 999                      1234 west main heights 57033   \n",
       "3       004085616                    apt 1 789 s maple rd manhattan   \n",
       "4     002 724 334                robie house, 789 north main street   \n",
       "5           hello         1111 S Figueroa St, Los Angeles, CA 90015   \n",
       "6             NaN  (staples center) 1111 S Figueroa St, Los Angeles   \n",
       "7            NULL                                             hello   \n",
       "\n",
       "       nric_clean  \n",
       "0  770305-02-1234  \n",
       "1  771305-02-1234  \n",
       "2     999 999 999  \n",
       "3       004085616  \n",
       "4     002 724 334  \n",
       "5           hello  \n",
       "6             NaN  \n",
       "7             NaN  "
      ]
     },
     "execution_count": 1,
     "metadata": {},
     "output_type": "execute_result"
    }
   ],
   "source": [
    "clean_my_nric(df, \"nric\", errors=\"ignore\")"
   ]
  },
  {
   "cell_type": "markdown",
   "id": "polished-league",
   "metadata": {},
   "source": [
    "## 4. `validate_my_nric()`"
   ]
  },
  {
   "cell_type": "markdown",
   "id": "annual-terrain",
   "metadata": {},
   "source": [
    "`validate_my_nric()` returns `True` when the input is a valid NRIC. Otherwise it returns `False`.\n",
    "\n",
    "The input of `validate_my_nric()` can be a string, a Pandas DataSeries, a Dask DataSeries, a Pandas DataFrame and a dask DataFrame.\n",
    "\n",
    "When the input is a string, a Pandas DataSeries or a Dask DataSeries, user doesn't need to specify a column name to be validated. \n",
    "\n",
    "When the input is a Pandas DataFrame or a dask DataFrame, user can both specify or not specify a column name to be validated. If user specify the column name, `validate_my_nric()` only returns the validation result for the specified column. If user doesn't specify the column name, `validate_my_nric()` returns the validation result for the whole DataFrame."
   ]
  },
  {
   "cell_type": "code",
   "execution_count": 10,
   "id": "living-lambda",
   "metadata": {
    "execution": {
     "iopub.execute_input": "2021-10-26T23:04:00.894192Z",
     "iopub.status.busy": "2021-10-26T23:04:00.893759Z",
     "iopub.status.idle": "2021-10-26T23:04:00.897780Z",
     "shell.execute_reply": "2021-10-26T23:04:00.897370Z"
    },
    "scrolled": true
   },
   "outputs": [
    {
     "name": "stdout",
     "output_type": "stream",
     "text": [
      "True\n",
      "False\n",
      "False\n",
      "False\n",
      "False\n",
      "False\n",
      "False\n",
      "False\n"
     ]
    }
   ],
   "source": [
    "from dataprep.clean import validate_my_nric\n",
    "print(validate_my_nric(\"770305021234\"))\n",
    "print(validate_my_nric(\"771305-02-1234\"))\n",
    "print(validate_my_nric(\"999 999 999\"))\n",
    "print(validate_my_nric(\"51824753556\"))\n",
    "print(validate_my_nric(\"004085616\"))\n",
    "print(validate_my_nric(\"hello\"))\n",
    "print(validate_my_nric(np.nan))\n",
    "print(validate_my_nric(\"NULL\"))"
   ]
  },
  {
   "cell_type": "markdown",
   "id": "common-hunger",
   "metadata": {},
   "source": [
    "### Series"
   ]
  },
  {
   "cell_type": "code",
   "execution_count": 11,
   "id": "female-reform",
   "metadata": {
    "execution": {
     "iopub.execute_input": "2021-10-26T23:04:00.902170Z",
     "iopub.status.busy": "2021-10-26T23:04:00.901728Z",
     "iopub.status.idle": "2021-10-26T23:04:00.905204Z",
     "shell.execute_reply": "2021-10-26T23:04:00.904808Z"
    }
   },
   "outputs": [
    {
     "data": {
      "text/plain": [
       "0     True\n",
       "1    False\n",
       "2    False\n",
       "3    False\n",
       "4    False\n",
       "5    False\n",
       "6    False\n",
       "7    False\n",
       "Name: nric, dtype: bool"
      ]
     },
     "execution_count": 1,
     "metadata": {},
     "output_type": "execute_result"
    }
   ],
   "source": [
    "validate_my_nric(df[\"nric\"])"
   ]
  },
  {
   "cell_type": "markdown",
   "id": "dying-notice",
   "metadata": {},
   "source": [
    "### DataFrame + Specify Column"
   ]
  },
  {
   "cell_type": "code",
   "execution_count": 12,
   "id": "adult-capability",
   "metadata": {
    "execution": {
     "iopub.execute_input": "2021-10-26T23:04:00.909448Z",
     "iopub.status.busy": "2021-10-26T23:04:00.909008Z",
     "iopub.status.idle": "2021-10-26T23:04:00.911001Z",
     "shell.execute_reply": "2021-10-26T23:04:00.911378Z"
    }
   },
   "outputs": [
    {
     "data": {
      "text/plain": [
       "0     True\n",
       "1    False\n",
       "2    False\n",
       "3    False\n",
       "4    False\n",
       "5    False\n",
       "6    False\n",
       "7    False\n",
       "Name: nric, dtype: bool"
      ]
     },
     "execution_count": 1,
     "metadata": {},
     "output_type": "execute_result"
    }
   ],
   "source": [
    "validate_my_nric(df, column=\"nric\")"
   ]
  },
  {
   "cell_type": "markdown",
   "id": "improved-academy",
   "metadata": {},
   "source": [
    "### Only DataFrame"
   ]
  },
  {
   "cell_type": "code",
   "execution_count": 13,
   "id": "guided-afghanistan",
   "metadata": {
    "execution": {
     "iopub.execute_input": "2021-10-26T23:04:00.914231Z",
     "iopub.status.busy": "2021-10-26T23:04:00.913796Z",
     "iopub.status.idle": "2021-10-26T23:04:00.919884Z",
     "shell.execute_reply": "2021-10-26T23:04:00.920218Z"
    }
   },
   "outputs": [
    {
     "data": {
      "text/html": [
       "<div>\n",
       "<style scoped>\n",
       "    .dataframe tbody tr th:only-of-type {\n",
       "        vertical-align: middle;\n",
       "    }\n",
       "\n",
       "    .dataframe tbody tr th {\n",
       "        vertical-align: top;\n",
       "    }\n",
       "\n",
       "    .dataframe thead th {\n",
       "        text-align: right;\n",
       "    }\n",
       "</style>\n",
       "<table border=\"1\" class=\"dataframe\">\n",
       "  <thead>\n",
       "    <tr style=\"text-align: right;\">\n",
       "      <th></th>\n",
       "      <th>nric</th>\n",
       "      <th>address</th>\n",
       "    </tr>\n",
       "  </thead>\n",
       "  <tbody>\n",
       "    <tr>\n",
       "      <th>0</th>\n",
       "      <td>True</td>\n",
       "      <td>False</td>\n",
       "    </tr>\n",
       "    <tr>\n",
       "      <th>1</th>\n",
       "      <td>False</td>\n",
       "      <td>False</td>\n",
       "    </tr>\n",
       "    <tr>\n",
       "      <th>2</th>\n",
       "      <td>False</td>\n",
       "      <td>False</td>\n",
       "    </tr>\n",
       "    <tr>\n",
       "      <th>3</th>\n",
       "      <td>False</td>\n",
       "      <td>False</td>\n",
       "    </tr>\n",
       "    <tr>\n",
       "      <th>4</th>\n",
       "      <td>False</td>\n",
       "      <td>False</td>\n",
       "    </tr>\n",
       "    <tr>\n",
       "      <th>5</th>\n",
       "      <td>False</td>\n",
       "      <td>False</td>\n",
       "    </tr>\n",
       "    <tr>\n",
       "      <th>6</th>\n",
       "      <td>False</td>\n",
       "      <td>False</td>\n",
       "    </tr>\n",
       "    <tr>\n",
       "      <th>7</th>\n",
       "      <td>False</td>\n",
       "      <td>False</td>\n",
       "    </tr>\n",
       "  </tbody>\n",
       "</table>\n",
       "</div>"
      ],
      "text/plain": [
       "    nric  address\n",
       "0   True    False\n",
       "1  False    False\n",
       "2  False    False\n",
       "3  False    False\n",
       "4  False    False\n",
       "5  False    False\n",
       "6  False    False\n",
       "7  False    False"
      ]
     },
     "execution_count": 1,
     "metadata": {},
     "output_type": "execute_result"
    }
   ],
   "source": [
    "validate_my_nric(df)"
   ]
  },
  {
   "cell_type": "code",
   "execution_count": null,
   "id": "infectious-hotel",
   "metadata": {},
   "outputs": [],
   "source": []
  }
 ],
 "metadata": {
  "kernelspec": {
   "display_name": "Python 3",
   "language": "python",
   "name": "python3"
  },
  "language_info": {
   "codemirror_mode": {
    "name": "ipython",
    "version": 3
   },
   "file_extension": ".py",
   "mimetype": "text/x-python",
   "name": "python",
   "nbconvert_exporter": "python",
   "pygments_lexer": "ipython3",
   "version": "3.8.10"
  }
 },
 "nbformat": 4,
 "nbformat_minor": 5
}
