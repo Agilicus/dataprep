{
 "cells": [
  {
   "cell_type": "raw",
   "id": "declared-messenger",
   "metadata": {},
   "source": [
    ".. _codicefiscale_userguide:\n",
    "\n",
    "Codice Fiscale Strings\n",
    "============"
   ]
  },
  {
   "cell_type": "raw",
   "id": "raising-customer",
   "metadata": {},
   "source": [
    "Introduction\n",
    "------------\n",
    "\n",
    "The function :func:`clean_it_codicefiscale() <dataprep.clean.clean_it_codicefiscale.clean_it_codicefiscale>` cleans a column containing Italian fiscal codes (Codice Fiscale) strings, and standardizes them in a given format. The function :func:`validate_it_codicefiscale() <dataprep.clean.clean_it_codicefiscale.validate_it_codicefiscale>` validates either a single Codice Fiscale strings, a column of Codice Fiscale strings or a DataFrame of Codice Fiscale strings, returning `True` if the value is valid, and `False` otherwise."
   ]
  },
  {
   "cell_type": "markdown",
   "id": "fluid-company",
   "metadata": {},
   "source": [
    "Codice Fiscale strings can be converted to the following formats via the `output_format` parameter:\n",
    "\n",
    "* `compact`: only number strings without any seperators or whitespace, like \"RCCMNL83S18D969H\"\n",
    "* `standard`: Codice Fiscale strings with proper whitespace in the proper places. Note that in the case of Codice Fiscale, the compact format is the same as the standard one.\n",
    "* `birthdate`: split the date parts from the number and return the birth date, like \"1875-03-16\".\n",
    "* `gender`: get the person's birth gender ('M' or 'F').\n",
    "\n",
    "Invalid parsing is handled with the `errors` parameter:\n",
    "\n",
    "* `coerce` (default): invalid parsing will be set to NaN\n",
    "* `ignore`: invalid parsing will return the input\n",
    "* `raise`: invalid parsing will raise an exception\n",
    "\n",
    "The following sections demonstrate the functionality of `clean_it_codicefiscale()` and `validate_it_codicefiscale()`. "
   ]
  },
  {
   "cell_type": "markdown",
   "id": "appreciated-laptop",
   "metadata": {},
   "source": [
    "### An example dataset containing Codice Fiscale strings"
   ]
  },
  {
   "cell_type": "code",
   "execution_count": 1,
   "id": "eligible-abuse",
   "metadata": {
    "execution": {
     "iopub.execute_input": "2021-10-26T23:39:58.756567Z",
     "iopub.status.busy": "2021-10-26T23:39:58.755929Z",
     "iopub.status.idle": "2021-10-26T23:39:59.053093Z",
     "shell.execute_reply": "2021-10-26T23:39:59.053610Z"
    }
   },
   "outputs": [
    {
     "data": {
      "text/html": [
       "<div>\n",
       "<style scoped>\n",
       "    .dataframe tbody tr th:only-of-type {\n",
       "        vertical-align: middle;\n",
       "    }\n",
       "\n",
       "    .dataframe tbody tr th {\n",
       "        vertical-align: top;\n",
       "    }\n",
       "\n",
       "    .dataframe thead th {\n",
       "        text-align: right;\n",
       "    }\n",
       "</style>\n",
       "<table border=\"1\" class=\"dataframe\">\n",
       "  <thead>\n",
       "    <tr style=\"text-align: right;\">\n",
       "      <th></th>\n",
       "      <th>codicefiscale</th>\n",
       "      <th>address</th>\n",
       "    </tr>\n",
       "  </thead>\n",
       "  <tbody>\n",
       "    <tr>\n",
       "      <th>0</th>\n",
       "      <td>RCCMNL83S18D969H</td>\n",
       "      <td>123 Pine Ave.</td>\n",
       "    </tr>\n",
       "    <tr>\n",
       "      <th>1</th>\n",
       "      <td>RCCMNL83S18D969</td>\n",
       "      <td>main st</td>\n",
       "    </tr>\n",
       "    <tr>\n",
       "      <th>2</th>\n",
       "      <td>7542011030</td>\n",
       "      <td>1234 west main heights 57033</td>\n",
       "    </tr>\n",
       "    <tr>\n",
       "      <th>3</th>\n",
       "      <td>7552A10004</td>\n",
       "      <td>apt 1 789 s maple rd manhattan</td>\n",
       "    </tr>\n",
       "    <tr>\n",
       "      <th>4</th>\n",
       "      <td>8019010008</td>\n",
       "      <td>robie house, 789 north main street</td>\n",
       "    </tr>\n",
       "    <tr>\n",
       "      <th>5</th>\n",
       "      <td>hello</td>\n",
       "      <td>1111 S Figueroa St, Los Angeles, CA 90015</td>\n",
       "    </tr>\n",
       "    <tr>\n",
       "      <th>6</th>\n",
       "      <td>NaN</td>\n",
       "      <td>(staples center) 1111 S Figueroa St, Los Angeles</td>\n",
       "    </tr>\n",
       "    <tr>\n",
       "      <th>7</th>\n",
       "      <td>NULL</td>\n",
       "      <td>hello</td>\n",
       "    </tr>\n",
       "  </tbody>\n",
       "</table>\n",
       "</div>"
      ],
      "text/plain": [
       "      codicefiscale                                           address\n",
       "0  RCCMNL83S18D969H                                     123 Pine Ave.\n",
       "1   RCCMNL83S18D969                                           main st\n",
       "2        7542011030                      1234 west main heights 57033\n",
       "3        7552A10004                    apt 1 789 s maple rd manhattan\n",
       "4        8019010008                robie house, 789 north main street\n",
       "5             hello         1111 S Figueroa St, Los Angeles, CA 90015\n",
       "6               NaN  (staples center) 1111 S Figueroa St, Los Angeles\n",
       "7              NULL                                             hello"
      ]
     },
     "execution_count": 1,
     "metadata": {},
     "output_type": "execute_result"
    }
   ],
   "source": [
    "import pandas as pd\n",
    "import numpy as np\n",
    "df = pd.DataFrame(\n",
    "    {\n",
    "        \"codicefiscale\": [\n",
    "            'RCCMNL83S18D969H',\n",
    "            'RCCMNL83S18D969',\n",
    "            '7542011030',\n",
    "            '7552A10004',\n",
    "            '8019010008',\n",
    "            \"hello\",\n",
    "            np.nan,\n",
    "            \"NULL\",\n",
    "        ], \n",
    "        \"address\": [\n",
    "            \"123 Pine Ave.\",\n",
    "            \"main st\",\n",
    "            \"1234 west main heights 57033\",\n",
    "            \"apt 1 789 s maple rd manhattan\",\n",
    "            \"robie house, 789 north main street\",\n",
    "            \"1111 S Figueroa St, Los Angeles, CA 90015\",\n",
    "            \"(staples center) 1111 S Figueroa St, Los Angeles\",\n",
    "            \"hello\",\n",
    "        ]\n",
    "    }\n",
    ")\n",
    "df"
   ]
  },
  {
   "cell_type": "markdown",
   "id": "young-figure",
   "metadata": {},
   "source": [
    "## 1. Default `clean_it_codicefiscale`\n",
    "\n",
    "By default, `clean_it_codicefiscale` will clean codicefiscale strings and output them in the standard format with proper separators."
   ]
  },
  {
   "cell_type": "code",
   "execution_count": 2,
   "id": "necessary-potato",
   "metadata": {
    "execution": {
     "iopub.execute_input": "2021-10-26T23:39:59.058420Z",
     "iopub.status.busy": "2021-10-26T23:39:59.057803Z",
     "iopub.status.idle": "2021-10-26T23:39:59.838172Z",
     "shell.execute_reply": "2021-10-26T23:39:59.837656Z"
    }
   },
   "outputs": [
    {
     "data": {
      "text/html": [
       "<div>\n",
       "<style scoped>\n",
       "    .dataframe tbody tr th:only-of-type {\n",
       "        vertical-align: middle;\n",
       "    }\n",
       "\n",
       "    .dataframe tbody tr th {\n",
       "        vertical-align: top;\n",
       "    }\n",
       "\n",
       "    .dataframe thead th {\n",
       "        text-align: right;\n",
       "    }\n",
       "</style>\n",
       "<table border=\"1\" class=\"dataframe\">\n",
       "  <thead>\n",
       "    <tr style=\"text-align: right;\">\n",
       "      <th></th>\n",
       "      <th>codicefiscale</th>\n",
       "      <th>address</th>\n",
       "      <th>codicefiscale_clean</th>\n",
       "    </tr>\n",
       "  </thead>\n",
       "  <tbody>\n",
       "    <tr>\n",
       "      <th>0</th>\n",
       "      <td>RCCMNL83S18D969H</td>\n",
       "      <td>123 Pine Ave.</td>\n",
       "      <td>RCCMNL83S18D969H</td>\n",
       "    </tr>\n",
       "    <tr>\n",
       "      <th>1</th>\n",
       "      <td>RCCMNL83S18D969</td>\n",
       "      <td>main st</td>\n",
       "      <td>NaN</td>\n",
       "    </tr>\n",
       "    <tr>\n",
       "      <th>2</th>\n",
       "      <td>7542011030</td>\n",
       "      <td>1234 west main heights 57033</td>\n",
       "      <td>NaN</td>\n",
       "    </tr>\n",
       "    <tr>\n",
       "      <th>3</th>\n",
       "      <td>7552A10004</td>\n",
       "      <td>apt 1 789 s maple rd manhattan</td>\n",
       "      <td>NaN</td>\n",
       "    </tr>\n",
       "    <tr>\n",
       "      <th>4</th>\n",
       "      <td>8019010008</td>\n",
       "      <td>robie house, 789 north main street</td>\n",
       "      <td>NaN</td>\n",
       "    </tr>\n",
       "    <tr>\n",
       "      <th>5</th>\n",
       "      <td>hello</td>\n",
       "      <td>1111 S Figueroa St, Los Angeles, CA 90015</td>\n",
       "      <td>NaN</td>\n",
       "    </tr>\n",
       "    <tr>\n",
       "      <th>6</th>\n",
       "      <td>NaN</td>\n",
       "      <td>(staples center) 1111 S Figueroa St, Los Angeles</td>\n",
       "      <td>NaN</td>\n",
       "    </tr>\n",
       "    <tr>\n",
       "      <th>7</th>\n",
       "      <td>NULL</td>\n",
       "      <td>hello</td>\n",
       "      <td>NaN</td>\n",
       "    </tr>\n",
       "  </tbody>\n",
       "</table>\n",
       "</div>"
      ],
      "text/plain": [
       "      codicefiscale                                           address  \\\n",
       "0  RCCMNL83S18D969H                                     123 Pine Ave.   \n",
       "1   RCCMNL83S18D969                                           main st   \n",
       "2        7542011030                      1234 west main heights 57033   \n",
       "3        7552A10004                    apt 1 789 s maple rd manhattan   \n",
       "4        8019010008                robie house, 789 north main street   \n",
       "5             hello         1111 S Figueroa St, Los Angeles, CA 90015   \n",
       "6               NaN  (staples center) 1111 S Figueroa St, Los Angeles   \n",
       "7              NULL                                             hello   \n",
       "\n",
       "  codicefiscale_clean  \n",
       "0    RCCMNL83S18D969H  \n",
       "1                 NaN  \n",
       "2                 NaN  \n",
       "3                 NaN  \n",
       "4                 NaN  \n",
       "5                 NaN  \n",
       "6                 NaN  \n",
       "7                 NaN  "
      ]
     },
     "execution_count": 1,
     "metadata": {},
     "output_type": "execute_result"
    }
   ],
   "source": [
    "from dataprep.clean import clean_it_codicefiscale\n",
    "clean_it_codicefiscale(df, column = \"codicefiscale\")"
   ]
  },
  {
   "cell_type": "markdown",
   "id": "nominated-richards",
   "metadata": {},
   "source": [
    "## 2. Output formats"
   ]
  },
  {
   "cell_type": "markdown",
   "id": "rational-baker",
   "metadata": {},
   "source": [
    "This section demonstrates the output parameter."
   ]
  },
  {
   "cell_type": "markdown",
   "id": "medium-morocco",
   "metadata": {},
   "source": [
    "### `standard` (default)"
   ]
  },
  {
   "cell_type": "code",
   "execution_count": 3,
   "id": "crazy-coordination",
   "metadata": {
    "execution": {
     "iopub.execute_input": "2021-10-26T23:39:59.870547Z",
     "iopub.status.busy": "2021-10-26T23:39:59.869709Z",
     "iopub.status.idle": "2021-10-26T23:39:59.878706Z",
     "shell.execute_reply": "2021-10-26T23:39:59.879289Z"
    }
   },
   "outputs": [
    {
     "data": {
      "text/html": [
       "<div>\n",
       "<style scoped>\n",
       "    .dataframe tbody tr th:only-of-type {\n",
       "        vertical-align: middle;\n",
       "    }\n",
       "\n",
       "    .dataframe tbody tr th {\n",
       "        vertical-align: top;\n",
       "    }\n",
       "\n",
       "    .dataframe thead th {\n",
       "        text-align: right;\n",
       "    }\n",
       "</style>\n",
       "<table border=\"1\" class=\"dataframe\">\n",
       "  <thead>\n",
       "    <tr style=\"text-align: right;\">\n",
       "      <th></th>\n",
       "      <th>codicefiscale</th>\n",
       "      <th>address</th>\n",
       "      <th>codicefiscale_clean</th>\n",
       "    </tr>\n",
       "  </thead>\n",
       "  <tbody>\n",
       "    <tr>\n",
       "      <th>0</th>\n",
       "      <td>RCCMNL83S18D969H</td>\n",
       "      <td>123 Pine Ave.</td>\n",
       "      <td>RCCMNL83S18D969H</td>\n",
       "    </tr>\n",
       "    <tr>\n",
       "      <th>1</th>\n",
       "      <td>RCCMNL83S18D969</td>\n",
       "      <td>main st</td>\n",
       "      <td>NaN</td>\n",
       "    </tr>\n",
       "    <tr>\n",
       "      <th>2</th>\n",
       "      <td>7542011030</td>\n",
       "      <td>1234 west main heights 57033</td>\n",
       "      <td>NaN</td>\n",
       "    </tr>\n",
       "    <tr>\n",
       "      <th>3</th>\n",
       "      <td>7552A10004</td>\n",
       "      <td>apt 1 789 s maple rd manhattan</td>\n",
       "      <td>NaN</td>\n",
       "    </tr>\n",
       "    <tr>\n",
       "      <th>4</th>\n",
       "      <td>8019010008</td>\n",
       "      <td>robie house, 789 north main street</td>\n",
       "      <td>NaN</td>\n",
       "    </tr>\n",
       "    <tr>\n",
       "      <th>5</th>\n",
       "      <td>hello</td>\n",
       "      <td>1111 S Figueroa St, Los Angeles, CA 90015</td>\n",
       "      <td>NaN</td>\n",
       "    </tr>\n",
       "    <tr>\n",
       "      <th>6</th>\n",
       "      <td>NaN</td>\n",
       "      <td>(staples center) 1111 S Figueroa St, Los Angeles</td>\n",
       "      <td>NaN</td>\n",
       "    </tr>\n",
       "    <tr>\n",
       "      <th>7</th>\n",
       "      <td>NULL</td>\n",
       "      <td>hello</td>\n",
       "      <td>NaN</td>\n",
       "    </tr>\n",
       "  </tbody>\n",
       "</table>\n",
       "</div>"
      ],
      "text/plain": [
       "      codicefiscale                                           address  \\\n",
       "0  RCCMNL83S18D969H                                     123 Pine Ave.   \n",
       "1   RCCMNL83S18D969                                           main st   \n",
       "2        7542011030                      1234 west main heights 57033   \n",
       "3        7552A10004                    apt 1 789 s maple rd manhattan   \n",
       "4        8019010008                robie house, 789 north main street   \n",
       "5             hello         1111 S Figueroa St, Los Angeles, CA 90015   \n",
       "6               NaN  (staples center) 1111 S Figueroa St, Los Angeles   \n",
       "7              NULL                                             hello   \n",
       "\n",
       "  codicefiscale_clean  \n",
       "0    RCCMNL83S18D969H  \n",
       "1                 NaN  \n",
       "2                 NaN  \n",
       "3                 NaN  \n",
       "4                 NaN  \n",
       "5                 NaN  \n",
       "6                 NaN  \n",
       "7                 NaN  "
      ]
     },
     "execution_count": 1,
     "metadata": {},
     "output_type": "execute_result"
    }
   ],
   "source": [
    "clean_it_codicefiscale(df, column = \"codicefiscale\", output_format=\"standard\")"
   ]
  },
  {
   "cell_type": "markdown",
   "id": "official-british",
   "metadata": {},
   "source": [
    "### `compact`"
   ]
  },
  {
   "cell_type": "code",
   "execution_count": 4,
   "id": "beautiful-submission",
   "metadata": {
    "execution": {
     "iopub.execute_input": "2021-10-26T23:39:59.907641Z",
     "iopub.status.busy": "2021-10-26T23:39:59.906984Z",
     "iopub.status.idle": "2021-10-26T23:39:59.916323Z",
     "shell.execute_reply": "2021-10-26T23:39:59.915606Z"
    }
   },
   "outputs": [
    {
     "data": {
      "text/html": [
       "<div>\n",
       "<style scoped>\n",
       "    .dataframe tbody tr th:only-of-type {\n",
       "        vertical-align: middle;\n",
       "    }\n",
       "\n",
       "    .dataframe tbody tr th {\n",
       "        vertical-align: top;\n",
       "    }\n",
       "\n",
       "    .dataframe thead th {\n",
       "        text-align: right;\n",
       "    }\n",
       "</style>\n",
       "<table border=\"1\" class=\"dataframe\">\n",
       "  <thead>\n",
       "    <tr style=\"text-align: right;\">\n",
       "      <th></th>\n",
       "      <th>codicefiscale</th>\n",
       "      <th>address</th>\n",
       "      <th>codicefiscale_clean</th>\n",
       "    </tr>\n",
       "  </thead>\n",
       "  <tbody>\n",
       "    <tr>\n",
       "      <th>0</th>\n",
       "      <td>RCCMNL83S18D969H</td>\n",
       "      <td>123 Pine Ave.</td>\n",
       "      <td>RCCMNL83S18D969H</td>\n",
       "    </tr>\n",
       "    <tr>\n",
       "      <th>1</th>\n",
       "      <td>RCCMNL83S18D969</td>\n",
       "      <td>main st</td>\n",
       "      <td>NaN</td>\n",
       "    </tr>\n",
       "    <tr>\n",
       "      <th>2</th>\n",
       "      <td>7542011030</td>\n",
       "      <td>1234 west main heights 57033</td>\n",
       "      <td>NaN</td>\n",
       "    </tr>\n",
       "    <tr>\n",
       "      <th>3</th>\n",
       "      <td>7552A10004</td>\n",
       "      <td>apt 1 789 s maple rd manhattan</td>\n",
       "      <td>NaN</td>\n",
       "    </tr>\n",
       "    <tr>\n",
       "      <th>4</th>\n",
       "      <td>8019010008</td>\n",
       "      <td>robie house, 789 north main street</td>\n",
       "      <td>NaN</td>\n",
       "    </tr>\n",
       "    <tr>\n",
       "      <th>5</th>\n",
       "      <td>hello</td>\n",
       "      <td>1111 S Figueroa St, Los Angeles, CA 90015</td>\n",
       "      <td>NaN</td>\n",
       "    </tr>\n",
       "    <tr>\n",
       "      <th>6</th>\n",
       "      <td>NaN</td>\n",
       "      <td>(staples center) 1111 S Figueroa St, Los Angeles</td>\n",
       "      <td>NaN</td>\n",
       "    </tr>\n",
       "    <tr>\n",
       "      <th>7</th>\n",
       "      <td>NULL</td>\n",
       "      <td>hello</td>\n",
       "      <td>NaN</td>\n",
       "    </tr>\n",
       "  </tbody>\n",
       "</table>\n",
       "</div>"
      ],
      "text/plain": [
       "      codicefiscale                                           address  \\\n",
       "0  RCCMNL83S18D969H                                     123 Pine Ave.   \n",
       "1   RCCMNL83S18D969                                           main st   \n",
       "2        7542011030                      1234 west main heights 57033   \n",
       "3        7552A10004                    apt 1 789 s maple rd manhattan   \n",
       "4        8019010008                robie house, 789 north main street   \n",
       "5             hello         1111 S Figueroa St, Los Angeles, CA 90015   \n",
       "6               NaN  (staples center) 1111 S Figueroa St, Los Angeles   \n",
       "7              NULL                                             hello   \n",
       "\n",
       "  codicefiscale_clean  \n",
       "0    RCCMNL83S18D969H  \n",
       "1                 NaN  \n",
       "2                 NaN  \n",
       "3                 NaN  \n",
       "4                 NaN  \n",
       "5                 NaN  \n",
       "6                 NaN  \n",
       "7                 NaN  "
      ]
     },
     "execution_count": 1,
     "metadata": {},
     "output_type": "execute_result"
    }
   ],
   "source": [
    "clean_it_codicefiscale(df, column = \"codicefiscale\", output_format=\"compact\")"
   ]
  },
  {
   "cell_type": "markdown",
   "id": "neither-silence",
   "metadata": {},
   "source": [
    "### `birthdate`"
   ]
  },
  {
   "cell_type": "code",
   "execution_count": 5,
   "id": "significant-computer",
   "metadata": {
    "execution": {
     "iopub.execute_input": "2021-10-26T23:39:59.946273Z",
     "iopub.status.busy": "2021-10-26T23:39:59.945633Z",
     "iopub.status.idle": "2021-10-26T23:39:59.955843Z",
     "shell.execute_reply": "2021-10-26T23:39:59.955283Z"
    }
   },
   "outputs": [
    {
     "data": {
      "text/html": [
       "<div>\n",
       "<style scoped>\n",
       "    .dataframe tbody tr th:only-of-type {\n",
       "        vertical-align: middle;\n",
       "    }\n",
       "\n",
       "    .dataframe tbody tr th {\n",
       "        vertical-align: top;\n",
       "    }\n",
       "\n",
       "    .dataframe thead th {\n",
       "        text-align: right;\n",
       "    }\n",
       "</style>\n",
       "<table border=\"1\" class=\"dataframe\">\n",
       "  <thead>\n",
       "    <tr style=\"text-align: right;\">\n",
       "      <th></th>\n",
       "      <th>codicefiscale</th>\n",
       "      <th>address</th>\n",
       "      <th>codicefiscale_clean</th>\n",
       "    </tr>\n",
       "  </thead>\n",
       "  <tbody>\n",
       "    <tr>\n",
       "      <th>0</th>\n",
       "      <td>RCCMNL83S18D969H</td>\n",
       "      <td>123 Pine Ave.</td>\n",
       "      <td>1983-11-18</td>\n",
       "    </tr>\n",
       "    <tr>\n",
       "      <th>1</th>\n",
       "      <td>RCCMNL83S18D969</td>\n",
       "      <td>main st</td>\n",
       "      <td>NaN</td>\n",
       "    </tr>\n",
       "    <tr>\n",
       "      <th>2</th>\n",
       "      <td>7542011030</td>\n",
       "      <td>1234 west main heights 57033</td>\n",
       "      <td>NaN</td>\n",
       "    </tr>\n",
       "    <tr>\n",
       "      <th>3</th>\n",
       "      <td>7552A10004</td>\n",
       "      <td>apt 1 789 s maple rd manhattan</td>\n",
       "      <td>NaN</td>\n",
       "    </tr>\n",
       "    <tr>\n",
       "      <th>4</th>\n",
       "      <td>8019010008</td>\n",
       "      <td>robie house, 789 north main street</td>\n",
       "      <td>NaN</td>\n",
       "    </tr>\n",
       "    <tr>\n",
       "      <th>5</th>\n",
       "      <td>hello</td>\n",
       "      <td>1111 S Figueroa St, Los Angeles, CA 90015</td>\n",
       "      <td>NaN</td>\n",
       "    </tr>\n",
       "    <tr>\n",
       "      <th>6</th>\n",
       "      <td>NaN</td>\n",
       "      <td>(staples center) 1111 S Figueroa St, Los Angeles</td>\n",
       "      <td>NaN</td>\n",
       "    </tr>\n",
       "    <tr>\n",
       "      <th>7</th>\n",
       "      <td>NULL</td>\n",
       "      <td>hello</td>\n",
       "      <td>NaN</td>\n",
       "    </tr>\n",
       "  </tbody>\n",
       "</table>\n",
       "</div>"
      ],
      "text/plain": [
       "      codicefiscale                                           address  \\\n",
       "0  RCCMNL83S18D969H                                     123 Pine Ave.   \n",
       "1   RCCMNL83S18D969                                           main st   \n",
       "2        7542011030                      1234 west main heights 57033   \n",
       "3        7552A10004                    apt 1 789 s maple rd manhattan   \n",
       "4        8019010008                robie house, 789 north main street   \n",
       "5             hello         1111 S Figueroa St, Los Angeles, CA 90015   \n",
       "6               NaN  (staples center) 1111 S Figueroa St, Los Angeles   \n",
       "7              NULL                                             hello   \n",
       "\n",
       "  codicefiscale_clean  \n",
       "0          1983-11-18  \n",
       "1                 NaN  \n",
       "2                 NaN  \n",
       "3                 NaN  \n",
       "4                 NaN  \n",
       "5                 NaN  \n",
       "6                 NaN  \n",
       "7                 NaN  "
      ]
     },
     "execution_count": 1,
     "metadata": {},
     "output_type": "execute_result"
    }
   ],
   "source": [
    "clean_it_codicefiscale(df, column = \"codicefiscale\", output_format=\"birthdate\")"
   ]
  },
  {
   "cell_type": "markdown",
   "id": "specialized-wells",
   "metadata": {},
   "source": [
    "### `gender`"
   ]
  },
  {
   "cell_type": "code",
   "execution_count": 6,
   "id": "fifth-superior",
   "metadata": {
    "execution": {
     "iopub.execute_input": "2021-10-26T23:39:59.984031Z",
     "iopub.status.busy": "2021-10-26T23:39:59.970557Z",
     "iopub.status.idle": "2021-10-26T23:39:59.995713Z",
     "shell.execute_reply": "2021-10-26T23:39:59.995181Z"
    }
   },
   "outputs": [
    {
     "data": {
      "text/html": [
       "<div>\n",
       "<style scoped>\n",
       "    .dataframe tbody tr th:only-of-type {\n",
       "        vertical-align: middle;\n",
       "    }\n",
       "\n",
       "    .dataframe tbody tr th {\n",
       "        vertical-align: top;\n",
       "    }\n",
       "\n",
       "    .dataframe thead th {\n",
       "        text-align: right;\n",
       "    }\n",
       "</style>\n",
       "<table border=\"1\" class=\"dataframe\">\n",
       "  <thead>\n",
       "    <tr style=\"text-align: right;\">\n",
       "      <th></th>\n",
       "      <th>codicefiscale</th>\n",
       "      <th>address</th>\n",
       "      <th>codicefiscale_clean</th>\n",
       "    </tr>\n",
       "  </thead>\n",
       "  <tbody>\n",
       "    <tr>\n",
       "      <th>0</th>\n",
       "      <td>RCCMNL83S18D969H</td>\n",
       "      <td>123 Pine Ave.</td>\n",
       "      <td>M</td>\n",
       "    </tr>\n",
       "    <tr>\n",
       "      <th>1</th>\n",
       "      <td>RCCMNL83S18D969</td>\n",
       "      <td>main st</td>\n",
       "      <td>NaN</td>\n",
       "    </tr>\n",
       "    <tr>\n",
       "      <th>2</th>\n",
       "      <td>7542011030</td>\n",
       "      <td>1234 west main heights 57033</td>\n",
       "      <td>NaN</td>\n",
       "    </tr>\n",
       "    <tr>\n",
       "      <th>3</th>\n",
       "      <td>7552A10004</td>\n",
       "      <td>apt 1 789 s maple rd manhattan</td>\n",
       "      <td>NaN</td>\n",
       "    </tr>\n",
       "    <tr>\n",
       "      <th>4</th>\n",
       "      <td>8019010008</td>\n",
       "      <td>robie house, 789 north main street</td>\n",
       "      <td>NaN</td>\n",
       "    </tr>\n",
       "    <tr>\n",
       "      <th>5</th>\n",
       "      <td>hello</td>\n",
       "      <td>1111 S Figueroa St, Los Angeles, CA 90015</td>\n",
       "      <td>NaN</td>\n",
       "    </tr>\n",
       "    <tr>\n",
       "      <th>6</th>\n",
       "      <td>NaN</td>\n",
       "      <td>(staples center) 1111 S Figueroa St, Los Angeles</td>\n",
       "      <td>NaN</td>\n",
       "    </tr>\n",
       "    <tr>\n",
       "      <th>7</th>\n",
       "      <td>NULL</td>\n",
       "      <td>hello</td>\n",
       "      <td>NaN</td>\n",
       "    </tr>\n",
       "  </tbody>\n",
       "</table>\n",
       "</div>"
      ],
      "text/plain": [
       "      codicefiscale                                           address  \\\n",
       "0  RCCMNL83S18D969H                                     123 Pine Ave.   \n",
       "1   RCCMNL83S18D969                                           main st   \n",
       "2        7542011030                      1234 west main heights 57033   \n",
       "3        7552A10004                    apt 1 789 s maple rd manhattan   \n",
       "4        8019010008                robie house, 789 north main street   \n",
       "5             hello         1111 S Figueroa St, Los Angeles, CA 90015   \n",
       "6               NaN  (staples center) 1111 S Figueroa St, Los Angeles   \n",
       "7              NULL                                             hello   \n",
       "\n",
       "  codicefiscale_clean  \n",
       "0                   M  \n",
       "1                 NaN  \n",
       "2                 NaN  \n",
       "3                 NaN  \n",
       "4                 NaN  \n",
       "5                 NaN  \n",
       "6                 NaN  \n",
       "7                 NaN  "
      ]
     },
     "execution_count": 1,
     "metadata": {},
     "output_type": "execute_result"
    }
   ],
   "source": [
    "clean_it_codicefiscale(df, column = \"codicefiscale\", output_format=\"gender\")"
   ]
  },
  {
   "cell_type": "markdown",
   "id": "proper-rehabilitation",
   "metadata": {},
   "source": [
    "## 3. `inplace` parameter\n",
    "\n",
    "This deletes the given column from the returned DataFrame. \n",
    "A new column containing cleaned Codice Fiscale strings is added with a title in the format `\"{original title}_clean\"`."
   ]
  },
  {
   "cell_type": "code",
   "execution_count": 7,
   "id": "demographic-mixer",
   "metadata": {
    "execution": {
     "iopub.execute_input": "2021-10-26T23:40:00.040498Z",
     "iopub.status.busy": "2021-10-26T23:40:00.037424Z",
     "iopub.status.idle": "2021-10-26T23:40:00.045679Z",
     "shell.execute_reply": "2021-10-26T23:40:00.046182Z"
    }
   },
   "outputs": [
    {
     "data": {
      "text/html": [
       "<div>\n",
       "<style scoped>\n",
       "    .dataframe tbody tr th:only-of-type {\n",
       "        vertical-align: middle;\n",
       "    }\n",
       "\n",
       "    .dataframe tbody tr th {\n",
       "        vertical-align: top;\n",
       "    }\n",
       "\n",
       "    .dataframe thead th {\n",
       "        text-align: right;\n",
       "    }\n",
       "</style>\n",
       "<table border=\"1\" class=\"dataframe\">\n",
       "  <thead>\n",
       "    <tr style=\"text-align: right;\">\n",
       "      <th></th>\n",
       "      <th>codicefiscale_clean</th>\n",
       "      <th>address</th>\n",
       "    </tr>\n",
       "  </thead>\n",
       "  <tbody>\n",
       "    <tr>\n",
       "      <th>0</th>\n",
       "      <td>RCCMNL83S18D969H</td>\n",
       "      <td>123 Pine Ave.</td>\n",
       "    </tr>\n",
       "    <tr>\n",
       "      <th>1</th>\n",
       "      <td>NaN</td>\n",
       "      <td>main st</td>\n",
       "    </tr>\n",
       "    <tr>\n",
       "      <th>2</th>\n",
       "      <td>NaN</td>\n",
       "      <td>1234 west main heights 57033</td>\n",
       "    </tr>\n",
       "    <tr>\n",
       "      <th>3</th>\n",
       "      <td>NaN</td>\n",
       "      <td>apt 1 789 s maple rd manhattan</td>\n",
       "    </tr>\n",
       "    <tr>\n",
       "      <th>4</th>\n",
       "      <td>NaN</td>\n",
       "      <td>robie house, 789 north main street</td>\n",
       "    </tr>\n",
       "    <tr>\n",
       "      <th>5</th>\n",
       "      <td>NaN</td>\n",
       "      <td>1111 S Figueroa St, Los Angeles, CA 90015</td>\n",
       "    </tr>\n",
       "    <tr>\n",
       "      <th>6</th>\n",
       "      <td>NaN</td>\n",
       "      <td>(staples center) 1111 S Figueroa St, Los Angeles</td>\n",
       "    </tr>\n",
       "    <tr>\n",
       "      <th>7</th>\n",
       "      <td>NaN</td>\n",
       "      <td>hello</td>\n",
       "    </tr>\n",
       "  </tbody>\n",
       "</table>\n",
       "</div>"
      ],
      "text/plain": [
       "  codicefiscale_clean                                           address\n",
       "0    RCCMNL83S18D969H                                     123 Pine Ave.\n",
       "1                 NaN                                           main st\n",
       "2                 NaN                      1234 west main heights 57033\n",
       "3                 NaN                    apt 1 789 s maple rd manhattan\n",
       "4                 NaN                robie house, 789 north main street\n",
       "5                 NaN         1111 S Figueroa St, Los Angeles, CA 90015\n",
       "6                 NaN  (staples center) 1111 S Figueroa St, Los Angeles\n",
       "7                 NaN                                             hello"
      ]
     },
     "execution_count": 1,
     "metadata": {},
     "output_type": "execute_result"
    }
   ],
   "source": [
    "clean_it_codicefiscale(df, column=\"codicefiscale\", inplace=True)"
   ]
  },
  {
   "cell_type": "markdown",
   "id": "eastern-bradley",
   "metadata": {},
   "source": [
    "## 4. `errors` parameter"
   ]
  },
  {
   "cell_type": "markdown",
   "id": "atlantic-charter",
   "metadata": {},
   "source": [
    "### `coerce` (default)"
   ]
  },
  {
   "cell_type": "code",
   "execution_count": 8,
   "id": "toxic-producer",
   "metadata": {
    "execution": {
     "iopub.execute_input": "2021-10-26T23:40:00.078458Z",
     "iopub.status.busy": "2021-10-26T23:40:00.077759Z",
     "iopub.status.idle": "2021-10-26T23:40:00.086363Z",
     "shell.execute_reply": "2021-10-26T23:40:00.086841Z"
    }
   },
   "outputs": [
    {
     "data": {
      "text/html": [
       "<div>\n",
       "<style scoped>\n",
       "    .dataframe tbody tr th:only-of-type {\n",
       "        vertical-align: middle;\n",
       "    }\n",
       "\n",
       "    .dataframe tbody tr th {\n",
       "        vertical-align: top;\n",
       "    }\n",
       "\n",
       "    .dataframe thead th {\n",
       "        text-align: right;\n",
       "    }\n",
       "</style>\n",
       "<table border=\"1\" class=\"dataframe\">\n",
       "  <thead>\n",
       "    <tr style=\"text-align: right;\">\n",
       "      <th></th>\n",
       "      <th>codicefiscale</th>\n",
       "      <th>address</th>\n",
       "      <th>codicefiscale_clean</th>\n",
       "    </tr>\n",
       "  </thead>\n",
       "  <tbody>\n",
       "    <tr>\n",
       "      <th>0</th>\n",
       "      <td>RCCMNL83S18D969H</td>\n",
       "      <td>123 Pine Ave.</td>\n",
       "      <td>RCCMNL83S18D969H</td>\n",
       "    </tr>\n",
       "    <tr>\n",
       "      <th>1</th>\n",
       "      <td>RCCMNL83S18D969</td>\n",
       "      <td>main st</td>\n",
       "      <td>NaN</td>\n",
       "    </tr>\n",
       "    <tr>\n",
       "      <th>2</th>\n",
       "      <td>7542011030</td>\n",
       "      <td>1234 west main heights 57033</td>\n",
       "      <td>NaN</td>\n",
       "    </tr>\n",
       "    <tr>\n",
       "      <th>3</th>\n",
       "      <td>7552A10004</td>\n",
       "      <td>apt 1 789 s maple rd manhattan</td>\n",
       "      <td>NaN</td>\n",
       "    </tr>\n",
       "    <tr>\n",
       "      <th>4</th>\n",
       "      <td>8019010008</td>\n",
       "      <td>robie house, 789 north main street</td>\n",
       "      <td>NaN</td>\n",
       "    </tr>\n",
       "    <tr>\n",
       "      <th>5</th>\n",
       "      <td>hello</td>\n",
       "      <td>1111 S Figueroa St, Los Angeles, CA 90015</td>\n",
       "      <td>NaN</td>\n",
       "    </tr>\n",
       "    <tr>\n",
       "      <th>6</th>\n",
       "      <td>NaN</td>\n",
       "      <td>(staples center) 1111 S Figueroa St, Los Angeles</td>\n",
       "      <td>NaN</td>\n",
       "    </tr>\n",
       "    <tr>\n",
       "      <th>7</th>\n",
       "      <td>NULL</td>\n",
       "      <td>hello</td>\n",
       "      <td>NaN</td>\n",
       "    </tr>\n",
       "  </tbody>\n",
       "</table>\n",
       "</div>"
      ],
      "text/plain": [
       "      codicefiscale                                           address  \\\n",
       "0  RCCMNL83S18D969H                                     123 Pine Ave.   \n",
       "1   RCCMNL83S18D969                                           main st   \n",
       "2        7542011030                      1234 west main heights 57033   \n",
       "3        7552A10004                    apt 1 789 s maple rd manhattan   \n",
       "4        8019010008                robie house, 789 north main street   \n",
       "5             hello         1111 S Figueroa St, Los Angeles, CA 90015   \n",
       "6               NaN  (staples center) 1111 S Figueroa St, Los Angeles   \n",
       "7              NULL                                             hello   \n",
       "\n",
       "  codicefiscale_clean  \n",
       "0    RCCMNL83S18D969H  \n",
       "1                 NaN  \n",
       "2                 NaN  \n",
       "3                 NaN  \n",
       "4                 NaN  \n",
       "5                 NaN  \n",
       "6                 NaN  \n",
       "7                 NaN  "
      ]
     },
     "execution_count": 1,
     "metadata": {},
     "output_type": "execute_result"
    }
   ],
   "source": [
    "clean_it_codicefiscale(df, \"codicefiscale\", errors=\"coerce\")"
   ]
  },
  {
   "cell_type": "markdown",
   "id": "extraordinary-calcium",
   "metadata": {},
   "source": [
    "### `ignore`"
   ]
  },
  {
   "cell_type": "code",
   "execution_count": 9,
   "id": "colored-candle",
   "metadata": {
    "execution": {
     "iopub.execute_input": "2021-10-26T23:40:00.116530Z",
     "iopub.status.busy": "2021-10-26T23:40:00.115932Z",
     "iopub.status.idle": "2021-10-26T23:40:00.127215Z",
     "shell.execute_reply": "2021-10-26T23:40:00.127832Z"
    }
   },
   "outputs": [
    {
     "data": {
      "text/html": [
       "<div>\n",
       "<style scoped>\n",
       "    .dataframe tbody tr th:only-of-type {\n",
       "        vertical-align: middle;\n",
       "    }\n",
       "\n",
       "    .dataframe tbody tr th {\n",
       "        vertical-align: top;\n",
       "    }\n",
       "\n",
       "    .dataframe thead th {\n",
       "        text-align: right;\n",
       "    }\n",
       "</style>\n",
       "<table border=\"1\" class=\"dataframe\">\n",
       "  <thead>\n",
       "    <tr style=\"text-align: right;\">\n",
       "      <th></th>\n",
       "      <th>codicefiscale</th>\n",
       "      <th>address</th>\n",
       "      <th>codicefiscale_clean</th>\n",
       "    </tr>\n",
       "  </thead>\n",
       "  <tbody>\n",
       "    <tr>\n",
       "      <th>0</th>\n",
       "      <td>RCCMNL83S18D969H</td>\n",
       "      <td>123 Pine Ave.</td>\n",
       "      <td>RCCMNL83S18D969H</td>\n",
       "    </tr>\n",
       "    <tr>\n",
       "      <th>1</th>\n",
       "      <td>RCCMNL83S18D969</td>\n",
       "      <td>main st</td>\n",
       "      <td>RCCMNL83S18D969</td>\n",
       "    </tr>\n",
       "    <tr>\n",
       "      <th>2</th>\n",
       "      <td>7542011030</td>\n",
       "      <td>1234 west main heights 57033</td>\n",
       "      <td>7542011030</td>\n",
       "    </tr>\n",
       "    <tr>\n",
       "      <th>3</th>\n",
       "      <td>7552A10004</td>\n",
       "      <td>apt 1 789 s maple rd manhattan</td>\n",
       "      <td>7552A10004</td>\n",
       "    </tr>\n",
       "    <tr>\n",
       "      <th>4</th>\n",
       "      <td>8019010008</td>\n",
       "      <td>robie house, 789 north main street</td>\n",
       "      <td>8019010008</td>\n",
       "    </tr>\n",
       "    <tr>\n",
       "      <th>5</th>\n",
       "      <td>hello</td>\n",
       "      <td>1111 S Figueroa St, Los Angeles, CA 90015</td>\n",
       "      <td>hello</td>\n",
       "    </tr>\n",
       "    <tr>\n",
       "      <th>6</th>\n",
       "      <td>NaN</td>\n",
       "      <td>(staples center) 1111 S Figueroa St, Los Angeles</td>\n",
       "      <td>NaN</td>\n",
       "    </tr>\n",
       "    <tr>\n",
       "      <th>7</th>\n",
       "      <td>NULL</td>\n",
       "      <td>hello</td>\n",
       "      <td>NaN</td>\n",
       "    </tr>\n",
       "  </tbody>\n",
       "</table>\n",
       "</div>"
      ],
      "text/plain": [
       "      codicefiscale                                           address  \\\n",
       "0  RCCMNL83S18D969H                                     123 Pine Ave.   \n",
       "1   RCCMNL83S18D969                                           main st   \n",
       "2        7542011030                      1234 west main heights 57033   \n",
       "3        7552A10004                    apt 1 789 s maple rd manhattan   \n",
       "4        8019010008                robie house, 789 north main street   \n",
       "5             hello         1111 S Figueroa St, Los Angeles, CA 90015   \n",
       "6               NaN  (staples center) 1111 S Figueroa St, Los Angeles   \n",
       "7              NULL                                             hello   \n",
       "\n",
       "  codicefiscale_clean  \n",
       "0    RCCMNL83S18D969H  \n",
       "1     RCCMNL83S18D969  \n",
       "2          7542011030  \n",
       "3          7552A10004  \n",
       "4          8019010008  \n",
       "5               hello  \n",
       "6                 NaN  \n",
       "7                 NaN  "
      ]
     },
     "execution_count": 1,
     "metadata": {},
     "output_type": "execute_result"
    }
   ],
   "source": [
    "clean_it_codicefiscale(df, \"codicefiscale\", errors=\"ignore\")"
   ]
  },
  {
   "cell_type": "markdown",
   "id": "derived-presence",
   "metadata": {},
   "source": [
    "## 4. `validate_it_codicefiscale()`"
   ]
  },
  {
   "cell_type": "markdown",
   "id": "experimental-network",
   "metadata": {},
   "source": [
    "`validate_it_codicefiscale()` returns `True` when the input is a valid Codice Fiscale. Otherwise it returns `False`.\n",
    "\n",
    "The input of `validate_it_codicefiscale()` can be a string, a Pandas DataSeries, a Dask DataSeries, a Pandas DataFrame and a dask DataFrame.\n",
    "\n",
    "When the input is a string, a Pandas DataSeries or a Dask DataSeries, user doesn't need to specify a column name to be validated. \n",
    "\n",
    "When the input is a Pandas DataFrame or a dask DataFrame, user can both specify or not specify a column name to be validated. If user specify the column name, `validate_it_codicefiscale()` only returns the validation result for the specified column. If user doesn't specify the column name, `validate_it_codicefiscale()` returns the validation result for the whole DataFrame."
   ]
  },
  {
   "cell_type": "code",
   "execution_count": 10,
   "id": "outer-ancient",
   "metadata": {
    "execution": {
     "iopub.execute_input": "2021-10-26T23:40:00.134969Z",
     "iopub.status.busy": "2021-10-26T23:40:00.134263Z",
     "iopub.status.idle": "2021-10-26T23:40:00.139224Z",
     "shell.execute_reply": "2021-10-26T23:40:00.138691Z"
    }
   },
   "outputs": [
    {
     "name": "stdout",
     "output_type": "stream",
     "text": [
      "True\n",
      "False\n",
      "False\n",
      "False\n",
      "False\n",
      "False\n",
      "False\n",
      "False\n"
     ]
    }
   ],
   "source": [
    "from dataprep.clean import validate_it_codicefiscale\n",
    "print(validate_it_codicefiscale('RCCMNL83S18D969H'))\n",
    "print(validate_it_codicefiscale('RCCMNL83S18D969'))\n",
    "print(validate_it_codicefiscale('7542011030'))\n",
    "print(validate_it_codicefiscale('7552A10004'))\n",
    "print(validate_it_codicefiscale('8019010008'))\n",
    "print(validate_it_codicefiscale(\"hello\"))\n",
    "print(validate_it_codicefiscale(np.nan))\n",
    "print(validate_it_codicefiscale(\"NULL\"))"
   ]
  },
  {
   "cell_type": "markdown",
   "id": "digital-highlight",
   "metadata": {},
   "source": [
    "### Series"
   ]
  },
  {
   "cell_type": "code",
   "execution_count": 11,
   "id": "special-surgeon",
   "metadata": {
    "execution": {
     "iopub.execute_input": "2021-10-26T23:40:00.145270Z",
     "iopub.status.busy": "2021-10-26T23:40:00.144456Z",
     "iopub.status.idle": "2021-10-26T23:40:00.151324Z",
     "shell.execute_reply": "2021-10-26T23:40:00.150187Z"
    }
   },
   "outputs": [
    {
     "data": {
      "text/plain": [
       "0     True\n",
       "1    False\n",
       "2    False\n",
       "3    False\n",
       "4    False\n",
       "5    False\n",
       "6    False\n",
       "7    False\n",
       "Name: codicefiscale, dtype: bool"
      ]
     },
     "execution_count": 1,
     "metadata": {},
     "output_type": "execute_result"
    }
   ],
   "source": [
    "validate_it_codicefiscale(df[\"codicefiscale\"])"
   ]
  },
  {
   "cell_type": "markdown",
   "id": "coastal-seattle",
   "metadata": {},
   "source": [
    "### DataFrame + Specify Column"
   ]
  },
  {
   "cell_type": "code",
   "execution_count": 12,
   "id": "considerable-quebec",
   "metadata": {
    "execution": {
     "iopub.execute_input": "2021-10-26T23:40:00.157283Z",
     "iopub.status.busy": "2021-10-26T23:40:00.156550Z",
     "iopub.status.idle": "2021-10-26T23:40:00.161363Z",
     "shell.execute_reply": "2021-10-26T23:40:00.161985Z"
    }
   },
   "outputs": [
    {
     "data": {
      "text/plain": [
       "0     True\n",
       "1    False\n",
       "2    False\n",
       "3    False\n",
       "4    False\n",
       "5    False\n",
       "6    False\n",
       "7    False\n",
       "Name: codicefiscale, dtype: bool"
      ]
     },
     "execution_count": 1,
     "metadata": {},
     "output_type": "execute_result"
    }
   ],
   "source": [
    "validate_it_codicefiscale(df, column=\"codicefiscale\")"
   ]
  },
  {
   "cell_type": "markdown",
   "id": "buried-sudan",
   "metadata": {},
   "source": [
    "### Only DataFrame"
   ]
  },
  {
   "cell_type": "code",
   "execution_count": 13,
   "id": "alien-jumping",
   "metadata": {
    "execution": {
     "iopub.execute_input": "2021-10-26T23:40:00.172444Z",
     "iopub.status.busy": "2021-10-26T23:40:00.166073Z",
     "iopub.status.idle": "2021-10-26T23:40:00.177646Z",
     "shell.execute_reply": "2021-10-26T23:40:00.178104Z"
    },
    "scrolled": true
   },
   "outputs": [
    {
     "data": {
      "text/html": [
       "<div>\n",
       "<style scoped>\n",
       "    .dataframe tbody tr th:only-of-type {\n",
       "        vertical-align: middle;\n",
       "    }\n",
       "\n",
       "    .dataframe tbody tr th {\n",
       "        vertical-align: top;\n",
       "    }\n",
       "\n",
       "    .dataframe thead th {\n",
       "        text-align: right;\n",
       "    }\n",
       "</style>\n",
       "<table border=\"1\" class=\"dataframe\">\n",
       "  <thead>\n",
       "    <tr style=\"text-align: right;\">\n",
       "      <th></th>\n",
       "      <th>codicefiscale</th>\n",
       "      <th>address</th>\n",
       "    </tr>\n",
       "  </thead>\n",
       "  <tbody>\n",
       "    <tr>\n",
       "      <th>0</th>\n",
       "      <td>True</td>\n",
       "      <td>False</td>\n",
       "    </tr>\n",
       "    <tr>\n",
       "      <th>1</th>\n",
       "      <td>False</td>\n",
       "      <td>False</td>\n",
       "    </tr>\n",
       "    <tr>\n",
       "      <th>2</th>\n",
       "      <td>False</td>\n",
       "      <td>False</td>\n",
       "    </tr>\n",
       "    <tr>\n",
       "      <th>3</th>\n",
       "      <td>False</td>\n",
       "      <td>False</td>\n",
       "    </tr>\n",
       "    <tr>\n",
       "      <th>4</th>\n",
       "      <td>False</td>\n",
       "      <td>False</td>\n",
       "    </tr>\n",
       "    <tr>\n",
       "      <th>5</th>\n",
       "      <td>False</td>\n",
       "      <td>False</td>\n",
       "    </tr>\n",
       "    <tr>\n",
       "      <th>6</th>\n",
       "      <td>False</td>\n",
       "      <td>False</td>\n",
       "    </tr>\n",
       "    <tr>\n",
       "      <th>7</th>\n",
       "      <td>False</td>\n",
       "      <td>False</td>\n",
       "    </tr>\n",
       "  </tbody>\n",
       "</table>\n",
       "</div>"
      ],
      "text/plain": [
       "   codicefiscale  address\n",
       "0           True    False\n",
       "1          False    False\n",
       "2          False    False\n",
       "3          False    False\n",
       "4          False    False\n",
       "5          False    False\n",
       "6          False    False\n",
       "7          False    False"
      ]
     },
     "execution_count": 1,
     "metadata": {},
     "output_type": "execute_result"
    }
   ],
   "source": [
    "validate_it_codicefiscale(df)"
   ]
  },
  {
   "cell_type": "code",
   "execution_count": null,
   "id": "excellent-cycling",
   "metadata": {},
   "outputs": [],
   "source": []
  }
 ],
 "metadata": {
  "kernelspec": {
   "display_name": "Python 3",
   "language": "python",
   "name": "python3"
  },
  "language_info": {
   "codemirror_mode": {
    "name": "ipython",
    "version": 3
   },
   "file_extension": ".py",
   "mimetype": "text/x-python",
   "name": "python",
   "nbconvert_exporter": "python",
   "pygments_lexer": "ipython3",
   "version": "3.8.10"
  }
 },
 "nbformat": 4,
 "nbformat_minor": 5
}
