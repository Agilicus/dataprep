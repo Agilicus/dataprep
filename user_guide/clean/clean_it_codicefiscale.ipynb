{
 "cells": [
  {
   "cell_type": "raw",
   "id": "christian-sleep",
   "metadata": {},
   "source": [
    ".. _codicefiscale_userguide:\n",
    "\n",
    "Italian Fiscal Codes\n",
    "===================="
   ]
  },
  {
   "cell_type": "raw",
   "id": "experimental-acrobat",
   "metadata": {},
   "source": [
    "Introduction\n",
    "------------\n",
    "\n",
    "The function :func:`clean_it_codicefiscale() <dataprep.clean.clean_it_codicefiscale.clean_it_codicefiscale>` cleans a column containing Italian fiscal codes (Codice Fiscale) strings, and standardizes them in a given format. The function :func:`validate_it_codicefiscale() <dataprep.clean.clean_it_codicefiscale.validate_it_codicefiscale>` validates either a single Codice Fiscale strings, a column of Codice Fiscale strings or a DataFrame of Codice Fiscale strings, returning `True` if the value is valid, and `False` otherwise."
   ]
  },
  {
   "cell_type": "markdown",
   "id": "governing-short",
   "metadata": {},
   "source": [
    "Codice Fiscale strings can be converted to the following formats via the `output_format` parameter:\n",
    "\n",
    "* `compact`: only number strings without any seperators or whitespace, like \"RCCMNL83S18D969H\"\n",
    "* `standard`: Codice Fiscale strings with proper whitespace in the proper places. Note that in the case of Codice Fiscale, the compact format is the same as the standard one.\n",
    "* `birthdate`: split the date parts from the number and return the birth date, like \"1875-03-16\".\n",
    "* `gender`: get the person's birth gender ('M' or 'F').\n",
    "\n",
    "Invalid parsing is handled with the `errors` parameter:\n",
    "\n",
    "* `coerce` (default): invalid parsing will be set to NaN\n",
    "* `ignore`: invalid parsing will return the input\n",
    "* `raise`: invalid parsing will raise an exception\n",
    "\n",
    "The following sections demonstrate the functionality of `clean_it_codicefiscale()` and `validate_it_codicefiscale()`. "
   ]
  },
  {
   "cell_type": "markdown",
   "id": "blind-ridge",
   "metadata": {},
   "source": [
    "### An example dataset containing Codice Fiscale strings"
   ]
  },
  {
   "cell_type": "code",
   "execution_count": 1,
   "id": "silent-south",
   "metadata": {
    "execution": {
     "iopub.execute_input": "2021-11-01T18:54:40.857617Z",
     "iopub.status.busy": "2021-11-01T18:54:40.857008Z",
     "iopub.status.idle": "2021-11-01T18:54:41.158791Z",
     "shell.execute_reply": "2021-11-01T18:54:41.159283Z"
    }
   },
   "outputs": [
    {
     "data": {
      "text/html": [
       "<div>\n",
       "<style scoped>\n",
       "    .dataframe tbody tr th:only-of-type {\n",
       "        vertical-align: middle;\n",
       "    }\n",
       "\n",
       "    .dataframe tbody tr th {\n",
       "        vertical-align: top;\n",
       "    }\n",
       "\n",
       "    .dataframe thead th {\n",
       "        text-align: right;\n",
       "    }\n",
       "</style>\n",
       "<table border=\"1\" class=\"dataframe\">\n",
       "  <thead>\n",
       "    <tr style=\"text-align: right;\">\n",
       "      <th></th>\n",
       "      <th>codicefiscale</th>\n",
       "      <th>address</th>\n",
       "    </tr>\n",
       "  </thead>\n",
       "  <tbody>\n",
       "    <tr>\n",
       "      <th>0</th>\n",
       "      <td>RCCMNL83S18D969H</td>\n",
       "      <td>123 Pine Ave.</td>\n",
       "    </tr>\n",
       "    <tr>\n",
       "      <th>1</th>\n",
       "      <td>RCCMNL83S18D969</td>\n",
       "      <td>main st</td>\n",
       "    </tr>\n",
       "    <tr>\n",
       "      <th>2</th>\n",
       "      <td>7542011030</td>\n",
       "      <td>1234 west main heights 57033</td>\n",
       "    </tr>\n",
       "    <tr>\n",
       "      <th>3</th>\n",
       "      <td>7552A10004</td>\n",
       "      <td>apt 1 789 s maple rd manhattan</td>\n",
       "    </tr>\n",
       "    <tr>\n",
       "      <th>4</th>\n",
       "      <td>8019010008</td>\n",
       "      <td>robie house, 789 north main street</td>\n",
       "    </tr>\n",
       "    <tr>\n",
       "      <th>5</th>\n",
       "      <td>hello</td>\n",
       "      <td>1111 S Figueroa St, Los Angeles, CA 90015</td>\n",
       "    </tr>\n",
       "    <tr>\n",
       "      <th>6</th>\n",
       "      <td>NaN</td>\n",
       "      <td>(staples center) 1111 S Figueroa St, Los Angeles</td>\n",
       "    </tr>\n",
       "    <tr>\n",
       "      <th>7</th>\n",
       "      <td>NULL</td>\n",
       "      <td>hello</td>\n",
       "    </tr>\n",
       "  </tbody>\n",
       "</table>\n",
       "</div>"
      ],
      "text/plain": [
       "      codicefiscale                                           address\n",
       "0  RCCMNL83S18D969H                                     123 Pine Ave.\n",
       "1   RCCMNL83S18D969                                           main st\n",
       "2        7542011030                      1234 west main heights 57033\n",
       "3        7552A10004                    apt 1 789 s maple rd manhattan\n",
       "4        8019010008                robie house, 789 north main street\n",
       "5             hello         1111 S Figueroa St, Los Angeles, CA 90015\n",
       "6               NaN  (staples center) 1111 S Figueroa St, Los Angeles\n",
       "7              NULL                                             hello"
      ]
     },
     "execution_count": 1,
     "metadata": {},
     "output_type": "execute_result"
    }
   ],
   "source": [
    "import pandas as pd\n",
    "import numpy as np\n",
    "df = pd.DataFrame(\n",
    "    {\n",
    "        \"codicefiscale\": [\n",
    "            'RCCMNL83S18D969H',\n",
    "            'RCCMNL83S18D969',\n",
    "            '7542011030',\n",
    "            '7552A10004',\n",
    "            '8019010008',\n",
    "            \"hello\",\n",
    "            np.nan,\n",
    "            \"NULL\",\n",
    "        ], \n",
    "        \"address\": [\n",
    "            \"123 Pine Ave.\",\n",
    "            \"main st\",\n",
    "            \"1234 west main heights 57033\",\n",
    "            \"apt 1 789 s maple rd manhattan\",\n",
    "            \"robie house, 789 north main street\",\n",
    "            \"1111 S Figueroa St, Los Angeles, CA 90015\",\n",
    "            \"(staples center) 1111 S Figueroa St, Los Angeles\",\n",
    "            \"hello\",\n",
    "        ]\n",
    "    }\n",
    ")\n",
    "df"
   ]
  },
  {
   "cell_type": "markdown",
   "id": "shared-climate",
   "metadata": {},
   "source": [
    "## 1. Default `clean_it_codicefiscale`\n",
    "\n",
    "By default, `clean_it_codicefiscale` will clean codicefiscale strings and output them in the standard format with proper separators."
   ]
  },
  {
   "cell_type": "code",
   "execution_count": 2,
   "id": "twelve-gibraltar",
   "metadata": {
    "execution": {
     "iopub.execute_input": "2021-11-01T18:54:41.164274Z",
     "iopub.status.busy": "2021-11-01T18:54:41.163632Z",
     "iopub.status.idle": "2021-11-01T18:54:41.911318Z",
     "shell.execute_reply": "2021-11-01T18:54:41.910660Z"
    }
   },
   "outputs": [
    {
     "data": {
      "text/html": [
       "<div>\n",
       "<style scoped>\n",
       "    .dataframe tbody tr th:only-of-type {\n",
       "        vertical-align: middle;\n",
       "    }\n",
       "\n",
       "    .dataframe tbody tr th {\n",
       "        vertical-align: top;\n",
       "    }\n",
       "\n",
       "    .dataframe thead th {\n",
       "        text-align: right;\n",
       "    }\n",
       "</style>\n",
       "<table border=\"1\" class=\"dataframe\">\n",
       "  <thead>\n",
       "    <tr style=\"text-align: right;\">\n",
       "      <th></th>\n",
       "      <th>codicefiscale</th>\n",
       "      <th>address</th>\n",
       "      <th>codicefiscale_clean</th>\n",
       "    </tr>\n",
       "  </thead>\n",
       "  <tbody>\n",
       "    <tr>\n",
       "      <th>0</th>\n",
       "      <td>RCCMNL83S18D969H</td>\n",
       "      <td>123 Pine Ave.</td>\n",
       "      <td>RCCMNL83S18D969H</td>\n",
       "    </tr>\n",
       "    <tr>\n",
       "      <th>1</th>\n",
       "      <td>RCCMNL83S18D969</td>\n",
       "      <td>main st</td>\n",
       "      <td>NaN</td>\n",
       "    </tr>\n",
       "    <tr>\n",
       "      <th>2</th>\n",
       "      <td>7542011030</td>\n",
       "      <td>1234 west main heights 57033</td>\n",
       "      <td>NaN</td>\n",
       "    </tr>\n",
       "    <tr>\n",
       "      <th>3</th>\n",
       "      <td>7552A10004</td>\n",
       "      <td>apt 1 789 s maple rd manhattan</td>\n",
       "      <td>NaN</td>\n",
       "    </tr>\n",
       "    <tr>\n",
       "      <th>4</th>\n",
       "      <td>8019010008</td>\n",
       "      <td>robie house, 789 north main street</td>\n",
       "      <td>NaN</td>\n",
       "    </tr>\n",
       "    <tr>\n",
       "      <th>5</th>\n",
       "      <td>hello</td>\n",
       "      <td>1111 S Figueroa St, Los Angeles, CA 90015</td>\n",
       "      <td>NaN</td>\n",
       "    </tr>\n",
       "    <tr>\n",
       "      <th>6</th>\n",
       "      <td>NaN</td>\n",
       "      <td>(staples center) 1111 S Figueroa St, Los Angeles</td>\n",
       "      <td>NaN</td>\n",
       "    </tr>\n",
       "    <tr>\n",
       "      <th>7</th>\n",
       "      <td>NULL</td>\n",
       "      <td>hello</td>\n",
       "      <td>NaN</td>\n",
       "    </tr>\n",
       "  </tbody>\n",
       "</table>\n",
       "</div>"
      ],
      "text/plain": [
       "      codicefiscale                                           address  \\\n",
       "0  RCCMNL83S18D969H                                     123 Pine Ave.   \n",
       "1   RCCMNL83S18D969                                           main st   \n",
       "2        7542011030                      1234 west main heights 57033   \n",
       "3        7552A10004                    apt 1 789 s maple rd manhattan   \n",
       "4        8019010008                robie house, 789 north main street   \n",
       "5             hello         1111 S Figueroa St, Los Angeles, CA 90015   \n",
       "6               NaN  (staples center) 1111 S Figueroa St, Los Angeles   \n",
       "7              NULL                                             hello   \n",
       "\n",
       "  codicefiscale_clean  \n",
       "0    RCCMNL83S18D969H  \n",
       "1                 NaN  \n",
       "2                 NaN  \n",
       "3                 NaN  \n",
       "4                 NaN  \n",
       "5                 NaN  \n",
       "6                 NaN  \n",
       "7                 NaN  "
      ]
     },
     "execution_count": 1,
     "metadata": {},
     "output_type": "execute_result"
    }
   ],
   "source": [
    "from dataprep.clean import clean_it_codicefiscale\n",
    "clean_it_codicefiscale(df, column = \"codicefiscale\")"
   ]
  },
  {
   "cell_type": "markdown",
   "id": "dedicated-banks",
   "metadata": {},
   "source": [
    "## 2. Output formats"
   ]
  },
  {
   "cell_type": "markdown",
   "id": "brilliant-constant",
   "metadata": {},
   "source": [
    "This section demonstrates the output parameter."
   ]
  },
  {
   "cell_type": "markdown",
   "id": "reserved-actor",
   "metadata": {},
   "source": [
    "### `standard` (default)"
   ]
  },
  {
   "cell_type": "code",
   "execution_count": 3,
   "id": "reliable-profit",
   "metadata": {
    "execution": {
     "iopub.execute_input": "2021-11-01T18:54:41.941770Z",
     "iopub.status.busy": "2021-11-01T18:54:41.941037Z",
     "iopub.status.idle": "2021-11-01T18:54:41.953408Z",
     "shell.execute_reply": "2021-11-01T18:54:41.953917Z"
    }
   },
   "outputs": [
    {
     "data": {
      "text/html": [
       "<div>\n",
       "<style scoped>\n",
       "    .dataframe tbody tr th:only-of-type {\n",
       "        vertical-align: middle;\n",
       "    }\n",
       "\n",
       "    .dataframe tbody tr th {\n",
       "        vertical-align: top;\n",
       "    }\n",
       "\n",
       "    .dataframe thead th {\n",
       "        text-align: right;\n",
       "    }\n",
       "</style>\n",
       "<table border=\"1\" class=\"dataframe\">\n",
       "  <thead>\n",
       "    <tr style=\"text-align: right;\">\n",
       "      <th></th>\n",
       "      <th>codicefiscale</th>\n",
       "      <th>address</th>\n",
       "      <th>codicefiscale_clean</th>\n",
       "    </tr>\n",
       "  </thead>\n",
       "  <tbody>\n",
       "    <tr>\n",
       "      <th>0</th>\n",
       "      <td>RCCMNL83S18D969H</td>\n",
       "      <td>123 Pine Ave.</td>\n",
       "      <td>RCCMNL83S18D969H</td>\n",
       "    </tr>\n",
       "    <tr>\n",
       "      <th>1</th>\n",
       "      <td>RCCMNL83S18D969</td>\n",
       "      <td>main st</td>\n",
       "      <td>NaN</td>\n",
       "    </tr>\n",
       "    <tr>\n",
       "      <th>2</th>\n",
       "      <td>7542011030</td>\n",
       "      <td>1234 west main heights 57033</td>\n",
       "      <td>NaN</td>\n",
       "    </tr>\n",
       "    <tr>\n",
       "      <th>3</th>\n",
       "      <td>7552A10004</td>\n",
       "      <td>apt 1 789 s maple rd manhattan</td>\n",
       "      <td>NaN</td>\n",
       "    </tr>\n",
       "    <tr>\n",
       "      <th>4</th>\n",
       "      <td>8019010008</td>\n",
       "      <td>robie house, 789 north main street</td>\n",
       "      <td>NaN</td>\n",
       "    </tr>\n",
       "    <tr>\n",
       "      <th>5</th>\n",
       "      <td>hello</td>\n",
       "      <td>1111 S Figueroa St, Los Angeles, CA 90015</td>\n",
       "      <td>NaN</td>\n",
       "    </tr>\n",
       "    <tr>\n",
       "      <th>6</th>\n",
       "      <td>NaN</td>\n",
       "      <td>(staples center) 1111 S Figueroa St, Los Angeles</td>\n",
       "      <td>NaN</td>\n",
       "    </tr>\n",
       "    <tr>\n",
       "      <th>7</th>\n",
       "      <td>NULL</td>\n",
       "      <td>hello</td>\n",
       "      <td>NaN</td>\n",
       "    </tr>\n",
       "  </tbody>\n",
       "</table>\n",
       "</div>"
      ],
      "text/plain": [
       "      codicefiscale                                           address  \\\n",
       "0  RCCMNL83S18D969H                                     123 Pine Ave.   \n",
       "1   RCCMNL83S18D969                                           main st   \n",
       "2        7542011030                      1234 west main heights 57033   \n",
       "3        7552A10004                    apt 1 789 s maple rd manhattan   \n",
       "4        8019010008                robie house, 789 north main street   \n",
       "5             hello         1111 S Figueroa St, Los Angeles, CA 90015   \n",
       "6               NaN  (staples center) 1111 S Figueroa St, Los Angeles   \n",
       "7              NULL                                             hello   \n",
       "\n",
       "  codicefiscale_clean  \n",
       "0    RCCMNL83S18D969H  \n",
       "1                 NaN  \n",
       "2                 NaN  \n",
       "3                 NaN  \n",
       "4                 NaN  \n",
       "5                 NaN  \n",
       "6                 NaN  \n",
       "7                 NaN  "
      ]
     },
     "execution_count": 1,
     "metadata": {},
     "output_type": "execute_result"
    }
   ],
   "source": [
    "clean_it_codicefiscale(df, column = \"codicefiscale\", output_format=\"standard\")"
   ]
  },
  {
   "cell_type": "markdown",
   "id": "prerequisite-declaration",
   "metadata": {},
   "source": [
    "### `compact`"
   ]
  },
  {
   "cell_type": "code",
   "execution_count": 4,
   "id": "caroline-ground",
   "metadata": {
    "execution": {
     "iopub.execute_input": "2021-11-01T18:54:41.983569Z",
     "iopub.status.busy": "2021-11-01T18:54:41.981957Z",
     "iopub.status.idle": "2021-11-01T18:54:41.993470Z",
     "shell.execute_reply": "2021-11-01T18:54:41.992847Z"
    }
   },
   "outputs": [
    {
     "data": {
      "text/html": [
       "<div>\n",
       "<style scoped>\n",
       "    .dataframe tbody tr th:only-of-type {\n",
       "        vertical-align: middle;\n",
       "    }\n",
       "\n",
       "    .dataframe tbody tr th {\n",
       "        vertical-align: top;\n",
       "    }\n",
       "\n",
       "    .dataframe thead th {\n",
       "        text-align: right;\n",
       "    }\n",
       "</style>\n",
       "<table border=\"1\" class=\"dataframe\">\n",
       "  <thead>\n",
       "    <tr style=\"text-align: right;\">\n",
       "      <th></th>\n",
       "      <th>codicefiscale</th>\n",
       "      <th>address</th>\n",
       "      <th>codicefiscale_clean</th>\n",
       "    </tr>\n",
       "  </thead>\n",
       "  <tbody>\n",
       "    <tr>\n",
       "      <th>0</th>\n",
       "      <td>RCCMNL83S18D969H</td>\n",
       "      <td>123 Pine Ave.</td>\n",
       "      <td>RCCMNL83S18D969H</td>\n",
       "    </tr>\n",
       "    <tr>\n",
       "      <th>1</th>\n",
       "      <td>RCCMNL83S18D969</td>\n",
       "      <td>main st</td>\n",
       "      <td>NaN</td>\n",
       "    </tr>\n",
       "    <tr>\n",
       "      <th>2</th>\n",
       "      <td>7542011030</td>\n",
       "      <td>1234 west main heights 57033</td>\n",
       "      <td>NaN</td>\n",
       "    </tr>\n",
       "    <tr>\n",
       "      <th>3</th>\n",
       "      <td>7552A10004</td>\n",
       "      <td>apt 1 789 s maple rd manhattan</td>\n",
       "      <td>NaN</td>\n",
       "    </tr>\n",
       "    <tr>\n",
       "      <th>4</th>\n",
       "      <td>8019010008</td>\n",
       "      <td>robie house, 789 north main street</td>\n",
       "      <td>NaN</td>\n",
       "    </tr>\n",
       "    <tr>\n",
       "      <th>5</th>\n",
       "      <td>hello</td>\n",
       "      <td>1111 S Figueroa St, Los Angeles, CA 90015</td>\n",
       "      <td>NaN</td>\n",
       "    </tr>\n",
       "    <tr>\n",
       "      <th>6</th>\n",
       "      <td>NaN</td>\n",
       "      <td>(staples center) 1111 S Figueroa St, Los Angeles</td>\n",
       "      <td>NaN</td>\n",
       "    </tr>\n",
       "    <tr>\n",
       "      <th>7</th>\n",
       "      <td>NULL</td>\n",
       "      <td>hello</td>\n",
       "      <td>NaN</td>\n",
       "    </tr>\n",
       "  </tbody>\n",
       "</table>\n",
       "</div>"
      ],
      "text/plain": [
       "      codicefiscale                                           address  \\\n",
       "0  RCCMNL83S18D969H                                     123 Pine Ave.   \n",
       "1   RCCMNL83S18D969                                           main st   \n",
       "2        7542011030                      1234 west main heights 57033   \n",
       "3        7552A10004                    apt 1 789 s maple rd manhattan   \n",
       "4        8019010008                robie house, 789 north main street   \n",
       "5             hello         1111 S Figueroa St, Los Angeles, CA 90015   \n",
       "6               NaN  (staples center) 1111 S Figueroa St, Los Angeles   \n",
       "7              NULL                                             hello   \n",
       "\n",
       "  codicefiscale_clean  \n",
       "0    RCCMNL83S18D969H  \n",
       "1                 NaN  \n",
       "2                 NaN  \n",
       "3                 NaN  \n",
       "4                 NaN  \n",
       "5                 NaN  \n",
       "6                 NaN  \n",
       "7                 NaN  "
      ]
     },
     "execution_count": 1,
     "metadata": {},
     "output_type": "execute_result"
    }
   ],
   "source": [
    "clean_it_codicefiscale(df, column = \"codicefiscale\", output_format=\"compact\")"
   ]
  },
  {
   "cell_type": "markdown",
   "id": "short-blend",
   "metadata": {},
   "source": [
    "### `birthdate`"
   ]
  },
  {
   "cell_type": "code",
   "execution_count": 5,
   "id": "elementary-theta",
   "metadata": {
    "execution": {
     "iopub.execute_input": "2021-11-01T18:54:42.029441Z",
     "iopub.status.busy": "2021-11-01T18:54:42.028775Z",
     "iopub.status.idle": "2021-11-01T18:54:42.035028Z",
     "shell.execute_reply": "2021-11-01T18:54:42.034481Z"
    }
   },
   "outputs": [
    {
     "data": {
      "text/html": [
       "<div>\n",
       "<style scoped>\n",
       "    .dataframe tbody tr th:only-of-type {\n",
       "        vertical-align: middle;\n",
       "    }\n",
       "\n",
       "    .dataframe tbody tr th {\n",
       "        vertical-align: top;\n",
       "    }\n",
       "\n",
       "    .dataframe thead th {\n",
       "        text-align: right;\n",
       "    }\n",
       "</style>\n",
       "<table border=\"1\" class=\"dataframe\">\n",
       "  <thead>\n",
       "    <tr style=\"text-align: right;\">\n",
       "      <th></th>\n",
       "      <th>codicefiscale</th>\n",
       "      <th>address</th>\n",
       "      <th>codicefiscale_clean</th>\n",
       "    </tr>\n",
       "  </thead>\n",
       "  <tbody>\n",
       "    <tr>\n",
       "      <th>0</th>\n",
       "      <td>RCCMNL83S18D969H</td>\n",
       "      <td>123 Pine Ave.</td>\n",
       "      <td>1983-11-18</td>\n",
       "    </tr>\n",
       "    <tr>\n",
       "      <th>1</th>\n",
       "      <td>RCCMNL83S18D969</td>\n",
       "      <td>main st</td>\n",
       "      <td>NaN</td>\n",
       "    </tr>\n",
       "    <tr>\n",
       "      <th>2</th>\n",
       "      <td>7542011030</td>\n",
       "      <td>1234 west main heights 57033</td>\n",
       "      <td>NaN</td>\n",
       "    </tr>\n",
       "    <tr>\n",
       "      <th>3</th>\n",
       "      <td>7552A10004</td>\n",
       "      <td>apt 1 789 s maple rd manhattan</td>\n",
       "      <td>NaN</td>\n",
       "    </tr>\n",
       "    <tr>\n",
       "      <th>4</th>\n",
       "      <td>8019010008</td>\n",
       "      <td>robie house, 789 north main street</td>\n",
       "      <td>NaN</td>\n",
       "    </tr>\n",
       "    <tr>\n",
       "      <th>5</th>\n",
       "      <td>hello</td>\n",
       "      <td>1111 S Figueroa St, Los Angeles, CA 90015</td>\n",
       "      <td>NaN</td>\n",
       "    </tr>\n",
       "    <tr>\n",
       "      <th>6</th>\n",
       "      <td>NaN</td>\n",
       "      <td>(staples center) 1111 S Figueroa St, Los Angeles</td>\n",
       "      <td>NaN</td>\n",
       "    </tr>\n",
       "    <tr>\n",
       "      <th>7</th>\n",
       "      <td>NULL</td>\n",
       "      <td>hello</td>\n",
       "      <td>NaN</td>\n",
       "    </tr>\n",
       "  </tbody>\n",
       "</table>\n",
       "</div>"
      ],
      "text/plain": [
       "      codicefiscale                                           address  \\\n",
       "0  RCCMNL83S18D969H                                     123 Pine Ave.   \n",
       "1   RCCMNL83S18D969                                           main st   \n",
       "2        7542011030                      1234 west main heights 57033   \n",
       "3        7552A10004                    apt 1 789 s maple rd manhattan   \n",
       "4        8019010008                robie house, 789 north main street   \n",
       "5             hello         1111 S Figueroa St, Los Angeles, CA 90015   \n",
       "6               NaN  (staples center) 1111 S Figueroa St, Los Angeles   \n",
       "7              NULL                                             hello   \n",
       "\n",
       "  codicefiscale_clean  \n",
       "0          1983-11-18  \n",
       "1                 NaN  \n",
       "2                 NaN  \n",
       "3                 NaN  \n",
       "4                 NaN  \n",
       "5                 NaN  \n",
       "6                 NaN  \n",
       "7                 NaN  "
      ]
     },
     "execution_count": 1,
     "metadata": {},
     "output_type": "execute_result"
    }
   ],
   "source": [
    "clean_it_codicefiscale(df, column = \"codicefiscale\", output_format=\"birthdate\")"
   ]
  },
  {
   "cell_type": "markdown",
   "id": "caroline-bruce",
   "metadata": {},
   "source": [
    "### `gender`"
   ]
  },
  {
   "cell_type": "code",
   "execution_count": 6,
   "id": "stone-integer",
   "metadata": {
    "execution": {
     "iopub.execute_input": "2021-11-01T18:54:42.065418Z",
     "iopub.status.busy": "2021-11-01T18:54:42.061523Z",
     "iopub.status.idle": "2021-11-01T18:54:42.075294Z",
     "shell.execute_reply": "2021-11-01T18:54:42.074771Z"
    }
   },
   "outputs": [
    {
     "data": {
      "text/html": [
       "<div>\n",
       "<style scoped>\n",
       "    .dataframe tbody tr th:only-of-type {\n",
       "        vertical-align: middle;\n",
       "    }\n",
       "\n",
       "    .dataframe tbody tr th {\n",
       "        vertical-align: top;\n",
       "    }\n",
       "\n",
       "    .dataframe thead th {\n",
       "        text-align: right;\n",
       "    }\n",
       "</style>\n",
       "<table border=\"1\" class=\"dataframe\">\n",
       "  <thead>\n",
       "    <tr style=\"text-align: right;\">\n",
       "      <th></th>\n",
       "      <th>codicefiscale</th>\n",
       "      <th>address</th>\n",
       "      <th>codicefiscale_clean</th>\n",
       "    </tr>\n",
       "  </thead>\n",
       "  <tbody>\n",
       "    <tr>\n",
       "      <th>0</th>\n",
       "      <td>RCCMNL83S18D969H</td>\n",
       "      <td>123 Pine Ave.</td>\n",
       "      <td>M</td>\n",
       "    </tr>\n",
       "    <tr>\n",
       "      <th>1</th>\n",
       "      <td>RCCMNL83S18D969</td>\n",
       "      <td>main st</td>\n",
       "      <td>NaN</td>\n",
       "    </tr>\n",
       "    <tr>\n",
       "      <th>2</th>\n",
       "      <td>7542011030</td>\n",
       "      <td>1234 west main heights 57033</td>\n",
       "      <td>NaN</td>\n",
       "    </tr>\n",
       "    <tr>\n",
       "      <th>3</th>\n",
       "      <td>7552A10004</td>\n",
       "      <td>apt 1 789 s maple rd manhattan</td>\n",
       "      <td>NaN</td>\n",
       "    </tr>\n",
       "    <tr>\n",
       "      <th>4</th>\n",
       "      <td>8019010008</td>\n",
       "      <td>robie house, 789 north main street</td>\n",
       "      <td>NaN</td>\n",
       "    </tr>\n",
       "    <tr>\n",
       "      <th>5</th>\n",
       "      <td>hello</td>\n",
       "      <td>1111 S Figueroa St, Los Angeles, CA 90015</td>\n",
       "      <td>NaN</td>\n",
       "    </tr>\n",
       "    <tr>\n",
       "      <th>6</th>\n",
       "      <td>NaN</td>\n",
       "      <td>(staples center) 1111 S Figueroa St, Los Angeles</td>\n",
       "      <td>NaN</td>\n",
       "    </tr>\n",
       "    <tr>\n",
       "      <th>7</th>\n",
       "      <td>NULL</td>\n",
       "      <td>hello</td>\n",
       "      <td>NaN</td>\n",
       "    </tr>\n",
       "  </tbody>\n",
       "</table>\n",
       "</div>"
      ],
      "text/plain": [
       "      codicefiscale                                           address  \\\n",
       "0  RCCMNL83S18D969H                                     123 Pine Ave.   \n",
       "1   RCCMNL83S18D969                                           main st   \n",
       "2        7542011030                      1234 west main heights 57033   \n",
       "3        7552A10004                    apt 1 789 s maple rd manhattan   \n",
       "4        8019010008                robie house, 789 north main street   \n",
       "5             hello         1111 S Figueroa St, Los Angeles, CA 90015   \n",
       "6               NaN  (staples center) 1111 S Figueroa St, Los Angeles   \n",
       "7              NULL                                             hello   \n",
       "\n",
       "  codicefiscale_clean  \n",
       "0                   M  \n",
       "1                 NaN  \n",
       "2                 NaN  \n",
       "3                 NaN  \n",
       "4                 NaN  \n",
       "5                 NaN  \n",
       "6                 NaN  \n",
       "7                 NaN  "
      ]
     },
     "execution_count": 1,
     "metadata": {},
     "output_type": "execute_result"
    }
   ],
   "source": [
    "clean_it_codicefiscale(df, column = \"codicefiscale\", output_format=\"gender\")"
   ]
  },
  {
   "cell_type": "markdown",
   "id": "current-pathology",
   "metadata": {},
   "source": [
    "## 3. `inplace` parameter\n",
    "\n",
    "This deletes the given column from the returned DataFrame. \n",
    "A new column containing cleaned Codice Fiscale strings is added with a title in the format `\"{original title}_clean\"`."
   ]
  },
  {
   "cell_type": "code",
   "execution_count": 7,
   "id": "divine-winter",
   "metadata": {
    "execution": {
     "iopub.execute_input": "2021-11-01T18:54:42.109547Z",
     "iopub.status.busy": "2021-11-01T18:54:42.108896Z",
     "iopub.status.idle": "2021-11-01T18:54:42.124220Z",
     "shell.execute_reply": "2021-11-01T18:54:42.124759Z"
    }
   },
   "outputs": [
    {
     "data": {
      "text/html": [
       "<div>\n",
       "<style scoped>\n",
       "    .dataframe tbody tr th:only-of-type {\n",
       "        vertical-align: middle;\n",
       "    }\n",
       "\n",
       "    .dataframe tbody tr th {\n",
       "        vertical-align: top;\n",
       "    }\n",
       "\n",
       "    .dataframe thead th {\n",
       "        text-align: right;\n",
       "    }\n",
       "</style>\n",
       "<table border=\"1\" class=\"dataframe\">\n",
       "  <thead>\n",
       "    <tr style=\"text-align: right;\">\n",
       "      <th></th>\n",
       "      <th>codicefiscale_clean</th>\n",
       "      <th>address</th>\n",
       "    </tr>\n",
       "  </thead>\n",
       "  <tbody>\n",
       "    <tr>\n",
       "      <th>0</th>\n",
       "      <td>RCCMNL83S18D969H</td>\n",
       "      <td>123 Pine Ave.</td>\n",
       "    </tr>\n",
       "    <tr>\n",
       "      <th>1</th>\n",
       "      <td>NaN</td>\n",
       "      <td>main st</td>\n",
       "    </tr>\n",
       "    <tr>\n",
       "      <th>2</th>\n",
       "      <td>NaN</td>\n",
       "      <td>1234 west main heights 57033</td>\n",
       "    </tr>\n",
       "    <tr>\n",
       "      <th>3</th>\n",
       "      <td>NaN</td>\n",
       "      <td>apt 1 789 s maple rd manhattan</td>\n",
       "    </tr>\n",
       "    <tr>\n",
       "      <th>4</th>\n",
       "      <td>NaN</td>\n",
       "      <td>robie house, 789 north main street</td>\n",
       "    </tr>\n",
       "    <tr>\n",
       "      <th>5</th>\n",
       "      <td>NaN</td>\n",
       "      <td>1111 S Figueroa St, Los Angeles, CA 90015</td>\n",
       "    </tr>\n",
       "    <tr>\n",
       "      <th>6</th>\n",
       "      <td>NaN</td>\n",
       "      <td>(staples center) 1111 S Figueroa St, Los Angeles</td>\n",
       "    </tr>\n",
       "    <tr>\n",
       "      <th>7</th>\n",
       "      <td>NaN</td>\n",
       "      <td>hello</td>\n",
       "    </tr>\n",
       "  </tbody>\n",
       "</table>\n",
       "</div>"
      ],
      "text/plain": [
       "  codicefiscale_clean                                           address\n",
       "0    RCCMNL83S18D969H                                     123 Pine Ave.\n",
       "1                 NaN                                           main st\n",
       "2                 NaN                      1234 west main heights 57033\n",
       "3                 NaN                    apt 1 789 s maple rd manhattan\n",
       "4                 NaN                robie house, 789 north main street\n",
       "5                 NaN         1111 S Figueroa St, Los Angeles, CA 90015\n",
       "6                 NaN  (staples center) 1111 S Figueroa St, Los Angeles\n",
       "7                 NaN                                             hello"
      ]
     },
     "execution_count": 1,
     "metadata": {},
     "output_type": "execute_result"
    }
   ],
   "source": [
    "clean_it_codicefiscale(df, column=\"codicefiscale\", inplace=True)"
   ]
  },
  {
   "cell_type": "markdown",
   "id": "forbidden-bumper",
   "metadata": {},
   "source": [
    "## 4. `errors` parameter"
   ]
  },
  {
   "cell_type": "markdown",
   "id": "posted-saying",
   "metadata": {},
   "source": [
    "### `coerce` (default)"
   ]
  },
  {
   "cell_type": "code",
   "execution_count": 8,
   "id": "bizarre-plaza",
   "metadata": {
    "execution": {
     "iopub.execute_input": "2021-11-01T18:54:42.153544Z",
     "iopub.status.busy": "2021-11-01T18:54:42.152805Z",
     "iopub.status.idle": "2021-11-01T18:54:42.166313Z",
     "shell.execute_reply": "2021-11-01T18:54:42.165719Z"
    }
   },
   "outputs": [
    {
     "data": {
      "text/html": [
       "<div>\n",
       "<style scoped>\n",
       "    .dataframe tbody tr th:only-of-type {\n",
       "        vertical-align: middle;\n",
       "    }\n",
       "\n",
       "    .dataframe tbody tr th {\n",
       "        vertical-align: top;\n",
       "    }\n",
       "\n",
       "    .dataframe thead th {\n",
       "        text-align: right;\n",
       "    }\n",
       "</style>\n",
       "<table border=\"1\" class=\"dataframe\">\n",
       "  <thead>\n",
       "    <tr style=\"text-align: right;\">\n",
       "      <th></th>\n",
       "      <th>codicefiscale</th>\n",
       "      <th>address</th>\n",
       "      <th>codicefiscale_clean</th>\n",
       "    </tr>\n",
       "  </thead>\n",
       "  <tbody>\n",
       "    <tr>\n",
       "      <th>0</th>\n",
       "      <td>RCCMNL83S18D969H</td>\n",
       "      <td>123 Pine Ave.</td>\n",
       "      <td>RCCMNL83S18D969H</td>\n",
       "    </tr>\n",
       "    <tr>\n",
       "      <th>1</th>\n",
       "      <td>RCCMNL83S18D969</td>\n",
       "      <td>main st</td>\n",
       "      <td>NaN</td>\n",
       "    </tr>\n",
       "    <tr>\n",
       "      <th>2</th>\n",
       "      <td>7542011030</td>\n",
       "      <td>1234 west main heights 57033</td>\n",
       "      <td>NaN</td>\n",
       "    </tr>\n",
       "    <tr>\n",
       "      <th>3</th>\n",
       "      <td>7552A10004</td>\n",
       "      <td>apt 1 789 s maple rd manhattan</td>\n",
       "      <td>NaN</td>\n",
       "    </tr>\n",
       "    <tr>\n",
       "      <th>4</th>\n",
       "      <td>8019010008</td>\n",
       "      <td>robie house, 789 north main street</td>\n",
       "      <td>NaN</td>\n",
       "    </tr>\n",
       "    <tr>\n",
       "      <th>5</th>\n",
       "      <td>hello</td>\n",
       "      <td>1111 S Figueroa St, Los Angeles, CA 90015</td>\n",
       "      <td>NaN</td>\n",
       "    </tr>\n",
       "    <tr>\n",
       "      <th>6</th>\n",
       "      <td>NaN</td>\n",
       "      <td>(staples center) 1111 S Figueroa St, Los Angeles</td>\n",
       "      <td>NaN</td>\n",
       "    </tr>\n",
       "    <tr>\n",
       "      <th>7</th>\n",
       "      <td>NULL</td>\n",
       "      <td>hello</td>\n",
       "      <td>NaN</td>\n",
       "    </tr>\n",
       "  </tbody>\n",
       "</table>\n",
       "</div>"
      ],
      "text/plain": [
       "      codicefiscale                                           address  \\\n",
       "0  RCCMNL83S18D969H                                     123 Pine Ave.   \n",
       "1   RCCMNL83S18D969                                           main st   \n",
       "2        7542011030                      1234 west main heights 57033   \n",
       "3        7552A10004                    apt 1 789 s maple rd manhattan   \n",
       "4        8019010008                robie house, 789 north main street   \n",
       "5             hello         1111 S Figueroa St, Los Angeles, CA 90015   \n",
       "6               NaN  (staples center) 1111 S Figueroa St, Los Angeles   \n",
       "7              NULL                                             hello   \n",
       "\n",
       "  codicefiscale_clean  \n",
       "0    RCCMNL83S18D969H  \n",
       "1                 NaN  \n",
       "2                 NaN  \n",
       "3                 NaN  \n",
       "4                 NaN  \n",
       "5                 NaN  \n",
       "6                 NaN  \n",
       "7                 NaN  "
      ]
     },
     "execution_count": 1,
     "metadata": {},
     "output_type": "execute_result"
    }
   ],
   "source": [
    "clean_it_codicefiscale(df, \"codicefiscale\", errors=\"coerce\")"
   ]
  },
  {
   "cell_type": "markdown",
   "id": "organized-alignment",
   "metadata": {},
   "source": [
    "### `ignore`"
   ]
  },
  {
   "cell_type": "code",
   "execution_count": 9,
   "id": "acute-dallas",
   "metadata": {
    "execution": {
     "iopub.execute_input": "2021-11-01T18:54:42.196346Z",
     "iopub.status.busy": "2021-11-01T18:54:42.195509Z",
     "iopub.status.idle": "2021-11-01T18:54:42.205785Z",
     "shell.execute_reply": "2021-11-01T18:54:42.206305Z"
    }
   },
   "outputs": [
    {
     "data": {
      "text/html": [
       "<div>\n",
       "<style scoped>\n",
       "    .dataframe tbody tr th:only-of-type {\n",
       "        vertical-align: middle;\n",
       "    }\n",
       "\n",
       "    .dataframe tbody tr th {\n",
       "        vertical-align: top;\n",
       "    }\n",
       "\n",
       "    .dataframe thead th {\n",
       "        text-align: right;\n",
       "    }\n",
       "</style>\n",
       "<table border=\"1\" class=\"dataframe\">\n",
       "  <thead>\n",
       "    <tr style=\"text-align: right;\">\n",
       "      <th></th>\n",
       "      <th>codicefiscale</th>\n",
       "      <th>address</th>\n",
       "      <th>codicefiscale_clean</th>\n",
       "    </tr>\n",
       "  </thead>\n",
       "  <tbody>\n",
       "    <tr>\n",
       "      <th>0</th>\n",
       "      <td>RCCMNL83S18D969H</td>\n",
       "      <td>123 Pine Ave.</td>\n",
       "      <td>RCCMNL83S18D969H</td>\n",
       "    </tr>\n",
       "    <tr>\n",
       "      <th>1</th>\n",
       "      <td>RCCMNL83S18D969</td>\n",
       "      <td>main st</td>\n",
       "      <td>RCCMNL83S18D969</td>\n",
       "    </tr>\n",
       "    <tr>\n",
       "      <th>2</th>\n",
       "      <td>7542011030</td>\n",
       "      <td>1234 west main heights 57033</td>\n",
       "      <td>7542011030</td>\n",
       "    </tr>\n",
       "    <tr>\n",
       "      <th>3</th>\n",
       "      <td>7552A10004</td>\n",
       "      <td>apt 1 789 s maple rd manhattan</td>\n",
       "      <td>7552A10004</td>\n",
       "    </tr>\n",
       "    <tr>\n",
       "      <th>4</th>\n",
       "      <td>8019010008</td>\n",
       "      <td>robie house, 789 north main street</td>\n",
       "      <td>8019010008</td>\n",
       "    </tr>\n",
       "    <tr>\n",
       "      <th>5</th>\n",
       "      <td>hello</td>\n",
       "      <td>1111 S Figueroa St, Los Angeles, CA 90015</td>\n",
       "      <td>hello</td>\n",
       "    </tr>\n",
       "    <tr>\n",
       "      <th>6</th>\n",
       "      <td>NaN</td>\n",
       "      <td>(staples center) 1111 S Figueroa St, Los Angeles</td>\n",
       "      <td>NaN</td>\n",
       "    </tr>\n",
       "    <tr>\n",
       "      <th>7</th>\n",
       "      <td>NULL</td>\n",
       "      <td>hello</td>\n",
       "      <td>NaN</td>\n",
       "    </tr>\n",
       "  </tbody>\n",
       "</table>\n",
       "</div>"
      ],
      "text/plain": [
       "      codicefiscale                                           address  \\\n",
       "0  RCCMNL83S18D969H                                     123 Pine Ave.   \n",
       "1   RCCMNL83S18D969                                           main st   \n",
       "2        7542011030                      1234 west main heights 57033   \n",
       "3        7552A10004                    apt 1 789 s maple rd manhattan   \n",
       "4        8019010008                robie house, 789 north main street   \n",
       "5             hello         1111 S Figueroa St, Los Angeles, CA 90015   \n",
       "6               NaN  (staples center) 1111 S Figueroa St, Los Angeles   \n",
       "7              NULL                                             hello   \n",
       "\n",
       "  codicefiscale_clean  \n",
       "0    RCCMNL83S18D969H  \n",
       "1     RCCMNL83S18D969  \n",
       "2          7542011030  \n",
       "3          7552A10004  \n",
       "4          8019010008  \n",
       "5               hello  \n",
       "6                 NaN  \n",
       "7                 NaN  "
      ]
     },
     "execution_count": 1,
     "metadata": {},
     "output_type": "execute_result"
    }
   ],
   "source": [
    "clean_it_codicefiscale(df, \"codicefiscale\", errors=\"ignore\")"
   ]
  },
  {
   "cell_type": "markdown",
   "id": "welcome-yesterday",
   "metadata": {},
   "source": [
    "## 4. `validate_it_codicefiscale()`"
   ]
  },
  {
   "cell_type": "markdown",
   "id": "short-albuquerque",
   "metadata": {},
   "source": [
    "`validate_it_codicefiscale()` returns `True` when the input is a valid Codice Fiscale. Otherwise it returns `False`.\n",
    "\n",
    "The input of `validate_it_codicefiscale()` can be a string, a Pandas DataSeries, a Dask DataSeries, a Pandas DataFrame and a dask DataFrame.\n",
    "\n",
    "When the input is a string, a Pandas DataSeries or a Dask DataSeries, user doesn't need to specify a column name to be validated. \n",
    "\n",
    "When the input is a Pandas DataFrame or a dask DataFrame, user can both specify or not specify a column name to be validated. If user specify the column name, `validate_it_codicefiscale()` only returns the validation result for the specified column. If user doesn't specify the column name, `validate_it_codicefiscale()` returns the validation result for the whole DataFrame."
   ]
  },
  {
   "cell_type": "code",
   "execution_count": 10,
   "id": "played-christianity",
   "metadata": {
    "execution": {
     "iopub.execute_input": "2021-11-01T18:54:42.215017Z",
     "iopub.status.busy": "2021-11-01T18:54:42.213654Z",
     "iopub.status.idle": "2021-11-01T18:54:42.217387Z",
     "shell.execute_reply": "2021-11-01T18:54:42.216795Z"
    }
   },
   "outputs": [
    {
     "name": "stdout",
     "output_type": "stream",
     "text": [
      "True\n",
      "False\n",
      "False\n",
      "False\n",
      "False\n",
      "False\n",
      "False\n",
      "False\n"
     ]
    }
   ],
   "source": [
    "from dataprep.clean import validate_it_codicefiscale\n",
    "print(validate_it_codicefiscale('RCCMNL83S18D969H'))\n",
    "print(validate_it_codicefiscale('RCCMNL83S18D969'))\n",
    "print(validate_it_codicefiscale('7542011030'))\n",
    "print(validate_it_codicefiscale('7552A10004'))\n",
    "print(validate_it_codicefiscale('8019010008'))\n",
    "print(validate_it_codicefiscale(\"hello\"))\n",
    "print(validate_it_codicefiscale(np.nan))\n",
    "print(validate_it_codicefiscale(\"NULL\"))"
   ]
  },
  {
   "cell_type": "markdown",
   "id": "congressional-booth",
   "metadata": {},
   "source": [
    "### Series"
   ]
  },
  {
   "cell_type": "code",
   "execution_count": 11,
   "id": "subtle-operations",
   "metadata": {
    "execution": {
     "iopub.execute_input": "2021-11-01T18:54:42.224338Z",
     "iopub.status.busy": "2021-11-01T18:54:42.223244Z",
     "iopub.status.idle": "2021-11-01T18:54:42.226261Z",
     "shell.execute_reply": "2021-11-01T18:54:42.226784Z"
    }
   },
   "outputs": [
    {
     "data": {
      "text/plain": [
       "0     True\n",
       "1    False\n",
       "2    False\n",
       "3    False\n",
       "4    False\n",
       "5    False\n",
       "6    False\n",
       "7    False\n",
       "Name: codicefiscale, dtype: bool"
      ]
     },
     "execution_count": 1,
     "metadata": {},
     "output_type": "execute_result"
    }
   ],
   "source": [
    "validate_it_codicefiscale(df[\"codicefiscale\"])"
   ]
  },
  {
   "cell_type": "markdown",
   "id": "minus-controversy",
   "metadata": {},
   "source": [
    "### DataFrame + Specify Column"
   ]
  },
  {
   "cell_type": "code",
   "execution_count": 12,
   "id": "union-evaluation",
   "metadata": {
    "execution": {
     "iopub.execute_input": "2021-11-01T18:54:42.233766Z",
     "iopub.status.busy": "2021-11-01T18:54:42.232732Z",
     "iopub.status.idle": "2021-11-01T18:54:42.235702Z",
     "shell.execute_reply": "2021-11-01T18:54:42.236448Z"
    }
   },
   "outputs": [
    {
     "data": {
      "text/plain": [
       "0     True\n",
       "1    False\n",
       "2    False\n",
       "3    False\n",
       "4    False\n",
       "5    False\n",
       "6    False\n",
       "7    False\n",
       "Name: codicefiscale, dtype: bool"
      ]
     },
     "execution_count": 1,
     "metadata": {},
     "output_type": "execute_result"
    }
   ],
   "source": [
    "validate_it_codicefiscale(df, column=\"codicefiscale\")"
   ]
  },
  {
   "cell_type": "markdown",
   "id": "three-exclusive",
   "metadata": {},
   "source": [
    "### Only DataFrame"
   ]
  },
  {
   "cell_type": "code",
   "execution_count": 13,
   "id": "characteristic-fairy",
   "metadata": {
    "execution": {
     "iopub.execute_input": "2021-11-01T18:54:42.240638Z",
     "iopub.status.busy": "2021-11-01T18:54:42.240065Z",
     "iopub.status.idle": "2021-11-01T18:54:42.249324Z",
     "shell.execute_reply": "2021-11-01T18:54:42.249843Z"
    },
    "scrolled": true
   },
   "outputs": [
    {
     "data": {
      "text/html": [
       "<div>\n",
       "<style scoped>\n",
       "    .dataframe tbody tr th:only-of-type {\n",
       "        vertical-align: middle;\n",
       "    }\n",
       "\n",
       "    .dataframe tbody tr th {\n",
       "        vertical-align: top;\n",
       "    }\n",
       "\n",
       "    .dataframe thead th {\n",
       "        text-align: right;\n",
       "    }\n",
       "</style>\n",
       "<table border=\"1\" class=\"dataframe\">\n",
       "  <thead>\n",
       "    <tr style=\"text-align: right;\">\n",
       "      <th></th>\n",
       "      <th>codicefiscale</th>\n",
       "      <th>address</th>\n",
       "    </tr>\n",
       "  </thead>\n",
       "  <tbody>\n",
       "    <tr>\n",
       "      <th>0</th>\n",
       "      <td>True</td>\n",
       "      <td>False</td>\n",
       "    </tr>\n",
       "    <tr>\n",
       "      <th>1</th>\n",
       "      <td>False</td>\n",
       "      <td>False</td>\n",
       "    </tr>\n",
       "    <tr>\n",
       "      <th>2</th>\n",
       "      <td>False</td>\n",
       "      <td>False</td>\n",
       "    </tr>\n",
       "    <tr>\n",
       "      <th>3</th>\n",
       "      <td>False</td>\n",
       "      <td>False</td>\n",
       "    </tr>\n",
       "    <tr>\n",
       "      <th>4</th>\n",
       "      <td>False</td>\n",
       "      <td>False</td>\n",
       "    </tr>\n",
       "    <tr>\n",
       "      <th>5</th>\n",
       "      <td>False</td>\n",
       "      <td>False</td>\n",
       "    </tr>\n",
       "    <tr>\n",
       "      <th>6</th>\n",
       "      <td>False</td>\n",
       "      <td>False</td>\n",
       "    </tr>\n",
       "    <tr>\n",
       "      <th>7</th>\n",
       "      <td>False</td>\n",
       "      <td>False</td>\n",
       "    </tr>\n",
       "  </tbody>\n",
       "</table>\n",
       "</div>"
      ],
      "text/plain": [
       "   codicefiscale  address\n",
       "0           True    False\n",
       "1          False    False\n",
       "2          False    False\n",
       "3          False    False\n",
       "4          False    False\n",
       "5          False    False\n",
       "6          False    False\n",
       "7          False    False"
      ]
     },
     "execution_count": 1,
     "metadata": {},
     "output_type": "execute_result"
    }
   ],
   "source": [
    "validate_it_codicefiscale(df)"
   ]
  },
  {
   "cell_type": "code",
   "execution_count": null,
   "id": "chinese-siemens",
   "metadata": {},
   "outputs": [],
   "source": []
  }
 ],
 "metadata": {
  "kernelspec": {
   "display_name": "Python 3",
   "language": "python",
   "name": "python3"
  },
  "language_info": {
   "codemirror_mode": {
    "name": "ipython",
    "version": 3
   },
   "file_extension": ".py",
   "mimetype": "text/x-python",
   "name": "python",
   "nbconvert_exporter": "python",
   "pygments_lexer": "ipython3",
   "version": "3.8.10"
  }
 },
 "nbformat": 4,
 "nbformat_minor": 5
}
