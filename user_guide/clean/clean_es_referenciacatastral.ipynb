{
 "cells": [
  {
   "cell_type": "raw",
   "id": "early-gossip",
   "metadata": {},
   "source": [
    ".. _referenciacatastral_userguide:\n",
    "\n",
    "Spanish Real State IDs\n",
    "======================"
   ]
  },
  {
   "cell_type": "raw",
   "id": "curious-armenia",
   "metadata": {},
   "source": [
    "Introduction\n",
    "------------\n",
    "\n",
    "The function :func:`clean_es_referenciacatastral() <dataprep.clean.clean_es_referenciacatastral.clean_es_referenciacatastral>` cleans a column containing Spanish real state id (Referenciacatastral) strings, and standardizes them in a given format. The function :func:`validate_es_referenciacatastral() <dataprep.clean.clean_es_referenciacatastral.validate_es_referenciacatastral>` validates either a single Referenciacatastral strings, a column of Referenciacatastral strings or a DataFrame of Referenciacatastral strings, returning `True` if the value is valid, and `False` otherwise."
   ]
  },
  {
   "cell_type": "markdown",
   "id": "lucky-copying",
   "metadata": {},
   "source": [
    "Referenciacatastral strings can be converted to the following formats via the `output_format` parameter:\n",
    "\n",
    "* `compact`: only number strings without any seperators or whitespace, like \"4A08169P03PRAT0001LR\"\n",
    "* `standard`: Referenciacatastral strings with proper whitespace in the proper places, like \"4A08169 P03PRAT 0001 LR\"\n",
    "\n",
    "Invalid parsing is handled with the `errors` parameter:\n",
    "\n",
    "* `coerce` (default): invalid parsing will be set to NaN\n",
    "* `ignore`: invalid parsing will return the input\n",
    "* `raise`: invalid parsing will raise an exception\n",
    "\n",
    "The following sections demonstrate the functionality of `clean_es_referenciacatastral()` and `validate_es_referenciacatastral()`. "
   ]
  },
  {
   "cell_type": "markdown",
   "id": "timely-morocco",
   "metadata": {},
   "source": [
    "### An example dataset containing Referenciacatastral strings"
   ]
  },
  {
   "cell_type": "code",
   "execution_count": 1,
   "id": "neither-first",
   "metadata": {
    "execution": {
     "iopub.execute_input": "2021-10-30T05:18:34.978601Z",
     "iopub.status.busy": "2021-10-30T05:18:34.977695Z",
     "iopub.status.idle": "2021-10-30T05:18:35.219111Z",
     "shell.execute_reply": "2021-10-30T05:18:35.218518Z"
    }
   },
   "outputs": [
    {
     "data": {
      "text/html": [
       "<div>\n",
       "<style scoped>\n",
       "    .dataframe tbody tr th:only-of-type {\n",
       "        vertical-align: middle;\n",
       "    }\n",
       "\n",
       "    .dataframe tbody tr th {\n",
       "        vertical-align: top;\n",
       "    }\n",
       "\n",
       "    .dataframe thead th {\n",
       "        text-align: right;\n",
       "    }\n",
       "</style>\n",
       "<table border=\"1\" class=\"dataframe\">\n",
       "  <thead>\n",
       "    <tr style=\"text-align: right;\">\n",
       "      <th></th>\n",
       "      <th>referenciacatastral</th>\n",
       "      <th>address</th>\n",
       "    </tr>\n",
       "  </thead>\n",
       "  <tbody>\n",
       "    <tr>\n",
       "      <th>0</th>\n",
       "      <td>4A08169P03PRAT0001LR</td>\n",
       "      <td>123 Pine Ave.</td>\n",
       "    </tr>\n",
       "    <tr>\n",
       "      <th>1</th>\n",
       "      <td>7837301/VG8173B 0001 TT</td>\n",
       "      <td>main st</td>\n",
       "    </tr>\n",
       "    <tr>\n",
       "      <th>2</th>\n",
       "      <td>51824753556</td>\n",
       "      <td>1234 west main heights 57033</td>\n",
       "    </tr>\n",
       "    <tr>\n",
       "      <th>3</th>\n",
       "      <td>51 824 753 556</td>\n",
       "      <td>apt 1 789 s maple rd manhattan</td>\n",
       "    </tr>\n",
       "    <tr>\n",
       "      <th>4</th>\n",
       "      <td>hello</td>\n",
       "      <td>robie house, 789 north main street</td>\n",
       "    </tr>\n",
       "    <tr>\n",
       "      <th>5</th>\n",
       "      <td>NaN</td>\n",
       "      <td>(staples center) 1111 S Figueroa St, Los Angeles</td>\n",
       "    </tr>\n",
       "    <tr>\n",
       "      <th>6</th>\n",
       "      <td>NULL</td>\n",
       "      <td>hello</td>\n",
       "    </tr>\n",
       "  </tbody>\n",
       "</table>\n",
       "</div>"
      ],
      "text/plain": [
       "       referenciacatastral                                           address\n",
       "0     4A08169P03PRAT0001LR                                     123 Pine Ave.\n",
       "1  7837301/VG8173B 0001 TT                                           main st\n",
       "2              51824753556                      1234 west main heights 57033\n",
       "3           51 824 753 556                    apt 1 789 s maple rd manhattan\n",
       "4                    hello                robie house, 789 north main street\n",
       "5                      NaN  (staples center) 1111 S Figueroa St, Los Angeles\n",
       "6                     NULL                                             hello"
      ]
     },
     "execution_count": 1,
     "metadata": {},
     "output_type": "execute_result"
    }
   ],
   "source": [
    "import pandas as pd\n",
    "import numpy as np\n",
    "df = pd.DataFrame(\n",
    "    {\n",
    "        \"referenciacatastral\": [\n",
    "            \"4A08169P03PRAT0001LR\",\n",
    "            \"7837301/VG8173B 0001 TT\",\n",
    "            \"51824753556\",\n",
    "            \"51 824 753 556\",\n",
    "            \"hello\",\n",
    "            np.nan,\n",
    "            \"NULL\"\n",
    "        ], \n",
    "        \"address\": [\n",
    "            \"123 Pine Ave.\",\n",
    "            \"main st\",\n",
    "            \"1234 west main heights 57033\",\n",
    "            \"apt 1 789 s maple rd manhattan\",\n",
    "            \"robie house, 789 north main street\",\n",
    "            \"(staples center) 1111 S Figueroa St, Los Angeles\",\n",
    "            \"hello\",\n",
    "        ]\n",
    "    }\n",
    ")\n",
    "df"
   ]
  },
  {
   "cell_type": "markdown",
   "id": "unauthorized-referral",
   "metadata": {},
   "source": [
    "## 1. Default `clean_es_referenciacatastral`\n",
    "\n",
    "By default, `clean_es_referenciacatastral` will clean referenciacatastral strings and output them in the standard format with proper separators."
   ]
  },
  {
   "cell_type": "code",
   "execution_count": 2,
   "id": "biblical-houston",
   "metadata": {
    "execution": {
     "iopub.execute_input": "2021-10-30T05:18:35.223366Z",
     "iopub.status.busy": "2021-10-30T05:18:35.222542Z",
     "iopub.status.idle": "2021-10-30T05:18:35.805857Z",
     "shell.execute_reply": "2021-10-30T05:18:35.805420Z"
    }
   },
   "outputs": [
    {
     "data": {
      "text/html": [
       "<div>\n",
       "<style scoped>\n",
       "    .dataframe tbody tr th:only-of-type {\n",
       "        vertical-align: middle;\n",
       "    }\n",
       "\n",
       "    .dataframe tbody tr th {\n",
       "        vertical-align: top;\n",
       "    }\n",
       "\n",
       "    .dataframe thead th {\n",
       "        text-align: right;\n",
       "    }\n",
       "</style>\n",
       "<table border=\"1\" class=\"dataframe\">\n",
       "  <thead>\n",
       "    <tr style=\"text-align: right;\">\n",
       "      <th></th>\n",
       "      <th>referenciacatastral</th>\n",
       "      <th>address</th>\n",
       "      <th>referenciacatastral_clean</th>\n",
       "    </tr>\n",
       "  </thead>\n",
       "  <tbody>\n",
       "    <tr>\n",
       "      <th>0</th>\n",
       "      <td>4A08169P03PRAT0001LR</td>\n",
       "      <td>123 Pine Ave.</td>\n",
       "      <td>4A08169 P03PRAT 0001 LR</td>\n",
       "    </tr>\n",
       "    <tr>\n",
       "      <th>1</th>\n",
       "      <td>7837301/VG8173B 0001 TT</td>\n",
       "      <td>main st</td>\n",
       "      <td>NaN</td>\n",
       "    </tr>\n",
       "    <tr>\n",
       "      <th>2</th>\n",
       "      <td>51824753556</td>\n",
       "      <td>1234 west main heights 57033</td>\n",
       "      <td>NaN</td>\n",
       "    </tr>\n",
       "    <tr>\n",
       "      <th>3</th>\n",
       "      <td>51 824 753 556</td>\n",
       "      <td>apt 1 789 s maple rd manhattan</td>\n",
       "      <td>NaN</td>\n",
       "    </tr>\n",
       "    <tr>\n",
       "      <th>4</th>\n",
       "      <td>hello</td>\n",
       "      <td>robie house, 789 north main street</td>\n",
       "      <td>NaN</td>\n",
       "    </tr>\n",
       "    <tr>\n",
       "      <th>5</th>\n",
       "      <td>NaN</td>\n",
       "      <td>(staples center) 1111 S Figueroa St, Los Angeles</td>\n",
       "      <td>NaN</td>\n",
       "    </tr>\n",
       "    <tr>\n",
       "      <th>6</th>\n",
       "      <td>NULL</td>\n",
       "      <td>hello</td>\n",
       "      <td>NaN</td>\n",
       "    </tr>\n",
       "  </tbody>\n",
       "</table>\n",
       "</div>"
      ],
      "text/plain": [
       "       referenciacatastral                                           address  \\\n",
       "0     4A08169P03PRAT0001LR                                     123 Pine Ave.   \n",
       "1  7837301/VG8173B 0001 TT                                           main st   \n",
       "2              51824753556                      1234 west main heights 57033   \n",
       "3           51 824 753 556                    apt 1 789 s maple rd manhattan   \n",
       "4                    hello                robie house, 789 north main street   \n",
       "5                      NaN  (staples center) 1111 S Figueroa St, Los Angeles   \n",
       "6                     NULL                                             hello   \n",
       "\n",
       "  referenciacatastral_clean  \n",
       "0   4A08169 P03PRAT 0001 LR  \n",
       "1                       NaN  \n",
       "2                       NaN  \n",
       "3                       NaN  \n",
       "4                       NaN  \n",
       "5                       NaN  \n",
       "6                       NaN  "
      ]
     },
     "execution_count": 1,
     "metadata": {},
     "output_type": "execute_result"
    }
   ],
   "source": [
    "from dataprep.clean import clean_es_referenciacatastral\n",
    "clean_es_referenciacatastral(df, column = \"referenciacatastral\")"
   ]
  },
  {
   "cell_type": "markdown",
   "id": "municipal-heritage",
   "metadata": {},
   "source": [
    "## 2. Output formats"
   ]
  },
  {
   "cell_type": "markdown",
   "id": "announced-emerald",
   "metadata": {},
   "source": [
    "This section demonstrates the output parameter."
   ]
  },
  {
   "cell_type": "markdown",
   "id": "light-mailing",
   "metadata": {},
   "source": [
    "### `standard` (default)"
   ]
  },
  {
   "cell_type": "code",
   "execution_count": 3,
   "id": "amino-activation",
   "metadata": {
    "execution": {
     "iopub.execute_input": "2021-10-30T05:18:35.824034Z",
     "iopub.status.busy": "2021-10-30T05:18:35.823455Z",
     "iopub.status.idle": "2021-10-30T05:18:35.833775Z",
     "shell.execute_reply": "2021-10-30T05:18:35.834147Z"
    }
   },
   "outputs": [
    {
     "data": {
      "text/html": [
       "<div>\n",
       "<style scoped>\n",
       "    .dataframe tbody tr th:only-of-type {\n",
       "        vertical-align: middle;\n",
       "    }\n",
       "\n",
       "    .dataframe tbody tr th {\n",
       "        vertical-align: top;\n",
       "    }\n",
       "\n",
       "    .dataframe thead th {\n",
       "        text-align: right;\n",
       "    }\n",
       "</style>\n",
       "<table border=\"1\" class=\"dataframe\">\n",
       "  <thead>\n",
       "    <tr style=\"text-align: right;\">\n",
       "      <th></th>\n",
       "      <th>referenciacatastral</th>\n",
       "      <th>address</th>\n",
       "      <th>referenciacatastral_clean</th>\n",
       "    </tr>\n",
       "  </thead>\n",
       "  <tbody>\n",
       "    <tr>\n",
       "      <th>0</th>\n",
       "      <td>4A08169P03PRAT0001LR</td>\n",
       "      <td>123 Pine Ave.</td>\n",
       "      <td>4A08169 P03PRAT 0001 LR</td>\n",
       "    </tr>\n",
       "    <tr>\n",
       "      <th>1</th>\n",
       "      <td>7837301/VG8173B 0001 TT</td>\n",
       "      <td>main st</td>\n",
       "      <td>NaN</td>\n",
       "    </tr>\n",
       "    <tr>\n",
       "      <th>2</th>\n",
       "      <td>51824753556</td>\n",
       "      <td>1234 west main heights 57033</td>\n",
       "      <td>NaN</td>\n",
       "    </tr>\n",
       "    <tr>\n",
       "      <th>3</th>\n",
       "      <td>51 824 753 556</td>\n",
       "      <td>apt 1 789 s maple rd manhattan</td>\n",
       "      <td>NaN</td>\n",
       "    </tr>\n",
       "    <tr>\n",
       "      <th>4</th>\n",
       "      <td>hello</td>\n",
       "      <td>robie house, 789 north main street</td>\n",
       "      <td>NaN</td>\n",
       "    </tr>\n",
       "    <tr>\n",
       "      <th>5</th>\n",
       "      <td>NaN</td>\n",
       "      <td>(staples center) 1111 S Figueroa St, Los Angeles</td>\n",
       "      <td>NaN</td>\n",
       "    </tr>\n",
       "    <tr>\n",
       "      <th>6</th>\n",
       "      <td>NULL</td>\n",
       "      <td>hello</td>\n",
       "      <td>NaN</td>\n",
       "    </tr>\n",
       "  </tbody>\n",
       "</table>\n",
       "</div>"
      ],
      "text/plain": [
       "       referenciacatastral                                           address  \\\n",
       "0     4A08169P03PRAT0001LR                                     123 Pine Ave.   \n",
       "1  7837301/VG8173B 0001 TT                                           main st   \n",
       "2              51824753556                      1234 west main heights 57033   \n",
       "3           51 824 753 556                    apt 1 789 s maple rd manhattan   \n",
       "4                    hello                robie house, 789 north main street   \n",
       "5                      NaN  (staples center) 1111 S Figueroa St, Los Angeles   \n",
       "6                     NULL                                             hello   \n",
       "\n",
       "  referenciacatastral_clean  \n",
       "0   4A08169 P03PRAT 0001 LR  \n",
       "1                       NaN  \n",
       "2                       NaN  \n",
       "3                       NaN  \n",
       "4                       NaN  \n",
       "5                       NaN  \n",
       "6                       NaN  "
      ]
     },
     "execution_count": 1,
     "metadata": {},
     "output_type": "execute_result"
    }
   ],
   "source": [
    "clean_es_referenciacatastral(df, column = \"referenciacatastral\", output_format=\"standard\")"
   ]
  },
  {
   "cell_type": "markdown",
   "id": "nasty-negative",
   "metadata": {},
   "source": [
    "### `compact`"
   ]
  },
  {
   "cell_type": "code",
   "execution_count": 4,
   "id": "sacred-acceptance",
   "metadata": {
    "execution": {
     "iopub.execute_input": "2021-10-30T05:18:35.856238Z",
     "iopub.status.busy": "2021-10-30T05:18:35.853939Z",
     "iopub.status.idle": "2021-10-30T05:18:35.865666Z",
     "shell.execute_reply": "2021-10-30T05:18:35.865239Z"
    }
   },
   "outputs": [
    {
     "data": {
      "text/html": [
       "<div>\n",
       "<style scoped>\n",
       "    .dataframe tbody tr th:only-of-type {\n",
       "        vertical-align: middle;\n",
       "    }\n",
       "\n",
       "    .dataframe tbody tr th {\n",
       "        vertical-align: top;\n",
       "    }\n",
       "\n",
       "    .dataframe thead th {\n",
       "        text-align: right;\n",
       "    }\n",
       "</style>\n",
       "<table border=\"1\" class=\"dataframe\">\n",
       "  <thead>\n",
       "    <tr style=\"text-align: right;\">\n",
       "      <th></th>\n",
       "      <th>referenciacatastral</th>\n",
       "      <th>address</th>\n",
       "      <th>referenciacatastral_clean</th>\n",
       "    </tr>\n",
       "  </thead>\n",
       "  <tbody>\n",
       "    <tr>\n",
       "      <th>0</th>\n",
       "      <td>4A08169P03PRAT0001LR</td>\n",
       "      <td>123 Pine Ave.</td>\n",
       "      <td>4A08169P03PRAT0001LR</td>\n",
       "    </tr>\n",
       "    <tr>\n",
       "      <th>1</th>\n",
       "      <td>7837301/VG8173B 0001 TT</td>\n",
       "      <td>main st</td>\n",
       "      <td>NaN</td>\n",
       "    </tr>\n",
       "    <tr>\n",
       "      <th>2</th>\n",
       "      <td>51824753556</td>\n",
       "      <td>1234 west main heights 57033</td>\n",
       "      <td>NaN</td>\n",
       "    </tr>\n",
       "    <tr>\n",
       "      <th>3</th>\n",
       "      <td>51 824 753 556</td>\n",
       "      <td>apt 1 789 s maple rd manhattan</td>\n",
       "      <td>NaN</td>\n",
       "    </tr>\n",
       "    <tr>\n",
       "      <th>4</th>\n",
       "      <td>hello</td>\n",
       "      <td>robie house, 789 north main street</td>\n",
       "      <td>NaN</td>\n",
       "    </tr>\n",
       "    <tr>\n",
       "      <th>5</th>\n",
       "      <td>NaN</td>\n",
       "      <td>(staples center) 1111 S Figueroa St, Los Angeles</td>\n",
       "      <td>NaN</td>\n",
       "    </tr>\n",
       "    <tr>\n",
       "      <th>6</th>\n",
       "      <td>NULL</td>\n",
       "      <td>hello</td>\n",
       "      <td>NaN</td>\n",
       "    </tr>\n",
       "  </tbody>\n",
       "</table>\n",
       "</div>"
      ],
      "text/plain": [
       "       referenciacatastral                                           address  \\\n",
       "0     4A08169P03PRAT0001LR                                     123 Pine Ave.   \n",
       "1  7837301/VG8173B 0001 TT                                           main st   \n",
       "2              51824753556                      1234 west main heights 57033   \n",
       "3           51 824 753 556                    apt 1 789 s maple rd manhattan   \n",
       "4                    hello                robie house, 789 north main street   \n",
       "5                      NaN  (staples center) 1111 S Figueroa St, Los Angeles   \n",
       "6                     NULL                                             hello   \n",
       "\n",
       "  referenciacatastral_clean  \n",
       "0      4A08169P03PRAT0001LR  \n",
       "1                       NaN  \n",
       "2                       NaN  \n",
       "3                       NaN  \n",
       "4                       NaN  \n",
       "5                       NaN  \n",
       "6                       NaN  "
      ]
     },
     "execution_count": 1,
     "metadata": {},
     "output_type": "execute_result"
    }
   ],
   "source": [
    "clean_es_referenciacatastral(df, column = \"referenciacatastral\", output_format=\"compact\")"
   ]
  },
  {
   "cell_type": "markdown",
   "id": "raised-evidence",
   "metadata": {},
   "source": [
    "## 3. `inplace` parameter\n",
    "\n",
    "This deletes the given column from the returned DataFrame. \n",
    "A new column containing cleaned Referenciacatastral strings is added with a title in the format `\"{original title}_clean\"`."
   ]
  },
  {
   "cell_type": "code",
   "execution_count": 5,
   "id": "featured-morris",
   "metadata": {
    "execution": {
     "iopub.execute_input": "2021-10-30T05:18:35.896320Z",
     "iopub.status.busy": "2021-10-30T05:18:35.892290Z",
     "iopub.status.idle": "2021-10-30T05:18:35.904657Z",
     "shell.execute_reply": "2021-10-30T05:18:35.904259Z"
    }
   },
   "outputs": [
    {
     "data": {
      "text/html": [
       "<div>\n",
       "<style scoped>\n",
       "    .dataframe tbody tr th:only-of-type {\n",
       "        vertical-align: middle;\n",
       "    }\n",
       "\n",
       "    .dataframe tbody tr th {\n",
       "        vertical-align: top;\n",
       "    }\n",
       "\n",
       "    .dataframe thead th {\n",
       "        text-align: right;\n",
       "    }\n",
       "</style>\n",
       "<table border=\"1\" class=\"dataframe\">\n",
       "  <thead>\n",
       "    <tr style=\"text-align: right;\">\n",
       "      <th></th>\n",
       "      <th>referenciacatastral_clean</th>\n",
       "      <th>address</th>\n",
       "    </tr>\n",
       "  </thead>\n",
       "  <tbody>\n",
       "    <tr>\n",
       "      <th>0</th>\n",
       "      <td>4A08169 P03PRAT 0001 LR</td>\n",
       "      <td>123 Pine Ave.</td>\n",
       "    </tr>\n",
       "    <tr>\n",
       "      <th>1</th>\n",
       "      <td>NaN</td>\n",
       "      <td>main st</td>\n",
       "    </tr>\n",
       "    <tr>\n",
       "      <th>2</th>\n",
       "      <td>NaN</td>\n",
       "      <td>1234 west main heights 57033</td>\n",
       "    </tr>\n",
       "    <tr>\n",
       "      <th>3</th>\n",
       "      <td>NaN</td>\n",
       "      <td>apt 1 789 s maple rd manhattan</td>\n",
       "    </tr>\n",
       "    <tr>\n",
       "      <th>4</th>\n",
       "      <td>NaN</td>\n",
       "      <td>robie house, 789 north main street</td>\n",
       "    </tr>\n",
       "    <tr>\n",
       "      <th>5</th>\n",
       "      <td>NaN</td>\n",
       "      <td>(staples center) 1111 S Figueroa St, Los Angeles</td>\n",
       "    </tr>\n",
       "    <tr>\n",
       "      <th>6</th>\n",
       "      <td>NaN</td>\n",
       "      <td>hello</td>\n",
       "    </tr>\n",
       "  </tbody>\n",
       "</table>\n",
       "</div>"
      ],
      "text/plain": [
       "  referenciacatastral_clean                                           address\n",
       "0   4A08169 P03PRAT 0001 LR                                     123 Pine Ave.\n",
       "1                       NaN                                           main st\n",
       "2                       NaN                      1234 west main heights 57033\n",
       "3                       NaN                    apt 1 789 s maple rd manhattan\n",
       "4                       NaN                robie house, 789 north main street\n",
       "5                       NaN  (staples center) 1111 S Figueroa St, Los Angeles\n",
       "6                       NaN                                             hello"
      ]
     },
     "execution_count": 1,
     "metadata": {},
     "output_type": "execute_result"
    }
   ],
   "source": [
    "clean_es_referenciacatastral(df, column=\"referenciacatastral\", inplace=True)"
   ]
  },
  {
   "cell_type": "markdown",
   "id": "micro-melbourne",
   "metadata": {},
   "source": [
    "## 4. `errors` parameter"
   ]
  },
  {
   "cell_type": "markdown",
   "id": "loving-starter",
   "metadata": {},
   "source": [
    "### `coerce` (default)"
   ]
  },
  {
   "cell_type": "code",
   "execution_count": 6,
   "id": "romance-dress",
   "metadata": {
    "execution": {
     "iopub.execute_input": "2021-10-30T05:18:35.923332Z",
     "iopub.status.busy": "2021-10-30T05:18:35.921585Z",
     "iopub.status.idle": "2021-10-30T05:18:35.934836Z",
     "shell.execute_reply": "2021-10-30T05:18:35.934358Z"
    }
   },
   "outputs": [
    {
     "data": {
      "text/html": [
       "<div>\n",
       "<style scoped>\n",
       "    .dataframe tbody tr th:only-of-type {\n",
       "        vertical-align: middle;\n",
       "    }\n",
       "\n",
       "    .dataframe tbody tr th {\n",
       "        vertical-align: top;\n",
       "    }\n",
       "\n",
       "    .dataframe thead th {\n",
       "        text-align: right;\n",
       "    }\n",
       "</style>\n",
       "<table border=\"1\" class=\"dataframe\">\n",
       "  <thead>\n",
       "    <tr style=\"text-align: right;\">\n",
       "      <th></th>\n",
       "      <th>referenciacatastral</th>\n",
       "      <th>address</th>\n",
       "      <th>referenciacatastral_clean</th>\n",
       "    </tr>\n",
       "  </thead>\n",
       "  <tbody>\n",
       "    <tr>\n",
       "      <th>0</th>\n",
       "      <td>4A08169P03PRAT0001LR</td>\n",
       "      <td>123 Pine Ave.</td>\n",
       "      <td>4A08169 P03PRAT 0001 LR</td>\n",
       "    </tr>\n",
       "    <tr>\n",
       "      <th>1</th>\n",
       "      <td>7837301/VG8173B 0001 TT</td>\n",
       "      <td>main st</td>\n",
       "      <td>NaN</td>\n",
       "    </tr>\n",
       "    <tr>\n",
       "      <th>2</th>\n",
       "      <td>51824753556</td>\n",
       "      <td>1234 west main heights 57033</td>\n",
       "      <td>NaN</td>\n",
       "    </tr>\n",
       "    <tr>\n",
       "      <th>3</th>\n",
       "      <td>51 824 753 556</td>\n",
       "      <td>apt 1 789 s maple rd manhattan</td>\n",
       "      <td>NaN</td>\n",
       "    </tr>\n",
       "    <tr>\n",
       "      <th>4</th>\n",
       "      <td>hello</td>\n",
       "      <td>robie house, 789 north main street</td>\n",
       "      <td>NaN</td>\n",
       "    </tr>\n",
       "    <tr>\n",
       "      <th>5</th>\n",
       "      <td>NaN</td>\n",
       "      <td>(staples center) 1111 S Figueroa St, Los Angeles</td>\n",
       "      <td>NaN</td>\n",
       "    </tr>\n",
       "    <tr>\n",
       "      <th>6</th>\n",
       "      <td>NULL</td>\n",
       "      <td>hello</td>\n",
       "      <td>NaN</td>\n",
       "    </tr>\n",
       "  </tbody>\n",
       "</table>\n",
       "</div>"
      ],
      "text/plain": [
       "       referenciacatastral                                           address  \\\n",
       "0     4A08169P03PRAT0001LR                                     123 Pine Ave.   \n",
       "1  7837301/VG8173B 0001 TT                                           main st   \n",
       "2              51824753556                      1234 west main heights 57033   \n",
       "3           51 824 753 556                    apt 1 789 s maple rd manhattan   \n",
       "4                    hello                robie house, 789 north main street   \n",
       "5                      NaN  (staples center) 1111 S Figueroa St, Los Angeles   \n",
       "6                     NULL                                             hello   \n",
       "\n",
       "  referenciacatastral_clean  \n",
       "0   4A08169 P03PRAT 0001 LR  \n",
       "1                       NaN  \n",
       "2                       NaN  \n",
       "3                       NaN  \n",
       "4                       NaN  \n",
       "5                       NaN  \n",
       "6                       NaN  "
      ]
     },
     "execution_count": 1,
     "metadata": {},
     "output_type": "execute_result"
    }
   ],
   "source": [
    "clean_es_referenciacatastral(df, \"referenciacatastral\", errors=\"coerce\")"
   ]
  },
  {
   "cell_type": "markdown",
   "id": "smooth-bargain",
   "metadata": {},
   "source": [
    "### `ignore`"
   ]
  },
  {
   "cell_type": "code",
   "execution_count": 7,
   "id": "flexible-entry",
   "metadata": {
    "execution": {
     "iopub.execute_input": "2021-10-30T05:18:35.960675Z",
     "iopub.status.busy": "2021-10-30T05:18:35.954331Z",
     "iopub.status.idle": "2021-10-30T05:18:35.965086Z",
     "shell.execute_reply": "2021-10-30T05:18:35.964678Z"
    }
   },
   "outputs": [
    {
     "data": {
      "text/html": [
       "<div>\n",
       "<style scoped>\n",
       "    .dataframe tbody tr th:only-of-type {\n",
       "        vertical-align: middle;\n",
       "    }\n",
       "\n",
       "    .dataframe tbody tr th {\n",
       "        vertical-align: top;\n",
       "    }\n",
       "\n",
       "    .dataframe thead th {\n",
       "        text-align: right;\n",
       "    }\n",
       "</style>\n",
       "<table border=\"1\" class=\"dataframe\">\n",
       "  <thead>\n",
       "    <tr style=\"text-align: right;\">\n",
       "      <th></th>\n",
       "      <th>referenciacatastral</th>\n",
       "      <th>address</th>\n",
       "      <th>referenciacatastral_clean</th>\n",
       "    </tr>\n",
       "  </thead>\n",
       "  <tbody>\n",
       "    <tr>\n",
       "      <th>0</th>\n",
       "      <td>4A08169P03PRAT0001LR</td>\n",
       "      <td>123 Pine Ave.</td>\n",
       "      <td>4A08169 P03PRAT 0001 LR</td>\n",
       "    </tr>\n",
       "    <tr>\n",
       "      <th>1</th>\n",
       "      <td>7837301/VG8173B 0001 TT</td>\n",
       "      <td>main st</td>\n",
       "      <td>7837301/VG8173B 0001 TT</td>\n",
       "    </tr>\n",
       "    <tr>\n",
       "      <th>2</th>\n",
       "      <td>51824753556</td>\n",
       "      <td>1234 west main heights 57033</td>\n",
       "      <td>51824753556</td>\n",
       "    </tr>\n",
       "    <tr>\n",
       "      <th>3</th>\n",
       "      <td>51 824 753 556</td>\n",
       "      <td>apt 1 789 s maple rd manhattan</td>\n",
       "      <td>51 824 753 556</td>\n",
       "    </tr>\n",
       "    <tr>\n",
       "      <th>4</th>\n",
       "      <td>hello</td>\n",
       "      <td>robie house, 789 north main street</td>\n",
       "      <td>hello</td>\n",
       "    </tr>\n",
       "    <tr>\n",
       "      <th>5</th>\n",
       "      <td>NaN</td>\n",
       "      <td>(staples center) 1111 S Figueroa St, Los Angeles</td>\n",
       "      <td>NaN</td>\n",
       "    </tr>\n",
       "    <tr>\n",
       "      <th>6</th>\n",
       "      <td>NULL</td>\n",
       "      <td>hello</td>\n",
       "      <td>NaN</td>\n",
       "    </tr>\n",
       "  </tbody>\n",
       "</table>\n",
       "</div>"
      ],
      "text/plain": [
       "       referenciacatastral                                           address  \\\n",
       "0     4A08169P03PRAT0001LR                                     123 Pine Ave.   \n",
       "1  7837301/VG8173B 0001 TT                                           main st   \n",
       "2              51824753556                      1234 west main heights 57033   \n",
       "3           51 824 753 556                    apt 1 789 s maple rd manhattan   \n",
       "4                    hello                robie house, 789 north main street   \n",
       "5                      NaN  (staples center) 1111 S Figueroa St, Los Angeles   \n",
       "6                     NULL                                             hello   \n",
       "\n",
       "  referenciacatastral_clean  \n",
       "0   4A08169 P03PRAT 0001 LR  \n",
       "1   7837301/VG8173B 0001 TT  \n",
       "2               51824753556  \n",
       "3            51 824 753 556  \n",
       "4                     hello  \n",
       "5                       NaN  \n",
       "6                       NaN  "
      ]
     },
     "execution_count": 1,
     "metadata": {},
     "output_type": "execute_result"
    }
   ],
   "source": [
    "clean_es_referenciacatastral(df, \"referenciacatastral\", errors=\"ignore\")"
   ]
  },
  {
   "cell_type": "markdown",
   "id": "cross-piano",
   "metadata": {},
   "source": [
    "## 4. `validate_es_referenciacatastral()`"
   ]
  },
  {
   "cell_type": "markdown",
   "id": "aggressive-haiti",
   "metadata": {},
   "source": [
    "`validate_es_referenciacatastral()` returns `True` when the input is a valid Referenciacatastral. Otherwise it returns `False`.\n",
    "\n",
    "The input of `validate_es_referenciacatastral()` can be a string, a Pandas DataSeries, a Dask DataSeries, a Pandas DataFrame and a dask DataFrame.\n",
    "\n",
    "When the input is a string, a Pandas DataSeries or a Dask DataSeries, user doesn't need to specify a column name to be validated. \n",
    "\n",
    "When the input is a Pandas DataFrame or a dask DataFrame, user can both specify or not specify a column name to be validated. If user specify the column name, `validate_es_referenciacatastral()` only returns the validation result for the specified column. If user doesn't specify the column name, `validate_es_referenciacatastral()` returns the validation result for the whole DataFrame."
   ]
  },
  {
   "cell_type": "code",
   "execution_count": 8,
   "id": "czech-investigator",
   "metadata": {
    "execution": {
     "iopub.execute_input": "2021-10-30T05:18:35.969588Z",
     "iopub.status.busy": "2021-10-30T05:18:35.969112Z",
     "iopub.status.idle": "2021-10-30T05:18:35.973245Z",
     "shell.execute_reply": "2021-10-30T05:18:35.972823Z"
    },
    "scrolled": true
   },
   "outputs": [
    {
     "name": "stdout",
     "output_type": "stream",
     "text": [
      "True\n",
      "False\n",
      "False\n",
      "False\n",
      "False\n",
      "False\n",
      "False\n"
     ]
    }
   ],
   "source": [
    "from dataprep.clean import validate_es_referenciacatastral\n",
    "print(validate_es_referenciacatastral(\"4A08169P03PRAT0001LR\"))\n",
    "print(validate_es_referenciacatastral(\"7837301/VG8173B 0001 TT\"))\n",
    "print(validate_es_referenciacatastral(\"51824753556\"))\n",
    "print(validate_es_referenciacatastral(\"51 824 753 556\"))\n",
    "print(validate_es_referenciacatastral(\"hello\"))\n",
    "print(validate_es_referenciacatastral(np.nan))\n",
    "print(validate_es_referenciacatastral(\"NULL\"))"
   ]
  },
  {
   "cell_type": "markdown",
   "id": "genetic-defense",
   "metadata": {},
   "source": [
    "### Series"
   ]
  },
  {
   "cell_type": "code",
   "execution_count": 9,
   "id": "studied-poetry",
   "metadata": {
    "execution": {
     "iopub.execute_input": "2021-10-30T05:18:35.977853Z",
     "iopub.status.busy": "2021-10-30T05:18:35.977356Z",
     "iopub.status.idle": "2021-10-30T05:18:35.981791Z",
     "shell.execute_reply": "2021-10-30T05:18:35.981398Z"
    }
   },
   "outputs": [
    {
     "data": {
      "text/plain": [
       "0     True\n",
       "1    False\n",
       "2    False\n",
       "3    False\n",
       "4    False\n",
       "5    False\n",
       "6    False\n",
       "Name: referenciacatastral, dtype: bool"
      ]
     },
     "execution_count": 1,
     "metadata": {},
     "output_type": "execute_result"
    }
   ],
   "source": [
    "validate_es_referenciacatastral(df[\"referenciacatastral\"])"
   ]
  },
  {
   "cell_type": "markdown",
   "id": "abroad-terminology",
   "metadata": {},
   "source": [
    "### DataFrame + Specify Column"
   ]
  },
  {
   "cell_type": "code",
   "execution_count": 10,
   "id": "dirty-thursday",
   "metadata": {
    "execution": {
     "iopub.execute_input": "2021-10-30T05:18:35.986307Z",
     "iopub.status.busy": "2021-10-30T05:18:35.985839Z",
     "iopub.status.idle": "2021-10-30T05:18:35.989638Z",
     "shell.execute_reply": "2021-10-30T05:18:35.989226Z"
    }
   },
   "outputs": [
    {
     "data": {
      "text/plain": [
       "0     True\n",
       "1    False\n",
       "2    False\n",
       "3    False\n",
       "4    False\n",
       "5    False\n",
       "6    False\n",
       "Name: referenciacatastral, dtype: bool"
      ]
     },
     "execution_count": 1,
     "metadata": {},
     "output_type": "execute_result"
    }
   ],
   "source": [
    "validate_es_referenciacatastral(df, column=\"referenciacatastral\")"
   ]
  },
  {
   "cell_type": "markdown",
   "id": "controversial-brooks",
   "metadata": {},
   "source": [
    "### Only DataFrame"
   ]
  },
  {
   "cell_type": "code",
   "execution_count": 11,
   "id": "interim-gamma",
   "metadata": {
    "execution": {
     "iopub.execute_input": "2021-10-30T05:18:35.992812Z",
     "iopub.status.busy": "2021-10-30T05:18:35.992295Z",
     "iopub.status.idle": "2021-10-30T05:18:35.999926Z",
     "shell.execute_reply": "2021-10-30T05:18:35.999512Z"
    }
   },
   "outputs": [
    {
     "data": {
      "text/html": [
       "<div>\n",
       "<style scoped>\n",
       "    .dataframe tbody tr th:only-of-type {\n",
       "        vertical-align: middle;\n",
       "    }\n",
       "\n",
       "    .dataframe tbody tr th {\n",
       "        vertical-align: top;\n",
       "    }\n",
       "\n",
       "    .dataframe thead th {\n",
       "        text-align: right;\n",
       "    }\n",
       "</style>\n",
       "<table border=\"1\" class=\"dataframe\">\n",
       "  <thead>\n",
       "    <tr style=\"text-align: right;\">\n",
       "      <th></th>\n",
       "      <th>referenciacatastral</th>\n",
       "      <th>address</th>\n",
       "    </tr>\n",
       "  </thead>\n",
       "  <tbody>\n",
       "    <tr>\n",
       "      <th>0</th>\n",
       "      <td>True</td>\n",
       "      <td>False</td>\n",
       "    </tr>\n",
       "    <tr>\n",
       "      <th>1</th>\n",
       "      <td>False</td>\n",
       "      <td>False</td>\n",
       "    </tr>\n",
       "    <tr>\n",
       "      <th>2</th>\n",
       "      <td>False</td>\n",
       "      <td>False</td>\n",
       "    </tr>\n",
       "    <tr>\n",
       "      <th>3</th>\n",
       "      <td>False</td>\n",
       "      <td>False</td>\n",
       "    </tr>\n",
       "    <tr>\n",
       "      <th>4</th>\n",
       "      <td>False</td>\n",
       "      <td>False</td>\n",
       "    </tr>\n",
       "    <tr>\n",
       "      <th>5</th>\n",
       "      <td>False</td>\n",
       "      <td>False</td>\n",
       "    </tr>\n",
       "    <tr>\n",
       "      <th>6</th>\n",
       "      <td>False</td>\n",
       "      <td>False</td>\n",
       "    </tr>\n",
       "  </tbody>\n",
       "</table>\n",
       "</div>"
      ],
      "text/plain": [
       "   referenciacatastral  address\n",
       "0                 True    False\n",
       "1                False    False\n",
       "2                False    False\n",
       "3                False    False\n",
       "4                False    False\n",
       "5                False    False\n",
       "6                False    False"
      ]
     },
     "execution_count": 1,
     "metadata": {},
     "output_type": "execute_result"
    }
   ],
   "source": [
    "validate_es_referenciacatastral(df)"
   ]
  },
  {
   "cell_type": "code",
   "execution_count": null,
   "id": "rubber-horizontal",
   "metadata": {},
   "outputs": [],
   "source": []
  }
 ],
 "metadata": {
  "kernelspec": {
   "display_name": "Python 3",
   "language": "python",
   "name": "python3"
  },
  "language_info": {
   "codemirror_mode": {
    "name": "ipython",
    "version": 3
   },
   "file_extension": ".py",
   "mimetype": "text/x-python",
   "name": "python",
   "nbconvert_exporter": "python",
   "pygments_lexer": "ipython3",
   "version": "3.8.10"
  }
 },
 "nbformat": 4,
 "nbformat_minor": 5
}
