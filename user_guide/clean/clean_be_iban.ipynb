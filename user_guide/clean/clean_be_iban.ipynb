{
 "cells": [
  {
   "cell_type": "raw",
   "id": "satisfactory-boring",
   "metadata": {},
   "source": [
    ".. _be_iban_userguide:\n",
    "\n",
    "Belgian IBAN Numbers\n",
    "===================="
   ]
  },
  {
   "cell_type": "raw",
   "id": "stock-reaction",
   "metadata": {},
   "source": [
    "Introduction\n",
    "------------\n",
    "\n",
    "The function :func:`clean_be_iban() <dataprep.clean.clean_be_iban.clean_be_iban>` cleans a column containing Belgian IBAN (International Bank Account Number) strings, and standardizes them in a given format. The function :func:`validate_be_iban() <dataprep.clean.clean_be_iban.validate_be_iban>` validates either a single Belgian IBAN strings, a column of Belgian IBAN strings or a DataFrame of Belgian IBAN strings, returning `True` if the value is valid, and `False` otherwise."
   ]
  },
  {
   "cell_type": "markdown",
   "id": "human-saver",
   "metadata": {},
   "source": [
    "Belgian IBAN strings can be converted to the following formats via the `output_format` parameter:\n",
    "\n",
    "* `compact`: only number strings without any seperators or whitespace, like \"BE32123456789002\"\n",
    "* `standard`: Belgian IBAN strings with proper whitespace in the proper places, like \"BE32 1234 5678 9002\"\n",
    "* `bic`: return the BIC for the bank that this number refers to, like \"CTBKBEBX\".\n",
    "\n",
    "Invalid parsing is handled with the `errors` parameter:\n",
    "\n",
    "* `coerce` (default): invalid parsing will be set to NaN\n",
    "* `ignore`: invalid parsing will return the input\n",
    "* `raise`: invalid parsing will raise an exception\n",
    "\n",
    "The following sections demonstrate the functionality of `clean_be_iban()` and `validate_be_iban()`. "
   ]
  },
  {
   "cell_type": "markdown",
   "id": "scientific-briefs",
   "metadata": {},
   "source": [
    "### An example dataset containing Belgian IBAN strings"
   ]
  },
  {
   "cell_type": "code",
   "execution_count": 1,
   "id": "atomic-istanbul",
   "metadata": {
    "execution": {
     "iopub.execute_input": "2021-10-30T05:15:15.772846Z",
     "iopub.status.busy": "2021-10-30T05:15:15.772359Z",
     "iopub.status.idle": "2021-10-30T05:15:16.014107Z",
     "shell.execute_reply": "2021-10-30T05:15:16.013658Z"
    }
   },
   "outputs": [
    {
     "data": {
      "text/html": [
       "<div>\n",
       "<style scoped>\n",
       "    .dataframe tbody tr th:only-of-type {\n",
       "        vertical-align: middle;\n",
       "    }\n",
       "\n",
       "    .dataframe tbody tr th {\n",
       "        vertical-align: top;\n",
       "    }\n",
       "\n",
       "    .dataframe thead th {\n",
       "        text-align: right;\n",
       "    }\n",
       "</style>\n",
       "<table border=\"1\" class=\"dataframe\">\n",
       "  <thead>\n",
       "    <tr style=\"text-align: right;\">\n",
       "      <th></th>\n",
       "      <th>be_iban</th>\n",
       "      <th>address</th>\n",
       "    </tr>\n",
       "  </thead>\n",
       "  <tbody>\n",
       "    <tr>\n",
       "      <th>0</th>\n",
       "      <td>BE32 123-4567890-02</td>\n",
       "      <td>123 Pine Ave.</td>\n",
       "    </tr>\n",
       "    <tr>\n",
       "      <th>1</th>\n",
       "      <td>BE41091811735141</td>\n",
       "      <td>main st</td>\n",
       "    </tr>\n",
       "    <tr>\n",
       "      <th>2</th>\n",
       "      <td>BE83138811735115</td>\n",
       "      <td>1234 west main heights 57033</td>\n",
       "    </tr>\n",
       "    <tr>\n",
       "      <th>3</th>\n",
       "      <td>GR1601101050000010547023795</td>\n",
       "      <td>apt 1 789 s maple rd manhattan</td>\n",
       "    </tr>\n",
       "    <tr>\n",
       "      <th>4</th>\n",
       "      <td>BE 48 3200 7018 4927</td>\n",
       "      <td>robie house, 789 north main street</td>\n",
       "    </tr>\n",
       "    <tr>\n",
       "      <th>5</th>\n",
       "      <td>hello</td>\n",
       "      <td>1111 S Figueroa St, Los Angeles, CA 90015</td>\n",
       "    </tr>\n",
       "    <tr>\n",
       "      <th>6</th>\n",
       "      <td>NaN</td>\n",
       "      <td>(staples center) 1111 S Figueroa St, Los Angeles</td>\n",
       "    </tr>\n",
       "    <tr>\n",
       "      <th>7</th>\n",
       "      <td>NULL</td>\n",
       "      <td>hello</td>\n",
       "    </tr>\n",
       "  </tbody>\n",
       "</table>\n",
       "</div>"
      ],
      "text/plain": [
       "                       be_iban  \\\n",
       "0          BE32 123-4567890-02   \n",
       "1             BE41091811735141   \n",
       "2             BE83138811735115   \n",
       "3  GR1601101050000010547023795   \n",
       "4         BE 48 3200 7018 4927   \n",
       "5                        hello   \n",
       "6                          NaN   \n",
       "7                         NULL   \n",
       "\n",
       "                                            address  \n",
       "0                                     123 Pine Ave.  \n",
       "1                                           main st  \n",
       "2                      1234 west main heights 57033  \n",
       "3                    apt 1 789 s maple rd manhattan  \n",
       "4                robie house, 789 north main street  \n",
       "5         1111 S Figueroa St, Los Angeles, CA 90015  \n",
       "6  (staples center) 1111 S Figueroa St, Los Angeles  \n",
       "7                                             hello  "
      ]
     },
     "execution_count": 1,
     "metadata": {},
     "output_type": "execute_result"
    }
   ],
   "source": [
    "import pandas as pd\n",
    "import numpy as np\n",
    "df = pd.DataFrame(\n",
    "    {\n",
    "        \"be_iban\": [\n",
    "            \"BE32 123-4567890-02\",\n",
    "            \"BE41091811735141\",             # incorrect national check digits\n",
    "            \"BE83138811735115\",             # unknown bank code\n",
    "            \"GR1601101050000010547023795\",  # not a Belgian IBAN\n",
    "            \"BE 48 3200 7018 4927\",\n",
    "            \"hello\",\n",
    "            np.nan,\n",
    "            \"NULL\",\n",
    "        ], \n",
    "        \"address\": [\n",
    "            \"123 Pine Ave.\",\n",
    "            \"main st\",\n",
    "            \"1234 west main heights 57033\",\n",
    "            \"apt 1 789 s maple rd manhattan\",\n",
    "            \"robie house, 789 north main street\",\n",
    "            \"1111 S Figueroa St, Los Angeles, CA 90015\",\n",
    "            \"(staples center) 1111 S Figueroa St, Los Angeles\",\n",
    "            \"hello\",\n",
    "        ]\n",
    "    }\n",
    ")\n",
    "df"
   ]
  },
  {
   "cell_type": "markdown",
   "id": "interior-texas",
   "metadata": {},
   "source": [
    "## 1. Default `clean_be_iban`\n",
    "\n",
    "By default, `clean_be_iban` will clean be_iban strings and output them in the standard format with proper separators."
   ]
  },
  {
   "cell_type": "code",
   "execution_count": 2,
   "id": "floral-globe",
   "metadata": {
    "execution": {
     "iopub.execute_input": "2021-10-30T05:15:16.017909Z",
     "iopub.status.busy": "2021-10-30T05:15:16.017038Z",
     "iopub.status.idle": "2021-10-30T05:15:16.593839Z",
     "shell.execute_reply": "2021-10-30T05:15:16.594255Z"
    }
   },
   "outputs": [
    {
     "data": {
      "text/html": [
       "<div>\n",
       "<style scoped>\n",
       "    .dataframe tbody tr th:only-of-type {\n",
       "        vertical-align: middle;\n",
       "    }\n",
       "\n",
       "    .dataframe tbody tr th {\n",
       "        vertical-align: top;\n",
       "    }\n",
       "\n",
       "    .dataframe thead th {\n",
       "        text-align: right;\n",
       "    }\n",
       "</style>\n",
       "<table border=\"1\" class=\"dataframe\">\n",
       "  <thead>\n",
       "    <tr style=\"text-align: right;\">\n",
       "      <th></th>\n",
       "      <th>be_iban</th>\n",
       "      <th>address</th>\n",
       "      <th>be_iban_clean</th>\n",
       "    </tr>\n",
       "  </thead>\n",
       "  <tbody>\n",
       "    <tr>\n",
       "      <th>0</th>\n",
       "      <td>BE32 123-4567890-02</td>\n",
       "      <td>123 Pine Ave.</td>\n",
       "      <td>BE32 1234 5678 9002</td>\n",
       "    </tr>\n",
       "    <tr>\n",
       "      <th>1</th>\n",
       "      <td>BE41091811735141</td>\n",
       "      <td>main st</td>\n",
       "      <td>NaN</td>\n",
       "    </tr>\n",
       "    <tr>\n",
       "      <th>2</th>\n",
       "      <td>BE83138811735115</td>\n",
       "      <td>1234 west main heights 57033</td>\n",
       "      <td>NaN</td>\n",
       "    </tr>\n",
       "    <tr>\n",
       "      <th>3</th>\n",
       "      <td>GR1601101050000010547023795</td>\n",
       "      <td>apt 1 789 s maple rd manhattan</td>\n",
       "      <td>NaN</td>\n",
       "    </tr>\n",
       "    <tr>\n",
       "      <th>4</th>\n",
       "      <td>BE 48 3200 7018 4927</td>\n",
       "      <td>robie house, 789 north main street</td>\n",
       "      <td>BE48 3200 7018 4927</td>\n",
       "    </tr>\n",
       "    <tr>\n",
       "      <th>5</th>\n",
       "      <td>hello</td>\n",
       "      <td>1111 S Figueroa St, Los Angeles, CA 90015</td>\n",
       "      <td>NaN</td>\n",
       "    </tr>\n",
       "    <tr>\n",
       "      <th>6</th>\n",
       "      <td>NaN</td>\n",
       "      <td>(staples center) 1111 S Figueroa St, Los Angeles</td>\n",
       "      <td>NaN</td>\n",
       "    </tr>\n",
       "    <tr>\n",
       "      <th>7</th>\n",
       "      <td>NULL</td>\n",
       "      <td>hello</td>\n",
       "      <td>NaN</td>\n",
       "    </tr>\n",
       "  </tbody>\n",
       "</table>\n",
       "</div>"
      ],
      "text/plain": [
       "                       be_iban  \\\n",
       "0          BE32 123-4567890-02   \n",
       "1             BE41091811735141   \n",
       "2             BE83138811735115   \n",
       "3  GR1601101050000010547023795   \n",
       "4         BE 48 3200 7018 4927   \n",
       "5                        hello   \n",
       "6                          NaN   \n",
       "7                         NULL   \n",
       "\n",
       "                                            address        be_iban_clean  \n",
       "0                                     123 Pine Ave.  BE32 1234 5678 9002  \n",
       "1                                           main st                  NaN  \n",
       "2                      1234 west main heights 57033                  NaN  \n",
       "3                    apt 1 789 s maple rd manhattan                  NaN  \n",
       "4                robie house, 789 north main street  BE48 3200 7018 4927  \n",
       "5         1111 S Figueroa St, Los Angeles, CA 90015                  NaN  \n",
       "6  (staples center) 1111 S Figueroa St, Los Angeles                  NaN  \n",
       "7                                             hello                  NaN  "
      ]
     },
     "execution_count": 1,
     "metadata": {},
     "output_type": "execute_result"
    }
   ],
   "source": [
    "from dataprep.clean import clean_be_iban\n",
    "clean_be_iban(df, column = \"be_iban\")"
   ]
  },
  {
   "cell_type": "markdown",
   "id": "convertible-firewall",
   "metadata": {},
   "source": [
    "## 2. Output formats"
   ]
  },
  {
   "cell_type": "markdown",
   "id": "comfortable-latvia",
   "metadata": {},
   "source": [
    "This section demonstrates the output parameter."
   ]
  },
  {
   "cell_type": "markdown",
   "id": "corresponding-mirror",
   "metadata": {},
   "source": [
    "### `standard` (default)"
   ]
  },
  {
   "cell_type": "code",
   "execution_count": 3,
   "id": "specified-minute",
   "metadata": {
    "execution": {
     "iopub.execute_input": "2021-10-30T05:15:16.620451Z",
     "iopub.status.busy": "2021-10-30T05:15:16.615657Z",
     "iopub.status.idle": "2021-10-30T05:15:16.623368Z",
     "shell.execute_reply": "2021-10-30T05:15:16.622931Z"
    }
   },
   "outputs": [
    {
     "data": {
      "text/html": [
       "<div>\n",
       "<style scoped>\n",
       "    .dataframe tbody tr th:only-of-type {\n",
       "        vertical-align: middle;\n",
       "    }\n",
       "\n",
       "    .dataframe tbody tr th {\n",
       "        vertical-align: top;\n",
       "    }\n",
       "\n",
       "    .dataframe thead th {\n",
       "        text-align: right;\n",
       "    }\n",
       "</style>\n",
       "<table border=\"1\" class=\"dataframe\">\n",
       "  <thead>\n",
       "    <tr style=\"text-align: right;\">\n",
       "      <th></th>\n",
       "      <th>be_iban</th>\n",
       "      <th>address</th>\n",
       "      <th>be_iban_clean</th>\n",
       "    </tr>\n",
       "  </thead>\n",
       "  <tbody>\n",
       "    <tr>\n",
       "      <th>0</th>\n",
       "      <td>BE32 123-4567890-02</td>\n",
       "      <td>123 Pine Ave.</td>\n",
       "      <td>BE32 1234 5678 9002</td>\n",
       "    </tr>\n",
       "    <tr>\n",
       "      <th>1</th>\n",
       "      <td>BE41091811735141</td>\n",
       "      <td>main st</td>\n",
       "      <td>NaN</td>\n",
       "    </tr>\n",
       "    <tr>\n",
       "      <th>2</th>\n",
       "      <td>BE83138811735115</td>\n",
       "      <td>1234 west main heights 57033</td>\n",
       "      <td>NaN</td>\n",
       "    </tr>\n",
       "    <tr>\n",
       "      <th>3</th>\n",
       "      <td>GR1601101050000010547023795</td>\n",
       "      <td>apt 1 789 s maple rd manhattan</td>\n",
       "      <td>NaN</td>\n",
       "    </tr>\n",
       "    <tr>\n",
       "      <th>4</th>\n",
       "      <td>BE 48 3200 7018 4927</td>\n",
       "      <td>robie house, 789 north main street</td>\n",
       "      <td>BE48 3200 7018 4927</td>\n",
       "    </tr>\n",
       "    <tr>\n",
       "      <th>5</th>\n",
       "      <td>hello</td>\n",
       "      <td>1111 S Figueroa St, Los Angeles, CA 90015</td>\n",
       "      <td>NaN</td>\n",
       "    </tr>\n",
       "    <tr>\n",
       "      <th>6</th>\n",
       "      <td>NaN</td>\n",
       "      <td>(staples center) 1111 S Figueroa St, Los Angeles</td>\n",
       "      <td>NaN</td>\n",
       "    </tr>\n",
       "    <tr>\n",
       "      <th>7</th>\n",
       "      <td>NULL</td>\n",
       "      <td>hello</td>\n",
       "      <td>NaN</td>\n",
       "    </tr>\n",
       "  </tbody>\n",
       "</table>\n",
       "</div>"
      ],
      "text/plain": [
       "                       be_iban  \\\n",
       "0          BE32 123-4567890-02   \n",
       "1             BE41091811735141   \n",
       "2             BE83138811735115   \n",
       "3  GR1601101050000010547023795   \n",
       "4         BE 48 3200 7018 4927   \n",
       "5                        hello   \n",
       "6                          NaN   \n",
       "7                         NULL   \n",
       "\n",
       "                                            address        be_iban_clean  \n",
       "0                                     123 Pine Ave.  BE32 1234 5678 9002  \n",
       "1                                           main st                  NaN  \n",
       "2                      1234 west main heights 57033                  NaN  \n",
       "3                    apt 1 789 s maple rd manhattan                  NaN  \n",
       "4                robie house, 789 north main street  BE48 3200 7018 4927  \n",
       "5         1111 S Figueroa St, Los Angeles, CA 90015                  NaN  \n",
       "6  (staples center) 1111 S Figueroa St, Los Angeles                  NaN  \n",
       "7                                             hello                  NaN  "
      ]
     },
     "execution_count": 1,
     "metadata": {},
     "output_type": "execute_result"
    }
   ],
   "source": [
    "clean_be_iban(df, column = \"be_iban\", output_format=\"standard\")"
   ]
  },
  {
   "cell_type": "markdown",
   "id": "intermediate-stevens",
   "metadata": {},
   "source": [
    "### `compact`"
   ]
  },
  {
   "cell_type": "code",
   "execution_count": 4,
   "id": "demanding-oracle",
   "metadata": {
    "execution": {
     "iopub.execute_input": "2021-10-30T05:15:16.645164Z",
     "iopub.status.busy": "2021-10-30T05:15:16.644684Z",
     "iopub.status.idle": "2021-10-30T05:15:16.651636Z",
     "shell.execute_reply": "2021-10-30T05:15:16.651168Z"
    }
   },
   "outputs": [
    {
     "data": {
      "text/html": [
       "<div>\n",
       "<style scoped>\n",
       "    .dataframe tbody tr th:only-of-type {\n",
       "        vertical-align: middle;\n",
       "    }\n",
       "\n",
       "    .dataframe tbody tr th {\n",
       "        vertical-align: top;\n",
       "    }\n",
       "\n",
       "    .dataframe thead th {\n",
       "        text-align: right;\n",
       "    }\n",
       "</style>\n",
       "<table border=\"1\" class=\"dataframe\">\n",
       "  <thead>\n",
       "    <tr style=\"text-align: right;\">\n",
       "      <th></th>\n",
       "      <th>be_iban</th>\n",
       "      <th>address</th>\n",
       "      <th>be_iban_clean</th>\n",
       "    </tr>\n",
       "  </thead>\n",
       "  <tbody>\n",
       "    <tr>\n",
       "      <th>0</th>\n",
       "      <td>BE32 123-4567890-02</td>\n",
       "      <td>123 Pine Ave.</td>\n",
       "      <td>BE32123456789002</td>\n",
       "    </tr>\n",
       "    <tr>\n",
       "      <th>1</th>\n",
       "      <td>BE41091811735141</td>\n",
       "      <td>main st</td>\n",
       "      <td>NaN</td>\n",
       "    </tr>\n",
       "    <tr>\n",
       "      <th>2</th>\n",
       "      <td>BE83138811735115</td>\n",
       "      <td>1234 west main heights 57033</td>\n",
       "      <td>NaN</td>\n",
       "    </tr>\n",
       "    <tr>\n",
       "      <th>3</th>\n",
       "      <td>GR1601101050000010547023795</td>\n",
       "      <td>apt 1 789 s maple rd manhattan</td>\n",
       "      <td>NaN</td>\n",
       "    </tr>\n",
       "    <tr>\n",
       "      <th>4</th>\n",
       "      <td>BE 48 3200 7018 4927</td>\n",
       "      <td>robie house, 789 north main street</td>\n",
       "      <td>BE48320070184927</td>\n",
       "    </tr>\n",
       "    <tr>\n",
       "      <th>5</th>\n",
       "      <td>hello</td>\n",
       "      <td>1111 S Figueroa St, Los Angeles, CA 90015</td>\n",
       "      <td>NaN</td>\n",
       "    </tr>\n",
       "    <tr>\n",
       "      <th>6</th>\n",
       "      <td>NaN</td>\n",
       "      <td>(staples center) 1111 S Figueroa St, Los Angeles</td>\n",
       "      <td>NaN</td>\n",
       "    </tr>\n",
       "    <tr>\n",
       "      <th>7</th>\n",
       "      <td>NULL</td>\n",
       "      <td>hello</td>\n",
       "      <td>NaN</td>\n",
       "    </tr>\n",
       "  </tbody>\n",
       "</table>\n",
       "</div>"
      ],
      "text/plain": [
       "                       be_iban  \\\n",
       "0          BE32 123-4567890-02   \n",
       "1             BE41091811735141   \n",
       "2             BE83138811735115   \n",
       "3  GR1601101050000010547023795   \n",
       "4         BE 48 3200 7018 4927   \n",
       "5                        hello   \n",
       "6                          NaN   \n",
       "7                         NULL   \n",
       "\n",
       "                                            address     be_iban_clean  \n",
       "0                                     123 Pine Ave.  BE32123456789002  \n",
       "1                                           main st               NaN  \n",
       "2                      1234 west main heights 57033               NaN  \n",
       "3                    apt 1 789 s maple rd manhattan               NaN  \n",
       "4                robie house, 789 north main street  BE48320070184927  \n",
       "5         1111 S Figueroa St, Los Angeles, CA 90015               NaN  \n",
       "6  (staples center) 1111 S Figueroa St, Los Angeles               NaN  \n",
       "7                                             hello               NaN  "
      ]
     },
     "execution_count": 1,
     "metadata": {},
     "output_type": "execute_result"
    }
   ],
   "source": [
    "clean_be_iban(df, column = \"be_iban\", output_format=\"compact\")"
   ]
  },
  {
   "cell_type": "markdown",
   "id": "backed-irish",
   "metadata": {},
   "source": [
    "### `bic`"
   ]
  },
  {
   "cell_type": "code",
   "execution_count": 5,
   "id": "unauthorized-cardiff",
   "metadata": {
    "execution": {
     "iopub.execute_input": "2021-10-30T05:15:16.661213Z",
     "iopub.status.busy": "2021-10-30T05:15:16.657882Z",
     "iopub.status.idle": "2021-10-30T05:15:16.681736Z",
     "shell.execute_reply": "2021-10-30T05:15:16.681303Z"
    }
   },
   "outputs": [
    {
     "data": {
      "text/html": [
       "<div>\n",
       "<style scoped>\n",
       "    .dataframe tbody tr th:only-of-type {\n",
       "        vertical-align: middle;\n",
       "    }\n",
       "\n",
       "    .dataframe tbody tr th {\n",
       "        vertical-align: top;\n",
       "    }\n",
       "\n",
       "    .dataframe thead th {\n",
       "        text-align: right;\n",
       "    }\n",
       "</style>\n",
       "<table border=\"1\" class=\"dataframe\">\n",
       "  <thead>\n",
       "    <tr style=\"text-align: right;\">\n",
       "      <th></th>\n",
       "      <th>be_iban</th>\n",
       "      <th>address</th>\n",
       "      <th>be_iban_clean</th>\n",
       "    </tr>\n",
       "  </thead>\n",
       "  <tbody>\n",
       "    <tr>\n",
       "      <th>0</th>\n",
       "      <td>BE32 123-4567890-02</td>\n",
       "      <td>123 Pine Ave.</td>\n",
       "      <td>CTBKBEBX</td>\n",
       "    </tr>\n",
       "    <tr>\n",
       "      <th>1</th>\n",
       "      <td>BE41091811735141</td>\n",
       "      <td>main st</td>\n",
       "      <td>NaN</td>\n",
       "    </tr>\n",
       "    <tr>\n",
       "      <th>2</th>\n",
       "      <td>BE83138811735115</td>\n",
       "      <td>1234 west main heights 57033</td>\n",
       "      <td>NaN</td>\n",
       "    </tr>\n",
       "    <tr>\n",
       "      <th>3</th>\n",
       "      <td>GR1601101050000010547023795</td>\n",
       "      <td>apt 1 789 s maple rd manhattan</td>\n",
       "      <td>NaN</td>\n",
       "    </tr>\n",
       "    <tr>\n",
       "      <th>4</th>\n",
       "      <td>BE 48 3200 7018 4927</td>\n",
       "      <td>robie house, 789 north main street</td>\n",
       "      <td>BBRUBEBB</td>\n",
       "    </tr>\n",
       "    <tr>\n",
       "      <th>5</th>\n",
       "      <td>hello</td>\n",
       "      <td>1111 S Figueroa St, Los Angeles, CA 90015</td>\n",
       "      <td>NaN</td>\n",
       "    </tr>\n",
       "    <tr>\n",
       "      <th>6</th>\n",
       "      <td>NaN</td>\n",
       "      <td>(staples center) 1111 S Figueroa St, Los Angeles</td>\n",
       "      <td>NaN</td>\n",
       "    </tr>\n",
       "    <tr>\n",
       "      <th>7</th>\n",
       "      <td>NULL</td>\n",
       "      <td>hello</td>\n",
       "      <td>NaN</td>\n",
       "    </tr>\n",
       "  </tbody>\n",
       "</table>\n",
       "</div>"
      ],
      "text/plain": [
       "                       be_iban  \\\n",
       "0          BE32 123-4567890-02   \n",
       "1             BE41091811735141   \n",
       "2             BE83138811735115   \n",
       "3  GR1601101050000010547023795   \n",
       "4         BE 48 3200 7018 4927   \n",
       "5                        hello   \n",
       "6                          NaN   \n",
       "7                         NULL   \n",
       "\n",
       "                                            address be_iban_clean  \n",
       "0                                     123 Pine Ave.      CTBKBEBX  \n",
       "1                                           main st           NaN  \n",
       "2                      1234 west main heights 57033           NaN  \n",
       "3                    apt 1 789 s maple rd manhattan           NaN  \n",
       "4                robie house, 789 north main street      BBRUBEBB  \n",
       "5         1111 S Figueroa St, Los Angeles, CA 90015           NaN  \n",
       "6  (staples center) 1111 S Figueroa St, Los Angeles           NaN  \n",
       "7                                             hello           NaN  "
      ]
     },
     "execution_count": 1,
     "metadata": {},
     "output_type": "execute_result"
    }
   ],
   "source": [
    "clean_be_iban(df, column = \"be_iban\", output_format=\"bic\")"
   ]
  },
  {
   "cell_type": "markdown",
   "id": "certain-darwin",
   "metadata": {},
   "source": [
    "## 3. `inplace` parameter\n",
    "\n",
    "This deletes the given column from the returned DataFrame. \n",
    "A new column containing cleaned Belgian IBAN strings is added with a title in the format `\"{original title}_clean\"`."
   ]
  },
  {
   "cell_type": "code",
   "execution_count": 6,
   "id": "removed-bathroom",
   "metadata": {
    "execution": {
     "iopub.execute_input": "2021-10-30T05:15:16.707205Z",
     "iopub.status.busy": "2021-10-30T05:15:16.706035Z",
     "iopub.status.idle": "2021-10-30T05:15:16.719333Z",
     "shell.execute_reply": "2021-10-30T05:15:16.718594Z"
    }
   },
   "outputs": [
    {
     "data": {
      "text/html": [
       "<div>\n",
       "<style scoped>\n",
       "    .dataframe tbody tr th:only-of-type {\n",
       "        vertical-align: middle;\n",
       "    }\n",
       "\n",
       "    .dataframe tbody tr th {\n",
       "        vertical-align: top;\n",
       "    }\n",
       "\n",
       "    .dataframe thead th {\n",
       "        text-align: right;\n",
       "    }\n",
       "</style>\n",
       "<table border=\"1\" class=\"dataframe\">\n",
       "  <thead>\n",
       "    <tr style=\"text-align: right;\">\n",
       "      <th></th>\n",
       "      <th>be_iban_clean</th>\n",
       "      <th>address</th>\n",
       "    </tr>\n",
       "  </thead>\n",
       "  <tbody>\n",
       "    <tr>\n",
       "      <th>0</th>\n",
       "      <td>BE32 1234 5678 9002</td>\n",
       "      <td>123 Pine Ave.</td>\n",
       "    </tr>\n",
       "    <tr>\n",
       "      <th>1</th>\n",
       "      <td>NaN</td>\n",
       "      <td>main st</td>\n",
       "    </tr>\n",
       "    <tr>\n",
       "      <th>2</th>\n",
       "      <td>NaN</td>\n",
       "      <td>1234 west main heights 57033</td>\n",
       "    </tr>\n",
       "    <tr>\n",
       "      <th>3</th>\n",
       "      <td>NaN</td>\n",
       "      <td>apt 1 789 s maple rd manhattan</td>\n",
       "    </tr>\n",
       "    <tr>\n",
       "      <th>4</th>\n",
       "      <td>BE48 3200 7018 4927</td>\n",
       "      <td>robie house, 789 north main street</td>\n",
       "    </tr>\n",
       "    <tr>\n",
       "      <th>5</th>\n",
       "      <td>NaN</td>\n",
       "      <td>1111 S Figueroa St, Los Angeles, CA 90015</td>\n",
       "    </tr>\n",
       "    <tr>\n",
       "      <th>6</th>\n",
       "      <td>NaN</td>\n",
       "      <td>(staples center) 1111 S Figueroa St, Los Angeles</td>\n",
       "    </tr>\n",
       "    <tr>\n",
       "      <th>7</th>\n",
       "      <td>NaN</td>\n",
       "      <td>hello</td>\n",
       "    </tr>\n",
       "  </tbody>\n",
       "</table>\n",
       "</div>"
      ],
      "text/plain": [
       "         be_iban_clean                                           address\n",
       "0  BE32 1234 5678 9002                                     123 Pine Ave.\n",
       "1                  NaN                                           main st\n",
       "2                  NaN                      1234 west main heights 57033\n",
       "3                  NaN                    apt 1 789 s maple rd manhattan\n",
       "4  BE48 3200 7018 4927                robie house, 789 north main street\n",
       "5                  NaN         1111 S Figueroa St, Los Angeles, CA 90015\n",
       "6                  NaN  (staples center) 1111 S Figueroa St, Los Angeles\n",
       "7                  NaN                                             hello"
      ]
     },
     "execution_count": 1,
     "metadata": {},
     "output_type": "execute_result"
    }
   ],
   "source": [
    "clean_be_iban(df, column=\"be_iban\", inplace=True)"
   ]
  },
  {
   "cell_type": "markdown",
   "id": "characteristic-agent",
   "metadata": {},
   "source": [
    "## 4. `errors` parameter"
   ]
  },
  {
   "cell_type": "markdown",
   "id": "educated-ottawa",
   "metadata": {},
   "source": [
    "### `coerce` (default)"
   ]
  },
  {
   "cell_type": "code",
   "execution_count": 7,
   "id": "practical-magnet",
   "metadata": {
    "execution": {
     "iopub.execute_input": "2021-10-30T05:15:16.744764Z",
     "iopub.status.busy": "2021-10-30T05:15:16.737808Z",
     "iopub.status.idle": "2021-10-30T05:15:16.749093Z",
     "shell.execute_reply": "2021-10-30T05:15:16.748669Z"
    }
   },
   "outputs": [
    {
     "data": {
      "text/html": [
       "<div>\n",
       "<style scoped>\n",
       "    .dataframe tbody tr th:only-of-type {\n",
       "        vertical-align: middle;\n",
       "    }\n",
       "\n",
       "    .dataframe tbody tr th {\n",
       "        vertical-align: top;\n",
       "    }\n",
       "\n",
       "    .dataframe thead th {\n",
       "        text-align: right;\n",
       "    }\n",
       "</style>\n",
       "<table border=\"1\" class=\"dataframe\">\n",
       "  <thead>\n",
       "    <tr style=\"text-align: right;\">\n",
       "      <th></th>\n",
       "      <th>be_iban</th>\n",
       "      <th>address</th>\n",
       "      <th>be_iban_clean</th>\n",
       "    </tr>\n",
       "  </thead>\n",
       "  <tbody>\n",
       "    <tr>\n",
       "      <th>0</th>\n",
       "      <td>BE32 123-4567890-02</td>\n",
       "      <td>123 Pine Ave.</td>\n",
       "      <td>BE32 1234 5678 9002</td>\n",
       "    </tr>\n",
       "    <tr>\n",
       "      <th>1</th>\n",
       "      <td>BE41091811735141</td>\n",
       "      <td>main st</td>\n",
       "      <td>NaN</td>\n",
       "    </tr>\n",
       "    <tr>\n",
       "      <th>2</th>\n",
       "      <td>BE83138811735115</td>\n",
       "      <td>1234 west main heights 57033</td>\n",
       "      <td>NaN</td>\n",
       "    </tr>\n",
       "    <tr>\n",
       "      <th>3</th>\n",
       "      <td>GR1601101050000010547023795</td>\n",
       "      <td>apt 1 789 s maple rd manhattan</td>\n",
       "      <td>NaN</td>\n",
       "    </tr>\n",
       "    <tr>\n",
       "      <th>4</th>\n",
       "      <td>BE 48 3200 7018 4927</td>\n",
       "      <td>robie house, 789 north main street</td>\n",
       "      <td>BE48 3200 7018 4927</td>\n",
       "    </tr>\n",
       "    <tr>\n",
       "      <th>5</th>\n",
       "      <td>hello</td>\n",
       "      <td>1111 S Figueroa St, Los Angeles, CA 90015</td>\n",
       "      <td>NaN</td>\n",
       "    </tr>\n",
       "    <tr>\n",
       "      <th>6</th>\n",
       "      <td>NaN</td>\n",
       "      <td>(staples center) 1111 S Figueroa St, Los Angeles</td>\n",
       "      <td>NaN</td>\n",
       "    </tr>\n",
       "    <tr>\n",
       "      <th>7</th>\n",
       "      <td>NULL</td>\n",
       "      <td>hello</td>\n",
       "      <td>NaN</td>\n",
       "    </tr>\n",
       "  </tbody>\n",
       "</table>\n",
       "</div>"
      ],
      "text/plain": [
       "                       be_iban  \\\n",
       "0          BE32 123-4567890-02   \n",
       "1             BE41091811735141   \n",
       "2             BE83138811735115   \n",
       "3  GR1601101050000010547023795   \n",
       "4         BE 48 3200 7018 4927   \n",
       "5                        hello   \n",
       "6                          NaN   \n",
       "7                         NULL   \n",
       "\n",
       "                                            address        be_iban_clean  \n",
       "0                                     123 Pine Ave.  BE32 1234 5678 9002  \n",
       "1                                           main st                  NaN  \n",
       "2                      1234 west main heights 57033                  NaN  \n",
       "3                    apt 1 789 s maple rd manhattan                  NaN  \n",
       "4                robie house, 789 north main street  BE48 3200 7018 4927  \n",
       "5         1111 S Figueroa St, Los Angeles, CA 90015                  NaN  \n",
       "6  (staples center) 1111 S Figueroa St, Los Angeles                  NaN  \n",
       "7                                             hello                  NaN  "
      ]
     },
     "execution_count": 1,
     "metadata": {},
     "output_type": "execute_result"
    }
   ],
   "source": [
    "clean_be_iban(df, \"be_iban\", errors=\"coerce\")"
   ]
  },
  {
   "cell_type": "markdown",
   "id": "union-martin",
   "metadata": {},
   "source": [
    "### `ignore`"
   ]
  },
  {
   "cell_type": "code",
   "execution_count": 8,
   "id": "little-diving",
   "metadata": {
    "execution": {
     "iopub.execute_input": "2021-10-30T05:15:16.770291Z",
     "iopub.status.busy": "2021-10-30T05:15:16.768126Z",
     "iopub.status.idle": "2021-10-30T05:15:16.778760Z",
     "shell.execute_reply": "2021-10-30T05:15:16.778331Z"
    }
   },
   "outputs": [
    {
     "data": {
      "text/html": [
       "<div>\n",
       "<style scoped>\n",
       "    .dataframe tbody tr th:only-of-type {\n",
       "        vertical-align: middle;\n",
       "    }\n",
       "\n",
       "    .dataframe tbody tr th {\n",
       "        vertical-align: top;\n",
       "    }\n",
       "\n",
       "    .dataframe thead th {\n",
       "        text-align: right;\n",
       "    }\n",
       "</style>\n",
       "<table border=\"1\" class=\"dataframe\">\n",
       "  <thead>\n",
       "    <tr style=\"text-align: right;\">\n",
       "      <th></th>\n",
       "      <th>be_iban</th>\n",
       "      <th>address</th>\n",
       "      <th>be_iban_clean</th>\n",
       "    </tr>\n",
       "  </thead>\n",
       "  <tbody>\n",
       "    <tr>\n",
       "      <th>0</th>\n",
       "      <td>BE32 123-4567890-02</td>\n",
       "      <td>123 Pine Ave.</td>\n",
       "      <td>BE32 1234 5678 9002</td>\n",
       "    </tr>\n",
       "    <tr>\n",
       "      <th>1</th>\n",
       "      <td>BE41091811735141</td>\n",
       "      <td>main st</td>\n",
       "      <td>BE41091811735141</td>\n",
       "    </tr>\n",
       "    <tr>\n",
       "      <th>2</th>\n",
       "      <td>BE83138811735115</td>\n",
       "      <td>1234 west main heights 57033</td>\n",
       "      <td>BE83138811735115</td>\n",
       "    </tr>\n",
       "    <tr>\n",
       "      <th>3</th>\n",
       "      <td>GR1601101050000010547023795</td>\n",
       "      <td>apt 1 789 s maple rd manhattan</td>\n",
       "      <td>GR1601101050000010547023795</td>\n",
       "    </tr>\n",
       "    <tr>\n",
       "      <th>4</th>\n",
       "      <td>BE 48 3200 7018 4927</td>\n",
       "      <td>robie house, 789 north main street</td>\n",
       "      <td>BE48 3200 7018 4927</td>\n",
       "    </tr>\n",
       "    <tr>\n",
       "      <th>5</th>\n",
       "      <td>hello</td>\n",
       "      <td>1111 S Figueroa St, Los Angeles, CA 90015</td>\n",
       "      <td>hello</td>\n",
       "    </tr>\n",
       "    <tr>\n",
       "      <th>6</th>\n",
       "      <td>NaN</td>\n",
       "      <td>(staples center) 1111 S Figueroa St, Los Angeles</td>\n",
       "      <td>NaN</td>\n",
       "    </tr>\n",
       "    <tr>\n",
       "      <th>7</th>\n",
       "      <td>NULL</td>\n",
       "      <td>hello</td>\n",
       "      <td>NaN</td>\n",
       "    </tr>\n",
       "  </tbody>\n",
       "</table>\n",
       "</div>"
      ],
      "text/plain": [
       "                       be_iban  \\\n",
       "0          BE32 123-4567890-02   \n",
       "1             BE41091811735141   \n",
       "2             BE83138811735115   \n",
       "3  GR1601101050000010547023795   \n",
       "4         BE 48 3200 7018 4927   \n",
       "5                        hello   \n",
       "6                          NaN   \n",
       "7                         NULL   \n",
       "\n",
       "                                            address  \\\n",
       "0                                     123 Pine Ave.   \n",
       "1                                           main st   \n",
       "2                      1234 west main heights 57033   \n",
       "3                    apt 1 789 s maple rd manhattan   \n",
       "4                robie house, 789 north main street   \n",
       "5         1111 S Figueroa St, Los Angeles, CA 90015   \n",
       "6  (staples center) 1111 S Figueroa St, Los Angeles   \n",
       "7                                             hello   \n",
       "\n",
       "                 be_iban_clean  \n",
       "0          BE32 1234 5678 9002  \n",
       "1             BE41091811735141  \n",
       "2             BE83138811735115  \n",
       "3  GR1601101050000010547023795  \n",
       "4          BE48 3200 7018 4927  \n",
       "5                        hello  \n",
       "6                          NaN  \n",
       "7                          NaN  "
      ]
     },
     "execution_count": 1,
     "metadata": {},
     "output_type": "execute_result"
    }
   ],
   "source": [
    "clean_be_iban(df, \"be_iban\", errors=\"ignore\")"
   ]
  },
  {
   "cell_type": "markdown",
   "id": "impressive-stephen",
   "metadata": {},
   "source": [
    "## 4. `validate_be_iban()`"
   ]
  },
  {
   "cell_type": "markdown",
   "id": "comparable-velvet",
   "metadata": {},
   "source": [
    "`validate_be_iban()` returns `True` when the input is a valid Belgian IBAN. Otherwise it returns `False`.\n",
    "\n",
    "The input of `validate_be_iban()` can be a string, a Pandas DataSeries, a Dask DataSeries, a Pandas DataFrame and a dask DataFrame.\n",
    "\n",
    "When the input is a string, a Pandas DataSeries or a Dask DataSeries, user doesn't need to specify a column name to be validated. \n",
    "\n",
    "When the input is a Pandas DataFrame or a dask DataFrame, user can both specify or not specify a column name to be validated. If user specify the column name, `validate_be_iban()` only returns the validation result for the specified column. If user doesn't specify the column name, `validate_be_iban()` returns the validation result for the whole DataFrame."
   ]
  },
  {
   "cell_type": "code",
   "execution_count": 9,
   "id": "precise-casino",
   "metadata": {
    "execution": {
     "iopub.execute_input": "2021-10-30T05:15:16.784325Z",
     "iopub.status.busy": "2021-10-30T05:15:16.783791Z",
     "iopub.status.idle": "2021-10-30T05:15:16.787044Z",
     "shell.execute_reply": "2021-10-30T05:15:16.787413Z"
    }
   },
   "outputs": [
    {
     "name": "stdout",
     "output_type": "stream",
     "text": [
      "True\n",
      "False\n",
      "False\n",
      "False\n",
      "False\n",
      "False\n",
      "False\n",
      "False\n"
     ]
    }
   ],
   "source": [
    "from dataprep.clean import validate_be_iban\n",
    "print(validate_be_iban(\"BE32 123-4567890-02\"))\n",
    "print(validate_be_iban(\"BE41091811735141\"))\n",
    "print(validate_be_iban(\"BE83138811735115\"))\n",
    "print(validate_be_iban(\"GR1601101050000010547023795\"))\n",
    "print(validate_be_iban(\"004085616\"))\n",
    "print(validate_be_iban(\"hello\"))\n",
    "print(validate_be_iban(np.nan))\n",
    "print(validate_be_iban(\"NULL\"))"
   ]
  },
  {
   "cell_type": "markdown",
   "id": "applicable-catalog",
   "metadata": {},
   "source": [
    "### Series"
   ]
  },
  {
   "cell_type": "code",
   "execution_count": 10,
   "id": "every-diagnosis",
   "metadata": {
    "execution": {
     "iopub.execute_input": "2021-10-30T05:15:16.792150Z",
     "iopub.status.busy": "2021-10-30T05:15:16.791671Z",
     "iopub.status.idle": "2021-10-30T05:15:16.795867Z",
     "shell.execute_reply": "2021-10-30T05:15:16.796256Z"
    }
   },
   "outputs": [
    {
     "data": {
      "text/plain": [
       "0     True\n",
       "1    False\n",
       "2    False\n",
       "3    False\n",
       "4     True\n",
       "5    False\n",
       "6    False\n",
       "7    False\n",
       "Name: be_iban, dtype: bool"
      ]
     },
     "execution_count": 1,
     "metadata": {},
     "output_type": "execute_result"
    }
   ],
   "source": [
    "validate_be_iban(df[\"be_iban\"])"
   ]
  },
  {
   "cell_type": "markdown",
   "id": "complete-murder",
   "metadata": {},
   "source": [
    "### DataFrame + Specify Column"
   ]
  },
  {
   "cell_type": "code",
   "execution_count": 11,
   "id": "genetic-genius",
   "metadata": {
    "execution": {
     "iopub.execute_input": "2021-10-30T05:15:16.801607Z",
     "iopub.status.busy": "2021-10-30T05:15:16.801119Z",
     "iopub.status.idle": "2021-10-30T05:15:16.803390Z",
     "shell.execute_reply": "2021-10-30T05:15:16.803799Z"
    }
   },
   "outputs": [
    {
     "data": {
      "text/plain": [
       "0     True\n",
       "1    False\n",
       "2    False\n",
       "3    False\n",
       "4     True\n",
       "5    False\n",
       "6    False\n",
       "7    False\n",
       "Name: be_iban, dtype: bool"
      ]
     },
     "execution_count": 1,
     "metadata": {},
     "output_type": "execute_result"
    }
   ],
   "source": [
    "validate_be_iban(df, column=\"be_iban\")"
   ]
  },
  {
   "cell_type": "markdown",
   "id": "filled-bulgaria",
   "metadata": {},
   "source": [
    "### Only DataFrame"
   ]
  },
  {
   "cell_type": "code",
   "execution_count": 12,
   "id": "compound-sitting",
   "metadata": {
    "execution": {
     "iopub.execute_input": "2021-10-30T05:15:16.812280Z",
     "iopub.status.busy": "2021-10-30T05:15:16.806395Z",
     "iopub.status.idle": "2021-10-30T05:15:16.814117Z",
     "shell.execute_reply": "2021-10-30T05:15:16.814520Z"
    }
   },
   "outputs": [
    {
     "data": {
      "text/html": [
       "<div>\n",
       "<style scoped>\n",
       "    .dataframe tbody tr th:only-of-type {\n",
       "        vertical-align: middle;\n",
       "    }\n",
       "\n",
       "    .dataframe tbody tr th {\n",
       "        vertical-align: top;\n",
       "    }\n",
       "\n",
       "    .dataframe thead th {\n",
       "        text-align: right;\n",
       "    }\n",
       "</style>\n",
       "<table border=\"1\" class=\"dataframe\">\n",
       "  <thead>\n",
       "    <tr style=\"text-align: right;\">\n",
       "      <th></th>\n",
       "      <th>be_iban</th>\n",
       "      <th>address</th>\n",
       "    </tr>\n",
       "  </thead>\n",
       "  <tbody>\n",
       "    <tr>\n",
       "      <th>0</th>\n",
       "      <td>True</td>\n",
       "      <td>False</td>\n",
       "    </tr>\n",
       "    <tr>\n",
       "      <th>1</th>\n",
       "      <td>False</td>\n",
       "      <td>False</td>\n",
       "    </tr>\n",
       "    <tr>\n",
       "      <th>2</th>\n",
       "      <td>False</td>\n",
       "      <td>False</td>\n",
       "    </tr>\n",
       "    <tr>\n",
       "      <th>3</th>\n",
       "      <td>False</td>\n",
       "      <td>False</td>\n",
       "    </tr>\n",
       "    <tr>\n",
       "      <th>4</th>\n",
       "      <td>True</td>\n",
       "      <td>False</td>\n",
       "    </tr>\n",
       "    <tr>\n",
       "      <th>5</th>\n",
       "      <td>False</td>\n",
       "      <td>False</td>\n",
       "    </tr>\n",
       "    <tr>\n",
       "      <th>6</th>\n",
       "      <td>False</td>\n",
       "      <td>False</td>\n",
       "    </tr>\n",
       "    <tr>\n",
       "      <th>7</th>\n",
       "      <td>False</td>\n",
       "      <td>False</td>\n",
       "    </tr>\n",
       "  </tbody>\n",
       "</table>\n",
       "</div>"
      ],
      "text/plain": [
       "   be_iban  address\n",
       "0     True    False\n",
       "1    False    False\n",
       "2    False    False\n",
       "3    False    False\n",
       "4     True    False\n",
       "5    False    False\n",
       "6    False    False\n",
       "7    False    False"
      ]
     },
     "execution_count": 1,
     "metadata": {},
     "output_type": "execute_result"
    }
   ],
   "source": [
    "validate_be_iban(df)"
   ]
  },
  {
   "cell_type": "code",
   "execution_count": null,
   "id": "regulated-saying",
   "metadata": {},
   "outputs": [],
   "source": []
  }
 ],
 "metadata": {
  "kernelspec": {
   "display_name": "Python 3",
   "language": "python",
   "name": "python3"
  },
  "language_info": {
   "codemirror_mode": {
    "name": "ipython",
    "version": 3
   },
   "file_extension": ".py",
   "mimetype": "text/x-python",
   "name": "python",
   "nbconvert_exporter": "python",
   "pygments_lexer": "ipython3",
   "version": "3.8.10"
  }
 },
 "nbformat": 4,
 "nbformat_minor": 5
}
