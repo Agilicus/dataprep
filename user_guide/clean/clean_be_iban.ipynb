{
 "cells": [
  {
   "cell_type": "raw",
   "id": "valid-garage",
   "metadata": {},
   "source": [
    ".. _be_iban_userguide:\n",
    "\n",
    "Belgian IBAN Strings\n",
    "============"
   ]
  },
  {
   "cell_type": "raw",
   "id": "fifty-commodity",
   "metadata": {},
   "source": [
    "Introduction\n",
    "------------\n",
    "\n",
    "The function :func:`clean_be_iban() <dataprep.clean.clean_be_iban.clean_be_iban>` cleans a column containing Belgian IBAN (International Bank Account Number) strings, and standardizes them in a given format. The function :func:`validate_be_iban() <dataprep.clean.clean_be_iban.validate_be_iban>` validates either a single Belgian IBAN strings, a column of Belgian IBAN strings or a DataFrame of Belgian IBAN strings, returning `True` if the value is valid, and `False` otherwise."
   ]
  },
  {
   "cell_type": "markdown",
   "id": "reverse-effort",
   "metadata": {},
   "source": [
    "Belgian IBAN strings can be converted to the following formats via the `output_format` parameter:\n",
    "\n",
    "* `compact`: only number strings without any seperators or whitespace, like \"BE32123456789002\"\n",
    "* `standard`: Belgian IBAN strings with proper whitespace in the proper places, like \"BE32 1234 5678 9002\"\n",
    "* `bic`: return the BIC for the bank that this number refers to, like \"CTBKBEBX\".\n",
    "\n",
    "Invalid parsing is handled with the `errors` parameter:\n",
    "\n",
    "* `coerce` (default): invalid parsing will be set to NaN\n",
    "* `ignore`: invalid parsing will return the input\n",
    "* `raise`: invalid parsing will raise an exception\n",
    "\n",
    "The following sections demonstrate the functionality of `clean_be_iban()` and `validate_be_iban()`. "
   ]
  },
  {
   "cell_type": "markdown",
   "id": "apart-woman",
   "metadata": {},
   "source": [
    "### An example dataset containing Belgian IBAN strings"
   ]
  },
  {
   "cell_type": "code",
   "execution_count": 1,
   "id": "eligible-knitting",
   "metadata": {
    "execution": {
     "iopub.execute_input": "2021-10-26T23:34:16.129306Z",
     "iopub.status.busy": "2021-10-26T23:34:16.128651Z",
     "iopub.status.idle": "2021-10-26T23:34:16.429870Z",
     "shell.execute_reply": "2021-10-26T23:34:16.428753Z"
    }
   },
   "outputs": [
    {
     "data": {
      "text/html": [
       "<div>\n",
       "<style scoped>\n",
       "    .dataframe tbody tr th:only-of-type {\n",
       "        vertical-align: middle;\n",
       "    }\n",
       "\n",
       "    .dataframe tbody tr th {\n",
       "        vertical-align: top;\n",
       "    }\n",
       "\n",
       "    .dataframe thead th {\n",
       "        text-align: right;\n",
       "    }\n",
       "</style>\n",
       "<table border=\"1\" class=\"dataframe\">\n",
       "  <thead>\n",
       "    <tr style=\"text-align: right;\">\n",
       "      <th></th>\n",
       "      <th>be_iban</th>\n",
       "      <th>address</th>\n",
       "    </tr>\n",
       "  </thead>\n",
       "  <tbody>\n",
       "    <tr>\n",
       "      <th>0</th>\n",
       "      <td>BE32 123-4567890-02</td>\n",
       "      <td>123 Pine Ave.</td>\n",
       "    </tr>\n",
       "    <tr>\n",
       "      <th>1</th>\n",
       "      <td>BE41091811735141</td>\n",
       "      <td>main st</td>\n",
       "    </tr>\n",
       "    <tr>\n",
       "      <th>2</th>\n",
       "      <td>BE83138811735115</td>\n",
       "      <td>1234 west main heights 57033</td>\n",
       "    </tr>\n",
       "    <tr>\n",
       "      <th>3</th>\n",
       "      <td>GR1601101050000010547023795</td>\n",
       "      <td>apt 1 789 s maple rd manhattan</td>\n",
       "    </tr>\n",
       "    <tr>\n",
       "      <th>4</th>\n",
       "      <td>BE 48 3200 7018 4927</td>\n",
       "      <td>robie house, 789 north main street</td>\n",
       "    </tr>\n",
       "    <tr>\n",
       "      <th>5</th>\n",
       "      <td>hello</td>\n",
       "      <td>1111 S Figueroa St, Los Angeles, CA 90015</td>\n",
       "    </tr>\n",
       "    <tr>\n",
       "      <th>6</th>\n",
       "      <td>NaN</td>\n",
       "      <td>(staples center) 1111 S Figueroa St, Los Angeles</td>\n",
       "    </tr>\n",
       "    <tr>\n",
       "      <th>7</th>\n",
       "      <td>NULL</td>\n",
       "      <td>hello</td>\n",
       "    </tr>\n",
       "  </tbody>\n",
       "</table>\n",
       "</div>"
      ],
      "text/plain": [
       "                       be_iban  \\\n",
       "0          BE32 123-4567890-02   \n",
       "1             BE41091811735141   \n",
       "2             BE83138811735115   \n",
       "3  GR1601101050000010547023795   \n",
       "4         BE 48 3200 7018 4927   \n",
       "5                        hello   \n",
       "6                          NaN   \n",
       "7                         NULL   \n",
       "\n",
       "                                            address  \n",
       "0                                     123 Pine Ave.  \n",
       "1                                           main st  \n",
       "2                      1234 west main heights 57033  \n",
       "3                    apt 1 789 s maple rd manhattan  \n",
       "4                robie house, 789 north main street  \n",
       "5         1111 S Figueroa St, Los Angeles, CA 90015  \n",
       "6  (staples center) 1111 S Figueroa St, Los Angeles  \n",
       "7                                             hello  "
      ]
     },
     "execution_count": 1,
     "metadata": {},
     "output_type": "execute_result"
    }
   ],
   "source": [
    "import pandas as pd\n",
    "import numpy as np\n",
    "df = pd.DataFrame(\n",
    "    {\n",
    "        \"be_iban\": [\n",
    "            \"BE32 123-4567890-02\",\n",
    "            \"BE41091811735141\",             # incorrect national check digits\n",
    "            \"BE83138811735115\",             # unknown bank code\n",
    "            \"GR1601101050000010547023795\",  # not a Belgian IBAN\n",
    "            \"BE 48 3200 7018 4927\",\n",
    "            \"hello\",\n",
    "            np.nan,\n",
    "            \"NULL\",\n",
    "        ], \n",
    "        \"address\": [\n",
    "            \"123 Pine Ave.\",\n",
    "            \"main st\",\n",
    "            \"1234 west main heights 57033\",\n",
    "            \"apt 1 789 s maple rd manhattan\",\n",
    "            \"robie house, 789 north main street\",\n",
    "            \"1111 S Figueroa St, Los Angeles, CA 90015\",\n",
    "            \"(staples center) 1111 S Figueroa St, Los Angeles\",\n",
    "            \"hello\",\n",
    "        ]\n",
    "    }\n",
    ")\n",
    "df"
   ]
  },
  {
   "cell_type": "markdown",
   "id": "happy-people",
   "metadata": {},
   "source": [
    "## 1. Default `clean_be_iban`\n",
    "\n",
    "By default, `clean_be_iban` will clean be_iban strings and output them in the standard format with proper separators."
   ]
  },
  {
   "cell_type": "code",
   "execution_count": 2,
   "id": "empirical-setting",
   "metadata": {
    "execution": {
     "iopub.execute_input": "2021-10-26T23:34:16.435387Z",
     "iopub.status.busy": "2021-10-26T23:34:16.434112Z",
     "iopub.status.idle": "2021-10-26T23:34:17.214301Z",
     "shell.execute_reply": "2021-10-26T23:34:17.213407Z"
    }
   },
   "outputs": [
    {
     "data": {
      "text/html": [
       "<div>\n",
       "<style scoped>\n",
       "    .dataframe tbody tr th:only-of-type {\n",
       "        vertical-align: middle;\n",
       "    }\n",
       "\n",
       "    .dataframe tbody tr th {\n",
       "        vertical-align: top;\n",
       "    }\n",
       "\n",
       "    .dataframe thead th {\n",
       "        text-align: right;\n",
       "    }\n",
       "</style>\n",
       "<table border=\"1\" class=\"dataframe\">\n",
       "  <thead>\n",
       "    <tr style=\"text-align: right;\">\n",
       "      <th></th>\n",
       "      <th>be_iban</th>\n",
       "      <th>address</th>\n",
       "      <th>be_iban_clean</th>\n",
       "    </tr>\n",
       "  </thead>\n",
       "  <tbody>\n",
       "    <tr>\n",
       "      <th>0</th>\n",
       "      <td>BE32 123-4567890-02</td>\n",
       "      <td>123 Pine Ave.</td>\n",
       "      <td>BE32 1234 5678 9002</td>\n",
       "    </tr>\n",
       "    <tr>\n",
       "      <th>1</th>\n",
       "      <td>BE41091811735141</td>\n",
       "      <td>main st</td>\n",
       "      <td>NaN</td>\n",
       "    </tr>\n",
       "    <tr>\n",
       "      <th>2</th>\n",
       "      <td>BE83138811735115</td>\n",
       "      <td>1234 west main heights 57033</td>\n",
       "      <td>NaN</td>\n",
       "    </tr>\n",
       "    <tr>\n",
       "      <th>3</th>\n",
       "      <td>GR1601101050000010547023795</td>\n",
       "      <td>apt 1 789 s maple rd manhattan</td>\n",
       "      <td>NaN</td>\n",
       "    </tr>\n",
       "    <tr>\n",
       "      <th>4</th>\n",
       "      <td>BE 48 3200 7018 4927</td>\n",
       "      <td>robie house, 789 north main street</td>\n",
       "      <td>BE48 3200 7018 4927</td>\n",
       "    </tr>\n",
       "    <tr>\n",
       "      <th>5</th>\n",
       "      <td>hello</td>\n",
       "      <td>1111 S Figueroa St, Los Angeles, CA 90015</td>\n",
       "      <td>NaN</td>\n",
       "    </tr>\n",
       "    <tr>\n",
       "      <th>6</th>\n",
       "      <td>NaN</td>\n",
       "      <td>(staples center) 1111 S Figueroa St, Los Angeles</td>\n",
       "      <td>NaN</td>\n",
       "    </tr>\n",
       "    <tr>\n",
       "      <th>7</th>\n",
       "      <td>NULL</td>\n",
       "      <td>hello</td>\n",
       "      <td>NaN</td>\n",
       "    </tr>\n",
       "  </tbody>\n",
       "</table>\n",
       "</div>"
      ],
      "text/plain": [
       "                       be_iban  \\\n",
       "0          BE32 123-4567890-02   \n",
       "1             BE41091811735141   \n",
       "2             BE83138811735115   \n",
       "3  GR1601101050000010547023795   \n",
       "4         BE 48 3200 7018 4927   \n",
       "5                        hello   \n",
       "6                          NaN   \n",
       "7                         NULL   \n",
       "\n",
       "                                            address        be_iban_clean  \n",
       "0                                     123 Pine Ave.  BE32 1234 5678 9002  \n",
       "1                                           main st                  NaN  \n",
       "2                      1234 west main heights 57033                  NaN  \n",
       "3                    apt 1 789 s maple rd manhattan                  NaN  \n",
       "4                robie house, 789 north main street  BE48 3200 7018 4927  \n",
       "5         1111 S Figueroa St, Los Angeles, CA 90015                  NaN  \n",
       "6  (staples center) 1111 S Figueroa St, Los Angeles                  NaN  \n",
       "7                                             hello                  NaN  "
      ]
     },
     "execution_count": 1,
     "metadata": {},
     "output_type": "execute_result"
    }
   ],
   "source": [
    "from dataprep.clean import clean_be_iban\n",
    "clean_be_iban(df, column = \"be_iban\")"
   ]
  },
  {
   "cell_type": "markdown",
   "id": "chronic-missile",
   "metadata": {},
   "source": [
    "## 2. Output formats"
   ]
  },
  {
   "cell_type": "markdown",
   "id": "exterior-balloon",
   "metadata": {},
   "source": [
    "This section demonstrates the output parameter."
   ]
  },
  {
   "cell_type": "markdown",
   "id": "traditional-marina",
   "metadata": {},
   "source": [
    "### `standard` (default)"
   ]
  },
  {
   "cell_type": "code",
   "execution_count": 3,
   "id": "superb-yeast",
   "metadata": {
    "execution": {
     "iopub.execute_input": "2021-10-26T23:34:17.246052Z",
     "iopub.status.busy": "2021-10-26T23:34:17.245398Z",
     "iopub.status.idle": "2021-10-26T23:34:17.258583Z",
     "shell.execute_reply": "2021-10-26T23:34:17.259401Z"
    }
   },
   "outputs": [
    {
     "data": {
      "text/html": [
       "<div>\n",
       "<style scoped>\n",
       "    .dataframe tbody tr th:only-of-type {\n",
       "        vertical-align: middle;\n",
       "    }\n",
       "\n",
       "    .dataframe tbody tr th {\n",
       "        vertical-align: top;\n",
       "    }\n",
       "\n",
       "    .dataframe thead th {\n",
       "        text-align: right;\n",
       "    }\n",
       "</style>\n",
       "<table border=\"1\" class=\"dataframe\">\n",
       "  <thead>\n",
       "    <tr style=\"text-align: right;\">\n",
       "      <th></th>\n",
       "      <th>be_iban</th>\n",
       "      <th>address</th>\n",
       "      <th>be_iban_clean</th>\n",
       "    </tr>\n",
       "  </thead>\n",
       "  <tbody>\n",
       "    <tr>\n",
       "      <th>0</th>\n",
       "      <td>BE32 123-4567890-02</td>\n",
       "      <td>123 Pine Ave.</td>\n",
       "      <td>BE32 1234 5678 9002</td>\n",
       "    </tr>\n",
       "    <tr>\n",
       "      <th>1</th>\n",
       "      <td>BE41091811735141</td>\n",
       "      <td>main st</td>\n",
       "      <td>NaN</td>\n",
       "    </tr>\n",
       "    <tr>\n",
       "      <th>2</th>\n",
       "      <td>BE83138811735115</td>\n",
       "      <td>1234 west main heights 57033</td>\n",
       "      <td>NaN</td>\n",
       "    </tr>\n",
       "    <tr>\n",
       "      <th>3</th>\n",
       "      <td>GR1601101050000010547023795</td>\n",
       "      <td>apt 1 789 s maple rd manhattan</td>\n",
       "      <td>NaN</td>\n",
       "    </tr>\n",
       "    <tr>\n",
       "      <th>4</th>\n",
       "      <td>BE 48 3200 7018 4927</td>\n",
       "      <td>robie house, 789 north main street</td>\n",
       "      <td>BE48 3200 7018 4927</td>\n",
       "    </tr>\n",
       "    <tr>\n",
       "      <th>5</th>\n",
       "      <td>hello</td>\n",
       "      <td>1111 S Figueroa St, Los Angeles, CA 90015</td>\n",
       "      <td>NaN</td>\n",
       "    </tr>\n",
       "    <tr>\n",
       "      <th>6</th>\n",
       "      <td>NaN</td>\n",
       "      <td>(staples center) 1111 S Figueroa St, Los Angeles</td>\n",
       "      <td>NaN</td>\n",
       "    </tr>\n",
       "    <tr>\n",
       "      <th>7</th>\n",
       "      <td>NULL</td>\n",
       "      <td>hello</td>\n",
       "      <td>NaN</td>\n",
       "    </tr>\n",
       "  </tbody>\n",
       "</table>\n",
       "</div>"
      ],
      "text/plain": [
       "                       be_iban  \\\n",
       "0          BE32 123-4567890-02   \n",
       "1             BE41091811735141   \n",
       "2             BE83138811735115   \n",
       "3  GR1601101050000010547023795   \n",
       "4         BE 48 3200 7018 4927   \n",
       "5                        hello   \n",
       "6                          NaN   \n",
       "7                         NULL   \n",
       "\n",
       "                                            address        be_iban_clean  \n",
       "0                                     123 Pine Ave.  BE32 1234 5678 9002  \n",
       "1                                           main st                  NaN  \n",
       "2                      1234 west main heights 57033                  NaN  \n",
       "3                    apt 1 789 s maple rd manhattan                  NaN  \n",
       "4                robie house, 789 north main street  BE48 3200 7018 4927  \n",
       "5         1111 S Figueroa St, Los Angeles, CA 90015                  NaN  \n",
       "6  (staples center) 1111 S Figueroa St, Los Angeles                  NaN  \n",
       "7                                             hello                  NaN  "
      ]
     },
     "execution_count": 1,
     "metadata": {},
     "output_type": "execute_result"
    }
   ],
   "source": [
    "clean_be_iban(df, column = \"be_iban\", output_format=\"standard\")"
   ]
  },
  {
   "cell_type": "markdown",
   "id": "peaceful-metropolitan",
   "metadata": {},
   "source": [
    "### `compact`"
   ]
  },
  {
   "cell_type": "code",
   "execution_count": 4,
   "id": "reduced-tamil",
   "metadata": {
    "execution": {
     "iopub.execute_input": "2021-10-26T23:34:17.289378Z",
     "iopub.status.busy": "2021-10-26T23:34:17.283167Z",
     "iopub.status.idle": "2021-10-26T23:34:17.302333Z",
     "shell.execute_reply": "2021-10-26T23:34:17.301484Z"
    }
   },
   "outputs": [
    {
     "data": {
      "text/html": [
       "<div>\n",
       "<style scoped>\n",
       "    .dataframe tbody tr th:only-of-type {\n",
       "        vertical-align: middle;\n",
       "    }\n",
       "\n",
       "    .dataframe tbody tr th {\n",
       "        vertical-align: top;\n",
       "    }\n",
       "\n",
       "    .dataframe thead th {\n",
       "        text-align: right;\n",
       "    }\n",
       "</style>\n",
       "<table border=\"1\" class=\"dataframe\">\n",
       "  <thead>\n",
       "    <tr style=\"text-align: right;\">\n",
       "      <th></th>\n",
       "      <th>be_iban</th>\n",
       "      <th>address</th>\n",
       "      <th>be_iban_clean</th>\n",
       "    </tr>\n",
       "  </thead>\n",
       "  <tbody>\n",
       "    <tr>\n",
       "      <th>0</th>\n",
       "      <td>BE32 123-4567890-02</td>\n",
       "      <td>123 Pine Ave.</td>\n",
       "      <td>BE32123456789002</td>\n",
       "    </tr>\n",
       "    <tr>\n",
       "      <th>1</th>\n",
       "      <td>BE41091811735141</td>\n",
       "      <td>main st</td>\n",
       "      <td>NaN</td>\n",
       "    </tr>\n",
       "    <tr>\n",
       "      <th>2</th>\n",
       "      <td>BE83138811735115</td>\n",
       "      <td>1234 west main heights 57033</td>\n",
       "      <td>NaN</td>\n",
       "    </tr>\n",
       "    <tr>\n",
       "      <th>3</th>\n",
       "      <td>GR1601101050000010547023795</td>\n",
       "      <td>apt 1 789 s maple rd manhattan</td>\n",
       "      <td>NaN</td>\n",
       "    </tr>\n",
       "    <tr>\n",
       "      <th>4</th>\n",
       "      <td>BE 48 3200 7018 4927</td>\n",
       "      <td>robie house, 789 north main street</td>\n",
       "      <td>BE48320070184927</td>\n",
       "    </tr>\n",
       "    <tr>\n",
       "      <th>5</th>\n",
       "      <td>hello</td>\n",
       "      <td>1111 S Figueroa St, Los Angeles, CA 90015</td>\n",
       "      <td>NaN</td>\n",
       "    </tr>\n",
       "    <tr>\n",
       "      <th>6</th>\n",
       "      <td>NaN</td>\n",
       "      <td>(staples center) 1111 S Figueroa St, Los Angeles</td>\n",
       "      <td>NaN</td>\n",
       "    </tr>\n",
       "    <tr>\n",
       "      <th>7</th>\n",
       "      <td>NULL</td>\n",
       "      <td>hello</td>\n",
       "      <td>NaN</td>\n",
       "    </tr>\n",
       "  </tbody>\n",
       "</table>\n",
       "</div>"
      ],
      "text/plain": [
       "                       be_iban  \\\n",
       "0          BE32 123-4567890-02   \n",
       "1             BE41091811735141   \n",
       "2             BE83138811735115   \n",
       "3  GR1601101050000010547023795   \n",
       "4         BE 48 3200 7018 4927   \n",
       "5                        hello   \n",
       "6                          NaN   \n",
       "7                         NULL   \n",
       "\n",
       "                                            address     be_iban_clean  \n",
       "0                                     123 Pine Ave.  BE32123456789002  \n",
       "1                                           main st               NaN  \n",
       "2                      1234 west main heights 57033               NaN  \n",
       "3                    apt 1 789 s maple rd manhattan               NaN  \n",
       "4                robie house, 789 north main street  BE48320070184927  \n",
       "5         1111 S Figueroa St, Los Angeles, CA 90015               NaN  \n",
       "6  (staples center) 1111 S Figueroa St, Los Angeles               NaN  \n",
       "7                                             hello               NaN  "
      ]
     },
     "execution_count": 1,
     "metadata": {},
     "output_type": "execute_result"
    }
   ],
   "source": [
    "clean_be_iban(df, column = \"be_iban\", output_format=\"compact\")"
   ]
  },
  {
   "cell_type": "markdown",
   "id": "bacterial-tracy",
   "metadata": {},
   "source": [
    "### `bic`"
   ]
  },
  {
   "cell_type": "code",
   "execution_count": 5,
   "id": "ordinary-atlanta",
   "metadata": {
    "execution": {
     "iopub.execute_input": "2021-10-26T23:34:17.343474Z",
     "iopub.status.busy": "2021-10-26T23:34:17.338184Z",
     "iopub.status.idle": "2021-10-26T23:34:17.354603Z",
     "shell.execute_reply": "2021-10-26T23:34:17.355454Z"
    }
   },
   "outputs": [
    {
     "data": {
      "text/html": [
       "<div>\n",
       "<style scoped>\n",
       "    .dataframe tbody tr th:only-of-type {\n",
       "        vertical-align: middle;\n",
       "    }\n",
       "\n",
       "    .dataframe tbody tr th {\n",
       "        vertical-align: top;\n",
       "    }\n",
       "\n",
       "    .dataframe thead th {\n",
       "        text-align: right;\n",
       "    }\n",
       "</style>\n",
       "<table border=\"1\" class=\"dataframe\">\n",
       "  <thead>\n",
       "    <tr style=\"text-align: right;\">\n",
       "      <th></th>\n",
       "      <th>be_iban</th>\n",
       "      <th>address</th>\n",
       "      <th>be_iban_clean</th>\n",
       "    </tr>\n",
       "  </thead>\n",
       "  <tbody>\n",
       "    <tr>\n",
       "      <th>0</th>\n",
       "      <td>BE32 123-4567890-02</td>\n",
       "      <td>123 Pine Ave.</td>\n",
       "      <td>CTBKBEBX</td>\n",
       "    </tr>\n",
       "    <tr>\n",
       "      <th>1</th>\n",
       "      <td>BE41091811735141</td>\n",
       "      <td>main st</td>\n",
       "      <td>NaN</td>\n",
       "    </tr>\n",
       "    <tr>\n",
       "      <th>2</th>\n",
       "      <td>BE83138811735115</td>\n",
       "      <td>1234 west main heights 57033</td>\n",
       "      <td>NaN</td>\n",
       "    </tr>\n",
       "    <tr>\n",
       "      <th>3</th>\n",
       "      <td>GR1601101050000010547023795</td>\n",
       "      <td>apt 1 789 s maple rd manhattan</td>\n",
       "      <td>NaN</td>\n",
       "    </tr>\n",
       "    <tr>\n",
       "      <th>4</th>\n",
       "      <td>BE 48 3200 7018 4927</td>\n",
       "      <td>robie house, 789 north main street</td>\n",
       "      <td>BBRUBEBB</td>\n",
       "    </tr>\n",
       "    <tr>\n",
       "      <th>5</th>\n",
       "      <td>hello</td>\n",
       "      <td>1111 S Figueroa St, Los Angeles, CA 90015</td>\n",
       "      <td>NaN</td>\n",
       "    </tr>\n",
       "    <tr>\n",
       "      <th>6</th>\n",
       "      <td>NaN</td>\n",
       "      <td>(staples center) 1111 S Figueroa St, Los Angeles</td>\n",
       "      <td>NaN</td>\n",
       "    </tr>\n",
       "    <tr>\n",
       "      <th>7</th>\n",
       "      <td>NULL</td>\n",
       "      <td>hello</td>\n",
       "      <td>NaN</td>\n",
       "    </tr>\n",
       "  </tbody>\n",
       "</table>\n",
       "</div>"
      ],
      "text/plain": [
       "                       be_iban  \\\n",
       "0          BE32 123-4567890-02   \n",
       "1             BE41091811735141   \n",
       "2             BE83138811735115   \n",
       "3  GR1601101050000010547023795   \n",
       "4         BE 48 3200 7018 4927   \n",
       "5                        hello   \n",
       "6                          NaN   \n",
       "7                         NULL   \n",
       "\n",
       "                                            address be_iban_clean  \n",
       "0                                     123 Pine Ave.      CTBKBEBX  \n",
       "1                                           main st           NaN  \n",
       "2                      1234 west main heights 57033           NaN  \n",
       "3                    apt 1 789 s maple rd manhattan           NaN  \n",
       "4                robie house, 789 north main street      BBRUBEBB  \n",
       "5         1111 S Figueroa St, Los Angeles, CA 90015           NaN  \n",
       "6  (staples center) 1111 S Figueroa St, Los Angeles           NaN  \n",
       "7                                             hello           NaN  "
      ]
     },
     "execution_count": 1,
     "metadata": {},
     "output_type": "execute_result"
    }
   ],
   "source": [
    "clean_be_iban(df, column = \"be_iban\", output_format=\"bic\")"
   ]
  },
  {
   "cell_type": "markdown",
   "id": "wound-hazard",
   "metadata": {},
   "source": [
    "## 3. `inplace` parameter\n",
    "\n",
    "This deletes the given column from the returned DataFrame. \n",
    "A new column containing cleaned Belgian IBAN strings is added with a title in the format `\"{original title}_clean\"`."
   ]
  },
  {
   "cell_type": "code",
   "execution_count": 6,
   "id": "sorted-illinois",
   "metadata": {
    "execution": {
     "iopub.execute_input": "2021-10-26T23:34:17.397187Z",
     "iopub.status.busy": "2021-10-26T23:34:17.396057Z",
     "iopub.status.idle": "2021-10-26T23:34:17.406192Z",
     "shell.execute_reply": "2021-10-26T23:34:17.406724Z"
    }
   },
   "outputs": [
    {
     "data": {
      "text/html": [
       "<div>\n",
       "<style scoped>\n",
       "    .dataframe tbody tr th:only-of-type {\n",
       "        vertical-align: middle;\n",
       "    }\n",
       "\n",
       "    .dataframe tbody tr th {\n",
       "        vertical-align: top;\n",
       "    }\n",
       "\n",
       "    .dataframe thead th {\n",
       "        text-align: right;\n",
       "    }\n",
       "</style>\n",
       "<table border=\"1\" class=\"dataframe\">\n",
       "  <thead>\n",
       "    <tr style=\"text-align: right;\">\n",
       "      <th></th>\n",
       "      <th>be_iban_clean</th>\n",
       "      <th>address</th>\n",
       "    </tr>\n",
       "  </thead>\n",
       "  <tbody>\n",
       "    <tr>\n",
       "      <th>0</th>\n",
       "      <td>BE32 1234 5678 9002</td>\n",
       "      <td>123 Pine Ave.</td>\n",
       "    </tr>\n",
       "    <tr>\n",
       "      <th>1</th>\n",
       "      <td>NaN</td>\n",
       "      <td>main st</td>\n",
       "    </tr>\n",
       "    <tr>\n",
       "      <th>2</th>\n",
       "      <td>NaN</td>\n",
       "      <td>1234 west main heights 57033</td>\n",
       "    </tr>\n",
       "    <tr>\n",
       "      <th>3</th>\n",
       "      <td>NaN</td>\n",
       "      <td>apt 1 789 s maple rd manhattan</td>\n",
       "    </tr>\n",
       "    <tr>\n",
       "      <th>4</th>\n",
       "      <td>BE48 3200 7018 4927</td>\n",
       "      <td>robie house, 789 north main street</td>\n",
       "    </tr>\n",
       "    <tr>\n",
       "      <th>5</th>\n",
       "      <td>NaN</td>\n",
       "      <td>1111 S Figueroa St, Los Angeles, CA 90015</td>\n",
       "    </tr>\n",
       "    <tr>\n",
       "      <th>6</th>\n",
       "      <td>NaN</td>\n",
       "      <td>(staples center) 1111 S Figueroa St, Los Angeles</td>\n",
       "    </tr>\n",
       "    <tr>\n",
       "      <th>7</th>\n",
       "      <td>NaN</td>\n",
       "      <td>hello</td>\n",
       "    </tr>\n",
       "  </tbody>\n",
       "</table>\n",
       "</div>"
      ],
      "text/plain": [
       "         be_iban_clean                                           address\n",
       "0  BE32 1234 5678 9002                                     123 Pine Ave.\n",
       "1                  NaN                                           main st\n",
       "2                  NaN                      1234 west main heights 57033\n",
       "3                  NaN                    apt 1 789 s maple rd manhattan\n",
       "4  BE48 3200 7018 4927                robie house, 789 north main street\n",
       "5                  NaN         1111 S Figueroa St, Los Angeles, CA 90015\n",
       "6                  NaN  (staples center) 1111 S Figueroa St, Los Angeles\n",
       "7                  NaN                                             hello"
      ]
     },
     "execution_count": 1,
     "metadata": {},
     "output_type": "execute_result"
    }
   ],
   "source": [
    "clean_be_iban(df, column=\"be_iban\", inplace=True)"
   ]
  },
  {
   "cell_type": "markdown",
   "id": "legendary-wings",
   "metadata": {},
   "source": [
    "## 4. `errors` parameter"
   ]
  },
  {
   "cell_type": "markdown",
   "id": "plastic-optimum",
   "metadata": {},
   "source": [
    "### `coerce` (default)"
   ]
  },
  {
   "cell_type": "code",
   "execution_count": 7,
   "id": "appreciated-geneva",
   "metadata": {
    "execution": {
     "iopub.execute_input": "2021-10-26T23:34:17.436731Z",
     "iopub.status.busy": "2021-10-26T23:34:17.432262Z",
     "iopub.status.idle": "2021-10-26T23:34:17.445537Z",
     "shell.execute_reply": "2021-10-26T23:34:17.446007Z"
    }
   },
   "outputs": [
    {
     "data": {
      "text/html": [
       "<div>\n",
       "<style scoped>\n",
       "    .dataframe tbody tr th:only-of-type {\n",
       "        vertical-align: middle;\n",
       "    }\n",
       "\n",
       "    .dataframe tbody tr th {\n",
       "        vertical-align: top;\n",
       "    }\n",
       "\n",
       "    .dataframe thead th {\n",
       "        text-align: right;\n",
       "    }\n",
       "</style>\n",
       "<table border=\"1\" class=\"dataframe\">\n",
       "  <thead>\n",
       "    <tr style=\"text-align: right;\">\n",
       "      <th></th>\n",
       "      <th>be_iban</th>\n",
       "      <th>address</th>\n",
       "      <th>be_iban_clean</th>\n",
       "    </tr>\n",
       "  </thead>\n",
       "  <tbody>\n",
       "    <tr>\n",
       "      <th>0</th>\n",
       "      <td>BE32 123-4567890-02</td>\n",
       "      <td>123 Pine Ave.</td>\n",
       "      <td>BE32 1234 5678 9002</td>\n",
       "    </tr>\n",
       "    <tr>\n",
       "      <th>1</th>\n",
       "      <td>BE41091811735141</td>\n",
       "      <td>main st</td>\n",
       "      <td>NaN</td>\n",
       "    </tr>\n",
       "    <tr>\n",
       "      <th>2</th>\n",
       "      <td>BE83138811735115</td>\n",
       "      <td>1234 west main heights 57033</td>\n",
       "      <td>NaN</td>\n",
       "    </tr>\n",
       "    <tr>\n",
       "      <th>3</th>\n",
       "      <td>GR1601101050000010547023795</td>\n",
       "      <td>apt 1 789 s maple rd manhattan</td>\n",
       "      <td>NaN</td>\n",
       "    </tr>\n",
       "    <tr>\n",
       "      <th>4</th>\n",
       "      <td>BE 48 3200 7018 4927</td>\n",
       "      <td>robie house, 789 north main street</td>\n",
       "      <td>BE48 3200 7018 4927</td>\n",
       "    </tr>\n",
       "    <tr>\n",
       "      <th>5</th>\n",
       "      <td>hello</td>\n",
       "      <td>1111 S Figueroa St, Los Angeles, CA 90015</td>\n",
       "      <td>NaN</td>\n",
       "    </tr>\n",
       "    <tr>\n",
       "      <th>6</th>\n",
       "      <td>NaN</td>\n",
       "      <td>(staples center) 1111 S Figueroa St, Los Angeles</td>\n",
       "      <td>NaN</td>\n",
       "    </tr>\n",
       "    <tr>\n",
       "      <th>7</th>\n",
       "      <td>NULL</td>\n",
       "      <td>hello</td>\n",
       "      <td>NaN</td>\n",
       "    </tr>\n",
       "  </tbody>\n",
       "</table>\n",
       "</div>"
      ],
      "text/plain": [
       "                       be_iban  \\\n",
       "0          BE32 123-4567890-02   \n",
       "1             BE41091811735141   \n",
       "2             BE83138811735115   \n",
       "3  GR1601101050000010547023795   \n",
       "4         BE 48 3200 7018 4927   \n",
       "5                        hello   \n",
       "6                          NaN   \n",
       "7                         NULL   \n",
       "\n",
       "                                            address        be_iban_clean  \n",
       "0                                     123 Pine Ave.  BE32 1234 5678 9002  \n",
       "1                                           main st                  NaN  \n",
       "2                      1234 west main heights 57033                  NaN  \n",
       "3                    apt 1 789 s maple rd manhattan                  NaN  \n",
       "4                robie house, 789 north main street  BE48 3200 7018 4927  \n",
       "5         1111 S Figueroa St, Los Angeles, CA 90015                  NaN  \n",
       "6  (staples center) 1111 S Figueroa St, Los Angeles                  NaN  \n",
       "7                                             hello                  NaN  "
      ]
     },
     "execution_count": 1,
     "metadata": {},
     "output_type": "execute_result"
    }
   ],
   "source": [
    "clean_be_iban(df, \"be_iban\", errors=\"coerce\")"
   ]
  },
  {
   "cell_type": "markdown",
   "id": "scenic-andorra",
   "metadata": {},
   "source": [
    "### `ignore`"
   ]
  },
  {
   "cell_type": "code",
   "execution_count": 8,
   "id": "preceding-spyware",
   "metadata": {
    "execution": {
     "iopub.execute_input": "2021-10-26T23:34:17.473128Z",
     "iopub.status.busy": "2021-10-26T23:34:17.467649Z",
     "iopub.status.idle": "2021-10-26T23:34:17.482969Z",
     "shell.execute_reply": "2021-10-26T23:34:17.482039Z"
    }
   },
   "outputs": [
    {
     "data": {
      "text/html": [
       "<div>\n",
       "<style scoped>\n",
       "    .dataframe tbody tr th:only-of-type {\n",
       "        vertical-align: middle;\n",
       "    }\n",
       "\n",
       "    .dataframe tbody tr th {\n",
       "        vertical-align: top;\n",
       "    }\n",
       "\n",
       "    .dataframe thead th {\n",
       "        text-align: right;\n",
       "    }\n",
       "</style>\n",
       "<table border=\"1\" class=\"dataframe\">\n",
       "  <thead>\n",
       "    <tr style=\"text-align: right;\">\n",
       "      <th></th>\n",
       "      <th>be_iban</th>\n",
       "      <th>address</th>\n",
       "      <th>be_iban_clean</th>\n",
       "    </tr>\n",
       "  </thead>\n",
       "  <tbody>\n",
       "    <tr>\n",
       "      <th>0</th>\n",
       "      <td>BE32 123-4567890-02</td>\n",
       "      <td>123 Pine Ave.</td>\n",
       "      <td>BE32 1234 5678 9002</td>\n",
       "    </tr>\n",
       "    <tr>\n",
       "      <th>1</th>\n",
       "      <td>BE41091811735141</td>\n",
       "      <td>main st</td>\n",
       "      <td>BE41091811735141</td>\n",
       "    </tr>\n",
       "    <tr>\n",
       "      <th>2</th>\n",
       "      <td>BE83138811735115</td>\n",
       "      <td>1234 west main heights 57033</td>\n",
       "      <td>BE83138811735115</td>\n",
       "    </tr>\n",
       "    <tr>\n",
       "      <th>3</th>\n",
       "      <td>GR1601101050000010547023795</td>\n",
       "      <td>apt 1 789 s maple rd manhattan</td>\n",
       "      <td>GR1601101050000010547023795</td>\n",
       "    </tr>\n",
       "    <tr>\n",
       "      <th>4</th>\n",
       "      <td>BE 48 3200 7018 4927</td>\n",
       "      <td>robie house, 789 north main street</td>\n",
       "      <td>BE48 3200 7018 4927</td>\n",
       "    </tr>\n",
       "    <tr>\n",
       "      <th>5</th>\n",
       "      <td>hello</td>\n",
       "      <td>1111 S Figueroa St, Los Angeles, CA 90015</td>\n",
       "      <td>hello</td>\n",
       "    </tr>\n",
       "    <tr>\n",
       "      <th>6</th>\n",
       "      <td>NaN</td>\n",
       "      <td>(staples center) 1111 S Figueroa St, Los Angeles</td>\n",
       "      <td>NaN</td>\n",
       "    </tr>\n",
       "    <tr>\n",
       "      <th>7</th>\n",
       "      <td>NULL</td>\n",
       "      <td>hello</td>\n",
       "      <td>NaN</td>\n",
       "    </tr>\n",
       "  </tbody>\n",
       "</table>\n",
       "</div>"
      ],
      "text/plain": [
       "                       be_iban  \\\n",
       "0          BE32 123-4567890-02   \n",
       "1             BE41091811735141   \n",
       "2             BE83138811735115   \n",
       "3  GR1601101050000010547023795   \n",
       "4         BE 48 3200 7018 4927   \n",
       "5                        hello   \n",
       "6                          NaN   \n",
       "7                         NULL   \n",
       "\n",
       "                                            address  \\\n",
       "0                                     123 Pine Ave.   \n",
       "1                                           main st   \n",
       "2                      1234 west main heights 57033   \n",
       "3                    apt 1 789 s maple rd manhattan   \n",
       "4                robie house, 789 north main street   \n",
       "5         1111 S Figueroa St, Los Angeles, CA 90015   \n",
       "6  (staples center) 1111 S Figueroa St, Los Angeles   \n",
       "7                                             hello   \n",
       "\n",
       "                 be_iban_clean  \n",
       "0          BE32 1234 5678 9002  \n",
       "1             BE41091811735141  \n",
       "2             BE83138811735115  \n",
       "3  GR1601101050000010547023795  \n",
       "4          BE48 3200 7018 4927  \n",
       "5                        hello  \n",
       "6                          NaN  \n",
       "7                          NaN  "
      ]
     },
     "execution_count": 1,
     "metadata": {},
     "output_type": "execute_result"
    }
   ],
   "source": [
    "clean_be_iban(df, \"be_iban\", errors=\"ignore\")"
   ]
  },
  {
   "cell_type": "markdown",
   "id": "refined-carolina",
   "metadata": {},
   "source": [
    "## 4. `validate_be_iban()`"
   ]
  },
  {
   "cell_type": "markdown",
   "id": "convenient-terry",
   "metadata": {},
   "source": [
    "`validate_be_iban()` returns `True` when the input is a valid Belgian IBAN. Otherwise it returns `False`.\n",
    "\n",
    "The input of `validate_be_iban()` can be a string, a Pandas DataSeries, a Dask DataSeries, a Pandas DataFrame and a dask DataFrame.\n",
    "\n",
    "When the input is a string, a Pandas DataSeries or a Dask DataSeries, user doesn't need to specify a column name to be validated. \n",
    "\n",
    "When the input is a Pandas DataFrame or a dask DataFrame, user can both specify or not specify a column name to be validated. If user specify the column name, `validate_be_iban()` only returns the validation result for the specified column. If user doesn't specify the column name, `validate_be_iban()` returns the validation result for the whole DataFrame."
   ]
  },
  {
   "cell_type": "code",
   "execution_count": 9,
   "id": "black-appearance",
   "metadata": {
    "execution": {
     "iopub.execute_input": "2021-10-26T23:34:17.489587Z",
     "iopub.status.busy": "2021-10-26T23:34:17.488967Z",
     "iopub.status.idle": "2021-10-26T23:34:17.493860Z",
     "shell.execute_reply": "2021-10-26T23:34:17.493363Z"
    }
   },
   "outputs": [
    {
     "name": "stdout",
     "output_type": "stream",
     "text": [
      "True\n",
      "False\n",
      "False\n",
      "False\n",
      "False\n",
      "False\n",
      "False\n",
      "False\n"
     ]
    }
   ],
   "source": [
    "from dataprep.clean import validate_be_iban\n",
    "print(validate_be_iban(\"BE32 123-4567890-02\"))\n",
    "print(validate_be_iban(\"BE41091811735141\"))\n",
    "print(validate_be_iban(\"BE83138811735115\"))\n",
    "print(validate_be_iban(\"GR1601101050000010547023795\"))\n",
    "print(validate_be_iban(\"004085616\"))\n",
    "print(validate_be_iban(\"hello\"))\n",
    "print(validate_be_iban(np.nan))\n",
    "print(validate_be_iban(\"NULL\"))"
   ]
  },
  {
   "cell_type": "markdown",
   "id": "consecutive-negative",
   "metadata": {},
   "source": [
    "### Series"
   ]
  },
  {
   "cell_type": "code",
   "execution_count": 10,
   "id": "opening-intention",
   "metadata": {
    "execution": {
     "iopub.execute_input": "2021-10-26T23:34:17.499620Z",
     "iopub.status.busy": "2021-10-26T23:34:17.498957Z",
     "iopub.status.idle": "2021-10-26T23:34:17.503250Z",
     "shell.execute_reply": "2021-10-26T23:34:17.502727Z"
    }
   },
   "outputs": [
    {
     "data": {
      "text/plain": [
       "0     True\n",
       "1    False\n",
       "2    False\n",
       "3    False\n",
       "4     True\n",
       "5    False\n",
       "6    False\n",
       "7    False\n",
       "Name: be_iban, dtype: bool"
      ]
     },
     "execution_count": 1,
     "metadata": {},
     "output_type": "execute_result"
    }
   ],
   "source": [
    "validate_be_iban(df[\"be_iban\"])"
   ]
  },
  {
   "cell_type": "markdown",
   "id": "apart-blind",
   "metadata": {},
   "source": [
    "### DataFrame + Specify Column"
   ]
  },
  {
   "cell_type": "code",
   "execution_count": 11,
   "id": "mexican-finnish",
   "metadata": {
    "execution": {
     "iopub.execute_input": "2021-10-26T23:34:17.509436Z",
     "iopub.status.busy": "2021-10-26T23:34:17.508772Z",
     "iopub.status.idle": "2021-10-26T23:34:17.514405Z",
     "shell.execute_reply": "2021-10-26T23:34:17.513848Z"
    }
   },
   "outputs": [
    {
     "data": {
      "text/plain": [
       "0     True\n",
       "1    False\n",
       "2    False\n",
       "3    False\n",
       "4     True\n",
       "5    False\n",
       "6    False\n",
       "7    False\n",
       "Name: be_iban, dtype: bool"
      ]
     },
     "execution_count": 1,
     "metadata": {},
     "output_type": "execute_result"
    }
   ],
   "source": [
    "validate_be_iban(df, column=\"be_iban\")"
   ]
  },
  {
   "cell_type": "markdown",
   "id": "congressional-annex",
   "metadata": {},
   "source": [
    "### Only DataFrame"
   ]
  },
  {
   "cell_type": "code",
   "execution_count": 12,
   "id": "smaller-preliminary",
   "metadata": {
    "execution": {
     "iopub.execute_input": "2021-10-26T23:34:17.518324Z",
     "iopub.status.busy": "2021-10-26T23:34:17.517622Z",
     "iopub.status.idle": "2021-10-26T23:34:17.527081Z",
     "shell.execute_reply": "2021-10-26T23:34:17.527601Z"
    }
   },
   "outputs": [
    {
     "data": {
      "text/html": [
       "<div>\n",
       "<style scoped>\n",
       "    .dataframe tbody tr th:only-of-type {\n",
       "        vertical-align: middle;\n",
       "    }\n",
       "\n",
       "    .dataframe tbody tr th {\n",
       "        vertical-align: top;\n",
       "    }\n",
       "\n",
       "    .dataframe thead th {\n",
       "        text-align: right;\n",
       "    }\n",
       "</style>\n",
       "<table border=\"1\" class=\"dataframe\">\n",
       "  <thead>\n",
       "    <tr style=\"text-align: right;\">\n",
       "      <th></th>\n",
       "      <th>be_iban</th>\n",
       "      <th>address</th>\n",
       "    </tr>\n",
       "  </thead>\n",
       "  <tbody>\n",
       "    <tr>\n",
       "      <th>0</th>\n",
       "      <td>True</td>\n",
       "      <td>False</td>\n",
       "    </tr>\n",
       "    <tr>\n",
       "      <th>1</th>\n",
       "      <td>False</td>\n",
       "      <td>False</td>\n",
       "    </tr>\n",
       "    <tr>\n",
       "      <th>2</th>\n",
       "      <td>False</td>\n",
       "      <td>False</td>\n",
       "    </tr>\n",
       "    <tr>\n",
       "      <th>3</th>\n",
       "      <td>False</td>\n",
       "      <td>False</td>\n",
       "    </tr>\n",
       "    <tr>\n",
       "      <th>4</th>\n",
       "      <td>True</td>\n",
       "      <td>False</td>\n",
       "    </tr>\n",
       "    <tr>\n",
       "      <th>5</th>\n",
       "      <td>False</td>\n",
       "      <td>False</td>\n",
       "    </tr>\n",
       "    <tr>\n",
       "      <th>6</th>\n",
       "      <td>False</td>\n",
       "      <td>False</td>\n",
       "    </tr>\n",
       "    <tr>\n",
       "      <th>7</th>\n",
       "      <td>False</td>\n",
       "      <td>False</td>\n",
       "    </tr>\n",
       "  </tbody>\n",
       "</table>\n",
       "</div>"
      ],
      "text/plain": [
       "   be_iban  address\n",
       "0     True    False\n",
       "1    False    False\n",
       "2    False    False\n",
       "3    False    False\n",
       "4     True    False\n",
       "5    False    False\n",
       "6    False    False\n",
       "7    False    False"
      ]
     },
     "execution_count": 1,
     "metadata": {},
     "output_type": "execute_result"
    }
   ],
   "source": [
    "validate_be_iban(df)"
   ]
  },
  {
   "cell_type": "code",
   "execution_count": null,
   "id": "alive-failure",
   "metadata": {},
   "outputs": [],
   "source": []
  }
 ],
 "metadata": {
  "kernelspec": {
   "display_name": "Python 3",
   "language": "python",
   "name": "python3"
  },
  "language_info": {
   "codemirror_mode": {
    "name": "ipython",
    "version": 3
   },
   "file_extension": ".py",
   "mimetype": "text/x-python",
   "name": "python",
   "nbconvert_exporter": "python",
   "pygments_lexer": "ipython3",
   "version": "3.8.10"
  }
 },
 "nbformat": 4,
 "nbformat_minor": 5
}
