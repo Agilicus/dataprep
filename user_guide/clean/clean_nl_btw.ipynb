{
 "cells": [
  {
   "cell_type": "raw",
   "id": "recognized-arbor",
   "metadata": {},
   "source": [
    ".. _btw_userguide:\n",
    "\n",
    "BTW Strings\n",
    "============"
   ]
  },
  {
   "cell_type": "raw",
   "id": "intended-interaction",
   "metadata": {},
   "source": [
    "Introduction\n",
    "------------\n",
    "\n",
    "The function :func:`clean_nl_btw() <dataprep.clean.clean_nl_btw.clean_nl_btw>` cleans a column containing Dutch BTW numbers (BTW) strings, and standardizes them in a given format. The function :func:`validate_nl_btw() <dataprep.clean.clean_nl_btw.validate_nl_btw>` validates either a single BTW strings, a column of BTW strings or a DataFrame of BTW strings, returning `True` if the value is valid, and `False` otherwise."
   ]
  },
  {
   "cell_type": "markdown",
   "id": "hired-budapest",
   "metadata": {},
   "source": [
    "BTW strings can be converted to the following formats via the `output_format` parameter:\n",
    "\n",
    "* `compact`: only number strings without any seperators or whitespace, like \"004495445B01\"\n",
    "* `standard`: BTW strings with proper whitespace in the proper places. Note that in the case of BTW, the compact format is the same as the standard one.\n",
    "\n",
    "Invalid parsing is handled with the `errors` parameter:\n",
    "\n",
    "* `coerce` (default): invalid parsing will be set to NaN\n",
    "* `ignore`: invalid parsing will return the input\n",
    "* `raise`: invalid parsing will raise an exception\n",
    "\n",
    "The following sections demonstrate the functionality of `clean_nl_btw()` and `validate_nl_btw()`. "
   ]
  },
  {
   "cell_type": "markdown",
   "id": "patient-hostel",
   "metadata": {},
   "source": [
    "### An example dataset containing BTW strings"
   ]
  },
  {
   "cell_type": "code",
   "execution_count": 1,
   "id": "digital-revolution",
   "metadata": {
    "execution": {
     "iopub.execute_input": "2021-10-26T23:41:22.030022Z",
     "iopub.status.busy": "2021-10-26T23:41:22.029328Z",
     "iopub.status.idle": "2021-10-26T23:41:22.333212Z",
     "shell.execute_reply": "2021-10-26T23:41:22.332588Z"
    }
   },
   "outputs": [
    {
     "data": {
      "text/html": [
       "<div>\n",
       "<style scoped>\n",
       "    .dataframe tbody tr th:only-of-type {\n",
       "        vertical-align: middle;\n",
       "    }\n",
       "\n",
       "    .dataframe tbody tr th {\n",
       "        vertical-align: top;\n",
       "    }\n",
       "\n",
       "    .dataframe thead th {\n",
       "        text-align: right;\n",
       "    }\n",
       "</style>\n",
       "<table border=\"1\" class=\"dataframe\">\n",
       "  <thead>\n",
       "    <tr style=\"text-align: right;\">\n",
       "      <th></th>\n",
       "      <th>btw</th>\n",
       "      <th>address</th>\n",
       "    </tr>\n",
       "  </thead>\n",
       "  <tbody>\n",
       "    <tr>\n",
       "      <th>0</th>\n",
       "      <td>004495445B01</td>\n",
       "      <td>123 Pine Ave.</td>\n",
       "    </tr>\n",
       "    <tr>\n",
       "      <th>1</th>\n",
       "      <td>123456789B90</td>\n",
       "      <td>main st</td>\n",
       "    </tr>\n",
       "    <tr>\n",
       "      <th>2</th>\n",
       "      <td>BE 428759497</td>\n",
       "      <td>1234 west main heights 57033</td>\n",
       "    </tr>\n",
       "    <tr>\n",
       "      <th>3</th>\n",
       "      <td>BE431150351</td>\n",
       "      <td>apt 1 789 s maple rd manhattan</td>\n",
       "    </tr>\n",
       "    <tr>\n",
       "      <th>4</th>\n",
       "      <td>002 724 334</td>\n",
       "      <td>robie house, 789 north main street</td>\n",
       "    </tr>\n",
       "    <tr>\n",
       "      <th>5</th>\n",
       "      <td>hello</td>\n",
       "      <td>1111 S Figueroa St, Los Angeles, CA 90015</td>\n",
       "    </tr>\n",
       "    <tr>\n",
       "      <th>6</th>\n",
       "      <td>NaN</td>\n",
       "      <td>(staples center) 1111 S Figueroa St, Los Angeles</td>\n",
       "    </tr>\n",
       "    <tr>\n",
       "      <th>7</th>\n",
       "      <td>NULL</td>\n",
       "      <td>hello</td>\n",
       "    </tr>\n",
       "  </tbody>\n",
       "</table>\n",
       "</div>"
      ],
      "text/plain": [
       "            btw                                           address\n",
       "0  004495445B01                                     123 Pine Ave.\n",
       "1  123456789B90                                           main st\n",
       "2  BE 428759497                      1234 west main heights 57033\n",
       "3   BE431150351                    apt 1 789 s maple rd manhattan\n",
       "4   002 724 334                robie house, 789 north main street\n",
       "5         hello         1111 S Figueroa St, Los Angeles, CA 90015\n",
       "6           NaN  (staples center) 1111 S Figueroa St, Los Angeles\n",
       "7          NULL                                             hello"
      ]
     },
     "execution_count": 1,
     "metadata": {},
     "output_type": "execute_result"
    }
   ],
   "source": [
    "import pandas as pd\n",
    "import numpy as np\n",
    "df = pd.DataFrame(\n",
    "    {\n",
    "        \"btw\": [\n",
    "            '004495445B01',\n",
    "            '123456789B90',\n",
    "            'BE 428759497',\n",
    "            'BE431150351',\n",
    "            \"002 724 334\",\n",
    "            \"hello\",\n",
    "            np.nan,\n",
    "            \"NULL\",\n",
    "        ], \n",
    "        \"address\": [\n",
    "            \"123 Pine Ave.\",\n",
    "            \"main st\",\n",
    "            \"1234 west main heights 57033\",\n",
    "            \"apt 1 789 s maple rd manhattan\",\n",
    "            \"robie house, 789 north main street\",\n",
    "            \"1111 S Figueroa St, Los Angeles, CA 90015\",\n",
    "            \"(staples center) 1111 S Figueroa St, Los Angeles\",\n",
    "            \"hello\",\n",
    "        ]\n",
    "    }\n",
    ")\n",
    "df"
   ]
  },
  {
   "cell_type": "markdown",
   "id": "political-camping",
   "metadata": {},
   "source": [
    "## 1. Default `clean_nl_btw`\n",
    "\n",
    "By default, `clean_nl_btw` will clean btw strings and output them in the standard format with proper separators."
   ]
  },
  {
   "cell_type": "code",
   "execution_count": 2,
   "id": "dangerous-intent",
   "metadata": {
    "execution": {
     "iopub.execute_input": "2021-10-26T23:41:22.338356Z",
     "iopub.status.busy": "2021-10-26T23:41:22.337125Z",
     "iopub.status.idle": "2021-10-26T23:41:23.091212Z",
     "shell.execute_reply": "2021-10-26T23:41:23.090278Z"
    }
   },
   "outputs": [
    {
     "data": {
      "text/html": [
       "<div>\n",
       "<style scoped>\n",
       "    .dataframe tbody tr th:only-of-type {\n",
       "        vertical-align: middle;\n",
       "    }\n",
       "\n",
       "    .dataframe tbody tr th {\n",
       "        vertical-align: top;\n",
       "    }\n",
       "\n",
       "    .dataframe thead th {\n",
       "        text-align: right;\n",
       "    }\n",
       "</style>\n",
       "<table border=\"1\" class=\"dataframe\">\n",
       "  <thead>\n",
       "    <tr style=\"text-align: right;\">\n",
       "      <th></th>\n",
       "      <th>btw</th>\n",
       "      <th>address</th>\n",
       "      <th>btw_clean</th>\n",
       "    </tr>\n",
       "  </thead>\n",
       "  <tbody>\n",
       "    <tr>\n",
       "      <th>0</th>\n",
       "      <td>004495445B01</td>\n",
       "      <td>123 Pine Ave.</td>\n",
       "      <td>004495445B01</td>\n",
       "    </tr>\n",
       "    <tr>\n",
       "      <th>1</th>\n",
       "      <td>123456789B90</td>\n",
       "      <td>main st</td>\n",
       "      <td>NaN</td>\n",
       "    </tr>\n",
       "    <tr>\n",
       "      <th>2</th>\n",
       "      <td>BE 428759497</td>\n",
       "      <td>1234 west main heights 57033</td>\n",
       "      <td>NaN</td>\n",
       "    </tr>\n",
       "    <tr>\n",
       "      <th>3</th>\n",
       "      <td>BE431150351</td>\n",
       "      <td>apt 1 789 s maple rd manhattan</td>\n",
       "      <td>NaN</td>\n",
       "    </tr>\n",
       "    <tr>\n",
       "      <th>4</th>\n",
       "      <td>002 724 334</td>\n",
       "      <td>robie house, 789 north main street</td>\n",
       "      <td>NaN</td>\n",
       "    </tr>\n",
       "    <tr>\n",
       "      <th>5</th>\n",
       "      <td>hello</td>\n",
       "      <td>1111 S Figueroa St, Los Angeles, CA 90015</td>\n",
       "      <td>NaN</td>\n",
       "    </tr>\n",
       "    <tr>\n",
       "      <th>6</th>\n",
       "      <td>NaN</td>\n",
       "      <td>(staples center) 1111 S Figueroa St, Los Angeles</td>\n",
       "      <td>NaN</td>\n",
       "    </tr>\n",
       "    <tr>\n",
       "      <th>7</th>\n",
       "      <td>NULL</td>\n",
       "      <td>hello</td>\n",
       "      <td>NaN</td>\n",
       "    </tr>\n",
       "  </tbody>\n",
       "</table>\n",
       "</div>"
      ],
      "text/plain": [
       "            btw                                           address  \\\n",
       "0  004495445B01                                     123 Pine Ave.   \n",
       "1  123456789B90                                           main st   \n",
       "2  BE 428759497                      1234 west main heights 57033   \n",
       "3   BE431150351                    apt 1 789 s maple rd manhattan   \n",
       "4   002 724 334                robie house, 789 north main street   \n",
       "5         hello         1111 S Figueroa St, Los Angeles, CA 90015   \n",
       "6           NaN  (staples center) 1111 S Figueroa St, Los Angeles   \n",
       "7          NULL                                             hello   \n",
       "\n",
       "      btw_clean  \n",
       "0  004495445B01  \n",
       "1           NaN  \n",
       "2           NaN  \n",
       "3           NaN  \n",
       "4           NaN  \n",
       "5           NaN  \n",
       "6           NaN  \n",
       "7           NaN  "
      ]
     },
     "execution_count": 1,
     "metadata": {},
     "output_type": "execute_result"
    }
   ],
   "source": [
    "from dataprep.clean import clean_nl_btw\n",
    "clean_nl_btw(df, column = \"btw\")"
   ]
  },
  {
   "cell_type": "markdown",
   "id": "ignored-scroll",
   "metadata": {},
   "source": [
    "## 2. Output formats"
   ]
  },
  {
   "cell_type": "markdown",
   "id": "quarterly-bride",
   "metadata": {},
   "source": [
    "This section demonstrates the output parameter."
   ]
  },
  {
   "cell_type": "markdown",
   "id": "copyrighted-partner",
   "metadata": {},
   "source": [
    "### `standard` (default)"
   ]
  },
  {
   "cell_type": "code",
   "execution_count": 3,
   "id": "better-lebanon",
   "metadata": {
    "execution": {
     "iopub.execute_input": "2021-10-26T23:41:23.123495Z",
     "iopub.status.busy": "2021-10-26T23:41:23.122655Z",
     "iopub.status.idle": "2021-10-26T23:41:23.134153Z",
     "shell.execute_reply": "2021-10-26T23:41:23.134640Z"
    }
   },
   "outputs": [
    {
     "data": {
      "text/html": [
       "<div>\n",
       "<style scoped>\n",
       "    .dataframe tbody tr th:only-of-type {\n",
       "        vertical-align: middle;\n",
       "    }\n",
       "\n",
       "    .dataframe tbody tr th {\n",
       "        vertical-align: top;\n",
       "    }\n",
       "\n",
       "    .dataframe thead th {\n",
       "        text-align: right;\n",
       "    }\n",
       "</style>\n",
       "<table border=\"1\" class=\"dataframe\">\n",
       "  <thead>\n",
       "    <tr style=\"text-align: right;\">\n",
       "      <th></th>\n",
       "      <th>btw</th>\n",
       "      <th>address</th>\n",
       "      <th>btw_clean</th>\n",
       "    </tr>\n",
       "  </thead>\n",
       "  <tbody>\n",
       "    <tr>\n",
       "      <th>0</th>\n",
       "      <td>004495445B01</td>\n",
       "      <td>123 Pine Ave.</td>\n",
       "      <td>004495445B01</td>\n",
       "    </tr>\n",
       "    <tr>\n",
       "      <th>1</th>\n",
       "      <td>123456789B90</td>\n",
       "      <td>main st</td>\n",
       "      <td>NaN</td>\n",
       "    </tr>\n",
       "    <tr>\n",
       "      <th>2</th>\n",
       "      <td>BE 428759497</td>\n",
       "      <td>1234 west main heights 57033</td>\n",
       "      <td>NaN</td>\n",
       "    </tr>\n",
       "    <tr>\n",
       "      <th>3</th>\n",
       "      <td>BE431150351</td>\n",
       "      <td>apt 1 789 s maple rd manhattan</td>\n",
       "      <td>NaN</td>\n",
       "    </tr>\n",
       "    <tr>\n",
       "      <th>4</th>\n",
       "      <td>002 724 334</td>\n",
       "      <td>robie house, 789 north main street</td>\n",
       "      <td>NaN</td>\n",
       "    </tr>\n",
       "    <tr>\n",
       "      <th>5</th>\n",
       "      <td>hello</td>\n",
       "      <td>1111 S Figueroa St, Los Angeles, CA 90015</td>\n",
       "      <td>NaN</td>\n",
       "    </tr>\n",
       "    <tr>\n",
       "      <th>6</th>\n",
       "      <td>NaN</td>\n",
       "      <td>(staples center) 1111 S Figueroa St, Los Angeles</td>\n",
       "      <td>NaN</td>\n",
       "    </tr>\n",
       "    <tr>\n",
       "      <th>7</th>\n",
       "      <td>NULL</td>\n",
       "      <td>hello</td>\n",
       "      <td>NaN</td>\n",
       "    </tr>\n",
       "  </tbody>\n",
       "</table>\n",
       "</div>"
      ],
      "text/plain": [
       "            btw                                           address  \\\n",
       "0  004495445B01                                     123 Pine Ave.   \n",
       "1  123456789B90                                           main st   \n",
       "2  BE 428759497                      1234 west main heights 57033   \n",
       "3   BE431150351                    apt 1 789 s maple rd manhattan   \n",
       "4   002 724 334                robie house, 789 north main street   \n",
       "5         hello         1111 S Figueroa St, Los Angeles, CA 90015   \n",
       "6           NaN  (staples center) 1111 S Figueroa St, Los Angeles   \n",
       "7          NULL                                             hello   \n",
       "\n",
       "      btw_clean  \n",
       "0  004495445B01  \n",
       "1           NaN  \n",
       "2           NaN  \n",
       "3           NaN  \n",
       "4           NaN  \n",
       "5           NaN  \n",
       "6           NaN  \n",
       "7           NaN  "
      ]
     },
     "execution_count": 1,
     "metadata": {},
     "output_type": "execute_result"
    }
   ],
   "source": [
    "clean_nl_btw(df, column = \"btw\", output_format=\"standard\")"
   ]
  },
  {
   "cell_type": "markdown",
   "id": "prepared-context",
   "metadata": {},
   "source": [
    "### `compact`"
   ]
  },
  {
   "cell_type": "code",
   "execution_count": 4,
   "id": "several-lawyer",
   "metadata": {
    "execution": {
     "iopub.execute_input": "2021-10-26T23:41:23.158526Z",
     "iopub.status.busy": "2021-10-26T23:41:23.157335Z",
     "iopub.status.idle": "2021-10-26T23:41:23.173471Z",
     "shell.execute_reply": "2021-10-26T23:41:23.172654Z"
    }
   },
   "outputs": [
    {
     "data": {
      "text/html": [
       "<div>\n",
       "<style scoped>\n",
       "    .dataframe tbody tr th:only-of-type {\n",
       "        vertical-align: middle;\n",
       "    }\n",
       "\n",
       "    .dataframe tbody tr th {\n",
       "        vertical-align: top;\n",
       "    }\n",
       "\n",
       "    .dataframe thead th {\n",
       "        text-align: right;\n",
       "    }\n",
       "</style>\n",
       "<table border=\"1\" class=\"dataframe\">\n",
       "  <thead>\n",
       "    <tr style=\"text-align: right;\">\n",
       "      <th></th>\n",
       "      <th>btw</th>\n",
       "      <th>address</th>\n",
       "      <th>btw_clean</th>\n",
       "    </tr>\n",
       "  </thead>\n",
       "  <tbody>\n",
       "    <tr>\n",
       "      <th>0</th>\n",
       "      <td>004495445B01</td>\n",
       "      <td>123 Pine Ave.</td>\n",
       "      <td>004495445B01</td>\n",
       "    </tr>\n",
       "    <tr>\n",
       "      <th>1</th>\n",
       "      <td>123456789B90</td>\n",
       "      <td>main st</td>\n",
       "      <td>NaN</td>\n",
       "    </tr>\n",
       "    <tr>\n",
       "      <th>2</th>\n",
       "      <td>BE 428759497</td>\n",
       "      <td>1234 west main heights 57033</td>\n",
       "      <td>NaN</td>\n",
       "    </tr>\n",
       "    <tr>\n",
       "      <th>3</th>\n",
       "      <td>BE431150351</td>\n",
       "      <td>apt 1 789 s maple rd manhattan</td>\n",
       "      <td>NaN</td>\n",
       "    </tr>\n",
       "    <tr>\n",
       "      <th>4</th>\n",
       "      <td>002 724 334</td>\n",
       "      <td>robie house, 789 north main street</td>\n",
       "      <td>NaN</td>\n",
       "    </tr>\n",
       "    <tr>\n",
       "      <th>5</th>\n",
       "      <td>hello</td>\n",
       "      <td>1111 S Figueroa St, Los Angeles, CA 90015</td>\n",
       "      <td>NaN</td>\n",
       "    </tr>\n",
       "    <tr>\n",
       "      <th>6</th>\n",
       "      <td>NaN</td>\n",
       "      <td>(staples center) 1111 S Figueroa St, Los Angeles</td>\n",
       "      <td>NaN</td>\n",
       "    </tr>\n",
       "    <tr>\n",
       "      <th>7</th>\n",
       "      <td>NULL</td>\n",
       "      <td>hello</td>\n",
       "      <td>NaN</td>\n",
       "    </tr>\n",
       "  </tbody>\n",
       "</table>\n",
       "</div>"
      ],
      "text/plain": [
       "            btw                                           address  \\\n",
       "0  004495445B01                                     123 Pine Ave.   \n",
       "1  123456789B90                                           main st   \n",
       "2  BE 428759497                      1234 west main heights 57033   \n",
       "3   BE431150351                    apt 1 789 s maple rd manhattan   \n",
       "4   002 724 334                robie house, 789 north main street   \n",
       "5         hello         1111 S Figueroa St, Los Angeles, CA 90015   \n",
       "6           NaN  (staples center) 1111 S Figueroa St, Los Angeles   \n",
       "7          NULL                                             hello   \n",
       "\n",
       "      btw_clean  \n",
       "0  004495445B01  \n",
       "1           NaN  \n",
       "2           NaN  \n",
       "3           NaN  \n",
       "4           NaN  \n",
       "5           NaN  \n",
       "6           NaN  \n",
       "7           NaN  "
      ]
     },
     "execution_count": 1,
     "metadata": {},
     "output_type": "execute_result"
    }
   ],
   "source": [
    "clean_nl_btw(df, column = \"btw\", output_format=\"compact\")"
   ]
  },
  {
   "cell_type": "markdown",
   "id": "ordinary-peripheral",
   "metadata": {},
   "source": [
    "## 3. `inplace` parameter\n",
    "\n",
    "This deletes the given column from the returned DataFrame. \n",
    "A new column containing cleaned BTW strings is added with a title in the format `\"{original title}_clean\"`."
   ]
  },
  {
   "cell_type": "code",
   "execution_count": 5,
   "id": "crude-council",
   "metadata": {
    "execution": {
     "iopub.execute_input": "2021-10-26T23:41:23.214680Z",
     "iopub.status.busy": "2021-10-26T23:41:23.209601Z",
     "iopub.status.idle": "2021-10-26T23:41:23.228718Z",
     "shell.execute_reply": "2021-10-26T23:41:23.229188Z"
    }
   },
   "outputs": [
    {
     "data": {
      "text/html": [
       "<div>\n",
       "<style scoped>\n",
       "    .dataframe tbody tr th:only-of-type {\n",
       "        vertical-align: middle;\n",
       "    }\n",
       "\n",
       "    .dataframe tbody tr th {\n",
       "        vertical-align: top;\n",
       "    }\n",
       "\n",
       "    .dataframe thead th {\n",
       "        text-align: right;\n",
       "    }\n",
       "</style>\n",
       "<table border=\"1\" class=\"dataframe\">\n",
       "  <thead>\n",
       "    <tr style=\"text-align: right;\">\n",
       "      <th></th>\n",
       "      <th>btw_clean</th>\n",
       "      <th>address</th>\n",
       "    </tr>\n",
       "  </thead>\n",
       "  <tbody>\n",
       "    <tr>\n",
       "      <th>0</th>\n",
       "      <td>004495445B01</td>\n",
       "      <td>123 Pine Ave.</td>\n",
       "    </tr>\n",
       "    <tr>\n",
       "      <th>1</th>\n",
       "      <td>NaN</td>\n",
       "      <td>main st</td>\n",
       "    </tr>\n",
       "    <tr>\n",
       "      <th>2</th>\n",
       "      <td>NaN</td>\n",
       "      <td>1234 west main heights 57033</td>\n",
       "    </tr>\n",
       "    <tr>\n",
       "      <th>3</th>\n",
       "      <td>NaN</td>\n",
       "      <td>apt 1 789 s maple rd manhattan</td>\n",
       "    </tr>\n",
       "    <tr>\n",
       "      <th>4</th>\n",
       "      <td>NaN</td>\n",
       "      <td>robie house, 789 north main street</td>\n",
       "    </tr>\n",
       "    <tr>\n",
       "      <th>5</th>\n",
       "      <td>NaN</td>\n",
       "      <td>1111 S Figueroa St, Los Angeles, CA 90015</td>\n",
       "    </tr>\n",
       "    <tr>\n",
       "      <th>6</th>\n",
       "      <td>NaN</td>\n",
       "      <td>(staples center) 1111 S Figueroa St, Los Angeles</td>\n",
       "    </tr>\n",
       "    <tr>\n",
       "      <th>7</th>\n",
       "      <td>NaN</td>\n",
       "      <td>hello</td>\n",
       "    </tr>\n",
       "  </tbody>\n",
       "</table>\n",
       "</div>"
      ],
      "text/plain": [
       "      btw_clean                                           address\n",
       "0  004495445B01                                     123 Pine Ave.\n",
       "1           NaN                                           main st\n",
       "2           NaN                      1234 west main heights 57033\n",
       "3           NaN                    apt 1 789 s maple rd manhattan\n",
       "4           NaN                robie house, 789 north main street\n",
       "5           NaN         1111 S Figueroa St, Los Angeles, CA 90015\n",
       "6           NaN  (staples center) 1111 S Figueroa St, Los Angeles\n",
       "7           NaN                                             hello"
      ]
     },
     "execution_count": 1,
     "metadata": {},
     "output_type": "execute_result"
    }
   ],
   "source": [
    "clean_nl_btw(df, column=\"btw\", inplace=True)"
   ]
  },
  {
   "cell_type": "markdown",
   "id": "alone-worker",
   "metadata": {},
   "source": [
    "## 4. `errors` parameter"
   ]
  },
  {
   "cell_type": "markdown",
   "id": "comparative-drama",
   "metadata": {},
   "source": [
    "### `coerce` (default)"
   ]
  },
  {
   "cell_type": "code",
   "execution_count": 6,
   "id": "emerging-lease",
   "metadata": {
    "execution": {
     "iopub.execute_input": "2021-10-26T23:41:23.266036Z",
     "iopub.status.busy": "2021-10-26T23:41:23.265400Z",
     "iopub.status.idle": "2021-10-26T23:41:23.277430Z",
     "shell.execute_reply": "2021-10-26T23:41:23.276903Z"
    }
   },
   "outputs": [
    {
     "data": {
      "text/html": [
       "<div>\n",
       "<style scoped>\n",
       "    .dataframe tbody tr th:only-of-type {\n",
       "        vertical-align: middle;\n",
       "    }\n",
       "\n",
       "    .dataframe tbody tr th {\n",
       "        vertical-align: top;\n",
       "    }\n",
       "\n",
       "    .dataframe thead th {\n",
       "        text-align: right;\n",
       "    }\n",
       "</style>\n",
       "<table border=\"1\" class=\"dataframe\">\n",
       "  <thead>\n",
       "    <tr style=\"text-align: right;\">\n",
       "      <th></th>\n",
       "      <th>btw</th>\n",
       "      <th>address</th>\n",
       "      <th>btw_clean</th>\n",
       "    </tr>\n",
       "  </thead>\n",
       "  <tbody>\n",
       "    <tr>\n",
       "      <th>0</th>\n",
       "      <td>004495445B01</td>\n",
       "      <td>123 Pine Ave.</td>\n",
       "      <td>004495445B01</td>\n",
       "    </tr>\n",
       "    <tr>\n",
       "      <th>1</th>\n",
       "      <td>123456789B90</td>\n",
       "      <td>main st</td>\n",
       "      <td>NaN</td>\n",
       "    </tr>\n",
       "    <tr>\n",
       "      <th>2</th>\n",
       "      <td>BE 428759497</td>\n",
       "      <td>1234 west main heights 57033</td>\n",
       "      <td>NaN</td>\n",
       "    </tr>\n",
       "    <tr>\n",
       "      <th>3</th>\n",
       "      <td>BE431150351</td>\n",
       "      <td>apt 1 789 s maple rd manhattan</td>\n",
       "      <td>NaN</td>\n",
       "    </tr>\n",
       "    <tr>\n",
       "      <th>4</th>\n",
       "      <td>002 724 334</td>\n",
       "      <td>robie house, 789 north main street</td>\n",
       "      <td>NaN</td>\n",
       "    </tr>\n",
       "    <tr>\n",
       "      <th>5</th>\n",
       "      <td>hello</td>\n",
       "      <td>1111 S Figueroa St, Los Angeles, CA 90015</td>\n",
       "      <td>NaN</td>\n",
       "    </tr>\n",
       "    <tr>\n",
       "      <th>6</th>\n",
       "      <td>NaN</td>\n",
       "      <td>(staples center) 1111 S Figueroa St, Los Angeles</td>\n",
       "      <td>NaN</td>\n",
       "    </tr>\n",
       "    <tr>\n",
       "      <th>7</th>\n",
       "      <td>NULL</td>\n",
       "      <td>hello</td>\n",
       "      <td>NaN</td>\n",
       "    </tr>\n",
       "  </tbody>\n",
       "</table>\n",
       "</div>"
      ],
      "text/plain": [
       "            btw                                           address  \\\n",
       "0  004495445B01                                     123 Pine Ave.   \n",
       "1  123456789B90                                           main st   \n",
       "2  BE 428759497                      1234 west main heights 57033   \n",
       "3   BE431150351                    apt 1 789 s maple rd manhattan   \n",
       "4   002 724 334                robie house, 789 north main street   \n",
       "5         hello         1111 S Figueroa St, Los Angeles, CA 90015   \n",
       "6           NaN  (staples center) 1111 S Figueroa St, Los Angeles   \n",
       "7          NULL                                             hello   \n",
       "\n",
       "      btw_clean  \n",
       "0  004495445B01  \n",
       "1           NaN  \n",
       "2           NaN  \n",
       "3           NaN  \n",
       "4           NaN  \n",
       "5           NaN  \n",
       "6           NaN  \n",
       "7           NaN  "
      ]
     },
     "execution_count": 1,
     "metadata": {},
     "output_type": "execute_result"
    }
   ],
   "source": [
    "clean_nl_btw(df, \"btw\", errors=\"coerce\")"
   ]
  },
  {
   "cell_type": "markdown",
   "id": "regular-click",
   "metadata": {},
   "source": [
    "### `ignore`"
   ]
  },
  {
   "cell_type": "code",
   "execution_count": 7,
   "id": "veterinary-greensboro",
   "metadata": {
    "execution": {
     "iopub.execute_input": "2021-10-26T23:41:23.306713Z",
     "iopub.status.busy": "2021-10-26T23:41:23.306068Z",
     "iopub.status.idle": "2021-10-26T23:41:23.317053Z",
     "shell.execute_reply": "2021-10-26T23:41:23.315915Z"
    }
   },
   "outputs": [
    {
     "data": {
      "text/html": [
       "<div>\n",
       "<style scoped>\n",
       "    .dataframe tbody tr th:only-of-type {\n",
       "        vertical-align: middle;\n",
       "    }\n",
       "\n",
       "    .dataframe tbody tr th {\n",
       "        vertical-align: top;\n",
       "    }\n",
       "\n",
       "    .dataframe thead th {\n",
       "        text-align: right;\n",
       "    }\n",
       "</style>\n",
       "<table border=\"1\" class=\"dataframe\">\n",
       "  <thead>\n",
       "    <tr style=\"text-align: right;\">\n",
       "      <th></th>\n",
       "      <th>btw</th>\n",
       "      <th>address</th>\n",
       "      <th>btw_clean</th>\n",
       "    </tr>\n",
       "  </thead>\n",
       "  <tbody>\n",
       "    <tr>\n",
       "      <th>0</th>\n",
       "      <td>004495445B01</td>\n",
       "      <td>123 Pine Ave.</td>\n",
       "      <td>004495445B01</td>\n",
       "    </tr>\n",
       "    <tr>\n",
       "      <th>1</th>\n",
       "      <td>123456789B90</td>\n",
       "      <td>main st</td>\n",
       "      <td>123456789B90</td>\n",
       "    </tr>\n",
       "    <tr>\n",
       "      <th>2</th>\n",
       "      <td>BE 428759497</td>\n",
       "      <td>1234 west main heights 57033</td>\n",
       "      <td>BE 428759497</td>\n",
       "    </tr>\n",
       "    <tr>\n",
       "      <th>3</th>\n",
       "      <td>BE431150351</td>\n",
       "      <td>apt 1 789 s maple rd manhattan</td>\n",
       "      <td>BE431150351</td>\n",
       "    </tr>\n",
       "    <tr>\n",
       "      <th>4</th>\n",
       "      <td>002 724 334</td>\n",
       "      <td>robie house, 789 north main street</td>\n",
       "      <td>002 724 334</td>\n",
       "    </tr>\n",
       "    <tr>\n",
       "      <th>5</th>\n",
       "      <td>hello</td>\n",
       "      <td>1111 S Figueroa St, Los Angeles, CA 90015</td>\n",
       "      <td>hello</td>\n",
       "    </tr>\n",
       "    <tr>\n",
       "      <th>6</th>\n",
       "      <td>NaN</td>\n",
       "      <td>(staples center) 1111 S Figueroa St, Los Angeles</td>\n",
       "      <td>NaN</td>\n",
       "    </tr>\n",
       "    <tr>\n",
       "      <th>7</th>\n",
       "      <td>NULL</td>\n",
       "      <td>hello</td>\n",
       "      <td>NaN</td>\n",
       "    </tr>\n",
       "  </tbody>\n",
       "</table>\n",
       "</div>"
      ],
      "text/plain": [
       "            btw                                           address  \\\n",
       "0  004495445B01                                     123 Pine Ave.   \n",
       "1  123456789B90                                           main st   \n",
       "2  BE 428759497                      1234 west main heights 57033   \n",
       "3   BE431150351                    apt 1 789 s maple rd manhattan   \n",
       "4   002 724 334                robie house, 789 north main street   \n",
       "5         hello         1111 S Figueroa St, Los Angeles, CA 90015   \n",
       "6           NaN  (staples center) 1111 S Figueroa St, Los Angeles   \n",
       "7          NULL                                             hello   \n",
       "\n",
       "      btw_clean  \n",
       "0  004495445B01  \n",
       "1  123456789B90  \n",
       "2  BE 428759497  \n",
       "3   BE431150351  \n",
       "4   002 724 334  \n",
       "5         hello  \n",
       "6           NaN  \n",
       "7           NaN  "
      ]
     },
     "execution_count": 1,
     "metadata": {},
     "output_type": "execute_result"
    }
   ],
   "source": [
    "clean_nl_btw(df, \"btw\", errors=\"ignore\")"
   ]
  },
  {
   "cell_type": "markdown",
   "id": "coupled-celebrity",
   "metadata": {},
   "source": [
    "## 4. `validate_nl_btw()`"
   ]
  },
  {
   "cell_type": "markdown",
   "id": "weighted-assurance",
   "metadata": {},
   "source": [
    "`validate_nl_btw()` returns `True` when the input is a valid BTW. Otherwise it returns `False`.\n",
    "\n",
    "The input of `validate_nl_btw()` can be a string, a Pandas DataSeries, a Dask DataSeries, a Pandas DataFrame and a dask DataFrame.\n",
    "\n",
    "When the input is a string, a Pandas DataSeries or a Dask DataSeries, user doesn't need to specify a column name to be validated. \n",
    "\n",
    "When the input is a Pandas DataFrame or a dask DataFrame, user can both specify or not specify a column name to be validated. If user specify the column name, `validate_nl_btw()` only returns the validation result for the specified column. If user doesn't specify the column name, `validate_nl_btw()` returns the validation result for the whole DataFrame."
   ]
  },
  {
   "cell_type": "code",
   "execution_count": 8,
   "id": "opposed-monday",
   "metadata": {
    "execution": {
     "iopub.execute_input": "2021-10-26T23:41:23.323865Z",
     "iopub.status.busy": "2021-10-26T23:41:23.323155Z",
     "iopub.status.idle": "2021-10-26T23:41:23.328124Z",
     "shell.execute_reply": "2021-10-26T23:41:23.328632Z"
    }
   },
   "outputs": [
    {
     "name": "stdout",
     "output_type": "stream",
     "text": [
      "True\n",
      "False\n",
      "False\n",
      "False\n",
      "False\n",
      "False\n",
      "False\n",
      "False\n"
     ]
    }
   ],
   "source": [
    "from dataprep.clean import validate_nl_btw\n",
    "print(validate_nl_btw(\"004495445B01\"))\n",
    "print(validate_nl_btw(\"123456789B90\"))\n",
    "print(validate_nl_btw('BE 428759497'))\n",
    "print(validate_nl_btw('BE431150351'))\n",
    "print(validate_nl_btw(\"004085616\"))\n",
    "print(validate_nl_btw(\"hello\"))\n",
    "print(validate_nl_btw(np.nan))\n",
    "print(validate_nl_btw(\"NULL\"))"
   ]
  },
  {
   "cell_type": "markdown",
   "id": "intimate-formation",
   "metadata": {},
   "source": [
    "### Series"
   ]
  },
  {
   "cell_type": "code",
   "execution_count": 9,
   "id": "nervous-person",
   "metadata": {
    "execution": {
     "iopub.execute_input": "2021-10-26T23:41:23.335272Z",
     "iopub.status.busy": "2021-10-26T23:41:23.334659Z",
     "iopub.status.idle": "2021-10-26T23:41:23.337515Z",
     "shell.execute_reply": "2021-10-26T23:41:23.338012Z"
    }
   },
   "outputs": [
    {
     "data": {
      "text/plain": [
       "0     True\n",
       "1    False\n",
       "2    False\n",
       "3    False\n",
       "4    False\n",
       "5    False\n",
       "6    False\n",
       "7    False\n",
       "Name: btw, dtype: bool"
      ]
     },
     "execution_count": 1,
     "metadata": {},
     "output_type": "execute_result"
    }
   ],
   "source": [
    "validate_nl_btw(df[\"btw\"])"
   ]
  },
  {
   "cell_type": "markdown",
   "id": "absent-penguin",
   "metadata": {},
   "source": [
    "### DataFrame + Specify Column"
   ]
  },
  {
   "cell_type": "code",
   "execution_count": 10,
   "id": "attended-calculation",
   "metadata": {
    "execution": {
     "iopub.execute_input": "2021-10-26T23:41:23.345641Z",
     "iopub.status.busy": "2021-10-26T23:41:23.344719Z",
     "iopub.status.idle": "2021-10-26T23:41:23.347794Z",
     "shell.execute_reply": "2021-10-26T23:41:23.348299Z"
    }
   },
   "outputs": [
    {
     "data": {
      "text/plain": [
       "0     True\n",
       "1    False\n",
       "2    False\n",
       "3    False\n",
       "4    False\n",
       "5    False\n",
       "6    False\n",
       "7    False\n",
       "Name: btw, dtype: bool"
      ]
     },
     "execution_count": 1,
     "metadata": {},
     "output_type": "execute_result"
    }
   ],
   "source": [
    "validate_nl_btw(df, column=\"btw\")"
   ]
  },
  {
   "cell_type": "markdown",
   "id": "polished-composer",
   "metadata": {},
   "source": [
    "### Only DataFrame"
   ]
  },
  {
   "cell_type": "code",
   "execution_count": 11,
   "id": "numerical-responsibility",
   "metadata": {
    "execution": {
     "iopub.execute_input": "2021-10-26T23:41:23.352596Z",
     "iopub.status.busy": "2021-10-26T23:41:23.351943Z",
     "iopub.status.idle": "2021-10-26T23:41:23.361215Z",
     "shell.execute_reply": "2021-10-26T23:41:23.361709Z"
    }
   },
   "outputs": [
    {
     "data": {
      "text/html": [
       "<div>\n",
       "<style scoped>\n",
       "    .dataframe tbody tr th:only-of-type {\n",
       "        vertical-align: middle;\n",
       "    }\n",
       "\n",
       "    .dataframe tbody tr th {\n",
       "        vertical-align: top;\n",
       "    }\n",
       "\n",
       "    .dataframe thead th {\n",
       "        text-align: right;\n",
       "    }\n",
       "</style>\n",
       "<table border=\"1\" class=\"dataframe\">\n",
       "  <thead>\n",
       "    <tr style=\"text-align: right;\">\n",
       "      <th></th>\n",
       "      <th>btw</th>\n",
       "      <th>address</th>\n",
       "    </tr>\n",
       "  </thead>\n",
       "  <tbody>\n",
       "    <tr>\n",
       "      <th>0</th>\n",
       "      <td>True</td>\n",
       "      <td>False</td>\n",
       "    </tr>\n",
       "    <tr>\n",
       "      <th>1</th>\n",
       "      <td>False</td>\n",
       "      <td>False</td>\n",
       "    </tr>\n",
       "    <tr>\n",
       "      <th>2</th>\n",
       "      <td>False</td>\n",
       "      <td>False</td>\n",
       "    </tr>\n",
       "    <tr>\n",
       "      <th>3</th>\n",
       "      <td>False</td>\n",
       "      <td>False</td>\n",
       "    </tr>\n",
       "    <tr>\n",
       "      <th>4</th>\n",
       "      <td>False</td>\n",
       "      <td>False</td>\n",
       "    </tr>\n",
       "    <tr>\n",
       "      <th>5</th>\n",
       "      <td>False</td>\n",
       "      <td>False</td>\n",
       "    </tr>\n",
       "    <tr>\n",
       "      <th>6</th>\n",
       "      <td>False</td>\n",
       "      <td>False</td>\n",
       "    </tr>\n",
       "    <tr>\n",
       "      <th>7</th>\n",
       "      <td>False</td>\n",
       "      <td>False</td>\n",
       "    </tr>\n",
       "  </tbody>\n",
       "</table>\n",
       "</div>"
      ],
      "text/plain": [
       "     btw  address\n",
       "0   True    False\n",
       "1  False    False\n",
       "2  False    False\n",
       "3  False    False\n",
       "4  False    False\n",
       "5  False    False\n",
       "6  False    False\n",
       "7  False    False"
      ]
     },
     "execution_count": 1,
     "metadata": {},
     "output_type": "execute_result"
    }
   ],
   "source": [
    "validate_nl_btw(df)"
   ]
  },
  {
   "cell_type": "code",
   "execution_count": null,
   "id": "expected-topic",
   "metadata": {},
   "outputs": [],
   "source": []
  }
 ],
 "metadata": {
  "kernelspec": {
   "display_name": "Python 3",
   "language": "python",
   "name": "python3"
  },
  "language_info": {
   "codemirror_mode": {
    "name": "ipython",
    "version": 3
   },
   "file_extension": ".py",
   "mimetype": "text/x-python",
   "name": "python",
   "nbconvert_exporter": "python",
   "pygments_lexer": "ipython3",
   "version": "3.8.10"
  }
 },
 "nbformat": 4,
 "nbformat_minor": 5
}
