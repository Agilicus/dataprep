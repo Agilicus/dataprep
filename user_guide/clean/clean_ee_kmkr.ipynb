{
 "cells": [
  {
   "cell_type": "raw",
   "id": "optional-recorder",
   "metadata": {},
   "source": [
    ".. _kmkr_userguide:\n",
    "\n",
    "KMKR Strings\n",
    "============"
   ]
  },
  {
   "cell_type": "raw",
   "id": "seven-forward",
   "metadata": {},
   "source": [
    "Introduction\n",
    "------------\n",
    "\n",
    "The function :func:`clean_ee_kmkr() <dataprep.clean.clean_ee_kmkr.clean_ee_kmkr>` cleans a column containing Estonian KMKR number (KMKR) strings, and standardizes them in a given format. The function :func:`validate_ee_kmkr() <dataprep.clean.clean_ee_kmkr.validate_ee_kmkr>` validates either a single KMKR strings, a column of KMKR strings or a DataFrame of KMKR strings, returning `True` if the value is valid, and `False` otherwise."
   ]
  },
  {
   "cell_type": "markdown",
   "id": "impressive-compromise",
   "metadata": {},
   "source": [
    "KMKR strings can be converted to the following formats via the `output_format` parameter:\n",
    "\n",
    "* `compact`: only number strings without any seperators or whitespace, like \"100931558\"\n",
    "* `standard`: KMKR strings with proper whitespace in the proper places. Note that in the case of KMKR, the compact format is the same as the standard one.\n",
    "\n",
    "Invalid parsing is handled with the `errors` parameter:\n",
    "\n",
    "* `coerce` (default): invalid parsing will be set to NaN\n",
    "* `ignore`: invalid parsing will return the input\n",
    "* `raise`: invalid parsing will raise an exception\n",
    "\n",
    "The following sections demonstrate the functionality of `clean_ee_kmkr()` and `validate_ee_kmkr()`. "
   ]
  },
  {
   "cell_type": "markdown",
   "id": "proved-terminal",
   "metadata": {},
   "source": [
    "### An example dataset containing KMKR strings"
   ]
  },
  {
   "cell_type": "code",
   "execution_count": 1,
   "id": "engaged-latex",
   "metadata": {
    "execution": {
     "iopub.execute_input": "2021-10-26T22:59:58.870935Z",
     "iopub.status.busy": "2021-10-26T22:59:58.870521Z",
     "iopub.status.idle": "2021-10-26T22:59:59.085972Z",
     "shell.execute_reply": "2021-10-26T22:59:59.085498Z"
    }
   },
   "outputs": [
    {
     "data": {
      "text/html": [
       "<div>\n",
       "<style scoped>\n",
       "    .dataframe tbody tr th:only-of-type {\n",
       "        vertical-align: middle;\n",
       "    }\n",
       "\n",
       "    .dataframe tbody tr th {\n",
       "        vertical-align: top;\n",
       "    }\n",
       "\n",
       "    .dataframe thead th {\n",
       "        text-align: right;\n",
       "    }\n",
       "</style>\n",
       "<table border=\"1\" class=\"dataframe\">\n",
       "  <thead>\n",
       "    <tr style=\"text-align: right;\">\n",
       "      <th></th>\n",
       "      <th>kmkr</th>\n",
       "      <th>address</th>\n",
       "    </tr>\n",
       "  </thead>\n",
       "  <tbody>\n",
       "    <tr>\n",
       "      <th>0</th>\n",
       "      <td>EE 100 931 558</td>\n",
       "      <td>123 Pine Ave.</td>\n",
       "    </tr>\n",
       "    <tr>\n",
       "      <th>1</th>\n",
       "      <td>100594103</td>\n",
       "      <td>main st</td>\n",
       "    </tr>\n",
       "    <tr>\n",
       "      <th>2</th>\n",
       "      <td>BE 428759497</td>\n",
       "      <td>1234 west main heights 57033</td>\n",
       "    </tr>\n",
       "    <tr>\n",
       "      <th>3</th>\n",
       "      <td>BE431150351</td>\n",
       "      <td>apt 1 789 s maple rd manhattan</td>\n",
       "    </tr>\n",
       "    <tr>\n",
       "      <th>4</th>\n",
       "      <td>002 724 334</td>\n",
       "      <td>robie house, 789 north main street</td>\n",
       "    </tr>\n",
       "    <tr>\n",
       "      <th>5</th>\n",
       "      <td>hello</td>\n",
       "      <td>1111 S Figueroa St, Los Angeles, CA 90015</td>\n",
       "    </tr>\n",
       "    <tr>\n",
       "      <th>6</th>\n",
       "      <td>NaN</td>\n",
       "      <td>(staples center) 1111 S Figueroa St, Los Angeles</td>\n",
       "    </tr>\n",
       "    <tr>\n",
       "      <th>7</th>\n",
       "      <td>NULL</td>\n",
       "      <td>hello</td>\n",
       "    </tr>\n",
       "  </tbody>\n",
       "</table>\n",
       "</div>"
      ],
      "text/plain": [
       "             kmkr                                           address\n",
       "0  EE 100 931 558                                     123 Pine Ave.\n",
       "1       100594103                                           main st\n",
       "2    BE 428759497                      1234 west main heights 57033\n",
       "3     BE431150351                    apt 1 789 s maple rd manhattan\n",
       "4     002 724 334                robie house, 789 north main street\n",
       "5           hello         1111 S Figueroa St, Los Angeles, CA 90015\n",
       "6             NaN  (staples center) 1111 S Figueroa St, Los Angeles\n",
       "7            NULL                                             hello"
      ]
     },
     "execution_count": 1,
     "metadata": {},
     "output_type": "execute_result"
    }
   ],
   "source": [
    "import pandas as pd\n",
    "import numpy as np\n",
    "df = pd.DataFrame(\n",
    "    {\n",
    "        \"kmkr\": [\n",
    "            'EE 100 931 558',\n",
    "            '100594103',\n",
    "            'BE 428759497',\n",
    "            'BE431150351',\n",
    "            \"002 724 334\",\n",
    "            \"hello\",\n",
    "            np.nan,\n",
    "            \"NULL\",\n",
    "        ], \n",
    "        \"address\": [\n",
    "            \"123 Pine Ave.\",\n",
    "            \"main st\",\n",
    "            \"1234 west main heights 57033\",\n",
    "            \"apt 1 789 s maple rd manhattan\",\n",
    "            \"robie house, 789 north main street\",\n",
    "            \"1111 S Figueroa St, Los Angeles, CA 90015\",\n",
    "            \"(staples center) 1111 S Figueroa St, Los Angeles\",\n",
    "            \"hello\",\n",
    "        ]\n",
    "    }\n",
    ")\n",
    "df"
   ]
  },
  {
   "cell_type": "markdown",
   "id": "dietary-amber",
   "metadata": {},
   "source": [
    "## 1. Default `clean_ee_kmkr`\n",
    "\n",
    "By default, `clean_ee_kmkr` will clean kmkr strings and output them in the standard format with proper separators."
   ]
  },
  {
   "cell_type": "code",
   "execution_count": 2,
   "id": "divided-finland",
   "metadata": {
    "execution": {
     "iopub.execute_input": "2021-10-26T22:59:59.089821Z",
     "iopub.status.busy": "2021-10-26T22:59:59.088818Z",
     "iopub.status.idle": "2021-10-26T22:59:59.619191Z",
     "shell.execute_reply": "2021-10-26T22:59:59.619653Z"
    }
   },
   "outputs": [
    {
     "data": {
      "text/html": [
       "<div>\n",
       "<style scoped>\n",
       "    .dataframe tbody tr th:only-of-type {\n",
       "        vertical-align: middle;\n",
       "    }\n",
       "\n",
       "    .dataframe tbody tr th {\n",
       "        vertical-align: top;\n",
       "    }\n",
       "\n",
       "    .dataframe thead th {\n",
       "        text-align: right;\n",
       "    }\n",
       "</style>\n",
       "<table border=\"1\" class=\"dataframe\">\n",
       "  <thead>\n",
       "    <tr style=\"text-align: right;\">\n",
       "      <th></th>\n",
       "      <th>kmkr</th>\n",
       "      <th>address</th>\n",
       "      <th>kmkr_clean</th>\n",
       "    </tr>\n",
       "  </thead>\n",
       "  <tbody>\n",
       "    <tr>\n",
       "      <th>0</th>\n",
       "      <td>EE 100 931 558</td>\n",
       "      <td>123 Pine Ave.</td>\n",
       "      <td>100931558</td>\n",
       "    </tr>\n",
       "    <tr>\n",
       "      <th>1</th>\n",
       "      <td>100594103</td>\n",
       "      <td>main st</td>\n",
       "      <td>NaN</td>\n",
       "    </tr>\n",
       "    <tr>\n",
       "      <th>2</th>\n",
       "      <td>BE 428759497</td>\n",
       "      <td>1234 west main heights 57033</td>\n",
       "      <td>NaN</td>\n",
       "    </tr>\n",
       "    <tr>\n",
       "      <th>3</th>\n",
       "      <td>BE431150351</td>\n",
       "      <td>apt 1 789 s maple rd manhattan</td>\n",
       "      <td>NaN</td>\n",
       "    </tr>\n",
       "    <tr>\n",
       "      <th>4</th>\n",
       "      <td>002 724 334</td>\n",
       "      <td>robie house, 789 north main street</td>\n",
       "      <td>NaN</td>\n",
       "    </tr>\n",
       "    <tr>\n",
       "      <th>5</th>\n",
       "      <td>hello</td>\n",
       "      <td>1111 S Figueroa St, Los Angeles, CA 90015</td>\n",
       "      <td>NaN</td>\n",
       "    </tr>\n",
       "    <tr>\n",
       "      <th>6</th>\n",
       "      <td>NaN</td>\n",
       "      <td>(staples center) 1111 S Figueroa St, Los Angeles</td>\n",
       "      <td>NaN</td>\n",
       "    </tr>\n",
       "    <tr>\n",
       "      <th>7</th>\n",
       "      <td>NULL</td>\n",
       "      <td>hello</td>\n",
       "      <td>NaN</td>\n",
       "    </tr>\n",
       "  </tbody>\n",
       "</table>\n",
       "</div>"
      ],
      "text/plain": [
       "             kmkr                                           address kmkr_clean\n",
       "0  EE 100 931 558                                     123 Pine Ave.  100931558\n",
       "1       100594103                                           main st        NaN\n",
       "2    BE 428759497                      1234 west main heights 57033        NaN\n",
       "3     BE431150351                    apt 1 789 s maple rd manhattan        NaN\n",
       "4     002 724 334                robie house, 789 north main street        NaN\n",
       "5           hello         1111 S Figueroa St, Los Angeles, CA 90015        NaN\n",
       "6             NaN  (staples center) 1111 S Figueroa St, Los Angeles        NaN\n",
       "7            NULL                                             hello        NaN"
      ]
     },
     "execution_count": 1,
     "metadata": {},
     "output_type": "execute_result"
    }
   ],
   "source": [
    "from dataprep.clean import clean_ee_kmkr\n",
    "clean_ee_kmkr(df, column = \"kmkr\")"
   ]
  },
  {
   "cell_type": "markdown",
   "id": "acting-forest",
   "metadata": {},
   "source": [
    "## 2. Output formats"
   ]
  },
  {
   "cell_type": "markdown",
   "id": "junior-cisco",
   "metadata": {},
   "source": [
    "This section demonstrates the output parameter."
   ]
  },
  {
   "cell_type": "markdown",
   "id": "sufficient-snowboard",
   "metadata": {},
   "source": [
    "### `standard` (default)"
   ]
  },
  {
   "cell_type": "code",
   "execution_count": 3,
   "id": "built-navigation",
   "metadata": {
    "execution": {
     "iopub.execute_input": "2021-10-26T22:59:59.640012Z",
     "iopub.status.busy": "2021-10-26T22:59:59.639542Z",
     "iopub.status.idle": "2021-10-26T22:59:59.647540Z",
     "shell.execute_reply": "2021-10-26T22:59:59.647149Z"
    }
   },
   "outputs": [
    {
     "data": {
      "text/html": [
       "<div>\n",
       "<style scoped>\n",
       "    .dataframe tbody tr th:only-of-type {\n",
       "        vertical-align: middle;\n",
       "    }\n",
       "\n",
       "    .dataframe tbody tr th {\n",
       "        vertical-align: top;\n",
       "    }\n",
       "\n",
       "    .dataframe thead th {\n",
       "        text-align: right;\n",
       "    }\n",
       "</style>\n",
       "<table border=\"1\" class=\"dataframe\">\n",
       "  <thead>\n",
       "    <tr style=\"text-align: right;\">\n",
       "      <th></th>\n",
       "      <th>kmkr</th>\n",
       "      <th>address</th>\n",
       "      <th>kmkr_clean</th>\n",
       "    </tr>\n",
       "  </thead>\n",
       "  <tbody>\n",
       "    <tr>\n",
       "      <th>0</th>\n",
       "      <td>EE 100 931 558</td>\n",
       "      <td>123 Pine Ave.</td>\n",
       "      <td>100931558</td>\n",
       "    </tr>\n",
       "    <tr>\n",
       "      <th>1</th>\n",
       "      <td>100594103</td>\n",
       "      <td>main st</td>\n",
       "      <td>NaN</td>\n",
       "    </tr>\n",
       "    <tr>\n",
       "      <th>2</th>\n",
       "      <td>BE 428759497</td>\n",
       "      <td>1234 west main heights 57033</td>\n",
       "      <td>NaN</td>\n",
       "    </tr>\n",
       "    <tr>\n",
       "      <th>3</th>\n",
       "      <td>BE431150351</td>\n",
       "      <td>apt 1 789 s maple rd manhattan</td>\n",
       "      <td>NaN</td>\n",
       "    </tr>\n",
       "    <tr>\n",
       "      <th>4</th>\n",
       "      <td>002 724 334</td>\n",
       "      <td>robie house, 789 north main street</td>\n",
       "      <td>NaN</td>\n",
       "    </tr>\n",
       "    <tr>\n",
       "      <th>5</th>\n",
       "      <td>hello</td>\n",
       "      <td>1111 S Figueroa St, Los Angeles, CA 90015</td>\n",
       "      <td>NaN</td>\n",
       "    </tr>\n",
       "    <tr>\n",
       "      <th>6</th>\n",
       "      <td>NaN</td>\n",
       "      <td>(staples center) 1111 S Figueroa St, Los Angeles</td>\n",
       "      <td>NaN</td>\n",
       "    </tr>\n",
       "    <tr>\n",
       "      <th>7</th>\n",
       "      <td>NULL</td>\n",
       "      <td>hello</td>\n",
       "      <td>NaN</td>\n",
       "    </tr>\n",
       "  </tbody>\n",
       "</table>\n",
       "</div>"
      ],
      "text/plain": [
       "             kmkr                                           address kmkr_clean\n",
       "0  EE 100 931 558                                     123 Pine Ave.  100931558\n",
       "1       100594103                                           main st        NaN\n",
       "2    BE 428759497                      1234 west main heights 57033        NaN\n",
       "3     BE431150351                    apt 1 789 s maple rd manhattan        NaN\n",
       "4     002 724 334                robie house, 789 north main street        NaN\n",
       "5           hello         1111 S Figueroa St, Los Angeles, CA 90015        NaN\n",
       "6             NaN  (staples center) 1111 S Figueroa St, Los Angeles        NaN\n",
       "7            NULL                                             hello        NaN"
      ]
     },
     "execution_count": 1,
     "metadata": {},
     "output_type": "execute_result"
    }
   ],
   "source": [
    "clean_ee_kmkr(df, column = \"kmkr\", output_format=\"standard\")"
   ]
  },
  {
   "cell_type": "markdown",
   "id": "essential-relevance",
   "metadata": {},
   "source": [
    "### `compact`"
   ]
  },
  {
   "cell_type": "code",
   "execution_count": 4,
   "id": "peripheral-booking",
   "metadata": {
    "execution": {
     "iopub.execute_input": "2021-10-26T22:59:59.665040Z",
     "iopub.status.busy": "2021-10-26T22:59:59.664580Z",
     "iopub.status.idle": "2021-10-26T22:59:59.674472Z",
     "shell.execute_reply": "2021-10-26T22:59:59.674092Z"
    }
   },
   "outputs": [
    {
     "data": {
      "text/html": [
       "<div>\n",
       "<style scoped>\n",
       "    .dataframe tbody tr th:only-of-type {\n",
       "        vertical-align: middle;\n",
       "    }\n",
       "\n",
       "    .dataframe tbody tr th {\n",
       "        vertical-align: top;\n",
       "    }\n",
       "\n",
       "    .dataframe thead th {\n",
       "        text-align: right;\n",
       "    }\n",
       "</style>\n",
       "<table border=\"1\" class=\"dataframe\">\n",
       "  <thead>\n",
       "    <tr style=\"text-align: right;\">\n",
       "      <th></th>\n",
       "      <th>kmkr</th>\n",
       "      <th>address</th>\n",
       "      <th>kmkr_clean</th>\n",
       "    </tr>\n",
       "  </thead>\n",
       "  <tbody>\n",
       "    <tr>\n",
       "      <th>0</th>\n",
       "      <td>EE 100 931 558</td>\n",
       "      <td>123 Pine Ave.</td>\n",
       "      <td>100931558</td>\n",
       "    </tr>\n",
       "    <tr>\n",
       "      <th>1</th>\n",
       "      <td>100594103</td>\n",
       "      <td>main st</td>\n",
       "      <td>NaN</td>\n",
       "    </tr>\n",
       "    <tr>\n",
       "      <th>2</th>\n",
       "      <td>BE 428759497</td>\n",
       "      <td>1234 west main heights 57033</td>\n",
       "      <td>NaN</td>\n",
       "    </tr>\n",
       "    <tr>\n",
       "      <th>3</th>\n",
       "      <td>BE431150351</td>\n",
       "      <td>apt 1 789 s maple rd manhattan</td>\n",
       "      <td>NaN</td>\n",
       "    </tr>\n",
       "    <tr>\n",
       "      <th>4</th>\n",
       "      <td>002 724 334</td>\n",
       "      <td>robie house, 789 north main street</td>\n",
       "      <td>NaN</td>\n",
       "    </tr>\n",
       "    <tr>\n",
       "      <th>5</th>\n",
       "      <td>hello</td>\n",
       "      <td>1111 S Figueroa St, Los Angeles, CA 90015</td>\n",
       "      <td>NaN</td>\n",
       "    </tr>\n",
       "    <tr>\n",
       "      <th>6</th>\n",
       "      <td>NaN</td>\n",
       "      <td>(staples center) 1111 S Figueroa St, Los Angeles</td>\n",
       "      <td>NaN</td>\n",
       "    </tr>\n",
       "    <tr>\n",
       "      <th>7</th>\n",
       "      <td>NULL</td>\n",
       "      <td>hello</td>\n",
       "      <td>NaN</td>\n",
       "    </tr>\n",
       "  </tbody>\n",
       "</table>\n",
       "</div>"
      ],
      "text/plain": [
       "             kmkr                                           address kmkr_clean\n",
       "0  EE 100 931 558                                     123 Pine Ave.  100931558\n",
       "1       100594103                                           main st        NaN\n",
       "2    BE 428759497                      1234 west main heights 57033        NaN\n",
       "3     BE431150351                    apt 1 789 s maple rd manhattan        NaN\n",
       "4     002 724 334                robie house, 789 north main street        NaN\n",
       "5           hello         1111 S Figueroa St, Los Angeles, CA 90015        NaN\n",
       "6             NaN  (staples center) 1111 S Figueroa St, Los Angeles        NaN\n",
       "7            NULL                                             hello        NaN"
      ]
     },
     "execution_count": 1,
     "metadata": {},
     "output_type": "execute_result"
    }
   ],
   "source": [
    "clean_ee_kmkr(df, column = \"kmkr\", output_format=\"compact\")"
   ]
  },
  {
   "cell_type": "markdown",
   "id": "assumed-commissioner",
   "metadata": {},
   "source": [
    "## 3. `inplace` parameter\n",
    "\n",
    "This deletes the given column from the returned DataFrame. \n",
    "A new column containing cleaned KMKR strings is added with a title in the format `\"{original title}_clean\"`."
   ]
  },
  {
   "cell_type": "code",
   "execution_count": 5,
   "id": "blond-flood",
   "metadata": {
    "execution": {
     "iopub.execute_input": "2021-10-26T22:59:59.700185Z",
     "iopub.status.busy": "2021-10-26T22:59:59.699717Z",
     "iopub.status.idle": "2021-10-26T22:59:59.708894Z",
     "shell.execute_reply": "2021-10-26T22:59:59.709239Z"
    }
   },
   "outputs": [
    {
     "data": {
      "text/html": [
       "<div>\n",
       "<style scoped>\n",
       "    .dataframe tbody tr th:only-of-type {\n",
       "        vertical-align: middle;\n",
       "    }\n",
       "\n",
       "    .dataframe tbody tr th {\n",
       "        vertical-align: top;\n",
       "    }\n",
       "\n",
       "    .dataframe thead th {\n",
       "        text-align: right;\n",
       "    }\n",
       "</style>\n",
       "<table border=\"1\" class=\"dataframe\">\n",
       "  <thead>\n",
       "    <tr style=\"text-align: right;\">\n",
       "      <th></th>\n",
       "      <th>kmkr_clean</th>\n",
       "      <th>address</th>\n",
       "    </tr>\n",
       "  </thead>\n",
       "  <tbody>\n",
       "    <tr>\n",
       "      <th>0</th>\n",
       "      <td>100931558</td>\n",
       "      <td>123 Pine Ave.</td>\n",
       "    </tr>\n",
       "    <tr>\n",
       "      <th>1</th>\n",
       "      <td>NaN</td>\n",
       "      <td>main st</td>\n",
       "    </tr>\n",
       "    <tr>\n",
       "      <th>2</th>\n",
       "      <td>NaN</td>\n",
       "      <td>1234 west main heights 57033</td>\n",
       "    </tr>\n",
       "    <tr>\n",
       "      <th>3</th>\n",
       "      <td>NaN</td>\n",
       "      <td>apt 1 789 s maple rd manhattan</td>\n",
       "    </tr>\n",
       "    <tr>\n",
       "      <th>4</th>\n",
       "      <td>NaN</td>\n",
       "      <td>robie house, 789 north main street</td>\n",
       "    </tr>\n",
       "    <tr>\n",
       "      <th>5</th>\n",
       "      <td>NaN</td>\n",
       "      <td>1111 S Figueroa St, Los Angeles, CA 90015</td>\n",
       "    </tr>\n",
       "    <tr>\n",
       "      <th>6</th>\n",
       "      <td>NaN</td>\n",
       "      <td>(staples center) 1111 S Figueroa St, Los Angeles</td>\n",
       "    </tr>\n",
       "    <tr>\n",
       "      <th>7</th>\n",
       "      <td>NaN</td>\n",
       "      <td>hello</td>\n",
       "    </tr>\n",
       "  </tbody>\n",
       "</table>\n",
       "</div>"
      ],
      "text/plain": [
       "  kmkr_clean                                           address\n",
       "0  100931558                                     123 Pine Ave.\n",
       "1        NaN                                           main st\n",
       "2        NaN                      1234 west main heights 57033\n",
       "3        NaN                    apt 1 789 s maple rd manhattan\n",
       "4        NaN                robie house, 789 north main street\n",
       "5        NaN         1111 S Figueroa St, Los Angeles, CA 90015\n",
       "6        NaN  (staples center) 1111 S Figueroa St, Los Angeles\n",
       "7        NaN                                             hello"
      ]
     },
     "execution_count": 1,
     "metadata": {},
     "output_type": "execute_result"
    }
   ],
   "source": [
    "clean_ee_kmkr(df, column=\"kmkr\", inplace=True)"
   ]
  },
  {
   "cell_type": "markdown",
   "id": "unexpected-operations",
   "metadata": {},
   "source": [
    "## 4. `errors` parameter"
   ]
  },
  {
   "cell_type": "markdown",
   "id": "center-delaware",
   "metadata": {},
   "source": [
    "### `coerce` (default)"
   ]
  },
  {
   "cell_type": "code",
   "execution_count": 6,
   "id": "renewable-characterization",
   "metadata": {
    "execution": {
     "iopub.execute_input": "2021-10-26T22:59:59.729184Z",
     "iopub.status.busy": "2021-10-26T22:59:59.728699Z",
     "iopub.status.idle": "2021-10-26T22:59:59.735502Z",
     "shell.execute_reply": "2021-10-26T22:59:59.735104Z"
    }
   },
   "outputs": [
    {
     "data": {
      "text/html": [
       "<div>\n",
       "<style scoped>\n",
       "    .dataframe tbody tr th:only-of-type {\n",
       "        vertical-align: middle;\n",
       "    }\n",
       "\n",
       "    .dataframe tbody tr th {\n",
       "        vertical-align: top;\n",
       "    }\n",
       "\n",
       "    .dataframe thead th {\n",
       "        text-align: right;\n",
       "    }\n",
       "</style>\n",
       "<table border=\"1\" class=\"dataframe\">\n",
       "  <thead>\n",
       "    <tr style=\"text-align: right;\">\n",
       "      <th></th>\n",
       "      <th>kmkr</th>\n",
       "      <th>address</th>\n",
       "      <th>kmkr_clean</th>\n",
       "    </tr>\n",
       "  </thead>\n",
       "  <tbody>\n",
       "    <tr>\n",
       "      <th>0</th>\n",
       "      <td>EE 100 931 558</td>\n",
       "      <td>123 Pine Ave.</td>\n",
       "      <td>100931558</td>\n",
       "    </tr>\n",
       "    <tr>\n",
       "      <th>1</th>\n",
       "      <td>100594103</td>\n",
       "      <td>main st</td>\n",
       "      <td>NaN</td>\n",
       "    </tr>\n",
       "    <tr>\n",
       "      <th>2</th>\n",
       "      <td>BE 428759497</td>\n",
       "      <td>1234 west main heights 57033</td>\n",
       "      <td>NaN</td>\n",
       "    </tr>\n",
       "    <tr>\n",
       "      <th>3</th>\n",
       "      <td>BE431150351</td>\n",
       "      <td>apt 1 789 s maple rd manhattan</td>\n",
       "      <td>NaN</td>\n",
       "    </tr>\n",
       "    <tr>\n",
       "      <th>4</th>\n",
       "      <td>002 724 334</td>\n",
       "      <td>robie house, 789 north main street</td>\n",
       "      <td>NaN</td>\n",
       "    </tr>\n",
       "    <tr>\n",
       "      <th>5</th>\n",
       "      <td>hello</td>\n",
       "      <td>1111 S Figueroa St, Los Angeles, CA 90015</td>\n",
       "      <td>NaN</td>\n",
       "    </tr>\n",
       "    <tr>\n",
       "      <th>6</th>\n",
       "      <td>NaN</td>\n",
       "      <td>(staples center) 1111 S Figueroa St, Los Angeles</td>\n",
       "      <td>NaN</td>\n",
       "    </tr>\n",
       "    <tr>\n",
       "      <th>7</th>\n",
       "      <td>NULL</td>\n",
       "      <td>hello</td>\n",
       "      <td>NaN</td>\n",
       "    </tr>\n",
       "  </tbody>\n",
       "</table>\n",
       "</div>"
      ],
      "text/plain": [
       "             kmkr                                           address kmkr_clean\n",
       "0  EE 100 931 558                                     123 Pine Ave.  100931558\n",
       "1       100594103                                           main st        NaN\n",
       "2    BE 428759497                      1234 west main heights 57033        NaN\n",
       "3     BE431150351                    apt 1 789 s maple rd manhattan        NaN\n",
       "4     002 724 334                robie house, 789 north main street        NaN\n",
       "5           hello         1111 S Figueroa St, Los Angeles, CA 90015        NaN\n",
       "6             NaN  (staples center) 1111 S Figueroa St, Los Angeles        NaN\n",
       "7            NULL                                             hello        NaN"
      ]
     },
     "execution_count": 1,
     "metadata": {},
     "output_type": "execute_result"
    }
   ],
   "source": [
    "clean_ee_kmkr(df, \"kmkr\", errors=\"coerce\")"
   ]
  },
  {
   "cell_type": "markdown",
   "id": "acting-admission",
   "metadata": {},
   "source": [
    "### `ignore`"
   ]
  },
  {
   "cell_type": "code",
   "execution_count": 7,
   "id": "about-adrian",
   "metadata": {
    "execution": {
     "iopub.execute_input": "2021-10-26T22:59:59.751310Z",
     "iopub.status.busy": "2021-10-26T22:59:59.750848Z",
     "iopub.status.idle": "2021-10-26T22:59:59.760919Z",
     "shell.execute_reply": "2021-10-26T22:59:59.760544Z"
    }
   },
   "outputs": [
    {
     "data": {
      "text/html": [
       "<div>\n",
       "<style scoped>\n",
       "    .dataframe tbody tr th:only-of-type {\n",
       "        vertical-align: middle;\n",
       "    }\n",
       "\n",
       "    .dataframe tbody tr th {\n",
       "        vertical-align: top;\n",
       "    }\n",
       "\n",
       "    .dataframe thead th {\n",
       "        text-align: right;\n",
       "    }\n",
       "</style>\n",
       "<table border=\"1\" class=\"dataframe\">\n",
       "  <thead>\n",
       "    <tr style=\"text-align: right;\">\n",
       "      <th></th>\n",
       "      <th>kmkr</th>\n",
       "      <th>address</th>\n",
       "      <th>kmkr_clean</th>\n",
       "    </tr>\n",
       "  </thead>\n",
       "  <tbody>\n",
       "    <tr>\n",
       "      <th>0</th>\n",
       "      <td>EE 100 931 558</td>\n",
       "      <td>123 Pine Ave.</td>\n",
       "      <td>100931558</td>\n",
       "    </tr>\n",
       "    <tr>\n",
       "      <th>1</th>\n",
       "      <td>100594103</td>\n",
       "      <td>main st</td>\n",
       "      <td>100594103</td>\n",
       "    </tr>\n",
       "    <tr>\n",
       "      <th>2</th>\n",
       "      <td>BE 428759497</td>\n",
       "      <td>1234 west main heights 57033</td>\n",
       "      <td>BE 428759497</td>\n",
       "    </tr>\n",
       "    <tr>\n",
       "      <th>3</th>\n",
       "      <td>BE431150351</td>\n",
       "      <td>apt 1 789 s maple rd manhattan</td>\n",
       "      <td>BE431150351</td>\n",
       "    </tr>\n",
       "    <tr>\n",
       "      <th>4</th>\n",
       "      <td>002 724 334</td>\n",
       "      <td>robie house, 789 north main street</td>\n",
       "      <td>002 724 334</td>\n",
       "    </tr>\n",
       "    <tr>\n",
       "      <th>5</th>\n",
       "      <td>hello</td>\n",
       "      <td>1111 S Figueroa St, Los Angeles, CA 90015</td>\n",
       "      <td>hello</td>\n",
       "    </tr>\n",
       "    <tr>\n",
       "      <th>6</th>\n",
       "      <td>NaN</td>\n",
       "      <td>(staples center) 1111 S Figueroa St, Los Angeles</td>\n",
       "      <td>NaN</td>\n",
       "    </tr>\n",
       "    <tr>\n",
       "      <th>7</th>\n",
       "      <td>NULL</td>\n",
       "      <td>hello</td>\n",
       "      <td>NaN</td>\n",
       "    </tr>\n",
       "  </tbody>\n",
       "</table>\n",
       "</div>"
      ],
      "text/plain": [
       "             kmkr                                           address  \\\n",
       "0  EE 100 931 558                                     123 Pine Ave.   \n",
       "1       100594103                                           main st   \n",
       "2    BE 428759497                      1234 west main heights 57033   \n",
       "3     BE431150351                    apt 1 789 s maple rd manhattan   \n",
       "4     002 724 334                robie house, 789 north main street   \n",
       "5           hello         1111 S Figueroa St, Los Angeles, CA 90015   \n",
       "6             NaN  (staples center) 1111 S Figueroa St, Los Angeles   \n",
       "7            NULL                                             hello   \n",
       "\n",
       "     kmkr_clean  \n",
       "0     100931558  \n",
       "1     100594103  \n",
       "2  BE 428759497  \n",
       "3   BE431150351  \n",
       "4   002 724 334  \n",
       "5         hello  \n",
       "6           NaN  \n",
       "7           NaN  "
      ]
     },
     "execution_count": 1,
     "metadata": {},
     "output_type": "execute_result"
    }
   ],
   "source": [
    "clean_ee_kmkr(df, \"kmkr\", errors=\"ignore\")"
   ]
  },
  {
   "cell_type": "markdown",
   "id": "speaking-miller",
   "metadata": {},
   "source": [
    "## 4. `validate_ee_kmkr()`"
   ]
  },
  {
   "cell_type": "markdown",
   "id": "distinguished-sheffield",
   "metadata": {},
   "source": [
    "`validate_ee_kmkr()` returns `True` when the input is a valid KMKR. Otherwise it returns `False`.\n",
    "\n",
    "The input of `validate_ee_kmkr()` can be a string, a Pandas DataSeries, a Dask DataSeries, a Pandas DataFrame and a dask DataFrame.\n",
    "\n",
    "When the input is a string, a Pandas DataSeries or a Dask DataSeries, user doesn't need to specify a column name to be validated. \n",
    "\n",
    "When the input is a Pandas DataFrame or a dask DataFrame, user can both specify or not specify a column name to be validated. If user specify the column name, `validate_ee_kmkr()` only returns the validation result for the specified column. If user doesn't specify the column name, `validate_ee_kmkr()` returns the validation result for the whole DataFrame."
   ]
  },
  {
   "cell_type": "code",
   "execution_count": 8,
   "id": "sealed-lottery",
   "metadata": {
    "execution": {
     "iopub.execute_input": "2021-10-26T22:59:59.767454Z",
     "iopub.status.busy": "2021-10-26T22:59:59.766059Z",
     "iopub.status.idle": "2021-10-26T22:59:59.768984Z",
     "shell.execute_reply": "2021-10-26T22:59:59.768601Z"
    }
   },
   "outputs": [
    {
     "name": "stdout",
     "output_type": "stream",
     "text": [
      "True\n",
      "False\n",
      "False\n",
      "False\n",
      "False\n",
      "False\n",
      "False\n",
      "False\n"
     ]
    }
   ],
   "source": [
    "from dataprep.clean import validate_ee_kmkr\n",
    "print(validate_ee_kmkr(\"EE 100 931 558\"))\n",
    "print(validate_ee_kmkr(\"100594103\"))\n",
    "print(validate_ee_kmkr('BE 428759497'))\n",
    "print(validate_ee_kmkr('BE431150351'))\n",
    "print(validate_ee_kmkr(\"004085616\"))\n",
    "print(validate_ee_kmkr(\"hello\"))\n",
    "print(validate_ee_kmkr(np.nan))\n",
    "print(validate_ee_kmkr(\"NULL\"))"
   ]
  },
  {
   "cell_type": "markdown",
   "id": "quiet-italic",
   "metadata": {},
   "source": [
    "### Series"
   ]
  },
  {
   "cell_type": "code",
   "execution_count": 9,
   "id": "refined-institute",
   "metadata": {
    "execution": {
     "iopub.execute_input": "2021-10-26T22:59:59.773745Z",
     "iopub.status.busy": "2021-10-26T22:59:59.773302Z",
     "iopub.status.idle": "2021-10-26T22:59:59.775391Z",
     "shell.execute_reply": "2021-10-26T22:59:59.775745Z"
    }
   },
   "outputs": [
    {
     "data": {
      "text/plain": [
       "0     True\n",
       "1    False\n",
       "2    False\n",
       "3    False\n",
       "4    False\n",
       "5    False\n",
       "6    False\n",
       "7    False\n",
       "Name: kmkr, dtype: bool"
      ]
     },
     "execution_count": 1,
     "metadata": {},
     "output_type": "execute_result"
    }
   ],
   "source": [
    "validate_ee_kmkr(df[\"kmkr\"])"
   ]
  },
  {
   "cell_type": "markdown",
   "id": "auburn-sarah",
   "metadata": {},
   "source": [
    "### DataFrame + Specify Column"
   ]
  },
  {
   "cell_type": "code",
   "execution_count": 10,
   "id": "large-motion",
   "metadata": {
    "execution": {
     "iopub.execute_input": "2021-10-26T22:59:59.780337Z",
     "iopub.status.busy": "2021-10-26T22:59:59.779891Z",
     "iopub.status.idle": "2021-10-26T22:59:59.781943Z",
     "shell.execute_reply": "2021-10-26T22:59:59.782294Z"
    }
   },
   "outputs": [
    {
     "data": {
      "text/plain": [
       "0     True\n",
       "1    False\n",
       "2    False\n",
       "3    False\n",
       "4    False\n",
       "5    False\n",
       "6    False\n",
       "7    False\n",
       "Name: kmkr, dtype: bool"
      ]
     },
     "execution_count": 1,
     "metadata": {},
     "output_type": "execute_result"
    }
   ],
   "source": [
    "validate_ee_kmkr(df, column=\"kmkr\")"
   ]
  },
  {
   "cell_type": "markdown",
   "id": "ambient-advance",
   "metadata": {},
   "source": [
    "### Only DataFrame"
   ]
  },
  {
   "cell_type": "code",
   "execution_count": 11,
   "id": "enclosed-clark",
   "metadata": {
    "execution": {
     "iopub.execute_input": "2021-10-26T22:59:59.785118Z",
     "iopub.status.busy": "2021-10-26T22:59:59.784695Z",
     "iopub.status.idle": "2021-10-26T22:59:59.791788Z",
     "shell.execute_reply": "2021-10-26T22:59:59.791405Z"
    },
    "scrolled": true
   },
   "outputs": [
    {
     "data": {
      "text/html": [
       "<div>\n",
       "<style scoped>\n",
       "    .dataframe tbody tr th:only-of-type {\n",
       "        vertical-align: middle;\n",
       "    }\n",
       "\n",
       "    .dataframe tbody tr th {\n",
       "        vertical-align: top;\n",
       "    }\n",
       "\n",
       "    .dataframe thead th {\n",
       "        text-align: right;\n",
       "    }\n",
       "</style>\n",
       "<table border=\"1\" class=\"dataframe\">\n",
       "  <thead>\n",
       "    <tr style=\"text-align: right;\">\n",
       "      <th></th>\n",
       "      <th>kmkr</th>\n",
       "      <th>address</th>\n",
       "    </tr>\n",
       "  </thead>\n",
       "  <tbody>\n",
       "    <tr>\n",
       "      <th>0</th>\n",
       "      <td>True</td>\n",
       "      <td>False</td>\n",
       "    </tr>\n",
       "    <tr>\n",
       "      <th>1</th>\n",
       "      <td>False</td>\n",
       "      <td>False</td>\n",
       "    </tr>\n",
       "    <tr>\n",
       "      <th>2</th>\n",
       "      <td>False</td>\n",
       "      <td>False</td>\n",
       "    </tr>\n",
       "    <tr>\n",
       "      <th>3</th>\n",
       "      <td>False</td>\n",
       "      <td>False</td>\n",
       "    </tr>\n",
       "    <tr>\n",
       "      <th>4</th>\n",
       "      <td>False</td>\n",
       "      <td>False</td>\n",
       "    </tr>\n",
       "    <tr>\n",
       "      <th>5</th>\n",
       "      <td>False</td>\n",
       "      <td>False</td>\n",
       "    </tr>\n",
       "    <tr>\n",
       "      <th>6</th>\n",
       "      <td>False</td>\n",
       "      <td>False</td>\n",
       "    </tr>\n",
       "    <tr>\n",
       "      <th>7</th>\n",
       "      <td>False</td>\n",
       "      <td>False</td>\n",
       "    </tr>\n",
       "  </tbody>\n",
       "</table>\n",
       "</div>"
      ],
      "text/plain": [
       "    kmkr  address\n",
       "0   True    False\n",
       "1  False    False\n",
       "2  False    False\n",
       "3  False    False\n",
       "4  False    False\n",
       "5  False    False\n",
       "6  False    False\n",
       "7  False    False"
      ]
     },
     "execution_count": 1,
     "metadata": {},
     "output_type": "execute_result"
    }
   ],
   "source": [
    "validate_ee_kmkr(df)"
   ]
  },
  {
   "cell_type": "code",
   "execution_count": null,
   "id": "diagnostic-pleasure",
   "metadata": {},
   "outputs": [],
   "source": []
  }
 ],
 "metadata": {
  "kernelspec": {
   "display_name": "Python 3",
   "language": "python",
   "name": "python3"
  },
  "language_info": {
   "codemirror_mode": {
    "name": "ipython",
    "version": 3
   },
   "file_extension": ".py",
   "mimetype": "text/x-python",
   "name": "python",
   "nbconvert_exporter": "python",
   "pygments_lexer": "ipython3",
   "version": "3.8.10"
  }
 },
 "nbformat": 4,
 "nbformat_minor": 5
}
