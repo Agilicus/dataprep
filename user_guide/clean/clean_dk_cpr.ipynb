{
 "cells": [
  {
   "cell_type": "raw",
   "id": "chief-positive",
   "metadata": {},
   "source": [
    ".. _cpr_userguide:\n",
    "\n",
    "CPR Strings\n",
    "============"
   ]
  },
  {
   "cell_type": "raw",
   "id": "significant-fight",
   "metadata": {},
   "source": [
    "Introduction\n",
    "------------\n",
    "\n",
    "The function :func:`clean_dk_cpr() <dataprep.clean.clean_dk_cpr.clean_dk_cpr>` cleans a column containing Danish citizen number (CPR) strings, and standardizes them in a given format. The function :func:`validate_dk_cpr() <dataprep.clean.clean_dk_cpr.validate_dk_cpr>` validates either a single CPR strings, a column of CPR strings or a DataFrame of CPR strings, returning `True` if the value is valid, and `False` otherwise."
   ]
  },
  {
   "cell_type": "markdown",
   "id": "helpful-campbell",
   "metadata": {},
   "source": [
    "CPR strings can be converted to the following formats via the `output_format` parameter:\n",
    "\n",
    "* `compact`: only number strings without any seperators or whitespace, like \"211062-5629\"\n",
    "* `standard`: CPR strings with proper whitespace in the proper places, like \"2110625629\"\n",
    "* `birthdate`: split the number and return the birth date, like \"1862-10-21\".\n",
    "\n",
    "Invalid parsing is handled with the `errors` parameter:\n",
    "\n",
    "* `coerce` (default): invalid parsing will be set to NaN\n",
    "* `ignore`: invalid parsing will return the input\n",
    "* `raise`: invalid parsing will raise an exception\n",
    "\n",
    "The following sections demonstrate the functionality of `clean_dk_cpr()` and `validate_dk_cpr()`. "
   ]
  },
  {
   "cell_type": "markdown",
   "id": "certified-clock",
   "metadata": {},
   "source": [
    "### An example dataset containing CPR strings"
   ]
  },
  {
   "cell_type": "code",
   "execution_count": 1,
   "id": "viral-application",
   "metadata": {
    "execution": {
     "iopub.execute_input": "2021-10-26T22:59:25.023817Z",
     "iopub.status.busy": "2021-10-26T22:59:25.023354Z",
     "iopub.status.idle": "2021-10-26T22:59:25.240706Z",
     "shell.execute_reply": "2021-10-26T22:59:25.240222Z"
    }
   },
   "outputs": [
    {
     "data": {
      "text/html": [
       "<div>\n",
       "<style scoped>\n",
       "    .dataframe tbody tr th:only-of-type {\n",
       "        vertical-align: middle;\n",
       "    }\n",
       "\n",
       "    .dataframe tbody tr th {\n",
       "        vertical-align: top;\n",
       "    }\n",
       "\n",
       "    .dataframe thead th {\n",
       "        text-align: right;\n",
       "    }\n",
       "</style>\n",
       "<table border=\"1\" class=\"dataframe\">\n",
       "  <thead>\n",
       "    <tr style=\"text-align: right;\">\n",
       "      <th></th>\n",
       "      <th>cpr</th>\n",
       "      <th>address</th>\n",
       "    </tr>\n",
       "  </thead>\n",
       "  <tbody>\n",
       "    <tr>\n",
       "      <th>0</th>\n",
       "      <td>2110625629</td>\n",
       "      <td>123 Pine Ave.</td>\n",
       "    </tr>\n",
       "    <tr>\n",
       "      <th>1</th>\n",
       "      <td>511062-5629</td>\n",
       "      <td>main st</td>\n",
       "    </tr>\n",
       "    <tr>\n",
       "      <th>2</th>\n",
       "      <td>999 999 999</td>\n",
       "      <td>1234 west main heights 57033</td>\n",
       "    </tr>\n",
       "    <tr>\n",
       "      <th>3</th>\n",
       "      <td>004085616</td>\n",
       "      <td>apt 1 789 s maple rd manhattan</td>\n",
       "    </tr>\n",
       "    <tr>\n",
       "      <th>4</th>\n",
       "      <td>002 724 334</td>\n",
       "      <td>robie house, 789 north main street</td>\n",
       "    </tr>\n",
       "    <tr>\n",
       "      <th>5</th>\n",
       "      <td>hello</td>\n",
       "      <td>1111 S Figueroa St, Los Angeles, CA 90015</td>\n",
       "    </tr>\n",
       "    <tr>\n",
       "      <th>6</th>\n",
       "      <td>NaN</td>\n",
       "      <td>(staples center) 1111 S Figueroa St, Los Angeles</td>\n",
       "    </tr>\n",
       "    <tr>\n",
       "      <th>7</th>\n",
       "      <td>NULL</td>\n",
       "      <td>hello</td>\n",
       "    </tr>\n",
       "  </tbody>\n",
       "</table>\n",
       "</div>"
      ],
      "text/plain": [
       "           cpr                                           address\n",
       "0   2110625629                                     123 Pine Ave.\n",
       "1  511062-5629                                           main st\n",
       "2  999 999 999                      1234 west main heights 57033\n",
       "3    004085616                    apt 1 789 s maple rd manhattan\n",
       "4  002 724 334                robie house, 789 north main street\n",
       "5        hello         1111 S Figueroa St, Los Angeles, CA 90015\n",
       "6          NaN  (staples center) 1111 S Figueroa St, Los Angeles\n",
       "7         NULL                                             hello"
      ]
     },
     "execution_count": 1,
     "metadata": {},
     "output_type": "execute_result"
    }
   ],
   "source": [
    "import pandas as pd\n",
    "import numpy as np\n",
    "df = pd.DataFrame(\n",
    "    {\n",
    "        \"cpr\": [\n",
    "            \"2110625629\",\n",
    "            \"511062-5629\",\n",
    "            \"999 999 999\",\n",
    "            \"004085616\",\n",
    "            \"002 724 334\",\n",
    "            \"hello\",\n",
    "            np.nan,\n",
    "            \"NULL\",\n",
    "        ], \n",
    "        \"address\": [\n",
    "            \"123 Pine Ave.\",\n",
    "            \"main st\",\n",
    "            \"1234 west main heights 57033\",\n",
    "            \"apt 1 789 s maple rd manhattan\",\n",
    "            \"robie house, 789 north main street\",\n",
    "            \"1111 S Figueroa St, Los Angeles, CA 90015\",\n",
    "            \"(staples center) 1111 S Figueroa St, Los Angeles\",\n",
    "            \"hello\",\n",
    "        ]\n",
    "    }\n",
    ")\n",
    "df"
   ]
  },
  {
   "cell_type": "markdown",
   "id": "integral-belgium",
   "metadata": {},
   "source": [
    "## 1. Default `clean_dk_cpr`\n",
    "\n",
    "By default, `clean_dk_cpr` will clean cpr strings and output them in the standard format with proper separators."
   ]
  },
  {
   "cell_type": "code",
   "execution_count": 2,
   "id": "casual-population",
   "metadata": {
    "execution": {
     "iopub.execute_input": "2021-10-26T22:59:25.244012Z",
     "iopub.status.busy": "2021-10-26T22:59:25.243567Z",
     "iopub.status.idle": "2021-10-26T22:59:25.774817Z",
     "shell.execute_reply": "2021-10-26T22:59:25.774420Z"
    }
   },
   "outputs": [
    {
     "data": {
      "text/html": [
       "<div>\n",
       "<style scoped>\n",
       "    .dataframe tbody tr th:only-of-type {\n",
       "        vertical-align: middle;\n",
       "    }\n",
       "\n",
       "    .dataframe tbody tr th {\n",
       "        vertical-align: top;\n",
       "    }\n",
       "\n",
       "    .dataframe thead th {\n",
       "        text-align: right;\n",
       "    }\n",
       "</style>\n",
       "<table border=\"1\" class=\"dataframe\">\n",
       "  <thead>\n",
       "    <tr style=\"text-align: right;\">\n",
       "      <th></th>\n",
       "      <th>cpr</th>\n",
       "      <th>address</th>\n",
       "      <th>cpr_clean</th>\n",
       "    </tr>\n",
       "  </thead>\n",
       "  <tbody>\n",
       "    <tr>\n",
       "      <th>0</th>\n",
       "      <td>2110625629</td>\n",
       "      <td>123 Pine Ave.</td>\n",
       "      <td>211062-5629</td>\n",
       "    </tr>\n",
       "    <tr>\n",
       "      <th>1</th>\n",
       "      <td>511062-5629</td>\n",
       "      <td>main st</td>\n",
       "      <td>NaN</td>\n",
       "    </tr>\n",
       "    <tr>\n",
       "      <th>2</th>\n",
       "      <td>999 999 999</td>\n",
       "      <td>1234 west main heights 57033</td>\n",
       "      <td>NaN</td>\n",
       "    </tr>\n",
       "    <tr>\n",
       "      <th>3</th>\n",
       "      <td>004085616</td>\n",
       "      <td>apt 1 789 s maple rd manhattan</td>\n",
       "      <td>NaN</td>\n",
       "    </tr>\n",
       "    <tr>\n",
       "      <th>4</th>\n",
       "      <td>002 724 334</td>\n",
       "      <td>robie house, 789 north main street</td>\n",
       "      <td>NaN</td>\n",
       "    </tr>\n",
       "    <tr>\n",
       "      <th>5</th>\n",
       "      <td>hello</td>\n",
       "      <td>1111 S Figueroa St, Los Angeles, CA 90015</td>\n",
       "      <td>NaN</td>\n",
       "    </tr>\n",
       "    <tr>\n",
       "      <th>6</th>\n",
       "      <td>NaN</td>\n",
       "      <td>(staples center) 1111 S Figueroa St, Los Angeles</td>\n",
       "      <td>NaN</td>\n",
       "    </tr>\n",
       "    <tr>\n",
       "      <th>7</th>\n",
       "      <td>NULL</td>\n",
       "      <td>hello</td>\n",
       "      <td>NaN</td>\n",
       "    </tr>\n",
       "  </tbody>\n",
       "</table>\n",
       "</div>"
      ],
      "text/plain": [
       "           cpr                                           address    cpr_clean\n",
       "0   2110625629                                     123 Pine Ave.  211062-5629\n",
       "1  511062-5629                                           main st          NaN\n",
       "2  999 999 999                      1234 west main heights 57033          NaN\n",
       "3    004085616                    apt 1 789 s maple rd manhattan          NaN\n",
       "4  002 724 334                robie house, 789 north main street          NaN\n",
       "5        hello         1111 S Figueroa St, Los Angeles, CA 90015          NaN\n",
       "6          NaN  (staples center) 1111 S Figueroa St, Los Angeles          NaN\n",
       "7         NULL                                             hello          NaN"
      ]
     },
     "execution_count": 1,
     "metadata": {},
     "output_type": "execute_result"
    }
   ],
   "source": [
    "from dataprep.clean import clean_dk_cpr\n",
    "clean_dk_cpr(df, column = \"cpr\")"
   ]
  },
  {
   "cell_type": "markdown",
   "id": "combined-appliance",
   "metadata": {},
   "source": [
    "## 2. Output formats"
   ]
  },
  {
   "cell_type": "markdown",
   "id": "nuclear-father",
   "metadata": {},
   "source": [
    "This section demonstrates the output parameter."
   ]
  },
  {
   "cell_type": "markdown",
   "id": "imported-error",
   "metadata": {},
   "source": [
    "### `standard` (default)"
   ]
  },
  {
   "cell_type": "code",
   "execution_count": 3,
   "id": "worth-round",
   "metadata": {
    "execution": {
     "iopub.execute_input": "2021-10-26T22:59:25.792725Z",
     "iopub.status.busy": "2021-10-26T22:59:25.792279Z",
     "iopub.status.idle": "2021-10-26T22:59:25.801864Z",
     "shell.execute_reply": "2021-10-26T22:59:25.802205Z"
    }
   },
   "outputs": [
    {
     "data": {
      "text/html": [
       "<div>\n",
       "<style scoped>\n",
       "    .dataframe tbody tr th:only-of-type {\n",
       "        vertical-align: middle;\n",
       "    }\n",
       "\n",
       "    .dataframe tbody tr th {\n",
       "        vertical-align: top;\n",
       "    }\n",
       "\n",
       "    .dataframe thead th {\n",
       "        text-align: right;\n",
       "    }\n",
       "</style>\n",
       "<table border=\"1\" class=\"dataframe\">\n",
       "  <thead>\n",
       "    <tr style=\"text-align: right;\">\n",
       "      <th></th>\n",
       "      <th>cpr</th>\n",
       "      <th>address</th>\n",
       "      <th>cpr_clean</th>\n",
       "    </tr>\n",
       "  </thead>\n",
       "  <tbody>\n",
       "    <tr>\n",
       "      <th>0</th>\n",
       "      <td>2110625629</td>\n",
       "      <td>123 Pine Ave.</td>\n",
       "      <td>211062-5629</td>\n",
       "    </tr>\n",
       "    <tr>\n",
       "      <th>1</th>\n",
       "      <td>511062-5629</td>\n",
       "      <td>main st</td>\n",
       "      <td>NaN</td>\n",
       "    </tr>\n",
       "    <tr>\n",
       "      <th>2</th>\n",
       "      <td>999 999 999</td>\n",
       "      <td>1234 west main heights 57033</td>\n",
       "      <td>NaN</td>\n",
       "    </tr>\n",
       "    <tr>\n",
       "      <th>3</th>\n",
       "      <td>004085616</td>\n",
       "      <td>apt 1 789 s maple rd manhattan</td>\n",
       "      <td>NaN</td>\n",
       "    </tr>\n",
       "    <tr>\n",
       "      <th>4</th>\n",
       "      <td>002 724 334</td>\n",
       "      <td>robie house, 789 north main street</td>\n",
       "      <td>NaN</td>\n",
       "    </tr>\n",
       "    <tr>\n",
       "      <th>5</th>\n",
       "      <td>hello</td>\n",
       "      <td>1111 S Figueroa St, Los Angeles, CA 90015</td>\n",
       "      <td>NaN</td>\n",
       "    </tr>\n",
       "    <tr>\n",
       "      <th>6</th>\n",
       "      <td>NaN</td>\n",
       "      <td>(staples center) 1111 S Figueroa St, Los Angeles</td>\n",
       "      <td>NaN</td>\n",
       "    </tr>\n",
       "    <tr>\n",
       "      <th>7</th>\n",
       "      <td>NULL</td>\n",
       "      <td>hello</td>\n",
       "      <td>NaN</td>\n",
       "    </tr>\n",
       "  </tbody>\n",
       "</table>\n",
       "</div>"
      ],
      "text/plain": [
       "           cpr                                           address    cpr_clean\n",
       "0   2110625629                                     123 Pine Ave.  211062-5629\n",
       "1  511062-5629                                           main st          NaN\n",
       "2  999 999 999                      1234 west main heights 57033          NaN\n",
       "3    004085616                    apt 1 789 s maple rd manhattan          NaN\n",
       "4  002 724 334                robie house, 789 north main street          NaN\n",
       "5        hello         1111 S Figueroa St, Los Angeles, CA 90015          NaN\n",
       "6          NaN  (staples center) 1111 S Figueroa St, Los Angeles          NaN\n",
       "7         NULL                                             hello          NaN"
      ]
     },
     "execution_count": 1,
     "metadata": {},
     "output_type": "execute_result"
    }
   ],
   "source": [
    "clean_dk_cpr(df, column = \"cpr\", output_format=\"standard\")"
   ]
  },
  {
   "cell_type": "markdown",
   "id": "fantastic-share",
   "metadata": {},
   "source": [
    "### `compact`"
   ]
  },
  {
   "cell_type": "code",
   "execution_count": 4,
   "id": "eight-racing",
   "metadata": {
    "execution": {
     "iopub.execute_input": "2021-10-26T22:59:25.827221Z",
     "iopub.status.busy": "2021-10-26T22:59:25.822247Z",
     "iopub.status.idle": "2021-10-26T22:59:25.831351Z",
     "shell.execute_reply": "2021-10-26T22:59:25.830936Z"
    }
   },
   "outputs": [
    {
     "data": {
      "text/html": [
       "<div>\n",
       "<style scoped>\n",
       "    .dataframe tbody tr th:only-of-type {\n",
       "        vertical-align: middle;\n",
       "    }\n",
       "\n",
       "    .dataframe tbody tr th {\n",
       "        vertical-align: top;\n",
       "    }\n",
       "\n",
       "    .dataframe thead th {\n",
       "        text-align: right;\n",
       "    }\n",
       "</style>\n",
       "<table border=\"1\" class=\"dataframe\">\n",
       "  <thead>\n",
       "    <tr style=\"text-align: right;\">\n",
       "      <th></th>\n",
       "      <th>cpr</th>\n",
       "      <th>address</th>\n",
       "      <th>cpr_clean</th>\n",
       "    </tr>\n",
       "  </thead>\n",
       "  <tbody>\n",
       "    <tr>\n",
       "      <th>0</th>\n",
       "      <td>2110625629</td>\n",
       "      <td>123 Pine Ave.</td>\n",
       "      <td>2110625629</td>\n",
       "    </tr>\n",
       "    <tr>\n",
       "      <th>1</th>\n",
       "      <td>511062-5629</td>\n",
       "      <td>main st</td>\n",
       "      <td>NaN</td>\n",
       "    </tr>\n",
       "    <tr>\n",
       "      <th>2</th>\n",
       "      <td>999 999 999</td>\n",
       "      <td>1234 west main heights 57033</td>\n",
       "      <td>NaN</td>\n",
       "    </tr>\n",
       "    <tr>\n",
       "      <th>3</th>\n",
       "      <td>004085616</td>\n",
       "      <td>apt 1 789 s maple rd manhattan</td>\n",
       "      <td>NaN</td>\n",
       "    </tr>\n",
       "    <tr>\n",
       "      <th>4</th>\n",
       "      <td>002 724 334</td>\n",
       "      <td>robie house, 789 north main street</td>\n",
       "      <td>NaN</td>\n",
       "    </tr>\n",
       "    <tr>\n",
       "      <th>5</th>\n",
       "      <td>hello</td>\n",
       "      <td>1111 S Figueroa St, Los Angeles, CA 90015</td>\n",
       "      <td>NaN</td>\n",
       "    </tr>\n",
       "    <tr>\n",
       "      <th>6</th>\n",
       "      <td>NaN</td>\n",
       "      <td>(staples center) 1111 S Figueroa St, Los Angeles</td>\n",
       "      <td>NaN</td>\n",
       "    </tr>\n",
       "    <tr>\n",
       "      <th>7</th>\n",
       "      <td>NULL</td>\n",
       "      <td>hello</td>\n",
       "      <td>NaN</td>\n",
       "    </tr>\n",
       "  </tbody>\n",
       "</table>\n",
       "</div>"
      ],
      "text/plain": [
       "           cpr                                           address   cpr_clean\n",
       "0   2110625629                                     123 Pine Ave.  2110625629\n",
       "1  511062-5629                                           main st         NaN\n",
       "2  999 999 999                      1234 west main heights 57033         NaN\n",
       "3    004085616                    apt 1 789 s maple rd manhattan         NaN\n",
       "4  002 724 334                robie house, 789 north main street         NaN\n",
       "5        hello         1111 S Figueroa St, Los Angeles, CA 90015         NaN\n",
       "6          NaN  (staples center) 1111 S Figueroa St, Los Angeles         NaN\n",
       "7         NULL                                             hello         NaN"
      ]
     },
     "execution_count": 1,
     "metadata": {},
     "output_type": "execute_result"
    }
   ],
   "source": [
    "clean_dk_cpr(df, column = \"cpr\", output_format=\"compact\")"
   ]
  },
  {
   "cell_type": "markdown",
   "id": "duplicate-taste",
   "metadata": {},
   "source": [
    "### `birthdate`"
   ]
  },
  {
   "cell_type": "code",
   "execution_count": 5,
   "id": "aware-replacement",
   "metadata": {
    "execution": {
     "iopub.execute_input": "2021-10-26T22:59:25.850330Z",
     "iopub.status.busy": "2021-10-26T22:59:25.848837Z",
     "iopub.status.idle": "2021-10-26T22:59:25.858328Z",
     "shell.execute_reply": "2021-10-26T22:59:25.858669Z"
    }
   },
   "outputs": [
    {
     "data": {
      "text/html": [
       "<div>\n",
       "<style scoped>\n",
       "    .dataframe tbody tr th:only-of-type {\n",
       "        vertical-align: middle;\n",
       "    }\n",
       "\n",
       "    .dataframe tbody tr th {\n",
       "        vertical-align: top;\n",
       "    }\n",
       "\n",
       "    .dataframe thead th {\n",
       "        text-align: right;\n",
       "    }\n",
       "</style>\n",
       "<table border=\"1\" class=\"dataframe\">\n",
       "  <thead>\n",
       "    <tr style=\"text-align: right;\">\n",
       "      <th></th>\n",
       "      <th>cpr</th>\n",
       "      <th>address</th>\n",
       "      <th>cpr_clean</th>\n",
       "    </tr>\n",
       "  </thead>\n",
       "  <tbody>\n",
       "    <tr>\n",
       "      <th>0</th>\n",
       "      <td>2110625629</td>\n",
       "      <td>123 Pine Ave.</td>\n",
       "      <td>1862-10-21</td>\n",
       "    </tr>\n",
       "    <tr>\n",
       "      <th>1</th>\n",
       "      <td>511062-5629</td>\n",
       "      <td>main st</td>\n",
       "      <td>NaN</td>\n",
       "    </tr>\n",
       "    <tr>\n",
       "      <th>2</th>\n",
       "      <td>999 999 999</td>\n",
       "      <td>1234 west main heights 57033</td>\n",
       "      <td>NaN</td>\n",
       "    </tr>\n",
       "    <tr>\n",
       "      <th>3</th>\n",
       "      <td>004085616</td>\n",
       "      <td>apt 1 789 s maple rd manhattan</td>\n",
       "      <td>NaN</td>\n",
       "    </tr>\n",
       "    <tr>\n",
       "      <th>4</th>\n",
       "      <td>002 724 334</td>\n",
       "      <td>robie house, 789 north main street</td>\n",
       "      <td>NaN</td>\n",
       "    </tr>\n",
       "    <tr>\n",
       "      <th>5</th>\n",
       "      <td>hello</td>\n",
       "      <td>1111 S Figueroa St, Los Angeles, CA 90015</td>\n",
       "      <td>NaN</td>\n",
       "    </tr>\n",
       "    <tr>\n",
       "      <th>6</th>\n",
       "      <td>NaN</td>\n",
       "      <td>(staples center) 1111 S Figueroa St, Los Angeles</td>\n",
       "      <td>NaN</td>\n",
       "    </tr>\n",
       "    <tr>\n",
       "      <th>7</th>\n",
       "      <td>NULL</td>\n",
       "      <td>hello</td>\n",
       "      <td>NaN</td>\n",
       "    </tr>\n",
       "  </tbody>\n",
       "</table>\n",
       "</div>"
      ],
      "text/plain": [
       "           cpr                                           address   cpr_clean\n",
       "0   2110625629                                     123 Pine Ave.  1862-10-21\n",
       "1  511062-5629                                           main st         NaN\n",
       "2  999 999 999                      1234 west main heights 57033         NaN\n",
       "3    004085616                    apt 1 789 s maple rd manhattan         NaN\n",
       "4  002 724 334                robie house, 789 north main street         NaN\n",
       "5        hello         1111 S Figueroa St, Los Angeles, CA 90015         NaN\n",
       "6          NaN  (staples center) 1111 S Figueroa St, Los Angeles         NaN\n",
       "7         NULL                                             hello         NaN"
      ]
     },
     "execution_count": 1,
     "metadata": {},
     "output_type": "execute_result"
    }
   ],
   "source": [
    "clean_dk_cpr(df, column = \"cpr\", output_format=\"birthdate\")"
   ]
  },
  {
   "cell_type": "markdown",
   "id": "academic-shower",
   "metadata": {},
   "source": [
    "## 3. `inplace` parameter\n",
    "\n",
    "This deletes the given column from the returned DataFrame. \n",
    "A new column containing cleaned CPR strings is added with a title in the format `\"{original title}_clean\"`."
   ]
  },
  {
   "cell_type": "code",
   "execution_count": 6,
   "id": "intense-plumbing",
   "metadata": {
    "execution": {
     "iopub.execute_input": "2021-10-26T22:59:25.887067Z",
     "iopub.status.busy": "2021-10-26T22:59:25.886596Z",
     "iopub.status.idle": "2021-10-26T22:59:25.894397Z",
     "shell.execute_reply": "2021-10-26T22:59:25.894762Z"
    }
   },
   "outputs": [
    {
     "data": {
      "text/html": [
       "<div>\n",
       "<style scoped>\n",
       "    .dataframe tbody tr th:only-of-type {\n",
       "        vertical-align: middle;\n",
       "    }\n",
       "\n",
       "    .dataframe tbody tr th {\n",
       "        vertical-align: top;\n",
       "    }\n",
       "\n",
       "    .dataframe thead th {\n",
       "        text-align: right;\n",
       "    }\n",
       "</style>\n",
       "<table border=\"1\" class=\"dataframe\">\n",
       "  <thead>\n",
       "    <tr style=\"text-align: right;\">\n",
       "      <th></th>\n",
       "      <th>cpr_clean</th>\n",
       "      <th>address</th>\n",
       "    </tr>\n",
       "  </thead>\n",
       "  <tbody>\n",
       "    <tr>\n",
       "      <th>0</th>\n",
       "      <td>211062-5629</td>\n",
       "      <td>123 Pine Ave.</td>\n",
       "    </tr>\n",
       "    <tr>\n",
       "      <th>1</th>\n",
       "      <td>NaN</td>\n",
       "      <td>main st</td>\n",
       "    </tr>\n",
       "    <tr>\n",
       "      <th>2</th>\n",
       "      <td>NaN</td>\n",
       "      <td>1234 west main heights 57033</td>\n",
       "    </tr>\n",
       "    <tr>\n",
       "      <th>3</th>\n",
       "      <td>NaN</td>\n",
       "      <td>apt 1 789 s maple rd manhattan</td>\n",
       "    </tr>\n",
       "    <tr>\n",
       "      <th>4</th>\n",
       "      <td>NaN</td>\n",
       "      <td>robie house, 789 north main street</td>\n",
       "    </tr>\n",
       "    <tr>\n",
       "      <th>5</th>\n",
       "      <td>NaN</td>\n",
       "      <td>1111 S Figueroa St, Los Angeles, CA 90015</td>\n",
       "    </tr>\n",
       "    <tr>\n",
       "      <th>6</th>\n",
       "      <td>NaN</td>\n",
       "      <td>(staples center) 1111 S Figueroa St, Los Angeles</td>\n",
       "    </tr>\n",
       "    <tr>\n",
       "      <th>7</th>\n",
       "      <td>NaN</td>\n",
       "      <td>hello</td>\n",
       "    </tr>\n",
       "  </tbody>\n",
       "</table>\n",
       "</div>"
      ],
      "text/plain": [
       "     cpr_clean                                           address\n",
       "0  211062-5629                                     123 Pine Ave.\n",
       "1          NaN                                           main st\n",
       "2          NaN                      1234 west main heights 57033\n",
       "3          NaN                    apt 1 789 s maple rd manhattan\n",
       "4          NaN                robie house, 789 north main street\n",
       "5          NaN         1111 S Figueroa St, Los Angeles, CA 90015\n",
       "6          NaN  (staples center) 1111 S Figueroa St, Los Angeles\n",
       "7          NaN                                             hello"
      ]
     },
     "execution_count": 1,
     "metadata": {},
     "output_type": "execute_result"
    }
   ],
   "source": [
    "clean_dk_cpr(df, column=\"cpr\", inplace=True)"
   ]
  },
  {
   "cell_type": "markdown",
   "id": "interior-minister",
   "metadata": {},
   "source": [
    "## 4. `errors` parameter"
   ]
  },
  {
   "cell_type": "markdown",
   "id": "complete-hundred",
   "metadata": {},
   "source": [
    "### `coerce` (default)"
   ]
  },
  {
   "cell_type": "code",
   "execution_count": 7,
   "id": "mediterranean-squad",
   "metadata": {
    "execution": {
     "iopub.execute_input": "2021-10-26T22:59:25.912265Z",
     "iopub.status.busy": "2021-10-26T22:59:25.911834Z",
     "iopub.status.idle": "2021-10-26T22:59:25.921583Z",
     "shell.execute_reply": "2021-10-26T22:59:25.920745Z"
    }
   },
   "outputs": [
    {
     "data": {
      "text/html": [
       "<div>\n",
       "<style scoped>\n",
       "    .dataframe tbody tr th:only-of-type {\n",
       "        vertical-align: middle;\n",
       "    }\n",
       "\n",
       "    .dataframe tbody tr th {\n",
       "        vertical-align: top;\n",
       "    }\n",
       "\n",
       "    .dataframe thead th {\n",
       "        text-align: right;\n",
       "    }\n",
       "</style>\n",
       "<table border=\"1\" class=\"dataframe\">\n",
       "  <thead>\n",
       "    <tr style=\"text-align: right;\">\n",
       "      <th></th>\n",
       "      <th>cpr</th>\n",
       "      <th>address</th>\n",
       "      <th>cpr_clean</th>\n",
       "    </tr>\n",
       "  </thead>\n",
       "  <tbody>\n",
       "    <tr>\n",
       "      <th>0</th>\n",
       "      <td>2110625629</td>\n",
       "      <td>123 Pine Ave.</td>\n",
       "      <td>211062-5629</td>\n",
       "    </tr>\n",
       "    <tr>\n",
       "      <th>1</th>\n",
       "      <td>511062-5629</td>\n",
       "      <td>main st</td>\n",
       "      <td>NaN</td>\n",
       "    </tr>\n",
       "    <tr>\n",
       "      <th>2</th>\n",
       "      <td>999 999 999</td>\n",
       "      <td>1234 west main heights 57033</td>\n",
       "      <td>NaN</td>\n",
       "    </tr>\n",
       "    <tr>\n",
       "      <th>3</th>\n",
       "      <td>004085616</td>\n",
       "      <td>apt 1 789 s maple rd manhattan</td>\n",
       "      <td>NaN</td>\n",
       "    </tr>\n",
       "    <tr>\n",
       "      <th>4</th>\n",
       "      <td>002 724 334</td>\n",
       "      <td>robie house, 789 north main street</td>\n",
       "      <td>NaN</td>\n",
       "    </tr>\n",
       "    <tr>\n",
       "      <th>5</th>\n",
       "      <td>hello</td>\n",
       "      <td>1111 S Figueroa St, Los Angeles, CA 90015</td>\n",
       "      <td>NaN</td>\n",
       "    </tr>\n",
       "    <tr>\n",
       "      <th>6</th>\n",
       "      <td>NaN</td>\n",
       "      <td>(staples center) 1111 S Figueroa St, Los Angeles</td>\n",
       "      <td>NaN</td>\n",
       "    </tr>\n",
       "    <tr>\n",
       "      <th>7</th>\n",
       "      <td>NULL</td>\n",
       "      <td>hello</td>\n",
       "      <td>NaN</td>\n",
       "    </tr>\n",
       "  </tbody>\n",
       "</table>\n",
       "</div>"
      ],
      "text/plain": [
       "           cpr                                           address    cpr_clean\n",
       "0   2110625629                                     123 Pine Ave.  211062-5629\n",
       "1  511062-5629                                           main st          NaN\n",
       "2  999 999 999                      1234 west main heights 57033          NaN\n",
       "3    004085616                    apt 1 789 s maple rd manhattan          NaN\n",
       "4  002 724 334                robie house, 789 north main street          NaN\n",
       "5        hello         1111 S Figueroa St, Los Angeles, CA 90015          NaN\n",
       "6          NaN  (staples center) 1111 S Figueroa St, Los Angeles          NaN\n",
       "7         NULL                                             hello          NaN"
      ]
     },
     "execution_count": 1,
     "metadata": {},
     "output_type": "execute_result"
    }
   ],
   "source": [
    "clean_dk_cpr(df, \"cpr\", errors=\"coerce\")"
   ]
  },
  {
   "cell_type": "markdown",
   "id": "confirmed-while",
   "metadata": {},
   "source": [
    "### `ignore`"
   ]
  },
  {
   "cell_type": "code",
   "execution_count": 8,
   "id": "iraqi-stranger",
   "metadata": {
    "execution": {
     "iopub.execute_input": "2021-10-26T22:59:25.941140Z",
     "iopub.status.busy": "2021-10-26T22:59:25.938670Z",
     "iopub.status.idle": "2021-10-26T22:59:25.949705Z",
     "shell.execute_reply": "2021-10-26T22:59:25.948887Z"
    }
   },
   "outputs": [
    {
     "data": {
      "text/html": [
       "<div>\n",
       "<style scoped>\n",
       "    .dataframe tbody tr th:only-of-type {\n",
       "        vertical-align: middle;\n",
       "    }\n",
       "\n",
       "    .dataframe tbody tr th {\n",
       "        vertical-align: top;\n",
       "    }\n",
       "\n",
       "    .dataframe thead th {\n",
       "        text-align: right;\n",
       "    }\n",
       "</style>\n",
       "<table border=\"1\" class=\"dataframe\">\n",
       "  <thead>\n",
       "    <tr style=\"text-align: right;\">\n",
       "      <th></th>\n",
       "      <th>cpr</th>\n",
       "      <th>address</th>\n",
       "      <th>cpr_clean</th>\n",
       "    </tr>\n",
       "  </thead>\n",
       "  <tbody>\n",
       "    <tr>\n",
       "      <th>0</th>\n",
       "      <td>2110625629</td>\n",
       "      <td>123 Pine Ave.</td>\n",
       "      <td>211062-5629</td>\n",
       "    </tr>\n",
       "    <tr>\n",
       "      <th>1</th>\n",
       "      <td>511062-5629</td>\n",
       "      <td>main st</td>\n",
       "      <td>511062-5629</td>\n",
       "    </tr>\n",
       "    <tr>\n",
       "      <th>2</th>\n",
       "      <td>999 999 999</td>\n",
       "      <td>1234 west main heights 57033</td>\n",
       "      <td>999 999 999</td>\n",
       "    </tr>\n",
       "    <tr>\n",
       "      <th>3</th>\n",
       "      <td>004085616</td>\n",
       "      <td>apt 1 789 s maple rd manhattan</td>\n",
       "      <td>004085616</td>\n",
       "    </tr>\n",
       "    <tr>\n",
       "      <th>4</th>\n",
       "      <td>002 724 334</td>\n",
       "      <td>robie house, 789 north main street</td>\n",
       "      <td>002 724 334</td>\n",
       "    </tr>\n",
       "    <tr>\n",
       "      <th>5</th>\n",
       "      <td>hello</td>\n",
       "      <td>1111 S Figueroa St, Los Angeles, CA 90015</td>\n",
       "      <td>hello</td>\n",
       "    </tr>\n",
       "    <tr>\n",
       "      <th>6</th>\n",
       "      <td>NaN</td>\n",
       "      <td>(staples center) 1111 S Figueroa St, Los Angeles</td>\n",
       "      <td>NaN</td>\n",
       "    </tr>\n",
       "    <tr>\n",
       "      <th>7</th>\n",
       "      <td>NULL</td>\n",
       "      <td>hello</td>\n",
       "      <td>NaN</td>\n",
       "    </tr>\n",
       "  </tbody>\n",
       "</table>\n",
       "</div>"
      ],
      "text/plain": [
       "           cpr                                           address    cpr_clean\n",
       "0   2110625629                                     123 Pine Ave.  211062-5629\n",
       "1  511062-5629                                           main st  511062-5629\n",
       "2  999 999 999                      1234 west main heights 57033  999 999 999\n",
       "3    004085616                    apt 1 789 s maple rd manhattan    004085616\n",
       "4  002 724 334                robie house, 789 north main street  002 724 334\n",
       "5        hello         1111 S Figueroa St, Los Angeles, CA 90015        hello\n",
       "6          NaN  (staples center) 1111 S Figueroa St, Los Angeles          NaN\n",
       "7         NULL                                             hello          NaN"
      ]
     },
     "execution_count": 1,
     "metadata": {},
     "output_type": "execute_result"
    }
   ],
   "source": [
    "clean_dk_cpr(df, \"cpr\", errors=\"ignore\")"
   ]
  },
  {
   "cell_type": "markdown",
   "id": "educational-lobby",
   "metadata": {},
   "source": [
    "## 4. `validate_dk_cpr()`"
   ]
  },
  {
   "cell_type": "markdown",
   "id": "printable-appreciation",
   "metadata": {},
   "source": [
    "`validate_dk_cpr()` returns `True` when the input is a valid CPR. Otherwise it returns `False`.\n",
    "\n",
    "The input of `validate_dk_cpr()` can be a string, a Pandas DataSeries, a Dask DataSeries, a Pandas DataFrame and a dask DataFrame.\n",
    "\n",
    "When the input is a string, a Pandas DataSeries or a Dask DataSeries, user doesn't need to specify a column name to be validated. \n",
    "\n",
    "When the input is a Pandas DataFrame or a dask DataFrame, user can both specify or not specify a column name to be validated. If user specify the column name, `validate_dk_cpr()` only returns the validation result for the specified column. If user doesn't specify the column name, `validate_dk_cpr()` returns the validation result for the whole DataFrame."
   ]
  },
  {
   "cell_type": "code",
   "execution_count": 9,
   "id": "economic-escape",
   "metadata": {
    "execution": {
     "iopub.execute_input": "2021-10-26T22:59:25.954288Z",
     "iopub.status.busy": "2021-10-26T22:59:25.953519Z",
     "iopub.status.idle": "2021-10-26T22:59:25.958889Z",
     "shell.execute_reply": "2021-10-26T22:59:25.958470Z"
    }
   },
   "outputs": [
    {
     "name": "stdout",
     "output_type": "stream",
     "text": [
      "True\n",
      "False\n",
      "False\n",
      "False\n",
      "False\n",
      "False\n",
      "False\n",
      "False\n"
     ]
    }
   ],
   "source": [
    "from dataprep.clean import validate_dk_cpr\n",
    "print(validate_dk_cpr(\"2110625629\"))\n",
    "print(validate_dk_cpr(\"511062-5629\"))\n",
    "print(validate_dk_cpr(\"999 999 999\"))\n",
    "print(validate_dk_cpr(\"51824753556\"))\n",
    "print(validate_dk_cpr(\"004085616\"))\n",
    "print(validate_dk_cpr(\"hello\"))\n",
    "print(validate_dk_cpr(np.nan))\n",
    "print(validate_dk_cpr(\"NULL\"))"
   ]
  },
  {
   "cell_type": "markdown",
   "id": "genuine-gentleman",
   "metadata": {},
   "source": [
    "### Series"
   ]
  },
  {
   "cell_type": "code",
   "execution_count": 10,
   "id": "compatible-martin",
   "metadata": {
    "execution": {
     "iopub.execute_input": "2021-10-26T22:59:25.963137Z",
     "iopub.status.busy": "2021-10-26T22:59:25.962677Z",
     "iopub.status.idle": "2021-10-26T22:59:25.966874Z",
     "shell.execute_reply": "2021-10-26T22:59:25.966487Z"
    }
   },
   "outputs": [
    {
     "data": {
      "text/plain": [
       "0     True\n",
       "1    False\n",
       "2    False\n",
       "3    False\n",
       "4    False\n",
       "5    False\n",
       "6    False\n",
       "7    False\n",
       "Name: cpr, dtype: bool"
      ]
     },
     "execution_count": 1,
     "metadata": {},
     "output_type": "execute_result"
    }
   ],
   "source": [
    "validate_dk_cpr(df[\"cpr\"])"
   ]
  },
  {
   "cell_type": "markdown",
   "id": "oriental-intellectual",
   "metadata": {},
   "source": [
    "### DataFrame + Specify Column"
   ]
  },
  {
   "cell_type": "code",
   "execution_count": 11,
   "id": "certified-toronto",
   "metadata": {
    "execution": {
     "iopub.execute_input": "2021-10-26T22:59:25.971038Z",
     "iopub.status.busy": "2021-10-26T22:59:25.970347Z",
     "iopub.status.idle": "2021-10-26T22:59:25.974728Z",
     "shell.execute_reply": "2021-10-26T22:59:25.974341Z"
    }
   },
   "outputs": [
    {
     "data": {
      "text/plain": [
       "0     True\n",
       "1    False\n",
       "2    False\n",
       "3    False\n",
       "4    False\n",
       "5    False\n",
       "6    False\n",
       "7    False\n",
       "Name: cpr, dtype: bool"
      ]
     },
     "execution_count": 1,
     "metadata": {},
     "output_type": "execute_result"
    }
   ],
   "source": [
    "validate_dk_cpr(df, column=\"cpr\")"
   ]
  },
  {
   "cell_type": "markdown",
   "id": "hairy-truck",
   "metadata": {},
   "source": [
    "### Only DataFrame"
   ]
  },
  {
   "cell_type": "code",
   "execution_count": 12,
   "id": "caring-haiti",
   "metadata": {
    "execution": {
     "iopub.execute_input": "2021-10-26T22:59:25.981800Z",
     "iopub.status.busy": "2021-10-26T22:59:25.977061Z",
     "iopub.status.idle": "2021-10-26T22:59:25.984911Z",
     "shell.execute_reply": "2021-10-26T22:59:25.984551Z"
    }
   },
   "outputs": [
    {
     "data": {
      "text/html": [
       "<div>\n",
       "<style scoped>\n",
       "    .dataframe tbody tr th:only-of-type {\n",
       "        vertical-align: middle;\n",
       "    }\n",
       "\n",
       "    .dataframe tbody tr th {\n",
       "        vertical-align: top;\n",
       "    }\n",
       "\n",
       "    .dataframe thead th {\n",
       "        text-align: right;\n",
       "    }\n",
       "</style>\n",
       "<table border=\"1\" class=\"dataframe\">\n",
       "  <thead>\n",
       "    <tr style=\"text-align: right;\">\n",
       "      <th></th>\n",
       "      <th>cpr</th>\n",
       "      <th>address</th>\n",
       "    </tr>\n",
       "  </thead>\n",
       "  <tbody>\n",
       "    <tr>\n",
       "      <th>0</th>\n",
       "      <td>True</td>\n",
       "      <td>False</td>\n",
       "    </tr>\n",
       "    <tr>\n",
       "      <th>1</th>\n",
       "      <td>False</td>\n",
       "      <td>False</td>\n",
       "    </tr>\n",
       "    <tr>\n",
       "      <th>2</th>\n",
       "      <td>False</td>\n",
       "      <td>False</td>\n",
       "    </tr>\n",
       "    <tr>\n",
       "      <th>3</th>\n",
       "      <td>False</td>\n",
       "      <td>False</td>\n",
       "    </tr>\n",
       "    <tr>\n",
       "      <th>4</th>\n",
       "      <td>False</td>\n",
       "      <td>False</td>\n",
       "    </tr>\n",
       "    <tr>\n",
       "      <th>5</th>\n",
       "      <td>False</td>\n",
       "      <td>False</td>\n",
       "    </tr>\n",
       "    <tr>\n",
       "      <th>6</th>\n",
       "      <td>False</td>\n",
       "      <td>False</td>\n",
       "    </tr>\n",
       "    <tr>\n",
       "      <th>7</th>\n",
       "      <td>False</td>\n",
       "      <td>False</td>\n",
       "    </tr>\n",
       "  </tbody>\n",
       "</table>\n",
       "</div>"
      ],
      "text/plain": [
       "     cpr  address\n",
       "0   True    False\n",
       "1  False    False\n",
       "2  False    False\n",
       "3  False    False\n",
       "4  False    False\n",
       "5  False    False\n",
       "6  False    False\n",
       "7  False    False"
      ]
     },
     "execution_count": 1,
     "metadata": {},
     "output_type": "execute_result"
    }
   ],
   "source": [
    "validate_dk_cpr(df)"
   ]
  },
  {
   "cell_type": "code",
   "execution_count": null,
   "id": "trying-procedure",
   "metadata": {},
   "outputs": [],
   "source": []
  }
 ],
 "metadata": {
  "kernelspec": {
   "display_name": "Python 3",
   "language": "python",
   "name": "python3"
  },
  "language_info": {
   "codemirror_mode": {
    "name": "ipython",
    "version": 3
   },
   "file_extension": ".py",
   "mimetype": "text/x-python",
   "name": "python",
   "nbconvert_exporter": "python",
   "pygments_lexer": "ipython3",
   "version": "3.8.10"
  }
 },
 "nbformat": 4,
 "nbformat_minor": 5
}
