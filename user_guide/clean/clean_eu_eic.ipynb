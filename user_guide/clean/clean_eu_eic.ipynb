{
 "cells": [
  {
   "cell_type": "raw",
   "id": "alone-apparel",
   "metadata": {},
   "source": [
    ".. _eic_userguide:\n",
    "\n",
    "EIC Strings\n",
    "============"
   ]
  },
  {
   "cell_type": "raw",
   "id": "legendary-forwarding",
   "metadata": {},
   "source": [
    "Introduction\n",
    "------------\n",
    "\n",
    "The function :func:`clean_eu_eic() <dataprep.clean.clean_eu_eic.clean_eu_eic>` cleans a column containing European Energy Identification Code (EIC) strings, and standardizes them in a given format. The function :func:`validate_eu_eic() <dataprep.clean.clean_eu_eic.validate_eu_eic>` validates either a single EIC strings, a column of EIC strings or a DataFrame of EIC strings, returning `True` if the value is valid, and `False` otherwise."
   ]
  },
  {
   "cell_type": "markdown",
   "id": "adopted-bidder",
   "metadata": {},
   "source": [
    "EIC strings can be converted to the following formats via the `output_format` parameter:\n",
    "\n",
    "* `compact`: only number strings without any seperators or whitespace, like \"22XWATTPLUS----G\"\n",
    "* `standard`: EIC strings with proper whitespace in the proper places. Note that in the case of EIC, the compact format is the same as the standard one.\n",
    "\n",
    "Invalid parsing is handled with the `errors` parameter:\n",
    "\n",
    "* `coerce` (default): invalid parsing will be set to NaN\n",
    "* `ignore`: invalid parsing will return the input\n",
    "* `raise`: invalid parsing will raise an exception\n",
    "\n",
    "The following sections demonstrate the functionality of `clean_eu_eic()` and `validate_eu_eic()`. "
   ]
  },
  {
   "cell_type": "markdown",
   "id": "forty-belief",
   "metadata": {},
   "source": [
    "### An example dataset containing EIC strings"
   ]
  },
  {
   "cell_type": "code",
   "execution_count": 1,
   "id": "opposed-archives",
   "metadata": {
    "execution": {
     "iopub.execute_input": "2021-10-26T23:00:40.390026Z",
     "iopub.status.busy": "2021-10-26T23:00:40.389574Z",
     "iopub.status.idle": "2021-10-26T23:00:40.605935Z",
     "shell.execute_reply": "2021-10-26T23:00:40.605187Z"
    }
   },
   "outputs": [
    {
     "data": {
      "text/html": [
       "<div>\n",
       "<style scoped>\n",
       "    .dataframe tbody tr th:only-of-type {\n",
       "        vertical-align: middle;\n",
       "    }\n",
       "\n",
       "    .dataframe tbody tr th {\n",
       "        vertical-align: top;\n",
       "    }\n",
       "\n",
       "    .dataframe thead th {\n",
       "        text-align: right;\n",
       "    }\n",
       "</style>\n",
       "<table border=\"1\" class=\"dataframe\">\n",
       "  <thead>\n",
       "    <tr style=\"text-align: right;\">\n",
       "      <th></th>\n",
       "      <th>eic</th>\n",
       "      <th>address</th>\n",
       "    </tr>\n",
       "  </thead>\n",
       "  <tbody>\n",
       "    <tr>\n",
       "      <th>0</th>\n",
       "      <td>22XWATTPLUS----G</td>\n",
       "      <td>123 Pine Ave.</td>\n",
       "    </tr>\n",
       "    <tr>\n",
       "      <th>1</th>\n",
       "      <td>22XWATTPLUS----X</td>\n",
       "      <td>main st</td>\n",
       "    </tr>\n",
       "    <tr>\n",
       "      <th>2</th>\n",
       "      <td>BE 428759497</td>\n",
       "      <td>1234 west main heights 57033</td>\n",
       "    </tr>\n",
       "    <tr>\n",
       "      <th>3</th>\n",
       "      <td>BE431150351</td>\n",
       "      <td>apt 1 789 s maple rd manhattan</td>\n",
       "    </tr>\n",
       "    <tr>\n",
       "      <th>4</th>\n",
       "      <td>002 724 334</td>\n",
       "      <td>robie house, 789 north main street</td>\n",
       "    </tr>\n",
       "    <tr>\n",
       "      <th>5</th>\n",
       "      <td>hello</td>\n",
       "      <td>1111 S Figueroa St, Los Angeles, CA 90015</td>\n",
       "    </tr>\n",
       "    <tr>\n",
       "      <th>6</th>\n",
       "      <td>NaN</td>\n",
       "      <td>(staples center) 1111 S Figueroa St, Los Angeles</td>\n",
       "    </tr>\n",
       "    <tr>\n",
       "      <th>7</th>\n",
       "      <td>NULL</td>\n",
       "      <td>hello</td>\n",
       "    </tr>\n",
       "  </tbody>\n",
       "</table>\n",
       "</div>"
      ],
      "text/plain": [
       "                eic                                           address\n",
       "0  22XWATTPLUS----G                                     123 Pine Ave.\n",
       "1  22XWATTPLUS----X                                           main st\n",
       "2      BE 428759497                      1234 west main heights 57033\n",
       "3       BE431150351                    apt 1 789 s maple rd manhattan\n",
       "4       002 724 334                robie house, 789 north main street\n",
       "5             hello         1111 S Figueroa St, Los Angeles, CA 90015\n",
       "6               NaN  (staples center) 1111 S Figueroa St, Los Angeles\n",
       "7              NULL                                             hello"
      ]
     },
     "execution_count": 1,
     "metadata": {},
     "output_type": "execute_result"
    }
   ],
   "source": [
    "import pandas as pd\n",
    "import numpy as np\n",
    "df = pd.DataFrame(\n",
    "    {\n",
    "        \"eic\": [\n",
    "            '22XWATTPLUS----G',\n",
    "            '22XWATTPLUS----X',\n",
    "            'BE 428759497',\n",
    "            'BE431150351',\n",
    "            \"002 724 334\",\n",
    "            \"hello\",\n",
    "            np.nan,\n",
    "            \"NULL\",\n",
    "        ], \n",
    "        \"address\": [\n",
    "            \"123 Pine Ave.\",\n",
    "            \"main st\",\n",
    "            \"1234 west main heights 57033\",\n",
    "            \"apt 1 789 s maple rd manhattan\",\n",
    "            \"robie house, 789 north main street\",\n",
    "            \"1111 S Figueroa St, Los Angeles, CA 90015\",\n",
    "            \"(staples center) 1111 S Figueroa St, Los Angeles\",\n",
    "            \"hello\",\n",
    "        ]\n",
    "    }\n",
    ")\n",
    "df"
   ]
  },
  {
   "cell_type": "markdown",
   "id": "chief-aside",
   "metadata": {},
   "source": [
    "## 1. Default `clean_eu_eic`\n",
    "\n",
    "By default, `clean_eu_eic` will clean eic strings and output them in the standard format with proper separators."
   ]
  },
  {
   "cell_type": "code",
   "execution_count": 2,
   "id": "comfortable-thesis",
   "metadata": {
    "execution": {
     "iopub.execute_input": "2021-10-26T23:00:40.609586Z",
     "iopub.status.busy": "2021-10-26T23:00:40.608844Z",
     "iopub.status.idle": "2021-10-26T23:00:41.138534Z",
     "shell.execute_reply": "2021-10-26T23:00:41.138938Z"
    }
   },
   "outputs": [
    {
     "data": {
      "text/html": [
       "<div>\n",
       "<style scoped>\n",
       "    .dataframe tbody tr th:only-of-type {\n",
       "        vertical-align: middle;\n",
       "    }\n",
       "\n",
       "    .dataframe tbody tr th {\n",
       "        vertical-align: top;\n",
       "    }\n",
       "\n",
       "    .dataframe thead th {\n",
       "        text-align: right;\n",
       "    }\n",
       "</style>\n",
       "<table border=\"1\" class=\"dataframe\">\n",
       "  <thead>\n",
       "    <tr style=\"text-align: right;\">\n",
       "      <th></th>\n",
       "      <th>eic</th>\n",
       "      <th>address</th>\n",
       "      <th>eic_clean</th>\n",
       "    </tr>\n",
       "  </thead>\n",
       "  <tbody>\n",
       "    <tr>\n",
       "      <th>0</th>\n",
       "      <td>22XWATTPLUS----G</td>\n",
       "      <td>123 Pine Ave.</td>\n",
       "      <td>22XWATTPLUS----G</td>\n",
       "    </tr>\n",
       "    <tr>\n",
       "      <th>1</th>\n",
       "      <td>22XWATTPLUS----X</td>\n",
       "      <td>main st</td>\n",
       "      <td>NaN</td>\n",
       "    </tr>\n",
       "    <tr>\n",
       "      <th>2</th>\n",
       "      <td>BE 428759497</td>\n",
       "      <td>1234 west main heights 57033</td>\n",
       "      <td>NaN</td>\n",
       "    </tr>\n",
       "    <tr>\n",
       "      <th>3</th>\n",
       "      <td>BE431150351</td>\n",
       "      <td>apt 1 789 s maple rd manhattan</td>\n",
       "      <td>NaN</td>\n",
       "    </tr>\n",
       "    <tr>\n",
       "      <th>4</th>\n",
       "      <td>002 724 334</td>\n",
       "      <td>robie house, 789 north main street</td>\n",
       "      <td>NaN</td>\n",
       "    </tr>\n",
       "    <tr>\n",
       "      <th>5</th>\n",
       "      <td>hello</td>\n",
       "      <td>1111 S Figueroa St, Los Angeles, CA 90015</td>\n",
       "      <td>NaN</td>\n",
       "    </tr>\n",
       "    <tr>\n",
       "      <th>6</th>\n",
       "      <td>NaN</td>\n",
       "      <td>(staples center) 1111 S Figueroa St, Los Angeles</td>\n",
       "      <td>NaN</td>\n",
       "    </tr>\n",
       "    <tr>\n",
       "      <th>7</th>\n",
       "      <td>NULL</td>\n",
       "      <td>hello</td>\n",
       "      <td>NaN</td>\n",
       "    </tr>\n",
       "  </tbody>\n",
       "</table>\n",
       "</div>"
      ],
      "text/plain": [
       "                eic                                           address  \\\n",
       "0  22XWATTPLUS----G                                     123 Pine Ave.   \n",
       "1  22XWATTPLUS----X                                           main st   \n",
       "2      BE 428759497                      1234 west main heights 57033   \n",
       "3       BE431150351                    apt 1 789 s maple rd manhattan   \n",
       "4       002 724 334                robie house, 789 north main street   \n",
       "5             hello         1111 S Figueroa St, Los Angeles, CA 90015   \n",
       "6               NaN  (staples center) 1111 S Figueroa St, Los Angeles   \n",
       "7              NULL                                             hello   \n",
       "\n",
       "          eic_clean  \n",
       "0  22XWATTPLUS----G  \n",
       "1               NaN  \n",
       "2               NaN  \n",
       "3               NaN  \n",
       "4               NaN  \n",
       "5               NaN  \n",
       "6               NaN  \n",
       "7               NaN  "
      ]
     },
     "execution_count": 1,
     "metadata": {},
     "output_type": "execute_result"
    }
   ],
   "source": [
    "from dataprep.clean import clean_eu_eic\n",
    "clean_eu_eic(df, column = \"eic\")"
   ]
  },
  {
   "cell_type": "markdown",
   "id": "sustained-particle",
   "metadata": {},
   "source": [
    "## 2. Output formats"
   ]
  },
  {
   "cell_type": "markdown",
   "id": "provincial-interaction",
   "metadata": {},
   "source": [
    "This section demonstrates the output parameter."
   ]
  },
  {
   "cell_type": "markdown",
   "id": "dietary-migration",
   "metadata": {},
   "source": [
    "### `standard` (default)"
   ]
  },
  {
   "cell_type": "code",
   "execution_count": 3,
   "id": "isolated-ceiling",
   "metadata": {
    "execution": {
     "iopub.execute_input": "2021-10-26T23:00:41.159190Z",
     "iopub.status.busy": "2021-10-26T23:00:41.156781Z",
     "iopub.status.idle": "2021-10-26T23:00:41.165904Z",
     "shell.execute_reply": "2021-10-26T23:00:41.165444Z"
    }
   },
   "outputs": [
    {
     "data": {
      "text/html": [
       "<div>\n",
       "<style scoped>\n",
       "    .dataframe tbody tr th:only-of-type {\n",
       "        vertical-align: middle;\n",
       "    }\n",
       "\n",
       "    .dataframe tbody tr th {\n",
       "        vertical-align: top;\n",
       "    }\n",
       "\n",
       "    .dataframe thead th {\n",
       "        text-align: right;\n",
       "    }\n",
       "</style>\n",
       "<table border=\"1\" class=\"dataframe\">\n",
       "  <thead>\n",
       "    <tr style=\"text-align: right;\">\n",
       "      <th></th>\n",
       "      <th>eic</th>\n",
       "      <th>address</th>\n",
       "      <th>eic_clean</th>\n",
       "    </tr>\n",
       "  </thead>\n",
       "  <tbody>\n",
       "    <tr>\n",
       "      <th>0</th>\n",
       "      <td>22XWATTPLUS----G</td>\n",
       "      <td>123 Pine Ave.</td>\n",
       "      <td>22XWATTPLUS----G</td>\n",
       "    </tr>\n",
       "    <tr>\n",
       "      <th>1</th>\n",
       "      <td>22XWATTPLUS----X</td>\n",
       "      <td>main st</td>\n",
       "      <td>NaN</td>\n",
       "    </tr>\n",
       "    <tr>\n",
       "      <th>2</th>\n",
       "      <td>BE 428759497</td>\n",
       "      <td>1234 west main heights 57033</td>\n",
       "      <td>NaN</td>\n",
       "    </tr>\n",
       "    <tr>\n",
       "      <th>3</th>\n",
       "      <td>BE431150351</td>\n",
       "      <td>apt 1 789 s maple rd manhattan</td>\n",
       "      <td>NaN</td>\n",
       "    </tr>\n",
       "    <tr>\n",
       "      <th>4</th>\n",
       "      <td>002 724 334</td>\n",
       "      <td>robie house, 789 north main street</td>\n",
       "      <td>NaN</td>\n",
       "    </tr>\n",
       "    <tr>\n",
       "      <th>5</th>\n",
       "      <td>hello</td>\n",
       "      <td>1111 S Figueroa St, Los Angeles, CA 90015</td>\n",
       "      <td>NaN</td>\n",
       "    </tr>\n",
       "    <tr>\n",
       "      <th>6</th>\n",
       "      <td>NaN</td>\n",
       "      <td>(staples center) 1111 S Figueroa St, Los Angeles</td>\n",
       "      <td>NaN</td>\n",
       "    </tr>\n",
       "    <tr>\n",
       "      <th>7</th>\n",
       "      <td>NULL</td>\n",
       "      <td>hello</td>\n",
       "      <td>NaN</td>\n",
       "    </tr>\n",
       "  </tbody>\n",
       "</table>\n",
       "</div>"
      ],
      "text/plain": [
       "                eic                                           address  \\\n",
       "0  22XWATTPLUS----G                                     123 Pine Ave.   \n",
       "1  22XWATTPLUS----X                                           main st   \n",
       "2      BE 428759497                      1234 west main heights 57033   \n",
       "3       BE431150351                    apt 1 789 s maple rd manhattan   \n",
       "4       002 724 334                robie house, 789 north main street   \n",
       "5             hello         1111 S Figueroa St, Los Angeles, CA 90015   \n",
       "6               NaN  (staples center) 1111 S Figueroa St, Los Angeles   \n",
       "7              NULL                                             hello   \n",
       "\n",
       "          eic_clean  \n",
       "0  22XWATTPLUS----G  \n",
       "1               NaN  \n",
       "2               NaN  \n",
       "3               NaN  \n",
       "4               NaN  \n",
       "5               NaN  \n",
       "6               NaN  \n",
       "7               NaN  "
      ]
     },
     "execution_count": 1,
     "metadata": {},
     "output_type": "execute_result"
    }
   ],
   "source": [
    "clean_eu_eic(df, column = \"eic\", output_format=\"standard\")"
   ]
  },
  {
   "cell_type": "markdown",
   "id": "noble-latin",
   "metadata": {},
   "source": [
    "### `compact`"
   ]
  },
  {
   "cell_type": "code",
   "execution_count": 4,
   "id": "social-tulsa",
   "metadata": {
    "execution": {
     "iopub.execute_input": "2021-10-26T23:00:41.185435Z",
     "iopub.status.busy": "2021-10-26T23:00:41.185000Z",
     "iopub.status.idle": "2021-10-26T23:00:41.192696Z",
     "shell.execute_reply": "2021-10-26T23:00:41.192322Z"
    }
   },
   "outputs": [
    {
     "data": {
      "text/html": [
       "<div>\n",
       "<style scoped>\n",
       "    .dataframe tbody tr th:only-of-type {\n",
       "        vertical-align: middle;\n",
       "    }\n",
       "\n",
       "    .dataframe tbody tr th {\n",
       "        vertical-align: top;\n",
       "    }\n",
       "\n",
       "    .dataframe thead th {\n",
       "        text-align: right;\n",
       "    }\n",
       "</style>\n",
       "<table border=\"1\" class=\"dataframe\">\n",
       "  <thead>\n",
       "    <tr style=\"text-align: right;\">\n",
       "      <th></th>\n",
       "      <th>eic</th>\n",
       "      <th>address</th>\n",
       "      <th>eic_clean</th>\n",
       "    </tr>\n",
       "  </thead>\n",
       "  <tbody>\n",
       "    <tr>\n",
       "      <th>0</th>\n",
       "      <td>22XWATTPLUS----G</td>\n",
       "      <td>123 Pine Ave.</td>\n",
       "      <td>22XWATTPLUS----G</td>\n",
       "    </tr>\n",
       "    <tr>\n",
       "      <th>1</th>\n",
       "      <td>22XWATTPLUS----X</td>\n",
       "      <td>main st</td>\n",
       "      <td>NaN</td>\n",
       "    </tr>\n",
       "    <tr>\n",
       "      <th>2</th>\n",
       "      <td>BE 428759497</td>\n",
       "      <td>1234 west main heights 57033</td>\n",
       "      <td>NaN</td>\n",
       "    </tr>\n",
       "    <tr>\n",
       "      <th>3</th>\n",
       "      <td>BE431150351</td>\n",
       "      <td>apt 1 789 s maple rd manhattan</td>\n",
       "      <td>NaN</td>\n",
       "    </tr>\n",
       "    <tr>\n",
       "      <th>4</th>\n",
       "      <td>002 724 334</td>\n",
       "      <td>robie house, 789 north main street</td>\n",
       "      <td>NaN</td>\n",
       "    </tr>\n",
       "    <tr>\n",
       "      <th>5</th>\n",
       "      <td>hello</td>\n",
       "      <td>1111 S Figueroa St, Los Angeles, CA 90015</td>\n",
       "      <td>NaN</td>\n",
       "    </tr>\n",
       "    <tr>\n",
       "      <th>6</th>\n",
       "      <td>NaN</td>\n",
       "      <td>(staples center) 1111 S Figueroa St, Los Angeles</td>\n",
       "      <td>NaN</td>\n",
       "    </tr>\n",
       "    <tr>\n",
       "      <th>7</th>\n",
       "      <td>NULL</td>\n",
       "      <td>hello</td>\n",
       "      <td>NaN</td>\n",
       "    </tr>\n",
       "  </tbody>\n",
       "</table>\n",
       "</div>"
      ],
      "text/plain": [
       "                eic                                           address  \\\n",
       "0  22XWATTPLUS----G                                     123 Pine Ave.   \n",
       "1  22XWATTPLUS----X                                           main st   \n",
       "2      BE 428759497                      1234 west main heights 57033   \n",
       "3       BE431150351                    apt 1 789 s maple rd manhattan   \n",
       "4       002 724 334                robie house, 789 north main street   \n",
       "5             hello         1111 S Figueroa St, Los Angeles, CA 90015   \n",
       "6               NaN  (staples center) 1111 S Figueroa St, Los Angeles   \n",
       "7              NULL                                             hello   \n",
       "\n",
       "          eic_clean  \n",
       "0  22XWATTPLUS----G  \n",
       "1               NaN  \n",
       "2               NaN  \n",
       "3               NaN  \n",
       "4               NaN  \n",
       "5               NaN  \n",
       "6               NaN  \n",
       "7               NaN  "
      ]
     },
     "execution_count": 1,
     "metadata": {},
     "output_type": "execute_result"
    }
   ],
   "source": [
    "clean_eu_eic(df, column = \"eic\", output_format=\"compact\")"
   ]
  },
  {
   "cell_type": "markdown",
   "id": "loved-ebony",
   "metadata": {},
   "source": [
    "## 3. `inplace` parameter\n",
    "\n",
    "This deletes the given column from the returned DataFrame. \n",
    "A new column containing cleaned EIC strings is added with a title in the format `\"{original title}_clean\"`."
   ]
  },
  {
   "cell_type": "code",
   "execution_count": 5,
   "id": "worthy-thing",
   "metadata": {
    "execution": {
     "iopub.execute_input": "2021-10-26T23:00:41.220333Z",
     "iopub.status.busy": "2021-10-26T23:00:41.216236Z",
     "iopub.status.idle": "2021-10-26T23:00:41.227735Z",
     "shell.execute_reply": "2021-10-26T23:00:41.227362Z"
    }
   },
   "outputs": [
    {
     "data": {
      "text/html": [
       "<div>\n",
       "<style scoped>\n",
       "    .dataframe tbody tr th:only-of-type {\n",
       "        vertical-align: middle;\n",
       "    }\n",
       "\n",
       "    .dataframe tbody tr th {\n",
       "        vertical-align: top;\n",
       "    }\n",
       "\n",
       "    .dataframe thead th {\n",
       "        text-align: right;\n",
       "    }\n",
       "</style>\n",
       "<table border=\"1\" class=\"dataframe\">\n",
       "  <thead>\n",
       "    <tr style=\"text-align: right;\">\n",
       "      <th></th>\n",
       "      <th>eic_clean</th>\n",
       "      <th>address</th>\n",
       "    </tr>\n",
       "  </thead>\n",
       "  <tbody>\n",
       "    <tr>\n",
       "      <th>0</th>\n",
       "      <td>22XWATTPLUS----G</td>\n",
       "      <td>123 Pine Ave.</td>\n",
       "    </tr>\n",
       "    <tr>\n",
       "      <th>1</th>\n",
       "      <td>NaN</td>\n",
       "      <td>main st</td>\n",
       "    </tr>\n",
       "    <tr>\n",
       "      <th>2</th>\n",
       "      <td>NaN</td>\n",
       "      <td>1234 west main heights 57033</td>\n",
       "    </tr>\n",
       "    <tr>\n",
       "      <th>3</th>\n",
       "      <td>NaN</td>\n",
       "      <td>apt 1 789 s maple rd manhattan</td>\n",
       "    </tr>\n",
       "    <tr>\n",
       "      <th>4</th>\n",
       "      <td>NaN</td>\n",
       "      <td>robie house, 789 north main street</td>\n",
       "    </tr>\n",
       "    <tr>\n",
       "      <th>5</th>\n",
       "      <td>NaN</td>\n",
       "      <td>1111 S Figueroa St, Los Angeles, CA 90015</td>\n",
       "    </tr>\n",
       "    <tr>\n",
       "      <th>6</th>\n",
       "      <td>NaN</td>\n",
       "      <td>(staples center) 1111 S Figueroa St, Los Angeles</td>\n",
       "    </tr>\n",
       "    <tr>\n",
       "      <th>7</th>\n",
       "      <td>NaN</td>\n",
       "      <td>hello</td>\n",
       "    </tr>\n",
       "  </tbody>\n",
       "</table>\n",
       "</div>"
      ],
      "text/plain": [
       "          eic_clean                                           address\n",
       "0  22XWATTPLUS----G                                     123 Pine Ave.\n",
       "1               NaN                                           main st\n",
       "2               NaN                      1234 west main heights 57033\n",
       "3               NaN                    apt 1 789 s maple rd manhattan\n",
       "4               NaN                robie house, 789 north main street\n",
       "5               NaN         1111 S Figueroa St, Los Angeles, CA 90015\n",
       "6               NaN  (staples center) 1111 S Figueroa St, Los Angeles\n",
       "7               NaN                                             hello"
      ]
     },
     "execution_count": 1,
     "metadata": {},
     "output_type": "execute_result"
    }
   ],
   "source": [
    "clean_eu_eic(df, column=\"eic\", inplace=True)"
   ]
  },
  {
   "cell_type": "markdown",
   "id": "organized-degree",
   "metadata": {},
   "source": [
    "## 4. `errors` parameter"
   ]
  },
  {
   "cell_type": "markdown",
   "id": "addressed-treasure",
   "metadata": {},
   "source": [
    "### `coerce` (default)"
   ]
  },
  {
   "cell_type": "code",
   "execution_count": 6,
   "id": "boxed-intranet",
   "metadata": {
    "execution": {
     "iopub.execute_input": "2021-10-26T23:00:41.244378Z",
     "iopub.status.busy": "2021-10-26T23:00:41.243888Z",
     "iopub.status.idle": "2021-10-26T23:00:41.253775Z",
     "shell.execute_reply": "2021-10-26T23:00:41.254128Z"
    }
   },
   "outputs": [
    {
     "data": {
      "text/html": [
       "<div>\n",
       "<style scoped>\n",
       "    .dataframe tbody tr th:only-of-type {\n",
       "        vertical-align: middle;\n",
       "    }\n",
       "\n",
       "    .dataframe tbody tr th {\n",
       "        vertical-align: top;\n",
       "    }\n",
       "\n",
       "    .dataframe thead th {\n",
       "        text-align: right;\n",
       "    }\n",
       "</style>\n",
       "<table border=\"1\" class=\"dataframe\">\n",
       "  <thead>\n",
       "    <tr style=\"text-align: right;\">\n",
       "      <th></th>\n",
       "      <th>eic</th>\n",
       "      <th>address</th>\n",
       "      <th>eic_clean</th>\n",
       "    </tr>\n",
       "  </thead>\n",
       "  <tbody>\n",
       "    <tr>\n",
       "      <th>0</th>\n",
       "      <td>22XWATTPLUS----G</td>\n",
       "      <td>123 Pine Ave.</td>\n",
       "      <td>22XWATTPLUS----G</td>\n",
       "    </tr>\n",
       "    <tr>\n",
       "      <th>1</th>\n",
       "      <td>22XWATTPLUS----X</td>\n",
       "      <td>main st</td>\n",
       "      <td>NaN</td>\n",
       "    </tr>\n",
       "    <tr>\n",
       "      <th>2</th>\n",
       "      <td>BE 428759497</td>\n",
       "      <td>1234 west main heights 57033</td>\n",
       "      <td>NaN</td>\n",
       "    </tr>\n",
       "    <tr>\n",
       "      <th>3</th>\n",
       "      <td>BE431150351</td>\n",
       "      <td>apt 1 789 s maple rd manhattan</td>\n",
       "      <td>NaN</td>\n",
       "    </tr>\n",
       "    <tr>\n",
       "      <th>4</th>\n",
       "      <td>002 724 334</td>\n",
       "      <td>robie house, 789 north main street</td>\n",
       "      <td>NaN</td>\n",
       "    </tr>\n",
       "    <tr>\n",
       "      <th>5</th>\n",
       "      <td>hello</td>\n",
       "      <td>1111 S Figueroa St, Los Angeles, CA 90015</td>\n",
       "      <td>NaN</td>\n",
       "    </tr>\n",
       "    <tr>\n",
       "      <th>6</th>\n",
       "      <td>NaN</td>\n",
       "      <td>(staples center) 1111 S Figueroa St, Los Angeles</td>\n",
       "      <td>NaN</td>\n",
       "    </tr>\n",
       "    <tr>\n",
       "      <th>7</th>\n",
       "      <td>NULL</td>\n",
       "      <td>hello</td>\n",
       "      <td>NaN</td>\n",
       "    </tr>\n",
       "  </tbody>\n",
       "</table>\n",
       "</div>"
      ],
      "text/plain": [
       "                eic                                           address  \\\n",
       "0  22XWATTPLUS----G                                     123 Pine Ave.   \n",
       "1  22XWATTPLUS----X                                           main st   \n",
       "2      BE 428759497                      1234 west main heights 57033   \n",
       "3       BE431150351                    apt 1 789 s maple rd manhattan   \n",
       "4       002 724 334                robie house, 789 north main street   \n",
       "5             hello         1111 S Figueroa St, Los Angeles, CA 90015   \n",
       "6               NaN  (staples center) 1111 S Figueroa St, Los Angeles   \n",
       "7              NULL                                             hello   \n",
       "\n",
       "          eic_clean  \n",
       "0  22XWATTPLUS----G  \n",
       "1               NaN  \n",
       "2               NaN  \n",
       "3               NaN  \n",
       "4               NaN  \n",
       "5               NaN  \n",
       "6               NaN  \n",
       "7               NaN  "
      ]
     },
     "execution_count": 1,
     "metadata": {},
     "output_type": "execute_result"
    }
   ],
   "source": [
    "clean_eu_eic(df, \"eic\", errors=\"coerce\")"
   ]
  },
  {
   "cell_type": "markdown",
   "id": "parallel-norfolk",
   "metadata": {},
   "source": [
    "### `ignore`"
   ]
  },
  {
   "cell_type": "code",
   "execution_count": 7,
   "id": "correct-magic",
   "metadata": {
    "execution": {
     "iopub.execute_input": "2021-10-26T23:00:41.273858Z",
     "iopub.status.busy": "2021-10-26T23:00:41.273150Z",
     "iopub.status.idle": "2021-10-26T23:00:41.281264Z",
     "shell.execute_reply": "2021-10-26T23:00:41.280893Z"
    }
   },
   "outputs": [
    {
     "data": {
      "text/html": [
       "<div>\n",
       "<style scoped>\n",
       "    .dataframe tbody tr th:only-of-type {\n",
       "        vertical-align: middle;\n",
       "    }\n",
       "\n",
       "    .dataframe tbody tr th {\n",
       "        vertical-align: top;\n",
       "    }\n",
       "\n",
       "    .dataframe thead th {\n",
       "        text-align: right;\n",
       "    }\n",
       "</style>\n",
       "<table border=\"1\" class=\"dataframe\">\n",
       "  <thead>\n",
       "    <tr style=\"text-align: right;\">\n",
       "      <th></th>\n",
       "      <th>eic</th>\n",
       "      <th>address</th>\n",
       "      <th>eic_clean</th>\n",
       "    </tr>\n",
       "  </thead>\n",
       "  <tbody>\n",
       "    <tr>\n",
       "      <th>0</th>\n",
       "      <td>22XWATTPLUS----G</td>\n",
       "      <td>123 Pine Ave.</td>\n",
       "      <td>22XWATTPLUS----G</td>\n",
       "    </tr>\n",
       "    <tr>\n",
       "      <th>1</th>\n",
       "      <td>22XWATTPLUS----X</td>\n",
       "      <td>main st</td>\n",
       "      <td>22XWATTPLUS----X</td>\n",
       "    </tr>\n",
       "    <tr>\n",
       "      <th>2</th>\n",
       "      <td>BE 428759497</td>\n",
       "      <td>1234 west main heights 57033</td>\n",
       "      <td>BE 428759497</td>\n",
       "    </tr>\n",
       "    <tr>\n",
       "      <th>3</th>\n",
       "      <td>BE431150351</td>\n",
       "      <td>apt 1 789 s maple rd manhattan</td>\n",
       "      <td>BE431150351</td>\n",
       "    </tr>\n",
       "    <tr>\n",
       "      <th>4</th>\n",
       "      <td>002 724 334</td>\n",
       "      <td>robie house, 789 north main street</td>\n",
       "      <td>002 724 334</td>\n",
       "    </tr>\n",
       "    <tr>\n",
       "      <th>5</th>\n",
       "      <td>hello</td>\n",
       "      <td>1111 S Figueroa St, Los Angeles, CA 90015</td>\n",
       "      <td>hello</td>\n",
       "    </tr>\n",
       "    <tr>\n",
       "      <th>6</th>\n",
       "      <td>NaN</td>\n",
       "      <td>(staples center) 1111 S Figueroa St, Los Angeles</td>\n",
       "      <td>NaN</td>\n",
       "    </tr>\n",
       "    <tr>\n",
       "      <th>7</th>\n",
       "      <td>NULL</td>\n",
       "      <td>hello</td>\n",
       "      <td>NaN</td>\n",
       "    </tr>\n",
       "  </tbody>\n",
       "</table>\n",
       "</div>"
      ],
      "text/plain": [
       "                eic                                           address  \\\n",
       "0  22XWATTPLUS----G                                     123 Pine Ave.   \n",
       "1  22XWATTPLUS----X                                           main st   \n",
       "2      BE 428759497                      1234 west main heights 57033   \n",
       "3       BE431150351                    apt 1 789 s maple rd manhattan   \n",
       "4       002 724 334                robie house, 789 north main street   \n",
       "5             hello         1111 S Figueroa St, Los Angeles, CA 90015   \n",
       "6               NaN  (staples center) 1111 S Figueroa St, Los Angeles   \n",
       "7              NULL                                             hello   \n",
       "\n",
       "          eic_clean  \n",
       "0  22XWATTPLUS----G  \n",
       "1  22XWATTPLUS----X  \n",
       "2      BE 428759497  \n",
       "3       BE431150351  \n",
       "4       002 724 334  \n",
       "5             hello  \n",
       "6               NaN  \n",
       "7               NaN  "
      ]
     },
     "execution_count": 1,
     "metadata": {},
     "output_type": "execute_result"
    }
   ],
   "source": [
    "clean_eu_eic(df, \"eic\", errors=\"ignore\")"
   ]
  },
  {
   "cell_type": "markdown",
   "id": "brilliant-printing",
   "metadata": {},
   "source": [
    "## 4. `validate_eu_eic()`"
   ]
  },
  {
   "cell_type": "markdown",
   "id": "loving-terrorist",
   "metadata": {},
   "source": [
    "`validate_eu_eic()` returns `True` when the input is a valid EIC. Otherwise it returns `False`.\n",
    "\n",
    "The input of `validate_eu_eic()` can be a string, a Pandas DataSeries, a Dask DataSeries, a Pandas DataFrame and a dask DataFrame.\n",
    "\n",
    "When the input is a string, a Pandas DataSeries or a Dask DataSeries, user doesn't need to specify a column name to be validated. \n",
    "\n",
    "When the input is a Pandas DataFrame or a dask DataFrame, user can both specify or not specify a column name to be validated. If user specify the column name, `validate_eu_eic()` only returns the validation result for the specified column. If user doesn't specify the column name, `validate_eu_eic()` returns the validation result for the whole DataFrame."
   ]
  },
  {
   "cell_type": "code",
   "execution_count": 8,
   "id": "standard-theme",
   "metadata": {
    "execution": {
     "iopub.execute_input": "2021-10-26T23:00:41.286540Z",
     "iopub.status.busy": "2021-10-26T23:00:41.286099Z",
     "iopub.status.idle": "2021-10-26T23:00:41.289480Z",
     "shell.execute_reply": "2021-10-26T23:00:41.289098Z"
    }
   },
   "outputs": [
    {
     "name": "stdout",
     "output_type": "stream",
     "text": [
      "True\n",
      "False\n",
      "False\n",
      "False\n",
      "False\n",
      "False\n",
      "False\n",
      "False\n"
     ]
    }
   ],
   "source": [
    "from dataprep.clean import validate_eu_eic\n",
    "print(validate_eu_eic('22XWATTPLUS----G'))\n",
    "print(validate_eu_eic('22XWATTPLUS----X'))\n",
    "print(validate_eu_eic('BE 428759497'))\n",
    "print(validate_eu_eic('BE431150351'))\n",
    "print(validate_eu_eic(\"004085616\"))\n",
    "print(validate_eu_eic(\"hello\"))\n",
    "print(validate_eu_eic(np.nan))\n",
    "print(validate_eu_eic(\"NULL\"))"
   ]
  },
  {
   "cell_type": "markdown",
   "id": "placed-surface",
   "metadata": {},
   "source": [
    "### Series"
   ]
  },
  {
   "cell_type": "code",
   "execution_count": 9,
   "id": "normal-night",
   "metadata": {
    "execution": {
     "iopub.execute_input": "2021-10-26T23:00:41.294049Z",
     "iopub.status.busy": "2021-10-26T23:00:41.293605Z",
     "iopub.status.idle": "2021-10-26T23:00:41.295647Z",
     "shell.execute_reply": "2021-10-26T23:00:41.295995Z"
    }
   },
   "outputs": [
    {
     "data": {
      "text/plain": [
       "0     True\n",
       "1    False\n",
       "2    False\n",
       "3    False\n",
       "4    False\n",
       "5    False\n",
       "6    False\n",
       "7    False\n",
       "Name: eic, dtype: bool"
      ]
     },
     "execution_count": 1,
     "metadata": {},
     "output_type": "execute_result"
    }
   ],
   "source": [
    "validate_eu_eic(df[\"eic\"])"
   ]
  },
  {
   "cell_type": "markdown",
   "id": "multiple-camera",
   "metadata": {},
   "source": [
    "### DataFrame + Specify Column"
   ]
  },
  {
   "cell_type": "code",
   "execution_count": 10,
   "id": "noticed-vampire",
   "metadata": {
    "execution": {
     "iopub.execute_input": "2021-10-26T23:00:41.300530Z",
     "iopub.status.busy": "2021-10-26T23:00:41.300087Z",
     "iopub.status.idle": "2021-10-26T23:00:41.302135Z",
     "shell.execute_reply": "2021-10-26T23:00:41.302483Z"
    }
   },
   "outputs": [
    {
     "data": {
      "text/plain": [
       "0     True\n",
       "1    False\n",
       "2    False\n",
       "3    False\n",
       "4    False\n",
       "5    False\n",
       "6    False\n",
       "7    False\n",
       "Name: eic, dtype: bool"
      ]
     },
     "execution_count": 1,
     "metadata": {},
     "output_type": "execute_result"
    }
   ],
   "source": [
    "validate_eu_eic(df, column=\"eic\")"
   ]
  },
  {
   "cell_type": "markdown",
   "id": "numerous-better",
   "metadata": {},
   "source": [
    "### Only DataFrame"
   ]
  },
  {
   "cell_type": "code",
   "execution_count": 11,
   "id": "grand-globe",
   "metadata": {
    "execution": {
     "iopub.execute_input": "2021-10-26T23:00:41.305316Z",
     "iopub.status.busy": "2021-10-26T23:00:41.304896Z",
     "iopub.status.idle": "2021-10-26T23:00:41.311850Z",
     "shell.execute_reply": "2021-10-26T23:00:41.311488Z"
    }
   },
   "outputs": [
    {
     "data": {
      "text/html": [
       "<div>\n",
       "<style scoped>\n",
       "    .dataframe tbody tr th:only-of-type {\n",
       "        vertical-align: middle;\n",
       "    }\n",
       "\n",
       "    .dataframe tbody tr th {\n",
       "        vertical-align: top;\n",
       "    }\n",
       "\n",
       "    .dataframe thead th {\n",
       "        text-align: right;\n",
       "    }\n",
       "</style>\n",
       "<table border=\"1\" class=\"dataframe\">\n",
       "  <thead>\n",
       "    <tr style=\"text-align: right;\">\n",
       "      <th></th>\n",
       "      <th>eic</th>\n",
       "      <th>address</th>\n",
       "    </tr>\n",
       "  </thead>\n",
       "  <tbody>\n",
       "    <tr>\n",
       "      <th>0</th>\n",
       "      <td>True</td>\n",
       "      <td>False</td>\n",
       "    </tr>\n",
       "    <tr>\n",
       "      <th>1</th>\n",
       "      <td>False</td>\n",
       "      <td>False</td>\n",
       "    </tr>\n",
       "    <tr>\n",
       "      <th>2</th>\n",
       "      <td>False</td>\n",
       "      <td>False</td>\n",
       "    </tr>\n",
       "    <tr>\n",
       "      <th>3</th>\n",
       "      <td>False</td>\n",
       "      <td>False</td>\n",
       "    </tr>\n",
       "    <tr>\n",
       "      <th>4</th>\n",
       "      <td>False</td>\n",
       "      <td>False</td>\n",
       "    </tr>\n",
       "    <tr>\n",
       "      <th>5</th>\n",
       "      <td>False</td>\n",
       "      <td>False</td>\n",
       "    </tr>\n",
       "    <tr>\n",
       "      <th>6</th>\n",
       "      <td>False</td>\n",
       "      <td>False</td>\n",
       "    </tr>\n",
       "    <tr>\n",
       "      <th>7</th>\n",
       "      <td>False</td>\n",
       "      <td>False</td>\n",
       "    </tr>\n",
       "  </tbody>\n",
       "</table>\n",
       "</div>"
      ],
      "text/plain": [
       "     eic  address\n",
       "0   True    False\n",
       "1  False    False\n",
       "2  False    False\n",
       "3  False    False\n",
       "4  False    False\n",
       "5  False    False\n",
       "6  False    False\n",
       "7  False    False"
      ]
     },
     "execution_count": 1,
     "metadata": {},
     "output_type": "execute_result"
    }
   ],
   "source": [
    "validate_eu_eic(df)"
   ]
  },
  {
   "cell_type": "code",
   "execution_count": null,
   "id": "strong-objective",
   "metadata": {},
   "outputs": [],
   "source": []
  }
 ],
 "metadata": {
  "kernelspec": {
   "display_name": "Python 3",
   "language": "python",
   "name": "python3"
  },
  "language_info": {
   "codemirror_mode": {
    "name": "ipython",
    "version": 3
   },
   "file_extension": ".py",
   "mimetype": "text/x-python",
   "name": "python",
   "nbconvert_exporter": "python",
   "pygments_lexer": "ipython3",
   "version": "3.8.10"
  }
 },
 "nbformat": 4,
 "nbformat_minor": 5
}
