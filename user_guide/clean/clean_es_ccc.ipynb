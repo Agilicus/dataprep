{
 "cells": [
  {
   "cell_type": "raw",
   "id": "photographic-albert",
   "metadata": {},
   "source": [
    ".. _ccc_userguide:\n",
    "\n",
    "Spanish Bank Account Codes\n",
    "=========================="
   ]
  },
  {
   "cell_type": "raw",
   "id": "casual-employee",
   "metadata": {},
   "source": [
    "Introduction\n",
    "------------\n",
    "\n",
    "The function :func:`clean_es_ccc() <dataprep.clean.clean_es_ccc.clean_es_ccc>` cleans a column containing Spanish Bank Account Code (CCC) strings, and standardizes them in a given format. The function :func:`validate_es_ccc() <dataprep.clean.clean_es_ccc.validate_es_ccc>` validates either a single CCC strings, a column of CCC strings or a DataFrame of CCC strings, returning `True` if the value is valid, and `False` otherwise."
   ]
  },
  {
   "cell_type": "markdown",
   "id": "frank-cause",
   "metadata": {},
   "source": [
    "CCC strings can be converted to the following formats via the `output_format` parameter:\n",
    "\n",
    "* `compact`: only number strings without any seperators or whitespace, like \"12341234161234567890\"\n",
    "* `standard`: CCC strings with proper whitespace in the proper places, like \"1234 1234 16 12345 67890\"\n",
    "* `iban`: convert the number to an IBAN in compact format, like \"ES7712341234161234567890\".\n",
    "\n",
    "Invalid parsing is handled with the `errors` parameter:\n",
    "\n",
    "* `coerce` (default): invalid parsing will be set to NaN\n",
    "* `ignore`: invalid parsing will return the input\n",
    "* `raise`: invalid parsing will raise an exception\n",
    "\n",
    "The following sections demonstrate the functionality of `clean_es_ccc()` and `validate_es_ccc()`. "
   ]
  },
  {
   "cell_type": "markdown",
   "id": "academic-implementation",
   "metadata": {},
   "source": [
    "### An example dataset containing CCC strings"
   ]
  },
  {
   "cell_type": "code",
   "execution_count": 1,
   "id": "amber-hardwood",
   "metadata": {
    "execution": {
     "iopub.execute_input": "2021-11-01T18:51:45.394545Z",
     "iopub.status.busy": "2021-11-01T18:51:45.393920Z",
     "iopub.status.idle": "2021-11-01T18:51:45.683104Z",
     "shell.execute_reply": "2021-11-01T18:51:45.682541Z"
    }
   },
   "outputs": [
    {
     "data": {
      "text/html": [
       "<div>\n",
       "<style scoped>\n",
       "    .dataframe tbody tr th:only-of-type {\n",
       "        vertical-align: middle;\n",
       "    }\n",
       "\n",
       "    .dataframe tbody tr th {\n",
       "        vertical-align: top;\n",
       "    }\n",
       "\n",
       "    .dataframe thead th {\n",
       "        text-align: right;\n",
       "    }\n",
       "</style>\n",
       "<table border=\"1\" class=\"dataframe\">\n",
       "  <thead>\n",
       "    <tr style=\"text-align: right;\">\n",
       "      <th></th>\n",
       "      <th>ccc</th>\n",
       "      <th>address</th>\n",
       "    </tr>\n",
       "  </thead>\n",
       "  <tbody>\n",
       "    <tr>\n",
       "      <th>0</th>\n",
       "      <td>12341234161234567890</td>\n",
       "      <td>123 Pine Ave.</td>\n",
       "    </tr>\n",
       "    <tr>\n",
       "      <th>1</th>\n",
       "      <td>134-1234-16 1234567890</td>\n",
       "      <td>main st</td>\n",
       "    </tr>\n",
       "    <tr>\n",
       "      <th>2</th>\n",
       "      <td>999 999 999</td>\n",
       "      <td>1234 west main heights 57033</td>\n",
       "    </tr>\n",
       "    <tr>\n",
       "      <th>3</th>\n",
       "      <td>004085616</td>\n",
       "      <td>apt 1 789 s maple rd manhattan</td>\n",
       "    </tr>\n",
       "    <tr>\n",
       "      <th>4</th>\n",
       "      <td>002 724 334</td>\n",
       "      <td>robie house, 789 north main street</td>\n",
       "    </tr>\n",
       "    <tr>\n",
       "      <th>5</th>\n",
       "      <td>hello</td>\n",
       "      <td>1111 S Figueroa St, Los Angeles, CA 90015</td>\n",
       "    </tr>\n",
       "    <tr>\n",
       "      <th>6</th>\n",
       "      <td>NaN</td>\n",
       "      <td>(staples center) 1111 S Figueroa St, Los Angeles</td>\n",
       "    </tr>\n",
       "    <tr>\n",
       "      <th>7</th>\n",
       "      <td>NULL</td>\n",
       "      <td>hello</td>\n",
       "    </tr>\n",
       "  </tbody>\n",
       "</table>\n",
       "</div>"
      ],
      "text/plain": [
       "                      ccc                                           address\n",
       "0    12341234161234567890                                     123 Pine Ave.\n",
       "1  134-1234-16 1234567890                                           main st\n",
       "2             999 999 999                      1234 west main heights 57033\n",
       "3               004085616                    apt 1 789 s maple rd manhattan\n",
       "4             002 724 334                robie house, 789 north main street\n",
       "5                   hello         1111 S Figueroa St, Los Angeles, CA 90015\n",
       "6                     NaN  (staples center) 1111 S Figueroa St, Los Angeles\n",
       "7                    NULL                                             hello"
      ]
     },
     "execution_count": 1,
     "metadata": {},
     "output_type": "execute_result"
    }
   ],
   "source": [
    "import pandas as pd\n",
    "import numpy as np\n",
    "df = pd.DataFrame(\n",
    "    {\n",
    "        \"ccc\": [\n",
    "            \"12341234161234567890\",\n",
    "            \"134-1234-16 1234567890\",\n",
    "            \"999 999 999\",\n",
    "            \"004085616\",\n",
    "            \"002 724 334\",\n",
    "            \"hello\",\n",
    "            np.nan,\n",
    "            \"NULL\",\n",
    "        ], \n",
    "        \"address\": [\n",
    "            \"123 Pine Ave.\",\n",
    "            \"main st\",\n",
    "            \"1234 west main heights 57033\",\n",
    "            \"apt 1 789 s maple rd manhattan\",\n",
    "            \"robie house, 789 north main street\",\n",
    "            \"1111 S Figueroa St, Los Angeles, CA 90015\",\n",
    "            \"(staples center) 1111 S Figueroa St, Los Angeles\",\n",
    "            \"hello\",\n",
    "        ]\n",
    "    }\n",
    ")\n",
    "df"
   ]
  },
  {
   "cell_type": "markdown",
   "id": "furnished-comment",
   "metadata": {},
   "source": [
    "## 1. Default `clean_es_ccc`\n",
    "\n",
    "By default, `clean_es_ccc` will clean ccc strings and output them in the standard format with proper separators."
   ]
  },
  {
   "cell_type": "code",
   "execution_count": 2,
   "id": "parliamentary-plane",
   "metadata": {
    "execution": {
     "iopub.execute_input": "2021-11-01T18:51:45.687467Z",
     "iopub.status.busy": "2021-11-01T18:51:45.686858Z",
     "iopub.status.idle": "2021-11-01T18:51:46.417360Z",
     "shell.execute_reply": "2021-11-01T18:51:46.416843Z"
    }
   },
   "outputs": [
    {
     "data": {
      "text/html": [
       "<div>\n",
       "<style scoped>\n",
       "    .dataframe tbody tr th:only-of-type {\n",
       "        vertical-align: middle;\n",
       "    }\n",
       "\n",
       "    .dataframe tbody tr th {\n",
       "        vertical-align: top;\n",
       "    }\n",
       "\n",
       "    .dataframe thead th {\n",
       "        text-align: right;\n",
       "    }\n",
       "</style>\n",
       "<table border=\"1\" class=\"dataframe\">\n",
       "  <thead>\n",
       "    <tr style=\"text-align: right;\">\n",
       "      <th></th>\n",
       "      <th>ccc</th>\n",
       "      <th>address</th>\n",
       "      <th>ccc_clean</th>\n",
       "    </tr>\n",
       "  </thead>\n",
       "  <tbody>\n",
       "    <tr>\n",
       "      <th>0</th>\n",
       "      <td>12341234161234567890</td>\n",
       "      <td>123 Pine Ave.</td>\n",
       "      <td>1234 1234 16 12345 67890</td>\n",
       "    </tr>\n",
       "    <tr>\n",
       "      <th>1</th>\n",
       "      <td>134-1234-16 1234567890</td>\n",
       "      <td>main st</td>\n",
       "      <td>NaN</td>\n",
       "    </tr>\n",
       "    <tr>\n",
       "      <th>2</th>\n",
       "      <td>999 999 999</td>\n",
       "      <td>1234 west main heights 57033</td>\n",
       "      <td>NaN</td>\n",
       "    </tr>\n",
       "    <tr>\n",
       "      <th>3</th>\n",
       "      <td>004085616</td>\n",
       "      <td>apt 1 789 s maple rd manhattan</td>\n",
       "      <td>NaN</td>\n",
       "    </tr>\n",
       "    <tr>\n",
       "      <th>4</th>\n",
       "      <td>002 724 334</td>\n",
       "      <td>robie house, 789 north main street</td>\n",
       "      <td>NaN</td>\n",
       "    </tr>\n",
       "    <tr>\n",
       "      <th>5</th>\n",
       "      <td>hello</td>\n",
       "      <td>1111 S Figueroa St, Los Angeles, CA 90015</td>\n",
       "      <td>NaN</td>\n",
       "    </tr>\n",
       "    <tr>\n",
       "      <th>6</th>\n",
       "      <td>NaN</td>\n",
       "      <td>(staples center) 1111 S Figueroa St, Los Angeles</td>\n",
       "      <td>NaN</td>\n",
       "    </tr>\n",
       "    <tr>\n",
       "      <th>7</th>\n",
       "      <td>NULL</td>\n",
       "      <td>hello</td>\n",
       "      <td>NaN</td>\n",
       "    </tr>\n",
       "  </tbody>\n",
       "</table>\n",
       "</div>"
      ],
      "text/plain": [
       "                      ccc                                           address  \\\n",
       "0    12341234161234567890                                     123 Pine Ave.   \n",
       "1  134-1234-16 1234567890                                           main st   \n",
       "2             999 999 999                      1234 west main heights 57033   \n",
       "3               004085616                    apt 1 789 s maple rd manhattan   \n",
       "4             002 724 334                robie house, 789 north main street   \n",
       "5                   hello         1111 S Figueroa St, Los Angeles, CA 90015   \n",
       "6                     NaN  (staples center) 1111 S Figueroa St, Los Angeles   \n",
       "7                    NULL                                             hello   \n",
       "\n",
       "                  ccc_clean  \n",
       "0  1234 1234 16 12345 67890  \n",
       "1                       NaN  \n",
       "2                       NaN  \n",
       "3                       NaN  \n",
       "4                       NaN  \n",
       "5                       NaN  \n",
       "6                       NaN  \n",
       "7                       NaN  "
      ]
     },
     "execution_count": 1,
     "metadata": {},
     "output_type": "execute_result"
    }
   ],
   "source": [
    "from dataprep.clean import clean_es_ccc\n",
    "clean_es_ccc(df, column = \"ccc\")"
   ]
  },
  {
   "cell_type": "markdown",
   "id": "living-administration",
   "metadata": {},
   "source": [
    "## 2. Output formats"
   ]
  },
  {
   "cell_type": "markdown",
   "id": "bearing-group",
   "metadata": {},
   "source": [
    "This section demonstrates the output parameter."
   ]
  },
  {
   "cell_type": "markdown",
   "id": "alike-concern",
   "metadata": {},
   "source": [
    "### `standard` (default)"
   ]
  },
  {
   "cell_type": "code",
   "execution_count": 3,
   "id": "grave-checklist",
   "metadata": {
    "execution": {
     "iopub.execute_input": "2021-11-01T18:51:46.445556Z",
     "iopub.status.busy": "2021-11-01T18:51:46.444846Z",
     "iopub.status.idle": "2021-11-01T18:51:46.455658Z",
     "shell.execute_reply": "2021-11-01T18:51:46.456197Z"
    }
   },
   "outputs": [
    {
     "data": {
      "text/html": [
       "<div>\n",
       "<style scoped>\n",
       "    .dataframe tbody tr th:only-of-type {\n",
       "        vertical-align: middle;\n",
       "    }\n",
       "\n",
       "    .dataframe tbody tr th {\n",
       "        vertical-align: top;\n",
       "    }\n",
       "\n",
       "    .dataframe thead th {\n",
       "        text-align: right;\n",
       "    }\n",
       "</style>\n",
       "<table border=\"1\" class=\"dataframe\">\n",
       "  <thead>\n",
       "    <tr style=\"text-align: right;\">\n",
       "      <th></th>\n",
       "      <th>ccc</th>\n",
       "      <th>address</th>\n",
       "      <th>ccc_clean</th>\n",
       "    </tr>\n",
       "  </thead>\n",
       "  <tbody>\n",
       "    <tr>\n",
       "      <th>0</th>\n",
       "      <td>12341234161234567890</td>\n",
       "      <td>123 Pine Ave.</td>\n",
       "      <td>1234 1234 16 12345 67890</td>\n",
       "    </tr>\n",
       "    <tr>\n",
       "      <th>1</th>\n",
       "      <td>134-1234-16 1234567890</td>\n",
       "      <td>main st</td>\n",
       "      <td>NaN</td>\n",
       "    </tr>\n",
       "    <tr>\n",
       "      <th>2</th>\n",
       "      <td>999 999 999</td>\n",
       "      <td>1234 west main heights 57033</td>\n",
       "      <td>NaN</td>\n",
       "    </tr>\n",
       "    <tr>\n",
       "      <th>3</th>\n",
       "      <td>004085616</td>\n",
       "      <td>apt 1 789 s maple rd manhattan</td>\n",
       "      <td>NaN</td>\n",
       "    </tr>\n",
       "    <tr>\n",
       "      <th>4</th>\n",
       "      <td>002 724 334</td>\n",
       "      <td>robie house, 789 north main street</td>\n",
       "      <td>NaN</td>\n",
       "    </tr>\n",
       "    <tr>\n",
       "      <th>5</th>\n",
       "      <td>hello</td>\n",
       "      <td>1111 S Figueroa St, Los Angeles, CA 90015</td>\n",
       "      <td>NaN</td>\n",
       "    </tr>\n",
       "    <tr>\n",
       "      <th>6</th>\n",
       "      <td>NaN</td>\n",
       "      <td>(staples center) 1111 S Figueroa St, Los Angeles</td>\n",
       "      <td>NaN</td>\n",
       "    </tr>\n",
       "    <tr>\n",
       "      <th>7</th>\n",
       "      <td>NULL</td>\n",
       "      <td>hello</td>\n",
       "      <td>NaN</td>\n",
       "    </tr>\n",
       "  </tbody>\n",
       "</table>\n",
       "</div>"
      ],
      "text/plain": [
       "                      ccc                                           address  \\\n",
       "0    12341234161234567890                                     123 Pine Ave.   \n",
       "1  134-1234-16 1234567890                                           main st   \n",
       "2             999 999 999                      1234 west main heights 57033   \n",
       "3               004085616                    apt 1 789 s maple rd manhattan   \n",
       "4             002 724 334                robie house, 789 north main street   \n",
       "5                   hello         1111 S Figueroa St, Los Angeles, CA 90015   \n",
       "6                     NaN  (staples center) 1111 S Figueroa St, Los Angeles   \n",
       "7                    NULL                                             hello   \n",
       "\n",
       "                  ccc_clean  \n",
       "0  1234 1234 16 12345 67890  \n",
       "1                       NaN  \n",
       "2                       NaN  \n",
       "3                       NaN  \n",
       "4                       NaN  \n",
       "5                       NaN  \n",
       "6                       NaN  \n",
       "7                       NaN  "
      ]
     },
     "execution_count": 1,
     "metadata": {},
     "output_type": "execute_result"
    }
   ],
   "source": [
    "clean_es_ccc(df, column = \"ccc\", output_format=\"standard\")"
   ]
  },
  {
   "cell_type": "markdown",
   "id": "disturbed-johns",
   "metadata": {},
   "source": [
    "### `compact`"
   ]
  },
  {
   "cell_type": "code",
   "execution_count": 4,
   "id": "opposite-encounter",
   "metadata": {
    "execution": {
     "iopub.execute_input": "2021-11-01T18:51:46.483301Z",
     "iopub.status.busy": "2021-11-01T18:51:46.470099Z",
     "iopub.status.idle": "2021-11-01T18:51:46.494169Z",
     "shell.execute_reply": "2021-11-01T18:51:46.493647Z"
    }
   },
   "outputs": [
    {
     "data": {
      "text/html": [
       "<div>\n",
       "<style scoped>\n",
       "    .dataframe tbody tr th:only-of-type {\n",
       "        vertical-align: middle;\n",
       "    }\n",
       "\n",
       "    .dataframe tbody tr th {\n",
       "        vertical-align: top;\n",
       "    }\n",
       "\n",
       "    .dataframe thead th {\n",
       "        text-align: right;\n",
       "    }\n",
       "</style>\n",
       "<table border=\"1\" class=\"dataframe\">\n",
       "  <thead>\n",
       "    <tr style=\"text-align: right;\">\n",
       "      <th></th>\n",
       "      <th>ccc</th>\n",
       "      <th>address</th>\n",
       "      <th>ccc_clean</th>\n",
       "    </tr>\n",
       "  </thead>\n",
       "  <tbody>\n",
       "    <tr>\n",
       "      <th>0</th>\n",
       "      <td>12341234161234567890</td>\n",
       "      <td>123 Pine Ave.</td>\n",
       "      <td>12341234161234567890</td>\n",
       "    </tr>\n",
       "    <tr>\n",
       "      <th>1</th>\n",
       "      <td>134-1234-16 1234567890</td>\n",
       "      <td>main st</td>\n",
       "      <td>NaN</td>\n",
       "    </tr>\n",
       "    <tr>\n",
       "      <th>2</th>\n",
       "      <td>999 999 999</td>\n",
       "      <td>1234 west main heights 57033</td>\n",
       "      <td>NaN</td>\n",
       "    </tr>\n",
       "    <tr>\n",
       "      <th>3</th>\n",
       "      <td>004085616</td>\n",
       "      <td>apt 1 789 s maple rd manhattan</td>\n",
       "      <td>NaN</td>\n",
       "    </tr>\n",
       "    <tr>\n",
       "      <th>4</th>\n",
       "      <td>002 724 334</td>\n",
       "      <td>robie house, 789 north main street</td>\n",
       "      <td>NaN</td>\n",
       "    </tr>\n",
       "    <tr>\n",
       "      <th>5</th>\n",
       "      <td>hello</td>\n",
       "      <td>1111 S Figueroa St, Los Angeles, CA 90015</td>\n",
       "      <td>NaN</td>\n",
       "    </tr>\n",
       "    <tr>\n",
       "      <th>6</th>\n",
       "      <td>NaN</td>\n",
       "      <td>(staples center) 1111 S Figueroa St, Los Angeles</td>\n",
       "      <td>NaN</td>\n",
       "    </tr>\n",
       "    <tr>\n",
       "      <th>7</th>\n",
       "      <td>NULL</td>\n",
       "      <td>hello</td>\n",
       "      <td>NaN</td>\n",
       "    </tr>\n",
       "  </tbody>\n",
       "</table>\n",
       "</div>"
      ],
      "text/plain": [
       "                      ccc                                           address  \\\n",
       "0    12341234161234567890                                     123 Pine Ave.   \n",
       "1  134-1234-16 1234567890                                           main st   \n",
       "2             999 999 999                      1234 west main heights 57033   \n",
       "3               004085616                    apt 1 789 s maple rd manhattan   \n",
       "4             002 724 334                robie house, 789 north main street   \n",
       "5                   hello         1111 S Figueroa St, Los Angeles, CA 90015   \n",
       "6                     NaN  (staples center) 1111 S Figueroa St, Los Angeles   \n",
       "7                    NULL                                             hello   \n",
       "\n",
       "              ccc_clean  \n",
       "0  12341234161234567890  \n",
       "1                   NaN  \n",
       "2                   NaN  \n",
       "3                   NaN  \n",
       "4                   NaN  \n",
       "5                   NaN  \n",
       "6                   NaN  \n",
       "7                   NaN  "
      ]
     },
     "execution_count": 1,
     "metadata": {},
     "output_type": "execute_result"
    }
   ],
   "source": [
    "clean_es_ccc(df, column = \"ccc\", output_format=\"compact\")"
   ]
  },
  {
   "cell_type": "markdown",
   "id": "compressed-calcium",
   "metadata": {},
   "source": [
    "### `iban`"
   ]
  },
  {
   "cell_type": "code",
   "execution_count": 5,
   "id": "parliamentary-patrol",
   "metadata": {
    "execution": {
     "iopub.execute_input": "2021-11-01T18:51:46.526161Z",
     "iopub.status.busy": "2021-11-01T18:51:46.518248Z",
     "iopub.status.idle": "2021-11-01T18:51:46.531358Z",
     "shell.execute_reply": "2021-11-01T18:51:46.530450Z"
    }
   },
   "outputs": [
    {
     "data": {
      "text/html": [
       "<div>\n",
       "<style scoped>\n",
       "    .dataframe tbody tr th:only-of-type {\n",
       "        vertical-align: middle;\n",
       "    }\n",
       "\n",
       "    .dataframe tbody tr th {\n",
       "        vertical-align: top;\n",
       "    }\n",
       "\n",
       "    .dataframe thead th {\n",
       "        text-align: right;\n",
       "    }\n",
       "</style>\n",
       "<table border=\"1\" class=\"dataframe\">\n",
       "  <thead>\n",
       "    <tr style=\"text-align: right;\">\n",
       "      <th></th>\n",
       "      <th>ccc</th>\n",
       "      <th>address</th>\n",
       "      <th>ccc_clean</th>\n",
       "    </tr>\n",
       "  </thead>\n",
       "  <tbody>\n",
       "    <tr>\n",
       "      <th>0</th>\n",
       "      <td>12341234161234567890</td>\n",
       "      <td>123 Pine Ave.</td>\n",
       "      <td>ES7712341234161234567890</td>\n",
       "    </tr>\n",
       "    <tr>\n",
       "      <th>1</th>\n",
       "      <td>134-1234-16 1234567890</td>\n",
       "      <td>main st</td>\n",
       "      <td>NaN</td>\n",
       "    </tr>\n",
       "    <tr>\n",
       "      <th>2</th>\n",
       "      <td>999 999 999</td>\n",
       "      <td>1234 west main heights 57033</td>\n",
       "      <td>NaN</td>\n",
       "    </tr>\n",
       "    <tr>\n",
       "      <th>3</th>\n",
       "      <td>004085616</td>\n",
       "      <td>apt 1 789 s maple rd manhattan</td>\n",
       "      <td>NaN</td>\n",
       "    </tr>\n",
       "    <tr>\n",
       "      <th>4</th>\n",
       "      <td>002 724 334</td>\n",
       "      <td>robie house, 789 north main street</td>\n",
       "      <td>NaN</td>\n",
       "    </tr>\n",
       "    <tr>\n",
       "      <th>5</th>\n",
       "      <td>hello</td>\n",
       "      <td>1111 S Figueroa St, Los Angeles, CA 90015</td>\n",
       "      <td>NaN</td>\n",
       "    </tr>\n",
       "    <tr>\n",
       "      <th>6</th>\n",
       "      <td>NaN</td>\n",
       "      <td>(staples center) 1111 S Figueroa St, Los Angeles</td>\n",
       "      <td>NaN</td>\n",
       "    </tr>\n",
       "    <tr>\n",
       "      <th>7</th>\n",
       "      <td>NULL</td>\n",
       "      <td>hello</td>\n",
       "      <td>NaN</td>\n",
       "    </tr>\n",
       "  </tbody>\n",
       "</table>\n",
       "</div>"
      ],
      "text/plain": [
       "                      ccc                                           address  \\\n",
       "0    12341234161234567890                                     123 Pine Ave.   \n",
       "1  134-1234-16 1234567890                                           main st   \n",
       "2             999 999 999                      1234 west main heights 57033   \n",
       "3               004085616                    apt 1 789 s maple rd manhattan   \n",
       "4             002 724 334                robie house, 789 north main street   \n",
       "5                   hello         1111 S Figueroa St, Los Angeles, CA 90015   \n",
       "6                     NaN  (staples center) 1111 S Figueroa St, Los Angeles   \n",
       "7                    NULL                                             hello   \n",
       "\n",
       "                  ccc_clean  \n",
       "0  ES7712341234161234567890  \n",
       "1                       NaN  \n",
       "2                       NaN  \n",
       "3                       NaN  \n",
       "4                       NaN  \n",
       "5                       NaN  \n",
       "6                       NaN  \n",
       "7                       NaN  "
      ]
     },
     "execution_count": 1,
     "metadata": {},
     "output_type": "execute_result"
    }
   ],
   "source": [
    "clean_es_ccc(df, column = \"ccc\", output_format=\"iban\")"
   ]
  },
  {
   "cell_type": "markdown",
   "id": "proof-japan",
   "metadata": {},
   "source": [
    "## 3. `inplace` parameter\n",
    "\n",
    "This deletes the given column from the returned DataFrame. \n",
    "A new column containing cleaned CCC strings is added with a title in the format `\"{original title}_clean\"`."
   ]
  },
  {
   "cell_type": "code",
   "execution_count": 6,
   "id": "color-observation",
   "metadata": {
    "execution": {
     "iopub.execute_input": "2021-11-01T18:51:46.576384Z",
     "iopub.status.busy": "2021-11-01T18:51:46.575733Z",
     "iopub.status.idle": "2021-11-01T18:51:46.580374Z",
     "shell.execute_reply": "2021-11-01T18:51:46.579501Z"
    }
   },
   "outputs": [
    {
     "data": {
      "text/html": [
       "<div>\n",
       "<style scoped>\n",
       "    .dataframe tbody tr th:only-of-type {\n",
       "        vertical-align: middle;\n",
       "    }\n",
       "\n",
       "    .dataframe tbody tr th {\n",
       "        vertical-align: top;\n",
       "    }\n",
       "\n",
       "    .dataframe thead th {\n",
       "        text-align: right;\n",
       "    }\n",
       "</style>\n",
       "<table border=\"1\" class=\"dataframe\">\n",
       "  <thead>\n",
       "    <tr style=\"text-align: right;\">\n",
       "      <th></th>\n",
       "      <th>ccc_clean</th>\n",
       "      <th>address</th>\n",
       "    </tr>\n",
       "  </thead>\n",
       "  <tbody>\n",
       "    <tr>\n",
       "      <th>0</th>\n",
       "      <td>1234 1234 16 12345 67890</td>\n",
       "      <td>123 Pine Ave.</td>\n",
       "    </tr>\n",
       "    <tr>\n",
       "      <th>1</th>\n",
       "      <td>NaN</td>\n",
       "      <td>main st</td>\n",
       "    </tr>\n",
       "    <tr>\n",
       "      <th>2</th>\n",
       "      <td>NaN</td>\n",
       "      <td>1234 west main heights 57033</td>\n",
       "    </tr>\n",
       "    <tr>\n",
       "      <th>3</th>\n",
       "      <td>NaN</td>\n",
       "      <td>apt 1 789 s maple rd manhattan</td>\n",
       "    </tr>\n",
       "    <tr>\n",
       "      <th>4</th>\n",
       "      <td>NaN</td>\n",
       "      <td>robie house, 789 north main street</td>\n",
       "    </tr>\n",
       "    <tr>\n",
       "      <th>5</th>\n",
       "      <td>NaN</td>\n",
       "      <td>1111 S Figueroa St, Los Angeles, CA 90015</td>\n",
       "    </tr>\n",
       "    <tr>\n",
       "      <th>6</th>\n",
       "      <td>NaN</td>\n",
       "      <td>(staples center) 1111 S Figueroa St, Los Angeles</td>\n",
       "    </tr>\n",
       "    <tr>\n",
       "      <th>7</th>\n",
       "      <td>NaN</td>\n",
       "      <td>hello</td>\n",
       "    </tr>\n",
       "  </tbody>\n",
       "</table>\n",
       "</div>"
      ],
      "text/plain": [
       "                  ccc_clean                                           address\n",
       "0  1234 1234 16 12345 67890                                     123 Pine Ave.\n",
       "1                       NaN                                           main st\n",
       "2                       NaN                      1234 west main heights 57033\n",
       "3                       NaN                    apt 1 789 s maple rd manhattan\n",
       "4                       NaN                robie house, 789 north main street\n",
       "5                       NaN         1111 S Figueroa St, Los Angeles, CA 90015\n",
       "6                       NaN  (staples center) 1111 S Figueroa St, Los Angeles\n",
       "7                       NaN                                             hello"
      ]
     },
     "execution_count": 1,
     "metadata": {},
     "output_type": "execute_result"
    }
   ],
   "source": [
    "clean_es_ccc(df, column=\"ccc\", inplace=True)"
   ]
  },
  {
   "cell_type": "markdown",
   "id": "satellite-rings",
   "metadata": {},
   "source": [
    "## 4. `errors` parameter"
   ]
  },
  {
   "cell_type": "markdown",
   "id": "intense-creation",
   "metadata": {},
   "source": [
    "### `coerce` (default)"
   ]
  },
  {
   "cell_type": "code",
   "execution_count": 7,
   "id": "gothic-pricing",
   "metadata": {
    "execution": {
     "iopub.execute_input": "2021-11-01T18:51:46.609906Z",
     "iopub.status.busy": "2021-11-01T18:51:46.608949Z",
     "iopub.status.idle": "2021-11-01T18:51:46.620149Z",
     "shell.execute_reply": "2021-11-01T18:51:46.620654Z"
    }
   },
   "outputs": [
    {
     "data": {
      "text/html": [
       "<div>\n",
       "<style scoped>\n",
       "    .dataframe tbody tr th:only-of-type {\n",
       "        vertical-align: middle;\n",
       "    }\n",
       "\n",
       "    .dataframe tbody tr th {\n",
       "        vertical-align: top;\n",
       "    }\n",
       "\n",
       "    .dataframe thead th {\n",
       "        text-align: right;\n",
       "    }\n",
       "</style>\n",
       "<table border=\"1\" class=\"dataframe\">\n",
       "  <thead>\n",
       "    <tr style=\"text-align: right;\">\n",
       "      <th></th>\n",
       "      <th>ccc</th>\n",
       "      <th>address</th>\n",
       "      <th>ccc_clean</th>\n",
       "    </tr>\n",
       "  </thead>\n",
       "  <tbody>\n",
       "    <tr>\n",
       "      <th>0</th>\n",
       "      <td>12341234161234567890</td>\n",
       "      <td>123 Pine Ave.</td>\n",
       "      <td>1234 1234 16 12345 67890</td>\n",
       "    </tr>\n",
       "    <tr>\n",
       "      <th>1</th>\n",
       "      <td>134-1234-16 1234567890</td>\n",
       "      <td>main st</td>\n",
       "      <td>NaN</td>\n",
       "    </tr>\n",
       "    <tr>\n",
       "      <th>2</th>\n",
       "      <td>999 999 999</td>\n",
       "      <td>1234 west main heights 57033</td>\n",
       "      <td>NaN</td>\n",
       "    </tr>\n",
       "    <tr>\n",
       "      <th>3</th>\n",
       "      <td>004085616</td>\n",
       "      <td>apt 1 789 s maple rd manhattan</td>\n",
       "      <td>NaN</td>\n",
       "    </tr>\n",
       "    <tr>\n",
       "      <th>4</th>\n",
       "      <td>002 724 334</td>\n",
       "      <td>robie house, 789 north main street</td>\n",
       "      <td>NaN</td>\n",
       "    </tr>\n",
       "    <tr>\n",
       "      <th>5</th>\n",
       "      <td>hello</td>\n",
       "      <td>1111 S Figueroa St, Los Angeles, CA 90015</td>\n",
       "      <td>NaN</td>\n",
       "    </tr>\n",
       "    <tr>\n",
       "      <th>6</th>\n",
       "      <td>NaN</td>\n",
       "      <td>(staples center) 1111 S Figueroa St, Los Angeles</td>\n",
       "      <td>NaN</td>\n",
       "    </tr>\n",
       "    <tr>\n",
       "      <th>7</th>\n",
       "      <td>NULL</td>\n",
       "      <td>hello</td>\n",
       "      <td>NaN</td>\n",
       "    </tr>\n",
       "  </tbody>\n",
       "</table>\n",
       "</div>"
      ],
      "text/plain": [
       "                      ccc                                           address  \\\n",
       "0    12341234161234567890                                     123 Pine Ave.   \n",
       "1  134-1234-16 1234567890                                           main st   \n",
       "2             999 999 999                      1234 west main heights 57033   \n",
       "3               004085616                    apt 1 789 s maple rd manhattan   \n",
       "4             002 724 334                robie house, 789 north main street   \n",
       "5                   hello         1111 S Figueroa St, Los Angeles, CA 90015   \n",
       "6                     NaN  (staples center) 1111 S Figueroa St, Los Angeles   \n",
       "7                    NULL                                             hello   \n",
       "\n",
       "                  ccc_clean  \n",
       "0  1234 1234 16 12345 67890  \n",
       "1                       NaN  \n",
       "2                       NaN  \n",
       "3                       NaN  \n",
       "4                       NaN  \n",
       "5                       NaN  \n",
       "6                       NaN  \n",
       "7                       NaN  "
      ]
     },
     "execution_count": 1,
     "metadata": {},
     "output_type": "execute_result"
    }
   ],
   "source": [
    "clean_es_ccc(df, \"ccc\", errors=\"coerce\")"
   ]
  },
  {
   "cell_type": "markdown",
   "id": "generic-japanese",
   "metadata": {},
   "source": [
    "### `ignore`"
   ]
  },
  {
   "cell_type": "code",
   "execution_count": 8,
   "id": "southern-supplement",
   "metadata": {
    "execution": {
     "iopub.execute_input": "2021-11-01T18:51:46.647620Z",
     "iopub.status.busy": "2021-11-01T18:51:46.643299Z",
     "iopub.status.idle": "2021-11-01T18:51:46.657918Z",
     "shell.execute_reply": "2021-11-01T18:51:46.658404Z"
    }
   },
   "outputs": [
    {
     "data": {
      "text/html": [
       "<div>\n",
       "<style scoped>\n",
       "    .dataframe tbody tr th:only-of-type {\n",
       "        vertical-align: middle;\n",
       "    }\n",
       "\n",
       "    .dataframe tbody tr th {\n",
       "        vertical-align: top;\n",
       "    }\n",
       "\n",
       "    .dataframe thead th {\n",
       "        text-align: right;\n",
       "    }\n",
       "</style>\n",
       "<table border=\"1\" class=\"dataframe\">\n",
       "  <thead>\n",
       "    <tr style=\"text-align: right;\">\n",
       "      <th></th>\n",
       "      <th>ccc</th>\n",
       "      <th>address</th>\n",
       "      <th>ccc_clean</th>\n",
       "    </tr>\n",
       "  </thead>\n",
       "  <tbody>\n",
       "    <tr>\n",
       "      <th>0</th>\n",
       "      <td>12341234161234567890</td>\n",
       "      <td>123 Pine Ave.</td>\n",
       "      <td>1234 1234 16 12345 67890</td>\n",
       "    </tr>\n",
       "    <tr>\n",
       "      <th>1</th>\n",
       "      <td>134-1234-16 1234567890</td>\n",
       "      <td>main st</td>\n",
       "      <td>134-1234-16 1234567890</td>\n",
       "    </tr>\n",
       "    <tr>\n",
       "      <th>2</th>\n",
       "      <td>999 999 999</td>\n",
       "      <td>1234 west main heights 57033</td>\n",
       "      <td>999 999 999</td>\n",
       "    </tr>\n",
       "    <tr>\n",
       "      <th>3</th>\n",
       "      <td>004085616</td>\n",
       "      <td>apt 1 789 s maple rd manhattan</td>\n",
       "      <td>004085616</td>\n",
       "    </tr>\n",
       "    <tr>\n",
       "      <th>4</th>\n",
       "      <td>002 724 334</td>\n",
       "      <td>robie house, 789 north main street</td>\n",
       "      <td>002 724 334</td>\n",
       "    </tr>\n",
       "    <tr>\n",
       "      <th>5</th>\n",
       "      <td>hello</td>\n",
       "      <td>1111 S Figueroa St, Los Angeles, CA 90015</td>\n",
       "      <td>hello</td>\n",
       "    </tr>\n",
       "    <tr>\n",
       "      <th>6</th>\n",
       "      <td>NaN</td>\n",
       "      <td>(staples center) 1111 S Figueroa St, Los Angeles</td>\n",
       "      <td>NaN</td>\n",
       "    </tr>\n",
       "    <tr>\n",
       "      <th>7</th>\n",
       "      <td>NULL</td>\n",
       "      <td>hello</td>\n",
       "      <td>NaN</td>\n",
       "    </tr>\n",
       "  </tbody>\n",
       "</table>\n",
       "</div>"
      ],
      "text/plain": [
       "                      ccc                                           address  \\\n",
       "0    12341234161234567890                                     123 Pine Ave.   \n",
       "1  134-1234-16 1234567890                                           main st   \n",
       "2             999 999 999                      1234 west main heights 57033   \n",
       "3               004085616                    apt 1 789 s maple rd manhattan   \n",
       "4             002 724 334                robie house, 789 north main street   \n",
       "5                   hello         1111 S Figueroa St, Los Angeles, CA 90015   \n",
       "6                     NaN  (staples center) 1111 S Figueroa St, Los Angeles   \n",
       "7                    NULL                                             hello   \n",
       "\n",
       "                  ccc_clean  \n",
       "0  1234 1234 16 12345 67890  \n",
       "1    134-1234-16 1234567890  \n",
       "2               999 999 999  \n",
       "3                 004085616  \n",
       "4               002 724 334  \n",
       "5                     hello  \n",
       "6                       NaN  \n",
       "7                       NaN  "
      ]
     },
     "execution_count": 1,
     "metadata": {},
     "output_type": "execute_result"
    }
   ],
   "source": [
    "clean_es_ccc(df, \"ccc\", errors=\"ignore\")"
   ]
  },
  {
   "cell_type": "markdown",
   "id": "higher-authentication",
   "metadata": {},
   "source": [
    "## 4. `validate_es_ccc()`"
   ]
  },
  {
   "cell_type": "markdown",
   "id": "italic-paradise",
   "metadata": {},
   "source": [
    "`validate_es_ccc()` returns `True` when the input is a valid CCC. Otherwise it returns `False`.\n",
    "\n",
    "The input of `validate_es_ccc()` can be a string, a Pandas DataSeries, a Dask DataSeries, a Pandas DataFrame and a dask DataFrame.\n",
    "\n",
    "When the input is a string, a Pandas DataSeries or a Dask DataSeries, user doesn't need to specify a column name to be validated. \n",
    "\n",
    "When the input is a Pandas DataFrame or a dask DataFrame, user can both specify or not specify a column name to be validated. If user specify the column name, `validate_es_ccc()` only returns the validation result for the specified column. If user doesn't specify the column name, `validate_es_ccc()` returns the validation result for the whole DataFrame."
   ]
  },
  {
   "cell_type": "code",
   "execution_count": 9,
   "id": "sorted-daniel",
   "metadata": {
    "execution": {
     "iopub.execute_input": "2021-11-01T18:51:46.665328Z",
     "iopub.status.busy": "2021-11-01T18:51:46.664721Z",
     "iopub.status.idle": "2021-11-01T18:51:46.669426Z",
     "shell.execute_reply": "2021-11-01T18:51:46.669890Z"
    }
   },
   "outputs": [
    {
     "name": "stdout",
     "output_type": "stream",
     "text": [
      "True\n",
      "False\n",
      "False\n",
      "False\n",
      "False\n",
      "False\n",
      "False\n",
      "False\n"
     ]
    }
   ],
   "source": [
    "from dataprep.clean import validate_es_ccc\n",
    "print(validate_es_ccc(\"12341234161234567890\"))\n",
    "print(validate_es_ccc(\"134-1234-16 1234567890\"))\n",
    "print(validate_es_ccc(\"999 999 999\"))\n",
    "print(validate_es_ccc(\"51824753556\"))\n",
    "print(validate_es_ccc(\"004085616\"))\n",
    "print(validate_es_ccc(\"hello\"))\n",
    "print(validate_es_ccc(np.nan))\n",
    "print(validate_es_ccc(\"NULL\"))"
   ]
  },
  {
   "cell_type": "markdown",
   "id": "english-smart",
   "metadata": {},
   "source": [
    "### Series"
   ]
  },
  {
   "cell_type": "code",
   "execution_count": 10,
   "id": "adopted-lewis",
   "metadata": {
    "execution": {
     "iopub.execute_input": "2021-11-01T18:51:46.676547Z",
     "iopub.status.busy": "2021-11-01T18:51:46.675916Z",
     "iopub.status.idle": "2021-11-01T18:51:46.678858Z",
     "shell.execute_reply": "2021-11-01T18:51:46.679341Z"
    }
   },
   "outputs": [
    {
     "data": {
      "text/plain": [
       "0     True\n",
       "1    False\n",
       "2    False\n",
       "3    False\n",
       "4    False\n",
       "5    False\n",
       "6    False\n",
       "7    False\n",
       "Name: ccc, dtype: bool"
      ]
     },
     "execution_count": 1,
     "metadata": {},
     "output_type": "execute_result"
    }
   ],
   "source": [
    "validate_es_ccc(df[\"ccc\"])"
   ]
  },
  {
   "cell_type": "markdown",
   "id": "manufactured-approach",
   "metadata": {},
   "source": [
    "### DataFrame + Specify Column"
   ]
  },
  {
   "cell_type": "code",
   "execution_count": 11,
   "id": "moving-nicholas",
   "metadata": {
    "execution": {
     "iopub.execute_input": "2021-11-01T18:51:46.685845Z",
     "iopub.status.busy": "2021-11-01T18:51:46.685245Z",
     "iopub.status.idle": "2021-11-01T18:51:46.688138Z",
     "shell.execute_reply": "2021-11-01T18:51:46.688636Z"
    },
    "scrolled": true
   },
   "outputs": [
    {
     "data": {
      "text/plain": [
       "0     True\n",
       "1    False\n",
       "2    False\n",
       "3    False\n",
       "4    False\n",
       "5    False\n",
       "6    False\n",
       "7    False\n",
       "Name: ccc, dtype: bool"
      ]
     },
     "execution_count": 1,
     "metadata": {},
     "output_type": "execute_result"
    }
   ],
   "source": [
    "validate_es_ccc(df, column=\"ccc\")"
   ]
  },
  {
   "cell_type": "markdown",
   "id": "historic-nerve",
   "metadata": {},
   "source": [
    "### Only DataFrame"
   ]
  },
  {
   "cell_type": "code",
   "execution_count": 12,
   "id": "banned-granny",
   "metadata": {
    "execution": {
     "iopub.execute_input": "2021-11-01T18:51:46.699627Z",
     "iopub.status.busy": "2021-11-01T18:51:46.692157Z",
     "iopub.status.idle": "2021-11-01T18:51:46.702005Z",
     "shell.execute_reply": "2021-11-01T18:51:46.702507Z"
    }
   },
   "outputs": [
    {
     "data": {
      "text/html": [
       "<div>\n",
       "<style scoped>\n",
       "    .dataframe tbody tr th:only-of-type {\n",
       "        vertical-align: middle;\n",
       "    }\n",
       "\n",
       "    .dataframe tbody tr th {\n",
       "        vertical-align: top;\n",
       "    }\n",
       "\n",
       "    .dataframe thead th {\n",
       "        text-align: right;\n",
       "    }\n",
       "</style>\n",
       "<table border=\"1\" class=\"dataframe\">\n",
       "  <thead>\n",
       "    <tr style=\"text-align: right;\">\n",
       "      <th></th>\n",
       "      <th>ccc</th>\n",
       "      <th>address</th>\n",
       "    </tr>\n",
       "  </thead>\n",
       "  <tbody>\n",
       "    <tr>\n",
       "      <th>0</th>\n",
       "      <td>True</td>\n",
       "      <td>False</td>\n",
       "    </tr>\n",
       "    <tr>\n",
       "      <th>1</th>\n",
       "      <td>False</td>\n",
       "      <td>False</td>\n",
       "    </tr>\n",
       "    <tr>\n",
       "      <th>2</th>\n",
       "      <td>False</td>\n",
       "      <td>False</td>\n",
       "    </tr>\n",
       "    <tr>\n",
       "      <th>3</th>\n",
       "      <td>False</td>\n",
       "      <td>False</td>\n",
       "    </tr>\n",
       "    <tr>\n",
       "      <th>4</th>\n",
       "      <td>False</td>\n",
       "      <td>False</td>\n",
       "    </tr>\n",
       "    <tr>\n",
       "      <th>5</th>\n",
       "      <td>False</td>\n",
       "      <td>False</td>\n",
       "    </tr>\n",
       "    <tr>\n",
       "      <th>6</th>\n",
       "      <td>False</td>\n",
       "      <td>False</td>\n",
       "    </tr>\n",
       "    <tr>\n",
       "      <th>7</th>\n",
       "      <td>False</td>\n",
       "      <td>False</td>\n",
       "    </tr>\n",
       "  </tbody>\n",
       "</table>\n",
       "</div>"
      ],
      "text/plain": [
       "     ccc  address\n",
       "0   True    False\n",
       "1  False    False\n",
       "2  False    False\n",
       "3  False    False\n",
       "4  False    False\n",
       "5  False    False\n",
       "6  False    False\n",
       "7  False    False"
      ]
     },
     "execution_count": 1,
     "metadata": {},
     "output_type": "execute_result"
    }
   ],
   "source": [
    "validate_es_ccc(df)"
   ]
  },
  {
   "cell_type": "code",
   "execution_count": null,
   "id": "transparent-favor",
   "metadata": {},
   "outputs": [],
   "source": []
  }
 ],
 "metadata": {
  "kernelspec": {
   "display_name": "Python 3",
   "language": "python",
   "name": "python3"
  },
  "language_info": {
   "codemirror_mode": {
    "name": "ipython",
    "version": 3
   },
   "file_extension": ".py",
   "mimetype": "text/x-python",
   "name": "python",
   "nbconvert_exporter": "python",
   "pygments_lexer": "ipython3",
   "version": "3.8.10"
  }
 },
 "nbformat": 4,
 "nbformat_minor": 5
}
