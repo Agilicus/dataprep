{
 "cells": [
  {
   "cell_type": "raw",
   "id": "pacific-ministry",
   "metadata": {},
   "source": [
    ".. _bankaccount_userguide:\n",
    "\n",
    "bankaccount Strings\n",
    "============"
   ]
  },
  {
   "cell_type": "raw",
   "id": "matched-internship",
   "metadata": {},
   "source": [
    "Introduction\n",
    "------------\n",
    "\n",
    "The function :func:`clean_nz_bankaccount() <dataprep.clean.clean_nz_bankaccount.clean_nz_bankaccount>` cleans a column containing New Zealand bank account number (bankaccount) strings, and standardizes them in a given format. The function :func:`validate_nz_bankaccount() <dataprep.clean.clean_nz_bankaccount.validate_nz_bankaccount>` validates either a single bankaccount strings, a column of bankaccount strings or a DataFrame of bankaccount strings, returning `True` if the value is valid, and `False` otherwise."
   ]
  },
  {
   "cell_type": "markdown",
   "id": "lucky-capital",
   "metadata": {},
   "source": [
    "bankaccount strings can be converted to the following formats via the `output_format` parameter:\n",
    "\n",
    "* `compact`: only number strings without any seperators or whitespace, like \"0102420100194000\"\n",
    "* `standard`: bankaccount strings with proper whitespace in the proper places, like \"01-0242-0100194-000\"\n",
    "* `info`: return a dictionary of data about the supplied number, like {'bank': 'ANZ Bank New Zealand', 'branch': 'ANZ Retail'}. This typically returns the name of the bank and branch and a BIC if it is valid.\n",
    "\n",
    "Invalid parsing is handled with the `errors` parameter:\n",
    "\n",
    "* `coerce` (default): invalid parsing will be set to NaN\n",
    "* `ignore`: invalid parsing will return the input\n",
    "* `raise`: invalid parsing will raise an exception\n",
    "\n",
    "The following sections demonstrate the functionality of `clean_nz_bankaccount()` and `validate_nz_bankaccount()`. "
   ]
  },
  {
   "cell_type": "markdown",
   "id": "informational-reserve",
   "metadata": {},
   "source": [
    "### An example dataset containing bankaccount strings"
   ]
  },
  {
   "cell_type": "code",
   "execution_count": 1,
   "id": "waiting-keeping",
   "metadata": {
    "execution": {
     "iopub.execute_input": "2021-10-26T23:04:35.074427Z",
     "iopub.status.busy": "2021-10-26T23:04:35.073916Z",
     "iopub.status.idle": "2021-10-26T23:04:35.289170Z",
     "shell.execute_reply": "2021-10-26T23:04:35.288670Z"
    }
   },
   "outputs": [
    {
     "data": {
      "text/html": [
       "<div>\n",
       "<style scoped>\n",
       "    .dataframe tbody tr th:only-of-type {\n",
       "        vertical-align: middle;\n",
       "    }\n",
       "\n",
       "    .dataframe tbody tr th {\n",
       "        vertical-align: top;\n",
       "    }\n",
       "\n",
       "    .dataframe thead th {\n",
       "        text-align: right;\n",
       "    }\n",
       "</style>\n",
       "<table border=\"1\" class=\"dataframe\">\n",
       "  <thead>\n",
       "    <tr style=\"text-align: right;\">\n",
       "      <th></th>\n",
       "      <th>bankaccount</th>\n",
       "      <th>address</th>\n",
       "    </tr>\n",
       "  </thead>\n",
       "  <tbody>\n",
       "    <tr>\n",
       "      <th>0</th>\n",
       "      <td>0102420100194000</td>\n",
       "      <td>123 Pine Ave.</td>\n",
       "    </tr>\n",
       "    <tr>\n",
       "      <th>1</th>\n",
       "      <td>01-0242-0100195-00</td>\n",
       "      <td>main st</td>\n",
       "    </tr>\n",
       "    <tr>\n",
       "      <th>2</th>\n",
       "      <td>999 999 999</td>\n",
       "      <td>1234 west main heights 57033</td>\n",
       "    </tr>\n",
       "    <tr>\n",
       "      <th>3</th>\n",
       "      <td>004085616</td>\n",
       "      <td>apt 1 789 s maple rd manhattan</td>\n",
       "    </tr>\n",
       "    <tr>\n",
       "      <th>4</th>\n",
       "      <td>002 724 334</td>\n",
       "      <td>robie house, 789 north main street</td>\n",
       "    </tr>\n",
       "    <tr>\n",
       "      <th>5</th>\n",
       "      <td>hello</td>\n",
       "      <td>1111 S Figueroa St, Los Angeles, CA 90015</td>\n",
       "    </tr>\n",
       "    <tr>\n",
       "      <th>6</th>\n",
       "      <td>NaN</td>\n",
       "      <td>(staples center) 1111 S Figueroa St, Los Angeles</td>\n",
       "    </tr>\n",
       "    <tr>\n",
       "      <th>7</th>\n",
       "      <td>NULL</td>\n",
       "      <td>hello</td>\n",
       "    </tr>\n",
       "  </tbody>\n",
       "</table>\n",
       "</div>"
      ],
      "text/plain": [
       "          bankaccount                                           address\n",
       "0    0102420100194000                                     123 Pine Ave.\n",
       "1  01-0242-0100195-00                                           main st\n",
       "2         999 999 999                      1234 west main heights 57033\n",
       "3           004085616                    apt 1 789 s maple rd manhattan\n",
       "4         002 724 334                robie house, 789 north main street\n",
       "5               hello         1111 S Figueroa St, Los Angeles, CA 90015\n",
       "6                 NaN  (staples center) 1111 S Figueroa St, Los Angeles\n",
       "7                NULL                                             hello"
      ]
     },
     "execution_count": 1,
     "metadata": {},
     "output_type": "execute_result"
    }
   ],
   "source": [
    "import pandas as pd\n",
    "import numpy as np\n",
    "df = pd.DataFrame(\n",
    "    {\n",
    "        \"bankaccount\": [\n",
    "            \"0102420100194000\",\n",
    "            \"01-0242-0100195-00\",\n",
    "            \"999 999 999\",\n",
    "            \"004085616\",\n",
    "            \"002 724 334\",\n",
    "            \"hello\",\n",
    "            np.nan,\n",
    "            \"NULL\",\n",
    "        ], \n",
    "        \"address\": [\n",
    "            \"123 Pine Ave.\",\n",
    "            \"main st\",\n",
    "            \"1234 west main heights 57033\",\n",
    "            \"apt 1 789 s maple rd manhattan\",\n",
    "            \"robie house, 789 north main street\",\n",
    "            \"1111 S Figueroa St, Los Angeles, CA 90015\",\n",
    "            \"(staples center) 1111 S Figueroa St, Los Angeles\",\n",
    "            \"hello\",\n",
    "        ]\n",
    "    }\n",
    ")\n",
    "df"
   ]
  },
  {
   "cell_type": "markdown",
   "id": "natural-diameter",
   "metadata": {},
   "source": [
    "## 1. Default `clean_nz_bankaccount`\n",
    "\n",
    "By default, `clean_nz_bankaccount` will clean bankaccount strings and output them in the standard format with proper separators."
   ]
  },
  {
   "cell_type": "code",
   "execution_count": 2,
   "id": "solid-financing",
   "metadata": {
    "execution": {
     "iopub.execute_input": "2021-10-26T23:04:35.292872Z",
     "iopub.status.busy": "2021-10-26T23:04:35.292075Z",
     "iopub.status.idle": "2021-10-26T23:04:35.839022Z",
     "shell.execute_reply": "2021-10-26T23:04:35.838519Z"
    }
   },
   "outputs": [
    {
     "data": {
      "text/html": [
       "<div>\n",
       "<style scoped>\n",
       "    .dataframe tbody tr th:only-of-type {\n",
       "        vertical-align: middle;\n",
       "    }\n",
       "\n",
       "    .dataframe tbody tr th {\n",
       "        vertical-align: top;\n",
       "    }\n",
       "\n",
       "    .dataframe thead th {\n",
       "        text-align: right;\n",
       "    }\n",
       "</style>\n",
       "<table border=\"1\" class=\"dataframe\">\n",
       "  <thead>\n",
       "    <tr style=\"text-align: right;\">\n",
       "      <th></th>\n",
       "      <th>bankaccount</th>\n",
       "      <th>address</th>\n",
       "      <th>bankaccount_clean</th>\n",
       "    </tr>\n",
       "  </thead>\n",
       "  <tbody>\n",
       "    <tr>\n",
       "      <th>0</th>\n",
       "      <td>0102420100194000</td>\n",
       "      <td>123 Pine Ave.</td>\n",
       "      <td>01-0242-0100194-000</td>\n",
       "    </tr>\n",
       "    <tr>\n",
       "      <th>1</th>\n",
       "      <td>01-0242-0100195-00</td>\n",
       "      <td>main st</td>\n",
       "      <td>NaN</td>\n",
       "    </tr>\n",
       "    <tr>\n",
       "      <th>2</th>\n",
       "      <td>999 999 999</td>\n",
       "      <td>1234 west main heights 57033</td>\n",
       "      <td>NaN</td>\n",
       "    </tr>\n",
       "    <tr>\n",
       "      <th>3</th>\n",
       "      <td>004085616</td>\n",
       "      <td>apt 1 789 s maple rd manhattan</td>\n",
       "      <td>NaN</td>\n",
       "    </tr>\n",
       "    <tr>\n",
       "      <th>4</th>\n",
       "      <td>002 724 334</td>\n",
       "      <td>robie house, 789 north main street</td>\n",
       "      <td>NaN</td>\n",
       "    </tr>\n",
       "    <tr>\n",
       "      <th>5</th>\n",
       "      <td>hello</td>\n",
       "      <td>1111 S Figueroa St, Los Angeles, CA 90015</td>\n",
       "      <td>NaN</td>\n",
       "    </tr>\n",
       "    <tr>\n",
       "      <th>6</th>\n",
       "      <td>NaN</td>\n",
       "      <td>(staples center) 1111 S Figueroa St, Los Angeles</td>\n",
       "      <td>NaN</td>\n",
       "    </tr>\n",
       "    <tr>\n",
       "      <th>7</th>\n",
       "      <td>NULL</td>\n",
       "      <td>hello</td>\n",
       "      <td>NaN</td>\n",
       "    </tr>\n",
       "  </tbody>\n",
       "</table>\n",
       "</div>"
      ],
      "text/plain": [
       "          bankaccount                                           address  \\\n",
       "0    0102420100194000                                     123 Pine Ave.   \n",
       "1  01-0242-0100195-00                                           main st   \n",
       "2         999 999 999                      1234 west main heights 57033   \n",
       "3           004085616                    apt 1 789 s maple rd manhattan   \n",
       "4         002 724 334                robie house, 789 north main street   \n",
       "5               hello         1111 S Figueroa St, Los Angeles, CA 90015   \n",
       "6                 NaN  (staples center) 1111 S Figueroa St, Los Angeles   \n",
       "7                NULL                                             hello   \n",
       "\n",
       "     bankaccount_clean  \n",
       "0  01-0242-0100194-000  \n",
       "1                  NaN  \n",
       "2                  NaN  \n",
       "3                  NaN  \n",
       "4                  NaN  \n",
       "5                  NaN  \n",
       "6                  NaN  \n",
       "7                  NaN  "
      ]
     },
     "execution_count": 1,
     "metadata": {},
     "output_type": "execute_result"
    }
   ],
   "source": [
    "from dataprep.clean import clean_nz_bankaccount\n",
    "clean_nz_bankaccount(df, column = \"bankaccount\")"
   ]
  },
  {
   "cell_type": "markdown",
   "id": "sorted-wedding",
   "metadata": {},
   "source": [
    "## 2. Output formats"
   ]
  },
  {
   "cell_type": "markdown",
   "id": "cognitive-toilet",
   "metadata": {},
   "source": [
    "This section demonstrates the output parameter."
   ]
  },
  {
   "cell_type": "markdown",
   "id": "complex-reservoir",
   "metadata": {},
   "source": [
    "### `standard` (default)"
   ]
  },
  {
   "cell_type": "code",
   "execution_count": 3,
   "id": "graphic-scheme",
   "metadata": {
    "execution": {
     "iopub.execute_input": "2021-10-26T23:04:35.859168Z",
     "iopub.status.busy": "2021-10-26T23:04:35.858676Z",
     "iopub.status.idle": "2021-10-26T23:04:35.867649Z",
     "shell.execute_reply": "2021-10-26T23:04:35.867256Z"
    }
   },
   "outputs": [
    {
     "data": {
      "text/html": [
       "<div>\n",
       "<style scoped>\n",
       "    .dataframe tbody tr th:only-of-type {\n",
       "        vertical-align: middle;\n",
       "    }\n",
       "\n",
       "    .dataframe tbody tr th {\n",
       "        vertical-align: top;\n",
       "    }\n",
       "\n",
       "    .dataframe thead th {\n",
       "        text-align: right;\n",
       "    }\n",
       "</style>\n",
       "<table border=\"1\" class=\"dataframe\">\n",
       "  <thead>\n",
       "    <tr style=\"text-align: right;\">\n",
       "      <th></th>\n",
       "      <th>bankaccount</th>\n",
       "      <th>address</th>\n",
       "      <th>bankaccount_clean</th>\n",
       "    </tr>\n",
       "  </thead>\n",
       "  <tbody>\n",
       "    <tr>\n",
       "      <th>0</th>\n",
       "      <td>0102420100194000</td>\n",
       "      <td>123 Pine Ave.</td>\n",
       "      <td>01-0242-0100194-000</td>\n",
       "    </tr>\n",
       "    <tr>\n",
       "      <th>1</th>\n",
       "      <td>01-0242-0100195-00</td>\n",
       "      <td>main st</td>\n",
       "      <td>NaN</td>\n",
       "    </tr>\n",
       "    <tr>\n",
       "      <th>2</th>\n",
       "      <td>999 999 999</td>\n",
       "      <td>1234 west main heights 57033</td>\n",
       "      <td>NaN</td>\n",
       "    </tr>\n",
       "    <tr>\n",
       "      <th>3</th>\n",
       "      <td>004085616</td>\n",
       "      <td>apt 1 789 s maple rd manhattan</td>\n",
       "      <td>NaN</td>\n",
       "    </tr>\n",
       "    <tr>\n",
       "      <th>4</th>\n",
       "      <td>002 724 334</td>\n",
       "      <td>robie house, 789 north main street</td>\n",
       "      <td>NaN</td>\n",
       "    </tr>\n",
       "    <tr>\n",
       "      <th>5</th>\n",
       "      <td>hello</td>\n",
       "      <td>1111 S Figueroa St, Los Angeles, CA 90015</td>\n",
       "      <td>NaN</td>\n",
       "    </tr>\n",
       "    <tr>\n",
       "      <th>6</th>\n",
       "      <td>NaN</td>\n",
       "      <td>(staples center) 1111 S Figueroa St, Los Angeles</td>\n",
       "      <td>NaN</td>\n",
       "    </tr>\n",
       "    <tr>\n",
       "      <th>7</th>\n",
       "      <td>NULL</td>\n",
       "      <td>hello</td>\n",
       "      <td>NaN</td>\n",
       "    </tr>\n",
       "  </tbody>\n",
       "</table>\n",
       "</div>"
      ],
      "text/plain": [
       "          bankaccount                                           address  \\\n",
       "0    0102420100194000                                     123 Pine Ave.   \n",
       "1  01-0242-0100195-00                                           main st   \n",
       "2         999 999 999                      1234 west main heights 57033   \n",
       "3           004085616                    apt 1 789 s maple rd manhattan   \n",
       "4         002 724 334                robie house, 789 north main street   \n",
       "5               hello         1111 S Figueroa St, Los Angeles, CA 90015   \n",
       "6                 NaN  (staples center) 1111 S Figueroa St, Los Angeles   \n",
       "7                NULL                                             hello   \n",
       "\n",
       "     bankaccount_clean  \n",
       "0  01-0242-0100194-000  \n",
       "1                  NaN  \n",
       "2                  NaN  \n",
       "3                  NaN  \n",
       "4                  NaN  \n",
       "5                  NaN  \n",
       "6                  NaN  \n",
       "7                  NaN  "
      ]
     },
     "execution_count": 1,
     "metadata": {},
     "output_type": "execute_result"
    }
   ],
   "source": [
    "clean_nz_bankaccount(df, column = \"bankaccount\", output_format=\"standard\")"
   ]
  },
  {
   "cell_type": "markdown",
   "id": "floral-expansion",
   "metadata": {},
   "source": [
    "### `compact`"
   ]
  },
  {
   "cell_type": "code",
   "execution_count": 4,
   "id": "quantitative-elevation",
   "metadata": {
    "execution": {
     "iopub.execute_input": "2021-10-26T23:04:35.886928Z",
     "iopub.status.busy": "2021-10-26T23:04:35.885458Z",
     "iopub.status.idle": "2021-10-26T23:04:35.895502Z",
     "shell.execute_reply": "2021-10-26T23:04:35.895070Z"
    }
   },
   "outputs": [
    {
     "data": {
      "text/html": [
       "<div>\n",
       "<style scoped>\n",
       "    .dataframe tbody tr th:only-of-type {\n",
       "        vertical-align: middle;\n",
       "    }\n",
       "\n",
       "    .dataframe tbody tr th {\n",
       "        vertical-align: top;\n",
       "    }\n",
       "\n",
       "    .dataframe thead th {\n",
       "        text-align: right;\n",
       "    }\n",
       "</style>\n",
       "<table border=\"1\" class=\"dataframe\">\n",
       "  <thead>\n",
       "    <tr style=\"text-align: right;\">\n",
       "      <th></th>\n",
       "      <th>bankaccount</th>\n",
       "      <th>address</th>\n",
       "      <th>bankaccount_clean</th>\n",
       "    </tr>\n",
       "  </thead>\n",
       "  <tbody>\n",
       "    <tr>\n",
       "      <th>0</th>\n",
       "      <td>0102420100194000</td>\n",
       "      <td>123 Pine Ave.</td>\n",
       "      <td>0102420100194000</td>\n",
       "    </tr>\n",
       "    <tr>\n",
       "      <th>1</th>\n",
       "      <td>01-0242-0100195-00</td>\n",
       "      <td>main st</td>\n",
       "      <td>NaN</td>\n",
       "    </tr>\n",
       "    <tr>\n",
       "      <th>2</th>\n",
       "      <td>999 999 999</td>\n",
       "      <td>1234 west main heights 57033</td>\n",
       "      <td>NaN</td>\n",
       "    </tr>\n",
       "    <tr>\n",
       "      <th>3</th>\n",
       "      <td>004085616</td>\n",
       "      <td>apt 1 789 s maple rd manhattan</td>\n",
       "      <td>NaN</td>\n",
       "    </tr>\n",
       "    <tr>\n",
       "      <th>4</th>\n",
       "      <td>002 724 334</td>\n",
       "      <td>robie house, 789 north main street</td>\n",
       "      <td>NaN</td>\n",
       "    </tr>\n",
       "    <tr>\n",
       "      <th>5</th>\n",
       "      <td>hello</td>\n",
       "      <td>1111 S Figueroa St, Los Angeles, CA 90015</td>\n",
       "      <td>NaN</td>\n",
       "    </tr>\n",
       "    <tr>\n",
       "      <th>6</th>\n",
       "      <td>NaN</td>\n",
       "      <td>(staples center) 1111 S Figueroa St, Los Angeles</td>\n",
       "      <td>NaN</td>\n",
       "    </tr>\n",
       "    <tr>\n",
       "      <th>7</th>\n",
       "      <td>NULL</td>\n",
       "      <td>hello</td>\n",
       "      <td>NaN</td>\n",
       "    </tr>\n",
       "  </tbody>\n",
       "</table>\n",
       "</div>"
      ],
      "text/plain": [
       "          bankaccount                                           address  \\\n",
       "0    0102420100194000                                     123 Pine Ave.   \n",
       "1  01-0242-0100195-00                                           main st   \n",
       "2         999 999 999                      1234 west main heights 57033   \n",
       "3           004085616                    apt 1 789 s maple rd manhattan   \n",
       "4         002 724 334                robie house, 789 north main street   \n",
       "5               hello         1111 S Figueroa St, Los Angeles, CA 90015   \n",
       "6                 NaN  (staples center) 1111 S Figueroa St, Los Angeles   \n",
       "7                NULL                                             hello   \n",
       "\n",
       "  bankaccount_clean  \n",
       "0  0102420100194000  \n",
       "1               NaN  \n",
       "2               NaN  \n",
       "3               NaN  \n",
       "4               NaN  \n",
       "5               NaN  \n",
       "6               NaN  \n",
       "7               NaN  "
      ]
     },
     "execution_count": 1,
     "metadata": {},
     "output_type": "execute_result"
    }
   ],
   "source": [
    "clean_nz_bankaccount(df, column = \"bankaccount\", output_format=\"compact\")"
   ]
  },
  {
   "cell_type": "markdown",
   "id": "configured-prototype",
   "metadata": {},
   "source": [
    "### `info`"
   ]
  },
  {
   "cell_type": "code",
   "execution_count": 5,
   "id": "expected-surfing",
   "metadata": {
    "execution": {
     "iopub.execute_input": "2021-10-26T23:04:35.913424Z",
     "iopub.status.busy": "2021-10-26T23:04:35.911959Z",
     "iopub.status.idle": "2021-10-26T23:04:35.923151Z",
     "shell.execute_reply": "2021-10-26T23:04:35.922742Z"
    }
   },
   "outputs": [
    {
     "data": {
      "text/html": [
       "<div>\n",
       "<style scoped>\n",
       "    .dataframe tbody tr th:only-of-type {\n",
       "        vertical-align: middle;\n",
       "    }\n",
       "\n",
       "    .dataframe tbody tr th {\n",
       "        vertical-align: top;\n",
       "    }\n",
       "\n",
       "    .dataframe thead th {\n",
       "        text-align: right;\n",
       "    }\n",
       "</style>\n",
       "<table border=\"1\" class=\"dataframe\">\n",
       "  <thead>\n",
       "    <tr style=\"text-align: right;\">\n",
       "      <th></th>\n",
       "      <th>bankaccount</th>\n",
       "      <th>address</th>\n",
       "      <th>bankaccount_clean</th>\n",
       "    </tr>\n",
       "  </thead>\n",
       "  <tbody>\n",
       "    <tr>\n",
       "      <th>0</th>\n",
       "      <td>0102420100194000</td>\n",
       "      <td>123 Pine Ave.</td>\n",
       "      <td>{'bank': 'ANZ Bank New Zealand', 'branch': 'AN...</td>\n",
       "    </tr>\n",
       "    <tr>\n",
       "      <th>1</th>\n",
       "      <td>01-0242-0100195-00</td>\n",
       "      <td>main st</td>\n",
       "      <td>NaN</td>\n",
       "    </tr>\n",
       "    <tr>\n",
       "      <th>2</th>\n",
       "      <td>999 999 999</td>\n",
       "      <td>1234 west main heights 57033</td>\n",
       "      <td>NaN</td>\n",
       "    </tr>\n",
       "    <tr>\n",
       "      <th>3</th>\n",
       "      <td>004085616</td>\n",
       "      <td>apt 1 789 s maple rd manhattan</td>\n",
       "      <td>NaN</td>\n",
       "    </tr>\n",
       "    <tr>\n",
       "      <th>4</th>\n",
       "      <td>002 724 334</td>\n",
       "      <td>robie house, 789 north main street</td>\n",
       "      <td>NaN</td>\n",
       "    </tr>\n",
       "    <tr>\n",
       "      <th>5</th>\n",
       "      <td>hello</td>\n",
       "      <td>1111 S Figueroa St, Los Angeles, CA 90015</td>\n",
       "      <td>NaN</td>\n",
       "    </tr>\n",
       "    <tr>\n",
       "      <th>6</th>\n",
       "      <td>NaN</td>\n",
       "      <td>(staples center) 1111 S Figueroa St, Los Angeles</td>\n",
       "      <td>NaN</td>\n",
       "    </tr>\n",
       "    <tr>\n",
       "      <th>7</th>\n",
       "      <td>NULL</td>\n",
       "      <td>hello</td>\n",
       "      <td>NaN</td>\n",
       "    </tr>\n",
       "  </tbody>\n",
       "</table>\n",
       "</div>"
      ],
      "text/plain": [
       "          bankaccount                                           address  \\\n",
       "0    0102420100194000                                     123 Pine Ave.   \n",
       "1  01-0242-0100195-00                                           main st   \n",
       "2         999 999 999                      1234 west main heights 57033   \n",
       "3           004085616                    apt 1 789 s maple rd manhattan   \n",
       "4         002 724 334                robie house, 789 north main street   \n",
       "5               hello         1111 S Figueroa St, Los Angeles, CA 90015   \n",
       "6                 NaN  (staples center) 1111 S Figueroa St, Los Angeles   \n",
       "7                NULL                                             hello   \n",
       "\n",
       "                                   bankaccount_clean  \n",
       "0  {'bank': 'ANZ Bank New Zealand', 'branch': 'AN...  \n",
       "1                                                NaN  \n",
       "2                                                NaN  \n",
       "3                                                NaN  \n",
       "4                                                NaN  \n",
       "5                                                NaN  \n",
       "6                                                NaN  \n",
       "7                                                NaN  "
      ]
     },
     "execution_count": 1,
     "metadata": {},
     "output_type": "execute_result"
    }
   ],
   "source": [
    "clean_nz_bankaccount(df, column = \"bankaccount\", output_format=\"info\")"
   ]
  },
  {
   "cell_type": "markdown",
   "id": "printable-carnival",
   "metadata": {},
   "source": [
    "## 3. `inplace` parameter\n",
    "\n",
    "This deletes the given column from the returned DataFrame. \n",
    "A new column containing cleaned bankaccount strings is added with a title in the format `\"{original title}_clean\"`."
   ]
  },
  {
   "cell_type": "code",
   "execution_count": 6,
   "id": "improving-raising",
   "metadata": {
    "execution": {
     "iopub.execute_input": "2021-10-26T23:04:35.947815Z",
     "iopub.status.busy": "2021-10-26T23:04:35.945731Z",
     "iopub.status.idle": "2021-10-26T23:04:35.958394Z",
     "shell.execute_reply": "2021-10-26T23:04:35.958741Z"
    }
   },
   "outputs": [
    {
     "data": {
      "text/html": [
       "<div>\n",
       "<style scoped>\n",
       "    .dataframe tbody tr th:only-of-type {\n",
       "        vertical-align: middle;\n",
       "    }\n",
       "\n",
       "    .dataframe tbody tr th {\n",
       "        vertical-align: top;\n",
       "    }\n",
       "\n",
       "    .dataframe thead th {\n",
       "        text-align: right;\n",
       "    }\n",
       "</style>\n",
       "<table border=\"1\" class=\"dataframe\">\n",
       "  <thead>\n",
       "    <tr style=\"text-align: right;\">\n",
       "      <th></th>\n",
       "      <th>bankaccount_clean</th>\n",
       "      <th>address</th>\n",
       "    </tr>\n",
       "  </thead>\n",
       "  <tbody>\n",
       "    <tr>\n",
       "      <th>0</th>\n",
       "      <td>01-0242-0100194-000</td>\n",
       "      <td>123 Pine Ave.</td>\n",
       "    </tr>\n",
       "    <tr>\n",
       "      <th>1</th>\n",
       "      <td>NaN</td>\n",
       "      <td>main st</td>\n",
       "    </tr>\n",
       "    <tr>\n",
       "      <th>2</th>\n",
       "      <td>NaN</td>\n",
       "      <td>1234 west main heights 57033</td>\n",
       "    </tr>\n",
       "    <tr>\n",
       "      <th>3</th>\n",
       "      <td>NaN</td>\n",
       "      <td>apt 1 789 s maple rd manhattan</td>\n",
       "    </tr>\n",
       "    <tr>\n",
       "      <th>4</th>\n",
       "      <td>NaN</td>\n",
       "      <td>robie house, 789 north main street</td>\n",
       "    </tr>\n",
       "    <tr>\n",
       "      <th>5</th>\n",
       "      <td>NaN</td>\n",
       "      <td>1111 S Figueroa St, Los Angeles, CA 90015</td>\n",
       "    </tr>\n",
       "    <tr>\n",
       "      <th>6</th>\n",
       "      <td>NaN</td>\n",
       "      <td>(staples center) 1111 S Figueroa St, Los Angeles</td>\n",
       "    </tr>\n",
       "    <tr>\n",
       "      <th>7</th>\n",
       "      <td>NaN</td>\n",
       "      <td>hello</td>\n",
       "    </tr>\n",
       "  </tbody>\n",
       "</table>\n",
       "</div>"
      ],
      "text/plain": [
       "     bankaccount_clean                                           address\n",
       "0  01-0242-0100194-000                                     123 Pine Ave.\n",
       "1                  NaN                                           main st\n",
       "2                  NaN                      1234 west main heights 57033\n",
       "3                  NaN                    apt 1 789 s maple rd manhattan\n",
       "4                  NaN                robie house, 789 north main street\n",
       "5                  NaN         1111 S Figueroa St, Los Angeles, CA 90015\n",
       "6                  NaN  (staples center) 1111 S Figueroa St, Los Angeles\n",
       "7                  NaN                                             hello"
      ]
     },
     "execution_count": 1,
     "metadata": {},
     "output_type": "execute_result"
    }
   ],
   "source": [
    "clean_nz_bankaccount(df, column=\"bankaccount\", inplace=True)"
   ]
  },
  {
   "cell_type": "markdown",
   "id": "committed-sheet",
   "metadata": {},
   "source": [
    "## 4. `errors` parameter"
   ]
  },
  {
   "cell_type": "markdown",
   "id": "atlantic-watts",
   "metadata": {},
   "source": [
    "### `coerce` (default)"
   ]
  },
  {
   "cell_type": "code",
   "execution_count": 7,
   "id": "acceptable-vulnerability",
   "metadata": {
    "execution": {
     "iopub.execute_input": "2021-10-26T23:04:35.975052Z",
     "iopub.status.busy": "2021-10-26T23:04:35.974512Z",
     "iopub.status.idle": "2021-10-26T23:04:35.985159Z",
     "shell.execute_reply": "2021-10-26T23:04:35.985503Z"
    }
   },
   "outputs": [
    {
     "data": {
      "text/html": [
       "<div>\n",
       "<style scoped>\n",
       "    .dataframe tbody tr th:only-of-type {\n",
       "        vertical-align: middle;\n",
       "    }\n",
       "\n",
       "    .dataframe tbody tr th {\n",
       "        vertical-align: top;\n",
       "    }\n",
       "\n",
       "    .dataframe thead th {\n",
       "        text-align: right;\n",
       "    }\n",
       "</style>\n",
       "<table border=\"1\" class=\"dataframe\">\n",
       "  <thead>\n",
       "    <tr style=\"text-align: right;\">\n",
       "      <th></th>\n",
       "      <th>bankaccount</th>\n",
       "      <th>address</th>\n",
       "      <th>bankaccount_clean</th>\n",
       "    </tr>\n",
       "  </thead>\n",
       "  <tbody>\n",
       "    <tr>\n",
       "      <th>0</th>\n",
       "      <td>0102420100194000</td>\n",
       "      <td>123 Pine Ave.</td>\n",
       "      <td>01-0242-0100194-000</td>\n",
       "    </tr>\n",
       "    <tr>\n",
       "      <th>1</th>\n",
       "      <td>01-0242-0100195-00</td>\n",
       "      <td>main st</td>\n",
       "      <td>NaN</td>\n",
       "    </tr>\n",
       "    <tr>\n",
       "      <th>2</th>\n",
       "      <td>999 999 999</td>\n",
       "      <td>1234 west main heights 57033</td>\n",
       "      <td>NaN</td>\n",
       "    </tr>\n",
       "    <tr>\n",
       "      <th>3</th>\n",
       "      <td>004085616</td>\n",
       "      <td>apt 1 789 s maple rd manhattan</td>\n",
       "      <td>NaN</td>\n",
       "    </tr>\n",
       "    <tr>\n",
       "      <th>4</th>\n",
       "      <td>002 724 334</td>\n",
       "      <td>robie house, 789 north main street</td>\n",
       "      <td>NaN</td>\n",
       "    </tr>\n",
       "    <tr>\n",
       "      <th>5</th>\n",
       "      <td>hello</td>\n",
       "      <td>1111 S Figueroa St, Los Angeles, CA 90015</td>\n",
       "      <td>NaN</td>\n",
       "    </tr>\n",
       "    <tr>\n",
       "      <th>6</th>\n",
       "      <td>NaN</td>\n",
       "      <td>(staples center) 1111 S Figueroa St, Los Angeles</td>\n",
       "      <td>NaN</td>\n",
       "    </tr>\n",
       "    <tr>\n",
       "      <th>7</th>\n",
       "      <td>NULL</td>\n",
       "      <td>hello</td>\n",
       "      <td>NaN</td>\n",
       "    </tr>\n",
       "  </tbody>\n",
       "</table>\n",
       "</div>"
      ],
      "text/plain": [
       "          bankaccount                                           address  \\\n",
       "0    0102420100194000                                     123 Pine Ave.   \n",
       "1  01-0242-0100195-00                                           main st   \n",
       "2         999 999 999                      1234 west main heights 57033   \n",
       "3           004085616                    apt 1 789 s maple rd manhattan   \n",
       "4         002 724 334                robie house, 789 north main street   \n",
       "5               hello         1111 S Figueroa St, Los Angeles, CA 90015   \n",
       "6                 NaN  (staples center) 1111 S Figueroa St, Los Angeles   \n",
       "7                NULL                                             hello   \n",
       "\n",
       "     bankaccount_clean  \n",
       "0  01-0242-0100194-000  \n",
       "1                  NaN  \n",
       "2                  NaN  \n",
       "3                  NaN  \n",
       "4                  NaN  \n",
       "5                  NaN  \n",
       "6                  NaN  \n",
       "7                  NaN  "
      ]
     },
     "execution_count": 1,
     "metadata": {},
     "output_type": "execute_result"
    }
   ],
   "source": [
    "clean_nz_bankaccount(df, \"bankaccount\", errors=\"coerce\")"
   ]
  },
  {
   "cell_type": "markdown",
   "id": "invisible-breed",
   "metadata": {},
   "source": [
    "### `ignore`"
   ]
  },
  {
   "cell_type": "code",
   "execution_count": 8,
   "id": "portuguese-complexity",
   "metadata": {
    "execution": {
     "iopub.execute_input": "2021-10-26T23:04:36.005967Z",
     "iopub.status.busy": "2021-10-26T23:04:36.005518Z",
     "iopub.status.idle": "2021-10-26T23:04:36.012212Z",
     "shell.execute_reply": "2021-10-26T23:04:36.011840Z"
    }
   },
   "outputs": [
    {
     "data": {
      "text/html": [
       "<div>\n",
       "<style scoped>\n",
       "    .dataframe tbody tr th:only-of-type {\n",
       "        vertical-align: middle;\n",
       "    }\n",
       "\n",
       "    .dataframe tbody tr th {\n",
       "        vertical-align: top;\n",
       "    }\n",
       "\n",
       "    .dataframe thead th {\n",
       "        text-align: right;\n",
       "    }\n",
       "</style>\n",
       "<table border=\"1\" class=\"dataframe\">\n",
       "  <thead>\n",
       "    <tr style=\"text-align: right;\">\n",
       "      <th></th>\n",
       "      <th>bankaccount</th>\n",
       "      <th>address</th>\n",
       "      <th>bankaccount_clean</th>\n",
       "    </tr>\n",
       "  </thead>\n",
       "  <tbody>\n",
       "    <tr>\n",
       "      <th>0</th>\n",
       "      <td>0102420100194000</td>\n",
       "      <td>123 Pine Ave.</td>\n",
       "      <td>01-0242-0100194-000</td>\n",
       "    </tr>\n",
       "    <tr>\n",
       "      <th>1</th>\n",
       "      <td>01-0242-0100195-00</td>\n",
       "      <td>main st</td>\n",
       "      <td>01-0242-0100195-00</td>\n",
       "    </tr>\n",
       "    <tr>\n",
       "      <th>2</th>\n",
       "      <td>999 999 999</td>\n",
       "      <td>1234 west main heights 57033</td>\n",
       "      <td>999 999 999</td>\n",
       "    </tr>\n",
       "    <tr>\n",
       "      <th>3</th>\n",
       "      <td>004085616</td>\n",
       "      <td>apt 1 789 s maple rd manhattan</td>\n",
       "      <td>004085616</td>\n",
       "    </tr>\n",
       "    <tr>\n",
       "      <th>4</th>\n",
       "      <td>002 724 334</td>\n",
       "      <td>robie house, 789 north main street</td>\n",
       "      <td>002 724 334</td>\n",
       "    </tr>\n",
       "    <tr>\n",
       "      <th>5</th>\n",
       "      <td>hello</td>\n",
       "      <td>1111 S Figueroa St, Los Angeles, CA 90015</td>\n",
       "      <td>hello</td>\n",
       "    </tr>\n",
       "    <tr>\n",
       "      <th>6</th>\n",
       "      <td>NaN</td>\n",
       "      <td>(staples center) 1111 S Figueroa St, Los Angeles</td>\n",
       "      <td>NaN</td>\n",
       "    </tr>\n",
       "    <tr>\n",
       "      <th>7</th>\n",
       "      <td>NULL</td>\n",
       "      <td>hello</td>\n",
       "      <td>NaN</td>\n",
       "    </tr>\n",
       "  </tbody>\n",
       "</table>\n",
       "</div>"
      ],
      "text/plain": [
       "          bankaccount                                           address  \\\n",
       "0    0102420100194000                                     123 Pine Ave.   \n",
       "1  01-0242-0100195-00                                           main st   \n",
       "2         999 999 999                      1234 west main heights 57033   \n",
       "3           004085616                    apt 1 789 s maple rd manhattan   \n",
       "4         002 724 334                robie house, 789 north main street   \n",
       "5               hello         1111 S Figueroa St, Los Angeles, CA 90015   \n",
       "6                 NaN  (staples center) 1111 S Figueroa St, Los Angeles   \n",
       "7                NULL                                             hello   \n",
       "\n",
       "     bankaccount_clean  \n",
       "0  01-0242-0100194-000  \n",
       "1   01-0242-0100195-00  \n",
       "2          999 999 999  \n",
       "3            004085616  \n",
       "4          002 724 334  \n",
       "5                hello  \n",
       "6                  NaN  \n",
       "7                  NaN  "
      ]
     },
     "execution_count": 1,
     "metadata": {},
     "output_type": "execute_result"
    }
   ],
   "source": [
    "clean_nz_bankaccount(df, \"bankaccount\", errors=\"ignore\")"
   ]
  },
  {
   "cell_type": "markdown",
   "id": "insured-array",
   "metadata": {},
   "source": [
    "## 4. `validate_nz_bankaccount()`"
   ]
  },
  {
   "cell_type": "markdown",
   "id": "lonely-ticket",
   "metadata": {},
   "source": [
    "`validate_nz_bankaccount()` returns `True` when the input is a valid bankaccount. Otherwise it returns `False`.\n",
    "\n",
    "The input of `validate_nz_bankaccount()` can be a string, a Pandas DataSeries, a Dask DataSeries, a Pandas DataFrame and a dask DataFrame.\n",
    "\n",
    "When the input is a string, a Pandas DataSeries or a Dask DataSeries, user doesn't need to specify a column name to be validated. \n",
    "\n",
    "When the input is a Pandas DataFrame or a dask DataFrame, user can both specify or not specify a column name to be validated. If user specify the column name, `validate_nz_bankaccount()` only returns the validation result for the specified column. If user doesn't specify the column name, `validate_nz_bankaccount()` returns the validation result for the whole DataFrame."
   ]
  },
  {
   "cell_type": "code",
   "execution_count": 9,
   "id": "binary-hebrew",
   "metadata": {
    "execution": {
     "iopub.execute_input": "2021-10-26T23:04:36.017872Z",
     "iopub.status.busy": "2021-10-26T23:04:36.017418Z",
     "iopub.status.idle": "2021-10-26T23:04:36.019592Z",
     "shell.execute_reply": "2021-10-26T23:04:36.019947Z"
    }
   },
   "outputs": [
    {
     "name": "stdout",
     "output_type": "stream",
     "text": [
      "True\n",
      "False\n",
      "False\n",
      "False\n",
      "False\n",
      "False\n",
      "False\n",
      "False\n"
     ]
    }
   ],
   "source": [
    "from dataprep.clean import validate_nz_bankaccount\n",
    "print(validate_nz_bankaccount(\"0102420100194000\"))\n",
    "print(validate_nz_bankaccount(\"01-0242-0100195-00\"))\n",
    "print(validate_nz_bankaccount(\"999 999 999\"))\n",
    "print(validate_nz_bankaccount(\"51824753556\"))\n",
    "print(validate_nz_bankaccount(\"004085616\"))\n",
    "print(validate_nz_bankaccount(\"hello\"))\n",
    "print(validate_nz_bankaccount(np.nan))\n",
    "print(validate_nz_bankaccount(\"NULL\"))"
   ]
  },
  {
   "cell_type": "markdown",
   "id": "extraordinary-motion",
   "metadata": {},
   "source": [
    "### Series"
   ]
  },
  {
   "cell_type": "code",
   "execution_count": 10,
   "id": "sharing-clock",
   "metadata": {
    "execution": {
     "iopub.execute_input": "2021-10-26T23:04:36.024827Z",
     "iopub.status.busy": "2021-10-26T23:04:36.024377Z",
     "iopub.status.idle": "2021-10-26T23:04:36.026507Z",
     "shell.execute_reply": "2021-10-26T23:04:36.026857Z"
    }
   },
   "outputs": [
    {
     "data": {
      "text/plain": [
       "0     True\n",
       "1    False\n",
       "2    False\n",
       "3    False\n",
       "4    False\n",
       "5    False\n",
       "6    False\n",
       "7    False\n",
       "Name: bankaccount, dtype: bool"
      ]
     },
     "execution_count": 1,
     "metadata": {},
     "output_type": "execute_result"
    }
   ],
   "source": [
    "validate_nz_bankaccount(df[\"bankaccount\"])"
   ]
  },
  {
   "cell_type": "markdown",
   "id": "sought-comfort",
   "metadata": {},
   "source": [
    "### DataFrame + Specify Column"
   ]
  },
  {
   "cell_type": "code",
   "execution_count": 11,
   "id": "wireless-optimization",
   "metadata": {
    "execution": {
     "iopub.execute_input": "2021-10-26T23:04:36.031519Z",
     "iopub.status.busy": "2021-10-26T23:04:36.031050Z",
     "iopub.status.idle": "2021-10-26T23:04:36.033097Z",
     "shell.execute_reply": "2021-10-26T23:04:36.033448Z"
    }
   },
   "outputs": [
    {
     "data": {
      "text/plain": [
       "0     True\n",
       "1    False\n",
       "2    False\n",
       "3    False\n",
       "4    False\n",
       "5    False\n",
       "6    False\n",
       "7    False\n",
       "Name: bankaccount, dtype: bool"
      ]
     },
     "execution_count": 1,
     "metadata": {},
     "output_type": "execute_result"
    }
   ],
   "source": [
    "validate_nz_bankaccount(df, column=\"bankaccount\")"
   ]
  },
  {
   "cell_type": "markdown",
   "id": "interim-situation",
   "metadata": {},
   "source": [
    "### Only DataFrame"
   ]
  },
  {
   "cell_type": "code",
   "execution_count": 12,
   "id": "electrical-conservative",
   "metadata": {
    "execution": {
     "iopub.execute_input": "2021-10-26T23:04:36.036263Z",
     "iopub.status.busy": "2021-10-26T23:04:36.035835Z",
     "iopub.status.idle": "2021-10-26T23:04:36.042666Z",
     "shell.execute_reply": "2021-10-26T23:04:36.042997Z"
    }
   },
   "outputs": [
    {
     "data": {
      "text/html": [
       "<div>\n",
       "<style scoped>\n",
       "    .dataframe tbody tr th:only-of-type {\n",
       "        vertical-align: middle;\n",
       "    }\n",
       "\n",
       "    .dataframe tbody tr th {\n",
       "        vertical-align: top;\n",
       "    }\n",
       "\n",
       "    .dataframe thead th {\n",
       "        text-align: right;\n",
       "    }\n",
       "</style>\n",
       "<table border=\"1\" class=\"dataframe\">\n",
       "  <thead>\n",
       "    <tr style=\"text-align: right;\">\n",
       "      <th></th>\n",
       "      <th>bankaccount</th>\n",
       "      <th>address</th>\n",
       "    </tr>\n",
       "  </thead>\n",
       "  <tbody>\n",
       "    <tr>\n",
       "      <th>0</th>\n",
       "      <td>True</td>\n",
       "      <td>False</td>\n",
       "    </tr>\n",
       "    <tr>\n",
       "      <th>1</th>\n",
       "      <td>False</td>\n",
       "      <td>False</td>\n",
       "    </tr>\n",
       "    <tr>\n",
       "      <th>2</th>\n",
       "      <td>False</td>\n",
       "      <td>False</td>\n",
       "    </tr>\n",
       "    <tr>\n",
       "      <th>3</th>\n",
       "      <td>False</td>\n",
       "      <td>False</td>\n",
       "    </tr>\n",
       "    <tr>\n",
       "      <th>4</th>\n",
       "      <td>False</td>\n",
       "      <td>False</td>\n",
       "    </tr>\n",
       "    <tr>\n",
       "      <th>5</th>\n",
       "      <td>False</td>\n",
       "      <td>False</td>\n",
       "    </tr>\n",
       "    <tr>\n",
       "      <th>6</th>\n",
       "      <td>False</td>\n",
       "      <td>False</td>\n",
       "    </tr>\n",
       "    <tr>\n",
       "      <th>7</th>\n",
       "      <td>False</td>\n",
       "      <td>False</td>\n",
       "    </tr>\n",
       "  </tbody>\n",
       "</table>\n",
       "</div>"
      ],
      "text/plain": [
       "   bankaccount  address\n",
       "0         True    False\n",
       "1        False    False\n",
       "2        False    False\n",
       "3        False    False\n",
       "4        False    False\n",
       "5        False    False\n",
       "6        False    False\n",
       "7        False    False"
      ]
     },
     "execution_count": 1,
     "metadata": {},
     "output_type": "execute_result"
    }
   ],
   "source": [
    "validate_nz_bankaccount(df)"
   ]
  },
  {
   "cell_type": "code",
   "execution_count": null,
   "id": "cleared-dairy",
   "metadata": {},
   "outputs": [],
   "source": []
  }
 ],
 "metadata": {
  "kernelspec": {
   "display_name": "Python 3",
   "language": "python",
   "name": "python3"
  },
  "language_info": {
   "codemirror_mode": {
    "name": "ipython",
    "version": 3
   },
   "file_extension": ".py",
   "mimetype": "text/x-python",
   "name": "python",
   "nbconvert_exporter": "python",
   "pygments_lexer": "ipython3",
   "version": "3.8.10"
  }
 },
 "nbformat": 4,
 "nbformat_minor": 5
}
