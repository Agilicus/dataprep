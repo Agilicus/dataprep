{
 "cells": [
  {
   "cell_type": "raw",
   "id": "indoor-confusion",
   "metadata": {},
   "source": [
    ".. _peid_userguide:\n",
    "\n",
    "PEID Strings\n",
    "============"
   ]
  },
  {
   "cell_type": "raw",
   "id": "therapeutic-three",
   "metadata": {},
   "source": [
    "Introduction\n",
    "------------\n",
    "\n",
    "The function :func:`clean_li_peid() <dataprep.clean.clean_li_peid.clean_li_peid>` cleans a column containing Liechtenstein tax code for individuals and entity (PEID) strings, and standardizes them in a given format. The function :func:`validate_li_peid() <dataprep.clean.clean_li_peid.validate_li_peid>` validates either a single PEID strings, a column of PEID strings or a DataFrame of PEID strings, returning `True` if the value is valid, and `False` otherwise."
   ]
  },
  {
   "cell_type": "markdown",
   "id": "asian-respect",
   "metadata": {},
   "source": [
    "PEID strings can be converted to the following formats via the `output_format` parameter:\n",
    "\n",
    "* `compact`: only number strings without any seperators or whitespace, like \"1234567\"\n",
    "* `standard`: PEID strings with proper whitespace in the proper places. Note that in the case of PEID, the compact format is the same as the standard one.\n",
    "\n",
    "Invalid parsing is handled with the `errors` parameter:\n",
    "\n",
    "* `coerce` (default): invalid parsing will be set to NaN\n",
    "* `ignore`: invalid parsing will return the input\n",
    "* `raise`: invalid parsing will raise an exception\n",
    "\n",
    "The following sections demonstrate the functionality of `clean_li_peid()` and `validate_li_peid()`. "
   ]
  },
  {
   "cell_type": "markdown",
   "id": "endangered-renewal",
   "metadata": {},
   "source": [
    "### An example dataset containing PEID strings"
   ]
  },
  {
   "cell_type": "code",
   "execution_count": 1,
   "id": "dried-walker",
   "metadata": {
    "execution": {
     "iopub.execute_input": "2021-10-26T23:40:23.915362Z",
     "iopub.status.busy": "2021-10-26T23:40:23.914506Z",
     "iopub.status.idle": "2021-10-26T23:40:24.214588Z",
     "shell.execute_reply": "2021-10-26T23:40:24.214082Z"
    }
   },
   "outputs": [
    {
     "data": {
      "text/html": [
       "<div>\n",
       "<style scoped>\n",
       "    .dataframe tbody tr th:only-of-type {\n",
       "        vertical-align: middle;\n",
       "    }\n",
       "\n",
       "    .dataframe tbody tr th {\n",
       "        vertical-align: top;\n",
       "    }\n",
       "\n",
       "    .dataframe thead th {\n",
       "        text-align: right;\n",
       "    }\n",
       "</style>\n",
       "<table border=\"1\" class=\"dataframe\">\n",
       "  <thead>\n",
       "    <tr style=\"text-align: right;\">\n",
       "      <th></th>\n",
       "      <th>peid</th>\n",
       "      <th>address</th>\n",
       "    </tr>\n",
       "  </thead>\n",
       "  <tbody>\n",
       "    <tr>\n",
       "      <th>0</th>\n",
       "      <td>00001234567</td>\n",
       "      <td>123 Pine Ave.</td>\n",
       "    </tr>\n",
       "    <tr>\n",
       "      <th>1</th>\n",
       "      <td>00001234568913454545</td>\n",
       "      <td>main st</td>\n",
       "    </tr>\n",
       "    <tr>\n",
       "      <th>2</th>\n",
       "      <td>BE 428759497</td>\n",
       "      <td>1234 west main heights 57033</td>\n",
       "    </tr>\n",
       "    <tr>\n",
       "      <th>3</th>\n",
       "      <td>BE431150351</td>\n",
       "      <td>apt 1 789 s maple rd manhattan</td>\n",
       "    </tr>\n",
       "    <tr>\n",
       "      <th>4</th>\n",
       "      <td>002 724 334</td>\n",
       "      <td>robie house, 789 north main street</td>\n",
       "    </tr>\n",
       "    <tr>\n",
       "      <th>5</th>\n",
       "      <td>hello</td>\n",
       "      <td>1111 S Figueroa St, Los Angeles, CA 90015</td>\n",
       "    </tr>\n",
       "    <tr>\n",
       "      <th>6</th>\n",
       "      <td>NaN</td>\n",
       "      <td>(staples center) 1111 S Figueroa St, Los Angeles</td>\n",
       "    </tr>\n",
       "    <tr>\n",
       "      <th>7</th>\n",
       "      <td>NULL</td>\n",
       "      <td>hello</td>\n",
       "    </tr>\n",
       "  </tbody>\n",
       "</table>\n",
       "</div>"
      ],
      "text/plain": [
       "                   peid                                           address\n",
       "0           00001234567                                     123 Pine Ave.\n",
       "1  00001234568913454545                                           main st\n",
       "2          BE 428759497                      1234 west main heights 57033\n",
       "3           BE431150351                    apt 1 789 s maple rd manhattan\n",
       "4           002 724 334                robie house, 789 north main street\n",
       "5                 hello         1111 S Figueroa St, Los Angeles, CA 90015\n",
       "6                   NaN  (staples center) 1111 S Figueroa St, Los Angeles\n",
       "7                  NULL                                             hello"
      ]
     },
     "execution_count": 1,
     "metadata": {},
     "output_type": "execute_result"
    }
   ],
   "source": [
    "import pandas as pd\n",
    "import numpy as np\n",
    "df = pd.DataFrame(\n",
    "    {\n",
    "        \"peid\": [\n",
    "            '00001234567',\n",
    "            '00001234568913454545',\n",
    "            'BE 428759497',\n",
    "            'BE431150351',\n",
    "            \"002 724 334\",\n",
    "            \"hello\",\n",
    "            np.nan,\n",
    "            \"NULL\",\n",
    "        ], \n",
    "        \"address\": [\n",
    "            \"123 Pine Ave.\",\n",
    "            \"main st\",\n",
    "            \"1234 west main heights 57033\",\n",
    "            \"apt 1 789 s maple rd manhattan\",\n",
    "            \"robie house, 789 north main street\",\n",
    "            \"1111 S Figueroa St, Los Angeles, CA 90015\",\n",
    "            \"(staples center) 1111 S Figueroa St, Los Angeles\",\n",
    "            \"hello\",\n",
    "        ]\n",
    "    }\n",
    ")\n",
    "df"
   ]
  },
  {
   "cell_type": "markdown",
   "id": "valuable-finder",
   "metadata": {},
   "source": [
    "## 1. Default `clean_li_peid`\n",
    "\n",
    "By default, `clean_li_peid` will clean peid strings and output them in the standard format with proper separators."
   ]
  },
  {
   "cell_type": "code",
   "execution_count": 2,
   "id": "guided-norway",
   "metadata": {
    "execution": {
     "iopub.execute_input": "2021-10-26T23:40:24.219813Z",
     "iopub.status.busy": "2021-10-26T23:40:24.218509Z",
     "iopub.status.idle": "2021-10-26T23:40:24.955630Z",
     "shell.execute_reply": "2021-10-26T23:40:24.955033Z"
    }
   },
   "outputs": [
    {
     "data": {
      "text/html": [
       "<div>\n",
       "<style scoped>\n",
       "    .dataframe tbody tr th:only-of-type {\n",
       "        vertical-align: middle;\n",
       "    }\n",
       "\n",
       "    .dataframe tbody tr th {\n",
       "        vertical-align: top;\n",
       "    }\n",
       "\n",
       "    .dataframe thead th {\n",
       "        text-align: right;\n",
       "    }\n",
       "</style>\n",
       "<table border=\"1\" class=\"dataframe\">\n",
       "  <thead>\n",
       "    <tr style=\"text-align: right;\">\n",
       "      <th></th>\n",
       "      <th>peid</th>\n",
       "      <th>address</th>\n",
       "      <th>peid_clean</th>\n",
       "    </tr>\n",
       "  </thead>\n",
       "  <tbody>\n",
       "    <tr>\n",
       "      <th>0</th>\n",
       "      <td>00001234567</td>\n",
       "      <td>123 Pine Ave.</td>\n",
       "      <td>1234567</td>\n",
       "    </tr>\n",
       "    <tr>\n",
       "      <th>1</th>\n",
       "      <td>00001234568913454545</td>\n",
       "      <td>main st</td>\n",
       "      <td>NaN</td>\n",
       "    </tr>\n",
       "    <tr>\n",
       "      <th>2</th>\n",
       "      <td>BE 428759497</td>\n",
       "      <td>1234 west main heights 57033</td>\n",
       "      <td>NaN</td>\n",
       "    </tr>\n",
       "    <tr>\n",
       "      <th>3</th>\n",
       "      <td>BE431150351</td>\n",
       "      <td>apt 1 789 s maple rd manhattan</td>\n",
       "      <td>NaN</td>\n",
       "    </tr>\n",
       "    <tr>\n",
       "      <th>4</th>\n",
       "      <td>002 724 334</td>\n",
       "      <td>robie house, 789 north main street</td>\n",
       "      <td>2724334</td>\n",
       "    </tr>\n",
       "    <tr>\n",
       "      <th>5</th>\n",
       "      <td>hello</td>\n",
       "      <td>1111 S Figueroa St, Los Angeles, CA 90015</td>\n",
       "      <td>NaN</td>\n",
       "    </tr>\n",
       "    <tr>\n",
       "      <th>6</th>\n",
       "      <td>NaN</td>\n",
       "      <td>(staples center) 1111 S Figueroa St, Los Angeles</td>\n",
       "      <td>NaN</td>\n",
       "    </tr>\n",
       "    <tr>\n",
       "      <th>7</th>\n",
       "      <td>NULL</td>\n",
       "      <td>hello</td>\n",
       "      <td>NaN</td>\n",
       "    </tr>\n",
       "  </tbody>\n",
       "</table>\n",
       "</div>"
      ],
      "text/plain": [
       "                   peid                                           address  \\\n",
       "0           00001234567                                     123 Pine Ave.   \n",
       "1  00001234568913454545                                           main st   \n",
       "2          BE 428759497                      1234 west main heights 57033   \n",
       "3           BE431150351                    apt 1 789 s maple rd manhattan   \n",
       "4           002 724 334                robie house, 789 north main street   \n",
       "5                 hello         1111 S Figueroa St, Los Angeles, CA 90015   \n",
       "6                   NaN  (staples center) 1111 S Figueroa St, Los Angeles   \n",
       "7                  NULL                                             hello   \n",
       "\n",
       "  peid_clean  \n",
       "0    1234567  \n",
       "1        NaN  \n",
       "2        NaN  \n",
       "3        NaN  \n",
       "4    2724334  \n",
       "5        NaN  \n",
       "6        NaN  \n",
       "7        NaN  "
      ]
     },
     "execution_count": 1,
     "metadata": {},
     "output_type": "execute_result"
    }
   ],
   "source": [
    "from dataprep.clean import clean_li_peid\n",
    "clean_li_peid(df, column = \"peid\")"
   ]
  },
  {
   "cell_type": "markdown",
   "id": "vocational-legend",
   "metadata": {},
   "source": [
    "## 2. Output formats"
   ]
  },
  {
   "cell_type": "markdown",
   "id": "boxed-difference",
   "metadata": {},
   "source": [
    "This section demonstrates the output parameter."
   ]
  },
  {
   "cell_type": "markdown",
   "id": "compressed-estimate",
   "metadata": {},
   "source": [
    "### `standard` (default)"
   ]
  },
  {
   "cell_type": "code",
   "execution_count": 3,
   "id": "accepted-secretary",
   "metadata": {
    "execution": {
     "iopub.execute_input": "2021-10-26T23:40:24.988070Z",
     "iopub.status.busy": "2021-10-26T23:40:24.982794Z",
     "iopub.status.idle": "2021-10-26T23:40:24.999223Z",
     "shell.execute_reply": "2021-10-26T23:40:24.998552Z"
    }
   },
   "outputs": [
    {
     "data": {
      "text/html": [
       "<div>\n",
       "<style scoped>\n",
       "    .dataframe tbody tr th:only-of-type {\n",
       "        vertical-align: middle;\n",
       "    }\n",
       "\n",
       "    .dataframe tbody tr th {\n",
       "        vertical-align: top;\n",
       "    }\n",
       "\n",
       "    .dataframe thead th {\n",
       "        text-align: right;\n",
       "    }\n",
       "</style>\n",
       "<table border=\"1\" class=\"dataframe\">\n",
       "  <thead>\n",
       "    <tr style=\"text-align: right;\">\n",
       "      <th></th>\n",
       "      <th>peid</th>\n",
       "      <th>address</th>\n",
       "      <th>peid_clean</th>\n",
       "    </tr>\n",
       "  </thead>\n",
       "  <tbody>\n",
       "    <tr>\n",
       "      <th>0</th>\n",
       "      <td>00001234567</td>\n",
       "      <td>123 Pine Ave.</td>\n",
       "      <td>1234567</td>\n",
       "    </tr>\n",
       "    <tr>\n",
       "      <th>1</th>\n",
       "      <td>00001234568913454545</td>\n",
       "      <td>main st</td>\n",
       "      <td>NaN</td>\n",
       "    </tr>\n",
       "    <tr>\n",
       "      <th>2</th>\n",
       "      <td>BE 428759497</td>\n",
       "      <td>1234 west main heights 57033</td>\n",
       "      <td>NaN</td>\n",
       "    </tr>\n",
       "    <tr>\n",
       "      <th>3</th>\n",
       "      <td>BE431150351</td>\n",
       "      <td>apt 1 789 s maple rd manhattan</td>\n",
       "      <td>NaN</td>\n",
       "    </tr>\n",
       "    <tr>\n",
       "      <th>4</th>\n",
       "      <td>002 724 334</td>\n",
       "      <td>robie house, 789 north main street</td>\n",
       "      <td>2724334</td>\n",
       "    </tr>\n",
       "    <tr>\n",
       "      <th>5</th>\n",
       "      <td>hello</td>\n",
       "      <td>1111 S Figueroa St, Los Angeles, CA 90015</td>\n",
       "      <td>NaN</td>\n",
       "    </tr>\n",
       "    <tr>\n",
       "      <th>6</th>\n",
       "      <td>NaN</td>\n",
       "      <td>(staples center) 1111 S Figueroa St, Los Angeles</td>\n",
       "      <td>NaN</td>\n",
       "    </tr>\n",
       "    <tr>\n",
       "      <th>7</th>\n",
       "      <td>NULL</td>\n",
       "      <td>hello</td>\n",
       "      <td>NaN</td>\n",
       "    </tr>\n",
       "  </tbody>\n",
       "</table>\n",
       "</div>"
      ],
      "text/plain": [
       "                   peid                                           address  \\\n",
       "0           00001234567                                     123 Pine Ave.   \n",
       "1  00001234568913454545                                           main st   \n",
       "2          BE 428759497                      1234 west main heights 57033   \n",
       "3           BE431150351                    apt 1 789 s maple rd manhattan   \n",
       "4           002 724 334                robie house, 789 north main street   \n",
       "5                 hello         1111 S Figueroa St, Los Angeles, CA 90015   \n",
       "6                   NaN  (staples center) 1111 S Figueroa St, Los Angeles   \n",
       "7                  NULL                                             hello   \n",
       "\n",
       "  peid_clean  \n",
       "0    1234567  \n",
       "1        NaN  \n",
       "2        NaN  \n",
       "3        NaN  \n",
       "4    2724334  \n",
       "5        NaN  \n",
       "6        NaN  \n",
       "7        NaN  "
      ]
     },
     "execution_count": 1,
     "metadata": {},
     "output_type": "execute_result"
    }
   ],
   "source": [
    "clean_li_peid(df, column = \"peid\", output_format=\"standard\")"
   ]
  },
  {
   "cell_type": "markdown",
   "id": "increasing-witch",
   "metadata": {},
   "source": [
    "### `compact`"
   ]
  },
  {
   "cell_type": "code",
   "execution_count": 4,
   "id": "acceptable-evolution",
   "metadata": {
    "execution": {
     "iopub.execute_input": "2021-10-26T23:40:25.030102Z",
     "iopub.status.busy": "2021-10-26T23:40:25.029255Z",
     "iopub.status.idle": "2021-10-26T23:40:25.038742Z",
     "shell.execute_reply": "2021-10-26T23:40:25.038065Z"
    }
   },
   "outputs": [
    {
     "data": {
      "text/html": [
       "<div>\n",
       "<style scoped>\n",
       "    .dataframe tbody tr th:only-of-type {\n",
       "        vertical-align: middle;\n",
       "    }\n",
       "\n",
       "    .dataframe tbody tr th {\n",
       "        vertical-align: top;\n",
       "    }\n",
       "\n",
       "    .dataframe thead th {\n",
       "        text-align: right;\n",
       "    }\n",
       "</style>\n",
       "<table border=\"1\" class=\"dataframe\">\n",
       "  <thead>\n",
       "    <tr style=\"text-align: right;\">\n",
       "      <th></th>\n",
       "      <th>peid</th>\n",
       "      <th>address</th>\n",
       "      <th>peid_clean</th>\n",
       "    </tr>\n",
       "  </thead>\n",
       "  <tbody>\n",
       "    <tr>\n",
       "      <th>0</th>\n",
       "      <td>00001234567</td>\n",
       "      <td>123 Pine Ave.</td>\n",
       "      <td>1234567</td>\n",
       "    </tr>\n",
       "    <tr>\n",
       "      <th>1</th>\n",
       "      <td>00001234568913454545</td>\n",
       "      <td>main st</td>\n",
       "      <td>NaN</td>\n",
       "    </tr>\n",
       "    <tr>\n",
       "      <th>2</th>\n",
       "      <td>BE 428759497</td>\n",
       "      <td>1234 west main heights 57033</td>\n",
       "      <td>NaN</td>\n",
       "    </tr>\n",
       "    <tr>\n",
       "      <th>3</th>\n",
       "      <td>BE431150351</td>\n",
       "      <td>apt 1 789 s maple rd manhattan</td>\n",
       "      <td>NaN</td>\n",
       "    </tr>\n",
       "    <tr>\n",
       "      <th>4</th>\n",
       "      <td>002 724 334</td>\n",
       "      <td>robie house, 789 north main street</td>\n",
       "      <td>2724334</td>\n",
       "    </tr>\n",
       "    <tr>\n",
       "      <th>5</th>\n",
       "      <td>hello</td>\n",
       "      <td>1111 S Figueroa St, Los Angeles, CA 90015</td>\n",
       "      <td>NaN</td>\n",
       "    </tr>\n",
       "    <tr>\n",
       "      <th>6</th>\n",
       "      <td>NaN</td>\n",
       "      <td>(staples center) 1111 S Figueroa St, Los Angeles</td>\n",
       "      <td>NaN</td>\n",
       "    </tr>\n",
       "    <tr>\n",
       "      <th>7</th>\n",
       "      <td>NULL</td>\n",
       "      <td>hello</td>\n",
       "      <td>NaN</td>\n",
       "    </tr>\n",
       "  </tbody>\n",
       "</table>\n",
       "</div>"
      ],
      "text/plain": [
       "                   peid                                           address  \\\n",
       "0           00001234567                                     123 Pine Ave.   \n",
       "1  00001234568913454545                                           main st   \n",
       "2          BE 428759497                      1234 west main heights 57033   \n",
       "3           BE431150351                    apt 1 789 s maple rd manhattan   \n",
       "4           002 724 334                robie house, 789 north main street   \n",
       "5                 hello         1111 S Figueroa St, Los Angeles, CA 90015   \n",
       "6                   NaN  (staples center) 1111 S Figueroa St, Los Angeles   \n",
       "7                  NULL                                             hello   \n",
       "\n",
       "  peid_clean  \n",
       "0    1234567  \n",
       "1        NaN  \n",
       "2        NaN  \n",
       "3        NaN  \n",
       "4    2724334  \n",
       "5        NaN  \n",
       "6        NaN  \n",
       "7        NaN  "
      ]
     },
     "execution_count": 1,
     "metadata": {},
     "output_type": "execute_result"
    }
   ],
   "source": [
    "clean_li_peid(df, column = \"peid\", output_format=\"compact\")"
   ]
  },
  {
   "cell_type": "markdown",
   "id": "reflected-accreditation",
   "metadata": {},
   "source": [
    "## 3. `inplace` parameter\n",
    "\n",
    "This deletes the given column from the returned DataFrame. \n",
    "A new column containing cleaned PEID strings is added with a title in the format `\"{original title}_clean\"`."
   ]
  },
  {
   "cell_type": "code",
   "execution_count": 5,
   "id": "dying-combining",
   "metadata": {
    "execution": {
     "iopub.execute_input": "2021-10-26T23:40:25.089153Z",
     "iopub.status.busy": "2021-10-26T23:40:25.082694Z",
     "iopub.status.idle": "2021-10-26T23:40:25.094273Z",
     "shell.execute_reply": "2021-10-26T23:40:25.094758Z"
    }
   },
   "outputs": [
    {
     "data": {
      "text/html": [
       "<div>\n",
       "<style scoped>\n",
       "    .dataframe tbody tr th:only-of-type {\n",
       "        vertical-align: middle;\n",
       "    }\n",
       "\n",
       "    .dataframe tbody tr th {\n",
       "        vertical-align: top;\n",
       "    }\n",
       "\n",
       "    .dataframe thead th {\n",
       "        text-align: right;\n",
       "    }\n",
       "</style>\n",
       "<table border=\"1\" class=\"dataframe\">\n",
       "  <thead>\n",
       "    <tr style=\"text-align: right;\">\n",
       "      <th></th>\n",
       "      <th>peid_clean</th>\n",
       "      <th>address</th>\n",
       "    </tr>\n",
       "  </thead>\n",
       "  <tbody>\n",
       "    <tr>\n",
       "      <th>0</th>\n",
       "      <td>1234567</td>\n",
       "      <td>123 Pine Ave.</td>\n",
       "    </tr>\n",
       "    <tr>\n",
       "      <th>1</th>\n",
       "      <td>NaN</td>\n",
       "      <td>main st</td>\n",
       "    </tr>\n",
       "    <tr>\n",
       "      <th>2</th>\n",
       "      <td>NaN</td>\n",
       "      <td>1234 west main heights 57033</td>\n",
       "    </tr>\n",
       "    <tr>\n",
       "      <th>3</th>\n",
       "      <td>NaN</td>\n",
       "      <td>apt 1 789 s maple rd manhattan</td>\n",
       "    </tr>\n",
       "    <tr>\n",
       "      <th>4</th>\n",
       "      <td>2724334</td>\n",
       "      <td>robie house, 789 north main street</td>\n",
       "    </tr>\n",
       "    <tr>\n",
       "      <th>5</th>\n",
       "      <td>NaN</td>\n",
       "      <td>1111 S Figueroa St, Los Angeles, CA 90015</td>\n",
       "    </tr>\n",
       "    <tr>\n",
       "      <th>6</th>\n",
       "      <td>NaN</td>\n",
       "      <td>(staples center) 1111 S Figueroa St, Los Angeles</td>\n",
       "    </tr>\n",
       "    <tr>\n",
       "      <th>7</th>\n",
       "      <td>NaN</td>\n",
       "      <td>hello</td>\n",
       "    </tr>\n",
       "  </tbody>\n",
       "</table>\n",
       "</div>"
      ],
      "text/plain": [
       "  peid_clean                                           address\n",
       "0    1234567                                     123 Pine Ave.\n",
       "1        NaN                                           main st\n",
       "2        NaN                      1234 west main heights 57033\n",
       "3        NaN                    apt 1 789 s maple rd manhattan\n",
       "4    2724334                robie house, 789 north main street\n",
       "5        NaN         1111 S Figueroa St, Los Angeles, CA 90015\n",
       "6        NaN  (staples center) 1111 S Figueroa St, Los Angeles\n",
       "7        NaN                                             hello"
      ]
     },
     "execution_count": 1,
     "metadata": {},
     "output_type": "execute_result"
    }
   ],
   "source": [
    "clean_li_peid(df, column=\"peid\", inplace=True)"
   ]
  },
  {
   "cell_type": "markdown",
   "id": "organized-bangkok",
   "metadata": {},
   "source": [
    "## 4. `errors` parameter"
   ]
  },
  {
   "cell_type": "markdown",
   "id": "political-reflection",
   "metadata": {},
   "source": [
    "### `coerce` (default)"
   ]
  },
  {
   "cell_type": "code",
   "execution_count": 6,
   "id": "increased-buffalo",
   "metadata": {
    "execution": {
     "iopub.execute_input": "2021-10-26T23:40:25.127096Z",
     "iopub.status.busy": "2021-10-26T23:40:25.104057Z",
     "iopub.status.idle": "2021-10-26T23:40:25.138319Z",
     "shell.execute_reply": "2021-10-26T23:40:25.138839Z"
    }
   },
   "outputs": [
    {
     "data": {
      "text/html": [
       "<div>\n",
       "<style scoped>\n",
       "    .dataframe tbody tr th:only-of-type {\n",
       "        vertical-align: middle;\n",
       "    }\n",
       "\n",
       "    .dataframe tbody tr th {\n",
       "        vertical-align: top;\n",
       "    }\n",
       "\n",
       "    .dataframe thead th {\n",
       "        text-align: right;\n",
       "    }\n",
       "</style>\n",
       "<table border=\"1\" class=\"dataframe\">\n",
       "  <thead>\n",
       "    <tr style=\"text-align: right;\">\n",
       "      <th></th>\n",
       "      <th>peid</th>\n",
       "      <th>address</th>\n",
       "      <th>peid_clean</th>\n",
       "    </tr>\n",
       "  </thead>\n",
       "  <tbody>\n",
       "    <tr>\n",
       "      <th>0</th>\n",
       "      <td>00001234567</td>\n",
       "      <td>123 Pine Ave.</td>\n",
       "      <td>1234567</td>\n",
       "    </tr>\n",
       "    <tr>\n",
       "      <th>1</th>\n",
       "      <td>00001234568913454545</td>\n",
       "      <td>main st</td>\n",
       "      <td>NaN</td>\n",
       "    </tr>\n",
       "    <tr>\n",
       "      <th>2</th>\n",
       "      <td>BE 428759497</td>\n",
       "      <td>1234 west main heights 57033</td>\n",
       "      <td>NaN</td>\n",
       "    </tr>\n",
       "    <tr>\n",
       "      <th>3</th>\n",
       "      <td>BE431150351</td>\n",
       "      <td>apt 1 789 s maple rd manhattan</td>\n",
       "      <td>NaN</td>\n",
       "    </tr>\n",
       "    <tr>\n",
       "      <th>4</th>\n",
       "      <td>002 724 334</td>\n",
       "      <td>robie house, 789 north main street</td>\n",
       "      <td>2724334</td>\n",
       "    </tr>\n",
       "    <tr>\n",
       "      <th>5</th>\n",
       "      <td>hello</td>\n",
       "      <td>1111 S Figueroa St, Los Angeles, CA 90015</td>\n",
       "      <td>NaN</td>\n",
       "    </tr>\n",
       "    <tr>\n",
       "      <th>6</th>\n",
       "      <td>NaN</td>\n",
       "      <td>(staples center) 1111 S Figueroa St, Los Angeles</td>\n",
       "      <td>NaN</td>\n",
       "    </tr>\n",
       "    <tr>\n",
       "      <th>7</th>\n",
       "      <td>NULL</td>\n",
       "      <td>hello</td>\n",
       "      <td>NaN</td>\n",
       "    </tr>\n",
       "  </tbody>\n",
       "</table>\n",
       "</div>"
      ],
      "text/plain": [
       "                   peid                                           address  \\\n",
       "0           00001234567                                     123 Pine Ave.   \n",
       "1  00001234568913454545                                           main st   \n",
       "2          BE 428759497                      1234 west main heights 57033   \n",
       "3           BE431150351                    apt 1 789 s maple rd manhattan   \n",
       "4           002 724 334                robie house, 789 north main street   \n",
       "5                 hello         1111 S Figueroa St, Los Angeles, CA 90015   \n",
       "6                   NaN  (staples center) 1111 S Figueroa St, Los Angeles   \n",
       "7                  NULL                                             hello   \n",
       "\n",
       "  peid_clean  \n",
       "0    1234567  \n",
       "1        NaN  \n",
       "2        NaN  \n",
       "3        NaN  \n",
       "4    2724334  \n",
       "5        NaN  \n",
       "6        NaN  \n",
       "7        NaN  "
      ]
     },
     "execution_count": 1,
     "metadata": {},
     "output_type": "execute_result"
    }
   ],
   "source": [
    "clean_li_peid(df, \"peid\", errors=\"coerce\")"
   ]
  },
  {
   "cell_type": "markdown",
   "id": "optimum-oxide",
   "metadata": {},
   "source": [
    "### `ignore`"
   ]
  },
  {
   "cell_type": "code",
   "execution_count": 7,
   "id": "acknowledged-lease",
   "metadata": {
    "execution": {
     "iopub.execute_input": "2021-10-26T23:40:25.166138Z",
     "iopub.status.busy": "2021-10-26T23:40:25.163748Z",
     "iopub.status.idle": "2021-10-26T23:40:25.180859Z",
     "shell.execute_reply": "2021-10-26T23:40:25.179746Z"
    }
   },
   "outputs": [
    {
     "data": {
      "text/html": [
       "<div>\n",
       "<style scoped>\n",
       "    .dataframe tbody tr th:only-of-type {\n",
       "        vertical-align: middle;\n",
       "    }\n",
       "\n",
       "    .dataframe tbody tr th {\n",
       "        vertical-align: top;\n",
       "    }\n",
       "\n",
       "    .dataframe thead th {\n",
       "        text-align: right;\n",
       "    }\n",
       "</style>\n",
       "<table border=\"1\" class=\"dataframe\">\n",
       "  <thead>\n",
       "    <tr style=\"text-align: right;\">\n",
       "      <th></th>\n",
       "      <th>peid</th>\n",
       "      <th>address</th>\n",
       "      <th>peid_clean</th>\n",
       "    </tr>\n",
       "  </thead>\n",
       "  <tbody>\n",
       "    <tr>\n",
       "      <th>0</th>\n",
       "      <td>00001234567</td>\n",
       "      <td>123 Pine Ave.</td>\n",
       "      <td>1234567</td>\n",
       "    </tr>\n",
       "    <tr>\n",
       "      <th>1</th>\n",
       "      <td>00001234568913454545</td>\n",
       "      <td>main st</td>\n",
       "      <td>00001234568913454545</td>\n",
       "    </tr>\n",
       "    <tr>\n",
       "      <th>2</th>\n",
       "      <td>BE 428759497</td>\n",
       "      <td>1234 west main heights 57033</td>\n",
       "      <td>BE 428759497</td>\n",
       "    </tr>\n",
       "    <tr>\n",
       "      <th>3</th>\n",
       "      <td>BE431150351</td>\n",
       "      <td>apt 1 789 s maple rd manhattan</td>\n",
       "      <td>BE431150351</td>\n",
       "    </tr>\n",
       "    <tr>\n",
       "      <th>4</th>\n",
       "      <td>002 724 334</td>\n",
       "      <td>robie house, 789 north main street</td>\n",
       "      <td>2724334</td>\n",
       "    </tr>\n",
       "    <tr>\n",
       "      <th>5</th>\n",
       "      <td>hello</td>\n",
       "      <td>1111 S Figueroa St, Los Angeles, CA 90015</td>\n",
       "      <td>hello</td>\n",
       "    </tr>\n",
       "    <tr>\n",
       "      <th>6</th>\n",
       "      <td>NaN</td>\n",
       "      <td>(staples center) 1111 S Figueroa St, Los Angeles</td>\n",
       "      <td>NaN</td>\n",
       "    </tr>\n",
       "    <tr>\n",
       "      <th>7</th>\n",
       "      <td>NULL</td>\n",
       "      <td>hello</td>\n",
       "      <td>NaN</td>\n",
       "    </tr>\n",
       "  </tbody>\n",
       "</table>\n",
       "</div>"
      ],
      "text/plain": [
       "                   peid                                           address  \\\n",
       "0           00001234567                                     123 Pine Ave.   \n",
       "1  00001234568913454545                                           main st   \n",
       "2          BE 428759497                      1234 west main heights 57033   \n",
       "3           BE431150351                    apt 1 789 s maple rd manhattan   \n",
       "4           002 724 334                robie house, 789 north main street   \n",
       "5                 hello         1111 S Figueroa St, Los Angeles, CA 90015   \n",
       "6                   NaN  (staples center) 1111 S Figueroa St, Los Angeles   \n",
       "7                  NULL                                             hello   \n",
       "\n",
       "             peid_clean  \n",
       "0               1234567  \n",
       "1  00001234568913454545  \n",
       "2          BE 428759497  \n",
       "3           BE431150351  \n",
       "4               2724334  \n",
       "5                 hello  \n",
       "6                   NaN  \n",
       "7                   NaN  "
      ]
     },
     "execution_count": 1,
     "metadata": {},
     "output_type": "execute_result"
    }
   ],
   "source": [
    "clean_li_peid(df, \"peid\", errors=\"ignore\")"
   ]
  },
  {
   "cell_type": "markdown",
   "id": "wired-style",
   "metadata": {},
   "source": [
    "## 4. `validate_li_peid()`"
   ]
  },
  {
   "cell_type": "markdown",
   "id": "incoming-burlington",
   "metadata": {},
   "source": [
    "`validate_li_peid()` returns `True` when the input is a valid PEID. Otherwise it returns `False`.\n",
    "\n",
    "The input of `validate_li_peid()` can be a string, a Pandas DataSeries, a Dask DataSeries, a Pandas DataFrame and a dask DataFrame.\n",
    "\n",
    "When the input is a string, a Pandas DataSeries or a Dask DataSeries, user doesn't need to specify a column name to be validated. \n",
    "\n",
    "When the input is a Pandas DataFrame or a dask DataFrame, user can both specify or not specify a column name to be validated. If user specify the column name, `validate_li_peid()` only returns the validation result for the specified column. If user doesn't specify the column name, `validate_li_peid()` returns the validation result for the whole DataFrame."
   ]
  },
  {
   "cell_type": "code",
   "execution_count": 8,
   "id": "healthy-greenhouse",
   "metadata": {
    "execution": {
     "iopub.execute_input": "2021-10-26T23:40:25.190775Z",
     "iopub.status.busy": "2021-10-26T23:40:25.189555Z",
     "iopub.status.idle": "2021-10-26T23:40:25.204213Z",
     "shell.execute_reply": "2021-10-26T23:40:25.204717Z"
    }
   },
   "outputs": [
    {
     "name": "stdout",
     "output_type": "stream",
     "text": [
      "True\n",
      "False\n",
      "False\n",
      "False\n",
      "True\n",
      "False\n",
      "False\n",
      "False\n"
     ]
    }
   ],
   "source": [
    "from dataprep.clean import validate_li_peid\n",
    "print(validate_li_peid(\"00001234567\"))\n",
    "print(validate_li_peid(\"00001234568913454545\"))\n",
    "print(validate_li_peid('BE 428759497'))\n",
    "print(validate_li_peid('BE431150351'))\n",
    "print(validate_li_peid(\"004085616\"))\n",
    "print(validate_li_peid(\"hello\"))\n",
    "print(validate_li_peid(np.nan))\n",
    "print(validate_li_peid(\"NULL\"))"
   ]
  },
  {
   "cell_type": "markdown",
   "id": "specified-mainstream",
   "metadata": {},
   "source": [
    "### Series"
   ]
  },
  {
   "cell_type": "code",
   "execution_count": 9,
   "id": "dying-albuquerque",
   "metadata": {
    "execution": {
     "iopub.execute_input": "2021-10-26T23:40:25.210783Z",
     "iopub.status.busy": "2021-10-26T23:40:25.209900Z",
     "iopub.status.idle": "2021-10-26T23:40:25.215701Z",
     "shell.execute_reply": "2021-10-26T23:40:25.216167Z"
    }
   },
   "outputs": [
    {
     "data": {
      "text/plain": [
       "0     True\n",
       "1    False\n",
       "2    False\n",
       "3    False\n",
       "4     True\n",
       "5    False\n",
       "6    False\n",
       "7    False\n",
       "Name: peid, dtype: bool"
      ]
     },
     "execution_count": 1,
     "metadata": {},
     "output_type": "execute_result"
    }
   ],
   "source": [
    "validate_li_peid(df[\"peid\"])"
   ]
  },
  {
   "cell_type": "markdown",
   "id": "spiritual-grant",
   "metadata": {},
   "source": [
    "### DataFrame + Specify Column"
   ]
  },
  {
   "cell_type": "code",
   "execution_count": 10,
   "id": "treated-radio",
   "metadata": {
    "execution": {
     "iopub.execute_input": "2021-10-26T23:40:25.222200Z",
     "iopub.status.busy": "2021-10-26T23:40:25.221407Z",
     "iopub.status.idle": "2021-10-26T23:40:25.226403Z",
     "shell.execute_reply": "2021-10-26T23:40:25.226986Z"
    }
   },
   "outputs": [
    {
     "data": {
      "text/plain": [
       "0     True\n",
       "1    False\n",
       "2    False\n",
       "3    False\n",
       "4     True\n",
       "5    False\n",
       "6    False\n",
       "7    False\n",
       "Name: peid, dtype: bool"
      ]
     },
     "execution_count": 1,
     "metadata": {},
     "output_type": "execute_result"
    }
   ],
   "source": [
    "validate_li_peid(df, column=\"peid\")"
   ]
  },
  {
   "cell_type": "markdown",
   "id": "laden-reader",
   "metadata": {},
   "source": [
    "### Only DataFrame"
   ]
  },
  {
   "cell_type": "code",
   "execution_count": 11,
   "id": "homeless-november",
   "metadata": {
    "execution": {
     "iopub.execute_input": "2021-10-26T23:40:25.231252Z",
     "iopub.status.busy": "2021-10-26T23:40:25.230665Z",
     "iopub.status.idle": "2021-10-26T23:40:25.240244Z",
     "shell.execute_reply": "2021-10-26T23:40:25.240743Z"
    }
   },
   "outputs": [
    {
     "data": {
      "text/html": [
       "<div>\n",
       "<style scoped>\n",
       "    .dataframe tbody tr th:only-of-type {\n",
       "        vertical-align: middle;\n",
       "    }\n",
       "\n",
       "    .dataframe tbody tr th {\n",
       "        vertical-align: top;\n",
       "    }\n",
       "\n",
       "    .dataframe thead th {\n",
       "        text-align: right;\n",
       "    }\n",
       "</style>\n",
       "<table border=\"1\" class=\"dataframe\">\n",
       "  <thead>\n",
       "    <tr style=\"text-align: right;\">\n",
       "      <th></th>\n",
       "      <th>peid</th>\n",
       "      <th>address</th>\n",
       "    </tr>\n",
       "  </thead>\n",
       "  <tbody>\n",
       "    <tr>\n",
       "      <th>0</th>\n",
       "      <td>True</td>\n",
       "      <td>False</td>\n",
       "    </tr>\n",
       "    <tr>\n",
       "      <th>1</th>\n",
       "      <td>False</td>\n",
       "      <td>False</td>\n",
       "    </tr>\n",
       "    <tr>\n",
       "      <th>2</th>\n",
       "      <td>False</td>\n",
       "      <td>False</td>\n",
       "    </tr>\n",
       "    <tr>\n",
       "      <th>3</th>\n",
       "      <td>False</td>\n",
       "      <td>False</td>\n",
       "    </tr>\n",
       "    <tr>\n",
       "      <th>4</th>\n",
       "      <td>True</td>\n",
       "      <td>False</td>\n",
       "    </tr>\n",
       "    <tr>\n",
       "      <th>5</th>\n",
       "      <td>False</td>\n",
       "      <td>False</td>\n",
       "    </tr>\n",
       "    <tr>\n",
       "      <th>6</th>\n",
       "      <td>False</td>\n",
       "      <td>False</td>\n",
       "    </tr>\n",
       "    <tr>\n",
       "      <th>7</th>\n",
       "      <td>False</td>\n",
       "      <td>False</td>\n",
       "    </tr>\n",
       "  </tbody>\n",
       "</table>\n",
       "</div>"
      ],
      "text/plain": [
       "    peid  address\n",
       "0   True    False\n",
       "1  False    False\n",
       "2  False    False\n",
       "3  False    False\n",
       "4   True    False\n",
       "5  False    False\n",
       "6  False    False\n",
       "7  False    False"
      ]
     },
     "execution_count": 1,
     "metadata": {},
     "output_type": "execute_result"
    }
   ],
   "source": [
    "validate_li_peid(df)"
   ]
  },
  {
   "cell_type": "code",
   "execution_count": null,
   "id": "black-athens",
   "metadata": {},
   "outputs": [],
   "source": []
  }
 ],
 "metadata": {
  "kernelspec": {
   "display_name": "Python 3",
   "language": "python",
   "name": "python3"
  },
  "language_info": {
   "codemirror_mode": {
    "name": "ipython",
    "version": 3
   },
   "file_extension": ".py",
   "mimetype": "text/x-python",
   "name": "python",
   "nbconvert_exporter": "python",
   "pygments_lexer": "ipython3",
   "version": "3.8.10"
  }
 },
 "nbformat": 4,
 "nbformat_minor": 5
}
