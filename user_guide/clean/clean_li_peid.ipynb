{
 "cells": [
  {
   "cell_type": "markdown",
   "id": "northern-julian",
   "metadata": {},
   "source": [
    "# Liechtenstein Tax Code For Individuals And Entities"
   ]
  },
  {
   "cell_type": "markdown",
   "id": "physical-determination",
   "metadata": {},
   "source": [
    "## Introduction"
   ]
  },
  {
   "cell_type": "markdown",
   "id": "dated-orange",
   "metadata": {},
   "source": [
    "The function `clean_li_peid()` cleans a column containing Liechtenstein tax code for individuals and entity (PEID) strings, and standardizes them in a given format. The function `validate_li_peid()` validates either a single PEID strings, a column of PEID strings or a DataFrame of PEID strings, returning `True` if the value is valid, and `False` otherwise."
   ]
  },
  {
   "cell_type": "markdown",
   "id": "invalid-diagnosis",
   "metadata": {},
   "source": [
    "PEID strings can be converted to the following formats via the `output_format` parameter:\n",
    "\n",
    "* `compact`: only number strings without any seperators or whitespace, like \"1234567\"\n",
    "* `standard`: PEID strings with proper whitespace in the proper places. Note that in the case of PEID, the compact format is the same as the standard one.\n",
    "\n",
    "Invalid parsing is handled with the `errors` parameter:\n",
    "\n",
    "* `coerce` (default): invalid parsing will be set to NaN\n",
    "* `ignore`: invalid parsing will return the input\n",
    "* `raise`: invalid parsing will raise an exception\n",
    "\n",
    "The following sections demonstrate the functionality of `clean_li_peid()` and `validate_li_peid()`. "
   ]
  },
  {
   "cell_type": "markdown",
   "id": "optimum-passion",
   "metadata": {},
   "source": [
    "### An example dataset containing PEID strings"
   ]
  },
  {
   "cell_type": "code",
   "execution_count": 1,
   "id": "independent-conflict",
   "metadata": {
    "execution": {
     "iopub.execute_input": "2021-11-04T02:15:08.923994Z",
     "iopub.status.busy": "2021-11-04T02:15:08.923516Z",
     "iopub.status.idle": "2021-11-04T02:15:09.151180Z",
     "shell.execute_reply": "2021-11-04T02:15:09.150764Z"
    }
   },
   "outputs": [
    {
     "data": {
      "text/html": [
       "<div>\n",
       "<style scoped>\n",
       "    .dataframe tbody tr th:only-of-type {\n",
       "        vertical-align: middle;\n",
       "    }\n",
       "\n",
       "    .dataframe tbody tr th {\n",
       "        vertical-align: top;\n",
       "    }\n",
       "\n",
       "    .dataframe thead th {\n",
       "        text-align: right;\n",
       "    }\n",
       "</style>\n",
       "<table border=\"1\" class=\"dataframe\">\n",
       "  <thead>\n",
       "    <tr style=\"text-align: right;\">\n",
       "      <th></th>\n",
       "      <th>peid</th>\n",
       "      <th>address</th>\n",
       "    </tr>\n",
       "  </thead>\n",
       "  <tbody>\n",
       "    <tr>\n",
       "      <th>0</th>\n",
       "      <td>00001234567</td>\n",
       "      <td>123 Pine Ave.</td>\n",
       "    </tr>\n",
       "    <tr>\n",
       "      <th>1</th>\n",
       "      <td>00001234568913454545</td>\n",
       "      <td>main st</td>\n",
       "    </tr>\n",
       "    <tr>\n",
       "      <th>2</th>\n",
       "      <td>BE 428759497</td>\n",
       "      <td>1234 west main heights 57033</td>\n",
       "    </tr>\n",
       "    <tr>\n",
       "      <th>3</th>\n",
       "      <td>BE431150351</td>\n",
       "      <td>apt 1 789 s maple rd manhattan</td>\n",
       "    </tr>\n",
       "    <tr>\n",
       "      <th>4</th>\n",
       "      <td>002 724 334</td>\n",
       "      <td>robie house, 789 north main street</td>\n",
       "    </tr>\n",
       "    <tr>\n",
       "      <th>5</th>\n",
       "      <td>hello</td>\n",
       "      <td>1111 S Figueroa St, Los Angeles, CA 90015</td>\n",
       "    </tr>\n",
       "    <tr>\n",
       "      <th>6</th>\n",
       "      <td>NaN</td>\n",
       "      <td>(staples center) 1111 S Figueroa St, Los Angeles</td>\n",
       "    </tr>\n",
       "    <tr>\n",
       "      <th>7</th>\n",
       "      <td>NULL</td>\n",
       "      <td>hello</td>\n",
       "    </tr>\n",
       "  </tbody>\n",
       "</table>\n",
       "</div>"
      ],
      "text/plain": [
       "                   peid                                           address\n",
       "0           00001234567                                     123 Pine Ave.\n",
       "1  00001234568913454545                                           main st\n",
       "2          BE 428759497                      1234 west main heights 57033\n",
       "3           BE431150351                    apt 1 789 s maple rd manhattan\n",
       "4           002 724 334                robie house, 789 north main street\n",
       "5                 hello         1111 S Figueroa St, Los Angeles, CA 90015\n",
       "6                   NaN  (staples center) 1111 S Figueroa St, Los Angeles\n",
       "7                  NULL                                             hello"
      ]
     },
     "execution_count": 1,
     "metadata": {},
     "output_type": "execute_result"
    }
   ],
   "source": [
    "import pandas as pd\n",
    "import numpy as np\n",
    "df = pd.DataFrame(\n",
    "    {\n",
    "        \"peid\": [\n",
    "            '00001234567',\n",
    "            '00001234568913454545',\n",
    "            'BE 428759497',\n",
    "            'BE431150351',\n",
    "            \"002 724 334\",\n",
    "            \"hello\",\n",
    "            np.nan,\n",
    "            \"NULL\",\n",
    "        ], \n",
    "        \"address\": [\n",
    "            \"123 Pine Ave.\",\n",
    "            \"main st\",\n",
    "            \"1234 west main heights 57033\",\n",
    "            \"apt 1 789 s maple rd manhattan\",\n",
    "            \"robie house, 789 north main street\",\n",
    "            \"1111 S Figueroa St, Los Angeles, CA 90015\",\n",
    "            \"(staples center) 1111 S Figueroa St, Los Angeles\",\n",
    "            \"hello\",\n",
    "        ]\n",
    "    }\n",
    ")\n",
    "df"
   ]
  },
  {
   "cell_type": "markdown",
   "id": "binding-sessions",
   "metadata": {},
   "source": [
    "## 1. Default `clean_li_peid`\n",
    "\n",
    "By default, `clean_li_peid` will clean peid strings and output them in the standard format with proper separators."
   ]
  },
  {
   "cell_type": "code",
   "execution_count": 2,
   "id": "swiss-observation",
   "metadata": {
    "execution": {
     "iopub.execute_input": "2021-11-04T02:15:09.154916Z",
     "iopub.status.busy": "2021-11-04T02:15:09.154112Z",
     "iopub.status.idle": "2021-11-04T02:15:09.700157Z",
     "shell.execute_reply": "2021-11-04T02:15:09.700509Z"
    }
   },
   "outputs": [
    {
     "data": {
      "text/html": [
       "<div>\n",
       "<style scoped>\n",
       "    .dataframe tbody tr th:only-of-type {\n",
       "        vertical-align: middle;\n",
       "    }\n",
       "\n",
       "    .dataframe tbody tr th {\n",
       "        vertical-align: top;\n",
       "    }\n",
       "\n",
       "    .dataframe thead th {\n",
       "        text-align: right;\n",
       "    }\n",
       "</style>\n",
       "<table border=\"1\" class=\"dataframe\">\n",
       "  <thead>\n",
       "    <tr style=\"text-align: right;\">\n",
       "      <th></th>\n",
       "      <th>peid</th>\n",
       "      <th>address</th>\n",
       "      <th>peid_clean</th>\n",
       "    </tr>\n",
       "  </thead>\n",
       "  <tbody>\n",
       "    <tr>\n",
       "      <th>0</th>\n",
       "      <td>00001234567</td>\n",
       "      <td>123 Pine Ave.</td>\n",
       "      <td>1234567</td>\n",
       "    </tr>\n",
       "    <tr>\n",
       "      <th>1</th>\n",
       "      <td>00001234568913454545</td>\n",
       "      <td>main st</td>\n",
       "      <td>NaN</td>\n",
       "    </tr>\n",
       "    <tr>\n",
       "      <th>2</th>\n",
       "      <td>BE 428759497</td>\n",
       "      <td>1234 west main heights 57033</td>\n",
       "      <td>NaN</td>\n",
       "    </tr>\n",
       "    <tr>\n",
       "      <th>3</th>\n",
       "      <td>BE431150351</td>\n",
       "      <td>apt 1 789 s maple rd manhattan</td>\n",
       "      <td>NaN</td>\n",
       "    </tr>\n",
       "    <tr>\n",
       "      <th>4</th>\n",
       "      <td>002 724 334</td>\n",
       "      <td>robie house, 789 north main street</td>\n",
       "      <td>2724334</td>\n",
       "    </tr>\n",
       "    <tr>\n",
       "      <th>5</th>\n",
       "      <td>hello</td>\n",
       "      <td>1111 S Figueroa St, Los Angeles, CA 90015</td>\n",
       "      <td>NaN</td>\n",
       "    </tr>\n",
       "    <tr>\n",
       "      <th>6</th>\n",
       "      <td>NaN</td>\n",
       "      <td>(staples center) 1111 S Figueroa St, Los Angeles</td>\n",
       "      <td>NaN</td>\n",
       "    </tr>\n",
       "    <tr>\n",
       "      <th>7</th>\n",
       "      <td>NULL</td>\n",
       "      <td>hello</td>\n",
       "      <td>NaN</td>\n",
       "    </tr>\n",
       "  </tbody>\n",
       "</table>\n",
       "</div>"
      ],
      "text/plain": [
       "                   peid                                           address  \\\n",
       "0           00001234567                                     123 Pine Ave.   \n",
       "1  00001234568913454545                                           main st   \n",
       "2          BE 428759497                      1234 west main heights 57033   \n",
       "3           BE431150351                    apt 1 789 s maple rd manhattan   \n",
       "4           002 724 334                robie house, 789 north main street   \n",
       "5                 hello         1111 S Figueroa St, Los Angeles, CA 90015   \n",
       "6                   NaN  (staples center) 1111 S Figueroa St, Los Angeles   \n",
       "7                  NULL                                             hello   \n",
       "\n",
       "  peid_clean  \n",
       "0    1234567  \n",
       "1        NaN  \n",
       "2        NaN  \n",
       "3        NaN  \n",
       "4    2724334  \n",
       "5        NaN  \n",
       "6        NaN  \n",
       "7        NaN  "
      ]
     },
     "execution_count": 1,
     "metadata": {},
     "output_type": "execute_result"
    }
   ],
   "source": [
    "from dataprep.clean import clean_li_peid\n",
    "clean_li_peid(df, column = \"peid\")"
   ]
  },
  {
   "cell_type": "markdown",
   "id": "protecting-elephant",
   "metadata": {},
   "source": [
    "## 2. Output formats"
   ]
  },
  {
   "cell_type": "markdown",
   "id": "military-watch",
   "metadata": {},
   "source": [
    "This section demonstrates the output parameter."
   ]
  },
  {
   "cell_type": "markdown",
   "id": "higher-interference",
   "metadata": {},
   "source": [
    "### `standard` (default)"
   ]
  },
  {
   "cell_type": "code",
   "execution_count": 3,
   "id": "recent-resident",
   "metadata": {
    "execution": {
     "iopub.execute_input": "2021-11-04T02:15:09.720504Z",
     "iopub.status.busy": "2021-11-04T02:15:09.718284Z",
     "iopub.status.idle": "2021-11-04T02:15:09.728324Z",
     "shell.execute_reply": "2021-11-04T02:15:09.727921Z"
    }
   },
   "outputs": [
    {
     "data": {
      "text/html": [
       "<div>\n",
       "<style scoped>\n",
       "    .dataframe tbody tr th:only-of-type {\n",
       "        vertical-align: middle;\n",
       "    }\n",
       "\n",
       "    .dataframe tbody tr th {\n",
       "        vertical-align: top;\n",
       "    }\n",
       "\n",
       "    .dataframe thead th {\n",
       "        text-align: right;\n",
       "    }\n",
       "</style>\n",
       "<table border=\"1\" class=\"dataframe\">\n",
       "  <thead>\n",
       "    <tr style=\"text-align: right;\">\n",
       "      <th></th>\n",
       "      <th>peid</th>\n",
       "      <th>address</th>\n",
       "      <th>peid_clean</th>\n",
       "    </tr>\n",
       "  </thead>\n",
       "  <tbody>\n",
       "    <tr>\n",
       "      <th>0</th>\n",
       "      <td>00001234567</td>\n",
       "      <td>123 Pine Ave.</td>\n",
       "      <td>1234567</td>\n",
       "    </tr>\n",
       "    <tr>\n",
       "      <th>1</th>\n",
       "      <td>00001234568913454545</td>\n",
       "      <td>main st</td>\n",
       "      <td>NaN</td>\n",
       "    </tr>\n",
       "    <tr>\n",
       "      <th>2</th>\n",
       "      <td>BE 428759497</td>\n",
       "      <td>1234 west main heights 57033</td>\n",
       "      <td>NaN</td>\n",
       "    </tr>\n",
       "    <tr>\n",
       "      <th>3</th>\n",
       "      <td>BE431150351</td>\n",
       "      <td>apt 1 789 s maple rd manhattan</td>\n",
       "      <td>NaN</td>\n",
       "    </tr>\n",
       "    <tr>\n",
       "      <th>4</th>\n",
       "      <td>002 724 334</td>\n",
       "      <td>robie house, 789 north main street</td>\n",
       "      <td>2724334</td>\n",
       "    </tr>\n",
       "    <tr>\n",
       "      <th>5</th>\n",
       "      <td>hello</td>\n",
       "      <td>1111 S Figueroa St, Los Angeles, CA 90015</td>\n",
       "      <td>NaN</td>\n",
       "    </tr>\n",
       "    <tr>\n",
       "      <th>6</th>\n",
       "      <td>NaN</td>\n",
       "      <td>(staples center) 1111 S Figueroa St, Los Angeles</td>\n",
       "      <td>NaN</td>\n",
       "    </tr>\n",
       "    <tr>\n",
       "      <th>7</th>\n",
       "      <td>NULL</td>\n",
       "      <td>hello</td>\n",
       "      <td>NaN</td>\n",
       "    </tr>\n",
       "  </tbody>\n",
       "</table>\n",
       "</div>"
      ],
      "text/plain": [
       "                   peid                                           address  \\\n",
       "0           00001234567                                     123 Pine Ave.   \n",
       "1  00001234568913454545                                           main st   \n",
       "2          BE 428759497                      1234 west main heights 57033   \n",
       "3           BE431150351                    apt 1 789 s maple rd manhattan   \n",
       "4           002 724 334                robie house, 789 north main street   \n",
       "5                 hello         1111 S Figueroa St, Los Angeles, CA 90015   \n",
       "6                   NaN  (staples center) 1111 S Figueroa St, Los Angeles   \n",
       "7                  NULL                                             hello   \n",
       "\n",
       "  peid_clean  \n",
       "0    1234567  \n",
       "1        NaN  \n",
       "2        NaN  \n",
       "3        NaN  \n",
       "4    2724334  \n",
       "5        NaN  \n",
       "6        NaN  \n",
       "7        NaN  "
      ]
     },
     "execution_count": 1,
     "metadata": {},
     "output_type": "execute_result"
    }
   ],
   "source": [
    "clean_li_peid(df, column = \"peid\", output_format=\"standard\")"
   ]
  },
  {
   "cell_type": "markdown",
   "id": "hired-kingdom",
   "metadata": {},
   "source": [
    "### `compact`"
   ]
  },
  {
   "cell_type": "code",
   "execution_count": 4,
   "id": "clear-grounds",
   "metadata": {
    "execution": {
     "iopub.execute_input": "2021-11-04T02:15:09.745997Z",
     "iopub.status.busy": "2021-11-04T02:15:09.744303Z",
     "iopub.status.idle": "2021-11-04T02:15:09.755881Z",
     "shell.execute_reply": "2021-11-04T02:15:09.755471Z"
    }
   },
   "outputs": [
    {
     "data": {
      "text/html": [
       "<div>\n",
       "<style scoped>\n",
       "    .dataframe tbody tr th:only-of-type {\n",
       "        vertical-align: middle;\n",
       "    }\n",
       "\n",
       "    .dataframe tbody tr th {\n",
       "        vertical-align: top;\n",
       "    }\n",
       "\n",
       "    .dataframe thead th {\n",
       "        text-align: right;\n",
       "    }\n",
       "</style>\n",
       "<table border=\"1\" class=\"dataframe\">\n",
       "  <thead>\n",
       "    <tr style=\"text-align: right;\">\n",
       "      <th></th>\n",
       "      <th>peid</th>\n",
       "      <th>address</th>\n",
       "      <th>peid_clean</th>\n",
       "    </tr>\n",
       "  </thead>\n",
       "  <tbody>\n",
       "    <tr>\n",
       "      <th>0</th>\n",
       "      <td>00001234567</td>\n",
       "      <td>123 Pine Ave.</td>\n",
       "      <td>1234567</td>\n",
       "    </tr>\n",
       "    <tr>\n",
       "      <th>1</th>\n",
       "      <td>00001234568913454545</td>\n",
       "      <td>main st</td>\n",
       "      <td>NaN</td>\n",
       "    </tr>\n",
       "    <tr>\n",
       "      <th>2</th>\n",
       "      <td>BE 428759497</td>\n",
       "      <td>1234 west main heights 57033</td>\n",
       "      <td>NaN</td>\n",
       "    </tr>\n",
       "    <tr>\n",
       "      <th>3</th>\n",
       "      <td>BE431150351</td>\n",
       "      <td>apt 1 789 s maple rd manhattan</td>\n",
       "      <td>NaN</td>\n",
       "    </tr>\n",
       "    <tr>\n",
       "      <th>4</th>\n",
       "      <td>002 724 334</td>\n",
       "      <td>robie house, 789 north main street</td>\n",
       "      <td>2724334</td>\n",
       "    </tr>\n",
       "    <tr>\n",
       "      <th>5</th>\n",
       "      <td>hello</td>\n",
       "      <td>1111 S Figueroa St, Los Angeles, CA 90015</td>\n",
       "      <td>NaN</td>\n",
       "    </tr>\n",
       "    <tr>\n",
       "      <th>6</th>\n",
       "      <td>NaN</td>\n",
       "      <td>(staples center) 1111 S Figueroa St, Los Angeles</td>\n",
       "      <td>NaN</td>\n",
       "    </tr>\n",
       "    <tr>\n",
       "      <th>7</th>\n",
       "      <td>NULL</td>\n",
       "      <td>hello</td>\n",
       "      <td>NaN</td>\n",
       "    </tr>\n",
       "  </tbody>\n",
       "</table>\n",
       "</div>"
      ],
      "text/plain": [
       "                   peid                                           address  \\\n",
       "0           00001234567                                     123 Pine Ave.   \n",
       "1  00001234568913454545                                           main st   \n",
       "2          BE 428759497                      1234 west main heights 57033   \n",
       "3           BE431150351                    apt 1 789 s maple rd manhattan   \n",
       "4           002 724 334                robie house, 789 north main street   \n",
       "5                 hello         1111 S Figueroa St, Los Angeles, CA 90015   \n",
       "6                   NaN  (staples center) 1111 S Figueroa St, Los Angeles   \n",
       "7                  NULL                                             hello   \n",
       "\n",
       "  peid_clean  \n",
       "0    1234567  \n",
       "1        NaN  \n",
       "2        NaN  \n",
       "3        NaN  \n",
       "4    2724334  \n",
       "5        NaN  \n",
       "6        NaN  \n",
       "7        NaN  "
      ]
     },
     "execution_count": 1,
     "metadata": {},
     "output_type": "execute_result"
    }
   ],
   "source": [
    "clean_li_peid(df, column = \"peid\", output_format=\"compact\")"
   ]
  },
  {
   "cell_type": "markdown",
   "id": "mathematical-benefit",
   "metadata": {},
   "source": [
    "## 3. `inplace` parameter\n",
    "\n",
    "This deletes the given column from the returned DataFrame. \n",
    "A new column containing cleaned PEID strings is added with a title in the format `\"{original title}_clean\"`."
   ]
  },
  {
   "cell_type": "code",
   "execution_count": 5,
   "id": "liked-anthropology",
   "metadata": {
    "execution": {
     "iopub.execute_input": "2021-11-04T02:15:09.781291Z",
     "iopub.status.busy": "2021-11-04T02:15:09.780078Z",
     "iopub.status.idle": "2021-11-04T02:15:09.792514Z",
     "shell.execute_reply": "2021-11-04T02:15:09.792118Z"
    }
   },
   "outputs": [
    {
     "data": {
      "text/html": [
       "<div>\n",
       "<style scoped>\n",
       "    .dataframe tbody tr th:only-of-type {\n",
       "        vertical-align: middle;\n",
       "    }\n",
       "\n",
       "    .dataframe tbody tr th {\n",
       "        vertical-align: top;\n",
       "    }\n",
       "\n",
       "    .dataframe thead th {\n",
       "        text-align: right;\n",
       "    }\n",
       "</style>\n",
       "<table border=\"1\" class=\"dataframe\">\n",
       "  <thead>\n",
       "    <tr style=\"text-align: right;\">\n",
       "      <th></th>\n",
       "      <th>peid_clean</th>\n",
       "      <th>address</th>\n",
       "    </tr>\n",
       "  </thead>\n",
       "  <tbody>\n",
       "    <tr>\n",
       "      <th>0</th>\n",
       "      <td>1234567</td>\n",
       "      <td>123 Pine Ave.</td>\n",
       "    </tr>\n",
       "    <tr>\n",
       "      <th>1</th>\n",
       "      <td>NaN</td>\n",
       "      <td>main st</td>\n",
       "    </tr>\n",
       "    <tr>\n",
       "      <th>2</th>\n",
       "      <td>NaN</td>\n",
       "      <td>1234 west main heights 57033</td>\n",
       "    </tr>\n",
       "    <tr>\n",
       "      <th>3</th>\n",
       "      <td>NaN</td>\n",
       "      <td>apt 1 789 s maple rd manhattan</td>\n",
       "    </tr>\n",
       "    <tr>\n",
       "      <th>4</th>\n",
       "      <td>2724334</td>\n",
       "      <td>robie house, 789 north main street</td>\n",
       "    </tr>\n",
       "    <tr>\n",
       "      <th>5</th>\n",
       "      <td>NaN</td>\n",
       "      <td>1111 S Figueroa St, Los Angeles, CA 90015</td>\n",
       "    </tr>\n",
       "    <tr>\n",
       "      <th>6</th>\n",
       "      <td>NaN</td>\n",
       "      <td>(staples center) 1111 S Figueroa St, Los Angeles</td>\n",
       "    </tr>\n",
       "    <tr>\n",
       "      <th>7</th>\n",
       "      <td>NaN</td>\n",
       "      <td>hello</td>\n",
       "    </tr>\n",
       "  </tbody>\n",
       "</table>\n",
       "</div>"
      ],
      "text/plain": [
       "  peid_clean                                           address\n",
       "0    1234567                                     123 Pine Ave.\n",
       "1        NaN                                           main st\n",
       "2        NaN                      1234 west main heights 57033\n",
       "3        NaN                    apt 1 789 s maple rd manhattan\n",
       "4    2724334                robie house, 789 north main street\n",
       "5        NaN         1111 S Figueroa St, Los Angeles, CA 90015\n",
       "6        NaN  (staples center) 1111 S Figueroa St, Los Angeles\n",
       "7        NaN                                             hello"
      ]
     },
     "execution_count": 1,
     "metadata": {},
     "output_type": "execute_result"
    }
   ],
   "source": [
    "clean_li_peid(df, column=\"peid\", inplace=True)"
   ]
  },
  {
   "cell_type": "markdown",
   "id": "neither-twist",
   "metadata": {},
   "source": [
    "## 4. `errors` parameter"
   ]
  },
  {
   "cell_type": "markdown",
   "id": "higher-punishment",
   "metadata": {},
   "source": [
    "### `coerce` (default)"
   ]
  },
  {
   "cell_type": "code",
   "execution_count": 6,
   "id": "novel-percentage",
   "metadata": {
    "execution": {
     "iopub.execute_input": "2021-11-04T02:15:09.810368Z",
     "iopub.status.busy": "2021-11-04T02:15:09.808047Z",
     "iopub.status.idle": "2021-11-04T02:15:09.819599Z",
     "shell.execute_reply": "2021-11-04T02:15:09.819212Z"
    }
   },
   "outputs": [
    {
     "data": {
      "text/html": [
       "<div>\n",
       "<style scoped>\n",
       "    .dataframe tbody tr th:only-of-type {\n",
       "        vertical-align: middle;\n",
       "    }\n",
       "\n",
       "    .dataframe tbody tr th {\n",
       "        vertical-align: top;\n",
       "    }\n",
       "\n",
       "    .dataframe thead th {\n",
       "        text-align: right;\n",
       "    }\n",
       "</style>\n",
       "<table border=\"1\" class=\"dataframe\">\n",
       "  <thead>\n",
       "    <tr style=\"text-align: right;\">\n",
       "      <th></th>\n",
       "      <th>peid</th>\n",
       "      <th>address</th>\n",
       "      <th>peid_clean</th>\n",
       "    </tr>\n",
       "  </thead>\n",
       "  <tbody>\n",
       "    <tr>\n",
       "      <th>0</th>\n",
       "      <td>00001234567</td>\n",
       "      <td>123 Pine Ave.</td>\n",
       "      <td>1234567</td>\n",
       "    </tr>\n",
       "    <tr>\n",
       "      <th>1</th>\n",
       "      <td>00001234568913454545</td>\n",
       "      <td>main st</td>\n",
       "      <td>NaN</td>\n",
       "    </tr>\n",
       "    <tr>\n",
       "      <th>2</th>\n",
       "      <td>BE 428759497</td>\n",
       "      <td>1234 west main heights 57033</td>\n",
       "      <td>NaN</td>\n",
       "    </tr>\n",
       "    <tr>\n",
       "      <th>3</th>\n",
       "      <td>BE431150351</td>\n",
       "      <td>apt 1 789 s maple rd manhattan</td>\n",
       "      <td>NaN</td>\n",
       "    </tr>\n",
       "    <tr>\n",
       "      <th>4</th>\n",
       "      <td>002 724 334</td>\n",
       "      <td>robie house, 789 north main street</td>\n",
       "      <td>2724334</td>\n",
       "    </tr>\n",
       "    <tr>\n",
       "      <th>5</th>\n",
       "      <td>hello</td>\n",
       "      <td>1111 S Figueroa St, Los Angeles, CA 90015</td>\n",
       "      <td>NaN</td>\n",
       "    </tr>\n",
       "    <tr>\n",
       "      <th>6</th>\n",
       "      <td>NaN</td>\n",
       "      <td>(staples center) 1111 S Figueroa St, Los Angeles</td>\n",
       "      <td>NaN</td>\n",
       "    </tr>\n",
       "    <tr>\n",
       "      <th>7</th>\n",
       "      <td>NULL</td>\n",
       "      <td>hello</td>\n",
       "      <td>NaN</td>\n",
       "    </tr>\n",
       "  </tbody>\n",
       "</table>\n",
       "</div>"
      ],
      "text/plain": [
       "                   peid                                           address  \\\n",
       "0           00001234567                                     123 Pine Ave.   \n",
       "1  00001234568913454545                                           main st   \n",
       "2          BE 428759497                      1234 west main heights 57033   \n",
       "3           BE431150351                    apt 1 789 s maple rd manhattan   \n",
       "4           002 724 334                robie house, 789 north main street   \n",
       "5                 hello         1111 S Figueroa St, Los Angeles, CA 90015   \n",
       "6                   NaN  (staples center) 1111 S Figueroa St, Los Angeles   \n",
       "7                  NULL                                             hello   \n",
       "\n",
       "  peid_clean  \n",
       "0    1234567  \n",
       "1        NaN  \n",
       "2        NaN  \n",
       "3        NaN  \n",
       "4    2724334  \n",
       "5        NaN  \n",
       "6        NaN  \n",
       "7        NaN  "
      ]
     },
     "execution_count": 1,
     "metadata": {},
     "output_type": "execute_result"
    }
   ],
   "source": [
    "clean_li_peid(df, \"peid\", errors=\"coerce\")"
   ]
  },
  {
   "cell_type": "markdown",
   "id": "constitutional-cancer",
   "metadata": {},
   "source": [
    "### `ignore`"
   ]
  },
  {
   "cell_type": "code",
   "execution_count": 7,
   "id": "average-decimal",
   "metadata": {
    "execution": {
     "iopub.execute_input": "2021-11-04T02:15:09.839847Z",
     "iopub.status.busy": "2021-11-04T02:15:09.825760Z",
     "iopub.status.idle": "2021-11-04T02:15:09.848477Z",
     "shell.execute_reply": "2021-11-04T02:15:09.848083Z"
    }
   },
   "outputs": [
    {
     "data": {
      "text/html": [
       "<div>\n",
       "<style scoped>\n",
       "    .dataframe tbody tr th:only-of-type {\n",
       "        vertical-align: middle;\n",
       "    }\n",
       "\n",
       "    .dataframe tbody tr th {\n",
       "        vertical-align: top;\n",
       "    }\n",
       "\n",
       "    .dataframe thead th {\n",
       "        text-align: right;\n",
       "    }\n",
       "</style>\n",
       "<table border=\"1\" class=\"dataframe\">\n",
       "  <thead>\n",
       "    <tr style=\"text-align: right;\">\n",
       "      <th></th>\n",
       "      <th>peid</th>\n",
       "      <th>address</th>\n",
       "      <th>peid_clean</th>\n",
       "    </tr>\n",
       "  </thead>\n",
       "  <tbody>\n",
       "    <tr>\n",
       "      <th>0</th>\n",
       "      <td>00001234567</td>\n",
       "      <td>123 Pine Ave.</td>\n",
       "      <td>1234567</td>\n",
       "    </tr>\n",
       "    <tr>\n",
       "      <th>1</th>\n",
       "      <td>00001234568913454545</td>\n",
       "      <td>main st</td>\n",
       "      <td>00001234568913454545</td>\n",
       "    </tr>\n",
       "    <tr>\n",
       "      <th>2</th>\n",
       "      <td>BE 428759497</td>\n",
       "      <td>1234 west main heights 57033</td>\n",
       "      <td>BE 428759497</td>\n",
       "    </tr>\n",
       "    <tr>\n",
       "      <th>3</th>\n",
       "      <td>BE431150351</td>\n",
       "      <td>apt 1 789 s maple rd manhattan</td>\n",
       "      <td>BE431150351</td>\n",
       "    </tr>\n",
       "    <tr>\n",
       "      <th>4</th>\n",
       "      <td>002 724 334</td>\n",
       "      <td>robie house, 789 north main street</td>\n",
       "      <td>2724334</td>\n",
       "    </tr>\n",
       "    <tr>\n",
       "      <th>5</th>\n",
       "      <td>hello</td>\n",
       "      <td>1111 S Figueroa St, Los Angeles, CA 90015</td>\n",
       "      <td>hello</td>\n",
       "    </tr>\n",
       "    <tr>\n",
       "      <th>6</th>\n",
       "      <td>NaN</td>\n",
       "      <td>(staples center) 1111 S Figueroa St, Los Angeles</td>\n",
       "      <td>NaN</td>\n",
       "    </tr>\n",
       "    <tr>\n",
       "      <th>7</th>\n",
       "      <td>NULL</td>\n",
       "      <td>hello</td>\n",
       "      <td>NaN</td>\n",
       "    </tr>\n",
       "  </tbody>\n",
       "</table>\n",
       "</div>"
      ],
      "text/plain": [
       "                   peid                                           address  \\\n",
       "0           00001234567                                     123 Pine Ave.   \n",
       "1  00001234568913454545                                           main st   \n",
       "2          BE 428759497                      1234 west main heights 57033   \n",
       "3           BE431150351                    apt 1 789 s maple rd manhattan   \n",
       "4           002 724 334                robie house, 789 north main street   \n",
       "5                 hello         1111 S Figueroa St, Los Angeles, CA 90015   \n",
       "6                   NaN  (staples center) 1111 S Figueroa St, Los Angeles   \n",
       "7                  NULL                                             hello   \n",
       "\n",
       "             peid_clean  \n",
       "0               1234567  \n",
       "1  00001234568913454545  \n",
       "2          BE 428759497  \n",
       "3           BE431150351  \n",
       "4               2724334  \n",
       "5                 hello  \n",
       "6                   NaN  \n",
       "7                   NaN  "
      ]
     },
     "execution_count": 1,
     "metadata": {},
     "output_type": "execute_result"
    }
   ],
   "source": [
    "clean_li_peid(df, \"peid\", errors=\"ignore\")"
   ]
  },
  {
   "cell_type": "markdown",
   "id": "deluxe-daisy",
   "metadata": {},
   "source": [
    "## 4. `validate_li_peid()`"
   ]
  },
  {
   "cell_type": "markdown",
   "id": "hispanic-grove",
   "metadata": {},
   "source": [
    "`validate_li_peid()` returns `True` when the input is a valid PEID. Otherwise it returns `False`.\n",
    "\n",
    "The input of `validate_li_peid()` can be a string, a Pandas DataSeries, a Dask DataSeries, a Pandas DataFrame and a dask DataFrame.\n",
    "\n",
    "When the input is a string, a Pandas DataSeries or a Dask DataSeries, user doesn't need to specify a column name to be validated. \n",
    "\n",
    "When the input is a Pandas DataFrame or a dask DataFrame, user can both specify or not specify a column name to be validated. If user specify the column name, `validate_li_peid()` only returns the validation result for the specified column. If user doesn't specify the column name, `validate_li_peid()` returns the validation result for the whole DataFrame."
   ]
  },
  {
   "cell_type": "code",
   "execution_count": 8,
   "id": "blank-teaching",
   "metadata": {
    "execution": {
     "iopub.execute_input": "2021-11-04T02:15:09.854700Z",
     "iopub.status.busy": "2021-11-04T02:15:09.852253Z",
     "iopub.status.idle": "2021-11-04T02:15:09.856292Z",
     "shell.execute_reply": "2021-11-04T02:15:09.855839Z"
    }
   },
   "outputs": [
    {
     "name": "stdout",
     "output_type": "stream",
     "text": [
      "True\n",
      "False\n",
      "False\n",
      "False\n",
      "True\n",
      "False\n",
      "False\n",
      "False\n"
     ]
    }
   ],
   "source": [
    "from dataprep.clean import validate_li_peid\n",
    "print(validate_li_peid(\"00001234567\"))\n",
    "print(validate_li_peid(\"00001234568913454545\"))\n",
    "print(validate_li_peid('BE 428759497'))\n",
    "print(validate_li_peid('BE431150351'))\n",
    "print(validate_li_peid(\"004085616\"))\n",
    "print(validate_li_peid(\"hello\"))\n",
    "print(validate_li_peid(np.nan))\n",
    "print(validate_li_peid(\"NULL\"))"
   ]
  },
  {
   "cell_type": "markdown",
   "id": "organized-leonard",
   "metadata": {},
   "source": [
    "### Series"
   ]
  },
  {
   "cell_type": "code",
   "execution_count": 9,
   "id": "seventh-fisher",
   "metadata": {
    "execution": {
     "iopub.execute_input": "2021-11-04T02:15:09.860333Z",
     "iopub.status.busy": "2021-11-04T02:15:09.859904Z",
     "iopub.status.idle": "2021-11-04T02:15:09.864017Z",
     "shell.execute_reply": "2021-11-04T02:15:09.863655Z"
    }
   },
   "outputs": [
    {
     "data": {
      "text/plain": [
       "0     True\n",
       "1    False\n",
       "2    False\n",
       "3    False\n",
       "4     True\n",
       "5    False\n",
       "6    False\n",
       "7    False\n",
       "Name: peid, dtype: bool"
      ]
     },
     "execution_count": 1,
     "metadata": {},
     "output_type": "execute_result"
    }
   ],
   "source": [
    "validate_li_peid(df[\"peid\"])"
   ]
  },
  {
   "cell_type": "markdown",
   "id": "sharing-chess",
   "metadata": {},
   "source": [
    "### DataFrame + Specify Column"
   ]
  },
  {
   "cell_type": "code",
   "execution_count": 10,
   "id": "cultural-phone",
   "metadata": {
    "execution": {
     "iopub.execute_input": "2021-11-04T02:15:09.868060Z",
     "iopub.status.busy": "2021-11-04T02:15:09.867358Z",
     "iopub.status.idle": "2021-11-04T02:15:09.871416Z",
     "shell.execute_reply": "2021-11-04T02:15:09.871750Z"
    }
   },
   "outputs": [
    {
     "data": {
      "text/plain": [
       "0     True\n",
       "1    False\n",
       "2    False\n",
       "3    False\n",
       "4     True\n",
       "5    False\n",
       "6    False\n",
       "7    False\n",
       "Name: peid, dtype: bool"
      ]
     },
     "execution_count": 1,
     "metadata": {},
     "output_type": "execute_result"
    }
   ],
   "source": [
    "validate_li_peid(df, column=\"peid\")"
   ]
  },
  {
   "cell_type": "markdown",
   "id": "million-prompt",
   "metadata": {},
   "source": [
    "### Only DataFrame"
   ]
  },
  {
   "cell_type": "code",
   "execution_count": 11,
   "id": "simplified-colombia",
   "metadata": {
    "execution": {
     "iopub.execute_input": "2021-11-04T02:15:09.878813Z",
     "iopub.status.busy": "2021-11-04T02:15:09.877253Z",
     "iopub.status.idle": "2021-11-04T02:15:09.882700Z",
     "shell.execute_reply": "2021-11-04T02:15:09.882340Z"
    }
   },
   "outputs": [
    {
     "data": {
      "text/html": [
       "<div>\n",
       "<style scoped>\n",
       "    .dataframe tbody tr th:only-of-type {\n",
       "        vertical-align: middle;\n",
       "    }\n",
       "\n",
       "    .dataframe tbody tr th {\n",
       "        vertical-align: top;\n",
       "    }\n",
       "\n",
       "    .dataframe thead th {\n",
       "        text-align: right;\n",
       "    }\n",
       "</style>\n",
       "<table border=\"1\" class=\"dataframe\">\n",
       "  <thead>\n",
       "    <tr style=\"text-align: right;\">\n",
       "      <th></th>\n",
       "      <th>peid</th>\n",
       "      <th>address</th>\n",
       "    </tr>\n",
       "  </thead>\n",
       "  <tbody>\n",
       "    <tr>\n",
       "      <th>0</th>\n",
       "      <td>True</td>\n",
       "      <td>False</td>\n",
       "    </tr>\n",
       "    <tr>\n",
       "      <th>1</th>\n",
       "      <td>False</td>\n",
       "      <td>False</td>\n",
       "    </tr>\n",
       "    <tr>\n",
       "      <th>2</th>\n",
       "      <td>False</td>\n",
       "      <td>False</td>\n",
       "    </tr>\n",
       "    <tr>\n",
       "      <th>3</th>\n",
       "      <td>False</td>\n",
       "      <td>False</td>\n",
       "    </tr>\n",
       "    <tr>\n",
       "      <th>4</th>\n",
       "      <td>True</td>\n",
       "      <td>False</td>\n",
       "    </tr>\n",
       "    <tr>\n",
       "      <th>5</th>\n",
       "      <td>False</td>\n",
       "      <td>False</td>\n",
       "    </tr>\n",
       "    <tr>\n",
       "      <th>6</th>\n",
       "      <td>False</td>\n",
       "      <td>False</td>\n",
       "    </tr>\n",
       "    <tr>\n",
       "      <th>7</th>\n",
       "      <td>False</td>\n",
       "      <td>False</td>\n",
       "    </tr>\n",
       "  </tbody>\n",
       "</table>\n",
       "</div>"
      ],
      "text/plain": [
       "    peid  address\n",
       "0   True    False\n",
       "1  False    False\n",
       "2  False    False\n",
       "3  False    False\n",
       "4   True    False\n",
       "5  False    False\n",
       "6  False    False\n",
       "7  False    False"
      ]
     },
     "execution_count": 1,
     "metadata": {},
     "output_type": "execute_result"
    }
   ],
   "source": [
    "validate_li_peid(df)"
   ]
  },
  {
   "cell_type": "code",
   "execution_count": null,
   "id": "attended-terry",
   "metadata": {},
   "outputs": [],
   "source": []
  }
 ],
 "metadata": {
  "kernelspec": {
   "display_name": "Python 3",
   "language": "python",
   "name": "python3"
  },
  "language_info": {
   "codemirror_mode": {
    "name": "ipython",
    "version": 3
   },
   "file_extension": ".py",
   "mimetype": "text/x-python",
   "name": "python",
   "nbconvert_exporter": "python",
   "pygments_lexer": "ipython3",
   "version": "3.8.10"
  }
 },
 "nbformat": 4,
 "nbformat_minor": 5
}
