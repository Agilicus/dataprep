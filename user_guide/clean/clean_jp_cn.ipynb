{
 "cells": [
  {
   "cell_type": "markdown",
   "id": "intellectual-ancient",
   "metadata": {},
   "source": [
    "# Japanese Corporate Numbers"
   ]
  },
  {
   "cell_type": "markdown",
   "id": "included-crazy",
   "metadata": {},
   "source": [
    "## Introduction"
   ]
  },
  {
   "cell_type": "markdown",
   "id": "recognized-american",
   "metadata": {},
   "source": [
    "The function `clean_jp_cn()` cleans a column containing Japanese Corporate Number (CN) strings, and standardizes them in a given format. The function `validate_jp_cn()` validates either a single CN strings, a column of CN strings or a DataFrame of CN strings, returning `True` if the value is valid, and `False` otherwise."
   ]
  },
  {
   "cell_type": "markdown",
   "id": "dynamic-script",
   "metadata": {},
   "source": [
    "CN strings can be converted to the following formats via the `output_format` parameter:\n",
    "\n",
    "* `compact`: only number strings without any seperators or whitespace, like \"5835678256246\"\n",
    "* `standard`: CN strings with proper whitespace in the proper places, like \"5-8356-7825-6246\"\n",
    "\n",
    "Invalid parsing is handled with the `errors` parameter:\n",
    "\n",
    "* `coerce` (default): invalid parsing will be set to NaN\n",
    "* `ignore`: invalid parsing will return the input\n",
    "* `raise`: invalid parsing will raise an exception\n",
    "\n",
    "The following sections demonstrate the functionality of `clean_jp_cn()` and `validate_jp_cn()`. "
   ]
  },
  {
   "cell_type": "markdown",
   "id": "based-easter",
   "metadata": {},
   "source": [
    "### An example dataset containing CN strings"
   ]
  },
  {
   "cell_type": "code",
   "execution_count": 1,
   "id": "apparent-ground",
   "metadata": {
    "execution": {
     "iopub.execute_input": "2021-11-04T02:14:52.791927Z",
     "iopub.status.busy": "2021-11-04T02:14:52.791483Z",
     "iopub.status.idle": "2021-11-04T02:14:53.013135Z",
     "shell.execute_reply": "2021-11-04T02:14:53.012640Z"
    }
   },
   "outputs": [
    {
     "data": {
      "text/html": [
       "<div>\n",
       "<style scoped>\n",
       "    .dataframe tbody tr th:only-of-type {\n",
       "        vertical-align: middle;\n",
       "    }\n",
       "\n",
       "    .dataframe tbody tr th {\n",
       "        vertical-align: top;\n",
       "    }\n",
       "\n",
       "    .dataframe thead th {\n",
       "        text-align: right;\n",
       "    }\n",
       "</style>\n",
       "<table border=\"1\" class=\"dataframe\">\n",
       "  <thead>\n",
       "    <tr style=\"text-align: right;\">\n",
       "      <th></th>\n",
       "      <th>cn</th>\n",
       "      <th>address</th>\n",
       "    </tr>\n",
       "  </thead>\n",
       "  <tbody>\n",
       "    <tr>\n",
       "      <th>0</th>\n",
       "      <td>5835678256246</td>\n",
       "      <td>123 Pine Ave.</td>\n",
       "    </tr>\n",
       "    <tr>\n",
       "      <th>1</th>\n",
       "      <td>2-8356-7825-6246</td>\n",
       "      <td>main st</td>\n",
       "    </tr>\n",
       "    <tr>\n",
       "      <th>2</th>\n",
       "      <td>51824753556</td>\n",
       "      <td>1234 west main heights 57033</td>\n",
       "    </tr>\n",
       "    <tr>\n",
       "      <th>3</th>\n",
       "      <td>51 824 753 556</td>\n",
       "      <td>apt 1 789 s maple rd manhattan</td>\n",
       "    </tr>\n",
       "    <tr>\n",
       "      <th>4</th>\n",
       "      <td>hello</td>\n",
       "      <td>robie house, 789 north main street</td>\n",
       "    </tr>\n",
       "    <tr>\n",
       "      <th>5</th>\n",
       "      <td>NaN</td>\n",
       "      <td>(staples center) 1111 S Figueroa St, Los Angeles</td>\n",
       "    </tr>\n",
       "    <tr>\n",
       "      <th>6</th>\n",
       "      <td>NULL</td>\n",
       "      <td>hello</td>\n",
       "    </tr>\n",
       "  </tbody>\n",
       "</table>\n",
       "</div>"
      ],
      "text/plain": [
       "                 cn                                           address\n",
       "0     5835678256246                                     123 Pine Ave.\n",
       "1  2-8356-7825-6246                                           main st\n",
       "2       51824753556                      1234 west main heights 57033\n",
       "3    51 824 753 556                    apt 1 789 s maple rd manhattan\n",
       "4             hello                robie house, 789 north main street\n",
       "5               NaN  (staples center) 1111 S Figueroa St, Los Angeles\n",
       "6              NULL                                             hello"
      ]
     },
     "execution_count": 1,
     "metadata": {},
     "output_type": "execute_result"
    }
   ],
   "source": [
    "import pandas as pd\n",
    "import numpy as np\n",
    "df = pd.DataFrame(\n",
    "    {\n",
    "        \"cn\": [\n",
    "            \"5835678256246\",\n",
    "            \"2-8356-7825-6246\",\n",
    "            \"51824753556\",\n",
    "            \"51 824 753 556\",\n",
    "            \"hello\",\n",
    "            np.nan,\n",
    "            \"NULL\"\n",
    "        ], \n",
    "        \"address\": [\n",
    "            \"123 Pine Ave.\",\n",
    "            \"main st\",\n",
    "            \"1234 west main heights 57033\",\n",
    "            \"apt 1 789 s maple rd manhattan\",\n",
    "            \"robie house, 789 north main street\",\n",
    "            \"(staples center) 1111 S Figueroa St, Los Angeles\",\n",
    "            \"hello\",\n",
    "        ]\n",
    "    }\n",
    ")\n",
    "df"
   ]
  },
  {
   "cell_type": "markdown",
   "id": "future-failing",
   "metadata": {},
   "source": [
    "## 1. Default `clean_jp_cn`\n",
    "\n",
    "By default, `clean_jp_cn` will clean cn strings and output them in the standard format with proper separators."
   ]
  },
  {
   "cell_type": "code",
   "execution_count": 2,
   "id": "asian-heart",
   "metadata": {
    "execution": {
     "iopub.execute_input": "2021-11-04T02:14:53.016803Z",
     "iopub.status.busy": "2021-11-04T02:14:53.016286Z",
     "iopub.status.idle": "2021-11-04T02:14:53.551522Z",
     "shell.execute_reply": "2021-11-04T02:14:53.551120Z"
    }
   },
   "outputs": [
    {
     "data": {
      "text/html": [
       "<div>\n",
       "<style scoped>\n",
       "    .dataframe tbody tr th:only-of-type {\n",
       "        vertical-align: middle;\n",
       "    }\n",
       "\n",
       "    .dataframe tbody tr th {\n",
       "        vertical-align: top;\n",
       "    }\n",
       "\n",
       "    .dataframe thead th {\n",
       "        text-align: right;\n",
       "    }\n",
       "</style>\n",
       "<table border=\"1\" class=\"dataframe\">\n",
       "  <thead>\n",
       "    <tr style=\"text-align: right;\">\n",
       "      <th></th>\n",
       "      <th>cn</th>\n",
       "      <th>address</th>\n",
       "      <th>cn_clean</th>\n",
       "    </tr>\n",
       "  </thead>\n",
       "  <tbody>\n",
       "    <tr>\n",
       "      <th>0</th>\n",
       "      <td>5835678256246</td>\n",
       "      <td>123 Pine Ave.</td>\n",
       "      <td>5-8356-7825-6246</td>\n",
       "    </tr>\n",
       "    <tr>\n",
       "      <th>1</th>\n",
       "      <td>2-8356-7825-6246</td>\n",
       "      <td>main st</td>\n",
       "      <td>NaN</td>\n",
       "    </tr>\n",
       "    <tr>\n",
       "      <th>2</th>\n",
       "      <td>51824753556</td>\n",
       "      <td>1234 west main heights 57033</td>\n",
       "      <td>NaN</td>\n",
       "    </tr>\n",
       "    <tr>\n",
       "      <th>3</th>\n",
       "      <td>51 824 753 556</td>\n",
       "      <td>apt 1 789 s maple rd manhattan</td>\n",
       "      <td>NaN</td>\n",
       "    </tr>\n",
       "    <tr>\n",
       "      <th>4</th>\n",
       "      <td>hello</td>\n",
       "      <td>robie house, 789 north main street</td>\n",
       "      <td>NaN</td>\n",
       "    </tr>\n",
       "    <tr>\n",
       "      <th>5</th>\n",
       "      <td>NaN</td>\n",
       "      <td>(staples center) 1111 S Figueroa St, Los Angeles</td>\n",
       "      <td>NaN</td>\n",
       "    </tr>\n",
       "    <tr>\n",
       "      <th>6</th>\n",
       "      <td>NULL</td>\n",
       "      <td>hello</td>\n",
       "      <td>NaN</td>\n",
       "    </tr>\n",
       "  </tbody>\n",
       "</table>\n",
       "</div>"
      ],
      "text/plain": [
       "                 cn                                           address  \\\n",
       "0     5835678256246                                     123 Pine Ave.   \n",
       "1  2-8356-7825-6246                                           main st   \n",
       "2       51824753556                      1234 west main heights 57033   \n",
       "3    51 824 753 556                    apt 1 789 s maple rd manhattan   \n",
       "4             hello                robie house, 789 north main street   \n",
       "5               NaN  (staples center) 1111 S Figueroa St, Los Angeles   \n",
       "6              NULL                                             hello   \n",
       "\n",
       "           cn_clean  \n",
       "0  5-8356-7825-6246  \n",
       "1               NaN  \n",
       "2               NaN  \n",
       "3               NaN  \n",
       "4               NaN  \n",
       "5               NaN  \n",
       "6               NaN  "
      ]
     },
     "execution_count": 1,
     "metadata": {},
     "output_type": "execute_result"
    }
   ],
   "source": [
    "from dataprep.clean import clean_jp_cn\n",
    "clean_jp_cn(df, column = \"cn\")"
   ]
  },
  {
   "cell_type": "markdown",
   "id": "incorrect-blogger",
   "metadata": {},
   "source": [
    "## 2. Output formats"
   ]
  },
  {
   "cell_type": "markdown",
   "id": "endangered-beatles",
   "metadata": {},
   "source": [
    "This section demonstrates the output parameter."
   ]
  },
  {
   "cell_type": "markdown",
   "id": "adapted-projection",
   "metadata": {},
   "source": [
    "### `standard` (default)"
   ]
  },
  {
   "cell_type": "code",
   "execution_count": 3,
   "id": "deluxe-migration",
   "metadata": {
    "execution": {
     "iopub.execute_input": "2021-11-04T02:14:53.571796Z",
     "iopub.status.busy": "2021-11-04T02:14:53.569367Z",
     "iopub.status.idle": "2021-11-04T02:14:53.578100Z",
     "shell.execute_reply": "2021-11-04T02:14:53.578448Z"
    }
   },
   "outputs": [
    {
     "data": {
      "text/html": [
       "<div>\n",
       "<style scoped>\n",
       "    .dataframe tbody tr th:only-of-type {\n",
       "        vertical-align: middle;\n",
       "    }\n",
       "\n",
       "    .dataframe tbody tr th {\n",
       "        vertical-align: top;\n",
       "    }\n",
       "\n",
       "    .dataframe thead th {\n",
       "        text-align: right;\n",
       "    }\n",
       "</style>\n",
       "<table border=\"1\" class=\"dataframe\">\n",
       "  <thead>\n",
       "    <tr style=\"text-align: right;\">\n",
       "      <th></th>\n",
       "      <th>cn</th>\n",
       "      <th>address</th>\n",
       "      <th>cn_clean</th>\n",
       "    </tr>\n",
       "  </thead>\n",
       "  <tbody>\n",
       "    <tr>\n",
       "      <th>0</th>\n",
       "      <td>5835678256246</td>\n",
       "      <td>123 Pine Ave.</td>\n",
       "      <td>5-8356-7825-6246</td>\n",
       "    </tr>\n",
       "    <tr>\n",
       "      <th>1</th>\n",
       "      <td>2-8356-7825-6246</td>\n",
       "      <td>main st</td>\n",
       "      <td>NaN</td>\n",
       "    </tr>\n",
       "    <tr>\n",
       "      <th>2</th>\n",
       "      <td>51824753556</td>\n",
       "      <td>1234 west main heights 57033</td>\n",
       "      <td>NaN</td>\n",
       "    </tr>\n",
       "    <tr>\n",
       "      <th>3</th>\n",
       "      <td>51 824 753 556</td>\n",
       "      <td>apt 1 789 s maple rd manhattan</td>\n",
       "      <td>NaN</td>\n",
       "    </tr>\n",
       "    <tr>\n",
       "      <th>4</th>\n",
       "      <td>hello</td>\n",
       "      <td>robie house, 789 north main street</td>\n",
       "      <td>NaN</td>\n",
       "    </tr>\n",
       "    <tr>\n",
       "      <th>5</th>\n",
       "      <td>NaN</td>\n",
       "      <td>(staples center) 1111 S Figueroa St, Los Angeles</td>\n",
       "      <td>NaN</td>\n",
       "    </tr>\n",
       "    <tr>\n",
       "      <th>6</th>\n",
       "      <td>NULL</td>\n",
       "      <td>hello</td>\n",
       "      <td>NaN</td>\n",
       "    </tr>\n",
       "  </tbody>\n",
       "</table>\n",
       "</div>"
      ],
      "text/plain": [
       "                 cn                                           address  \\\n",
       "0     5835678256246                                     123 Pine Ave.   \n",
       "1  2-8356-7825-6246                                           main st   \n",
       "2       51824753556                      1234 west main heights 57033   \n",
       "3    51 824 753 556                    apt 1 789 s maple rd manhattan   \n",
       "4             hello                robie house, 789 north main street   \n",
       "5               NaN  (staples center) 1111 S Figueroa St, Los Angeles   \n",
       "6              NULL                                             hello   \n",
       "\n",
       "           cn_clean  \n",
       "0  5-8356-7825-6246  \n",
       "1               NaN  \n",
       "2               NaN  \n",
       "3               NaN  \n",
       "4               NaN  \n",
       "5               NaN  \n",
       "6               NaN  "
      ]
     },
     "execution_count": 1,
     "metadata": {},
     "output_type": "execute_result"
    }
   ],
   "source": [
    "clean_jp_cn(df, column = \"cn\", output_format=\"standard\")"
   ]
  },
  {
   "cell_type": "markdown",
   "id": "moderate-skirt",
   "metadata": {},
   "source": [
    "### `compact`"
   ]
  },
  {
   "cell_type": "code",
   "execution_count": 4,
   "id": "romantic-debut",
   "metadata": {
    "execution": {
     "iopub.execute_input": "2021-11-04T02:14:53.598001Z",
     "iopub.status.busy": "2021-11-04T02:14:53.594156Z",
     "iopub.status.idle": "2021-11-04T02:14:53.604095Z",
     "shell.execute_reply": "2021-11-04T02:14:53.604433Z"
    }
   },
   "outputs": [
    {
     "data": {
      "text/html": [
       "<div>\n",
       "<style scoped>\n",
       "    .dataframe tbody tr th:only-of-type {\n",
       "        vertical-align: middle;\n",
       "    }\n",
       "\n",
       "    .dataframe tbody tr th {\n",
       "        vertical-align: top;\n",
       "    }\n",
       "\n",
       "    .dataframe thead th {\n",
       "        text-align: right;\n",
       "    }\n",
       "</style>\n",
       "<table border=\"1\" class=\"dataframe\">\n",
       "  <thead>\n",
       "    <tr style=\"text-align: right;\">\n",
       "      <th></th>\n",
       "      <th>cn</th>\n",
       "      <th>address</th>\n",
       "      <th>cn_clean</th>\n",
       "    </tr>\n",
       "  </thead>\n",
       "  <tbody>\n",
       "    <tr>\n",
       "      <th>0</th>\n",
       "      <td>5835678256246</td>\n",
       "      <td>123 Pine Ave.</td>\n",
       "      <td>5835678256246</td>\n",
       "    </tr>\n",
       "    <tr>\n",
       "      <th>1</th>\n",
       "      <td>2-8356-7825-6246</td>\n",
       "      <td>main st</td>\n",
       "      <td>NaN</td>\n",
       "    </tr>\n",
       "    <tr>\n",
       "      <th>2</th>\n",
       "      <td>51824753556</td>\n",
       "      <td>1234 west main heights 57033</td>\n",
       "      <td>NaN</td>\n",
       "    </tr>\n",
       "    <tr>\n",
       "      <th>3</th>\n",
       "      <td>51 824 753 556</td>\n",
       "      <td>apt 1 789 s maple rd manhattan</td>\n",
       "      <td>NaN</td>\n",
       "    </tr>\n",
       "    <tr>\n",
       "      <th>4</th>\n",
       "      <td>hello</td>\n",
       "      <td>robie house, 789 north main street</td>\n",
       "      <td>NaN</td>\n",
       "    </tr>\n",
       "    <tr>\n",
       "      <th>5</th>\n",
       "      <td>NaN</td>\n",
       "      <td>(staples center) 1111 S Figueroa St, Los Angeles</td>\n",
       "      <td>NaN</td>\n",
       "    </tr>\n",
       "    <tr>\n",
       "      <th>6</th>\n",
       "      <td>NULL</td>\n",
       "      <td>hello</td>\n",
       "      <td>NaN</td>\n",
       "    </tr>\n",
       "  </tbody>\n",
       "</table>\n",
       "</div>"
      ],
      "text/plain": [
       "                 cn                                           address  \\\n",
       "0     5835678256246                                     123 Pine Ave.   \n",
       "1  2-8356-7825-6246                                           main st   \n",
       "2       51824753556                      1234 west main heights 57033   \n",
       "3    51 824 753 556                    apt 1 789 s maple rd manhattan   \n",
       "4             hello                robie house, 789 north main street   \n",
       "5               NaN  (staples center) 1111 S Figueroa St, Los Angeles   \n",
       "6              NULL                                             hello   \n",
       "\n",
       "        cn_clean  \n",
       "0  5835678256246  \n",
       "1            NaN  \n",
       "2            NaN  \n",
       "3            NaN  \n",
       "4            NaN  \n",
       "5            NaN  \n",
       "6            NaN  "
      ]
     },
     "execution_count": 1,
     "metadata": {},
     "output_type": "execute_result"
    }
   ],
   "source": [
    "clean_jp_cn(df, column = \"cn\", output_format=\"compact\")"
   ]
  },
  {
   "cell_type": "markdown",
   "id": "rapid-character",
   "metadata": {},
   "source": [
    "## 3. `inplace` parameter\n",
    "\n",
    "This deletes the given column from the returned DataFrame. \n",
    "A new column containing cleaned CN strings is added with a title in the format `\"{original title}_clean\"`."
   ]
  },
  {
   "cell_type": "code",
   "execution_count": 5,
   "id": "historical-oregon",
   "metadata": {
    "execution": {
     "iopub.execute_input": "2021-11-04T02:14:53.632117Z",
     "iopub.status.busy": "2021-11-04T02:14:53.628044Z",
     "iopub.status.idle": "2021-11-04T02:14:53.637993Z",
     "shell.execute_reply": "2021-11-04T02:14:53.637617Z"
    }
   },
   "outputs": [
    {
     "data": {
      "text/html": [
       "<div>\n",
       "<style scoped>\n",
       "    .dataframe tbody tr th:only-of-type {\n",
       "        vertical-align: middle;\n",
       "    }\n",
       "\n",
       "    .dataframe tbody tr th {\n",
       "        vertical-align: top;\n",
       "    }\n",
       "\n",
       "    .dataframe thead th {\n",
       "        text-align: right;\n",
       "    }\n",
       "</style>\n",
       "<table border=\"1\" class=\"dataframe\">\n",
       "  <thead>\n",
       "    <tr style=\"text-align: right;\">\n",
       "      <th></th>\n",
       "      <th>cn_clean</th>\n",
       "      <th>address</th>\n",
       "    </tr>\n",
       "  </thead>\n",
       "  <tbody>\n",
       "    <tr>\n",
       "      <th>0</th>\n",
       "      <td>5-8356-7825-6246</td>\n",
       "      <td>123 Pine Ave.</td>\n",
       "    </tr>\n",
       "    <tr>\n",
       "      <th>1</th>\n",
       "      <td>NaN</td>\n",
       "      <td>main st</td>\n",
       "    </tr>\n",
       "    <tr>\n",
       "      <th>2</th>\n",
       "      <td>NaN</td>\n",
       "      <td>1234 west main heights 57033</td>\n",
       "    </tr>\n",
       "    <tr>\n",
       "      <th>3</th>\n",
       "      <td>NaN</td>\n",
       "      <td>apt 1 789 s maple rd manhattan</td>\n",
       "    </tr>\n",
       "    <tr>\n",
       "      <th>4</th>\n",
       "      <td>NaN</td>\n",
       "      <td>robie house, 789 north main street</td>\n",
       "    </tr>\n",
       "    <tr>\n",
       "      <th>5</th>\n",
       "      <td>NaN</td>\n",
       "      <td>(staples center) 1111 S Figueroa St, Los Angeles</td>\n",
       "    </tr>\n",
       "    <tr>\n",
       "      <th>6</th>\n",
       "      <td>NaN</td>\n",
       "      <td>hello</td>\n",
       "    </tr>\n",
       "  </tbody>\n",
       "</table>\n",
       "</div>"
      ],
      "text/plain": [
       "           cn_clean                                           address\n",
       "0  5-8356-7825-6246                                     123 Pine Ave.\n",
       "1               NaN                                           main st\n",
       "2               NaN                      1234 west main heights 57033\n",
       "3               NaN                    apt 1 789 s maple rd manhattan\n",
       "4               NaN                robie house, 789 north main street\n",
       "5               NaN  (staples center) 1111 S Figueroa St, Los Angeles\n",
       "6               NaN                                             hello"
      ]
     },
     "execution_count": 1,
     "metadata": {},
     "output_type": "execute_result"
    }
   ],
   "source": [
    "clean_jp_cn(df, column=\"cn\", inplace=True)"
   ]
  },
  {
   "cell_type": "markdown",
   "id": "italian-topic",
   "metadata": {},
   "source": [
    "## 4. `errors` parameter"
   ]
  },
  {
   "cell_type": "markdown",
   "id": "precise-firmware",
   "metadata": {},
   "source": [
    "### `coerce` (default)"
   ]
  },
  {
   "cell_type": "code",
   "execution_count": 6,
   "id": "blind-medline",
   "metadata": {
    "execution": {
     "iopub.execute_input": "2021-11-04T02:14:53.659141Z",
     "iopub.status.busy": "2021-11-04T02:14:53.656087Z",
     "iopub.status.idle": "2021-11-04T02:14:53.663778Z",
     "shell.execute_reply": "2021-11-04T02:14:53.663411Z"
    }
   },
   "outputs": [
    {
     "data": {
      "text/html": [
       "<div>\n",
       "<style scoped>\n",
       "    .dataframe tbody tr th:only-of-type {\n",
       "        vertical-align: middle;\n",
       "    }\n",
       "\n",
       "    .dataframe tbody tr th {\n",
       "        vertical-align: top;\n",
       "    }\n",
       "\n",
       "    .dataframe thead th {\n",
       "        text-align: right;\n",
       "    }\n",
       "</style>\n",
       "<table border=\"1\" class=\"dataframe\">\n",
       "  <thead>\n",
       "    <tr style=\"text-align: right;\">\n",
       "      <th></th>\n",
       "      <th>cn</th>\n",
       "      <th>address</th>\n",
       "      <th>cn_clean</th>\n",
       "    </tr>\n",
       "  </thead>\n",
       "  <tbody>\n",
       "    <tr>\n",
       "      <th>0</th>\n",
       "      <td>5835678256246</td>\n",
       "      <td>123 Pine Ave.</td>\n",
       "      <td>5-8356-7825-6246</td>\n",
       "    </tr>\n",
       "    <tr>\n",
       "      <th>1</th>\n",
       "      <td>2-8356-7825-6246</td>\n",
       "      <td>main st</td>\n",
       "      <td>NaN</td>\n",
       "    </tr>\n",
       "    <tr>\n",
       "      <th>2</th>\n",
       "      <td>51824753556</td>\n",
       "      <td>1234 west main heights 57033</td>\n",
       "      <td>NaN</td>\n",
       "    </tr>\n",
       "    <tr>\n",
       "      <th>3</th>\n",
       "      <td>51 824 753 556</td>\n",
       "      <td>apt 1 789 s maple rd manhattan</td>\n",
       "      <td>NaN</td>\n",
       "    </tr>\n",
       "    <tr>\n",
       "      <th>4</th>\n",
       "      <td>hello</td>\n",
       "      <td>robie house, 789 north main street</td>\n",
       "      <td>NaN</td>\n",
       "    </tr>\n",
       "    <tr>\n",
       "      <th>5</th>\n",
       "      <td>NaN</td>\n",
       "      <td>(staples center) 1111 S Figueroa St, Los Angeles</td>\n",
       "      <td>NaN</td>\n",
       "    </tr>\n",
       "    <tr>\n",
       "      <th>6</th>\n",
       "      <td>NULL</td>\n",
       "      <td>hello</td>\n",
       "      <td>NaN</td>\n",
       "    </tr>\n",
       "  </tbody>\n",
       "</table>\n",
       "</div>"
      ],
      "text/plain": [
       "                 cn                                           address  \\\n",
       "0     5835678256246                                     123 Pine Ave.   \n",
       "1  2-8356-7825-6246                                           main st   \n",
       "2       51824753556                      1234 west main heights 57033   \n",
       "3    51 824 753 556                    apt 1 789 s maple rd manhattan   \n",
       "4             hello                robie house, 789 north main street   \n",
       "5               NaN  (staples center) 1111 S Figueroa St, Los Angeles   \n",
       "6              NULL                                             hello   \n",
       "\n",
       "           cn_clean  \n",
       "0  5-8356-7825-6246  \n",
       "1               NaN  \n",
       "2               NaN  \n",
       "3               NaN  \n",
       "4               NaN  \n",
       "5               NaN  \n",
       "6               NaN  "
      ]
     },
     "execution_count": 1,
     "metadata": {},
     "output_type": "execute_result"
    }
   ],
   "source": [
    "clean_jp_cn(df, \"cn\", errors=\"coerce\")"
   ]
  },
  {
   "cell_type": "markdown",
   "id": "similar-dubai",
   "metadata": {},
   "source": [
    "### `ignore`"
   ]
  },
  {
   "cell_type": "code",
   "execution_count": 7,
   "id": "previous-setup",
   "metadata": {
    "execution": {
     "iopub.execute_input": "2021-11-04T02:14:53.682328Z",
     "iopub.status.busy": "2021-11-04T02:14:53.681415Z",
     "iopub.status.idle": "2021-11-04T02:14:53.688371Z",
     "shell.execute_reply": "2021-11-04T02:14:53.688707Z"
    }
   },
   "outputs": [
    {
     "data": {
      "text/html": [
       "<div>\n",
       "<style scoped>\n",
       "    .dataframe tbody tr th:only-of-type {\n",
       "        vertical-align: middle;\n",
       "    }\n",
       "\n",
       "    .dataframe tbody tr th {\n",
       "        vertical-align: top;\n",
       "    }\n",
       "\n",
       "    .dataframe thead th {\n",
       "        text-align: right;\n",
       "    }\n",
       "</style>\n",
       "<table border=\"1\" class=\"dataframe\">\n",
       "  <thead>\n",
       "    <tr style=\"text-align: right;\">\n",
       "      <th></th>\n",
       "      <th>cn</th>\n",
       "      <th>address</th>\n",
       "      <th>cn_clean</th>\n",
       "    </tr>\n",
       "  </thead>\n",
       "  <tbody>\n",
       "    <tr>\n",
       "      <th>0</th>\n",
       "      <td>5835678256246</td>\n",
       "      <td>123 Pine Ave.</td>\n",
       "      <td>5-8356-7825-6246</td>\n",
       "    </tr>\n",
       "    <tr>\n",
       "      <th>1</th>\n",
       "      <td>2-8356-7825-6246</td>\n",
       "      <td>main st</td>\n",
       "      <td>2-8356-7825-6246</td>\n",
       "    </tr>\n",
       "    <tr>\n",
       "      <th>2</th>\n",
       "      <td>51824753556</td>\n",
       "      <td>1234 west main heights 57033</td>\n",
       "      <td>51824753556</td>\n",
       "    </tr>\n",
       "    <tr>\n",
       "      <th>3</th>\n",
       "      <td>51 824 753 556</td>\n",
       "      <td>apt 1 789 s maple rd manhattan</td>\n",
       "      <td>51 824 753 556</td>\n",
       "    </tr>\n",
       "    <tr>\n",
       "      <th>4</th>\n",
       "      <td>hello</td>\n",
       "      <td>robie house, 789 north main street</td>\n",
       "      <td>hello</td>\n",
       "    </tr>\n",
       "    <tr>\n",
       "      <th>5</th>\n",
       "      <td>NaN</td>\n",
       "      <td>(staples center) 1111 S Figueroa St, Los Angeles</td>\n",
       "      <td>NaN</td>\n",
       "    </tr>\n",
       "    <tr>\n",
       "      <th>6</th>\n",
       "      <td>NULL</td>\n",
       "      <td>hello</td>\n",
       "      <td>NaN</td>\n",
       "    </tr>\n",
       "  </tbody>\n",
       "</table>\n",
       "</div>"
      ],
      "text/plain": [
       "                 cn                                           address  \\\n",
       "0     5835678256246                                     123 Pine Ave.   \n",
       "1  2-8356-7825-6246                                           main st   \n",
       "2       51824753556                      1234 west main heights 57033   \n",
       "3    51 824 753 556                    apt 1 789 s maple rd manhattan   \n",
       "4             hello                robie house, 789 north main street   \n",
       "5               NaN  (staples center) 1111 S Figueroa St, Los Angeles   \n",
       "6              NULL                                             hello   \n",
       "\n",
       "           cn_clean  \n",
       "0  5-8356-7825-6246  \n",
       "1  2-8356-7825-6246  \n",
       "2       51824753556  \n",
       "3    51 824 753 556  \n",
       "4             hello  \n",
       "5               NaN  \n",
       "6               NaN  "
      ]
     },
     "execution_count": 1,
     "metadata": {},
     "output_type": "execute_result"
    }
   ],
   "source": [
    "clean_jp_cn(df, \"cn\", errors=\"ignore\")"
   ]
  },
  {
   "cell_type": "markdown",
   "id": "brilliant-cooking",
   "metadata": {},
   "source": [
    "## 4. `validate_jp_cn()`"
   ]
  },
  {
   "cell_type": "markdown",
   "id": "religious-andorra",
   "metadata": {},
   "source": [
    "`validate_jp_cn()` returns `True` when the input is a valid CN. Otherwise it returns `False`.\n",
    "\n",
    "The input of `validate_jp_cn()` can be a string, a Pandas DataSeries, a Dask DataSeries, a Pandas DataFrame and a dask DataFrame.\n",
    "\n",
    "When the input is a string, a Pandas DataSeries or a Dask DataSeries, user doesn't need to specify a column name to be validated. \n",
    "\n",
    "When the input is a Pandas DataFrame or a dask DataFrame, user can both specify or not specify a column name to be validated. If user specify the column name, `validate_jp_cn()` only returns the validation result for the specified column. If user doesn't specify the column name, `validate_jp_cn()` returns the validation result for the whole DataFrame."
   ]
  },
  {
   "cell_type": "code",
   "execution_count": 8,
   "id": "union-calculator",
   "metadata": {
    "execution": {
     "iopub.execute_input": "2021-11-04T02:14:53.693582Z",
     "iopub.status.busy": "2021-11-04T02:14:53.693115Z",
     "iopub.status.idle": "2021-11-04T02:14:53.696725Z",
     "shell.execute_reply": "2021-11-04T02:14:53.696332Z"
    }
   },
   "outputs": [
    {
     "name": "stdout",
     "output_type": "stream",
     "text": [
      "True\n",
      "False\n",
      "False\n",
      "False\n",
      "False\n",
      "False\n",
      "False\n"
     ]
    }
   ],
   "source": [
    "from dataprep.clean import validate_jp_cn\n",
    "print(validate_jp_cn(\"5835678256246\"))\n",
    "print(validate_jp_cn(\"2-8356-7825-6246\"))\n",
    "print(validate_jp_cn(\"51824753556\"))\n",
    "print(validate_jp_cn(\"51 824 753 556\"))\n",
    "print(validate_jp_cn(\"hello\"))\n",
    "print(validate_jp_cn(np.nan))\n",
    "print(validate_jp_cn(\"NULL\"))"
   ]
  },
  {
   "cell_type": "markdown",
   "id": "accurate-industry",
   "metadata": {},
   "source": [
    "### Series"
   ]
  },
  {
   "cell_type": "code",
   "execution_count": 9,
   "id": "august-restriction",
   "metadata": {
    "execution": {
     "iopub.execute_input": "2021-11-04T02:14:53.700923Z",
     "iopub.status.busy": "2021-11-04T02:14:53.700464Z",
     "iopub.status.idle": "2021-11-04T02:14:53.703748Z",
     "shell.execute_reply": "2021-11-04T02:14:53.703364Z"
    }
   },
   "outputs": [
    {
     "data": {
      "text/plain": [
       "0     True\n",
       "1    False\n",
       "2    False\n",
       "3    False\n",
       "4    False\n",
       "5    False\n",
       "6    False\n",
       "Name: cn, dtype: bool"
      ]
     },
     "execution_count": 1,
     "metadata": {},
     "output_type": "execute_result"
    }
   ],
   "source": [
    "validate_jp_cn(df[\"cn\"])"
   ]
  },
  {
   "cell_type": "markdown",
   "id": "virgin-template",
   "metadata": {},
   "source": [
    "### DataFrame + Specify Column"
   ]
  },
  {
   "cell_type": "code",
   "execution_count": 10,
   "id": "accepted-mixer",
   "metadata": {
    "execution": {
     "iopub.execute_input": "2021-11-04T02:14:53.708358Z",
     "iopub.status.busy": "2021-11-04T02:14:53.707907Z",
     "iopub.status.idle": "2021-11-04T02:14:53.710052Z",
     "shell.execute_reply": "2021-11-04T02:14:53.710399Z"
    }
   },
   "outputs": [
    {
     "data": {
      "text/plain": [
       "0     True\n",
       "1    False\n",
       "2    False\n",
       "3    False\n",
       "4    False\n",
       "5    False\n",
       "6    False\n",
       "Name: cn, dtype: bool"
      ]
     },
     "execution_count": 1,
     "metadata": {},
     "output_type": "execute_result"
    }
   ],
   "source": [
    "validate_jp_cn(df, column=\"cn\")"
   ]
  },
  {
   "cell_type": "markdown",
   "id": "usual-cross",
   "metadata": {},
   "source": [
    "### Only DataFrame"
   ]
  },
  {
   "cell_type": "code",
   "execution_count": 11,
   "id": "beautiful-evening",
   "metadata": {
    "execution": {
     "iopub.execute_input": "2021-11-04T02:14:53.717932Z",
     "iopub.status.busy": "2021-11-04T02:14:53.712937Z",
     "iopub.status.idle": "2021-11-04T02:14:53.719710Z",
     "shell.execute_reply": "2021-11-04T02:14:53.720037Z"
    },
    "scrolled": true
   },
   "outputs": [
    {
     "data": {
      "text/html": [
       "<div>\n",
       "<style scoped>\n",
       "    .dataframe tbody tr th:only-of-type {\n",
       "        vertical-align: middle;\n",
       "    }\n",
       "\n",
       "    .dataframe tbody tr th {\n",
       "        vertical-align: top;\n",
       "    }\n",
       "\n",
       "    .dataframe thead th {\n",
       "        text-align: right;\n",
       "    }\n",
       "</style>\n",
       "<table border=\"1\" class=\"dataframe\">\n",
       "  <thead>\n",
       "    <tr style=\"text-align: right;\">\n",
       "      <th></th>\n",
       "      <th>cn</th>\n",
       "      <th>address</th>\n",
       "    </tr>\n",
       "  </thead>\n",
       "  <tbody>\n",
       "    <tr>\n",
       "      <th>0</th>\n",
       "      <td>True</td>\n",
       "      <td>False</td>\n",
       "    </tr>\n",
       "    <tr>\n",
       "      <th>1</th>\n",
       "      <td>False</td>\n",
       "      <td>False</td>\n",
       "    </tr>\n",
       "    <tr>\n",
       "      <th>2</th>\n",
       "      <td>False</td>\n",
       "      <td>False</td>\n",
       "    </tr>\n",
       "    <tr>\n",
       "      <th>3</th>\n",
       "      <td>False</td>\n",
       "      <td>False</td>\n",
       "    </tr>\n",
       "    <tr>\n",
       "      <th>4</th>\n",
       "      <td>False</td>\n",
       "      <td>False</td>\n",
       "    </tr>\n",
       "    <tr>\n",
       "      <th>5</th>\n",
       "      <td>False</td>\n",
       "      <td>False</td>\n",
       "    </tr>\n",
       "    <tr>\n",
       "      <th>6</th>\n",
       "      <td>False</td>\n",
       "      <td>False</td>\n",
       "    </tr>\n",
       "  </tbody>\n",
       "</table>\n",
       "</div>"
      ],
      "text/plain": [
       "      cn  address\n",
       "0   True    False\n",
       "1  False    False\n",
       "2  False    False\n",
       "3  False    False\n",
       "4  False    False\n",
       "5  False    False\n",
       "6  False    False"
      ]
     },
     "execution_count": 1,
     "metadata": {},
     "output_type": "execute_result"
    }
   ],
   "source": [
    "validate_jp_cn(df)"
   ]
  },
  {
   "cell_type": "code",
   "execution_count": null,
   "id": "residential-china",
   "metadata": {},
   "outputs": [],
   "source": []
  }
 ],
 "metadata": {
  "kernelspec": {
   "display_name": "Python 3",
   "language": "python",
   "name": "python3"
  },
  "language_info": {
   "codemirror_mode": {
    "name": "ipython",
    "version": 3
   },
   "file_extension": ".py",
   "mimetype": "text/x-python",
   "name": "python",
   "nbconvert_exporter": "python",
   "pygments_lexer": "ipython3",
   "version": "3.8.10"
  }
 },
 "nbformat": 4,
 "nbformat_minor": 5
}
