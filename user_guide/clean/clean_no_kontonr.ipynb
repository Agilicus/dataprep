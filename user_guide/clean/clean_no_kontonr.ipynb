{
 "cells": [
  {
   "cell_type": "raw",
   "id": "tracked-webster",
   "metadata": {},
   "source": [
    ".. _kontonr_userguide:\n",
    "\n",
    "kontonr Strings\n",
    "============"
   ]
  },
  {
   "cell_type": "raw",
   "id": "laughing-competition",
   "metadata": {},
   "source": [
    "Introduction\n",
    "------------\n",
    "\n",
    "The function :func:`clean_no_kontonr() <dataprep.clean.clean_no_kontonr.clean_no_kontonr>` cleans a column containing Norwegian bank account number (kontonr) strings, and standardizes them in a given format. The function :func:`validate_no_kontonr() <dataprep.clean.clean_no_kontonr.validate_no_kontonr>` validates either a single kontonr strings, a column of kontonr strings or a DataFrame of kontonr strings, returning `True` if the value is valid, and `False` otherwise."
   ]
  },
  {
   "cell_type": "markdown",
   "id": "north-peoples",
   "metadata": {},
   "source": [
    "kontonr strings can be converted to the following formats via the `output_format` parameter:\n",
    "\n",
    "* `compact`: only number strings without any seperators or whitespace, like \"86011117947\"\n",
    "* `standard`: kontonr strings with proper whitespace in the proper places, like \"8601.11.17947\"\n",
    "* `iban`: convert the number to an IBAN, like \"NO93 8601 11 17947\".\n",
    "\n",
    "Invalid parsing is handled with the `errors` parameter:\n",
    "\n",
    "* `coerce` (default): invalid parsing will be set to NaN\n",
    "* `ignore`: invalid parsing will return the input\n",
    "* `raise`: invalid parsing will raise an exception\n",
    "\n",
    "The following sections demonstrate the functionality of `clean_no_kontonr()` and `validate_no_kontonr()`. "
   ]
  },
  {
   "cell_type": "markdown",
   "id": "assured-composite",
   "metadata": {},
   "source": [
    "### An example dataset containing kontonr strings"
   ]
  },
  {
   "cell_type": "code",
   "execution_count": 1,
   "id": "european-treaty",
   "metadata": {
    "execution": {
     "iopub.execute_input": "2021-10-26T23:41:40.952435Z",
     "iopub.status.busy": "2021-10-26T23:41:40.951763Z",
     "iopub.status.idle": "2021-10-26T23:41:41.269316Z",
     "shell.execute_reply": "2021-10-26T23:41:41.268714Z"
    }
   },
   "outputs": [
    {
     "data": {
      "text/html": [
       "<div>\n",
       "<style scoped>\n",
       "    .dataframe tbody tr th:only-of-type {\n",
       "        vertical-align: middle;\n",
       "    }\n",
       "\n",
       "    .dataframe tbody tr th {\n",
       "        vertical-align: top;\n",
       "    }\n",
       "\n",
       "    .dataframe thead th {\n",
       "        text-align: right;\n",
       "    }\n",
       "</style>\n",
       "<table border=\"1\" class=\"dataframe\">\n",
       "  <thead>\n",
       "    <tr style=\"text-align: right;\">\n",
       "      <th></th>\n",
       "      <th>kontonr</th>\n",
       "      <th>address</th>\n",
       "    </tr>\n",
       "  </thead>\n",
       "  <tbody>\n",
       "    <tr>\n",
       "      <th>0</th>\n",
       "      <td>8601 11 17947</td>\n",
       "      <td>123 Pine Ave.</td>\n",
       "    </tr>\n",
       "    <tr>\n",
       "      <th>1</th>\n",
       "      <td>8601 11 17949</td>\n",
       "      <td>main st</td>\n",
       "    </tr>\n",
       "    <tr>\n",
       "      <th>2</th>\n",
       "      <td>999 999 999</td>\n",
       "      <td>1234 west main heights 57033</td>\n",
       "    </tr>\n",
       "    <tr>\n",
       "      <th>3</th>\n",
       "      <td>004085616</td>\n",
       "      <td>apt 1 789 s maple rd manhattan</td>\n",
       "    </tr>\n",
       "    <tr>\n",
       "      <th>4</th>\n",
       "      <td>002 724 334</td>\n",
       "      <td>robie house, 789 north main street</td>\n",
       "    </tr>\n",
       "    <tr>\n",
       "      <th>5</th>\n",
       "      <td>hello</td>\n",
       "      <td>1111 S Figueroa St, Los Angeles, CA 90015</td>\n",
       "    </tr>\n",
       "    <tr>\n",
       "      <th>6</th>\n",
       "      <td>NaN</td>\n",
       "      <td>(staples center) 1111 S Figueroa St, Los Angeles</td>\n",
       "    </tr>\n",
       "    <tr>\n",
       "      <th>7</th>\n",
       "      <td>NULL</td>\n",
       "      <td>hello</td>\n",
       "    </tr>\n",
       "  </tbody>\n",
       "</table>\n",
       "</div>"
      ],
      "text/plain": [
       "         kontonr                                           address\n",
       "0  8601 11 17947                                     123 Pine Ave.\n",
       "1  8601 11 17949                                           main st\n",
       "2    999 999 999                      1234 west main heights 57033\n",
       "3      004085616                    apt 1 789 s maple rd manhattan\n",
       "4    002 724 334                robie house, 789 north main street\n",
       "5          hello         1111 S Figueroa St, Los Angeles, CA 90015\n",
       "6            NaN  (staples center) 1111 S Figueroa St, Los Angeles\n",
       "7           NULL                                             hello"
      ]
     },
     "execution_count": 1,
     "metadata": {},
     "output_type": "execute_result"
    }
   ],
   "source": [
    "import pandas as pd\n",
    "import numpy as np\n",
    "df = pd.DataFrame(\n",
    "    {\n",
    "        \"kontonr\": [\n",
    "            \"8601 11 17947\",\n",
    "            \"8601 11 17949\",\n",
    "            \"999 999 999\",\n",
    "            \"004085616\",\n",
    "            \"002 724 334\",\n",
    "            \"hello\",\n",
    "            np.nan,\n",
    "            \"NULL\",\n",
    "        ], \n",
    "        \"address\": [\n",
    "            \"123 Pine Ave.\",\n",
    "            \"main st\",\n",
    "            \"1234 west main heights 57033\",\n",
    "            \"apt 1 789 s maple rd manhattan\",\n",
    "            \"robie house, 789 north main street\",\n",
    "            \"1111 S Figueroa St, Los Angeles, CA 90015\",\n",
    "            \"(staples center) 1111 S Figueroa St, Los Angeles\",\n",
    "            \"hello\",\n",
    "        ]\n",
    "    }\n",
    ")\n",
    "df"
   ]
  },
  {
   "cell_type": "markdown",
   "id": "tender-anxiety",
   "metadata": {},
   "source": [
    "## 1. Default `clean_no_kontonr`\n",
    "\n",
    "By default, `clean_no_kontonr` will clean kontonr strings and output them in the standard format with proper separators."
   ]
  },
  {
   "cell_type": "code",
   "execution_count": 2,
   "id": "single-reply",
   "metadata": {
    "execution": {
     "iopub.execute_input": "2021-10-26T23:41:41.274672Z",
     "iopub.status.busy": "2021-10-26T23:41:41.273570Z",
     "iopub.status.idle": "2021-10-26T23:41:42.196867Z",
     "shell.execute_reply": "2021-10-26T23:41:42.195920Z"
    }
   },
   "outputs": [
    {
     "data": {
      "text/html": [
       "<div>\n",
       "<style scoped>\n",
       "    .dataframe tbody tr th:only-of-type {\n",
       "        vertical-align: middle;\n",
       "    }\n",
       "\n",
       "    .dataframe tbody tr th {\n",
       "        vertical-align: top;\n",
       "    }\n",
       "\n",
       "    .dataframe thead th {\n",
       "        text-align: right;\n",
       "    }\n",
       "</style>\n",
       "<table border=\"1\" class=\"dataframe\">\n",
       "  <thead>\n",
       "    <tr style=\"text-align: right;\">\n",
       "      <th></th>\n",
       "      <th>kontonr</th>\n",
       "      <th>address</th>\n",
       "      <th>kontonr_clean</th>\n",
       "    </tr>\n",
       "  </thead>\n",
       "  <tbody>\n",
       "    <tr>\n",
       "      <th>0</th>\n",
       "      <td>8601 11 17947</td>\n",
       "      <td>123 Pine Ave.</td>\n",
       "      <td>8601.11.17947</td>\n",
       "    </tr>\n",
       "    <tr>\n",
       "      <th>1</th>\n",
       "      <td>8601 11 17949</td>\n",
       "      <td>main st</td>\n",
       "      <td>NaN</td>\n",
       "    </tr>\n",
       "    <tr>\n",
       "      <th>2</th>\n",
       "      <td>999 999 999</td>\n",
       "      <td>1234 west main heights 57033</td>\n",
       "      <td>NaN</td>\n",
       "    </tr>\n",
       "    <tr>\n",
       "      <th>3</th>\n",
       "      <td>004085616</td>\n",
       "      <td>apt 1 789 s maple rd manhattan</td>\n",
       "      <td>NaN</td>\n",
       "    </tr>\n",
       "    <tr>\n",
       "      <th>4</th>\n",
       "      <td>002 724 334</td>\n",
       "      <td>robie house, 789 north main street</td>\n",
       "      <td>NaN</td>\n",
       "    </tr>\n",
       "    <tr>\n",
       "      <th>5</th>\n",
       "      <td>hello</td>\n",
       "      <td>1111 S Figueroa St, Los Angeles, CA 90015</td>\n",
       "      <td>NaN</td>\n",
       "    </tr>\n",
       "    <tr>\n",
       "      <th>6</th>\n",
       "      <td>NaN</td>\n",
       "      <td>(staples center) 1111 S Figueroa St, Los Angeles</td>\n",
       "      <td>NaN</td>\n",
       "    </tr>\n",
       "    <tr>\n",
       "      <th>7</th>\n",
       "      <td>NULL</td>\n",
       "      <td>hello</td>\n",
       "      <td>NaN</td>\n",
       "    </tr>\n",
       "  </tbody>\n",
       "</table>\n",
       "</div>"
      ],
      "text/plain": [
       "         kontonr                                           address  \\\n",
       "0  8601 11 17947                                     123 Pine Ave.   \n",
       "1  8601 11 17949                                           main st   \n",
       "2    999 999 999                      1234 west main heights 57033   \n",
       "3      004085616                    apt 1 789 s maple rd manhattan   \n",
       "4    002 724 334                robie house, 789 north main street   \n",
       "5          hello         1111 S Figueroa St, Los Angeles, CA 90015   \n",
       "6            NaN  (staples center) 1111 S Figueroa St, Los Angeles   \n",
       "7           NULL                                             hello   \n",
       "\n",
       "   kontonr_clean  \n",
       "0  8601.11.17947  \n",
       "1            NaN  \n",
       "2            NaN  \n",
       "3            NaN  \n",
       "4            NaN  \n",
       "5            NaN  \n",
       "6            NaN  \n",
       "7            NaN  "
      ]
     },
     "execution_count": 1,
     "metadata": {},
     "output_type": "execute_result"
    }
   ],
   "source": [
    "from dataprep.clean import clean_no_kontonr\n",
    "clean_no_kontonr(df, column = \"kontonr\")"
   ]
  },
  {
   "cell_type": "markdown",
   "id": "perfect-military",
   "metadata": {},
   "source": [
    "## 2. Output formats"
   ]
  },
  {
   "cell_type": "markdown",
   "id": "actual-potato",
   "metadata": {},
   "source": [
    "This section demonstrates the output parameter."
   ]
  },
  {
   "cell_type": "markdown",
   "id": "fifteen-sharing",
   "metadata": {},
   "source": [
    "### `standard` (default)"
   ]
  },
  {
   "cell_type": "code",
   "execution_count": 3,
   "id": "absolute-calcium",
   "metadata": {
    "execution": {
     "iopub.execute_input": "2021-10-26T23:41:42.232353Z",
     "iopub.status.busy": "2021-10-26T23:41:42.226860Z",
     "iopub.status.idle": "2021-10-26T23:41:42.236188Z",
     "shell.execute_reply": "2021-10-26T23:41:42.235261Z"
    }
   },
   "outputs": [
    {
     "data": {
      "text/html": [
       "<div>\n",
       "<style scoped>\n",
       "    .dataframe tbody tr th:only-of-type {\n",
       "        vertical-align: middle;\n",
       "    }\n",
       "\n",
       "    .dataframe tbody tr th {\n",
       "        vertical-align: top;\n",
       "    }\n",
       "\n",
       "    .dataframe thead th {\n",
       "        text-align: right;\n",
       "    }\n",
       "</style>\n",
       "<table border=\"1\" class=\"dataframe\">\n",
       "  <thead>\n",
       "    <tr style=\"text-align: right;\">\n",
       "      <th></th>\n",
       "      <th>kontonr</th>\n",
       "      <th>address</th>\n",
       "      <th>kontonr_clean</th>\n",
       "    </tr>\n",
       "  </thead>\n",
       "  <tbody>\n",
       "    <tr>\n",
       "      <th>0</th>\n",
       "      <td>8601 11 17947</td>\n",
       "      <td>123 Pine Ave.</td>\n",
       "      <td>8601.11.17947</td>\n",
       "    </tr>\n",
       "    <tr>\n",
       "      <th>1</th>\n",
       "      <td>8601 11 17949</td>\n",
       "      <td>main st</td>\n",
       "      <td>NaN</td>\n",
       "    </tr>\n",
       "    <tr>\n",
       "      <th>2</th>\n",
       "      <td>999 999 999</td>\n",
       "      <td>1234 west main heights 57033</td>\n",
       "      <td>NaN</td>\n",
       "    </tr>\n",
       "    <tr>\n",
       "      <th>3</th>\n",
       "      <td>004085616</td>\n",
       "      <td>apt 1 789 s maple rd manhattan</td>\n",
       "      <td>NaN</td>\n",
       "    </tr>\n",
       "    <tr>\n",
       "      <th>4</th>\n",
       "      <td>002 724 334</td>\n",
       "      <td>robie house, 789 north main street</td>\n",
       "      <td>NaN</td>\n",
       "    </tr>\n",
       "    <tr>\n",
       "      <th>5</th>\n",
       "      <td>hello</td>\n",
       "      <td>1111 S Figueroa St, Los Angeles, CA 90015</td>\n",
       "      <td>NaN</td>\n",
       "    </tr>\n",
       "    <tr>\n",
       "      <th>6</th>\n",
       "      <td>NaN</td>\n",
       "      <td>(staples center) 1111 S Figueroa St, Los Angeles</td>\n",
       "      <td>NaN</td>\n",
       "    </tr>\n",
       "    <tr>\n",
       "      <th>7</th>\n",
       "      <td>NULL</td>\n",
       "      <td>hello</td>\n",
       "      <td>NaN</td>\n",
       "    </tr>\n",
       "  </tbody>\n",
       "</table>\n",
       "</div>"
      ],
      "text/plain": [
       "         kontonr                                           address  \\\n",
       "0  8601 11 17947                                     123 Pine Ave.   \n",
       "1  8601 11 17949                                           main st   \n",
       "2    999 999 999                      1234 west main heights 57033   \n",
       "3      004085616                    apt 1 789 s maple rd manhattan   \n",
       "4    002 724 334                robie house, 789 north main street   \n",
       "5          hello         1111 S Figueroa St, Los Angeles, CA 90015   \n",
       "6            NaN  (staples center) 1111 S Figueroa St, Los Angeles   \n",
       "7           NULL                                             hello   \n",
       "\n",
       "   kontonr_clean  \n",
       "0  8601.11.17947  \n",
       "1            NaN  \n",
       "2            NaN  \n",
       "3            NaN  \n",
       "4            NaN  \n",
       "5            NaN  \n",
       "6            NaN  \n",
       "7            NaN  "
      ]
     },
     "execution_count": 1,
     "metadata": {},
     "output_type": "execute_result"
    }
   ],
   "source": [
    "clean_no_kontonr(df, column = \"kontonr\", output_format=\"standard\")"
   ]
  },
  {
   "cell_type": "markdown",
   "id": "stopped-concern",
   "metadata": {},
   "source": [
    "### `compact`"
   ]
  },
  {
   "cell_type": "code",
   "execution_count": 4,
   "id": "critical-wisdom",
   "metadata": {
    "execution": {
     "iopub.execute_input": "2021-10-26T23:41:42.268541Z",
     "iopub.status.busy": "2021-10-26T23:41:42.267884Z",
     "iopub.status.idle": "2021-10-26T23:41:42.279547Z",
     "shell.execute_reply": "2021-10-26T23:41:42.280166Z"
    }
   },
   "outputs": [
    {
     "data": {
      "text/html": [
       "<div>\n",
       "<style scoped>\n",
       "    .dataframe tbody tr th:only-of-type {\n",
       "        vertical-align: middle;\n",
       "    }\n",
       "\n",
       "    .dataframe tbody tr th {\n",
       "        vertical-align: top;\n",
       "    }\n",
       "\n",
       "    .dataframe thead th {\n",
       "        text-align: right;\n",
       "    }\n",
       "</style>\n",
       "<table border=\"1\" class=\"dataframe\">\n",
       "  <thead>\n",
       "    <tr style=\"text-align: right;\">\n",
       "      <th></th>\n",
       "      <th>kontonr</th>\n",
       "      <th>address</th>\n",
       "      <th>kontonr_clean</th>\n",
       "    </tr>\n",
       "  </thead>\n",
       "  <tbody>\n",
       "    <tr>\n",
       "      <th>0</th>\n",
       "      <td>8601 11 17947</td>\n",
       "      <td>123 Pine Ave.</td>\n",
       "      <td>86011117947</td>\n",
       "    </tr>\n",
       "    <tr>\n",
       "      <th>1</th>\n",
       "      <td>8601 11 17949</td>\n",
       "      <td>main st</td>\n",
       "      <td>NaN</td>\n",
       "    </tr>\n",
       "    <tr>\n",
       "      <th>2</th>\n",
       "      <td>999 999 999</td>\n",
       "      <td>1234 west main heights 57033</td>\n",
       "      <td>NaN</td>\n",
       "    </tr>\n",
       "    <tr>\n",
       "      <th>3</th>\n",
       "      <td>004085616</td>\n",
       "      <td>apt 1 789 s maple rd manhattan</td>\n",
       "      <td>NaN</td>\n",
       "    </tr>\n",
       "    <tr>\n",
       "      <th>4</th>\n",
       "      <td>002 724 334</td>\n",
       "      <td>robie house, 789 north main street</td>\n",
       "      <td>NaN</td>\n",
       "    </tr>\n",
       "    <tr>\n",
       "      <th>5</th>\n",
       "      <td>hello</td>\n",
       "      <td>1111 S Figueroa St, Los Angeles, CA 90015</td>\n",
       "      <td>NaN</td>\n",
       "    </tr>\n",
       "    <tr>\n",
       "      <th>6</th>\n",
       "      <td>NaN</td>\n",
       "      <td>(staples center) 1111 S Figueroa St, Los Angeles</td>\n",
       "      <td>NaN</td>\n",
       "    </tr>\n",
       "    <tr>\n",
       "      <th>7</th>\n",
       "      <td>NULL</td>\n",
       "      <td>hello</td>\n",
       "      <td>NaN</td>\n",
       "    </tr>\n",
       "  </tbody>\n",
       "</table>\n",
       "</div>"
      ],
      "text/plain": [
       "         kontonr                                           address  \\\n",
       "0  8601 11 17947                                     123 Pine Ave.   \n",
       "1  8601 11 17949                                           main st   \n",
       "2    999 999 999                      1234 west main heights 57033   \n",
       "3      004085616                    apt 1 789 s maple rd manhattan   \n",
       "4    002 724 334                robie house, 789 north main street   \n",
       "5          hello         1111 S Figueroa St, Los Angeles, CA 90015   \n",
       "6            NaN  (staples center) 1111 S Figueroa St, Los Angeles   \n",
       "7           NULL                                             hello   \n",
       "\n",
       "  kontonr_clean  \n",
       "0   86011117947  \n",
       "1           NaN  \n",
       "2           NaN  \n",
       "3           NaN  \n",
       "4           NaN  \n",
       "5           NaN  \n",
       "6           NaN  \n",
       "7           NaN  "
      ]
     },
     "execution_count": 1,
     "metadata": {},
     "output_type": "execute_result"
    }
   ],
   "source": [
    "clean_no_kontonr(df, column = \"kontonr\", output_format=\"compact\")"
   ]
  },
  {
   "cell_type": "markdown",
   "id": "bound-trunk",
   "metadata": {},
   "source": [
    "### `iban`"
   ]
  },
  {
   "cell_type": "code",
   "execution_count": 5,
   "id": "considerable-adelaide",
   "metadata": {
    "execution": {
     "iopub.execute_input": "2021-10-26T23:41:42.310812Z",
     "iopub.status.busy": "2021-10-26T23:41:42.308280Z",
     "iopub.status.idle": "2021-10-26T23:41:42.327665Z",
     "shell.execute_reply": "2021-10-26T23:41:42.328152Z"
    }
   },
   "outputs": [
    {
     "data": {
      "text/html": [
       "<div>\n",
       "<style scoped>\n",
       "    .dataframe tbody tr th:only-of-type {\n",
       "        vertical-align: middle;\n",
       "    }\n",
       "\n",
       "    .dataframe tbody tr th {\n",
       "        vertical-align: top;\n",
       "    }\n",
       "\n",
       "    .dataframe thead th {\n",
       "        text-align: right;\n",
       "    }\n",
       "</style>\n",
       "<table border=\"1\" class=\"dataframe\">\n",
       "  <thead>\n",
       "    <tr style=\"text-align: right;\">\n",
       "      <th></th>\n",
       "      <th>kontonr</th>\n",
       "      <th>address</th>\n",
       "      <th>kontonr_clean</th>\n",
       "    </tr>\n",
       "  </thead>\n",
       "  <tbody>\n",
       "    <tr>\n",
       "      <th>0</th>\n",
       "      <td>8601 11 17947</td>\n",
       "      <td>123 Pine Ave.</td>\n",
       "      <td>NO93 8601 11 17947</td>\n",
       "    </tr>\n",
       "    <tr>\n",
       "      <th>1</th>\n",
       "      <td>8601 11 17949</td>\n",
       "      <td>main st</td>\n",
       "      <td>NaN</td>\n",
       "    </tr>\n",
       "    <tr>\n",
       "      <th>2</th>\n",
       "      <td>999 999 999</td>\n",
       "      <td>1234 west main heights 57033</td>\n",
       "      <td>NaN</td>\n",
       "    </tr>\n",
       "    <tr>\n",
       "      <th>3</th>\n",
       "      <td>004085616</td>\n",
       "      <td>apt 1 789 s maple rd manhattan</td>\n",
       "      <td>NaN</td>\n",
       "    </tr>\n",
       "    <tr>\n",
       "      <th>4</th>\n",
       "      <td>002 724 334</td>\n",
       "      <td>robie house, 789 north main street</td>\n",
       "      <td>NaN</td>\n",
       "    </tr>\n",
       "    <tr>\n",
       "      <th>5</th>\n",
       "      <td>hello</td>\n",
       "      <td>1111 S Figueroa St, Los Angeles, CA 90015</td>\n",
       "      <td>NaN</td>\n",
       "    </tr>\n",
       "    <tr>\n",
       "      <th>6</th>\n",
       "      <td>NaN</td>\n",
       "      <td>(staples center) 1111 S Figueroa St, Los Angeles</td>\n",
       "      <td>NaN</td>\n",
       "    </tr>\n",
       "    <tr>\n",
       "      <th>7</th>\n",
       "      <td>NULL</td>\n",
       "      <td>hello</td>\n",
       "      <td>NaN</td>\n",
       "    </tr>\n",
       "  </tbody>\n",
       "</table>\n",
       "</div>"
      ],
      "text/plain": [
       "         kontonr                                           address  \\\n",
       "0  8601 11 17947                                     123 Pine Ave.   \n",
       "1  8601 11 17949                                           main st   \n",
       "2    999 999 999                      1234 west main heights 57033   \n",
       "3      004085616                    apt 1 789 s maple rd manhattan   \n",
       "4    002 724 334                robie house, 789 north main street   \n",
       "5          hello         1111 S Figueroa St, Los Angeles, CA 90015   \n",
       "6            NaN  (staples center) 1111 S Figueroa St, Los Angeles   \n",
       "7           NULL                                             hello   \n",
       "\n",
       "        kontonr_clean  \n",
       "0  NO93 8601 11 17947  \n",
       "1                 NaN  \n",
       "2                 NaN  \n",
       "3                 NaN  \n",
       "4                 NaN  \n",
       "5                 NaN  \n",
       "6                 NaN  \n",
       "7                 NaN  "
      ]
     },
     "execution_count": 1,
     "metadata": {},
     "output_type": "execute_result"
    }
   ],
   "source": [
    "clean_no_kontonr(df, column = \"kontonr\", output_format=\"iban\")"
   ]
  },
  {
   "cell_type": "markdown",
   "id": "rising-melissa",
   "metadata": {},
   "source": [
    "## 3. `inplace` parameter\n",
    "\n",
    "This deletes the given column from the returned DataFrame. \n",
    "A new column containing cleaned kontonr strings is added with a title in the format `\"{original title}_clean\"`."
   ]
  },
  {
   "cell_type": "code",
   "execution_count": 6,
   "id": "hired-fundamentals",
   "metadata": {
    "execution": {
     "iopub.execute_input": "2021-10-26T23:41:42.371733Z",
     "iopub.status.busy": "2021-10-26T23:41:42.370648Z",
     "iopub.status.idle": "2021-10-26T23:41:42.388085Z",
     "shell.execute_reply": "2021-10-26T23:41:42.387501Z"
    }
   },
   "outputs": [
    {
     "data": {
      "text/html": [
       "<div>\n",
       "<style scoped>\n",
       "    .dataframe tbody tr th:only-of-type {\n",
       "        vertical-align: middle;\n",
       "    }\n",
       "\n",
       "    .dataframe tbody tr th {\n",
       "        vertical-align: top;\n",
       "    }\n",
       "\n",
       "    .dataframe thead th {\n",
       "        text-align: right;\n",
       "    }\n",
       "</style>\n",
       "<table border=\"1\" class=\"dataframe\">\n",
       "  <thead>\n",
       "    <tr style=\"text-align: right;\">\n",
       "      <th></th>\n",
       "      <th>kontonr_clean</th>\n",
       "      <th>address</th>\n",
       "    </tr>\n",
       "  </thead>\n",
       "  <tbody>\n",
       "    <tr>\n",
       "      <th>0</th>\n",
       "      <td>8601.11.17947</td>\n",
       "      <td>123 Pine Ave.</td>\n",
       "    </tr>\n",
       "    <tr>\n",
       "      <th>1</th>\n",
       "      <td>NaN</td>\n",
       "      <td>main st</td>\n",
       "    </tr>\n",
       "    <tr>\n",
       "      <th>2</th>\n",
       "      <td>NaN</td>\n",
       "      <td>1234 west main heights 57033</td>\n",
       "    </tr>\n",
       "    <tr>\n",
       "      <th>3</th>\n",
       "      <td>NaN</td>\n",
       "      <td>apt 1 789 s maple rd manhattan</td>\n",
       "    </tr>\n",
       "    <tr>\n",
       "      <th>4</th>\n",
       "      <td>NaN</td>\n",
       "      <td>robie house, 789 north main street</td>\n",
       "    </tr>\n",
       "    <tr>\n",
       "      <th>5</th>\n",
       "      <td>NaN</td>\n",
       "      <td>1111 S Figueroa St, Los Angeles, CA 90015</td>\n",
       "    </tr>\n",
       "    <tr>\n",
       "      <th>6</th>\n",
       "      <td>NaN</td>\n",
       "      <td>(staples center) 1111 S Figueroa St, Los Angeles</td>\n",
       "    </tr>\n",
       "    <tr>\n",
       "      <th>7</th>\n",
       "      <td>NaN</td>\n",
       "      <td>hello</td>\n",
       "    </tr>\n",
       "  </tbody>\n",
       "</table>\n",
       "</div>"
      ],
      "text/plain": [
       "   kontonr_clean                                           address\n",
       "0  8601.11.17947                                     123 Pine Ave.\n",
       "1            NaN                                           main st\n",
       "2            NaN                      1234 west main heights 57033\n",
       "3            NaN                    apt 1 789 s maple rd manhattan\n",
       "4            NaN                robie house, 789 north main street\n",
       "5            NaN         1111 S Figueroa St, Los Angeles, CA 90015\n",
       "6            NaN  (staples center) 1111 S Figueroa St, Los Angeles\n",
       "7            NaN                                             hello"
      ]
     },
     "execution_count": 1,
     "metadata": {},
     "output_type": "execute_result"
    }
   ],
   "source": [
    "clean_no_kontonr(df, column=\"kontonr\", inplace=True)"
   ]
  },
  {
   "cell_type": "markdown",
   "id": "modular-proposition",
   "metadata": {},
   "source": [
    "## 4. `errors` parameter"
   ]
  },
  {
   "cell_type": "markdown",
   "id": "disciplinary-greece",
   "metadata": {},
   "source": [
    "### `coerce` (default)"
   ]
  },
  {
   "cell_type": "code",
   "execution_count": 7,
   "id": "interested-methodology",
   "metadata": {
    "execution": {
     "iopub.execute_input": "2021-10-26T23:41:42.419226Z",
     "iopub.status.busy": "2021-10-26T23:41:42.418539Z",
     "iopub.status.idle": "2021-10-26T23:41:42.428160Z",
     "shell.execute_reply": "2021-10-26T23:41:42.428722Z"
    }
   },
   "outputs": [
    {
     "data": {
      "text/html": [
       "<div>\n",
       "<style scoped>\n",
       "    .dataframe tbody tr th:only-of-type {\n",
       "        vertical-align: middle;\n",
       "    }\n",
       "\n",
       "    .dataframe tbody tr th {\n",
       "        vertical-align: top;\n",
       "    }\n",
       "\n",
       "    .dataframe thead th {\n",
       "        text-align: right;\n",
       "    }\n",
       "</style>\n",
       "<table border=\"1\" class=\"dataframe\">\n",
       "  <thead>\n",
       "    <tr style=\"text-align: right;\">\n",
       "      <th></th>\n",
       "      <th>kontonr</th>\n",
       "      <th>address</th>\n",
       "      <th>kontonr_clean</th>\n",
       "    </tr>\n",
       "  </thead>\n",
       "  <tbody>\n",
       "    <tr>\n",
       "      <th>0</th>\n",
       "      <td>8601 11 17947</td>\n",
       "      <td>123 Pine Ave.</td>\n",
       "      <td>8601.11.17947</td>\n",
       "    </tr>\n",
       "    <tr>\n",
       "      <th>1</th>\n",
       "      <td>8601 11 17949</td>\n",
       "      <td>main st</td>\n",
       "      <td>NaN</td>\n",
       "    </tr>\n",
       "    <tr>\n",
       "      <th>2</th>\n",
       "      <td>999 999 999</td>\n",
       "      <td>1234 west main heights 57033</td>\n",
       "      <td>NaN</td>\n",
       "    </tr>\n",
       "    <tr>\n",
       "      <th>3</th>\n",
       "      <td>004085616</td>\n",
       "      <td>apt 1 789 s maple rd manhattan</td>\n",
       "      <td>NaN</td>\n",
       "    </tr>\n",
       "    <tr>\n",
       "      <th>4</th>\n",
       "      <td>002 724 334</td>\n",
       "      <td>robie house, 789 north main street</td>\n",
       "      <td>NaN</td>\n",
       "    </tr>\n",
       "    <tr>\n",
       "      <th>5</th>\n",
       "      <td>hello</td>\n",
       "      <td>1111 S Figueroa St, Los Angeles, CA 90015</td>\n",
       "      <td>NaN</td>\n",
       "    </tr>\n",
       "    <tr>\n",
       "      <th>6</th>\n",
       "      <td>NaN</td>\n",
       "      <td>(staples center) 1111 S Figueroa St, Los Angeles</td>\n",
       "      <td>NaN</td>\n",
       "    </tr>\n",
       "    <tr>\n",
       "      <th>7</th>\n",
       "      <td>NULL</td>\n",
       "      <td>hello</td>\n",
       "      <td>NaN</td>\n",
       "    </tr>\n",
       "  </tbody>\n",
       "</table>\n",
       "</div>"
      ],
      "text/plain": [
       "         kontonr                                           address  \\\n",
       "0  8601 11 17947                                     123 Pine Ave.   \n",
       "1  8601 11 17949                                           main st   \n",
       "2    999 999 999                      1234 west main heights 57033   \n",
       "3      004085616                    apt 1 789 s maple rd manhattan   \n",
       "4    002 724 334                robie house, 789 north main street   \n",
       "5          hello         1111 S Figueroa St, Los Angeles, CA 90015   \n",
       "6            NaN  (staples center) 1111 S Figueroa St, Los Angeles   \n",
       "7           NULL                                             hello   \n",
       "\n",
       "   kontonr_clean  \n",
       "0  8601.11.17947  \n",
       "1            NaN  \n",
       "2            NaN  \n",
       "3            NaN  \n",
       "4            NaN  \n",
       "5            NaN  \n",
       "6            NaN  \n",
       "7            NaN  "
      ]
     },
     "execution_count": 1,
     "metadata": {},
     "output_type": "execute_result"
    }
   ],
   "source": [
    "clean_no_kontonr(df, \"kontonr\", errors=\"coerce\")"
   ]
  },
  {
   "cell_type": "markdown",
   "id": "loving-university",
   "metadata": {},
   "source": [
    "### `ignore`"
   ]
  },
  {
   "cell_type": "code",
   "execution_count": 8,
   "id": "sunset-quantum",
   "metadata": {
    "execution": {
     "iopub.execute_input": "2021-10-26T23:41:42.458146Z",
     "iopub.status.busy": "2021-10-26T23:41:42.456611Z",
     "iopub.status.idle": "2021-10-26T23:41:42.468103Z",
     "shell.execute_reply": "2021-10-26T23:41:42.467441Z"
    }
   },
   "outputs": [
    {
     "data": {
      "text/html": [
       "<div>\n",
       "<style scoped>\n",
       "    .dataframe tbody tr th:only-of-type {\n",
       "        vertical-align: middle;\n",
       "    }\n",
       "\n",
       "    .dataframe tbody tr th {\n",
       "        vertical-align: top;\n",
       "    }\n",
       "\n",
       "    .dataframe thead th {\n",
       "        text-align: right;\n",
       "    }\n",
       "</style>\n",
       "<table border=\"1\" class=\"dataframe\">\n",
       "  <thead>\n",
       "    <tr style=\"text-align: right;\">\n",
       "      <th></th>\n",
       "      <th>kontonr</th>\n",
       "      <th>address</th>\n",
       "      <th>kontonr_clean</th>\n",
       "    </tr>\n",
       "  </thead>\n",
       "  <tbody>\n",
       "    <tr>\n",
       "      <th>0</th>\n",
       "      <td>8601 11 17947</td>\n",
       "      <td>123 Pine Ave.</td>\n",
       "      <td>8601.11.17947</td>\n",
       "    </tr>\n",
       "    <tr>\n",
       "      <th>1</th>\n",
       "      <td>8601 11 17949</td>\n",
       "      <td>main st</td>\n",
       "      <td>8601 11 17949</td>\n",
       "    </tr>\n",
       "    <tr>\n",
       "      <th>2</th>\n",
       "      <td>999 999 999</td>\n",
       "      <td>1234 west main heights 57033</td>\n",
       "      <td>999 999 999</td>\n",
       "    </tr>\n",
       "    <tr>\n",
       "      <th>3</th>\n",
       "      <td>004085616</td>\n",
       "      <td>apt 1 789 s maple rd manhattan</td>\n",
       "      <td>004085616</td>\n",
       "    </tr>\n",
       "    <tr>\n",
       "      <th>4</th>\n",
       "      <td>002 724 334</td>\n",
       "      <td>robie house, 789 north main street</td>\n",
       "      <td>002 724 334</td>\n",
       "    </tr>\n",
       "    <tr>\n",
       "      <th>5</th>\n",
       "      <td>hello</td>\n",
       "      <td>1111 S Figueroa St, Los Angeles, CA 90015</td>\n",
       "      <td>hello</td>\n",
       "    </tr>\n",
       "    <tr>\n",
       "      <th>6</th>\n",
       "      <td>NaN</td>\n",
       "      <td>(staples center) 1111 S Figueroa St, Los Angeles</td>\n",
       "      <td>NaN</td>\n",
       "    </tr>\n",
       "    <tr>\n",
       "      <th>7</th>\n",
       "      <td>NULL</td>\n",
       "      <td>hello</td>\n",
       "      <td>NaN</td>\n",
       "    </tr>\n",
       "  </tbody>\n",
       "</table>\n",
       "</div>"
      ],
      "text/plain": [
       "         kontonr                                           address  \\\n",
       "0  8601 11 17947                                     123 Pine Ave.   \n",
       "1  8601 11 17949                                           main st   \n",
       "2    999 999 999                      1234 west main heights 57033   \n",
       "3      004085616                    apt 1 789 s maple rd manhattan   \n",
       "4    002 724 334                robie house, 789 north main street   \n",
       "5          hello         1111 S Figueroa St, Los Angeles, CA 90015   \n",
       "6            NaN  (staples center) 1111 S Figueroa St, Los Angeles   \n",
       "7           NULL                                             hello   \n",
       "\n",
       "   kontonr_clean  \n",
       "0  8601.11.17947  \n",
       "1  8601 11 17949  \n",
       "2    999 999 999  \n",
       "3      004085616  \n",
       "4    002 724 334  \n",
       "5          hello  \n",
       "6            NaN  \n",
       "7            NaN  "
      ]
     },
     "execution_count": 1,
     "metadata": {},
     "output_type": "execute_result"
    }
   ],
   "source": [
    "clean_no_kontonr(df, \"kontonr\", errors=\"ignore\")"
   ]
  },
  {
   "cell_type": "markdown",
   "id": "decent-mobile",
   "metadata": {},
   "source": [
    "## 4. `validate_no_kontonr()`"
   ]
  },
  {
   "cell_type": "markdown",
   "id": "composed-manner",
   "metadata": {},
   "source": [
    "`validate_no_kontonr()` returns `True` when the input is a valid kontonr. Otherwise it returns `False`.\n",
    "\n",
    "The input of `validate_no_kontonr()` can be a string, a Pandas DataSeries, a Dask DataSeries, a Pandas DataFrame and a dask DataFrame.\n",
    "\n",
    "When the input is a string, a Pandas DataSeries or a Dask DataSeries, user doesn't need to specify a column name to be validated. \n",
    "\n",
    "When the input is a Pandas DataFrame or a dask DataFrame, user can both specify or not specify a column name to be validated. If user specify the column name, `validate_no_kontonr()` only returns the validation result for the specified column. If user doesn't specify the column name, `validate_no_kontonr()` returns the validation result for the whole DataFrame."
   ]
  },
  {
   "cell_type": "code",
   "execution_count": 9,
   "id": "alternate-ukraine",
   "metadata": {
    "execution": {
     "iopub.execute_input": "2021-10-26T23:41:42.476887Z",
     "iopub.status.busy": "2021-10-26T23:41:42.475502Z",
     "iopub.status.idle": "2021-10-26T23:41:42.479016Z",
     "shell.execute_reply": "2021-10-26T23:41:42.478466Z"
    }
   },
   "outputs": [
    {
     "name": "stdout",
     "output_type": "stream",
     "text": [
      "True\n",
      "False\n",
      "False\n",
      "False\n",
      "False\n",
      "False\n",
      "False\n",
      "False\n"
     ]
    }
   ],
   "source": [
    "from dataprep.clean import validate_no_kontonr\n",
    "print(validate_no_kontonr(\"8601 11 17947\"))\n",
    "print(validate_no_kontonr(\"8601 11 17949\"))\n",
    "print(validate_no_kontonr(\"999 999 999\"))\n",
    "print(validate_no_kontonr(\"51824753556\"))\n",
    "print(validate_no_kontonr(\"004085616\"))\n",
    "print(validate_no_kontonr(\"hello\"))\n",
    "print(validate_no_kontonr(np.nan))\n",
    "print(validate_no_kontonr(\"NULL\"))"
   ]
  },
  {
   "cell_type": "markdown",
   "id": "bigger-concord",
   "metadata": {},
   "source": [
    "### Series"
   ]
  },
  {
   "cell_type": "code",
   "execution_count": 10,
   "id": "bound-victoria",
   "metadata": {
    "execution": {
     "iopub.execute_input": "2021-10-26T23:41:42.485755Z",
     "iopub.status.busy": "2021-10-26T23:41:42.485115Z",
     "iopub.status.idle": "2021-10-26T23:41:42.488105Z",
     "shell.execute_reply": "2021-10-26T23:41:42.488618Z"
    }
   },
   "outputs": [
    {
     "data": {
      "text/plain": [
       "0     True\n",
       "1    False\n",
       "2    False\n",
       "3    False\n",
       "4    False\n",
       "5    False\n",
       "6    False\n",
       "7    False\n",
       "Name: kontonr, dtype: bool"
      ]
     },
     "execution_count": 1,
     "metadata": {},
     "output_type": "execute_result"
    }
   ],
   "source": [
    "validate_no_kontonr(df[\"kontonr\"])"
   ]
  },
  {
   "cell_type": "markdown",
   "id": "matched-setup",
   "metadata": {},
   "source": [
    "### DataFrame + Specify Column"
   ]
  },
  {
   "cell_type": "code",
   "execution_count": 11,
   "id": "terminal-broadcast",
   "metadata": {
    "execution": {
     "iopub.execute_input": "2021-10-26T23:41:42.495874Z",
     "iopub.status.busy": "2021-10-26T23:41:42.494764Z",
     "iopub.status.idle": "2021-10-26T23:41:42.497653Z",
     "shell.execute_reply": "2021-10-26T23:41:42.498147Z"
    }
   },
   "outputs": [
    {
     "data": {
      "text/plain": [
       "0     True\n",
       "1    False\n",
       "2    False\n",
       "3    False\n",
       "4    False\n",
       "5    False\n",
       "6    False\n",
       "7    False\n",
       "Name: kontonr, dtype: bool"
      ]
     },
     "execution_count": 1,
     "metadata": {},
     "output_type": "execute_result"
    }
   ],
   "source": [
    "validate_no_kontonr(df, column=\"kontonr\")"
   ]
  },
  {
   "cell_type": "markdown",
   "id": "played-miracle",
   "metadata": {},
   "source": [
    "### Only DataFrame"
   ]
  },
  {
   "cell_type": "code",
   "execution_count": 12,
   "id": "european-affiliate",
   "metadata": {
    "execution": {
     "iopub.execute_input": "2021-10-26T23:41:42.502503Z",
     "iopub.status.busy": "2021-10-26T23:41:42.501889Z",
     "iopub.status.idle": "2021-10-26T23:41:42.512188Z",
     "shell.execute_reply": "2021-10-26T23:41:42.511535Z"
    }
   },
   "outputs": [
    {
     "data": {
      "text/html": [
       "<div>\n",
       "<style scoped>\n",
       "    .dataframe tbody tr th:only-of-type {\n",
       "        vertical-align: middle;\n",
       "    }\n",
       "\n",
       "    .dataframe tbody tr th {\n",
       "        vertical-align: top;\n",
       "    }\n",
       "\n",
       "    .dataframe thead th {\n",
       "        text-align: right;\n",
       "    }\n",
       "</style>\n",
       "<table border=\"1\" class=\"dataframe\">\n",
       "  <thead>\n",
       "    <tr style=\"text-align: right;\">\n",
       "      <th></th>\n",
       "      <th>kontonr</th>\n",
       "      <th>address</th>\n",
       "    </tr>\n",
       "  </thead>\n",
       "  <tbody>\n",
       "    <tr>\n",
       "      <th>0</th>\n",
       "      <td>True</td>\n",
       "      <td>False</td>\n",
       "    </tr>\n",
       "    <tr>\n",
       "      <th>1</th>\n",
       "      <td>False</td>\n",
       "      <td>False</td>\n",
       "    </tr>\n",
       "    <tr>\n",
       "      <th>2</th>\n",
       "      <td>False</td>\n",
       "      <td>False</td>\n",
       "    </tr>\n",
       "    <tr>\n",
       "      <th>3</th>\n",
       "      <td>False</td>\n",
       "      <td>False</td>\n",
       "    </tr>\n",
       "    <tr>\n",
       "      <th>4</th>\n",
       "      <td>False</td>\n",
       "      <td>False</td>\n",
       "    </tr>\n",
       "    <tr>\n",
       "      <th>5</th>\n",
       "      <td>False</td>\n",
       "      <td>False</td>\n",
       "    </tr>\n",
       "    <tr>\n",
       "      <th>6</th>\n",
       "      <td>False</td>\n",
       "      <td>False</td>\n",
       "    </tr>\n",
       "    <tr>\n",
       "      <th>7</th>\n",
       "      <td>False</td>\n",
       "      <td>False</td>\n",
       "    </tr>\n",
       "  </tbody>\n",
       "</table>\n",
       "</div>"
      ],
      "text/plain": [
       "   kontonr  address\n",
       "0     True    False\n",
       "1    False    False\n",
       "2    False    False\n",
       "3    False    False\n",
       "4    False    False\n",
       "5    False    False\n",
       "6    False    False\n",
       "7    False    False"
      ]
     },
     "execution_count": 1,
     "metadata": {},
     "output_type": "execute_result"
    }
   ],
   "source": [
    "validate_no_kontonr(df)"
   ]
  },
  {
   "cell_type": "code",
   "execution_count": null,
   "id": "twelve-shareware",
   "metadata": {},
   "outputs": [],
   "source": []
  }
 ],
 "metadata": {
  "kernelspec": {
   "display_name": "Python 3",
   "language": "python",
   "name": "python3"
  },
  "language_info": {
   "codemirror_mode": {
    "name": "ipython",
    "version": 3
   },
   "file_extension": ".py",
   "mimetype": "text/x-python",
   "name": "python",
   "nbconvert_exporter": "python",
   "pygments_lexer": "ipython3",
   "version": "3.8.10"
  }
 },
 "nbformat": 4,
 "nbformat_minor": 5
}
