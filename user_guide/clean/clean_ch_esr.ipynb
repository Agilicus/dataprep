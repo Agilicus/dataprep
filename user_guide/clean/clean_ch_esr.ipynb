{
 "cells": [
  {
   "cell_type": "markdown",
   "id": "confirmed-broadway",
   "metadata": {},
   "source": [
    "# Swiss Einzahlungsschein MIT Referenznummers"
   ]
  },
  {
   "cell_type": "markdown",
   "id": "christian-dominant",
   "metadata": {},
   "source": [
    "## Introduction"
   ]
  },
  {
   "cell_type": "markdown",
   "id": "fatty-winning",
   "metadata": {},
   "source": [
    "The function `clean_ch_esr()` cleans a column containing Swiss EinzahlungsSchein mit Referenznummer (ESR) strings, and standardizes them in a given format. The function `validate_ch_esr()` validates either a single ESR strings, a column of ESR strings or a DataFrame of ESR strings, returning `True` if the value is valid, and `False` otherwise."
   ]
  },
  {
   "cell_type": "markdown",
   "id": "fatty-position",
   "metadata": {},
   "source": [
    "ESR strings can be converted to the following formats via the `output_format` parameter:\n",
    "\n",
    "* `compact`: only number strings without any seperators or whitespace, like \"1878583\"\n",
    "* `standard`: ESR strings with proper whitespace in the proper places, like \"00 00000 00000 00000 00018 78583\"\n",
    "\n",
    "Invalid parsing is handled with the `errors` parameter:\n",
    "\n",
    "* `coerce` (default): invalid parsing will be set to NaN\n",
    "* `ignore`: invalid parsing will return the input\n",
    "* `raise`: invalid parsing will raise an exception\n",
    "\n",
    "The following sections demonstrate the functionality of `clean_ch_esr()` and `validate_ch_esr()`. "
   ]
  },
  {
   "cell_type": "markdown",
   "id": "resident-industry",
   "metadata": {},
   "source": [
    "### An example dataset containing ESR strings"
   ]
  },
  {
   "cell_type": "code",
   "execution_count": 1,
   "id": "elementary-privilege",
   "metadata": {
    "execution": {
     "iopub.execute_input": "2021-11-04T02:09:34.997301Z",
     "iopub.status.busy": "2021-11-04T02:09:34.996846Z",
     "iopub.status.idle": "2021-11-04T02:09:35.214317Z",
     "shell.execute_reply": "2021-11-04T02:09:35.213850Z"
    }
   },
   "outputs": [
    {
     "data": {
      "text/html": [
       "<div>\n",
       "<style scoped>\n",
       "    .dataframe tbody tr th:only-of-type {\n",
       "        vertical-align: middle;\n",
       "    }\n",
       "\n",
       "    .dataframe tbody tr th {\n",
       "        vertical-align: top;\n",
       "    }\n",
       "\n",
       "    .dataframe thead th {\n",
       "        text-align: right;\n",
       "    }\n",
       "</style>\n",
       "<table border=\"1\" class=\"dataframe\">\n",
       "  <thead>\n",
       "    <tr style=\"text-align: right;\">\n",
       "      <th></th>\n",
       "      <th>esr</th>\n",
       "      <th>address</th>\n",
       "    </tr>\n",
       "  </thead>\n",
       "  <tbody>\n",
       "    <tr>\n",
       "      <th>0</th>\n",
       "      <td>18 78583</td>\n",
       "      <td>123 Pine Ave.</td>\n",
       "    </tr>\n",
       "    <tr>\n",
       "      <th>1</th>\n",
       "      <td>210000000003139471430009016</td>\n",
       "      <td>main st</td>\n",
       "    </tr>\n",
       "    <tr>\n",
       "      <th>2</th>\n",
       "      <td>51824753556</td>\n",
       "      <td>1234 west main heights 57033</td>\n",
       "    </tr>\n",
       "    <tr>\n",
       "      <th>3</th>\n",
       "      <td>51 824 753 556</td>\n",
       "      <td>apt 1 789 s maple rd manhattan</td>\n",
       "    </tr>\n",
       "    <tr>\n",
       "      <th>4</th>\n",
       "      <td>hello</td>\n",
       "      <td>robie house, 789 north main street</td>\n",
       "    </tr>\n",
       "    <tr>\n",
       "      <th>5</th>\n",
       "      <td>NaN</td>\n",
       "      <td>(staples center) 1111 S Figueroa St, Los Angeles</td>\n",
       "    </tr>\n",
       "    <tr>\n",
       "      <th>6</th>\n",
       "      <td>NULL</td>\n",
       "      <td>hello</td>\n",
       "    </tr>\n",
       "  </tbody>\n",
       "</table>\n",
       "</div>"
      ],
      "text/plain": [
       "                           esr  \\\n",
       "0                     18 78583   \n",
       "1  210000000003139471430009016   \n",
       "2                  51824753556   \n",
       "3               51 824 753 556   \n",
       "4                        hello   \n",
       "5                          NaN   \n",
       "6                         NULL   \n",
       "\n",
       "                                            address  \n",
       "0                                     123 Pine Ave.  \n",
       "1                                           main st  \n",
       "2                      1234 west main heights 57033  \n",
       "3                    apt 1 789 s maple rd manhattan  \n",
       "4                robie house, 789 north main street  \n",
       "5  (staples center) 1111 S Figueroa St, Los Angeles  \n",
       "6                                             hello  "
      ]
     },
     "execution_count": 1,
     "metadata": {},
     "output_type": "execute_result"
    }
   ],
   "source": [
    "import pandas as pd\n",
    "import numpy as np\n",
    "df = pd.DataFrame(\n",
    "    {\n",
    "        \"esr\": [\n",
    "            \"18 78583\",\n",
    "            \"210000000003139471430009016\",\n",
    "            \"51824753556\",\n",
    "            \"51 824 753 556\",\n",
    "            \"hello\",\n",
    "            np.nan,\n",
    "            \"NULL\"\n",
    "        ], \n",
    "        \"address\": [\n",
    "            \"123 Pine Ave.\",\n",
    "            \"main st\",\n",
    "            \"1234 west main heights 57033\",\n",
    "            \"apt 1 789 s maple rd manhattan\",\n",
    "            \"robie house, 789 north main street\",\n",
    "            \"(staples center) 1111 S Figueroa St, Los Angeles\",\n",
    "            \"hello\",\n",
    "        ]\n",
    "    }\n",
    ")\n",
    "df"
   ]
  },
  {
   "cell_type": "markdown",
   "id": "isolated-bikini",
   "metadata": {},
   "source": [
    "## 1. Default `clean_ch_esr`\n",
    "\n",
    "By default, `clean_ch_esr` will clean esr strings and output them in the standard format with proper separators."
   ]
  },
  {
   "cell_type": "code",
   "execution_count": 2,
   "id": "fiscal-modem",
   "metadata": {
    "execution": {
     "iopub.execute_input": "2021-11-04T02:09:35.218374Z",
     "iopub.status.busy": "2021-11-04T02:09:35.217319Z",
     "iopub.status.idle": "2021-11-04T02:09:35.749105Z",
     "shell.execute_reply": "2021-11-04T02:09:35.748381Z"
    }
   },
   "outputs": [
    {
     "data": {
      "text/html": [
       "<div>\n",
       "<style scoped>\n",
       "    .dataframe tbody tr th:only-of-type {\n",
       "        vertical-align: middle;\n",
       "    }\n",
       "\n",
       "    .dataframe tbody tr th {\n",
       "        vertical-align: top;\n",
       "    }\n",
       "\n",
       "    .dataframe thead th {\n",
       "        text-align: right;\n",
       "    }\n",
       "</style>\n",
       "<table border=\"1\" class=\"dataframe\">\n",
       "  <thead>\n",
       "    <tr style=\"text-align: right;\">\n",
       "      <th></th>\n",
       "      <th>esr</th>\n",
       "      <th>address</th>\n",
       "      <th>esr_clean</th>\n",
       "    </tr>\n",
       "  </thead>\n",
       "  <tbody>\n",
       "    <tr>\n",
       "      <th>0</th>\n",
       "      <td>18 78583</td>\n",
       "      <td>123 Pine Ave.</td>\n",
       "      <td>00 00000 00000 00000 00018 78583</td>\n",
       "    </tr>\n",
       "    <tr>\n",
       "      <th>1</th>\n",
       "      <td>210000000003139471430009016</td>\n",
       "      <td>main st</td>\n",
       "      <td>NaN</td>\n",
       "    </tr>\n",
       "    <tr>\n",
       "      <th>2</th>\n",
       "      <td>51824753556</td>\n",
       "      <td>1234 west main heights 57033</td>\n",
       "      <td>NaN</td>\n",
       "    </tr>\n",
       "    <tr>\n",
       "      <th>3</th>\n",
       "      <td>51 824 753 556</td>\n",
       "      <td>apt 1 789 s maple rd manhattan</td>\n",
       "      <td>NaN</td>\n",
       "    </tr>\n",
       "    <tr>\n",
       "      <th>4</th>\n",
       "      <td>hello</td>\n",
       "      <td>robie house, 789 north main street</td>\n",
       "      <td>NaN</td>\n",
       "    </tr>\n",
       "    <tr>\n",
       "      <th>5</th>\n",
       "      <td>NaN</td>\n",
       "      <td>(staples center) 1111 S Figueroa St, Los Angeles</td>\n",
       "      <td>NaN</td>\n",
       "    </tr>\n",
       "    <tr>\n",
       "      <th>6</th>\n",
       "      <td>NULL</td>\n",
       "      <td>hello</td>\n",
       "      <td>NaN</td>\n",
       "    </tr>\n",
       "  </tbody>\n",
       "</table>\n",
       "</div>"
      ],
      "text/plain": [
       "                           esr  \\\n",
       "0                     18 78583   \n",
       "1  210000000003139471430009016   \n",
       "2                  51824753556   \n",
       "3               51 824 753 556   \n",
       "4                        hello   \n",
       "5                          NaN   \n",
       "6                         NULL   \n",
       "\n",
       "                                            address  \\\n",
       "0                                     123 Pine Ave.   \n",
       "1                                           main st   \n",
       "2                      1234 west main heights 57033   \n",
       "3                    apt 1 789 s maple rd manhattan   \n",
       "4                robie house, 789 north main street   \n",
       "5  (staples center) 1111 S Figueroa St, Los Angeles   \n",
       "6                                             hello   \n",
       "\n",
       "                          esr_clean  \n",
       "0  00 00000 00000 00000 00018 78583  \n",
       "1                               NaN  \n",
       "2                               NaN  \n",
       "3                               NaN  \n",
       "4                               NaN  \n",
       "5                               NaN  \n",
       "6                               NaN  "
      ]
     },
     "execution_count": 1,
     "metadata": {},
     "output_type": "execute_result"
    }
   ],
   "source": [
    "from dataprep.clean import clean_ch_esr\n",
    "clean_ch_esr(df, column = \"esr\")"
   ]
  },
  {
   "cell_type": "markdown",
   "id": "alien-gossip",
   "metadata": {},
   "source": [
    "## 2. Output formats"
   ]
  },
  {
   "cell_type": "markdown",
   "id": "published-transcript",
   "metadata": {},
   "source": [
    "This section demonstrates the output parameter."
   ]
  },
  {
   "cell_type": "markdown",
   "id": "express-primary",
   "metadata": {},
   "source": [
    "### `standard` (default)"
   ]
  },
  {
   "cell_type": "code",
   "execution_count": 3,
   "id": "every-emission",
   "metadata": {
    "execution": {
     "iopub.execute_input": "2021-11-04T02:09:35.768319Z",
     "iopub.status.busy": "2021-11-04T02:09:35.765469Z",
     "iopub.status.idle": "2021-11-04T02:09:35.776540Z",
     "shell.execute_reply": "2021-11-04T02:09:35.776165Z"
    }
   },
   "outputs": [
    {
     "data": {
      "text/html": [
       "<div>\n",
       "<style scoped>\n",
       "    .dataframe tbody tr th:only-of-type {\n",
       "        vertical-align: middle;\n",
       "    }\n",
       "\n",
       "    .dataframe tbody tr th {\n",
       "        vertical-align: top;\n",
       "    }\n",
       "\n",
       "    .dataframe thead th {\n",
       "        text-align: right;\n",
       "    }\n",
       "</style>\n",
       "<table border=\"1\" class=\"dataframe\">\n",
       "  <thead>\n",
       "    <tr style=\"text-align: right;\">\n",
       "      <th></th>\n",
       "      <th>esr</th>\n",
       "      <th>address</th>\n",
       "      <th>esr_clean</th>\n",
       "    </tr>\n",
       "  </thead>\n",
       "  <tbody>\n",
       "    <tr>\n",
       "      <th>0</th>\n",
       "      <td>18 78583</td>\n",
       "      <td>123 Pine Ave.</td>\n",
       "      <td>00 00000 00000 00000 00018 78583</td>\n",
       "    </tr>\n",
       "    <tr>\n",
       "      <th>1</th>\n",
       "      <td>210000000003139471430009016</td>\n",
       "      <td>main st</td>\n",
       "      <td>NaN</td>\n",
       "    </tr>\n",
       "    <tr>\n",
       "      <th>2</th>\n",
       "      <td>51824753556</td>\n",
       "      <td>1234 west main heights 57033</td>\n",
       "      <td>NaN</td>\n",
       "    </tr>\n",
       "    <tr>\n",
       "      <th>3</th>\n",
       "      <td>51 824 753 556</td>\n",
       "      <td>apt 1 789 s maple rd manhattan</td>\n",
       "      <td>NaN</td>\n",
       "    </tr>\n",
       "    <tr>\n",
       "      <th>4</th>\n",
       "      <td>hello</td>\n",
       "      <td>robie house, 789 north main street</td>\n",
       "      <td>NaN</td>\n",
       "    </tr>\n",
       "    <tr>\n",
       "      <th>5</th>\n",
       "      <td>NaN</td>\n",
       "      <td>(staples center) 1111 S Figueroa St, Los Angeles</td>\n",
       "      <td>NaN</td>\n",
       "    </tr>\n",
       "    <tr>\n",
       "      <th>6</th>\n",
       "      <td>NULL</td>\n",
       "      <td>hello</td>\n",
       "      <td>NaN</td>\n",
       "    </tr>\n",
       "  </tbody>\n",
       "</table>\n",
       "</div>"
      ],
      "text/plain": [
       "                           esr  \\\n",
       "0                     18 78583   \n",
       "1  210000000003139471430009016   \n",
       "2                  51824753556   \n",
       "3               51 824 753 556   \n",
       "4                        hello   \n",
       "5                          NaN   \n",
       "6                         NULL   \n",
       "\n",
       "                                            address  \\\n",
       "0                                     123 Pine Ave.   \n",
       "1                                           main st   \n",
       "2                      1234 west main heights 57033   \n",
       "3                    apt 1 789 s maple rd manhattan   \n",
       "4                robie house, 789 north main street   \n",
       "5  (staples center) 1111 S Figueroa St, Los Angeles   \n",
       "6                                             hello   \n",
       "\n",
       "                          esr_clean  \n",
       "0  00 00000 00000 00000 00018 78583  \n",
       "1                               NaN  \n",
       "2                               NaN  \n",
       "3                               NaN  \n",
       "4                               NaN  \n",
       "5                               NaN  \n",
       "6                               NaN  "
      ]
     },
     "execution_count": 1,
     "metadata": {},
     "output_type": "execute_result"
    }
   ],
   "source": [
    "clean_ch_esr(df, column = \"esr\", output_format=\"standard\")"
   ]
  },
  {
   "cell_type": "markdown",
   "id": "meaning-classification",
   "metadata": {},
   "source": [
    "### `compact`"
   ]
  },
  {
   "cell_type": "code",
   "execution_count": 4,
   "id": "responsible-register",
   "metadata": {
    "execution": {
     "iopub.execute_input": "2021-11-04T02:09:35.799318Z",
     "iopub.status.busy": "2021-11-04T02:09:35.797541Z",
     "iopub.status.idle": "2021-11-04T02:09:35.801998Z",
     "shell.execute_reply": "2021-11-04T02:09:35.801343Z"
    }
   },
   "outputs": [
    {
     "data": {
      "text/html": [
       "<div>\n",
       "<style scoped>\n",
       "    .dataframe tbody tr th:only-of-type {\n",
       "        vertical-align: middle;\n",
       "    }\n",
       "\n",
       "    .dataframe tbody tr th {\n",
       "        vertical-align: top;\n",
       "    }\n",
       "\n",
       "    .dataframe thead th {\n",
       "        text-align: right;\n",
       "    }\n",
       "</style>\n",
       "<table border=\"1\" class=\"dataframe\">\n",
       "  <thead>\n",
       "    <tr style=\"text-align: right;\">\n",
       "      <th></th>\n",
       "      <th>esr</th>\n",
       "      <th>address</th>\n",
       "      <th>esr_clean</th>\n",
       "    </tr>\n",
       "  </thead>\n",
       "  <tbody>\n",
       "    <tr>\n",
       "      <th>0</th>\n",
       "      <td>18 78583</td>\n",
       "      <td>123 Pine Ave.</td>\n",
       "      <td>1878583</td>\n",
       "    </tr>\n",
       "    <tr>\n",
       "      <th>1</th>\n",
       "      <td>210000000003139471430009016</td>\n",
       "      <td>main st</td>\n",
       "      <td>NaN</td>\n",
       "    </tr>\n",
       "    <tr>\n",
       "      <th>2</th>\n",
       "      <td>51824753556</td>\n",
       "      <td>1234 west main heights 57033</td>\n",
       "      <td>NaN</td>\n",
       "    </tr>\n",
       "    <tr>\n",
       "      <th>3</th>\n",
       "      <td>51 824 753 556</td>\n",
       "      <td>apt 1 789 s maple rd manhattan</td>\n",
       "      <td>NaN</td>\n",
       "    </tr>\n",
       "    <tr>\n",
       "      <th>4</th>\n",
       "      <td>hello</td>\n",
       "      <td>robie house, 789 north main street</td>\n",
       "      <td>NaN</td>\n",
       "    </tr>\n",
       "    <tr>\n",
       "      <th>5</th>\n",
       "      <td>NaN</td>\n",
       "      <td>(staples center) 1111 S Figueroa St, Los Angeles</td>\n",
       "      <td>NaN</td>\n",
       "    </tr>\n",
       "    <tr>\n",
       "      <th>6</th>\n",
       "      <td>NULL</td>\n",
       "      <td>hello</td>\n",
       "      <td>NaN</td>\n",
       "    </tr>\n",
       "  </tbody>\n",
       "</table>\n",
       "</div>"
      ],
      "text/plain": [
       "                           esr  \\\n",
       "0                     18 78583   \n",
       "1  210000000003139471430009016   \n",
       "2                  51824753556   \n",
       "3               51 824 753 556   \n",
       "4                        hello   \n",
       "5                          NaN   \n",
       "6                         NULL   \n",
       "\n",
       "                                            address esr_clean  \n",
       "0                                     123 Pine Ave.   1878583  \n",
       "1                                           main st       NaN  \n",
       "2                      1234 west main heights 57033       NaN  \n",
       "3                    apt 1 789 s maple rd manhattan       NaN  \n",
       "4                robie house, 789 north main street       NaN  \n",
       "5  (staples center) 1111 S Figueroa St, Los Angeles       NaN  \n",
       "6                                             hello       NaN  "
      ]
     },
     "execution_count": 1,
     "metadata": {},
     "output_type": "execute_result"
    }
   ],
   "source": [
    "clean_ch_esr(df, column = \"esr\", output_format=\"compact\")"
   ]
  },
  {
   "cell_type": "markdown",
   "id": "opposite-maintenance",
   "metadata": {},
   "source": [
    "## 3. `inplace` parameter\n",
    "\n",
    "This deletes the given column from the returned DataFrame. \n",
    "A new column containing cleaned ESR strings is added with a title in the format `\"{original title}_clean\"`."
   ]
  },
  {
   "cell_type": "code",
   "execution_count": 5,
   "id": "elect-infrared",
   "metadata": {
    "execution": {
     "iopub.execute_input": "2021-11-04T02:09:35.832877Z",
     "iopub.status.busy": "2021-11-04T02:09:35.829583Z",
     "iopub.status.idle": "2021-11-04T02:09:35.835446Z",
     "shell.execute_reply": "2021-11-04T02:09:35.835040Z"
    }
   },
   "outputs": [
    {
     "data": {
      "text/html": [
       "<div>\n",
       "<style scoped>\n",
       "    .dataframe tbody tr th:only-of-type {\n",
       "        vertical-align: middle;\n",
       "    }\n",
       "\n",
       "    .dataframe tbody tr th {\n",
       "        vertical-align: top;\n",
       "    }\n",
       "\n",
       "    .dataframe thead th {\n",
       "        text-align: right;\n",
       "    }\n",
       "</style>\n",
       "<table border=\"1\" class=\"dataframe\">\n",
       "  <thead>\n",
       "    <tr style=\"text-align: right;\">\n",
       "      <th></th>\n",
       "      <th>esr_clean</th>\n",
       "      <th>address</th>\n",
       "    </tr>\n",
       "  </thead>\n",
       "  <tbody>\n",
       "    <tr>\n",
       "      <th>0</th>\n",
       "      <td>00 00000 00000 00000 00018 78583</td>\n",
       "      <td>123 Pine Ave.</td>\n",
       "    </tr>\n",
       "    <tr>\n",
       "      <th>1</th>\n",
       "      <td>NaN</td>\n",
       "      <td>main st</td>\n",
       "    </tr>\n",
       "    <tr>\n",
       "      <th>2</th>\n",
       "      <td>NaN</td>\n",
       "      <td>1234 west main heights 57033</td>\n",
       "    </tr>\n",
       "    <tr>\n",
       "      <th>3</th>\n",
       "      <td>NaN</td>\n",
       "      <td>apt 1 789 s maple rd manhattan</td>\n",
       "    </tr>\n",
       "    <tr>\n",
       "      <th>4</th>\n",
       "      <td>NaN</td>\n",
       "      <td>robie house, 789 north main street</td>\n",
       "    </tr>\n",
       "    <tr>\n",
       "      <th>5</th>\n",
       "      <td>NaN</td>\n",
       "      <td>(staples center) 1111 S Figueroa St, Los Angeles</td>\n",
       "    </tr>\n",
       "    <tr>\n",
       "      <th>6</th>\n",
       "      <td>NaN</td>\n",
       "      <td>hello</td>\n",
       "    </tr>\n",
       "  </tbody>\n",
       "</table>\n",
       "</div>"
      ],
      "text/plain": [
       "                          esr_clean  \\\n",
       "0  00 00000 00000 00000 00018 78583   \n",
       "1                               NaN   \n",
       "2                               NaN   \n",
       "3                               NaN   \n",
       "4                               NaN   \n",
       "5                               NaN   \n",
       "6                               NaN   \n",
       "\n",
       "                                            address  \n",
       "0                                     123 Pine Ave.  \n",
       "1                                           main st  \n",
       "2                      1234 west main heights 57033  \n",
       "3                    apt 1 789 s maple rd manhattan  \n",
       "4                robie house, 789 north main street  \n",
       "5  (staples center) 1111 S Figueroa St, Los Angeles  \n",
       "6                                             hello  "
      ]
     },
     "execution_count": 1,
     "metadata": {},
     "output_type": "execute_result"
    }
   ],
   "source": [
    "clean_ch_esr(df, column=\"esr\", inplace=True)"
   ]
  },
  {
   "cell_type": "markdown",
   "id": "weighted-junior",
   "metadata": {},
   "source": [
    "## 4. `errors` parameter"
   ]
  },
  {
   "cell_type": "markdown",
   "id": "daily-startup",
   "metadata": {},
   "source": [
    "### `coerce` (default)"
   ]
  },
  {
   "cell_type": "code",
   "execution_count": 6,
   "id": "smoking-eating",
   "metadata": {
    "execution": {
     "iopub.execute_input": "2021-11-04T02:09:35.858337Z",
     "iopub.status.busy": "2021-11-04T02:09:35.854380Z",
     "iopub.status.idle": "2021-11-04T02:09:35.862473Z",
     "shell.execute_reply": "2021-11-04T02:09:35.862098Z"
    }
   },
   "outputs": [
    {
     "data": {
      "text/html": [
       "<div>\n",
       "<style scoped>\n",
       "    .dataframe tbody tr th:only-of-type {\n",
       "        vertical-align: middle;\n",
       "    }\n",
       "\n",
       "    .dataframe tbody tr th {\n",
       "        vertical-align: top;\n",
       "    }\n",
       "\n",
       "    .dataframe thead th {\n",
       "        text-align: right;\n",
       "    }\n",
       "</style>\n",
       "<table border=\"1\" class=\"dataframe\">\n",
       "  <thead>\n",
       "    <tr style=\"text-align: right;\">\n",
       "      <th></th>\n",
       "      <th>esr</th>\n",
       "      <th>address</th>\n",
       "      <th>esr_clean</th>\n",
       "    </tr>\n",
       "  </thead>\n",
       "  <tbody>\n",
       "    <tr>\n",
       "      <th>0</th>\n",
       "      <td>18 78583</td>\n",
       "      <td>123 Pine Ave.</td>\n",
       "      <td>00 00000 00000 00000 00018 78583</td>\n",
       "    </tr>\n",
       "    <tr>\n",
       "      <th>1</th>\n",
       "      <td>210000000003139471430009016</td>\n",
       "      <td>main st</td>\n",
       "      <td>NaN</td>\n",
       "    </tr>\n",
       "    <tr>\n",
       "      <th>2</th>\n",
       "      <td>51824753556</td>\n",
       "      <td>1234 west main heights 57033</td>\n",
       "      <td>NaN</td>\n",
       "    </tr>\n",
       "    <tr>\n",
       "      <th>3</th>\n",
       "      <td>51 824 753 556</td>\n",
       "      <td>apt 1 789 s maple rd manhattan</td>\n",
       "      <td>NaN</td>\n",
       "    </tr>\n",
       "    <tr>\n",
       "      <th>4</th>\n",
       "      <td>hello</td>\n",
       "      <td>robie house, 789 north main street</td>\n",
       "      <td>NaN</td>\n",
       "    </tr>\n",
       "    <tr>\n",
       "      <th>5</th>\n",
       "      <td>NaN</td>\n",
       "      <td>(staples center) 1111 S Figueroa St, Los Angeles</td>\n",
       "      <td>NaN</td>\n",
       "    </tr>\n",
       "    <tr>\n",
       "      <th>6</th>\n",
       "      <td>NULL</td>\n",
       "      <td>hello</td>\n",
       "      <td>NaN</td>\n",
       "    </tr>\n",
       "  </tbody>\n",
       "</table>\n",
       "</div>"
      ],
      "text/plain": [
       "                           esr  \\\n",
       "0                     18 78583   \n",
       "1  210000000003139471430009016   \n",
       "2                  51824753556   \n",
       "3               51 824 753 556   \n",
       "4                        hello   \n",
       "5                          NaN   \n",
       "6                         NULL   \n",
       "\n",
       "                                            address  \\\n",
       "0                                     123 Pine Ave.   \n",
       "1                                           main st   \n",
       "2                      1234 west main heights 57033   \n",
       "3                    apt 1 789 s maple rd manhattan   \n",
       "4                robie house, 789 north main street   \n",
       "5  (staples center) 1111 S Figueroa St, Los Angeles   \n",
       "6                                             hello   \n",
       "\n",
       "                          esr_clean  \n",
       "0  00 00000 00000 00000 00018 78583  \n",
       "1                               NaN  \n",
       "2                               NaN  \n",
       "3                               NaN  \n",
       "4                               NaN  \n",
       "5                               NaN  \n",
       "6                               NaN  "
      ]
     },
     "execution_count": 1,
     "metadata": {},
     "output_type": "execute_result"
    }
   ],
   "source": [
    "clean_ch_esr(df, \"esr\", errors=\"coerce\")"
   ]
  },
  {
   "cell_type": "markdown",
   "id": "hindu-jersey",
   "metadata": {},
   "source": [
    "### `ignore`"
   ]
  },
  {
   "cell_type": "code",
   "execution_count": 7,
   "id": "laughing-steel",
   "metadata": {
    "execution": {
     "iopub.execute_input": "2021-11-04T02:09:35.885752Z",
     "iopub.status.busy": "2021-11-04T02:09:35.881385Z",
     "iopub.status.idle": "2021-11-04T02:09:35.889631Z",
     "shell.execute_reply": "2021-11-04T02:09:35.889239Z"
    }
   },
   "outputs": [
    {
     "data": {
      "text/html": [
       "<div>\n",
       "<style scoped>\n",
       "    .dataframe tbody tr th:only-of-type {\n",
       "        vertical-align: middle;\n",
       "    }\n",
       "\n",
       "    .dataframe tbody tr th {\n",
       "        vertical-align: top;\n",
       "    }\n",
       "\n",
       "    .dataframe thead th {\n",
       "        text-align: right;\n",
       "    }\n",
       "</style>\n",
       "<table border=\"1\" class=\"dataframe\">\n",
       "  <thead>\n",
       "    <tr style=\"text-align: right;\">\n",
       "      <th></th>\n",
       "      <th>esr</th>\n",
       "      <th>address</th>\n",
       "      <th>esr_clean</th>\n",
       "    </tr>\n",
       "  </thead>\n",
       "  <tbody>\n",
       "    <tr>\n",
       "      <th>0</th>\n",
       "      <td>18 78583</td>\n",
       "      <td>123 Pine Ave.</td>\n",
       "      <td>00 00000 00000 00000 00018 78583</td>\n",
       "    </tr>\n",
       "    <tr>\n",
       "      <th>1</th>\n",
       "      <td>210000000003139471430009016</td>\n",
       "      <td>main st</td>\n",
       "      <td>210000000003139471430009016</td>\n",
       "    </tr>\n",
       "    <tr>\n",
       "      <th>2</th>\n",
       "      <td>51824753556</td>\n",
       "      <td>1234 west main heights 57033</td>\n",
       "      <td>51824753556</td>\n",
       "    </tr>\n",
       "    <tr>\n",
       "      <th>3</th>\n",
       "      <td>51 824 753 556</td>\n",
       "      <td>apt 1 789 s maple rd manhattan</td>\n",
       "      <td>51 824 753 556</td>\n",
       "    </tr>\n",
       "    <tr>\n",
       "      <th>4</th>\n",
       "      <td>hello</td>\n",
       "      <td>robie house, 789 north main street</td>\n",
       "      <td>hello</td>\n",
       "    </tr>\n",
       "    <tr>\n",
       "      <th>5</th>\n",
       "      <td>NaN</td>\n",
       "      <td>(staples center) 1111 S Figueroa St, Los Angeles</td>\n",
       "      <td>NaN</td>\n",
       "    </tr>\n",
       "    <tr>\n",
       "      <th>6</th>\n",
       "      <td>NULL</td>\n",
       "      <td>hello</td>\n",
       "      <td>NaN</td>\n",
       "    </tr>\n",
       "  </tbody>\n",
       "</table>\n",
       "</div>"
      ],
      "text/plain": [
       "                           esr  \\\n",
       "0                     18 78583   \n",
       "1  210000000003139471430009016   \n",
       "2                  51824753556   \n",
       "3               51 824 753 556   \n",
       "4                        hello   \n",
       "5                          NaN   \n",
       "6                         NULL   \n",
       "\n",
       "                                            address  \\\n",
       "0                                     123 Pine Ave.   \n",
       "1                                           main st   \n",
       "2                      1234 west main heights 57033   \n",
       "3                    apt 1 789 s maple rd manhattan   \n",
       "4                robie house, 789 north main street   \n",
       "5  (staples center) 1111 S Figueroa St, Los Angeles   \n",
       "6                                             hello   \n",
       "\n",
       "                          esr_clean  \n",
       "0  00 00000 00000 00000 00018 78583  \n",
       "1       210000000003139471430009016  \n",
       "2                       51824753556  \n",
       "3                    51 824 753 556  \n",
       "4                             hello  \n",
       "5                               NaN  \n",
       "6                               NaN  "
      ]
     },
     "execution_count": 1,
     "metadata": {},
     "output_type": "execute_result"
    }
   ],
   "source": [
    "clean_ch_esr(df, \"esr\", errors=\"ignore\")"
   ]
  },
  {
   "cell_type": "markdown",
   "id": "expired-helmet",
   "metadata": {},
   "source": [
    "## 4. `validate_ch_esr()`"
   ]
  },
  {
   "cell_type": "markdown",
   "id": "copyrighted-abraham",
   "metadata": {},
   "source": [
    "`validate_ch_esr()` returns `True` when the input is a valid ESR. Otherwise it returns `False`.\n",
    "\n",
    "The input of `validate_ch_esr()` can be a string, a Pandas DataSeries, a Dask DataSeries, a Pandas DataFrame and a dask DataFrame.\n",
    "\n",
    "When the input is a string, a Pandas DataSeries or a Dask DataSeries, user doesn't need to specify a column name to be validated. \n",
    "\n",
    "When the input is a Pandas DataFrame or a dask DataFrame, user can both specify or not specify a column name to be validated. If user specify the column name, `validate_ch_esr()` only returns the validation result for the specified column. If user doesn't specify the column name, `validate_ch_esr()` returns the validation result for the whole DataFrame."
   ]
  },
  {
   "cell_type": "code",
   "execution_count": 8,
   "id": "martial-genetics",
   "metadata": {
    "execution": {
     "iopub.execute_input": "2021-11-04T02:09:35.894128Z",
     "iopub.status.busy": "2021-11-04T02:09:35.893690Z",
     "iopub.status.idle": "2021-11-04T02:09:35.896995Z",
     "shell.execute_reply": "2021-11-04T02:09:35.897351Z"
    }
   },
   "outputs": [
    {
     "name": "stdout",
     "output_type": "stream",
     "text": [
      "True\n",
      "False\n",
      "False\n",
      "False\n",
      "False\n",
      "False\n",
      "False\n"
     ]
    }
   ],
   "source": [
    "from dataprep.clean import validate_ch_esr\n",
    "print(validate_ch_esr(\"18 78583\"))\n",
    "print(validate_ch_esr(\"210000000003139471430009016\"))\n",
    "print(validate_ch_esr(\"51824753556\"))\n",
    "print(validate_ch_esr(\"51 824 753 556\"))\n",
    "print(validate_ch_esr(\"hello\"))\n",
    "print(validate_ch_esr(np.nan))\n",
    "print(validate_ch_esr(\"NULL\"))"
   ]
  },
  {
   "cell_type": "markdown",
   "id": "universal-mortality",
   "metadata": {},
   "source": [
    "### Series"
   ]
  },
  {
   "cell_type": "code",
   "execution_count": 9,
   "id": "imperial-radius",
   "metadata": {
    "execution": {
     "iopub.execute_input": "2021-11-04T02:09:35.901863Z",
     "iopub.status.busy": "2021-11-04T02:09:35.901435Z",
     "iopub.status.idle": "2021-11-04T02:09:35.903990Z",
     "shell.execute_reply": "2021-11-04T02:09:35.903608Z"
    }
   },
   "outputs": [
    {
     "data": {
      "text/plain": [
       "0     True\n",
       "1    False\n",
       "2    False\n",
       "3    False\n",
       "4    False\n",
       "5    False\n",
       "6    False\n",
       "Name: esr, dtype: bool"
      ]
     },
     "execution_count": 1,
     "metadata": {},
     "output_type": "execute_result"
    }
   ],
   "source": [
    "validate_ch_esr(df[\"esr\"])"
   ]
  },
  {
   "cell_type": "markdown",
   "id": "ranging-privacy",
   "metadata": {},
   "source": [
    "### DataFrame + Specify Column"
   ]
  },
  {
   "cell_type": "code",
   "execution_count": 10,
   "id": "intended-wilderness",
   "metadata": {
    "execution": {
     "iopub.execute_input": "2021-11-04T02:09:35.908200Z",
     "iopub.status.busy": "2021-11-04T02:09:35.907781Z",
     "iopub.status.idle": "2021-11-04T02:09:35.911891Z",
     "shell.execute_reply": "2021-11-04T02:09:35.911510Z"
    }
   },
   "outputs": [
    {
     "data": {
      "text/plain": [
       "0     True\n",
       "1    False\n",
       "2    False\n",
       "3    False\n",
       "4    False\n",
       "5    False\n",
       "6    False\n",
       "Name: esr, dtype: bool"
      ]
     },
     "execution_count": 1,
     "metadata": {},
     "output_type": "execute_result"
    }
   ],
   "source": [
    "validate_ch_esr(df, column=\"esr\")"
   ]
  },
  {
   "cell_type": "markdown",
   "id": "tired-taxation",
   "metadata": {},
   "source": [
    "### Only DataFrame"
   ]
  },
  {
   "cell_type": "code",
   "execution_count": 11,
   "id": "atomic-valley",
   "metadata": {
    "execution": {
     "iopub.execute_input": "2021-11-04T02:09:35.915002Z",
     "iopub.status.busy": "2021-11-04T02:09:35.914585Z",
     "iopub.status.idle": "2021-11-04T02:09:35.923475Z",
     "shell.execute_reply": "2021-11-04T02:09:35.922673Z"
    }
   },
   "outputs": [
    {
     "data": {
      "text/html": [
       "<div>\n",
       "<style scoped>\n",
       "    .dataframe tbody tr th:only-of-type {\n",
       "        vertical-align: middle;\n",
       "    }\n",
       "\n",
       "    .dataframe tbody tr th {\n",
       "        vertical-align: top;\n",
       "    }\n",
       "\n",
       "    .dataframe thead th {\n",
       "        text-align: right;\n",
       "    }\n",
       "</style>\n",
       "<table border=\"1\" class=\"dataframe\">\n",
       "  <thead>\n",
       "    <tr style=\"text-align: right;\">\n",
       "      <th></th>\n",
       "      <th>esr</th>\n",
       "      <th>address</th>\n",
       "    </tr>\n",
       "  </thead>\n",
       "  <tbody>\n",
       "    <tr>\n",
       "      <th>0</th>\n",
       "      <td>True</td>\n",
       "      <td>False</td>\n",
       "    </tr>\n",
       "    <tr>\n",
       "      <th>1</th>\n",
       "      <td>False</td>\n",
       "      <td>False</td>\n",
       "    </tr>\n",
       "    <tr>\n",
       "      <th>2</th>\n",
       "      <td>False</td>\n",
       "      <td>False</td>\n",
       "    </tr>\n",
       "    <tr>\n",
       "      <th>3</th>\n",
       "      <td>False</td>\n",
       "      <td>False</td>\n",
       "    </tr>\n",
       "    <tr>\n",
       "      <th>4</th>\n",
       "      <td>False</td>\n",
       "      <td>False</td>\n",
       "    </tr>\n",
       "    <tr>\n",
       "      <th>5</th>\n",
       "      <td>False</td>\n",
       "      <td>False</td>\n",
       "    </tr>\n",
       "    <tr>\n",
       "      <th>6</th>\n",
       "      <td>False</td>\n",
       "      <td>False</td>\n",
       "    </tr>\n",
       "  </tbody>\n",
       "</table>\n",
       "</div>"
      ],
      "text/plain": [
       "     esr  address\n",
       "0   True    False\n",
       "1  False    False\n",
       "2  False    False\n",
       "3  False    False\n",
       "4  False    False\n",
       "5  False    False\n",
       "6  False    False"
      ]
     },
     "execution_count": 1,
     "metadata": {},
     "output_type": "execute_result"
    }
   ],
   "source": [
    "validate_ch_esr(df)"
   ]
  },
  {
   "cell_type": "code",
   "execution_count": null,
   "id": "pointed-wilson",
   "metadata": {},
   "outputs": [],
   "source": []
  }
 ],
 "metadata": {
  "kernelspec": {
   "display_name": "Python 3",
   "language": "python",
   "name": "python3"
  },
  "language_info": {
   "codemirror_mode": {
    "name": "ipython",
    "version": 3
   },
   "file_extension": ".py",
   "mimetype": "text/x-python",
   "name": "python",
   "nbconvert_exporter": "python",
   "pygments_lexer": "ipython3",
   "version": "3.8.10"
  }
 },
 "nbformat": 4,
 "nbformat_minor": 5
}
