{
 "cells": [
  {
   "cell_type": "raw",
   "id": "given-jacob",
   "metadata": {},
   "source": [
    ".. _esr_userguide:\n",
    "\n",
    "ESR Strings\n",
    "============"
   ]
  },
  {
   "cell_type": "raw",
   "id": "color-treasure",
   "metadata": {},
   "source": [
    "Introduction\n",
    "------------\n",
    "\n",
    "The function :func:`clean_ch_esr() <dataprep.clean.clean_ch_esr.clean_ch_esr>` cleans a column containing Swiss EinzahlungsSchein mit Referenznummer (ESR) strings, and standardizes them in a given format. The function :func:`validate_ch_esr() <dataprep.clean.clean_ch_esr.validate_ch_esr>` validates either a single ESR strings, a column of ESR strings or a DataFrame of ESR strings, returning `True` if the value is valid, and `False` otherwise."
   ]
  },
  {
   "cell_type": "markdown",
   "id": "criminal-jesus",
   "metadata": {},
   "source": [
    "ESR strings can be converted to the following formats via the `output_format` parameter:\n",
    "\n",
    "* `compact`: only number strings without any seperators or whitespace, like \"1878583\"\n",
    "* `standard`: ESR strings with proper whitespace in the proper places, like \"00 00000 00000 00000 00018 78583\"\n",
    "\n",
    "Invalid parsing is handled with the `errors` parameter:\n",
    "\n",
    "* `coerce` (default): invalid parsing will be set to NaN\n",
    "* `ignore`: invalid parsing will return the input\n",
    "* `raise`: invalid parsing will raise an exception\n",
    "\n",
    "The following sections demonstrate the functionality of `clean_ch_esr()` and `validate_ch_esr()`. "
   ]
  },
  {
   "cell_type": "markdown",
   "id": "animated-disease",
   "metadata": {},
   "source": [
    "### An example dataset containing ESR strings"
   ]
  },
  {
   "cell_type": "code",
   "execution_count": 1,
   "id": "otherwise-macro",
   "metadata": {
    "execution": {
     "iopub.execute_input": "2021-10-26T22:58:01.948094Z",
     "iopub.status.busy": "2021-10-26T22:58:01.947510Z",
     "iopub.status.idle": "2021-10-26T22:58:02.155996Z",
     "shell.execute_reply": "2021-10-26T22:58:02.155510Z"
    }
   },
   "outputs": [
    {
     "data": {
      "text/html": [
       "<div>\n",
       "<style scoped>\n",
       "    .dataframe tbody tr th:only-of-type {\n",
       "        vertical-align: middle;\n",
       "    }\n",
       "\n",
       "    .dataframe tbody tr th {\n",
       "        vertical-align: top;\n",
       "    }\n",
       "\n",
       "    .dataframe thead th {\n",
       "        text-align: right;\n",
       "    }\n",
       "</style>\n",
       "<table border=\"1\" class=\"dataframe\">\n",
       "  <thead>\n",
       "    <tr style=\"text-align: right;\">\n",
       "      <th></th>\n",
       "      <th>esr</th>\n",
       "      <th>address</th>\n",
       "    </tr>\n",
       "  </thead>\n",
       "  <tbody>\n",
       "    <tr>\n",
       "      <th>0</th>\n",
       "      <td>18 78583</td>\n",
       "      <td>123 Pine Ave.</td>\n",
       "    </tr>\n",
       "    <tr>\n",
       "      <th>1</th>\n",
       "      <td>210000000003139471430009016</td>\n",
       "      <td>main st</td>\n",
       "    </tr>\n",
       "    <tr>\n",
       "      <th>2</th>\n",
       "      <td>51824753556</td>\n",
       "      <td>1234 west main heights 57033</td>\n",
       "    </tr>\n",
       "    <tr>\n",
       "      <th>3</th>\n",
       "      <td>51 824 753 556</td>\n",
       "      <td>apt 1 789 s maple rd manhattan</td>\n",
       "    </tr>\n",
       "    <tr>\n",
       "      <th>4</th>\n",
       "      <td>hello</td>\n",
       "      <td>robie house, 789 north main street</td>\n",
       "    </tr>\n",
       "    <tr>\n",
       "      <th>5</th>\n",
       "      <td>NaN</td>\n",
       "      <td>(staples center) 1111 S Figueroa St, Los Angeles</td>\n",
       "    </tr>\n",
       "    <tr>\n",
       "      <th>6</th>\n",
       "      <td>NULL</td>\n",
       "      <td>hello</td>\n",
       "    </tr>\n",
       "  </tbody>\n",
       "</table>\n",
       "</div>"
      ],
      "text/plain": [
       "                           esr  \\\n",
       "0                     18 78583   \n",
       "1  210000000003139471430009016   \n",
       "2                  51824753556   \n",
       "3               51 824 753 556   \n",
       "4                        hello   \n",
       "5                          NaN   \n",
       "6                         NULL   \n",
       "\n",
       "                                            address  \n",
       "0                                     123 Pine Ave.  \n",
       "1                                           main st  \n",
       "2                      1234 west main heights 57033  \n",
       "3                    apt 1 789 s maple rd manhattan  \n",
       "4                robie house, 789 north main street  \n",
       "5  (staples center) 1111 S Figueroa St, Los Angeles  \n",
       "6                                             hello  "
      ]
     },
     "execution_count": 1,
     "metadata": {},
     "output_type": "execute_result"
    }
   ],
   "source": [
    "import pandas as pd\n",
    "import numpy as np\n",
    "df = pd.DataFrame(\n",
    "    {\n",
    "        \"esr\": [\n",
    "            \"18 78583\",\n",
    "            \"210000000003139471430009016\",\n",
    "            \"51824753556\",\n",
    "            \"51 824 753 556\",\n",
    "            \"hello\",\n",
    "            np.nan,\n",
    "            \"NULL\"\n",
    "        ], \n",
    "        \"address\": [\n",
    "            \"123 Pine Ave.\",\n",
    "            \"main st\",\n",
    "            \"1234 west main heights 57033\",\n",
    "            \"apt 1 789 s maple rd manhattan\",\n",
    "            \"robie house, 789 north main street\",\n",
    "            \"(staples center) 1111 S Figueroa St, Los Angeles\",\n",
    "            \"hello\",\n",
    "        ]\n",
    "    }\n",
    ")\n",
    "df"
   ]
  },
  {
   "cell_type": "markdown",
   "id": "regional-church",
   "metadata": {},
   "source": [
    "## 1. Default `clean_ch_esr`\n",
    "\n",
    "By default, `clean_ch_esr` will clean esr strings and output them in the standard format with proper separators."
   ]
  },
  {
   "cell_type": "code",
   "execution_count": 2,
   "id": "operational-phenomenon",
   "metadata": {
    "execution": {
     "iopub.execute_input": "2021-10-26T22:58:02.159609Z",
     "iopub.status.busy": "2021-10-26T22:58:02.159058Z",
     "iopub.status.idle": "2021-10-26T22:58:02.692448Z",
     "shell.execute_reply": "2021-10-26T22:58:02.692804Z"
    }
   },
   "outputs": [
    {
     "data": {
      "text/html": [
       "<div>\n",
       "<style scoped>\n",
       "    .dataframe tbody tr th:only-of-type {\n",
       "        vertical-align: middle;\n",
       "    }\n",
       "\n",
       "    .dataframe tbody tr th {\n",
       "        vertical-align: top;\n",
       "    }\n",
       "\n",
       "    .dataframe thead th {\n",
       "        text-align: right;\n",
       "    }\n",
       "</style>\n",
       "<table border=\"1\" class=\"dataframe\">\n",
       "  <thead>\n",
       "    <tr style=\"text-align: right;\">\n",
       "      <th></th>\n",
       "      <th>esr</th>\n",
       "      <th>address</th>\n",
       "      <th>esr_clean</th>\n",
       "    </tr>\n",
       "  </thead>\n",
       "  <tbody>\n",
       "    <tr>\n",
       "      <th>0</th>\n",
       "      <td>18 78583</td>\n",
       "      <td>123 Pine Ave.</td>\n",
       "      <td>00 00000 00000 00000 00018 78583</td>\n",
       "    </tr>\n",
       "    <tr>\n",
       "      <th>1</th>\n",
       "      <td>210000000003139471430009016</td>\n",
       "      <td>main st</td>\n",
       "      <td>NaN</td>\n",
       "    </tr>\n",
       "    <tr>\n",
       "      <th>2</th>\n",
       "      <td>51824753556</td>\n",
       "      <td>1234 west main heights 57033</td>\n",
       "      <td>NaN</td>\n",
       "    </tr>\n",
       "    <tr>\n",
       "      <th>3</th>\n",
       "      <td>51 824 753 556</td>\n",
       "      <td>apt 1 789 s maple rd manhattan</td>\n",
       "      <td>NaN</td>\n",
       "    </tr>\n",
       "    <tr>\n",
       "      <th>4</th>\n",
       "      <td>hello</td>\n",
       "      <td>robie house, 789 north main street</td>\n",
       "      <td>NaN</td>\n",
       "    </tr>\n",
       "    <tr>\n",
       "      <th>5</th>\n",
       "      <td>NaN</td>\n",
       "      <td>(staples center) 1111 S Figueroa St, Los Angeles</td>\n",
       "      <td>NaN</td>\n",
       "    </tr>\n",
       "    <tr>\n",
       "      <th>6</th>\n",
       "      <td>NULL</td>\n",
       "      <td>hello</td>\n",
       "      <td>NaN</td>\n",
       "    </tr>\n",
       "  </tbody>\n",
       "</table>\n",
       "</div>"
      ],
      "text/plain": [
       "                           esr  \\\n",
       "0                     18 78583   \n",
       "1  210000000003139471430009016   \n",
       "2                  51824753556   \n",
       "3               51 824 753 556   \n",
       "4                        hello   \n",
       "5                          NaN   \n",
       "6                         NULL   \n",
       "\n",
       "                                            address  \\\n",
       "0                                     123 Pine Ave.   \n",
       "1                                           main st   \n",
       "2                      1234 west main heights 57033   \n",
       "3                    apt 1 789 s maple rd manhattan   \n",
       "4                robie house, 789 north main street   \n",
       "5  (staples center) 1111 S Figueroa St, Los Angeles   \n",
       "6                                             hello   \n",
       "\n",
       "                          esr_clean  \n",
       "0  00 00000 00000 00000 00018 78583  \n",
       "1                               NaN  \n",
       "2                               NaN  \n",
       "3                               NaN  \n",
       "4                               NaN  \n",
       "5                               NaN  \n",
       "6                               NaN  "
      ]
     },
     "execution_count": 1,
     "metadata": {},
     "output_type": "execute_result"
    }
   ],
   "source": [
    "from dataprep.clean import clean_ch_esr\n",
    "clean_ch_esr(df, column = \"esr\")"
   ]
  },
  {
   "cell_type": "markdown",
   "id": "radio-orleans",
   "metadata": {},
   "source": [
    "## 2. Output formats"
   ]
  },
  {
   "cell_type": "markdown",
   "id": "intellectual-batman",
   "metadata": {},
   "source": [
    "This section demonstrates the output parameter."
   ]
  },
  {
   "cell_type": "markdown",
   "id": "minimal-amplifier",
   "metadata": {},
   "source": [
    "### `standard` (default)"
   ]
  },
  {
   "cell_type": "code",
   "execution_count": 3,
   "id": "african-location",
   "metadata": {
    "execution": {
     "iopub.execute_input": "2021-10-26T22:58:02.716761Z",
     "iopub.status.busy": "2021-10-26T22:58:02.709139Z",
     "iopub.status.idle": "2021-10-26T22:58:02.720854Z",
     "shell.execute_reply": "2021-10-26T22:58:02.720461Z"
    }
   },
   "outputs": [
    {
     "data": {
      "text/html": [
       "<div>\n",
       "<style scoped>\n",
       "    .dataframe tbody tr th:only-of-type {\n",
       "        vertical-align: middle;\n",
       "    }\n",
       "\n",
       "    .dataframe tbody tr th {\n",
       "        vertical-align: top;\n",
       "    }\n",
       "\n",
       "    .dataframe thead th {\n",
       "        text-align: right;\n",
       "    }\n",
       "</style>\n",
       "<table border=\"1\" class=\"dataframe\">\n",
       "  <thead>\n",
       "    <tr style=\"text-align: right;\">\n",
       "      <th></th>\n",
       "      <th>esr</th>\n",
       "      <th>address</th>\n",
       "      <th>esr_clean</th>\n",
       "    </tr>\n",
       "  </thead>\n",
       "  <tbody>\n",
       "    <tr>\n",
       "      <th>0</th>\n",
       "      <td>18 78583</td>\n",
       "      <td>123 Pine Ave.</td>\n",
       "      <td>00 00000 00000 00000 00018 78583</td>\n",
       "    </tr>\n",
       "    <tr>\n",
       "      <th>1</th>\n",
       "      <td>210000000003139471430009016</td>\n",
       "      <td>main st</td>\n",
       "      <td>NaN</td>\n",
       "    </tr>\n",
       "    <tr>\n",
       "      <th>2</th>\n",
       "      <td>51824753556</td>\n",
       "      <td>1234 west main heights 57033</td>\n",
       "      <td>NaN</td>\n",
       "    </tr>\n",
       "    <tr>\n",
       "      <th>3</th>\n",
       "      <td>51 824 753 556</td>\n",
       "      <td>apt 1 789 s maple rd manhattan</td>\n",
       "      <td>NaN</td>\n",
       "    </tr>\n",
       "    <tr>\n",
       "      <th>4</th>\n",
       "      <td>hello</td>\n",
       "      <td>robie house, 789 north main street</td>\n",
       "      <td>NaN</td>\n",
       "    </tr>\n",
       "    <tr>\n",
       "      <th>5</th>\n",
       "      <td>NaN</td>\n",
       "      <td>(staples center) 1111 S Figueroa St, Los Angeles</td>\n",
       "      <td>NaN</td>\n",
       "    </tr>\n",
       "    <tr>\n",
       "      <th>6</th>\n",
       "      <td>NULL</td>\n",
       "      <td>hello</td>\n",
       "      <td>NaN</td>\n",
       "    </tr>\n",
       "  </tbody>\n",
       "</table>\n",
       "</div>"
      ],
      "text/plain": [
       "                           esr  \\\n",
       "0                     18 78583   \n",
       "1  210000000003139471430009016   \n",
       "2                  51824753556   \n",
       "3               51 824 753 556   \n",
       "4                        hello   \n",
       "5                          NaN   \n",
       "6                         NULL   \n",
       "\n",
       "                                            address  \\\n",
       "0                                     123 Pine Ave.   \n",
       "1                                           main st   \n",
       "2                      1234 west main heights 57033   \n",
       "3                    apt 1 789 s maple rd manhattan   \n",
       "4                robie house, 789 north main street   \n",
       "5  (staples center) 1111 S Figueroa St, Los Angeles   \n",
       "6                                             hello   \n",
       "\n",
       "                          esr_clean  \n",
       "0  00 00000 00000 00000 00018 78583  \n",
       "1                               NaN  \n",
       "2                               NaN  \n",
       "3                               NaN  \n",
       "4                               NaN  \n",
       "5                               NaN  \n",
       "6                               NaN  "
      ]
     },
     "execution_count": 1,
     "metadata": {},
     "output_type": "execute_result"
    }
   ],
   "source": [
    "clean_ch_esr(df, column = \"esr\", output_format=\"standard\")"
   ]
  },
  {
   "cell_type": "markdown",
   "id": "another-front",
   "metadata": {},
   "source": [
    "### `compact`"
   ]
  },
  {
   "cell_type": "code",
   "execution_count": 4,
   "id": "excess-panama",
   "metadata": {
    "execution": {
     "iopub.execute_input": "2021-10-26T22:58:02.744048Z",
     "iopub.status.busy": "2021-10-26T22:58:02.739737Z",
     "iopub.status.idle": "2021-10-26T22:58:02.746684Z",
     "shell.execute_reply": "2021-10-26T22:58:02.746297Z"
    }
   },
   "outputs": [
    {
     "data": {
      "text/html": [
       "<div>\n",
       "<style scoped>\n",
       "    .dataframe tbody tr th:only-of-type {\n",
       "        vertical-align: middle;\n",
       "    }\n",
       "\n",
       "    .dataframe tbody tr th {\n",
       "        vertical-align: top;\n",
       "    }\n",
       "\n",
       "    .dataframe thead th {\n",
       "        text-align: right;\n",
       "    }\n",
       "</style>\n",
       "<table border=\"1\" class=\"dataframe\">\n",
       "  <thead>\n",
       "    <tr style=\"text-align: right;\">\n",
       "      <th></th>\n",
       "      <th>esr</th>\n",
       "      <th>address</th>\n",
       "      <th>esr_clean</th>\n",
       "    </tr>\n",
       "  </thead>\n",
       "  <tbody>\n",
       "    <tr>\n",
       "      <th>0</th>\n",
       "      <td>18 78583</td>\n",
       "      <td>123 Pine Ave.</td>\n",
       "      <td>1878583</td>\n",
       "    </tr>\n",
       "    <tr>\n",
       "      <th>1</th>\n",
       "      <td>210000000003139471430009016</td>\n",
       "      <td>main st</td>\n",
       "      <td>NaN</td>\n",
       "    </tr>\n",
       "    <tr>\n",
       "      <th>2</th>\n",
       "      <td>51824753556</td>\n",
       "      <td>1234 west main heights 57033</td>\n",
       "      <td>NaN</td>\n",
       "    </tr>\n",
       "    <tr>\n",
       "      <th>3</th>\n",
       "      <td>51 824 753 556</td>\n",
       "      <td>apt 1 789 s maple rd manhattan</td>\n",
       "      <td>NaN</td>\n",
       "    </tr>\n",
       "    <tr>\n",
       "      <th>4</th>\n",
       "      <td>hello</td>\n",
       "      <td>robie house, 789 north main street</td>\n",
       "      <td>NaN</td>\n",
       "    </tr>\n",
       "    <tr>\n",
       "      <th>5</th>\n",
       "      <td>NaN</td>\n",
       "      <td>(staples center) 1111 S Figueroa St, Los Angeles</td>\n",
       "      <td>NaN</td>\n",
       "    </tr>\n",
       "    <tr>\n",
       "      <th>6</th>\n",
       "      <td>NULL</td>\n",
       "      <td>hello</td>\n",
       "      <td>NaN</td>\n",
       "    </tr>\n",
       "  </tbody>\n",
       "</table>\n",
       "</div>"
      ],
      "text/plain": [
       "                           esr  \\\n",
       "0                     18 78583   \n",
       "1  210000000003139471430009016   \n",
       "2                  51824753556   \n",
       "3               51 824 753 556   \n",
       "4                        hello   \n",
       "5                          NaN   \n",
       "6                         NULL   \n",
       "\n",
       "                                            address esr_clean  \n",
       "0                                     123 Pine Ave.   1878583  \n",
       "1                                           main st       NaN  \n",
       "2                      1234 west main heights 57033       NaN  \n",
       "3                    apt 1 789 s maple rd manhattan       NaN  \n",
       "4                robie house, 789 north main street       NaN  \n",
       "5  (staples center) 1111 S Figueroa St, Los Angeles       NaN  \n",
       "6                                             hello       NaN  "
      ]
     },
     "execution_count": 1,
     "metadata": {},
     "output_type": "execute_result"
    }
   ],
   "source": [
    "clean_ch_esr(df, column = \"esr\", output_format=\"compact\")"
   ]
  },
  {
   "cell_type": "markdown",
   "id": "entertaining-brook",
   "metadata": {},
   "source": [
    "## 3. `inplace` parameter\n",
    "\n",
    "This deletes the given column from the returned DataFrame. \n",
    "A new column containing cleaned ESR strings is added with a title in the format `\"{original title}_clean\"`."
   ]
  },
  {
   "cell_type": "code",
   "execution_count": 5,
   "id": "entire-escape",
   "metadata": {
    "execution": {
     "iopub.execute_input": "2021-10-26T22:58:02.775014Z",
     "iopub.status.busy": "2021-10-26T22:58:02.774269Z",
     "iopub.status.idle": "2021-10-26T22:58:02.782338Z",
     "shell.execute_reply": "2021-10-26T22:58:02.782898Z"
    }
   },
   "outputs": [
    {
     "data": {
      "text/html": [
       "<div>\n",
       "<style scoped>\n",
       "    .dataframe tbody tr th:only-of-type {\n",
       "        vertical-align: middle;\n",
       "    }\n",
       "\n",
       "    .dataframe tbody tr th {\n",
       "        vertical-align: top;\n",
       "    }\n",
       "\n",
       "    .dataframe thead th {\n",
       "        text-align: right;\n",
       "    }\n",
       "</style>\n",
       "<table border=\"1\" class=\"dataframe\">\n",
       "  <thead>\n",
       "    <tr style=\"text-align: right;\">\n",
       "      <th></th>\n",
       "      <th>esr_clean</th>\n",
       "      <th>address</th>\n",
       "    </tr>\n",
       "  </thead>\n",
       "  <tbody>\n",
       "    <tr>\n",
       "      <th>0</th>\n",
       "      <td>00 00000 00000 00000 00018 78583</td>\n",
       "      <td>123 Pine Ave.</td>\n",
       "    </tr>\n",
       "    <tr>\n",
       "      <th>1</th>\n",
       "      <td>NaN</td>\n",
       "      <td>main st</td>\n",
       "    </tr>\n",
       "    <tr>\n",
       "      <th>2</th>\n",
       "      <td>NaN</td>\n",
       "      <td>1234 west main heights 57033</td>\n",
       "    </tr>\n",
       "    <tr>\n",
       "      <th>3</th>\n",
       "      <td>NaN</td>\n",
       "      <td>apt 1 789 s maple rd manhattan</td>\n",
       "    </tr>\n",
       "    <tr>\n",
       "      <th>4</th>\n",
       "      <td>NaN</td>\n",
       "      <td>robie house, 789 north main street</td>\n",
       "    </tr>\n",
       "    <tr>\n",
       "      <th>5</th>\n",
       "      <td>NaN</td>\n",
       "      <td>(staples center) 1111 S Figueroa St, Los Angeles</td>\n",
       "    </tr>\n",
       "    <tr>\n",
       "      <th>6</th>\n",
       "      <td>NaN</td>\n",
       "      <td>hello</td>\n",
       "    </tr>\n",
       "  </tbody>\n",
       "</table>\n",
       "</div>"
      ],
      "text/plain": [
       "                          esr_clean  \\\n",
       "0  00 00000 00000 00000 00018 78583   \n",
       "1                               NaN   \n",
       "2                               NaN   \n",
       "3                               NaN   \n",
       "4                               NaN   \n",
       "5                               NaN   \n",
       "6                               NaN   \n",
       "\n",
       "                                            address  \n",
       "0                                     123 Pine Ave.  \n",
       "1                                           main st  \n",
       "2                      1234 west main heights 57033  \n",
       "3                    apt 1 789 s maple rd manhattan  \n",
       "4                robie house, 789 north main street  \n",
       "5  (staples center) 1111 S Figueroa St, Los Angeles  \n",
       "6                                             hello  "
      ]
     },
     "execution_count": 1,
     "metadata": {},
     "output_type": "execute_result"
    }
   ],
   "source": [
    "clean_ch_esr(df, column=\"esr\", inplace=True)"
   ]
  },
  {
   "cell_type": "markdown",
   "id": "natural-scoop",
   "metadata": {},
   "source": [
    "## 4. `errors` parameter"
   ]
  },
  {
   "cell_type": "markdown",
   "id": "united-operation",
   "metadata": {},
   "source": [
    "### `coerce` (default)"
   ]
  },
  {
   "cell_type": "code",
   "execution_count": 6,
   "id": "fabulous-storm",
   "metadata": {
    "execution": {
     "iopub.execute_input": "2021-10-26T22:58:02.801915Z",
     "iopub.status.busy": "2021-10-26T22:58:02.801476Z",
     "iopub.status.idle": "2021-10-26T22:58:02.811165Z",
     "shell.execute_reply": "2021-10-26T22:58:02.810745Z"
    }
   },
   "outputs": [
    {
     "data": {
      "text/html": [
       "<div>\n",
       "<style scoped>\n",
       "    .dataframe tbody tr th:only-of-type {\n",
       "        vertical-align: middle;\n",
       "    }\n",
       "\n",
       "    .dataframe tbody tr th {\n",
       "        vertical-align: top;\n",
       "    }\n",
       "\n",
       "    .dataframe thead th {\n",
       "        text-align: right;\n",
       "    }\n",
       "</style>\n",
       "<table border=\"1\" class=\"dataframe\">\n",
       "  <thead>\n",
       "    <tr style=\"text-align: right;\">\n",
       "      <th></th>\n",
       "      <th>esr</th>\n",
       "      <th>address</th>\n",
       "      <th>esr_clean</th>\n",
       "    </tr>\n",
       "  </thead>\n",
       "  <tbody>\n",
       "    <tr>\n",
       "      <th>0</th>\n",
       "      <td>18 78583</td>\n",
       "      <td>123 Pine Ave.</td>\n",
       "      <td>00 00000 00000 00000 00018 78583</td>\n",
       "    </tr>\n",
       "    <tr>\n",
       "      <th>1</th>\n",
       "      <td>210000000003139471430009016</td>\n",
       "      <td>main st</td>\n",
       "      <td>NaN</td>\n",
       "    </tr>\n",
       "    <tr>\n",
       "      <th>2</th>\n",
       "      <td>51824753556</td>\n",
       "      <td>1234 west main heights 57033</td>\n",
       "      <td>NaN</td>\n",
       "    </tr>\n",
       "    <tr>\n",
       "      <th>3</th>\n",
       "      <td>51 824 753 556</td>\n",
       "      <td>apt 1 789 s maple rd manhattan</td>\n",
       "      <td>NaN</td>\n",
       "    </tr>\n",
       "    <tr>\n",
       "      <th>4</th>\n",
       "      <td>hello</td>\n",
       "      <td>robie house, 789 north main street</td>\n",
       "      <td>NaN</td>\n",
       "    </tr>\n",
       "    <tr>\n",
       "      <th>5</th>\n",
       "      <td>NaN</td>\n",
       "      <td>(staples center) 1111 S Figueroa St, Los Angeles</td>\n",
       "      <td>NaN</td>\n",
       "    </tr>\n",
       "    <tr>\n",
       "      <th>6</th>\n",
       "      <td>NULL</td>\n",
       "      <td>hello</td>\n",
       "      <td>NaN</td>\n",
       "    </tr>\n",
       "  </tbody>\n",
       "</table>\n",
       "</div>"
      ],
      "text/plain": [
       "                           esr  \\\n",
       "0                     18 78583   \n",
       "1  210000000003139471430009016   \n",
       "2                  51824753556   \n",
       "3               51 824 753 556   \n",
       "4                        hello   \n",
       "5                          NaN   \n",
       "6                         NULL   \n",
       "\n",
       "                                            address  \\\n",
       "0                                     123 Pine Ave.   \n",
       "1                                           main st   \n",
       "2                      1234 west main heights 57033   \n",
       "3                    apt 1 789 s maple rd manhattan   \n",
       "4                robie house, 789 north main street   \n",
       "5  (staples center) 1111 S Figueroa St, Los Angeles   \n",
       "6                                             hello   \n",
       "\n",
       "                          esr_clean  \n",
       "0  00 00000 00000 00000 00018 78583  \n",
       "1                               NaN  \n",
       "2                               NaN  \n",
       "3                               NaN  \n",
       "4                               NaN  \n",
       "5                               NaN  \n",
       "6                               NaN  "
      ]
     },
     "execution_count": 1,
     "metadata": {},
     "output_type": "execute_result"
    }
   ],
   "source": [
    "clean_ch_esr(df, \"esr\", errors=\"coerce\")"
   ]
  },
  {
   "cell_type": "markdown",
   "id": "further-spray",
   "metadata": {},
   "source": [
    "### `ignore`"
   ]
  },
  {
   "cell_type": "code",
   "execution_count": 7,
   "id": "responsible-neighbor",
   "metadata": {
    "execution": {
     "iopub.execute_input": "2021-10-26T22:58:02.828582Z",
     "iopub.status.busy": "2021-10-26T22:58:02.820770Z",
     "iopub.status.idle": "2021-10-26T22:58:02.836720Z",
     "shell.execute_reply": "2021-10-26T22:58:02.837056Z"
    }
   },
   "outputs": [
    {
     "data": {
      "text/html": [
       "<div>\n",
       "<style scoped>\n",
       "    .dataframe tbody tr th:only-of-type {\n",
       "        vertical-align: middle;\n",
       "    }\n",
       "\n",
       "    .dataframe tbody tr th {\n",
       "        vertical-align: top;\n",
       "    }\n",
       "\n",
       "    .dataframe thead th {\n",
       "        text-align: right;\n",
       "    }\n",
       "</style>\n",
       "<table border=\"1\" class=\"dataframe\">\n",
       "  <thead>\n",
       "    <tr style=\"text-align: right;\">\n",
       "      <th></th>\n",
       "      <th>esr</th>\n",
       "      <th>address</th>\n",
       "      <th>esr_clean</th>\n",
       "    </tr>\n",
       "  </thead>\n",
       "  <tbody>\n",
       "    <tr>\n",
       "      <th>0</th>\n",
       "      <td>18 78583</td>\n",
       "      <td>123 Pine Ave.</td>\n",
       "      <td>00 00000 00000 00000 00018 78583</td>\n",
       "    </tr>\n",
       "    <tr>\n",
       "      <th>1</th>\n",
       "      <td>210000000003139471430009016</td>\n",
       "      <td>main st</td>\n",
       "      <td>210000000003139471430009016</td>\n",
       "    </tr>\n",
       "    <tr>\n",
       "      <th>2</th>\n",
       "      <td>51824753556</td>\n",
       "      <td>1234 west main heights 57033</td>\n",
       "      <td>51824753556</td>\n",
       "    </tr>\n",
       "    <tr>\n",
       "      <th>3</th>\n",
       "      <td>51 824 753 556</td>\n",
       "      <td>apt 1 789 s maple rd manhattan</td>\n",
       "      <td>51 824 753 556</td>\n",
       "    </tr>\n",
       "    <tr>\n",
       "      <th>4</th>\n",
       "      <td>hello</td>\n",
       "      <td>robie house, 789 north main street</td>\n",
       "      <td>hello</td>\n",
       "    </tr>\n",
       "    <tr>\n",
       "      <th>5</th>\n",
       "      <td>NaN</td>\n",
       "      <td>(staples center) 1111 S Figueroa St, Los Angeles</td>\n",
       "      <td>NaN</td>\n",
       "    </tr>\n",
       "    <tr>\n",
       "      <th>6</th>\n",
       "      <td>NULL</td>\n",
       "      <td>hello</td>\n",
       "      <td>NaN</td>\n",
       "    </tr>\n",
       "  </tbody>\n",
       "</table>\n",
       "</div>"
      ],
      "text/plain": [
       "                           esr  \\\n",
       "0                     18 78583   \n",
       "1  210000000003139471430009016   \n",
       "2                  51824753556   \n",
       "3               51 824 753 556   \n",
       "4                        hello   \n",
       "5                          NaN   \n",
       "6                         NULL   \n",
       "\n",
       "                                            address  \\\n",
       "0                                     123 Pine Ave.   \n",
       "1                                           main st   \n",
       "2                      1234 west main heights 57033   \n",
       "3                    apt 1 789 s maple rd manhattan   \n",
       "4                robie house, 789 north main street   \n",
       "5  (staples center) 1111 S Figueroa St, Los Angeles   \n",
       "6                                             hello   \n",
       "\n",
       "                          esr_clean  \n",
       "0  00 00000 00000 00000 00018 78583  \n",
       "1       210000000003139471430009016  \n",
       "2                       51824753556  \n",
       "3                    51 824 753 556  \n",
       "4                             hello  \n",
       "5                               NaN  \n",
       "6                               NaN  "
      ]
     },
     "execution_count": 1,
     "metadata": {},
     "output_type": "execute_result"
    }
   ],
   "source": [
    "clean_ch_esr(df, \"esr\", errors=\"ignore\")"
   ]
  },
  {
   "cell_type": "markdown",
   "id": "arabic-canada",
   "metadata": {},
   "source": [
    "## 4. `validate_ch_esr()`"
   ]
  },
  {
   "cell_type": "markdown",
   "id": "burning-refund",
   "metadata": {},
   "source": [
    "`validate_ch_esr()` returns `True` when the input is a valid ESR. Otherwise it returns `False`.\n",
    "\n",
    "The input of `validate_ch_esr()` can be a string, a Pandas DataSeries, a Dask DataSeries, a Pandas DataFrame and a dask DataFrame.\n",
    "\n",
    "When the input is a string, a Pandas DataSeries or a Dask DataSeries, user doesn't need to specify a column name to be validated. \n",
    "\n",
    "When the input is a Pandas DataFrame or a dask DataFrame, user can both specify or not specify a column name to be validated. If user specify the column name, `validate_ch_esr()` only returns the validation result for the specified column. If user doesn't specify the column name, `validate_ch_esr()` returns the validation result for the whole DataFrame."
   ]
  },
  {
   "cell_type": "code",
   "execution_count": 8,
   "id": "stuck-biology",
   "metadata": {
    "execution": {
     "iopub.execute_input": "2021-10-26T22:58:02.841592Z",
     "iopub.status.busy": "2021-10-26T22:58:02.840795Z",
     "iopub.status.idle": "2021-10-26T22:58:02.844867Z",
     "shell.execute_reply": "2021-10-26T22:58:02.844507Z"
    }
   },
   "outputs": [
    {
     "name": "stdout",
     "output_type": "stream",
     "text": [
      "True\n",
      "False\n",
      "False\n",
      "False\n",
      "False\n",
      "False\n",
      "False\n"
     ]
    }
   ],
   "source": [
    "from dataprep.clean import validate_ch_esr\n",
    "print(validate_ch_esr(\"18 78583\"))\n",
    "print(validate_ch_esr(\"210000000003139471430009016\"))\n",
    "print(validate_ch_esr(\"51824753556\"))\n",
    "print(validate_ch_esr(\"51 824 753 556\"))\n",
    "print(validate_ch_esr(\"hello\"))\n",
    "print(validate_ch_esr(np.nan))\n",
    "print(validate_ch_esr(\"NULL\"))"
   ]
  },
  {
   "cell_type": "markdown",
   "id": "brown-costume",
   "metadata": {},
   "source": [
    "### Series"
   ]
  },
  {
   "cell_type": "code",
   "execution_count": 9,
   "id": "pressing-warning",
   "metadata": {
    "execution": {
     "iopub.execute_input": "2021-10-26T22:58:02.848980Z",
     "iopub.status.busy": "2021-10-26T22:58:02.848559Z",
     "iopub.status.idle": "2021-10-26T22:58:02.852769Z",
     "shell.execute_reply": "2021-10-26T22:58:02.852383Z"
    }
   },
   "outputs": [
    {
     "data": {
      "text/plain": [
       "0     True\n",
       "1    False\n",
       "2    False\n",
       "3    False\n",
       "4    False\n",
       "5    False\n",
       "6    False\n",
       "Name: esr, dtype: bool"
      ]
     },
     "execution_count": 1,
     "metadata": {},
     "output_type": "execute_result"
    }
   ],
   "source": [
    "validate_ch_esr(df[\"esr\"])"
   ]
  },
  {
   "cell_type": "markdown",
   "id": "wound-snowboard",
   "metadata": {},
   "source": [
    "### DataFrame + Specify Column"
   ]
  },
  {
   "cell_type": "code",
   "execution_count": 10,
   "id": "completed-expert",
   "metadata": {
    "execution": {
     "iopub.execute_input": "2021-10-26T22:58:02.856875Z",
     "iopub.status.busy": "2021-10-26T22:58:02.856456Z",
     "iopub.status.idle": "2021-10-26T22:58:02.860589Z",
     "shell.execute_reply": "2021-10-26T22:58:02.860202Z"
    }
   },
   "outputs": [
    {
     "data": {
      "text/plain": [
       "0     True\n",
       "1    False\n",
       "2    False\n",
       "3    False\n",
       "4    False\n",
       "5    False\n",
       "6    False\n",
       "Name: esr, dtype: bool"
      ]
     },
     "execution_count": 1,
     "metadata": {},
     "output_type": "execute_result"
    }
   ],
   "source": [
    "validate_ch_esr(df, column=\"esr\")"
   ]
  },
  {
   "cell_type": "markdown",
   "id": "assumed-postcard",
   "metadata": {},
   "source": [
    "### Only DataFrame"
   ]
  },
  {
   "cell_type": "code",
   "execution_count": 11,
   "id": "respiratory-valuation",
   "metadata": {
    "execution": {
     "iopub.execute_input": "2021-10-26T22:58:02.868170Z",
     "iopub.status.busy": "2021-10-26T22:58:02.863209Z",
     "iopub.status.idle": "2021-10-26T22:58:02.871540Z",
     "shell.execute_reply": "2021-10-26T22:58:02.871889Z"
    }
   },
   "outputs": [
    {
     "data": {
      "text/html": [
       "<div>\n",
       "<style scoped>\n",
       "    .dataframe tbody tr th:only-of-type {\n",
       "        vertical-align: middle;\n",
       "    }\n",
       "\n",
       "    .dataframe tbody tr th {\n",
       "        vertical-align: top;\n",
       "    }\n",
       "\n",
       "    .dataframe thead th {\n",
       "        text-align: right;\n",
       "    }\n",
       "</style>\n",
       "<table border=\"1\" class=\"dataframe\">\n",
       "  <thead>\n",
       "    <tr style=\"text-align: right;\">\n",
       "      <th></th>\n",
       "      <th>esr</th>\n",
       "      <th>address</th>\n",
       "    </tr>\n",
       "  </thead>\n",
       "  <tbody>\n",
       "    <tr>\n",
       "      <th>0</th>\n",
       "      <td>True</td>\n",
       "      <td>False</td>\n",
       "    </tr>\n",
       "    <tr>\n",
       "      <th>1</th>\n",
       "      <td>False</td>\n",
       "      <td>False</td>\n",
       "    </tr>\n",
       "    <tr>\n",
       "      <th>2</th>\n",
       "      <td>False</td>\n",
       "      <td>False</td>\n",
       "    </tr>\n",
       "    <tr>\n",
       "      <th>3</th>\n",
       "      <td>False</td>\n",
       "      <td>False</td>\n",
       "    </tr>\n",
       "    <tr>\n",
       "      <th>4</th>\n",
       "      <td>False</td>\n",
       "      <td>False</td>\n",
       "    </tr>\n",
       "    <tr>\n",
       "      <th>5</th>\n",
       "      <td>False</td>\n",
       "      <td>False</td>\n",
       "    </tr>\n",
       "    <tr>\n",
       "      <th>6</th>\n",
       "      <td>False</td>\n",
       "      <td>False</td>\n",
       "    </tr>\n",
       "  </tbody>\n",
       "</table>\n",
       "</div>"
      ],
      "text/plain": [
       "     esr  address\n",
       "0   True    False\n",
       "1  False    False\n",
       "2  False    False\n",
       "3  False    False\n",
       "4  False    False\n",
       "5  False    False\n",
       "6  False    False"
      ]
     },
     "execution_count": 1,
     "metadata": {},
     "output_type": "execute_result"
    }
   ],
   "source": [
    "validate_ch_esr(df)"
   ]
  },
  {
   "cell_type": "code",
   "execution_count": null,
   "id": "impossible-index",
   "metadata": {},
   "outputs": [],
   "source": []
  }
 ],
 "metadata": {
  "kernelspec": {
   "display_name": "Python 3",
   "language": "python",
   "name": "python3"
  },
  "language_info": {
   "codemirror_mode": {
    "name": "ipython",
    "version": 3
   },
   "file_extension": ".py",
   "mimetype": "text/x-python",
   "name": "python",
   "nbconvert_exporter": "python",
   "pygments_lexer": "ipython3",
   "version": "3.8.10"
  }
 },
 "nbformat": 4,
 "nbformat_minor": 5
}
