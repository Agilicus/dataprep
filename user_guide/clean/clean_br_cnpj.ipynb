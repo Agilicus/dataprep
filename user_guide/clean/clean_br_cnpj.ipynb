{
 "cells": [
  {
   "cell_type": "raw",
   "id": "latest-vietnamese",
   "metadata": {},
   "source": [
    ".. _cnpj_userguide:\n",
    "\n",
    "cnpj Strings\n",
    "============"
   ]
  },
  {
   "cell_type": "raw",
   "id": "second-rover",
   "metadata": {},
   "source": [
    "Introduction\n",
    "------------\n",
    "\n",
    "The function :func:`clean_br_cnpj() <dataprep.clean.clean_br_cnpj.clean_br_cnpj>` cleans a column containing Brazilian company identifier (CNPJ) strings, and standardizes them in a given format. The function :func:`validate_br_cnpj() <dataprep.clean.clean_br_cnpj.validate_br_cnpj>` validates either a single cnpj strings, a column of CNPJ strings or a DataFrame of CNPJ strings, returning `True` if the value is valid, and `False` otherwise."
   ]
  },
  {
   "cell_type": "markdown",
   "id": "objective-sport",
   "metadata": {},
   "source": [
    "CNPJ strings can be converted to the following formats via the `output_format` parameter:\n",
    "\n",
    "* `compact`: only number strings without any seperators or whitespace, like \"16727230000197\"\n",
    "* `standard`: cnpj strings with proper whitespace in the proper places, like \"16.727.230/0001-97\"\n",
    "\n",
    "Invalid parsing is handled with the `errors` parameter:\n",
    "\n",
    "* `coerce` (default): invalid parsing will be set to NaN\n",
    "* `ignore`: invalid parsing will return the input\n",
    "* `raise`: invalid parsing will raise an exception\n",
    "\n",
    "The following sections demonstrate the functionality of `clean_br_cnpj()` and `validate_br_cnpj()`. "
   ]
  },
  {
   "cell_type": "markdown",
   "id": "proved-burst",
   "metadata": {},
   "source": [
    "### An example dataset containing cnpj strings"
   ]
  },
  {
   "cell_type": "code",
   "execution_count": 1,
   "id": "radio-annual",
   "metadata": {
    "execution": {
     "iopub.execute_input": "2021-10-26T23:34:34.498031Z",
     "iopub.status.busy": "2021-10-26T23:34:34.497369Z",
     "iopub.status.idle": "2021-10-26T23:34:34.826868Z",
     "shell.execute_reply": "2021-10-26T23:34:34.827545Z"
    }
   },
   "outputs": [
    {
     "data": {
      "text/html": [
       "<div>\n",
       "<style scoped>\n",
       "    .dataframe tbody tr th:only-of-type {\n",
       "        vertical-align: middle;\n",
       "    }\n",
       "\n",
       "    .dataframe tbody tr th {\n",
       "        vertical-align: top;\n",
       "    }\n",
       "\n",
       "    .dataframe thead th {\n",
       "        text-align: right;\n",
       "    }\n",
       "</style>\n",
       "<table border=\"1\" class=\"dataframe\">\n",
       "  <thead>\n",
       "    <tr style=\"text-align: right;\">\n",
       "      <th></th>\n",
       "      <th>cnpj</th>\n",
       "      <th>address</th>\n",
       "    </tr>\n",
       "  </thead>\n",
       "  <tbody>\n",
       "    <tr>\n",
       "      <th>0</th>\n",
       "      <td>16.727.230/0001-97</td>\n",
       "      <td>123 Pine Ave.</td>\n",
       "    </tr>\n",
       "    <tr>\n",
       "      <th>1</th>\n",
       "      <td>16.727.230.0001-98</td>\n",
       "      <td>main st</td>\n",
       "    </tr>\n",
       "    <tr>\n",
       "      <th>2</th>\n",
       "      <td>16.727.230/0001=97</td>\n",
       "      <td>1234 west main heights 57033</td>\n",
       "    </tr>\n",
       "    <tr>\n",
       "      <th>3</th>\n",
       "      <td>16727230000197</td>\n",
       "      <td>apt 1 789 s maple rd manhattan</td>\n",
       "    </tr>\n",
       "    <tr>\n",
       "      <th>4</th>\n",
       "      <td>hello</td>\n",
       "      <td>robie house, 789 north main street</td>\n",
       "    </tr>\n",
       "    <tr>\n",
       "      <th>5</th>\n",
       "      <td>NaN</td>\n",
       "      <td>(staples center) 1111 S Figueroa St, Los Angeles</td>\n",
       "    </tr>\n",
       "    <tr>\n",
       "      <th>6</th>\n",
       "      <td>NULL</td>\n",
       "      <td>hello</td>\n",
       "    </tr>\n",
       "  </tbody>\n",
       "</table>\n",
       "</div>"
      ],
      "text/plain": [
       "                 cnpj                                           address\n",
       "0  16.727.230/0001-97                                     123 Pine Ave.\n",
       "1  16.727.230.0001-98                                           main st\n",
       "2  16.727.230/0001=97                      1234 west main heights 57033\n",
       "3      16727230000197                    apt 1 789 s maple rd manhattan\n",
       "4               hello                robie house, 789 north main street\n",
       "5                 NaN  (staples center) 1111 S Figueroa St, Los Angeles\n",
       "6                NULL                                             hello"
      ]
     },
     "execution_count": 1,
     "metadata": {},
     "output_type": "execute_result"
    }
   ],
   "source": [
    "import pandas as pd\n",
    "import numpy as np\n",
    "df = pd.DataFrame(\n",
    "    {\n",
    "        \"cnpj\": [\n",
    "            \"16.727.230/0001-97\",\n",
    "            \"16.727.230.0001-98\",\n",
    "            \"16.727.230/0001=97\",\n",
    "            \"16727230000197\",\n",
    "            \"hello\",\n",
    "            np.nan,\n",
    "            \"NULL\"\n",
    "        ], \n",
    "        \"address\": [\n",
    "            \"123 Pine Ave.\",\n",
    "            \"main st\",\n",
    "            \"1234 west main heights 57033\",\n",
    "            \"apt 1 789 s maple rd manhattan\",\n",
    "            \"robie house, 789 north main street\",\n",
    "            \"(staples center) 1111 S Figueroa St, Los Angeles\",\n",
    "            \"hello\",\n",
    "        ]\n",
    "    }\n",
    ")\n",
    "df"
   ]
  },
  {
   "cell_type": "markdown",
   "id": "humanitarian-assist",
   "metadata": {},
   "source": [
    "## 1. Default `clean_br_cnpj`\n",
    "\n",
    "By default, `clean_br_cnpj` will clean cnpj strings and output them in the standard format with proper separators."
   ]
  },
  {
   "cell_type": "code",
   "execution_count": 2,
   "id": "dying-college",
   "metadata": {
    "execution": {
     "iopub.execute_input": "2021-10-26T23:34:34.833468Z",
     "iopub.status.busy": "2021-10-26T23:34:34.831519Z",
     "iopub.status.idle": "2021-10-26T23:34:35.582927Z",
     "shell.execute_reply": "2021-10-26T23:34:35.583485Z"
    }
   },
   "outputs": [
    {
     "data": {
      "text/html": [
       "<div>\n",
       "<style scoped>\n",
       "    .dataframe tbody tr th:only-of-type {\n",
       "        vertical-align: middle;\n",
       "    }\n",
       "\n",
       "    .dataframe tbody tr th {\n",
       "        vertical-align: top;\n",
       "    }\n",
       "\n",
       "    .dataframe thead th {\n",
       "        text-align: right;\n",
       "    }\n",
       "</style>\n",
       "<table border=\"1\" class=\"dataframe\">\n",
       "  <thead>\n",
       "    <tr style=\"text-align: right;\">\n",
       "      <th></th>\n",
       "      <th>cnpj</th>\n",
       "      <th>address</th>\n",
       "      <th>cnpj_clean</th>\n",
       "    </tr>\n",
       "  </thead>\n",
       "  <tbody>\n",
       "    <tr>\n",
       "      <th>0</th>\n",
       "      <td>16.727.230/0001-97</td>\n",
       "      <td>123 Pine Ave.</td>\n",
       "      <td>16.727.230/0001-97</td>\n",
       "    </tr>\n",
       "    <tr>\n",
       "      <th>1</th>\n",
       "      <td>16.727.230.0001-98</td>\n",
       "      <td>main st</td>\n",
       "      <td>NaN</td>\n",
       "    </tr>\n",
       "    <tr>\n",
       "      <th>2</th>\n",
       "      <td>16.727.230/0001=97</td>\n",
       "      <td>1234 west main heights 57033</td>\n",
       "      <td>NaN</td>\n",
       "    </tr>\n",
       "    <tr>\n",
       "      <th>3</th>\n",
       "      <td>16727230000197</td>\n",
       "      <td>apt 1 789 s maple rd manhattan</td>\n",
       "      <td>16.727.230/0001-97</td>\n",
       "    </tr>\n",
       "    <tr>\n",
       "      <th>4</th>\n",
       "      <td>hello</td>\n",
       "      <td>robie house, 789 north main street</td>\n",
       "      <td>NaN</td>\n",
       "    </tr>\n",
       "    <tr>\n",
       "      <th>5</th>\n",
       "      <td>NaN</td>\n",
       "      <td>(staples center) 1111 S Figueroa St, Los Angeles</td>\n",
       "      <td>NaN</td>\n",
       "    </tr>\n",
       "    <tr>\n",
       "      <th>6</th>\n",
       "      <td>NULL</td>\n",
       "      <td>hello</td>\n",
       "      <td>NaN</td>\n",
       "    </tr>\n",
       "  </tbody>\n",
       "</table>\n",
       "</div>"
      ],
      "text/plain": [
       "                 cnpj                                           address  \\\n",
       "0  16.727.230/0001-97                                     123 Pine Ave.   \n",
       "1  16.727.230.0001-98                                           main st   \n",
       "2  16.727.230/0001=97                      1234 west main heights 57033   \n",
       "3      16727230000197                    apt 1 789 s maple rd manhattan   \n",
       "4               hello                robie house, 789 north main street   \n",
       "5                 NaN  (staples center) 1111 S Figueroa St, Los Angeles   \n",
       "6                NULL                                             hello   \n",
       "\n",
       "           cnpj_clean  \n",
       "0  16.727.230/0001-97  \n",
       "1                 NaN  \n",
       "2                 NaN  \n",
       "3  16.727.230/0001-97  \n",
       "4                 NaN  \n",
       "5                 NaN  \n",
       "6                 NaN  "
      ]
     },
     "execution_count": 1,
     "metadata": {},
     "output_type": "execute_result"
    }
   ],
   "source": [
    "from dataprep.clean import clean_br_cnpj\n",
    "clean_br_cnpj(df, column = \"cnpj\")"
   ]
  },
  {
   "cell_type": "markdown",
   "id": "liked-michigan",
   "metadata": {},
   "source": [
    "## 2. Output formats"
   ]
  },
  {
   "cell_type": "markdown",
   "id": "white-pavilion",
   "metadata": {},
   "source": [
    "This section demonstrates the output parameter."
   ]
  },
  {
   "cell_type": "markdown",
   "id": "trained-factor",
   "metadata": {},
   "source": [
    "### `standard` (default)"
   ]
  },
  {
   "cell_type": "code",
   "execution_count": 3,
   "id": "composed-encounter",
   "metadata": {
    "execution": {
     "iopub.execute_input": "2021-10-26T23:34:35.612655Z",
     "iopub.status.busy": "2021-10-26T23:34:35.612030Z",
     "iopub.status.idle": "2021-10-26T23:34:35.623289Z",
     "shell.execute_reply": "2021-10-26T23:34:35.622327Z"
    }
   },
   "outputs": [
    {
     "data": {
      "text/html": [
       "<div>\n",
       "<style scoped>\n",
       "    .dataframe tbody tr th:only-of-type {\n",
       "        vertical-align: middle;\n",
       "    }\n",
       "\n",
       "    .dataframe tbody tr th {\n",
       "        vertical-align: top;\n",
       "    }\n",
       "\n",
       "    .dataframe thead th {\n",
       "        text-align: right;\n",
       "    }\n",
       "</style>\n",
       "<table border=\"1\" class=\"dataframe\">\n",
       "  <thead>\n",
       "    <tr style=\"text-align: right;\">\n",
       "      <th></th>\n",
       "      <th>cnpj</th>\n",
       "      <th>address</th>\n",
       "      <th>cnpj_clean</th>\n",
       "    </tr>\n",
       "  </thead>\n",
       "  <tbody>\n",
       "    <tr>\n",
       "      <th>0</th>\n",
       "      <td>16.727.230/0001-97</td>\n",
       "      <td>123 Pine Ave.</td>\n",
       "      <td>16.727.230/0001-97</td>\n",
       "    </tr>\n",
       "    <tr>\n",
       "      <th>1</th>\n",
       "      <td>16.727.230.0001-98</td>\n",
       "      <td>main st</td>\n",
       "      <td>NaN</td>\n",
       "    </tr>\n",
       "    <tr>\n",
       "      <th>2</th>\n",
       "      <td>16.727.230/0001=97</td>\n",
       "      <td>1234 west main heights 57033</td>\n",
       "      <td>NaN</td>\n",
       "    </tr>\n",
       "    <tr>\n",
       "      <th>3</th>\n",
       "      <td>16727230000197</td>\n",
       "      <td>apt 1 789 s maple rd manhattan</td>\n",
       "      <td>16.727.230/0001-97</td>\n",
       "    </tr>\n",
       "    <tr>\n",
       "      <th>4</th>\n",
       "      <td>hello</td>\n",
       "      <td>robie house, 789 north main street</td>\n",
       "      <td>NaN</td>\n",
       "    </tr>\n",
       "    <tr>\n",
       "      <th>5</th>\n",
       "      <td>NaN</td>\n",
       "      <td>(staples center) 1111 S Figueroa St, Los Angeles</td>\n",
       "      <td>NaN</td>\n",
       "    </tr>\n",
       "    <tr>\n",
       "      <th>6</th>\n",
       "      <td>NULL</td>\n",
       "      <td>hello</td>\n",
       "      <td>NaN</td>\n",
       "    </tr>\n",
       "  </tbody>\n",
       "</table>\n",
       "</div>"
      ],
      "text/plain": [
       "                 cnpj                                           address  \\\n",
       "0  16.727.230/0001-97                                     123 Pine Ave.   \n",
       "1  16.727.230.0001-98                                           main st   \n",
       "2  16.727.230/0001=97                      1234 west main heights 57033   \n",
       "3      16727230000197                    apt 1 789 s maple rd manhattan   \n",
       "4               hello                robie house, 789 north main street   \n",
       "5                 NaN  (staples center) 1111 S Figueroa St, Los Angeles   \n",
       "6                NULL                                             hello   \n",
       "\n",
       "           cnpj_clean  \n",
       "0  16.727.230/0001-97  \n",
       "1                 NaN  \n",
       "2                 NaN  \n",
       "3  16.727.230/0001-97  \n",
       "4                 NaN  \n",
       "5                 NaN  \n",
       "6                 NaN  "
      ]
     },
     "execution_count": 1,
     "metadata": {},
     "output_type": "execute_result"
    }
   ],
   "source": [
    "clean_br_cnpj(df, column = \"cnpj\", output_format=\"standard\")"
   ]
  },
  {
   "cell_type": "markdown",
   "id": "informal-farming",
   "metadata": {},
   "source": [
    "### `compact`"
   ]
  },
  {
   "cell_type": "code",
   "execution_count": 4,
   "id": "hybrid-married",
   "metadata": {
    "execution": {
     "iopub.execute_input": "2021-10-26T23:34:35.652283Z",
     "iopub.status.busy": "2021-10-26T23:34:35.632096Z",
     "iopub.status.idle": "2021-10-26T23:34:35.666399Z",
     "shell.execute_reply": "2021-10-26T23:34:35.664790Z"
    }
   },
   "outputs": [
    {
     "data": {
      "text/html": [
       "<div>\n",
       "<style scoped>\n",
       "    .dataframe tbody tr th:only-of-type {\n",
       "        vertical-align: middle;\n",
       "    }\n",
       "\n",
       "    .dataframe tbody tr th {\n",
       "        vertical-align: top;\n",
       "    }\n",
       "\n",
       "    .dataframe thead th {\n",
       "        text-align: right;\n",
       "    }\n",
       "</style>\n",
       "<table border=\"1\" class=\"dataframe\">\n",
       "  <thead>\n",
       "    <tr style=\"text-align: right;\">\n",
       "      <th></th>\n",
       "      <th>cnpj</th>\n",
       "      <th>address</th>\n",
       "      <th>cnpj_clean</th>\n",
       "    </tr>\n",
       "  </thead>\n",
       "  <tbody>\n",
       "    <tr>\n",
       "      <th>0</th>\n",
       "      <td>16.727.230/0001-97</td>\n",
       "      <td>123 Pine Ave.</td>\n",
       "      <td>16727230000197</td>\n",
       "    </tr>\n",
       "    <tr>\n",
       "      <th>1</th>\n",
       "      <td>16.727.230.0001-98</td>\n",
       "      <td>main st</td>\n",
       "      <td>NaN</td>\n",
       "    </tr>\n",
       "    <tr>\n",
       "      <th>2</th>\n",
       "      <td>16.727.230/0001=97</td>\n",
       "      <td>1234 west main heights 57033</td>\n",
       "      <td>NaN</td>\n",
       "    </tr>\n",
       "    <tr>\n",
       "      <th>3</th>\n",
       "      <td>16727230000197</td>\n",
       "      <td>apt 1 789 s maple rd manhattan</td>\n",
       "      <td>16727230000197</td>\n",
       "    </tr>\n",
       "    <tr>\n",
       "      <th>4</th>\n",
       "      <td>hello</td>\n",
       "      <td>robie house, 789 north main street</td>\n",
       "      <td>NaN</td>\n",
       "    </tr>\n",
       "    <tr>\n",
       "      <th>5</th>\n",
       "      <td>NaN</td>\n",
       "      <td>(staples center) 1111 S Figueroa St, Los Angeles</td>\n",
       "      <td>NaN</td>\n",
       "    </tr>\n",
       "    <tr>\n",
       "      <th>6</th>\n",
       "      <td>NULL</td>\n",
       "      <td>hello</td>\n",
       "      <td>NaN</td>\n",
       "    </tr>\n",
       "  </tbody>\n",
       "</table>\n",
       "</div>"
      ],
      "text/plain": [
       "                 cnpj                                           address  \\\n",
       "0  16.727.230/0001-97                                     123 Pine Ave.   \n",
       "1  16.727.230.0001-98                                           main st   \n",
       "2  16.727.230/0001=97                      1234 west main heights 57033   \n",
       "3      16727230000197                    apt 1 789 s maple rd manhattan   \n",
       "4               hello                robie house, 789 north main street   \n",
       "5                 NaN  (staples center) 1111 S Figueroa St, Los Angeles   \n",
       "6                NULL                                             hello   \n",
       "\n",
       "       cnpj_clean  \n",
       "0  16727230000197  \n",
       "1             NaN  \n",
       "2             NaN  \n",
       "3  16727230000197  \n",
       "4             NaN  \n",
       "5             NaN  \n",
       "6             NaN  "
      ]
     },
     "execution_count": 1,
     "metadata": {},
     "output_type": "execute_result"
    }
   ],
   "source": [
    "clean_br_cnpj(df, column = \"cnpj\", output_format=\"compact\")"
   ]
  },
  {
   "cell_type": "markdown",
   "id": "metropolitan-discussion",
   "metadata": {},
   "source": [
    "## 3. `inplace` parameter\n",
    "\n",
    "This deletes the given column from the returned DataFrame. \n",
    "A new column containing cleaned CNPJ strings is added with a title in the format `\"{original title}_clean\"`."
   ]
  },
  {
   "cell_type": "code",
   "execution_count": 5,
   "id": "intended-rouge",
   "metadata": {
    "execution": {
     "iopub.execute_input": "2021-10-26T23:34:35.714731Z",
     "iopub.status.busy": "2021-10-26T23:34:35.709583Z",
     "iopub.status.idle": "2021-10-26T23:34:35.723966Z",
     "shell.execute_reply": "2021-10-26T23:34:35.724446Z"
    }
   },
   "outputs": [
    {
     "data": {
      "text/html": [
       "<div>\n",
       "<style scoped>\n",
       "    .dataframe tbody tr th:only-of-type {\n",
       "        vertical-align: middle;\n",
       "    }\n",
       "\n",
       "    .dataframe tbody tr th {\n",
       "        vertical-align: top;\n",
       "    }\n",
       "\n",
       "    .dataframe thead th {\n",
       "        text-align: right;\n",
       "    }\n",
       "</style>\n",
       "<table border=\"1\" class=\"dataframe\">\n",
       "  <thead>\n",
       "    <tr style=\"text-align: right;\">\n",
       "      <th></th>\n",
       "      <th>cnpj_clean</th>\n",
       "      <th>address</th>\n",
       "    </tr>\n",
       "  </thead>\n",
       "  <tbody>\n",
       "    <tr>\n",
       "      <th>0</th>\n",
       "      <td>16.727.230/0001-97</td>\n",
       "      <td>123 Pine Ave.</td>\n",
       "    </tr>\n",
       "    <tr>\n",
       "      <th>1</th>\n",
       "      <td>NaN</td>\n",
       "      <td>main st</td>\n",
       "    </tr>\n",
       "    <tr>\n",
       "      <th>2</th>\n",
       "      <td>NaN</td>\n",
       "      <td>1234 west main heights 57033</td>\n",
       "    </tr>\n",
       "    <tr>\n",
       "      <th>3</th>\n",
       "      <td>16.727.230/0001-97</td>\n",
       "      <td>apt 1 789 s maple rd manhattan</td>\n",
       "    </tr>\n",
       "    <tr>\n",
       "      <th>4</th>\n",
       "      <td>NaN</td>\n",
       "      <td>robie house, 789 north main street</td>\n",
       "    </tr>\n",
       "    <tr>\n",
       "      <th>5</th>\n",
       "      <td>NaN</td>\n",
       "      <td>(staples center) 1111 S Figueroa St, Los Angeles</td>\n",
       "    </tr>\n",
       "    <tr>\n",
       "      <th>6</th>\n",
       "      <td>NaN</td>\n",
       "      <td>hello</td>\n",
       "    </tr>\n",
       "  </tbody>\n",
       "</table>\n",
       "</div>"
      ],
      "text/plain": [
       "           cnpj_clean                                           address\n",
       "0  16.727.230/0001-97                                     123 Pine Ave.\n",
       "1                 NaN                                           main st\n",
       "2                 NaN                      1234 west main heights 57033\n",
       "3  16.727.230/0001-97                    apt 1 789 s maple rd manhattan\n",
       "4                 NaN                robie house, 789 north main street\n",
       "5                 NaN  (staples center) 1111 S Figueroa St, Los Angeles\n",
       "6                 NaN                                             hello"
      ]
     },
     "execution_count": 1,
     "metadata": {},
     "output_type": "execute_result"
    }
   ],
   "source": [
    "clean_br_cnpj(df, column=\"cnpj\", inplace=True)"
   ]
  },
  {
   "cell_type": "markdown",
   "id": "honest-college",
   "metadata": {},
   "source": [
    "## 4. `errors` parameter"
   ]
  },
  {
   "cell_type": "markdown",
   "id": "signal-favor",
   "metadata": {},
   "source": [
    "### `coerce` (default)"
   ]
  },
  {
   "cell_type": "code",
   "execution_count": 6,
   "id": "dressed-blair",
   "metadata": {
    "execution": {
     "iopub.execute_input": "2021-10-26T23:34:35.763232Z",
     "iopub.status.busy": "2021-10-26T23:34:35.762600Z",
     "iopub.status.idle": "2021-10-26T23:34:35.768311Z",
     "shell.execute_reply": "2021-10-26T23:34:35.768786Z"
    }
   },
   "outputs": [
    {
     "data": {
      "text/html": [
       "<div>\n",
       "<style scoped>\n",
       "    .dataframe tbody tr th:only-of-type {\n",
       "        vertical-align: middle;\n",
       "    }\n",
       "\n",
       "    .dataframe tbody tr th {\n",
       "        vertical-align: top;\n",
       "    }\n",
       "\n",
       "    .dataframe thead th {\n",
       "        text-align: right;\n",
       "    }\n",
       "</style>\n",
       "<table border=\"1\" class=\"dataframe\">\n",
       "  <thead>\n",
       "    <tr style=\"text-align: right;\">\n",
       "      <th></th>\n",
       "      <th>cnpj</th>\n",
       "      <th>address</th>\n",
       "      <th>cnpj_clean</th>\n",
       "    </tr>\n",
       "  </thead>\n",
       "  <tbody>\n",
       "    <tr>\n",
       "      <th>0</th>\n",
       "      <td>16.727.230/0001-97</td>\n",
       "      <td>123 Pine Ave.</td>\n",
       "      <td>16.727.230/0001-97</td>\n",
       "    </tr>\n",
       "    <tr>\n",
       "      <th>1</th>\n",
       "      <td>16.727.230.0001-98</td>\n",
       "      <td>main st</td>\n",
       "      <td>NaN</td>\n",
       "    </tr>\n",
       "    <tr>\n",
       "      <th>2</th>\n",
       "      <td>16.727.230/0001=97</td>\n",
       "      <td>1234 west main heights 57033</td>\n",
       "      <td>NaN</td>\n",
       "    </tr>\n",
       "    <tr>\n",
       "      <th>3</th>\n",
       "      <td>16727230000197</td>\n",
       "      <td>apt 1 789 s maple rd manhattan</td>\n",
       "      <td>16.727.230/0001-97</td>\n",
       "    </tr>\n",
       "    <tr>\n",
       "      <th>4</th>\n",
       "      <td>hello</td>\n",
       "      <td>robie house, 789 north main street</td>\n",
       "      <td>NaN</td>\n",
       "    </tr>\n",
       "    <tr>\n",
       "      <th>5</th>\n",
       "      <td>NaN</td>\n",
       "      <td>(staples center) 1111 S Figueroa St, Los Angeles</td>\n",
       "      <td>NaN</td>\n",
       "    </tr>\n",
       "    <tr>\n",
       "      <th>6</th>\n",
       "      <td>NULL</td>\n",
       "      <td>hello</td>\n",
       "      <td>NaN</td>\n",
       "    </tr>\n",
       "  </tbody>\n",
       "</table>\n",
       "</div>"
      ],
      "text/plain": [
       "                 cnpj                                           address  \\\n",
       "0  16.727.230/0001-97                                     123 Pine Ave.   \n",
       "1  16.727.230.0001-98                                           main st   \n",
       "2  16.727.230/0001=97                      1234 west main heights 57033   \n",
       "3      16727230000197                    apt 1 789 s maple rd manhattan   \n",
       "4               hello                robie house, 789 north main street   \n",
       "5                 NaN  (staples center) 1111 S Figueroa St, Los Angeles   \n",
       "6                NULL                                             hello   \n",
       "\n",
       "           cnpj_clean  \n",
       "0  16.727.230/0001-97  \n",
       "1                 NaN  \n",
       "2                 NaN  \n",
       "3  16.727.230/0001-97  \n",
       "4                 NaN  \n",
       "5                 NaN  \n",
       "6                 NaN  "
      ]
     },
     "execution_count": 1,
     "metadata": {},
     "output_type": "execute_result"
    }
   ],
   "source": [
    "clean_br_cnpj(df, \"cnpj\", errors=\"coerce\")"
   ]
  },
  {
   "cell_type": "markdown",
   "id": "opponent-weekend",
   "metadata": {},
   "source": [
    "### `ignore`"
   ]
  },
  {
   "cell_type": "code",
   "execution_count": 7,
   "id": "paperback-technique",
   "metadata": {
    "execution": {
     "iopub.execute_input": "2021-10-26T23:34:35.793223Z",
     "iopub.status.busy": "2021-10-26T23:34:35.792613Z",
     "iopub.status.idle": "2021-10-26T23:34:35.805095Z",
     "shell.execute_reply": "2021-10-26T23:34:35.804471Z"
    }
   },
   "outputs": [
    {
     "data": {
      "text/html": [
       "<div>\n",
       "<style scoped>\n",
       "    .dataframe tbody tr th:only-of-type {\n",
       "        vertical-align: middle;\n",
       "    }\n",
       "\n",
       "    .dataframe tbody tr th {\n",
       "        vertical-align: top;\n",
       "    }\n",
       "\n",
       "    .dataframe thead th {\n",
       "        text-align: right;\n",
       "    }\n",
       "</style>\n",
       "<table border=\"1\" class=\"dataframe\">\n",
       "  <thead>\n",
       "    <tr style=\"text-align: right;\">\n",
       "      <th></th>\n",
       "      <th>cnpj</th>\n",
       "      <th>address</th>\n",
       "      <th>cnpj_clean</th>\n",
       "    </tr>\n",
       "  </thead>\n",
       "  <tbody>\n",
       "    <tr>\n",
       "      <th>0</th>\n",
       "      <td>16.727.230/0001-97</td>\n",
       "      <td>123 Pine Ave.</td>\n",
       "      <td>16.727.230/0001-97</td>\n",
       "    </tr>\n",
       "    <tr>\n",
       "      <th>1</th>\n",
       "      <td>16.727.230.0001-98</td>\n",
       "      <td>main st</td>\n",
       "      <td>16.727.230.0001-98</td>\n",
       "    </tr>\n",
       "    <tr>\n",
       "      <th>2</th>\n",
       "      <td>16.727.230/0001=97</td>\n",
       "      <td>1234 west main heights 57033</td>\n",
       "      <td>16.727.230/0001=97</td>\n",
       "    </tr>\n",
       "    <tr>\n",
       "      <th>3</th>\n",
       "      <td>16727230000197</td>\n",
       "      <td>apt 1 789 s maple rd manhattan</td>\n",
       "      <td>16.727.230/0001-97</td>\n",
       "    </tr>\n",
       "    <tr>\n",
       "      <th>4</th>\n",
       "      <td>hello</td>\n",
       "      <td>robie house, 789 north main street</td>\n",
       "      <td>hello</td>\n",
       "    </tr>\n",
       "    <tr>\n",
       "      <th>5</th>\n",
       "      <td>NaN</td>\n",
       "      <td>(staples center) 1111 S Figueroa St, Los Angeles</td>\n",
       "      <td>NaN</td>\n",
       "    </tr>\n",
       "    <tr>\n",
       "      <th>6</th>\n",
       "      <td>NULL</td>\n",
       "      <td>hello</td>\n",
       "      <td>NaN</td>\n",
       "    </tr>\n",
       "  </tbody>\n",
       "</table>\n",
       "</div>"
      ],
      "text/plain": [
       "                 cnpj                                           address  \\\n",
       "0  16.727.230/0001-97                                     123 Pine Ave.   \n",
       "1  16.727.230.0001-98                                           main st   \n",
       "2  16.727.230/0001=97                      1234 west main heights 57033   \n",
       "3      16727230000197                    apt 1 789 s maple rd manhattan   \n",
       "4               hello                robie house, 789 north main street   \n",
       "5                 NaN  (staples center) 1111 S Figueroa St, Los Angeles   \n",
       "6                NULL                                             hello   \n",
       "\n",
       "           cnpj_clean  \n",
       "0  16.727.230/0001-97  \n",
       "1  16.727.230.0001-98  \n",
       "2  16.727.230/0001=97  \n",
       "3  16.727.230/0001-97  \n",
       "4               hello  \n",
       "5                 NaN  \n",
       "6                 NaN  "
      ]
     },
     "execution_count": 1,
     "metadata": {},
     "output_type": "execute_result"
    }
   ],
   "source": [
    "clean_br_cnpj(df, \"cnpj\", errors=\"ignore\")"
   ]
  },
  {
   "cell_type": "markdown",
   "id": "collected-pearl",
   "metadata": {},
   "source": [
    "## 4. `validate_br_cnpj()`"
   ]
  },
  {
   "cell_type": "markdown",
   "id": "constant-traffic",
   "metadata": {},
   "source": [
    "`validate_br_cnpj()` returns `True` when the input is a valid CNPJ. Otherwise it returns `False`.\n",
    "\n",
    "The input of `validate_br_cnpj()` can be a string, a Pandas DataSeries, a Dask DataSeries, a Pandas DataFrame and a dask DataFrame.\n",
    "\n",
    "When the input is a string, a Pandas DataSeries or a Dask DataSeries, user doesn't need to specify a column name to be validated. \n",
    "\n",
    "When the input is a Pandas DataFrame or a dask DataFrame, user can both specify or not specify a column name to be validated. If user specify the column name, `validate_br_cnpj()` only returns the validation result for the specified column. If user doesn't specify the column name, `validate_br_cnpj()` returns the validation result for the whole DataFrame."
   ]
  },
  {
   "cell_type": "code",
   "execution_count": 8,
   "id": "unsigned-strip",
   "metadata": {
    "execution": {
     "iopub.execute_input": "2021-10-26T23:34:35.813366Z",
     "iopub.status.busy": "2021-10-26T23:34:35.811996Z",
     "iopub.status.idle": "2021-10-26T23:34:35.815668Z",
     "shell.execute_reply": "2021-10-26T23:34:35.815112Z"
    }
   },
   "outputs": [
    {
     "name": "stdout",
     "output_type": "stream",
     "text": [
      "True\n",
      "False\n",
      "False\n",
      "False\n",
      "False\n",
      "False\n",
      "False\n"
     ]
    }
   ],
   "source": [
    "from dataprep.clean import validate_br_cnpj\n",
    "print(validate_br_cnpj('16.727.230/0001-97'))\n",
    "print(validate_br_cnpj('16.727.230.0001-98'))\n",
    "print(validate_br_cnpj('16.727.230/0001=97'))\n",
    "print(validate_br_cnpj(\"51 824 753 556\"))\n",
    "print(validate_br_cnpj(\"hello\"))\n",
    "print(validate_br_cnpj(np.nan))\n",
    "print(validate_br_cnpj(\"NULL\"))"
   ]
  },
  {
   "cell_type": "markdown",
   "id": "likely-broad",
   "metadata": {},
   "source": [
    "### Series"
   ]
  },
  {
   "cell_type": "code",
   "execution_count": 9,
   "id": "adequate-refund",
   "metadata": {
    "execution": {
     "iopub.execute_input": "2021-10-26T23:34:35.821303Z",
     "iopub.status.busy": "2021-10-26T23:34:35.820714Z",
     "iopub.status.idle": "2021-10-26T23:34:35.825325Z",
     "shell.execute_reply": "2021-10-26T23:34:35.824788Z"
    }
   },
   "outputs": [
    {
     "data": {
      "text/plain": [
       "0     True\n",
       "1    False\n",
       "2    False\n",
       "3     True\n",
       "4    False\n",
       "5    False\n",
       "6    False\n",
       "Name: cnpj, dtype: bool"
      ]
     },
     "execution_count": 1,
     "metadata": {},
     "output_type": "execute_result"
    }
   ],
   "source": [
    "validate_br_cnpj(df[\"cnpj\"])"
   ]
  },
  {
   "cell_type": "markdown",
   "id": "convinced-sentence",
   "metadata": {},
   "source": [
    "### DataFrame + Specify Column"
   ]
  },
  {
   "cell_type": "code",
   "execution_count": 10,
   "id": "behavioral-oriental",
   "metadata": {
    "execution": {
     "iopub.execute_input": "2021-10-26T23:34:35.831330Z",
     "iopub.status.busy": "2021-10-26T23:34:35.830723Z",
     "iopub.status.idle": "2021-10-26T23:34:35.833692Z",
     "shell.execute_reply": "2021-10-26T23:34:35.834219Z"
    }
   },
   "outputs": [
    {
     "data": {
      "text/plain": [
       "0     True\n",
       "1    False\n",
       "2    False\n",
       "3     True\n",
       "4    False\n",
       "5    False\n",
       "6    False\n",
       "Name: cnpj, dtype: bool"
      ]
     },
     "execution_count": 1,
     "metadata": {},
     "output_type": "execute_result"
    }
   ],
   "source": [
    "validate_br_cnpj(df, column=\"cnpj\")"
   ]
  },
  {
   "cell_type": "markdown",
   "id": "silver-module",
   "metadata": {},
   "source": [
    "### Only DataFrame"
   ]
  },
  {
   "cell_type": "code",
   "execution_count": 11,
   "id": "random-anthony",
   "metadata": {
    "execution": {
     "iopub.execute_input": "2021-10-26T23:34:35.838314Z",
     "iopub.status.busy": "2021-10-26T23:34:35.837727Z",
     "iopub.status.idle": "2021-10-26T23:34:35.846684Z",
     "shell.execute_reply": "2021-10-26T23:34:35.847139Z"
    }
   },
   "outputs": [
    {
     "data": {
      "text/html": [
       "<div>\n",
       "<style scoped>\n",
       "    .dataframe tbody tr th:only-of-type {\n",
       "        vertical-align: middle;\n",
       "    }\n",
       "\n",
       "    .dataframe tbody tr th {\n",
       "        vertical-align: top;\n",
       "    }\n",
       "\n",
       "    .dataframe thead th {\n",
       "        text-align: right;\n",
       "    }\n",
       "</style>\n",
       "<table border=\"1\" class=\"dataframe\">\n",
       "  <thead>\n",
       "    <tr style=\"text-align: right;\">\n",
       "      <th></th>\n",
       "      <th>cnpj</th>\n",
       "      <th>address</th>\n",
       "    </tr>\n",
       "  </thead>\n",
       "  <tbody>\n",
       "    <tr>\n",
       "      <th>0</th>\n",
       "      <td>True</td>\n",
       "      <td>False</td>\n",
       "    </tr>\n",
       "    <tr>\n",
       "      <th>1</th>\n",
       "      <td>False</td>\n",
       "      <td>False</td>\n",
       "    </tr>\n",
       "    <tr>\n",
       "      <th>2</th>\n",
       "      <td>False</td>\n",
       "      <td>False</td>\n",
       "    </tr>\n",
       "    <tr>\n",
       "      <th>3</th>\n",
       "      <td>True</td>\n",
       "      <td>False</td>\n",
       "    </tr>\n",
       "    <tr>\n",
       "      <th>4</th>\n",
       "      <td>False</td>\n",
       "      <td>False</td>\n",
       "    </tr>\n",
       "    <tr>\n",
       "      <th>5</th>\n",
       "      <td>False</td>\n",
       "      <td>False</td>\n",
       "    </tr>\n",
       "    <tr>\n",
       "      <th>6</th>\n",
       "      <td>False</td>\n",
       "      <td>False</td>\n",
       "    </tr>\n",
       "  </tbody>\n",
       "</table>\n",
       "</div>"
      ],
      "text/plain": [
       "    cnpj  address\n",
       "0   True    False\n",
       "1  False    False\n",
       "2  False    False\n",
       "3   True    False\n",
       "4  False    False\n",
       "5  False    False\n",
       "6  False    False"
      ]
     },
     "execution_count": 1,
     "metadata": {},
     "output_type": "execute_result"
    }
   ],
   "source": [
    "validate_br_cnpj(df)"
   ]
  },
  {
   "cell_type": "code",
   "execution_count": null,
   "id": "ruled-situation",
   "metadata": {},
   "outputs": [],
   "source": []
  }
 ],
 "metadata": {
  "kernelspec": {
   "display_name": "Python 3",
   "language": "python",
   "name": "python3"
  },
  "language_info": {
   "codemirror_mode": {
    "name": "ipython",
    "version": 3
   },
   "file_extension": ".py",
   "mimetype": "text/x-python",
   "name": "python",
   "nbconvert_exporter": "python",
   "pygments_lexer": "ipython3",
   "version": "3.8.10"
  }
 },
 "nbformat": 4,
 "nbformat_minor": 5
}
