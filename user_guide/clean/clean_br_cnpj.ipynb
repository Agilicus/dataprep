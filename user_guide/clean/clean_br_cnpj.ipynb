{
 "cells": [
  {
   "cell_type": "markdown",
   "id": "complimentary-entry",
   "metadata": {},
   "source": [
    "# Brazilian Company Identifiers"
   ]
  },
  {
   "cell_type": "markdown",
   "id": "specified-raising",
   "metadata": {},
   "source": [
    "## Introduction"
   ]
  },
  {
   "cell_type": "markdown",
   "id": "standing-notebook",
   "metadata": {},
   "source": [
    "The function `clean_br_cnpj()` cleans a column containing Brazilian company identifier (CNPJ) strings, and standardizes them in a given format. The function `validate_br_cnpj()` validates either a single cnpj strings, a column of CNPJ strings or a DataFrame of CNPJ strings, returning `True` if the value is valid, and `False` otherwise."
   ]
  },
  {
   "cell_type": "markdown",
   "id": "proprietary-healthcare",
   "metadata": {},
   "source": [
    "CNPJ strings can be converted to the following formats via the `output_format` parameter:\n",
    "\n",
    "* `compact`: only number strings without any seperators or whitespace, like \"16727230000197\"\n",
    "* `standard`: cnpj strings with proper whitespace in the proper places, like \"16.727.230/0001-97\"\n",
    "\n",
    "Invalid parsing is handled with the `errors` parameter:\n",
    "\n",
    "* `coerce` (default): invalid parsing will be set to NaN\n",
    "* `ignore`: invalid parsing will return the input\n",
    "* `raise`: invalid parsing will raise an exception\n",
    "\n",
    "The following sections demonstrate the functionality of `clean_br_cnpj()` and `validate_br_cnpj()`. "
   ]
  },
  {
   "cell_type": "markdown",
   "id": "olympic-provincial",
   "metadata": {},
   "source": [
    "### An example dataset containing cnpj strings"
   ]
  },
  {
   "cell_type": "code",
   "execution_count": 1,
   "id": "married-establishment",
   "metadata": {
    "execution": {
     "iopub.execute_input": "2021-11-04T02:09:14.687121Z",
     "iopub.status.busy": "2021-11-04T02:09:14.686614Z",
     "iopub.status.idle": "2021-11-04T02:09:14.903338Z",
     "shell.execute_reply": "2021-11-04T02:09:14.902929Z"
    }
   },
   "outputs": [
    {
     "data": {
      "text/html": [
       "<div>\n",
       "<style scoped>\n",
       "    .dataframe tbody tr th:only-of-type {\n",
       "        vertical-align: middle;\n",
       "    }\n",
       "\n",
       "    .dataframe tbody tr th {\n",
       "        vertical-align: top;\n",
       "    }\n",
       "\n",
       "    .dataframe thead th {\n",
       "        text-align: right;\n",
       "    }\n",
       "</style>\n",
       "<table border=\"1\" class=\"dataframe\">\n",
       "  <thead>\n",
       "    <tr style=\"text-align: right;\">\n",
       "      <th></th>\n",
       "      <th>cnpj</th>\n",
       "      <th>address</th>\n",
       "    </tr>\n",
       "  </thead>\n",
       "  <tbody>\n",
       "    <tr>\n",
       "      <th>0</th>\n",
       "      <td>16.727.230/0001-97</td>\n",
       "      <td>123 Pine Ave.</td>\n",
       "    </tr>\n",
       "    <tr>\n",
       "      <th>1</th>\n",
       "      <td>16.727.230.0001-98</td>\n",
       "      <td>main st</td>\n",
       "    </tr>\n",
       "    <tr>\n",
       "      <th>2</th>\n",
       "      <td>16.727.230/0001=97</td>\n",
       "      <td>1234 west main heights 57033</td>\n",
       "    </tr>\n",
       "    <tr>\n",
       "      <th>3</th>\n",
       "      <td>16727230000197</td>\n",
       "      <td>apt 1 789 s maple rd manhattan</td>\n",
       "    </tr>\n",
       "    <tr>\n",
       "      <th>4</th>\n",
       "      <td>hello</td>\n",
       "      <td>robie house, 789 north main street</td>\n",
       "    </tr>\n",
       "    <tr>\n",
       "      <th>5</th>\n",
       "      <td>NaN</td>\n",
       "      <td>(staples center) 1111 S Figueroa St, Los Angeles</td>\n",
       "    </tr>\n",
       "    <tr>\n",
       "      <th>6</th>\n",
       "      <td>NULL</td>\n",
       "      <td>hello</td>\n",
       "    </tr>\n",
       "  </tbody>\n",
       "</table>\n",
       "</div>"
      ],
      "text/plain": [
       "                 cnpj                                           address\n",
       "0  16.727.230/0001-97                                     123 Pine Ave.\n",
       "1  16.727.230.0001-98                                           main st\n",
       "2  16.727.230/0001=97                      1234 west main heights 57033\n",
       "3      16727230000197                    apt 1 789 s maple rd manhattan\n",
       "4               hello                robie house, 789 north main street\n",
       "5                 NaN  (staples center) 1111 S Figueroa St, Los Angeles\n",
       "6                NULL                                             hello"
      ]
     },
     "execution_count": 1,
     "metadata": {},
     "output_type": "execute_result"
    }
   ],
   "source": [
    "import pandas as pd\n",
    "import numpy as np\n",
    "df = pd.DataFrame(\n",
    "    {\n",
    "        \"cnpj\": [\n",
    "            \"16.727.230/0001-97\",\n",
    "            \"16.727.230.0001-98\",\n",
    "            \"16.727.230/0001=97\",\n",
    "            \"16727230000197\",\n",
    "            \"hello\",\n",
    "            np.nan,\n",
    "            \"NULL\"\n",
    "        ], \n",
    "        \"address\": [\n",
    "            \"123 Pine Ave.\",\n",
    "            \"main st\",\n",
    "            \"1234 west main heights 57033\",\n",
    "            \"apt 1 789 s maple rd manhattan\",\n",
    "            \"robie house, 789 north main street\",\n",
    "            \"(staples center) 1111 S Figueroa St, Los Angeles\",\n",
    "            \"hello\",\n",
    "        ]\n",
    "    }\n",
    ")\n",
    "df"
   ]
  },
  {
   "cell_type": "markdown",
   "id": "affecting-nowhere",
   "metadata": {},
   "source": [
    "## 1. Default `clean_br_cnpj`\n",
    "\n",
    "By default, `clean_br_cnpj` will clean cnpj strings and output them in the standard format with proper separators."
   ]
  },
  {
   "cell_type": "code",
   "execution_count": 2,
   "id": "perfect-document",
   "metadata": {
    "execution": {
     "iopub.execute_input": "2021-11-04T02:09:14.907027Z",
     "iopub.status.busy": "2021-11-04T02:09:14.906284Z",
     "iopub.status.idle": "2021-11-04T02:09:15.439130Z",
     "shell.execute_reply": "2021-11-04T02:09:15.438716Z"
    }
   },
   "outputs": [
    {
     "data": {
      "text/html": [
       "<div>\n",
       "<style scoped>\n",
       "    .dataframe tbody tr th:only-of-type {\n",
       "        vertical-align: middle;\n",
       "    }\n",
       "\n",
       "    .dataframe tbody tr th {\n",
       "        vertical-align: top;\n",
       "    }\n",
       "\n",
       "    .dataframe thead th {\n",
       "        text-align: right;\n",
       "    }\n",
       "</style>\n",
       "<table border=\"1\" class=\"dataframe\">\n",
       "  <thead>\n",
       "    <tr style=\"text-align: right;\">\n",
       "      <th></th>\n",
       "      <th>cnpj</th>\n",
       "      <th>address</th>\n",
       "      <th>cnpj_clean</th>\n",
       "    </tr>\n",
       "  </thead>\n",
       "  <tbody>\n",
       "    <tr>\n",
       "      <th>0</th>\n",
       "      <td>16.727.230/0001-97</td>\n",
       "      <td>123 Pine Ave.</td>\n",
       "      <td>16.727.230/0001-97</td>\n",
       "    </tr>\n",
       "    <tr>\n",
       "      <th>1</th>\n",
       "      <td>16.727.230.0001-98</td>\n",
       "      <td>main st</td>\n",
       "      <td>NaN</td>\n",
       "    </tr>\n",
       "    <tr>\n",
       "      <th>2</th>\n",
       "      <td>16.727.230/0001=97</td>\n",
       "      <td>1234 west main heights 57033</td>\n",
       "      <td>NaN</td>\n",
       "    </tr>\n",
       "    <tr>\n",
       "      <th>3</th>\n",
       "      <td>16727230000197</td>\n",
       "      <td>apt 1 789 s maple rd manhattan</td>\n",
       "      <td>16.727.230/0001-97</td>\n",
       "    </tr>\n",
       "    <tr>\n",
       "      <th>4</th>\n",
       "      <td>hello</td>\n",
       "      <td>robie house, 789 north main street</td>\n",
       "      <td>NaN</td>\n",
       "    </tr>\n",
       "    <tr>\n",
       "      <th>5</th>\n",
       "      <td>NaN</td>\n",
       "      <td>(staples center) 1111 S Figueroa St, Los Angeles</td>\n",
       "      <td>NaN</td>\n",
       "    </tr>\n",
       "    <tr>\n",
       "      <th>6</th>\n",
       "      <td>NULL</td>\n",
       "      <td>hello</td>\n",
       "      <td>NaN</td>\n",
       "    </tr>\n",
       "  </tbody>\n",
       "</table>\n",
       "</div>"
      ],
      "text/plain": [
       "                 cnpj                                           address  \\\n",
       "0  16.727.230/0001-97                                     123 Pine Ave.   \n",
       "1  16.727.230.0001-98                                           main st   \n",
       "2  16.727.230/0001=97                      1234 west main heights 57033   \n",
       "3      16727230000197                    apt 1 789 s maple rd manhattan   \n",
       "4               hello                robie house, 789 north main street   \n",
       "5                 NaN  (staples center) 1111 S Figueroa St, Los Angeles   \n",
       "6                NULL                                             hello   \n",
       "\n",
       "           cnpj_clean  \n",
       "0  16.727.230/0001-97  \n",
       "1                 NaN  \n",
       "2                 NaN  \n",
       "3  16.727.230/0001-97  \n",
       "4                 NaN  \n",
       "5                 NaN  \n",
       "6                 NaN  "
      ]
     },
     "execution_count": 1,
     "metadata": {},
     "output_type": "execute_result"
    }
   ],
   "source": [
    "from dataprep.clean import clean_br_cnpj\n",
    "clean_br_cnpj(df, column = \"cnpj\")"
   ]
  },
  {
   "cell_type": "markdown",
   "id": "funded-norwegian",
   "metadata": {},
   "source": [
    "## 2. Output formats"
   ]
  },
  {
   "cell_type": "markdown",
   "id": "affiliated-checkout",
   "metadata": {},
   "source": [
    "This section demonstrates the output parameter."
   ]
  },
  {
   "cell_type": "markdown",
   "id": "further-collector",
   "metadata": {},
   "source": [
    "### `standard` (default)"
   ]
  },
  {
   "cell_type": "code",
   "execution_count": 3,
   "id": "blond-affect",
   "metadata": {
    "execution": {
     "iopub.execute_input": "2021-11-04T02:09:15.457956Z",
     "iopub.status.busy": "2021-11-04T02:09:15.457466Z",
     "iopub.status.idle": "2021-11-04T02:09:15.466025Z",
     "shell.execute_reply": "2021-11-04T02:09:15.466606Z"
    }
   },
   "outputs": [
    {
     "data": {
      "text/html": [
       "<div>\n",
       "<style scoped>\n",
       "    .dataframe tbody tr th:only-of-type {\n",
       "        vertical-align: middle;\n",
       "    }\n",
       "\n",
       "    .dataframe tbody tr th {\n",
       "        vertical-align: top;\n",
       "    }\n",
       "\n",
       "    .dataframe thead th {\n",
       "        text-align: right;\n",
       "    }\n",
       "</style>\n",
       "<table border=\"1\" class=\"dataframe\">\n",
       "  <thead>\n",
       "    <tr style=\"text-align: right;\">\n",
       "      <th></th>\n",
       "      <th>cnpj</th>\n",
       "      <th>address</th>\n",
       "      <th>cnpj_clean</th>\n",
       "    </tr>\n",
       "  </thead>\n",
       "  <tbody>\n",
       "    <tr>\n",
       "      <th>0</th>\n",
       "      <td>16.727.230/0001-97</td>\n",
       "      <td>123 Pine Ave.</td>\n",
       "      <td>16.727.230/0001-97</td>\n",
       "    </tr>\n",
       "    <tr>\n",
       "      <th>1</th>\n",
       "      <td>16.727.230.0001-98</td>\n",
       "      <td>main st</td>\n",
       "      <td>NaN</td>\n",
       "    </tr>\n",
       "    <tr>\n",
       "      <th>2</th>\n",
       "      <td>16.727.230/0001=97</td>\n",
       "      <td>1234 west main heights 57033</td>\n",
       "      <td>NaN</td>\n",
       "    </tr>\n",
       "    <tr>\n",
       "      <th>3</th>\n",
       "      <td>16727230000197</td>\n",
       "      <td>apt 1 789 s maple rd manhattan</td>\n",
       "      <td>16.727.230/0001-97</td>\n",
       "    </tr>\n",
       "    <tr>\n",
       "      <th>4</th>\n",
       "      <td>hello</td>\n",
       "      <td>robie house, 789 north main street</td>\n",
       "      <td>NaN</td>\n",
       "    </tr>\n",
       "    <tr>\n",
       "      <th>5</th>\n",
       "      <td>NaN</td>\n",
       "      <td>(staples center) 1111 S Figueroa St, Los Angeles</td>\n",
       "      <td>NaN</td>\n",
       "    </tr>\n",
       "    <tr>\n",
       "      <th>6</th>\n",
       "      <td>NULL</td>\n",
       "      <td>hello</td>\n",
       "      <td>NaN</td>\n",
       "    </tr>\n",
       "  </tbody>\n",
       "</table>\n",
       "</div>"
      ],
      "text/plain": [
       "                 cnpj                                           address  \\\n",
       "0  16.727.230/0001-97                                     123 Pine Ave.   \n",
       "1  16.727.230.0001-98                                           main st   \n",
       "2  16.727.230/0001=97                      1234 west main heights 57033   \n",
       "3      16727230000197                    apt 1 789 s maple rd manhattan   \n",
       "4               hello                robie house, 789 north main street   \n",
       "5                 NaN  (staples center) 1111 S Figueroa St, Los Angeles   \n",
       "6                NULL                                             hello   \n",
       "\n",
       "           cnpj_clean  \n",
       "0  16.727.230/0001-97  \n",
       "1                 NaN  \n",
       "2                 NaN  \n",
       "3  16.727.230/0001-97  \n",
       "4                 NaN  \n",
       "5                 NaN  \n",
       "6                 NaN  "
      ]
     },
     "execution_count": 1,
     "metadata": {},
     "output_type": "execute_result"
    }
   ],
   "source": [
    "clean_br_cnpj(df, column = \"cnpj\", output_format=\"standard\")"
   ]
  },
  {
   "cell_type": "markdown",
   "id": "french-rochester",
   "metadata": {},
   "source": [
    "### `compact`"
   ]
  },
  {
   "cell_type": "code",
   "execution_count": 4,
   "id": "creative-tonight",
   "metadata": {
    "execution": {
     "iopub.execute_input": "2021-11-04T02:09:15.487044Z",
     "iopub.status.busy": "2021-11-04T02:09:15.486244Z",
     "iopub.status.idle": "2021-11-04T02:09:15.493558Z",
     "shell.execute_reply": "2021-11-04T02:09:15.493180Z"
    }
   },
   "outputs": [
    {
     "data": {
      "text/html": [
       "<div>\n",
       "<style scoped>\n",
       "    .dataframe tbody tr th:only-of-type {\n",
       "        vertical-align: middle;\n",
       "    }\n",
       "\n",
       "    .dataframe tbody tr th {\n",
       "        vertical-align: top;\n",
       "    }\n",
       "\n",
       "    .dataframe thead th {\n",
       "        text-align: right;\n",
       "    }\n",
       "</style>\n",
       "<table border=\"1\" class=\"dataframe\">\n",
       "  <thead>\n",
       "    <tr style=\"text-align: right;\">\n",
       "      <th></th>\n",
       "      <th>cnpj</th>\n",
       "      <th>address</th>\n",
       "      <th>cnpj_clean</th>\n",
       "    </tr>\n",
       "  </thead>\n",
       "  <tbody>\n",
       "    <tr>\n",
       "      <th>0</th>\n",
       "      <td>16.727.230/0001-97</td>\n",
       "      <td>123 Pine Ave.</td>\n",
       "      <td>16727230000197</td>\n",
       "    </tr>\n",
       "    <tr>\n",
       "      <th>1</th>\n",
       "      <td>16.727.230.0001-98</td>\n",
       "      <td>main st</td>\n",
       "      <td>NaN</td>\n",
       "    </tr>\n",
       "    <tr>\n",
       "      <th>2</th>\n",
       "      <td>16.727.230/0001=97</td>\n",
       "      <td>1234 west main heights 57033</td>\n",
       "      <td>NaN</td>\n",
       "    </tr>\n",
       "    <tr>\n",
       "      <th>3</th>\n",
       "      <td>16727230000197</td>\n",
       "      <td>apt 1 789 s maple rd manhattan</td>\n",
       "      <td>16727230000197</td>\n",
       "    </tr>\n",
       "    <tr>\n",
       "      <th>4</th>\n",
       "      <td>hello</td>\n",
       "      <td>robie house, 789 north main street</td>\n",
       "      <td>NaN</td>\n",
       "    </tr>\n",
       "    <tr>\n",
       "      <th>5</th>\n",
       "      <td>NaN</td>\n",
       "      <td>(staples center) 1111 S Figueroa St, Los Angeles</td>\n",
       "      <td>NaN</td>\n",
       "    </tr>\n",
       "    <tr>\n",
       "      <th>6</th>\n",
       "      <td>NULL</td>\n",
       "      <td>hello</td>\n",
       "      <td>NaN</td>\n",
       "    </tr>\n",
       "  </tbody>\n",
       "</table>\n",
       "</div>"
      ],
      "text/plain": [
       "                 cnpj                                           address  \\\n",
       "0  16.727.230/0001-97                                     123 Pine Ave.   \n",
       "1  16.727.230.0001-98                                           main st   \n",
       "2  16.727.230/0001=97                      1234 west main heights 57033   \n",
       "3      16727230000197                    apt 1 789 s maple rd manhattan   \n",
       "4               hello                robie house, 789 north main street   \n",
       "5                 NaN  (staples center) 1111 S Figueroa St, Los Angeles   \n",
       "6                NULL                                             hello   \n",
       "\n",
       "       cnpj_clean  \n",
       "0  16727230000197  \n",
       "1             NaN  \n",
       "2             NaN  \n",
       "3  16727230000197  \n",
       "4             NaN  \n",
       "5             NaN  \n",
       "6             NaN  "
      ]
     },
     "execution_count": 1,
     "metadata": {},
     "output_type": "execute_result"
    }
   ],
   "source": [
    "clean_br_cnpj(df, column = \"cnpj\", output_format=\"compact\")"
   ]
  },
  {
   "cell_type": "markdown",
   "id": "billion-water",
   "metadata": {},
   "source": [
    "## 3. `inplace` parameter\n",
    "\n",
    "This deletes the given column from the returned DataFrame. \n",
    "A new column containing cleaned CNPJ strings is added with a title in the format `\"{original title}_clean\"`."
   ]
  },
  {
   "cell_type": "code",
   "execution_count": 5,
   "id": "medium-spanking",
   "metadata": {
    "execution": {
     "iopub.execute_input": "2021-11-04T02:09:15.517928Z",
     "iopub.status.busy": "2021-11-04T02:09:15.517448Z",
     "iopub.status.idle": "2021-11-04T02:09:15.527907Z",
     "shell.execute_reply": "2021-11-04T02:09:15.527529Z"
    }
   },
   "outputs": [
    {
     "data": {
      "text/html": [
       "<div>\n",
       "<style scoped>\n",
       "    .dataframe tbody tr th:only-of-type {\n",
       "        vertical-align: middle;\n",
       "    }\n",
       "\n",
       "    .dataframe tbody tr th {\n",
       "        vertical-align: top;\n",
       "    }\n",
       "\n",
       "    .dataframe thead th {\n",
       "        text-align: right;\n",
       "    }\n",
       "</style>\n",
       "<table border=\"1\" class=\"dataframe\">\n",
       "  <thead>\n",
       "    <tr style=\"text-align: right;\">\n",
       "      <th></th>\n",
       "      <th>cnpj_clean</th>\n",
       "      <th>address</th>\n",
       "    </tr>\n",
       "  </thead>\n",
       "  <tbody>\n",
       "    <tr>\n",
       "      <th>0</th>\n",
       "      <td>16.727.230/0001-97</td>\n",
       "      <td>123 Pine Ave.</td>\n",
       "    </tr>\n",
       "    <tr>\n",
       "      <th>1</th>\n",
       "      <td>NaN</td>\n",
       "      <td>main st</td>\n",
       "    </tr>\n",
       "    <tr>\n",
       "      <th>2</th>\n",
       "      <td>NaN</td>\n",
       "      <td>1234 west main heights 57033</td>\n",
       "    </tr>\n",
       "    <tr>\n",
       "      <th>3</th>\n",
       "      <td>16.727.230/0001-97</td>\n",
       "      <td>apt 1 789 s maple rd manhattan</td>\n",
       "    </tr>\n",
       "    <tr>\n",
       "      <th>4</th>\n",
       "      <td>NaN</td>\n",
       "      <td>robie house, 789 north main street</td>\n",
       "    </tr>\n",
       "    <tr>\n",
       "      <th>5</th>\n",
       "      <td>NaN</td>\n",
       "      <td>(staples center) 1111 S Figueroa St, Los Angeles</td>\n",
       "    </tr>\n",
       "    <tr>\n",
       "      <th>6</th>\n",
       "      <td>NaN</td>\n",
       "      <td>hello</td>\n",
       "    </tr>\n",
       "  </tbody>\n",
       "</table>\n",
       "</div>"
      ],
      "text/plain": [
       "           cnpj_clean                                           address\n",
       "0  16.727.230/0001-97                                     123 Pine Ave.\n",
       "1                 NaN                                           main st\n",
       "2                 NaN                      1234 west main heights 57033\n",
       "3  16.727.230/0001-97                    apt 1 789 s maple rd manhattan\n",
       "4                 NaN                robie house, 789 north main street\n",
       "5                 NaN  (staples center) 1111 S Figueroa St, Los Angeles\n",
       "6                 NaN                                             hello"
      ]
     },
     "execution_count": 1,
     "metadata": {},
     "output_type": "execute_result"
    }
   ],
   "source": [
    "clean_br_cnpj(df, column=\"cnpj\", inplace=True)"
   ]
  },
  {
   "cell_type": "markdown",
   "id": "distinct-atlas",
   "metadata": {},
   "source": [
    "## 4. `errors` parameter"
   ]
  },
  {
   "cell_type": "markdown",
   "id": "numeric-phoenix",
   "metadata": {},
   "source": [
    "### `coerce` (default)"
   ]
  },
  {
   "cell_type": "code",
   "execution_count": 6,
   "id": "confirmed-island",
   "metadata": {
    "execution": {
     "iopub.execute_input": "2021-11-04T02:09:15.549288Z",
     "iopub.status.busy": "2021-11-04T02:09:15.546027Z",
     "iopub.status.idle": "2021-11-04T02:09:15.554712Z",
     "shell.execute_reply": "2021-11-04T02:09:15.554312Z"
    }
   },
   "outputs": [
    {
     "data": {
      "text/html": [
       "<div>\n",
       "<style scoped>\n",
       "    .dataframe tbody tr th:only-of-type {\n",
       "        vertical-align: middle;\n",
       "    }\n",
       "\n",
       "    .dataframe tbody tr th {\n",
       "        vertical-align: top;\n",
       "    }\n",
       "\n",
       "    .dataframe thead th {\n",
       "        text-align: right;\n",
       "    }\n",
       "</style>\n",
       "<table border=\"1\" class=\"dataframe\">\n",
       "  <thead>\n",
       "    <tr style=\"text-align: right;\">\n",
       "      <th></th>\n",
       "      <th>cnpj</th>\n",
       "      <th>address</th>\n",
       "      <th>cnpj_clean</th>\n",
       "    </tr>\n",
       "  </thead>\n",
       "  <tbody>\n",
       "    <tr>\n",
       "      <th>0</th>\n",
       "      <td>16.727.230/0001-97</td>\n",
       "      <td>123 Pine Ave.</td>\n",
       "      <td>16.727.230/0001-97</td>\n",
       "    </tr>\n",
       "    <tr>\n",
       "      <th>1</th>\n",
       "      <td>16.727.230.0001-98</td>\n",
       "      <td>main st</td>\n",
       "      <td>NaN</td>\n",
       "    </tr>\n",
       "    <tr>\n",
       "      <th>2</th>\n",
       "      <td>16.727.230/0001=97</td>\n",
       "      <td>1234 west main heights 57033</td>\n",
       "      <td>NaN</td>\n",
       "    </tr>\n",
       "    <tr>\n",
       "      <th>3</th>\n",
       "      <td>16727230000197</td>\n",
       "      <td>apt 1 789 s maple rd manhattan</td>\n",
       "      <td>16.727.230/0001-97</td>\n",
       "    </tr>\n",
       "    <tr>\n",
       "      <th>4</th>\n",
       "      <td>hello</td>\n",
       "      <td>robie house, 789 north main street</td>\n",
       "      <td>NaN</td>\n",
       "    </tr>\n",
       "    <tr>\n",
       "      <th>5</th>\n",
       "      <td>NaN</td>\n",
       "      <td>(staples center) 1111 S Figueroa St, Los Angeles</td>\n",
       "      <td>NaN</td>\n",
       "    </tr>\n",
       "    <tr>\n",
       "      <th>6</th>\n",
       "      <td>NULL</td>\n",
       "      <td>hello</td>\n",
       "      <td>NaN</td>\n",
       "    </tr>\n",
       "  </tbody>\n",
       "</table>\n",
       "</div>"
      ],
      "text/plain": [
       "                 cnpj                                           address  \\\n",
       "0  16.727.230/0001-97                                     123 Pine Ave.   \n",
       "1  16.727.230.0001-98                                           main st   \n",
       "2  16.727.230/0001=97                      1234 west main heights 57033   \n",
       "3      16727230000197                    apt 1 789 s maple rd manhattan   \n",
       "4               hello                robie house, 789 north main street   \n",
       "5                 NaN  (staples center) 1111 S Figueroa St, Los Angeles   \n",
       "6                NULL                                             hello   \n",
       "\n",
       "           cnpj_clean  \n",
       "0  16.727.230/0001-97  \n",
       "1                 NaN  \n",
       "2                 NaN  \n",
       "3  16.727.230/0001-97  \n",
       "4                 NaN  \n",
       "5                 NaN  \n",
       "6                 NaN  "
      ]
     },
     "execution_count": 1,
     "metadata": {},
     "output_type": "execute_result"
    }
   ],
   "source": [
    "clean_br_cnpj(df, \"cnpj\", errors=\"coerce\")"
   ]
  },
  {
   "cell_type": "markdown",
   "id": "accessory-platinum",
   "metadata": {},
   "source": [
    "### `ignore`"
   ]
  },
  {
   "cell_type": "code",
   "execution_count": 7,
   "id": "little-nowhere",
   "metadata": {
    "execution": {
     "iopub.execute_input": "2021-11-04T02:09:15.573612Z",
     "iopub.status.busy": "2021-11-04T02:09:15.573165Z",
     "iopub.status.idle": "2021-11-04T02:09:15.581074Z",
     "shell.execute_reply": "2021-11-04T02:09:15.581441Z"
    }
   },
   "outputs": [
    {
     "data": {
      "text/html": [
       "<div>\n",
       "<style scoped>\n",
       "    .dataframe tbody tr th:only-of-type {\n",
       "        vertical-align: middle;\n",
       "    }\n",
       "\n",
       "    .dataframe tbody tr th {\n",
       "        vertical-align: top;\n",
       "    }\n",
       "\n",
       "    .dataframe thead th {\n",
       "        text-align: right;\n",
       "    }\n",
       "</style>\n",
       "<table border=\"1\" class=\"dataframe\">\n",
       "  <thead>\n",
       "    <tr style=\"text-align: right;\">\n",
       "      <th></th>\n",
       "      <th>cnpj</th>\n",
       "      <th>address</th>\n",
       "      <th>cnpj_clean</th>\n",
       "    </tr>\n",
       "  </thead>\n",
       "  <tbody>\n",
       "    <tr>\n",
       "      <th>0</th>\n",
       "      <td>16.727.230/0001-97</td>\n",
       "      <td>123 Pine Ave.</td>\n",
       "      <td>16.727.230/0001-97</td>\n",
       "    </tr>\n",
       "    <tr>\n",
       "      <th>1</th>\n",
       "      <td>16.727.230.0001-98</td>\n",
       "      <td>main st</td>\n",
       "      <td>16.727.230.0001-98</td>\n",
       "    </tr>\n",
       "    <tr>\n",
       "      <th>2</th>\n",
       "      <td>16.727.230/0001=97</td>\n",
       "      <td>1234 west main heights 57033</td>\n",
       "      <td>16.727.230/0001=97</td>\n",
       "    </tr>\n",
       "    <tr>\n",
       "      <th>3</th>\n",
       "      <td>16727230000197</td>\n",
       "      <td>apt 1 789 s maple rd manhattan</td>\n",
       "      <td>16.727.230/0001-97</td>\n",
       "    </tr>\n",
       "    <tr>\n",
       "      <th>4</th>\n",
       "      <td>hello</td>\n",
       "      <td>robie house, 789 north main street</td>\n",
       "      <td>hello</td>\n",
       "    </tr>\n",
       "    <tr>\n",
       "      <th>5</th>\n",
       "      <td>NaN</td>\n",
       "      <td>(staples center) 1111 S Figueroa St, Los Angeles</td>\n",
       "      <td>NaN</td>\n",
       "    </tr>\n",
       "    <tr>\n",
       "      <th>6</th>\n",
       "      <td>NULL</td>\n",
       "      <td>hello</td>\n",
       "      <td>NaN</td>\n",
       "    </tr>\n",
       "  </tbody>\n",
       "</table>\n",
       "</div>"
      ],
      "text/plain": [
       "                 cnpj                                           address  \\\n",
       "0  16.727.230/0001-97                                     123 Pine Ave.   \n",
       "1  16.727.230.0001-98                                           main st   \n",
       "2  16.727.230/0001=97                      1234 west main heights 57033   \n",
       "3      16727230000197                    apt 1 789 s maple rd manhattan   \n",
       "4               hello                robie house, 789 north main street   \n",
       "5                 NaN  (staples center) 1111 S Figueroa St, Los Angeles   \n",
       "6                NULL                                             hello   \n",
       "\n",
       "           cnpj_clean  \n",
       "0  16.727.230/0001-97  \n",
       "1  16.727.230.0001-98  \n",
       "2  16.727.230/0001=97  \n",
       "3  16.727.230/0001-97  \n",
       "4               hello  \n",
       "5                 NaN  \n",
       "6                 NaN  "
      ]
     },
     "execution_count": 1,
     "metadata": {},
     "output_type": "execute_result"
    }
   ],
   "source": [
    "clean_br_cnpj(df, \"cnpj\", errors=\"ignore\")"
   ]
  },
  {
   "cell_type": "markdown",
   "id": "signed-webmaster",
   "metadata": {},
   "source": [
    "## 4. `validate_br_cnpj()`"
   ]
  },
  {
   "cell_type": "markdown",
   "id": "fewer-jimmy",
   "metadata": {},
   "source": [
    "`validate_br_cnpj()` returns `True` when the input is a valid CNPJ. Otherwise it returns `False`.\n",
    "\n",
    "The input of `validate_br_cnpj()` can be a string, a Pandas DataSeries, a Dask DataSeries, a Pandas DataFrame and a dask DataFrame.\n",
    "\n",
    "When the input is a string, a Pandas DataSeries or a Dask DataSeries, user doesn't need to specify a column name to be validated. \n",
    "\n",
    "When the input is a Pandas DataFrame or a dask DataFrame, user can both specify or not specify a column name to be validated. If user specify the column name, `validate_br_cnpj()` only returns the validation result for the specified column. If user doesn't specify the column name, `validate_br_cnpj()` returns the validation result for the whole DataFrame."
   ]
  },
  {
   "cell_type": "code",
   "execution_count": 8,
   "id": "digital-modification",
   "metadata": {
    "execution": {
     "iopub.execute_input": "2021-11-04T02:09:15.586036Z",
     "iopub.status.busy": "2021-11-04T02:09:15.585599Z",
     "iopub.status.idle": "2021-11-04T02:09:15.589296Z",
     "shell.execute_reply": "2021-11-04T02:09:15.588897Z"
    }
   },
   "outputs": [
    {
     "name": "stdout",
     "output_type": "stream",
     "text": [
      "True\n",
      "False\n",
      "False\n",
      "False\n",
      "False\n",
      "False\n",
      "False\n"
     ]
    }
   ],
   "source": [
    "from dataprep.clean import validate_br_cnpj\n",
    "print(validate_br_cnpj('16.727.230/0001-97'))\n",
    "print(validate_br_cnpj('16.727.230.0001-98'))\n",
    "print(validate_br_cnpj('16.727.230/0001=97'))\n",
    "print(validate_br_cnpj(\"51 824 753 556\"))\n",
    "print(validate_br_cnpj(\"hello\"))\n",
    "print(validate_br_cnpj(np.nan))\n",
    "print(validate_br_cnpj(\"NULL\"))"
   ]
  },
  {
   "cell_type": "markdown",
   "id": "correct-hobby",
   "metadata": {},
   "source": [
    "### Series"
   ]
  },
  {
   "cell_type": "code",
   "execution_count": 9,
   "id": "worse-command",
   "metadata": {
    "execution": {
     "iopub.execute_input": "2021-11-04T02:09:15.593588Z",
     "iopub.status.busy": "2021-11-04T02:09:15.593157Z",
     "iopub.status.idle": "2021-11-04T02:09:15.597374Z",
     "shell.execute_reply": "2021-11-04T02:09:15.596989Z"
    }
   },
   "outputs": [
    {
     "data": {
      "text/plain": [
       "0     True\n",
       "1    False\n",
       "2    False\n",
       "3     True\n",
       "4    False\n",
       "5    False\n",
       "6    False\n",
       "Name: cnpj, dtype: bool"
      ]
     },
     "execution_count": 1,
     "metadata": {},
     "output_type": "execute_result"
    }
   ],
   "source": [
    "validate_br_cnpj(df[\"cnpj\"])"
   ]
  },
  {
   "cell_type": "markdown",
   "id": "functional-graduate",
   "metadata": {},
   "source": [
    "### DataFrame + Specify Column"
   ]
  },
  {
   "cell_type": "code",
   "execution_count": 10,
   "id": "institutional-surrey",
   "metadata": {
    "execution": {
     "iopub.execute_input": "2021-11-04T02:09:15.601484Z",
     "iopub.status.busy": "2021-11-04T02:09:15.601058Z",
     "iopub.status.idle": "2021-11-04T02:09:15.604850Z",
     "shell.execute_reply": "2021-11-04T02:09:15.605207Z"
    }
   },
   "outputs": [
    {
     "data": {
      "text/plain": [
       "0     True\n",
       "1    False\n",
       "2    False\n",
       "3     True\n",
       "4    False\n",
       "5    False\n",
       "6    False\n",
       "Name: cnpj, dtype: bool"
      ]
     },
     "execution_count": 1,
     "metadata": {},
     "output_type": "execute_result"
    }
   ],
   "source": [
    "validate_br_cnpj(df, column=\"cnpj\")"
   ]
  },
  {
   "cell_type": "markdown",
   "id": "computational-dependence",
   "metadata": {},
   "source": [
    "### Only DataFrame"
   ]
  },
  {
   "cell_type": "code",
   "execution_count": 11,
   "id": "virgin-judges",
   "metadata": {
    "execution": {
     "iopub.execute_input": "2021-11-04T02:09:15.613320Z",
     "iopub.status.busy": "2021-11-04T02:09:15.607891Z",
     "iopub.status.idle": "2021-11-04T02:09:15.617203Z",
     "shell.execute_reply": "2021-11-04T02:09:15.616812Z"
    }
   },
   "outputs": [
    {
     "data": {
      "text/html": [
       "<div>\n",
       "<style scoped>\n",
       "    .dataframe tbody tr th:only-of-type {\n",
       "        vertical-align: middle;\n",
       "    }\n",
       "\n",
       "    .dataframe tbody tr th {\n",
       "        vertical-align: top;\n",
       "    }\n",
       "\n",
       "    .dataframe thead th {\n",
       "        text-align: right;\n",
       "    }\n",
       "</style>\n",
       "<table border=\"1\" class=\"dataframe\">\n",
       "  <thead>\n",
       "    <tr style=\"text-align: right;\">\n",
       "      <th></th>\n",
       "      <th>cnpj</th>\n",
       "      <th>address</th>\n",
       "    </tr>\n",
       "  </thead>\n",
       "  <tbody>\n",
       "    <tr>\n",
       "      <th>0</th>\n",
       "      <td>True</td>\n",
       "      <td>False</td>\n",
       "    </tr>\n",
       "    <tr>\n",
       "      <th>1</th>\n",
       "      <td>False</td>\n",
       "      <td>False</td>\n",
       "    </tr>\n",
       "    <tr>\n",
       "      <th>2</th>\n",
       "      <td>False</td>\n",
       "      <td>False</td>\n",
       "    </tr>\n",
       "    <tr>\n",
       "      <th>3</th>\n",
       "      <td>True</td>\n",
       "      <td>False</td>\n",
       "    </tr>\n",
       "    <tr>\n",
       "      <th>4</th>\n",
       "      <td>False</td>\n",
       "      <td>False</td>\n",
       "    </tr>\n",
       "    <tr>\n",
       "      <th>5</th>\n",
       "      <td>False</td>\n",
       "      <td>False</td>\n",
       "    </tr>\n",
       "    <tr>\n",
       "      <th>6</th>\n",
       "      <td>False</td>\n",
       "      <td>False</td>\n",
       "    </tr>\n",
       "  </tbody>\n",
       "</table>\n",
       "</div>"
      ],
      "text/plain": [
       "    cnpj  address\n",
       "0   True    False\n",
       "1  False    False\n",
       "2  False    False\n",
       "3   True    False\n",
       "4  False    False\n",
       "5  False    False\n",
       "6  False    False"
      ]
     },
     "execution_count": 1,
     "metadata": {},
     "output_type": "execute_result"
    }
   ],
   "source": [
    "validate_br_cnpj(df)"
   ]
  },
  {
   "cell_type": "code",
   "execution_count": null,
   "id": "comparable-nickel",
   "metadata": {},
   "outputs": [],
   "source": []
  }
 ],
 "metadata": {
  "kernelspec": {
   "display_name": "Python 3",
   "language": "python",
   "name": "python3"
  },
  "language_info": {
   "codemirror_mode": {
    "name": "ipython",
    "version": 3
   },
   "file_extension": ".py",
   "mimetype": "text/x-python",
   "name": "python",
   "nbconvert_exporter": "python",
   "pygments_lexer": "ipython3",
   "version": "3.8.10"
  }
 },
 "nbformat": 4,
 "nbformat_minor": 5
}
