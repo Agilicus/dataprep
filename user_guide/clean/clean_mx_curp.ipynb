{
 "cells": [
  {
   "cell_type": "raw",
   "id": "driving-childhood",
   "metadata": {},
   "source": [
    ".. _curp_userguide:\n",
    "\n",
    "Mexican Personal Identifiers\n",
    "============================"
   ]
  },
  {
   "cell_type": "raw",
   "id": "actual-deadline",
   "metadata": {},
   "source": [
    "Introduction\n",
    "------------\n",
    "\n",
    "The function :func:`clean_mx_curp() <dataprep.clean.clean_mx_curp.clean_mx_curp>` cleans a column containing Mexican personal identifier (CURP) strings, and standardizes them in a given format. The function :func:`validate_mx_curp() <dataprep.clean.clean_mx_curp.validate_mx_curp>` validates either a single CURP strings, a column of CURP strings or a DataFrame of CURP strings, returning `True` if the value is valid, and `False` otherwise."
   ]
  },
  {
   "cell_type": "markdown",
   "id": "gothic-thirty",
   "metadata": {},
   "source": [
    "CURP strings can be converted to the following formats via the `output_format` parameter:\n",
    "\n",
    "* `compact`: only number strings without any seperators or whitespace, like \"BOXW310820HNERXN09\"\n",
    "* `standard`: CURP strings with proper whitespace in the proper places. Note that in the case of CURP, the compact format is the same as the standard one.\n",
    "* `birthdate`: split the date parts from the number and return the birth date, like \"1875-03-16\".\n",
    "* `gender`: get the person's birth gender ('M' or 'F').\n",
    "\n",
    "Invalid parsing is handled with the `errors` parameter:\n",
    "\n",
    "* `coerce` (default): invalid parsing will be set to NaN\n",
    "* `ignore`: invalid parsing will return the input\n",
    "* `raise`: invalid parsing will raise an exception\n",
    "\n",
    "The following sections demonstrate the functionality of `clean_mx_curp()` and `validate_mx_curp()`. "
   ]
  },
  {
   "cell_type": "markdown",
   "id": "grateful-resistance",
   "metadata": {},
   "source": [
    "### An example dataset containing CURP strings"
   ]
  },
  {
   "cell_type": "code",
   "execution_count": 1,
   "id": "extra-value",
   "metadata": {
    "execution": {
     "iopub.execute_input": "2021-11-02T21:31:13.782608Z",
     "iopub.status.busy": "2021-11-02T21:31:13.781765Z",
     "iopub.status.idle": "2021-11-02T21:31:13.972148Z",
     "shell.execute_reply": "2021-11-02T21:31:13.972563Z"
    }
   },
   "outputs": [
    {
     "data": {
      "text/html": [
       "<div>\n",
       "<style scoped>\n",
       "    .dataframe tbody tr th:only-of-type {\n",
       "        vertical-align: middle;\n",
       "    }\n",
       "\n",
       "    .dataframe tbody tr th {\n",
       "        vertical-align: top;\n",
       "    }\n",
       "\n",
       "    .dataframe thead th {\n",
       "        text-align: right;\n",
       "    }\n",
       "</style>\n",
       "<table border=\"1\" class=\"dataframe\">\n",
       "  <thead>\n",
       "    <tr style=\"text-align: right;\">\n",
       "      <th></th>\n",
       "      <th>curp</th>\n",
       "      <th>address</th>\n",
       "    </tr>\n",
       "  </thead>\n",
       "  <tbody>\n",
       "    <tr>\n",
       "      <th>0</th>\n",
       "      <td>BOXW310820HNERXN09</td>\n",
       "      <td>123 Pine Ave.</td>\n",
       "    </tr>\n",
       "    <tr>\n",
       "      <th>1</th>\n",
       "      <td>BOXW310820HNERXN08</td>\n",
       "      <td>main st</td>\n",
       "    </tr>\n",
       "    <tr>\n",
       "      <th>2</th>\n",
       "      <td>7542011030</td>\n",
       "      <td>1234 west main heights 57033</td>\n",
       "    </tr>\n",
       "    <tr>\n",
       "      <th>3</th>\n",
       "      <td>7552A10004</td>\n",
       "      <td>apt 1 789 s maple rd manhattan</td>\n",
       "    </tr>\n",
       "    <tr>\n",
       "      <th>4</th>\n",
       "      <td>8019010008</td>\n",
       "      <td>robie house, 789 north main street</td>\n",
       "    </tr>\n",
       "    <tr>\n",
       "      <th>5</th>\n",
       "      <td>hello</td>\n",
       "      <td>1111 S Figueroa St, Los Angeles, CA 90015</td>\n",
       "    </tr>\n",
       "    <tr>\n",
       "      <th>6</th>\n",
       "      <td>NaN</td>\n",
       "      <td>(staples center) 1111 S Figueroa St, Los Angeles</td>\n",
       "    </tr>\n",
       "    <tr>\n",
       "      <th>7</th>\n",
       "      <td>NULL</td>\n",
       "      <td>hello</td>\n",
       "    </tr>\n",
       "  </tbody>\n",
       "</table>\n",
       "</div>"
      ],
      "text/plain": [
       "                 curp                                           address\n",
       "0  BOXW310820HNERXN09                                     123 Pine Ave.\n",
       "1  BOXW310820HNERXN08                                           main st\n",
       "2          7542011030                      1234 west main heights 57033\n",
       "3          7552A10004                    apt 1 789 s maple rd manhattan\n",
       "4          8019010008                robie house, 789 north main street\n",
       "5               hello         1111 S Figueroa St, Los Angeles, CA 90015\n",
       "6                 NaN  (staples center) 1111 S Figueroa St, Los Angeles\n",
       "7                NULL                                             hello"
      ]
     },
     "execution_count": 1,
     "metadata": {},
     "output_type": "execute_result"
    }
   ],
   "source": [
    "import pandas as pd\n",
    "import numpy as np\n",
    "df = pd.DataFrame(\n",
    "    {\n",
    "        \"curp\": [\n",
    "            'BOXW310820HNERXN09',\n",
    "            'BOXW310820HNERXN08',\n",
    "            '7542011030',\n",
    "            '7552A10004',\n",
    "            '8019010008',\n",
    "            \"hello\",\n",
    "            np.nan,\n",
    "            \"NULL\",\n",
    "        ], \n",
    "        \"address\": [\n",
    "            \"123 Pine Ave.\",\n",
    "            \"main st\",\n",
    "            \"1234 west main heights 57033\",\n",
    "            \"apt 1 789 s maple rd manhattan\",\n",
    "            \"robie house, 789 north main street\",\n",
    "            \"1111 S Figueroa St, Los Angeles, CA 90015\",\n",
    "            \"(staples center) 1111 S Figueroa St, Los Angeles\",\n",
    "            \"hello\",\n",
    "        ]\n",
    "    }\n",
    ")\n",
    "df"
   ]
  },
  {
   "cell_type": "markdown",
   "id": "marked-width",
   "metadata": {},
   "source": [
    "## 1. Default `clean_mx_curp`\n",
    "\n",
    "By default, `clean_mx_curp` will clean curp strings and output them in the standard format with proper separators."
   ]
  },
  {
   "cell_type": "code",
   "execution_count": 2,
   "id": "trying-wonder",
   "metadata": {
    "execution": {
     "iopub.execute_input": "2021-11-02T21:31:13.976021Z",
     "iopub.status.busy": "2021-11-02T21:31:13.975251Z",
     "iopub.status.idle": "2021-11-02T21:31:14.442109Z",
     "shell.execute_reply": "2021-11-02T21:31:14.441745Z"
    }
   },
   "outputs": [
    {
     "data": {
      "text/html": [
       "<div>\n",
       "<style scoped>\n",
       "    .dataframe tbody tr th:only-of-type {\n",
       "        vertical-align: middle;\n",
       "    }\n",
       "\n",
       "    .dataframe tbody tr th {\n",
       "        vertical-align: top;\n",
       "    }\n",
       "\n",
       "    .dataframe thead th {\n",
       "        text-align: right;\n",
       "    }\n",
       "</style>\n",
       "<table border=\"1\" class=\"dataframe\">\n",
       "  <thead>\n",
       "    <tr style=\"text-align: right;\">\n",
       "      <th></th>\n",
       "      <th>curp</th>\n",
       "      <th>address</th>\n",
       "      <th>curp_clean</th>\n",
       "    </tr>\n",
       "  </thead>\n",
       "  <tbody>\n",
       "    <tr>\n",
       "      <th>0</th>\n",
       "      <td>BOXW310820HNERXN09</td>\n",
       "      <td>123 Pine Ave.</td>\n",
       "      <td>BOXW310820HNERXN09</td>\n",
       "    </tr>\n",
       "    <tr>\n",
       "      <th>1</th>\n",
       "      <td>BOXW310820HNERXN08</td>\n",
       "      <td>main st</td>\n",
       "      <td>NaN</td>\n",
       "    </tr>\n",
       "    <tr>\n",
       "      <th>2</th>\n",
       "      <td>7542011030</td>\n",
       "      <td>1234 west main heights 57033</td>\n",
       "      <td>NaN</td>\n",
       "    </tr>\n",
       "    <tr>\n",
       "      <th>3</th>\n",
       "      <td>7552A10004</td>\n",
       "      <td>apt 1 789 s maple rd manhattan</td>\n",
       "      <td>NaN</td>\n",
       "    </tr>\n",
       "    <tr>\n",
       "      <th>4</th>\n",
       "      <td>8019010008</td>\n",
       "      <td>robie house, 789 north main street</td>\n",
       "      <td>NaN</td>\n",
       "    </tr>\n",
       "    <tr>\n",
       "      <th>5</th>\n",
       "      <td>hello</td>\n",
       "      <td>1111 S Figueroa St, Los Angeles, CA 90015</td>\n",
       "      <td>NaN</td>\n",
       "    </tr>\n",
       "    <tr>\n",
       "      <th>6</th>\n",
       "      <td>NaN</td>\n",
       "      <td>(staples center) 1111 S Figueroa St, Los Angeles</td>\n",
       "      <td>NaN</td>\n",
       "    </tr>\n",
       "    <tr>\n",
       "      <th>7</th>\n",
       "      <td>NULL</td>\n",
       "      <td>hello</td>\n",
       "      <td>NaN</td>\n",
       "    </tr>\n",
       "  </tbody>\n",
       "</table>\n",
       "</div>"
      ],
      "text/plain": [
       "                 curp                                           address  \\\n",
       "0  BOXW310820HNERXN09                                     123 Pine Ave.   \n",
       "1  BOXW310820HNERXN08                                           main st   \n",
       "2          7542011030                      1234 west main heights 57033   \n",
       "3          7552A10004                    apt 1 789 s maple rd manhattan   \n",
       "4          8019010008                robie house, 789 north main street   \n",
       "5               hello         1111 S Figueroa St, Los Angeles, CA 90015   \n",
       "6                 NaN  (staples center) 1111 S Figueroa St, Los Angeles   \n",
       "7                NULL                                             hello   \n",
       "\n",
       "           curp_clean  \n",
       "0  BOXW310820HNERXN09  \n",
       "1                 NaN  \n",
       "2                 NaN  \n",
       "3                 NaN  \n",
       "4                 NaN  \n",
       "5                 NaN  \n",
       "6                 NaN  \n",
       "7                 NaN  "
      ]
     },
     "execution_count": 1,
     "metadata": {},
     "output_type": "execute_result"
    }
   ],
   "source": [
    "from dataprep.clean import clean_mx_curp\n",
    "clean_mx_curp(df, column = \"curp\")"
   ]
  },
  {
   "cell_type": "markdown",
   "id": "opponent-shooting",
   "metadata": {},
   "source": [
    "## 2. Output formats"
   ]
  },
  {
   "cell_type": "markdown",
   "id": "respected-democracy",
   "metadata": {},
   "source": [
    "This section demonstrates the output parameter."
   ]
  },
  {
   "cell_type": "markdown",
   "id": "olive-fifty",
   "metadata": {},
   "source": [
    "### `standard` (default)"
   ]
  },
  {
   "cell_type": "code",
   "execution_count": 3,
   "id": "spare-configuration",
   "metadata": {
    "execution": {
     "iopub.execute_input": "2021-11-02T21:31:14.458219Z",
     "iopub.status.busy": "2021-11-02T21:31:14.457823Z",
     "iopub.status.idle": "2021-11-02T21:31:14.468907Z",
     "shell.execute_reply": "2021-11-02T21:31:14.468514Z"
    }
   },
   "outputs": [
    {
     "data": {
      "text/html": [
       "<div>\n",
       "<style scoped>\n",
       "    .dataframe tbody tr th:only-of-type {\n",
       "        vertical-align: middle;\n",
       "    }\n",
       "\n",
       "    .dataframe tbody tr th {\n",
       "        vertical-align: top;\n",
       "    }\n",
       "\n",
       "    .dataframe thead th {\n",
       "        text-align: right;\n",
       "    }\n",
       "</style>\n",
       "<table border=\"1\" class=\"dataframe\">\n",
       "  <thead>\n",
       "    <tr style=\"text-align: right;\">\n",
       "      <th></th>\n",
       "      <th>curp</th>\n",
       "      <th>address</th>\n",
       "      <th>curp_clean</th>\n",
       "    </tr>\n",
       "  </thead>\n",
       "  <tbody>\n",
       "    <tr>\n",
       "      <th>0</th>\n",
       "      <td>BOXW310820HNERXN09</td>\n",
       "      <td>123 Pine Ave.</td>\n",
       "      <td>BOXW310820HNERXN09</td>\n",
       "    </tr>\n",
       "    <tr>\n",
       "      <th>1</th>\n",
       "      <td>BOXW310820HNERXN08</td>\n",
       "      <td>main st</td>\n",
       "      <td>NaN</td>\n",
       "    </tr>\n",
       "    <tr>\n",
       "      <th>2</th>\n",
       "      <td>7542011030</td>\n",
       "      <td>1234 west main heights 57033</td>\n",
       "      <td>NaN</td>\n",
       "    </tr>\n",
       "    <tr>\n",
       "      <th>3</th>\n",
       "      <td>7552A10004</td>\n",
       "      <td>apt 1 789 s maple rd manhattan</td>\n",
       "      <td>NaN</td>\n",
       "    </tr>\n",
       "    <tr>\n",
       "      <th>4</th>\n",
       "      <td>8019010008</td>\n",
       "      <td>robie house, 789 north main street</td>\n",
       "      <td>NaN</td>\n",
       "    </tr>\n",
       "    <tr>\n",
       "      <th>5</th>\n",
       "      <td>hello</td>\n",
       "      <td>1111 S Figueroa St, Los Angeles, CA 90015</td>\n",
       "      <td>NaN</td>\n",
       "    </tr>\n",
       "    <tr>\n",
       "      <th>6</th>\n",
       "      <td>NaN</td>\n",
       "      <td>(staples center) 1111 S Figueroa St, Los Angeles</td>\n",
       "      <td>NaN</td>\n",
       "    </tr>\n",
       "    <tr>\n",
       "      <th>7</th>\n",
       "      <td>NULL</td>\n",
       "      <td>hello</td>\n",
       "      <td>NaN</td>\n",
       "    </tr>\n",
       "  </tbody>\n",
       "</table>\n",
       "</div>"
      ],
      "text/plain": [
       "                 curp                                           address  \\\n",
       "0  BOXW310820HNERXN09                                     123 Pine Ave.   \n",
       "1  BOXW310820HNERXN08                                           main st   \n",
       "2          7542011030                      1234 west main heights 57033   \n",
       "3          7552A10004                    apt 1 789 s maple rd manhattan   \n",
       "4          8019010008                robie house, 789 north main street   \n",
       "5               hello         1111 S Figueroa St, Los Angeles, CA 90015   \n",
       "6                 NaN  (staples center) 1111 S Figueroa St, Los Angeles   \n",
       "7                NULL                                             hello   \n",
       "\n",
       "           curp_clean  \n",
       "0  BOXW310820HNERXN09  \n",
       "1                 NaN  \n",
       "2                 NaN  \n",
       "3                 NaN  \n",
       "4                 NaN  \n",
       "5                 NaN  \n",
       "6                 NaN  \n",
       "7                 NaN  "
      ]
     },
     "execution_count": 1,
     "metadata": {},
     "output_type": "execute_result"
    }
   ],
   "source": [
    "clean_mx_curp(df, column = \"curp\", output_format=\"standard\")"
   ]
  },
  {
   "cell_type": "markdown",
   "id": "norwegian-research",
   "metadata": {},
   "source": [
    "### `compact`"
   ]
  },
  {
   "cell_type": "code",
   "execution_count": 4,
   "id": "annoying-folder",
   "metadata": {
    "execution": {
     "iopub.execute_input": "2021-11-02T21:31:14.488155Z",
     "iopub.status.busy": "2021-11-02T21:31:14.484946Z",
     "iopub.status.idle": "2021-11-02T21:31:14.495887Z",
     "shell.execute_reply": "2021-11-02T21:31:14.495511Z"
    }
   },
   "outputs": [
    {
     "data": {
      "text/html": [
       "<div>\n",
       "<style scoped>\n",
       "    .dataframe tbody tr th:only-of-type {\n",
       "        vertical-align: middle;\n",
       "    }\n",
       "\n",
       "    .dataframe tbody tr th {\n",
       "        vertical-align: top;\n",
       "    }\n",
       "\n",
       "    .dataframe thead th {\n",
       "        text-align: right;\n",
       "    }\n",
       "</style>\n",
       "<table border=\"1\" class=\"dataframe\">\n",
       "  <thead>\n",
       "    <tr style=\"text-align: right;\">\n",
       "      <th></th>\n",
       "      <th>curp</th>\n",
       "      <th>address</th>\n",
       "      <th>curp_clean</th>\n",
       "    </tr>\n",
       "  </thead>\n",
       "  <tbody>\n",
       "    <tr>\n",
       "      <th>0</th>\n",
       "      <td>BOXW310820HNERXN09</td>\n",
       "      <td>123 Pine Ave.</td>\n",
       "      <td>BOXW310820HNERXN09</td>\n",
       "    </tr>\n",
       "    <tr>\n",
       "      <th>1</th>\n",
       "      <td>BOXW310820HNERXN08</td>\n",
       "      <td>main st</td>\n",
       "      <td>NaN</td>\n",
       "    </tr>\n",
       "    <tr>\n",
       "      <th>2</th>\n",
       "      <td>7542011030</td>\n",
       "      <td>1234 west main heights 57033</td>\n",
       "      <td>NaN</td>\n",
       "    </tr>\n",
       "    <tr>\n",
       "      <th>3</th>\n",
       "      <td>7552A10004</td>\n",
       "      <td>apt 1 789 s maple rd manhattan</td>\n",
       "      <td>NaN</td>\n",
       "    </tr>\n",
       "    <tr>\n",
       "      <th>4</th>\n",
       "      <td>8019010008</td>\n",
       "      <td>robie house, 789 north main street</td>\n",
       "      <td>NaN</td>\n",
       "    </tr>\n",
       "    <tr>\n",
       "      <th>5</th>\n",
       "      <td>hello</td>\n",
       "      <td>1111 S Figueroa St, Los Angeles, CA 90015</td>\n",
       "      <td>NaN</td>\n",
       "    </tr>\n",
       "    <tr>\n",
       "      <th>6</th>\n",
       "      <td>NaN</td>\n",
       "      <td>(staples center) 1111 S Figueroa St, Los Angeles</td>\n",
       "      <td>NaN</td>\n",
       "    </tr>\n",
       "    <tr>\n",
       "      <th>7</th>\n",
       "      <td>NULL</td>\n",
       "      <td>hello</td>\n",
       "      <td>NaN</td>\n",
       "    </tr>\n",
       "  </tbody>\n",
       "</table>\n",
       "</div>"
      ],
      "text/plain": [
       "                 curp                                           address  \\\n",
       "0  BOXW310820HNERXN09                                     123 Pine Ave.   \n",
       "1  BOXW310820HNERXN08                                           main st   \n",
       "2          7542011030                      1234 west main heights 57033   \n",
       "3          7552A10004                    apt 1 789 s maple rd manhattan   \n",
       "4          8019010008                robie house, 789 north main street   \n",
       "5               hello         1111 S Figueroa St, Los Angeles, CA 90015   \n",
       "6                 NaN  (staples center) 1111 S Figueroa St, Los Angeles   \n",
       "7                NULL                                             hello   \n",
       "\n",
       "           curp_clean  \n",
       "0  BOXW310820HNERXN09  \n",
       "1                 NaN  \n",
       "2                 NaN  \n",
       "3                 NaN  \n",
       "4                 NaN  \n",
       "5                 NaN  \n",
       "6                 NaN  \n",
       "7                 NaN  "
      ]
     },
     "execution_count": 1,
     "metadata": {},
     "output_type": "execute_result"
    }
   ],
   "source": [
    "clean_mx_curp(df, column = \"curp\", output_format=\"compact\")"
   ]
  },
  {
   "cell_type": "markdown",
   "id": "antique-timer",
   "metadata": {},
   "source": [
    "### `birthdate`"
   ]
  },
  {
   "cell_type": "code",
   "execution_count": 5,
   "id": "modular-perception",
   "metadata": {
    "execution": {
     "iopub.execute_input": "2021-11-02T21:31:14.511289Z",
     "iopub.status.busy": "2021-11-02T21:31:14.510850Z",
     "iopub.status.idle": "2021-11-02T21:31:14.521825Z",
     "shell.execute_reply": "2021-11-02T21:31:14.522187Z"
    }
   },
   "outputs": [
    {
     "data": {
      "text/html": [
       "<div>\n",
       "<style scoped>\n",
       "    .dataframe tbody tr th:only-of-type {\n",
       "        vertical-align: middle;\n",
       "    }\n",
       "\n",
       "    .dataframe tbody tr th {\n",
       "        vertical-align: top;\n",
       "    }\n",
       "\n",
       "    .dataframe thead th {\n",
       "        text-align: right;\n",
       "    }\n",
       "</style>\n",
       "<table border=\"1\" class=\"dataframe\">\n",
       "  <thead>\n",
       "    <tr style=\"text-align: right;\">\n",
       "      <th></th>\n",
       "      <th>curp</th>\n",
       "      <th>address</th>\n",
       "      <th>curp_clean</th>\n",
       "    </tr>\n",
       "  </thead>\n",
       "  <tbody>\n",
       "    <tr>\n",
       "      <th>0</th>\n",
       "      <td>BOXW310820HNERXN09</td>\n",
       "      <td>123 Pine Ave.</td>\n",
       "      <td>1931-08-20</td>\n",
       "    </tr>\n",
       "    <tr>\n",
       "      <th>1</th>\n",
       "      <td>BOXW310820HNERXN08</td>\n",
       "      <td>main st</td>\n",
       "      <td>NaN</td>\n",
       "    </tr>\n",
       "    <tr>\n",
       "      <th>2</th>\n",
       "      <td>7542011030</td>\n",
       "      <td>1234 west main heights 57033</td>\n",
       "      <td>NaN</td>\n",
       "    </tr>\n",
       "    <tr>\n",
       "      <th>3</th>\n",
       "      <td>7552A10004</td>\n",
       "      <td>apt 1 789 s maple rd manhattan</td>\n",
       "      <td>NaN</td>\n",
       "    </tr>\n",
       "    <tr>\n",
       "      <th>4</th>\n",
       "      <td>8019010008</td>\n",
       "      <td>robie house, 789 north main street</td>\n",
       "      <td>NaN</td>\n",
       "    </tr>\n",
       "    <tr>\n",
       "      <th>5</th>\n",
       "      <td>hello</td>\n",
       "      <td>1111 S Figueroa St, Los Angeles, CA 90015</td>\n",
       "      <td>NaN</td>\n",
       "    </tr>\n",
       "    <tr>\n",
       "      <th>6</th>\n",
       "      <td>NaN</td>\n",
       "      <td>(staples center) 1111 S Figueroa St, Los Angeles</td>\n",
       "      <td>NaN</td>\n",
       "    </tr>\n",
       "    <tr>\n",
       "      <th>7</th>\n",
       "      <td>NULL</td>\n",
       "      <td>hello</td>\n",
       "      <td>NaN</td>\n",
       "    </tr>\n",
       "  </tbody>\n",
       "</table>\n",
       "</div>"
      ],
      "text/plain": [
       "                 curp                                           address  \\\n",
       "0  BOXW310820HNERXN09                                     123 Pine Ave.   \n",
       "1  BOXW310820HNERXN08                                           main st   \n",
       "2          7542011030                      1234 west main heights 57033   \n",
       "3          7552A10004                    apt 1 789 s maple rd manhattan   \n",
       "4          8019010008                robie house, 789 north main street   \n",
       "5               hello         1111 S Figueroa St, Los Angeles, CA 90015   \n",
       "6                 NaN  (staples center) 1111 S Figueroa St, Los Angeles   \n",
       "7                NULL                                             hello   \n",
       "\n",
       "   curp_clean  \n",
       "0  1931-08-20  \n",
       "1         NaN  \n",
       "2         NaN  \n",
       "3         NaN  \n",
       "4         NaN  \n",
       "5         NaN  \n",
       "6         NaN  \n",
       "7         NaN  "
      ]
     },
     "execution_count": 1,
     "metadata": {},
     "output_type": "execute_result"
    }
   ],
   "source": [
    "clean_mx_curp(df, column = \"curp\", output_format=\"birthdate\")"
   ]
  },
  {
   "cell_type": "markdown",
   "id": "egyptian-pepper",
   "metadata": {},
   "source": [
    "### `gender`"
   ]
  },
  {
   "cell_type": "code",
   "execution_count": 6,
   "id": "norwegian-calculation",
   "metadata": {
    "execution": {
     "iopub.execute_input": "2021-11-02T21:31:14.540245Z",
     "iopub.status.busy": "2021-11-02T21:31:14.539786Z",
     "iopub.status.idle": "2021-11-02T21:31:14.546183Z",
     "shell.execute_reply": "2021-11-02T21:31:14.545716Z"
    }
   },
   "outputs": [
    {
     "data": {
      "text/html": [
       "<div>\n",
       "<style scoped>\n",
       "    .dataframe tbody tr th:only-of-type {\n",
       "        vertical-align: middle;\n",
       "    }\n",
       "\n",
       "    .dataframe tbody tr th {\n",
       "        vertical-align: top;\n",
       "    }\n",
       "\n",
       "    .dataframe thead th {\n",
       "        text-align: right;\n",
       "    }\n",
       "</style>\n",
       "<table border=\"1\" class=\"dataframe\">\n",
       "  <thead>\n",
       "    <tr style=\"text-align: right;\">\n",
       "      <th></th>\n",
       "      <th>curp</th>\n",
       "      <th>address</th>\n",
       "      <th>curp_clean</th>\n",
       "    </tr>\n",
       "  </thead>\n",
       "  <tbody>\n",
       "    <tr>\n",
       "      <th>0</th>\n",
       "      <td>BOXW310820HNERXN09</td>\n",
       "      <td>123 Pine Ave.</td>\n",
       "      <td>M</td>\n",
       "    </tr>\n",
       "    <tr>\n",
       "      <th>1</th>\n",
       "      <td>BOXW310820HNERXN08</td>\n",
       "      <td>main st</td>\n",
       "      <td>NaN</td>\n",
       "    </tr>\n",
       "    <tr>\n",
       "      <th>2</th>\n",
       "      <td>7542011030</td>\n",
       "      <td>1234 west main heights 57033</td>\n",
       "      <td>NaN</td>\n",
       "    </tr>\n",
       "    <tr>\n",
       "      <th>3</th>\n",
       "      <td>7552A10004</td>\n",
       "      <td>apt 1 789 s maple rd manhattan</td>\n",
       "      <td>NaN</td>\n",
       "    </tr>\n",
       "    <tr>\n",
       "      <th>4</th>\n",
       "      <td>8019010008</td>\n",
       "      <td>robie house, 789 north main street</td>\n",
       "      <td>NaN</td>\n",
       "    </tr>\n",
       "    <tr>\n",
       "      <th>5</th>\n",
       "      <td>hello</td>\n",
       "      <td>1111 S Figueroa St, Los Angeles, CA 90015</td>\n",
       "      <td>NaN</td>\n",
       "    </tr>\n",
       "    <tr>\n",
       "      <th>6</th>\n",
       "      <td>NaN</td>\n",
       "      <td>(staples center) 1111 S Figueroa St, Los Angeles</td>\n",
       "      <td>NaN</td>\n",
       "    </tr>\n",
       "    <tr>\n",
       "      <th>7</th>\n",
       "      <td>NULL</td>\n",
       "      <td>hello</td>\n",
       "      <td>NaN</td>\n",
       "    </tr>\n",
       "  </tbody>\n",
       "</table>\n",
       "</div>"
      ],
      "text/plain": [
       "                 curp                                           address  \\\n",
       "0  BOXW310820HNERXN09                                     123 Pine Ave.   \n",
       "1  BOXW310820HNERXN08                                           main st   \n",
       "2          7542011030                      1234 west main heights 57033   \n",
       "3          7552A10004                    apt 1 789 s maple rd manhattan   \n",
       "4          8019010008                robie house, 789 north main street   \n",
       "5               hello         1111 S Figueroa St, Los Angeles, CA 90015   \n",
       "6                 NaN  (staples center) 1111 S Figueroa St, Los Angeles   \n",
       "7                NULL                                             hello   \n",
       "\n",
       "  curp_clean  \n",
       "0          M  \n",
       "1        NaN  \n",
       "2        NaN  \n",
       "3        NaN  \n",
       "4        NaN  \n",
       "5        NaN  \n",
       "6        NaN  \n",
       "7        NaN  "
      ]
     },
     "execution_count": 1,
     "metadata": {},
     "output_type": "execute_result"
    }
   ],
   "source": [
    "clean_mx_curp(df, column = \"curp\", output_format=\"gender\")"
   ]
  },
  {
   "cell_type": "markdown",
   "id": "direct-original",
   "metadata": {},
   "source": [
    "## 3. `inplace` parameter\n",
    "\n",
    "This deletes the given column from the returned DataFrame. \n",
    "A new column containing cleaned CURP strings is added with a title in the format `\"{original title}_clean\"`."
   ]
  },
  {
   "cell_type": "code",
   "execution_count": 7,
   "id": "municipal-answer",
   "metadata": {
    "execution": {
     "iopub.execute_input": "2021-11-02T21:31:14.566828Z",
     "iopub.status.busy": "2021-11-02T21:31:14.566315Z",
     "iopub.status.idle": "2021-11-02T21:31:14.577598Z",
     "shell.execute_reply": "2021-11-02T21:31:14.577197Z"
    }
   },
   "outputs": [
    {
     "data": {
      "text/html": [
       "<div>\n",
       "<style scoped>\n",
       "    .dataframe tbody tr th:only-of-type {\n",
       "        vertical-align: middle;\n",
       "    }\n",
       "\n",
       "    .dataframe tbody tr th {\n",
       "        vertical-align: top;\n",
       "    }\n",
       "\n",
       "    .dataframe thead th {\n",
       "        text-align: right;\n",
       "    }\n",
       "</style>\n",
       "<table border=\"1\" class=\"dataframe\">\n",
       "  <thead>\n",
       "    <tr style=\"text-align: right;\">\n",
       "      <th></th>\n",
       "      <th>curp_clean</th>\n",
       "      <th>address</th>\n",
       "    </tr>\n",
       "  </thead>\n",
       "  <tbody>\n",
       "    <tr>\n",
       "      <th>0</th>\n",
       "      <td>BOXW310820HNERXN09</td>\n",
       "      <td>123 Pine Ave.</td>\n",
       "    </tr>\n",
       "    <tr>\n",
       "      <th>1</th>\n",
       "      <td>NaN</td>\n",
       "      <td>main st</td>\n",
       "    </tr>\n",
       "    <tr>\n",
       "      <th>2</th>\n",
       "      <td>NaN</td>\n",
       "      <td>1234 west main heights 57033</td>\n",
       "    </tr>\n",
       "    <tr>\n",
       "      <th>3</th>\n",
       "      <td>NaN</td>\n",
       "      <td>apt 1 789 s maple rd manhattan</td>\n",
       "    </tr>\n",
       "    <tr>\n",
       "      <th>4</th>\n",
       "      <td>NaN</td>\n",
       "      <td>robie house, 789 north main street</td>\n",
       "    </tr>\n",
       "    <tr>\n",
       "      <th>5</th>\n",
       "      <td>NaN</td>\n",
       "      <td>1111 S Figueroa St, Los Angeles, CA 90015</td>\n",
       "    </tr>\n",
       "    <tr>\n",
       "      <th>6</th>\n",
       "      <td>NaN</td>\n",
       "      <td>(staples center) 1111 S Figueroa St, Los Angeles</td>\n",
       "    </tr>\n",
       "    <tr>\n",
       "      <th>7</th>\n",
       "      <td>NaN</td>\n",
       "      <td>hello</td>\n",
       "    </tr>\n",
       "  </tbody>\n",
       "</table>\n",
       "</div>"
      ],
      "text/plain": [
       "           curp_clean                                           address\n",
       "0  BOXW310820HNERXN09                                     123 Pine Ave.\n",
       "1                 NaN                                           main st\n",
       "2                 NaN                      1234 west main heights 57033\n",
       "3                 NaN                    apt 1 789 s maple rd manhattan\n",
       "4                 NaN                robie house, 789 north main street\n",
       "5                 NaN         1111 S Figueroa St, Los Angeles, CA 90015\n",
       "6                 NaN  (staples center) 1111 S Figueroa St, Los Angeles\n",
       "7                 NaN                                             hello"
      ]
     },
     "execution_count": 1,
     "metadata": {},
     "output_type": "execute_result"
    }
   ],
   "source": [
    "clean_mx_curp(df, column=\"curp\", inplace=True)"
   ]
  },
  {
   "cell_type": "markdown",
   "id": "thick-analyst",
   "metadata": {},
   "source": [
    "## 4. `errors` parameter"
   ]
  },
  {
   "cell_type": "markdown",
   "id": "willing-bridges",
   "metadata": {},
   "source": [
    "### `coerce` (default)"
   ]
  },
  {
   "cell_type": "code",
   "execution_count": 8,
   "id": "distant-resistance",
   "metadata": {
    "execution": {
     "iopub.execute_input": "2021-11-02T21:31:14.597103Z",
     "iopub.status.busy": "2021-11-02T21:31:14.596665Z",
     "iopub.status.idle": "2021-11-02T21:31:14.604223Z",
     "shell.execute_reply": "2021-11-02T21:31:14.604590Z"
    }
   },
   "outputs": [
    {
     "data": {
      "text/html": [
       "<div>\n",
       "<style scoped>\n",
       "    .dataframe tbody tr th:only-of-type {\n",
       "        vertical-align: middle;\n",
       "    }\n",
       "\n",
       "    .dataframe tbody tr th {\n",
       "        vertical-align: top;\n",
       "    }\n",
       "\n",
       "    .dataframe thead th {\n",
       "        text-align: right;\n",
       "    }\n",
       "</style>\n",
       "<table border=\"1\" class=\"dataframe\">\n",
       "  <thead>\n",
       "    <tr style=\"text-align: right;\">\n",
       "      <th></th>\n",
       "      <th>curp</th>\n",
       "      <th>address</th>\n",
       "      <th>curp_clean</th>\n",
       "    </tr>\n",
       "  </thead>\n",
       "  <tbody>\n",
       "    <tr>\n",
       "      <th>0</th>\n",
       "      <td>BOXW310820HNERXN09</td>\n",
       "      <td>123 Pine Ave.</td>\n",
       "      <td>BOXW310820HNERXN09</td>\n",
       "    </tr>\n",
       "    <tr>\n",
       "      <th>1</th>\n",
       "      <td>BOXW310820HNERXN08</td>\n",
       "      <td>main st</td>\n",
       "      <td>NaN</td>\n",
       "    </tr>\n",
       "    <tr>\n",
       "      <th>2</th>\n",
       "      <td>7542011030</td>\n",
       "      <td>1234 west main heights 57033</td>\n",
       "      <td>NaN</td>\n",
       "    </tr>\n",
       "    <tr>\n",
       "      <th>3</th>\n",
       "      <td>7552A10004</td>\n",
       "      <td>apt 1 789 s maple rd manhattan</td>\n",
       "      <td>NaN</td>\n",
       "    </tr>\n",
       "    <tr>\n",
       "      <th>4</th>\n",
       "      <td>8019010008</td>\n",
       "      <td>robie house, 789 north main street</td>\n",
       "      <td>NaN</td>\n",
       "    </tr>\n",
       "    <tr>\n",
       "      <th>5</th>\n",
       "      <td>hello</td>\n",
       "      <td>1111 S Figueroa St, Los Angeles, CA 90015</td>\n",
       "      <td>NaN</td>\n",
       "    </tr>\n",
       "    <tr>\n",
       "      <th>6</th>\n",
       "      <td>NaN</td>\n",
       "      <td>(staples center) 1111 S Figueroa St, Los Angeles</td>\n",
       "      <td>NaN</td>\n",
       "    </tr>\n",
       "    <tr>\n",
       "      <th>7</th>\n",
       "      <td>NULL</td>\n",
       "      <td>hello</td>\n",
       "      <td>NaN</td>\n",
       "    </tr>\n",
       "  </tbody>\n",
       "</table>\n",
       "</div>"
      ],
      "text/plain": [
       "                 curp                                           address  \\\n",
       "0  BOXW310820HNERXN09                                     123 Pine Ave.   \n",
       "1  BOXW310820HNERXN08                                           main st   \n",
       "2          7542011030                      1234 west main heights 57033   \n",
       "3          7552A10004                    apt 1 789 s maple rd manhattan   \n",
       "4          8019010008                robie house, 789 north main street   \n",
       "5               hello         1111 S Figueroa St, Los Angeles, CA 90015   \n",
       "6                 NaN  (staples center) 1111 S Figueroa St, Los Angeles   \n",
       "7                NULL                                             hello   \n",
       "\n",
       "           curp_clean  \n",
       "0  BOXW310820HNERXN09  \n",
       "1                 NaN  \n",
       "2                 NaN  \n",
       "3                 NaN  \n",
       "4                 NaN  \n",
       "5                 NaN  \n",
       "6                 NaN  \n",
       "7                 NaN  "
      ]
     },
     "execution_count": 1,
     "metadata": {},
     "output_type": "execute_result"
    }
   ],
   "source": [
    "clean_mx_curp(df, \"curp\", errors=\"coerce\")"
   ]
  },
  {
   "cell_type": "markdown",
   "id": "legitimate-ebony",
   "metadata": {},
   "source": [
    "### `ignore`"
   ]
  },
  {
   "cell_type": "code",
   "execution_count": 9,
   "id": "driving-bradford",
   "metadata": {
    "execution": {
     "iopub.execute_input": "2021-11-02T21:31:14.623642Z",
     "iopub.status.busy": "2021-11-02T21:31:14.623215Z",
     "iopub.status.idle": "2021-11-02T21:31:14.631131Z",
     "shell.execute_reply": "2021-11-02T21:31:14.630740Z"
    }
   },
   "outputs": [
    {
     "data": {
      "text/html": [
       "<div>\n",
       "<style scoped>\n",
       "    .dataframe tbody tr th:only-of-type {\n",
       "        vertical-align: middle;\n",
       "    }\n",
       "\n",
       "    .dataframe tbody tr th {\n",
       "        vertical-align: top;\n",
       "    }\n",
       "\n",
       "    .dataframe thead th {\n",
       "        text-align: right;\n",
       "    }\n",
       "</style>\n",
       "<table border=\"1\" class=\"dataframe\">\n",
       "  <thead>\n",
       "    <tr style=\"text-align: right;\">\n",
       "      <th></th>\n",
       "      <th>curp</th>\n",
       "      <th>address</th>\n",
       "      <th>curp_clean</th>\n",
       "    </tr>\n",
       "  </thead>\n",
       "  <tbody>\n",
       "    <tr>\n",
       "      <th>0</th>\n",
       "      <td>BOXW310820HNERXN09</td>\n",
       "      <td>123 Pine Ave.</td>\n",
       "      <td>BOXW310820HNERXN09</td>\n",
       "    </tr>\n",
       "    <tr>\n",
       "      <th>1</th>\n",
       "      <td>BOXW310820HNERXN08</td>\n",
       "      <td>main st</td>\n",
       "      <td>BOXW310820HNERXN08</td>\n",
       "    </tr>\n",
       "    <tr>\n",
       "      <th>2</th>\n",
       "      <td>7542011030</td>\n",
       "      <td>1234 west main heights 57033</td>\n",
       "      <td>7542011030</td>\n",
       "    </tr>\n",
       "    <tr>\n",
       "      <th>3</th>\n",
       "      <td>7552A10004</td>\n",
       "      <td>apt 1 789 s maple rd manhattan</td>\n",
       "      <td>7552A10004</td>\n",
       "    </tr>\n",
       "    <tr>\n",
       "      <th>4</th>\n",
       "      <td>8019010008</td>\n",
       "      <td>robie house, 789 north main street</td>\n",
       "      <td>8019010008</td>\n",
       "    </tr>\n",
       "    <tr>\n",
       "      <th>5</th>\n",
       "      <td>hello</td>\n",
       "      <td>1111 S Figueroa St, Los Angeles, CA 90015</td>\n",
       "      <td>hello</td>\n",
       "    </tr>\n",
       "    <tr>\n",
       "      <th>6</th>\n",
       "      <td>NaN</td>\n",
       "      <td>(staples center) 1111 S Figueroa St, Los Angeles</td>\n",
       "      <td>NaN</td>\n",
       "    </tr>\n",
       "    <tr>\n",
       "      <th>7</th>\n",
       "      <td>NULL</td>\n",
       "      <td>hello</td>\n",
       "      <td>NaN</td>\n",
       "    </tr>\n",
       "  </tbody>\n",
       "</table>\n",
       "</div>"
      ],
      "text/plain": [
       "                 curp                                           address  \\\n",
       "0  BOXW310820HNERXN09                                     123 Pine Ave.   \n",
       "1  BOXW310820HNERXN08                                           main st   \n",
       "2          7542011030                      1234 west main heights 57033   \n",
       "3          7552A10004                    apt 1 789 s maple rd manhattan   \n",
       "4          8019010008                robie house, 789 north main street   \n",
       "5               hello         1111 S Figueroa St, Los Angeles, CA 90015   \n",
       "6                 NaN  (staples center) 1111 S Figueroa St, Los Angeles   \n",
       "7                NULL                                             hello   \n",
       "\n",
       "           curp_clean  \n",
       "0  BOXW310820HNERXN09  \n",
       "1  BOXW310820HNERXN08  \n",
       "2          7542011030  \n",
       "3          7552A10004  \n",
       "4          8019010008  \n",
       "5               hello  \n",
       "6                 NaN  \n",
       "7                 NaN  "
      ]
     },
     "execution_count": 1,
     "metadata": {},
     "output_type": "execute_result"
    }
   ],
   "source": [
    "clean_mx_curp(df, \"curp\", errors=\"ignore\")"
   ]
  },
  {
   "cell_type": "markdown",
   "id": "sustained-likelihood",
   "metadata": {},
   "source": [
    "## 4. `validate_mx_curp()`"
   ]
  },
  {
   "cell_type": "markdown",
   "id": "laden-devon",
   "metadata": {},
   "source": [
    "`validate_mx_curp()` returns `True` when the input is a valid CURP. Otherwise it returns `False`.\n",
    "\n",
    "The input of `validate_mx_curp()` can be a string, a Pandas DataSeries, a Dask DataSeries, a Pandas DataFrame and a dask DataFrame.\n",
    "\n",
    "When the input is a string, a Pandas DataSeries or a Dask DataSeries, user doesn't need to specify a column name to be validated. \n",
    "\n",
    "When the input is a Pandas DataFrame or a dask DataFrame, user can both specify or not specify a column name to be validated. If user specify the column name, `validate_mx_curp()` only returns the validation result for the specified column. If user doesn't specify the column name, `validate_mx_curp()` returns the validation result for the whole DataFrame."
   ]
  },
  {
   "cell_type": "code",
   "execution_count": 10,
   "id": "equivalent-cambodia",
   "metadata": {
    "execution": {
     "iopub.execute_input": "2021-11-02T21:31:14.635212Z",
     "iopub.status.busy": "2021-11-02T21:31:14.634808Z",
     "iopub.status.idle": "2021-11-02T21:31:14.637796Z",
     "shell.execute_reply": "2021-11-02T21:31:14.638132Z"
    }
   },
   "outputs": [
    {
     "name": "stdout",
     "output_type": "stream",
     "text": [
      "True\n",
      "False\n",
      "False\n",
      "False\n",
      "False\n",
      "False\n",
      "False\n",
      "False\n"
     ]
    }
   ],
   "source": [
    "from dataprep.clean import validate_mx_curp\n",
    "print(validate_mx_curp('BOXW310820HNERXN09'))\n",
    "print(validate_mx_curp('BOXW310820HNERXN08'))\n",
    "print(validate_mx_curp('7542011030'))\n",
    "print(validate_mx_curp('7552A10004'))\n",
    "print(validate_mx_curp('8019010008'))\n",
    "print(validate_mx_curp(\"hello\"))\n",
    "print(validate_mx_curp(np.nan))\n",
    "print(validate_mx_curp(\"NULL\"))"
   ]
  },
  {
   "cell_type": "markdown",
   "id": "latin-toronto",
   "metadata": {},
   "source": [
    "### Series"
   ]
  },
  {
   "cell_type": "code",
   "execution_count": 11,
   "id": "detected-reserve",
   "metadata": {
    "execution": {
     "iopub.execute_input": "2021-11-02T21:31:14.642629Z",
     "iopub.status.busy": "2021-11-02T21:31:14.642192Z",
     "iopub.status.idle": "2021-11-02T21:31:14.644072Z",
     "shell.execute_reply": "2021-11-02T21:31:14.644377Z"
    }
   },
   "outputs": [
    {
     "data": {
      "text/plain": [
       "0     True\n",
       "1    False\n",
       "2    False\n",
       "3    False\n",
       "4    False\n",
       "5    False\n",
       "6    False\n",
       "7    False\n",
       "Name: curp, dtype: bool"
      ]
     },
     "execution_count": 1,
     "metadata": {},
     "output_type": "execute_result"
    }
   ],
   "source": [
    "validate_mx_curp(df[\"curp\"])"
   ]
  },
  {
   "cell_type": "markdown",
   "id": "alleged-answer",
   "metadata": {},
   "source": [
    "### DataFrame + Specify Column"
   ]
  },
  {
   "cell_type": "code",
   "execution_count": 12,
   "id": "signed-wayne",
   "metadata": {
    "execution": {
     "iopub.execute_input": "2021-11-02T21:31:14.648626Z",
     "iopub.status.busy": "2021-11-02T21:31:14.648227Z",
     "iopub.status.idle": "2021-11-02T21:31:14.650056Z",
     "shell.execute_reply": "2021-11-02T21:31:14.650401Z"
    }
   },
   "outputs": [
    {
     "data": {
      "text/plain": [
       "0     True\n",
       "1    False\n",
       "2    False\n",
       "3    False\n",
       "4    False\n",
       "5    False\n",
       "6    False\n",
       "7    False\n",
       "Name: curp, dtype: bool"
      ]
     },
     "execution_count": 1,
     "metadata": {},
     "output_type": "execute_result"
    }
   ],
   "source": [
    "validate_mx_curp(df, column=\"curp\")"
   ]
  },
  {
   "cell_type": "markdown",
   "id": "worst-hormone",
   "metadata": {},
   "source": [
    "### Only DataFrame"
   ]
  },
  {
   "cell_type": "code",
   "execution_count": 13,
   "id": "assumed-works",
   "metadata": {
    "execution": {
     "iopub.execute_input": "2021-11-02T21:31:14.652921Z",
     "iopub.status.busy": "2021-11-02T21:31:14.652543Z",
     "iopub.status.idle": "2021-11-02T21:31:14.659118Z",
     "shell.execute_reply": "2021-11-02T21:31:14.659406Z"
    }
   },
   "outputs": [
    {
     "data": {
      "text/html": [
       "<div>\n",
       "<style scoped>\n",
       "    .dataframe tbody tr th:only-of-type {\n",
       "        vertical-align: middle;\n",
       "    }\n",
       "\n",
       "    .dataframe tbody tr th {\n",
       "        vertical-align: top;\n",
       "    }\n",
       "\n",
       "    .dataframe thead th {\n",
       "        text-align: right;\n",
       "    }\n",
       "</style>\n",
       "<table border=\"1\" class=\"dataframe\">\n",
       "  <thead>\n",
       "    <tr style=\"text-align: right;\">\n",
       "      <th></th>\n",
       "      <th>curp</th>\n",
       "      <th>address</th>\n",
       "    </tr>\n",
       "  </thead>\n",
       "  <tbody>\n",
       "    <tr>\n",
       "      <th>0</th>\n",
       "      <td>True</td>\n",
       "      <td>False</td>\n",
       "    </tr>\n",
       "    <tr>\n",
       "      <th>1</th>\n",
       "      <td>False</td>\n",
       "      <td>False</td>\n",
       "    </tr>\n",
       "    <tr>\n",
       "      <th>2</th>\n",
       "      <td>False</td>\n",
       "      <td>False</td>\n",
       "    </tr>\n",
       "    <tr>\n",
       "      <th>3</th>\n",
       "      <td>False</td>\n",
       "      <td>False</td>\n",
       "    </tr>\n",
       "    <tr>\n",
       "      <th>4</th>\n",
       "      <td>False</td>\n",
       "      <td>False</td>\n",
       "    </tr>\n",
       "    <tr>\n",
       "      <th>5</th>\n",
       "      <td>False</td>\n",
       "      <td>False</td>\n",
       "    </tr>\n",
       "    <tr>\n",
       "      <th>6</th>\n",
       "      <td>False</td>\n",
       "      <td>False</td>\n",
       "    </tr>\n",
       "    <tr>\n",
       "      <th>7</th>\n",
       "      <td>False</td>\n",
       "      <td>False</td>\n",
       "    </tr>\n",
       "  </tbody>\n",
       "</table>\n",
       "</div>"
      ],
      "text/plain": [
       "    curp  address\n",
       "0   True    False\n",
       "1  False    False\n",
       "2  False    False\n",
       "3  False    False\n",
       "4  False    False\n",
       "5  False    False\n",
       "6  False    False\n",
       "7  False    False"
      ]
     },
     "execution_count": 1,
     "metadata": {},
     "output_type": "execute_result"
    }
   ],
   "source": [
    "validate_mx_curp(df)"
   ]
  },
  {
   "cell_type": "code",
   "execution_count": null,
   "id": "dirty-collector",
   "metadata": {},
   "outputs": [],
   "source": []
  }
 ],
 "metadata": {
  "kernelspec": {
   "display_name": "Python 3",
   "language": "python",
   "name": "python3"
  },
  "language_info": {
   "codemirror_mode": {
    "name": "ipython",
    "version": 3
   },
   "file_extension": ".py",
   "mimetype": "text/x-python",
   "name": "python",
   "nbconvert_exporter": "python",
   "pygments_lexer": "ipython3",
   "version": "3.8.10"
  }
 },
 "nbformat": 4,
 "nbformat_minor": 5
}
