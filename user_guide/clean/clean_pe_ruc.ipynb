{
 "cells": [
  {
   "cell_type": "raw",
   "id": "likely-mandate",
   "metadata": {},
   "source": [
    ".. _ruc_userguide:\n",
    "\n",
    "RUC Strings\n",
    "============"
   ]
  },
  {
   "cell_type": "raw",
   "id": "likely-investing",
   "metadata": {},
   "source": [
    "Introduction\n",
    "------------\n",
    "\n",
    "The function :func:`clean_pe_ruc() <dataprep.clean.clean_pe_ruc.clean_pe_ruc>` cleans a column containing Peruvian fiscal number (RUC) strings, and standardizes them in a given format. The function :func:`validate_pe_ruc() <dataprep.clean.clean_pe_ruc.validate_pe_ruc>` validates either a single RUC strings, a column of RUC strings or a DataFrame of RUC strings, returning `True` if the value is valid, and `False` otherwise."
   ]
  },
  {
   "cell_type": "markdown",
   "id": "figured-endorsement",
   "metadata": {},
   "source": [
    "RUC strings can be converted to the following formats via the `output_format` parameter:\n",
    "\n",
    "* `compact`: only number strings without any seperators or whitespace, like \"20512333797\".\n",
    "* `standard`: RUC strings with proper whitespace in the proper places. Note that in the case of RUC, the compact format is the same as the standard one.\n",
    "* `dni`: return the DNI (CUI) part of the number for natural persons. Note if the RUC is not for natural persons, return NaN.\n",
    "\n",
    "Invalid parsing is handled with the `errors` parameter:\n",
    "\n",
    "* `coerce` (default): invalid parsing will be set to NaN\n",
    "* `ignore`: invalid parsing will return the input\n",
    "* `raise`: invalid parsing will raise an exception\n",
    "\n",
    "The following sections demonstrate the functionality of `clean_pe_ruc()` and `validate_pe_ruc()`. "
   ]
  },
  {
   "cell_type": "markdown",
   "id": "interesting-trance",
   "metadata": {},
   "source": [
    "### An example dataset containing RUC strings"
   ]
  },
  {
   "cell_type": "code",
   "execution_count": 1,
   "id": "exclusive-caribbean",
   "metadata": {
    "execution": {
     "iopub.execute_input": "2021-10-26T23:04:46.240149Z",
     "iopub.status.busy": "2021-10-26T23:04:46.239702Z",
     "iopub.status.idle": "2021-10-26T23:04:46.461318Z",
     "shell.execute_reply": "2021-10-26T23:04:46.460858Z"
    }
   },
   "outputs": [
    {
     "data": {
      "text/html": [
       "<div>\n",
       "<style scoped>\n",
       "    .dataframe tbody tr th:only-of-type {\n",
       "        vertical-align: middle;\n",
       "    }\n",
       "\n",
       "    .dataframe tbody tr th {\n",
       "        vertical-align: top;\n",
       "    }\n",
       "\n",
       "    .dataframe thead th {\n",
       "        text-align: right;\n",
       "    }\n",
       "</style>\n",
       "<table border=\"1\" class=\"dataframe\">\n",
       "  <thead>\n",
       "    <tr style=\"text-align: right;\">\n",
       "      <th></th>\n",
       "      <th>ruc</th>\n",
       "      <th>address</th>\n",
       "    </tr>\n",
       "  </thead>\n",
       "  <tbody>\n",
       "    <tr>\n",
       "      <th>0</th>\n",
       "      <td>20512333797</td>\n",
       "      <td>123 Pine Ave.</td>\n",
       "    </tr>\n",
       "    <tr>\n",
       "      <th>1</th>\n",
       "      <td>20512333798</td>\n",
       "      <td>main st</td>\n",
       "    </tr>\n",
       "    <tr>\n",
       "      <th>2</th>\n",
       "      <td>7542011030</td>\n",
       "      <td>1234 west main heights 57033</td>\n",
       "    </tr>\n",
       "    <tr>\n",
       "      <th>3</th>\n",
       "      <td>7552A10004</td>\n",
       "      <td>apt 1 789 s maple rd manhattan</td>\n",
       "    </tr>\n",
       "    <tr>\n",
       "      <th>4</th>\n",
       "      <td>8019010008</td>\n",
       "      <td>robie house, 789 north main street</td>\n",
       "    </tr>\n",
       "    <tr>\n",
       "      <th>5</th>\n",
       "      <td>hello</td>\n",
       "      <td>1111 S Figueroa St, Los Angeles, CA 90015</td>\n",
       "    </tr>\n",
       "    <tr>\n",
       "      <th>6</th>\n",
       "      <td>NaN</td>\n",
       "      <td>(staples center) 1111 S Figueroa St, Los Angeles</td>\n",
       "    </tr>\n",
       "    <tr>\n",
       "      <th>7</th>\n",
       "      <td>NULL</td>\n",
       "      <td>hello</td>\n",
       "    </tr>\n",
       "  </tbody>\n",
       "</table>\n",
       "</div>"
      ],
      "text/plain": [
       "           ruc                                           address\n",
       "0  20512333797                                     123 Pine Ave.\n",
       "1  20512333798                                           main st\n",
       "2   7542011030                      1234 west main heights 57033\n",
       "3   7552A10004                    apt 1 789 s maple rd manhattan\n",
       "4   8019010008                robie house, 789 north main street\n",
       "5        hello         1111 S Figueroa St, Los Angeles, CA 90015\n",
       "6          NaN  (staples center) 1111 S Figueroa St, Los Angeles\n",
       "7         NULL                                             hello"
      ]
     },
     "execution_count": 1,
     "metadata": {},
     "output_type": "execute_result"
    }
   ],
   "source": [
    "import pandas as pd\n",
    "import numpy as np\n",
    "df = pd.DataFrame(\n",
    "    {\n",
    "        \"ruc\": [\n",
    "            \"20512333797\",\n",
    "            \"20512333798\",\n",
    "            '7542011030',\n",
    "            '7552A10004',\n",
    "            '8019010008',\n",
    "            \"hello\",\n",
    "            np.nan,\n",
    "            \"NULL\",\n",
    "        ], \n",
    "        \"address\": [\n",
    "            \"123 Pine Ave.\",\n",
    "            \"main st\",\n",
    "            \"1234 west main heights 57033\",\n",
    "            \"apt 1 789 s maple rd manhattan\",\n",
    "            \"robie house, 789 north main street\",\n",
    "            \"1111 S Figueroa St, Los Angeles, CA 90015\",\n",
    "            \"(staples center) 1111 S Figueroa St, Los Angeles\",\n",
    "            \"hello\",\n",
    "        ]\n",
    "    }\n",
    ")\n",
    "df"
   ]
  },
  {
   "cell_type": "markdown",
   "id": "valued-frank",
   "metadata": {},
   "source": [
    "## 1. Default `clean_pe_ruc`\n",
    "\n",
    "By default, `clean_pe_ruc` will clean ruc strings and output them in the standard format with proper separators."
   ]
  },
  {
   "cell_type": "code",
   "execution_count": 2,
   "id": "noted-siemens",
   "metadata": {
    "execution": {
     "iopub.execute_input": "2021-10-26T23:04:46.464911Z",
     "iopub.status.busy": "2021-10-26T23:04:46.464135Z",
     "iopub.status.idle": "2021-10-26T23:04:46.995197Z",
     "shell.execute_reply": "2021-10-26T23:04:46.995566Z"
    },
    "scrolled": true
   },
   "outputs": [
    {
     "data": {
      "text/html": [
       "<div>\n",
       "<style scoped>\n",
       "    .dataframe tbody tr th:only-of-type {\n",
       "        vertical-align: middle;\n",
       "    }\n",
       "\n",
       "    .dataframe tbody tr th {\n",
       "        vertical-align: top;\n",
       "    }\n",
       "\n",
       "    .dataframe thead th {\n",
       "        text-align: right;\n",
       "    }\n",
       "</style>\n",
       "<table border=\"1\" class=\"dataframe\">\n",
       "  <thead>\n",
       "    <tr style=\"text-align: right;\">\n",
       "      <th></th>\n",
       "      <th>ruc</th>\n",
       "      <th>address</th>\n",
       "      <th>ruc_clean</th>\n",
       "    </tr>\n",
       "  </thead>\n",
       "  <tbody>\n",
       "    <tr>\n",
       "      <th>0</th>\n",
       "      <td>20512333797</td>\n",
       "      <td>123 Pine Ave.</td>\n",
       "      <td>20512333797</td>\n",
       "    </tr>\n",
       "    <tr>\n",
       "      <th>1</th>\n",
       "      <td>20512333798</td>\n",
       "      <td>main st</td>\n",
       "      <td>NaN</td>\n",
       "    </tr>\n",
       "    <tr>\n",
       "      <th>2</th>\n",
       "      <td>7542011030</td>\n",
       "      <td>1234 west main heights 57033</td>\n",
       "      <td>NaN</td>\n",
       "    </tr>\n",
       "    <tr>\n",
       "      <th>3</th>\n",
       "      <td>7552A10004</td>\n",
       "      <td>apt 1 789 s maple rd manhattan</td>\n",
       "      <td>NaN</td>\n",
       "    </tr>\n",
       "    <tr>\n",
       "      <th>4</th>\n",
       "      <td>8019010008</td>\n",
       "      <td>robie house, 789 north main street</td>\n",
       "      <td>NaN</td>\n",
       "    </tr>\n",
       "    <tr>\n",
       "      <th>5</th>\n",
       "      <td>hello</td>\n",
       "      <td>1111 S Figueroa St, Los Angeles, CA 90015</td>\n",
       "      <td>NaN</td>\n",
       "    </tr>\n",
       "    <tr>\n",
       "      <th>6</th>\n",
       "      <td>NaN</td>\n",
       "      <td>(staples center) 1111 S Figueroa St, Los Angeles</td>\n",
       "      <td>NaN</td>\n",
       "    </tr>\n",
       "    <tr>\n",
       "      <th>7</th>\n",
       "      <td>NULL</td>\n",
       "      <td>hello</td>\n",
       "      <td>NaN</td>\n",
       "    </tr>\n",
       "  </tbody>\n",
       "</table>\n",
       "</div>"
      ],
      "text/plain": [
       "           ruc                                           address    ruc_clean\n",
       "0  20512333797                                     123 Pine Ave.  20512333797\n",
       "1  20512333798                                           main st          NaN\n",
       "2   7542011030                      1234 west main heights 57033          NaN\n",
       "3   7552A10004                    apt 1 789 s maple rd manhattan          NaN\n",
       "4   8019010008                robie house, 789 north main street          NaN\n",
       "5        hello         1111 S Figueroa St, Los Angeles, CA 90015          NaN\n",
       "6          NaN  (staples center) 1111 S Figueroa St, Los Angeles          NaN\n",
       "7         NULL                                             hello          NaN"
      ]
     },
     "execution_count": 1,
     "metadata": {},
     "output_type": "execute_result"
    }
   ],
   "source": [
    "from dataprep.clean import clean_pe_ruc\n",
    "clean_pe_ruc(df, column = \"ruc\")"
   ]
  },
  {
   "cell_type": "markdown",
   "id": "supposed-abraham",
   "metadata": {},
   "source": [
    "## 2. Output formats"
   ]
  },
  {
   "cell_type": "markdown",
   "id": "exterior-kelly",
   "metadata": {},
   "source": [
    "This section demonstrates the output parameter."
   ]
  },
  {
   "cell_type": "markdown",
   "id": "specified-guidance",
   "metadata": {},
   "source": [
    "### `standard` (default)"
   ]
  },
  {
   "cell_type": "code",
   "execution_count": 3,
   "id": "academic-viewer",
   "metadata": {
    "execution": {
     "iopub.execute_input": "2021-10-26T23:04:47.015397Z",
     "iopub.status.busy": "2021-10-26T23:04:47.014871Z",
     "iopub.status.idle": "2021-10-26T23:04:47.023588Z",
     "shell.execute_reply": "2021-10-26T23:04:47.023163Z"
    }
   },
   "outputs": [
    {
     "data": {
      "text/html": [
       "<div>\n",
       "<style scoped>\n",
       "    .dataframe tbody tr th:only-of-type {\n",
       "        vertical-align: middle;\n",
       "    }\n",
       "\n",
       "    .dataframe tbody tr th {\n",
       "        vertical-align: top;\n",
       "    }\n",
       "\n",
       "    .dataframe thead th {\n",
       "        text-align: right;\n",
       "    }\n",
       "</style>\n",
       "<table border=\"1\" class=\"dataframe\">\n",
       "  <thead>\n",
       "    <tr style=\"text-align: right;\">\n",
       "      <th></th>\n",
       "      <th>ruc</th>\n",
       "      <th>address</th>\n",
       "      <th>ruc_clean</th>\n",
       "    </tr>\n",
       "  </thead>\n",
       "  <tbody>\n",
       "    <tr>\n",
       "      <th>0</th>\n",
       "      <td>20512333797</td>\n",
       "      <td>123 Pine Ave.</td>\n",
       "      <td>20512333797</td>\n",
       "    </tr>\n",
       "    <tr>\n",
       "      <th>1</th>\n",
       "      <td>20512333798</td>\n",
       "      <td>main st</td>\n",
       "      <td>NaN</td>\n",
       "    </tr>\n",
       "    <tr>\n",
       "      <th>2</th>\n",
       "      <td>7542011030</td>\n",
       "      <td>1234 west main heights 57033</td>\n",
       "      <td>NaN</td>\n",
       "    </tr>\n",
       "    <tr>\n",
       "      <th>3</th>\n",
       "      <td>7552A10004</td>\n",
       "      <td>apt 1 789 s maple rd manhattan</td>\n",
       "      <td>NaN</td>\n",
       "    </tr>\n",
       "    <tr>\n",
       "      <th>4</th>\n",
       "      <td>8019010008</td>\n",
       "      <td>robie house, 789 north main street</td>\n",
       "      <td>NaN</td>\n",
       "    </tr>\n",
       "    <tr>\n",
       "      <th>5</th>\n",
       "      <td>hello</td>\n",
       "      <td>1111 S Figueroa St, Los Angeles, CA 90015</td>\n",
       "      <td>NaN</td>\n",
       "    </tr>\n",
       "    <tr>\n",
       "      <th>6</th>\n",
       "      <td>NaN</td>\n",
       "      <td>(staples center) 1111 S Figueroa St, Los Angeles</td>\n",
       "      <td>NaN</td>\n",
       "    </tr>\n",
       "    <tr>\n",
       "      <th>7</th>\n",
       "      <td>NULL</td>\n",
       "      <td>hello</td>\n",
       "      <td>NaN</td>\n",
       "    </tr>\n",
       "  </tbody>\n",
       "</table>\n",
       "</div>"
      ],
      "text/plain": [
       "           ruc                                           address    ruc_clean\n",
       "0  20512333797                                     123 Pine Ave.  20512333797\n",
       "1  20512333798                                           main st          NaN\n",
       "2   7542011030                      1234 west main heights 57033          NaN\n",
       "3   7552A10004                    apt 1 789 s maple rd manhattan          NaN\n",
       "4   8019010008                robie house, 789 north main street          NaN\n",
       "5        hello         1111 S Figueroa St, Los Angeles, CA 90015          NaN\n",
       "6          NaN  (staples center) 1111 S Figueroa St, Los Angeles          NaN\n",
       "7         NULL                                             hello          NaN"
      ]
     },
     "execution_count": 1,
     "metadata": {},
     "output_type": "execute_result"
    }
   ],
   "source": [
    "clean_pe_ruc(df, column = \"ruc\", output_format=\"standard\")"
   ]
  },
  {
   "cell_type": "markdown",
   "id": "fatty-panel",
   "metadata": {},
   "source": [
    "### `compact`"
   ]
  },
  {
   "cell_type": "code",
   "execution_count": 4,
   "id": "martial-canal",
   "metadata": {
    "execution": {
     "iopub.execute_input": "2021-10-26T23:04:47.043649Z",
     "iopub.status.busy": "2021-10-26T23:04:47.040524Z",
     "iopub.status.idle": "2021-10-26T23:04:47.051928Z",
     "shell.execute_reply": "2021-10-26T23:04:47.051542Z"
    }
   },
   "outputs": [
    {
     "data": {
      "text/html": [
       "<div>\n",
       "<style scoped>\n",
       "    .dataframe tbody tr th:only-of-type {\n",
       "        vertical-align: middle;\n",
       "    }\n",
       "\n",
       "    .dataframe tbody tr th {\n",
       "        vertical-align: top;\n",
       "    }\n",
       "\n",
       "    .dataframe thead th {\n",
       "        text-align: right;\n",
       "    }\n",
       "</style>\n",
       "<table border=\"1\" class=\"dataframe\">\n",
       "  <thead>\n",
       "    <tr style=\"text-align: right;\">\n",
       "      <th></th>\n",
       "      <th>ruc</th>\n",
       "      <th>address</th>\n",
       "      <th>ruc_clean</th>\n",
       "    </tr>\n",
       "  </thead>\n",
       "  <tbody>\n",
       "    <tr>\n",
       "      <th>0</th>\n",
       "      <td>20512333797</td>\n",
       "      <td>123 Pine Ave.</td>\n",
       "      <td>20512333797</td>\n",
       "    </tr>\n",
       "    <tr>\n",
       "      <th>1</th>\n",
       "      <td>20512333798</td>\n",
       "      <td>main st</td>\n",
       "      <td>NaN</td>\n",
       "    </tr>\n",
       "    <tr>\n",
       "      <th>2</th>\n",
       "      <td>7542011030</td>\n",
       "      <td>1234 west main heights 57033</td>\n",
       "      <td>NaN</td>\n",
       "    </tr>\n",
       "    <tr>\n",
       "      <th>3</th>\n",
       "      <td>7552A10004</td>\n",
       "      <td>apt 1 789 s maple rd manhattan</td>\n",
       "      <td>NaN</td>\n",
       "    </tr>\n",
       "    <tr>\n",
       "      <th>4</th>\n",
       "      <td>8019010008</td>\n",
       "      <td>robie house, 789 north main street</td>\n",
       "      <td>NaN</td>\n",
       "    </tr>\n",
       "    <tr>\n",
       "      <th>5</th>\n",
       "      <td>hello</td>\n",
       "      <td>1111 S Figueroa St, Los Angeles, CA 90015</td>\n",
       "      <td>NaN</td>\n",
       "    </tr>\n",
       "    <tr>\n",
       "      <th>6</th>\n",
       "      <td>NaN</td>\n",
       "      <td>(staples center) 1111 S Figueroa St, Los Angeles</td>\n",
       "      <td>NaN</td>\n",
       "    </tr>\n",
       "    <tr>\n",
       "      <th>7</th>\n",
       "      <td>NULL</td>\n",
       "      <td>hello</td>\n",
       "      <td>NaN</td>\n",
       "    </tr>\n",
       "  </tbody>\n",
       "</table>\n",
       "</div>"
      ],
      "text/plain": [
       "           ruc                                           address    ruc_clean\n",
       "0  20512333797                                     123 Pine Ave.  20512333797\n",
       "1  20512333798                                           main st          NaN\n",
       "2   7542011030                      1234 west main heights 57033          NaN\n",
       "3   7552A10004                    apt 1 789 s maple rd manhattan          NaN\n",
       "4   8019010008                robie house, 789 north main street          NaN\n",
       "5        hello         1111 S Figueroa St, Los Angeles, CA 90015          NaN\n",
       "6          NaN  (staples center) 1111 S Figueroa St, Los Angeles          NaN\n",
       "7         NULL                                             hello          NaN"
      ]
     },
     "execution_count": 1,
     "metadata": {},
     "output_type": "execute_result"
    }
   ],
   "source": [
    "clean_pe_ruc(df, column = \"ruc\", output_format=\"compact\")"
   ]
  },
  {
   "cell_type": "markdown",
   "id": "solved-helmet",
   "metadata": {},
   "source": [
    "### `dni`"
   ]
  },
  {
   "cell_type": "code",
   "execution_count": 5,
   "id": "oriented-domestic",
   "metadata": {
    "execution": {
     "iopub.execute_input": "2021-10-26T23:04:47.067733Z",
     "iopub.status.busy": "2021-10-26T23:04:47.067288Z",
     "iopub.status.idle": "2021-10-26T23:04:47.080126Z",
     "shell.execute_reply": "2021-10-26T23:04:47.079307Z"
    }
   },
   "outputs": [
    {
     "data": {
      "text/html": [
       "<div>\n",
       "<style scoped>\n",
       "    .dataframe tbody tr th:only-of-type {\n",
       "        vertical-align: middle;\n",
       "    }\n",
       "\n",
       "    .dataframe tbody tr th {\n",
       "        vertical-align: top;\n",
       "    }\n",
       "\n",
       "    .dataframe thead th {\n",
       "        text-align: right;\n",
       "    }\n",
       "</style>\n",
       "<table border=\"1\" class=\"dataframe\">\n",
       "  <thead>\n",
       "    <tr style=\"text-align: right;\">\n",
       "      <th></th>\n",
       "      <th>ruc</th>\n",
       "      <th>address</th>\n",
       "      <th>ruc_clean</th>\n",
       "    </tr>\n",
       "  </thead>\n",
       "  <tbody>\n",
       "    <tr>\n",
       "      <th>0</th>\n",
       "      <td>20512333797</td>\n",
       "      <td>123 Pine Ave.</td>\n",
       "      <td>NaN</td>\n",
       "    </tr>\n",
       "    <tr>\n",
       "      <th>1</th>\n",
       "      <td>20512333798</td>\n",
       "      <td>main st</td>\n",
       "      <td>NaN</td>\n",
       "    </tr>\n",
       "    <tr>\n",
       "      <th>2</th>\n",
       "      <td>7542011030</td>\n",
       "      <td>1234 west main heights 57033</td>\n",
       "      <td>NaN</td>\n",
       "    </tr>\n",
       "    <tr>\n",
       "      <th>3</th>\n",
       "      <td>7552A10004</td>\n",
       "      <td>apt 1 789 s maple rd manhattan</td>\n",
       "      <td>NaN</td>\n",
       "    </tr>\n",
       "    <tr>\n",
       "      <th>4</th>\n",
       "      <td>8019010008</td>\n",
       "      <td>robie house, 789 north main street</td>\n",
       "      <td>NaN</td>\n",
       "    </tr>\n",
       "    <tr>\n",
       "      <th>5</th>\n",
       "      <td>hello</td>\n",
       "      <td>1111 S Figueroa St, Los Angeles, CA 90015</td>\n",
       "      <td>NaN</td>\n",
       "    </tr>\n",
       "    <tr>\n",
       "      <th>6</th>\n",
       "      <td>NaN</td>\n",
       "      <td>(staples center) 1111 S Figueroa St, Los Angeles</td>\n",
       "      <td>NaN</td>\n",
       "    </tr>\n",
       "    <tr>\n",
       "      <th>7</th>\n",
       "      <td>NULL</td>\n",
       "      <td>hello</td>\n",
       "      <td>NaN</td>\n",
       "    </tr>\n",
       "  </tbody>\n",
       "</table>\n",
       "</div>"
      ],
      "text/plain": [
       "           ruc                                           address  ruc_clean\n",
       "0  20512333797                                     123 Pine Ave.        NaN\n",
       "1  20512333798                                           main st        NaN\n",
       "2   7542011030                      1234 west main heights 57033        NaN\n",
       "3   7552A10004                    apt 1 789 s maple rd manhattan        NaN\n",
       "4   8019010008                robie house, 789 north main street        NaN\n",
       "5        hello         1111 S Figueroa St, Los Angeles, CA 90015        NaN\n",
       "6          NaN  (staples center) 1111 S Figueroa St, Los Angeles        NaN\n",
       "7         NULL                                             hello        NaN"
      ]
     },
     "execution_count": 1,
     "metadata": {},
     "output_type": "execute_result"
    }
   ],
   "source": [
    "clean_pe_ruc(df, column = \"ruc\", output_format=\"dni\")"
   ]
  },
  {
   "cell_type": "markdown",
   "id": "confident-payroll",
   "metadata": {},
   "source": [
    "## 3. `inplace` parameter\n",
    "\n",
    "This deletes the given column from the returned DataFrame. \n",
    "A new column containing cleaned RUC strings is added with a title in the format `\"{original title}_clean\"`."
   ]
  },
  {
   "cell_type": "code",
   "execution_count": 6,
   "id": "secret-arcade",
   "metadata": {
    "execution": {
     "iopub.execute_input": "2021-10-26T23:04:47.104523Z",
     "iopub.status.busy": "2021-10-26T23:04:47.102527Z",
     "iopub.status.idle": "2021-10-26T23:04:47.115815Z",
     "shell.execute_reply": "2021-10-26T23:04:47.115414Z"
    }
   },
   "outputs": [
    {
     "data": {
      "text/html": [
       "<div>\n",
       "<style scoped>\n",
       "    .dataframe tbody tr th:only-of-type {\n",
       "        vertical-align: middle;\n",
       "    }\n",
       "\n",
       "    .dataframe tbody tr th {\n",
       "        vertical-align: top;\n",
       "    }\n",
       "\n",
       "    .dataframe thead th {\n",
       "        text-align: right;\n",
       "    }\n",
       "</style>\n",
       "<table border=\"1\" class=\"dataframe\">\n",
       "  <thead>\n",
       "    <tr style=\"text-align: right;\">\n",
       "      <th></th>\n",
       "      <th>ruc_clean</th>\n",
       "      <th>address</th>\n",
       "    </tr>\n",
       "  </thead>\n",
       "  <tbody>\n",
       "    <tr>\n",
       "      <th>0</th>\n",
       "      <td>20512333797</td>\n",
       "      <td>123 Pine Ave.</td>\n",
       "    </tr>\n",
       "    <tr>\n",
       "      <th>1</th>\n",
       "      <td>NaN</td>\n",
       "      <td>main st</td>\n",
       "    </tr>\n",
       "    <tr>\n",
       "      <th>2</th>\n",
       "      <td>NaN</td>\n",
       "      <td>1234 west main heights 57033</td>\n",
       "    </tr>\n",
       "    <tr>\n",
       "      <th>3</th>\n",
       "      <td>NaN</td>\n",
       "      <td>apt 1 789 s maple rd manhattan</td>\n",
       "    </tr>\n",
       "    <tr>\n",
       "      <th>4</th>\n",
       "      <td>NaN</td>\n",
       "      <td>robie house, 789 north main street</td>\n",
       "    </tr>\n",
       "    <tr>\n",
       "      <th>5</th>\n",
       "      <td>NaN</td>\n",
       "      <td>1111 S Figueroa St, Los Angeles, CA 90015</td>\n",
       "    </tr>\n",
       "    <tr>\n",
       "      <th>6</th>\n",
       "      <td>NaN</td>\n",
       "      <td>(staples center) 1111 S Figueroa St, Los Angeles</td>\n",
       "    </tr>\n",
       "    <tr>\n",
       "      <th>7</th>\n",
       "      <td>NaN</td>\n",
       "      <td>hello</td>\n",
       "    </tr>\n",
       "  </tbody>\n",
       "</table>\n",
       "</div>"
      ],
      "text/plain": [
       "     ruc_clean                                           address\n",
       "0  20512333797                                     123 Pine Ave.\n",
       "1          NaN                                           main st\n",
       "2          NaN                      1234 west main heights 57033\n",
       "3          NaN                    apt 1 789 s maple rd manhattan\n",
       "4          NaN                robie house, 789 north main street\n",
       "5          NaN         1111 S Figueroa St, Los Angeles, CA 90015\n",
       "6          NaN  (staples center) 1111 S Figueroa St, Los Angeles\n",
       "7          NaN                                             hello"
      ]
     },
     "execution_count": 1,
     "metadata": {},
     "output_type": "execute_result"
    }
   ],
   "source": [
    "clean_pe_ruc(df, column=\"ruc\", inplace=True)"
   ]
  },
  {
   "cell_type": "markdown",
   "id": "starting-simpson",
   "metadata": {},
   "source": [
    "## 4. `errors` parameter"
   ]
  },
  {
   "cell_type": "markdown",
   "id": "friendly-tract",
   "metadata": {},
   "source": [
    "### `coerce` (default)"
   ]
  },
  {
   "cell_type": "code",
   "execution_count": 7,
   "id": "enormous-workplace",
   "metadata": {
    "execution": {
     "iopub.execute_input": "2021-10-26T23:04:47.135661Z",
     "iopub.status.busy": "2021-10-26T23:04:47.135210Z",
     "iopub.status.idle": "2021-10-26T23:04:47.142338Z",
     "shell.execute_reply": "2021-10-26T23:04:47.142674Z"
    }
   },
   "outputs": [
    {
     "data": {
      "text/html": [
       "<div>\n",
       "<style scoped>\n",
       "    .dataframe tbody tr th:only-of-type {\n",
       "        vertical-align: middle;\n",
       "    }\n",
       "\n",
       "    .dataframe tbody tr th {\n",
       "        vertical-align: top;\n",
       "    }\n",
       "\n",
       "    .dataframe thead th {\n",
       "        text-align: right;\n",
       "    }\n",
       "</style>\n",
       "<table border=\"1\" class=\"dataframe\">\n",
       "  <thead>\n",
       "    <tr style=\"text-align: right;\">\n",
       "      <th></th>\n",
       "      <th>ruc</th>\n",
       "      <th>address</th>\n",
       "      <th>ruc_clean</th>\n",
       "    </tr>\n",
       "  </thead>\n",
       "  <tbody>\n",
       "    <tr>\n",
       "      <th>0</th>\n",
       "      <td>20512333797</td>\n",
       "      <td>123 Pine Ave.</td>\n",
       "      <td>20512333797</td>\n",
       "    </tr>\n",
       "    <tr>\n",
       "      <th>1</th>\n",
       "      <td>20512333798</td>\n",
       "      <td>main st</td>\n",
       "      <td>NaN</td>\n",
       "    </tr>\n",
       "    <tr>\n",
       "      <th>2</th>\n",
       "      <td>7542011030</td>\n",
       "      <td>1234 west main heights 57033</td>\n",
       "      <td>NaN</td>\n",
       "    </tr>\n",
       "    <tr>\n",
       "      <th>3</th>\n",
       "      <td>7552A10004</td>\n",
       "      <td>apt 1 789 s maple rd manhattan</td>\n",
       "      <td>NaN</td>\n",
       "    </tr>\n",
       "    <tr>\n",
       "      <th>4</th>\n",
       "      <td>8019010008</td>\n",
       "      <td>robie house, 789 north main street</td>\n",
       "      <td>NaN</td>\n",
       "    </tr>\n",
       "    <tr>\n",
       "      <th>5</th>\n",
       "      <td>hello</td>\n",
       "      <td>1111 S Figueroa St, Los Angeles, CA 90015</td>\n",
       "      <td>NaN</td>\n",
       "    </tr>\n",
       "    <tr>\n",
       "      <th>6</th>\n",
       "      <td>NaN</td>\n",
       "      <td>(staples center) 1111 S Figueroa St, Los Angeles</td>\n",
       "      <td>NaN</td>\n",
       "    </tr>\n",
       "    <tr>\n",
       "      <th>7</th>\n",
       "      <td>NULL</td>\n",
       "      <td>hello</td>\n",
       "      <td>NaN</td>\n",
       "    </tr>\n",
       "  </tbody>\n",
       "</table>\n",
       "</div>"
      ],
      "text/plain": [
       "           ruc                                           address    ruc_clean\n",
       "0  20512333797                                     123 Pine Ave.  20512333797\n",
       "1  20512333798                                           main st          NaN\n",
       "2   7542011030                      1234 west main heights 57033          NaN\n",
       "3   7552A10004                    apt 1 789 s maple rd manhattan          NaN\n",
       "4   8019010008                robie house, 789 north main street          NaN\n",
       "5        hello         1111 S Figueroa St, Los Angeles, CA 90015          NaN\n",
       "6          NaN  (staples center) 1111 S Figueroa St, Los Angeles          NaN\n",
       "7         NULL                                             hello          NaN"
      ]
     },
     "execution_count": 1,
     "metadata": {},
     "output_type": "execute_result"
    }
   ],
   "source": [
    "clean_pe_ruc(df, \"ruc\", errors=\"coerce\")"
   ]
  },
  {
   "cell_type": "markdown",
   "id": "analyzed-parker",
   "metadata": {},
   "source": [
    "### `ignore`"
   ]
  },
  {
   "cell_type": "code",
   "execution_count": 8,
   "id": "opening-internet",
   "metadata": {
    "execution": {
     "iopub.execute_input": "2021-10-26T23:04:47.163819Z",
     "iopub.status.busy": "2021-10-26T23:04:47.163363Z",
     "iopub.status.idle": "2021-10-26T23:04:47.169241Z",
     "shell.execute_reply": "2021-10-26T23:04:47.168874Z"
    }
   },
   "outputs": [
    {
     "data": {
      "text/html": [
       "<div>\n",
       "<style scoped>\n",
       "    .dataframe tbody tr th:only-of-type {\n",
       "        vertical-align: middle;\n",
       "    }\n",
       "\n",
       "    .dataframe tbody tr th {\n",
       "        vertical-align: top;\n",
       "    }\n",
       "\n",
       "    .dataframe thead th {\n",
       "        text-align: right;\n",
       "    }\n",
       "</style>\n",
       "<table border=\"1\" class=\"dataframe\">\n",
       "  <thead>\n",
       "    <tr style=\"text-align: right;\">\n",
       "      <th></th>\n",
       "      <th>ruc</th>\n",
       "      <th>address</th>\n",
       "      <th>ruc_clean</th>\n",
       "    </tr>\n",
       "  </thead>\n",
       "  <tbody>\n",
       "    <tr>\n",
       "      <th>0</th>\n",
       "      <td>20512333797</td>\n",
       "      <td>123 Pine Ave.</td>\n",
       "      <td>20512333797</td>\n",
       "    </tr>\n",
       "    <tr>\n",
       "      <th>1</th>\n",
       "      <td>20512333798</td>\n",
       "      <td>main st</td>\n",
       "      <td>20512333798</td>\n",
       "    </tr>\n",
       "    <tr>\n",
       "      <th>2</th>\n",
       "      <td>7542011030</td>\n",
       "      <td>1234 west main heights 57033</td>\n",
       "      <td>7542011030</td>\n",
       "    </tr>\n",
       "    <tr>\n",
       "      <th>3</th>\n",
       "      <td>7552A10004</td>\n",
       "      <td>apt 1 789 s maple rd manhattan</td>\n",
       "      <td>7552A10004</td>\n",
       "    </tr>\n",
       "    <tr>\n",
       "      <th>4</th>\n",
       "      <td>8019010008</td>\n",
       "      <td>robie house, 789 north main street</td>\n",
       "      <td>8019010008</td>\n",
       "    </tr>\n",
       "    <tr>\n",
       "      <th>5</th>\n",
       "      <td>hello</td>\n",
       "      <td>1111 S Figueroa St, Los Angeles, CA 90015</td>\n",
       "      <td>hello</td>\n",
       "    </tr>\n",
       "    <tr>\n",
       "      <th>6</th>\n",
       "      <td>NaN</td>\n",
       "      <td>(staples center) 1111 S Figueroa St, Los Angeles</td>\n",
       "      <td>NaN</td>\n",
       "    </tr>\n",
       "    <tr>\n",
       "      <th>7</th>\n",
       "      <td>NULL</td>\n",
       "      <td>hello</td>\n",
       "      <td>NaN</td>\n",
       "    </tr>\n",
       "  </tbody>\n",
       "</table>\n",
       "</div>"
      ],
      "text/plain": [
       "           ruc                                           address    ruc_clean\n",
       "0  20512333797                                     123 Pine Ave.  20512333797\n",
       "1  20512333798                                           main st  20512333798\n",
       "2   7542011030                      1234 west main heights 57033   7542011030\n",
       "3   7552A10004                    apt 1 789 s maple rd manhattan   7552A10004\n",
       "4   8019010008                robie house, 789 north main street   8019010008\n",
       "5        hello         1111 S Figueroa St, Los Angeles, CA 90015        hello\n",
       "6          NaN  (staples center) 1111 S Figueroa St, Los Angeles          NaN\n",
       "7         NULL                                             hello          NaN"
      ]
     },
     "execution_count": 1,
     "metadata": {},
     "output_type": "execute_result"
    }
   ],
   "source": [
    "clean_pe_ruc(df, \"ruc\", errors=\"ignore\")"
   ]
  },
  {
   "cell_type": "markdown",
   "id": "virtual-auditor",
   "metadata": {},
   "source": [
    "## 4. `validate_pe_ruc()`"
   ]
  },
  {
   "cell_type": "markdown",
   "id": "historical-plasma",
   "metadata": {},
   "source": [
    "`validate_pe_ruc()` returns `True` when the input is a valid RUC. Otherwise it returns `False`.\n",
    "\n",
    "The input of `validate_pe_ruc()` can be a string, a Pandas DataSeries, a Dask DataSeries, a Pandas DataFrame and a dask DataFrame.\n",
    "\n",
    "When the input is a string, a Pandas DataSeries or a Dask DataSeries, user doesn't need to specify a column name to be validated. \n",
    "\n",
    "When the input is a Pandas DataFrame or a dask DataFrame, user can both specify or not specify a column name to be validated. If user specify the column name, `validate_pe_ruc()` only returns the validation result for the specified column. If user doesn't specify the column name, `validate_pe_ruc()` returns the validation result for the whole DataFrame."
   ]
  },
  {
   "cell_type": "code",
   "execution_count": 9,
   "id": "convertible-reasoning",
   "metadata": {
    "execution": {
     "iopub.execute_input": "2021-10-26T23:04:47.173786Z",
     "iopub.status.busy": "2021-10-26T23:04:47.173333Z",
     "iopub.status.idle": "2021-10-26T23:04:47.177041Z",
     "shell.execute_reply": "2021-10-26T23:04:47.176682Z"
    }
   },
   "outputs": [
    {
     "name": "stdout",
     "output_type": "stream",
     "text": [
      "True\n",
      "False\n",
      "False\n",
      "False\n",
      "False\n",
      "False\n",
      "False\n",
      "False\n"
     ]
    }
   ],
   "source": [
    "from dataprep.clean import validate_pe_ruc\n",
    "print(validate_pe_ruc('20512333797'))\n",
    "print(validate_pe_ruc('20512333798'))\n",
    "print(validate_pe_ruc('7542011030'))\n",
    "print(validate_pe_ruc('7552A10004'))\n",
    "print(validate_pe_ruc('8019010008'))\n",
    "print(validate_pe_ruc(\"hello\"))\n",
    "print(validate_pe_ruc(np.nan))\n",
    "print(validate_pe_ruc(\"NULL\"))"
   ]
  },
  {
   "cell_type": "markdown",
   "id": "missing-advocate",
   "metadata": {},
   "source": [
    "### Series"
   ]
  },
  {
   "cell_type": "code",
   "execution_count": 10,
   "id": "dated-ghana",
   "metadata": {
    "execution": {
     "iopub.execute_input": "2021-10-26T23:04:47.181127Z",
     "iopub.status.busy": "2021-10-26T23:04:47.180700Z",
     "iopub.status.idle": "2021-10-26T23:04:47.184872Z",
     "shell.execute_reply": "2021-10-26T23:04:47.184476Z"
    }
   },
   "outputs": [
    {
     "data": {
      "text/plain": [
       "0     True\n",
       "1    False\n",
       "2    False\n",
       "3    False\n",
       "4    False\n",
       "5    False\n",
       "6    False\n",
       "7    False\n",
       "Name: ruc, dtype: bool"
      ]
     },
     "execution_count": 1,
     "metadata": {},
     "output_type": "execute_result"
    }
   ],
   "source": [
    "validate_pe_ruc(df[\"ruc\"])"
   ]
  },
  {
   "cell_type": "markdown",
   "id": "martial-receiver",
   "metadata": {},
   "source": [
    "### DataFrame + Specify Column"
   ]
  },
  {
   "cell_type": "code",
   "execution_count": 11,
   "id": "conscious-feedback",
   "metadata": {
    "execution": {
     "iopub.execute_input": "2021-10-26T23:04:47.188870Z",
     "iopub.status.busy": "2021-10-26T23:04:47.188445Z",
     "iopub.status.idle": "2021-10-26T23:04:47.192735Z",
     "shell.execute_reply": "2021-10-26T23:04:47.192357Z"
    }
   },
   "outputs": [
    {
     "data": {
      "text/plain": [
       "0     True\n",
       "1    False\n",
       "2    False\n",
       "3    False\n",
       "4    False\n",
       "5    False\n",
       "6    False\n",
       "7    False\n",
       "Name: ruc, dtype: bool"
      ]
     },
     "execution_count": 1,
     "metadata": {},
     "output_type": "execute_result"
    }
   ],
   "source": [
    "validate_pe_ruc(df, column=\"ruc\")"
   ]
  },
  {
   "cell_type": "markdown",
   "id": "handy-browser",
   "metadata": {},
   "source": [
    "### Only DataFrame"
   ]
  },
  {
   "cell_type": "code",
   "execution_count": 12,
   "id": "ethical-reception",
   "metadata": {
    "execution": {
     "iopub.execute_input": "2021-10-26T23:04:47.195629Z",
     "iopub.status.busy": "2021-10-26T23:04:47.195181Z",
     "iopub.status.idle": "2021-10-26T23:04:47.203816Z",
     "shell.execute_reply": "2021-10-26T23:04:47.203233Z"
    }
   },
   "outputs": [
    {
     "data": {
      "text/html": [
       "<div>\n",
       "<style scoped>\n",
       "    .dataframe tbody tr th:only-of-type {\n",
       "        vertical-align: middle;\n",
       "    }\n",
       "\n",
       "    .dataframe tbody tr th {\n",
       "        vertical-align: top;\n",
       "    }\n",
       "\n",
       "    .dataframe thead th {\n",
       "        text-align: right;\n",
       "    }\n",
       "</style>\n",
       "<table border=\"1\" class=\"dataframe\">\n",
       "  <thead>\n",
       "    <tr style=\"text-align: right;\">\n",
       "      <th></th>\n",
       "      <th>ruc</th>\n",
       "      <th>address</th>\n",
       "    </tr>\n",
       "  </thead>\n",
       "  <tbody>\n",
       "    <tr>\n",
       "      <th>0</th>\n",
       "      <td>True</td>\n",
       "      <td>False</td>\n",
       "    </tr>\n",
       "    <tr>\n",
       "      <th>1</th>\n",
       "      <td>False</td>\n",
       "      <td>False</td>\n",
       "    </tr>\n",
       "    <tr>\n",
       "      <th>2</th>\n",
       "      <td>False</td>\n",
       "      <td>False</td>\n",
       "    </tr>\n",
       "    <tr>\n",
       "      <th>3</th>\n",
       "      <td>False</td>\n",
       "      <td>False</td>\n",
       "    </tr>\n",
       "    <tr>\n",
       "      <th>4</th>\n",
       "      <td>False</td>\n",
       "      <td>False</td>\n",
       "    </tr>\n",
       "    <tr>\n",
       "      <th>5</th>\n",
       "      <td>False</td>\n",
       "      <td>False</td>\n",
       "    </tr>\n",
       "    <tr>\n",
       "      <th>6</th>\n",
       "      <td>False</td>\n",
       "      <td>False</td>\n",
       "    </tr>\n",
       "    <tr>\n",
       "      <th>7</th>\n",
       "      <td>False</td>\n",
       "      <td>False</td>\n",
       "    </tr>\n",
       "  </tbody>\n",
       "</table>\n",
       "</div>"
      ],
      "text/plain": [
       "     ruc  address\n",
       "0   True    False\n",
       "1  False    False\n",
       "2  False    False\n",
       "3  False    False\n",
       "4  False    False\n",
       "5  False    False\n",
       "6  False    False\n",
       "7  False    False"
      ]
     },
     "execution_count": 1,
     "metadata": {},
     "output_type": "execute_result"
    }
   ],
   "source": [
    "validate_pe_ruc(df)"
   ]
  },
  {
   "cell_type": "code",
   "execution_count": null,
   "id": "disabled-luther",
   "metadata": {},
   "outputs": [],
   "source": []
  }
 ],
 "metadata": {
  "kernelspec": {
   "display_name": "Python 3",
   "language": "python",
   "name": "python3"
  },
  "language_info": {
   "codemirror_mode": {
    "name": "ipython",
    "version": 3
   },
   "file_extension": ".py",
   "mimetype": "text/x-python",
   "name": "python",
   "nbconvert_exporter": "python",
   "pygments_lexer": "ipython3",
   "version": "3.8.10"
  }
 },
 "nbformat": 4,
 "nbformat_minor": 5
}
